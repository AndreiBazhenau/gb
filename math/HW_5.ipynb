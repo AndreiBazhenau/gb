{
 "cells": [
  {
   "cell_type": "markdown",
   "metadata": {},
   "source": [
    "1. Напишите код, моделирующий выпадение поля в рулетке (с учетом поля зеро)."
   ]
  },
  {
   "cell_type": "code",
   "execution_count": 1,
   "metadata": {},
   "outputs": [],
   "source": [
    "%matplotlib inline\n",
    "import numpy as np\n",
    "import matplotlib.pyplot as plt\n",
    "import random\n",
    "import itertools\n",
    "import math"
   ]
  },
  {
   "cell_type": "code",
   "execution_count": 2,
   "metadata": {},
   "outputs": [
    {
     "name": "stdout",
     "output_type": "stream",
     "text": [
      "[21, 10, 22, 14, 30, 1, 26, 8, 13, 6, 21, 11, 33, 27, 11, 26, 15, 6, 13, 23, 35, 24, 17, 21, 7, 1, 3, 30, 29, 24, 34, 28, 33, 15, 13, 8, 25, 33, 15, 23, 4, 31, 9, 30, 10, 9, 32, 4, 26, 21]\n"
     ]
    }
   ],
   "source": [
    "roulette = []\n",
    "for i in range(0, 50):\n",
    "    x = random.randrange(0, 36, 1)\n",
    "    roulette.append(x)\n",
    "print(roulette)"
   ]
  },
  {
   "cell_type": "markdown",
   "metadata": {},
   "source": [
    "2. \n",
    "1)\tНапишите код, проверяющий любую из теорем сложения или умножения вероятности на примере рулетки или подбрасывания монетки."
   ]
  },
  {
   "cell_type": "markdown",
   "metadata": {},
   "source": [
    "Докажем, что вероятность произведения двух независимых событий A и B равна произведению вероятностей событий: P(A⋅B) = P(A)⋅P(B).\n",
    "\n",
    "Для этого сгенерируем вращение колеса рулетки и посчитаем частоту выполнения двух зеро подряд.\n",
    "\n",
    "После это сравним частоту выпадения двойного зеро в генераторе и по формуле."
   ]
  },
  {
   "cell_type": "code",
   "execution_count": 3,
   "metadata": {},
   "outputs": [
    {
     "name": "stdout",
     "output_type": "stream",
     "text": [
      "Количество выпадения двойных зеро подряд в серии 1000000 чисел  = 791\n",
      "Вероятность выпадения двойного зеро подряд в серии 1000000 чисел = 0.000791\n",
      "Вероятность выпадения двойного зеро подряд по формуле 0.0007305\n"
     ]
    }
   ],
   "source": [
    "roulette = []\n",
    "# количество зеро\n",
    "zero_num = 0\n",
    "# количество выпавших зеро подряд\n",
    "zero_series = 0\n",
    "# количество вращений рулетки\n",
    "series = 1000000\n",
    "for i in range(0, series):\n",
    "    x = random.randrange(0, 36, 1)\n",
    "    if x == 0 and zero_num != 0:\n",
    "        zero_series += 1\n",
    "        zero_num += 1\n",
    "    elif x == 0:\n",
    "        zero_num += 1\n",
    "    else:\n",
    "        zero_num = 0\n",
    "    roulette.append(x)\n",
    "#print(roulette)\n",
    "print(f'Количество выпадения двойных зеро подряд в серии {series} чисел  = {zero_series}')\n",
    "print(f'Вероятность выпадения двойного зеро подряд в серии {series} чисел = {zero_series/series}')\n",
    "print('Вероятность выпадения двойного зеро подряд по формуле', round(1/37/37, 7))"
   ]
  },
  {
   "cell_type": "markdown",
   "metadata": {},
   "source": [
    "2)\tСгенерируйте десять выборок случайных чисел х0, …, х9 и постройте гистограмму распределения случайной суммы х0+х1+ …+ х9."
   ]
  },
  {
   "cell_type": "code",
   "execution_count": 4,
   "metadata": {},
   "outputs": [
    {
     "data": {
      "image/png": "[encoded data removed]",
      "text/plain": [
       "<Figure size 432x288 with 1 Axes>"
      ]
     },
     "metadata": {
      "needs_background": "light"
     },
     "output_type": "display_data"
    }
   ],
   "source": [
    "rand_sum = np.zeros(1000)\n",
    "for i in range(0, 10):\n",
    "    x = np.random.rand(1000)\n",
    "    rand_sum += x\n",
    "\n",
    "num_bins = 100\n",
    "n, bins, patches = plt.hist(rand_sum, num_bins)\n",
    "plt.xlabel('num_sum')\n",
    "plt.ylabel('Probability')\n",
    "plt.title('Histogram');"
   ]
  },
  {
   "cell_type": "markdown",
   "metadata": {},
   "source": [
    "3. 1) Дополните код Монте-Карло последовательности независимых испытаний расчетом соответствующих вероятностей (через биномиальное распределение) \n",
    "и сравните результаты."
   ]
  },
  {
   "cell_type": "code",
   "execution_count": 5,
   "metadata": {},
   "outputs": [
    {
     "name": "stdout",
     "output_type": "stream",
     "text": [
      "5 10 0.5\n",
      "C = 252.0\n",
      "P = 0.24609375\n"
     ]
    }
   ],
   "source": [
    "k, n = 0, 10\n",
    "a = np.random.randint(0, 2, n)\n",
    "b = np.random.randint(0, 2, n)\n",
    "c = np.random.randint(0, 2, n)\n",
    "d = np.random.randint(0, 2, n)\n",
    "x = a + b + c + d\n",
    "for i in range(0, n):\n",
    "    if x[i] == 2:\n",
    "        k = k + 1\n",
    "#print(a, b, c, d)\n",
    "#print(x)\n",
    "print(k, n, k/n)\n",
    "C = math.factorial(n)/math.factorial(k)/math.factorial(n-k)\n",
    "print(f'C = {C}')\n",
    "print(f'P = {C /(2 ** n) }')"
   ]
  },
  {
   "cell_type": "markdown",
   "metadata": {},
   "source": [
    "3. 2) Повторите расчеты биномиальных коэффициентов и вероятностей k успехов в последовательности из n независимых испытаний, взяв другие значения n и k."
   ]
  },
  {
   "cell_type": "code",
   "execution_count": 6,
   "metadata": {},
   "outputs": [
    {
     "name": "stdout",
     "output_type": "stream",
     "text": [
      "9 10 0.9\n",
      "C = 10.0\n",
      "P = 0.009765625\n"
     ]
    }
   ],
   "source": [
    "k, n = 5, 10\n",
    "a = np.random.randint(0, 2, n)\n",
    "b = np.random.randint(0, 2, n)\n",
    "c = np.random.randint(0, 2, n)\n",
    "d = np.random.randint(0, 2, n)\n",
    "x = a + b + c + d\n",
    "for i in range(0, n):\n",
    "    if x[i] == 2:\n",
    "        k = k + 1\n",
    "#print(a, b, c, d)\n",
    "#print(x)\n",
    "print(k, n, k/n) # кол-во успехов, кол-во испытаний, вероятность\n",
    "C = math.factorial(n)/math.factorial(k)/math.factorial(n-k)\n",
    "print(f'C = {C}')\n",
    "print(f'P = {C /(2 ** n) }')"
   ]
  },
  {
   "cell_type": "markdown",
   "metadata": {},
   "source": [
    "4. Из урока по комбинаторике повторите расчеты, сгенерировав возможные варианты перестановок для других значений n и k"
   ]
  },
  {
   "cell_type": "code",
   "execution_count": 7,
   "metadata": {},
   "outputs": [
    {
     "name": "stdout",
     "output_type": "stream",
     "text": [
      "3 5 0.6\n",
      "C = 10.0\n",
      "P = 0.3125\n"
     ]
    }
   ],
   "source": [
    "k, n = 3, 5\n",
    "print(k, n, k/n) # кол-во успехов, кол-во испытаний, вероятность\n",
    "C = math.factorial(n)/math.factorial(k)/math.factorial(n-k)\n",
    "print(f'C = {C}')\n",
    "print(f'P = {C /(2 ** n) }')"
   ]
  },
  {
   "cell_type": "code",
   "execution_count": 8,
   "metadata": {},
   "outputs": [
    {
     "data": {
      "image/png": "[encoded data removed]",
      "text/plain": [
       "<Figure size 432x288 with 1 Axes>"
      ]
     },
     "metadata": {
      "needs_background": "light"
     },
     "output_type": "display_data"
    },
    {
     "name": "stdout",
     "output_type": "stream",
     "text": [
      "[[1.         0.99394189]\n",
      " [0.99394189 1.        ]]\n"
     ]
    }
   ],
   "source": [
    "n = 100\n",
    "r = 0.9\n",
    "x = np.random.rand(n)\n",
    "y = r*x + (1 - r)*np.random.rand(n)\n",
    "plt.plot(x, y, 'o')\n",
    "plt.xlabel('x')\n",
    "plt.ylabel('y')\n",
    "plt.grid(True)\n",
    "plt.show()\n",
    "c = np.corrcoef(x, y) # нахождение коэфф. коррелиции из бибдиотеки numpy\n",
    "print(c)"
   ]
  },
  {
   "cell_type": "markdown",
   "metadata": {},
   "source": [
    "5. Дополните код расчетом коэффициента корреляции x и y по формуле\n",
    "\n",
    "$\\ R = \\frac{{}\\sum_{i=1}^{n} (x_i - x_m)(y_i - y_m)}\n",
    "{\\sqrt{\\sum_{i=1}^{n} (x_i - x_m)^2(y_i - y_m)^2}}$"
   ]
  },
  {
   "cell_type": "code",
   "execution_count": 9,
   "metadata": {},
   "outputs": [
    {
     "name": "stdout",
     "output_type": "stream",
     "text": [
      "Средние x и y 0.48549020474131055 0.4881169928168641\n",
      "Коэффициент корреляции по формуле R =  0.9262784802906594\n",
      "Коэф корреляции из numpy R =  [[1.         0.92627848]\n",
      " [0.92627848 1.        ]]\n",
      "0.7182899592100476 0.1393942534563505\n",
      "0.7182899592100477 0.13939425345635031\n"
     ]
    },
    {
     "name": "stderr",
     "output_type": "stream",
     "text": [
      "C:\\Users\\Alexx\\Anaconda3\\lib\\site-packages\\ipykernel_launcher.py:14: FutureWarning: `rcond` parameter will change to the default of machine precision times ``max(M, N)`` where M and N are the input matrix dimensions.\n",
      "To use the future default and silence this warning we advise to pass `rcond=None`, to keep using the old, explicitly pass `rcond=-1`.\n",
      "  \n"
     ]
    },
    {
     "data": {
      "image/png": "[encoded data removed]",
      "text/plain": [
       "<Figure size 432x288 with 1 Axes>"
      ]
     },
     "metadata": {
      "needs_background": "light"
     },
     "output_type": "display_data"
    }
   ],
   "source": [
    "n = 100\n",
    "r = 0.7\n",
    "x = np.random.rand(n)\n",
    "y = r*x + (1 - r)*np.random.rand(n)\n",
    "plt.plot(x, y, 'o')\n",
    "plt.xlabel('x')\n",
    "plt.ylabel('y')\n",
    "plt.grid(True)\n",
    "\n",
    "a = (np.sum(x)*np.sum(y) - n*np.sum(x*y))/(np.sum(x)*np.sum(x) - n*np.sum(x*x))\n",
    "b = (np.sum(y) - a*np.sum(x))/n\n",
    "\n",
    "A = np.vstack([x, np.ones(len(x))]).T\n",
    "a1, b1 = np.linalg.lstsq(A, y)[0]\n",
    "\n",
    "x_avg = np.average(x)\n",
    "y_avg = np.average(y)\n",
    "print(\"Средние x и y\", x_avg, y_avg)\n",
    "R = np.sum((x - x_avg)*(y - y_avg)) / (np.sum((x - x_avg)**2) * (np.sum((y - y_avg)**2)))**0.5\n",
    "print(\"Коэффициент корреляции по формуле R = \", R)\n",
    "print(\"Коэф корреляции из numpy R = \", np.corrcoef(x, y))\n",
    "\n",
    "print(a, b)\n",
    "print(a1, b1)\n",
    "plt.plot([0, 1], [b, a + b])\n",
    "plt.show();"
   ]
  },
  {
   "cell_type": "code",
   "execution_count": null,
   "metadata": {},
   "outputs": [],
   "source": []
  }
 ],
 "metadata": {
  "kernelspec": {
   "display_name": "Python 3",
   "language": "python",
   "name": "python3"
  },
  "language_info": {
   "codemirror_mode": {
    "name": "ipython",
    "version": 3
   },
   "file_extension": ".py",
   "mimetype": "text/x-python",
   "name": "python",
   "nbconvert_exporter": "python",
   "pygments_lexer": "ipython3",
   "version": "3.7.6"
  },
  "toc": {
   "base_numbering": 1,
   "nav_menu": {},
   "number_sections": true,
   "sideBar": true,
   "skip_h1_title": false,
   "title_cell": "Table of Contents",
   "title_sidebar": "Contents",
   "toc_cell": false,
   "toc_position": {},
   "toc_section_display": true,
   "toc_window_display": false
  },
  "varInspector": {
   "cols": {
    "lenName": 16,
    "lenType": 16,
    "lenVar": 40
   },
   "kernels_config": {
    "python": {
     "delete_cmd_postfix": "",
     "delete_cmd_prefix": "del ",
     "library": "var_list.py",
     "varRefreshCmd": "print(var_dic_list())"
    },
    "r": {
     "delete_cmd_postfix": ") ",
     "delete_cmd_prefix": "rm(",
     "library": "var_list.r",
     "varRefreshCmd": "cat(var_dic_list()) "
    }
   },
   "types_to_exclude": [
    "module",
    "function",
    "builtin_function_or_method",
    "instance",
    "_Feature"
   ],
   "window_display": false
  }
 },
 "nbformat": 4,
 "nbformat_minor": 4
}
