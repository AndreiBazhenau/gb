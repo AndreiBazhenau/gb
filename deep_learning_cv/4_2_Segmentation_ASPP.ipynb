{
 "cells": [
  {
   "cell_type": "markdown",
   "metadata": {
    "colab_type": "text",
    "id": "wVsiOtnw65OQ"
   },
   "source": [
    "# Семантическая Сегментация. Часть 2.\n",
    "\n",
    "Мощная модель нейронной сети ASPP с делатационными свёртками которая увеличивает рецептивное поле для сегментации."
   ]
  },
  {
   "cell_type": "code",
   "execution_count": 0,
   "metadata": {
    "colab": {
     "base_uri": "https://localhost:8080/",
     "height": 34
    },
    "colab_type": "code",
    "executionInfo": {
     "elapsed": 759,
     "status": "ok",
     "timestamp": 1584741063379,
     "user": {
      "displayName": "Dmitry Korobchenko",
      "photoUrl": "https://lh3.googleusercontent.com/a-/AOh14GiR_zu5ey7cSjhhTZXOzRX-WoRqAHYVsSnM9NFQRQ=s64",
      "userId": "07436259423621433317"
     },
     "user_tz": -180
    },
    "id": "982oMTcKUHNA",
    "outputId": "b3f4ce25-0ae5-427c-96f7-670e4fc6920c"
   },
   "outputs": [
    {
     "name": "stdout",
     "output_type": "stream",
     "text": [
      "TensorFlow 2.x selected.\n"
     ]
    }
   ],
   "source": [
    "%tensorflow_version 2.x"
   ]
  },
  {
   "cell_type": "code",
   "execution_count": 0,
   "metadata": {
    "colab": {},
    "colab_type": "code",
    "id": "gaMg5neBLpir"
   },
   "outputs": [],
   "source": [
    "import tensorflow as tf"
   ]
  },
  {
   "cell_type": "markdown",
   "metadata": {
    "colab_type": "text",
    "id": "bRGAiaSk6_Gj"
   },
   "source": [
    "## Модель ASPP\n",
    "\n",
    "Создадим модель наследуясб от класса `tf.keras.Model`."
   ]
  },
  {
   "cell_type": "code",
   "execution_count": 0,
   "metadata": {
    "colab": {},
    "colab_type": "code",
    "id": "xRU14xxDLpje"
   },
   "outputs": [],
   "source": [
    "class ASPPBlock(tf.keras.Model):\n",
    "    # ASPP блок создаём как отдельную модель (можно как слой)\n",
    "    def __init__(self):\n",
    "        super().__init__()\n",
    "        # поканальная смесь всех двумерных признаков\n",
    "        self.conv1 = tf.keras.layers.Conv2D(256, (1, 1), padding='same', activation='relu')\n",
    "        # группа из трёх делатационных свёрток с параметром (`dilation_rate`) - шаг между пикселями,\n",
    "        # который мы семплируем на входном тензоре\n",
    "        self.conv2 = tf.keras.layers.Conv2D(256, (3, 3), dilation_rate=6, padding='same', activation='relu')\n",
    "        self.conv3 = tf.keras.layers.Conv2D(256, (3, 3), dilation_rate=12, padding='same', activation='relu')\n",
    "        self.conv4 = tf.keras.layers.Conv2D(256, (3, 3), dilation_rate=18, padding='same', activation='relu')\n",
    "        # свёртка 1х1 из многих каналов делает на выходе 256 каналов\n",
    "        self.conv5 = tf.keras.layers.Conv2D(256, (1, 1), padding='same', activation='relu')\n",
    "\n",
    "    def call(self, inp, is_training=False):\n",
    "        # параллельно делаем 4 свёртки (в каждую подаём входной тензор)\n",
    "        out1 = self.conv1(inp) \n",
    "        out2 = self.conv2(inp)\n",
    "        out3 = self.conv3(inp)\n",
    "        out4 = self.conv4(inp)\n",
    "        # конкатенируем и получаем толстый тензор\n",
    "        out = tf.concat([out1, out2, out3, out4], axis=3)\n",
    "        # понижаем количество каналов толстого тензора с 4*256 до 256\n",
    "        out = self.conv5(out)\n",
    "        return out\n",
    "    \n",
    "class ASPPNet(tf.keras.Model):\n",
    "    # реализация самой модели с мощным энкодером и слабым декодером, прдполагая, что \n",
    "    # блок ASPP сделал часть сложной работы, а декодеру останется повысить разрешение\n",
    "    def __init__(self):\n",
    "        super().__init__()\n",
    "        # множество свёрток для извлечения признаков в энкодере\n",
    "        self.conv1 = tf.keras.layers.Conv2D(64, (3, 3), padding='same', activation='relu')\n",
    "        self.conv2 = tf.keras.layers.Conv2D(64, (3, 3), padding='same', activation='relu')\n",
    "        self.conv3 = tf.keras.layers.Conv2D(128, (3, 3), padding='same', activation='relu')\n",
    "        self.conv4 = tf.keras.layers.Conv2D(128, (3, 3), padding='same', activation='relu')\n",
    "        self.conv5 = tf.keras.layers.Conv2D(256, (3, 3), padding='same', activation='relu')\n",
    "        self.conv6 = tf.keras.layers.Conv2D(256, (3, 3), padding='same', activation='relu')\n",
    "        self.conv7 = tf.keras.layers.Conv2D(512, (3, 3), padding='same', activation='relu')\n",
    "        self.conv8 = tf.keras.layers.Conv2D(512, (3, 3), padding='same', activation='relu')\n",
    "        self.conv9 = tf.keras.layers.Conv2D(512, (3, 3), padding='same', activation='relu')\n",
    "        self.conv10 = tf.keras.layers.Conv2D(512, (3, 3), padding='same', activation='relu')\n",
    "\n",
    "        # свёртки для декодера\n",
    "        self.conv11 = tf.keras.layers.Conv2D(48, (1, 1), padding='same', activation='relu')\n",
    "        self.conv12 = tf.keras.layers.Conv2D(256, (3, 3), padding='same', activation='relu')\n",
    "        self.conv13 = tf.keras.layers.Conv2D(256, (3, 3), padding='same', activation='relu')\n",
    "        # из свёртки 1х1 получим выходную карту признаков которая отвечает за нашу сегментацию\n",
    "        # активация None потому что сигмоид применяем отдельно\n",
    "        self.conv14 = tf.keras.layers.Conv2D(1, (1, 1), padding='same', activation=None)\n",
    "\n",
    "        self.maxpool = tf.keras.layers.MaxPooling2D((2, 2), (2, 2), padding='same')\n",
    "\n",
    "        # мы не может создавать ASPP блок во время call, потому что у него есть внутри свёрточные\n",
    "        # слои, а значит веса, которые нужно инициализировать, чтобы было сосотояние у сети\n",
    "        self.aspp = ASPPBlock()\n",
    "\n",
    "    # инференс, прямое распространение\n",
    "    def call(self, x):\n",
    "        # слои енкодера\n",
    "        out = self.conv1(x)\n",
    "        out = self.conv2(out)\n",
    "        out = self.maxpool(out)\n",
    "        out = self.conv3(out)\n",
    "        out = self.conv4(out)\n",
    "        out = self.maxpool(out)\n",
    "        out = self.conv5(out)\n",
    "        out = self.conv6(out)\n",
    "        # сохраняем промежуточный тензор, чтобы через skip connection передать в конец\n",
    "        out_enc_mid = out\n",
    "        out = self.maxpool(out)\n",
    "        out = self.conv7(out)\n",
    "        out = self.conv8(out)\n",
    "        out = self.maxpool(out)\n",
    "        out = self.conv9(out)\n",
    "        out = self.conv10(out)\n",
    "\n",
    "        # применяем ASPP\n",
    "        out = self.aspp(out)\n",
    "\n",
    "        # повышаем разрешение карты признаков с помощью билинейной интерполяции. Говорим, что хотим \n",
    "        # увеличить до размера tf.shape(out_enc_mid)[1:3] (1:3 - два пространственных измерения)\n",
    "        out = tf.image.resize(out, tf.shape(out_enc_mid)[1:3], tf.image.ResizeMethod.BILINEAR)\n",
    "\n",
    "        # приводим к фиксированному кол-ву каналов 48 свёрткой 1х1, перемешивая каналы каждый с каждым\n",
    "        out_enc_mid = self.conv11(out_enc_mid)\n",
    "\n",
    "        # конкатенируем с увеличиной картинкой\n",
    "        out = tf.concat([out, out_enc_mid], axis=3)\n",
    "\n",
    "        out = self.conv12(out)\n",
    "        out = self.conv13(out)\n",
    "        # свёртка 1х1 c одним выходным каналом. Свёртка перемешивает все выходные карты признаков и выдаёт\n",
    "        # один выходной канал, которые по сути является картой сегментации\n",
    "        out = self.conv14(out)\n",
    "\n",
    "        # делаем ресайз до исходного размера x (входная картинка)\n",
    "        out = tf.image.resize(out, tf.shape(x)[1:3], tf.image.ResizeMethod.BILINEAR)\n",
    "        # применяем сигмоид\n",
    "        out = tf.nn.sigmoid(out)\n",
    "        return out\n",
    "    \n",
    "model = ASPPNet()"
   ]
  }
 ],
 "metadata": {
  "accelerator": "GPU",
  "colab": {
   "collapsed_sections": [],
   "name": "4_2_Segmentation_ASPP.ipynb",
   "provenance": []
  },
  "kernelspec": {
   "display_name": "Python 3",
   "language": "python",
   "name": "python3"
  },
  "language_info": {
   "codemirror_mode": {
    "name": "ipython",
    "version": 3
   },
   "file_extension": ".py",
   "mimetype": "text/x-python",
   "name": "python",
   "nbconvert_exporter": "python",
   "pygments_lexer": "ipython3",
   "version": "3.8.8"
  },
  "toc": {
   "base_numbering": 1,
   "nav_menu": {},
   "number_sections": false,
   "sideBar": true,
   "skip_h1_title": true,
   "title_cell": "Table of Contents",
   "title_sidebar": "Contents",
   "toc_cell": false,
   "toc_position": {},
   "toc_section_display": true,
   "toc_window_display": false
  },
  "varInspector": {
   "cols": {
    "lenName": 16,
    "lenType": 16,
    "lenVar": 40
   },
   "kernels_config": {
    "python": {
     "delete_cmd_postfix": "",
     "delete_cmd_prefix": "del ",
     "library": "var_list.py",
     "varRefreshCmd": "print(var_dic_list())"
    },
    "r": {
     "delete_cmd_postfix": ") ",
     "delete_cmd_prefix": "rm(",
     "library": "var_list.r",
     "varRefreshCmd": "cat(var_dic_list()) "
    }
   },
   "types_to_exclude": [
    "module",
    "function",
    "builtin_function_or_method",
    "instance",
    "_Feature"
   ],
   "window_display": false
  }
 },
 "nbformat": 4,
 "nbformat_minor": 1
}
