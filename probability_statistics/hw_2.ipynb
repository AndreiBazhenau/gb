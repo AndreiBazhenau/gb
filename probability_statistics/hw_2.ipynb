{
 "cells": [
  {
   "cell_type": "markdown",
   "metadata": {},
   "source": [
    "### Вероятность того, что стрелок попадет в мишень, выстрелив один раз, равна 0.8. Стрелок выстрелил 100 раз. Найдите вероятность того, что стрелок попадет в цель ровно 85 раз."
   ]
  },
  {
   "cell_type": "markdown",
   "metadata": {},
   "source": [
    "По условию задачи:\n",
    "\n",
    "Вероятность наступления события: р = 0,8\n",
    "\n",
    "Количество испытаний: n = 100\n",
    "\n",
    "Количество события: m = 85\n",
    "\n",
    "По формуле Пуассона: $$ p_m =  {\\lambda^m \\over m!} e^{-\\lambda} $$ \n",
    "\n",
    "$\\lambda$ = p * n = 0.8 * 100 = 80\n",
    "\n",
    "$$ P_{85} = \\frac{80^{85}}{85!} e^{-80} $$\n",
    "\n"
   ]
  },
  {
   "cell_type": "code",
   "execution_count": 4,
   "metadata": {},
   "outputs": [
    {
     "data": {
      "text/plain": [
       "0.037092614343691946"
      ]
     },
     "execution_count": 4,
     "metadata": {},
     "output_type": "execute_result"
    }
   ],
   "source": [
    "import math\n",
    "p_85 = 80 ** 85 / math.factorial(85) * math.e ** (-80)\n",
    "p_85"
   ]
  },
  {
   "cell_type": "markdown",
   "metadata": {},
   "source": [
    "Нарисовать график распределения"
   ]
  },
  {
   "cell_type": "markdown",
   "metadata": {},
   "source": [
    "### Вероятность того, что лампочка перегорит в течение первого дня эксплуатации, равна 0.0004. В жилом комплексе после ремонта в один день включили 5000 новых лампочек. Какова вероятность, что ни одна из них не перегорит в первый день? Какова вероятность, что перегорят ровно две?"
   ]
  },
  {
   "cell_type": "markdown",
   "metadata": {},
   "source": [
    "Вероятность наступления события: р = 0,0004\n",
    "\n",
    "Количество испытаний: n = 5000\n",
    "\n",
    "Количество событий:\n",
    "\n",
    "$ m_0 = 0 $\n",
    "\n",
    "$ m_1 = 2 $\n",
    "\n",
    "$$ p_m =  {\\lambda^m \\over m!} e^{-\\lambda} $$ "
   ]
  },
  {
   "cell_type": "code",
   "execution_count": 1,
   "metadata": {},
   "outputs": [
    {
     "data": {
      "text/plain": [
       "2.0"
      ]
     },
     "execution_count": 1,
     "metadata": {},
     "output_type": "execute_result"
    }
   ],
   "source": [
    "p = 0.0004\n",
    "n = 5000\n",
    "lambda_1 = p * n\n",
    "lambda_1"
   ]
  },
  {
   "cell_type": "code",
   "execution_count": 7,
   "metadata": {},
   "outputs": [
    {
     "data": {
      "text/plain": [
       "0.1353352832366127"
      ]
     },
     "execution_count": 7,
     "metadata": {},
     "output_type": "execute_result"
    }
   ],
   "source": [
    "import math\n",
    "m_0 = 0\n",
    "p_0 = lambda_1 ** m_0 / math.factorial(m_0) * math.e ** (-lambda_1)\n",
    "p_0"
   ]
  },
  {
   "cell_type": "code",
   "execution_count": 8,
   "metadata": {},
   "outputs": [
    {
     "data": {
      "text/plain": [
       "0.2706705664732254"
      ]
     },
     "execution_count": 8,
     "metadata": {},
     "output_type": "execute_result"
    }
   ],
   "source": [
    "import math\n",
    "m_2 = 2\n",
    "p_2 = lambda_1 ** m_2 / math.factorial(m_2) * math.e ** (-lambda_1)\n",
    "p_2"
   ]
  },
  {
   "cell_type": "code",
   "execution_count": 33,
   "metadata": {},
   "outputs": [],
   "source": [
    "# import math\n",
    "# import numpy as np\n",
    "# from matplotlib import pyplot as plt\n",
    "# p = 0.0004\n",
    "# n = 5000\n",
    "# lambda_1 = p * n\n",
    "# m = np.linspace(0, 100, 100)\n",
    "# y = m ** 2\n",
    "# y = lambda_1 ** m / math.factorial(np.vectorize(m)) * math.e ** (-lambda_1)\n",
    "# plt.plot(m, y)"
   ]
  },
  {
   "cell_type": "markdown",
   "metadata": {},
   "source": [
    "### Монету подбросили 144 раза. Какова вероятность, что орел выпадет ровно 70 раз?"
   ]
  },
  {
   "cell_type": "code",
   "execution_count": 36,
   "metadata": {},
   "outputs": [
    {
     "data": {
      "text/plain": [
       "0.046309172162262977"
      ]
     },
     "execution_count": 36,
     "metadata": {},
     "output_type": "execute_result"
    }
   ],
   "source": [
    "import math\n",
    "n = 144\n",
    "m = 70\n",
    "p = 1 / 2\n",
    "lambda_1 = p * n\n",
    "p_70 = lambda_1 ** m / math.factorial(m) * math.e ** (-lambda_1)\n",
    "p_70"
   ]
  },
  {
   "cell_type": "markdown",
   "metadata": {},
   "source": [
    "### В первом ящике находится 10 мячей, из которых 7 - белые. Во втором ящике - 11 мячей, из которых 9 белых. Из каждого ящика вытаскивают случайным образом по два мяча. Какова вероятность того, что все мячи белые? Какова вероятность того, что ровно два мяча белые? Какова вероятность того, что хотя бы один мяч белый?"
   ]
  },
  {
   "cell_type": "markdown",
   "metadata": {},
   "source": [
    "Вероятность, что все мячи белые:\n",
    "\n",
    "$$ {C^2_7 \\over C^2_{10}} * {C^2_9 \\over C^2_{11}} = {{7! \\over {2! 5!}} \\over {11! \\over {2! 9!}}} * {{9! \\over {2! 7!}} \\over {11! \\over {2! 9!}}} = 0.25 $$ "
   ]
  },
  {
   "cell_type": "markdown",
   "metadata": {},
   "source": [
    "Хотя бы один мяч белый.\n",
    "\n",
    "Вероятность, что все мячи чёрные:\n",
    "\n",
    "$$ {C^2_3 \\over C^2_{10}} * {C^2_2 \\over C^2_{11}} = {{3! \\over {2! 1!}} \\over {10! \\over {2! 8!}}} * {{2! \\over {2! 1!}} \\over {11! \\over {2! 9!}}} = 0,0012 $$ \n",
    "\n",
    "Вероятность хотя бы одного белого мяча:\n",
    "\n",
    "р = 1 - р(все мячи чёрные) = 1 - 0,0012 = 0,9988"
   ]
  }
 ],
 "metadata": {
  "kernelspec": {
   "display_name": "Python 3",
   "language": "python",
   "name": "python3"
  },
  "language_info": {
   "codemirror_mode": {
    "name": "ipython",
    "version": 3
   },
   "file_extension": ".py",
   "mimetype": "text/x-python",
   "name": "python",
   "nbconvert_exporter": "python",
   "pygments_lexer": "ipython3",
   "version": "3.7.7"
  },
  "toc": {
   "base_numbering": 1,
   "nav_menu": {},
   "number_sections": true,
   "sideBar": true,
   "skip_h1_title": false,
   "title_cell": "Table of Contents",
   "title_sidebar": "Contents",
   "toc_cell": false,
   "toc_position": {},
   "toc_section_display": true,
   "toc_window_display": false
  },
  "varInspector": {
   "cols": {
    "lenName": 16,
    "lenType": 16,
    "lenVar": 40
   },
   "kernels_config": {
    "python": {
     "delete_cmd_postfix": "",
     "delete_cmd_prefix": "del ",
     "library": "var_list.py",
     "varRefreshCmd": "print(var_dic_list())"
    },
    "r": {
     "delete_cmd_postfix": ") ",
     "delete_cmd_prefix": "rm(",
     "library": "var_list.r",
     "varRefreshCmd": "cat(var_dic_list()) "
    }
   },
   "types_to_exclude": [
    "module",
    "function",
    "builtin_function_or_method",
    "instance",
    "_Feature"
   ],
   "window_display": false
  }
 },
 "nbformat": 4,
 "nbformat_minor": 4
}
