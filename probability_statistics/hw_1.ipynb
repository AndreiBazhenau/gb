{
 "cells": [
  {
   "cell_type": "markdown",
   "metadata": {},
   "source": [
    "### Из колоды в 52 карты извлекаются случайным образом 4 карты.\n",
    "\n",
    "a) Найти вероятность того, что все карты – крести. \n",
    "\n",
    "б) Найти вероятность, что среди 4-х карт окажется ХОТЯ БЫ один туз."
   ]
  },
  {
   "cell_type": "markdown",
   "metadata": {},
   "source": [
    "а) Всего крестей в колоде: 52/4 = 13\n",
    "\n",
    "Вероятность достать одну карту крести: = 13 / 52 = 1/4\n",
    "\n",
    "вторую: 12/51\n",
    "\n",
    "третью: 11/50\n",
    "\n",
    "четвёртую: 10/49\n",
    "\n",
    "Следовательно вероятность вытащить подряд четыре карты крести: \n",
    "\n",
    "Р(А) = 1/4 * 12/51 * 11/50 * 10/49 = 1320/499800 = 0.00264\n"
   ]
  },
  {
   "cell_type": "markdown",
   "metadata": {},
   "source": [
    "б) **Вариант решения 1**\n",
    "\n",
    "Вероятность появления хотя бы одного из независимых событий, равна разности между единицей и произведением вероятностей противоположных событий (каждое не наступит ни разу).\n",
    "\n",
    "Рт = 4/52  qт = 1 - 4/52 = 48/52\n",
    "\n",
    "Р(А) = 1 - 48/52 * 48/52 * 48/52 * 48/52 = 1 - 5308419/7311612 = 1 - 0.726 = 0.274\n",
    "\n",
    "-----\n",
    "\n",
    "**Вариант решения 2**\n",
    "\n",
    "Вероятность вытащить один из 4 тузов из колоды в 52 карты = 4/52\n",
    "\n",
    "Складываем вероятности 4-х карт:\n",
    "\n",
    "4/52 + 4/52 + 4/52 + 4/52 = 16/52 = 0,308"
   ]
  },
  {
   "cell_type": "markdown",
   "metadata": {},
   "source": [
    "### На входной двери подъезда установлен кодовый замок, содержащий десять кнопок с цифрами от 0 до 9. Код содержит три цифры, которые нужно нажать одновременно. Какова вероятность того, что человек, не знающий код, откроет дверь с первой попытки?"
   ]
  },
  {
   "cell_type": "markdown",
   "metadata": {},
   "source": [
    "Вероятность угадать первое число кода = 1/10\n",
    "\n",
    "Вероятность угдать второе = 1/9 т.к. цифр осталось на одну меньше.\n",
    "\n",
    "Вероятность угадать третью 1/8.\n",
    "\n",
    "Находим произведение совместных событий:\n",
    "\n",
    "Р(А) = 1/10 * 1/9 * 1/8 = 1/720 = 0,0014"
   ]
  },
  {
   "cell_type": "markdown",
   "metadata": {},
   "source": [
    "### В ящике имеется 15 деталей, из которых 9 окрашены. Рабочий случайным образом извлекает 3 детали. Какова вероятность того, что все извлеченные детали окрашены?"
   ]
  },
  {
   "cell_type": "markdown",
   "metadata": {},
   "source": [
    "Вероятность вытащить 1-ю окрашенную деталь = 9/15\n",
    "\n",
    "вторую 8/14\n",
    "\n",
    "третью 7/13\n",
    "\n",
    "Произведение событий:\n",
    "\n",
    "Р(А) = 9/15 * 8/14 * 7/13 = 504/2730 = 0,185"
   ]
  },
  {
   "cell_type": "markdown",
   "metadata": {},
   "source": [
    "### В лотерее 100 билетов. Из них 2 выигрышных. Какова вероятность того, что 2 приобретенных билета окажутся выигрышными?"
   ]
  },
  {
   "cell_type": "markdown",
   "metadata": {},
   "source": [
    "Р(А) = 2/100 * 1 /99 = 2/9900 = 0,0002"
   ]
  }
 ],
 "metadata": {
  "kernelspec": {
   "display_name": "Python 3",
   "language": "python",
   "name": "python3"
  },
  "language_info": {
   "codemirror_mode": {
    "name": "ipython",
    "version": 3
   },
   "file_extension": ".py",
   "mimetype": "text/x-python",
   "name": "python",
   "nbconvert_exporter": "python",
   "pygments_lexer": "ipython3",
   "version": "3.7.7"
  },
  "toc": {
   "base_numbering": 1,
   "nav_menu": {},
   "number_sections": true,
   "sideBar": true,
   "skip_h1_title": false,
   "title_cell": "Table of Contents",
   "title_sidebar": "Contents",
   "toc_cell": false,
   "toc_position": {},
   "toc_section_display": true,
   "toc_window_display": false
  },
  "varInspector": {
   "cols": {
    "lenName": 16,
    "lenType": 16,
    "lenVar": 40
   },
   "kernels_config": {
    "python": {
     "delete_cmd_postfix": "",
     "delete_cmd_prefix": "del ",
     "library": "var_list.py",
     "varRefreshCmd": "print(var_dic_list())"
    },
    "r": {
     "delete_cmd_postfix": ") ",
     "delete_cmd_prefix": "rm(",
     "library": "var_list.r",
     "varRefreshCmd": "cat(var_dic_list()) "
    }
   },
   "types_to_exclude": [
    "module",
    "function",
    "builtin_function_or_method",
    "instance",
    "_Feature"
   ],
   "window_display": false
  }
 },
 "nbformat": 4,
 "nbformat_minor": 4
}
