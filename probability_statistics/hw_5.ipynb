{
 "cells": [
  {
   "cell_type": "markdown",
   "metadata": {},
   "source": [
    "- Проверка статистических гипотез. P-значения. Доверительные интервалы. A/B-тестирование"
   ]
  },
  {
   "cell_type": "markdown",
   "metadata": {},
   "source": [
    "1. Известно, что генеральная совокупность распределена нормально со средним квадратическим отклонением, равным 16. Найти доверительный интервал для оценки математического ожидания a с надежностью 0.95, если выборочная средняя M = 80, а объем выборки n = 256."
   ]
  },
  {
   "cell_type": "code",
   "execution_count": 1,
   "metadata": {},
   "outputs": [],
   "source": [
    "sigma = 16\n",
    "M = 80\n",
    "n = 256\n",
    "alpha = 1 - 0.95\n",
    "z = 1.96"
   ]
  },
  {
   "attachments": {},
   "cell_type": "markdown",
   "metadata": {},
   "source": [
    "Рассчитаем предельное отклонение от средней арифметической по следующей формуле:\n",
    "\n",
    "$$T_{1,2} = \\overline{X} \\pm \\frac{s_0}{\\sqrt{n}} \\cdot c_{\\gamma}$$\n",
    "\n",
    "где $T_1$, $T_2$ — нижняя и верхняя границы доверительного интервала,\n",
    "\n",
    "$\\overline{X}$  — выборочное среднее арифметическое, $s_0$ — среднее квадратичное отклонение по выборке (несмещенное),\n",
    "\n",
    "$n$ — размер выборки,\n",
    "\n",
    "$\\gamma$ — доверительная вероятность,\n",
    "\n",
    "$c_{\\gamma} = Ф^{-1} \\frac{(1 + \\gamma)}{2}$ — обратное значение функции стандартного нормального распределения.\n",
    "\n",
    "Итоговая формула: $$\\left(\\overline{x} - Z_{\\frac{a}{2}} \\cdot \\frac{\\sigma}{\\sqrt{n}} , \\overline{x} + Z_{\\frac{a}{2}} \\cdot \\frac{\\sigma}{\\sqrt{n}}\\right)$$"
   ]
  },
  {
   "cell_type": "code",
   "execution_count": 2,
   "metadata": {},
   "outputs": [
    {
     "name": "stdout",
     "output_type": "stream",
     "text": [
      "Доверительный интервал имеет границы (78.04; 81.96)\n"
     ]
    }
   ],
   "source": [
    "T1 = M - z * sigma/n ** 0.5\n",
    "T2 = M + z * sigma/n ** 0.5\n",
    "print(f'Доверительный интервал имеет границы ({T1}; {T2})')"
   ]
  },
  {
   "cell_type": "markdown",
   "metadata": {},
   "source": [
    "2. В результате 10 независимых измерений некоторой величины X, выполненных с одинаковой точностью, получены опытные данные: 6.9, 6.1, 6.2, 6.8, 7.5, 6.3, 6.4, 6.9, 6.7, 6.1 Предполагая, что результаты измерений подчинены нормальному закону распределения вероятностей, оценить истинное значение величины X при помощи доверительного интервала, покрывающего это значение с доверительной вероятностью 0,95."
   ]
  },
  {
   "cell_type": "code",
   "execution_count": 3,
   "metadata": {},
   "outputs": [
    {
     "name": "stdout",
     "output_type": "stream",
     "text": [
      "Доверительный интервал имеет границы (6.267538255912425; 6.912461744087573)\n"
     ]
    }
   ],
   "source": [
    "x = [6.9, 6.1, 6.2, 6.8, 7.5, 6.3, 6.4, 6.9, 6.7, 6.1]\n",
    "alpha = 1 - 0.95\n",
    "t = 2.262\n",
    "# mu = x mean\n",
    "mu = sum(x) / len(x)\n",
    "std = np.std(x, ddof=1)\n",
    "T1 = mu - t * std / (len(x)) ** 0.5\n",
    "T2 = mu + t * std / (len(x)) ** 0.5\n",
    "print(f'Доверительный интервал имеет границы ({T1}; {T2})')"
   ]
  },
  {
   "cell_type": "markdown",
   "metadata": {},
   "source": [
    "3, 4 задачи решать через тестирование гипотезы\n",
    "3. Утверждается, что шарики для подшипников, изготовленные автоматическим станком, имеют средний диаметр 17 мм.\n",
    "Используя односторонний критерий с α=0,05, проверить эту гипотезу, если в выборке из n=100 шариков средний диаметр\n",
    "оказался равным 17.5 мм, а дисперсия известна и равна 4 кв.мм."
   ]
  },
  {
   "cell_type": "code",
   "execution_count": 4,
   "metadata": {},
   "outputs": [
    {
     "name": "stdout",
     "output_type": "stream",
     "text": [
      "Zр: 0.025\n"
     ]
    }
   ],
   "source": [
    "mu0 = 17\n",
    "mu = 17.5\n",
    "a = 0.05\n",
    "n = 100\n",
    "d = 4\n",
    "zt = 1.645\n",
    "zr = (mu-mu0)/(d ** 0.5)/(n ** 0.5)\n",
    "print(f'Zр: {zr}')"
   ]
  },
  {
   "cell_type": "markdown",
   "metadata": {},
   "source": [
    "Поскольку Zрасчетное > Zтабличное, нулевая гипотеза отвергается. Верна гипотиза H1 при уровне значимости 5%"
   ]
  },
  {
   "cell_type": "markdown",
   "metadata": {},
   "source": [
    "4. Продавец утверждает, что средний вес пачки печенья составляет 200 г. Из партии извлечена выборка из 10 пачек. Вес каждой пачки составляет: 202, 203, 199, 197, 195, 201, 200, 204, 194, 190. Известно, что их веса распределены нормально. Верно ли утверждение продавца, если учитывать, что доверительная вероятность равна 99%?"
   ]
  },
  {
   "cell_type": "code",
   "execution_count": 5,
   "metadata": {},
   "outputs": [
    {
     "name": "stdout",
     "output_type": "stream",
     "text": [
      "t-критерий табличный = 3.25\n",
      "t-критерий расчётный = -1.0651074037450896\n"
     ]
    }
   ],
   "source": [
    "# H0: вес - 200 г, mu = mu0\n",
    "# H1: вес - отличается от 200 г, mu не равно mu0\n",
    "x = [202, 203, 199, 197, 195, 201, 200, 204, 194, 190]\n",
    "alpha = 1 - 0.99\n",
    "n = len(x)\n",
    "t_table = 3.250  # для alpha/2\n",
    "mean_x = sum(x)/len(x)\n",
    "mean_x\n",
    "std_x = np.std(x,ddof=1)\n",
    "t = (mean_x - 200) / (std_x / np.sqrt(n))\n",
    "print(f't-критерий табличный = {t_table}\\nt-критерий расчётный = {t}')"
   ]
  },
  {
   "cell_type": "markdown",
   "metadata": {},
   "source": [
    "Поскольку t расчетное (-1.065) попадает в диаппазон tтабличное [-3.250;3.250], нулевая гипотеза подтверждается. Утверждение продавца верно."
   ]
  }
 ],
 "metadata": {
  "kernelspec": {
   "display_name": "Python 3",
   "language": "python",
   "name": "python3"
  },
  "language_info": {
   "codemirror_mode": {
    "name": "ipython",
    "version": 3
   },
   "file_extension": ".py",
   "mimetype": "text/x-python",
   "name": "python",
   "nbconvert_exporter": "python",
   "pygments_lexer": "ipython3",
   "version": "3.7.7"
  },
  "toc": {
   "base_numbering": 1,
   "nav_menu": {},
   "number_sections": true,
   "sideBar": true,
   "skip_h1_title": false,
   "title_cell": "Table of Contents",
   "title_sidebar": "Contents",
   "toc_cell": false,
   "toc_position": {},
   "toc_section_display": true,
   "toc_window_display": false
  },
  "varInspector": {
   "cols": {
    "lenName": 16,
    "lenType": 16,
    "lenVar": 40
   },
   "kernels_config": {
    "python": {
     "delete_cmd_postfix": "",
     "delete_cmd_prefix": "del ",
     "library": "var_list.py",
     "varRefreshCmd": "print(var_dic_list())"
    },
    "r": {
     "delete_cmd_postfix": ") ",
     "delete_cmd_prefix": "rm(",
     "library": "var_list.r",
     "varRefreshCmd": "cat(var_dic_list()) "
    }
   },
   "types_to_exclude": [
    "module",
    "function",
    "builtin_function_or_method",
    "instance",
    "_Feature"
   ],
   "window_display": false
  }
 },
 "nbformat": 4,
 "nbformat_minor": 4
}
