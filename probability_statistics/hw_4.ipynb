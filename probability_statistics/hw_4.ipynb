{
 "cells": [
  {
   "cell_type": "markdown",
   "metadata": {},
   "source": [
    "1. Случайная непрерывная величина A имеет равномерное распределение на промежутке (200, 800].\n",
    "Найдите ее среднее значение и дисперсию."
   ]
  },
  {
   "cell_type": "code",
   "execution_count": 1,
   "metadata": {},
   "outputs": [
    {
     "name": "stdout",
     "output_type": "stream",
     "text": [
      "Среднее значение = 500.0. Дисперсия = 30000.0\n"
     ]
    }
   ],
   "source": [
    "a = 200\n",
    "b = 800\n",
    "\n",
    "M_x = (a + b) / 2\n",
    "D_x = (b - a)**2 / 12\n",
    "\n",
    "print(f'Среднее значение = {M_x}. Дисперсия = {D_x}')"
   ]
  },
  {
   "cell_type": "markdown",
   "metadata": {},
   "source": [
    "2. О случайной непрерывной равномерно распределенной величине B известно, что ее дисперсия равна 0.2.\n",
    "Можно ли найти правую границу величины B и ее среднее значение зная, что левая граница равна 0.5?\n",
    "Если да, найдите ее."
   ]
  },
  {
   "cell_type": "code",
   "execution_count": 2,
   "metadata": {},
   "outputs": [
    {
     "name": "stdout",
     "output_type": "stream",
     "text": [
      "Правая граница b = 2.049193338482967. Среднее значение М(х) = 1.2745966692414834\n"
     ]
    }
   ],
   "source": [
    "a = 0.5\n",
    "D_x = 0.2\n",
    "\n",
    "b = a + (12 * D_x) ** 0.5\n",
    "M_x = (a + b) / 2\n",
    "\n",
    "print(f'Правая граница b = {b}. Среднее значение М(х) = {M_x}')"
   ]
  },
  {
   "cell_type": "markdown",
   "metadata": {},
   "source": [
    "3. Непрерывная случайная величина X распределена нормально и задана плотностью распределения\n",
    "\n",
    "f(x) = (1 / (4 * sqrt(2 * pi))) * (exp(-(x+2) ** 2) / 32)\n",
    "\n",
    "Найдите:\n",
    "\n",
    "а). M(X)\n",
    "\n",
    "б). D(X)\n",
    "\n",
    "в). std(X) (среднее квадратичное отклонение)"
   ]
  },
  {
   "cell_type": "markdown",
   "metadata": {},
   "source": [
    "Т.к. $$f(x) = \\frac{1}{\\sigma \\sqrt{2 \\pi}} e ^ {- \\frac{(x - a)^2}{2 \\sigma^2}},$$\n",
    "\n",
    "следовательно\n",
    "\n",
    "$\\sigma$ = 4\n",
    "\n",
    "a = -2"
   ]
  },
  {
   "cell_type": "code",
   "execution_count": 3,
   "metadata": {},
   "outputs": [
    {
     "name": "stdout",
     "output_type": "stream",
     "text": [
      "M(x) = -2, D(x) = 16, среднеквадратичное отклонение std(x) = 4\n"
     ]
    }
   ],
   "source": [
    "sigma = 4\n",
    "a = -2\n",
    "\n",
    "M_x = a\n",
    "\n",
    "D_x = sigma ** 2\n",
    "\n",
    "print(f'M(x) = {M_x}, D(x) = {D_x}, среднеквадратичное отклонение std(x) = {sigma}')"
   ]
  },
  {
   "cell_type": "markdown",
   "metadata": {},
   "source": [
    "4. Рост взрослого населения города X имеет нормальное распределение. Причем, средний рост равен 174 см, а среднее квадратичное отклонение равно 8 см.\n",
    "Какова вероятность того, что случайным образом выбранный взрослый человек имеет рост:\n",
    "\n",
    "а). больше 182 см\n",
    "\n",
    "б). больше 190 см\n",
    "\n",
    "в). от 166 см до 190 см\n",
    "\n",
    "г). от 166 см до 182 см\n",
    "\n",
    "д). от 158 см до 190 см\n",
    "\n",
    "е). не выше 150 см или не ниже 190 см\n",
    "\n",
    "ё). не выше 150 см или не ниже 198 см\n",
    "\n",
    "ж). ниже 166 см."
   ]
  },
  {
   "cell_type": "code",
   "execution_count": 4,
   "metadata": {},
   "outputs": [
    {
     "name": "stdout",
     "output_type": "stream",
     "text": [
      "Вероятность того, что случайным образом выбранный человек имеет рост:\n",
      "а) больше 182 см: z = 1.0. Вероятность = 0,1587\n",
      "б) больше 190 см. z = 2.0. Вероятность = 0,0228\n",
      "в) от 166 см до 190 см: z = -1.0. Вероятность = 0.8185\n",
      "г)  от 166 см до 182 см равна: 0.6825999999999999\n",
      "д) от 158 см до 190 см: z_e = -2.0 Вероятность = 0.9543999999999999\n",
      "e) не выше 150 см или не ниже 190 см. z = -3.0 Вероятность = 0.0242\n",
      "ё) не выше 150 см или не ниже 198 см. z = 3.0 Вероятность = 0.0028\n",
      "ж) ниже 166 см: z = -1.0 Вероятность = 0.1587\n"
     ]
    }
   ],
   "source": [
    "M_X = 174\n",
    "sigma = 8\n",
    "\n",
    "print('Вероятность того, что случайным образом выбранный человек имеет рост:')\n",
    "\n",
    "z_a = (182 - 174) / 8\n",
    "print(f'а) больше 182 см: z = {z_a}. Вероятность = 0,1587')\n",
    "prob_a = 0.1587\n",
    "\n",
    "z_b = (190 - 174) / 8\n",
    "print(f'б) больше 190 см. z = {z_b}. Вероятность = 0,0228')\n",
    "prob_b = 0.0228\n",
    "\n",
    "z_c = (166 - 174) / 8\n",
    "prob_c = 0.1587\n",
    "prob_c_1 = 1 - prob_b - prob_c\n",
    "print(f'в) от 166 см до 190 см: z = {z_c}. Вероятность = {prob_c_1}')\n",
    "\n",
    "prob_d = 1 - prob_a - prob_c\n",
    "print(f'г)  от 166 см до 182 см равна: {prob_d}')\n",
    "\n",
    "z_e = (158 - 174) / 8\n",
    "prob_e = 0.0228\n",
    "prob_e_1 = 1 - prob_b - prob_e\n",
    "print(f'д) от 158 см до 190 см: z_e = {z_e} Вероятность = {prob_e_1}')\n",
    "\n",
    "z_f = (150 - 174) / 8\n",
    "prob_f = 0.0014\n",
    "prob_f_1 = prob_f + prob_b\n",
    "print(f'e) не выше 150 см или не ниже 190 см. z = {z_f} Вероятность = {prob_f_1}')\n",
    "\n",
    "z_g = (198 - 174) / 8\n",
    "prob_g = 0.0014\n",
    "prob_g_1 = prob_f + prob_g\n",
    "print(f'ё) не выше 150 см или не ниже 198 см. z = {z_g} Вероятность = {prob_g_1}')\n",
    "\n",
    "z_h = (166 - 174) / 8\n",
    "prob_h = 0.1587\n",
    "print(f'ж) ниже 166 см: z = {z_h} Вероятность = {prob_h}')"
   ]
  },
  {
   "cell_type": "markdown",
   "metadata": {},
   "source": [
    "5. На сколько сигм (средних квадратичных отклонений) отклоняется рост человека, равный 190 см, от математического ожидания роста в популяции, в которой M(X) = 178 см и D(X) = 25 кв.см?"
   ]
  },
  {
   "cell_type": "code",
   "execution_count": 5,
   "metadata": {},
   "outputs": [
    {
     "name": "stdout",
     "output_type": "stream",
     "text": [
      "Человек с ростом 190 см отклоняется от мат ожидания популяции на 2.4 сигм.\n"
     ]
    }
   ],
   "source": [
    "M_x = 178\n",
    "D_x = 25\n",
    "x = 190\n",
    "\n",
    "sigma = D_x ** 0.5\n",
    "y = (x - M_x) / sigma\n",
    "print(f'Человек с ростом 190 см отклоняется от мат ожидания популяции на {y} сигм.')"
   ]
  }
 ],
 "metadata": {
  "kernelspec": {
   "display_name": "Python 3",
   "language": "python",
   "name": "python3"
  },
  "language_info": {
   "codemirror_mode": {
    "name": "ipython",
    "version": 3
   },
   "file_extension": ".py",
   "mimetype": "text/x-python",
   "name": "python",
   "nbconvert_exporter": "python",
   "pygments_lexer": "ipython3",
   "version": "3.7.7"
  },
  "toc": {
   "base_numbering": 1,
   "nav_menu": {},
   "number_sections": true,
   "sideBar": true,
   "skip_h1_title": false,
   "title_cell": "Table of Contents",
   "title_sidebar": "Contents",
   "toc_cell": false,
   "toc_position": {},
   "toc_section_display": true,
   "toc_window_display": false
  },
  "varInspector": {
   "cols": {
    "lenName": 16,
    "lenType": 16,
    "lenVar": 40
   },
   "kernels_config": {
    "python": {
     "delete_cmd_postfix": "",
     "delete_cmd_prefix": "del ",
     "library": "var_list.py",
     "varRefreshCmd": "print(var_dic_list())"
    },
    "r": {
     "delete_cmd_postfix": ") ",
     "delete_cmd_prefix": "rm(",
     "library": "var_list.r",
     "varRefreshCmd": "cat(var_dic_list()) "
    }
   },
   "types_to_exclude": [
    "module",
    "function",
    "builtin_function_or_method",
    "instance",
    "_Feature"
   ],
   "window_display": false
  }
 },
 "nbformat": 4,
 "nbformat_minor": 4
}
