{
 "cells": [
  {
   "cell_type": "markdown",
   "metadata": {
    "id": "vQnDWSn8TEOl"
   },
   "source": [
    "# Введение в искусственные нейронные сети\n",
    "# Урок 5. Рекуррентные нейронные сети"
   ]
  },
  {
   "cell_type": "markdown",
   "metadata": {
    "id": "RDl63Y-8TEOq"
   },
   "source": [
    "## Содержание методического пособия:\n",
    "\n",
    "\n",
    "<ol>\n",
    "<li>Что такое Рекурретные нейронные сети</li>\n",
    "<li>Архитектура Рекуррентных нейронных сетей</li>\n",
    "<li>Пример на Keras рекуррентной нейронной сети</li>\n",
    "</ol>"
   ]
  },
  {
   "cell_type": "markdown",
   "metadata": {
    "id": "hUDRJOqcTEOs"
   },
   "source": [
    "## Что такое Рекуррентные нейронные сети\n",
    "\n",
    "\n",
    "\n"
   ]
  },
  {
   "cell_type": "markdown",
   "metadata": {
    "id": "0ZwtSK7zTEOu"
   },
   "source": [
    "Нейронные сети которые мы разбирали ранее относятся к классу feed forward нейронных сетей или сетей прямого распространения. Выходной сигнал слоя в этих нейронных сетях передавался напрямую в следующий слой. Однако есть задачи, в которых нам нужно обучать нейронную сеть не на единичных экземплярах наподобие изображений, а на наборах последовательностей, например последовательностей слов. \n",
    "\n",
    "<img src='https://drive.google.com/uc?export=view&id=1f_uoDbYksc0JQ_zc7VAPFT5P0NsQ2607'>\n",
    "\n",
    "В рекуррентной нейронной сети выходной сигнал внутренних слоев циркулирует в этих слоях некоторое время. При обучении такой нейронной сети прежние выходные сигналы используются как дополнительные input'ы. Можно сказать, что эти дополнительные input'ы конкатенируются с \"нормальными\" input'ами предыдущего слоя.\n",
    "\n",
    "Плюс рекуррентных нейронных сетей, или RNN, в том, что они обеспечивают последовательности с вариативными длинами как для входа, так и для вывода. Вот несколько примеров того, как может выглядеть рекуррентная нейронная сеть:\n",
    "\n",
    "<img src='https://python-scripts.com/wp-content/uploads/2019/10/rrn-001.jpg'>\n",
    "\n",
    "*Входные данные отмечены красным, нейронная сеть RNN — зеленым, а вывод — синим.*\n",
    "\n",
    "\n"
   ]
  },
  {
   "cell_type": "markdown",
   "metadata": {
    "id": "lSuRcwvWn2JN"
   },
   "source": [
    "И несколько примеров задач:\n",
    "<img src='https://drive.google.com/uc?export=view&id=1QlyXHu0OjSolwLfVeF3DmPFuwOYVa3QE'>\n"
   ]
  },
  {
   "cell_type": "markdown",
   "metadata": {
    "id": "2NHvb2SRTEO0"
   },
   "source": [
    "Реккурентные нейронные сети используются например для того, чтобы научить компьютерные системы \"понимать\" человеческих язык, для генерации текста.\n",
    "Области использования:\n",
    "\n",
    "- *Машинный перевод* выполняется при помощи нейронных сетей с принципом «многие ко многим». Оригинальная последовательность текста подается в рекуррентную нейронную сеть, которая затем создает переведенный текст в качестве результата вывода\n",
    "- *Анализ настроений* часто выполняется при помощи рекуррентных нейронных сетей с принципом «многие к одному». Этот отзыв положительный или отрицательный?\n",
    "- Разновидности реккуретных нейронных используются также для построения ИИ, подобных тем, что *обыграли человека* в компьютерную игру Dota 2\n",
    "\n",
    "В отличие от сверточных нейронных сетей реккурентные нейронные сети как правило содержат небольшое количество слоев"
   ]
  },
  {
   "cell_type": "markdown",
   "metadata": {
    "id": "vWKxQzctTEO2"
   },
   "source": [
    "## Архитектура Рекуррентных нейронных сетей\n"
   ]
  },
  {
   "cell_type": "markdown",
   "metadata": {
    "id": "UpqSEDLdTEO4"
   },
   "source": [
    "Несмотря на то, что RNN могут хорошо справляться со своими задачами они не могут работать с длинными последовательностями. Эффективно они могут работать только с последовательностями состоящими из 3-4 элементов. Для, к примеру, анализа текста отзывов на предмет того положительный это отзыв или нет этого будет недостаточно. Здесь может понадобиться анализ нескольких десятков слов, чтобы сделать корректный вывод."
   ]
  },
  {
   "cell_type": "markdown",
   "metadata": {
    "id": "lcFx75tROHcI"
   },
   "source": [
    "<img src='https://drive.google.com/uc?export=view&id=1NCfOdVRM6A1oWLxljFQVb3ldFtuoOZP8'>\n",
    "\n",
    "Типичная классическая рекуррентная нейронная сеть использует только три набора параметров веса для выполнения требуемых подсчетов:\n",
    "\n",
    "1. $W_{xh}$ используется для всех связок $x_t$ → $h_t$\n",
    "2. $W_{hh}$ используется для всех связок $h_{t-1}$ → $h_t$\n",
    "3. $W_{hy}$ используется для всех связок $h_t$ → $y_t$\n",
    "\n",
    "Иксы - по сути дела - это разные временные промежутки.\n",
    "\n",
    "$$h_t = tanh(W_{xh}x_t + W_{hh}h_{t-1})$$\n",
    "$$y_t = W_{hy}h_t$$"
   ]
  },
  {
   "cell_type": "markdown",
   "metadata": {
    "id": "1S-HasHybd6a"
   },
   "source": [
    "<img src='https://drive.google.com/uc?export=view&id=1xbiwTUJC4kS5yiwgG7mcvdR282IgmnZu' width=500>\n",
    "\n",
    "До этого в одном нейроне функция активации была:\n",
    "\n",
    "$$h = tanh(Wx)$$\n",
    "А теперь в нейроне с обратной связью:\n",
    "$$h = tanh(W_{1}h + W_{2}x)$$"
   ]
  },
  {
   "cell_type": "markdown",
   "metadata": {
    "id": "Fxl249ihhWkt"
   },
   "source": [
    "Вот так можно проиллюстрировать связи в нейронах RNN (растянутые во времени): <img src='https://drive.google.com/uc?export=view&id=14OzceTvk2h6d4JAS7OUvxOuALEwzlTNf' width=500>\n",
    "\n",
    "Выход каждого нейрона подключен ко входам всех нейронов.\n"
   ]
  },
  {
   "cell_type": "code",
   "execution_count": null,
   "metadata": {
    "id": "PmN2uhM6HyGQ"
   },
   "outputs": [],
   "source": [
    "from keras.layers import SimpleRNN, LSTM, SimpleRNNCell\n",
    "from keras.models import Sequential\n",
    "import tensorflow as tf"
   ]
  },
  {
   "cell_type": "code",
   "execution_count": null,
   "metadata": {
    "colab": {
     "base_uri": "https://localhost:8080/"
    },
    "id": "cv_xw5cRJI0Q",
    "outputId": "5c14dd8e-4b01-44c0-d4f1-37c372f66046"
   },
   "outputs": [
    {
     "name": "stdout",
     "output_type": "stream",
     "text": [
      "Model: \"sequential\"\n",
      "_________________________________________________________________\n",
      "Layer (type)                 Output Shape              Param #   \n",
      "=================================================================\n",
      "simple_rnn (SimpleRNN)       (None, 2)                 8         \n",
      "=================================================================\n",
      "Total params: 8\n",
      "Trainable params: 8\n",
      "Non-trainable params: 0\n",
      "_________________________________________________________________\n"
     ]
    }
   ],
   "source": [
    "tf.random.set_seed(8)\n",
    "\n",
    "model = Sequential([\n",
    "            SimpleRNN(2, activation='sigmoid', # количество скрытых состояний\n",
    "                      # return_sequences=True, # выдавать последовательность (снимат mc каждого состояния)\n",
    "                      input_shape=(10, 1)) # количество парамтеров не меняется если увеличивается\n",
    "        ])                                 # колиество воходов - это сойство реккурентных сетей\n",
    "model.summary()"
   ]
  },
  {
   "cell_type": "code",
   "execution_count": null,
   "metadata": {
    "colab": {
     "base_uri": "https://localhost:8080/"
    },
    "id": "Zp3pityDdtGE",
    "outputId": "d941c421-66e7-4ffa-c019-7393bf579a52"
   },
   "outputs": [
    {
     "data": {
      "text/plain": [
       "array([[0.54088765, 0.39342588]], dtype=float32)"
      ]
     },
     "execution_count": 3,
     "metadata": {
      "tags": []
     },
     "output_type": "execute_result"
    }
   ],
   "source": [
    "import numpy as np\n",
    "np.random.seed(5)\n",
    "x = np.random.randn(10).reshape((10, 1))\n",
    "model.predict(x[None])"
   ]
  },
  {
   "cell_type": "markdown",
   "metadata": {
    "id": "s1QjamHTdfWd"
   },
   "source": [
    "### Реализация рекуррентной сети"
   ]
  },
  {
   "cell_type": "markdown",
   "metadata": {
    "id": "tWQ-8jvpQdF-"
   },
   "source": [
    "Давайте попробуем сделать простую реккурентную нейронную сеть, которая будет учиться складывать числа. Для этих целей мы не будем пользоваться фреймворками для Deep Learning, чтобы посмотреть как она работает внутри.\n"
   ]
  },
  {
   "cell_type": "code",
   "execution_count": null,
   "metadata": {
    "id": "ZdKvK1doQo9V"
   },
   "outputs": [],
   "source": [
    "# впервую очередь подключим numpy и библиотеку copy, которая понадобиться, чтобы сделать deepcopy ряда элементов\n",
    "import copy\n",
    "import numpy as np\n",
    "np.random.seed(0)\n",
    "\n",
    "\n",
    "# вычислим сигмоиду\n",
    "def sigmoid(x):\n",
    "    output = 1 / (1 + np.exp(-x))\n",
    "    return output\n",
    "\n",
    "# конвертируем значение функции сигмоиды в ее производную. \n",
    "def sigmoid_deriv(output):\n",
    "    return output * (1 - output)"
   ]
  },
  {
   "cell_type": "code",
   "execution_count": 1,
   "metadata": {
    "ExecuteTime": {
     "end_time": "2021-05-16T21:58:24.955120Z",
     "start_time": "2021-05-16T21:58:24.914121Z"
    },
    "id": "B1GjZCvTa6eW"
   },
   "outputs": [
    {
     "data": {
      "text/plain": [
       "array([[0, 0, 0, ..., 0, 0, 0],\n",
       "       [0, 0, 0, ..., 0, 0, 1],\n",
       "       [0, 0, 0, ..., 0, 1, 0],\n",
       "       ...,\n",
       "       [1, 1, 1, ..., 1, 0, 1],\n",
       "       [1, 1, 1, ..., 1, 1, 0],\n",
       "       [1, 1, 1, ..., 1, 1, 1]], dtype=uint8)"
      ]
     },
     "metadata": {},
     "output_type": "display_data"
    },
    {
     "data": {
      "text/plain": [
       "{0: array([0, 0, 0, 0, 0, 0, 0, 0], dtype=uint8),\n",
       " 1: array([0, 0, 0, 0, 0, 0, 0, 1], dtype=uint8),\n",
       " 2: array([0, 0, 0, 0, 0, 0, 1, 0], dtype=uint8),\n",
       " 3: array([0, 0, 0, 0, 0, 0, 1, 1], dtype=uint8),\n",
       " 4: array([0, 0, 0, 0, 0, 1, 0, 0], dtype=uint8),\n",
       " 5: array([0, 0, 0, 0, 0, 1, 0, 1], dtype=uint8),\n",
       " 6: array([0, 0, 0, 0, 0, 1, 1, 0], dtype=uint8),\n",
       " 7: array([0, 0, 0, 0, 0, 1, 1, 1], dtype=uint8),\n",
       " 8: array([0, 0, 0, 0, 1, 0, 0, 0], dtype=uint8),\n",
       " 9: array([0, 0, 0, 0, 1, 0, 0, 1], dtype=uint8),\n",
       " 10: array([0, 0, 0, 0, 1, 0, 1, 0], dtype=uint8),\n",
       " 11: array([0, 0, 0, 0, 1, 0, 1, 1], dtype=uint8),\n",
       " 12: array([0, 0, 0, 0, 1, 1, 0, 0], dtype=uint8),\n",
       " 13: array([0, 0, 0, 0, 1, 1, 0, 1], dtype=uint8),\n",
       " 14: array([0, 0, 0, 0, 1, 1, 1, 0], dtype=uint8),\n",
       " 15: array([0, 0, 0, 0, 1, 1, 1, 1], dtype=uint8),\n",
       " 16: array([0, 0, 0, 1, 0, 0, 0, 0], dtype=uint8),\n",
       " 17: array([0, 0, 0, 1, 0, 0, 0, 1], dtype=uint8),\n",
       " 18: array([0, 0, 0, 1, 0, 0, 1, 0], dtype=uint8),\n",
       " 19: array([0, 0, 0, 1, 0, 0, 1, 1], dtype=uint8),\n",
       " 20: array([0, 0, 0, 1, 0, 1, 0, 0], dtype=uint8),\n",
       " 21: array([0, 0, 0, 1, 0, 1, 0, 1], dtype=uint8),\n",
       " 22: array([0, 0, 0, 1, 0, 1, 1, 0], dtype=uint8),\n",
       " 23: array([0, 0, 0, 1, 0, 1, 1, 1], dtype=uint8),\n",
       " 24: array([0, 0, 0, 1, 1, 0, 0, 0], dtype=uint8),\n",
       " 25: array([0, 0, 0, 1, 1, 0, 0, 1], dtype=uint8),\n",
       " 26: array([0, 0, 0, 1, 1, 0, 1, 0], dtype=uint8),\n",
       " 27: array([0, 0, 0, 1, 1, 0, 1, 1], dtype=uint8),\n",
       " 28: array([0, 0, 0, 1, 1, 1, 0, 0], dtype=uint8),\n",
       " 29: array([0, 0, 0, 1, 1, 1, 0, 1], dtype=uint8),\n",
       " 30: array([0, 0, 0, 1, 1, 1, 1, 0], dtype=uint8),\n",
       " 31: array([0, 0, 0, 1, 1, 1, 1, 1], dtype=uint8),\n",
       " 32: array([0, 0, 1, 0, 0, 0, 0, 0], dtype=uint8),\n",
       " 33: array([0, 0, 1, 0, 0, 0, 0, 1], dtype=uint8),\n",
       " 34: array([0, 0, 1, 0, 0, 0, 1, 0], dtype=uint8),\n",
       " 35: array([0, 0, 1, 0, 0, 0, 1, 1], dtype=uint8),\n",
       " 36: array([0, 0, 1, 0, 0, 1, 0, 0], dtype=uint8),\n",
       " 37: array([0, 0, 1, 0, 0, 1, 0, 1], dtype=uint8),\n",
       " 38: array([0, 0, 1, 0, 0, 1, 1, 0], dtype=uint8),\n",
       " 39: array([0, 0, 1, 0, 0, 1, 1, 1], dtype=uint8),\n",
       " 40: array([0, 0, 1, 0, 1, 0, 0, 0], dtype=uint8),\n",
       " 41: array([0, 0, 1, 0, 1, 0, 0, 1], dtype=uint8),\n",
       " 42: array([0, 0, 1, 0, 1, 0, 1, 0], dtype=uint8),\n",
       " 43: array([0, 0, 1, 0, 1, 0, 1, 1], dtype=uint8),\n",
       " 44: array([0, 0, 1, 0, 1, 1, 0, 0], dtype=uint8),\n",
       " 45: array([0, 0, 1, 0, 1, 1, 0, 1], dtype=uint8),\n",
       " 46: array([0, 0, 1, 0, 1, 1, 1, 0], dtype=uint8),\n",
       " 47: array([0, 0, 1, 0, 1, 1, 1, 1], dtype=uint8),\n",
       " 48: array([0, 0, 1, 1, 0, 0, 0, 0], dtype=uint8),\n",
       " 49: array([0, 0, 1, 1, 0, 0, 0, 1], dtype=uint8),\n",
       " 50: array([0, 0, 1, 1, 0, 0, 1, 0], dtype=uint8),\n",
       " 51: array([0, 0, 1, 1, 0, 0, 1, 1], dtype=uint8),\n",
       " 52: array([0, 0, 1, 1, 0, 1, 0, 0], dtype=uint8),\n",
       " 53: array([0, 0, 1, 1, 0, 1, 0, 1], dtype=uint8),\n",
       " 54: array([0, 0, 1, 1, 0, 1, 1, 0], dtype=uint8),\n",
       " 55: array([0, 0, 1, 1, 0, 1, 1, 1], dtype=uint8),\n",
       " 56: array([0, 0, 1, 1, 1, 0, 0, 0], dtype=uint8),\n",
       " 57: array([0, 0, 1, 1, 1, 0, 0, 1], dtype=uint8),\n",
       " 58: array([0, 0, 1, 1, 1, 0, 1, 0], dtype=uint8),\n",
       " 59: array([0, 0, 1, 1, 1, 0, 1, 1], dtype=uint8),\n",
       " 60: array([0, 0, 1, 1, 1, 1, 0, 0], dtype=uint8),\n",
       " 61: array([0, 0, 1, 1, 1, 1, 0, 1], dtype=uint8),\n",
       " 62: array([0, 0, 1, 1, 1, 1, 1, 0], dtype=uint8),\n",
       " 63: array([0, 0, 1, 1, 1, 1, 1, 1], dtype=uint8),\n",
       " 64: array([0, 1, 0, 0, 0, 0, 0, 0], dtype=uint8),\n",
       " 65: array([0, 1, 0, 0, 0, 0, 0, 1], dtype=uint8),\n",
       " 66: array([0, 1, 0, 0, 0, 0, 1, 0], dtype=uint8),\n",
       " 67: array([0, 1, 0, 0, 0, 0, 1, 1], dtype=uint8),\n",
       " 68: array([0, 1, 0, 0, 0, 1, 0, 0], dtype=uint8),\n",
       " 69: array([0, 1, 0, 0, 0, 1, 0, 1], dtype=uint8),\n",
       " 70: array([0, 1, 0, 0, 0, 1, 1, 0], dtype=uint8),\n",
       " 71: array([0, 1, 0, 0, 0, 1, 1, 1], dtype=uint8),\n",
       " 72: array([0, 1, 0, 0, 1, 0, 0, 0], dtype=uint8),\n",
       " 73: array([0, 1, 0, 0, 1, 0, 0, 1], dtype=uint8),\n",
       " 74: array([0, 1, 0, 0, 1, 0, 1, 0], dtype=uint8),\n",
       " 75: array([0, 1, 0, 0, 1, 0, 1, 1], dtype=uint8),\n",
       " 76: array([0, 1, 0, 0, 1, 1, 0, 0], dtype=uint8),\n",
       " 77: array([0, 1, 0, 0, 1, 1, 0, 1], dtype=uint8),\n",
       " 78: array([0, 1, 0, 0, 1, 1, 1, 0], dtype=uint8),\n",
       " 79: array([0, 1, 0, 0, 1, 1, 1, 1], dtype=uint8),\n",
       " 80: array([0, 1, 0, 1, 0, 0, 0, 0], dtype=uint8),\n",
       " 81: array([0, 1, 0, 1, 0, 0, 0, 1], dtype=uint8),\n",
       " 82: array([0, 1, 0, 1, 0, 0, 1, 0], dtype=uint8),\n",
       " 83: array([0, 1, 0, 1, 0, 0, 1, 1], dtype=uint8),\n",
       " 84: array([0, 1, 0, 1, 0, 1, 0, 0], dtype=uint8),\n",
       " 85: array([0, 1, 0, 1, 0, 1, 0, 1], dtype=uint8),\n",
       " 86: array([0, 1, 0, 1, 0, 1, 1, 0], dtype=uint8),\n",
       " 87: array([0, 1, 0, 1, 0, 1, 1, 1], dtype=uint8),\n",
       " 88: array([0, 1, 0, 1, 1, 0, 0, 0], dtype=uint8),\n",
       " 89: array([0, 1, 0, 1, 1, 0, 0, 1], dtype=uint8),\n",
       " 90: array([0, 1, 0, 1, 1, 0, 1, 0], dtype=uint8),\n",
       " 91: array([0, 1, 0, 1, 1, 0, 1, 1], dtype=uint8),\n",
       " 92: array([0, 1, 0, 1, 1, 1, 0, 0], dtype=uint8),\n",
       " 93: array([0, 1, 0, 1, 1, 1, 0, 1], dtype=uint8),\n",
       " 94: array([0, 1, 0, 1, 1, 1, 1, 0], dtype=uint8),\n",
       " 95: array([0, 1, 0, 1, 1, 1, 1, 1], dtype=uint8),\n",
       " 96: array([0, 1, 1, 0, 0, 0, 0, 0], dtype=uint8),\n",
       " 97: array([0, 1, 1, 0, 0, 0, 0, 1], dtype=uint8),\n",
       " 98: array([0, 1, 1, 0, 0, 0, 1, 0], dtype=uint8),\n",
       " 99: array([0, 1, 1, 0, 0, 0, 1, 1], dtype=uint8),\n",
       " 100: array([0, 1, 1, 0, 0, 1, 0, 0], dtype=uint8),\n",
       " 101: array([0, 1, 1, 0, 0, 1, 0, 1], dtype=uint8),\n",
       " 102: array([0, 1, 1, 0, 0, 1, 1, 0], dtype=uint8),\n",
       " 103: array([0, 1, 1, 0, 0, 1, 1, 1], dtype=uint8),\n",
       " 104: array([0, 1, 1, 0, 1, 0, 0, 0], dtype=uint8),\n",
       " 105: array([0, 1, 1, 0, 1, 0, 0, 1], dtype=uint8),\n",
       " 106: array([0, 1, 1, 0, 1, 0, 1, 0], dtype=uint8),\n",
       " 107: array([0, 1, 1, 0, 1, 0, 1, 1], dtype=uint8),\n",
       " 108: array([0, 1, 1, 0, 1, 1, 0, 0], dtype=uint8),\n",
       " 109: array([0, 1, 1, 0, 1, 1, 0, 1], dtype=uint8),\n",
       " 110: array([0, 1, 1, 0, 1, 1, 1, 0], dtype=uint8),\n",
       " 111: array([0, 1, 1, 0, 1, 1, 1, 1], dtype=uint8),\n",
       " 112: array([0, 1, 1, 1, 0, 0, 0, 0], dtype=uint8),\n",
       " 113: array([0, 1, 1, 1, 0, 0, 0, 1], dtype=uint8),\n",
       " 114: array([0, 1, 1, 1, 0, 0, 1, 0], dtype=uint8),\n",
       " 115: array([0, 1, 1, 1, 0, 0, 1, 1], dtype=uint8),\n",
       " 116: array([0, 1, 1, 1, 0, 1, 0, 0], dtype=uint8),\n",
       " 117: array([0, 1, 1, 1, 0, 1, 0, 1], dtype=uint8),\n",
       " 118: array([0, 1, 1, 1, 0, 1, 1, 0], dtype=uint8),\n",
       " 119: array([0, 1, 1, 1, 0, 1, 1, 1], dtype=uint8),\n",
       " 120: array([0, 1, 1, 1, 1, 0, 0, 0], dtype=uint8),\n",
       " 121: array([0, 1, 1, 1, 1, 0, 0, 1], dtype=uint8),\n",
       " 122: array([0, 1, 1, 1, 1, 0, 1, 0], dtype=uint8),\n",
       " 123: array([0, 1, 1, 1, 1, 0, 1, 1], dtype=uint8),\n",
       " 124: array([0, 1, 1, 1, 1, 1, 0, 0], dtype=uint8),\n",
       " 125: array([0, 1, 1, 1, 1, 1, 0, 1], dtype=uint8),\n",
       " 126: array([0, 1, 1, 1, 1, 1, 1, 0], dtype=uint8),\n",
       " 127: array([0, 1, 1, 1, 1, 1, 1, 1], dtype=uint8),\n",
       " 128: array([1, 0, 0, 0, 0, 0, 0, 0], dtype=uint8),\n",
       " 129: array([1, 0, 0, 0, 0, 0, 0, 1], dtype=uint8),\n",
       " 130: array([1, 0, 0, 0, 0, 0, 1, 0], dtype=uint8),\n",
       " 131: array([1, 0, 0, 0, 0, 0, 1, 1], dtype=uint8),\n",
       " 132: array([1, 0, 0, 0, 0, 1, 0, 0], dtype=uint8),\n",
       " 133: array([1, 0, 0, 0, 0, 1, 0, 1], dtype=uint8),\n",
       " 134: array([1, 0, 0, 0, 0, 1, 1, 0], dtype=uint8),\n",
       " 135: array([1, 0, 0, 0, 0, 1, 1, 1], dtype=uint8),\n",
       " 136: array([1, 0, 0, 0, 1, 0, 0, 0], dtype=uint8),\n",
       " 137: array([1, 0, 0, 0, 1, 0, 0, 1], dtype=uint8),\n",
       " 138: array([1, 0, 0, 0, 1, 0, 1, 0], dtype=uint8),\n",
       " 139: array([1, 0, 0, 0, 1, 0, 1, 1], dtype=uint8),\n",
       " 140: array([1, 0, 0, 0, 1, 1, 0, 0], dtype=uint8),\n",
       " 141: array([1, 0, 0, 0, 1, 1, 0, 1], dtype=uint8),\n",
       " 142: array([1, 0, 0, 0, 1, 1, 1, 0], dtype=uint8),\n",
       " 143: array([1, 0, 0, 0, 1, 1, 1, 1], dtype=uint8),\n",
       " 144: array([1, 0, 0, 1, 0, 0, 0, 0], dtype=uint8),\n",
       " 145: array([1, 0, 0, 1, 0, 0, 0, 1], dtype=uint8),\n",
       " 146: array([1, 0, 0, 1, 0, 0, 1, 0], dtype=uint8),\n",
       " 147: array([1, 0, 0, 1, 0, 0, 1, 1], dtype=uint8),\n",
       " 148: array([1, 0, 0, 1, 0, 1, 0, 0], dtype=uint8),\n",
       " 149: array([1, 0, 0, 1, 0, 1, 0, 1], dtype=uint8),\n",
       " 150: array([1, 0, 0, 1, 0, 1, 1, 0], dtype=uint8),\n",
       " 151: array([1, 0, 0, 1, 0, 1, 1, 1], dtype=uint8),\n",
       " 152: array([1, 0, 0, 1, 1, 0, 0, 0], dtype=uint8),\n",
       " 153: array([1, 0, 0, 1, 1, 0, 0, 1], dtype=uint8),\n",
       " 154: array([1, 0, 0, 1, 1, 0, 1, 0], dtype=uint8),\n",
       " 155: array([1, 0, 0, 1, 1, 0, 1, 1], dtype=uint8),\n",
       " 156: array([1, 0, 0, 1, 1, 1, 0, 0], dtype=uint8),\n",
       " 157: array([1, 0, 0, 1, 1, 1, 0, 1], dtype=uint8),\n",
       " 158: array([1, 0, 0, 1, 1, 1, 1, 0], dtype=uint8),\n",
       " 159: array([1, 0, 0, 1, 1, 1, 1, 1], dtype=uint8),\n",
       " 160: array([1, 0, 1, 0, 0, 0, 0, 0], dtype=uint8),\n",
       " 161: array([1, 0, 1, 0, 0, 0, 0, 1], dtype=uint8),\n",
       " 162: array([1, 0, 1, 0, 0, 0, 1, 0], dtype=uint8),\n",
       " 163: array([1, 0, 1, 0, 0, 0, 1, 1], dtype=uint8),\n",
       " 164: array([1, 0, 1, 0, 0, 1, 0, 0], dtype=uint8),\n",
       " 165: array([1, 0, 1, 0, 0, 1, 0, 1], dtype=uint8),\n",
       " 166: array([1, 0, 1, 0, 0, 1, 1, 0], dtype=uint8),\n",
       " 167: array([1, 0, 1, 0, 0, 1, 1, 1], dtype=uint8),\n",
       " 168: array([1, 0, 1, 0, 1, 0, 0, 0], dtype=uint8),\n",
       " 169: array([1, 0, 1, 0, 1, 0, 0, 1], dtype=uint8),\n",
       " 170: array([1, 0, 1, 0, 1, 0, 1, 0], dtype=uint8),\n",
       " 171: array([1, 0, 1, 0, 1, 0, 1, 1], dtype=uint8),\n",
       " 172: array([1, 0, 1, 0, 1, 1, 0, 0], dtype=uint8),\n",
       " 173: array([1, 0, 1, 0, 1, 1, 0, 1], dtype=uint8),\n",
       " 174: array([1, 0, 1, 0, 1, 1, 1, 0], dtype=uint8),\n",
       " 175: array([1, 0, 1, 0, 1, 1, 1, 1], dtype=uint8),\n",
       " 176: array([1, 0, 1, 1, 0, 0, 0, 0], dtype=uint8),\n",
       " 177: array([1, 0, 1, 1, 0, 0, 0, 1], dtype=uint8),\n",
       " 178: array([1, 0, 1, 1, 0, 0, 1, 0], dtype=uint8),\n",
       " 179: array([1, 0, 1, 1, 0, 0, 1, 1], dtype=uint8),\n",
       " 180: array([1, 0, 1, 1, 0, 1, 0, 0], dtype=uint8),\n",
       " 181: array([1, 0, 1, 1, 0, 1, 0, 1], dtype=uint8),\n",
       " 182: array([1, 0, 1, 1, 0, 1, 1, 0], dtype=uint8),\n",
       " 183: array([1, 0, 1, 1, 0, 1, 1, 1], dtype=uint8),\n",
       " 184: array([1, 0, 1, 1, 1, 0, 0, 0], dtype=uint8),\n",
       " 185: array([1, 0, 1, 1, 1, 0, 0, 1], dtype=uint8),\n",
       " 186: array([1, 0, 1, 1, 1, 0, 1, 0], dtype=uint8),\n",
       " 187: array([1, 0, 1, 1, 1, 0, 1, 1], dtype=uint8),\n",
       " 188: array([1, 0, 1, 1, 1, 1, 0, 0], dtype=uint8),\n",
       " 189: array([1, 0, 1, 1, 1, 1, 0, 1], dtype=uint8),\n",
       " 190: array([1, 0, 1, 1, 1, 1, 1, 0], dtype=uint8),\n",
       " 191: array([1, 0, 1, 1, 1, 1, 1, 1], dtype=uint8),\n",
       " 192: array([1, 1, 0, 0, 0, 0, 0, 0], dtype=uint8),\n",
       " 193: array([1, 1, 0, 0, 0, 0, 0, 1], dtype=uint8),\n",
       " 194: array([1, 1, 0, 0, 0, 0, 1, 0], dtype=uint8),\n",
       " 195: array([1, 1, 0, 0, 0, 0, 1, 1], dtype=uint8),\n",
       " 196: array([1, 1, 0, 0, 0, 1, 0, 0], dtype=uint8),\n",
       " 197: array([1, 1, 0, 0, 0, 1, 0, 1], dtype=uint8),\n",
       " 198: array([1, 1, 0, 0, 0, 1, 1, 0], dtype=uint8),\n",
       " 199: array([1, 1, 0, 0, 0, 1, 1, 1], dtype=uint8),\n",
       " 200: array([1, 1, 0, 0, 1, 0, 0, 0], dtype=uint8),\n",
       " 201: array([1, 1, 0, 0, 1, 0, 0, 1], dtype=uint8),\n",
       " 202: array([1, 1, 0, 0, 1, 0, 1, 0], dtype=uint8),\n",
       " 203: array([1, 1, 0, 0, 1, 0, 1, 1], dtype=uint8),\n",
       " 204: array([1, 1, 0, 0, 1, 1, 0, 0], dtype=uint8),\n",
       " 205: array([1, 1, 0, 0, 1, 1, 0, 1], dtype=uint8),\n",
       " 206: array([1, 1, 0, 0, 1, 1, 1, 0], dtype=uint8),\n",
       " 207: array([1, 1, 0, 0, 1, 1, 1, 1], dtype=uint8),\n",
       " 208: array([1, 1, 0, 1, 0, 0, 0, 0], dtype=uint8),\n",
       " 209: array([1, 1, 0, 1, 0, 0, 0, 1], dtype=uint8),\n",
       " 210: array([1, 1, 0, 1, 0, 0, 1, 0], dtype=uint8),\n",
       " 211: array([1, 1, 0, 1, 0, 0, 1, 1], dtype=uint8),\n",
       " 212: array([1, 1, 0, 1, 0, 1, 0, 0], dtype=uint8),\n",
       " 213: array([1, 1, 0, 1, 0, 1, 0, 1], dtype=uint8),\n",
       " 214: array([1, 1, 0, 1, 0, 1, 1, 0], dtype=uint8),\n",
       " 215: array([1, 1, 0, 1, 0, 1, 1, 1], dtype=uint8),\n",
       " 216: array([1, 1, 0, 1, 1, 0, 0, 0], dtype=uint8),\n",
       " 217: array([1, 1, 0, 1, 1, 0, 0, 1], dtype=uint8),\n",
       " 218: array([1, 1, 0, 1, 1, 0, 1, 0], dtype=uint8),\n",
       " 219: array([1, 1, 0, 1, 1, 0, 1, 1], dtype=uint8),\n",
       " 220: array([1, 1, 0, 1, 1, 1, 0, 0], dtype=uint8),\n",
       " 221: array([1, 1, 0, 1, 1, 1, 0, 1], dtype=uint8),\n",
       " 222: array([1, 1, 0, 1, 1, 1, 1, 0], dtype=uint8),\n",
       " 223: array([1, 1, 0, 1, 1, 1, 1, 1], dtype=uint8),\n",
       " 224: array([1, 1, 1, 0, 0, 0, 0, 0], dtype=uint8),\n",
       " 225: array([1, 1, 1, 0, 0, 0, 0, 1], dtype=uint8),\n",
       " 226: array([1, 1, 1, 0, 0, 0, 1, 0], dtype=uint8),\n",
       " 227: array([1, 1, 1, 0, 0, 0, 1, 1], dtype=uint8),\n",
       " 228: array([1, 1, 1, 0, 0, 1, 0, 0], dtype=uint8),\n",
       " 229: array([1, 1, 1, 0, 0, 1, 0, 1], dtype=uint8),\n",
       " 230: array([1, 1, 1, 0, 0, 1, 1, 0], dtype=uint8),\n",
       " 231: array([1, 1, 1, 0, 0, 1, 1, 1], dtype=uint8),\n",
       " 232: array([1, 1, 1, 0, 1, 0, 0, 0], dtype=uint8),\n",
       " 233: array([1, 1, 1, 0, 1, 0, 0, 1], dtype=uint8),\n",
       " 234: array([1, 1, 1, 0, 1, 0, 1, 0], dtype=uint8),\n",
       " 235: array([1, 1, 1, 0, 1, 0, 1, 1], dtype=uint8),\n",
       " 236: array([1, 1, 1, 0, 1, 1, 0, 0], dtype=uint8),\n",
       " 237: array([1, 1, 1, 0, 1, 1, 0, 1], dtype=uint8),\n",
       " 238: array([1, 1, 1, 0, 1, 1, 1, 0], dtype=uint8),\n",
       " 239: array([1, 1, 1, 0, 1, 1, 1, 1], dtype=uint8),\n",
       " 240: array([1, 1, 1, 1, 0, 0, 0, 0], dtype=uint8),\n",
       " 241: array([1, 1, 1, 1, 0, 0, 0, 1], dtype=uint8),\n",
       " 242: array([1, 1, 1, 1, 0, 0, 1, 0], dtype=uint8),\n",
       " 243: array([1, 1, 1, 1, 0, 0, 1, 1], dtype=uint8),\n",
       " 244: array([1, 1, 1, 1, 0, 1, 0, 0], dtype=uint8),\n",
       " 245: array([1, 1, 1, 1, 0, 1, 0, 1], dtype=uint8),\n",
       " 246: array([1, 1, 1, 1, 0, 1, 1, 0], dtype=uint8),\n",
       " 247: array([1, 1, 1, 1, 0, 1, 1, 1], dtype=uint8),\n",
       " 248: array([1, 1, 1, 1, 1, 0, 0, 0], dtype=uint8),\n",
       " 249: array([1, 1, 1, 1, 1, 0, 0, 1], dtype=uint8),\n",
       " 250: array([1, 1, 1, 1, 1, 0, 1, 0], dtype=uint8),\n",
       " 251: array([1, 1, 1, 1, 1, 0, 1, 1], dtype=uint8),\n",
       " 252: array([1, 1, 1, 1, 1, 1, 0, 0], dtype=uint8),\n",
       " 253: array([1, 1, 1, 1, 1, 1, 0, 1], dtype=uint8),\n",
       " 254: array([1, 1, 1, 1, 1, 1, 1, 0], dtype=uint8),\n",
       " 255: array([1, 1, 1, 1, 1, 1, 1, 1], dtype=uint8)}"
      ]
     },
     "metadata": {},
     "output_type": "display_data"
    }
   ],
   "source": [
    "# генерация тренировочного датасета\n",
    "int2binary = {}\n",
    "binary_dim = 8\n",
    "\n",
    "largest_number = pow(2, binary_dim)\n",
    "binary = np.unpackbits(\n",
    "    np.array([np.arange(largest_number, dtype=np.uint8)]).T,\n",
    "    axis=1\n",
    ")\n",
    "\n",
    "for i in range(largest_number):\n",
    "    int2binary[i] = binary[i]\n",
    "\n",
    "display(binary, int2binary)"
   ]
  },
  {
   "cell_type": "markdown",
   "metadata": {
    "id": "eG9jFpiDfjmO"
   },
   "source": [
    "Сначала рассмотрим всё по отдельности."
   ]
  },
  {
   "cell_type": "code",
   "execution_count": null,
   "metadata": {
    "id": "IG_pMZc9fpKq"
   },
   "outputs": [],
   "source": [
    "# входные переменные\n",
    "learning_rate = 1\n",
    "input_dim = 2\n",
    "hidden_dim = 16\n",
    "output_dim = 1\n",
    "\n",
    "\n",
    "# инициализация весов нейронной сети\n",
    "weigths_0 = np.random.random((input_dim, hidden_dim))\n",
    "weigths_1 = np.random.random((hidden_dim, output_dim))\n",
    "weigths_h = np.random.random((hidden_dim, hidden_dim))\n",
    "\n",
    "weigths_0_update = np.zeros_like(weigths_0)\n",
    "weigths_1_update = np.zeros_like(weigths_1)\n",
    "weigths_h_update = np.zeros_like(weigths_h)"
   ]
  },
  {
   "cell_type": "markdown",
   "metadata": {
    "id": "23JC4-cAgQrd"
   },
   "source": [
    "Берем случайный объект для обучения."
   ]
  },
  {
   "cell_type": "code",
   "execution_count": null,
   "metadata": {
    "colab": {
     "base_uri": "https://localhost:8080/"
    },
    "id": "yh7dJhLwgMze",
    "outputId": "d2df444a-6d38-40b1-8f3f-3b2512320b6a"
   },
   "outputs": [
    {
     "name": "stdout",
     "output_type": "stream",
     "text": [
      "a    [0 0 0 0 1 0 0 1]\n",
      "b    [0 0 1 1 1 1 0 0]\n",
      "true [0 1 0 0 0 1 0 1]\n"
     ]
    }
   ],
   "source": [
    "# генерация простой проблемы сложения (a + b = true)\n",
    "a_int = np.random.randint(largest_number / 2) # int version\n",
    "a = int2binary[a_int] # бинарное кодирование\n",
    "\n",
    "b_int = np.random.randint(largest_number / 2) # int version\n",
    "b = int2binary[b_int] # бинарное кодирование\n",
    "\n",
    "# правильный ответ\n",
    "true_int = a_int + b_int\n",
    "true = int2binary[true_int]\n",
    "\n",
    "# место где мы располагаем наши лучше результаты (бинарно закодированные)\n",
    "pred = np.zeros_like(true)\n",
    "\n",
    "overallError = 0\n",
    "\n",
    "output_grads = []\n",
    "h_values = []\n",
    "h_values.append(np.zeros(hidden_dim))\n",
    "print('a   ', a)\n",
    "print('b   ', b)\n",
    "print('true', true)"
   ]
  },
  {
   "cell_type": "markdown",
   "metadata": {
    "id": "J-oo3IKXgJgw"
   },
   "source": [
    "<img src='https://drive.google.com/uc?export=view&id=1NCfOdVRM6A1oWLxljFQVb3ldFtuoOZP8'>\n",
    "\n",
    "\n",
    "$$h_t = \\sigma(W_{xh}x_t + W_{hh}h_{t-1} + b_h)$$\n",
    "$$y_t = W_{hy}h_t + b_y$$"
   ]
  },
  {
   "cell_type": "markdown",
   "metadata": {
    "id": "lBddPCJEgaeG"
   },
   "source": [
    "Рассмотрим Forward pass."
   ]
  },
  {
   "cell_type": "code",
   "execution_count": null,
   "metadata": {
    "colab": {
     "base_uri": "https://localhost:8080/"
    },
    "id": "mRwRdelAfmdD",
    "outputId": "f76eb6cb-ceef-456d-9a1e-44784f0cafc0"
   },
   "outputs": [
    {
     "name": "stdout",
     "output_type": "stream",
     "text": [
      "a    [0 0 0 0 1 0 0 1]\n",
      "b    [0 0 1 1 1 1 0 0]\n",
      "true [0 1 0 0 0 1 0 1]\n",
      "X [[1 0]]\n",
      "y [[1]]\n",
      "h [0. 0. 0. 0. 0. 0. 0. 0. 0. 0. 0. 0. 0. 0. 0. 0.]\n",
      "(1, 16)\n",
      "output [[0.99347749]]\n",
      "output_error [[-0.00652251]]\n",
      "================================\n",
      "X [[0 0]]\n",
      "y [[0]]\n",
      "h [[0.63386027 0.6715468  0.64628827 0.63294764 0.60435748 0.65608461\n",
      "  0.60768396 0.70925592 0.72385455 0.59470289 0.68820161 0.62922533\n",
      "  0.63831185 0.71618109 0.51775155 0.52176856]]\n",
      "(1, 16)\n",
      "output [[0.99953702]]\n",
      "output_error [[0.99953702]]\n",
      "================================\n",
      "X [[0 1]]\n",
      "y [[1]]\n",
      "h [[0.99315525 0.99650619 0.99824672 0.98099711 0.99862104 0.98677456\n",
      "  0.98507713 0.994029   0.9945905  0.99653362 0.99466009 0.99395418\n",
      "  0.98778101 0.99050618 0.99455284 0.98371131]]\n",
      "(1, 16)\n",
      "output [[0.99956667]]\n",
      "output_error [[-0.00043333]]\n",
      "================================\n",
      "X [[1 1]]\n",
      "y [[0]]\n",
      "h [[0.99956192 0.99993906 0.99997081 0.99920254 0.99998876 0.99948335\n",
      "  0.99917311 0.99984328 0.99966581 0.99993042 0.99977123 0.99986292\n",
      "  0.99940046 0.99953657 0.99976708 0.99914108]]\n",
      "(1, 16)\n",
      "output [[0.9995673]]\n",
      "output_error [[0.9995673]]\n",
      "================================\n",
      "X [[0 1]]\n",
      "y [[0]]\n",
      "h [[0.99976386 0.99997196 0.99998515 0.99955723 0.99999321 0.9997429\n",
      "  0.99949317 0.99994006 0.9998786  0.9999559  0.9999028  0.99992494\n",
      "  0.99968166 0.99982839 0.99979705 0.99925392]]\n",
      "(1, 16)\n",
      "output [[0.99956675]]\n",
      "output_error [[0.99956675]]\n",
      "================================\n",
      "X [[0 1]]\n",
      "y [[0]]\n",
      "h [[0.99959185 0.99994273 0.99997291 0.99923736 0.99998964 0.99951015\n",
      "  0.99921588 0.999854   0.99968218 0.99993538 0.99978573 0.99987281\n",
      "  0.99943902 0.99956765 0.99978242 0.99918695]]\n",
      "(1, 16)\n",
      "output [[0.99956675]]\n",
      "output_error [[0.99956675]]\n",
      "================================\n",
      "X [[0 0]]\n",
      "y [[1]]\n",
      "h [[0.99959135 0.99994267 0.99997287 0.99923682 0.99998962 0.99950972\n",
      "  0.99921525 0.99985382 0.99968187 0.9999353  0.99978553 0.99987265\n",
      "  0.99943842 0.99956716 0.99978216 0.99918616]]\n",
      "(1, 16)\n",
      "output [[0.99956578]]\n",
      "output_error [[-0.00043422]]\n",
      "================================\n",
      "X [[0 0]]\n",
      "y [[0]]\n",
      "h [[0.999583   0.99986819 0.99994093 0.99818026 0.99997239 0.99891043\n",
      "  0.99875563 0.99968099 0.99964195 0.99987732 0.99975247 0.99967252\n",
      "  0.99905402 0.99934489 0.9997162  0.9982365 ]]\n",
      "(1, 16)\n",
      "output [[0.99956577]]\n",
      "output_error [[0.99956577]]\n",
      "================================\n"
     ]
    }
   ],
   "source": [
    "# FORWARD\n",
    "print('a   ', a)\n",
    "print('b   ', b)\n",
    "print('true', true)\n",
    "for position in range(binary_dim):\n",
    "    \n",
    "    # генерация input и output\n",
    "    X = np.array([[a[binary_dim - position - 1], \n",
    "                   b[binary_dim - position - 1]]])\n",
    "    print('X', X)\n",
    "    y = np.array([[true[binary_dim - position - 1]]]).T\n",
    "    print('y', y)\n",
    "    \n",
    "    print('h', h_values[-1])\n",
    "    # внутренний слой (input + предыдущий внутренний)\n",
    "    h = sigmoid(\n",
    "        np.dot(X, weigths_0) + np.dot(h_values[-1], weigths_h)\n",
    "    )\n",
    "    print(h.shape)\n",
    "    # output layer (новое бинарное представление)\n",
    "    output = sigmoid(\n",
    "        np.dot(h, weigths_1)\n",
    "    )\n",
    "    print('output', output)\n",
    "    # проверка упустили ли мы что-то и если да, то как много \n",
    "    output_error = output - y\n",
    "    print('output_error', output_error)\n",
    "\n",
    "    output_grads.append(\n",
    "        output_error * sigmoid_deriv(output)\n",
    "    )\n",
    "\n",
    "    # декодируем оценку\n",
    "    pred[binary_dim - position - 1] = np.round(output[0][0])\n",
    "    \n",
    "    # сохраняем внутренний слой,\n",
    "    # чтобы могли его использовать в след. итерации\n",
    "    h_values.append(copy.deepcopy(h))\n",
    "    print('=' * 32)"
   ]
  },
  {
   "cell_type": "markdown",
   "metadata": {
    "id": "sfwKmGxDiDAR"
   },
   "source": [
    "Рассмотрим Backward pass.\n",
    "\n",
    "<img src='https://drive.google.com/uc?export=view&id=1NCfOdVRM6A1oWLxljFQVb3ldFtuoOZP8'>\n",
    "\n",
    "$$h_t = \\sigma(W_{xh}x_t + W_{hh}h_{t-1} + b_h)$$\n",
    "$$y_t = W_{hy}h_t + b_y$$"
   ]
  },
  {
   "cell_type": "code",
   "execution_count": null,
   "metadata": {
    "colab": {
     "base_uri": "https://localhost:8080/"
    },
    "id": "5j1svmdKiFsv",
    "outputId": "668fd565-d98a-4627-c318-3ba8309afb33"
   },
   "outputs": [
    {
     "name": "stdout",
     "output_type": "stream",
     "text": [
      "a    [0 0 0 0 1 0 0 1]\n",
      "b    [0 0 1 1 1 1 0 0]\n",
      "true [0 1 0 0 0 1 0 1]\n",
      "pred [1 1 1 1 1 1 1 1]\n",
      "X [[0 0]]\n",
      "X [[0 0]]\n",
      "X [[0 1]]\n",
      "X [[0 1]]\n",
      "X [[1 1]]\n",
      "X [[0 1]]\n",
      "X [[0 0]]\n",
      "X [[1 0]]\n"
     ]
    }
   ],
   "source": [
    "future_h_grad = np.zeros(hidden_dim)\n",
    "\n",
    "print('a   ', a)\n",
    "print('b   ', b)\n",
    "print('true', true)\n",
    "print('pred', pred)\n",
    "\n",
    "# BACKWARD\n",
    "for position in range(binary_dim):\n",
    "    \n",
    "    X = np.array([[a[position], b[position]]])\n",
    "    print('X', X)\n",
    "    h = h_values[-position - 1]\n",
    "    prev_h = h_values[-position - 2]\n",
    "    \n",
    "    # величина ошибки в output layer\n",
    "    output_grad = output_grads[-position - 1]\n",
    "\n",
    "    # величина ошибки в hidden layer\n",
    "    h_grad = (\n",
    "        future_h_grad.dot(weigths_h.T) \\\n",
    "        + output_grad.dot(weigths_1.T) \\\n",
    "    ) * sigmoid_deriv(h)\n",
    "\n",
    "    # обновление всех весов\n",
    "    weigths_1_update += np.atleast_2d(h).T @ output_grad\n",
    "    weigths_h_update += np.atleast_2d(prev_h).T @ h_grad\n",
    "    weigths_0_update += X.T @ h_grad\n",
    "    \n",
    "    future_h_grad = h_grad.copy()\n",
    "\n",
    "\n",
    "weigths_0 -= weigths_0_update * learning_rate\n",
    "weigths_1 -= weigths_1_update * learning_rate\n",
    "weigths_h -= weigths_h_update * learning_rate    "
   ]
  },
  {
   "cell_type": "markdown",
   "metadata": {
    "id": "ImDA24GwjWQh"
   },
   "source": [
    "Все вместе."
   ]
  },
  {
   "cell_type": "code",
   "execution_count": null,
   "metadata": {
    "colab": {
     "base_uri": "https://localhost:8080/"
    },
    "id": "0gsK53stQdGA",
    "outputId": "70f74655-ff43-4857-bde7-482009e4d793"
   },
   "outputs": [
    {
     "name": "stdout",
     "output_type": "stream",
     "text": [
      "Error: [1.99600086]\n",
      "Pred: [1 1 1 1 1 1 1 1]\n",
      "True: [1 0 1 1 1 1 1 0]\n",
      "123 + 67 = 255\n",
      "------------\n",
      "Error: [2.43387483]\n",
      "Pred: [0 0 0 0 0 0 0 0]\n",
      "True: [0 1 0 1 0 0 0 0]\n",
      "38 + 42 = 0\n",
      "------------\n",
      "Error: [2.12270501]\n",
      "Pred: [1 1 1 1 1 1 1 1]\n",
      "True: [1 0 0 1 1 1 1 1]\n",
      "37 + 122 = 255\n",
      "------------\n",
      "Error: [3.53591294]\n",
      "Pred: [1 0 0 0 0 0 1 1]\n",
      "True: [1 0 1 1 1 0 1 0]\n",
      "124 + 62 = 131\n",
      "------------\n",
      "Error: [0.19332125]\n",
      "Pred: [0 1 1 0 1 1 0 0]\n",
      "True: [0 1 1 0 1 1 0 0]\n",
      "0 + 108 = 108\n",
      "------------\n",
      "Error: [0.08303137]\n",
      "Pred: [1 0 0 0 1 1 0 0]\n",
      "True: [1 0 0 0 1 1 0 0]\n",
      "76 + 64 = 140\n",
      "------------\n",
      "Error: [0.36374014]\n",
      "Pred: [0 0 1 0 1 1 1 1]\n",
      "True: [0 0 1 0 1 1 1 1]\n",
      "47 + 0 = 47\n",
      "------------\n",
      "Error: [0.14596281]\n",
      "Pred: [0 0 0 0 1 0 1 1]\n",
      "True: [0 0 0 0 1 0 1 1]\n",
      "1 + 10 = 11\n",
      "------------\n",
      "Error: [0.12788186]\n",
      "Pred: [1 1 0 0 0 0 1 0]\n",
      "True: [1 1 0 0 0 0 1 0]\n",
      "74 + 120 = 194\n",
      "------------\n",
      "Error: [0.10058878]\n",
      "Pred: [0 1 0 0 1 0 1 0]\n",
      "True: [0 1 0 0 1 0 1 0]\n",
      "52 + 22 = 74\n",
      "------------\n"
     ]
    }
   ],
   "source": [
    "# входные переменные\n",
    "learning_rate = 1\n",
    "input_dim = 2\n",
    "hidden_dim = 16\n",
    "output_dim = 1\n",
    "\n",
    "\n",
    "# инициализация весов нейронной сети\n",
    "weigths_0 = np.random.random((input_dim, hidden_dim))\n",
    "weigths_1 = np.random.random((hidden_dim, output_dim))\n",
    "weigths_h = np.random.random((hidden_dim, hidden_dim))\n",
    "\n",
    "weigths_0_update = np.zeros_like(weigths_0)\n",
    "weigths_1_update = np.zeros_like(weigths_1)\n",
    "weigths_h_update = np.zeros_like(weigths_h)\n",
    "\n",
    "\n",
    "# тренировочная логика\n",
    "for j in range(10000):\n",
    "    \n",
    "    # генерация простой проблемы сложения (a + b = true)\n",
    "    a_int = np.random.randint(largest_number / 2) # int version\n",
    "    a = int2binary[a_int] # бинарное кодирование\n",
    "\n",
    "    b_int = np.random.randint(largest_number / 2) # int version\n",
    "    b = int2binary[b_int] # бинарное кодирование\n",
    "\n",
    "    # правильный ответ\n",
    "    true_int = a_int + b_int\n",
    "    true = int2binary[true_int]\n",
    "    \n",
    "    # место где мы располагаем наши лучше результаты (бинарно закодированные)\n",
    "    pred = np.zeros_like(true)\n",
    "\n",
    "    overallError = 0\n",
    "    \n",
    "    output_grads = []\n",
    "    h_values = []\n",
    "    h_values.append(np.zeros(hidden_dim))\n",
    "    \n",
    "    # FORWARD\n",
    "    for position in range(binary_dim):\n",
    "        \n",
    "        # генерация input и output\n",
    "        X = np.array([[a[binary_dim - position - 1], \n",
    "                       b[binary_dim - position - 1]]])\n",
    "    \n",
    "        y = np.array([[true[binary_dim - position - 1]]]).T\n",
    "      \n",
    "        # внутренний слой (input + предыдущий внутренний)\n",
    "        h = sigmoid(\n",
    "            np.dot(X, weigths_0) + np.dot(h_values[-1], weigths_h)\n",
    "        )\n",
    "\n",
    "        # output layer (новое бинарное представление)\n",
    "        output = sigmoid(\n",
    "            np.dot(h, weigths_1)\n",
    "        )\n",
    "        \n",
    "        # проверка упустили ли мы что-то и если да, то как много \n",
    "        output_error = output - y\n",
    "        output_grads.append(\n",
    "            output_error * sigmoid_deriv(output)\n",
    "        )\n",
    "        overallError += np.abs(output_error[0])\n",
    "    \n",
    "        # декодируем оценку\n",
    "        pred[binary_dim - position - 1] = np.round(output[0][0])\n",
    "        \n",
    "        # сохраняем внутренний слой,\n",
    "        # чтобы могли его использовать в след. итерации\n",
    "        h_values.append(copy.deepcopy(h))\n",
    "    \n",
    "    future_h_grad = np.zeros(hidden_dim)\n",
    "    \n",
    "    # BACKWARD\n",
    "    for position in range(binary_dim):\n",
    "        \n",
    "        X = np.array([[a[position], b[position]]])\n",
    "        \n",
    "        h = h_values[-position - 1]\n",
    "        prev_h = h_values[-position - 2]\n",
    "        \n",
    "        # величина ошибки в output layer\n",
    "        output_grad = output_grads[-position - 1]\n",
    "\n",
    "        # величина ошибки в hidden layer\n",
    "        h_grad = (\n",
    "            future_h_grad.dot(weigths_h.T) \\\n",
    "            + output_grad.dot(weigths_1.T) \\\n",
    "        ) * sigmoid_deriv(h)\n",
    "\n",
    "        weigths_1_update += np.atleast_2d(h).T @ output_grad\n",
    "        weigths_h_update += np.atleast_2d(prev_h).T @ h_grad\n",
    "        weigths_0_update += X.T @ h_grad\n",
    "        \n",
    "        future_h_grad = h_grad.copy()\n",
    "    \n",
    "\n",
    "    weigths_0 -= weigths_0_update * learning_rate\n",
    "    weigths_1 -= weigths_1_update * learning_rate\n",
    "    weigths_h -= weigths_h_update * learning_rate    \n",
    "\n",
    "    weigths_0_update *= 0\n",
    "    weigths_1_update *= 0\n",
    "    weigths_h_update *= 0\n",
    "    \n",
    "    # вывод на экран процесса обучения\n",
    "    if (j % 1000 == 0):\n",
    "        print(f\"Error: {overallError}\")\n",
    "        print(f\"Pred: {pred}\")\n",
    "        print(f\"True: {true}\")\n",
    "        out = 0\n",
    "        for index, x in enumerate(reversed(pred)):\n",
    "            out += x * pow(2, index)\n",
    "        print(str(a_int) + \" + \" + str(b_int) + \" = \" + str(out))\n",
    "        print(\"------------\")"
   ]
  },
  {
   "cell_type": "markdown",
   "metadata": {
    "id": "iEdsRpQ0F7yZ"
   },
   "source": [
    "Еще раз посмотрим на примеры задач и с помощью каких архитектур это можно сделать.\n",
    "\n",
    "Задача многие к одному (тональность текста):\n",
    "\n",
    "<img src='https://drive.google.com/uc?export=view&id=1BznMVNlHauw88mRY-heBgjWZVwPAJ3HR' width=650>\n",
    "\n",
    "* FC - fully connected (полносвязный слой)\n",
    "\n",
    "Задача один ко многим (картинка в текст):\n",
    "\n",
    "<img src='https://drive.google.com/uc?export=view&id=1j82MOyIEvbm41iLu7ISzab7FMrsDpPgO' width=650>\n",
    "\n",
    "* ConvNet - convolutional net - свёрточный слой\n",
    "\n",
    "Задача многие ко многим (машинный перевод):\n",
    "\n",
    "<img src='https://drive.google.com/uc?export=view&id=1uOHQX8AnPGKY6HEDOTRJzVxCiKAHLoJy' width=650>\n",
    "\n",
    "Здесь можно заметить проблему, что предложения могут быть очень длинными, а нужно сжать всю информацию о предыдущих словах в один блок, который представляет собой внутренний слой - переходное состояние из кодировщика в декодировщика.\n"
   ]
  },
  {
   "cell_type": "markdown",
   "metadata": {
    "id": "8DWcOZbQTEO6"
   },
   "source": [
    "## Vanishing gradient problem - затухание градиентов\n",
    "\n",
    "Хотелось бы обрабатывать длинные последовательности текста и так же учитывать побольше контекста из предыдущих слов. (В конце предложении хорошо бы вспомнить, что происходило в начале предложения.)\n",
    "\n",
    "Из материалов по сверточным нейронным сетям нам известна проблема исчезающего градиента. В случае с большим количеством слоев значение градиента при последовательном обновлении большого количества слоев становится все меньше и может стать настолько маленьким, что не сможет в принципе существенно изменить поведение нейронов. В рекуррентных нейронных сетях из-за сигнала циркулирующего внутри слоев это проблема становится еще острее. Причем градиент может стать не только очень маленьким, но и очень большим.\n",
    "\n"
   ]
  },
  {
   "cell_type": "markdown",
   "metadata": {
    "id": "c9DPpDu5TEPB"
   },
   "source": [
    "## Long Short Term Memory (LSTM)"
   ]
  },
  {
   "cell_type": "markdown",
   "metadata": {
    "id": "t7Pz6SczTEPC"
   },
   "source": [
    "Решить проблему исчезающего градиента призвана разновидность RNN под названием LSTM.\n",
    "\n",
    "**Long short-term memory (LSTM) юниты** - это блоки, из которых состоят слои одной из разновидностей рекуррентной нейронной сети (RNN). Обычно LSTM юнит представляет из себя ячейку состоящую из input gate, output gate и forget gate. Эти ячейки отвественны за запоминания значений на определенные промежутки времени. RNN, состоящая из LSTM юнитов иногда называется просто LSTM. \n",
    "\n",
    "<img src='https://pbs.twimg.com/media/DVI6xZHVMAAjBVr.jpg' width=700>\n",
    "\n",
    "\n",
    "Здесь не просто распространяется сигнал, но и происходит управление размером влияния того, что приходит из предыдущего состояния. Каждый из этих элементов можно представить как типичный искусственный нейрон, который вычисляет активацию как взвешенную сумму. Их работа сводится к регуляции потока значений через блок LSTM, поэтому они и называются ворота или затворы (gate). Задача gate'ов - открыть пошире двери или закрыть её. Есть три gate:\n",
    "1. Input gate - gate входного сигнала обеспечивает возможность меньше влиять предыдущему состоянию на текущее состояние\n",
    "2. Output gate - gate выходного сигнала\n",
    "3. Forget gate - gate забывания управляет очисткой памяти, скоростью забывания предыдущего состояния. Хранить эту информацию данная ячейка может очень долго.\n",
    "\n",
    "\n",
    "Из-за этих настраиваемых параметров, LSTM более сложная модель по сравнению с RNN. Значит она требует больше времени, больше примеров."
   ]
  },
  {
   "cell_type": "markdown",
   "metadata": {
    "id": "d0N78xUu9o80"
   },
   "source": [
    "Понятие долгой памяти в названии возникло из-за того, что они могут запоминать информацию на более длинный период времени, чем обычная RNN. LSTM хорошо подходит для классификации процессов и предсказания временных последовательностей неизвестного размера и неизвестных промежутков между важными событиями. С технической точки зрения это достигается за счет ликвидации проблем связанных с exploding и vanishing gradient'ами. Ошибки сохраняются в самом слое, что позволяет передавать градиенты в следующие слои практически без потерь."
   ]
  },
  {
   "cell_type": "markdown",
   "metadata": {
    "id": "d2G1iE8tTEPI"
   },
   "source": [
    "### Компоненты LSTM.  \n",
    "Ниже приведен список компонентов из которых состоит ячейка LSTM:\n",
    "\n",
    "\n",
    "\n",
    "\n"
   ]
  },
  {
   "cell_type": "markdown",
   "metadata": {
    "id": "zimic5tDrMs3"
   },
   "source": [
    "Ключевой момент в LSTM - это **состояние ячейки** - горизонтальная линия сверху диаграммы. Сигнал протекает из ячейки в ячейку с небольшими линейными преобразования.\n",
    "\n",
    "<img src='https://drive.google.com/uc?export=view&id=1OCGD3pD59gatmH54ML8UEzv2OUvpU5Rf'>\n",
    "\n"
   ]
  },
  {
   "cell_type": "markdown",
   "metadata": {
    "id": "snNtXVicsEvt"
   },
   "source": [
    "У LSTM есть способность удалять или добавлять информацию в состояние ячейки с помощью gate'ов.\n",
    "\n",
    "Гейты пропускают информацию по возможности. Они состоят из сигмоиды и перемножения матриц. Выход с сигмоиды от 0 до 1 описывает с какой силой сигнал может пройти дальше. Значения 0 значит \"ничего не пройдет\", а 1 - \"пропускай всё\".\n",
    "\n",
    "У LSTM есть три гейта, чтобы сохранять и контролировать состояние ячейки."
   ]
  },
  {
   "cell_type": "markdown",
   "metadata": {
    "id": "SDZyDDREtgFF"
   },
   "source": [
    "**Forget gate**\n",
    "\n",
    "Первый шаг в LSTM - это решить, от какой информации мы хотим избавиться. Это решение принимает слой с сигмоидой, который называется \"forget gate layer.\" (гейт забывания). Он принимает во внимание $h_{t−1}$ и $x_t$, а на выходе даёт значение между 0 и 1 для каждого числа в состоянии ячейки $C_{t−1}$. 1 значит \"полностью сохрани это\", а 0 - \"полностью забудь это\".\n",
    "\n",
    "Пример забывания - языковая модель пытается предсказать следующее слово базируясь на предыдущих. Здесь модель может запоминать род объекта, чтобы использовать правильное образование слов. Когда мы видим новый объект, то нужно забыть род предыдущего объекта. *(Животное не переходило дорогу, потому что оно устало)*\n",
    "\n",
    "<img src='https://drive.google.com/uc?export=view&id=1oYGrHhH6y4_DtwRcKJDjzvYVChPEMblR'>"
   ]
  },
  {
   "cell_type": "markdown",
   "metadata": {
    "id": "sg2XTz8Bu2vq"
   },
   "source": [
    "**Input gate**\n",
    "\n",
    "Следующий шаг - решить, какую информацию мы должны хранить в состоянии ячейки. Шаг состоит из двух частей. Первая - слой сигмоиды, называемый \"input gate layer\" (входной гейт), который решает какие значения будут обновляться. Вторая - слой с тангенсом, который создает вектор значений $\\tilde{C}_t$, которые будут добавляться к состоянию ячейки.\n",
    "\n",
    "С примером языковой модели, мы бы хотели добавлять род нового объекта в состояние ячейки, чтобы заменить старый род, который мы забудем. *(Животное не переходило дорогу, потому что оно устало)*\n",
    "\n",
    "<img src='https://drive.google.com/uc?export=view&id=1kb4hs0Y1cLb55sl-iRPsxMuNzLlu5qXb'>"
   ]
  },
  {
   "cell_type": "markdown",
   "metadata": {
    "id": "XWAx-0CMwRMP"
   },
   "source": [
    "**Update cell state**\n",
    "\n",
    "Сейчас самое время, чтобы обновить старое состояние $C_{t−1}$ в новое состояние $C_t$. Предыдущие шаги уже решили, что делать, нужно только сделать это.\n",
    "\n",
    "Умножаем старое состояние на $f_t$, тем самым забывая те вещи, которые хотели забыть, затем прибавляем $i_t∗\\tilde{C_t}$. Это новое значение состояния ячейки, которое отмасштабировано в зависимоcти от того, насколько мы хотим обновить новое значение.\n",
    "\n",
    "В языковой модели, это момент, где мы выкидываем информацию о роде старого объекта и добавляем новую информацию о роде нового объекта. *(Животное не переходило дорогу, потому что оно устало)*\n",
    "\n",
    "\n",
    "<img src='https://drive.google.com/uc?export=view&id=1oKlTuYYRwdnvfMUQW0FjHRWgtHy0xl1M'>"
   ]
  },
  {
   "cell_type": "markdown",
   "metadata": {
    "id": "FuJxpzKLzviM"
   },
   "source": [
    "**Output gate**\n",
    "\n",
    "Наконец-то нам нужно решить, что мы отправим на выход. Выход будет базироваться на состоянии ячейки, но с небольшой фильтрацией. Во-первых, прогоним входной сигнал через сигмоиду, которая решает с какой силой дальше пропускать сигнал, во-вторых, прогоняем состояние ячейки через тангенс и умножаем это на сигмоиду, чтобы пропускать дальше только то, что мы решили пропустить.\n",
    "\n",
    "Для языковой модели, которая видит только объект, здесь можем пропустить информацию, связанную с глаголом. Например, на выходе может быть полезно число множественной или единственное у объекта, чтобы знать в какую форму нужно поставить глагол. *(Животное не переходило дорогу, потому что оно устало)*\n",
    "\n",
    "<img src='https://drive.google.com/uc?export=view&id=12SBxiBO-knE250rVlTxSYkmGWLjzFHL0'>"
   ]
  },
  {
   "cell_type": "code",
   "execution_count": null,
   "metadata": {
    "id": "Ti8Dthf6T-QD"
   },
   "outputs": [],
   "source": [
    "from tensorflow.keras.layers import Input, LSTM, Dense, Flatten\n",
    "from tensorflow.keras.models import Model\n",
    "import matplotlib.pyplot as plt\n",
    "import numpy as np"
   ]
  },
  {
   "cell_type": "code",
   "execution_count": null,
   "metadata": {
    "colab": {
     "base_uri": "https://localhost:8080/",
     "height": 265
    },
    "id": "pAOEjITXT3Rh",
    "outputId": "676dbe49-9e27-477d-d183-837529de5774"
   },
   "outputs": [
    {
     "data": {
      "image/png": "[encoded data removed]",
      "text/plain": [
       "<Figure size 432x288 with 1 Axes>"
      ]
     },
     "metadata": {
      "needs_background": "light",
      "tags": []
     },
     "output_type": "display_data"
    }
   ],
   "source": [
    "N = 300\n",
    "t = np.linspace(0, 30, N).reshape((N, 1))\n",
    "x_t = np.sin(t) + t * 0.2\n",
    "\n",
    "x_len = 5  # длина истории\n",
    "n = 2  # длина вектора данных\n",
    "\n",
    "plt.plot(t, x_t, '-b');"
   ]
  },
  {
   "cell_type": "code",
   "execution_count": null,
   "metadata": {
    "colab": {
     "base_uri": "https://localhost:8080/"
    },
    "id": "G4NPzVEeT3YB",
    "outputId": "108e283c-6396-4315-a8a1-66c4488b95eb"
   },
   "outputs": [
    {
     "name": "stdout",
     "output_type": "stream",
     "text": [
      "Model: \"model\"\n",
      "_________________________________________________________________\n",
      "Layer (type)                 Output Shape              Param #   \n",
      "=================================================================\n",
      "input_1 (InputLayer)         [(None, 5, 2)]            0         \n",
      "_________________________________________________________________\n",
      "lstm (LSTM)                  (None, 32)                4480      \n",
      "_________________________________________________________________\n",
      "dense (Dense)                (None, 1)                 33        \n",
      "=================================================================\n",
      "Total params: 4,513\n",
      "Trainable params: 4,513\n",
      "Non-trainable params: 0\n",
      "_________________________________________________________________\n"
     ]
    }
   ],
   "source": [
    "input = Input(shape=(x_len, 2))\n",
    "output = LSTM(units=32, dropout=0.0)(input)\n",
    "output = Dense(1, activation='linear')(output)\n",
    "\n",
    "model = Model(input, output)\n",
    "model.compile(optimizer='Adam',\n",
    "              loss='mse',\n",
    "              metrics=['mse'])\n",
    "\n",
    "model.summary()"
   ]
  },
  {
   "cell_type": "code",
   "execution_count": null,
   "metadata": {
    "id": "pSZAbw7rVHFL"
   },
   "outputs": [],
   "source": [
    "X = []\n",
    "y = []\n",
    "\n",
    "for i in range(N - x_len - 1):\n",
    "    X.append(np.concatenate(\n",
    "                (t[i: x_len + i], x_t[i: x_len + i])\n",
    "        ).reshape((2, x_len)).T\n",
    "    )\n",
    "    y.append(x_t[i + x_len])\n",
    "\n",
    "X = np.array(X)\n",
    "y = np.array(y)"
   ]
  },
  {
   "cell_type": "code",
   "execution_count": null,
   "metadata": {
    "colab": {
     "base_uri": "https://localhost:8080/",
     "height": 266
    },
    "id": "CdhS2xgLP6yX",
    "outputId": "be3d92d6-08bf-4874-cb14-a5edcd451f93"
   },
   "outputs": [
    {
     "data": {
      "image/png": "[encoded data removed]",
      "text/plain": [
       "<Figure size 432x288 with 1 Axes>"
      ]
     },
     "metadata": {
      "needs_background": "light",
      "tags": []
     },
     "output_type": "display_data"
    }
   ],
   "source": [
    "plt.plot(X[0][:, 0], X[0][:, 1], '.-b')\n",
    "plt.plot(t[x_len], y[0], '.r');"
   ]
  },
  {
   "cell_type": "code",
   "execution_count": null,
   "metadata": {
    "colab": {
     "base_uri": "https://localhost:8080/"
    },
    "id": "qe-A1Y9OVGz3",
    "outputId": "eb688a11-15c3-464e-f51d-09d5aacd93bf"
   },
   "outputs": [
    {
     "name": "stdout",
     "output_type": "stream",
     "text": [
      "Epoch 1/20\n",
      "7/7 [==============================] - 30s 117ms/step - loss: 10.8380 - mse: 10.8380 - val_loss: 37.4269 - val_mse: 37.4269\n",
      "Epoch 2/20\n",
      "7/7 [==============================] - 0s 12ms/step - loss: 9.0208 - mse: 9.0208 - val_loss: 34.5213 - val_mse: 34.5213\n",
      "Epoch 3/20\n",
      "7/7 [==============================] - 0s 11ms/step - loss: 7.1056 - mse: 7.1056 - val_loss: 31.1472 - val_mse: 31.1472\n",
      "Epoch 4/20\n",
      "7/7 [==============================] - 0s 11ms/step - loss: 6.0699 - mse: 6.0699 - val_loss: 26.7280 - val_mse: 26.7280\n",
      "Epoch 5/20\n",
      "7/7 [==============================] - 0s 12ms/step - loss: 4.7791 - mse: 4.7791 - val_loss: 21.8985 - val_mse: 21.8985\n",
      "Epoch 6/20\n",
      "7/7 [==============================] - 0s 13ms/step - loss: 3.1925 - mse: 3.1925 - val_loss: 18.2032 - val_mse: 18.2032\n",
      "Epoch 7/20\n",
      "7/7 [==============================] - 0s 12ms/step - loss: 2.3599 - mse: 2.3599 - val_loss: 15.1252 - val_mse: 15.1252\n",
      "Epoch 8/20\n",
      "7/7 [==============================] - 0s 12ms/step - loss: 1.9231 - mse: 1.9231 - val_loss: 12.5638 - val_mse: 12.5638\n",
      "Epoch 9/20\n",
      "7/7 [==============================] - 0s 13ms/step - loss: 1.5943 - mse: 1.5943 - val_loss: 10.5209 - val_mse: 10.5209\n",
      "Epoch 10/20\n",
      "7/7 [==============================] - 0s 13ms/step - loss: 1.3504 - mse: 1.3504 - val_loss: 8.9239 - val_mse: 8.9239\n",
      "Epoch 11/20\n",
      "7/7 [==============================] - 0s 14ms/step - loss: 1.1002 - mse: 1.1002 - val_loss: 7.7576 - val_mse: 7.7576\n",
      "Epoch 12/20\n",
      "7/7 [==============================] - 0s 13ms/step - loss: 0.9245 - mse: 0.9245 - val_loss: 6.7744 - val_mse: 6.7744\n",
      "Epoch 13/20\n",
      "7/7 [==============================] - 0s 13ms/step - loss: 0.6883 - mse: 0.6883 - val_loss: 6.0645 - val_mse: 6.0645\n",
      "Epoch 14/20\n",
      "7/7 [==============================] - 0s 13ms/step - loss: 0.5589 - mse: 0.5589 - val_loss: 5.2118 - val_mse: 5.2118\n",
      "Epoch 15/20\n",
      "7/7 [==============================] - 0s 13ms/step - loss: 0.4395 - mse: 0.4395 - val_loss: 4.4269 - val_mse: 4.4269\n",
      "Epoch 16/20\n",
      "7/7 [==============================] - 0s 13ms/step - loss: 0.3294 - mse: 0.3294 - val_loss: 3.8463 - val_mse: 3.8463\n",
      "Epoch 17/20\n",
      "7/7 [==============================] - 0s 12ms/step - loss: 0.2614 - mse: 0.2614 - val_loss: 3.3008 - val_mse: 3.3008\n",
      "Epoch 18/20\n",
      "7/7 [==============================] - 0s 11ms/step - loss: 0.2315 - mse: 0.2315 - val_loss: 2.8776 - val_mse: 2.8776\n",
      "Epoch 19/20\n",
      "7/7 [==============================] - 0s 12ms/step - loss: 0.1649 - mse: 0.1649 - val_loss: 2.5374 - val_mse: 2.5374\n",
      "Epoch 20/20\n",
      "7/7 [==============================] - 0s 12ms/step - loss: 0.1496 - mse: 0.1496 - val_loss: 2.2383 - val_mse: 2.2383\n",
      "CPU times: user 5.12 s, sys: 1.02 s, total: 6.14 s\n",
      "Wall time: 32.1 s\n"
     ]
    }
   ],
   "source": [
    "%%time\n",
    "test_n = 200\n",
    "model.fit(X[:test_n], y[:test_n],\n",
    "          epochs=20,\n",
    "          validation_data=(X[test_n:], y[test_n:])\n",
    "          )"
   ]
  },
  {
   "cell_type": "code",
   "execution_count": null,
   "metadata": {
    "colab": {
     "base_uri": "https://localhost:8080/"
    },
    "id": "khe6ufw-E3f6",
    "outputId": "d8cf6f9c-04e9-4ae6-ee25-dc5f8d0cd2f3"
   },
   "outputs": [
    {
     "name": "stdout",
     "output_type": "stream",
     "text": [
      "7/7 [==============================] - 0s 3ms/step - loss: 0.1163 - mse: 0.1163\n"
     ]
    },
    {
     "data": {
      "text/plain": [
       "[0.11634554713964462, 0.11634554713964462]"
      ]
     },
     "execution_count": 17,
     "metadata": {
      "tags": []
     },
     "output_type": "execute_result"
    }
   ],
   "source": [
    "model.evaluate(X[:test_n], y[:test_n])"
   ]
  },
  {
   "cell_type": "code",
   "execution_count": null,
   "metadata": {
    "colab": {
     "base_uri": "https://localhost:8080/",
     "height": 265
    },
    "id": "Wh0-FtF-YtmE",
    "outputId": "49847e16-2f04-4014-e68b-b190790ff462"
   },
   "outputs": [
    {
     "data": {
      "image/png": "[encoded data removed]",
      "text/plain": [
       "<Figure size 432x288 with 1 Axes>"
      ]
     },
     "metadata": {
      "needs_background": "light",
      "tags": []
     },
     "output_type": "display_data"
    }
   ],
   "source": [
    "y_pred = model.predict(X[:test_n])\n",
    "\n",
    "plt.plot(y_pred, '.r', label='predicted')\n",
    "plt.plot(y[:test_n], 'g', label='true')\n",
    "plt.legend();"
   ]
  },
  {
   "cell_type": "code",
   "execution_count": null,
   "metadata": {
    "colab": {
     "base_uri": "https://localhost:8080/",
     "height": 269
    },
    "id": "XV-NsrhLYH0a",
    "outputId": "fb6064a7-4f1a-4146-981a-01eac8c29acf"
   },
   "outputs": [
    {
     "data": {
      "image/png": "[encoded data removed]",
      "text/plain": [
       "<Figure size 432x288 with 1 Axes>"
      ]
     },
     "metadata": {
      "needs_background": "light",
      "tags": []
     },
     "output_type": "display_data"
    }
   ],
   "source": [
    "y_pred = model.predict(X[test_n:])\n",
    "\n",
    "plt.plot(y_pred, '.r', label='predicted')\n",
    "plt.plot(y[test_n:], 'g', label='true')\n",
    "plt.legend();"
   ]
  },
  {
   "cell_type": "markdown",
   "metadata": {
    "id": "guYTy52CTEPL"
   },
   "source": [
    "## Gated Recurrent Unit (GRU)\n",
    "\n",
    "Теперь, когда мы знаем как работает LSTM, давайте бегло взглянем на то, как работате GRU. GRU это более новое поколение рекуррентных нейронных сетей и оно во многом похоже на LSTM. Но есть определенная разница. В GRU не используется состояние ячейки и используется скрытое состояние для передачи информации. В GRU также есть два затвора - reset gate и update gate."
   ]
  },
  {
   "cell_type": "markdown",
   "metadata": {
    "id": "hcK7KuHeAS-0"
   },
   "source": [
    "<img src='https://drive.google.com/uc?export=view&id=1dueNTzgtKPh3giYl-8PnJIR1uMI7dKLL' width=700>"
   ]
  },
  {
   "cell_type": "markdown",
   "metadata": {
    "id": "6Nlu3bcUTEPS"
   },
   "source": [
    "Update Gate обновляет затворы действуя подобно forget и input gate, которые используются в LSTM. Он решает какая информация будет отброшена, а какая новая информация будет добавлена. Reset Gate - это другой затвор, использующийся для принятия решения, как много прошлой информации будет забыто. В этих особенностях и заключается архитектура GRU. GRU имеет меньше тензорных операций и соответственно тренеруется быстре, чем LSTM. Однако нельзя сказать точно, какая архитектура лучше. Исследователи и инженеры пытаются определить, что в каждом конкретном случае подойдет больше. Если говорить упрощенно, то GRU может подойти тогда, когда важнее скорость, чем точность, а LSTM тогда, когда важнее точность, чем скорость. \n",
    "\n",
    "<img src='https://drive.google.com/uc?export=view&id=1nwWR-inD0dbp2M5m-lUyr9l50Q2lWPJM'>\n",
    "\n",
    "<img src='https://drive.google.com/uc?export=view&id=1JELilnaBhXs70OQISNs0QZWKVLr7fYPp' width=400>"
   ]
  },
  {
   "cell_type": "code",
   "execution_count": null,
   "metadata": {
    "colab": {
     "base_uri": "https://localhost:8080/"
    },
    "id": "9XKvuvLiD3_B",
    "outputId": "bb3f705f-fde7-45cb-a37a-617f8aeb80e7"
   },
   "outputs": [
    {
     "name": "stdout",
     "output_type": "stream",
     "text": [
      "Model: \"model_1\"\n",
      "_________________________________________________________________\n",
      "Layer (type)                 Output Shape              Param #   \n",
      "=================================================================\n",
      "input_2 (InputLayer)         [(None, 5, 2)]            0         \n",
      "_________________________________________________________________\n",
      "gru (GRU)                    (None, 32)                3456      \n",
      "_________________________________________________________________\n",
      "dense_1 (Dense)              (None, 1)                 33        \n",
      "=================================================================\n",
      "Total params: 3,489\n",
      "Trainable params: 3,489\n",
      "Non-trainable params: 0\n",
      "_________________________________________________________________\n"
     ]
    }
   ],
   "source": [
    "from tensorflow.keras.layers import GRU\n",
    "\n",
    "\n",
    "input = Input(shape=(x_len, 2))\n",
    "output = GRU(units=32, dropout=0.0)(input)\n",
    "output = Dense(1, activation='linear')(output)\n",
    "\n",
    "model = Model(input, output)\n",
    "model.compile(optimizer='Adam', loss='mse', metrics=['mse'])\n",
    "\n",
    "model.summary()"
   ]
  },
  {
   "cell_type": "code",
   "execution_count": null,
   "metadata": {
    "colab": {
     "base_uri": "https://localhost:8080/"
    },
    "id": "XYH7T6caEBp5",
    "outputId": "877b474b-10cc-43c8-dc39-3c11842c67e4"
   },
   "outputs": [
    {
     "name": "stdout",
     "output_type": "stream",
     "text": [
      "Epoch 1/20\n",
      "7/7 [==============================] - 2s 68ms/step - loss: 5.5308 - mse: 5.5308 - val_loss: 19.0334 - val_mse: 19.0334\n",
      "Epoch 2/20\n",
      "7/7 [==============================] - 0s 11ms/step - loss: 2.9238 - mse: 2.9238 - val_loss: 13.2495 - val_mse: 13.2495\n",
      "Epoch 3/20\n",
      "7/7 [==============================] - 0s 11ms/step - loss: 1.4825 - mse: 1.4825 - val_loss: 9.5074 - val_mse: 9.5074\n",
      "Epoch 4/20\n",
      "7/7 [==============================] - 0s 11ms/step - loss: 1.2747 - mse: 1.2747 - val_loss: 7.4578 - val_mse: 7.4578\n",
      "Epoch 5/20\n",
      "7/7 [==============================] - 0s 11ms/step - loss: 1.1229 - mse: 1.1229 - val_loss: 6.3510 - val_mse: 6.3510\n",
      "Epoch 6/20\n",
      "7/7 [==============================] - 0s 11ms/step - loss: 0.9283 - mse: 0.9283 - val_loss: 5.8634 - val_mse: 5.8634\n",
      "Epoch 7/20\n",
      "7/7 [==============================] - 0s 12ms/step - loss: 0.8050 - mse: 0.8050 - val_loss: 5.5822 - val_mse: 5.5822\n",
      "Epoch 8/20\n",
      "7/7 [==============================] - 0s 12ms/step - loss: 0.6860 - mse: 0.6860 - val_loss: 5.3189 - val_mse: 5.3189\n",
      "Epoch 9/20\n",
      "7/7 [==============================] - 0s 12ms/step - loss: 0.6168 - mse: 0.6168 - val_loss: 4.9337 - val_mse: 4.9337\n",
      "Epoch 10/20\n",
      "7/7 [==============================] - 0s 11ms/step - loss: 0.5043 - mse: 0.5043 - val_loss: 4.3566 - val_mse: 4.3566\n",
      "Epoch 11/20\n",
      "7/7 [==============================] - 0s 11ms/step - loss: 0.4727 - mse: 0.4727 - val_loss: 3.7847 - val_mse: 3.7847\n",
      "Epoch 12/20\n",
      "7/7 [==============================] - 0s 11ms/step - loss: 0.3990 - mse: 0.3990 - val_loss: 3.3036 - val_mse: 3.3036\n",
      "Epoch 13/20\n",
      "7/7 [==============================] - 0s 11ms/step - loss: 0.3365 - mse: 0.3365 - val_loss: 3.0917 - val_mse: 3.0917\n",
      "Epoch 14/20\n",
      "7/7 [==============================] - 0s 11ms/step - loss: 0.2914 - mse: 0.2914 - val_loss: 2.7956 - val_mse: 2.7956\n",
      "Epoch 15/20\n",
      "7/7 [==============================] - 0s 11ms/step - loss: 0.2346 - mse: 0.2346 - val_loss: 2.6601 - val_mse: 2.6601\n",
      "Epoch 16/20\n",
      "7/7 [==============================] - 0s 12ms/step - loss: 0.1951 - mse: 0.1951 - val_loss: 2.5345 - val_mse: 2.5345\n",
      "Epoch 17/20\n",
      "7/7 [==============================] - 0s 12ms/step - loss: 0.1630 - mse: 0.1630 - val_loss: 2.3076 - val_mse: 2.3076\n",
      "Epoch 18/20\n",
      "7/7 [==============================] - 0s 11ms/step - loss: 0.1544 - mse: 0.1544 - val_loss: 2.1689 - val_mse: 2.1689\n",
      "Epoch 19/20\n",
      "7/7 [==============================] - 0s 11ms/step - loss: 0.1235 - mse: 0.1235 - val_loss: 2.0576 - val_mse: 2.0576\n",
      "Epoch 20/20\n",
      "7/7 [==============================] - 0s 12ms/step - loss: 0.1155 - mse: 0.1155 - val_loss: 1.8512 - val_mse: 1.8512\n",
      "CPU times: user 3.5 s, sys: 115 ms, total: 3.61 s\n",
      "Wall time: 3.47 s\n"
     ]
    }
   ],
   "source": [
    "%%time\n",
    "test_n = 200\n",
    "model.fit(X[:test_n], y[:test_n],\n",
    "          epochs=20,\n",
    "          validation_data=(X[test_n:], y[test_n:])\n",
    "          )"
   ]
  },
  {
   "cell_type": "code",
   "execution_count": null,
   "metadata": {
    "colab": {
     "base_uri": "https://localhost:8080/"
    },
    "id": "07-A1jQBFGJd",
    "outputId": "3651878a-5b34-4f69-c50d-49ebe3ac2473"
   },
   "outputs": [
    {
     "name": "stdout",
     "output_type": "stream",
     "text": [
      "7/7 [==============================] - 0s 2ms/step - loss: 0.0975 - mse: 0.0975\n"
     ]
    },
    {
     "data": {
      "text/plain": [
       "[0.0975382998585701, 0.0975382998585701]"
      ]
     },
     "execution_count": 22,
     "metadata": {
      "tags": []
     },
     "output_type": "execute_result"
    }
   ],
   "source": [
    "model.evaluate(X[:test_n], y[:test_n])"
   ]
  },
  {
   "cell_type": "code",
   "execution_count": null,
   "metadata": {
    "colab": {
     "base_uri": "https://localhost:8080/",
     "height": 265
    },
    "id": "d1zYi8MTEBjq",
    "outputId": "0d2a38ec-8224-4fcc-8451-da84d1c99011"
   },
   "outputs": [
    {
     "data": {
      "image/png": "[encoded data removed]",
      "text/plain": [
       "<Figure size 432x288 with 1 Axes>"
      ]
     },
     "metadata": {
      "needs_background": "light",
      "tags": []
     },
     "output_type": "display_data"
    }
   ],
   "source": [
    "y_pred = model.predict(X[:test_n])\n",
    "\n",
    "plt.plot(y_pred, '.r', label='predicted')\n",
    "plt.plot(y[:test_n], 'g', label='true')\n",
    "plt.legend();"
   ]
  },
  {
   "cell_type": "code",
   "execution_count": null,
   "metadata": {
    "colab": {
     "base_uri": "https://localhost:8080/",
     "height": 265
    },
    "id": "40tECAywEJOC",
    "outputId": "b9dd5ae9-ecc9-4da4-f5e0-7b94a586eefd"
   },
   "outputs": [
    {
     "data": {
      "image/png": "[encoded data removed]",
      "text/plain": [
       "<Figure size 432x288 with 1 Axes>"
      ]
     },
     "metadata": {
      "needs_background": "light",
      "tags": []
     },
     "output_type": "display_data"
    }
   ],
   "source": [
    "y_pred = model.predict(X[test_n:])\n",
    "\n",
    "plt.plot(y_pred, '.r', label='predicted')\n",
    "plt.plot(y[test_n:], 'g', label='true')\n",
    "plt.legend();"
   ]
  },
  {
   "cell_type": "markdown",
   "metadata": {
    "id": "NcRPIitocY50"
   },
   "source": [
    "## Simple Recurrent Unit (SRU)\n",
    "\n",
    "Реккурентные сети достаточно долго обучаются из-за того, что новый вектор скрытого состояния зависит от векторы предыдущего состояния, такую вещь невозможно распараллелить.\n",
    "\n",
    "$W, W_f$ и $W_r$ - обучаемые матрицы, $v_f, v_r, b_f$ и $b_v$ - обучаемые векторы. Выделяют два компоненты в SRU: light recurrence (уравнения 1 и 2) и highway network (уравнения 3 и 4)\n",
    "\n",
    "Light recurrence считывает входной вектор и вычисляет последовательность состояний $c_t$. Гейт забывания $f_t$ контролирует поток информации и состояние вектора $c_t$.\n",
    "\n",
    "Одним из ключевых решений, отличающихся от предыдущих рекуррентных архитектур, является способ использования $c_{t−1}$ в гейтах. Как правило, $c_{t−1}$ умножается на матрицу. Однако это затрудняет распараллеливание вычисления состояния: каждое измерение зависит от всех записей $c_{t−1}$. Чтобы облегчить распараллеливание, происходит покоординатное умножение $v_f$ на $c_{t−1}$. При таком упрощении каждое измерение векторов состояний становится независимым и, следовательно, распараллеливаемым.\n",
    "\n",
    "Компонент highway network использует reset gate $r_t$ (уравнение 3) для адаптивного объединения входного сигнала $x_t$ и состояния $c_t$, полученного из light recurrence сигнала (уравнение 4), где $(1 − r_t)x_t$ - это соединение, которое позволяет градиенту распространяться на предыдущие слои.\n",
    "\n",
    "<table>\n",
    "<tr>\n",
    "<td>\n",
    "<img src='https://www.mdpi.com/sensors/sensors-18-04471/article_deploy/html/images/sensors-18-04471-g001.png' width=500>\n",
    "</td>\n",
    "<td>\n",
    "<img src='https://drive.google.com/uc?export=view&id=1YQPCJoxGN8JYblOqh9Tf-n609Ij6BRQA'>\n",
    "</td>\n",
    "</tr>\n",
    "</table>"
   ]
  },
  {
   "cell_type": "code",
   "execution_count": null,
   "metadata": {
    "colab": {
     "base_uri": "https://localhost:8080/"
    },
    "id": "Y7_bdCrWFTQk",
    "outputId": "73cd4622-6747-429d-f7ba-94b0a5160957"
   },
   "outputs": [
    {
     "name": "stdout",
     "output_type": "stream",
     "text": [
      "Cloning into 'keras-SRU'...\n",
      "remote: Enumerating objects: 74, done.\u001b[K\n",
      "remote: Total 74 (delta 0), reused 0 (delta 0), pack-reused 74\u001b[K\n",
      "Unpacking objects: 100% (74/74), done.\n"
     ]
    }
   ],
   "source": [
    "import sys\n",
    "!git clone https://github.com/titu1994/keras-SRU.git\n",
    "sys.path.append('/content/keras-SRU')"
   ]
  },
  {
   "cell_type": "code",
   "execution_count": null,
   "metadata": {
    "colab": {
     "base_uri": "https://localhost:8080/",
     "height": 35
    },
    "id": "Mx5GP3I4HlX_",
    "outputId": "c57c7393-1a13-4af3-b0fe-73690d6e12a8"
   },
   "outputs": [
    {
     "data": {
      "application/vnd.google.colaboratory.intrinsic+json": {
       "type": "string"
      },
      "text/plain": [
       "'2.4.3'"
      ]
     },
     "execution_count": 26,
     "metadata": {
      "tags": []
     },
     "output_type": "execute_result"
    }
   ],
   "source": [
    "import keras\n",
    "keras.__version__\n",
    "# !pip install keras==2.0.9\n",
    "# !pip install tensorflow==1.14 "
   ]
  },
  {
   "cell_type": "markdown",
   "metadata": {
    "id": "VibWuP0jGt4F"
   },
   "source": [
    "## Attention"
   ]
  },
  {
   "cell_type": "markdown",
   "metadata": {
    "id": "TLDjJ2kkH3iK"
   },
   "source": [
    "С какими проблемами еще можем столкнуться? Снова поговорим про машинный перевод.\n",
    "\n",
    "Примеры из статьи [Google's Neural Machine Translation System: Bridging the Gap between Human and Machine Translation](https://arxiv.org/abs/1609.08144).\n",
    "\n",
    "<img src='https://drive.google.com/uc?export=view&id=1uOHQX8AnPGKY6HEDOTRJzVxCiKAHLoJy' width=450>\n",
    "\n",
    "Нужно сжать всю информацию о предыдущих словах в один блок, который представляет собой внутренний слой - переходное состояние из кодировщика в декодировщика, что очень сложная задача, которая приводит к недообучению.\n",
    "\n",
    "И одно из возможных решений - это настакать слои LSTM, один слой LSTM создает вход для другого слоя LSTM:\n",
    "\n",
    "<img src='https://drive.google.com/uc?export=view&id=1yrBxb5DXZA-LNwNWQdmuF4TNNXqTfNpJ' width=450>\n",
    "\n",
    "Но эту вещь очень тяжело обучать, если добавлять всё больше LSTM слоем, то снова встречаемся с проблемой затухающих градиентов, плюсом, всё равно нужно сжимать всю информацию в последние блоки - это наш bottleneck (узкое место, горлышко бутылки) между кодировщик и декодировщиком.\n"
   ]
  },
  {
   "cell_type": "markdown",
   "metadata": {
    "id": "hY_szeB8KpkH"
   },
   "source": [
    "И решение этой проблемы - Attention слой. Вместо того, чтобы сжимать всю информацию из всех временных ячеек в одно скрытое состояние, можно дать доступ декодировщику ко всей истории. Но получаем очень слишком много информации, которую нужно учитывать, поэтому мы будем обращать свое внимание только на подвыборку этих ячеек.\n",
    "\n",
    "Будем учитывать, какая часть предложения на английском языке важна для предсказания слова на французском языке. Подсчет такого распределения достигается получением оценки релевантности каждого слова в предложении для получения нового слова.\n",
    "\n",
    "<img src='https://drive.google.com/uc?export=view&id=1GAVWyShMSXELaz1f-_e4c9rAeDoJ3QE_' width=450>\n"
   ]
  },
  {
   "cell_type": "markdown",
   "metadata": {
    "id": "2CKXDdDGOTB2"
   },
   "source": [
    "**Как использовать эти оценки релевантности?**\n",
    "\n",
    "Подсчитываются оценки для каждого скрытого состояния и образуют собой взвешанную сумму внимания. А потом эта сумма передается, как еще один вход в декодировщик.\n",
    "\n",
    "<img src='https://drive.google.com/uc?export=view&id=1a72Ake6Ai2SdkZ9cQpqmq6-ebjblcQ34' width=450>\n",
    "\n",
    "Можно [провизуализировать](https://distill.pub/2016/augmented-rnns/#attentional-interfaces), какое внимание уделяется каждому слову из предложения:\n",
    "\n",
    "<img src='https://drive.google.com/uc?export=view&id=1WcRiqQ5fG7kQPTbISHgRYYwbBbLetDOL' width=800>\n",
    "\n",
    "А ещё слои внимания можно добавлять и не только к текстам, но и к картинкам.\n",
    "\n",
    "<img src='https://drive.google.com/uc?export=view&id=1i48NmZMXUneeUwW339tSgvrGU_VvLh9H'>\n",
    "\n"
   ]
  },
  {
   "cell_type": "markdown",
   "metadata": {
    "id": "YVZ6r22LPCou"
   },
   "source": [
    "## Bidirectional LSTM"
   ]
  },
  {
   "cell_type": "markdown",
   "metadata": {
    "id": "GzYDuSb-G8h3"
   },
   "source": [
    "https://keras.io/examples/nlp/bidirectional_lstm_imdb/\n",
    "\n",
    "Еще одна проблема с LSTM - они учитывают только контекст до слова. Почему это может быть плохо? К примеру, слово \"quick\" может значит очень много вещей и смысл слова будет понятен только после прочтения слов, которые идут после него.\n",
    "\n",
    "Идея решения проблемы - использовать LSTM слой для прямого контекста и еще слой LSTM для обратного контекста - это будет двунаправленный слой LSTM (Bidirectional LSTM).\n",
    "\n",
    "\n",
    "\n",
    "<img src='https://drive.google.com/uc?export=view&id=1kCGsUWhUjIoIAquvE7FjaAbYjAQdsyW7' width=550>\n",
    "\n",
    "А так будет выглядеть сеть, если всё объединить вместе.\n",
    "\n",
    "<img src='https://drive.google.com/uc?export=view&id=1FdhBWJFQKEpM8lUZ-E2hlTWCmNj361Lg' width=450>\n",
    "\n",
    "\n"
   ]
  },
  {
   "cell_type": "markdown",
   "metadata": {
    "id": "D20CRso9TEPU"
   },
   "source": [
    "## Практика"
   ]
  },
  {
   "cell_type": "markdown",
   "metadata": {
    "id": "uWjMmd6SAxdY"
   },
   "source": [
    "### IMDB"
   ]
  },
  {
   "cell_type": "markdown",
   "metadata": {
    "id": "BcavVsOfTEPh"
   },
   "source": [
    "Теперь давайте попробуем с помощью Keras построить LSTM нейронную сеть для оценки настроений отзывов на IMDB."
   ]
  },
  {
   "cell_type": "markdown",
   "metadata": {
    "id": "k5mxcMT2TEPi"
   },
   "source": [
    "Данный датасет слишком мал, чтобы преимущества LSTM проявились, однако в учебных целях он подойдет.\n",
    "\n",
    "В тренировке рекуррентных нейронных сетей важную роль играет размер batch, но еще большую роль играет выбор функций loss и optimizer."
   ]
  },
  {
   "cell_type": "code",
   "execution_count": null,
   "metadata": {
    "id": "wuI6h_TyEhvl"
   },
   "outputs": [],
   "source": [
    "import pandas as pd\n",
    "import numpy as np"
   ]
  },
  {
   "cell_type": "code",
   "execution_count": null,
   "metadata": {
    "colab": {
     "base_uri": "https://localhost:8080/"
    },
    "id": "IM1n34PCTEPk",
    "outputId": "009a39d6-bc35-48b2-8502-5584a7c8fc72"
   },
   "outputs": [
    {
     "name": "stdout",
     "output_type": "stream",
     "text": [
      "Загрузка данных...\n",
      "Downloading data from https://storage.googleapis.com/tensorflow/tf-keras-datasets/imdb.npz\n",
      "17465344/17464789 [==============================] - 0s 0us/step\n"
     ]
    },
    {
     "name": "stderr",
     "output_type": "stream",
     "text": [
      "<string>:6: VisibleDeprecationWarning: Creating an ndarray from ragged nested sequences (which is a list-or-tuple of lists-or-tuples-or ndarrays with different lengths or shapes) is deprecated. If you meant to do this, you must specify 'dtype=object' when creating the ndarray\n",
      "/usr/local/lib/python3.7/dist-packages/tensorflow/python/keras/datasets/imdb.py:159: VisibleDeprecationWarning: Creating an ndarray from ragged nested sequences (which is a list-or-tuple of lists-or-tuples-or ndarrays with different lengths or shapes) is deprecated. If you meant to do this, you must specify 'dtype=object' when creating the ndarray\n",
      "  x_train, y_train = np.array(xs[:idx]), np.array(labels[:idx])\n",
      "/usr/local/lib/python3.7/dist-packages/tensorflow/python/keras/datasets/imdb.py:160: VisibleDeprecationWarning: Creating an ndarray from ragged nested sequences (which is a list-or-tuple of lists-or-tuples-or ndarrays with different lengths or shapes) is deprecated. If you meant to do this, you must specify 'dtype=object' when creating the ndarray\n",
      "  x_test, y_test = np.array(xs[idx:]), np.array(labels[idx:])\n"
     ]
    }
   ],
   "source": [
    "from keras.preprocessing import sequence\n",
    "from keras.models import Sequential\n",
    "from keras.layers import Dense, Embedding\n",
    "from keras.layers import LSTM\n",
    "from keras.datasets import imdb\n",
    "\n",
    "max_features = 10000\n",
    "\n",
    "# обрезаем тексты после данного количества слов (среди top max_features наиболее используемые слова)\n",
    "maxlen = 80\n",
    "batch_size = 50 # увеличьте значение для ускорения обучения\n",
    "\n",
    "print('Загрузка данных...')\n",
    "(X_train, y_train), (X_test, y_test) = imdb.load_data(num_words=max_features)"
   ]
  },
  {
   "cell_type": "code",
   "execution_count": null,
   "metadata": {
    "colab": {
     "base_uri": "https://localhost:8080/"
    },
    "id": "rnDxxPa1A2vE",
    "outputId": "d024db61-fef0-40d4-d961-c0198e08f9f1"
   },
   "outputs": [
    {
     "data": {
      "text/plain": [
       "[218, 189, 141, 550, 147]"
      ]
     },
     "execution_count": 29,
     "metadata": {
      "tags": []
     },
     "output_type": "execute_result"
    }
   ],
   "source": [
    "[len(i) for i in X_train[:5]]"
   ]
  },
  {
   "cell_type": "code",
   "execution_count": null,
   "metadata": {
    "colab": {
     "base_uri": "https://localhost:8080/"
    },
    "id": "LRBL0ZDmBIPI",
    "outputId": "606d106a-d8dc-4eae-903c-8bda6355de6f"
   },
   "outputs": [
    {
     "data": {
      "text/plain": [
       "array([list([1, 14, 22, 16, 43, 530, 973, 1622, 1385, 65, 458, 4468, 66, 3941, 4, 173, 36, 256, 5, 25, 100, 43, 838, 112, 50, 670, 2, 9, 35, 480, 284, 5, 150, 4, 172, 112, 167, 2, 336, 385, 39, 4, 172, 4536, 1111, 17, 546, 38, 13, 447, 4, 192, 50, 16, 6, 147, 2025, 19, 14, 22, 4, 1920, 4613, 469, 4, 22, 71, 87, 12, 16, 43, 530, 38, 76, 15, 13, 1247, 4, 22, 17, 515, 17, 12, 16, 626, 18, 2, 5, 62, 386, 12, 8, 316, 8, 106, 5, 4, 2223, 5244, 16, 480, 66, 3785, 33, 4, 130, 12, 16, 38, 619, 5, 25, 124, 51, 36, 135, 48, 25, 1415, 33, 6, 22, 12, 215, 28, 77, 52, 5, 14, 407, 16, 82, 2, 8, 4, 107, 117, 5952, 15, 256, 4, 2, 7, 3766, 5, 723, 36, 71, 43, 530, 476, 26, 400, 317, 46, 7, 4, 2, 1029, 13, 104, 88, 4, 381, 15, 297, 98, 32, 2071, 56, 26, 141, 6, 194, 7486, 18, 4, 226, 22, 21, 134, 476, 26, 480, 5, 144, 30, 5535, 18, 51, 36, 28, 224, 92, 25, 104, 4, 226, 65, 16, 38, 1334, 88, 12, 16, 283, 5, 16, 4472, 113, 103, 32, 15, 16, 5345, 19, 178, 32]),\n",
       "       list([1, 194, 1153, 194, 8255, 78, 228, 5, 6, 1463, 4369, 5012, 134, 26, 4, 715, 8, 118, 1634, 14, 394, 20, 13, 119, 954, 189, 102, 5, 207, 110, 3103, 21, 14, 69, 188, 8, 30, 23, 7, 4, 249, 126, 93, 4, 114, 9, 2300, 1523, 5, 647, 4, 116, 9, 35, 8163, 4, 229, 9, 340, 1322, 4, 118, 9, 4, 130, 4901, 19, 4, 1002, 5, 89, 29, 952, 46, 37, 4, 455, 9, 45, 43, 38, 1543, 1905, 398, 4, 1649, 26, 6853, 5, 163, 11, 3215, 2, 4, 1153, 9, 194, 775, 7, 8255, 2, 349, 2637, 148, 605, 2, 8003, 15, 123, 125, 68, 2, 6853, 15, 349, 165, 4362, 98, 5, 4, 228, 9, 43, 2, 1157, 15, 299, 120, 5, 120, 174, 11, 220, 175, 136, 50, 9, 4373, 228, 8255, 5, 2, 656, 245, 2350, 5, 4, 9837, 131, 152, 491, 18, 2, 32, 7464, 1212, 14, 9, 6, 371, 78, 22, 625, 64, 1382, 9, 8, 168, 145, 23, 4, 1690, 15, 16, 4, 1355, 5, 28, 6, 52, 154, 462, 33, 89, 78, 285, 16, 145, 95]),\n",
       "       list([1, 14, 47, 8, 30, 31, 7, 4, 249, 108, 7, 4, 5974, 54, 61, 369, 13, 71, 149, 14, 22, 112, 4, 2401, 311, 12, 16, 3711, 33, 75, 43, 1829, 296, 4, 86, 320, 35, 534, 19, 263, 4821, 1301, 4, 1873, 33, 89, 78, 12, 66, 16, 4, 360, 7, 4, 58, 316, 334, 11, 4, 1716, 43, 645, 662, 8, 257, 85, 1200, 42, 1228, 2578, 83, 68, 3912, 15, 36, 165, 1539, 278, 36, 69, 2, 780, 8, 106, 14, 6905, 1338, 18, 6, 22, 12, 215, 28, 610, 40, 6, 87, 326, 23, 2300, 21, 23, 22, 12, 272, 40, 57, 31, 11, 4, 22, 47, 6, 2307, 51, 9, 170, 23, 595, 116, 595, 1352, 13, 191, 79, 638, 89, 2, 14, 9, 8, 106, 607, 624, 35, 534, 6, 227, 7, 129, 113]),\n",
       "       list([1, 4, 2, 2, 33, 2804, 4, 2040, 432, 111, 153, 103, 4, 1494, 13, 70, 131, 67, 11, 61, 2, 744, 35, 3715, 761, 61, 5766, 452, 9214, 4, 985, 7, 2, 59, 166, 4, 105, 216, 1239, 41, 1797, 9, 15, 7, 35, 744, 2413, 31, 8, 4, 687, 23, 4, 2, 7339, 6, 3693, 42, 38, 39, 121, 59, 456, 10, 10, 7, 265, 12, 575, 111, 153, 159, 59, 16, 1447, 21, 25, 586, 482, 39, 4, 96, 59, 716, 12, 4, 172, 65, 9, 579, 11, 6004, 4, 1615, 5, 2, 7, 5168, 17, 13, 7064, 12, 19, 6, 464, 31, 314, 11, 2, 6, 719, 605, 11, 8, 202, 27, 310, 4, 3772, 3501, 8, 2722, 58, 10, 10, 537, 2116, 180, 40, 14, 413, 173, 7, 263, 112, 37, 152, 377, 4, 537, 263, 846, 579, 178, 54, 75, 71, 476, 36, 413, 263, 2504, 182, 5, 17, 75, 2306, 922, 36, 279, 131, 2895, 17, 2867, 42, 17, 35, 921, 2, 192, 5, 1219, 3890, 19, 2, 217, 4122, 1710, 537, 2, 1236, 5, 736, 10, 10, 61, 403, 9, 2, 40, 61, 4494, 5, 27, 4494, 159, 90, 263, 2311, 4319, 309, 8, 178, 5, 82, 4319, 4, 65, 15, 9225, 145, 143, 5122, 12, 7039, 537, 746, 537, 537, 15, 7979, 4, 2, 594, 7, 5168, 94, 9096, 3987, 2, 11, 2, 4, 538, 7, 1795, 246, 2, 9, 2, 11, 635, 14, 9, 51, 408, 12, 94, 318, 1382, 12, 47, 6, 2683, 936, 5, 6307, 2, 19, 49, 7, 4, 1885, 2, 1118, 25, 80, 126, 842, 10, 10, 2, 2, 4726, 27, 4494, 11, 1550, 3633, 159, 27, 341, 29, 2733, 19, 4185, 173, 7, 90, 2, 8, 30, 11, 4, 1784, 86, 1117, 8, 3261, 46, 11, 2, 21, 29, 9, 2841, 23, 4, 1010, 2, 793, 6, 2, 1386, 1830, 10, 10, 246, 50, 9, 6, 2750, 1944, 746, 90, 29, 2, 8, 124, 4, 882, 4, 882, 496, 27, 2, 2213, 537, 121, 127, 1219, 130, 5, 29, 494, 8, 124, 4, 882, 496, 4, 341, 7, 27, 846, 10, 10, 29, 9, 1906, 8, 97, 6, 236, 2, 1311, 8, 4, 2, 7, 31, 7, 2, 91, 2, 3987, 70, 4, 882, 30, 579, 42, 9, 12, 32, 11, 537, 10, 10, 11, 14, 65, 44, 537, 75, 2, 1775, 3353, 2, 1846, 4, 2, 7, 154, 5, 4, 518, 53, 2, 2, 7, 3211, 882, 11, 399, 38, 75, 257, 3807, 19, 2, 17, 29, 456, 4, 65, 7, 27, 205, 113, 10, 10, 2, 4, 2, 2, 9, 242, 4, 91, 1202, 2, 5, 2070, 307, 22, 7, 5168, 126, 93, 40, 2, 13, 188, 1076, 3222, 19, 4, 2, 7, 2348, 537, 23, 53, 537, 21, 82, 40, 2, 13, 2, 14, 280, 13, 219, 4, 2, 431, 758, 859, 4, 953, 1052, 2, 7, 5991, 5, 94, 40, 25, 238, 60, 2, 4, 2, 804, 2, 7, 4, 9941, 132, 8, 67, 6, 22, 15, 9, 283, 8, 5168, 14, 31, 9, 242, 955, 48, 25, 279, 2, 23, 12, 1685, 195, 25, 238, 60, 796, 2, 4, 671, 7, 2804, 5, 4, 559, 154, 888, 7, 726, 50, 26, 49, 7008, 15, 566, 30, 579, 21, 64, 2574]),\n",
       "       list([1, 249, 1323, 7, 61, 113, 10, 10, 13, 1637, 14, 20, 56, 33, 2401, 18, 457, 88, 13, 2626, 1400, 45, 3171, 13, 70, 79, 49, 706, 919, 13, 16, 355, 340, 355, 1696, 96, 143, 4, 22, 32, 289, 7, 61, 369, 71, 2359, 5, 13, 16, 131, 2073, 249, 114, 249, 229, 249, 20, 13, 28, 126, 110, 13, 473, 8, 569, 61, 419, 56, 429, 6, 1513, 18, 35, 534, 95, 474, 570, 5, 25, 124, 138, 88, 12, 421, 1543, 52, 725, 6397, 61, 419, 11, 13, 1571, 15, 1543, 20, 11, 4, 2, 5, 296, 12, 3524, 5, 15, 421, 128, 74, 233, 334, 207, 126, 224, 12, 562, 298, 2167, 1272, 7, 2601, 5, 516, 988, 43, 8, 79, 120, 15, 595, 13, 784, 25, 3171, 18, 165, 170, 143, 19, 14, 5, 7224, 6, 226, 251, 7, 61, 113])],\n",
       "      dtype=object)"
      ]
     },
     "execution_count": 30,
     "metadata": {
      "tags": []
     },
     "output_type": "execute_result"
    }
   ],
   "source": [
    "X_train[:5]"
   ]
  },
  {
   "cell_type": "code",
   "execution_count": null,
   "metadata": {
    "colab": {
     "base_uri": "https://localhost:8080/"
    },
    "id": "PmA2R0lPn0z7",
    "outputId": "b2eaff70-1d57-478f-987f-8d18bf3ca04e"
   },
   "outputs": [
    {
     "name": "stdout",
     "output_type": "stream",
     "text": [
      "Downloading data from https://storage.googleapis.com/tensorflow/tf-keras-datasets/imdb_word_index.json\n",
      "1646592/1641221 [==============================] - 0s 0us/step\n",
      "the as you with out themselves powerful lets loves their becomes reaching had journalist of lot from anyone to have after out atmosphere never more room and it so heart shows to years of every never going and help moments or of every chest visual movie except her was several of enough more with is now current film as you of mine potentially unfortunately of you than him that with out themselves her get for was camp of you movie sometimes movie that with scary but and to story wonderful that in seeing in character to of 70s musicians with heart had shadows they of here that with her serious to have does when from why what have critics they is you that isn't one will very to as itself with other and in of seen over landed for anyone of and br show's to whether from than out themselves history he name half some br of and odd was two most of mean for 1 any an boat she he should is thought frog but of script you not while history he heart to real at barrel but when from one bit then have two of script their with her nobody most that with wasn't to with armed acting watch an for with heartfelt film want an "
     ]
    }
   ],
   "source": [
    "index2word = {v:k for k, v in imdb.get_word_index().items()}\n",
    "\n",
    "for idx_word in X_train[0]:\n",
    "    print(index2word[idx_word], end=' ')"
   ]
  },
  {
   "cell_type": "code",
   "execution_count": null,
   "metadata": {
    "colab": {
     "base_uri": "https://localhost:8080/"
    },
    "id": "E6Nex90C6XPR",
    "outputId": "4cd961fa-2bc5-4a03-bb6e-412424699f78"
   },
   "outputs": [
    {
     "name": "stdout",
     "output_type": "stream",
     "text": [
      "Pad последовательности (примеров в x единицу времени)\n",
      "X_train shape: (25000, 80)\n",
      "X_test shape: (25000, 80)\n"
     ]
    }
   ],
   "source": [
    "print('Pad последовательности (примеров в x единицу времени)')\n",
    "X_train = sequence.pad_sequences(X_train, maxlen=maxlen)\n",
    "X_test = sequence.pad_sequences(X_test, maxlen=maxlen)\n",
    "print('X_train shape:', X_train.shape)\n",
    "print('X_test shape:', X_test.shape)"
   ]
  },
  {
   "cell_type": "code",
   "execution_count": null,
   "metadata": {
    "colab": {
     "base_uri": "https://localhost:8080/"
    },
    "id": "UD8mp-DbDOf1",
    "outputId": "b1998650-e49c-499f-ba60-7f6aa3b3fc85"
   },
   "outputs": [
    {
     "data": {
      "text/plain": [
       "array([  15,  256,    4,    2,    7, 3766,    5,  723,   36,   71,   43,\n",
       "        530,  476,   26,  400,  317,   46,    7,    4,    2, 1029,   13,\n",
       "        104,   88,    4,  381,   15,  297,   98,   32, 2071,   56,   26,\n",
       "        141,    6,  194, 7486,   18,    4,  226,   22,   21,  134,  476,\n",
       "         26,  480,    5,  144,   30, 5535,   18,   51,   36,   28,  224,\n",
       "         92,   25,  104,    4,  226,   65,   16,   38, 1334,   88,   12,\n",
       "         16,  283,    5,   16, 4472,  113,  103,   32,   15,   16, 5345,\n",
       "         19,  178,   32], dtype=int32)"
      ]
     },
     "execution_count": 33,
     "metadata": {
      "tags": []
     },
     "output_type": "execute_result"
    }
   ],
   "source": [
    "X_train[0]"
   ]
  },
  {
   "cell_type": "code",
   "execution_count": null,
   "metadata": {
    "colab": {
     "base_uri": "https://localhost:8080/"
    },
    "id": "v0WLajSLEDOb",
    "outputId": "1f409f5b-70b1-47e6-ce86-f37c8ed9a9f4"
   },
   "outputs": [
    {
     "data": {
      "text/plain": [
       "array([   0,    0,    0,    0,    0,    0,    0,    0,    0,    0,    0,\n",
       "          0,    1,  591,  202,   14,   31,    6,  717,   10,   10,    2,\n",
       "          2,    5,    4,  360,    7,    4,  177, 5760,  394,  354,    4,\n",
       "        123,    9, 1035, 1035, 1035,   10,   10,   13,   92,  124,   89,\n",
       "        488, 7944,  100,   28, 1668,   14,   31,   23,   27, 7479,   29,\n",
       "        220,  468,    8,  124,   14,  286,  170,    8,  157,   46,    5,\n",
       "         27,  239,   16,  179,    2,   38,   32,   25, 7944,  451,  202,\n",
       "         14,    6,  717], dtype=int32)"
      ]
     },
     "execution_count": 34,
     "metadata": {
      "tags": []
     },
     "output_type": "execute_result"
    }
   ],
   "source": [
    "X_test[0]"
   ]
  },
  {
   "cell_type": "code",
   "execution_count": null,
   "metadata": {
    "colab": {
     "base_uri": "https://localhost:8080/"
    },
    "id": "uYx53_0gD_ii",
    "outputId": "896eefe8-49e2-4af2-ba5c-67ee80597173"
   },
   "outputs": [
    {
     "data": {
      "text/plain": [
       "88584"
      ]
     },
     "execution_count": 35,
     "metadata": {
      "tags": []
     },
     "output_type": "execute_result"
    }
   ],
   "source": [
    "index = imdb.get_word_index()\n",
    "len(index)"
   ]
  },
  {
   "cell_type": "code",
   "execution_count": null,
   "metadata": {
    "colab": {
     "base_uri": "https://localhost:8080/"
    },
    "id": "_sKgJlmOEaYo",
    "outputId": "b6a35553-b16c-4c75-dad7-277607d543b4"
   },
   "outputs": [
    {
     "data": {
      "text/plain": [
       "9999"
      ]
     },
     "execution_count": 36,
     "metadata": {
      "tags": []
     },
     "output_type": "execute_result"
    }
   ],
   "source": [
    "np.max(X_train)"
   ]
  },
  {
   "cell_type": "code",
   "execution_count": null,
   "metadata": {
    "colab": {
     "base_uri": "https://localhost:8080/"
    },
    "id": "C6QQVTyYGDSu",
    "outputId": "35a4d4b4-32b0-4373-de0c-d04c25015ac0"
   },
   "outputs": [
    {
     "data": {
      "text/plain": [
       "10000"
      ]
     },
     "execution_count": 37,
     "metadata": {
      "tags": []
     },
     "output_type": "execute_result"
    }
   ],
   "source": [
    "max_features"
   ]
  },
  {
   "cell_type": "markdown",
   "metadata": {
    "id": "dK9nZwfEHkZ7"
   },
   "source": [
    "\"Мешок слов\" - Bag of Word (BoW) \n",
    "\n",
    "http://lab314.brsu.by/kmp-lite/kmp2/JOB/CModel/BoW-Q.htm\n",
    "\n",
    "\n",
    "\n"
   ]
  },
  {
   "cell_type": "code",
   "execution_count": null,
   "metadata": {
    "colab": {
     "base_uri": "https://localhost:8080/"
    },
    "id": "gEkWIp-j7YmM",
    "outputId": "91222f26-6186-4fc9-d994-4b50c15e38fa"
   },
   "outputs": [
    {
     "data": {
      "text/plain": [
       "array([  15,  256,    4,    2,    7, 3766,    5,  723,   36,   71,   43,\n",
       "        530,  476,   26,  400,  317,   46,    7,    4,    2, 1029,   13,\n",
       "        104,   88,    4,  381,   15,  297,   98,   32, 2071,   56,   26,\n",
       "        141,    6,  194, 7486,   18,    4,  226,   22,   21,  134,  476,\n",
       "         26,  480,    5,  144,   30, 5535,   18,   51,   36,   28,  224,\n",
       "         92,   25,  104,    4,  226,   65,   16,   38, 1334,   88,   12,\n",
       "         16,  283,    5,   16, 4472,  113,  103,   32,   15,   16, 5345,\n",
       "         19,  178,   32], dtype=int32)"
      ]
     },
     "execution_count": 38,
     "metadata": {
      "tags": []
     },
     "output_type": "execute_result"
    }
   ],
   "source": [
    "X_train[0]"
   ]
  },
  {
   "cell_type": "code",
   "execution_count": null,
   "metadata": {
    "id": "MAEpc8VBDpa9"
   },
   "outputs": [],
   "source": [
    "def vectorize(sequences, dimension=10000):\n",
    "    results = np.zeros((len(sequences), dimension))\n",
    "    for i, sequence in enumerate(sequences):\n",
    "        results[i, sequence] = 1\n",
    "    return results\n",
    " \n",
    "X_train_bow = vectorize(X_train, dimension=max_features)\n",
    "X_test_bow = vectorize(X_test, dimension=max_features)"
   ]
  },
  {
   "cell_type": "code",
   "execution_count": null,
   "metadata": {
    "colab": {
     "base_uri": "https://localhost:8080/"
    },
    "id": "3WvBYi2V7sFi",
    "outputId": "fd28d3a0-7167-4257-9ab8-9a90b9b71434"
   },
   "outputs": [
    {
     "data": {
      "text/plain": [
       "array([0., 0., 1., 0., 1., 1., 1., 1., 0., 0.])"
      ]
     },
     "execution_count": 40,
     "metadata": {
      "tags": []
     },
     "output_type": "execute_result"
    }
   ],
   "source": [
    "X_train_bow[0, :10]"
   ]
  },
  {
   "cell_type": "code",
   "execution_count": null,
   "metadata": {
    "colab": {
     "base_uri": "https://localhost:8080/"
    },
    "id": "dGP_LHw5Ialo",
    "outputId": "23fdedae-f15f-40ee-ce5f-7156e3d1529f"
   },
   "outputs": [
    {
     "name": "stdout",
     "output_type": "stream",
     "text": [
      "Построение модели...\n",
      "Model: \"sequential_1\"\n",
      "_________________________________________________________________\n",
      "Layer (type)                 Output Shape              Param #   \n",
      "=================================================================\n",
      "dense_2 (Dense)              (None, 128)               1280128   \n",
      "_________________________________________________________________\n",
      "dense_3 (Dense)              (None, 1)                 129       \n",
      "=================================================================\n",
      "Total params: 1,280,257\n",
      "Trainable params: 1,280,257\n",
      "Non-trainable params: 0\n",
      "_________________________________________________________________\n"
     ]
    }
   ],
   "source": [
    "print('Построение модели...')\n",
    "model_bow = Sequential()\n",
    "\n",
    "model_bow.add(Dense(128, activation='relu', input_shape=(max_features, )))\n",
    "model_bow.add(Dense(1, activation='sigmoid'))\n",
    "\n",
    "# стоит попробовать использовать другие оптимизаторы и другие конфигурации\n",
    "model_bow.compile(loss='binary_crossentropy',\n",
    "                  optimizer='adam',\n",
    "                  metrics=['accuracy'])\n",
    "model_bow.summary()"
   ]
  },
  {
   "cell_type": "code",
   "execution_count": null,
   "metadata": {
    "colab": {
     "base_uri": "https://localhost:8080/"
    },
    "id": "fy0kwNGFIsU-",
    "outputId": "7fa5b9d9-4f4a-48cd-b720-507cd4a83d1e"
   },
   "outputs": [
    {
     "name": "stdout",
     "output_type": "stream",
     "text": [
      "Процесс обучения...\n",
      "Epoch 1/3\n",
      "500/500 [==============================] - 4s 7ms/step - loss: 0.4622 - accuracy: 0.7738 - val_loss: 0.3652 - val_accuracy: 0.8359\n",
      "Epoch 2/3\n",
      "500/500 [==============================] - 2s 5ms/step - loss: 0.2377 - accuracy: 0.9080 - val_loss: 0.3961 - val_accuracy: 0.8245\n",
      "Epoch 3/3\n",
      "500/500 [==============================] - 2s 5ms/step - loss: 0.1575 - accuracy: 0.9392 - val_loss: 0.4777 - val_accuracy: 0.8208\n"
     ]
    },
    {
     "data": {
      "text/plain": [
       "<tensorflow.python.keras.callbacks.History at 0x7fe0cc1757d0>"
      ]
     },
     "execution_count": 42,
     "metadata": {
      "tags": []
     },
     "output_type": "execute_result"
    }
   ],
   "source": [
    "print('Процесс обучения...')\n",
    "model_bow.fit(X_train_bow[:], y_train[:],\n",
    "              batch_size=batch_size,\n",
    "              epochs=3,\n",
    "              validation_data=(X_test_bow, y_test))"
   ]
  },
  {
   "cell_type": "code",
   "execution_count": null,
   "metadata": {
    "colab": {
     "base_uri": "https://localhost:8080/"
    },
    "id": "F2mSR1hKE8kP",
    "outputId": "bf782f3c-cb0a-4718-ad50-b1523bcf84a1"
   },
   "outputs": [
    {
     "name": "stdout",
     "output_type": "stream",
     "text": [
      "Валидация модели\n",
      "500/500 [==============================] - 1s 2ms/step - loss: 0.4777 - accuracy: 0.8208\n"
     ]
    }
   ],
   "source": [
    "print('Валидация модели')\n",
    "score, acc = model_bow.evaluate(X_test_bow, y_test, batch_size=batch_size)"
   ]
  },
  {
   "cell_type": "markdown",
   "metadata": {
    "id": "oTfbQ6OBRp1l"
   },
   "source": [
    "Обучение на последовательности"
   ]
  },
  {
   "cell_type": "code",
   "execution_count": null,
   "metadata": {
    "id": "GstuABaVM0tv"
   },
   "outputs": [],
   "source": [
    "def vectorize_seq(sequences, xLen=100, step=1):\n",
    "    results = np.zeros((len(sequences), xLen, 1))\n",
    "    for i, sequence in enumerate(sequences):\n",
    "        for j in range(xLen):\n",
    "            results[i, j,:] = sequence[j]\n",
    "    return results\n",
    " \n",
    "X_train_seq = vectorize_seq(X_train, xLen=maxlen)\n",
    "X_test_seq = vectorize_seq(X_test, xLen=maxlen)"
   ]
  },
  {
   "cell_type": "code",
   "execution_count": null,
   "metadata": {
    "colab": {
     "base_uri": "https://localhost:8080/"
    },
    "id": "SsmzCJY8Odhx",
    "outputId": "0d05f1d3-ecee-40ce-ec5a-09dec7970bb0"
   },
   "outputs": [
    {
     "data": {
      "text/plain": [
       "((25000, 80), (25000, 80, 1))"
      ]
     },
     "execution_count": 45,
     "metadata": {
      "tags": []
     },
     "output_type": "execute_result"
    }
   ],
   "source": [
    "X_test.shape, X_test_seq.shape"
   ]
  },
  {
   "cell_type": "code",
   "execution_count": null,
   "metadata": {
    "colab": {
     "base_uri": "https://localhost:8080/",
     "height": 235
    },
    "id": "C294q3_rGSQa",
    "outputId": "171d5294-018c-4e50-8c2d-5d514e88758c"
   },
   "outputs": [
    {
     "data": {
      "text/plain": [
       "array([  15,  256,    4,    2,    7, 3766,    5,  723,   36,   71],\n",
       "      dtype=int32)"
      ]
     },
     "metadata": {
      "tags": []
     },
     "output_type": "display_data"
    },
    {
     "data": {
      "text/plain": [
       "array([[1.500e+01],\n",
       "       [2.560e+02],\n",
       "       [4.000e+00],\n",
       "       [2.000e+00],\n",
       "       [7.000e+00],\n",
       "       [3.766e+03],\n",
       "       [5.000e+00],\n",
       "       [7.230e+02],\n",
       "       [3.600e+01],\n",
       "       [7.100e+01]])"
      ]
     },
     "metadata": {
      "tags": []
     },
     "output_type": "display_data"
    }
   ],
   "source": [
    "display(X_train[0, :10], X_train_seq[0, :10])"
   ]
  },
  {
   "cell_type": "code",
   "execution_count": null,
   "metadata": {
    "colab": {
     "base_uri": "https://localhost:8080/"
    },
    "id": "-5WgurStDH7r",
    "outputId": "ff3eebc2-cca6-4cfd-a121-949167077acc"
   },
   "outputs": [
    {
     "name": "stdout",
     "output_type": "stream",
     "text": [
      "Построение модели...\n",
      "Model: \"sequential_2\"\n",
      "_________________________________________________________________\n",
      "Layer (type)                 Output Shape              Param #   \n",
      "=================================================================\n",
      "lstm_1 (LSTM)                (None, 128)               66560     \n",
      "_________________________________________________________________\n",
      "dense_4 (Dense)              (None, 1)                 129       \n",
      "=================================================================\n",
      "Total params: 66,689\n",
      "Trainable params: 66,689\n",
      "Non-trainable params: 0\n",
      "_________________________________________________________________\n"
     ]
    }
   ],
   "source": [
    "print('Построение модели...')\n",
    "model = Sequential()\n",
    "model.add(LSTM(128, input_shape=(maxlen, 1)))\n",
    "model.add(Dense(1, activation='sigmoid'))\n",
    "\n",
    "# стоит попробовать использовать другие оптимизаторы и другие конфигурации\n",
    "model.compile(loss='binary_crossentropy',\n",
    "              optimizer='adam',\n",
    "              metrics=['accuracy'])\n",
    "model.summary()"
   ]
  },
  {
   "cell_type": "code",
   "execution_count": null,
   "metadata": {
    "colab": {
     "base_uri": "https://localhost:8080/"
    },
    "id": "RB_jXARMPB09",
    "outputId": "8aa0e215-3e4d-4ab0-c576-7968e9230656"
   },
   "outputs": [
    {
     "name": "stdout",
     "output_type": "stream",
     "text": [
      "Процесс обучения...\n",
      "Epoch 1/5\n",
      "250/250 [==============================] - 4s 11ms/step - loss: 0.6933 - accuracy: 0.5211 - val_loss: 0.6885 - val_accuracy: 0.5377\n",
      "Epoch 2/5\n",
      "250/250 [==============================] - 2s 9ms/step - loss: 0.6864 - accuracy: 0.5453 - val_loss: 0.6954 - val_accuracy: 0.5143\n",
      "Epoch 3/5\n",
      "250/250 [==============================] - 2s 9ms/step - loss: 0.6879 - accuracy: 0.5402 - val_loss: 0.6844 - val_accuracy: 0.5564\n",
      "Epoch 4/5\n",
      "250/250 [==============================] - 2s 9ms/step - loss: 0.6836 - accuracy: 0.5551 - val_loss: 0.6853 - val_accuracy: 0.5508\n",
      "Epoch 5/5\n",
      "250/250 [==============================] - 2s 9ms/step - loss: 0.6835 - accuracy: 0.5560 - val_loss: 0.6859 - val_accuracy: 0.5535\n"
     ]
    },
    {
     "data": {
      "text/plain": [
       "<tensorflow.python.keras.callbacks.History at 0x7fe0da7b1bd0>"
      ]
     },
     "execution_count": 48,
     "metadata": {
      "tags": []
     },
     "output_type": "execute_result"
    }
   ],
   "source": [
    "print('Процесс обучения...')\n",
    "model.fit(X_train_seq, y_train,\n",
    "          batch_size=100,\n",
    "          epochs=5,\n",
    "          validation_data=(X_test_seq, y_test))"
   ]
  },
  {
   "cell_type": "code",
   "execution_count": null,
   "metadata": {
    "colab": {
     "base_uri": "https://localhost:8080/"
    },
    "id": "ZWi9KWCIR_pp",
    "outputId": "9a1a186d-1f7d-44fb-ef19-f07f456e6915"
   },
   "outputs": [
    {
     "name": "stdout",
     "output_type": "stream",
     "text": [
      "Валидация модели\n",
      "500/500 [==============================] - 2s 4ms/step - loss: 0.6859 - accuracy: 0.5535\n"
     ]
    }
   ],
   "source": [
    "print('Валидация модели')\n",
    "score, acc = model.evaluate(X_test_seq, y_test, batch_size=batch_size)"
   ]
  },
  {
   "cell_type": "markdown",
   "metadata": {
    "id": "ywmxlc13SNsa"
   },
   "source": [
    "Сеть обучилась не очень хорошо, можно сделать её посложнее или просто пообучать подольше, но на самом деле так не делают, передавать индексы слов не самая лучшая затея. Это решается по-другому, с помощью **эмбеддингов**.\n",
    "\n",
    "Эмбэддинг - векторное представление слов.\n",
    "\n",
    "<img src='https://drive.google.com/uc?export=view&id=13DNqtvToTyJritI3oRbyanrnTo1I-H60'>"
   ]
  },
  {
   "cell_type": "code",
   "execution_count": null,
   "metadata": {
    "colab": {
     "base_uri": "https://localhost:8080/"
    },
    "id": "R22U-vONRiX9",
    "outputId": "bce1454e-8efc-4f73-d71b-2b9a7373e756"
   },
   "outputs": [
    {
     "name": "stdout",
     "output_type": "stream",
     "text": [
      "Построение модели...\n",
      "Model: \"sequential_3\"\n",
      "_________________________________________________________________\n",
      "Layer (type)                 Output Shape              Param #   \n",
      "=================================================================\n",
      "embedding (Embedding)        (None, None, 128)         1280000   \n",
      "_________________________________________________________________\n",
      "lstm_2 (LSTM)                (None, 128)               131584    \n",
      "_________________________________________________________________\n",
      "dense_5 (Dense)              (None, 1)                 129       \n",
      "=================================================================\n",
      "Total params: 1,411,713\n",
      "Trainable params: 1,411,713\n",
      "Non-trainable params: 0\n",
      "_________________________________________________________________\n"
     ]
    }
   ],
   "source": [
    "print('Построение модели...')\n",
    "model = Sequential()\n",
    "model.add(Embedding(max_features, 128))\n",
    "model.add(LSTM(128, dropout=0.2))\n",
    "model.add(Dense(1, activation='sigmoid'))\n",
    "\n",
    "model.compile(loss='binary_crossentropy',\n",
    "              optimizer='adam',\n",
    "              metrics=['accuracy'])\n",
    "model.summary()"
   ]
  },
  {
   "cell_type": "code",
   "execution_count": null,
   "metadata": {
    "colab": {
     "base_uri": "https://localhost:8080/"
    },
    "id": "g6GFt6iHDK71",
    "outputId": "3c76bf6d-6785-4f28-fa7e-6a6983525acb"
   },
   "outputs": [
    {
     "name": "stdout",
     "output_type": "stream",
     "text": [
      "Процесс обучения...\n",
      "Epoch 1/3\n",
      "196/196 [==============================] - 9s 34ms/step - loss: 0.5537 - accuracy: 0.6946 - val_loss: 0.3773 - val_accuracy: 0.8398\n",
      "Epoch 2/3\n",
      "196/196 [==============================] - 6s 28ms/step - loss: 0.2799 - accuracy: 0.8888 - val_loss: 0.3791 - val_accuracy: 0.8326\n",
      "Epoch 3/3\n",
      "196/196 [==============================] - 6s 29ms/step - loss: 0.2122 - accuracy: 0.9172 - val_loss: 0.4287 - val_accuracy: 0.8330\n"
     ]
    },
    {
     "data": {
      "text/plain": [
       "<tensorflow.python.keras.callbacks.History at 0x7fe151459150>"
      ]
     },
     "execution_count": 51,
     "metadata": {
      "tags": []
     },
     "output_type": "execute_result"
    }
   ],
   "source": [
    "print('Процесс обучения...')\n",
    "model.fit(X_train, y_train,\n",
    "          batch_size=128,\n",
    "          epochs=3,\n",
    "          validation_data=(X_test, y_test))"
   ]
  },
  {
   "cell_type": "code",
   "execution_count": null,
   "metadata": {
    "colab": {
     "base_uri": "https://localhost:8080/"
    },
    "id": "hdKjQavlS_gO",
    "outputId": "4804278a-5eed-49dc-df29-cbeb3d03cfcc"
   },
   "outputs": [
    {
     "name": "stdout",
     "output_type": "stream",
     "text": [
      "Валидация модели\n",
      "500/500 [==============================] - 3s 4ms/step - loss: 0.4287 - accuracy: 0.8330\n"
     ]
    }
   ],
   "source": [
    "print('Валидация модели')\n",
    "score, acc = model.evaluate(X_test, y_test, batch_size=batch_size)"
   ]
  },
  {
   "cell_type": "markdown",
   "metadata": {
    "id": "EAwCogDbAs7S"
   },
   "source": [
    "### Временной ряд"
   ]
  },
  {
   "cell_type": "markdown",
   "metadata": {
    "id": "q0_pkjh10ZDv"
   },
   "source": [
    "Давайте посмотрим пример, в котором будут использоваться временные ряды. Читаем данные из файла со значениями цены нефти марки BRENT"
   ]
  },
  {
   "cell_type": "code",
   "execution_count": null,
   "metadata": {
    "id": "1a14WfZxn4tN"
   },
   "outputs": [],
   "source": [
    "from sklearn.preprocessing import StandardScaler\n",
    "import matplotlib.pyplot as plt\n",
    "from keras.layers import Flatten"
   ]
  },
  {
   "cell_type": "code",
   "execution_count": null,
   "metadata": {
    "colab": {
     "base_uri": "https://localhost:8080/"
    },
    "id": "j0uTBfc9E1p6",
    "outputId": "e9e9d986-c584-4a78-a13b-a2b24d0a4911"
   },
   "outputs": [
    {
     "name": "stdout",
     "output_type": "stream",
     "text": [
      "--2021-05-06 07:24:54--  https://drive.google.com/uc?export=download&id=1LyP8K5557iKZPLFG2nsh-GC2v9y-nJCf\n",
      "Resolving drive.google.com (drive.google.com)... 173.194.203.102, 173.194.203.138, 173.194.203.113, ...\n",
      "Connecting to drive.google.com (drive.google.com)|173.194.203.102|:443... connected.\n",
      "HTTP request sent, awaiting response... 302 Moved Temporarily\n",
      "Location: https://doc-0s-c0-docs.googleusercontent.com/docs/securesc/ha0ro937gcuc7l7deffksulhg5h7mbp1/lv8gsa1rru09to6o1mjdm0tfs1qmrkqo/1620285825000/14904333240138417226/*/1LyP8K5557iKZPLFG2nsh-GC2v9y-nJCf?e=download [following]\n",
      "Warning: wildcards not supported in HTTP.\n",
      "--2021-05-06 07:24:55--  https://doc-0s-c0-docs.googleusercontent.com/docs/securesc/ha0ro937gcuc7l7deffksulhg5h7mbp1/lv8gsa1rru09to6o1mjdm0tfs1qmrkqo/1620285825000/14904333240138417226/*/1LyP8K5557iKZPLFG2nsh-GC2v9y-nJCf?e=download\n",
      "Resolving doc-0s-c0-docs.googleusercontent.com (doc-0s-c0-docs.googleusercontent.com)... 173.194.203.132, 2607:f8b0:400e:c05::84\n",
      "Connecting to doc-0s-c0-docs.googleusercontent.com (doc-0s-c0-docs.googleusercontent.com)|173.194.203.132|:443... connected.\n",
      "HTTP request sent, awaiting response... 200 OK\n",
      "Length: 119422 (117K) [text/csv]\n",
      "Saving to: ‘BRENT2019.csv’\n",
      "\n",
      "BRENT2019.csv       100%[===================>] 116.62K  72.3KB/s    in 1.6s    \n",
      "\n",
      "2021-05-06 07:24:57 (72.3 KB/s) - ‘BRENT2019.csv’ saved [119422/119422]\n",
      "\n"
     ]
    }
   ],
   "source": [
    "!wget 'https://drive.google.com/uc?export=download&id=1LyP8K5557iKZPLFG2nsh-GC2v9y-nJCf' -O BRENT2019.csv"
   ]
  },
  {
   "cell_type": "code",
   "execution_count": null,
   "metadata": {
    "colab": {
     "base_uri": "https://localhost:8080/"
    },
    "id": "_BAalCFs0eY7",
    "outputId": "bd18c8b6-6427-4d3c-d7fc-41836aab48d7"
   },
   "outputs": [
    {
     "name": "stdout",
     "output_type": "stream",
     "text": [
      "BRENT2019.csv  keras-SRU  sample_data\n"
     ]
    }
   ],
   "source": [
    "!ls"
   ]
  },
  {
   "cell_type": "code",
   "execution_count": null,
   "metadata": {
    "colab": {
     "base_uri": "https://localhost:8080/",
     "height": 198
    },
    "id": "Tq912y310niv",
    "outputId": "6c44b8e8-4fe5-4e97-88af-def50cbeaa2e"
   },
   "outputs": [
    {
     "data": {
      "text/html": [
       "<div>\n",
       "<style scoped>\n",
       "    .dataframe tbody tr th:only-of-type {\n",
       "        vertical-align: middle;\n",
       "    }\n",
       "\n",
       "    .dataframe tbody tr th {\n",
       "        vertical-align: top;\n",
       "    }\n",
       "\n",
       "    .dataframe thead th {\n",
       "        text-align: right;\n",
       "    }\n",
       "</style>\n",
       "<table border=\"1\" class=\"dataframe\">\n",
       "  <thead>\n",
       "    <tr style=\"text-align: right;\">\n",
       "      <th></th>\n",
       "      <th>Дата</th>\n",
       "      <th>Значение</th>\n",
       "      <th>year</th>\n",
       "      <th>month</th>\n",
       "      <th>dayofmonth</th>\n",
       "      <th>quarter</th>\n",
       "      <th>dayofyear</th>\n",
       "      <th>weekofyear</th>\n",
       "      <th>dayofweek</th>\n",
       "      <th>is_holiday</th>\n",
       "      <th>is_prev_holiday</th>\n",
       "      <th>is_next_holiday</th>\n",
       "    </tr>\n",
       "  </thead>\n",
       "  <tbody>\n",
       "    <tr>\n",
       "      <th>0</th>\n",
       "      <td>2010-09-01</td>\n",
       "      <td>76.37</td>\n",
       "      <td>2010</td>\n",
       "      <td>9</td>\n",
       "      <td>1</td>\n",
       "      <td>3</td>\n",
       "      <td>244</td>\n",
       "      <td>35</td>\n",
       "      <td>2</td>\n",
       "      <td>0</td>\n",
       "      <td>0</td>\n",
       "      <td>0</td>\n",
       "    </tr>\n",
       "    <tr>\n",
       "      <th>1</th>\n",
       "      <td>2010-09-02</td>\n",
       "      <td>76.89</td>\n",
       "      <td>2010</td>\n",
       "      <td>9</td>\n",
       "      <td>2</td>\n",
       "      <td>3</td>\n",
       "      <td>245</td>\n",
       "      <td>35</td>\n",
       "      <td>3</td>\n",
       "      <td>0</td>\n",
       "      <td>0</td>\n",
       "      <td>0</td>\n",
       "    </tr>\n",
       "    <tr>\n",
       "      <th>2</th>\n",
       "      <td>2010-09-03</td>\n",
       "      <td>76.57</td>\n",
       "      <td>2010</td>\n",
       "      <td>9</td>\n",
       "      <td>3</td>\n",
       "      <td>3</td>\n",
       "      <td>246</td>\n",
       "      <td>35</td>\n",
       "      <td>4</td>\n",
       "      <td>0</td>\n",
       "      <td>0</td>\n",
       "      <td>0</td>\n",
       "    </tr>\n",
       "    <tr>\n",
       "      <th>3</th>\n",
       "      <td>2010-09-04</td>\n",
       "      <td>76.62</td>\n",
       "      <td>2010</td>\n",
       "      <td>9</td>\n",
       "      <td>4</td>\n",
       "      <td>3</td>\n",
       "      <td>247</td>\n",
       "      <td>35</td>\n",
       "      <td>5</td>\n",
       "      <td>0</td>\n",
       "      <td>0</td>\n",
       "      <td>0</td>\n",
       "    </tr>\n",
       "    <tr>\n",
       "      <th>4</th>\n",
       "      <td>2010-09-05</td>\n",
       "      <td>76.63</td>\n",
       "      <td>2010</td>\n",
       "      <td>9</td>\n",
       "      <td>5</td>\n",
       "      <td>3</td>\n",
       "      <td>248</td>\n",
       "      <td>35</td>\n",
       "      <td>6</td>\n",
       "      <td>0</td>\n",
       "      <td>1</td>\n",
       "      <td>0</td>\n",
       "    </tr>\n",
       "  </tbody>\n",
       "</table>\n",
       "</div>"
      ],
      "text/plain": [
       "         Дата  Значение  year  ...  is_holiday  is_prev_holiday  is_next_holiday\n",
       "0  2010-09-01     76.37  2010  ...           0                0                0\n",
       "1  2010-09-02     76.89  2010  ...           0                0                0\n",
       "2  2010-09-03     76.57  2010  ...           0                0                0\n",
       "3  2010-09-04     76.62  2010  ...           0                0                0\n",
       "4  2010-09-05     76.63  2010  ...           0                1                0\n",
       "\n",
       "[5 rows x 12 columns]"
      ]
     },
     "execution_count": 56,
     "metadata": {
      "tags": []
     },
     "output_type": "execute_result"
    }
   ],
   "source": [
    "df = pd.read_csv('BRENT2019.csv')\n",
    "df.head()"
   ]
  },
  {
   "cell_type": "code",
   "execution_count": null,
   "metadata": {
    "colab": {
     "base_uri": "https://localhost:8080/"
    },
    "id": "YzldyB8Z1WdG",
    "outputId": "23e12201-9fff-43a4-e6a7-b1bf17138585"
   },
   "outputs": [
    {
     "data": {
      "text/plain": [
       "(2667, 12)"
      ]
     },
     "execution_count": 57,
     "metadata": {
      "tags": []
     },
     "output_type": "execute_result"
    }
   ],
   "source": [
    "df.shape"
   ]
  },
  {
   "cell_type": "markdown",
   "metadata": {
    "id": "WPf7IJSK0wak"
   },
   "source": [
    "Отбросим первый столбец, т.к. признаки [year,\tmonth,\tdayofmonth,\tquarter,\tdayofyear,\tweekofyear,\tdayofweek,\tis_holiday,\tis_prev_holiday,\tis_next_holiday] его представляют."
   ]
  },
  {
   "cell_type": "code",
   "execution_count": null,
   "metadata": {
    "colab": {
     "base_uri": "https://localhost:8080/",
     "height": 198
    },
    "id": "1xz-ULQA0nej",
    "outputId": "0df6b567-f1c8-4581-d801-78890c6b2164"
   },
   "outputs": [
    {
     "data": {
      "text/html": [
       "<div>\n",
       "<style scoped>\n",
       "    .dataframe tbody tr th:only-of-type {\n",
       "        vertical-align: middle;\n",
       "    }\n",
       "\n",
       "    .dataframe tbody tr th {\n",
       "        vertical-align: top;\n",
       "    }\n",
       "\n",
       "    .dataframe thead th {\n",
       "        text-align: right;\n",
       "    }\n",
       "</style>\n",
       "<table border=\"1\" class=\"dataframe\">\n",
       "  <thead>\n",
       "    <tr style=\"text-align: right;\">\n",
       "      <th></th>\n",
       "      <th>Значение</th>\n",
       "      <th>year</th>\n",
       "      <th>month</th>\n",
       "      <th>dayofmonth</th>\n",
       "      <th>quarter</th>\n",
       "      <th>dayofyear</th>\n",
       "      <th>weekofyear</th>\n",
       "      <th>dayofweek</th>\n",
       "      <th>is_holiday</th>\n",
       "      <th>is_prev_holiday</th>\n",
       "      <th>is_next_holiday</th>\n",
       "    </tr>\n",
       "  </thead>\n",
       "  <tbody>\n",
       "    <tr>\n",
       "      <th>0</th>\n",
       "      <td>76.37</td>\n",
       "      <td>2010</td>\n",
       "      <td>9</td>\n",
       "      <td>1</td>\n",
       "      <td>3</td>\n",
       "      <td>244</td>\n",
       "      <td>35</td>\n",
       "      <td>2</td>\n",
       "      <td>0</td>\n",
       "      <td>0</td>\n",
       "      <td>0</td>\n",
       "    </tr>\n",
       "    <tr>\n",
       "      <th>1</th>\n",
       "      <td>76.89</td>\n",
       "      <td>2010</td>\n",
       "      <td>9</td>\n",
       "      <td>2</td>\n",
       "      <td>3</td>\n",
       "      <td>245</td>\n",
       "      <td>35</td>\n",
       "      <td>3</td>\n",
       "      <td>0</td>\n",
       "      <td>0</td>\n",
       "      <td>0</td>\n",
       "    </tr>\n",
       "    <tr>\n",
       "      <th>2</th>\n",
       "      <td>76.57</td>\n",
       "      <td>2010</td>\n",
       "      <td>9</td>\n",
       "      <td>3</td>\n",
       "      <td>3</td>\n",
       "      <td>246</td>\n",
       "      <td>35</td>\n",
       "      <td>4</td>\n",
       "      <td>0</td>\n",
       "      <td>0</td>\n",
       "      <td>0</td>\n",
       "    </tr>\n",
       "    <tr>\n",
       "      <th>3</th>\n",
       "      <td>76.62</td>\n",
       "      <td>2010</td>\n",
       "      <td>9</td>\n",
       "      <td>4</td>\n",
       "      <td>3</td>\n",
       "      <td>247</td>\n",
       "      <td>35</td>\n",
       "      <td>5</td>\n",
       "      <td>0</td>\n",
       "      <td>0</td>\n",
       "      <td>0</td>\n",
       "    </tr>\n",
       "    <tr>\n",
       "      <th>4</th>\n",
       "      <td>76.63</td>\n",
       "      <td>2010</td>\n",
       "      <td>9</td>\n",
       "      <td>5</td>\n",
       "      <td>3</td>\n",
       "      <td>248</td>\n",
       "      <td>35</td>\n",
       "      <td>6</td>\n",
       "      <td>0</td>\n",
       "      <td>1</td>\n",
       "      <td>0</td>\n",
       "    </tr>\n",
       "  </tbody>\n",
       "</table>\n",
       "</div>"
      ],
      "text/plain": [
       "   Значение  year  month  ...  is_holiday  is_prev_holiday  is_next_holiday\n",
       "0     76.37  2010      9  ...           0                0                0\n",
       "1     76.89  2010      9  ...           0                0                0\n",
       "2     76.57  2010      9  ...           0                0                0\n",
       "3     76.62  2010      9  ...           0                0                0\n",
       "4     76.63  2010      9  ...           0                1                0\n",
       "\n",
       "[5 rows x 11 columns]"
      ]
     },
     "execution_count": 67,
     "metadata": {
      "tags": []
     },
     "output_type": "execute_result"
    }
   ],
   "source": [
    "data = df.iloc[:, 1:]\n",
    "data.head()"
   ]
  },
  {
   "cell_type": "markdown",
   "metadata": {
    "id": "Swf4ctRx1QHa"
   },
   "source": [
    "Разбиваем выборку на обучение и на тест."
   ]
  },
  {
   "cell_type": "code",
   "execution_count": null,
   "metadata": {
    "colab": {
     "base_uri": "https://localhost:8080/"
    },
    "id": "6FphmtOu1TS3",
    "outputId": "629158fd-48f3-4b4c-e1e6-fb6a8db10794"
   },
   "outputs": [
    {
     "data": {
      "text/plain": [
       "((2000, 11), (657, 11))"
      ]
     },
     "execution_count": 69,
     "metadata": {
      "tags": []
     },
     "output_type": "execute_result"
    }
   ],
   "source": [
    "train_size = 2000\n",
    "\n",
    "\n",
    "# список признаков, по которым будем учить\n",
    "features = ['Значение', 'year', 'month', \n",
    "            'dayofmonth',\n",
    "            'quarter', 'dayofyear', 'weekofyear', 'dayofweek',\n",
    "            'is_holiday', 'is_prev_holiday', 'is_next_holiday'\n",
    "            ]\n",
    "\n",
    "\n",
    "# отступ теста от тренировки\n",
    "bias = 10\n",
    "\n",
    "\n",
    "# делим\n",
    "train_data = data.iloc[:train_size][features]\n",
    "val_data = data.iloc[train_size + bias:][features]\n",
    "\n",
    "train_data.shape, val_data.shape"
   ]
  },
  {
   "cell_type": "markdown",
   "metadata": {
    "id": "pwOCwCuu1O7R"
   },
   "source": [
    "Создаем данные для обучения"
   ]
  },
  {
   "cell_type": "code",
   "execution_count": null,
   "metadata": {
    "id": "bV29ZVEI3bNs"
   },
   "outputs": [],
   "source": [
    "features = train_data.columns[1:]\n",
    "target = train_data.columns[0]"
   ]
  },
  {
   "cell_type": "code",
   "execution_count": null,
   "metadata": {
    "colab": {
     "base_uri": "https://localhost:8080/",
     "height": 198
    },
    "id": "YKuo-KbW0naa",
    "outputId": "4231811b-5927-4406-d468-6328931ef594"
   },
   "outputs": [
    {
     "data": {
      "text/html": [
       "<div>\n",
       "<style scoped>\n",
       "    .dataframe tbody tr th:only-of-type {\n",
       "        vertical-align: middle;\n",
       "    }\n",
       "\n",
       "    .dataframe tbody tr th {\n",
       "        vertical-align: top;\n",
       "    }\n",
       "\n",
       "    .dataframe thead th {\n",
       "        text-align: right;\n",
       "    }\n",
       "</style>\n",
       "<table border=\"1\" class=\"dataframe\">\n",
       "  <thead>\n",
       "    <tr style=\"text-align: right;\">\n",
       "      <th></th>\n",
       "      <th>Значение</th>\n",
       "      <th>year</th>\n",
       "      <th>month</th>\n",
       "      <th>dayofmonth</th>\n",
       "      <th>quarter</th>\n",
       "      <th>dayofyear</th>\n",
       "      <th>weekofyear</th>\n",
       "      <th>dayofweek</th>\n",
       "      <th>is_holiday</th>\n",
       "      <th>is_prev_holiday</th>\n",
       "      <th>is_next_holiday</th>\n",
       "    </tr>\n",
       "  </thead>\n",
       "  <tbody>\n",
       "    <tr>\n",
       "      <th>0</th>\n",
       "      <td>76.37</td>\n",
       "      <td>-1.745239</td>\n",
       "      <td>0.722603</td>\n",
       "      <td>-1.671876</td>\n",
       "      <td>0.452662</td>\n",
       "      <td>0.583075</td>\n",
       "      <td>0.570751</td>\n",
       "      <td>-0.263439</td>\n",
       "      <td>-0.172818</td>\n",
       "      <td>-0.164989</td>\n",
       "      <td>-0.175863</td>\n",
       "    </tr>\n",
       "    <tr>\n",
       "      <th>1</th>\n",
       "      <td>76.89</td>\n",
       "      <td>-1.745239</td>\n",
       "      <td>0.722603</td>\n",
       "      <td>-1.558131</td>\n",
       "      <td>0.452662</td>\n",
       "      <td>0.592515</td>\n",
       "      <td>0.570751</td>\n",
       "      <td>0.272007</td>\n",
       "      <td>-0.172818</td>\n",
       "      <td>-0.164989</td>\n",
       "      <td>-0.175863</td>\n",
       "    </tr>\n",
       "    <tr>\n",
       "      <th>2</th>\n",
       "      <td>76.57</td>\n",
       "      <td>-1.745239</td>\n",
       "      <td>0.722603</td>\n",
       "      <td>-1.444387</td>\n",
       "      <td>0.452662</td>\n",
       "      <td>0.601956</td>\n",
       "      <td>0.570751</td>\n",
       "      <td>0.807453</td>\n",
       "      <td>-0.172818</td>\n",
       "      <td>-0.164989</td>\n",
       "      <td>-0.175863</td>\n",
       "    </tr>\n",
       "    <tr>\n",
       "      <th>3</th>\n",
       "      <td>76.62</td>\n",
       "      <td>-1.745239</td>\n",
       "      <td>0.722603</td>\n",
       "      <td>-1.330642</td>\n",
       "      <td>0.452662</td>\n",
       "      <td>0.611396</td>\n",
       "      <td>0.570751</td>\n",
       "      <td>1.342899</td>\n",
       "      <td>-0.172818</td>\n",
       "      <td>-0.164989</td>\n",
       "      <td>-0.175863</td>\n",
       "    </tr>\n",
       "    <tr>\n",
       "      <th>4</th>\n",
       "      <td>76.63</td>\n",
       "      <td>-1.745239</td>\n",
       "      <td>0.722603</td>\n",
       "      <td>-1.216897</td>\n",
       "      <td>0.452662</td>\n",
       "      <td>0.620837</td>\n",
       "      <td>0.570751</td>\n",
       "      <td>1.878345</td>\n",
       "      <td>-0.172818</td>\n",
       "      <td>6.061011</td>\n",
       "      <td>-0.175863</td>\n",
       "    </tr>\n",
       "  </tbody>\n",
       "</table>\n",
       "</div>"
      ],
      "text/plain": [
       "   Значение      year     month  ...  is_holiday  is_prev_holiday  is_next_holiday\n",
       "0     76.37 -1.745239  0.722603  ...   -0.172818        -0.164989        -0.175863\n",
       "1     76.89 -1.745239  0.722603  ...   -0.172818        -0.164989        -0.175863\n",
       "2     76.57 -1.745239  0.722603  ...   -0.172818        -0.164989        -0.175863\n",
       "3     76.62 -1.745239  0.722603  ...   -0.172818        -0.164989        -0.175863\n",
       "4     76.63 -1.745239  0.722603  ...   -0.172818         6.061011        -0.175863\n",
       "\n",
       "[5 rows x 11 columns]"
      ]
     },
     "execution_count": 64,
     "metadata": {
      "tags": []
     },
     "output_type": "execute_result"
    }
   ],
   "source": [
    "scaler = StandardScaler()\n",
    "\n",
    "train_data[features] = scaler.fit_transform(train_data[features])\n",
    "val_data[features] = scaler.transform(val_data[features])\n",
    "\n",
    "train_data.head()"
   ]
  },
  {
   "cell_type": "markdown",
   "metadata": {
    "id": "fVy67FYq3M8A"
   },
   "source": [
    "Формируем параметры для генерации выборки"
   ]
  },
  {
   "cell_type": "code",
   "execution_count": null,
   "metadata": {
    "id": "iBna7eOq3EtQ"
   },
   "outputs": [],
   "source": [
    "# длина истории\n",
    "x_len = 7\n",
    "\n",
    "# горизонт предсказания\n",
    "future = 1\n",
    "\n",
    "# параметры модели для обучения\n",
    "learning_rate = 0.001\n",
    "batch_size = 32\n",
    "epochs = 10"
   ]
  },
  {
   "cell_type": "code",
   "execution_count": null,
   "metadata": {
    "colab": {
     "base_uri": "https://localhost:8080/"
    },
    "id": "u5ayHrMs3jjh",
    "outputId": "d895ee12-c86b-4251-9205-850e51eecec9"
   },
   "outputs": [
    {
     "name": "stdout",
     "output_type": "stream",
     "text": [
      "8 2008\n",
      "649 2018\n"
     ]
    }
   ],
   "source": [
    "start = x_len + future\n",
    "end = start + train_size\n",
    "\n",
    "print(start, end)\n",
    "\n",
    "X_train = train_data[features].values\n",
    "y_train = data.iloc[start:end][target].values\n",
    "\n",
    "\n",
    "x_end = len(val_data) - x_len - future\n",
    "label_start = len(train_data) + bias + x_len + future\n",
    "print(x_end, label_start)\n",
    "\n",
    "X_val = val_data.iloc[:x_end][features].values\n",
    "y_val = data.iloc[label_start:][target].values"
   ]
  },
  {
   "cell_type": "code",
   "execution_count": null,
   "metadata": {
    "colab": {
     "base_uri": "https://localhost:8080/"
    },
    "id": "OSGd4jrX4htT",
    "outputId": "33d372cd-c4b8-4388-86e6-78519ccab3ca"
   },
   "outputs": [
    {
     "data": {
      "text/plain": [
       "((2000, 11), (2000,), (649, 11), (649,))"
      ]
     },
     "execution_count": 71,
     "metadata": {
      "tags": []
     },
     "output_type": "execute_result"
    }
   ],
   "source": [
    "X_train.shape, y_train.shape, X_val.shape, y_val.shape"
   ]
  },
  {
   "cell_type": "code",
   "execution_count": null,
   "metadata": {
    "colab": {
     "base_uri": "https://localhost:8080/",
     "height": 350
    },
    "id": "S7HedvU350TW",
    "outputId": "1189b5df-ebe2-4502-a84e-885f2ebb2efb"
   },
   "outputs": [
    {
     "data": {
      "image/png": "[encoded data removed]",
      "text/plain": [
       "<Figure size 720x360 with 1 Axes>"
      ]
     },
     "metadata": {
      "needs_background": "light",
      "tags": []
     },
     "output_type": "display_data"
    }
   ],
   "source": [
    "plt.figure(figsize=(10, 5))\n",
    "plt.plot(data.index[x_len:y_train.shape[0]+x_len],y_train[:])\n",
    "plt.plot(data.index[y_train.shape[0]+x_len+bias+future:],y_val[:])\n",
    "plt.grid('on')\n",
    "plt.xlabel('t, дни')\n",
    "plt.ylabel('$')\n",
    "plt.title('стоимость BRENT в 2015-2018')\n",
    "plt.show()"
   ]
  },
  {
   "cell_type": "code",
   "execution_count": null,
   "metadata": {
    "id": "5e__Gvgo50Jj"
   },
   "outputs": [],
   "source": [
    "from keras.preprocessing import timeseries_dataset_from_array\n",
    "\n",
    "dataset_train = timeseries_dataset_from_array(\n",
    "    X_train,\n",
    "    y_train,\n",
    "    sequence_length=x_len,\n",
    "    sampling_rate=1,\n",
    "    batch_size=batch_size,\n",
    ")\n",
    "\n",
    "dataset_val = timeseries_dataset_from_array(\n",
    "    X_val,\n",
    "    y_val,\n",
    "    sequence_length=x_len,\n",
    "    sampling_rate=1,\n",
    "    batch_size=batch_size,\n",
    ")"
   ]
  },
  {
   "cell_type": "code",
   "execution_count": null,
   "metadata": {
    "colab": {
     "base_uri": "https://localhost:8080/"
    },
    "id": "Aglum2UP50Fn",
    "outputId": "095a5756-8b75-4b7b-e023-0011b92e7c36"
   },
   "outputs": [
    {
     "name": "stdout",
     "output_type": "stream",
     "text": [
      "Input shape: (32, 7, 10)\n",
      "tf.Tensor(\n",
      "[[-1.7452388   0.72260267 -1.55813134  0.45266166  0.5925154   0.5707507\n",
      "   0.27200661 -0.17281816 -0.16498899 -0.17586311]\n",
      " [-1.7452388   0.72260267 -1.44438667  0.45266166  0.60195592  0.5707507\n",
      "   0.80745269 -0.17281816 -0.16498899 -0.17586311]\n",
      " [-1.7452388   0.72260267 -1.330642    0.45266166  0.61139644  0.5707507\n",
      "   1.34289878 -0.17281816 -0.16498899 -0.17586311]\n",
      " [-1.7452388   0.72260267 -1.21689733  0.45266166  0.62083696  0.5707507\n",
      "   1.87834486 -0.17281816  6.06101056 -0.17586311]\n",
      " [-1.7452388   0.72260267 -1.10315266  0.45266166  0.63027748  0.63692085\n",
      "  -1.33433164  5.78642883 -0.16498899 -0.17586311]\n",
      " [-1.7452388   0.72260267 -0.989408    0.45266166  0.63971801  0.63692085\n",
      "  -0.79888556 -0.17281816 -0.16498899  5.6862407 ]\n",
      " [-1.7452388   0.72260267 -0.87566333  0.45266166  0.64915853  0.63692085\n",
      "  -0.26343947 -0.17281816 -0.16498899 -0.17586311]], shape=(7, 10), dtype=float64)\n",
      "Target shape: (32,)\n",
      "tf.Tensor(78.41, shape=(), dtype=float64)\n"
     ]
    }
   ],
   "source": [
    "for batch in dataset_train.take(1):\n",
    "    inputs, targets = batch\n",
    "    print(\"Input shape:\", inputs.shape)\n",
    "    print(inputs[1])\n",
    "    print(\"Target shape:\", targets.shape)\n",
    "    print(targets[1])"
   ]
  },
  {
   "cell_type": "markdown",
   "metadata": {
    "id": "7EXWdamM6vVb"
   },
   "source": [
    "**сеть:  LSTM слои + Conv1D + Dense слой**"
   ]
  },
  {
   "cell_type": "code",
   "execution_count": null,
   "metadata": {
    "colab": {
     "base_uri": "https://localhost:8080/"
    },
    "id": "zhuaijth6REN",
    "outputId": "029455b7-2724-4b0d-dcc0-43739fff0a93"
   },
   "outputs": [
    {
     "name": "stdout",
     "output_type": "stream",
     "text": [
      "Model: \"sequential_10\"\n",
      "_________________________________________________________________\n",
      "Layer (type)                 Output Shape              Param #   \n",
      "=================================================================\n",
      "lstm_2 (LSTM)                (None, 7, 32)             5504      \n",
      "_________________________________________________________________\n",
      "lstm_3 (LSTM)                (None, 7, 32)             8320      \n",
      "_________________________________________________________________\n",
      "conv1d (Conv1D)              (None, 5, 64)             6208      \n",
      "_________________________________________________________________\n",
      "conv1d_1 (Conv1D)            (None, 5, 64)             4160      \n",
      "_________________________________________________________________\n",
      "flatten (Flatten)            (None, 320)               0         \n",
      "_________________________________________________________________\n",
      "dense_5 (Dense)              (None, 3)                 963       \n",
      "_________________________________________________________________\n",
      "dense_6 (Dense)              (None, 1)                 4         \n",
      "=================================================================\n",
      "Total params: 25,159\n",
      "Trainable params: 25,159\n",
      "Non-trainable params: 0\n",
      "_________________________________________________________________\n"
     ]
    }
   ],
   "source": [
    "from keras.callbacks import EarlyStopping\n",
    "from keras.layers import Conv1D\n",
    "\n",
    "early_stop = EarlyStopping(monitor='val_mae', patience=5)\n",
    "\n",
    "\n",
    "model = Sequential()\n",
    "\n",
    "model.add(LSTM(32, input_shape=(inputs.shape[1], inputs.shape[2]),\n",
    "               return_sequences=True))\n",
    "model.add(LSTM(32, return_sequences=True))\n",
    "model.add(Conv1D(64, 3, activation='linear'))\n",
    "model.add(Conv1D(64, 1, activation='linear'))\n",
    "model.add(Flatten())\n",
    "model.add(Dense(3, activation='linear'))\n",
    "model.add(Dense(1, activation='linear'))\n",
    "\n",
    "model.compile(loss='mse', optimizer='adam', metrics=['mae'])\n",
    "model.summary()"
   ]
  },
  {
   "cell_type": "code",
   "execution_count": null,
   "metadata": {
    "colab": {
     "base_uri": "https://localhost:8080/"
    },
    "id": "VoStz-Z66RAi",
    "outputId": "d2b0516b-b28e-44a0-ee81-170f0eace079"
   },
   "outputs": [
    {
     "name": "stdout",
     "output_type": "stream",
     "text": [
      "Epoch 1/10\n",
      "63/63 [==============================] - 6s 32ms/step - loss: 9724.0091 - mae: 95.2793 - val_loss: 2003.2368 - val_mae: 40.0969\n",
      "Epoch 2/10\n",
      "63/63 [==============================] - 2s 26ms/step - loss: 744.4276 - mae: 22.6357 - val_loss: 2036.3044 - val_mae: 43.6811\n",
      "Epoch 3/10\n",
      "63/63 [==============================] - 2s 28ms/step - loss: 488.7882 - mae: 17.2105 - val_loss: 2067.1980 - val_mae: 44.2292\n",
      "Epoch 4/10\n",
      "63/63 [==============================] - 1s 18ms/step - loss: 417.4378 - mae: 15.8066 - val_loss: 2025.8104 - val_mae: 43.8599\n",
      "Epoch 5/10\n",
      "63/63 [==============================] - 1s 16ms/step - loss: 316.0353 - mae: 14.6237 - val_loss: 1933.2844 - val_mae: 42.8974\n",
      "Epoch 6/10\n",
      "63/63 [==============================] - 1s 16ms/step - loss: 321.5225 - mae: 15.2562 - val_loss: 1803.2949 - val_mae: 41.4406\n"
     ]
    }
   ],
   "source": [
    "history = model.fit(dataset_train,\n",
    "                    epochs=epochs,\n",
    "                    validation_data=dataset_val,\n",
    "                    callbacks=[early_stop])"
   ]
  },
  {
   "cell_type": "code",
   "execution_count": null,
   "metadata": {
    "colab": {
     "base_uri": "https://localhost:8080/",
     "height": 265
    },
    "id": "npS0O4Od6Q9C",
    "outputId": "f4fa451e-a57e-4ce3-e64a-342712a1756d"
   },
   "outputs": [
    {
     "data": {
      "image/png": "[encoded data removed]",
      "text/plain": [
       "<Figure size 432x288 with 1 Axes>"
      ]
     },
     "metadata": {
      "needs_background": "light",
      "tags": []
     },
     "output_type": "display_data"
    }
   ],
   "source": [
    "plt.plot(history.history['mae'][:], \n",
    "         label='MAE на обучающем наборе')\n",
    "plt.plot(history.history['val_mae'][:], \n",
    "         label='MAE на проверочном наборе')\n",
    "\n",
    "plt.ylabel('Средняя ошибка')\n",
    "plt.legend()\n",
    "plt.show()"
   ]
  },
  {
   "cell_type": "code",
   "execution_count": null,
   "metadata": {
    "id": "TpJFVrCy7grh"
   },
   "outputs": [],
   "source": [
    "hist_val = history.history['val_mae']\n",
    "hist_train = history.history['mae']"
   ]
  },
  {
   "cell_type": "code",
   "execution_count": null,
   "metadata": {
    "colab": {
     "base_uri": "https://localhost:8080/",
     "height": 628
    },
    "id": "MYbgEbIa7gm9",
    "outputId": "cf8906ab-4665-4d12-d8a9-8a537c7af1f2"
   },
   "outputs": [
    {
     "name": "stdout",
     "output_type": "stream",
     "text": [
      "Epoch 1/10\n",
      "63/63 [==============================] - 1s 17ms/step - loss: 85.6093 - mae: 7.4153 - val_loss: 251.0916 - val_mae: 13.7636\n",
      "Epoch 2/10\n",
      "63/63 [==============================] - 1s 17ms/step - loss: 81.7259 - mae: 7.3199 - val_loss: 238.3691 - val_mae: 13.3157\n",
      "Epoch 3/10\n",
      "63/63 [==============================] - 1s 17ms/step - loss: 80.1824 - mae: 7.2500 - val_loss: 219.4795 - val_mae: 12.6544\n",
      "Epoch 4/10\n",
      "63/63 [==============================] - 1s 17ms/step - loss: 80.5698 - mae: 7.3706 - val_loss: 220.7543 - val_mae: 12.7095\n",
      "Epoch 5/10\n",
      "63/63 [==============================] - 1s 16ms/step - loss: 84.7320 - mae: 7.4455 - val_loss: 194.7443 - val_mae: 11.7647\n",
      "Epoch 6/10\n",
      "63/63 [==============================] - 1s 17ms/step - loss: 91.5327 - mae: 7.6408 - val_loss: 212.2126 - val_mae: 12.4550\n",
      "Epoch 7/10\n",
      "63/63 [==============================] - 1s 17ms/step - loss: 88.2993 - mae: 7.5812 - val_loss: 180.1631 - val_mae: 11.2151\n",
      "Epoch 8/10\n",
      "63/63 [==============================] - 1s 17ms/step - loss: 90.7440 - mae: 7.5593 - val_loss: 203.2104 - val_mae: 12.1429\n",
      "Epoch 9/10\n",
      "63/63 [==============================] - 1s 17ms/step - loss: 84.3456 - mae: 7.4288 - val_loss: 182.1576 - val_mae: 11.3370\n",
      "Epoch 10/10\n",
      "63/63 [==============================] - 1s 17ms/step - loss: 86.0263 - mae: 7.3968 - val_loss: 191.9893 - val_mae: 11.7201\n"
     ]
    },
    {
     "data": {
      "image/png": "[encoded data removed]",
      "text/plain": [
       "<Figure size 432x288 with 1 Axes>"
      ]
     },
     "metadata": {
      "needs_background": "light",
      "tags": []
     },
     "output_type": "display_data"
    }
   ],
   "source": [
    "history = model.fit(dataset_train,\n",
    "                    epochs=epochs,\n",
    "                    validation_data=dataset_val,\n",
    "                    callbacks=[early_stop])\n",
    "\n",
    "hist_val.extend(history.history['val_mae'][:])\n",
    "hist_train.extend(history.history['mae'][:])\n",
    "\n",
    "\n",
    "plt.plot(hist_train, \n",
    "         label='MAE на обучающем наборе')\n",
    "plt.plot(hist_val, \n",
    "         label='MAE на проверочном наборе')\n",
    "\n",
    "plt.ylabel('Средняя ошибка')\n",
    "plt.legend()\n",
    "plt.show()"
   ]
  },
  {
   "cell_type": "markdown",
   "metadata": {
    "id": "sTVYH8bynCXK"
   },
   "source": [
    "Проверяем результаты:\n",
    "\n",
    "- строим предсказание\n",
    "- рисуем прогноз для тестовой части \n",
    "- рисуем прогноз по тренировочной части"
   ]
  },
  {
   "cell_type": "code",
   "execution_count": null,
   "metadata": {
    "id": "wuKT4O2WjZiQ"
   },
   "outputs": [],
   "source": [
    "pred = model.predict(dataset_train).flatten()\n",
    "pred_val = model.predict(dataset_val).flatten()"
   ]
  },
  {
   "cell_type": "code",
   "execution_count": null,
   "metadata": {
    "colab": {
     "base_uri": "https://localhost:8080/",
     "height": 334
    },
    "id": "-zt0cYfzllLW",
    "outputId": "531083a5-1d5a-49fd-e4e9-3f778cfd1a1c"
   },
   "outputs": [
    {
     "data": {
      "image/png": "[encoded data removed]",
      "text/plain": [
       "<Figure size 720x360 with 1 Axes>"
      ]
     },
     "metadata": {
      "needs_background": "light",
      "tags": []
     },
     "output_type": "display_data"
    }
   ],
   "source": [
    "start = 0\n",
    "step = 50\n",
    "plt.figure(figsize=(10, 5))\n",
    "plt.grid('on')\n",
    "plt.plot(pred_val[future + start: future + start + step], \n",
    "         label='Прогноз')\n",
    "plt.plot(y_val.flatten()[start: start+step], \n",
    "         label='Базовый ряд')\n",
    "plt.xlabel('Время')\n",
    "plt.ylabel('Значение ')\n",
    "\n",
    "plt.legend()\n",
    "plt.show()"
   ]
  },
  {
   "cell_type": "code",
   "execution_count": null,
   "metadata": {
    "colab": {
     "base_uri": "https://localhost:8080/",
     "height": 334
    },
    "id": "aEqy8GdQ8ZSq",
    "outputId": "f30dfb76-4550-461a-cf41-d4af225903dd"
   },
   "outputs": [
    {
     "data": {
      "image/png": "[encoded data removed]",
      "text/plain": [
       "<Figure size 720x360 with 1 Axes>"
      ]
     },
     "metadata": {
      "needs_background": "light",
      "tags": []
     },
     "output_type": "display_data"
    }
   ],
   "source": [
    "start = 0\n",
    "\n",
    "plt.figure(figsize=(10, 5))\n",
    "plt.grid('on')\n",
    "plt.plot(pred[future + start: future + train_size], \n",
    "         label='Прогноз')\n",
    "plt.plot(y_train.flatten()[start: train_size], \n",
    "         label='Базовый ряд')\n",
    "plt.xlabel('Время')\n",
    "plt.ylabel('Значение')\n",
    "plt.legend()\n",
    "plt.show()"
   ]
  },
  {
   "cell_type": "markdown",
   "metadata": {
    "id": "QzIyXj4sA5I1"
   },
   "source": [
    "### Генерация текста"
   ]
  },
  {
   "cell_type": "markdown",
   "metadata": {
    "id": "mS8eVmgRGbK5"
   },
   "source": [
    "#### Cонеты Шекспира"
   ]
  },
  {
   "cell_type": "code",
   "execution_count": null,
   "metadata": {
    "colab": {
     "base_uri": "https://localhost:8080/"
    },
    "id": "jQLdsphKGkPj",
    "outputId": "6ab90a5f-4b3a-4010-b770-8007ab5f6d15"
   },
   "outputs": [
    {
     "name": "stdout",
     "output_type": "stream",
     "text": [
      "--2021-05-02 18:28:47--  https://storage.googleapis.com/laurencemoroney-blog.appspot.com/sonnets.txt\n",
      "Resolving storage.googleapis.com (storage.googleapis.com)... 64.233.189.128, 108.177.97.128, 108.177.125.128, ...\n",
      "Connecting to storage.googleapis.com (storage.googleapis.com)|64.233.189.128|:443... connected.\n",
      "HTTP request sent, awaiting response... 200 OK\n",
      "Length: 93578 (91K) [text/plain]\n",
      "Saving to: ‘sonnets.txt’\n",
      "\n",
      "\r",
      "sonnets.txt           0%[                    ]       0  --.-KB/s               \r",
      "sonnets.txt         100%[===================>]  91.38K  --.-KB/s    in 0.001s  \n",
      "\n",
      "2021-05-02 18:28:47 (105 MB/s) - ‘sonnets.txt’ saved [93578/93578]\n",
      "\n"
     ]
    }
   ],
   "source": [
    "!wget https://storage.googleapis.com/laurencemoroney-blog.appspot.com/sonnets.txt -O sonnets.txt"
   ]
  },
  {
   "cell_type": "code",
   "execution_count": null,
   "metadata": {
    "colab": {
     "base_uri": "https://localhost:8080/"
    },
    "id": "eEFXxlcaGoNO",
    "outputId": "f867143f-3d7f-444f-dc58-9f1a511f220a"
   },
   "outputs": [
    {
     "data": {
      "text/plain": [
       "['from fairest creatures we desire increase,',\n",
       " \"that thereby beauty's rose might never die,\",\n",
       " 'but as the riper should by time decease,',\n",
       " 'his tender heir might bear his memory:',\n",
       " 'but thou, contracted to thine own bright eyes,',\n",
       " \"feed'st thy light'st flame with self-substantial fuel,\",\n",
       " 'making a famine where abundance lies,',\n",
       " 'thyself thy foe, to thy sweet self too cruel.',\n",
       " \"thou that art now the world's fresh ornament\",\n",
       " 'and only herald to the gaudy spring,']"
      ]
     },
     "execution_count": 87,
     "metadata": {
      "tags": []
     },
     "output_type": "execute_result"
    }
   ],
   "source": [
    "# Читаем текст\n",
    "data = open('sonnets.txt').read()\n",
    "corpus = data.lower().split(\"\\n\")\n",
    "corpus[:10]"
   ]
  },
  {
   "cell_type": "code",
   "execution_count": null,
   "metadata": {
    "id": "NcpcXWWWGeg-"
   },
   "outputs": [],
   "source": [
    "from keras.preprocessing.text import Tokenizer\n",
    "from keras.preprocessing.sequence import pad_sequences\n",
    "from keras.utils import to_categorical\n",
    "\n",
    "\n",
    "# Создаем объект для токенизации\n",
    "total_words = 1000\n",
    "tokenizer = Tokenizer(num_words=total_words)\n",
    "tokenizer.fit_on_texts(corpus)\n",
    "\n",
    "# tokenizer.index_word"
   ]
  },
  {
   "cell_type": "markdown",
   "metadata": {
    "id": "kvj2zIe-jF2D"
   },
   "source": [
    "Исполним токенизацию и кодирование"
   ]
  },
  {
   "cell_type": "code",
   "execution_count": null,
   "metadata": {
    "colab": {
     "base_uri": "https://localhost:8080/"
    },
    "id": "03d474JpHaDF",
    "outputId": "99d9e7ef-580a-443b-d7fc-da402c7d6945"
   },
   "outputs": [
    {
     "name": "stdout",
     "output_type": "stream",
     "text": [
      "from fairest creatures we desire increase,\n",
      "[[34, 417, 877, 166, 213, 517]]\n",
      "34 417\n"
     ]
    }
   ],
   "source": [
    "print(corpus[0])\n",
    "print(tokenizer.texts_to_sequences([corpus[0]]))\n",
    "print(tokenizer.word_index['from'], tokenizer.word_index['fairest'])"
   ]
  },
  {
   "cell_type": "code",
   "execution_count": null,
   "metadata": {
    "colab": {
     "base_uri": "https://localhost:8080/"
    },
    "id": "MFZYgPT5IIk1",
    "outputId": "2939d94d-8181-4a85-ace0-549d09d5b03e"
   },
   "outputs": [
    {
     "data": {
      "text/plain": [
       "[[34, 417],\n",
       " [34, 417, 877],\n",
       " [34, 417, 877, 166],\n",
       " [34, 417, 877, 166, 213],\n",
       " [34, 417, 877, 166, 213, 517],\n",
       " [8, 878],\n",
       " [8, 878, 134],\n",
       " [8, 878, 134, 351],\n",
       " [8, 878, 134, 351, 102],\n",
       " [8, 878, 134, 351, 102, 156]]"
      ]
     },
     "execution_count": 91,
     "metadata": {
      "tags": []
     },
     "output_type": "execute_result"
    }
   ],
   "source": [
    "# создадим последовательность токенов\n",
    "input_sequences = []\n",
    "for line in corpus:\n",
    "\ttoken_list = tokenizer.texts_to_sequences([line])[0]\n",
    "\tfor i in range(1, len(token_list)):\n",
    "\t\tsequence = token_list[:i+1]\n",
    "\t\tinput_sequences.append(sequence)\n",
    "input_sequences[:10]"
   ]
  },
  {
   "cell_type": "code",
   "execution_count": null,
   "metadata": {
    "colab": {
     "base_uri": "https://localhost:8080/"
    },
    "id": "DwerIGL3IlEl",
    "outputId": "f2dc2c70-9fae-4027-865e-121bb2c232b4"
   },
   "outputs": [
    {
     "name": "stdout",
     "output_type": "stream",
     "text": [
      "11\n"
     ]
    },
    {
     "data": {
      "text/plain": [
       "array([[  0,   0,   0,   0,   0,   0,   0,   0,   0,  34, 417],\n",
       "       [  0,   0,   0,   0,   0,   0,   0,   0,  34, 417, 877],\n",
       "       [  0,   0,   0,   0,   0,   0,   0,  34, 417, 877, 166],\n",
       "       [  0,   0,   0,   0,   0,   0,  34, 417, 877, 166, 213],\n",
       "       [  0,   0,   0,   0,   0,  34, 417, 877, 166, 213, 517],\n",
       "       [  0,   0,   0,   0,   0,   0,   0,   0,   0,   8, 878],\n",
       "       [  0,   0,   0,   0,   0,   0,   0,   0,   8, 878, 134],\n",
       "       [  0,   0,   0,   0,   0,   0,   0,   8, 878, 134, 351],\n",
       "       [  0,   0,   0,   0,   0,   0,   8, 878, 134, 351, 102],\n",
       "       [  0,   0,   0,   0,   0,   8, 878, 134, 351, 102, 156]],\n",
       "      dtype=int32)"
      ]
     },
     "execution_count": 92,
     "metadata": {
      "tags": []
     },
     "output_type": "execute_result"
    }
   ],
   "source": [
    "# pad sequences \n",
    "max_sequence_len = max([len(x) for x in input_sequences])\n",
    "print(max_sequence_len)\n",
    "input_sequences = np.array(pad_sequences(input_sequences, maxlen=max_sequence_len, padding='pre'))\n",
    "input_sequences[:10]"
   ]
  },
  {
   "cell_type": "code",
   "execution_count": null,
   "metadata": {
    "colab": {
     "base_uri": "https://localhost:8080/"
    },
    "id": "PRnDnCW-Z7qv",
    "outputId": "37b95012-0502-413e-bba7-a7ccf6d11e87"
   },
   "outputs": [
    {
     "data": {
      "text/plain": [
       "(12880, 1000)"
      ]
     },
     "execution_count": 93,
     "metadata": {
      "tags": []
     },
     "output_type": "execute_result"
    }
   ],
   "source": [
    "predictors, label = input_sequences[:,:-1], input_sequences[:,-1]\n",
    "\n",
    "label = to_categorical(label, num_classes=total_words)\n",
    "label.shape"
   ]
  },
  {
   "cell_type": "code",
   "execution_count": null,
   "metadata": {
    "colab": {
     "base_uri": "https://localhost:8080/"
    },
    "id": "fyWwtXSlyeCL",
    "outputId": "5b54c3a7-0dc9-4c5b-8cee-14a1ef736835"
   },
   "outputs": [
    {
     "data": {
      "text/plain": [
       "(array([ 0,  0,  0,  0,  0,  0,  0,  0,  0, 34], dtype=int32), 417)"
      ]
     },
     "execution_count": 94,
     "metadata": {
      "tags": []
     },
     "output_type": "execute_result"
    }
   ],
   "source": [
    "predictors[0], np.argmax(label[0])"
   ]
  },
  {
   "cell_type": "markdown",
   "metadata": {
    "id": "0ZMOORKCjpUU"
   },
   "source": [
    "Создаем сеть"
   ]
  },
  {
   "cell_type": "code",
   "execution_count": null,
   "metadata": {
    "colab": {
     "base_uri": "https://localhost:8080/"
    },
    "id": "w9vH8Y59ajYL",
    "outputId": "f7741359-e6b2-46f0-d1b0-cfecffd57bdf"
   },
   "outputs": [
    {
     "name": "stdout",
     "output_type": "stream",
     "text": [
      "Model: \"sequential_11\"\n",
      "_________________________________________________________________\n",
      "Layer (type)                 Output Shape              Param #   \n",
      "=================================================================\n",
      "embedding (Embedding)        (None, 10, 512)           512000    \n",
      "_________________________________________________________________\n",
      "bidirectional (Bidirectional (None, 10, 512)           1574912   \n",
      "_________________________________________________________________\n",
      "bidirectional_1 (Bidirection (None, 10, 1024)          4198400   \n",
      "_________________________________________________________________\n",
      "lstm_6 (LSTM)                (None, 256)               1311744   \n",
      "_________________________________________________________________\n",
      "dropout (Dropout)            (None, 256)               0         \n",
      "_________________________________________________________________\n",
      "dense_7 (Dense)              (None, 500)               128500    \n",
      "_________________________________________________________________\n",
      "dense_8 (Dense)              (None, 1000)              501000    \n",
      "=================================================================\n",
      "Total params: 8,226,556\n",
      "Trainable params: 8,226,556\n",
      "Non-trainable params: 0\n",
      "_________________________________________________________________\n"
     ]
    }
   ],
   "source": [
    "from keras.layers import Dropout, Bidirectional\n",
    "from keras import regularizers\n",
    "from keras.optimizers import Adam\n",
    "\n",
    "\n",
    "early_stop = EarlyStopping(monitor='val_loss', patience=10)\n",
    "\n",
    "model = Sequential()\n",
    "model.add(Embedding(input_dim=total_words,\n",
    "                    output_dim=512,\n",
    "                    input_length=max_sequence_len-1))\n",
    "model.add(Bidirectional(LSTM(256, return_sequences=True)))\n",
    "model.add(Bidirectional(LSTM(512, return_sequences=True)))\n",
    "model.add(LSTM(256))\n",
    "model.add(Dropout(0.2))\n",
    "model.add(Dense(total_words / 2 , activation='relu'))\n",
    "model.add(Dense(total_words, activation='softmax'))\n",
    "\n",
    "model.compile(loss='categorical_crossentropy',\n",
    "              optimizer=Adam(0.001),\n",
    "              metrics=['accuracy'])\n",
    "model.summary()"
   ]
  },
  {
   "cell_type": "code",
   "execution_count": null,
   "metadata": {
    "colab": {
     "base_uri": "https://localhost:8080/",
     "height": 396
    },
    "id": "AIg2f1HBxqof",
    "outputId": "d109321e-2bdf-4da3-8e36-6ea1aefbc80a"
   },
   "outputs": [
    {
     "name": "stdout",
     "output_type": "stream",
     "text": [
      "Epoch 1/100\n",
      "  9/322 [..............................] - ETA: 3:37 - loss: 6.8638 - accuracy: 0.0042"
     ]
    },
    {
     "ename": "KeyboardInterrupt",
     "evalue": "ignored",
     "output_type": "error",
     "traceback": [
      "\u001b[0;31m---------------------------------------------------------------------------\u001b[0m",
      "\u001b[0;31mKeyboardInterrupt\u001b[0m                         Traceback (most recent call last)",
      "\u001b[0;32m<ipython-input-96-27da9d7e7585>\u001b[0m in \u001b[0;36m<module>\u001b[0;34m()\u001b[0m\n\u001b[1;32m      3\u001b[0m                     \u001b[0mvalidation_split\u001b[0m\u001b[0;34m=\u001b[0m\u001b[0;36m0.2\u001b[0m\u001b[0;34m,\u001b[0m\u001b[0;34m\u001b[0m\u001b[0;34m\u001b[0m\u001b[0m\n\u001b[1;32m      4\u001b[0m                     \u001b[0mcallbacks\u001b[0m\u001b[0;34m=\u001b[0m\u001b[0;34m[\u001b[0m\u001b[0mearly_stop\u001b[0m\u001b[0;34m]\u001b[0m\u001b[0;34m,\u001b[0m\u001b[0;34m\u001b[0m\u001b[0;34m\u001b[0m\u001b[0m\n\u001b[0;32m----> 5\u001b[0;31m                     verbose=1)\n\u001b[0m",
      "\u001b[0;32m/usr/local/lib/python3.7/dist-packages/tensorflow/python/keras/engine/training.py\u001b[0m in \u001b[0;36mfit\u001b[0;34m(self, x, y, batch_size, epochs, verbose, callbacks, validation_split, validation_data, shuffle, class_weight, sample_weight, initial_epoch, steps_per_epoch, validation_steps, validation_batch_size, validation_freq, max_queue_size, workers, use_multiprocessing)\u001b[0m\n\u001b[1;32m   1098\u001b[0m                 _r=1):\n\u001b[1;32m   1099\u001b[0m               \u001b[0mcallbacks\u001b[0m\u001b[0;34m.\u001b[0m\u001b[0mon_train_batch_begin\u001b[0m\u001b[0;34m(\u001b[0m\u001b[0mstep\u001b[0m\u001b[0;34m)\u001b[0m\u001b[0;34m\u001b[0m\u001b[0;34m\u001b[0m\u001b[0m\n\u001b[0;32m-> 1100\u001b[0;31m               \u001b[0mtmp_logs\u001b[0m \u001b[0;34m=\u001b[0m \u001b[0mself\u001b[0m\u001b[0;34m.\u001b[0m\u001b[0mtrain_function\u001b[0m\u001b[0;34m(\u001b[0m\u001b[0miterator\u001b[0m\u001b[0;34m)\u001b[0m\u001b[0;34m\u001b[0m\u001b[0;34m\u001b[0m\u001b[0m\n\u001b[0m\u001b[1;32m   1101\u001b[0m               \u001b[0;32mif\u001b[0m \u001b[0mdata_handler\u001b[0m\u001b[0;34m.\u001b[0m\u001b[0mshould_sync\u001b[0m\u001b[0;34m:\u001b[0m\u001b[0;34m\u001b[0m\u001b[0;34m\u001b[0m\u001b[0m\n\u001b[1;32m   1102\u001b[0m                 \u001b[0mcontext\u001b[0m\u001b[0;34m.\u001b[0m\u001b[0masync_wait\u001b[0m\u001b[0;34m(\u001b[0m\u001b[0;34m)\u001b[0m\u001b[0;34m\u001b[0m\u001b[0;34m\u001b[0m\u001b[0m\n",
      "\u001b[0;32m/usr/local/lib/python3.7/dist-packages/tensorflow/python/eager/def_function.py\u001b[0m in \u001b[0;36m__call__\u001b[0;34m(self, *args, **kwds)\u001b[0m\n\u001b[1;32m    826\u001b[0m     \u001b[0mtracing_count\u001b[0m \u001b[0;34m=\u001b[0m \u001b[0mself\u001b[0m\u001b[0;34m.\u001b[0m\u001b[0mexperimental_get_tracing_count\u001b[0m\u001b[0;34m(\u001b[0m\u001b[0;34m)\u001b[0m\u001b[0;34m\u001b[0m\u001b[0;34m\u001b[0m\u001b[0m\n\u001b[1;32m    827\u001b[0m     \u001b[0;32mwith\u001b[0m \u001b[0mtrace\u001b[0m\u001b[0;34m.\u001b[0m\u001b[0mTrace\u001b[0m\u001b[0;34m(\u001b[0m\u001b[0mself\u001b[0m\u001b[0;34m.\u001b[0m\u001b[0m_name\u001b[0m\u001b[0;34m)\u001b[0m \u001b[0;32mas\u001b[0m \u001b[0mtm\u001b[0m\u001b[0;34m:\u001b[0m\u001b[0;34m\u001b[0m\u001b[0;34m\u001b[0m\u001b[0m\n\u001b[0;32m--> 828\u001b[0;31m       \u001b[0mresult\u001b[0m \u001b[0;34m=\u001b[0m \u001b[0mself\u001b[0m\u001b[0;34m.\u001b[0m\u001b[0m_call\u001b[0m\u001b[0;34m(\u001b[0m\u001b[0;34m*\u001b[0m\u001b[0margs\u001b[0m\u001b[0;34m,\u001b[0m \u001b[0;34m**\u001b[0m\u001b[0mkwds\u001b[0m\u001b[0;34m)\u001b[0m\u001b[0;34m\u001b[0m\u001b[0;34m\u001b[0m\u001b[0m\n\u001b[0m\u001b[1;32m    829\u001b[0m       \u001b[0mcompiler\u001b[0m \u001b[0;34m=\u001b[0m \u001b[0;34m\"xla\"\u001b[0m \u001b[0;32mif\u001b[0m \u001b[0mself\u001b[0m\u001b[0;34m.\u001b[0m\u001b[0m_experimental_compile\u001b[0m \u001b[0;32melse\u001b[0m \u001b[0;34m\"nonXla\"\u001b[0m\u001b[0;34m\u001b[0m\u001b[0;34m\u001b[0m\u001b[0m\n\u001b[1;32m    830\u001b[0m       \u001b[0mnew_tracing_count\u001b[0m \u001b[0;34m=\u001b[0m \u001b[0mself\u001b[0m\u001b[0;34m.\u001b[0m\u001b[0mexperimental_get_tracing_count\u001b[0m\u001b[0;34m(\u001b[0m\u001b[0;34m)\u001b[0m\u001b[0;34m\u001b[0m\u001b[0;34m\u001b[0m\u001b[0m\n",
      "\u001b[0;32m/usr/local/lib/python3.7/dist-packages/tensorflow/python/eager/def_function.py\u001b[0m in \u001b[0;36m_call\u001b[0;34m(self, *args, **kwds)\u001b[0m\n\u001b[1;32m    853\u001b[0m       \u001b[0;31m# In this case we have created variables on the first call, so we run the\u001b[0m\u001b[0;34m\u001b[0m\u001b[0;34m\u001b[0m\u001b[0;34m\u001b[0m\u001b[0m\n\u001b[1;32m    854\u001b[0m       \u001b[0;31m# defunned version which is guaranteed to never create variables.\u001b[0m\u001b[0;34m\u001b[0m\u001b[0;34m\u001b[0m\u001b[0;34m\u001b[0m\u001b[0m\n\u001b[0;32m--> 855\u001b[0;31m       \u001b[0;32mreturn\u001b[0m \u001b[0mself\u001b[0m\u001b[0;34m.\u001b[0m\u001b[0m_stateless_fn\u001b[0m\u001b[0;34m(\u001b[0m\u001b[0;34m*\u001b[0m\u001b[0margs\u001b[0m\u001b[0;34m,\u001b[0m \u001b[0;34m**\u001b[0m\u001b[0mkwds\u001b[0m\u001b[0;34m)\u001b[0m  \u001b[0;31m# pylint: disable=not-callable\u001b[0m\u001b[0;34m\u001b[0m\u001b[0;34m\u001b[0m\u001b[0m\n\u001b[0m\u001b[1;32m    856\u001b[0m     \u001b[0;32melif\u001b[0m \u001b[0mself\u001b[0m\u001b[0;34m.\u001b[0m\u001b[0m_stateful_fn\u001b[0m \u001b[0;32mis\u001b[0m \u001b[0;32mnot\u001b[0m \u001b[0;32mNone\u001b[0m\u001b[0;34m:\u001b[0m\u001b[0;34m\u001b[0m\u001b[0;34m\u001b[0m\u001b[0m\n\u001b[1;32m    857\u001b[0m       \u001b[0;31m# Release the lock early so that multiple threads can perform the call\u001b[0m\u001b[0;34m\u001b[0m\u001b[0;34m\u001b[0m\u001b[0;34m\u001b[0m\u001b[0m\n",
      "\u001b[0;32m/usr/local/lib/python3.7/dist-packages/tensorflow/python/eager/function.py\u001b[0m in \u001b[0;36m__call__\u001b[0;34m(self, *args, **kwargs)\u001b[0m\n\u001b[1;32m   2941\u001b[0m        filtered_flat_args) = self._maybe_define_function(args, kwargs)\n\u001b[1;32m   2942\u001b[0m     return graph_function._call_flat(\n\u001b[0;32m-> 2943\u001b[0;31m         filtered_flat_args, captured_inputs=graph_function.captured_inputs)  # pylint: disable=protected-access\n\u001b[0m\u001b[1;32m   2944\u001b[0m \u001b[0;34m\u001b[0m\u001b[0m\n\u001b[1;32m   2945\u001b[0m   \u001b[0;34m@\u001b[0m\u001b[0mproperty\u001b[0m\u001b[0;34m\u001b[0m\u001b[0;34m\u001b[0m\u001b[0m\n",
      "\u001b[0;32m/usr/local/lib/python3.7/dist-packages/tensorflow/python/eager/function.py\u001b[0m in \u001b[0;36m_call_flat\u001b[0;34m(self, args, captured_inputs, cancellation_manager)\u001b[0m\n\u001b[1;32m   1917\u001b[0m       \u001b[0;31m# No tape is watching; skip to running the function.\u001b[0m\u001b[0;34m\u001b[0m\u001b[0;34m\u001b[0m\u001b[0;34m\u001b[0m\u001b[0m\n\u001b[1;32m   1918\u001b[0m       return self._build_call_outputs(self._inference_function.call(\n\u001b[0;32m-> 1919\u001b[0;31m           ctx, args, cancellation_manager=cancellation_manager))\n\u001b[0m\u001b[1;32m   1920\u001b[0m     forward_backward = self._select_forward_and_backward_functions(\n\u001b[1;32m   1921\u001b[0m         \u001b[0margs\u001b[0m\u001b[0;34m,\u001b[0m\u001b[0;34m\u001b[0m\u001b[0;34m\u001b[0m\u001b[0m\n",
      "\u001b[0;32m/usr/local/lib/python3.7/dist-packages/tensorflow/python/eager/function.py\u001b[0m in \u001b[0;36mcall\u001b[0;34m(self, ctx, args, cancellation_manager)\u001b[0m\n\u001b[1;32m    558\u001b[0m               \u001b[0minputs\u001b[0m\u001b[0;34m=\u001b[0m\u001b[0margs\u001b[0m\u001b[0;34m,\u001b[0m\u001b[0;34m\u001b[0m\u001b[0;34m\u001b[0m\u001b[0m\n\u001b[1;32m    559\u001b[0m               \u001b[0mattrs\u001b[0m\u001b[0;34m=\u001b[0m\u001b[0mattrs\u001b[0m\u001b[0;34m,\u001b[0m\u001b[0;34m\u001b[0m\u001b[0;34m\u001b[0m\u001b[0m\n\u001b[0;32m--> 560\u001b[0;31m               ctx=ctx)\n\u001b[0m\u001b[1;32m    561\u001b[0m         \u001b[0;32melse\u001b[0m\u001b[0;34m:\u001b[0m\u001b[0;34m\u001b[0m\u001b[0;34m\u001b[0m\u001b[0m\n\u001b[1;32m    562\u001b[0m           outputs = execute.execute_with_cancellation(\n",
      "\u001b[0;32m/usr/local/lib/python3.7/dist-packages/tensorflow/python/eager/execute.py\u001b[0m in \u001b[0;36mquick_execute\u001b[0;34m(op_name, num_outputs, inputs, attrs, ctx, name)\u001b[0m\n\u001b[1;32m     58\u001b[0m     \u001b[0mctx\u001b[0m\u001b[0;34m.\u001b[0m\u001b[0mensure_initialized\u001b[0m\u001b[0;34m(\u001b[0m\u001b[0;34m)\u001b[0m\u001b[0;34m\u001b[0m\u001b[0;34m\u001b[0m\u001b[0m\n\u001b[1;32m     59\u001b[0m     tensors = pywrap_tfe.TFE_Py_Execute(ctx._handle, device_name, op_name,\n\u001b[0;32m---> 60\u001b[0;31m                                         inputs, attrs, num_outputs)\n\u001b[0m\u001b[1;32m     61\u001b[0m   \u001b[0;32mexcept\u001b[0m \u001b[0mcore\u001b[0m\u001b[0;34m.\u001b[0m\u001b[0m_NotOkStatusException\u001b[0m \u001b[0;32mas\u001b[0m \u001b[0me\u001b[0m\u001b[0;34m:\u001b[0m\u001b[0;34m\u001b[0m\u001b[0;34m\u001b[0m\u001b[0m\n\u001b[1;32m     62\u001b[0m     \u001b[0;32mif\u001b[0m \u001b[0mname\u001b[0m \u001b[0;32mis\u001b[0m \u001b[0;32mnot\u001b[0m \u001b[0;32mNone\u001b[0m\u001b[0;34m:\u001b[0m\u001b[0;34m\u001b[0m\u001b[0;34m\u001b[0m\u001b[0m\n",
      "\u001b[0;31mKeyboardInterrupt\u001b[0m: "
     ]
    }
   ],
   "source": [
    "history = model.fit(predictors, label,\n",
    "                    epochs=100,\n",
    "                    validation_split=0.2,\n",
    "                    callbacks=[early_stop],\n",
    "                    verbose=1)"
   ]
  },
  {
   "cell_type": "markdown",
   "metadata": {
    "id": "qdhjEfBElNMC"
   },
   "source": [
    "Тест\n"
   ]
  },
  {
   "cell_type": "code",
   "execution_count": null,
   "metadata": {
    "colab": {
     "base_uri": "https://localhost:8080/",
     "height": 545
    },
    "id": "1fXTEO3GJ282",
    "outputId": "0485a8d7-6268-4a01-c268-cddf7d5b1989"
   },
   "outputs": [
    {
     "data": {
      "image/png": "[encoded data removed]",
      "text/plain": [
       "<Figure size 432x288 with 1 Axes>"
      ]
     },
     "metadata": {
      "needs_background": "light",
      "tags": []
     },
     "output_type": "display_data"
    },
    {
     "data": {
      "image/png": "[encoded data removed]",
      "text/plain": [
       "<Figure size 432x288 with 1 Axes>"
      ]
     },
     "metadata": {
      "needs_background": "light",
      "tags": []
     },
     "output_type": "display_data"
    }
   ],
   "source": [
    "acc = history.history['accuracy']\n",
    "acc_v = history.history['val_accuracy']\n",
    "loss = history.history['loss']\n",
    "loss_v = history.history['val_loss']\n",
    "\n",
    "epochs = range(len(acc))\n",
    "\n",
    "plt.plot(epochs, acc, label='Train')\n",
    "plt.plot(epochs, acc_v, label='Test')\n",
    "plt.legend()\n",
    "plt.title('accuracy')\n",
    "\n",
    "plt.figure()\n",
    "\n",
    "plt.plot(epochs, loss, label='Train')\n",
    "plt.plot(epochs, loss_v, label='Test')\n",
    "plt.title('loss')\n",
    "plt.legend()\n",
    "\n",
    "plt.show()"
   ]
  },
  {
   "cell_type": "markdown",
   "metadata": {
    "id": "RxYwdExpNgLW"
   },
   "source": [
    "Строим тест генератора"
   ]
  },
  {
   "cell_type": "code",
   "execution_count": null,
   "metadata": {
    "colab": {
     "base_uri": "https://localhost:8080/"
    },
    "id": "6Vc6PHgxa6Hm",
    "outputId": "f77369e9-1abb-45a1-db63-93550eb6216a"
   },
   "outputs": [
    {
     "name": "stdout",
     "output_type": "stream",
     "text": [
      "[591, 18, 5, 352, 393]\n"
     ]
    },
    {
     "name": "stderr",
     "output_type": "stream",
     "text": [
      "/usr/local/lib/python3.7/dist-packages/tensorflow/python/keras/engine/sequential.py:450: UserWarning: `model.predict_classes()` is deprecated and will be removed after 2021-01-01. Please use instead:* `np.argmax(model.predict(x), axis=-1)`,   if your model does multi-class classification   (e.g. if it uses a `softmax` last-layer activation).* `(model.predict(x) > 0.5).astype(\"int32\")`,   if your model does binary classification   (e.g. if it uses a `sigmoid` last-layer activation).\n",
      "  warnings.warn('`model.predict_classes()` is deprecated and '\n"
     ]
    },
    {
     "name": "stdout",
     "output_type": "stream",
     "text": [
      "[591, 18, 5, 352, 393, 2]\n",
      "[591, 18, 5, 352, 393, 2, 14]\n",
      "[591, 18, 5, 352, 393, 2, 14, 1]\n",
      "[591, 18, 5, 352, 393, 2, 14, 1, 5]\n",
      "[591, 18, 5, 352, 393, 2, 14, 1, 5, 14]\n",
      "[591, 18, 5, 352, 393, 2, 14, 1, 5, 14, 11]\n",
      "[591, 18, 5, 352, 393, 2, 14, 1, 5, 14, 11, 2]\n",
      "[591, 18, 5, 352, 393, 2, 14, 1, 5, 14, 11, 2, 14]\n",
      "[591, 18, 5, 352, 393, 2, 14, 1, 5, 14, 11, 2, 14, 1]\n",
      "Help me Obi Wan Kenobi, you're my only hope the love and my love with the love and my\n"
     ]
    }
   ],
   "source": [
    "seed_text = \"Help me Obi Wan Kenobi, you're my only hope\"\n",
    "# seed_text = \"She is my girl, I see in my hend\"\n",
    "next_words = 10\n",
    "  \n",
    "for _ in range(next_words):\n",
    "    token_list = tokenizer.texts_to_sequences([seed_text])[0]\n",
    "    print(token_list)\n",
    "    token_list = pad_sequences([token_list], maxlen=max_sequence_len-1, padding='pre')\n",
    "    predicted = model.predict_classes(token_list, verbose=0)\n",
    "\n",
    "    y_p = model.predict(token_list)\n",
    "    output_word = tokenizer.index_word[predicted[0]]\n",
    "    seed_text += \" \" + output_word\n",
    "    \n",
    "print(seed_text)"
   ]
  },
  {
   "cell_type": "code",
   "execution_count": null,
   "metadata": {
    "colab": {
     "base_uri": "https://localhost:8080/",
     "height": 283
    },
    "id": "nG0XtgeLgkie",
    "outputId": "fbe4c437-fc69-44d3-befc-b7eceaeef1d7"
   },
   "outputs": [
    {
     "data": {
      "text/plain": [
       "[<matplotlib.lines.Line2D at 0x7f236c260750>]"
      ]
     },
     "execution_count": 244,
     "metadata": {
      "tags": []
     },
     "output_type": "execute_result"
    },
    {
     "data": {
      "image/png": "[encoded data removed]",
      "text/plain": [
       "<Figure size 432x288 with 1 Axes>"
      ]
     },
     "metadata": {
      "needs_background": "light",
      "tags": []
     },
     "output_type": "display_data"
    }
   ],
   "source": [
    "plt.plot(y_p[0,:])"
   ]
  },
  {
   "cell_type": "markdown",
   "metadata": {
    "id": "UjyB62iQGYcw"
   },
   "source": [
    "#### Алиса в стране чудес"
   ]
  },
  {
   "cell_type": "markdown",
   "metadata": {
    "id": "aGp9JAm_TEPr"
   },
   "source": [
    "В задачу нейросети будет входить обучившись на тексте Алиса в стране чудес и начать генерировать текст, похожий на тот, что можно встретить в этой книге. Также в этом примере будет использоваться GRU."
   ]
  },
  {
   "cell_type": "code",
   "execution_count": null,
   "metadata": {
    "colab": {
     "base_uri": "https://localhost:8080/"
    },
    "id": "ZjUtklU2WHJ5",
    "outputId": "f473295c-464f-4442-f83f-eb4365bd7367"
   },
   "outputs": [
    {
     "name": "stdout",
     "output_type": "stream",
     "text": [
      "--2021-05-02 18:37:24--  https://drive.google.com/uc?export=dowload&id=1JhmK85mRgyEYWhy-9td4rL9quV0peLEi\n",
      "Resolving drive.google.com (drive.google.com)... 74.125.204.113, 74.125.204.139, 74.125.204.101, ...\n",
      "Connecting to drive.google.com (drive.google.com)|74.125.204.113|:443... connected.\n",
      "HTTP request sent, awaiting response... 302 Moved Temporarily\n",
      "Location: https://doc-0g-c0-docs.googleusercontent.com/docs/securesc/ha0ro937gcuc7l7deffksulhg5h7mbp1/56tcm70l23lv6t0rh6b69mht55djr3r1/1619980575000/14904333240138417226/*/1JhmK85mRgyEYWhy-9td4rL9quV0peLEi?e=dowload [following]\n",
      "Warning: wildcards not supported in HTTP.\n",
      "--2021-05-02 18:37:25--  https://doc-0g-c0-docs.googleusercontent.com/docs/securesc/ha0ro937gcuc7l7deffksulhg5h7mbp1/56tcm70l23lv6t0rh6b69mht55djr3r1/1619980575000/14904333240138417226/*/1JhmK85mRgyEYWhy-9td4rL9quV0peLEi?e=dowload\n",
      "Resolving doc-0g-c0-docs.googleusercontent.com (doc-0g-c0-docs.googleusercontent.com)... 108.177.97.132, 2404:6800:4008:c00::84\n",
      "Connecting to doc-0g-c0-docs.googleusercontent.com (doc-0g-c0-docs.googleusercontent.com)|108.177.97.132|:443... connected.\n",
      "HTTP request sent, awaiting response... 200 OK\n",
      "Length: 169855 (166K) [text/plain]\n",
      "Saving to: ‘alice_in_wonderland.txt’\n",
      "\n",
      "alice_in_wonderland 100%[===================>] 165.87K  --.-KB/s    in 0.002s  \n",
      "\n",
      "2021-05-02 18:37:25 (108 MB/s) - ‘alice_in_wonderland.txt’ saved [169855/169855]\n",
      "\n"
     ]
    }
   ],
   "source": [
    "!wget 'https://drive.google.com/uc?export=dowload&id=1JhmK85mRgyEYWhy-9td4rL9quV0peLEi' -O alice_in_wonderland.txt"
   ]
  },
  {
   "cell_type": "code",
   "execution_count": null,
   "metadata": {
    "id": "Qi_ZLAgdTEPt"
   },
   "outputs": [],
   "source": [
    "import numpy as np\n",
    "from keras.layers import Dense, Activation\n",
    "from keras.layers.recurrent import SimpleRNN, LSTM, GRU\n",
    "from keras.models import Sequential\n",
    "\n",
    "\n",
    "# построчное чтение из примера с текстом \n",
    "with open(\"alice_in_wonderland.txt\", 'rb') as f:\n",
    "    lines = []\n",
    "    for line in f:\n",
    "        line = line.strip().lower().decode(\"ascii\", \"ignore\")\n",
    "        if len(line) == 0:\n",
    "            continue\n",
    "        lines.append(line)\n",
    "\n",
    "text = \" \".join(lines)\n",
    "chars = set([c for c in text])\n",
    "n_chars = len(chars)"
   ]
  },
  {
   "cell_type": "code",
   "execution_count": null,
   "metadata": {
    "colab": {
     "base_uri": "https://localhost:8080/",
     "height": 145
    },
    "id": "dbuZGQOzZmV-",
    "outputId": "01039cf6-ba2d-495f-cd3c-65e9039945d3"
   },
   "outputs": [
    {
     "data": {
      "application/vnd.google.colaboratory.intrinsic+json": {
       "type": "string"
      },
      "text/plain": [
       "'project gutenbergs alices adventures in wonderland, by lewis carroll this ebook is for the use of anyone anywhere at no cost and with almost no restrictions whatsoever.  you may copy it, give it away or re-use it under the terms of the project gutenberg license included with this ebook or online at www.gutenberg.org title: alices adventures in wonderland author: lewis carroll posting date: june 25, 2008 [ebook #11] release date: march, 1994 last updated: october 6, 2016 language: english character set encoding: utf-8 *** start of this project gutenberg ebook alices adventures in wonderland *** alices adventures in wonderland lewis carroll the millennium fulcrum edition 3.0 chapter i. down the rabbit-hole alice was beginning to get very tired of sitting by her sister on the bank, and of having nothing to do: once or twice she had peeped into the book her sister was reading, but it had no pictures or conversations in it, and what is the use of a book, thought alice without pictures or conversations? so she was considering in her own mind (as well as she could, for the hot day made her feel very sleepy and stupid), whether the pleasure of making a daisy-chain would be worth the trouble of getting up and picking the daisies, when suddenly a white rabbit with pink eyes ran close by her. there was nothing so very remarkable in that; nor did alice think it so very much out of the way to hear the rabbit say to itself, oh dear! oh dear! i shall be late! (when she thought it over afterwards, it occurred to her that she ought to have wondered at this, but at the time it all seemed quite natural); but when the rabbit actually took a watch out of its waistcoat-pocket, and looked at it, and then hurried on, alice started to her feet, for it flashed across her mind that she had never before seen a rabbit with either a waistcoat-pocket, or a watch to take out of it, and burning with curiosity, she ran across the field after it, and fortunately was just in time to see it pop down a large rabbit-hole under the hedge. in another moment down went alice after it, never once considering how in the world she was to get out again. the rabbit-hole went straight on like a tunnel for some way, and then dipped suddenly down, so suddenly that alice had not a moment to think about stopping herself before she found herself falling down a very deep well. either the well was very deep, or she fell very slowly, for she had plenty of time as she went down to look about her and to wonder what was going to happen next. first, she tried to look down and make out what she was coming to, but it was too dark to see anything; then she looked at the sides of the well, and noticed that they were filled with cupboards and book-shelves; here and there she saw maps and pictures hung upon pegs. she took down a jar from one of the shelves as she passed; it was labelled orange marmalade, but to her great disappointment it was empty: she did not like to drop the jar for fear of killing somebody, so managed to put it into one of the cupboards as she fell past it. well! thought alice to herself, after such a fall as this, i shall think nothing of tumbling down stairs! how brave theyll all think me at home! why, i wouldnt say anything about it, even if i fell off the top of the house! (which was very likely true.) down, down, down. would the fall never come to an end! i wonder how many miles ive fallen by this time? she said aloud. i must be getting somewhere near the centre of the earth. let me see: that would be four thousand miles down, i think-- (for, you see, alice had learnt several things of this sort in her lessons in the schoolroom, and though this was not a very good opportunity for showing off her knowledge, as there was no one to listen to her, still it was good practice to say it over) --yes, thats about the right distance--but then i wonder what latitude or longitude ive got to? (alice had no idea what latitude was, or longitude either, but thought they were nice grand words to say.) presently she began again. i wonder if i shall fall right through the earth! how funny itll seem to come out among the people that walk with their heads downward! the antipathies, i think-- (she was rather glad there was no one listening, this time, as it didnt sound at all the right word) --but i shall have to ask them what the name of the country is, you know. please, maam, is this new zealand or australia? (and she tried to curtsey as she spoke--fancy curtseying as youre falling through the air! do you think you could manage it?) and what an ignorant little girl shell think me for asking! no, itll never do to ask: perhaps i shall see it written up somewhere. down, down, down. there was nothing else to do, so alice soon began talking again. dinahll miss me very much to-night, i should think! (dinah was the cat.) i hope theyll remember her saucer of milk at tea-time. dinah my dear! i wish you were down here with me! there are no mice in the air, im afraid, but you might catch a bat, and thats very like a mouse, you know. but do cats eat bats, i wonder? and here alice began to get rather sleepy, and went on saying to herself, in a dreamy sort of way, do cats eat bats? do cats eat bats? and sometimes, do bats eat cats? for, you see, as she couldnt answer either question, it didnt much matter which way she put it. she felt that she was dozing off, and had just begun to dream that she was walking hand in hand with dinah, and saying to her very earnestly, now, dinah, tell me the truth: did you ever eat a bat? when suddenly, thump! thump! down she came upon a heap of sticks and dry leaves, and the fall was over. alice was not a bit hurt, and she jumped up on to her feet in a moment: she looked up, but it was all dark overhead; before her was another long passage, and the white rabbit was still in sight, hurrying down it. there was not a moment to be lost: away went alice like the wind, and was just in time to hear it say, as it turned a corner, oh my ears and whiskers, how late its getting! she was close behind it when she turned the corner, but the rabbit was no longer to be seen: she found herself in a long, low hall, which was lit up by a row of lamps hanging from the roof. there were doors all round the hall, but they were all locked; and when alice had been all the way down one side and up the other, trying every door, she walked sadly down the middle, wondering how she was ever to get out again. suddenly she came upon a little three-legged table, all made of solid glass; there was nothing on it except a tiny golden key, and alices first thought was that it might belong to one of the doors of the hall; but, alas! either the locks were too large, or the key was too small, but at any rate it would not open any of them. however, on the second time round, she came upon a low curtain she had not noticed before, and behind it was a little door about fifteen inches high: she tried the little golden key in the lock, and to her great delight it fitted! alice opened the door and found that it led into a small passage, not much larger than a rat-hole: she knelt down and looked along the passage into the loveliest garden you ever saw. how she longed to get out of that dark hall, and wander about among those beds of bright flowers and those cool fountains, but she could not even get her head through the doorway; and even if my head would go through, thought poor alice, it would be of very little use without my shoulders. oh, how i wish i could shut up like a telescope! i think i could, if i only knew how to begin. for, you see, so many out-of-the-way things had happened lately, that alice had begun to think that very few things indeed were really impossible. there seemed to be no use in waiting by the little door, so she went back to the table, half hoping she might find another key on it, or at any rate a book of rules for shutting people up like telescopes: this time she found a little bottle on it, [which certainly was not here before, said alice,) and round the neck of the bottle was a paper label, with the words drink me beautifully printed on it in large letters. it was all very well to say drink me, but the wise little alice was not going to do that in a hurry. no, ill look first, she said, and see whether its marked poison or not; for she had read several nice little histories about children who had got burnt, and eaten up by wild beasts and other unpleasant things, all because they would not remember the simple rules their friends had taught them: such as, that a red-hot poker will burn you if you hold it too long; and that if you cut your finger very deeply with a knife, it usually bleeds; and she had never forgotten that, if you drink much from a bottle marked poison, it is almost certain to disagree with you, sooner or later. however, this bottle was not marked poison, so alice ventured to taste it, and finding it very nice, (it had, in fact, a sort of mixed flavour of cherry-tart, custard, pine-apple, roast turkey, toffee, and hot buttered toast,) she very soon finished it off. *    *    *    *    *    *    * *    *    *    *    *    * *    *    *    *    *    *    * what a curious feeling! said alice; i must be shutting up like a telescope. and so it was indeed: she was now only ten inches high, and her face brightened up at the thought that she was now the right size for going through the little door into that lovely garden. first, however, she waited for a few minutes to see if she was going to shrink any further: she felt a little nervous about this; for it might end, you know, said alice to herself, in my going out altogether, like a candle. i wonder what i should be like then? and she tried to fancy what the flame of a candle is like after the candle is blown out, for she could not remember ever having seen such a thing. after a while, finding that nothing more happened, she decided on going into the garden at once; but, alas for poor alice! when she got to the door, she found she had forgotten the little golden key, and when she went back to the table for it, she found she could not possibly reach it: she could see it quite plainly through the glass, and she tried her best to climb up one of the legs of the table, but it was too slippery; and when she had tired herself out with trying, the poor little thing sat down and cried. come, theres no use in crying like that! said alice to herself, rather sharply; i advise you to leave off this minute! she generally gave herself very good advice, (though she very seldom followed it), and sometimes she scolded herself so severely as to bring tears into her eyes; and once she remembered trying to box her own ears for having cheated herself in a game of croquet she was playing against herself, for this curious child was very fond of pretending to be two people. but its no use now, thought poor alice, to pretend to be two people! why, theres hardly enough of me left to make one respectable person! soon her eye fell on a little glass box that was lying under the table: she opened it, and found in it a very small cake, on which the words eat me were beautifully marked in currants. well, ill eat it, said alice, and if it makes me grow larger, i can reach the key; and if it makes me grow smaller, i can creep under the door; so either way ill get into the garden, and i dont care which happens! she ate a little bit, and said anxiously to herself, which way? which way?, holding her hand on the top of her head to feel which way it was growing, and she was quite surprised to find that she remained the same size: to be sure, this generally happens when one eats cake, but alice had got so much into the way of expecting nothing but out-of-the-way things to happen, that it seemed quite dull and stupid for life to go on in the common way. so she set to work, and very soon finished off the cake. *    *    *    *    *    *    * *    *    *    *    *    * *    *    *    *    *    *    * chapter ii. the pool of tears curiouser and curiouser! cried alice (she was so much surprised, that for the moment she quite forgot how to speak good english); now im opening out like the largest telescope that ever was! good-bye, feet! (for when she looked down at her feet, they seemed to be almost out of sight, they were getting so far off). oh, my poor little feet, i wonder who will put on your shoes and stockings for you now, dears? im sure _i_ shant be able! i shall be a great deal too far off to trouble myself about you: you must manage the best way you can;--but i must be kind to them, thought alice, or perhaps they wont walk the way i want to go! let me see: ill give them a new pair of boots every christmas. and she went on planning to herself how she would manage it. they must go by the carrier, she thought; and how funny itll seem, sending presents to ones own feet! and how odd the directions will look! alices right foot, esq. hearthrug, near the fender, (with alices love). oh dear, what nonsense im talking! just then her head struck against the roof of the hall: in fact she was now more than nine feet high, and she at once took up the little golden key and hurried off to the garden door. poor alice! it was as much as she could do, lying down on one side, to look through into the garden with one eye; but to get through was more hopeless than ever: she sat down and began to cry again. you ought to be ashamed of yourself, said alice, a great girl like you, (she might well say this), to go on crying in this way! stop this moment, i tell you! but she went on all the same, shedding gallons of tears, until there was a large pool all round her, about four inches deep and reaching half down the hall. after a time she heard a little pattering of feet in the distance, and she hastily dried her eyes to see what was coming. it was the white rabbit returning, splendidly dressed, with a pair of white kid gloves in one hand and a large fan in the other: he came trotting along in a great hurry, muttering to himself as he came, oh! the duchess, the duchess! oh! wont she be savage if ive kept her waiting! alice felt so desperate that she was ready to ask help of any one; so, when the rabbit came near her, she began, in a low, timid voice, if you please, sir-- the rabbit started violently, dropped the white kid gloves and the fan, and skurried away into the darkness as hard as he could go. alice took up the fan and gloves, and, as the hall was very hot, she kept fanning herself all the time she went on talking: dear, dear! how queer everything is to-day! and yesterday things went on just as usual. i wonder if ive been changed in the night? let me think: was i the same when i got up this morning? i almost think i can remember feeling a little different. but if im not the same, the next question is, who in the world am i? ah, thats the great puzzle! and she began thinking over all the children she knew that were of the same age as herself, to see if she could have been changed for any of them. im sure im not ada, she said, for her hair goes in such long ringlets, and mine doesnt go in ringlets at all; and im sure i cant be mabel, for i know all sorts of things, and she, oh! she knows such a very little! besides, shes she, and im i, and--oh dear, how puzzling it all is! ill try if i know all the things i used to know. let me see: four times five is twelve, and four times six is thirteen, and four times seven is--oh dear! i shall never get to twenty at that rate! however, the multiplication table doesnt signify: lets try geography. london is the capital of paris, and paris is the capital of rome, and rome--no, thats all wrong, im certain! i must have been changed for mabel! ill try and say how doth the little-- and she crossed her hands on her lap as if she were saying lessons, and began to repeat it, but her voice sounded hoarse and strange, and the words did not come the same as they used to do:-- how doth the little crocodile improve his shining tail, and pour the waters of the nile on every golden scale! how cheerfully he seems to grin, how neatly spread his claws, and welcome little fishes in with gently smiling jaws! im sure those are not the right words, said poor alice, and her eyes filled with tears again as she went on, i must be mabel after all, and i shall have to go and live in that poky little house, and have next to no toys to play with, and oh! ever so many lessons to learn! no, ive made up my mind about it; if im mabel, ill stay down here! itll be no use their putting their heads down and saying come up again, dear! i shall only look up and say who am i then? tell me that first, and then, if i like being that person, ill come up: if not, ill stay down here till im somebody else--but, oh dear! cried alice, with a sudden burst of tears, i do wish they would put their heads down! i am so very tired of being all alone here! as she said this she looked down at her hands, and was surprised to see that she had put on one of the rabbits little white kid gloves while she was talking. how can i have done that? she thought. i must be growing small again. she got up and went to the table to measure herself by it, and found that, as nearly as she could guess, she was now about two feet high, and was going on shrinking rapidly: she soon found out that the cause of this was the fan she was holding, and she dropped it hastily, just in time to avoid shrinking away altogether. that was a narrow escape! said alice, a good deal frightened at the sudden change, but very glad to find herself still in existence; and now for the garden! and she ran with all speed back to the little door: but, alas! the little door was shut again, and the little golden key was lying on the glass table as before, and things are worse than ever, thought the poor child, for i never was so small as this before, never! and i declare its too bad, that it is! as she said these words her foot slipped, and in another moment, splash! she was up to her chin in salt water. her first idea was that she had somehow fallen into the sea, and in that case i can go back by railway, she said to herself. (alice had been to the seaside once in her life, and had come to the general conclusion, that wherever you go to on the english coast you find a number of bathing machines in the sea, some children digging in the sand with wooden spades, then a row of lodging houses, and behind them a railway station.) however, she soon made out that she was in the pool of tears which she had wept when she was nine feet high. i wish i hadnt cried so much! said alice, as she swam about, trying to find her way out. i shall be punished for it now, i suppose, by being drowned in my own tears! that will be a queer thing, to be sure! however, everything is queer to-day. just then she heard something splashing about in the pool a little way off, and she swam nearer to make out what it was: at first she thought it must be a walrus or hippopotamus, but then she remembered how small she was now, and she soon made out that it was only a mouse that had slipped in like herself. would it be of any use, now, thought alice, to speak to this mouse? everything is so out-of-the-way down here, that i should think very likely it can talk: at any rate, theres no harm in trying. so she began: o mouse, do you know the way out of this pool? i am very tired of swimming about here, o mouse! (alice thought this must be the right way of speaking to a mouse: she had never done such a thing before, but she remembered having seen in her brothers latin grammar, a mouse--of a mouse--to a mouse--a mouse--o mouse!) the mouse looked at her rather inquisitively, and seemed to her to wink with one of its little eyes, but it said nothing. perhaps it doesnt understand english, thought alice; i daresay its a french mouse, come over with william the conqueror. (for, with all her knowledge of history, alice had no very clear notion how long ago anything had happened.) so she began again: ou est ma chatte? which was the first sentence in her french lesson-book. the mouse gave a sudden leap out of the water, and seemed to quiver all over with fright. oh, i beg your pardon! cried alice hastily, afraid that she had hurt the poor animals feelings. i quite forgot you didnt like cats. not like cats! cried the mouse, in a shrill, passionate voice. would you like cats if you were me? well, perhaps not, said alice in a soothing tone: dont be angry about it. and yet i wish i could show you our cat dinah: i think youd take a fancy to cats if you could only see her. she is such a dear quiet thing, alice went on, half to herself, as she swam lazily about in the pool, and she sits purring so nicely by the fire, licking her paws and washing her face--and she is such a nice soft thing to nurse--and shes such a capital one for catching mice--oh, i beg your pardon! cried alice again, for this time the mouse was bristling all over, and she felt certain it must be really offended. we wont talk about her any more if youd rather not. we indeed! cried the mouse, who was trembling down to the end of his tail. as if i would talk on such a subject! our family always hated cats: nasty, low, vulgar things! dont let me hear the name again! i wont indeed! said alice, in a great hurry to change the subject of conversation. are you--are you fond--of--of dogs? the mouse did not answer, so alice went on eagerly: there is such a nice little dog near our house i should like to show you! a little bright-eyed terrier, you know, with oh, such long curly brown hair! and itll fetch things when you throw them, and itll sit up and beg for its dinner, and all sorts of things--i cant remember half of them--and it belongs to a farmer, you know, and he says its so useful, its worth a hundred pounds! he says it kills all the rats and--oh dear! cried alice in a sorrowful tone, im afraid ive offended it again! for the mouse was swimming away from her as hard as it could go, and making quite a commotion in the pool as it went. so she called softly after it, mouse dear! do come back again, and we wont talk about cats or dogs either, if you dont like them! when the mouse heard this, it turned round and swam slowly back to her: its face was quite pale (with passion, alice thought), and it said in a low trembling voice, let us get to the shore, and then ill tell you my history, and youll understand why it is i hate cats and dogs. it was high time to go, for the pool was getting quite crowded with the birds and animals that had fallen into it: there were a duck and a dodo, a lory and an eaglet, and several other curious creatures. alice led the way, and the whole party swam to the shore. chapter iii. a caucus-race and a long tale they were indeed a queer-looking party that assembled on the bank--the birds with draggled feathers, the animals with their fur clinging close to them, and all dripping wet, cross, and uncomfortable. the first question of course was, how to get dry again: they had a consultation about this, and after a few minutes it seemed quite natural to alice to find herself talking familiarly with them, as if she had known them all her life. indeed, she had quite a long argument with the lory, who at last turned sulky, and would only say, i am older than you, and must know better; and this alice would not allow without knowing how old it was, and, as the lory positively refused to tell its age, there was no more to be said. at last the mouse, who seemed to be a person of authority among them, called out, sit down, all of you, and listen to me! ill soon make you dry enough! they all sat down at once, in a large ring, with the mouse in the middle. alice kept her eyes anxiously fixed on it, for she felt sure she would catch a bad cold if she did not get dry very soon. ahem! said the mouse with an important air, are you all ready? this is the driest thing i know. silence all round, if you please! william the conqueror, whose cause was favoured by the pope, was soon submitted to by the english, who wanted leaders, and had been of late much accustomed to usurpation and conquest. edwin and morcar, the earls of mercia and northumbria-- ugh! said the lory, with a shiver. i beg your pardon! said the mouse, frowning, but very politely: did you speak? not i! said the lory hastily. i thought you did, said the mouse. --i proceed. edwin and morcar, the earls of mercia and northumbria, declared for him: and even stigand, the patriotic archbishop of canterbury, found it advisable-- found what? said the duck. found it, the mouse replied rather crossly: of course you know what it means. i know what it means well enough, when i find a thing, said the duck: its generally a frog or a worm. the question is, what did the archbishop find? the mouse did not notice this question, but hurriedly went on, --found it advisable to go with edgar atheling to meet william and offer him the crown. williams conduct at first was moderate. but the insolence of his normans-- how are you getting on now, my dear? it continued, turning to alice as it spoke. as wet as ever, said alice in a melancholy tone: it doesnt seem to dry me at all. in that case, said the dodo solemnly, rising to its feet, i move that the meeting adjourn, for the immediate adoption of more energetic remedies-- speak english! said the eaglet. i dont know the meaning of half those long words, and, whats more, i dont believe you do either! and the eaglet bent down its head to hide a smile: some of the other birds tittered audibly. what i was going to say, said the dodo in an offended tone, was, that the best thing to get us dry would be a caucus-race. what is a caucus-race? said alice; not that she wanted much to know, but the dodo had paused as if it thought that somebody ought to speak, and no one else seemed inclined to say anything. why, said the dodo, the best way to explain it is to do it. (and, as you might like to try the thing yourself, some winter day, i will tell you how the dodo managed it.) first it marked out a race-course, in a sort of circle, [the exact shape doesnt matter, it said,) and then all the party were placed along the course, here and there. there was no one, two, three, and away, but they began running when they liked, and left off when they liked, so that it was not easy to know when the race was over. however, when they had been running half an hour or so, and were quite dry again, the dodo suddenly called out the race is over! and they all crowded round it, panting, and asking, but who has won? this question the dodo could not answer without a great deal of thought, and it sat for a long time with one finger pressed upon its forehead (the position in which you usually see shakespeare, in the pictures of him), while the rest waited in silence. at last the dodo said, everybody has won, and all must have prizes. but who is to give the prizes? quite a chorus of voices asked. why, she, of course, said the dodo, pointing to alice with one finger; and the whole party at once crowded round her, calling out in a confused way, prizes! prizes! alice had no idea what to do, and in despair she put her hand in her pocket, and pulled out a box of comfits, (luckily the salt water had not got into it), and handed them round as prizes. there was exactly one a-piece all round. but she must have a prize herself, you know, said the mouse. of course, the dodo replied very gravely. what else have you got in your pocket? he went on, turning to alice. only a thimble, said alice sadly. hand it over here, said the dodo. then they all crowded round her once more, while the dodo solemnly presented the thimble, saying we beg your acceptance of this elegant thimble; and, when it had finished this short speech, they all cheered. alice thought the whole thing very absurd, but they all looked so grave that she did not dare to laugh; and, as she could not think of anything to say, she simply bowed, and took the thimble, looking as solemn as she could. the next thing was to eat the comfits: this caused some noise and confusion, as the large birds complained that they could not taste theirs, and the small ones choked and had to be patted on the back. however, it was over at last, and they sat down again in a ring, and begged the mouse to tell them something more. you promised to tell me your history, you know, said alice, and why it is you hate--c and d, she added in a whisper, half afraid that it would be offended again. mine is a long and a sad tale! said the mouse, turning to alice, and sighing. it is a long tail, certainly, said alice, looking down with wonder at the mouses tail; but why do you call it sad? and she kept on puzzling about it while the mouse was speaking, so that her idea of the tale was something like this:-- fury said to a mouse, that he met in the house, let us both go to law: i will prosecute you.--come, ill take no denial; we must have a trial: for really this morning ive nothing to do. said the mouse to the cur, such a trial, dear sir, with no jury or judge, would be wasting our breath. ill be judge, ill be jury, said cunning old fury: ill try the whole cause, and condemn you to death. you are not attending! said the mouse to alice severely. what are you thinking of? i beg your pardon, said alice very humbly: you had got to the fifth bend, i think? i had not! cried the mouse, sharply and very angrily. a knot! said alice, always ready to make herself useful, and looking anxiously about her. oh, do let me help to undo it! i shall do nothing of the sort, said the mouse, getting up and walking away. you insult me by talking such nonsense! i didnt mean it! pleaded poor alice. but youre so easily offended, you know! the mouse only growled in reply. please come back and finish your story! alice called after it; and the others all joined in chorus, yes, please do! but the mouse only shook its head impatiently, and walked a little quicker. what a pity it wouldnt stay! sighed the lory, as soon as it was quite out of sight; and an old crab took the opportunity of saying to her daughter ah, my dear! let this be a lesson to you never to lose your temper! hold your tongue, ma! said the young crab, a little snappishly. youre enough to try the patience of an oyster! i wish i had our dinah here, i know i do! said alice aloud, addressing nobody in particular. shed soon fetch it back! and who is dinah, if i might venture to ask the question? said the lory. alice replied eagerly, for she was always ready to talk about her pet: dinahs our cat. and shes such a capital one for catching mice you cant think! and oh, i wish you could see her after the birds! why, shell eat a little bird as soon as look at it! this speech caused a remarkable sensation among the party. some of the birds hurried off at once: one old magpie began wrapping itself up very carefully, remarking, i really must be getting home; the night-air doesnt suit my throat! and a canary called out in a trembling voice to its children, come away, my dears! its high time you were all in bed! on various pretexts they all moved off, and alice was soon left alone. i wish i hadnt mentioned dinah! she said to herself in a melancholy tone. nobody seems to like her, down here, and im sure shes the best cat in the world! oh, my dear dinah! i wonder if i shall ever see you any more! and here poor alice began to cry again, for she felt very lonely and low-spirited. in a little while, however, she again heard a little pattering of footsteps in the distance, and she looked up eagerly, half hoping that the mouse had changed his mind, and was coming back to finish his story. chapter iv. the rabbit sends in a little bill it was the white rabbit, trotting slowly back again, and looking anxiously about as it went, as if it had lost something; and she heard it muttering to itself the duchess! the duchess! oh my dear paws! oh my fur and whiskers! shell get me executed, as sure as ferrets are ferrets! where can i have dropped them, i wonder? alice guessed in a moment that it was looking for the fan and the pair of white kid gloves, and she very good-naturedly began hunting about for them, but they were nowhere to be seen--everything seemed to have changed since her swim in the pool, and the great hall, with the glass table and the little door, had vanished completely. very soon the rabbit noticed alice, as she went hunting about, and called out to her in an angry tone, why, mary ann, what are you doing out here? run home this moment, and fetch me a pair of gloves and a fan! quick, now! and alice was so much frightened that she ran off at once in the direction it pointed to, without trying to explain the mistake it had made. he took me for his housemaid, she said to herself as she ran. how surprised hell be when he finds out who i am! but id better take him his fan and gloves--that is, if i can find them. as she said this, she came upon a neat little house, on the door of which was a bright brass plate with the name w. rabbit engraved upon it. she went in without knocking, and hurried upstairs, in great fear lest she should meet the real mary ann, and be turned out of the house before she had found the fan and gloves. how queer it seems, alice said to herself, to be going messages for a rabbit! i suppose dinahll be sending me on messages next! and she began fancying the sort of thing that would happen: miss alice! come here directly, and get ready for your walk! coming in a minute, nurse! but ive got to see that the mouse doesnt get out. only i dont think, alice went on, that theyd let dinah stop in the house if it began ordering people about like that! by this time she had found her way into a tidy little room with a table in the window, and on it (as she had hoped) a fan and two or three pairs of tiny white kid gloves: she took up the fan and a pair of the gloves, and was just going to leave the room, when her eye fell upon a little bottle that stood near the looking-glass. there was no label this time with the words drink me, but nevertheless she uncorked it and put it to her lips. i know something interesting is sure to happen, she said to herself, whenever i eat or drink anything; so ill just see what this bottle does. i do hope itll make me grow large again, for really im quite tired of being such a tiny little thing! it did so indeed, and much sooner than she had expected: before she had drunk half the bottle, she found her head pressing against the ceiling, and had to stoop to save her neck from being broken. she hastily put down the bottle, saying to herself thats quite enough--i hope i shant grow any more--as it is, i cant get out at the door--i do wish i hadnt drunk quite so much! alas! it was too late to wish that! she went on growing, and growing, and very soon had to kneel down on the floor: in another minute there was not even room for this, and she tried the effect of lying down with one elbow against the door, and the other arm curled round her head. still she went on growing, and, as a last resource, she put one arm out of the window, and one foot up the chimney, and said to herself now i can do no more, whatever happens. what will become of me? luckily for alice, the little magic bottle had now had its full effect, and she grew no larger: still it was very uncomfortable, and, as there seemed to be no sort of chance of her ever getting out of the room again, no wonder she felt unhappy. it was much pleasanter at home, thought poor alice, when one wasnt always growing larger and smaller, and being ordered about by mice and rabbits. i almost wish i hadnt gone down that rabbit-hole--and yet--and yet--its rather curious, you know, this sort of life! i do wonder what can have happened to me! when i used to read fairy-tales, i fancied that kind of thing never happened, and now here i am in the middle of one! there ought to be a book written about me, that there ought! and when i grow up, ill write one--but im grown up now, she added in a sorrowful tone; at least theres no room to grow up any more here. but then, thought alice, shall i never get any older than i am now? thatll be a comfort, one way--never to be an old woman--but then--always to have lessons to learn! oh, i shouldnt like that! oh, you foolish alice! she answered herself. how can you learn lessons in here? why, theres hardly room for you, and no room at all for any lesson-books! and so she went on, taking first one side and then the other, and making quite a conversation of it altogether; but after a few minutes she heard a voice outside, and stopped to listen. mary ann! mary ann! said the voice. fetch me my gloves this moment! then came a little pattering of feet on the stairs. alice knew it was the rabbit coming to look for her, and she trembled till she shook the house, quite forgetting that she was now about a thousand times as large as the rabbit, and had no reason to be afraid of it. presently the rabbit came up to the door, and tried to open it; but, as the door opened inwards, and alices elbow was pressed hard against it, that attempt proved a failure. alice heard it say to itself then ill go round and get in at the window. that you wont thought alice, and, after waiting till she fancied she heard the rabbit just under the window, she suddenly spread out her hand, and made a snatch in the air. she did not get hold of anything, but she heard a little shriek and a fall, and a crash of broken glass, from which she concluded that it was just possible it had fallen into a cucumber-frame, or something of the sort. next came an angry voice--the rabbits--pat! pat! where are you? and then a voice she had never heard before, sure then im here! digging for apples, yer honour! digging for apples, indeed! said the rabbit angrily. here! come and help me out of this! (sounds of more broken glass.) now tell me, pat, whats that in the window? sure, its an arm, yer honour! (he pronounced it arrum.) an arm, you goose! who ever saw one that size? why, it fills the whole window! sure, it does, yer honour: but its an arm for all that. well, its got no business there, at any rate: go and take it away! there was a long silence after this, and alice could only hear whispers now and then; such as, sure, i dont like it, yer honour, at all, at all! do as i tell you, you coward! and at last she spread out her hand again, and made another snatch in the air. this time there were two little shrieks, and more sounds of broken glass. what a number of cucumber-frames there must be! thought alice. i wonder what theyll do next! as for pulling me out of the window, i only wish they could! im sure i dont want to stay in here any longer! she waited for some time without hearing anything more: at last came a rumbling of little cartwheels, and the sound of a good many voices all talking together: she made out the words: wheres the other ladder?--why, i hadnt to bring but one; bills got the other--bill! fetch it here, lad!--here, put em up at this corner--no, tie em together first--they dont reach half high enough yet--oh! theyll do well enough; dont be particular--here, bill! catch hold of this rope--will the roof bear?--mind that loose slate--oh, its coming down! heads below! (a loud crash)--now, who did that?--it was bill, i fancy--whos to go down the chimney?--nay, i shant! you do it!--that i wont, then!--bills to go down--here, bill! the master says youre to go down the chimney! oh! so bills got to come down the chimney, has he? said alice to herself. shy, they seem to put everything upon bill! i wouldnt be in bills place for a good deal: this fireplace is narrow, to be sure; but i think i can kick a little! she drew her foot as far down the chimney as she could, and waited till she heard a little animal (she couldnt guess of what sort it was) scratching and scrambling about in the chimney close above her: then, saying to herself this is bill, she gave one sharp kick, and waited to see what would happen next. the first thing she heard was a general chorus of there goes bill! then the rabbits voice along--catch him, you by the hedge! then silence, and then another confusion of voices--hold up his head--brandy now--dont choke him--how was it, old fellow? what happened to you? tell us all about it! last came a little feeble, squeaking voice, [thats bill, thought alice,) well, i hardly know--no more, thank ye; im better now--but im a deal too flustered to tell you--all i know is, something comes at me like a jack-in-the-box, and up i goes like a sky-rocket! so you did, old fellow! said the others. we must burn the house down! said the rabbits voice; and alice called out as loud as she could, if you do. ill set dinah at you! there was a dead silence instantly, and alice thought to herself, i wonder what they will do next! if they had any sense, theyd take the roof off. after a minute or two, they began moving about again, and alice heard the rabbit say, a barrowful will do, to begin with. a barrowful of what? thought alice; but she had not long to doubt, for the next moment a shower of little pebbles came rattling in at the window, and some of them hit her in the face. ill put a stop to this, she said to herself, and shouted out, youd better not do that again! which produced another dead silence. alice noticed with some surprise that the pebbles were all turning into little cakes as they lay on the floor, and a bright idea came into her head. if i eat one of these cakes, she thought, its sure to make some change in my size; and as it cant possibly make me larger, it must make me smaller, i suppose. so she swallowed one of the cakes, and was delighted to find that she began shrinking directly. as soon as she was small enough to get through the door, she ran out of the house, and found quite a crowd of little animals and birds waiting outside. the poor little lizard, bill, was in the middle, being held up by two guinea-pigs, who were giving it something out of a bottle. they all made a rush at alice the moment she appeared; but she ran off as hard as she could, and soon found herself safe in a thick wood. the first thing ive got to do, said alice to herself, as she wandered about in the wood, is to grow to my right size again; and the second thing is to find my way into that lovely garden. i think that will be the best plan. it sounded an excellent plan, no doubt, and very neatly and simply arranged; the only difficulty was, that she had not the smallest idea how to set about it; and while she was peering about anxiously among the trees, a little sharp bark just over her head made her look up in a great hurry. an enormous puppy was looking down at her with large round eyes, and feebly stretching out one paw, trying to touch her. poor little thing! said alice, in a coaxing tone, and she tried hard to whistle to it; but she was terribly frightened all the time at the thought that it might be hungry, in which case it would be very likely to eat her up in spite of all her coaxing. hardly knowing what she did, she picked up a little bit of stick, and held it out to the puppy; whereupon the puppy jumped into the air off all its feet at once, with a yelp of delight, and rushed at the stick, and made believe to worry it; then alice dodged behind a great thistle, to keep herself from being run over; and the moment she appeared on the other side, the puppy made another rush at the stick, and tumbled head over heels in its hurry to get hold of it; then alice, thinking it was very like having a game of play with a cart-horse, and expecting every moment to be trampled under its feet, ran round the thistle again; then the puppy began a series of short charges at the stick, running a very little way forwards each time and a long way back, and barking hoarsely all the while, till at last it sat down a good way off, panting, with its tongue hanging out of its mouth, and its great eyes half shut. this seemed to alice a good opportunity for making her escape; so she set off at once, and ran till she was quite tired and out of breath, and till the puppys bark sounded quite faint in the distance. and yet what a dear little puppy it was! said alice, as she leant against a buttercup to rest herself, and fanned herself with one of the leaves: i should have liked teaching it tricks very much, if--if id only been the right size to do it! oh dear! id nearly forgotten that ive got to grow up again! let me see--how is it to be managed? i suppose i ought to eat or drink something or other; but the great question is, what? the great question certainly was, what? alice looked all round her at the flowers and the blades of grass, but she did not see anything that looked like the right thing to eat or drink under the circumstances. there was a large mushroom growing near her, about the same height as herself; and when she had looked under it, and on both sides of it, and behind it, it occurred to her that she might as well look and see what was on the top of it. she stretched herself up on tiptoe, and peeped over the edge of the mushroom, and her eyes immediately met those of a large caterpillar, that was sitting on the top with its arms folded, quietly smoking a long hookah, and taking not the smallest notice of her or of anything else. chapter v. advice from a caterpillar the caterpillar and alice looked at each other for some time in silence: at last the caterpillar took the hookah out of its mouth, and addressed her in a languid, sleepy voice. who are you? said the caterpillar. this was not an encouraging opening for a conversation. alice replied, rather shyly, i--i hardly know, sir, just at present--at least i know who i was when i got up this morning, but i think i must have been changed several times since then. what do you mean by that? said the caterpillar sternly. explain yourself! i cant explain myself, im afraid, sir said alice, because im not myself, you see. i dont see, said the caterpillar. im afraid i cant put it more clearly, alice replied very politely, for i cant understand it myself to begin with; and being so many different sizes in a day is very confusing. it isnt, said the caterpillar. well, perhaps you havent found it so yet, said alice; but when you have to turn into a chrysalis--you will some day, you know--and then after that into a butterfly, i should think youll feel it a little queer, wont you? not a bit, said the caterpillar. well, perhaps your feelings may be different, said alice; all i know is, it would feel very queer to me. you! said the caterpillar contemptuously. who are you? which brought them back again to the beginning of the conversation. alice felt a little irritated at the caterpillars making such very short remarks, and she drew herself up and said, very gravely, i think, you ought to tell me who you are, first. why? said the caterpillar. here was another puzzling question; and as alice could not think of any good reason, and as the caterpillar seemed to be in a very unpleasant state of mind, she turned away. come back! the caterpillar called after her. ive something important to say! this sounded promising, certainly: alice turned and came back again. keep your temper, said the caterpillar. is that all? said alice, swallowing down her anger as well as she could. no, said the caterpillar. alice thought she might as well wait, as she had nothing else to do, and perhaps after all it might tell her something worth hearing. for some minutes it puffed away without speaking, but at last it unfolded its arms, took the hookah out of its mouth again, and said, so you think youre changed, do you? im afraid i am, sir, said alice; i cant remember things as i used--and i dont keep the same size for ten minutes together! cant remember what things? said the caterpillar. well, ive tried to say how doth the little busy bee, but it all came different! alice replied in a very melancholy voice. repeat, you are old, father william, said the caterpillar. alice folded her hands, and began:-- you are old, father william, the young man said, and your hair has become very white; and yet you incessantly stand on your head-- do you think, at your age, it is right? in my youth, father william replied to his son, i feared it might injure the brain; but, now that im perfectly sure i have none, why, i do it again and again. you are old, said the youth, as i mentioned before, and have grown most uncommonly fat; yet you turned a back-somersault in at the door-- pray, what is the reason of that? in my youth, said the sage, as he shook his grey locks, i kept all my limbs very supple by the use of this ointment--one shilling the box-- allow me to sell you a couple? you are old, said the youth, and your jaws are too weak for anything tougher than suet; yet you finished the goose, with the bones and the beak-- pray how did you manage to do it? in my youth, said his father, i took to the law, and argued each case with my wife; and the muscular strength, which it gave to my jaw, has lasted the rest of my life. you are old, said the youth, one would hardly suppose that your eye was as steady as ever; yet you balanced an eel on the end of your nose-- what made you so awfully clever? i have answered three questions, and that is enough, said his father; dont give yourself airs! do you think i can listen all day to such stuff? be off, or ill kick you down stairs! that is not said right, said the caterpillar. not quite right, im afraid, said alice, timidly; some of the words have got altered. it is wrong from beginning to end, said the caterpillar decidedly, and there was silence for some minutes. the caterpillar was the first to speak. what size do you want to be? it asked. oh, im not particular as to size, alice hastily replied; only one doesnt like changing so often, you know. i dont know, said the caterpillar. alice said nothing: she had never been so much contradicted in her life before, and she felt that she was losing her temper. are you content now? said the caterpillar. well, i should like to be a little larger, sir, if you wouldnt mind, said alice: three inches is such a wretched height to be. it is a very good height indeed! said the caterpillar angrily, rearing itself upright as it spoke (it was exactly three inches high). but im not used to it! pleaded poor alice in a piteous tone. and she thought of herself, i wish the creatures wouldnt be so easily offended! youll get used to it in time, said the caterpillar; and it put the hookah into its mouth and began smoking again. this time alice waited patiently until it chose to speak again. in a minute or two the caterpillar took the hookah out of its mouth and yawned once or twice, and shook itself. then it got down off the mushroom, and crawled away in the grass, merely remarking as it went, one side will make you grow taller, and the other side will make you grow shorter. one side of what? the other side of what? thought alice to herself. of the mushroom, said the caterpillar, just as if she had asked it aloud; and in another moment it was out of sight. alice remained looking thoughtfully at the mushroom for a minute, trying to make out which were the two sides of it; and as it was perfectly round, she found this a very difficult question. however, at last she stretched her arms round it as far as they would go, and broke off a bit of the edge with each hand. and now which is which? she said to herself, and nibbled a little of the right-hand bit to try the effect: the next moment she felt a violent blow underneath her chin: it had struck her foot! she was a good deal frightened by this very sudden change, but she felt that there was no time to be lost, as she was shrinking rapidly; so she set to work at once to eat some of the other bit. her chin was pressed so closely against her foot, that there was hardly room to open her mouth; but she did it at last, and managed to swallow a morsel of the lefthand bit. *    *    *    *    *    *    * *    *    *    *    *    * *    *    *    *    *    *    * come, my heads free at last! said alice in a tone of delight, which changed into alarm in another moment, when she found that her shoulders were nowhere to be found: all she could see, when she looked down, was an immense length of neck, which seemed to rise like a stalk out of a sea of green leaves that lay far below her. what can all that green stuff be? said alice. and where have my shoulders got to? and oh, my poor hands, how is it i cant see you? she was moving them about as she spoke, but no result seemed to follow, except a little shaking among the distant green leaves. as there seemed to be no chance of getting her hands up to her head, she tried to get her head down to them, and was delighted to find that her neck would bend about easily in any direction, like a serpent. she had just succeeded in curving it down into a graceful zigzag, and was going to dive in among the leaves, which she found to be nothing but the tops of the trees under which she had been wandering, when a sharp hiss made her draw back in a hurry: a large pigeon had flown into her face, and was beating her violently with its wings. serpent! screamed the pigeon. im not a serpent! said alice indignantly. let me alone! serpent, i say again! repeated the pigeon, but in a more subdued tone, and added with a kind of sob, ive tried every way, and nothing seems to suit them! i havent the least idea what youre talking about, said alice. ive tried the roots of trees, and ive tried banks, and ive tried hedges, the pigeon went on, without attending to her; but those serpents! theres no pleasing them! alice was more and more puzzled, but she thought there was no use in saying anything more till the pigeon had finished. as if it wasnt trouble enough hatching the eggs, said the pigeon; but i must be on the look-out for serpents night and day! why, i havent had a wink of sleep these three weeks! im very sorry youve been annoyed, said alice, who was beginning to see its meaning. and just as id taken the highest tree in the wood, continued the pigeon, raising its voice to a shriek, and just as i was thinking i should be free of them at last, they must needs come wriggling down from the sky! ugh, serpent! but im not a serpent, i tell you! said alice. im a--im a-- well! what are you? said the pigeon. i can see youre trying to invent something! i--im a little girl, said alice, rather doubtfully, as she remembered the number of changes she had gone through that day. a likely story indeed! said the pigeon in a tone of the deepest contempt. ive seen a good many little girls in my time, but never one with such a neck as that! no, no! youre a serpent; and theres no use denying it. i suppose youll be telling me next that you never tasted an egg! i have tasted eggs, certainly, said alice, who was a very truthful child; but little girls eat eggs quite as much as serpents do, you know. i dont believe it, said the pigeon; but if they do, why then theyre a kind of serpent, thats all i can say. this was such a new idea to alice, that she was quite silent for a minute or two, which gave the pigeon the opportunity of adding, youre looking for eggs, i know that well enough; and what does it matter to me whether youre a little girl or a serpent? it matters a good deal to me, said alice hastily; but im not looking for eggs, as it happens; and if i was, i shouldnt want yours: i dont like them raw. well, be off, then! said the pigeon in a sulky tone, as it settled down again into its nest. alice crouched down among the trees as well as she could, for her neck kept getting entangled among the branches, and every now and then she had to stop and untwist it. after a while she remembered that she still held the pieces of mushroom in her hands, and she set to work very carefully, nibbling first at one and then at the other, and growing sometimes taller and sometimes shorter, until she had succeeded in bringing herself down to her usual height. it was so long since she had been anything near the right size, that it felt quite strange at first; but she got used to it in a few minutes, and began talking to herself, as usual. come, theres half my plan done now! how puzzling all these changes are! im never sure what im going to be, from one minute to another! however, ive got back to my right size: the next thing is, to get into that beautiful garden--how is that to be done, i wonder? as she said this, she came suddenly upon an open place, with a little house in it about four feet high. whoever lives there, thought alice, itll never do to come upon them this size: why, i should frighten them out of their wits! so she began nibbling at the righthand bit again, and did not venture to go near the house till she had brought herself down to nine inches high. chapter vi. pig and pepper for a minute or two she stood looking at the house, and wondering what to do next, when suddenly a footman in livery came running out of the wood--(she considered him to be a footman because he was in livery: otherwise, judging by his face only, she would have called him a fish)--and rapped loudly at the door with his knuckles. it was opened by another footman in livery, with a round face, and large eyes like a frog; and both footmen, alice noticed, had powdered hair that curled all over their heads. she felt very curious to know what it was all about, and crept a little way out of the wood to listen. the fish-footman began by producing from under his arm a great letter, nearly as large as himself, and this he handed over to the other, saying, in a solemn tone, for the duchess. an invitation from the queen to play croquet. the frog-footman repeated, in the same solemn tone, only changing the order of the words a little, from the queen. an invitation for the duchess to play croquet. then they both bowed low, and their curls got entangled together. alice laughed so much at this, that she had to run back into the wood for fear of their hearing her; and when she next peeped out the fish-footman was gone, and the other was sitting on the ground near the door, staring stupidly up into the sky. alice went timidly up to the door, and knocked. theres no sort of use in knocking, said the footman, and that for two reasons. first, because im on the same side of the door as you are; secondly, because theyre making such a noise inside, no one could possibly hear you. and certainly there was a most extraordinary noise going on within--a constant howling and sneezing, and every now and then a great crash, as if a dish or kettle had been broken to pieces. please, then, said alice, how am i to get in? there might be some sense in your knocking, the footman went on without attending to her, if we had the door between us. for instance, if you were inside, you might knock, and i could let you out, you know. he was looking up into the sky all the time he was speaking, and this alice thought decidedly uncivil. but perhaps he cant help it, she said to herself; his eyes are so very nearly at the top of his head. but at any rate he might answer questions.--how am i to get in? she repeated, aloud. i shall sit here, the footman remarked, till tomorrow-- at this moment the door of the house opened, and a large plate came skimming out, straight at the footmans head: it just grazed his nose, and broke to pieces against one of the trees behind him. --or next day, maybe, the footman continued in the same tone, exactly as if nothing had happened. how am i to get in? asked alice again, in a louder tone. are you to get in at all? said the footman. thats the first question, you know. it was, no doubt: only alice did not like to be told so. its really dreadful, she muttered to herself, the way all the creatures argue. its enough to drive one crazy! the footman seemed to think this a good opportunity for repeating his remark, with variations. i shall sit here, he said, on and off, for days and days. but what am i to do? said alice. anything you like, said the footman, and began whistling. oh, theres no use in talking to him, said alice desperately: hes perfectly idiotic! and she opened the door and went in. the door led right into a large kitchen, which was full of smoke from one end to the other: the duchess was sitting on a three-legged stool in the middle, nursing a baby; the cook was leaning over the fire, stirring a large cauldron which seemed to be full of soup. theres certainly too much pepper in that soup! alice said to herself, as well as she could for sneezing. there was certainly too much of it in the air. even the duchess sneezed occasionally; and as for the baby, it was sneezing and howling alternately without a moments pause. the only things in the kitchen that did not sneeze, were the cook, and a large cat which was sitting on the hearth and grinning from ear to ear. please would you tell me, said alice, a little timidly, for she was not quite sure whether it was good manners for her to speak first, why your cat grins like that? its a cheshire cat, said the duchess, and thats why. pig! she said the last word with such sudden violence that alice quite jumped; but she saw in another moment that it was addressed to the baby, and not to her, so she took courage, and went on again:-- i didnt know that cheshire cats always grinned; in fact, i didnt know that cats could grin. they all can, said the duchess; and most of em do. i dont know of any that do, alice said very politely, feeling quite pleased to have got into a conversation. you dont know much, said the duchess; and thats a fact. alice did not at all like the tone of this remark, and thought it would be as well to introduce some other subject of conversation. while she was trying to fix on one, the cook took the cauldron of soup off the fire, and at once set to work throwing everything within her reach at the duchess and the baby--the fire-irons came first; then followed a shower of saucepans, plates, and dishes. the duchess took no notice of them even when they hit her; and the baby was howling so much already, that it was quite impossible to say whether the blows hurt it or not. oh, please mind what youre doing! cried alice, jumping up and down in an agony of terror. oh, there goes his precious nose; as an unusually large saucepan flew close by it, and very nearly carried it off. if everybody minded their own business, the duchess said in a hoarse growl, the world would go round a deal faster than it does. which would not be an advantage, said alice, who felt very glad to get an opportunity of showing off a little of her knowledge. just think of what work it would make with the day and night! you see the earth takes twenty-four hours to turn round on its axis-- talking of axes, said the duchess, chop off her head! alice glanced rather anxiously at the cook, to see if she meant to take the hint; but the cook was busily stirring the soup, and seemed not to be listening, so she went on again: twenty-four hours, i think; or is it twelve? i-- oh, dont bother me, said the duchess; i never could abide figures! and with that she began nursing her child again, singing a sort of lullaby to it as she did so, and giving it a violent shake at the end of every line: speak roughly to your little boy, and beat him when he sneezes: he only does it to annoy, because he knows it teases. chorus. (in which the cook and the baby joined):-- wow! wow! wow! while the duchess sang the second verse of the song, she kept tossing the baby violently up and down, and the poor little thing howled so, that alice could hardly hear the words:-- i speak severely to my boy, i beat him when he sneezes; for he can thoroughly enjoy the pepper when he pleases! chorus. wow! wow! wow! here! you may nurse it a bit, if you like! the duchess said to alice, flinging the baby at her as she spoke. i must go and get ready to play croquet with the queen, and she hurried out of the room. the cook threw a frying-pan after her as she went out, but it just missed her. alice caught the baby with some difficulty, as it was a queer-shaped little creature, and held out its arms and legs in all directions, just like a star-fish, thought alice. the poor little thing was snorting like a steam-engine when she caught it, and kept doubling itself up and straightening itself out again, so that altogether, for the first minute or two, it was as much as she could do to hold it. as soon as she had made out the proper way of nursing it, (which was to twist it up into a sort of knot, and then keep tight hold of its right ear and left foot, so as to prevent its undoing itself,) she carried it out into the open air. if i dont take this child away with me, thought alice, theyre sure to kill it in a day or two: wouldnt it be murder to leave it behind? she said the last words out loud, and the little thing grunted in reply (it had left off sneezing by this time). dont grunt, said alice; thats not at all a proper way of expressing yourself. the baby grunted again, and alice looked very anxiously into its face to see what was the matter with it. there could be no doubt that it had a very turn-up nose, much more like a snout than a real nose; also its eyes were getting extremely small for a baby: altogether alice did not like the look of the thing at all. but perhaps it was only sobbing, she thought, and looked into its eyes again, to see if there were any tears. no, there were no tears. if youre going to turn into a pig, my dear, said alice, seriously, ill have nothing more to do with you. mind now! the poor little thing sobbed again (or grunted, it was impossible to say which), and they went on for some while in silence. alice was just beginning to think to herself, now, what am i to do with this creature when i get it home? when it grunted again, so violently, that she looked down into its face in some alarm. this time there could be no mistake about it: it was neither more nor less than a pig, and she felt that it would be quite absurd for her to carry it further. so she set the little creature down, and felt quite relieved to see it trot away quietly into the wood. if it had grown up, she said to herself, it would have made a dreadfully ugly child: but it makes rather a handsome pig, i think. and she began thinking over other children she knew, who might do very well as pigs, and was just saying to herself, if one only knew the right way to change them-- when she was a little startled by seeing the cheshire cat sitting on a bough of a tree a few yards off. the cat only grinned when it saw alice. it looked good-natured, she thought: still it had very long claws and a great many teeth, so she felt that it ought to be treated with respect. cheshire puss, she began, rather timidly, as she did not at all know whether it would like the name: however, it only grinned a little wider. come, its pleased so far, thought alice, and she went on. would you tell me, please, which way i ought to go from here? that depends a good deal on where you want to get to, said the cat. i dont much care where-- said alice. then it doesnt matter which way you go, said the cat. --so long as i get somewhere, alice added as an explanation. oh, youre sure to do that, said the cat, if you only walk long enough. alice felt that this could not be denied, so she tried another question. what sort of people live about here? in that direction, the cat said, waving its right paw round, lives a hatter: and in that direction, waving the other paw, lives a march hare. visit either you like: theyre both mad. but i dont want to go among mad people, alice remarked. oh, you cant help that, said the cat: were all mad here. im mad. youre mad. how do you know im mad? said alice. you must be, said the cat, or you wouldnt have come here. alice didnt think that proved it at all; however, she went on and how do you know that youre mad? to begin with, said the cat, a dogs not mad. you grant that? i suppose so, said alice. well, then, the cat went on, you see, a dog growls when its angry, and wags its tail when its pleased. now i growl when im pleased, and wag my tail when im angry. therefore im mad. i call it purring, not growling, said alice. call it what you like, said the cat. do you play croquet with the queen to-day? i should like it very much, said alice, but i havent been invited yet. youll see me there, said the cat, and vanished. alice was not much surprised at this, she was getting so used to queer things happening. while she was looking at the place where it had been, it suddenly appeared again. by-the-bye, what became of the baby? said the cat. id nearly forgotten to ask. it turned into a pig, alice quietly said, just as if it had come back in a natural way. i thought it would, said the cat, and vanished again. alice waited a little, half expecting to see it again, but it did not appear, and after a minute or two she walked on in the direction in which the march hare was said to live. ive seen hatters before, she said to herself; the march hare will be much the most interesting, and perhaps as this is may it wont be raving mad--at least not so mad as it was in march. as she said this, she looked up, and there was the cat again, sitting on a branch of a tree. did you say pig, or fig? said the cat. i said pig, replied alice; and i wish you wouldnt keep appearing and vanishing so suddenly: you make one quite giddy. all right, said the cat; and this time it vanished quite slowly, beginning with the end of the tail, and ending with the grin, which remained some time after the rest of it had gone. well! ive often seen a cat without a grin, thought alice; but a grin without a cat! its the most curious thing i ever saw in my life! she had not gone much farther before she came in sight of the house of the march hare: she thought it must be the right house, because the chimneys were shaped like ears and the roof was thatched with fur. it was so large a house, that she did not like to go nearer till she had nibbled some more of the lefthand bit of mushroom, and raised herself to about two feet high: even then she walked up towards it rather timidly, saying to herself suppose it should be raving mad after all! i almost wish id gone to see the hatter instead! chapter vii. a mad tea-party there was a table set out under a tree in front of the house, and the march hare and the hatter were having tea at it: a dormouse was sitting between them, fast asleep, and the other two were using it as a cushion, resting their elbows on it, and talking over its head. very uncomfortable for the dormouse, thought alice; only, as its asleep, i suppose it doesnt mind. the table was a large one, but the three were all crowded together at one corner of it: no room! no room! they cried out when they saw alice coming. theres plenty of room! said alice indignantly, and she sat down in a large arm-chair at one end of the table. have some wine, the march hare said in an encouraging tone. alice looked all round the table, but there was nothing on it but tea. i dont see any wine, she remarked. there isnt any, said the march hare. then it wasnt very civil of you to offer it, said alice angrily. it wasnt very civil of you to sit down without being invited, said the march hare. i didnt know it was your table, said alice; its laid for a great many more than three. your hair wants cutting, said the hatter. he had been looking at alice for some time with great curiosity, and this was his first speech. you should learn not to make personal remarks, alice said with some severity; its very rude. the hatter opened his eyes very wide on hearing this; but all he said was, why is a raven like a writing-desk? come, we shall have some fun now! thought alice. im glad theyve begun asking riddles.--i believe i can guess that, she added aloud. do you mean that you think you can find out the answer to it? said the march hare. exactly so, said alice. then you should say what you mean, the march hare went on. i do, alice hastily replied; at least--at least i mean what i say--thats the same thing, you know. not the same thing a bit! said the hatter. you might just as well say that i see what i eat is the same thing as i eat what i see! you might just as well say, added the march hare, that i like what i get is the same thing as i get what i like! you might just as well say, added the dormouse, who seemed to be talking in his sleep, that i breathe when i sleep is the same thing as i sleep when i breathe! it is the same thing with you, said the hatter, and here the conversation dropped, and the party sat silent for a minute, while alice thought over all she could remember about ravens and writing-desks, which wasnt much. the hatter was the first to break the silence. what day of the month is it? he said, turning to alice: he had taken his watch out of his pocket, and was looking at it uneasily, shaking it every now and then, and holding it to his ear. alice considered a little, and then said the fourth. two days wrong! sighed the hatter. i told you butter wouldnt suit the works! he added looking angrily at the march hare. it was the best butter, the march hare meekly replied. yes, but some crumbs must have got in as well, the hatter grumbled: you shouldnt have put it in with the bread-knife. the march hare took the watch and looked at it gloomily: then he dipped it into his cup of tea, and looked at it again: but he could think of nothing better to say than his first remark, it was the best butter, you know. alice had been looking over his shoulder with some curiosity. what a funny watch! she remarked. it tells the day of the month, and doesnt tell what oclock it is! why should it? muttered the hatter. does your watch tell you what year it is? of course not, alice replied very readily: but thats because it stays the same year for such a long time together. which is just the case with mine, said the hatter. alice felt dreadfully puzzled. the hatters remark seemed to have no sort of meaning in it, and yet it was certainly english. i dont quite understand you, she said, as politely as she could. the dormouse is asleep again, said the hatter, and he poured a little hot tea upon its nose. the dormouse shook its head impatiently, and said, without opening its eyes, of course, of course; just what i was going to remark myself. have you guessed the riddle yet? the hatter said, turning to alice again. no, i give it up, alice replied: whats the answer? i havent the slightest idea, said the hatter. nor i, said the march hare. alice sighed wearily. i think you might do something better with the time, she said, than waste it in asking riddles that have no answers. if you knew time as well as i do, said the hatter, you wouldnt talk about wasting it. its him. i dont know what you mean, said alice. of course you dont! the hatter said, tossing his head contemptuously. i dare say you never even spoke to time! perhaps not, alice cautiously replied: but i know i have to beat time when i learn music. ah! that accounts for it, said the hatter. he wont stand beating. now, if you only kept on good terms with him, hed do almost anything you liked with the clock. for instance, suppose it were nine oclock in the morning, just time to begin lessons: youd only have to whisper a hint to time, and round goes the clock in a twinkling! half-past one, time for dinner! [i only wish it was, the march hare said to itself in a whisper.) that would be grand, certainly, said alice thoughtfully: but then--i shouldnt be hungry for it, you know. not at first, perhaps, said the hatter: but you could keep it to half-past one as long as you liked. is that the way you manage? alice asked. the hatter shook his head mournfully. not i! he replied. we quarrelled last march--just before he went mad, you know-- (pointing with his tea spoon at the march hare,) --it was at the great concert given by the queen of hearts, and i had to sing twinkle, twinkle, little bat! how i wonder what youre at! you know the song, perhaps? ive heard something like it, said alice. it goes on, you know, the hatter continued, in this way:-- up above the world you fly, like a tea-tray in the sky. twinkle, twinkle-- here the dormouse shook itself, and began singing in its sleep twinkle, twinkle, twinkle, twinkle-- and went on so long that they had to pinch it to make it stop. well, id hardly finished the first verse, said the hatter, when the queen jumped up and bawled out, hes murdering the time! off with his head! how dreadfully savage! exclaimed alice. and ever since that, the hatter went on in a mournful tone, he wont do a thing i ask! its always six oclock now. a bright idea came into alices head. is that the reason so many tea-things are put out here? she asked. yes, thats it, said the hatter with a sigh: its always tea-time, and weve no time to wash the things between whiles. then you keep moving round, i suppose? said alice. exactly so, said the hatter: as the things get used up. but what happens when you come to the beginning again? alice ventured to ask. suppose we change the subject, the march hare interrupted, yawning. im getting tired of this. i vote the young lady tells us a story. im afraid i dont know one, said alice, rather alarmed at the proposal. then the dormouse shall! they both cried. wake up, dormouse! and they pinched it on both sides at once. the dormouse slowly opened his eyes. i wasnt asleep, he said in a hoarse, feeble voice: i heard every word you fellows were saying. tell us a story! said the march hare. yes, please do! pleaded alice. and be quick about it, added the hatter, or youll be asleep again before its done. once upon a time there were three little sisters, the dormouse began in a great hurry; and their names were elsie, lacie, and tillie; and they lived at the bottom of a well-- what did they live on? said alice, who always took a great interest in questions of eating and drinking. they lived on treacle, said the dormouse, after thinking a minute or two. they couldnt have done that, you know, alice gently remarked; theyd have been ill. so they were, said the dormouse; very ill. alice tried to fancy to herself what such an extraordinary ways of living would be like, but it puzzled her too much, so she went on: but why did they live at the bottom of a well? take some more tea, the march hare said to alice, very earnestly. ive had nothing yet, alice replied in an offended tone, so i cant take more. you mean you cant take less, said the hatter: its very easy to take more than nothing. nobody asked your opinion, said alice. whos making personal remarks now? the hatter asked triumphantly. alice did not quite know what to say to this: so she helped herself to some tea and bread-and-butter, and then turned to the dormouse, and repeated her question. why did they live at the bottom of a well? the dormouse again took a minute or two to think about it, and then said, it was a treacle-well. theres no such thing! alice was beginning very angrily, but the hatter and the march hare went sh! sh! and the dormouse sulkily remarked, if you cant be civil, youd better finish the story for yourself. no, please go on! alice said very humbly; i wont interrupt again. i dare say there may be one. one, indeed! said the dormouse indignantly. however, he consented to go on. and so these three little sisters--they were learning to draw, you know-- what did they draw? said alice, quite forgetting her promise. treacle, said the dormouse, without considering at all this time. i want a clean cup, interrupted the hatter: lets all move one place on. he moved on as he spoke, and the dormouse followed him: the march hare moved into the dormouses place, and alice rather unwillingly took the place of the march hare. the hatter was the only one who got any advantage from the change: and alice was a good deal worse off than before, as the march hare had just upset the milk-jug into his plate. alice did not wish to offend the dormouse again, so she began very cautiously: but i dont understand. where did they draw the treacle from? you can draw water out of a water-well, said the hatter; so i should think you could draw treacle out of a treacle-well--eh, stupid? but they were in the well, alice said to the dormouse, not choosing to notice this last remark. of course they were, said the dormouse; --well in. this answer so confused poor alice, that she let the dormouse go on for some time without interrupting it. they were learning to draw, the dormouse went on, yawning and rubbing its eyes, for it was getting very sleepy; and they drew all manner of things--everything that begins with an m-- why with an m? said alice. why not? said the march hare. alice was silent. the dormouse had closed its eyes by this time, and was going off into a doze; but, on being pinched by the hatter, it woke up again with a little shriek, and went on: --that begins with an m, such as mouse-traps, and the moon, and memory, and muchness--you know you say things are much of a muchness--did you ever see such a thing as a drawing of a muchness? really, now you ask me, said alice, very much confused, i dont think-- then you shouldnt talk, said the hatter. this piece of rudeness was more than alice could bear: she got up in great disgust, and walked off; the dormouse fell asleep instantly, and neither of the others took the least notice of her going, though she looked back once or twice, half hoping that they would call after her: the last time she saw them, they were trying to put the dormouse into the teapot. at any rate ill never go there again! said alice as she picked her way through the wood. its the stupidest tea-party i ever was at in all my life! just as she said this, she noticed that one of the trees had a door leading right into it. thats very curious! she thought. but everythings curious today. i think i may as well go in at once. and in she went. once more she found herself in the long hall, and close to the little glass table. now, ill manage better this time, she said to herself, and began by taking the little golden key, and unlocking the door that led into the garden. then she went to work nibbling at the mushroom (she had kept a piece of it in her pocket) till she was about a foot high: then she walked down the little passage: and then--she found herself at last in the beautiful garden, among the bright flower-beds and the cool fountains. chapter viii. the queens croquet-ground a large rose-tree stood near the entrance of the garden: the roses growing on it were white, but there were three gardeners at it, busily painting them red. alice thought this a very curious thing, and she went nearer to watch them, and just as she came up to them she heard one of them say, look out now, five! dont go splashing paint over me like that! i couldnt help it, said five, in a sulky tone; seven jogged my elbow. on which seven looked up and said, thats right, five! always lay the blame on others! youd better not talk! said five. i heard the queen say only yesterday you deserved to be beheaded! what for? said the one who had spoken first. thats none of your business, two! said seven. yes, it is his business! said five, and ill tell him--it was for bringing the cook tulip-roots instead of onions. seven flung down his brush, and had just begun well, of all the unjust things-- when his eye chanced to fall upon alice, as she stood watching them, and he checked himself suddenly: the others looked round also, and all of them bowed low. would you tell me, said alice, a little timidly, why you are painting those roses? five and seven said nothing, but looked at two. two began in a low voice, why the fact is, you see, miss, this here ought to have been a red rose-tree, and we put a white one in by mistake; and if the queen was to find it out, we should all have our heads cut off, you know. so you see, miss, were doing our best, afore she comes, to-- at this moment five, who had been anxiously looking across the garden, called out the queen! the queen! and the three gardeners instantly threw themselves flat upon their faces. there was a sound of many footsteps, and alice looked round, eager to see the queen. first came ten soldiers carrying clubs; these were all shaped like the three gardeners, oblong and flat, with their hands and feet at the corners: next the ten courtiers; these were ornamented all over with diamonds, and walked two and two, as the soldiers did. after these came the royal children; there were ten of them, and the little dears came jumping merrily along hand in hand, in couples: they were all ornamented with hearts. next came the guests, mostly kings and queens, and among them alice recognised the white rabbit: it was talking in a hurried nervous manner, smiling at everything that was said, and went by without noticing her. then followed the knave of hearts, carrying the kings crown on a crimson velvet cushion; and, last of all this grand procession, came the king and queen of hearts. alice was rather doubtful whether she ought not to lie down on her face like the three gardeners, but she could not remember ever having heard of such a rule at processions; and besides, what would be the use of a procession, thought she, if people had all to lie down upon their faces, so that they couldnt see it? so she stood still where she was, and waited. when the procession came opposite to alice, they all stopped and looked at her, and the queen said severely who is this? she said it to the knave of hearts, who only bowed and smiled in reply. idiot! said the queen, tossing her head impatiently; and, turning to alice, she went on, whats your name, child? my name is alice, so please your majesty, said alice very politely; but she added, to herself, why, theyre only a pack of cards, after all. i neednt be afraid of them! and who are these? said the queen, pointing to the three gardeners who were lying round the rosetree; for, you see, as they were lying on their faces, and the pattern on their backs was the same as the rest of the pack, she could not tell whether they were gardeners, or soldiers, or courtiers, or three of her own children. how should i know? said alice, surprised at her own courage. its no business of mine. the queen turned crimson with fury, and, after glaring at her for a moment like a wild beast, screamed off with her head! off-- nonsense! said alice, very loudly and decidedly, and the queen was silent. the king laid his hand upon her arm, and timidly said consider, my dear: she is only a child! the queen turned angrily away from him, and said to the knave turn them over! the knave did so, very carefully, with one foot. get up! said the queen, in a shrill, loud voice, and the three gardeners instantly jumped up, and began bowing to the king, the queen, the royal children, and everybody else. leave off that! screamed the queen. you make me giddy. and then, turning to the rose-tree, she went on, what have you been doing here? may it please your majesty, said two, in a very humble tone, going down on one knee as he spoke, we were trying-- i see! said the queen, who had meanwhile been examining the roses. off with their heads! and the procession moved on, three of the soldiers remaining behind to execute the unfortunate gardeners, who ran to alice for protection. you shant be beheaded! said alice, and she put them into a large flower-pot that stood near. the three soldiers wandered about for a minute or two, looking for them, and then quietly marched off after the others. are their heads off? shouted the queen. their heads are gone, if it please your majesty! the soldiers shouted in reply. thats right! shouted the queen. can you play croquet? the soldiers were silent, and looked at alice, as the question was evidently meant for her. yes! shouted alice. come on, then! roared the queen, and alice joined the procession, wondering very much what would happen next. its--its a very fine day! said a timid voice at her side. she was walking by the white rabbit, who was peeping anxiously into her face. very, said alice: --wheres the duchess? hush! hush! said the rabbit in a low, hurried tone. he looked anxiously over his shoulder as he spoke, and then raised himself upon tiptoe, put his mouth close to her ear, and whispered shes under sentence of execution. what for? said alice. did you say what a pity!? the rabbit asked. no, i didnt, said alice: i dont think its at all a pity. i said what for? she boxed the queens ears-- the rabbit began. alice gave a little scream of laughter. oh, hush! the rabbit whispered in a frightened tone. the queen will hear you! you see, she came rather late, and the queen said-- get to your places! shouted the queen in a voice of thunder, and people began running about in all directions, tumbling up against each other; however, they got settled down in a minute or two, and the game began. alice thought she had never seen such a curious croquet-ground in her life; it was all ridges and furrows; the balls were live hedgehogs, the mallets live flamingoes, and the soldiers had to double themselves up and to stand on their hands and feet, to make the arches. the chief difficulty alice found at first was in managing her flamingo: she succeeded in getting its body tucked away, comfortably enough, under her arm, with its legs hanging down, but generally, just as she had got its neck nicely straightened out, and was going to give the hedgehog a blow with its head, it would twist itself round and look up in her face, with such a puzzled expression that she could not help bursting out laughing: and when she had got its head down, and was going to begin again, it was very provoking to find that the hedgehog had unrolled itself, and was in the act of crawling away: besides all this, there was generally a ridge or furrow in the way wherever she wanted to send the hedgehog to, and, as the doubled-up soldiers were always getting up and walking off to other parts of the ground, alice soon came to the conclusion that it was a very difficult game indeed. the players all played at once without waiting for turns, quarrelling all the while, and fighting for the hedgehogs; and in a very short time the queen was in a furious passion, and went stamping about, and shouting off with his head! or off with her head! about once in a minute. alice began to feel very uneasy: to be sure, she had not as yet had any dispute with the queen, but she knew that it might happen any minute, and then, thought she, what would become of me? theyre dreadfully fond of beheading people here; the great wonder is, that theres any one left alive! she was looking about for some way of escape, and wondering whether she could get away without being seen, when she noticed a curious appearance in the air: it puzzled her very much at first, but, after watching it a minute or two, she made it out to be a grin, and she said to herself its the cheshire cat: now i shall have somebody to talk to. how are you getting on? said the cat, as soon as there was mouth enough for it to speak with. alice waited till the eyes appeared, and then nodded. its no use speaking to it, she thought, till its ears have come, or at least one of them. in another minute the whole head appeared, and then alice put down her flamingo, and began an account of the game, feeling very glad she had someone to listen to her. the cat seemed to think that there was enough of it now in sight, and no more of it appeared. i dont think they play at all fairly, alice began, in rather a complaining tone, and they all quarrel so dreadfully one cant hear oneself speak--and they dont seem to have any rules in particular; at least, if there are, nobody attends to them--and youve no idea how confusing it is all the things being alive; for instance, theres the arch ive got to go through next walking about at the other end of the ground--and i should have croqueted the queens hedgehog just now, only it ran away when it saw mine coming! how do you like the queen? said the cat in a low voice. not at all, said alice: shes so extremely-- just then she noticed that the queen was close behind her, listening: so she went on, --likely to win, that its hardly worth while finishing the game. the queen smiled and passed on. who are you talking to? said the king, going up to alice, and looking at the cats head with great curiosity. its a friend of mine--a cheshire cat, said alice: allow me to introduce it. i dont like the look of it at all, said the king: however, it may kiss my hand if it likes. id rather not, the cat remarked. dont be impertinent, said the king, and dont look at me like that! he got behind alice as he spoke. a cat may look at a king, said alice. ive read that in some book, but i dont remember where. well, it must be removed, said the king very decidedly, and he called the queen, who was passing at the moment, my dear! i wish you would have this cat removed! the queen had only one way of settling all difficulties, great or small. off with his head! she said, without even looking round. ill fetch the executioner myself, said the king eagerly, and he hurried off. alice thought she might as well go back, and see how the game was going on, as she heard the queens voice in the distance, screaming with passion. she had already heard her sentence three of the players to be executed for having missed their turns, and she did not like the look of things at all, as the game was in such confusion that she never knew whether it was her turn or not. so she went in search of her hedgehog. the hedgehog was engaged in a fight with another hedgehog, which seemed to alice an excellent opportunity for croqueting one of them with the other: the only difficulty was, that her flamingo was gone across to the other side of the garden, where alice could see it trying in a helpless sort of way to fly up into a tree. by the time she had caught the flamingo and brought it back, the fight was over, and both the hedgehogs were out of sight: but it doesnt matter much, thought alice, as all the arches are gone from this side of the ground. so she tucked it away under her arm, that it might not escape again, and went back for a little more conversation with her friend. when she got back to the cheshire cat, she was surprised to find quite a large crowd collected round it: there was a dispute going on between the executioner, the king, and the queen, who were all talking at once, while all the rest were quite silent, and looked very uncomfortable. the moment alice appeared, she was appealed to by all three to settle the question, and they repeated their arguments to her, though, as they all spoke at once, she found it very hard indeed to make out exactly what they said. the executioners argument was, that you couldnt cut off a head unless there was a body to cut it off from: that he had never had to do such a thing before, and he wasnt going to begin at his time of life. the kings argument was, that anything that had a head could be beheaded, and that you werent to talk nonsense. the queens argument was, that if something wasnt done about it in less than no time shed have everybody executed, all round. (it was this last remark that had made the whole party look so grave and anxious.) alice could think of nothing else to say but it belongs to the duchess: youd better ask her about it. shes in prison, the queen said to the executioner: fetch her here. and the executioner went off like an arrow. the cats head began fading away the moment he was gone, and, by the time he had come back with the duchess, it had entirely disappeared; so the king and the executioner ran wildly up and down looking for it, while the rest of the party went back to the game. chapter ix. the mock turtles story you cant think how glad i am to see you again, you dear old thing! said the duchess, as she tucked her arm affectionately into alices, and they walked off together. alice was very glad to find her in such a pleasant temper, and thought to herself that perhaps it was only the pepper that had made her so savage when they met in the kitchen. when im a duchess, she said to herself, (not in a very hopeful tone though), i wont have any pepper in my kitchen at all. soup does very well without--maybe its always pepper that makes people hot-tempered, she went on, very much pleased at having found out a new kind of rule, and vinegar that makes them sour--and camomile that makes them bitter--and--and barley-sugar and such things that make children sweet-tempered. i only wish people knew that: then they wouldnt be so stingy about it, you know-- she had quite forgotten the duchess by this time, and was a little startled when she heard her voice close to her ear. youre thinking about something, my dear, and that makes you forget to talk. i cant tell you just now what the moral of that is, but i shall remember it in a bit. perhaps it hasnt one, alice ventured to remark. tut, tut, child! said the duchess. everythings got a moral, if only you can find it. and she squeezed herself up closer to alices side as she spoke. alice did not much like keeping so close to her: first, because the duchess was very ugly; and secondly, because she was exactly the right height to rest her chin upon alices shoulder, and it was an uncomfortably sharp chin. however, she did not like to be rude, so she bore it as well as she could. the games going on rather better now, she said, by way of keeping up the conversation a little. tis so, said the duchess: and the moral of that is--oh, tis love, tis love, that makes the world go round! somebody said, alice whispered, that its done by everybody minding their own business! ah, well! it means much the same thing, said the duchess, digging her sharp little chin into alices shoulder as she added, and the moral of that is--take care of the sense, and the sounds will take care of themselves. how fond she is of finding morals in things! alice thought to herself. i dare say youre wondering why i dont put my arm round your waist, the duchess said after a pause: the reason is, that im doubtful about the temper of your flamingo. shall i try the experiment? he might bite, alice cautiously replied, not feeling at all anxious to have the experiment tried. very true, said the duchess: flamingoes and mustard both bite. and the moral of that is--birds of a feather flock together. only mustard isnt a bird, alice remarked. right, as usual, said the duchess: what a clear way you have of putting things! its a mineral, i think, said alice. of course it is, said the duchess, who seemed ready to agree to everything that alice said; theres a large mustard-mine near here. and the moral of that is--the more there is of mine, the less there is of yours. oh, i know! exclaimed alice, who had not attended to this last remark, its a vegetable. it doesnt look like one, but it is. i quite agree with you, said the duchess; and the moral of that is--be what you would seem to be--or if youd like it put more simply--never imagine yourself not to be otherwise than what it might appear to others that what you were or might have been was not otherwise than what you had been would have appeared to them to be otherwise. i think i should understand that better, alice said very politely, if i had it written down: but i cant quite follow it as you say it. thats nothing to what i could say if i chose, the duchess replied, in a pleased tone. pray dont trouble yourself to say it any longer than that, said alice. oh, dont talk about trouble! said the duchess. i make you a present of everything ive said as yet. a cheap sort of present! thought alice. im glad they dont give birthday presents like that! but she did not venture to say it out loud. thinking again? the duchess asked, with another dig of her sharp little chin. ive a right to think, said alice sharply, for she was beginning to feel a little worried. just about as much right, said the duchess, as pigs have to fly; and the m-- but here, to alices great surprise, the duchesss voice died away, even in the middle of her favourite word moral, and the arm that was linked into hers began to tremble. alice looked up, and there stood the queen in front of them, with her arms folded, frowning like a thunderstorm. a fine day, your majesty! the duchess began in a low, weak voice. now, i give you fair warning, shouted the queen, stamping on the ground as she spoke; either you or your head must be off, and that in about half no time! take your choice! the duchess took her choice, and was gone in a moment. lets go on with the game, the queen said to alice; and alice was too much frightened to say a word, but slowly followed her back to the croquet-ground. the other guests had taken advantage of the queens absence, and were resting in the shade: however, the moment they saw her, they hurried back to the game, the queen merely remarking that a moments delay would cost them their lives. all the time they were playing the queen never left off quarrelling with the other players, and shouting off with his head! or off with her head! those whom she sentenced were taken into custody by the soldiers, who of course had to leave off being arches to do this, so that by the end of half an hour or so there were no arches left, and all the players, except the king, the queen, and alice, were in custody and under sentence of execution. then the queen left off, quite out of breath, and said to alice, have you seen the mock turtle yet? no, said alice. i dont even know what a mock turtle is. its the thing mock turtle soup is made from, said the queen. i never saw one, or heard of one, said alice. come on, then, said the queen, and he shall tell you his history, as they walked off together, alice heard the king say in a low voice, to the company generally, you are all pardoned. come, thats a good thing! she said to herself, for she had felt quite unhappy at the number of executions the queen had ordered. they very soon came upon a gryphon, lying fast asleep in the sun. (if you dont know what a gryphon is, look at the picture.) up, lazy thing! said the queen, and take this young lady to see the mock turtle, and to hear his history. i must go back and see after some executions i have ordered; and she walked off, leaving alice alone with the gryphon. alice did not quite like the look of the creature, but on the whole she thought it would be quite as safe to stay with it as to go after that savage queen: so she waited. the gryphon sat up and rubbed its eyes: then it watched the queen till she was out of sight: then it chuckled. what fun! said the gryphon, half to itself, half to alice. what is the fun? said alice. why, she, said the gryphon. its all her fancy, that: they never executes nobody, you know. come on! everybody says come on! here, thought alice, as she went slowly after it: i never was so ordered about in all my life, never! they had not gone far before they saw the mock turtle in the distance, sitting sad and lonely on a little ledge of rock, and, as they came nearer, alice could hear him sighing as if his heart would break. she pitied him deeply. what is his sorrow? she asked the gryphon, and the gryphon answered, very nearly in the same words as before, its all his fancy, that: he hasnt got no sorrow, you know. come on! so they went up to the mock turtle, who looked at them with large eyes full of tears, but said nothing. this here young lady, said the gryphon, she wants for to know your history, she do. ill tell it her, said the mock turtle in a deep, hollow tone: sit down, both of you, and dont speak a word till ive finished. so they sat down, and nobody spoke for some minutes. alice thought to herself, i dont see how he can even finish, if he doesnt begin. but she waited patiently. once, said the mock turtle at last, with a deep sigh, i was a real turtle. these words were followed by a very long silence, broken only by an occasional exclamation of hjckrrh! from the gryphon, and the constant heavy sobbing of the mock turtle. alice was very nearly getting up and saying, thank you, sir, for your interesting story, but she could not help thinking there must be more to come, so she sat still and said nothing. when we were little, the mock turtle went on at last, more calmly, though still sobbing a little now and then, we went to school in the sea. the master was an old turtle--we used to call him tortoise-- why did you call him tortoise, if he wasnt one? alice asked. we called him tortoise because he taught us, said the mock turtle angrily: really you are very dull! you ought to be ashamed of yourself for asking such a simple question, added the gryphon; and then they both sat silent and looked at poor alice, who felt ready to sink into the earth. at last the gryphon said to the mock turtle, drive on, old fellow! dont be all day about it! and he went on in these words: yes, we went to school in the sea, though you maynt believe it-- i never said i didnt! interrupted alice. you did, said the mock turtle. hold your tongue! added the gryphon, before alice could speak again. the mock turtle went on. we had the best of educations--in fact, we went to school every day-- ive been to a day-school, too, said alice; you neednt be so proud as all that. with extras? asked the mock turtle a little anxiously. yes, said alice, we learned french and music. and washing? said the mock turtle. certainly not! said alice indignantly. ah! then yours wasnt a really good school, said the mock turtle in a tone of great relief. now at ours they had at the end of the bill, french, music, and washing--extra. you couldnt have wanted it much, said alice; living at the bottom of the sea. i couldnt afford to learn it. said the mock turtle with a sigh. i only took the regular course. what was that? inquired alice. reeling and writhing, of course, to begin with, the mock turtle replied; and then the different branches of arithmetic--ambition, distraction, uglification, and derision. i never heard of uglification, alice ventured to say. what is it? the gryphon lifted up both its paws in surprise. what! never heard of uglifying! it exclaimed. you know what to beautify is, i suppose? yes, said alice doubtfully: it means--to--make--anything--prettier. well, then, the gryphon went on, if you dont know what to uglify is, you are a simpleton. alice did not feel encouraged to ask any more questions about it, so she turned to the mock turtle, and said what else had you to learn? well, there was mystery, the mock turtle replied, counting off the subjects on his flappers, --mystery, ancient and modern, with seaography: then drawling--the drawling-master was an old conger-eel, that used to come once a week: he taught us drawling, stretching, and fainting in coils. what was that like? said alice. well, i cant show it you myself, the mock turtle said: im too stiff. and the gryphon never learnt it. hadnt time, said the gryphon: i went to the classics master, though. he was an old crab, he was. i never went to him, the mock turtle said with a sigh: he taught laughing and grief, they used to say. so he did, so he did, said the gryphon, sighing in his turn; and both creatures hid their faces in their paws. and how many hours a day did you do lessons? said alice, in a hurry to change the subject. ten hours the first day, said the mock turtle: nine the next, and so on. what a curious plan! exclaimed alice. thats the reason theyre called lessons, the gryphon remarked: because they lessen from day to day. this was quite a new idea to alice, and she thought it over a little before she made her next remark. then the eleventh day must have been a holiday? of course it was, said the mock turtle. and how did you manage on the twelfth? alice went on eagerly. thats enough about lessons, the gryphon interrupted in a very decided tone: tell her something about the games now. chapter x. the lobster quadrille the mock turtle sighed deeply, and drew the back of one flapper across his eyes. he looked at alice, and tried to speak, but for a minute or two sobs choked his voice. same as if he had a bone in his throat, said the gryphon: and it set to work shaking him and punching him in the back. at last the mock turtle recovered his voice, and, with tears running down his cheeks, he went on again:-- you may not have lived much under the sea-- [i havent, said alice)--and perhaps you were never even introduced to a lobster-- (alice began to say i once tasted-- but checked herself hastily, and said no, never) --so you can have no idea what a delightful thing a lobster quadrille is! no, indeed, said alice. what sort of a dance is it? why, said the gryphon, you first form into a line along the sea-shore-- two lines! cried the mock turtle. seals, turtles, salmon, and so on; then, when youve cleared all the jelly-fish out of the way-- that generally takes some time, interrupted the gryphon. --you advance twice-- each with a lobster as a partner! cried the gryphon. of course, the mock turtle said: advance twice, set to partners-- --change lobsters, and retire in same order, continued the gryphon. then, you know, the mock turtle went on, you throw the-- the lobsters! shouted the gryphon, with a bound into the air. --as far out to sea as you can-- swim after them! screamed the gryphon. turn a somersault in the sea! cried the mock turtle, capering wildly about. change lobsters again! yelled the gryphon at the top of its voice. back to land again, and thats all the first figure, said the mock turtle, suddenly dropping his voice; and the two creatures, who had been jumping about like mad things all this time, sat down again very sadly and quietly, and looked at alice. it must be a very pretty dance, said alice timidly. would you like to see a little of it? said the mock turtle. very much indeed, said alice. come, lets try the first figure! said the mock turtle to the gryphon. we can do without lobsters, you know. which shall sing? oh, you sing, said the gryphon. ive forgotten the words. so they began solemnly dancing round and round alice, every now and then treading on her toes when they passed too close, and waving their forepaws to mark the time, while the mock turtle sang this, very slowly and sadly:-- will you walk a little faster? said a whiting to a snail. theres a porpoise close behind us, and hes treading on my tail. see how eagerly the lobsters and the turtles all advance! they are waiting on the shingle--will you come and join the dance? will you, wont you, will you, wont you, will you join the dance? will you, wont you, will you, wont you, wont you join the dance? you can really have no notion how delightful it will be when they take us up and throw us, with the lobsters, out to sea! but the snail replied too far, too far! and gave a look askance-- said he thanked the whiting kindly, but he would not join the dance. would not, could not, would not, could not, would not join the dance. would not, could not, would not, could not, could not join the dance. what matters it how far we go? his scaly friend replied. there is another shore, you know, upon the other side. the further off from england the nearer is to france-- then turn not pale, beloved snail, but come and join the dance. will you, wont you, will you, wont you, will you join the dance? will you, wont you, will you, wont you, wont you join the dance? thank you, its a very interesting dance to watch, said alice, feeling very glad that it was over at last: and i do so like that curious song about the whiting! oh, as to the whiting, said the mock turtle, they--youve seen them, of course? yes, said alice, ive often seen them at dinn-- she checked herself hastily. i dont know where dinn may be, said the mock turtle, but if youve seen them so often, of course you know what theyre like. i believe so, alice replied thoughtfully. they have their tails in their mouths--and theyre all over crumbs. youre wrong about the crumbs, said the mock turtle: crumbs would all wash off in the sea. but they have their tails in their mouths; and the reason is-- here the mock turtle yawned and shut his eyes.--tell her about the reason and all that, he said to the gryphon. the reason is, said the gryphon, that they would go with the lobsters to the dance. so they got thrown out to sea. so they had to fall a long way. so they got their tails fast in their mouths. so they couldnt get them out again. thats all. thank you, said alice, its very interesting. i never knew so much about a whiting before. i can tell you more than that, if you like, said the gryphon. do you know why its called a whiting? i never thought about it, said alice. why? it does the boots and shoes. the gryphon replied very solemnly. alice was thoroughly puzzled. does the boots and shoes! she repeated in a wondering tone. why, what are your shoes done with? said the gryphon. i mean, what makes them so shiny? alice looked down at them, and considered a little before she gave her answer. theyre done with blacking, i believe. boots and shoes under the sea, the gryphon went on in a deep voice, are done with a whiting. now you know. and what are they made of? alice asked in a tone of great curiosity. soles and eels, of course, the gryphon replied rather impatiently: any shrimp could have told you that. if id been the whiting, said alice, whose thoughts were still running on the song, id have said to the porpoise, keep back, please: we dont want you with us! they were obliged to have him with them, the mock turtle said: no wise fish would go anywhere without a porpoise. wouldnt it really? said alice in a tone of great surprise. of course not, said the mock turtle: why, if a fish came to me, and told me he was going a journey, i should say with what porpoise? dont you mean purpose? said alice. i mean what i say, the mock turtle replied in an offended tone. and the gryphon added come, lets hear some of your adventures. i could tell you my adventures--beginning from this morning, said alice a little timidly: but its no use going back to yesterday, because i was a different person then. explain all that, said the mock turtle. no, no! the adventures first, said the gryphon in an impatient tone: explanations take such a dreadful time. so alice began telling them her adventures from the time when she first saw the white rabbit. she was a little nervous about it just at first, the two creatures got so close to her, one on each side, and opened their eyes and mouths so very wide, but she gained courage as she went on. her listeners were perfectly quiet till she got to the part about her repeating you are old, father william, to the caterpillar, and the words all coming different, and then the mock turtle drew a long breath, and said thats very curious. its all about as curious as it can be, said the gryphon. it all came different! the mock turtle repeated thoughtfully. i should like to hear her try and repeat something now. tell her to begin. he looked at the gryphon as if he thought it had some kind of authority over alice. stand up and repeat tis the voice of the sluggard, said the gryphon. how the creatures order one about, and make one repeat lessons! thought alice; i might as well be at school at once. however, she got up, and began to repeat it, but her head was so full of the lobster quadrille, that she hardly knew what she was saying, and the words came very queer indeed:-- tis the voice of the lobster; i heard him declare, you have baked me too brown, i must sugar my hair. as a duck with its eyelids, so he with his nose trims his belt and his buttons, and turns out his toes. [later editions continued as follows when the sands are all dry, he is gay as a lark, and will talk in contemptuous tones of the shark, but, when the tide rises and sharks are around, his voice has a timid and tremulous sound.] thats different from what i used to say when i was a child, said the gryphon. well, i never heard it before, said the mock turtle; but it sounds uncommon nonsense. alice said nothing; she had sat down with her face in her hands, wondering if anything would ever happen in a natural way again. i should like to have it explained, said the mock turtle. she cant explain it, said the gryphon hastily. go on with the next verse. but about his toes? the mock turtle persisted. how could he turn them out with his nose, you know? its the first position in dancing. alice said; but was dreadfully puzzled by the whole thing, and longed to change the subject. go on with the next verse, the gryphon repeated impatiently: it begins i passed by his garden. alice did not dare to disobey, though she felt sure it would all come wrong, and she went on in a trembling voice:-- i passed by his garden, and marked, with one eye, how the owl and the panther were sharing a pie-- [later editions continued as follows the panther took pie-crust, and gravy, and meat, while the owl had the dish as its share of the treat. when the pie was all finished, the owl, as a boon, was kindly permitted to pocket the spoon: while the panther received knife and fork with a growl, and concluded the banquet--] what is the use of repeating all that stuff, the mock turtle interrupted, if you dont explain it as you go on? its by far the most confusing thing i ever heard! yes, i think youd better leave off, said the gryphon: and alice was only too glad to do so. shall we try another figure of the lobster quadrille? the gryphon went on. or would you like the mock turtle to sing you a song? oh, a song, please, if the mock turtle would be so kind, alice replied, so eagerly that the gryphon said, in a rather offended tone, hm! no accounting for tastes! sing her turtle soup, will you, old fellow? the mock turtle sighed deeply, and began, in a voice sometimes choked with sobs, to sing this:-- beautiful soup, so rich and green, waiting in a hot tureen! who for such dainties would not stoop? soup of the evening, beautiful soup! soup of the evening, beautiful soup! beau--ootiful soo--oop! beau--ootiful soo--oop! soo--oop of the e--e--evening, beautiful, beautiful soup! beautiful soup! who cares for fish, game, or any other dish? who would not give all else for two pennyworth only of beautiful soup? pennyworth only of beautiful soup? beau--ootiful soo--oop! beau--ootiful soo--oop! soo--oop of the e--e--evening, beautiful, beauti--ful soup! chorus again! cried the gryphon, and the mock turtle had just begun to repeat it, when a cry of the trials beginning! was heard in the distance. come on! cried the gryphon, and, taking alice by the hand, it hurried off, without waiting for the end of the song. what trial is it? alice panted as she ran; but the gryphon only answered come on! and ran the faster, while more and more faintly came, carried on the breeze that followed them, the melancholy words:-- soo--oop of the e--e--evening, beautiful, beautiful soup! chapter xi. who stole the tarts? the king and queen of hearts were seated on their throne when they arrived, with a great crowd assembled about them--all sorts of little birds and beasts, as well as the whole pack of cards: the knave was standing before them, in chains, with a soldier on each side to guard him; and near the king was the white rabbit, with a trumpet in one hand, and a scroll of parchment in the other. in the very middle of the court was a table, with a large dish of tarts upon it: they looked so good, that it made alice quite hungry to look at them--i wish theyd get the trial done, she thought, and hand round the refreshments! but there seemed to be no chance of this, so she began looking at everything about her, to pass away the time. alice had never been in a court of justice before, but she had read about them in books, and she was quite pleased to find that she knew the name of nearly everything there. thats the judge, she said to herself, because of his great wig. the judge, by the way, was the king; and as he wore his crown over the wig, (look at the frontispiece if you want to see how he did it,) he did not look at all comfortable, and it was certainly not becoming. and thats the jury-box, thought alice, and those twelve creatures, (she was obliged to say creatures, you see, because some of them were animals, and some were birds,) i suppose they are the jurors. she said this last word two or three times over to herself, being rather proud of it: for she thought, and rightly too, that very few little girls of her age knew the meaning of it at all. however, jury-men would have done just as well. the twelve jurors were all writing very busily on slates. what are they doing? alice whispered to the gryphon. they cant have anything to put down yet, before the trials begun. theyre putting down their names, the gryphon whispered in reply, for fear they should forget them before the end of the trial. stupid things! alice began in a loud, indignant voice, but she stopped hastily, for the white rabbit cried out, silence in the court! and the king put on his spectacles and looked anxiously round, to make out who was talking. alice could see, as well as if she were looking over their shoulders, that all the jurors were writing down stupid things! on their slates, and she could even make out that one of them didnt know how to spell stupid, and that he had to ask his neighbour to tell him. a nice muddle their slatesll be in before the trials over! thought alice. one of the jurors had a pencil that squeaked. this of course, alice could not stand, and she went round the court and got behind him, and very soon found an opportunity of taking it away. she did it so quickly that the poor little juror (it was bill, the lizard) could not make out at all what had become of it; so, after hunting all about for it, he was obliged to write with one finger for the rest of the day; and this was of very little use, as it left no mark on the slate. herald, read the accusation! said the king. on this the white rabbit blew three blasts on the trumpet, and then unrolled the parchment scroll, and read as follows:-- the queen of hearts, she made some tarts, all on a summer day: the knave of hearts, he stole those tarts, and took them quite away! consider your verdict, the king said to the jury. not yet, not yet! the rabbit hastily interrupted. theres a great deal to come before that! call the first witness, said the king; and the white rabbit blew three blasts on the trumpet, and called out, first witness! the first witness was the hatter. he came in with a teacup in one hand and a piece of bread-and-butter in the other. i beg pardon, your majesty, he began, for bringing these in: but i hadnt quite finished my tea when i was sent for. you ought to have finished, said the king. when did you begin? the hatter looked at the march hare, who had followed him into the court, arm-in-arm with the dormouse. fourteenth of march, i think it was, he said. fifteenth, said the march hare. sixteenth, added the dormouse. write that down, the king said to the jury, and the jury eagerly wrote down all three dates on their slates, and then added them up, and reduced the answer to shillings and pence. take off your hat, the king said to the hatter. it isnt mine, said the hatter. stolen! the king exclaimed, turning to the jury, who instantly made a memorandum of the fact. i keep them to sell, the hatter added as an explanation; ive none of my own. im a hatter. here the queen put on her spectacles, and began staring at the hatter, who turned pale and fidgeted. give your evidence, said the king; and dont be nervous, or ill have you executed on the spot. this did not seem to encourage the witness at all: he kept shifting from one foot to the other, looking uneasily at the queen, and in his confusion he bit a large piece out of his teacup instead of the bread-and-butter. just at this moment alice felt a very curious sensation, which puzzled her a good deal until she made out what it was: she was beginning to grow larger again, and she thought at first she would get up and leave the court; but on second thoughts she decided to remain where she was as long as there was room for her. i wish you wouldnt squeeze so. said the dormouse, who was sitting next to her. i can hardly breathe. i cant help it, said alice very meekly: im growing. youve no right to grow here, said the dormouse. dont talk nonsense, said alice more boldly: you know youre growing too. yes, but i grow at a reasonable pace, said the dormouse: not in that ridiculous fashion. and he got up very sulkily and crossed over to the other side of the court. all this time the queen had never left off staring at the hatter, and, just as the dormouse crossed the court, she said to one of the officers of the court, bring me the list of the singers in the last concert! on which the wretched hatter trembled so, that he shook both his shoes off. give your evidence, the king repeated angrily, or ill have you executed, whether youre nervous or not. im a poor man, your majesty, the hatter began, in a trembling voice, --and i hadnt begun my tea--not above a week or so--and what with the bread-and-butter getting so thin--and the twinkling of the tea-- the twinkling of the what? said the king. it began with the tea, the hatter replied. of course twinkling begins with a t! said the king sharply. do you take me for a dunce? go on! im a poor man, the hatter went on, and most things twinkled after that--only the march hare said-- i didnt! the march hare interrupted in a great hurry. you did! said the hatter. i deny it! said the march hare. he denies it, said the king: leave out that part. well, at any rate, the dormouse said-- the hatter went on, looking anxiously round to see if he would deny it too: but the dormouse denied nothing, being fast asleep. after that, continued the hatter, i cut some more bread-and-butter-- but what did the dormouse say? one of the jury asked. that i cant remember, said the hatter. you must remember, remarked the king, or ill have you executed. the miserable hatter dropped his teacup and bread-and-butter, and went down on one knee. im a poor man, your majesty, he began. youre a very poor speaker, said the king. here one of the guinea-pigs cheered, and was immediately suppressed by the officers of the court. (as that is rather a hard word, i will just explain to you how it was done. they had a large canvas bag, which tied up at the mouth with strings: into this they slipped the guinea-pig, head first, and then sat upon it.) im glad ive seen that done, thought alice. ive so often read in the newspapers, at the end of trials, there was some attempts at applause, which was immediately suppressed by the officers of the court, and i never understood what it meant till now. if thats all you know about it, you may stand down, continued the king. i cant go no lower, said the hatter: im on the floor, as it is. then you may sit down, the king replied. here the other guinea-pig cheered, and was suppressed. come, that finished the guinea-pigs! thought alice. now we shall get on better. id rather finish my tea, said the hatter, with an anxious look at the queen, who was reading the list of singers. you may go, said the king, and the hatter hurriedly left the court, without even waiting to put his shoes on. --and just take his head off outside, the queen added to one of the officers: but the hatter was out of sight before the officer could get to the door. call the next witness! said the king. the next witness was the duchesss cook. she carried the pepper-box in her hand, and alice guessed who it was, even before she got into the court, by the way the people near the door began sneezing all at once. give your evidence, said the king. shant, said the cook. the king looked anxiously at the white rabbit, who said in a low voice, your majesty must cross-examine this witness. well, if i must, i must, the king said, with a melancholy air, and, after folding his arms and frowning at the cook till his eyes were nearly out of sight, he said in a deep voice, what are tarts made of? pepper, mostly, said the cook. treacle, said a sleepy voice behind her. collar that dormouse, the queen shrieked out. behead that dormouse! turn that dormouse out of court! suppress him! pinch him! off with his whiskers! for some minutes the whole court was in confusion, getting the dormouse turned out, and, by the time they had settled down again, the cook had disappeared. never mind! said the king, with an air of great relief. call the next witness. and he added in an undertone to the queen, really, my dear, you must cross-examine the next witness. it quite makes my forehead ache! alice watched the white rabbit as he fumbled over the list, feeling very curious to see what the next witness would be like, --for they havent got much evidence yet, she said to herself. imagine her surprise, when the white rabbit read out, at the top of his shrill little voice, the name alice! chapter xii. alices evidence here! cried alice, quite forgetting in the flurry of the moment how large she had grown in the last few minutes, and she jumped up in such a hurry that she tipped over the jury-box with the edge of her skirt, upsetting all the jurymen on to the heads of the crowd below, and there they lay sprawling about, reminding her very much of a globe of goldfish she had accidentally upset the week before. oh, i beg your pardon! she exclaimed in a tone of great dismay, and began picking them up again as quickly as she could, for the accident of the goldfish kept running in her head, and she had a vague sort of idea that they must be collected at once and put back into the jury-box, or they would die. the trial cannot proceed, said the king in a very grave voice, until all the jurymen are back in their proper places--all, he repeated with great emphasis, looking hard at alice as he said do. alice looked at the jury-box, and saw that, in her haste, she had put the lizard in head downwards, and the poor little thing was waving its tail about in a melancholy way, being quite unable to move. she soon got it out again, and put it right; not that it signifies much, she said to herself; i should think it would be quite as much use in the trial one way up as the other. as soon as the jury had a little recovered from the shock of being upset, and their slates and pencils had been found and handed back to them, they set to work very diligently to write out a history of the accident, all except the lizard, who seemed too much overcome to do anything but sit with its mouth open, gazing up into the roof of the court. what do you know about this business? the king said to alice. nothing, said alice. nothing whatever? persisted the king. nothing whatever, said alice. thats very important, the king said, turning to the jury. they were just beginning to write this down on their slates, when the white rabbit interrupted: unimportant, your majesty means, of course, he said in a very respectful tone, but frowning and making faces at him as he spoke. unimportant, of course, i meant, the king hastily said, and went on to himself in an undertone, important--unimportant--unimportant--important-- as if he were trying which word sounded best. some of the jury wrote it down important, and some unimportant. alice could see this, as she was near enough to look over their slates; but it doesnt matter a bit, she thought to herself. at this moment the king, who had been for some time busily writing in his note-book, cackled out silence! and read out from his book, rule forty-two. all persons more than a mile high to leave the court. everybody looked at alice. im not a mile high, said alice. you are, said the king. nearly two miles high, added the queen. well, i shant go, at any rate, said alice: besides, thats not a regular rule: you invented it just now. its the oldest rule in the book, said the king. then it ought to be number one, said alice. the king turned pale, and shut his note-book hastily. consider your verdict, he said to the jury, in a low, trembling voice. theres more evidence to come yet, please your majesty, said the white rabbit, jumping up in a great hurry; this paper has just been picked up. whats in it? said the queen. i havent opened it yet, said the white rabbit, but it seems to be a letter, written by the prisoner to--to somebody. it must have been that, said the king, unless it was written to nobody, which isnt usual, you know. who is it directed to? said one of the jurymen. it isnt directed at all, said the white rabbit; in fact, theres nothing written on the outside. he unfolded the paper as he spoke, and added it isnt a letter, after all: its a set of verses. are they in the prisoners handwriting? asked another of the jurymen. no, theyre not, said the white rabbit, and thats the queerest thing about it. (the jury all looked puzzled.) he must have imitated somebody elses hand, said the king. (the jury all brightened up again.) please your majesty, said the knave, i didnt write it, and they cant prove i did: theres no name signed at the end. if you didnt sign it, said the king, that only makes the matter worse. you must have meant some mischief, or else youd have signed your name like an honest man. there was a general clapping of hands at this: it was the first really clever thing the king had said that day. that proves his guilt, said the queen. it proves nothing of the sort! said alice. why, you dont even know what theyre about! read them, said the king. the white rabbit put on his spectacles. where shall i begin, please your majesty? he asked. begin at the beginning, the king said gravely, and go on till you come to the end: then stop. these were the verses the white rabbit read:-- they told me you had been to her, and mentioned me to him: she gave me a good character, but said i could not swim. he sent them word i had not gone (we know it to be true): if she should push the matter on, what would become of you? i gave her one, they gave him two, you gave us three or more; they all returned from him to you, though they were mine before. if i or she should chance to be involved in this affair, he trusts to you to set them free, exactly as we were. my notion was that you had been (before she had this fit) an obstacle that came between him, and ourselves, and it. dont let him know she liked them best, for this must ever be a secret, kept from all the rest, between yourself and me. thats the most important piece of evidence weve heard yet, said the king, rubbing his hands; so now let the jury-- if any one of them can explain it, said alice, (she had grown so large in the last few minutes that she wasnt a bit afraid of interrupting him,) ill give him sixpence. _i_ dont believe theres an atom of meaning in it. the jury all wrote down on their slates, she doesnt believe theres an atom of meaning in it, but none of them attempted to explain the paper. if theres no meaning in it, said the king, that saves a world of trouble, you know, as we neednt try to find any. and yet i dont know, he went on, spreading out the verses on his knee, and looking at them with one eye; i seem to see some meaning in them, after all. --said i could not swim-- you cant swim, can you? he added, turning to the knave. the knave shook his head sadly. do i look like it? he said. (which he certainly did not, being made entirely of cardboard.) all right, so far, said the king, and he went on muttering over the verses to himself: we know it to be true-- thats the jury, of course--i gave her one, they gave him two-- why, that must be what he did with the tarts, you know-- but, it goes on they all returned from him to you, said alice. why, there they are! said the king triumphantly, pointing to the tarts on the table. nothing can be clearer than that. then again--before she had this fit-- you never had fits, my dear, i think? he said to the queen. never! said the queen furiously, throwing an inkstand at the lizard as she spoke. (the unfortunate little bill had left off writing on his slate with one finger, as he found it made no mark; but he now hastily began again, using the ink, that was trickling down his face, as long as it lasted.) then the words dont fit you, said the king, looking round the court with a smile. there was a dead silence. its a pun! the king added in an offended tone, and everybody laughed, let the jury consider their verdict, the king said, for about the twentieth time that day. no, no! said the queen. sentence first--verdict afterwards. stuff and nonsense! said alice loudly. the idea of having the sentence first! hold your tongue! said the queen, turning purple. i wont! said alice. off with her head! the queen shouted at the top of her voice. nobody moved. who cares for you? said alice, (she had grown to her full size by this time.) youre nothing but a pack of cards! at this the whole pack rose up into the air, and came flying down upon her: she gave a little scream, half of fright and half of anger, and tried to beat them off, and found herself lying on the bank, with her head in the lap of her sister, who was gently brushing away some dead leaves that had fluttered down from the trees upon her face. wake up, alice dear! said her sister; why, what a long sleep youve had! oh, ive had such a curious dream! said alice, and she told her sister, as well as she could remember them, all these strange adventures of hers that you have just been reading about; and when she had finished, her sister kissed her, and said, it was a curious dream, dear, certainly: but now run in to your tea; its getting late. so alice got up and ran off, thinking while she ran, as well she might, what a wonderful dream it had been. but her sister sat still just as she left her, leaning her head on her hand, watching the setting sun, and thinking of little alice and all her wonderful adventures, till she too began dreaming after a fashion, and this was her dream:-- first, she dreamed of little alice herself, and once again the tiny hands were clasped upon her knee, and the bright eager eyes were looking up into hers--she could hear the very tones of her voice, and see that queer little toss of her head to keep back the wandering hair that would always get into her eyes--and still as she listened, or seemed to listen, the whole place around her became alive with the strange creatures of her little sisters dream. the long grass rustled at her feet as the white rabbit hurried by--the frightened mouse splashed his way through the neighbouring pool--she could hear the rattle of the teacups as the march hare and his friends shared their never-ending meal, and the shrill voice of the queen ordering off her unfortunate guests to execution--once more the pig-baby was sneezing on the duchesss knee, while plates and dishes crashed around it--once more the shriek of the gryphon, the squeaking of the lizards slate-pencil, and the choking of the suppressed guinea-pigs, filled the air, mixed up with the distant sobs of the miserable mock turtle. so she sat on, with closed eyes, and half believed herself in wonderland, though she knew she had but to open them again, and all would change to dull reality--the grass would be only rustling in the wind, and the pool rippling to the waving of the reeds--the rattling teacups would change to tinkling sheep-bells, and the queens shrill cries to the voice of the shepherd boy--and the sneeze of the baby, the shriek of the gryphon, and all the other queer noises, would change (she knew) to the confused clamour of the busy farm-yard--while the lowing of the cattle in the distance would take the place of the mock turtles heavy sobs. lastly, she pictured to herself how this same little sister of hers would, in the after-time, be herself a grown woman; and how she would keep, through all her riper years, the simple and loving heart of her childhood: and how she would gather about her other little children, and make their eyes bright and eager with many a strange tale, perhaps even with the dream of wonderland of long ago: and how she would feel with all their simple sorrows, and find a pleasure in all their simple joys, remembering her own child-life, and the happy summer days. the end end of project gutenbergs alices adventures in wonderland, by lewis carroll *** end of this project gutenberg ebook alices adventures in wonderland *** ***** this file should be named 11-0.txt or 11-0.zip ***** this and all associated files of various formats will be found in: http://www.gutenberg.org/1/11/ updated editions will replace the previous one--the old editions will be renamed. creating the works from public domain print editions means that no one owns a united states copyright in these works, so the foundation (and you!) can copy and distribute it in the united states without permission and without paying copyright royalties.  special rules, set forth in the general terms of use part of this license, apply to copying and distributing project gutenberg-tm electronic works to protect the project gutenberg-tm concept and trademark.  project gutenberg is a registered trademark, and may not be used if you charge for the ebooks, unless you receive specific permission.  if you do not charge anything for copies of this ebook, complying with the rules is very easy.  you may use this ebook for nearly any purpose such as creation of derivative works, reports, performances and research.  they may be modified and printed and given away--you may do practically anything with public domain ebooks.  redistribution is subject to the trademark license, especially commercial redistribution. *** start: full license *** the full project gutenberg license please read this before you distribute or use this work to protect the project gutenberg-tm mission of promoting the free distribution of electronic works, by using or distributing this work (or any other work associated in any way with the phrase project gutenberg), you agree to comply with all the terms of the full project gutenberg-tm license (available with this file or online at http://gutenberg.org/license). section 1.  general terms of use and redistributing project gutenberg-tm electronic works 1.a.  by reading or using any part of this project gutenberg-tm electronic work, you indicate that you have read, understand, agree to and accept all the terms of this license and intellectual property (trademark/copyright) agreement.  if you do not agree to abide by all the terms of this agreement, you must cease using and return or destroy all copies of project gutenberg-tm electronic works in your possession. if you paid a fee for obtaining a copy of or access to a project gutenberg-tm electronic work and you do not agree to be bound by the terms of this agreement, you may obtain a refund from the person or entity to whom you paid the fee as set forth in paragraph 1.e.8. 1.b.  project gutenberg is a registered trademark.  it may only be used on or associated in any way with an electronic work by people who agree to be bound by the terms of this agreement.  there are a few things that you can do with most project gutenberg-tm electronic works even without complying with the full terms of this agreement.  see paragraph 1.c below.  there are a lot of things you can do with project gutenberg-tm electronic works if you follow the terms of this agreement and help preserve free future access to project gutenberg-tm electronic works.  see paragraph 1.e below. 1.c.  the project gutenberg literary archive foundation (the foundation or pglaf), owns a compilation copyright in the collection of project gutenberg-tm electronic works.  nearly all the individual works in the collection are in the public domain in the united states.  if an individual work is in the public domain in the united states and you are located in the united states, we do not claim a right to prevent you from copying, distributing, performing, displaying or creating derivative works based on the work as long as all references to project gutenberg are removed.  of course, we hope that you will support the project gutenberg-tm mission of promoting free access to electronic works by freely sharing project gutenberg-tm works in compliance with the terms of this agreement for keeping the project gutenberg-tm name associated with the work.  you can easily comply with the terms of this agreement by keeping this work in the same format with its attached full project gutenberg-tm license when you share it without charge with others. 1.d.  the copyright laws of the place where you are located also govern what you can do with this work.  copyright laws in most countries are in a constant state of change.  if you are outside the united states, check the laws of your country in addition to the terms of this agreement before downloading, copying, displaying, performing, distributing or creating derivative works based on this work or any other project gutenberg-tm work.  the foundation makes no representations concerning the copyright status of any work in any country outside the united states. 1.e.  unless you have removed all references to project gutenberg: 1.e.1.  the following sentence, with active links to, or other immediate access to, the full project gutenberg-tm license must appear prominently whenever any copy of a project gutenberg-tm work (any work on which the phrase project gutenberg appears, or with which the phrase project gutenberg is associated) is accessed, displayed, performed, viewed, copied or distributed: this ebook is for the use of anyone anywhere at no cost and with almost no restrictions whatsoever.  you may copy it, give it away or re-use it under the terms of the project gutenberg license included with this ebook or online at www.gutenberg.org 1.e.2.  if an individual project gutenberg-tm electronic work is derived from the public domain (does not contain a notice indicating that it is posted with permission of the copyright holder), the work can be copied and distributed to anyone in the united states without paying any fees or charges.  if you are redistributing or providing access to a work with the phrase project gutenberg associated with or appearing on the work, you must comply either with the requirements of paragraphs 1.e.1 through 1.e.7 or obtain permission for the use of the work and the project gutenberg-tm trademark as set forth in paragraphs 1.e.8 or 1.e.9. 1.e.3.  if an individual project gutenberg-tm electronic work is posted with the permission of the copyright holder, your use and distribution must comply with both paragraphs 1.e.1 through 1.e.7 and any additional terms imposed by the copyright holder.  additional terms will be linked to the project gutenberg-tm license for all works posted with the permission of the copyright holder found at the beginning of this work. 1.e.4.  do not unlink or detach or remove the full project gutenberg-tm license terms from this work, or any files containing a part of this work or any other work associated with project gutenberg-tm. 1.e.5.  do not copy, display, perform, distribute or redistribute this electronic work, or any part of this electronic work, without prominently displaying the sentence set forth in paragraph 1.e.1 with active links or immediate access to the full terms of the project gutenberg-tm license. 1.e.6.  you may convert to and distribute this work in any binary, compressed, marked up, nonproprietary or proprietary form, including any word processing or hypertext form.  however, if you provide access to or distribute copies of a project gutenberg-tm work in a format other than plain vanilla ascii or other format used in the official version posted on the official project gutenberg-tm web site (www.gutenberg.org), you must, at no additional cost, fee or expense to the user, provide a copy, a means of exporting a copy, or a means of obtaining a copy upon request, of the work in its original plain vanilla ascii or other form.  any alternate format must include the full project gutenberg-tm license as specified in paragraph 1.e.1. 1.e.7.  do not charge a fee for access to, viewing, displaying, performing, copying or distributing any project gutenberg-tm works unless you comply with paragraph 1.e.8 or 1.e.9. 1.e.8.  you may charge a reasonable fee for copies of or providing access to or distributing project gutenberg-tm electronic works provided that - you pay a royalty fee of 20% of the gross profits you derive from the use of project gutenberg-tm works calculated using the method you already use to calculate your applicable taxes.  the fee is owed to the owner of the project gutenberg-tm trademark, but he has agreed to donate royalties under this paragraph to the project gutenberg literary archive foundation.  royalty payments must be paid within 60 days following each date on which you prepare (or are legally required to prepare) your periodic tax returns.  royalty payments should be clearly marked as such and sent to the project gutenberg literary archive foundation at the address specified in section 4, information about donations to the project gutenberg literary archive foundation. - you provide a full refund of any money paid by a user who notifies you in writing (or by e-mail) within 30 days of receipt that s/he does not agree to the terms of the full project gutenberg-tm license.  you must require such a user to return or destroy all copies of the works possessed in a physical medium and discontinue all use of and all access to other copies of project gutenberg-tm works. - you provide, in accordance with paragraph 1.f.3, a full refund of any money paid for a work or a replacement copy, if a defect in the electronic work is discovered and reported to you within 90 days of receipt of the work. - you comply with all other terms of this agreement for free distribution of project gutenberg-tm works. 1.e.9.  if you wish to charge a fee or distribute a project gutenberg-tm electronic work or group of works on different terms than are set forth in this agreement, you must obtain permission in writing from both the project gutenberg literary archive foundation and michael hart, the owner of the project gutenberg-tm trademark.  contact the foundation as set forth in section 3 below. 1.f. 1.f.1.  project gutenberg volunteers and employees expend considerable effort to identify, do copyright research on, transcribe and proofread public domain works in creating the project gutenberg-tm collection.  despite these efforts, project gutenberg-tm electronic works, and the medium on which they may be stored, may contain defects, such as, but not limited to, incomplete, inaccurate or corrupt data, transcription errors, a copyright or other intellectual property infringement, a defective or damaged disk or other medium, a computer virus, or computer codes that damage or cannot be read by your equipment. 1.f.2.  limited warranty, disclaimer of damages - except for the right of replacement or refund described in paragraph 1.f.3, the project gutenberg literary archive foundation, the owner of the project gutenberg-tm trademark, and any other party distributing a project gutenberg-tm electronic work under this agreement, disclaim all liability to you for damages, costs and expenses, including legal fees.  you agree that you have no remedies for negligence, strict liability, breach of warranty or breach of contract except those provided in paragraph f3.  you agree that the foundation, the trademark owner, and any distributor under this agreement will not be liable to you for actual, direct, indirect, consequential, punitive or incidental damages even if you give notice of the possibility of such damage. 1.f.3.  limited right of replacement or refund - if you discover a defect in this electronic work within 90 days of receiving it, you can receive a refund of the money (if any) you paid for it by sending a written explanation to the person you received the work from.  if you received the work on a physical medium, you must return the medium with your written explanation.  the person or entity that provided you with the defective work may elect to provide a replacement copy in lieu of a refund.  if you received the work electronically, the person or entity providing it to you may choose to give you a second opportunity to receive the work electronically in lieu of a refund.  if the second copy is also defective, you may demand a refund in writing without further opportunities to fix the problem. 1.f.4.  except for the limited right of replacement or refund set forth in paragraph 1.f.3, this work is provided to you as-is with no other warranties of any kind, express or implied, including but not limited to warranties of merchantibility or fitness for any purpose. 1.f.5.  some states do not allow disclaimers of certain implied warranties or the exclusion or limitation of certain types of damages. if any disclaimer or limitation set forth in this agreement violates the law of the state applicable to this agreement, the agreement shall be interpreted to make the maximum disclaimer or limitation permitted by the applicable state law.  the invalidity or unenforceability of any provision of this agreement shall not void the remaining provisions. 1.f.6.  indemnity - you agree to indemnify and hold the foundation, the trademark owner, any agent or employee of the foundation, anyone providing copies of project gutenberg-tm electronic works in accordance with this agreement, and any volunteers associated with the production, promotion and distribution of project gutenberg-tm electronic works, harmless from all liability, costs and expenses, including legal fees, that arise directly or indirectly from any of the following which you do or cause to occur: (a) distribution of this or any project gutenberg-tm work, (b) alteration, modification, or additions or deletions to any project gutenberg-tm work, and (c) any defect you cause. section  2.  information about the mission of project gutenberg-tm project gutenberg-tm is synonymous with the free distribution of electronic works in formats readable by the widest variety of computers including obsolete, old, middle-aged and new computers.  it exists because of the efforts of hundreds of volunteers and donations from people in all walks of life. volunteers and financial support to provide volunteers with the assistance they need, is critical to reaching project gutenberg-tms goals and ensuring that the project gutenberg-tm collection will remain freely available for generations to come.  in 2001, the project gutenberg literary archive foundation was created to provide a secure and permanent future for project gutenberg-tm and future generations. to learn more about the project gutenberg literary archive foundation and how your efforts and donations can help, see sections 3 and 4 and the foundation web page at http://www.pglaf.org. section 3.  information about the project gutenberg literary archive foundation the project gutenberg literary archive foundation is a non profit 501(c)(3) educational corporation organized under the laws of the state of mississippi and granted tax exempt status by the internal revenue service.  the foundations ein or federal tax identification number is 64-6221541.  its 501(c)(3) letter is posted at http://pglaf.org/fundraising.  contributions to the project gutenberg literary archive foundation are tax deductible to the full extent permitted by u.s. federal laws and your states laws. the foundations principal office is located at 4557 melan dr. s. fairbanks, ak, 99712., but its volunteers and employees are scattered throughout numerous locations.  its business office is located at 809 north 1500 west, salt lake city, ut 84116, (801) 596-1887, email business@pglaf.org.  email contact links and up to date contact information can be found at the foundations web site and official page at http://pglaf.org for additional contact information: dr. gregory b. newby chief executive and director gbnewby@pglaf.org section 4.  information about donations to the project gutenberg literary archive foundation project gutenberg-tm depends upon and cannot survive without wide spread public support and donations to carry out its mission of increasing the number of public domain and licensed works that can be freely distributed in machine readable form accessible by the widest array of equipment including outdated equipment.  many small donations ($1 to $5,000) are particularly important to maintaining tax exempt status with the irs. the foundation is committed to complying with the laws regulating charities and charitable donations in all 50 states of the united states.  compliance requirements are not uniform and it takes a considerable effort, much paperwork and many fees to meet and keep up with these requirements.  we do not solicit donations in locations where we have not received written confirmation of compliance.  to send donations or determine the status of compliance for any particular state visit http://pglaf.org while we cannot and do not solicit contributions from states where we have not met the solicitation requirements, we know of no prohibition against accepting unsolicited donations from donors in such states who approach us with offers to donate. international donations are gratefully accepted, but we cannot make any statements concerning tax treatment of donations received from outside the united states.  u.s. laws alone swamp our small staff. please check the project gutenberg web pages for current donation methods and addresses.  donations are accepted in a number of other ways including checks, online payments and credit card donations. to donate, please visit: http://pglaf.org/donate section 5.  general information about project gutenberg-tm electronic works. professor michael s. hart is the originator of the project gutenberg-tm concept of a library of electronic works that could be freely shared with anyone.  for thirty years, he produced and distributed project gutenberg-tm ebooks with only a loose network of volunteer support. project gutenberg-tm ebooks are often created from several printed editions, all of which are confirmed as public domain in the u.s. unless a copyright notice is included.  thus, we do not necessarily keep ebooks in compliance with any particular paper edition. most people start at our web site which has the main pg search facility: http://www.gutenberg.org this web site includes information about project gutenberg-tm, including how to make donations to the project gutenberg literary archive foundation, how to help produce our new ebooks, and how to subscribe to our email newsletter to hear about new ebooks.'"
      ]
     },
     "execution_count": 99,
     "metadata": {
      "tags": []
     },
     "output_type": "execute_result"
    }
   ],
   "source": [
    "text"
   ]
  },
  {
   "cell_type": "code",
   "execution_count": null,
   "metadata": {
    "colab": {
     "base_uri": "https://localhost:8080/"
    },
    "id": "EYAYuKzdP_X-",
    "outputId": "fc0d0972-41e6-46a5-abf3-9ffac9ef3e10"
   },
   "outputs": [
    {
     "data": {
      "text/plain": [
       "{' ',\n",
       " '!',\n",
       " '#',\n",
       " '$',\n",
       " '%',\n",
       " '(',\n",
       " ')',\n",
       " '*',\n",
       " ',',\n",
       " '-',\n",
       " '.',\n",
       " '/',\n",
       " '0',\n",
       " '1',\n",
       " '2',\n",
       " '3',\n",
       " '4',\n",
       " '5',\n",
       " '6',\n",
       " '7',\n",
       " '8',\n",
       " '9',\n",
       " ':',\n",
       " ';',\n",
       " '?',\n",
       " '@',\n",
       " '[',\n",
       " ']',\n",
       " '_',\n",
       " 'a',\n",
       " 'b',\n",
       " 'c',\n",
       " 'd',\n",
       " 'e',\n",
       " 'f',\n",
       " 'g',\n",
       " 'h',\n",
       " 'i',\n",
       " 'j',\n",
       " 'k',\n",
       " 'l',\n",
       " 'm',\n",
       " 'n',\n",
       " 'o',\n",
       " 'p',\n",
       " 'q',\n",
       " 'r',\n",
       " 's',\n",
       " 't',\n",
       " 'u',\n",
       " 'v',\n",
       " 'w',\n",
       " 'x',\n",
       " 'y',\n",
       " 'z'}"
      ]
     },
     "execution_count": 100,
     "metadata": {
      "tags": []
     },
     "output_type": "execute_result"
    }
   ],
   "source": [
    "chars"
   ]
  },
  {
   "cell_type": "code",
   "execution_count": null,
   "metadata": {
    "id": "DjKlr_S7WSJP"
   },
   "outputs": [],
   "source": [
    "# создание индекса символов и reverse mapping\n",
    "char2index = {c: i for i, c in enumerate(chars)}\n",
    "index2char = {i: c for i, c in enumerate(chars)}"
   ]
  },
  {
   "cell_type": "code",
   "execution_count": null,
   "metadata": {
    "id": "u3vkM2wgWToY"
   },
   "outputs": [],
   "source": [
    "# для удобства выберете фиксированную длину последовательность 10 символов \n",
    "maxlen, step = 10, 1\n",
    "input_chars, label_chars = [], []\n",
    "\n",
    "# конвертация data в серии разных maxlen-length последовательностей\n",
    "for i in range(0, len(text) - maxlen, step):\n",
    "    input_chars.append(text[i: i + maxlen])\n",
    "    label_chars.append(text[i + maxlen])"
   ]
  },
  {
   "cell_type": "code",
   "execution_count": null,
   "metadata": {
    "colab": {
     "base_uri": "https://localhost:8080/"
    },
    "id": "5vP7ic6hQSFS",
    "outputId": "4fbde1b2-3de8-464a-8f2e-be64fffb7f9e"
   },
   "outputs": [
    {
     "data": {
      "text/plain": [
       "['project gu',\n",
       " 'roject gut',\n",
       " 'oject gute',\n",
       " 'ject guten',\n",
       " 'ect gutenb',\n",
       " 'ct gutenbe',\n",
       " 't gutenber',\n",
       " ' gutenberg',\n",
       " 'gutenbergs',\n",
       " 'utenbergs ']"
      ]
     },
     "execution_count": 103,
     "metadata": {
      "tags": []
     },
     "output_type": "execute_result"
    }
   ],
   "source": [
    "input_chars[:10]"
   ]
  },
  {
   "cell_type": "code",
   "execution_count": null,
   "metadata": {
    "colab": {
     "base_uri": "https://localhost:8080/"
    },
    "id": "ol1O9ws1QZF4",
    "outputId": "a7795020-7e03-4374-b59b-b0b1ed5f93cb"
   },
   "outputs": [
    {
     "data": {
      "text/plain": [
       "['t', 'e', 'n', 'b', 'e', 'r', 'g', 's', ' ', 'a']"
      ]
     },
     "execution_count": 252,
     "metadata": {
      "tags": []
     },
     "output_type": "execute_result"
    }
   ],
   "source": [
    "label_chars[:10]"
   ]
  },
  {
   "cell_type": "code",
   "execution_count": null,
   "metadata": {
    "id": "cyRBO2hgWVPJ"
   },
   "outputs": [],
   "source": [
    "# Вычисление one-hot encoding входных последовательностей X и следующего символа (the label) y\n",
    "\n",
    "X = np.zeros((len(input_chars), maxlen, n_chars))\n",
    "y = np.zeros((len(input_chars), n_chars))\n",
    "\n",
    "for i, input_char in enumerate(input_chars):\n",
    "    for j, ch in enumerate(input_char):\n",
    "        X[i, j, char2index[ch]] = 1\n",
    "    y[i, char2index[label_chars[i]]] = 1"
   ]
  },
  {
   "cell_type": "code",
   "execution_count": null,
   "metadata": {
    "colab": {
     "base_uri": "https://localhost:8080/",
     "height": 35
    },
    "id": "MCqBk52xQ_k2",
    "outputId": "e0b9fe1c-b29d-4437-ff44-ee8ff5aeff88"
   },
   "outputs": [
    {
     "data": {
      "application/vnd.google.colaboratory.intrinsic+json": {
       "type": "string"
      },
      "text/plain": [
       "'project gu'"
      ]
     },
     "execution_count": 105,
     "metadata": {
      "tags": []
     },
     "output_type": "execute_result"
    }
   ],
   "source": [
    "input_chars[0]"
   ]
  },
  {
   "cell_type": "code",
   "execution_count": null,
   "metadata": {
    "colab": {
     "base_uri": "https://localhost:8080/"
    },
    "id": "dB6_YOON0yhu",
    "outputId": "45f8bccd-959d-4aae-e90a-3ae2c5e46796"
   },
   "outputs": [
    {
     "data": {
      "text/plain": [
       "(11, 41)"
      ]
     },
     "execution_count": 106,
     "metadata": {
      "tags": []
     },
     "output_type": "execute_result"
    }
   ],
   "source": [
    "char2index['p'], char2index['r']"
   ]
  },
  {
   "cell_type": "code",
   "execution_count": null,
   "metadata": {
    "colab": {
     "base_uri": "https://localhost:8080/"
    },
    "id": "UrPgVcKPQ3QL",
    "outputId": "c93a30a1-26fc-4bf1-ec58-7f0bffa6505c"
   },
   "outputs": [
    {
     "data": {
      "text/plain": [
       "array([[0., 0., 0., 0., 0., 0., 0., 0., 0., 0., 0., 1., 0., 0., 0., 0.,\n",
       "        0., 0., 0., 0., 0., 0., 0., 0., 0., 0., 0., 0., 0., 0., 0., 0.,\n",
       "        0., 0., 0., 0., 0., 0., 0., 0., 0., 0., 0., 0., 0., 0., 0., 0.,\n",
       "        0., 0., 0., 0., 0., 0., 0.],\n",
       "       [0., 0., 0., 0., 0., 0., 0., 0., 0., 0., 0., 0., 0., 0., 0., 0.,\n",
       "        0., 0., 0., 0., 0., 0., 0., 0., 0., 0., 0., 0., 0., 0., 0., 0.,\n",
       "        0., 0., 0., 0., 0., 0., 0., 0., 0., 1., 0., 0., 0., 0., 0., 0.,\n",
       "        0., 0., 0., 0., 0., 0., 0.]])"
      ]
     },
     "execution_count": 107,
     "metadata": {
      "tags": []
     },
     "output_type": "execute_result"
    }
   ],
   "source": [
    "X[0, :2]"
   ]
  },
  {
   "cell_type": "code",
   "execution_count": null,
   "metadata": {
    "id": "v6pCdZ3YWWa4"
   },
   "outputs": [],
   "source": [
    "# установка ряда метапареметров  для нейронной сети и процесса тренировки\n",
    "batch_size = 128\n",
    "hidden_size = 128\n",
    "num_iterations = 25 # 25 должно быть достаточно\n",
    "num_epochs = 1\n",
    "num_preds = 100"
   ]
  },
  {
   "cell_type": "code",
   "execution_count": null,
   "metadata": {
    "colab": {
     "base_uri": "https://localhost:8080/"
    },
    "id": "oICnzLM-WYRX",
    "outputId": "4bb5951f-e86d-4875-e492-4170bb090173"
   },
   "outputs": [
    {
     "name": "stdout",
     "output_type": "stream",
     "text": [
      "Model: \"sequential_12\"\n",
      "_________________________________________________________________\n",
      "Layer (type)                 Output Shape              Param #   \n",
      "=================================================================\n",
      "gru_1 (GRU)                  (None, 128)               71040     \n",
      "_________________________________________________________________\n",
      "dense_9 (Dense)              (None, 55)                7095      \n",
      "=================================================================\n",
      "Total params: 78,135\n",
      "Trainable params: 78,135\n",
      "Non-trainable params: 0\n",
      "_________________________________________________________________\n"
     ]
    }
   ],
   "source": [
    "model = Sequential()\n",
    "model.add(\n",
    "    GRU(\n",
    "        hidden_size,\n",
    "        return_sequences=False,\n",
    "        input_shape=(maxlen, n_chars),\n",
    "        unroll=True\n",
    "    )\n",
    ")\n",
    "model.add(Dense(n_chars, activation='softmax'))\n",
    "model.compile(loss=\"categorical_crossentropy\",\n",
    "              optimizer=\"rmsprop\")\n",
    "\n",
    "model.summary()"
   ]
  },
  {
   "cell_type": "code",
   "execution_count": null,
   "metadata": {
    "colab": {
     "base_uri": "https://localhost:8080/"
    },
    "id": "5nP5eKebWN8i",
    "outputId": "70ebfafd-085a-4afc-d670-cdb04f65a2dc"
   },
   "outputs": [
    {
     "name": "stdout",
     "output_type": "stream",
     "text": [
      "\n",
      "==================================================\n",
      "Итерация #: 0\n",
      "1241/1241 [==============================] - 29s 21ms/step - loss: 2.5893\n",
      "Генерация из asleep aga\n",
      "asleep agat the dont the dont the dont the dont the dont the dont the dont the dont the dont the dont the dont\n",
      "==================================================\n",
      "Итерация #: 1\n",
      "1241/1241 [==============================] - 26s 21ms/step - loss: 1.9138\n",
      "Генерация из o his plat\n",
      "o his plat it was the dore the dore the dore the dore the dore the dore the dore the dore the dore the dore th\n",
      "==================================================\n",
      "Итерация #: 2\n",
      "1241/1241 [==============================] - 27s 21ms/step - loss: 1.7524\n",
      "Генерация из ittle gold\n",
      "ittle gold the dore the dore the dore the dore the dore the dore the dore the dore the dore the dore the dore \n",
      "==================================================\n",
      "Итерация #: 3\n",
      "1241/1241 [==============================] - 27s 21ms/step - loss: 1.6447\n",
      "Генерация из , i suppos\n",
      ", i suppose the door and the dore the door and the dore the door and the dore the door and the dore the door a\n",
      "==================================================\n",
      "Итерация #: 4\n",
      "1241/1241 [==============================] - 31s 25ms/step - loss: 1.5649\n",
      "Генерация из , he conse\n",
      ", he consed to the door and the thing the door and the thing the door and the thing the door and the thing the\n",
      "==================================================\n",
      "Итерация #: 5\n",
      "1241/1241 [==============================] - 27s 22ms/step - loss: 1.5020\n",
      "Генерация из  disclaim \n",
      " disclaim and the thing it was the door and the thing it was the door and the thing it was the door and the th\n",
      "==================================================\n",
      "Итерация #: 6\n",
      "1241/1241 [==============================] - 27s 22ms/step - loss: 1.4499\n",
      "Генерация из as she was\n",
      "as she was so the door of the thing it was so the door of the thing it was so the door of the thing it was so \n",
      "==================================================\n",
      "Итерация #: 7\n",
      "1241/1241 [==============================] - 27s 22ms/step - loss: 1.4057\n",
      "Генерация из s the duch\n",
      "s the duchess and the thing in the door of the took the mouse, the door of the took the mouse, the door of the\n",
      "==================================================\n",
      "Итерация #: 8\n",
      "1241/1241 [==============================] - 27s 22ms/step - loss: 1.3676\n",
      "Генерация из was very d\n",
      "was very didention a contured to the troess of the thing it was so she was so she was so she was so she was so\n",
      "==================================================\n",
      "Итерация #: 9\n",
      "1241/1241 [==============================] - 27s 22ms/step - loss: 1.3345\n",
      "Генерация из e gryphon,\n",
      "e gryphon, and the more to herself, and the more to herself, and the more to herself, and the more to herself,\n",
      "==================================================\n",
      "Итерация #: 10\n",
      "1241/1241 [==============================] - 27s 22ms/step - loss: 1.3055\n",
      "Генерация из gged table\n",
      "gged table to herself, and the more to herself, and the more to herself, and the more to herself, and the more\n",
      "==================================================\n",
      "Итерация #: 11\n",
      "1241/1241 [==============================] - 27s 22ms/step - loss: 1.2796\n",
      "Генерация из door, and \n",
      "door, and the more to herself, and the more to herself, and the more to herself, and the more to herself, and \n",
      "==================================================\n",
      "Итерация #: 12\n",
      "1241/1241 [==============================] - 27s 22ms/step - loss: 1.2564\n",
      "Генерация из  thing, al\n",
      " thing, alice thought the dormouse so this was so she reded and the things a tried of the mouse, the dormouse \n",
      "==================================================\n",
      "Итерация #: 13\n",
      "1241/1241 [==============================] - 27s 22ms/step - loss: 1.2353\n",
      "Генерация из again and \n",
      "again and was the dormouse she did not to the trees as it was said the dormouse she did not to the trees as it\n",
      "==================================================\n",
      "Итерация #: 14\n",
      "1241/1241 [==============================] - 27s 22ms/step - loss: 1.2161\n",
      "Генерация из fter her: \n",
      "fter her: the mock turtle way of a could see it was so ner this time as she did not a minute or two side, and \n",
      "==================================================\n",
      "Итерация #: 15\n",
      "1241/1241 [==============================] - 27s 22ms/step - loss: 1.1985\n",
      "Генерация из , they wer\n",
      ", they were getting so thinking it was so near the thimble, said the dormouse share was to herself, and the mo\n",
      "==================================================\n",
      "Итерация #: 16\n",
      "1241/1241 [==============================] - 27s 22ms/step - loss: 1.1820\n",
      "Генерация из s the same\n",
      "s the same took the mouse was so she redemeation and when she was said the dormouse sharply, and said to herse\n",
      "==================================================\n",
      "Итерация #: 17\n",
      "1241/1241 [==============================] - 27s 21ms/step - loss: 1.1666\n",
      "Генерация из y were lea\n",
      "y were learn it was said the dormouse sharply, and said the dormouse sharply, and said the dormouse sharply, a\n",
      "==================================================\n",
      "Итерация #: 18\n",
      "1241/1241 [==============================] - 27s 22ms/step - loss: 1.1521\n",
      "Генерация из loves and \n",
      "loves and the things a tried to her foundation at the mouse was so she did not and the things a tried to her f\n",
      "==================================================\n",
      "Итерация #: 19\n",
      "1241/1241 [==============================] - 27s 22ms/step - loss: 1.1384\n",
      "Генерация из ittle alic\n",
      "ittle alice to herself, and the mores was come one of the table, when the other side of the work in the treall\n",
      "==================================================\n",
      "Итерация #: 20\n",
      "1241/1241 [==============================] - 27s 22ms/step - loss: 1.1255\n",
      "Генерация из l she was \n",
      "l she was said the dormouse seen the trials to get into the dormouse seen the trials to get into the dormouse \n",
      "==================================================\n",
      "Итерация #: 21\n",
      "1241/1241 [==============================] - 27s 22ms/step - loss: 1.1134\n",
      "Генерация из ur: (a) di\n",
      "ur: (a) distributing the table, when it alice to herself, and the mores what the dormouse seen the trials to g\n",
      "==================================================\n",
      "Итерация #: 22\n",
      "1241/1241 [==============================] - 27s 22ms/step - loss: 1.1019\n",
      "Генерация из er as a pa\n",
      "er as a party was the did, said the dormouse seen the trials to get into the dormouse seen the trials to get i\n",
      "==================================================\n",
      "Итерация #: 23\n",
      "1241/1241 [==============================] - 27s 22ms/step - loss: 1.0910\n",
      "Генерация из to a tidy \n",
      "to a tidy little thing was to the trials to get into the dormouse seen the trials to get into the dormouse see\n",
      "==================================================\n",
      "Итерация #: 24\n",
      "1241/1241 [==============================] - 27s 22ms/step - loss: 1.0807\n",
      "Генерация из me, so she\n",
      "me, so she sat down and the dormouse seen the tapes to get into the dormouse seen the tapes to get into the do"
     ]
    }
   ],
   "source": [
    "# выполнение серий тренировочных и демонстрационных итераций \n",
    "for iteration in range(num_iterations):\n",
    "    # для каждой итерации запуск передачи данных в модель \n",
    "    print()\n",
    "    print(\"=\" * 50)\n",
    "    print(f'Итерация #: {iteration}')\n",
    "    model.fit(X, y,\n",
    "              batch_size=batch_size,\n",
    "              epochs=num_epochs)\n",
    "\n",
    "    # Select a random example input sequence\n",
    "    test_idx = np.random.randint(len(input_chars))\n",
    "    test_chars = input_chars[test_idx]\n",
    "\n",
    "    # для числа шагов предсказаний использование текущей тренируемой модели \n",
    "    # конструирование one-hot encoding для тестирования input и добавление предсказания.\n",
    "    print(f'Генерация из {test_chars}')\n",
    "    print(test_chars, end=\"\")\n",
    "    for i in range(num_preds):\n",
    "\n",
    "        # здесь one-hot encoding.\n",
    "        X_test = np.zeros((1, maxlen, n_chars))\n",
    "        for j, ch in enumerate(test_chars):\n",
    "            X_test[0, j, char2index[ch]] = 1\n",
    "\n",
    "        # осуществление предсказания с помощью текущей модели.\n",
    "        pred = model.predict(X_test, verbose=0)[0]\n",
    "        y_pred = index2char[np.argmax(pred)]\n",
    "\n",
    "        # вывод предсказания добавленного к тестовому примеру \n",
    "        print(y_pred, end=\"\")\n",
    "\n",
    "        # инкрементация тестового примера содержащего предсказание\n",
    "        test_chars = test_chars[1:] + y_pred"
   ]
  },
  {
   "cell_type": "markdown",
   "metadata": {
    "id": "esVNG5p16gTa"
   },
   "source": [
    "Ссылки на курсовые проекты:\n",
    "https://www.notion.so/21f239a4d05e4cbf84a71c869668ecd3"
   ]
  },
  {
   "cell_type": "markdown",
   "metadata": {
    "id": "zjQWWYJpTEPy"
   },
   "source": [
    "## Домашнее задание\n",
    "1. Попробуйте обучить нейронную сеть RNN/LSTM/GRU на любом другом датасете (любимый временной ряд, текст на русском (другом языке) как генератор или классификатор, или прилагаемый набор airline-passengers - пасажиропоток для авиалиний). \n",
    "\n",
    "2. Опишите, какой результат вы получили? Что помогло вам улучшить ее точность?"
   ]
  },
  {
   "cell_type": "code",
   "execution_count": null,
   "metadata": {
    "colab": {
     "base_uri": "https://localhost:8080/"
    },
    "id": "QrDLoqaYTSRi",
    "outputId": "1d4d5285-431b-487b-8262-7d69958147b2"
   },
   "outputs": [
    {
     "name": "stdout",
     "output_type": "stream",
     "text": [
      "--2021-05-02 07:24:05--  https://drive.google.com/uc?export=download&id=1xwXieDVy1RKdfiJ6am_nNWp6XhAYdhNb\n",
      "Resolving drive.google.com (drive.google.com)... 172.217.13.78, 2607:f8b0:4004:808::200e\n",
      "Connecting to drive.google.com (drive.google.com)|172.217.13.78|:443... connected.\n",
      "HTTP request sent, awaiting response... 302 Moved Temporarily\n",
      "Location: https://doc-08-c0-docs.googleusercontent.com/docs/securesc/ha0ro937gcuc7l7deffksulhg5h7mbp1/ko94rnguuen8pas9i8cb9a2umglmmhqs/1619940225000/14904333240138417226/*/1xwXieDVy1RKdfiJ6am_nNWp6XhAYdhNb?e=download [following]\n",
      "Warning: wildcards not supported in HTTP.\n",
      "--2021-05-02 07:24:05--  https://doc-08-c0-docs.googleusercontent.com/docs/securesc/ha0ro937gcuc7l7deffksulhg5h7mbp1/ko94rnguuen8pas9i8cb9a2umglmmhqs/1619940225000/14904333240138417226/*/1xwXieDVy1RKdfiJ6am_nNWp6XhAYdhNb?e=download\n",
      "Resolving doc-08-c0-docs.googleusercontent.com (doc-08-c0-docs.googleusercontent.com)... 172.217.15.65, 2607:f8b0:4004:810::2001\n",
      "Connecting to doc-08-c0-docs.googleusercontent.com (doc-08-c0-docs.googleusercontent.com)|172.217.15.65|:443... connected.\n",
      "HTTP request sent, awaiting response... 200 OK\n",
      "Length: 2037 (2.0K) [text/csv]\n",
      "Saving to: ‘airline-passengers.csv’\n",
      "\n",
      "airline-passengers. 100%[===================>]   1.99K  --.-KB/s    in 0s      \n",
      "\n",
      "2021-05-02 07:24:05 (100 MB/s) - ‘airline-passengers.csv’ saved [2037/2037]\n",
      "\n"
     ]
    }
   ],
   "source": [
    "!wget 'https://drive.google.com/uc?export=download&id=1xwXieDVy1RKdfiJ6am_nNWp6XhAYdhNb' -O airline-passengers.csv"
   ]
  },
  {
   "cell_type": "code",
   "execution_count": null,
   "metadata": {
    "colab": {
     "base_uri": "https://localhost:8080/",
     "height": 407
    },
    "id": "7Ao45XmO90II",
    "outputId": "a1234a1d-d279-48d4-fce1-fa904f427668"
   },
   "outputs": [
    {
     "data": {
      "text/html": [
       "<div>\n",
       "<style scoped>\n",
       "    .dataframe tbody tr th:only-of-type {\n",
       "        vertical-align: middle;\n",
       "    }\n",
       "\n",
       "    .dataframe tbody tr th {\n",
       "        vertical-align: top;\n",
       "    }\n",
       "\n",
       "    .dataframe thead th {\n",
       "        text-align: right;\n",
       "    }\n",
       "</style>\n",
       "<table border=\"1\" class=\"dataframe\">\n",
       "  <thead>\n",
       "    <tr style=\"text-align: right;\">\n",
       "      <th></th>\n",
       "      <th>Month</th>\n",
       "      <th>Passengers</th>\n",
       "    </tr>\n",
       "  </thead>\n",
       "  <tbody>\n",
       "    <tr>\n",
       "      <th>0</th>\n",
       "      <td>1949-01</td>\n",
       "      <td>112</td>\n",
       "    </tr>\n",
       "    <tr>\n",
       "      <th>1</th>\n",
       "      <td>1949-02</td>\n",
       "      <td>118</td>\n",
       "    </tr>\n",
       "    <tr>\n",
       "      <th>2</th>\n",
       "      <td>1949-03</td>\n",
       "      <td>132</td>\n",
       "    </tr>\n",
       "    <tr>\n",
       "      <th>3</th>\n",
       "      <td>1949-04</td>\n",
       "      <td>129</td>\n",
       "    </tr>\n",
       "    <tr>\n",
       "      <th>4</th>\n",
       "      <td>1949-05</td>\n",
       "      <td>121</td>\n",
       "    </tr>\n",
       "    <tr>\n",
       "      <th>...</th>\n",
       "      <td>...</td>\n",
       "      <td>...</td>\n",
       "    </tr>\n",
       "    <tr>\n",
       "      <th>139</th>\n",
       "      <td>1960-08</td>\n",
       "      <td>606</td>\n",
       "    </tr>\n",
       "    <tr>\n",
       "      <th>140</th>\n",
       "      <td>1960-09</td>\n",
       "      <td>508</td>\n",
       "    </tr>\n",
       "    <tr>\n",
       "      <th>141</th>\n",
       "      <td>1960-10</td>\n",
       "      <td>461</td>\n",
       "    </tr>\n",
       "    <tr>\n",
       "      <th>142</th>\n",
       "      <td>1960-11</td>\n",
       "      <td>390</td>\n",
       "    </tr>\n",
       "    <tr>\n",
       "      <th>143</th>\n",
       "      <td>1960-12</td>\n",
       "      <td>432</td>\n",
       "    </tr>\n",
       "  </tbody>\n",
       "</table>\n",
       "<p>144 rows × 2 columns</p>\n",
       "</div>"
      ],
      "text/plain": [
       "       Month  Passengers\n",
       "0    1949-01         112\n",
       "1    1949-02         118\n",
       "2    1949-03         132\n",
       "3    1949-04         129\n",
       "4    1949-05         121\n",
       "..       ...         ...\n",
       "139  1960-08         606\n",
       "140  1960-09         508\n",
       "141  1960-10         461\n",
       "142  1960-11         390\n",
       "143  1960-12         432\n",
       "\n",
       "[144 rows x 2 columns]"
      ]
     },
     "execution_count": 261,
     "metadata": {
      "tags": []
     },
     "output_type": "execute_result"
    }
   ],
   "source": [
    "pd.read_csv('/content/airline-passengers.csv')"
   ]
  },
  {
   "cell_type": "markdown",
   "metadata": {
    "id": "0G9qw7eUTEP0"
   },
   "source": [
    "## Дополнительные материалы\n",
    "\n",
    "1. [Оригинальная научная статья по LSTM](https://www.bioinf.jku.at/publications/older/2604.pdf)\n",
    "2. [Оригинальная научная статья по GRU](https://arxiv.org/abs/1406.1078)\n",
    "3. [Введение в RNN Рекуррентные Нейронные Сети для начинающих](https://python-scripts.com/recurrent-neural-network)\n",
    "4. [Введение в RNN](https://youtu.be/EBP3pqPeN8I)\n",
    "5. [Simple LSTM](https://nicodjimenez.github.io/2014/08/08/lstm.html)\n",
    "6. [Understanding LSTM Networks](http://colah.github.io/posts/2015-08-Understanding-LSTMs/)\n",
    "7. [Illustrated Guide to LSTM's and GRU's: A step by step explanation](https://youtu.be/8HyCNIVRbSU)\n",
    "8. [Simple Recurrent Units for Highly Parallelizable Recurrence](https://arxiv.org/abs/1709.02755)"
   ]
  },
  {
   "cell_type": "markdown",
   "metadata": {
    "id": "EPk_b3MqTEP2"
   },
   "source": [
    "## Используемая литература \n",
    "\n",
    "Для подготовки данного методического пособия были использованы следующие ресурсы:\n",
    "<ol>\n",
    "    <li>https://www.kaggle.com/thebrownviking20/intro-to-recurrent-neural-networks-lstm-gru</li>\n",
    "    <li>Шакла Н. — Машинное обучение и TensorFlow 2019</li>\n",
    "    <li>Николенко, Кадурин, Архангельская: Глубокое обучение. Погружение в мир нейронных сетей 2018</li>\n",
    "    <li>Aurélien Géron - Hands-On Machine Learning with Scikit-Learn, Keras, and TensorFlow: Concepts, Tools, and Techniques to Build Intelligent Systems 2019</li>\n",
    "    <li>https://towardsdatascience.com/illustrated-guide-to-lstms-and-gru-s-a-step-by-step-explanation-44e9eb85bf21</li>\n",
    "    <li>https://github.com/llSourcell/recurrent_neural_net_demo</li>\n",
    "    \n",
    "</ol>"
   ]
  },
  {
   "cell_type": "markdown",
   "metadata": {
    "id": "dhprYcolWfMp"
   },
   "source": [
    "## Определения\n",
    "\n",
    "**Рекуррентные нейронные сети (Recurrent neural network, RNN)** — вид нейронных сетей, где связи между элементами образуют направленную последовательность. Благодаря этому появляется возможность обрабатывать серии событий во времени или последовательные пространственные цепочки.\n",
    "\n",
    "**Долгая краткосрочная память (Long short-term memory, LSTM)** — разновидность архитектуры рекуррентных нейронных сетей, предложенная в 1997 году Зеппом Хохрайтером и Юргеном Шмидхубером. В отличие от традиционных рекуррентных нейронных сетей, LSTM-сеть хорошо приспособлена к обучению на задачах классификации, обработки и прогнозирования временных рядов в случаях, когда важные события разделены временными лагами с неопределённой продолжительностью и границами.\n",
    "\n",
    "**Управляемые рекуррентные блоки (Gated Recurrent Units, GRU)** — механизм gate'ов для рекуррентных нейронных сетей, представленный в 2014 году. Было установлено, что его эффективность при решении задач моделирования музыкальных и речевых сигналов сопоставима с использованием долгой краткосрочной памяти (LSTM). По сравнению с LSTM у данного механизма меньше параметров, т.к. отсутствует выходной gate.\n",
    "\n",
    "**RNN, LSTM, GRU**\n",
    "<img src='https://www.mdpi.com/energies/energies-13-00147/article_deploy/html/images/energies-13-00147-g008.png'>\n",
    "\n",
    "\n",
    "**Механизм внимания (Attention)** — техника используемая в рекуррентных нейронных сетях (сокр. RNN) и сверточных нейронных сетях (сокр. CNN) для поиска взаимосвязей между различными частями входных и выходных данных.\n",
    "\n",
    "<img src='https://drive.google.com/uc?export=view&id=1a72Ake6Ai2SdkZ9cQpqmq6-ebjblcQ34' width=450>\n",
    "\n",
    "**Bidirectional LSTM**\n",
    "\n",
    "Двунаправленные рекуррентные нейронные сети (BRNN) соединяют два скрытых слоя противоположных направлений с одним и тем же выходом. При такой форме генеративного глубокого обучения выходной слой может получать информацию из прошлого (назад) и будущего (вперед) состояний одновременно.\n",
    "\n",
    "\n",
    "<img src='https://drive.google.com/uc?export=view&id=1kCGsUWhUjIoIAquvE7FjaAbYjAQdsyW7' width=550>"
   ]
  }
 ],
 "metadata": {
  "accelerator": "GPU",
  "colab": {
   "collapsed_sections": [],
   "name": "Web5.ipynb",
   "provenance": [],
   "toc_visible": true
  },
  "kernelspec": {
   "display_name": "Python 3",
   "language": "python",
   "name": "python3"
  },
  "language_info": {
   "codemirror_mode": {
    "name": "ipython",
    "version": 3
   },
   "file_extension": ".py",
   "mimetype": "text/x-python",
   "name": "python",
   "nbconvert_exporter": "python",
   "pygments_lexer": "ipython3",
   "version": "3.8.5"
  },
  "toc": {
   "base_numbering": 1,
   "nav_menu": {},
   "number_sections": false,
   "sideBar": true,
   "skip_h1_title": false,
   "title_cell": "Table of Contents",
   "title_sidebar": "Contents",
   "toc_cell": false,
   "toc_position": {},
   "toc_section_display": true,
   "toc_window_display": false
  },
  "varInspector": {
   "cols": {
    "lenName": 16,
    "lenType": 16,
    "lenVar": 40
   },
   "kernels_config": {
    "python": {
     "delete_cmd_postfix": "",
     "delete_cmd_prefix": "del ",
     "library": "var_list.py",
     "varRefreshCmd": "print(var_dic_list())"
    },
    "r": {
     "delete_cmd_postfix": ") ",
     "delete_cmd_prefix": "rm(",
     "library": "var_list.r",
     "varRefreshCmd": "cat(var_dic_list()) "
    }
   },
   "types_to_exclude": [
    "module",
    "function",
    "builtin_function_or_method",
    "instance",
    "_Feature"
   ],
   "window_display": false
  }
 },
 "nbformat": 4,
 "nbformat_minor": 1
}
