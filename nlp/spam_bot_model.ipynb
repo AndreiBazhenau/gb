{
 "cells": [
  {
   "cell_type": "markdown",
   "id": "b0ae2287",
   "metadata": {},
   "source": [
    "Телеграм бот для классификации спамных сообщений\n",
    "---\n",
    "\n",
    "На основе ноутубука nlp лекции № 6."
   ]
  },
  {
   "cell_type": "code",
   "execution_count": 112,
   "id": "dcd39062",
   "metadata": {
    "ExecuteTime": {
     "end_time": "2021-08-25T21:14:24.456518Z",
     "start_time": "2021-08-25T21:14:24.450552Z"
    }
   },
   "outputs": [],
   "source": [
    "from sklearn import model_selection, preprocessing, linear_model, naive_bayes, metrics, svm\n",
    "from sklearn.svm import LinearSVC\n",
    "from sklearn.feature_extraction.text import TfidfVectorizer, CountVectorizer\n",
    "from sklearn import decomposition, ensemble\n",
    "from sklearn.model_selection import train_test_split\n",
    "from sklearn.feature_extraction.text import HashingVectorizer\n",
    "from sklearn.metrics import roc_auc_score\n",
    "from sklearn.metrics import plot_confusion_matrix\n",
    "import nltk\n",
    "from nltk.corpus import stopwords\n",
    "from nltk.stem.wordnet import WordNetLemmatizer\n",
    "import re\n",
    "import pandas as pd\n",
    "import numpy as np\n",
    "import string\n",
    "#!pip install wordcloud\n",
    "#from wordcloud import WordCloud\n",
    "import matplotlib.pyplot as plt\n",
    "import os\n",
    "from tqdm import tqdm\n",
    "from pymorphy2 import MorphAnalyzer\n",
    "from stop_words import get_stop_words\n",
    "from string import punctuation"
   ]
  },
  {
   "cell_type": "code",
   "execution_count": 95,
   "id": "97d697f6",
   "metadata": {
    "ExecuteTime": {
     "end_time": "2021-08-25T21:04:45.230035Z",
     "start_time": "2021-08-25T21:04:45.218961Z"
    }
   },
   "outputs": [],
   "source": [
    "# show all cell content\n",
    "pd.set_option('display.max_colwidth', None)"
   ]
  },
  {
   "cell_type": "code",
   "execution_count": 15,
   "id": "80ed7873",
   "metadata": {
    "ExecuteTime": {
     "end_time": "2021-08-25T20:16:04.722584Z",
     "start_time": "2021-08-25T20:16:04.179815Z"
    }
   },
   "outputs": [
    {
     "name": "stderr",
     "output_type": "stream",
     "text": [
      "[nltk_data] Downloading package stopwords to\n",
      "[nltk_data]     C:\\Users\\Alex\\AppData\\Roaming\\nltk_data...\n",
      "[nltk_data]   Unzipping corpora\\stopwords.zip.\n"
     ]
    },
    {
     "data": {
      "text/plain": [
       "True"
      ]
     },
     "execution_count": 15,
     "metadata": {},
     "output_type": "execute_result"
    }
   ],
   "source": [
    "#nltk.download('stopwords')"
   ]
  },
  {
   "cell_type": "code",
   "execution_count": 17,
   "id": "00ab6921",
   "metadata": {
    "ExecuteTime": {
     "end_time": "2021-08-25T20:16:36.986102Z",
     "start_time": "2021-08-25T20:16:35.866304Z"
    }
   },
   "outputs": [
    {
     "name": "stderr",
     "output_type": "stream",
     "text": [
      "[nltk_data] Downloading package wordnet to\n",
      "[nltk_data]     C:\\Users\\Alex\\AppData\\Roaming\\nltk_data...\n",
      "[nltk_data]   Unzipping corpora\\wordnet.zip.\n"
     ]
    },
    {
     "data": {
      "text/plain": [
       "True"
      ]
     },
     "execution_count": 17,
     "metadata": {},
     "output_type": "execute_result"
    }
   ],
   "source": [
    "#nltk.download('wordnet')"
   ]
  },
  {
   "cell_type": "code",
   "execution_count": 7,
   "id": "ee2174c5",
   "metadata": {
    "ExecuteTime": {
     "end_time": "2021-08-25T20:12:48.082200Z",
     "start_time": "2021-08-25T20:12:48.072227Z"
    }
   },
   "outputs": [],
   "source": [
    "# путь к данным\n",
    "path = '../../data/spam_detection/'"
   ]
  },
  {
   "cell_type": "code",
   "execution_count": 76,
   "id": "703c5d91",
   "metadata": {
    "ExecuteTime": {
     "end_time": "2021-08-25T20:54:28.246052Z",
     "start_time": "2021-08-25T20:54:28.208654Z"
    }
   },
   "outputs": [
    {
     "name": "stdout",
     "output_type": "stream",
     "text": [
      "(18393, 2)\n"
     ]
    },
    {
     "data": {
      "text/html": [
       "<div>\n",
       "<style scoped>\n",
       "    .dataframe tbody tr th:only-of-type {\n",
       "        vertical-align: middle;\n",
       "    }\n",
       "\n",
       "    .dataframe tbody tr th {\n",
       "        vertical-align: top;\n",
       "    }\n",
       "\n",
       "    .dataframe thead th {\n",
       "        text-align: right;\n",
       "    }\n",
       "</style>\n",
       "<table border=\"1\" class=\"dataframe\">\n",
       "  <thead>\n",
       "    <tr style=\"text-align: right;\">\n",
       "      <th></th>\n",
       "      <th>msg</th>\n",
       "      <th>spam</th>\n",
       "    </tr>\n",
       "  </thead>\n",
       "  <tbody>\n",
       "    <tr>\n",
       "      <th>0</th>\n",
       "      <td>Че за возня опять? Возле верного</td>\n",
       "      <td>0</td>\n",
       "    </tr>\n",
       "    <tr>\n",
       "      <th>1</th>\n",
       "      <td>Что то похожее на стрельбу было и сейчас три м...</td>\n",
       "      <td>0</td>\n",
       "    </tr>\n",
       "    <tr>\n",
       "      <th>2</th>\n",
       "      <td>А кто-то в курсе что за стрельба?</td>\n",
       "      <td>0</td>\n",
       "    </tr>\n",
       "    <tr>\n",
       "      <th>3</th>\n",
       "      <td>Предупредительный был, видимо , от ментов</td>\n",
       "      <td>0</td>\n",
       "    </tr>\n",
       "    <tr>\n",
       "      <th>4</th>\n",
       "      <td>Всё закончилось. Разборки были с поножовщиной</td>\n",
       "      <td>0</td>\n",
       "    </tr>\n",
       "    <tr>\n",
       "      <th>...</th>\n",
       "      <td>...</td>\n",
       "      <td>...</td>\n",
       "    </tr>\n",
       "    <tr>\n",
       "      <th>18388</th>\n",
       "      <td>Всем привет, никто не желает учить китайский я...</td>\n",
       "      <td>1</td>\n",
       "    </tr>\n",
       "    <tr>\n",
       "      <th>18389</th>\n",
       "      <td>Уважаемые родители ❗️❗️❗️\\nХочу предложить Вам...</td>\n",
       "      <td>1</td>\n",
       "    </tr>\n",
       "    <tr>\n",
       "      <th>18390</th>\n",
       "      <td>Добрый вечер,могу вам помочь с селективной пар...</td>\n",
       "      <td>1</td>\n",
       "    </tr>\n",
       "    <tr>\n",
       "      <th>18391</th>\n",
       "      <td>Здравствуйте, есть один билет на концерт Серге...</td>\n",
       "      <td>1</td>\n",
       "    </tr>\n",
       "    <tr>\n",
       "      <th>18392</th>\n",
       "      <td>⚡️Производим яркие и стильные перегородки в ст...</td>\n",
       "      <td>1</td>\n",
       "    </tr>\n",
       "  </tbody>\n",
       "</table>\n",
       "<p>18393 rows × 2 columns</p>\n",
       "</div>"
      ],
      "text/plain": [
       "                                                     msg  spam\n",
       "0                       Че за возня опять? Возле верного     0\n",
       "1      Что то похожее на стрельбу было и сейчас три м...     0\n",
       "2                      А кто-то в курсе что за стрельба?     0\n",
       "3              Предупредительный был, видимо , от ментов     0\n",
       "4          Всё закончилось. Разборки были с поножовщиной     0\n",
       "...                                                  ...   ...\n",
       "18388  Всем привет, никто не желает учить китайский я...     1\n",
       "18389  Уважаемые родители ❗️❗️❗️\\nХочу предложить Вам...     1\n",
       "18390  Добрый вечер,могу вам помочь с селективной пар...     1\n",
       "18391  Здравствуйте, есть один билет на концерт Серге...     1\n",
       "18392  ⚡️Производим яркие и стильные перегородки в ст...     1\n",
       "\n",
       "[18393 rows x 2 columns]"
      ]
     },
     "execution_count": 76,
     "metadata": {},
     "output_type": "execute_result"
    }
   ],
   "source": [
    "# загружаем\n",
    "df = pd.read_pickle(os.path.join(path, 'df.pkl'))\n",
    "print(df.shape)\n",
    "df"
   ]
  },
  {
   "cell_type": "markdown",
   "id": "9db5df0e",
   "metadata": {
    "ExecuteTime": {
     "end_time": "2021-08-25T20:13:19.598250Z",
     "start_time": "2021-08-25T20:13:19.585276Z"
    }
   },
   "source": [
    "## Предобработка текста"
   ]
  },
  {
   "cell_type": "code",
   "execution_count": 23,
   "id": "0be87c23",
   "metadata": {
    "ExecuteTime": {
     "end_time": "2021-08-25T20:21:11.145752Z",
     "start_time": "2021-08-25T20:20:27.071759Z"
    }
   },
   "outputs": [],
   "source": [
    "exclude = set(punctuation)\n",
    "sw = set(get_stop_words(\"ru\"))\n",
    "morpher = MorphAnalyzer()\n",
    "\n",
    "def preprocess_text(txt):\n",
    "    txt = str(txt)\n",
    "    txt = \"\".join(c for c in txt if c not in exclude)\n",
    "    txt = txt.lower()\n",
    "    txt = re.sub(\"\\sне\", \"не\", txt)\n",
    "    txt = [morpher.parse(word)[0].normal_form for word in txt.split() if word not in exclude]\n",
    "    return \" \".join(txt)\n",
    "\n",
    "df['msg'] = df['msg'].apply(preprocess_text)"
   ]
  },
  {
   "cell_type": "code",
   "execution_count": 24,
   "id": "330724df",
   "metadata": {
    "ExecuteTime": {
     "end_time": "2021-08-25T20:21:33.247536Z",
     "start_time": "2021-08-25T20:21:33.234067Z"
    }
   },
   "outputs": [
    {
     "data": {
      "text/html": [
       "<div>\n",
       "<style scoped>\n",
       "    .dataframe tbody tr th:only-of-type {\n",
       "        vertical-align: middle;\n",
       "    }\n",
       "\n",
       "    .dataframe tbody tr th {\n",
       "        vertical-align: top;\n",
       "    }\n",
       "\n",
       "    .dataframe thead th {\n",
       "        text-align: right;\n",
       "    }\n",
       "</style>\n",
       "<table border=\"1\" class=\"dataframe\">\n",
       "  <thead>\n",
       "    <tr style=\"text-align: right;\">\n",
       "      <th></th>\n",
       "      <th>msg</th>\n",
       "      <th>spam</th>\n",
       "    </tr>\n",
       "  </thead>\n",
       "  <tbody>\n",
       "    <tr>\n",
       "      <th>0</th>\n",
       "      <td>че за возня опять возле верный</td>\n",
       "      <td>0</td>\n",
       "    </tr>\n",
       "    <tr>\n",
       "      <th>1</th>\n",
       "      <td>что то похожий на стрельба быть и сейчас три м...</td>\n",
       "      <td>0</td>\n",
       "    </tr>\n",
       "    <tr>\n",
       "      <th>2</th>\n",
       "      <td>а ктоть в курс что за стрельба</td>\n",
       "      <td>0</td>\n",
       "    </tr>\n",
       "    <tr>\n",
       "      <th>3</th>\n",
       "      <td>предупредительный быть видимо от мент</td>\n",
       "      <td>0</td>\n",
       "    </tr>\n",
       "    <tr>\n",
       "      <th>4</th>\n",
       "      <td>всё закончиться разборка быть с поножовщина</td>\n",
       "      <td>0</td>\n",
       "    </tr>\n",
       "    <tr>\n",
       "      <th>...</th>\n",
       "      <td>...</td>\n",
       "      <td>...</td>\n",
       "    </tr>\n",
       "    <tr>\n",
       "      <th>18388</th>\n",
       "      <td>весь привет никтоня желать учить китайский язы...</td>\n",
       "      <td>1</td>\n",
       "    </tr>\n",
       "    <tr>\n",
       "      <th>18389</th>\n",
       "      <td>уважаемый родитель ❗️❗️❗️ хотеть предложить вы...</td>\n",
       "      <td>1</td>\n",
       "    </tr>\n",
       "    <tr>\n",
       "      <th>18390</th>\n",
       "      <td>добрый вечермочь вы помочь с селективный парфю...</td>\n",
       "      <td>1</td>\n",
       "    </tr>\n",
       "    <tr>\n",
       "      <th>18391</th>\n",
       "      <td>здравствуйте есть один билет на концерт сергей...</td>\n",
       "      <td>1</td>\n",
       "    </tr>\n",
       "    <tr>\n",
       "      <th>18392</th>\n",
       "      <td>⚡️производить яркий и стильный перегородка в с...</td>\n",
       "      <td>1</td>\n",
       "    </tr>\n",
       "  </tbody>\n",
       "</table>\n",
       "<p>18393 rows × 2 columns</p>\n",
       "</div>"
      ],
      "text/plain": [
       "                                                     msg  spam\n",
       "0                         че за возня опять возле верный     0\n",
       "1      что то похожий на стрельба быть и сейчас три м...     0\n",
       "2                         а ктоть в курс что за стрельба     0\n",
       "3                  предупредительный быть видимо от мент     0\n",
       "4            всё закончиться разборка быть с поножовщина     0\n",
       "...                                                  ...   ...\n",
       "18388  весь привет никтоня желать учить китайский язы...     1\n",
       "18389  уважаемый родитель ❗️❗️❗️ хотеть предложить вы...     1\n",
       "18390  добрый вечермочь вы помочь с селективный парфю...     1\n",
       "18391  здравствуйте есть один билет на концерт сергей...     1\n",
       "18392  ⚡️производить яркий и стильный перегородка в с...     1\n",
       "\n",
       "[18393 rows x 2 columns]"
      ]
     },
     "execution_count": 24,
     "metadata": {},
     "output_type": "execute_result"
    }
   ],
   "source": [
    "df"
   ]
  },
  {
   "cell_type": "code",
   "execution_count": 26,
   "id": "b8c05fb0",
   "metadata": {
    "ExecuteTime": {
     "end_time": "2021-08-25T20:22:49.931387Z",
     "start_time": "2021-08-25T20:22:49.922855Z"
    }
   },
   "outputs": [
    {
     "data": {
      "text/plain": [
       "0    18047\n",
       "1      346\n",
       "Name: spam, dtype: int64"
      ]
     },
     "execution_count": 26,
     "metadata": {},
     "output_type": "execute_result"
    }
   ],
   "source": [
    "df['spam'].value_counts()"
   ]
  },
  {
   "cell_type": "code",
   "execution_count": 27,
   "id": "1c001dce",
   "metadata": {
    "ExecuteTime": {
     "end_time": "2021-08-25T20:23:26.156432Z",
     "start_time": "2021-08-25T20:23:26.137483Z"
    }
   },
   "outputs": [
    {
     "data": {
      "text/plain": [
       "0.018811504376665036"
      ]
     },
     "execution_count": 27,
     "metadata": {},
     "output_type": "execute_result"
    }
   ],
   "source": [
    "# дисбаланс классов\n",
    "df.spam.value_counts()[1] / df.shape[0]"
   ]
  },
  {
   "cell_type": "code",
   "execution_count": 30,
   "id": "6e02133a",
   "metadata": {
    "ExecuteTime": {
     "end_time": "2021-08-25T20:25:05.390221Z",
     "start_time": "2021-08-25T20:25:05.369725Z"
    }
   },
   "outputs": [],
   "source": [
    "X_train, X_test, y_train, y_test = train_test_split(df['msg'], df['spam'],\n",
    "                                                    test_size=0.2,\n",
    "                                                    random_state=13,\n",
    "                                                    stratify=df['spam']\n",
    "                                                   )"
   ]
  },
  {
   "cell_type": "markdown",
   "id": "d9dccb16",
   "metadata": {},
   "source": [
    "Подберём наилучшее количество фичей в выходной матрице."
   ]
  },
  {
   "cell_type": "code",
   "execution_count": 66,
   "id": "27b12b80",
   "metadata": {
    "ExecuteTime": {
     "end_time": "2021-08-25T20:48:34.793600Z",
     "start_time": "2021-08-25T20:47:21.325584Z"
    }
   },
   "outputs": [
    {
     "name": "stderr",
     "output_type": "stream",
     "text": [
      "100%|████████████████████████████████████████████████████████████████████████████████| 248/248 [01:13<00:00,  3.38it/s]\n"
     ]
    }
   ],
   "source": [
    "df_score = pd.DataFrame(columns=['n_features', 'ROC_AUC'])\n",
    "i = 0\n",
    "\n",
    "for n in tqdm(np.arange(50, 5000, 20)):\n",
    "    count_vect = HashingVectorizer(n_features=n).fit(X_train.values)\n",
    "\n",
    "    xtrain = count_vect.transform(X_train)\n",
    "    xtest = count_vect.transform(X_test)\n",
    "\n",
    "    lr = linear_model.LogisticRegression(class_weight=\"balanced\").fit(xtrain, y_train)\n",
    "    score = roc_auc_score(y_test, lr.predict_proba(xtest)[:, 1])\n",
    "    df_score.loc[i] = [n, score]\n",
    "    i += 1"
   ]
  },
  {
   "cell_type": "code",
   "execution_count": 67,
   "id": "ffcd23af",
   "metadata": {
    "ExecuteTime": {
     "end_time": "2021-08-25T20:48:34.980806Z",
     "start_time": "2021-08-25T20:48:34.857429Z"
    }
   },
   "outputs": [
    {
     "data": {
      "image/png": "[encoded data removed]",
      "text/plain": [
       "<Figure size 432x288 with 1 Axes>"
      ]
     },
     "metadata": {
      "needs_background": "light"
     },
     "output_type": "display_data"
    }
   ],
   "source": [
    "plt.plot(df_score['n_features'], df_score['ROC_AUC'])\n",
    "z = np.polyfit(df_score['n_features'], df_score['ROC_AUC'], 4)\n",
    "p = np.poly1d(z)\n",
    "plt.plot(df_score['n_features'], p(df_score['n_features']),\"r--\")\n",
    "\n",
    "plt.show()"
   ]
  },
  {
   "cell_type": "code",
   "execution_count": 71,
   "id": "044c7bd5",
   "metadata": {
    "ExecuteTime": {
     "end_time": "2021-08-25T20:50:41.514799Z",
     "start_time": "2021-08-25T20:50:41.503703Z"
    }
   },
   "outputs": [
    {
     "data": {
      "text/html": [
       "<div>\n",
       "<style scoped>\n",
       "    .dataframe tbody tr th:only-of-type {\n",
       "        vertical-align: middle;\n",
       "    }\n",
       "\n",
       "    .dataframe tbody tr th {\n",
       "        vertical-align: top;\n",
       "    }\n",
       "\n",
       "    .dataframe thead th {\n",
       "        text-align: right;\n",
       "    }\n",
       "</style>\n",
       "<table border=\"1\" class=\"dataframe\">\n",
       "  <thead>\n",
       "    <tr style=\"text-align: right;\">\n",
       "      <th></th>\n",
       "      <th>n_features</th>\n",
       "      <th>ROC_AUC</th>\n",
       "    </tr>\n",
       "  </thead>\n",
       "  <tbody>\n",
       "    <tr>\n",
       "      <th>236</th>\n",
       "      <td>4770.0</td>\n",
       "      <td>0.846570</td>\n",
       "    </tr>\n",
       "    <tr>\n",
       "      <th>237</th>\n",
       "      <td>4790.0</td>\n",
       "      <td>0.825453</td>\n",
       "    </tr>\n",
       "    <tr>\n",
       "      <th>238</th>\n",
       "      <td>4810.0</td>\n",
       "      <td>0.850689</td>\n",
       "    </tr>\n",
       "    <tr>\n",
       "      <th>239</th>\n",
       "      <td>4830.0</td>\n",
       "      <td>0.835525</td>\n",
       "    </tr>\n",
       "    <tr>\n",
       "      <th>240</th>\n",
       "      <td>4850.0</td>\n",
       "      <td>0.863098</td>\n",
       "    </tr>\n",
       "    <tr>\n",
       "      <th>241</th>\n",
       "      <td>4870.0</td>\n",
       "      <td>0.815802</td>\n",
       "    </tr>\n",
       "    <tr>\n",
       "      <th>242</th>\n",
       "      <td>4890.0</td>\n",
       "      <td>0.855783</td>\n",
       "    </tr>\n",
       "    <tr>\n",
       "      <th>243</th>\n",
       "      <td>4910.0</td>\n",
       "      <td>0.841387</td>\n",
       "    </tr>\n",
       "    <tr>\n",
       "      <th>244</th>\n",
       "      <td>4930.0</td>\n",
       "      <td>0.849633</td>\n",
       "    </tr>\n",
       "    <tr>\n",
       "      <th>245</th>\n",
       "      <td>4950.0</td>\n",
       "      <td>0.834598</td>\n",
       "    </tr>\n",
       "    <tr>\n",
       "      <th>246</th>\n",
       "      <td>4970.0</td>\n",
       "      <td>0.834610</td>\n",
       "    </tr>\n",
       "    <tr>\n",
       "      <th>247</th>\n",
       "      <td>4990.0</td>\n",
       "      <td>0.840600</td>\n",
       "    </tr>\n",
       "  </tbody>\n",
       "</table>\n",
       "</div>"
      ],
      "text/plain": [
       "     n_features   ROC_AUC\n",
       "236      4770.0  0.846570\n",
       "237      4790.0  0.825453\n",
       "238      4810.0  0.850689\n",
       "239      4830.0  0.835525\n",
       "240      4850.0  0.863098\n",
       "241      4870.0  0.815802\n",
       "242      4890.0  0.855783\n",
       "243      4910.0  0.841387\n",
       "244      4930.0  0.849633\n",
       "245      4950.0  0.834598\n",
       "246      4970.0  0.834610\n",
       "247      4990.0  0.840600"
      ]
     },
     "execution_count": 71,
     "metadata": {},
     "output_type": "execute_result"
    }
   ],
   "source": [
    "df_score.tail(12)"
   ]
  },
  {
   "cell_type": "markdown",
   "id": "7d3e9a7f",
   "metadata": {},
   "source": [
    "Выберем n_features = 4800 с ROC_AUC= 0.85 и переобучим модель"
   ]
  },
  {
   "cell_type": "code",
   "execution_count": 72,
   "id": "39623d7d",
   "metadata": {
    "ExecuteTime": {
     "end_time": "2021-08-25T20:51:54.505355Z",
     "start_time": "2021-08-25T20:51:54.200152Z"
    }
   },
   "outputs": [
    {
     "data": {
      "text/plain": [
       "0.8499779196274438"
      ]
     },
     "execution_count": 72,
     "metadata": {},
     "output_type": "execute_result"
    }
   ],
   "source": [
    "count_vect = HashingVectorizer(n_features=4800).fit(X_train.values)\n",
    "\n",
    "xtrain = count_vect.transform(X_train)\n",
    "xtest = count_vect.transform(X_test)\n",
    "\n",
    "lr = linear_model.LogisticRegression(class_weight=\"balanced\").fit(xtrain, y_train)\n",
    "roc_auc_score(y_test, lr.predict_proba(xtest)[:, 1])"
   ]
  },
  {
   "cell_type": "code",
   "execution_count": 69,
   "id": "38dc5606",
   "metadata": {
    "ExecuteTime": {
     "end_time": "2021-08-25T20:49:52.774073Z",
     "start_time": "2021-08-25T20:49:52.762234Z"
    }
   },
   "outputs": [
    {
     "data": {
      "text/plain": [
       "0.8405997832108877"
      ]
     },
     "execution_count": 69,
     "metadata": {},
     "output_type": "execute_result"
    }
   ],
   "source": [
    "roc_auc_score(y_test, lr.predict_proba(xtest)[:, 1])"
   ]
  },
  {
   "cell_type": "markdown",
   "id": "e1900692",
   "metadata": {},
   "source": [
    "Проверим предсказания"
   ]
  },
  {
   "cell_type": "code",
   "execution_count": 111,
   "id": "38ae82c9",
   "metadata": {
    "ExecuteTime": {
     "end_time": "2021-08-25T21:14:17.590732Z",
     "start_time": "2021-08-25T21:14:17.464983Z"
    }
   },
   "outputs": [
    {
     "data": {
      "image/png": "[encoded data removed]",
      "text/plain": [
       "<Figure size 432x288 with 2 Axes>"
      ]
     },
     "metadata": {
      "needs_background": "light"
     },
     "output_type": "display_data"
    }
   ],
   "source": [
    "plot_confusion_matrix(lr, xtest, y_test)  \n",
    "plt.show()  "
   ]
  },
  {
   "cell_type": "code",
   "execution_count": 113,
   "id": "ab839075",
   "metadata": {
    "ExecuteTime": {
     "end_time": "2021-08-25T21:14:41.496403Z",
     "start_time": "2021-08-25T21:14:41.470445Z"
    },
    "scrolled": false
   },
   "outputs": [
    {
     "data": {
      "text/html": [
       "<div>\n",
       "<style scoped>\n",
       "    .dataframe tbody tr th:only-of-type {\n",
       "        vertical-align: middle;\n",
       "    }\n",
       "\n",
       "    .dataframe tbody tr th {\n",
       "        vertical-align: top;\n",
       "    }\n",
       "\n",
       "    .dataframe thead th {\n",
       "        text-align: right;\n",
       "    }\n",
       "</style>\n",
       "<table border=\"1\" class=\"dataframe\">\n",
       "  <thead>\n",
       "    <tr style=\"text-align: right;\">\n",
       "      <th></th>\n",
       "      <th>msg</th>\n",
       "      <th>predict</th>\n",
       "    </tr>\n",
       "  </thead>\n",
       "  <tbody>\n",
       "    <tr>\n",
       "      <th>18088</th>\n",
       "      <td>❗️❗️❗️❗️❗️всем здравствуйте предоставление скидка до 50 в топ 15 страховой компаний❗️❗️❗️❗️м работать с весь страховой компания по прямой агентский договор специалист доставить документ бесплатно по москва и мо бесплатно провести осмотр как при оформление каско так и осаго оплата производиться после получение полис оплата наличнымикартойпо счёт мочь организовать вы оплата полис в офис страховой компания который вы выбрать ✅все вид страхование для физ и юр лицо ✅страхование автотранспорт ✅страхование квартира и загородный дом ✅дмс страхование отнесчастный случай в тот число для человек заниматься спорт ✅страхование для выезжать за рубеж и тд ✅предоставление скидка до 50 в топ 15 страховой компания ✅цена маленький дилер и агент ✅предоставление персональный менеджер на весь срок страхование а так же юридический поддержка на случай возникновение трение с страховой компания звонить либо писать алексей 89257294631</td>\n",
       "      <td>0.973221</td>\n",
       "    </tr>\n",
       "    <tr>\n",
       "      <th>18298</th>\n",
       "      <td>добрый день всем❗️❗️❗️❗️❗️предоставление скидка до 50 в топ 15 страховой компаний❗️❗️❗️❗️м работать с весь страховой компания по прямой агентский договор специалист доставить документ бесплатно по москва и мо бесплатно провести осмотр как при оформление каско так и осаго страхование такси грузовой автомобиль оплата производиться после получение полис оплата наличнымикартойпо счёт мочь организовать вы оплата полис в офис страховой компания который вы выбрать ✅все вид страхование для физ и юр лицо ✅страхование автотранспорт ✅страхование квартира и загородный дом ✅дмс страхование отнесчастный случай в тот число для человек заниматься спорт ✅страхование для выезжать за рубеж и тд ✅предоставление скидка до 50 в топ 15 страховой компания ✅цена маленький дилер и агент ✅предоставление персональный менеджер на весь срок страхование а так же юридический поддержка на случай возникновение трение с страховой компания алексей 89257294631</td>\n",
       "      <td>0.976083</td>\n",
       "    </tr>\n",
       "    <tr>\n",
       "      <th>18079</th>\n",
       "      <td>весь добрый вечер для новый студия растяжка в трц новоизмайловский инстаграмм tvorimtelom требоваться тренер и админ на вечерний часы если вы или ваш знакомый интересно писать в лс</td>\n",
       "      <td>0.977849</td>\n",
       "    </tr>\n",
       "    <tr>\n",
       "      <th>18157</th>\n",
       "      <td>❗️❗️❗️❗️❗️предоставление скидка до 50 в топ 15 страховой компаний❗️❗️❗️❗️м работать с весь страховой компания по прямой агентский договор специалист доставить документ бесплатно по москва и мо бесплатно провести осмотр как при оформление каско так и осаго оплата производиться после получение полис оплата наличнымикартойпо счёт мочь организовать вы оплата полис в офис страховой компания который вы выбрать ✅все вид страхование для физ и юр лицо ✅страхование автотранспорт ✅страхование квартира и загородный дом ✅дмс страхование отнесчастный случай в тот число для человек заниматься спорт ✅страхование для выезжать за рубеж и тд ✅предоставление скидка до 50 в топ 15 страховой компания ✅цена маленький дилер и агент ✅предоставление персональный менеджер на весь срок страхование а так же юридический поддержка на случай возникновение трение с страховой компания алексей 89257294631</td>\n",
       "      <td>0.967258</td>\n",
       "    </tr>\n",
       "    <tr>\n",
       "      <th>18294</th>\n",
       "      <td>добрый день 🙋zwj♂ у мы есть уникальный условие по покупка дверь от 2990 я являться дистрибьютор предоставлять оптоворозничный продажа на любой ваш потребность и пожелание предлагать вы лично удостовериться в соотношение ценакачество ожидать вы у мы в шоурум diamond doors 💎 мой контакт alexdoors16</td>\n",
       "      <td>0.956305</td>\n",
       "    </tr>\n",
       "    <tr>\n",
       "      <th>18105</th>\n",
       "      <td>пик аренда посредник при сдача квартира внаём в сейф ключ от хата чтобы квартира посмотреть облениться риелтор в квартира икамера понатыкать чтобы чегон спереть</td>\n",
       "      <td>0.954453</td>\n",
       "    </tr>\n",
       "    <tr>\n",
       "      <th>18067</th>\n",
       "      <td>добрый вечер весь участник группа снять жильё для семейный пара с два детьмиребёнок 10 и 13 год в новый измайлово</td>\n",
       "      <td>0.977756</td>\n",
       "    </tr>\n",
       "    <tr>\n",
       "      <th>18098</th>\n",
       "      <td>добрый вечер снять 1 комнатный квартира или студия</td>\n",
       "      <td>0.967362</td>\n",
       "    </tr>\n",
       "    <tr>\n",
       "      <th>4654</th>\n",
       "      <td>добрый вечер никтоня сдавать однокомнатный квартира или студия</td>\n",
       "      <td>0.972027</td>\n",
       "    </tr>\n",
       "    <tr>\n",
       "      <th>18072</th>\n",
       "      <td>добрый день снять 2к квартира в ваш жк семья из 4 человек 2 взрослый и 2 ребёнок школьник подробность в личный сообщение спасибо</td>\n",
       "      <td>0.960872</td>\n",
       "    </tr>\n",
       "    <tr>\n",
       "      <th>14515</th>\n",
       "      <td>продавать квартира</td>\n",
       "      <td>0.990440</td>\n",
       "    </tr>\n",
       "    <tr>\n",
       "      <th>18147</th>\n",
       "      <td>нужный квартира посуточно для молодой пара жить постоянно в ни не большой ремонт в наш квартира</td>\n",
       "      <td>0.975729</td>\n",
       "    </tr>\n",
       "  </tbody>\n",
       "</table>\n",
       "</div>"
      ],
      "text/plain": [
       "                                                                                                                                                                                                                                                                                                                                                                                                                                                                                                                                                                                                                                                                                                                                                                                                                                                                                                                                                                             msg  \\\n",
       "18088                  ❗️❗️❗️❗️❗️всем здравствуйте предоставление скидка до 50 в топ 15 страховой компаний❗️❗️❗️❗️м работать с весь страховой компания по прямой агентский договор специалист доставить документ бесплатно по москва и мо бесплатно провести осмотр как при оформление каско так и осаго оплата производиться после получение полис оплата наличнымикартойпо счёт мочь организовать вы оплата полис в офис страховой компания который вы выбрать ✅все вид страхование для физ и юр лицо ✅страхование автотранспорт ✅страхование квартира и загородный дом ✅дмс страхование отнесчастный случай в тот число для человек заниматься спорт ✅страхование для выезжать за рубеж и тд ✅предоставление скидка до 50 в топ 15 страховой компания ✅цена маленький дилер и агент ✅предоставление персональный менеджер на весь срок страхование а так же юридический поддержка на случай возникновение трение с страховой компания звонить либо писать алексей 89257294631   \n",
       "18298  добрый день всем❗️❗️❗️❗️❗️предоставление скидка до 50 в топ 15 страховой компаний❗️❗️❗️❗️м работать с весь страховой компания по прямой агентский договор специалист доставить документ бесплатно по москва и мо бесплатно провести осмотр как при оформление каско так и осаго страхование такси грузовой автомобиль оплата производиться после получение полис оплата наличнымикартойпо счёт мочь организовать вы оплата полис в офис страховой компания который вы выбрать ✅все вид страхование для физ и юр лицо ✅страхование автотранспорт ✅страхование квартира и загородный дом ✅дмс страхование отнесчастный случай в тот число для человек заниматься спорт ✅страхование для выезжать за рубеж и тд ✅предоставление скидка до 50 в топ 15 страховой компания ✅цена маленький дилер и агент ✅предоставление персональный менеджер на весь срок страхование а так же юридический поддержка на случай возникновение трение с страховой компания алексей 89257294631   \n",
       "18079                                                                                                                                                                                                                                                                                                                                                                                                                                                                                                                                                                                                                                                                                                                                                                                       весь добрый вечер для новый студия растяжка в трц новоизмайловский инстаграмм tvorimtelom требоваться тренер и админ на вечерний часы если вы или ваш знакомый интересно писать в лс   \n",
       "18157                                                        ❗️❗️❗️❗️❗️предоставление скидка до 50 в топ 15 страховой компаний❗️❗️❗️❗️м работать с весь страховой компания по прямой агентский договор специалист доставить документ бесплатно по москва и мо бесплатно провести осмотр как при оформление каско так и осаго оплата производиться после получение полис оплата наличнымикартойпо счёт мочь организовать вы оплата полис в офис страховой компания который вы выбрать ✅все вид страхование для физ и юр лицо ✅страхование автотранспорт ✅страхование квартира и загородный дом ✅дмс страхование отнесчастный случай в тот число для человек заниматься спорт ✅страхование для выезжать за рубеж и тд ✅предоставление скидка до 50 в топ 15 страховой компания ✅цена маленький дилер и агент ✅предоставление персональный менеджер на весь срок страхование а так же юридический поддержка на случай возникновение трение с страховой компания алексей 89257294631   \n",
       "18294                                                                                                                                                                                                                                                                                                                                                                                                                                                                                                                                                                                                                                                                  добрый день 🙋zwj♂ у мы есть уникальный условие по покупка дверь от 2990 я являться дистрибьютор предоставлять оптоворозничный продажа на любой ваш потребность и пожелание предлагать вы лично удостовериться в соотношение ценакачество ожидать вы у мы в шоурум diamond doors 💎 мой контакт alexdoors16   \n",
       "18105                                                                                                                                                                                                                                                                                                                                                                                                                                                                                                                                                                                                                                                                                                                                                                                                           пик аренда посредник при сдача квартира внаём в сейф ключ от хата чтобы квартира посмотреть облениться риелтор в квартира икамера понатыкать чтобы чегон спереть   \n",
       "18067                                                                                                                                                                                                                                                                                                                                                                                                                                                                                                                                                                                                                                                                                                                                                                                                                                                          добрый вечер весь участник группа снять жильё для семейный пара с два детьмиребёнок 10 и 13 год в новый измайлово   \n",
       "18098                                                                                                                                                                                                                                                                                                                                                                                                                                                                                                                                                                                                                                                                                                                                                                                                                                                                                                                         добрый вечер снять 1 комнатный квартира или студия   \n",
       "4654                                                                                                                                                                                                                                                                                                                                                                                                                                                                                                                                                                                                                                                                                                                                                                                                                                                                                                              добрый вечер никтоня сдавать однокомнатный квартира или студия   \n",
       "18072                                                                                                                                                                                                                                                                                                                                                                                                                                                                                                                                                                                                                                                                                                                                                                                                                                           добрый день снять 2к квартира в ваш жк семья из 4 человек 2 взрослый и 2 ребёнок школьник подробность в личный сообщение спасибо   \n",
       "14515                                                                                                                                                                                                                                                                                                                                                                                                                                                                                                                                                                                                                                                                                                                                                                                                                                                                                                                                                         продавать квартира   \n",
       "18147                                                                                                                                                                                                                                                                                                                                                                                                                                                                                                                                                                                                                                                                                                                                                                                                                                                                            нужный квартира посуточно для молодой пара жить постоянно в ни не большой ремонт в наш квартира   \n",
       "\n",
       "        predict  \n",
       "18088  0.973221  \n",
       "18298  0.976083  \n",
       "18079  0.977849  \n",
       "18157  0.967258  \n",
       "18294  0.956305  \n",
       "18105  0.954453  \n",
       "18067  0.977756  \n",
       "18098  0.967362  \n",
       "4654   0.972027  \n",
       "18072  0.960872  \n",
       "14515  0.990440  \n",
       "18147  0.975729  "
      ]
     },
     "execution_count": 113,
     "metadata": {},
     "output_type": "execute_result"
    }
   ],
   "source": [
    "compare_df = pd.DataFrame(X_test)\n",
    "compare_df['predict'] = lr.predict_proba(xtest)[:, 1]\n",
    "compare_df[compare_df['predict'] > 0.95]"
   ]
  }
 ],
 "metadata": {
  "kernelspec": {
   "display_name": "Python 3",
   "language": "python",
   "name": "python3"
  },
  "language_info": {
   "codemirror_mode": {
    "name": "ipython",
    "version": 3
   },
   "file_extension": ".py",
   "mimetype": "text/x-python",
   "name": "python",
   "nbconvert_exporter": "python",
   "pygments_lexer": "ipython3",
   "version": "3.8.8"
  },
  "toc": {
   "base_numbering": 1,
   "nav_menu": {},
   "number_sections": false,
   "sideBar": true,
   "skip_h1_title": true,
   "title_cell": "Table of Contents",
   "title_sidebar": "Contents",
   "toc_cell": false,
   "toc_position": {},
   "toc_section_display": true,
   "toc_window_display": false
  },
  "varInspector": {
   "cols": {
    "lenName": 16,
    "lenType": 16,
    "lenVar": 40
   },
   "kernels_config": {
    "python": {
     "delete_cmd_postfix": "",
     "delete_cmd_prefix": "del ",
     "library": "var_list.py",
     "varRefreshCmd": "print(var_dic_list())"
    },
    "r": {
     "delete_cmd_postfix": ") ",
     "delete_cmd_prefix": "rm(",
     "library": "var_list.r",
     "varRefreshCmd": "cat(var_dic_list()) "
    }
   },
   "types_to_exclude": [
    "module",
    "function",
    "builtin_function_or_method",
    "instance",
    "_Feature"
   ],
   "window_display": false
  }
 },
 "nbformat": 4,
 "nbformat_minor": 5
}
