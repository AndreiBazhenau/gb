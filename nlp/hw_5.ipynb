{
 "cells": [
  {
   "cell_type": "markdown",
   "id": "cb40e800",
   "metadata": {},
   "source": [
    "## ДЗ в процессе выполнения..."
   ]
  },
  {
   "cell_type": "markdown",
   "id": "ca15cf06",
   "metadata": {},
   "source": [
    "ДЗ № 5 Тема \"POS-tagger и NER\"\n",
    "---\n",
    "\n",
    "**Задание 1**. Написать теггер на данных с русским языком\n",
    "1. проверить UnigramTagger, BigramTagger, TrigramTagger и их комбмнации\n",
    "2. написать свой теггер как на занятии, попробовать разные векторайзеры, добавить знание не только букв но и слов\n",
    "3. сравнить все реализованные методы сделать выводы\n",
    " \n",
    "**Задание 2**. Проверить насколько хорошо работает NER\n",
    "\n",
    "*данные брать из http://www.labinform.ru/pub/named_entities/*\n",
    "\n",
    "1. взять нер из nltk\n",
    "2. проверить deeppavlov\n",
    "3. написать свой нер попробовать разные подходы\n",
    " 1. передаём в сетку токен и его соседей\n",
    " 2. передаём в сетку только токен\n",
    "4. сделать выводы по вашим экспериментам какой из подходов успешнее справляется\n"
   ]
  },
  {
   "cell_type": "markdown",
   "id": "3c00a386",
   "metadata": {},
   "source": [
    "https://github.com/guillaumegenthial/tf_ner - Simple and Efficient Tensorflow implementations of NER models with tf.estimator and tf.data"
   ]
  },
  {
   "cell_type": "markdown",
   "id": "adf2b2db",
   "metadata": {},
   "source": [
    "https://github.com/yakiris/20210628_NLP/blob/master/05_dz.%20Part-of-Speech%20%D1%80%D0%B0%D0%B7%D0%BC%D0%B5%D1%82%D0%BA%D0%B0%2C%20NER%2C%20%D0%B8%D0%B7%D0%B2%D0%BB%D0%B5%D1%87%D0%B5%D0%BD%D0%B8%D0%B5%20%D0%BE%D1%82%D0%BD%D0%BE%D1%88%D0%B5%D0%BD%D0%B8%D0%B9.ipynb\n",
    "\n",
    "https://github.com/Vitalylqw/nlp/blob/master/hw_5/HW_5.ipynb\n",
    "\n",
    "https://github.com/Creep-ai/nlp_introduction/blob/main/Les05/Les05.ipynb\n",
    "\n",
    "https://github.com/chegevarae/educ/blob/master/nlp/lesson_5.ipynb"
   ]
  },
  {
   "cell_type": "markdown",
   "id": "36690fbb",
   "metadata": {},
   "source": [
    "# Задание 1"
   ]
  },
  {
   "cell_type": "code",
   "execution_count": 4,
   "id": "32e6a5e3",
   "metadata": {
    "ExecuteTime": {
     "end_time": "2021-08-03T21:16:32.733659Z",
     "start_time": "2021-08-03T21:16:32.720603Z"
    }
   },
   "outputs": [],
   "source": [
    "#!pip install pyconll"
   ]
  },
  {
   "cell_type": "code",
   "execution_count": 1,
   "id": "c1dc7952",
   "metadata": {
    "ExecuteTime": {
     "end_time": "2021-08-03T21:58:34.858761Z",
     "start_time": "2021-08-03T21:58:33.335768Z"
    }
   },
   "outputs": [],
   "source": [
    "import pandas as pd\n",
    "import re\n",
    "import string\n",
    "\n",
    "from sklearn.preprocessing import LabelEncoder\n",
    "from sklearn.feature_extraction.text import CountVectorizer, HashingVectorizer, TfidfVectorizer\n",
    "from sklearn.linear_model import LogisticRegression\n",
    "from sklearn.metrics import accuracy_score\n",
    "\n",
    "import pyconll\n",
    "import nltk\n",
    "from nltk.tag import DefaultTagger, UnigramTagger, BigramTagger, TrigramTagger"
   ]
  },
  {
   "cell_type": "markdown",
   "id": "a1064425",
   "metadata": {},
   "source": [
    "Скачиваем данные"
   ]
  },
  {
   "cell_type": "code",
   "execution_count": 16,
   "id": "cd6e3e23",
   "metadata": {
    "ExecuteTime": {
     "end_time": "2021-08-03T21:50:57.384016Z",
     "start_time": "2021-08-03T21:50:57.348835Z"
    }
   },
   "outputs": [
    {
     "name": "stdout",
     "output_type": "stream",
     "text": [
      "’ҐЄгй п Є®¤®ў п бва ­Ёж : 1251\n"
     ]
    }
   ],
   "source": [
    "# Переключаем кодировку для правильного отображения кирилицы в ошибках\n",
    "!chcp 1251\n",
    "\n",
    "# кодировка по умолчанию\n",
    "#!chcp 866\n",
    "#!chcp utf-8"
   ]
  },
  {
   "cell_type": "code",
   "execution_count": 26,
   "id": "d8cd0309",
   "metadata": {
    "ExecuteTime": {
     "end_time": "2021-08-03T21:43:02.349491Z",
     "start_time": "2021-08-03T21:43:02.343507Z"
    }
   },
   "outputs": [],
   "source": [
    "#!pip install wget"
   ]
  },
  {
   "cell_type": "code",
   "execution_count": 2,
   "id": "b5558988",
   "metadata": {
    "ExecuteTime": {
     "end_time": "2021-08-03T22:04:18.999368Z",
     "start_time": "2021-08-03T22:04:18.983313Z"
    }
   },
   "outputs": [],
   "source": [
    "import wget"
   ]
  },
  {
   "cell_type": "code",
   "execution_count": 6,
   "id": "d0eef18d",
   "metadata": {
    "ExecuteTime": {
     "end_time": "2021-08-03T22:10:16.509162Z",
     "start_time": "2021-08-03T22:08:16.088092Z"
    },
    "scrolled": false
   },
   "outputs": [
    {
     "name": "stderr",
     "output_type": "stream",
     "text": [
      "SYSTEM_WGETRC = c:/progra~1/wget/etc/wgetrc\n",
      "syswgetrc = C:\\Program Files (x86)\\GnuWin32/etc/wgetrc\n",
      "--2021-08-04 01:08:16--  https://raw.githubusercontent.com/UniversalDependencies/UD_Russian-SynTagRus/master/ru_syntagrus-ud-train.conllu\n",
      "Распознаётся raw.githubusercontent.com... 185.199.108.133, 185.199.111.133, 185.199.110.133, ...\n",
      "Устанавливается соединение с raw.githubusercontent.com|185.199.108.133|:443... соединение установлено.\n",
      "Невозможно установить соединение SSL.\n",
      "SYSTEM_WGETRC = c:/progra~1/wget/etc/wgetrc\n",
      "syswgetrc = C:\\Program Files (x86)\\GnuWin32/etc/wgetrc\n",
      "--2021-08-04 01:09:16--  https://raw.githubusercontent.com/UniversalDependencies/UD_Russian-SynTagRus/master/ru_syntagrus-ud-dev.conllu\n",
      "Распознаётся raw.githubusercontent.com... 185.199.108.133, 185.199.111.133, 185.199.110.133, ...\n",
      "Устанавливается соединение с raw.githubusercontent.com|185.199.108.133|:443... соединение установлено.\n",
      "Невозможно установить соединение SSL.\n"
     ]
    }
   ],
   "source": [
    "!wget -O ../../data/ru_syntagrus-ud-train.conllu https://raw.githubusercontent.com/UniversalDependencies/UD_Russian-SynTagRus/master/ru_syntagrus-ud-train.conllu\n",
    "!wget -O ../../data/ru_syntagrus-ud-dev.conllu https://raw.githubusercontent.com/UniversalDependencies/UD_Russian-SynTagRus/master/ru_syntagrus-ud-dev.conllu"
   ]
  },
  {
   "cell_type": "markdown",
   "id": "49640fc3",
   "metadata": {},
   "source": [
    "Загрузка данных"
   ]
  },
  {
   "cell_type": "code",
   "execution_count": 24,
   "id": "cae578fb",
   "metadata": {
    "ExecuteTime": {
     "end_time": "2021-08-03T21:35:31.178252Z",
     "start_time": "2021-08-03T21:35:31.047244Z"
    }
   },
   "outputs": [
    {
     "ename": "FileNotFoundError",
     "evalue": "[Errno 2] No such file or directory: 'data/pyconll/ru_syntagrus-ud-train.conllu'",
     "output_type": "error",
     "traceback": [
      "\u001b[1;31m---------------------------------------------------------------------------\u001b[0m",
      "\u001b[1;31mFileNotFoundError\u001b[0m                         Traceback (most recent call last)",
      "\u001b[1;32m<ipython-input-24-49fe9d7b087f>\u001b[0m in \u001b[0;36m<module>\u001b[1;34m\u001b[0m\n\u001b[1;32m----> 1\u001b[1;33m \u001b[0mfull_train\u001b[0m \u001b[1;33m=\u001b[0m \u001b[0mpyconll\u001b[0m\u001b[1;33m.\u001b[0m\u001b[0mload_from_file\u001b[0m\u001b[1;33m(\u001b[0m\u001b[1;34m'data/pyconll/ru_syntagrus-ud-train.conllu'\u001b[0m\u001b[1;33m)\u001b[0m\u001b[1;33m\u001b[0m\u001b[1;33m\u001b[0m\u001b[0m\n\u001b[0m\u001b[0;32m      2\u001b[0m \u001b[0mfull_test\u001b[0m \u001b[1;33m=\u001b[0m \u001b[0mpyconll\u001b[0m\u001b[1;33m.\u001b[0m\u001b[0mload_from_file\u001b[0m\u001b[1;33m(\u001b[0m\u001b[1;34m'data/pyconll/ru_syntagrus-ud-dev.conllu'\u001b[0m\u001b[1;33m)\u001b[0m\u001b[1;33m\u001b[0m\u001b[1;33m\u001b[0m\u001b[0m\n",
      "\u001b[1;32m~\\anaconda3\\lib\\site-packages\\pyconll\\load.py\u001b[0m in \u001b[0;36mload_from_file\u001b[1;34m(filename)\u001b[0m\n\u001b[0;32m     46\u001b[0m         \u001b[0mParseError\u001b[0m\u001b[1;33m:\u001b[0m \u001b[0mIf\u001b[0m \u001b[0mthere\u001b[0m \u001b[1;32mis\u001b[0m \u001b[0man\u001b[0m \u001b[0merror\u001b[0m \u001b[0mparsing\u001b[0m \u001b[0mthe\u001b[0m \u001b[0minput\u001b[0m \u001b[0minto\u001b[0m \u001b[0ma\u001b[0m \u001b[0mConll\u001b[0m \u001b[0mobject\u001b[0m\u001b[1;33m.\u001b[0m\u001b[1;33m\u001b[0m\u001b[1;33m\u001b[0m\u001b[0m\n\u001b[0;32m     47\u001b[0m     \"\"\"\n\u001b[1;32m---> 48\u001b[1;33m     \u001b[1;32mwith\u001b[0m \u001b[0mopen\u001b[0m\u001b[1;33m(\u001b[0m\u001b[0mfilename\u001b[0m\u001b[1;33m,\u001b[0m \u001b[0mencoding\u001b[0m\u001b[1;33m=\u001b[0m\u001b[1;34m'utf-8'\u001b[0m\u001b[1;33m)\u001b[0m \u001b[1;32mas\u001b[0m \u001b[0mf\u001b[0m\u001b[1;33m:\u001b[0m\u001b[1;33m\u001b[0m\u001b[1;33m\u001b[0m\u001b[0m\n\u001b[0m\u001b[0;32m     49\u001b[0m         \u001b[0mc\u001b[0m \u001b[1;33m=\u001b[0m \u001b[0mConll\u001b[0m\u001b[1;33m(\u001b[0m\u001b[0mf\u001b[0m\u001b[1;33m)\u001b[0m\u001b[1;33m\u001b[0m\u001b[1;33m\u001b[0m\u001b[0m\n\u001b[0;32m     50\u001b[0m \u001b[1;33m\u001b[0m\u001b[0m\n",
      "\u001b[1;31mFileNotFoundError\u001b[0m: [Errno 2] No such file or directory: 'data/pyconll/ru_syntagrus-ud-train.conllu'"
     ]
    }
   ],
   "source": [
    "full_train = pyconll.load_from_file('data/pyconll/ru_syntagrus-ud-train.conllu')\n",
    "full_test = pyconll.load_from_file('data/pyconll/ru_syntagrus-ud-dev.conllu')"
   ]
  }
 ],
 "metadata": {
  "kernelspec": {
   "display_name": "Python 3",
   "language": "python",
   "name": "python3"
  },
  "language_info": {
   "codemirror_mode": {
    "name": "ipython",
    "version": 3
   },
   "file_extension": ".py",
   "mimetype": "text/x-python",
   "name": "python",
   "nbconvert_exporter": "python",
   "pygments_lexer": "ipython3",
   "version": "3.8.8"
  },
  "toc": {
   "base_numbering": 1,
   "nav_menu": {},
   "number_sections": false,
   "sideBar": true,
   "skip_h1_title": false,
   "title_cell": "Table of Contents",
   "title_sidebar": "Contents",
   "toc_cell": false,
   "toc_position": {
    "height": "calc(100% - 180px)",
    "left": "10px",
    "top": "150px",
    "width": "229.594px"
   },
   "toc_section_display": true,
   "toc_window_display": true
  },
  "varInspector": {
   "cols": {
    "lenName": 16,
    "lenType": 16,
    "lenVar": 40
   },
   "kernels_config": {
    "python": {
     "delete_cmd_postfix": "",
     "delete_cmd_prefix": "del ",
     "library": "var_list.py",
     "varRefreshCmd": "print(var_dic_list())"
    },
    "r": {
     "delete_cmd_postfix": ") ",
     "delete_cmd_prefix": "rm(",
     "library": "var_list.r",
     "varRefreshCmd": "cat(var_dic_list()) "
    }
   },
   "types_to_exclude": [
    "module",
    "function",
    "builtin_function_or_method",
    "instance",
    "_Feature"
   ],
   "window_display": false
  }
 },
 "nbformat": 4,
 "nbformat_minor": 5
}
