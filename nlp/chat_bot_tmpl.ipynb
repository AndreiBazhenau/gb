{
 "cells": [
  {
   "cell_type": "markdown",
   "metadata": {
    "id": "Pa08yLA0TgOd"
   },
   "source": [
    "# Создание первого чатбота"
   ]
  },
  {
   "cell_type": "markdown",
   "metadata": {
    "id": "w0y6324OTgP2"
   },
   "source": [
    "Чат-бот— это программа, которая имитирует реальный разговор с пользователем. Чат-боты позволяют общаться с помощью текстовых или аудио сообщений на сайтах, в мессенджерах, мобильных приложениях "
   ]
  },
  {
   "cell_type": "markdown",
   "metadata": {
    "id": "N8wlv8NsTgRH"
   },
   "source": [
    "Основные преимущества\n",
    "\n",
    "* Обеспечивают сервисное обслуживание 24/7\n",
    "* Помогают охватить больше клиентов\n",
    "* Экономность\n",
    "* Легкость в эксплуатации\n",
    "\t\n",
    "Как они работают?\n",
    "Большинство людей не будут создавать своих чат-ботов с нуля, так как сегодня существует достаточно большой выбор всевозможных фреймворков и сервисов, которые могут помочь в создании чат-бота. Однако чтобы понять, как они работают нужно погрузиться немного глубже.\n",
    "Бэкенд: Чат-боты могут быть разработаны на любом языке программирования\n",
    "Фронтенд: Это может быть любой мессенджер: от популярных вроде Facebook Messenger, Slack, Telegram до простеньких Realtime Chat With Node.js. Вы не ограничены одной платформой: один и тот же бот может работать, по сути, везде."
   ]
  },
  {
   "cell_type": "markdown",
   "metadata": {
    "id": "IPSo95ojTgRJ"
   },
   "source": [
    "## Шаг 1. Создаём бота в Telegram"
   ]
  },
  {
   "cell_type": "markdown",
   "metadata": {
    "id": "Smx_0ac6TgRL"
   },
   "source": [
    "Открываем телеграм и ищем чат @botfather. \n",
    "Сначала пишем /newbot. Затем задаем имя, потом id.\n",
    "После создания бота нам придёт API токен, он нам понадобится в дальнейшем."
   ]
  },
  {
   "cell_type": "markdown",
   "metadata": {
    "id": "YK5Me-EiTgRO"
   },
   "source": [
    "![image.png](attachment:image.png)"
   ]
  },
  {
   "cell_type": "markdown",
   "metadata": {
    "id": "EMUX81thTgRV"
   },
   "source": [
    "## Шаг 2. Пишем основу бота"
   ]
  },
  {
   "cell_type": "markdown",
   "metadata": {
    "id": "FHHXvlzOTgRW"
   },
   "source": [
    "Устанавливаем библиотеку python-telegram-bot. Ссылка на документацию https://github.com/python-telegram-bot/python-telegram-bot"
   ]
  },
  {
   "cell_type": "code",
   "execution_count": null,
   "metadata": {
    "id": "0SSIHHWKTgRZ",
    "outputId": "bcfe87e4-c9a6-4d6f-9e26-289cfd77a364"
   },
   "outputs": [
    {
     "name": "stdout",
     "output_type": "stream",
     "text": [
      "Collecting python-telegram-bot\n",
      "  Downloading python_telegram_bot-12.8-py2.py3-none-any.whl (375 kB)\n",
      "\u001b[K     |████████████████████████████████| 375 kB 699 kB/s eta 0:00:01\n",
      "\u001b[?25hRequirement already satisfied, skipping upgrade: tornado>=5.1 in /home/roman/.local/share/virtualenvs/nlp-course-SnPBaSF-/lib/python3.8/site-packages (from python-telegram-bot) (6.0.4)\n",
      "Collecting cryptography\n",
      "  Downloading cryptography-3.1.1-cp35-abi3-manylinux2010_x86_64.whl (2.6 MB)\n",
      "\u001b[K     |████████████████████████████████| 2.6 MB 59 kB/s  eta 0:00:01\n",
      "\u001b[?25hRequirement already satisfied, skipping upgrade: certifi in /home/roman/.local/share/virtualenvs/nlp-course-SnPBaSF-/lib/python3.8/site-packages (from python-telegram-bot) (2020.6.20)\n",
      "Requirement already satisfied, skipping upgrade: decorator>=4.4.0 in /home/roman/.local/share/virtualenvs/nlp-course-SnPBaSF-/lib/python3.8/site-packages (from python-telegram-bot) (4.4.2)\n",
      "Requirement already satisfied, skipping upgrade: six>=1.4.1 in /home/roman/.local/share/virtualenvs/nlp-course-SnPBaSF-/lib/python3.8/site-packages (from cryptography->python-telegram-bot) (1.15.0)\n",
      "Requirement already satisfied, skipping upgrade: cffi!=1.11.3,>=1.8 in /home/roman/.local/share/virtualenvs/nlp-course-SnPBaSF-/lib/python3.8/site-packages (from cryptography->python-telegram-bot) (1.14.2)\n",
      "Requirement already satisfied, skipping upgrade: pycparser in /home/roman/.local/share/virtualenvs/nlp-course-SnPBaSF-/lib/python3.8/site-packages (from cffi!=1.11.3,>=1.8->cryptography->python-telegram-bot) (2.20)\n",
      "Installing collected packages: cryptography, python-telegram-bot\n",
      "Successfully installed cryptography-3.1.1 python-telegram-bot-12.8\n"
     ]
    }
   ],
   "source": [
    "!pip install python-telegram-bot --upgrade"
   ]
  },
  {
   "cell_type": "markdown",
   "metadata": {
    "id": "BnN0CpQiTgRd"
   },
   "source": [
    "Явно зададим кодировку нашего кода"
   ]
  },
  {
   "cell_type": "code",
   "execution_count": null,
   "metadata": {
    "id": "M_NIrGmUTgRj"
   },
   "outputs": [],
   "source": [
    "# -- coding: utf-8 -"
   ]
  },
  {
   "cell_type": "code",
   "execution_count": null,
   "metadata": {
    "id": "kcL8496OTgRm"
   },
   "outputs": [],
   "source": [
    "from telegram.ext  import Updater, CommandHandler, MessageHandler, Filters"
   ]
  },
  {
   "cell_type": "markdown",
   "metadata": {
    "id": "P_SeAH-rTgRo"
   },
   "source": [
    "telegram.ext подмодуль, предоставлющий простой в использовании интерфейс. Он состоит из нескольких классов, но двумя наиболее важными из них являются telegram.ext.Updater и telegram.ext.Dispatcher.\n",
    "Класс Updater непрерывно получает новые обновления  из телеграмма и передает их в Dispatcher класс.\n",
    "Если вы создадите Updater объект, он создаст Dispatcher для вас и свяжет их вместе.\n"
   ]
  },
  {
   "cell_type": "markdown",
   "metadata": {
    "id": "2N6E0HmZTgRq"
   },
   "source": [
    "<div class=\"alert alert-danger\">\n",
    "<h2>Токен API к Telegram<a class=\"tocSkip\"></a></h2>\n",
    "Не должен попасть в гит\n",
    "</div>"
   ]
  },
  {
   "cell_type": "code",
   "execution_count": null,
   "metadata": {
    "id": "9Oi2nWI8TgR3",
    "outputId": "d8e36736-63f7-4ff3-b1fc-65efadbfcc14"
   },
   "outputs": [
    {
     "name": "stderr",
     "output_type": "stream",
     "text": [
      "<ipython-input-3-1f012269550c>:2: TelegramDeprecationWarning: Old Handler API is deprecated - see https://git.io/fxJuV for details\n",
      "  updater = Updater(token='1191056511:AAG3UosP5eFCW1jXLpxfGRAMniJLZDJ1O5o') # Токен API к Telegram\n"
     ]
    }
   ],
   "source": [
    "#Настройки \n",
    "updater = Updater(token='1191056511:AAG3UosP5eFCW1jXLpxfGRAMniJLZDJ1O5o') # Токен API к Telegram\n",
    "dispatcher = updater.dispatcher"
   ]
  },
  {
   "cell_type": "markdown",
   "metadata": {
    "id": "toI8Coc3TgSf"
   },
   "source": [
    "Затем вы можете зарегистрировать обработчики разных типов в Dispatcher, который будет сортировать обновления, извлеченные в Updater соответствии с зарегистрированными вами обработчиками, и доставлять их в функцию обратного вызова, которую вы определили.\n"
   ]
  },
  {
   "cell_type": "markdown",
   "metadata": {
    "id": "8oPk_F9NTgSg"
   },
   "source": [
    "Напишем 2 обработчика команд. Это callback-функции, которые будут вызываться тогда, когда будет получено обновление. Напишем две таких функции для команды /start и для обычного любого текстового сообщения. В качестве аргументов туда передаются два параметра: bot и update. Bot содержит необходимые методы для взаимодействия с API, а update содержит данные о пришедшем сообщении.\n"
   ]
  },
  {
   "cell_type": "code",
   "execution_count": null,
   "metadata": {
    "id": "PZ23nqHsTgSo"
   },
   "outputs": [],
   "source": [
    "# Обработка команд\n",
    "def startCommand(bot, update):\n",
    "    bot.send_message(chat_id=update.message.chat_id, text='Добрый день')\n",
    "def textMessage(bot, update):\n",
    "    # update.message.text это текст запроса который можно обрабатывать классифицировать для формирования ответа\n",
    "    response = 'Ваше сообщение принял ' + update.message.text.lower() # формируем текст ответа\n",
    "    bot.send_message(chat_id=update.message.chat_id, text=response)"
   ]
  },
  {
   "cell_type": "markdown",
   "metadata": {
    "id": "oLw0WmjHTgSp"
   },
   "source": [
    "Каждый обработчик является экземпляром любого подкласса класса telegram.ext.Handler . Библиотека предоставляет классы-обработчики почти для всех вариантов использования, но если вам нужно что-то очень конкретное, вы также можете создать подкласс Handler самостоятельно."
   ]
  },
  {
   "cell_type": "markdown",
   "metadata": {
    "id": "jT7vmviGTgSu"
   },
   "source": [
    "Теперь осталось лишь присвоить уведомлениям эти обработчики и начать поиск обновлений.\n",
    "Цель состоит в том, чтобы вызывать эту функцию каждый раз, когда бот получает сообщение Telegram, содержащее /start команду. Для этого можно использовать CommandHandler(один из предоставленных подклассов Handler) и зарегистрировать его в диспетчере:\n",
    "Класс Filters содержит ряд функций, которые фильтруют входящие сообщения на наличие текста, изображений, обновлений статуса и т.д. \n",
    "Любое сообщение, которое возвращает True в хотя бы одном из переданных фильтров, MessageHandler примет. Также можно написать свои собственные фильтры.\n"
   ]
  },
  {
   "cell_type": "code",
   "execution_count": null,
   "metadata": {
    "id": "qXpOwAWcTgS5"
   },
   "outputs": [],
   "source": [
    "# Хендлеры\n",
    "start_command_handler = CommandHandler('start', startCommand)\n",
    "text_message_handler = MessageHandler(Filters.text, textMessage)\n",
    "# Добавляем хендлеры в диспетчер\n",
    "dispatcher.add_handler(start_command_handler)\n",
    "dispatcher.add_handler(text_message_handler)\n",
    "# Начинаем поиск обновлений\n",
    "updater.start_polling(clean=True)\n",
    "# Останавливаем бота, если были нажаты Ctrl + C\n",
    "updater.idle()"
   ]
  },
  {
   "cell_type": "markdown",
   "metadata": {
    "id": "HlgpkhSYTgS6"
   },
   "source": [
    "Создаём папку Bot, в которой потом создаём файл bot.py. \n",
    "Вы можете создать просто текстовый блокнот и вместо расширения .txt  напишите .py\n",
    "Собираем код нашего бота.\n",
    "Открываем консоль и переходим в директорию с файлом, и запускаем python3 bot.py\n",
    "Бот будет работать пока будет открыто окно консоли. "
   ]
  },
  {
   "cell_type": "code",
   "execution_count": null,
   "metadata": {
    "id": "M4Z8hBVSTgS8"
   },
   "outputs": [],
   "source": []
  }
 ],
 "metadata": {
  "colab": {
   "collapsed_sections": [],
   "name": "chat-bot_tmpl.ipynb",
   "provenance": []
  },
  "kernelspec": {
   "display_name": "Python 3",
   "language": "python",
   "name": "python3"
  },
  "language_info": {
   "codemirror_mode": {
    "name": "ipython",
    "version": 3
   },
   "file_extension": ".py",
   "mimetype": "text/x-python",
   "name": "python",
   "nbconvert_exporter": "python",
   "pygments_lexer": "ipython3",
   "version": "3.8.8"
  },
  "toc": {
   "base_numbering": 1,
   "nav_menu": {},
   "number_sections": false,
   "sideBar": true,
   "skip_h1_title": false,
   "title_cell": "Table of Contents",
   "title_sidebar": "Contents",
   "toc_cell": false,
   "toc_position": {},
   "toc_section_display": true,
   "toc_window_display": false
  },
  "varInspector": {
   "cols": {
    "lenName": 16,
    "lenType": 16,
    "lenVar": 40
   },
   "kernels_config": {
    "python": {
     "delete_cmd_postfix": "",
     "delete_cmd_prefix": "del ",
     "library": "var_list.py",
     "varRefreshCmd": "print(var_dic_list())"
    },
    "r": {
     "delete_cmd_postfix": ") ",
     "delete_cmd_prefix": "rm(",
     "library": "var_list.r",
     "varRefreshCmd": "cat(var_dic_list()) "
    }
   },
   "types_to_exclude": [
    "module",
    "function",
    "builtin_function_or_method",
    "instance",
    "_Feature"
   ],
   "window_display": false
  }
 },
 "nbformat": 4,
 "nbformat_minor": 1
}
