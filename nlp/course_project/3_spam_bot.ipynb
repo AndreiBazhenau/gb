{
 "cells": [
  {
   "cell_type": "markdown",
   "id": "b0ae2287",
   "metadata": {},
   "source": [
    "Курсовой проект \"Создание чат-бота в Telegram\" по курсу \"Введение в обработку естественного языка\"\n",
    "---\n",
    "\n",
    "## Ноутбук № 3: рабочий код бота\n",
    "\n",
    "Тот же самый код реализован в файле **spam_bot.py**"
   ]
  },
  {
   "cell_type": "markdown",
   "id": "7b69cb43",
   "metadata": {},
   "source": [
    "Устанавливаем библиотеку python-telegram-bot. Ссылка на документацию https://github.com/python-telegram-bot/python-telegram-bot"
   ]
  },
  {
   "cell_type": "code",
   "execution_count": null,
   "id": "e812c602",
   "metadata": {},
   "outputs": [],
   "source": [
    "#!pip install python-telegram-bot --upgrade"
   ]
  },
  {
   "cell_type": "code",
   "execution_count": 1,
   "id": "b3ab4626",
   "metadata": {
    "ExecuteTime": {
     "end_time": "2021-08-29T19:58:46.198976Z",
     "start_time": "2021-08-29T19:58:44.982249Z"
    }
   },
   "outputs": [],
   "source": [
    "import pandas as pd\n",
    "from telegram import Update\n",
    "from telegram.ext import Updater, CommandHandler, MessageHandler, Filters, CallbackContext\n",
    "import logging\n",
    "import pickle\n",
    "import os\n",
    "import re\n",
    "\n",
    "from sklearn.model_selection import train_test_split\n",
    "from sklearn.feature_extraction.text import HashingVectorizer\n",
    "from sklearn import linear_model\n",
    "\n",
    "from string import punctuation\n",
    "from stop_words import get_stop_words\n",
    "from pymorphy2 import MorphAnalyzer"
   ]
  },
  {
   "cell_type": "code",
   "execution_count": 2,
   "id": "5ff72129",
   "metadata": {
    "ExecuteTime": {
     "end_time": "2021-08-29T13:59:43.653431Z",
     "start_time": "2021-08-29T13:59:43.644119Z"
    }
   },
   "outputs": [],
   "source": [
    "# путь к данным\n",
    "path = '../../../data/spam_detection/'"
   ]
  },
  {
   "cell_type": "markdown",
   "id": "a4fb402c",
   "metadata": {},
   "source": [
    "## Готовим модель"
   ]
  },
  {
   "cell_type": "code",
   "execution_count": 3,
   "id": "a08b217a",
   "metadata": {
    "ExecuteTime": {
     "end_time": "2021-08-29T14:00:05.295072Z",
     "start_time": "2021-08-29T14:00:05.112156Z"
    }
   },
   "outputs": [],
   "source": [
    "# предобработка текста\n",
    "exclude = set(punctuation)\n",
    "sw = set(get_stop_words(\"ru\"))\n",
    "morpher = MorphAnalyzer()\n",
    "\n",
    "def preprocess_text(txt):\n",
    "    txt = str(txt)\n",
    "    txt = \"\".join(c for c in txt if c not in exclude)\n",
    "    txt = txt.lower()\n",
    "    txt = re.sub(\"\\sне\", \"не\", txt)\n",
    "    txt = [morpher.parse(word)[0].normal_form for word in txt.split() if word not in exclude]\n",
    "    return \" \".join(txt)"
   ]
  },
  {
   "cell_type": "code",
   "execution_count": 4,
   "id": "d131b843",
   "metadata": {
    "ExecuteTime": {
     "end_time": "2021-08-29T14:00:09.451455Z",
     "start_time": "2021-08-29T14:00:09.413996Z"
    }
   },
   "outputs": [
    {
     "name": "stdout",
     "output_type": "stream",
     "text": [
      "(18393, 2)\n"
     ]
    },
    {
     "data": {
      "text/html": [
       "<div>\n",
       "<style scoped>\n",
       "    .dataframe tbody tr th:only-of-type {\n",
       "        vertical-align: middle;\n",
       "    }\n",
       "\n",
       "    .dataframe tbody tr th {\n",
       "        vertical-align: top;\n",
       "    }\n",
       "\n",
       "    .dataframe thead th {\n",
       "        text-align: right;\n",
       "    }\n",
       "</style>\n",
       "<table border=\"1\" class=\"dataframe\">\n",
       "  <thead>\n",
       "    <tr style=\"text-align: right;\">\n",
       "      <th></th>\n",
       "      <th>msg</th>\n",
       "      <th>spam</th>\n",
       "    </tr>\n",
       "  </thead>\n",
       "  <tbody>\n",
       "    <tr>\n",
       "      <th>0</th>\n",
       "      <td>че за возня опять возле верный</td>\n",
       "      <td>0</td>\n",
       "    </tr>\n",
       "    <tr>\n",
       "      <th>1</th>\n",
       "      <td>что то похожий на стрельба быть и сейчас три м...</td>\n",
       "      <td>0</td>\n",
       "    </tr>\n",
       "    <tr>\n",
       "      <th>2</th>\n",
       "      <td>а ктоть в курс что за стрельба</td>\n",
       "      <td>0</td>\n",
       "    </tr>\n",
       "  </tbody>\n",
       "</table>\n",
       "</div>"
      ],
      "text/plain": [
       "                                                 msg  spam\n",
       "0                     че за возня опять возле верный     0\n",
       "1  что то похожий на стрельба быть и сейчас три м...     0\n",
       "2                     а ктоть в курс что за стрельба     0"
      ]
     },
     "execution_count": 4,
     "metadata": {},
     "output_type": "execute_result"
    }
   ],
   "source": [
    "# загружаем обработанный датафрейм\n",
    "df = pd.read_pickle(os.path.join(path, 'df_processed.pkl'))\n",
    "print(df.shape)\n",
    "df.head(3)"
   ]
  },
  {
   "cell_type": "code",
   "execution_count": 5,
   "id": "25bda89f",
   "metadata": {
    "ExecuteTime": {
     "end_time": "2021-08-29T14:00:11.909344Z",
     "start_time": "2021-08-29T14:00:11.881426Z"
    }
   },
   "outputs": [
    {
     "data": {
      "text/plain": [
       "LogisticRegression(class_weight='balanced')"
      ]
     },
     "execution_count": 5,
     "metadata": {},
     "output_type": "execute_result"
    }
   ],
   "source": [
    "# загружаем обученную модель\n",
    "pkl_path_filename = os.path.join(path, 'lr_model.pkl')\n",
    "with open(pkl_path_filename, 'rb') as file:\n",
    "    lr = pickle.load(file)\n",
    "lr"
   ]
  },
  {
   "cell_type": "code",
   "execution_count": 6,
   "id": "63d54fec",
   "metadata": {
    "ExecuteTime": {
     "end_time": "2021-08-29T14:00:13.396886Z",
     "start_time": "2021-08-29T14:00:13.376431Z"
    }
   },
   "outputs": [
    {
     "data": {
      "text/plain": [
       "HashingVectorizer(n_features=4800)"
      ]
     },
     "execution_count": 6,
     "metadata": {},
     "output_type": "execute_result"
    }
   ],
   "source": [
    "# загружаем CountVectorizer\n",
    "pkl_path_filename = os.path.join(path, 'count_vectorizer.pkl')\n",
    "with open(pkl_path_filename, 'rb') as file:\n",
    "    count_vect = pickle.load(file)\n",
    "count_vect"
   ]
  },
  {
   "cell_type": "code",
   "execution_count": 7,
   "id": "b357d1b3",
   "metadata": {
    "ExecuteTime": {
     "end_time": "2021-08-29T14:00:16.878080Z",
     "start_time": "2021-08-29T14:00:16.875091Z"
    }
   },
   "outputs": [],
   "source": [
    "# функция проверки сообщения на спам\n",
    "def check_spam(text):\n",
    "    # предоработка текста сообщения\n",
    "    text = preprocess_text(text)\n",
    "    # преобразование текста в Series, преобразование через CountVectorizer и предсказание\n",
    "    return lr.predict(count_vect.transform(pd.Series(text)))"
   ]
  },
  {
   "cell_type": "markdown",
   "id": "fbbb1ddd",
   "metadata": {},
   "source": [
    "## Телеграм бот"
   ]
  },
  {
   "cell_type": "code",
   "execution_count": 8,
   "id": "954c6690",
   "metadata": {
    "ExecuteTime": {
     "end_time": "2021-08-29T14:00:18.927518Z",
     "start_time": "2021-08-29T14:00:18.913383Z"
    }
   },
   "outputs": [],
   "source": [
    "# Enable logging\n",
    "logging.basicConfig(format='%(asctime)s - %(name)s - %(levelname)s - %(message)s',\n",
    "                    level=logging.INFO\n",
    "                    )\n",
    "\n",
    "logger = logging.getLogger()"
   ]
  },
  {
   "cell_type": "code",
   "execution_count": 9,
   "id": "b6f3b980",
   "metadata": {
    "ExecuteTime": {
     "end_time": "2021-08-29T14:00:19.813439Z",
     "start_time": "2021-08-29T14:00:19.797820Z"
    }
   },
   "outputs": [],
   "source": [
    "# Define a few command handlers. These usually take the two arguments update and\n",
    "# context. Error handlers also receive the raised TelegramError object in error.\n",
    "def start(update: Update, context: CallbackContext):\n",
    "    update.message.reply_text('Привет!')\n",
    "\n",
    "def echo(update: Update, context: CallbackContext):\n",
    "    msg = update.message.text\n",
    "    # отвечаем на сообщение\n",
    "    update.message.reply_text('Ваше сообщение: ' + msg)\n",
    "    \n",
    "    # проверяем сообщение на спам и отвечаем соотвтетсвующе\n",
    "    if check_spam(msg) == 1:\n",
    "        update.message.reply_text('Это спам!')\n",
    "    else:\n",
    "        update.message.reply_text('Это не спам')"
   ]
  },
  {
   "cell_type": "code",
   "execution_count": 10,
   "id": "09387ae6",
   "metadata": {
    "ExecuteTime": {
     "end_time": "2021-08-29T14:00:22.370823Z",
     "start_time": "2021-08-29T14:00:22.354347Z"
    }
   },
   "outputs": [],
   "source": [
    "# читаем токен телеграм-бота из файла и сохраняем в переменную\n",
    "with open(os.path.join(path, 'token.txt'), \"r\") as file:\n",
    "    token = file.read()"
   ]
  },
  {
   "cell_type": "code",
   "execution_count": 11,
   "id": "c3b69ffb",
   "metadata": {
    "ExecuteTime": {
     "end_time": "2021-08-29T14:00:26.035299Z",
     "start_time": "2021-08-29T14:00:26.025325Z"
    }
   },
   "outputs": [],
   "source": [
    "#Настройки \n",
    "# use_context (bool, optional) – If set to True uses the context based callback API (ignored \n",
    "# if dispatcher argument is used). Defaults to True. New users: set this to True.\n",
    "\n",
    "updater = Updater(token=token, use_context=True) # Токен API к Telegram\n",
    "dispatcher = updater.dispatcher"
   ]
  },
  {
   "cell_type": "code",
   "execution_count": 12,
   "id": "243acaa1",
   "metadata": {
    "ExecuteTime": {
     "end_time": "2021-08-29T14:00:27.605437Z",
     "start_time": "2021-08-29T14:00:27.587483Z"
    }
   },
   "outputs": [],
   "source": [
    "# добавляем обработчики команд (handler) в диспетчере обработчиков\n",
    "\n",
    "# обработчик команд - /start\n",
    "dispatcher.add_handler(CommandHandler(\"start\", start))\n",
    "\n",
    "# обработчик сообщений\n",
    "dispatcher.add_handler(MessageHandler(Filters.text & ~Filters.command, echo))"
   ]
  },
  {
   "cell_type": "code",
   "execution_count": 13,
   "id": "d0159362",
   "metadata": {
    "ExecuteTime": {
     "end_time": "2021-08-29T14:01:18.647137Z",
     "start_time": "2021-08-29T14:00:28.766678Z"
    }
   },
   "outputs": [
    {
     "name": "stderr",
     "output_type": "stream",
     "text": [
      "2021-08-29 17:00:28,766 - apscheduler.scheduler - INFO - Scheduler started\n",
      "2021-08-29 17:01:18,308 - telegram.ext.updater - INFO - Received signal 2 (SIGINT), stopping...\n",
      "2021-08-29 17:01:18,308 - apscheduler.scheduler - INFO - Scheduler has been shut down\n"
     ]
    }
   ],
   "source": [
    "# Start the Bot - Начинаем поиск обновлений\n",
    "updater.start_polling(drop_pending_updates=True)\n",
    "# drop_pending_updates (bool, optional) – Whether to clean any pending updates on \n",
    "# Telegram servers before actually starting to poll. Default is False\n",
    "\n",
    "# Останавливаем бота, если были нажаты Ctrl + C\n",
    "updater.idle()"
   ]
  },
  {
   "cell_type": "code",
   "execution_count": null,
   "id": "1fa39d37",
   "metadata": {},
   "outputs": [],
   "source": []
  },
  {
   "cell_type": "markdown",
   "id": "d86cf503",
   "metadata": {},
   "source": [
    "telegram.ext подмодуль, предоставлющий простой в использовании интерфейс. Он состоит из нескольких классов, но двумя наиболее важными из них являются telegram.ext.Updater и telegram.ext.Dispatcher.\n",
    "Класс Updater непрерывно получает новые обновления  из телеграмма и передает их в Dispatcher класс.\n",
    "Если вы создадите Updater объект, он создаст Dispatcher для вас и свяжет их вместе.\n"
   ]
  },
  {
   "cell_type": "markdown",
   "id": "3624361c",
   "metadata": {},
   "source": [
    "Затем вы можете зарегистрировать обработчики разных типов в Dispatcher, который будет сортировать обновления, извлеченные в Updater соответствии с зарегистрированными вами обработчиками, и доставлять их в функцию обратного вызова, которую вы определили.\n"
   ]
  },
  {
   "cell_type": "markdown",
   "id": "af7a44cb",
   "metadata": {},
   "source": [
    "Напишем 2 обработчика команд. Это callback-функции, которые будут вызываться тогда, когда будет получено обновление. Напишем две таких функции для команды /start и для обычного любого текстового сообщения. В качестве аргументов туда передаются два параметра: bot и update. Bot содержит необходимые методы для взаимодействия с API, а update содержит данные о пришедшем сообщении.\n"
   ]
  },
  {
   "cell_type": "markdown",
   "id": "6ff2430c",
   "metadata": {},
   "source": [
    "Каждый обработчик является экземпляром любого подкласса класса telegram.ext.Handler . Библиотека предоставляет классы-обработчики почти для всех вариантов использования, но если вам нужно что-то очень конкретное, вы также можете создать подкласс Handler самостоятельно."
   ]
  },
  {
   "cell_type": "markdown",
   "id": "d870444c",
   "metadata": {},
   "source": [
    "Теперь осталось лишь присвоить уведомлениям эти обработчики и начать поиск обновлений.\n",
    "Цель состоит в том, чтобы вызывать эту функцию каждый раз, когда бот получает сообщение Telegram, содержащее /start команду. Для этого можно использовать CommandHandler(один из предоставленных подклассов Handler) и зарегистрировать его в диспетчере:\n",
    "Класс Filters содержит ряд функций, которые фильтруют входящие сообщения на наличие текста, изображений, обновлений статуса и т.д. \n",
    "Любое сообщение, которое возвращает True в хотя бы одном из переданных фильтров, MessageHandler примет. Также можно написать свои собственные фильтры.\n"
   ]
  },
  {
   "cell_type": "markdown",
   "id": "ceca3862",
   "metadata": {},
   "source": [
    "Создаём папку Bot, в которой потом создаём файл bot.py. Вы можете создать просто текстовый блокнот и вместо расширения .txt напишите .py Собираем код нашего бота. Открываем консоль и переходим в директорию с файлом, и запускаем python3 bot.py Бот будет работать пока будет открыто окно консоли."
   ]
  },
  {
   "cell_type": "code",
   "execution_count": 6,
   "id": "e676c787",
   "metadata": {
    "ExecuteTime": {
     "end_time": "2021-08-28T20:02:55.014103Z",
     "start_time": "2021-08-28T20:02:54.994649Z"
    }
   },
   "outputs": [],
   "source": [
    "# # Обработка команд\n",
    "# def startCommand(bot, update):\n",
    "#     bot.send_message(chat_id=update.message.chat_id, text='Добрый день')\n",
    "    \n",
    "# def textMessage(bot, update):\n",
    "#     response = 'Ваше сообщение принял ' + update.message.text # формируем текст ответа\n",
    "#     bot.send_message(chat_id=update.message.chat_id, text=response)"
   ]
  },
  {
   "cell_type": "code",
   "execution_count": null,
   "id": "f4a5b3cf",
   "metadata": {
    "ExecuteTime": {
     "start_time": "2021-08-28T20:02:10.327Z"
    }
   },
   "outputs": [],
   "source": [
    "# Добавляем хендлеры в диспетчер\n",
    "# dispatcher.add_handler(start_command_handler)\n",
    "# dispatcher.add_handler(text_message_handler)"
   ]
  },
  {
   "cell_type": "code",
   "execution_count": null,
   "id": "fee109bd",
   "metadata": {
    "ExecuteTime": {
     "start_time": "2021-08-28T20:01:42.927Z"
    }
   },
   "outputs": [],
   "source": [
    "# # Хендлеры\n",
    "# start_command_handler = CommandHandler('start', startCommand)\n",
    "# text_message_handler = MessageHandler(Filters.text, textMessage)\n",
    "# # Добавляем хендлеры в диспетчер\n",
    "# dispatcher.add_handler(start_command_handler)\n",
    "# dispatcher.add_handler(text_message_handler)\n",
    "# # Начинаем поиск обновлений\n",
    "# updater.start_polling(clean=True)\n",
    "# # Останавливаем бота, если были нажаты Ctrl + C\n",
    "# updater.idle()"
   ]
  },
  {
   "cell_type": "code",
   "execution_count": null,
   "id": "ce64770c",
   "metadata": {},
   "outputs": [],
   "source": []
  }
 ],
 "metadata": {
  "kernelspec": {
   "display_name": "Python 3",
   "language": "python",
   "name": "python3"
  },
  "language_info": {
   "codemirror_mode": {
    "name": "ipython",
    "version": 3
   },
   "file_extension": ".py",
   "mimetype": "text/x-python",
   "name": "python",
   "nbconvert_exporter": "python",
   "pygments_lexer": "ipython3",
   "version": "3.8.8"
  },
  "toc": {
   "base_numbering": 1,
   "nav_menu": {},
   "number_sections": false,
   "sideBar": true,
   "skip_h1_title": true,
   "title_cell": "Table of Contents",
   "title_sidebar": "Contents",
   "toc_cell": false,
   "toc_position": {},
   "toc_section_display": true,
   "toc_window_display": false
  },
  "varInspector": {
   "cols": {
    "lenName": 16,
    "lenType": 16,
    "lenVar": 40
   },
   "kernels_config": {
    "python": {
     "delete_cmd_postfix": "",
     "delete_cmd_prefix": "del ",
     "library": "var_list.py",
     "varRefreshCmd": "print(var_dic_list())"
    },
    "r": {
     "delete_cmd_postfix": ") ",
     "delete_cmd_prefix": "rm(",
     "library": "var_list.r",
     "varRefreshCmd": "cat(var_dic_list()) "
    }
   },
   "position": {
    "height": "757px",
    "left": "91px",
    "right": "20px",
    "top": "136px",
    "width": "740px"
   },
   "types_to_exclude": [
    "module",
    "function",
    "builtin_function_or_method",
    "instance",
    "_Feature"
   ],
   "window_display": false
  }
 },
 "nbformat": 4,
 "nbformat_minor": 5
}
