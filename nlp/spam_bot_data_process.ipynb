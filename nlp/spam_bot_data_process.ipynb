{
 "cells": [
  {
   "cell_type": "markdown",
   "metadata": {},
   "source": [
    "1. kaggle (https://www.kaggle.com/datasets)\n",
    "2. спарсить самостоятельно, но в этом случае вам может понадобиться разметка (если у вас обучение с учителем)"
   ]
  },
  {
   "cell_type": "markdown",
   "metadata": {},
   "source": [
    "Пишем простой граббер для Telegram чатов на Python https://medium.com/swlh/build-a-telegram-bot-in-go-in-9-minutes-e06ad38acef1  https://proglib.io/p/pishem-prostoy-grabber-dlya-telegram-chatov-na-python-2019-11-06\n",
    "\n",
    "Spam Classifier in Python from scratch https://towardsdatascience.com/spam-classifier-in-python-from-scratch-27a98ddd8e73\n",
    "\n",
    "How to deploy ML models with Telegram Bots https://medium.com/analytics-vidhya/how-to-deploy-machine-learning-models-on-android-and-ios-with-telegram-bots-a6fb16922741"
   ]
  },
  {
   "cell_type": "code",
   "execution_count": 20,
   "metadata": {
    "ExecuteTime": {
     "end_time": "2021-08-25T19:44:01.936101Z",
     "start_time": "2021-08-25T19:44:01.912514Z"
    }
   },
   "outputs": [],
   "source": [
    "import pandas as pd\n",
    "# show all cell content\n",
    "pd.set_option('display.max_colwidth', None)\n",
    "# pd.set_option('max_colwidth', 110)\n",
    "pd.set_option('display.max_columns', 50)\n",
    "import numpy as np\n",
    "import re\n",
    "\n",
    "#from gensim.test.utils import common_texts\n",
    "#from gensim.corpora.dictionary import Dictionary\n",
    "\n",
    "#предобработка текстов\n",
    "import nltk\n",
    "#nltk.download('stopwords')\n",
    "from nltk.corpus import stopwords\n",
    "#from nltk.tokenize import word_tokenize\n",
    "\n",
    "#from razdel import tokenize # https://github.com/natasha/razdel\n",
    "#!pip install razdel\n",
    "\n",
    "import pymorphy2  # pip install pymorphy2\n",
    "\n",
    "from sklearn.linear_model import LogisticRegression\n",
    "from sklearn.model_selection import train_test_split\n",
    "from sklearn.metrics import f1_score, roc_auc_score, precision_score, recall_score, \\\n",
    "                            classification_report, precision_recall_curve, confusion_matrix\n",
    "from sklearn.base import BaseEstimator, TransformerMixin\n",
    "from sklearn.pipeline import Pipeline, FeatureUnion\n",
    "from sklearn.feature_extraction.text import TfidfVectorizer\n",
    "import itertools\n",
    "\n",
    "import matplotlib.pyplot as plt\n",
    "%matplotlib inline\n",
    "\n",
    "#import dill\n",
    "import os"
   ]
  },
  {
   "cell_type": "code",
   "execution_count": 85,
   "metadata": {
    "ExecuteTime": {
     "end_time": "2021-08-25T20:00:29.574963Z",
     "start_time": "2021-08-25T20:00:29.423444Z"
    },
    "scrolled": true
   },
   "outputs": [],
   "source": [
    "path = '../../data/spam_detection/'\n",
    "\n",
    "ham_raw = pd.read_json(os.path.join(path, 'ham.json'))\n",
    "spam_raw = pd.read_json(os.path.join(path, 'spam.json'))"
   ]
  },
  {
   "cell_type": "markdown",
   "metadata": {},
   "source": [
    "# Data processing"
   ]
  },
  {
   "cell_type": "markdown",
   "metadata": {},
   "source": [
    "## Обработка неспамных сообщений"
   ]
  },
  {
   "cell_type": "code",
   "execution_count": 22,
   "metadata": {
    "ExecuteTime": {
     "end_time": "2021-08-25T19:44:05.183384Z",
     "start_time": "2021-08-25T19:44:05.168203Z"
    }
   },
   "outputs": [
    {
     "data": {
      "text/html": [
       "<div>\n",
       "<style scoped>\n",
       "    .dataframe tbody tr th:only-of-type {\n",
       "        vertical-align: middle;\n",
       "    }\n",
       "\n",
       "    .dataframe tbody tr th {\n",
       "        vertical-align: top;\n",
       "    }\n",
       "\n",
       "    .dataframe thead th {\n",
       "        text-align: right;\n",
       "    }\n",
       "</style>\n",
       "<table border=\"1\" class=\"dataframe\">\n",
       "  <thead>\n",
       "    <tr style=\"text-align: right;\">\n",
       "      <th></th>\n",
       "      <th>name</th>\n",
       "      <th>type</th>\n",
       "      <th>id</th>\n",
       "      <th>messages</th>\n",
       "    </tr>\n",
       "  </thead>\n",
       "  <tbody>\n",
       "    <tr>\n",
       "      <th>20442</th>\n",
       "      <td>Новое Измайлово</td>\n",
       "      <td>public_supergroup</td>\n",
       "      <td>1077014744</td>\n",
       "      <td>{'id': 84724, 'type': 'message', 'date': '2021-08-24T21:09:27', 'from': 'Juriy', 'from_id': 'user229200647', 'reply_to_message_id': 84695, 'text': 'Готов на платной основе.)))'}</td>\n",
       "    </tr>\n",
       "    <tr>\n",
       "      <th>20443</th>\n",
       "      <td>Новое Измайлово</td>\n",
       "      <td>public_supergroup</td>\n",
       "      <td>1077014744</td>\n",
       "      <td>{'id': 84727, 'type': 'message', 'date': '2021-08-24T21:57:16', 'edited': '2021-08-24T21:57:23', 'from': 'Дмитрий', 'from_id': 'user219508084', 'reply_to_message_id': 84718, 'text': 'Если Дёмин Луг 6/5 то это у моря)))'}</td>\n",
       "    </tr>\n",
       "    <tr>\n",
       "      <th>20444</th>\n",
       "      <td>Новое Измайлово</td>\n",
       "      <td>public_supergroup</td>\n",
       "      <td>1077014744</td>\n",
       "      <td>{'id': 84728, 'type': 'message', 'date': '2021-08-24T22:10:24', 'from': 'Fidel', 'from_id': 'user429545993', 'reply_to_message_id': 84727, 'file': '(File not included. Change data exporting settings to download.)', 'thumbnail': '(File not included. Change data exporting settings to download.)', 'media_type': 'sticker', 'sticker_emoji': '😄', 'width': 512, 'height': 512, 'text': ''}</td>\n",
       "    </tr>\n",
       "  </tbody>\n",
       "</table>\n",
       "</div>"
      ],
      "text/plain": [
       "                  name               type          id  \\\n",
       "20442  Новое Измайлово  public_supergroup  1077014744   \n",
       "20443  Новое Измайлово  public_supergroup  1077014744   \n",
       "20444  Новое Измайлово  public_supergroup  1077014744   \n",
       "\n",
       "                                                                                                                                                                                                                                                                                                                                                                                              messages  \n",
       "20442                                                                                                                                                                                                                {'id': 84724, 'type': 'message', 'date': '2021-08-24T21:09:27', 'from': 'Juriy', 'from_id': 'user229200647', 'reply_to_message_id': 84695, 'text': 'Готов на платной основе.)))'}  \n",
       "20443                                                                                                                                                                     {'id': 84727, 'type': 'message', 'date': '2021-08-24T21:57:16', 'edited': '2021-08-24T21:57:23', 'from': 'Дмитрий', 'from_id': 'user219508084', 'reply_to_message_id': 84718, 'text': 'Если Дёмин Луг 6/5 то это у моря)))'}  \n",
       "20444  {'id': 84728, 'type': 'message', 'date': '2021-08-24T22:10:24', 'from': 'Fidel', 'from_id': 'user429545993', 'reply_to_message_id': 84727, 'file': '(File not included. Change data exporting settings to download.)', 'thumbnail': '(File not included. Change data exporting settings to download.)', 'media_type': 'sticker', 'sticker_emoji': '😄', 'width': 512, 'height': 512, 'text': ''}  "
      ]
     },
     "execution_count": 22,
     "metadata": {},
     "output_type": "execute_result"
    }
   ],
   "source": [
    "ham_raw.tail(3)"
   ]
  },
  {
   "cell_type": "code",
   "execution_count": 23,
   "metadata": {
    "ExecuteTime": {
     "end_time": "2021-08-25T19:44:09.057352Z",
     "start_time": "2021-08-25T19:44:08.770722Z"
    }
   },
   "outputs": [
    {
     "data": {
      "text/html": [
       "<div>\n",
       "<style scoped>\n",
       "    .dataframe tbody tr th:only-of-type {\n",
       "        vertical-align: middle;\n",
       "    }\n",
       "\n",
       "    .dataframe tbody tr th {\n",
       "        vertical-align: top;\n",
       "    }\n",
       "\n",
       "    .dataframe thead th {\n",
       "        text-align: right;\n",
       "    }\n",
       "</style>\n",
       "<table border=\"1\" class=\"dataframe\">\n",
       "  <thead>\n",
       "    <tr style=\"text-align: right;\">\n",
       "      <th></th>\n",
       "      <th>id</th>\n",
       "      <th>type</th>\n",
       "      <th>date</th>\n",
       "      <th>from</th>\n",
       "      <th>from_id</th>\n",
       "      <th>text</th>\n",
       "      <th>actor</th>\n",
       "      <th>actor_id</th>\n",
       "      <th>action</th>\n",
       "      <th>members</th>\n",
       "      <th>edited</th>\n",
       "      <th>forwarded_from</th>\n",
       "      <th>file</th>\n",
       "      <th>thumbnail</th>\n",
       "      <th>media_type</th>\n",
       "      <th>mime_type</th>\n",
       "      <th>duration_seconds</th>\n",
       "      <th>width</th>\n",
       "      <th>height</th>\n",
       "      <th>reply_to_message_id</th>\n",
       "      <th>photo</th>\n",
       "      <th>contact_information.first_name</th>\n",
       "      <th>contact_information.last_name</th>\n",
       "      <th>contact_information.phone_number</th>\n",
       "      <th>sticker_emoji</th>\n",
       "      <th>contact_vcard</th>\n",
       "      <th>location_information.latitude</th>\n",
       "      <th>location_information.longitude</th>\n",
       "      <th>via_bot</th>\n",
       "      <th>message_id</th>\n",
       "    </tr>\n",
       "  </thead>\n",
       "  <tbody>\n",
       "    <tr>\n",
       "      <th>0</th>\n",
       "      <td>58320</td>\n",
       "      <td>message</td>\n",
       "      <td>2020-07-07T01:21:52</td>\n",
       "      <td>Alexandr</td>\n",
       "      <td>user362421356</td>\n",
       "      <td>Че за возня опять? Возле верного</td>\n",
       "      <td>NaN</td>\n",
       "      <td>NaN</td>\n",
       "      <td>NaN</td>\n",
       "      <td>NaN</td>\n",
       "      <td>NaN</td>\n",
       "      <td>NaN</td>\n",
       "      <td>NaN</td>\n",
       "      <td>NaN</td>\n",
       "      <td>NaN</td>\n",
       "      <td>NaN</td>\n",
       "      <td>NaN</td>\n",
       "      <td>NaN</td>\n",
       "      <td>NaN</td>\n",
       "      <td>NaN</td>\n",
       "      <td>NaN</td>\n",
       "      <td>NaN</td>\n",
       "      <td>NaN</td>\n",
       "      <td>NaN</td>\n",
       "      <td>NaN</td>\n",
       "      <td>NaN</td>\n",
       "      <td>NaN</td>\n",
       "      <td>NaN</td>\n",
       "      <td>NaN</td>\n",
       "      <td>NaN</td>\n",
       "    </tr>\n",
       "    <tr>\n",
       "      <th>1</th>\n",
       "      <td>58321</td>\n",
       "      <td>service</td>\n",
       "      <td>2020-07-07T01:22:12</td>\n",
       "      <td>NaN</td>\n",
       "      <td>NaN</td>\n",
       "      <td></td>\n",
       "      <td>Ismail</td>\n",
       "      <td>user589798156</td>\n",
       "      <td>invite_members</td>\n",
       "      <td>[Ismail]</td>\n",
       "      <td>NaN</td>\n",
       "      <td>NaN</td>\n",
       "      <td>NaN</td>\n",
       "      <td>NaN</td>\n",
       "      <td>NaN</td>\n",
       "      <td>NaN</td>\n",
       "      <td>NaN</td>\n",
       "      <td>NaN</td>\n",
       "      <td>NaN</td>\n",
       "      <td>NaN</td>\n",
       "      <td>NaN</td>\n",
       "      <td>NaN</td>\n",
       "      <td>NaN</td>\n",
       "      <td>NaN</td>\n",
       "      <td>NaN</td>\n",
       "      <td>NaN</td>\n",
       "      <td>NaN</td>\n",
       "      <td>NaN</td>\n",
       "      <td>NaN</td>\n",
       "      <td>NaN</td>\n",
       "    </tr>\n",
       "    <tr>\n",
       "      <th>2</th>\n",
       "      <td>58322</td>\n",
       "      <td>message</td>\n",
       "      <td>2020-07-07T01:22:32</td>\n",
       "      <td>Lia</td>\n",
       "      <td>user587895366</td>\n",
       "      <td>Что то похожее на стрельбу было и сейчас три машины полицейских</td>\n",
       "      <td>NaN</td>\n",
       "      <td>NaN</td>\n",
       "      <td>NaN</td>\n",
       "      <td>NaN</td>\n",
       "      <td>NaN</td>\n",
       "      <td>NaN</td>\n",
       "      <td>NaN</td>\n",
       "      <td>NaN</td>\n",
       "      <td>NaN</td>\n",
       "      <td>NaN</td>\n",
       "      <td>NaN</td>\n",
       "      <td>NaN</td>\n",
       "      <td>NaN</td>\n",
       "      <td>NaN</td>\n",
       "      <td>NaN</td>\n",
       "      <td>NaN</td>\n",
       "      <td>NaN</td>\n",
       "      <td>NaN</td>\n",
       "      <td>NaN</td>\n",
       "      <td>NaN</td>\n",
       "      <td>NaN</td>\n",
       "      <td>NaN</td>\n",
       "      <td>NaN</td>\n",
       "      <td>NaN</td>\n",
       "    </tr>\n",
       "    <tr>\n",
       "      <th>3</th>\n",
       "      <td>58323</td>\n",
       "      <td>message</td>\n",
       "      <td>2020-07-07T01:22:47</td>\n",
       "      <td>Ismail</td>\n",
       "      <td>user589798156</td>\n",
       "      <td>А кто-то в курсе что за стрельба?</td>\n",
       "      <td>NaN</td>\n",
       "      <td>NaN</td>\n",
       "      <td>NaN</td>\n",
       "      <td>NaN</td>\n",
       "      <td>2020-07-07T01:23:13</td>\n",
       "      <td>NaN</td>\n",
       "      <td>NaN</td>\n",
       "      <td>NaN</td>\n",
       "      <td>NaN</td>\n",
       "      <td>NaN</td>\n",
       "      <td>NaN</td>\n",
       "      <td>NaN</td>\n",
       "      <td>NaN</td>\n",
       "      <td>NaN</td>\n",
       "      <td>NaN</td>\n",
       "      <td>NaN</td>\n",
       "      <td>NaN</td>\n",
       "      <td>NaN</td>\n",
       "      <td>NaN</td>\n",
       "      <td>NaN</td>\n",
       "      <td>NaN</td>\n",
       "      <td>NaN</td>\n",
       "      <td>NaN</td>\n",
       "      <td>NaN</td>\n",
       "    </tr>\n",
       "    <tr>\n",
       "      <th>4</th>\n",
       "      <td>58324</td>\n",
       "      <td>message</td>\n",
       "      <td>2020-07-07T01:23:32</td>\n",
       "      <td>Maria Gaurikh</td>\n",
       "      <td>user292667992</td>\n",
       "      <td>Предупредительный был, видимо , от ментов</td>\n",
       "      <td>NaN</td>\n",
       "      <td>NaN</td>\n",
       "      <td>NaN</td>\n",
       "      <td>NaN</td>\n",
       "      <td>NaN</td>\n",
       "      <td>NaN</td>\n",
       "      <td>NaN</td>\n",
       "      <td>NaN</td>\n",
       "      <td>NaN</td>\n",
       "      <td>NaN</td>\n",
       "      <td>NaN</td>\n",
       "      <td>NaN</td>\n",
       "      <td>NaN</td>\n",
       "      <td>NaN</td>\n",
       "      <td>NaN</td>\n",
       "      <td>NaN</td>\n",
       "      <td>NaN</td>\n",
       "      <td>NaN</td>\n",
       "      <td>NaN</td>\n",
       "      <td>NaN</td>\n",
       "      <td>NaN</td>\n",
       "      <td>NaN</td>\n",
       "      <td>NaN</td>\n",
       "      <td>NaN</td>\n",
       "    </tr>\n",
       "  </tbody>\n",
       "</table>\n",
       "</div>"
      ],
      "text/plain": [
       "      id     type                 date           from        from_id  \\\n",
       "0  58320  message  2020-07-07T01:21:52       Alexandr  user362421356   \n",
       "1  58321  service  2020-07-07T01:22:12            NaN            NaN   \n",
       "2  58322  message  2020-07-07T01:22:32            Lia  user587895366   \n",
       "3  58323  message  2020-07-07T01:22:47         Ismail  user589798156   \n",
       "4  58324  message  2020-07-07T01:23:32  Maria Gaurikh  user292667992   \n",
       "\n",
       "                                                              text   actor  \\\n",
       "0                                 Че за возня опять? Возле верного     NaN   \n",
       "1                                                                   Ismail   \n",
       "2  Что то похожее на стрельбу было и сейчас три машины полицейских     NaN   \n",
       "3                                А кто-то в курсе что за стрельба?     NaN   \n",
       "4                        Предупредительный был, видимо , от ментов     NaN   \n",
       "\n",
       "        actor_id          action   members               edited  \\\n",
       "0            NaN             NaN       NaN                  NaN   \n",
       "1  user589798156  invite_members  [Ismail]                  NaN   \n",
       "2            NaN             NaN       NaN                  NaN   \n",
       "3            NaN             NaN       NaN  2020-07-07T01:23:13   \n",
       "4            NaN             NaN       NaN                  NaN   \n",
       "\n",
       "  forwarded_from file thumbnail media_type mime_type  duration_seconds  width  \\\n",
       "0            NaN  NaN       NaN        NaN       NaN               NaN    NaN   \n",
       "1            NaN  NaN       NaN        NaN       NaN               NaN    NaN   \n",
       "2            NaN  NaN       NaN        NaN       NaN               NaN    NaN   \n",
       "3            NaN  NaN       NaN        NaN       NaN               NaN    NaN   \n",
       "4            NaN  NaN       NaN        NaN       NaN               NaN    NaN   \n",
       "\n",
       "   height  reply_to_message_id photo contact_information.first_name  \\\n",
       "0     NaN                  NaN   NaN                            NaN   \n",
       "1     NaN                  NaN   NaN                            NaN   \n",
       "2     NaN                  NaN   NaN                            NaN   \n",
       "3     NaN                  NaN   NaN                            NaN   \n",
       "4     NaN                  NaN   NaN                            NaN   \n",
       "\n",
       "  contact_information.last_name contact_information.phone_number  \\\n",
       "0                           NaN                              NaN   \n",
       "1                           NaN                              NaN   \n",
       "2                           NaN                              NaN   \n",
       "3                           NaN                              NaN   \n",
       "4                           NaN                              NaN   \n",
       "\n",
       "  sticker_emoji contact_vcard  location_information.latitude  \\\n",
       "0           NaN           NaN                            NaN   \n",
       "1           NaN           NaN                            NaN   \n",
       "2           NaN           NaN                            NaN   \n",
       "3           NaN           NaN                            NaN   \n",
       "4           NaN           NaN                            NaN   \n",
       "\n",
       "   location_information.longitude via_bot  message_id  \n",
       "0                             NaN     NaN         NaN  \n",
       "1                             NaN     NaN         NaN  \n",
       "2                             NaN     NaN         NaN  \n",
       "3                             NaN     NaN         NaN  \n",
       "4                             NaN     NaN         NaN  "
      ]
     },
     "execution_count": 23,
     "metadata": {},
     "output_type": "execute_result"
    }
   ],
   "source": [
    "ham = pd.json_normalize(ham_raw['messages'])\n",
    "ham.head(5)"
   ]
  },
  {
   "cell_type": "code",
   "execution_count": 24,
   "metadata": {
    "ExecuteTime": {
     "end_time": "2021-08-25T19:44:14.511743Z",
     "start_time": "2021-08-25T19:44:14.492535Z"
    }
   },
   "outputs": [],
   "source": [
    "# удалям строки сервисных сообщений (около 10-ти)\n",
    "ham = ham.drop(ham[ham['type']== 'service'].index)"
   ]
  },
  {
   "cell_type": "code",
   "execution_count": 25,
   "metadata": {
    "ExecuteTime": {
     "end_time": "2021-08-25T19:44:15.618130Z",
     "start_time": "2021-08-25T19:44:15.581758Z"
    },
    "scrolled": true
   },
   "outputs": [
    {
     "data": {
      "text/html": [
       "<div>\n",
       "<style scoped>\n",
       "    .dataframe tbody tr th:only-of-type {\n",
       "        vertical-align: middle;\n",
       "    }\n",
       "\n",
       "    .dataframe tbody tr th {\n",
       "        vertical-align: top;\n",
       "    }\n",
       "\n",
       "    .dataframe thead th {\n",
       "        text-align: right;\n",
       "    }\n",
       "</style>\n",
       "<table border=\"1\" class=\"dataframe\">\n",
       "  <thead>\n",
       "    <tr style=\"text-align: right;\">\n",
       "      <th></th>\n",
       "      <th>id</th>\n",
       "      <th>type</th>\n",
       "      <th>date</th>\n",
       "      <th>from</th>\n",
       "      <th>from_id</th>\n",
       "      <th>text</th>\n",
       "      <th>actor</th>\n",
       "      <th>actor_id</th>\n",
       "      <th>action</th>\n",
       "      <th>members</th>\n",
       "      <th>edited</th>\n",
       "      <th>forwarded_from</th>\n",
       "      <th>file</th>\n",
       "      <th>thumbnail</th>\n",
       "      <th>media_type</th>\n",
       "      <th>mime_type</th>\n",
       "      <th>duration_seconds</th>\n",
       "      <th>width</th>\n",
       "      <th>height</th>\n",
       "      <th>reply_to_message_id</th>\n",
       "      <th>photo</th>\n",
       "      <th>contact_information.first_name</th>\n",
       "      <th>contact_information.last_name</th>\n",
       "      <th>contact_information.phone_number</th>\n",
       "      <th>sticker_emoji</th>\n",
       "      <th>contact_vcard</th>\n",
       "      <th>location_information.latitude</th>\n",
       "      <th>location_information.longitude</th>\n",
       "      <th>via_bot</th>\n",
       "      <th>message_id</th>\n",
       "    </tr>\n",
       "  </thead>\n",
       "  <tbody>\n",
       "    <tr>\n",
       "      <th>0</th>\n",
       "      <td>58320</td>\n",
       "      <td>message</td>\n",
       "      <td>2020-07-07T01:21:52</td>\n",
       "      <td>Alexandr</td>\n",
       "      <td>user362421356</td>\n",
       "      <td>Че за возня опять? Возле верного</td>\n",
       "      <td>NaN</td>\n",
       "      <td>NaN</td>\n",
       "      <td>NaN</td>\n",
       "      <td>NaN</td>\n",
       "      <td>NaN</td>\n",
       "      <td>NaN</td>\n",
       "      <td>NaN</td>\n",
       "      <td>NaN</td>\n",
       "      <td>NaN</td>\n",
       "      <td>NaN</td>\n",
       "      <td>NaN</td>\n",
       "      <td>NaN</td>\n",
       "      <td>NaN</td>\n",
       "      <td>NaN</td>\n",
       "      <td>NaN</td>\n",
       "      <td>NaN</td>\n",
       "      <td>NaN</td>\n",
       "      <td>NaN</td>\n",
       "      <td>NaN</td>\n",
       "      <td>NaN</td>\n",
       "      <td>NaN</td>\n",
       "      <td>NaN</td>\n",
       "      <td>NaN</td>\n",
       "      <td>NaN</td>\n",
       "    </tr>\n",
       "    <tr>\n",
       "      <th>2</th>\n",
       "      <td>58322</td>\n",
       "      <td>message</td>\n",
       "      <td>2020-07-07T01:22:32</td>\n",
       "      <td>Lia</td>\n",
       "      <td>user587895366</td>\n",
       "      <td>Что то похожее на стрельбу было и сейчас три машины полицейских</td>\n",
       "      <td>NaN</td>\n",
       "      <td>NaN</td>\n",
       "      <td>NaN</td>\n",
       "      <td>NaN</td>\n",
       "      <td>NaN</td>\n",
       "      <td>NaN</td>\n",
       "      <td>NaN</td>\n",
       "      <td>NaN</td>\n",
       "      <td>NaN</td>\n",
       "      <td>NaN</td>\n",
       "      <td>NaN</td>\n",
       "      <td>NaN</td>\n",
       "      <td>NaN</td>\n",
       "      <td>NaN</td>\n",
       "      <td>NaN</td>\n",
       "      <td>NaN</td>\n",
       "      <td>NaN</td>\n",
       "      <td>NaN</td>\n",
       "      <td>NaN</td>\n",
       "      <td>NaN</td>\n",
       "      <td>NaN</td>\n",
       "      <td>NaN</td>\n",
       "      <td>NaN</td>\n",
       "      <td>NaN</td>\n",
       "    </tr>\n",
       "    <tr>\n",
       "      <th>3</th>\n",
       "      <td>58323</td>\n",
       "      <td>message</td>\n",
       "      <td>2020-07-07T01:22:47</td>\n",
       "      <td>Ismail</td>\n",
       "      <td>user589798156</td>\n",
       "      <td>А кто-то в курсе что за стрельба?</td>\n",
       "      <td>NaN</td>\n",
       "      <td>NaN</td>\n",
       "      <td>NaN</td>\n",
       "      <td>NaN</td>\n",
       "      <td>2020-07-07T01:23:13</td>\n",
       "      <td>NaN</td>\n",
       "      <td>NaN</td>\n",
       "      <td>NaN</td>\n",
       "      <td>NaN</td>\n",
       "      <td>NaN</td>\n",
       "      <td>NaN</td>\n",
       "      <td>NaN</td>\n",
       "      <td>NaN</td>\n",
       "      <td>NaN</td>\n",
       "      <td>NaN</td>\n",
       "      <td>NaN</td>\n",
       "      <td>NaN</td>\n",
       "      <td>NaN</td>\n",
       "      <td>NaN</td>\n",
       "      <td>NaN</td>\n",
       "      <td>NaN</td>\n",
       "      <td>NaN</td>\n",
       "      <td>NaN</td>\n",
       "      <td>NaN</td>\n",
       "    </tr>\n",
       "    <tr>\n",
       "      <th>4</th>\n",
       "      <td>58324</td>\n",
       "      <td>message</td>\n",
       "      <td>2020-07-07T01:23:32</td>\n",
       "      <td>Maria Gaurikh</td>\n",
       "      <td>user292667992</td>\n",
       "      <td>Предупредительный был, видимо , от ментов</td>\n",
       "      <td>NaN</td>\n",
       "      <td>NaN</td>\n",
       "      <td>NaN</td>\n",
       "      <td>NaN</td>\n",
       "      <td>NaN</td>\n",
       "      <td>NaN</td>\n",
       "      <td>NaN</td>\n",
       "      <td>NaN</td>\n",
       "      <td>NaN</td>\n",
       "      <td>NaN</td>\n",
       "      <td>NaN</td>\n",
       "      <td>NaN</td>\n",
       "      <td>NaN</td>\n",
       "      <td>NaN</td>\n",
       "      <td>NaN</td>\n",
       "      <td>NaN</td>\n",
       "      <td>NaN</td>\n",
       "      <td>NaN</td>\n",
       "      <td>NaN</td>\n",
       "      <td>NaN</td>\n",
       "      <td>NaN</td>\n",
       "      <td>NaN</td>\n",
       "      <td>NaN</td>\n",
       "      <td>NaN</td>\n",
       "    </tr>\n",
       "    <tr>\n",
       "      <th>6</th>\n",
       "      <td>58326</td>\n",
       "      <td>message</td>\n",
       "      <td>2020-07-07T01:36:05</td>\n",
       "      <td>Andrey Skalny</td>\n",
       "      <td>user473275267</td>\n",
       "      <td>Всё закончилось. Разборки были с поножовщиной</td>\n",
       "      <td>NaN</td>\n",
       "      <td>NaN</td>\n",
       "      <td>NaN</td>\n",
       "      <td>NaN</td>\n",
       "      <td>NaN</td>\n",
       "      <td>NaN</td>\n",
       "      <td>NaN</td>\n",
       "      <td>NaN</td>\n",
       "      <td>NaN</td>\n",
       "      <td>NaN</td>\n",
       "      <td>NaN</td>\n",
       "      <td>NaN</td>\n",
       "      <td>NaN</td>\n",
       "      <td>NaN</td>\n",
       "      <td>NaN</td>\n",
       "      <td>NaN</td>\n",
       "      <td>NaN</td>\n",
       "      <td>NaN</td>\n",
       "      <td>NaN</td>\n",
       "      <td>NaN</td>\n",
       "      <td>NaN</td>\n",
       "      <td>NaN</td>\n",
       "      <td>NaN</td>\n",
       "      <td>NaN</td>\n",
       "    </tr>\n",
       "  </tbody>\n",
       "</table>\n",
       "</div>"
      ],
      "text/plain": [
       "      id     type                 date           from        from_id  \\\n",
       "0  58320  message  2020-07-07T01:21:52       Alexandr  user362421356   \n",
       "2  58322  message  2020-07-07T01:22:32            Lia  user587895366   \n",
       "3  58323  message  2020-07-07T01:22:47         Ismail  user589798156   \n",
       "4  58324  message  2020-07-07T01:23:32  Maria Gaurikh  user292667992   \n",
       "6  58326  message  2020-07-07T01:36:05  Andrey Skalny  user473275267   \n",
       "\n",
       "                                                              text actor  \\\n",
       "0                                 Че за возня опять? Возле верного   NaN   \n",
       "2  Что то похожее на стрельбу было и сейчас три машины полицейских   NaN   \n",
       "3                                А кто-то в курсе что за стрельба?   NaN   \n",
       "4                        Предупредительный был, видимо , от ментов   NaN   \n",
       "6                    Всё закончилось. Разборки были с поножовщиной   NaN   \n",
       "\n",
       "  actor_id action members               edited forwarded_from file thumbnail  \\\n",
       "0      NaN    NaN     NaN                  NaN            NaN  NaN       NaN   \n",
       "2      NaN    NaN     NaN                  NaN            NaN  NaN       NaN   \n",
       "3      NaN    NaN     NaN  2020-07-07T01:23:13            NaN  NaN       NaN   \n",
       "4      NaN    NaN     NaN                  NaN            NaN  NaN       NaN   \n",
       "6      NaN    NaN     NaN                  NaN            NaN  NaN       NaN   \n",
       "\n",
       "  media_type mime_type  duration_seconds  width  height  reply_to_message_id  \\\n",
       "0        NaN       NaN               NaN    NaN     NaN                  NaN   \n",
       "2        NaN       NaN               NaN    NaN     NaN                  NaN   \n",
       "3        NaN       NaN               NaN    NaN     NaN                  NaN   \n",
       "4        NaN       NaN               NaN    NaN     NaN                  NaN   \n",
       "6        NaN       NaN               NaN    NaN     NaN                  NaN   \n",
       "\n",
       "  photo contact_information.first_name contact_information.last_name  \\\n",
       "0   NaN                            NaN                           NaN   \n",
       "2   NaN                            NaN                           NaN   \n",
       "3   NaN                            NaN                           NaN   \n",
       "4   NaN                            NaN                           NaN   \n",
       "6   NaN                            NaN                           NaN   \n",
       "\n",
       "  contact_information.phone_number sticker_emoji contact_vcard  \\\n",
       "0                              NaN           NaN           NaN   \n",
       "2                              NaN           NaN           NaN   \n",
       "3                              NaN           NaN           NaN   \n",
       "4                              NaN           NaN           NaN   \n",
       "6                              NaN           NaN           NaN   \n",
       "\n",
       "   location_information.latitude  location_information.longitude via_bot  \\\n",
       "0                            NaN                             NaN     NaN   \n",
       "2                            NaN                             NaN     NaN   \n",
       "3                            NaN                             NaN     NaN   \n",
       "4                            NaN                             NaN     NaN   \n",
       "6                            NaN                             NaN     NaN   \n",
       "\n",
       "   message_id  \n",
       "0         NaN  \n",
       "2         NaN  \n",
       "3         NaN  \n",
       "4         NaN  \n",
       "6         NaN  "
      ]
     },
     "execution_count": 25,
     "metadata": {},
     "output_type": "execute_result"
    }
   ],
   "source": [
    "ham.head(5)"
   ]
  },
  {
   "cell_type": "markdown",
   "metadata": {},
   "source": [
    "Список признаков"
   ]
  },
  {
   "cell_type": "code",
   "execution_count": 26,
   "metadata": {
    "ExecuteTime": {
     "end_time": "2021-08-25T19:44:18.491494Z",
     "start_time": "2021-08-25T19:44:18.479837Z"
    }
   },
   "outputs": [
    {
     "data": {
      "text/plain": [
       "Index(['id', 'type', 'date', 'from', 'from_id', 'text', 'actor', 'actor_id',\n",
       "       'action', 'members', 'edited', 'forwarded_from', 'file', 'thumbnail',\n",
       "       'media_type', 'mime_type', 'duration_seconds', 'width', 'height',\n",
       "       'reply_to_message_id', 'photo', 'contact_information.first_name',\n",
       "       'contact_information.last_name', 'contact_information.phone_number',\n",
       "       'sticker_emoji', 'contact_vcard', 'location_information.latitude',\n",
       "       'location_information.longitude', 'via_bot', 'message_id'],\n",
       "      dtype='object')"
      ]
     },
     "execution_count": 26,
     "metadata": {},
     "output_type": "execute_result"
    }
   ],
   "source": [
    "ham.columns"
   ]
  },
  {
   "cell_type": "markdown",
   "metadata": {},
   "source": [
    "Уникальные значения по некоторым признакам"
   ]
  },
  {
   "cell_type": "code",
   "execution_count": 27,
   "metadata": {
    "ExecuteTime": {
     "end_time": "2021-08-25T19:44:19.850484Z",
     "start_time": "2021-08-25T19:44:19.820954Z"
    }
   },
   "outputs": [
    {
     "name": "stdout",
     "output_type": "stream",
     "text": [
      "type ['message'] \n",
      "\n",
      "actor_id [nan] \n",
      "\n",
      "action [nan] \n",
      "\n",
      "file [nan '(File not included. Change data exporting settings to download.)'] \n",
      "\n",
      "thumbnail [nan '(File not included. Change data exporting settings to download.)'] \n",
      "\n",
      "media_type [nan 'video_file' 'sticker' 'voice_message' 'animation'] \n",
      "\n",
      "sticker_emoji [nan '👍' '🤔' '💩' '🥺' '😂' '🍳' '😄' '😴' '🤑' '🍿' '❗️' '🙄' '😳' '😯' '😭' '😞' '👌'\n",
      " '😱' '😌' '🤟' '🤦\\u200d♂️' '😤' '😔' '🤨' '😨' '😀' '😆' '😃' '👋' '👏' '😰' '😐' '😉'\n",
      " '🤷\\u200d♀️' '🇷🇸' '💬' '🤷\\u200d♂️' '🤢' '😡' '🤣' '😏' '😣' '😘' '😊' '🙂' '🤦' '😬'\n",
      " '⚒' '🙅\\u200d♂️' '😮' '😥' '🤩' '☺️'] \n",
      "\n",
      "photo [nan '(File not included. Change data exporting settings to download.)'] \n",
      "\n",
      "mime_type [nan 'video/mp4' 'image/jpeg' 'audio/ogg'\n",
      " 'application/vnd.openxmlformats-officedocument.wordprocessingml.document'\n",
      " 'image/png' 'application/pdf' 'image/gif' 'application/zip'\n",
      " 'application/octet-stream' 'video/quicktime'] \n",
      "\n",
      "via_bot [nan '@gif'] \n",
      "\n"
     ]
    }
   ],
   "source": [
    "all_cols = ['id', 'type', 'date', 'from', 'from_id', 'text', 'actor', 'actor_id',\n",
    "           'action', 'members', 'edited', 'forwarded_from', 'file', 'thumbnail',\n",
    "           'media_type', 'mime_type', 'duration_seconds', 'width', 'height',\n",
    "           'reply_to_message_id', 'photo', 'contact_information.first_name',\n",
    "           'contact_information.last_name', 'contact_information.phone_number',\n",
    "           'sticker_emoji', 'contact_vcard', 'location_information.latitude',\n",
    "           'location_information.longitude', 'via_bot', 'message_id']\n",
    "\n",
    "some_cols = ['type', 'actor_id', 'action', 'file', 'thumbnail', 'media_type',\n",
    "             'sticker_emoji', 'photo', 'mime_type', 'via_bot',\n",
    "            ]\n",
    "\n",
    "for col in some_cols:\n",
    "    print(col, ham[col].unique(), '\\n')"
   ]
  },
  {
   "cell_type": "code",
   "execution_count": 28,
   "metadata": {
    "ExecuteTime": {
     "end_time": "2021-08-25T19:44:21.663544Z",
     "start_time": "2021-08-25T19:44:21.648078Z"
    }
   },
   "outputs": [
    {
     "data": {
      "text/html": [
       "<div>\n",
       "<style scoped>\n",
       "    .dataframe tbody tr th:only-of-type {\n",
       "        vertical-align: middle;\n",
       "    }\n",
       "\n",
       "    .dataframe tbody tr th {\n",
       "        vertical-align: top;\n",
       "    }\n",
       "\n",
       "    .dataframe thead th {\n",
       "        text-align: right;\n",
       "    }\n",
       "</style>\n",
       "<table border=\"1\" class=\"dataframe\">\n",
       "  <thead>\n",
       "    <tr style=\"text-align: right;\">\n",
       "      <th></th>\n",
       "      <th>text</th>\n",
       "    </tr>\n",
       "  </thead>\n",
       "  <tbody>\n",
       "    <tr>\n",
       "      <th>0</th>\n",
       "      <td>Че за возня опять? Возле верного</td>\n",
       "    </tr>\n",
       "    <tr>\n",
       "      <th>2</th>\n",
       "      <td>Что то похожее на стрельбу было и сейчас три машины полицейских</td>\n",
       "    </tr>\n",
       "    <tr>\n",
       "      <th>3</th>\n",
       "      <td>А кто-то в курсе что за стрельба?</td>\n",
       "    </tr>\n",
       "    <tr>\n",
       "      <th>4</th>\n",
       "      <td>Предупредительный был, видимо , от ментов</td>\n",
       "    </tr>\n",
       "    <tr>\n",
       "      <th>6</th>\n",
       "      <td>Всё закончилось. Разборки были с поножовщиной</td>\n",
       "    </tr>\n",
       "    <tr>\n",
       "      <th>...</th>\n",
       "      <td>...</td>\n",
       "    </tr>\n",
       "    <tr>\n",
       "      <th>20440</th>\n",
       "      <td>на доброделе недавно голосование было о благоустройстве. вроде даже наш лесопарк победил 🤔</td>\n",
       "    </tr>\n",
       "    <tr>\n",
       "      <th>20441</th>\n",
       "      <td>Ну вот) значит будем скоро гулять по новому парку 👏🏻</td>\n",
       "    </tr>\n",
       "    <tr>\n",
       "      <th>20442</th>\n",
       "      <td>Готов на платной основе.)))</td>\n",
       "    </tr>\n",
       "    <tr>\n",
       "      <th>20443</th>\n",
       "      <td>Если Дёмин Луг 6/5 то это у моря)))</td>\n",
       "    </tr>\n",
       "    <tr>\n",
       "      <th>20444</th>\n",
       "      <td></td>\n",
       "    </tr>\n",
       "  </tbody>\n",
       "</table>\n",
       "<p>20438 rows × 1 columns</p>\n",
       "</div>"
      ],
      "text/plain": [
       "                                                                                             text\n",
       "0                                                                Че за возня опять? Возле верного\n",
       "2                                 Что то похожее на стрельбу было и сейчас три машины полицейских\n",
       "3                                                               А кто-то в курсе что за стрельба?\n",
       "4                                                       Предупредительный был, видимо , от ментов\n",
       "6                                                   Всё закончилось. Разборки были с поножовщиной\n",
       "...                                                                                           ...\n",
       "20440  на доброделе недавно голосование было о благоустройстве. вроде даже наш лесопарк победил 🤔\n",
       "20441                                        Ну вот) значит будем скоро гулять по новому парку 👏🏻\n",
       "20442                                                                 Готов на платной основе.)))\n",
       "20443                                                         Если Дёмин Луг 6/5 то это у моря)))\n",
       "20444                                                                                            \n",
       "\n",
       "[20438 rows x 1 columns]"
      ]
     },
     "execution_count": 28,
     "metadata": {},
     "output_type": "execute_result"
    }
   ],
   "source": [
    "ham = ham.drop(['id', 'type', 'date', 'from', 'from_id', 'actor', 'actor_id',\n",
    "                'action', 'members', 'edited', 'forwarded_from', 'file', 'thumbnail',\n",
    "                'media_type', 'mime_type', 'duration_seconds', 'width', 'height',\n",
    "                'reply_to_message_id', 'photo', 'contact_information.first_name',\n",
    "                'contact_information.last_name', 'contact_information.phone_number',\n",
    "                'sticker_emoji', 'contact_vcard', 'location_information.latitude',\n",
    "                'location_information.longitude', 'via_bot', 'message_id'], axis=1)\n",
    "ham"
   ]
  },
  {
   "cell_type": "code",
   "execution_count": 29,
   "metadata": {
    "ExecuteTime": {
     "end_time": "2021-08-25T19:44:25.952911Z",
     "start_time": "2021-08-25T19:44:25.937262Z"
    }
   },
   "outputs": [
    {
     "data": {
      "text/html": [
       "<div>\n",
       "<style scoped>\n",
       "    .dataframe tbody tr th:only-of-type {\n",
       "        vertical-align: middle;\n",
       "    }\n",
       "\n",
       "    .dataframe tbody tr th {\n",
       "        vertical-align: top;\n",
       "    }\n",
       "\n",
       "    .dataframe thead th {\n",
       "        text-align: right;\n",
       "    }\n",
       "</style>\n",
       "<table border=\"1\" class=\"dataframe\">\n",
       "  <thead>\n",
       "    <tr style=\"text-align: right;\">\n",
       "      <th></th>\n",
       "      <th>text</th>\n",
       "    </tr>\n",
       "  </thead>\n",
       "  <tbody>\n",
       "    <tr>\n",
       "      <th>20435</th>\n",
       "      <td>Пмж</td>\n",
       "    </tr>\n",
       "    <tr>\n",
       "      <th>20436</th>\n",
       "      <td>у моря надо брать )</td>\n",
       "    </tr>\n",
       "    <tr>\n",
       "      <th>20437</th>\n",
       "      <td>На море только отдыхать пока)</td>\n",
       "    </tr>\n",
       "    <tr>\n",
       "      <th>20438</th>\n",
       "      <td>В сухую погоду и в выходные вполне (только его гадят несознательные отдыхающие). А так чтобы вечером после работы погулять только по дворам, заставленный машинами</td>\n",
       "    </tr>\n",
       "    <tr>\n",
       "      <th>20439</th>\n",
       "      <td>Главное чтобы было с кем, а где можно думаю и придумать)) а парк может когда-то и обустроят</td>\n",
       "    </tr>\n",
       "    <tr>\n",
       "      <th>20440</th>\n",
       "      <td>на доброделе недавно голосование было о благоустройстве. вроде даже наш лесопарк победил 🤔</td>\n",
       "    </tr>\n",
       "    <tr>\n",
       "      <th>20441</th>\n",
       "      <td>Ну вот) значит будем скоро гулять по новому парку 👏🏻</td>\n",
       "    </tr>\n",
       "    <tr>\n",
       "      <th>20442</th>\n",
       "      <td>Готов на платной основе.)))</td>\n",
       "    </tr>\n",
       "    <tr>\n",
       "      <th>20443</th>\n",
       "      <td>Если Дёмин Луг 6/5 то это у моря)))</td>\n",
       "    </tr>\n",
       "    <tr>\n",
       "      <th>20444</th>\n",
       "      <td></td>\n",
       "    </tr>\n",
       "  </tbody>\n",
       "</table>\n",
       "</div>"
      ],
      "text/plain": [
       "                                                                                                                                                                     text\n",
       "20435                                                                                                                                                                 Пмж\n",
       "20436                                                                                                                                                 у моря надо брать )\n",
       "20437                                                                                                                                       На море только отдыхать пока)\n",
       "20438  В сухую погоду и в выходные вполне (только его гадят несознательные отдыхающие). А так чтобы вечером после работы погулять только по дворам, заставленный машинами\n",
       "20439                                                                         Главное чтобы было с кем, а где можно думаю и придумать)) а парк может когда-то и обустроят\n",
       "20440                                                                          на доброделе недавно голосование было о благоустройстве. вроде даже наш лесопарк победил 🤔\n",
       "20441                                                                                                                Ну вот) значит будем скоро гулять по новому парку 👏🏻\n",
       "20442                                                                                                                                         Готов на платной основе.)))\n",
       "20443                                                                                                                                 Если Дёмин Луг 6/5 то это у моря)))\n",
       "20444                                                                                                                                                                    "
      ]
     },
     "execution_count": 29,
     "metadata": {},
     "output_type": "execute_result"
    }
   ],
   "source": [
    "ham.tail(10)"
   ]
  },
  {
   "cell_type": "code",
   "execution_count": 30,
   "metadata": {
    "ExecuteTime": {
     "end_time": "2021-08-25T19:44:30.533245Z",
     "start_time": "2021-08-25T19:44:30.519281Z"
    },
    "scrolled": true
   },
   "outputs": [],
   "source": [
    "def clean_msg(msg):\n",
    "    if isinstance(msg, list):\n",
    "        list_len = len(msg) - 2\n",
    "        for pos, elem in enumerate(msg):\n",
    "            if isinstance(elem, dict) and pos ==  list_len:\n",
    "                for key, val in elem.items():\n",
    "                    if key == 'type' and val == 'hashtag':\n",
    "                        break\n",
    "                    if key == 'type' and val == 'bold':\n",
    "                        break\n",
    "                    if key == 'type' and val == 'mention_name':\n",
    "                        break\n",
    "                    if key == 'text':\n",
    "                        return val\n",
    "    if isinstance(msg, str):\n",
    "        return msg"
   ]
  },
  {
   "cell_type": "code",
   "execution_count": 31,
   "metadata": {
    "ExecuteTime": {
     "end_time": "2021-08-25T19:44:32.063165Z",
     "start_time": "2021-08-25T19:44:32.029915Z"
    }
   },
   "outputs": [
    {
     "data": {
      "text/plain": [
       "0                                                                   Че за возня опять? Возле верного\n",
       "1                                    Что то похожее на стрельбу было и сейчас три машины полицейских\n",
       "2                                                                  А кто-то в курсе что за стрельба?\n",
       "3                                                          Предупредительный был, видимо , от ментов\n",
       "4                                                      Всё закончилось. Разборки были с поножовщиной\n",
       "                                                    ...                                             \n",
       "18042    Главное чтобы было с кем, а где можно думаю и придумать)) а парк может когда-то и обустроят\n",
       "18043     на доброделе недавно голосование было о благоустройстве. вроде даже наш лесопарк победил 🤔\n",
       "18044                                           Ну вот) значит будем скоро гулять по новому парку 👏🏻\n",
       "18045                                                                    Готов на платной основе.)))\n",
       "18046                                                            Если Дёмин Луг 6/5 то это у моря)))\n",
       "Name: text, Length: 18047, dtype: object"
      ]
     },
     "execution_count": 31,
     "metadata": {},
     "output_type": "execute_result"
    }
   ],
   "source": [
    "# Извлечение из json текста, , замена '' на Nan, удаление строк (сообщений) без текста\n",
    "# обновление индекса после удаление строк (индекс теперь по порядку)\n",
    "ham = ham['text'].apply(clean_msg).replace('', np.nan).dropna().reset_index(drop=True)\n",
    "ham"
   ]
  },
  {
   "cell_type": "markdown",
   "metadata": {},
   "source": [
    "## Обработка сообщений со спамом"
   ]
  },
  {
   "cell_type": "code",
   "execution_count": 49,
   "metadata": {
    "ExecuteTime": {
     "end_time": "2021-08-25T19:50:09.359883Z",
     "start_time": "2021-08-25T19:50:09.321032Z"
    },
    "scrolled": false
   },
   "outputs": [
    {
     "data": {
      "text/html": [
       "<div>\n",
       "<style scoped>\n",
       "    .dataframe tbody tr th:only-of-type {\n",
       "        vertical-align: middle;\n",
       "    }\n",
       "\n",
       "    .dataframe tbody tr th {\n",
       "        vertical-align: top;\n",
       "    }\n",
       "\n",
       "    .dataframe thead th {\n",
       "        text-align: right;\n",
       "    }\n",
       "</style>\n",
       "<table border=\"1\" class=\"dataframe\">\n",
       "  <thead>\n",
       "    <tr style=\"text-align: right;\">\n",
       "      <th></th>\n",
       "      <th>name</th>\n",
       "      <th>type</th>\n",
       "      <th>id</th>\n",
       "      <th>messages</th>\n",
       "    </tr>\n",
       "  </thead>\n",
       "  <tbody>\n",
       "    <tr>\n",
       "      <th>0</th>\n",
       "      <td>Журнал НИ</td>\n",
       "      <td>private_channel</td>\n",
       "      <td>1212843637</td>\n",
       "      <td>{'id': 1, 'type': 'service', 'date': '2020-07-07T20:25:57', 'actor': 'Журнал НИ', 'actor_id': 'channel1212843637', 'action': 'create_channel', 'title': 'Журнал НИ', 'text': ''}</td>\n",
       "    </tr>\n",
       "    <tr>\n",
       "      <th>1</th>\n",
       "      <td>Журнал НИ</td>\n",
       "      <td>private_channel</td>\n",
       "      <td>1212843637</td>\n",
       "      <td>{'id': 4, 'type': 'message', 'date': '2020-07-07T20:27:15', 'from': 'Журнал НИ', 'from_id': 'channel1212843637', 'text': 'Канал успешно добавлен в журнал группы'}</td>\n",
       "    </tr>\n",
       "    <tr>\n",
       "      <th>2</th>\n",
       "      <td>Журнал НИ</td>\n",
       "      <td>private_channel</td>\n",
       "      <td>1212843637</td>\n",
       "      <td>{'id': 5, 'type': 'message', 'date': '2020-07-07T20:31:15', 'from': 'Журнал НИ', 'from_id': 'channel1212843637', 'text': ['🆔 ', {'type': 'hashtag', 'text': '#НовыйПользователь'}, ' ', {'type': 'hashtag', 'text': '#Вернулся'}, ' ', {'type': 'hashtag', 'text': '#newmember'}, '\n",
       "1714516c-2aca-441e-a28d-98600220d2a9\n",
       "\n",
       "Пользователь вернулся в чат, первая регистрация 7 июля 2020 г. 15:54:28 UTC)\n",
       "\n",
       "', {'type': 'bold', 'text': 'Группа:'}, ' ', {'type': 'code', 'text': 'Новое Измайлово'}, ' [', {'type': 'mention', 'text': '@new_izmailovo'}, '] [', {'type': 'hashtag', 'text': '#chat1001077014744'}, ']\n",
       "', {'type': 'bold', 'text': 'Инициатор:'}, ' ', {'type': 'code', 'text': 'Пчелка'}, ' [', {'type': 'mention_name', 'text': '518458040', 'user_id': 518458040}, '] [', {'type': 'hashtag', 'text': '#user518458040'}, ']\n",
       "Время: 7 июля 2020 г. 17:31:15 UTC']}</td>\n",
       "    </tr>\n",
       "    <tr>\n",
       "      <th>3</th>\n",
       "      <td>Журнал НИ</td>\n",
       "      <td>private_channel</td>\n",
       "      <td>1212843637</td>\n",
       "      <td>{'id': 6, 'type': 'message', 'date': '2020-07-07T20:34:59', 'from': 'Журнал НИ', 'from_id': 'channel1212843637', 'text': ['⚙️ ', {'type': 'hashtag', 'text': '#Настройки'}, ' Пользователь изменил настройки группы ', {'type': 'hashtag', 'text': '#cabinet'}, '\n",
       "7bacb66d-5767-46bb-818f-893724ff6b66\n",
       "\n",
       "Код восстановления: ', {'type': 'code', 'text': '108120.52CE26998559FC84117E31F9588521DAjz3e7CGahpz9ZNrFNaXDsJQUBwxrJG4zVAvNuHfadVKKR6906iiF6MgCrih37ZJVhDYwwzzr2eF7nY4VujGypsrvnsLK9o2PUjfYizKSEI9e4udYd4QUS0Hksb9dnCsR'}, '\n",
       "\n",
       "Измененные настройки:\n",
       "', {'type': 'italic', 'text': 'Текст приветствия когда человек присоединяется к чату'}, ': ', {'type': 'code', 'text': '[{\"pin\":false,\"text\":\"Добро пожаловать в чат Новое Измайлово!\\nОзнакомтесь с правилами telegra.ph/rules-ni-06-22\\nГруппа модерируется в автоматическом режиме ботами. Посты не соответствующие правилам удаляются автоматически.\\nНажмите кнопку \\\"Обязуюсь соблюдать!\\\" чтобы писать в чат👇🏻👇🏻👇🏻\",\"buttons\":[[{\"link\":\"https://telegra.ph/rules-ni-06-22\",\"text\":\"♻️Прочитать правила♻️\",\"type\":\"Link\"}]],\"send_after\":0,\"remove_after\":60,\"disable_notify\":false,\"disable_link_preview\":true}]'}, '\n",
       "\n",
       "\n",
       "', {'type': 'bold', 'text': 'Группа:'}, ' ', {'type': 'code', 'text': 'Новое Измайлово'}, ' [', {'type': 'mention', 'text': '@new_izmailovo'}, '] [', {'type': 'hashtag', 'text': '#chat1001077014744'}, ']\n",
       "', {'type': 'bold', 'text': 'Инициатор:'}, ' ', {'type': 'code', 'text': 'Sunlighter'}, ' [', {'type': 'mention', 'text': '@sunlighter'}, '] [', {'type': 'hashtag', 'text': '#user1177305831'}, ']\n",
       "Время: 7 июля 2020 г. 17:34:59 UTC']}</td>\n",
       "    </tr>\n",
       "    <tr>\n",
       "      <th>4</th>\n",
       "      <td>Журнал НИ</td>\n",
       "      <td>private_channel</td>\n",
       "      <td>1212843637</td>\n",
       "      <td>{'id': 7, 'type': 'message', 'date': '2020-07-07T20:35:36', 'from': 'Журнал НИ', 'from_id': 'channel1212843637', 'text': ['🆔 ', {'type': 'hashtag', 'text': '#НовыйПользователь'}, ' ', {'type': 'hashtag', 'text': '#Вернулся'}, ' ', {'type': 'hashtag', 'text': '#newmember'}, '\n",
       "f3edae57-e3fb-4882-9148-c9a0951d1075\n",
       "\n",
       "Пользователь вернулся в чат, первая регистрация 7 июля 2020 г. 14:19:01 UTC)\n",
       "\n",
       "', {'type': 'bold', 'text': 'Группа:'}, ' ', {'type': 'code', 'text': 'Новое Измайлово'}, ' [', {'type': 'mention', 'text': '@new_izmailovo'}, '] [', {'type': 'hashtag', 'text': '#chat1001077014744'}, ']\n",
       "', {'type': 'bold', 'text': 'Инициатор:'}, ' ', {'type': 'code', 'text': 'Alexander Kalinichenko'}, ' [', {'type': 'mention', 'text': '@alex_kalinichenko'}, '] [', {'type': 'hashtag', 'text': '#user202193293'}, ']\n",
       "Время: 7 июля 2020 г. 17:35:36 UTC']}</td>\n",
       "    </tr>\n",
       "  </tbody>\n",
       "</table>\n",
       "</div>"
      ],
      "text/plain": [
       "        name             type          id  \\\n",
       "0  Журнал НИ  private_channel  1212843637   \n",
       "1  Журнал НИ  private_channel  1212843637   \n",
       "2  Журнал НИ  private_channel  1212843637   \n",
       "3  Журнал НИ  private_channel  1212843637   \n",
       "4  Журнал НИ  private_channel  1212843637   \n",
       "\n",
       "                                                                                                                                                                                                                                                                                                                                                                                                                                                                                                                                                                                                                                                                                                                                                                                                                                                                                                                                                                                                                                                                                                                                                                                                                                                                                                                                                                                                                                                                                                                                                                                                                                             messages  \n",
       "0                                                                                                                                                                                                                                                                                                                                                                                                                                                                                                                                                                                                                                                                                                                                                                                                                                                                                                                                                                                                                                                                                                                                                                                                                                                                                                                                                                                                                                                                    {'id': 1, 'type': 'service', 'date': '2020-07-07T20:25:57', 'actor': 'Журнал НИ', 'actor_id': 'channel1212843637', 'action': 'create_channel', 'title': 'Журнал НИ', 'text': ''}  \n",
       "1                                                                                                                                                                                                                                                                                                                                                                                                                                                                                                                                                                                                                                                                                                                                                                                                                                                                                                                                                                                                                                                                                                                                                                                                                                                                                                                                                                                                                                                                                  {'id': 4, 'type': 'message', 'date': '2020-07-07T20:27:15', 'from': 'Журнал НИ', 'from_id': 'channel1212843637', 'text': 'Канал успешно добавлен в журнал группы'}  \n",
       "2                                                                                                                                                                                                                                                                                                                                                                                                                                                                                                                                                                                                                                                                                                                                                                   {'id': 5, 'type': 'message', 'date': '2020-07-07T20:31:15', 'from': 'Журнал НИ', 'from_id': 'channel1212843637', 'text': ['🆔 ', {'type': 'hashtag', 'text': '#НовыйПользователь'}, ' ', {'type': 'hashtag', 'text': '#Вернулся'}, ' ', {'type': 'hashtag', 'text': '#newmember'}, '\n",
       "1714516c-2aca-441e-a28d-98600220d2a9\n",
       "\n",
       "Пользователь вернулся в чат, первая регистрация 7 июля 2020 г. 15:54:28 UTC)\n",
       "\n",
       "', {'type': 'bold', 'text': 'Группа:'}, ' ', {'type': 'code', 'text': 'Новое Измайлово'}, ' [', {'type': 'mention', 'text': '@new_izmailovo'}, '] [', {'type': 'hashtag', 'text': '#chat1001077014744'}, ']\n",
       "', {'type': 'bold', 'text': 'Инициатор:'}, ' ', {'type': 'code', 'text': 'Пчелка'}, ' [', {'type': 'mention_name', 'text': '518458040', 'user_id': 518458040}, '] [', {'type': 'hashtag', 'text': '#user518458040'}, ']\n",
       "Время: 7 июля 2020 г. 17:31:15 UTC']}  \n",
       "3  {'id': 6, 'type': 'message', 'date': '2020-07-07T20:34:59', 'from': 'Журнал НИ', 'from_id': 'channel1212843637', 'text': ['⚙️ ', {'type': 'hashtag', 'text': '#Настройки'}, ' Пользователь изменил настройки группы ', {'type': 'hashtag', 'text': '#cabinet'}, '\n",
       "7bacb66d-5767-46bb-818f-893724ff6b66\n",
       "\n",
       "Код восстановления: ', {'type': 'code', 'text': '108120.52CE26998559FC84117E31F9588521DAjz3e7CGahpz9ZNrFNaXDsJQUBwxrJG4zVAvNuHfadVKKR6906iiF6MgCrih37ZJVhDYwwzzr2eF7nY4VujGypsrvnsLK9o2PUjfYizKSEI9e4udYd4QUS0Hksb9dnCsR'}, '\n",
       "\n",
       "Измененные настройки:\n",
       "', {'type': 'italic', 'text': 'Текст приветствия когда человек присоединяется к чату'}, ': ', {'type': 'code', 'text': '[{\"pin\":false,\"text\":\"Добро пожаловать в чат Новое Измайлово!\\nОзнакомтесь с правилами telegra.ph/rules-ni-06-22\\nГруппа модерируется в автоматическом режиме ботами. Посты не соответствующие правилам удаляются автоматически.\\nНажмите кнопку \\\"Обязуюсь соблюдать!\\\" чтобы писать в чат👇🏻👇🏻👇🏻\",\"buttons\":[[{\"link\":\"https://telegra.ph/rules-ni-06-22\",\"text\":\"♻️Прочитать правила♻️\",\"type\":\"Link\"}]],\"send_after\":0,\"remove_after\":60,\"disable_notify\":false,\"disable_link_preview\":true}]'}, '\n",
       "\n",
       "\n",
       "', {'type': 'bold', 'text': 'Группа:'}, ' ', {'type': 'code', 'text': 'Новое Измайлово'}, ' [', {'type': 'mention', 'text': '@new_izmailovo'}, '] [', {'type': 'hashtag', 'text': '#chat1001077014744'}, ']\n",
       "', {'type': 'bold', 'text': 'Инициатор:'}, ' ', {'type': 'code', 'text': 'Sunlighter'}, ' [', {'type': 'mention', 'text': '@sunlighter'}, '] [', {'type': 'hashtag', 'text': '#user1177305831'}, ']\n",
       "Время: 7 июля 2020 г. 17:34:59 UTC']}  \n",
       "4                                                                                                                                                                                                                                                                                                                                                                                                                                                                                                                                                                                                                                                                                                                                                                     {'id': 7, 'type': 'message', 'date': '2020-07-07T20:35:36', 'from': 'Журнал НИ', 'from_id': 'channel1212843637', 'text': ['🆔 ', {'type': 'hashtag', 'text': '#НовыйПользователь'}, ' ', {'type': 'hashtag', 'text': '#Вернулся'}, ' ', {'type': 'hashtag', 'text': '#newmember'}, '\n",
       "f3edae57-e3fb-4882-9148-c9a0951d1075\n",
       "\n",
       "Пользователь вернулся в чат, первая регистрация 7 июля 2020 г. 14:19:01 UTC)\n",
       "\n",
       "', {'type': 'bold', 'text': 'Группа:'}, ' ', {'type': 'code', 'text': 'Новое Измайлово'}, ' [', {'type': 'mention', 'text': '@new_izmailovo'}, '] [', {'type': 'hashtag', 'text': '#chat1001077014744'}, ']\n",
       "', {'type': 'bold', 'text': 'Инициатор:'}, ' ', {'type': 'code', 'text': 'Alexander Kalinichenko'}, ' [', {'type': 'mention', 'text': '@alex_kalinichenko'}, '] [', {'type': 'hashtag', 'text': '#user202193293'}, ']\n",
       "Время: 7 июля 2020 г. 17:35:36 UTC']}  "
      ]
     },
     "execution_count": 49,
     "metadata": {},
     "output_type": "execute_result"
    }
   ],
   "source": [
    "spam_raw.head(5)"
   ]
  },
  {
   "cell_type": "code",
   "execution_count": 50,
   "metadata": {
    "ExecuteTime": {
     "end_time": "2021-08-25T19:50:10.927644Z",
     "start_time": "2021-08-25T19:50:10.751657Z"
    }
   },
   "outputs": [
    {
     "data": {
      "text/html": [
       "<div>\n",
       "<style scoped>\n",
       "    .dataframe tbody tr th:only-of-type {\n",
       "        vertical-align: middle;\n",
       "    }\n",
       "\n",
       "    .dataframe tbody tr th {\n",
       "        vertical-align: top;\n",
       "    }\n",
       "\n",
       "    .dataframe thead th {\n",
       "        text-align: right;\n",
       "    }\n",
       "</style>\n",
       "<table border=\"1\" class=\"dataframe\">\n",
       "  <thead>\n",
       "    <tr style=\"text-align: right;\">\n",
       "      <th></th>\n",
       "      <th>id</th>\n",
       "      <th>type</th>\n",
       "      <th>date</th>\n",
       "      <th>actor</th>\n",
       "      <th>actor_id</th>\n",
       "      <th>action</th>\n",
       "      <th>title</th>\n",
       "      <th>text</th>\n",
       "      <th>from</th>\n",
       "      <th>from_id</th>\n",
       "    </tr>\n",
       "  </thead>\n",
       "  <tbody>\n",
       "    <tr>\n",
       "      <th>3093</th>\n",
       "      <td>3096</td>\n",
       "      <td>message</td>\n",
       "      <td>2021-08-24T13:25:44</td>\n",
       "      <td>NaN</td>\n",
       "      <td>NaN</td>\n",
       "      <td>NaN</td>\n",
       "      <td>NaN</td>\n",
       "      <td>[🆔 , {'type': 'hashtag', 'text': '#НовыйПользователь'}, \\n\\n, {'type': 'bold', 'text': 'Группа:'},  , {'type': 'code', 'text': 'Новое Измайлово'},  [, {'type': 'mention', 'text': '@new_izmailovo'}, ] [, {'type': 'hashtag', 'text': '#chat1001077014744'}, ]\\n, {'type': 'bold', 'text': 'Пользователь:'},  , {'type': 'code', 'text': 'Tanya'},  [, {'type': 'mention', 'text': '@lunaverrrr'}, ] [, {'type': 'hashtag', 'text': '#user504256170'}, ]\\nВремя: 24 августа 2021 г. 10:25:43 UTC]</td>\n",
       "      <td>Журнал НИ</td>\n",
       "      <td>channel1212843637</td>\n",
       "    </tr>\n",
       "    <tr>\n",
       "      <th>3094</th>\n",
       "      <td>3097</td>\n",
       "      <td>message</td>\n",
       "      <td>2021-08-24T13:57:26</td>\n",
       "      <td>NaN</td>\n",
       "      <td>NaN</td>\n",
       "      <td>NaN</td>\n",
       "      <td>NaN</td>\n",
       "      <td>[🆔 , {'type': 'hashtag', 'text': '#НовыйПользователь'}, \\n\\n, {'type': 'bold', 'text': 'Группа:'},  , {'type': 'code', 'text': 'Новое Измайлово'},  [, {'type': 'mention', 'text': '@new_izmailovo'}, ] [, {'type': 'hashtag', 'text': '#chat1001077014744'}, ]\\n, {'type': 'bold', 'text': 'Пользователь:'},  , {'type': 'code', 'text': 'Александр'},  [, {'type': 'mention_name', 'text': '1993449889', 'user_id': 1993449889}, ] [, {'type': 'hashtag', 'text': '#user1993449889'}, ]\\nВремя: 24 августа 2021 г. 10:57:26 UTC]</td>\n",
       "      <td>Журнал НИ</td>\n",
       "      <td>channel1212843637</td>\n",
       "    </tr>\n",
       "    <tr>\n",
       "      <th>3095</th>\n",
       "      <td>3098</td>\n",
       "      <td>message</td>\n",
       "      <td>2021-08-24T19:12:21</td>\n",
       "      <td>NaN</td>\n",
       "      <td>NaN</td>\n",
       "      <td>NaN</td>\n",
       "      <td>NaN</td>\n",
       "      <td>[🆔 , {'type': 'hashtag', 'text': '#НовыйПользователь'}, \\n\\n, {'type': 'bold', 'text': 'Группа:'},  , {'type': 'code', 'text': 'Новое Измайлово'},  [, {'type': 'mention', 'text': '@new_izmailovo'}, ] [, {'type': 'hashtag', 'text': '#chat1001077014744'}, ]\\n, {'type': 'bold', 'text': 'Пользователь:'},  , {'type': 'code', 'text': 'Татьяна'},  [, {'type': 'mention', 'text': '@Tatiana_Belinskaya'}, ] [, {'type': 'hashtag', 'text': '#user1452602842'}, ]\\nВремя: 24 августа 2021 г. 16:12:21 UTC]</td>\n",
       "      <td>Журнал НИ</td>\n",
       "      <td>channel1212843637</td>\n",
       "    </tr>\n",
       "    <tr>\n",
       "      <th>3096</th>\n",
       "      <td>3099</td>\n",
       "      <td>message</td>\n",
       "      <td>2021-08-24T19:12:25</td>\n",
       "      <td>NaN</td>\n",
       "      <td>NaN</td>\n",
       "      <td>NaN</td>\n",
       "      <td>NaN</td>\n",
       "      <td>[✅ Пользователь прошедший проверку разблокирован\\n\\n, {'type': 'bold', 'text': 'Группа:'},  , {'type': 'code', 'text': 'Новое Измайлово'},  [, {'type': 'mention', 'text': '@new_izmailovo'}, ] [, {'type': 'hashtag', 'text': '#chat1001077014744'}, ]\\n, {'type': 'bold', 'text': 'Инициатор:'},  , {'type': 'code', 'text': 'Татьяна'},  [, {'type': 'mention', 'text': '@Tatiana_Belinskaya'}, ] [, {'type': 'hashtag', 'text': '#user1452602842'}, ]\\nВремя: 24 августа 2021 г. 16:12:25 UTC]</td>\n",
       "      <td>Журнал НИ</td>\n",
       "      <td>channel1212843637</td>\n",
       "    </tr>\n",
       "    <tr>\n",
       "      <th>3097</th>\n",
       "      <td>3100</td>\n",
       "      <td>message</td>\n",
       "      <td>2021-08-24T21:27:48</td>\n",
       "      <td>NaN</td>\n",
       "      <td>NaN</td>\n",
       "      <td>NaN</td>\n",
       "      <td>NaN</td>\n",
       "      <td>[🆔 , {'type': 'hashtag', 'text': '#НовыйПользователь'}, \\n\\n, {'type': 'bold', 'text': 'Группа:'},  , {'type': 'code', 'text': 'Новое Измайлово'},  [, {'type': 'mention', 'text': '@new_izmailovo'}, ] [, {'type': 'hashtag', 'text': '#chat1001077014744'}, ]\\n, {'type': 'bold', 'text': 'Пользователь:'},  , {'type': 'code', 'text': 'мурод'},  [, {'type': 'mention_name', 'text': '1944742500', 'user_id': 1944742500}, ] [, {'type': 'hashtag', 'text': '#user1944742500'}, ]\\nВремя: 24 августа 2021 г. 18:27:48 UTC]</td>\n",
       "      <td>Журнал НИ</td>\n",
       "      <td>channel1212843637</td>\n",
       "    </tr>\n",
       "  </tbody>\n",
       "</table>\n",
       "</div>"
      ],
      "text/plain": [
       "        id     type                 date actor actor_id action title  \\\n",
       "3093  3096  message  2021-08-24T13:25:44   NaN      NaN    NaN   NaN   \n",
       "3094  3097  message  2021-08-24T13:57:26   NaN      NaN    NaN   NaN   \n",
       "3095  3098  message  2021-08-24T19:12:21   NaN      NaN    NaN   NaN   \n",
       "3096  3099  message  2021-08-24T19:12:25   NaN      NaN    NaN   NaN   \n",
       "3097  3100  message  2021-08-24T21:27:48   NaN      NaN    NaN   NaN   \n",
       "\n",
       "                                                                                                                                                                                                                                                                                                                                                                                                                                                                                                                                    text  \\\n",
       "3093                                  [🆔 , {'type': 'hashtag', 'text': '#НовыйПользователь'}, \\n\\n, {'type': 'bold', 'text': 'Группа:'},  , {'type': 'code', 'text': 'Новое Измайлово'},  [, {'type': 'mention', 'text': '@new_izmailovo'}, ] [, {'type': 'hashtag', 'text': '#chat1001077014744'}, ]\\n, {'type': 'bold', 'text': 'Пользователь:'},  , {'type': 'code', 'text': 'Tanya'},  [, {'type': 'mention', 'text': '@lunaverrrr'}, ] [, {'type': 'hashtag', 'text': '#user504256170'}, ]\\nВремя: 24 августа 2021 г. 10:25:43 UTC]   \n",
       "3094  [🆔 , {'type': 'hashtag', 'text': '#НовыйПользователь'}, \\n\\n, {'type': 'bold', 'text': 'Группа:'},  , {'type': 'code', 'text': 'Новое Измайлово'},  [, {'type': 'mention', 'text': '@new_izmailovo'}, ] [, {'type': 'hashtag', 'text': '#chat1001077014744'}, ]\\n, {'type': 'bold', 'text': 'Пользователь:'},  , {'type': 'code', 'text': 'Александр'},  [, {'type': 'mention_name', 'text': '1993449889', 'user_id': 1993449889}, ] [, {'type': 'hashtag', 'text': '#user1993449889'}, ]\\nВремя: 24 августа 2021 г. 10:57:26 UTC]   \n",
       "3095                       [🆔 , {'type': 'hashtag', 'text': '#НовыйПользователь'}, \\n\\n, {'type': 'bold', 'text': 'Группа:'},  , {'type': 'code', 'text': 'Новое Измайлово'},  [, {'type': 'mention', 'text': '@new_izmailovo'}, ] [, {'type': 'hashtag', 'text': '#chat1001077014744'}, ]\\n, {'type': 'bold', 'text': 'Пользователь:'},  , {'type': 'code', 'text': 'Татьяна'},  [, {'type': 'mention', 'text': '@Tatiana_Belinskaya'}, ] [, {'type': 'hashtag', 'text': '#user1452602842'}, ]\\nВремя: 24 августа 2021 г. 16:12:21 UTC]   \n",
       "3096                                  [✅ Пользователь прошедший проверку разблокирован\\n\\n, {'type': 'bold', 'text': 'Группа:'},  , {'type': 'code', 'text': 'Новое Измайлово'},  [, {'type': 'mention', 'text': '@new_izmailovo'}, ] [, {'type': 'hashtag', 'text': '#chat1001077014744'}, ]\\n, {'type': 'bold', 'text': 'Инициатор:'},  , {'type': 'code', 'text': 'Татьяна'},  [, {'type': 'mention', 'text': '@Tatiana_Belinskaya'}, ] [, {'type': 'hashtag', 'text': '#user1452602842'}, ]\\nВремя: 24 августа 2021 г. 16:12:25 UTC]   \n",
       "3097      [🆔 , {'type': 'hashtag', 'text': '#НовыйПользователь'}, \\n\\n, {'type': 'bold', 'text': 'Группа:'},  , {'type': 'code', 'text': 'Новое Измайлово'},  [, {'type': 'mention', 'text': '@new_izmailovo'}, ] [, {'type': 'hashtag', 'text': '#chat1001077014744'}, ]\\n, {'type': 'bold', 'text': 'Пользователь:'},  , {'type': 'code', 'text': 'мурод'},  [, {'type': 'mention_name', 'text': '1944742500', 'user_id': 1944742500}, ] [, {'type': 'hashtag', 'text': '#user1944742500'}, ]\\nВремя: 24 августа 2021 г. 18:27:48 UTC]   \n",
       "\n",
       "           from            from_id  \n",
       "3093  Журнал НИ  channel1212843637  \n",
       "3094  Журнал НИ  channel1212843637  \n",
       "3095  Журнал НИ  channel1212843637  \n",
       "3096  Журнал НИ  channel1212843637  \n",
       "3097  Журнал НИ  channel1212843637  "
      ]
     },
     "execution_count": 50,
     "metadata": {},
     "output_type": "execute_result"
    }
   ],
   "source": [
    "spam = pd.json_normalize(spam_raw['messages'])\n",
    "spam.tail(5)"
   ]
  },
  {
   "cell_type": "code",
   "execution_count": 51,
   "metadata": {
    "ExecuteTime": {
     "end_time": "2021-08-25T19:50:12.514411Z",
     "start_time": "2021-08-25T19:50:12.501411Z"
    }
   },
   "outputs": [
    {
     "data": {
      "text/plain": [
       "Index(['id', 'type', 'date', 'actor', 'actor_id', 'action', 'title', 'text',\n",
       "       'from', 'from_id'],\n",
       "      dtype='object')"
      ]
     },
     "execution_count": 51,
     "metadata": {},
     "output_type": "execute_result"
    }
   ],
   "source": [
    "spam.columns"
   ]
  },
  {
   "cell_type": "code",
   "execution_count": 52,
   "metadata": {
    "ExecuteTime": {
     "end_time": "2021-08-25T19:50:13.980568Z",
     "start_time": "2021-08-25T19:50:13.966096Z"
    }
   },
   "outputs": [
    {
     "name": "stdout",
     "output_type": "stream",
     "text": [
      "type ['service' 'message']\n",
      "actor ['Журнал НИ' nan]\n",
      "actor_id ['channel1212843637' nan]\n",
      "action ['create_channel' nan]\n",
      "title ['Журнал НИ' nan]\n",
      "from [nan 'Журнал НИ']\n",
      "from_id [nan 'channel1212843637']\n"
     ]
    }
   ],
   "source": [
    "for col in ['type', 'actor', 'actor_id', 'action', 'title', 'from', 'from_id']:\n",
    "    print(col, spam[col].unique())"
   ]
  },
  {
   "cell_type": "code",
   "execution_count": 53,
   "metadata": {
    "ExecuteTime": {
     "end_time": "2021-08-25T19:50:14.836785Z",
     "start_time": "2021-08-25T19:50:14.815803Z"
    },
    "scrolled": false
   },
   "outputs": [
    {
     "data": {
      "text/plain": [
       "3093                                    [🆔 , {'type': 'hashtag', 'text': '#НовыйПользователь'}, \\n\\n, {'type': 'bold', 'text': 'Группа:'},  , {'type': 'code', 'text': 'Новое Измайлово'},  [, {'type': 'mention', 'text': '@new_izmailovo'}, ] [, {'type': 'hashtag', 'text': '#chat1001077014744'}, ]\\n, {'type': 'bold', 'text': 'Пользователь:'},  , {'type': 'code', 'text': 'Tanya'},  [, {'type': 'mention', 'text': '@lunaverrrr'}, ] [, {'type': 'hashtag', 'text': '#user504256170'}, ]\\nВремя: 24 августа 2021 г. 10:25:43 UTC]\n",
       "3094    [🆔 , {'type': 'hashtag', 'text': '#НовыйПользователь'}, \\n\\n, {'type': 'bold', 'text': 'Группа:'},  , {'type': 'code', 'text': 'Новое Измайлово'},  [, {'type': 'mention', 'text': '@new_izmailovo'}, ] [, {'type': 'hashtag', 'text': '#chat1001077014744'}, ]\\n, {'type': 'bold', 'text': 'Пользователь:'},  , {'type': 'code', 'text': 'Александр'},  [, {'type': 'mention_name', 'text': '1993449889', 'user_id': 1993449889}, ] [, {'type': 'hashtag', 'text': '#user1993449889'}, ]\\nВремя: 24 августа 2021 г. 10:57:26 UTC]\n",
       "3095                         [🆔 , {'type': 'hashtag', 'text': '#НовыйПользователь'}, \\n\\n, {'type': 'bold', 'text': 'Группа:'},  , {'type': 'code', 'text': 'Новое Измайлово'},  [, {'type': 'mention', 'text': '@new_izmailovo'}, ] [, {'type': 'hashtag', 'text': '#chat1001077014744'}, ]\\n, {'type': 'bold', 'text': 'Пользователь:'},  , {'type': 'code', 'text': 'Татьяна'},  [, {'type': 'mention', 'text': '@Tatiana_Belinskaya'}, ] [, {'type': 'hashtag', 'text': '#user1452602842'}, ]\\nВремя: 24 августа 2021 г. 16:12:21 UTC]\n",
       "3096                                    [✅ Пользователь прошедший проверку разблокирован\\n\\n, {'type': 'bold', 'text': 'Группа:'},  , {'type': 'code', 'text': 'Новое Измайлово'},  [, {'type': 'mention', 'text': '@new_izmailovo'}, ] [, {'type': 'hashtag', 'text': '#chat1001077014744'}, ]\\n, {'type': 'bold', 'text': 'Инициатор:'},  , {'type': 'code', 'text': 'Татьяна'},  [, {'type': 'mention', 'text': '@Tatiana_Belinskaya'}, ] [, {'type': 'hashtag', 'text': '#user1452602842'}, ]\\nВремя: 24 августа 2021 г. 16:12:25 UTC]\n",
       "3097        [🆔 , {'type': 'hashtag', 'text': '#НовыйПользователь'}, \\n\\n, {'type': 'bold', 'text': 'Группа:'},  , {'type': 'code', 'text': 'Новое Измайлово'},  [, {'type': 'mention', 'text': '@new_izmailovo'}, ] [, {'type': 'hashtag', 'text': '#chat1001077014744'}, ]\\n, {'type': 'bold', 'text': 'Пользователь:'},  , {'type': 'code', 'text': 'мурод'},  [, {'type': 'mention_name', 'text': '1944742500', 'user_id': 1944742500}, ] [, {'type': 'hashtag', 'text': '#user1944742500'}, ]\\nВремя: 24 августа 2021 г. 18:27:48 UTC]\n",
       "Name: text, dtype: object"
      ]
     },
     "execution_count": 53,
     "metadata": {},
     "output_type": "execute_result"
    }
   ],
   "source": [
    "spam = spam['text']\n",
    "spam.tail(5)"
   ]
  },
  {
   "cell_type": "code",
   "execution_count": 54,
   "metadata": {
    "ExecuteTime": {
     "end_time": "2021-08-25T19:50:18.335968Z",
     "start_time": "2021-08-25T19:50:18.326952Z"
    },
    "scrolled": false
   },
   "outputs": [
    {
     "data": {
      "text/plain": [
       "['🆘 Пользователь наказан командой mute\\n7e0afb20-cfa8-41c9-ba41-5113094328fc\\n\\n',\n",
       " {'type': 'code', 'text': 'Sunlighter'},\n",
       " ' [',\n",
       " {'type': 'mention', 'text': '@sunlighter'},\n",
       " '] [',\n",
       " {'type': 'hashtag', 'text': '#user1177305831'},\n",
       " '] ',\n",
       " {'type': 'italic', 'text': 'ограничил возможность писать сообщения'},\n",
       " ' ',\n",
       " {'type': 'code', 'text': 'Артур'},\n",
       " ' [',\n",
       " {'type': 'mention_name', 'text': '1510465722', 'user_id': 1510465722},\n",
       " '] [',\n",
       " {'type': 'hashtag', 'text': '#user1510465722'},\n",
       " '] на 24 часов\\n\\n\\n\\n',\n",
       " {'type': 'bold', 'text': 'Группа:'},\n",
       " ' ',\n",
       " {'type': 'code', 'text': 'Новое Измайлово'},\n",
       " ' [',\n",
       " {'type': 'mention', 'text': '@new_izmailovo'},\n",
       " '] [',\n",
       " {'type': 'hashtag', 'text': '#chat1001077014744'},\n",
       " ']\\n',\n",
       " {'type': 'bold', 'text': 'Инициатор:'},\n",
       " ' ',\n",
       " {'type': 'code', 'text': 'Sunlighter'},\n",
       " ' [',\n",
       " {'type': 'mention', 'text': '@sunlighter'},\n",
       " '] [',\n",
       " {'type': 'hashtag', 'text': '#user1177305831'},\n",
       " ']\\n',\n",
       " {'type': 'bold', 'text': 'Пользователь:'},\n",
       " ' ',\n",
       " {'type': 'code', 'text': 'Артур'},\n",
       " ' [',\n",
       " {'type': 'mention_name', 'text': '1510465722', 'user_id': 1510465722},\n",
       " '] [',\n",
       " {'type': 'hashtag', 'text': '#user1510465722'},\n",
       " ']\\n',\n",
       " {'type': 'bold', 'text': 'Наказание:'},\n",
       " ' ',\n",
       " {'type': 'bold', 'text': 'Запрещено писать'},\n",
       " '\\nВремя: 19 марта 2021 г. 17:11:30 UTC\\n\\n',\n",
       " {'type': 'bold', 'text': 'Сообщение пользователя:'},\n",
       " ' ',\n",
       " {'type': 'code', 'text': 'Артур'},\n",
       " ' [',\n",
       " {'type': 'mention_name', 'text': '1510465722', 'user_id': 1510465722},\n",
       " '] [',\n",
       " {'type': 'hashtag', 'text': '#user1510465722'},\n",
       " ']\\n\\n',\n",
       " {'type': 'code',\n",
       "  'text': 'Добрый день, рады представить Вам тематический чат для Дачников, здесь мы обмениваемся советами по строительству, садоводству и т.д.\\n\\nhttps://t.me/dacha_pro'},\n",
       " '']"
      ]
     },
     "execution_count": 54,
     "metadata": {},
     "output_type": "execute_result"
    }
   ],
   "source": [
    "spam.iloc[2007]"
   ]
  },
  {
   "cell_type": "code",
   "execution_count": 55,
   "metadata": {
    "ExecuteTime": {
     "end_time": "2021-08-25T19:50:20.915306Z",
     "start_time": "2021-08-25T19:50:20.903333Z"
    },
    "scrolled": true
   },
   "outputs": [
    {
     "data": {
      "text/plain": [
       "'Добрый день, рады представить Вам тематический чат для Дачников, здесь мы обмениваемся советами по строительству, садоводству и т.д.\\n\\nhttps://t.me/dacha_pro'"
      ]
     },
     "execution_count": 55,
     "metadata": {},
     "output_type": "execute_result"
    }
   ],
   "source": [
    "clean_msg(spam.iloc[2007])"
   ]
  },
  {
   "cell_type": "code",
   "execution_count": 56,
   "metadata": {
    "ExecuteTime": {
     "end_time": "2021-08-25T19:50:22.301131Z",
     "start_time": "2021-08-25T19:50:22.273547Z"
    },
    "scrolled": true
   },
   "outputs": [
    {
     "data": {
      "text/plain": [
       "0                                           \n",
       "1     Канал успешно добавлен в журнал группы\n",
       "2                                       None\n",
       "3                                       None\n",
       "4                                       None\n",
       "5                                       None\n",
       "6                                       None\n",
       "7                                       None\n",
       "8                                       None\n",
       "9                                       None\n",
       "10                                      None\n",
       "11            Охуенно надежный дом Балашихе😳\n",
       "12                                      None\n",
       "13                                      None\n",
       "14                                      None\n",
       "Name: text, dtype: object"
      ]
     },
     "execution_count": 56,
     "metadata": {},
     "output_type": "execute_result"
    }
   ],
   "source": [
    "spam = spam.apply(clean_msg)\n",
    "spam.head(15)"
   ]
  },
  {
   "cell_type": "code",
   "execution_count": 57,
   "metadata": {
    "ExecuteTime": {
     "end_time": "2021-08-25T19:50:23.782695Z",
     "start_time": "2021-08-25T19:50:23.768015Z"
    },
    "scrolled": true
   },
   "outputs": [],
   "source": [
    "# извлечение из json текста, удаление строк (сообщений) без текста,\n",
    "# обновление индекса после удаление строк (индекс теперь по порядку)\n",
    "spam = spam.apply(clean_msg).dropna().reset_index(drop=True)"
   ]
  },
  {
   "cell_type": "code",
   "execution_count": 58,
   "metadata": {
    "ExecuteTime": {
     "end_time": "2021-08-25T19:50:24.795946Z",
     "start_time": "2021-08-25T19:50:24.784951Z"
    },
    "scrolled": false
   },
   "outputs": [
    {
     "data": {
      "text/plain": [
       "0                                                                                                                                                                                                                                                                                                                                                                                                                                                                                                                                                                                                                                                                                                                                                                         \n",
       "1                                                                                                                                                                                                                                                                                                                                                                                                                                                                                                                                                                                                                                                                                                                                   Канал успешно добавлен в журнал группы\n",
       "2                                                                                                                                                                                                                                                                                                                                                                                                                                                                                                                                                                                                                                                                                                                                           Охуенно надежный дом Балашихе😳\n",
       "3                                                                                                                                                                                                                                                                                                                                                                                                                                                                                                                                                                                                                                                                               🪓🪓🪓🪓🪓🪓🪓\\n\\nЧитайте ответ по строительству!\\n\\n\\nhttps://dobrodel.mosreg.ru//claims/4154945\n",
       "4                                                                                                                                                                                                                                                                                                                                                                                                                                                                                                                                                                                                                                                                                                             это же бандиты:\\nhttps://www.youtube.com/watch?v=ygol2LCWnHs\n",
       "                                                                                                                                                                                                                                                                                                                                                                                      ...                                                                                                                                                                                                                                                                                                                                                                                 \n",
       "341                                                                                                                                                                                                                                                                                                                                                                                                                                                                                                                                                                                                              Всем привет, никто не желает учить китайский язык? Я репетиторствую китайским  с 2016 года, живу на улице Демин Луг, если есть вопросы и желание пишите )\n",
       "342                                                                                                                                                                                                                                         Уважаемые родители ❗️❗️❗️\\nХочу предложить Вам услуги няни👩&zwj;👧&zwj;👦\\n\\nСобираю группу деток (2-5 детей) для присмотра после садика (с19:00 до 22-23:00) у себя дома. \\nВ квартире есть условия для свободной игры, игрушки, горшок, обеспечу вкусным ужином, при необходимости купаю.\\n\\nСама няня с опытом работы, 🤗могу дать номера телефонов родителей с детками которых ранее присматривала чтоб созвонились узнали обо мне👍\\n\\n✅Считаю огромным плюсом для родителей то что оплата всего лишь 300 рублей ‼️за вечер 👌\n",
       "343                                                                                                                                                                                                                                                                                                                                                                                                                                                                                                                                                                                                                                                                        Добрый вечер,могу вам помочь с селективной парфюмерией!\\nСама занимаюсь,исключительно оригинал!\n",
       "344                                                                                                                                                                                                                                                                                                                                                                                                                                                                                                                                                                                                                                        Здравствуйте, есть один билет на концерт Сергея Пенкина, завтра в Зелёном Театре, 2000 руб \\nНужен сертификат о вакцине или пцр\n",
       "345    ⚡️Производим яркие и стильные перегородки в стиле Loft\\n \\nВиды\\n- глухие \\n- с распашными дверями\\n- с раздвижными дверями\\n- книжки\\n- гормошки \\n\\n🔥Мы  20 лет на рынке архитектурно строительных решений из закалённого стекла и конструкционной и нержавеющей стали\\n\\nПочему выбирают нас? \\n\\n🔎  Замер бесплатно\\n\\n🎁 Проект в подарок \\n\\n⏱  Готовы приступить вчера\\n\\n🧲 Собственное производство! \\n\\n✅Работаем строго по договору! \\n\\n🎯 Гарантия 24 мес! \\n\\n⚖️ Соблюдаем СНиП и ГОСТ\\n\\n🏦 У нас есть кредит и рассрочка на:\\n-душевые и интерьерные\\n перегородки\\n-дизайн и ремонт квартир\\n-мебель Loft / Hi-tech\\n-дизайн и ремонт ванных комнат\\nБолее 5 банков-партнёров. \\n⚠️Остались вопросы? 👇 \\n\\nWA http://wa.me/79684198277\\n📞 +79684198277\n",
       "Name: text, Length: 346, dtype: object"
      ]
     },
     "execution_count": 58,
     "metadata": {},
     "output_type": "execute_result"
    }
   ],
   "source": [
    "spam"
   ]
  },
  {
   "cell_type": "markdown",
   "metadata": {},
   "source": [
    "## Получение объединённого датасета"
   ]
  },
  {
   "cell_type": "code",
   "execution_count": 59,
   "metadata": {
    "ExecuteTime": {
     "end_time": "2021-08-25T19:50:33.011779Z",
     "start_time": "2021-08-25T19:50:32.983841Z"
    }
   },
   "outputs": [
    {
     "data": {
      "text/html": [
       "<div>\n",
       "<style scoped>\n",
       "    .dataframe tbody tr th:only-of-type {\n",
       "        vertical-align: middle;\n",
       "    }\n",
       "\n",
       "    .dataframe tbody tr th {\n",
       "        vertical-align: top;\n",
       "    }\n",
       "\n",
       "    .dataframe thead th {\n",
       "        text-align: right;\n",
       "    }\n",
       "</style>\n",
       "<table border=\"1\" class=\"dataframe\">\n",
       "  <thead>\n",
       "    <tr style=\"text-align: right;\">\n",
       "      <th></th>\n",
       "      <th>msg</th>\n",
       "      <th>spam</th>\n",
       "    </tr>\n",
       "  </thead>\n",
       "  <tbody>\n",
       "    <tr>\n",
       "      <th>0</th>\n",
       "      <td>Че за возня опять? Возле верного</td>\n",
       "      <td>0</td>\n",
       "    </tr>\n",
       "    <tr>\n",
       "      <th>1</th>\n",
       "      <td>Что то похожее на стрельбу было и сейчас три машины полицейских</td>\n",
       "      <td>0</td>\n",
       "    </tr>\n",
       "    <tr>\n",
       "      <th>2</th>\n",
       "      <td>А кто-то в курсе что за стрельба?</td>\n",
       "      <td>0</td>\n",
       "    </tr>\n",
       "    <tr>\n",
       "      <th>3</th>\n",
       "      <td>Предупредительный был, видимо , от ментов</td>\n",
       "      <td>0</td>\n",
       "    </tr>\n",
       "    <tr>\n",
       "      <th>4</th>\n",
       "      <td>Всё закончилось. Разборки были с поножовщиной</td>\n",
       "      <td>0</td>\n",
       "    </tr>\n",
       "    <tr>\n",
       "      <th>...</th>\n",
       "      <td>...</td>\n",
       "      <td>...</td>\n",
       "    </tr>\n",
       "    <tr>\n",
       "      <th>18388</th>\n",
       "      <td>Всем привет, никто не желает учить китайский язык? Я репетиторствую китайским  с 2016 года, живу на улице Демин Луг, если есть вопросы и желание пишите )</td>\n",
       "      <td>1</td>\n",
       "    </tr>\n",
       "    <tr>\n",
       "      <th>18389</th>\n",
       "      <td>Уважаемые родители ❗️❗️❗️\\nХочу предложить Вам услуги няни👩&amp;zwj;👧&amp;zwj;👦\\n\\nСобираю группу деток (2-5 детей) для присмотра после садика (с19:00 до 22-23:00) у себя дома. \\nВ квартире есть условия для свободной игры, игрушки, горшок, обеспечу вкусным ужином, при необходимости купаю.\\n\\nСама няня с опытом работы, 🤗могу дать номера телефонов родителей с детками которых ранее присматривала чтоб созвонились узнали обо мне👍\\n\\n✅Считаю огромным плюсом для родителей то что оплата всего лишь 300 рублей ‼️за вечер 👌</td>\n",
       "      <td>1</td>\n",
       "    </tr>\n",
       "    <tr>\n",
       "      <th>18390</th>\n",
       "      <td>Добрый вечер,могу вам помочь с селективной парфюмерией!\\nСама занимаюсь,исключительно оригинал!</td>\n",
       "      <td>1</td>\n",
       "    </tr>\n",
       "    <tr>\n",
       "      <th>18391</th>\n",
       "      <td>Здравствуйте, есть один билет на концерт Сергея Пенкина, завтра в Зелёном Театре, 2000 руб \\nНужен сертификат о вакцине или пцр</td>\n",
       "      <td>1</td>\n",
       "    </tr>\n",
       "    <tr>\n",
       "      <th>18392</th>\n",
       "      <td>⚡️Производим яркие и стильные перегородки в стиле Loft\\n \\nВиды\\n- глухие \\n- с распашными дверями\\n- с раздвижными дверями\\n- книжки\\n- гормошки \\n\\n🔥Мы  20 лет на рынке архитектурно строительных решений из закалённого стекла и конструкционной и нержавеющей стали\\n\\nПочему выбирают нас? \\n\\n🔎  Замер бесплатно\\n\\n🎁 Проект в подарок \\n\\n⏱  Готовы приступить вчера\\n\\n🧲 Собственное производство! \\n\\n✅Работаем строго по договору! \\n\\n🎯 Гарантия 24 мес! \\n\\n⚖️ Соблюдаем СНиП и ГОСТ\\n\\n🏦 У нас есть кредит и рассрочка на:\\n-душевые и интерьерные\\n перегородки\\n-дизайн и ремонт квартир\\n-мебель Loft / Hi-tech\\n-дизайн и ремонт ванных комнат\\nБолее 5 банков-партнёров. \\n⚠️Остались вопросы? 👇 \\n\\nWA http://wa.me/79684198277\\n📞 +79684198277</td>\n",
       "      <td>1</td>\n",
       "    </tr>\n",
       "  </tbody>\n",
       "</table>\n",
       "<p>18393 rows × 2 columns</p>\n",
       "</div>"
      ],
      "text/plain": [
       "                                                                                                                                                                                                                                                                                                                                                                                                                                                                                                                                                                                                                                                                                                                                                                       msg  \\\n",
       "0                                                                                                                                                                                                                                                                                                                                                                                                                                                                                                                                                                                                                                                                                                                                         Че за возня опять? Возле верного   \n",
       "1                                                                                                                                                                                                                                                                                                                                                                                                                                                                                                                                                                                                                                                                                                          Что то похожее на стрельбу было и сейчас три машины полицейских   \n",
       "2                                                                                                                                                                                                                                                                                                                                                                                                                                                                                                                                                                                                                                                                                                                                        А кто-то в курсе что за стрельба?   \n",
       "3                                                                                                                                                                                                                                                                                                                                                                                                                                                                                                                                                                                                                                                                                                                                Предупредительный был, видимо , от ментов   \n",
       "4                                                                                                                                                                                                                                                                                                                                                                                                                                                                                                                                                                                                                                                                                                                            Всё закончилось. Разборки были с поножовщиной   \n",
       "...                                                                                                                                                                                                                                                                                                                                                                                                                                                                                                                                                                                                                                                                                                                                                                    ...   \n",
       "18388                                                                                                                                                                                                                                                                                                                                                                                                                                                                                                                                                                                                            Всем привет, никто не желает учить китайский язык? Я репетиторствую китайским  с 2016 года, живу на улице Демин Луг, если есть вопросы и желание пишите )   \n",
       "18389                                                                                                                                                                                                                                       Уважаемые родители ❗️❗️❗️\\nХочу предложить Вам услуги няни👩&zwj;👧&zwj;👦\\n\\nСобираю группу деток (2-5 детей) для присмотра после садика (с19:00 до 22-23:00) у себя дома. \\nВ квартире есть условия для свободной игры, игрушки, горшок, обеспечу вкусным ужином, при необходимости купаю.\\n\\nСама няня с опытом работы, 🤗могу дать номера телефонов родителей с детками которых ранее присматривала чтоб созвонились узнали обо мне👍\\n\\n✅Считаю огромным плюсом для родителей то что оплата всего лишь 300 рублей ‼️за вечер 👌   \n",
       "18390                                                                                                                                                                                                                                                                                                                                                                                                                                                                                                                                                                                                                                                                      Добрый вечер,могу вам помочь с селективной парфюмерией!\\nСама занимаюсь,исключительно оригинал!   \n",
       "18391                                                                                                                                                                                                                                                                                                                                                                                                                                                                                                                                                                                                                                      Здравствуйте, есть один билет на концерт Сергея Пенкина, завтра в Зелёном Театре, 2000 руб \\nНужен сертификат о вакцине или пцр   \n",
       "18392  ⚡️Производим яркие и стильные перегородки в стиле Loft\\n \\nВиды\\n- глухие \\n- с распашными дверями\\n- с раздвижными дверями\\n- книжки\\n- гормошки \\n\\n🔥Мы  20 лет на рынке архитектурно строительных решений из закалённого стекла и конструкционной и нержавеющей стали\\n\\nПочему выбирают нас? \\n\\n🔎  Замер бесплатно\\n\\n🎁 Проект в подарок \\n\\n⏱  Готовы приступить вчера\\n\\n🧲 Собственное производство! \\n\\n✅Работаем строго по договору! \\n\\n🎯 Гарантия 24 мес! \\n\\n⚖️ Соблюдаем СНиП и ГОСТ\\n\\n🏦 У нас есть кредит и рассрочка на:\\n-душевые и интерьерные\\n перегородки\\n-дизайн и ремонт квартир\\n-мебель Loft / Hi-tech\\n-дизайн и ремонт ванных комнат\\nБолее 5 банков-партнёров. \\n⚠️Остались вопросы? 👇 \\n\\nWA http://wa.me/79684198277\\n📞 +79684198277   \n",
       "\n",
       "       spam  \n",
       "0         0  \n",
       "1         0  \n",
       "2         0  \n",
       "3         0  \n",
       "4         0  \n",
       "...     ...  \n",
       "18388     1  \n",
       "18389     1  \n",
       "18390     1  \n",
       "18391     1  \n",
       "18392     1  \n",
       "\n",
       "[18393 rows x 2 columns]"
      ]
     },
     "execution_count": 59,
     "metadata": {},
     "output_type": "execute_result"
    }
   ],
   "source": [
    "# Series -> DataFrame\n",
    "ham_df = ham.to_frame('msg')\n",
    "# создание нового столбца с категорией спам / не спам\n",
    "ham_df['spam'] = 0\n",
    "\n",
    "spam_df = spam.to_frame('msg')\n",
    "spam_df['spam'] = 1\n",
    "\n",
    "# конкатенация датафреймов\n",
    "df = pd.concat([ham_df, spam_df], axis=0, ignore_index=True)\n",
    "df"
   ]
  },
  {
   "cell_type": "markdown",
   "metadata": {},
   "source": [
    "## Сохранение датасета"
   ]
  },
  {
   "cell_type": "code",
   "execution_count": 86,
   "metadata": {
    "ExecuteTime": {
     "end_time": "2021-08-25T20:01:02.310307Z",
     "start_time": "2021-08-25T20:01:02.294348Z"
    }
   },
   "outputs": [],
   "source": [
    "# сохраняем\n",
    "df.to_pickle(os.path.join(path, 'df.pkl'))"
   ]
  },
  {
   "cell_type": "code",
   "execution_count": 89,
   "metadata": {
    "ExecuteTime": {
     "end_time": "2021-08-25T20:01:39.105704Z",
     "start_time": "2021-08-25T20:01:39.069761Z"
    }
   },
   "outputs": [
    {
     "name": "stdout",
     "output_type": "stream",
     "text": [
      "(18393, 2)\n"
     ]
    },
    {
     "data": {
      "text/html": [
       "<div>\n",
       "<style scoped>\n",
       "    .dataframe tbody tr th:only-of-type {\n",
       "        vertical-align: middle;\n",
       "    }\n",
       "\n",
       "    .dataframe tbody tr th {\n",
       "        vertical-align: top;\n",
       "    }\n",
       "\n",
       "    .dataframe thead th {\n",
       "        text-align: right;\n",
       "    }\n",
       "</style>\n",
       "<table border=\"1\" class=\"dataframe\">\n",
       "  <thead>\n",
       "    <tr style=\"text-align: right;\">\n",
       "      <th></th>\n",
       "      <th>msg</th>\n",
       "      <th>spam</th>\n",
       "    </tr>\n",
       "  </thead>\n",
       "  <tbody>\n",
       "    <tr>\n",
       "      <th>18388</th>\n",
       "      <td>Всем привет, никто не желает учить китайский язык? Я репетиторствую китайским  с 2016 года, живу на улице Демин Луг, если есть вопросы и желание пишите )</td>\n",
       "      <td>1</td>\n",
       "    </tr>\n",
       "    <tr>\n",
       "      <th>18389</th>\n",
       "      <td>Уважаемые родители ❗️❗️❗️\\nХочу предложить Вам услуги няни👩&amp;zwj;👧&amp;zwj;👦\\n\\nСобираю группу деток (2-5 детей) для присмотра после садика (с19:00 до 22-23:00) у себя дома. \\nВ квартире есть условия для свободной игры, игрушки, горшок, обеспечу вкусным ужином, при необходимости купаю.\\n\\nСама няня с опытом работы, 🤗могу дать номера телефонов родителей с детками которых ранее присматривала чтоб созвонились узнали обо мне👍\\n\\n✅Считаю огромным плюсом для родителей то что оплата всего лишь 300 рублей ‼️за вечер 👌</td>\n",
       "      <td>1</td>\n",
       "    </tr>\n",
       "    <tr>\n",
       "      <th>18390</th>\n",
       "      <td>Добрый вечер,могу вам помочь с селективной парфюмерией!\\nСама занимаюсь,исключительно оригинал!</td>\n",
       "      <td>1</td>\n",
       "    </tr>\n",
       "    <tr>\n",
       "      <th>18391</th>\n",
       "      <td>Здравствуйте, есть один билет на концерт Сергея Пенкина, завтра в Зелёном Театре, 2000 руб \\nНужен сертификат о вакцине или пцр</td>\n",
       "      <td>1</td>\n",
       "    </tr>\n",
       "    <tr>\n",
       "      <th>18392</th>\n",
       "      <td>⚡️Производим яркие и стильные перегородки в стиле Loft\\n \\nВиды\\n- глухие \\n- с распашными дверями\\n- с раздвижными дверями\\n- книжки\\n- гормошки \\n\\n🔥Мы  20 лет на рынке архитектурно строительных решений из закалённого стекла и конструкционной и нержавеющей стали\\n\\nПочему выбирают нас? \\n\\n🔎  Замер бесплатно\\n\\n🎁 Проект в подарок \\n\\n⏱  Готовы приступить вчера\\n\\n🧲 Собственное производство! \\n\\n✅Работаем строго по договору! \\n\\n🎯 Гарантия 24 мес! \\n\\n⚖️ Соблюдаем СНиП и ГОСТ\\n\\n🏦 У нас есть кредит и рассрочка на:\\n-душевые и интерьерные\\n перегородки\\n-дизайн и ремонт квартир\\n-мебель Loft / Hi-tech\\n-дизайн и ремонт ванных комнат\\nБолее 5 банков-партнёров. \\n⚠️Остались вопросы? 👇 \\n\\nWA http://wa.me/79684198277\\n📞 +79684198277</td>\n",
       "      <td>1</td>\n",
       "    </tr>\n",
       "  </tbody>\n",
       "</table>\n",
       "</div>"
      ],
      "text/plain": [
       "                                                                                                                                                                                                                                                                                                                                                                                                                                                                                                                                                                                                                                                                                                                                                                       msg  \\\n",
       "18388                                                                                                                                                                                                                                                                                                                                                                                                                                                                                                                                                                                                            Всем привет, никто не желает учить китайский язык? Я репетиторствую китайским  с 2016 года, живу на улице Демин Луг, если есть вопросы и желание пишите )   \n",
       "18389                                                                                                                                                                                                                                       Уважаемые родители ❗️❗️❗️\\nХочу предложить Вам услуги няни👩&zwj;👧&zwj;👦\\n\\nСобираю группу деток (2-5 детей) для присмотра после садика (с19:00 до 22-23:00) у себя дома. \\nВ квартире есть условия для свободной игры, игрушки, горшок, обеспечу вкусным ужином, при необходимости купаю.\\n\\nСама няня с опытом работы, 🤗могу дать номера телефонов родителей с детками которых ранее присматривала чтоб созвонились узнали обо мне👍\\n\\n✅Считаю огромным плюсом для родителей то что оплата всего лишь 300 рублей ‼️за вечер 👌   \n",
       "18390                                                                                                                                                                                                                                                                                                                                                                                                                                                                                                                                                                                                                                                                      Добрый вечер,могу вам помочь с селективной парфюмерией!\\nСама занимаюсь,исключительно оригинал!   \n",
       "18391                                                                                                                                                                                                                                                                                                                                                                                                                                                                                                                                                                                                                                      Здравствуйте, есть один билет на концерт Сергея Пенкина, завтра в Зелёном Театре, 2000 руб \\nНужен сертификат о вакцине или пцр   \n",
       "18392  ⚡️Производим яркие и стильные перегородки в стиле Loft\\n \\nВиды\\n- глухие \\n- с распашными дверями\\n- с раздвижными дверями\\n- книжки\\n- гормошки \\n\\n🔥Мы  20 лет на рынке архитектурно строительных решений из закалённого стекла и конструкционной и нержавеющей стали\\n\\nПочему выбирают нас? \\n\\n🔎  Замер бесплатно\\n\\n🎁 Проект в подарок \\n\\n⏱  Готовы приступить вчера\\n\\n🧲 Собственное производство! \\n\\n✅Работаем строго по договору! \\n\\n🎯 Гарантия 24 мес! \\n\\n⚖️ Соблюдаем СНиП и ГОСТ\\n\\n🏦 У нас есть кредит и рассрочка на:\\n-душевые и интерьерные\\n перегородки\\n-дизайн и ремонт квартир\\n-мебель Loft / Hi-tech\\n-дизайн и ремонт ванных комнат\\nБолее 5 банков-партнёров. \\n⚠️Остались вопросы? 👇 \\n\\nWA http://wa.me/79684198277\\n📞 +79684198277   \n",
       "\n",
       "       spam  \n",
       "18388     1  \n",
       "18389     1  \n",
       "18390     1  \n",
       "18391     1  \n",
       "18392     1  "
      ]
     },
     "execution_count": 89,
     "metadata": {},
     "output_type": "execute_result"
    }
   ],
   "source": [
    "# загружаем\n",
    "df = pd.read_pickle(os.path.join(path, 'df.pkl'))\n",
    "print(df.shape)\n",
    "df.tail(5)"
   ]
  },
  {
   "cell_type": "code",
   "execution_count": 61,
   "metadata": {
    "ExecuteTime": {
     "end_time": "2021-08-25T19:50:54.166182Z",
     "start_time": "2021-08-25T19:50:54.151581Z"
    }
   },
   "outputs": [
    {
     "data": {
      "text/plain": [
       "(18393, 2)"
      ]
     },
     "execution_count": 61,
     "metadata": {},
     "output_type": "execute_result"
    }
   ],
   "source": [
    "df.shape"
   ]
  },
  {
   "cell_type": "code",
   "execution_count": 82,
   "metadata": {
    "ExecuteTime": {
     "end_time": "2021-08-25T19:54:42.667773Z",
     "start_time": "2021-08-25T19:54:42.647821Z"
    }
   },
   "outputs": [
    {
     "data": {
      "text/plain": [
       "0    18047\n",
       "1      346\n",
       "Name: spam, dtype: int64"
      ]
     },
     "execution_count": 82,
     "metadata": {},
     "output_type": "execute_result"
    }
   ],
   "source": [
    "df.spam.value_counts()"
   ]
  },
  {
   "cell_type": "code",
   "execution_count": 84,
   "metadata": {
    "ExecuteTime": {
     "end_time": "2021-08-25T19:55:26.788808Z",
     "start_time": "2021-08-25T19:55:26.774846Z"
    }
   },
   "outputs": [
    {
     "data": {
      "text/plain": [
       "0.018811504376665036"
      ]
     },
     "execution_count": 84,
     "metadata": {},
     "output_type": "execute_result"
    }
   ],
   "source": [
    "# дисбаланс классов\n",
    "df.spam.value_counts()[1] / df.shape[0]"
   ]
  },
  {
   "cell_type": "markdown",
   "metadata": {},
   "source": [
    "# Построение модели"
   ]
  },
  {
   "cell_type": "code",
   "execution_count": 24,
   "metadata": {
    "ExecuteTime": {
     "end_time": "2021-04-04T14:22:30.730471Z",
     "start_time": "2021-04-04T14:22:30.479920Z"
    }
   },
   "outputs": [],
   "source": [
    "X_train, X_test, y_train, y_test = train_test_split(df.drop('spam', 1), \n",
    "                                                    df['spam'], random_state=0)\n",
    "#save test\n",
    "X_test.to_csv(\"X_test_spam.csv\", index=None)\n",
    "y_test.to_csv(\"y_test_spam.csv\", index=None)\n",
    "#save train\n",
    "X_train.to_csv(\"X_train_spam.csv\", index=None)\n",
    "y_train.to_csv(\"y_train_spam.csv\", index=None)"
   ]
  },
  {
   "cell_type": "code",
   "execution_count": 25,
   "metadata": {
    "ExecuteTime": {
     "end_time": "2021-04-04T14:22:30.746435Z",
     "start_time": "2021-04-04T14:22:30.732431Z"
    }
   },
   "outputs": [
    {
     "data": {
      "text/html": [
       "<div>\n",
       "<style scoped>\n",
       "    .dataframe tbody tr th:only-of-type {\n",
       "        vertical-align: middle;\n",
       "    }\n",
       "\n",
       "    .dataframe tbody tr th {\n",
       "        vertical-align: top;\n",
       "    }\n",
       "\n",
       "    .dataframe thead th {\n",
       "        text-align: right;\n",
       "    }\n",
       "</style>\n",
       "<table border=\"1\" class=\"dataframe\">\n",
       "  <thead>\n",
       "    <tr style=\"text-align: right;\">\n",
       "      <th></th>\n",
       "      <th>msg</th>\n",
       "    </tr>\n",
       "  </thead>\n",
       "  <tbody>\n",
       "    <tr>\n",
       "      <th>3856</th>\n",
       "      <td>Они в один месяц не учли показания (программа сбойнула, не загрузилось с сайта, не туда посмотрели) и у ва...</td>\n",
       "    </tr>\n",
       "    <tr>\n",
       "      <th>40894</th>\n",
       "      <td>Раз в час примерно, первая в районе 7 утра уходит.</td>\n",
       "    </tr>\n",
       "    <tr>\n",
       "      <th>7915</th>\n",
       "      <td>Это же гениально! 😂отличная идея!)))</td>\n",
       "    </tr>\n",
       "    <tr>\n",
       "      <th>25371</th>\n",
       "      <td>Да непонятно, в доброделе отвечают — проведите ОСС и сами залейте)</td>\n",
       "    </tr>\n",
       "    <tr>\n",
       "      <th>40093</th>\n",
       "      <td>Может одна новая, пробега мало, а вторая загаженная</td>\n",
       "    </tr>\n",
       "    <tr>\n",
       "      <th>...</th>\n",
       "      <td>...</td>\n",
       "    </tr>\n",
       "    <tr>\n",
       "      <th>45891</th>\n",
       "      <td>Спасибо 😀</td>\n",
       "    </tr>\n",
       "    <tr>\n",
       "      <th>52416</th>\n",
       "      <td>А разве заставляют?</td>\n",
       "    </tr>\n",
       "    <tr>\n",
       "      <th>42613</th>\n",
       "      <td>Не то футбольный праздник, не то свадьба в Чечне.</td>\n",
       "    </tr>\n",
       "    <tr>\n",
       "      <th>43567</th>\n",
       "      <td>А чат собаководов есть?</td>\n",
       "    </tr>\n",
       "    <tr>\n",
       "      <th>2732</th>\n",
       "      <td>Отправьте в добродел, отличный ракурс</td>\n",
       "    </tr>\n",
       "  </tbody>\n",
       "</table>\n",
       "<p>40930 rows × 1 columns</p>\n",
       "</div>"
      ],
      "text/plain": [
       "                                                                                                                 msg\n",
       "3856   Они в один месяц не учли показания (программа сбойнула, не загрузилось с сайта, не туда посмотрели) и у ва...\n",
       "40894                                                             Раз в час примерно, первая в районе 7 утра уходит.\n",
       "7915                                                                            Это же гениально! 😂отличная идея!)))\n",
       "25371                                             Да непонятно, в доброделе отвечают — проведите ОСС и сами залейте)\n",
       "40093                                                            Может одна новая, пробега мало, а вторая загаженная\n",
       "...                                                                                                              ...\n",
       "45891                                                                                                      Спасибо 😀\n",
       "52416                                                                                            А разве заставляют?\n",
       "42613                                                              Не то футбольный праздник, не то свадьба в Чечне.\n",
       "43567                                                                                        А чат собаководов есть?\n",
       "2732                                                                           Отправьте в добродел, отличный ракурс\n",
       "\n",
       "[40930 rows x 1 columns]"
      ]
     },
     "execution_count": 25,
     "metadata": {},
     "output_type": "execute_result"
    }
   ],
   "source": [
    "X_train"
   ]
  },
  {
   "cell_type": "code",
   "execution_count": 26,
   "metadata": {
    "ExecuteTime": {
     "end_time": "2021-04-04T14:22:30.762431Z",
     "start_time": "2021-04-04T14:22:30.747432Z"
    }
   },
   "outputs": [],
   "source": [
    "class ColumnSelector(BaseEstimator, TransformerMixin):\n",
    "    \"\"\"\n",
    "    Transformer to select a single column from the data frame to perform additional transformations on\n",
    "    \"\"\"\n",
    "    def __init__(self, key):\n",
    "        self.key = key\n",
    "\n",
    "    def fit(self, X, y=None):\n",
    "        return self\n",
    "\n",
    "    def transform(self, X):\n",
    "        return X[self.key]\n",
    "    \n",
    "class TextImputer(BaseEstimator, TransformerMixin):\n",
    "    def __init__(self, key, value):\n",
    "        self.key = key\n",
    "        self.value = value\n",
    "    def fit(self, X, y=None):\n",
    "        return self\n",
    "    def transform(self, X):\n",
    "        X[self.key] = X[self.key].fillna(self.value)\n",
    "        return X"
   ]
  },
  {
   "cell_type": "code",
   "execution_count": 27,
   "metadata": {
    "ExecuteTime": {
     "end_time": "2021-04-04T14:22:30.778505Z",
     "start_time": "2021-04-04T14:22:30.764433Z"
    }
   },
   "outputs": [],
   "source": [
    "features = ['msg']\n",
    "target = 'spam'"
   ]
  },
  {
   "cell_type": "code",
   "execution_count": 28,
   "metadata": {
    "ExecuteTime": {
     "end_time": "2021-04-04T14:22:30.793729Z",
     "start_time": "2021-04-04T14:22:30.780634Z"
    }
   },
   "outputs": [],
   "source": [
    "#combine\n",
    "msg = Pipeline([\n",
    "                ('imputer', TextImputer('msg', '')),\n",
    "                ('selector', ColumnSelector(key='msg')),\n",
    "                ('tfidf', TfidfVectorizer(max_df=0.9, min_df=10))\n",
    "            ])\n",
    "\n",
    "feats = FeatureUnion([('msg', msg)])"
   ]
  },
  {
   "cell_type": "code",
   "execution_count": 29,
   "metadata": {
    "ExecuteTime": {
     "end_time": "2021-04-04T14:22:31.631929Z",
     "start_time": "2021-04-04T14:22:30.794648Z"
    }
   },
   "outputs": [
    {
     "name": "stdout",
     "output_type": "stream",
     "text": [
      "Wall time: 723 ms\n"
     ]
    },
    {
     "data": {
      "text/plain": [
       "Pipeline(steps=[('features',\n",
       "                 FeatureUnion(transformer_list=[('msg',\n",
       "                                                 Pipeline(steps=[('imputer',\n",
       "                                                                  TextImputer(key='msg',\n",
       "                                                                              value='')),\n",
       "                                                                 ('selector',\n",
       "                                                                  ColumnSelector(key='msg')),\n",
       "                                                                 ('tfidf',\n",
       "                                                                  TfidfVectorizer(max_df=0.9,\n",
       "                                                                                  min_df=10))]))])),\n",
       "                ('classifier', LogisticRegression())])"
      ]
     },
     "execution_count": 29,
     "metadata": {},
     "output_type": "execute_result"
    }
   ],
   "source": [
    "%%time\n",
    "\n",
    "pipeline = Pipeline([\n",
    "    ('features',feats),\n",
    "    ('classifier', LogisticRegression()),\n",
    "])\n",
    "\n",
    "pipeline.fit(X_train, y_train)"
   ]
  },
  {
   "cell_type": "markdown",
   "metadata": {},
   "source": [
    "Посмотрим, как выглядит наш pipeline"
   ]
  },
  {
   "cell_type": "code",
   "execution_count": 30,
   "metadata": {
    "ExecuteTime": {
     "end_time": "2021-04-04T14:22:31.663926Z",
     "start_time": "2021-04-04T14:22:31.633928Z"
    }
   },
   "outputs": [
    {
     "data": {
      "text/plain": [
       "[('features',\n",
       "  FeatureUnion(transformer_list=[('msg',\n",
       "                                  Pipeline(steps=[('imputer',\n",
       "                                                   TextImputer(key='msg',\n",
       "                                                               value='')),\n",
       "                                                  ('selector',\n",
       "                                                   ColumnSelector(key='msg')),\n",
       "                                                  ('tfidf',\n",
       "                                                   TfidfVectorizer(max_df=0.9,\n",
       "                                                                   min_df=10))]))])),\n",
       " ('classifier', LogisticRegression())]"
      ]
     },
     "execution_count": 30,
     "metadata": {},
     "output_type": "execute_result"
    }
   ],
   "source": [
    "pipeline.steps"
   ]
  },
  {
   "cell_type": "code",
   "execution_count": 31,
   "metadata": {
    "ExecuteTime": {
     "end_time": "2021-04-04T14:22:31.902424Z",
     "start_time": "2021-04-04T14:22:31.664926Z"
    }
   },
   "outputs": [],
   "source": [
    "predictions = pipeline.predict_proba(X_test)\n",
    "#pd.DataFrame({'preds': predictions[:, 1]}).to_csv(\"test_predictions.csv\", index=None)"
   ]
  },
  {
   "cell_type": "code",
   "execution_count": 32,
   "metadata": {
    "ExecuteTime": {
     "end_time": "2021-04-04T14:22:31.917424Z",
     "start_time": "2021-04-04T14:22:31.903426Z"
    }
   },
   "outputs": [
    {
     "data": {
      "text/plain": [
       "48502    0\n",
       "48785    0\n",
       "40039    0\n",
       "40399    0\n",
       "50011    0\n",
       "        ..\n",
       "27058    0\n",
       "16446    0\n",
       "42301    0\n",
       "11306    0\n",
       "31998    0\n",
       "Name: spam, Length: 13644, dtype: int64"
      ]
     },
     "execution_count": 32,
     "metadata": {},
     "output_type": "execute_result"
    }
   ],
   "source": [
    "y_test"
   ]
  },
  {
   "cell_type": "code",
   "execution_count": 33,
   "metadata": {
    "ExecuteTime": {
     "end_time": "2021-04-04T14:22:31.933424Z",
     "start_time": "2021-04-04T14:22:31.918425Z"
    }
   },
   "outputs": [
    {
     "data": {
      "text/plain": [
       "array([0.00166743, 0.00600112, 0.00191033, ..., 0.0022781 , 0.00163441,\n",
       "       0.00238243])"
      ]
     },
     "execution_count": 33,
     "metadata": {},
     "output_type": "execute_result"
    }
   ],
   "source": [
    "predictions[:, 1][:]"
   ]
  },
  {
   "cell_type": "code",
   "execution_count": 34,
   "metadata": {
    "ExecuteTime": {
     "end_time": "2021-04-04T14:22:31.949426Z",
     "start_time": "2021-04-04T14:22:31.935426Z"
    }
   },
   "outputs": [
    {
     "data": {
      "text/plain": [
       "0.9552632018716577"
      ]
     },
     "execution_count": 34,
     "metadata": {},
     "output_type": "execute_result"
    }
   ],
   "source": [
    "roc_auc_score(y_score=predictions[:, 1], y_true=y_test)"
   ]
  },
  {
   "cell_type": "code",
   "execution_count": 35,
   "metadata": {
    "ExecuteTime": {
     "end_time": "2021-04-04T14:22:31.965426Z",
     "start_time": "2021-04-04T14:22:31.951446Z"
    }
   },
   "outputs": [
    {
     "data": {
      "text/plain": [
       "0.0"
      ]
     },
     "execution_count": 35,
     "metadata": {},
     "output_type": "execute_result"
    }
   ],
   "source": [
    "f1_score(predictions[:, 1].round(), y_test)"
   ]
  },
  {
   "cell_type": "code",
   "execution_count": 36,
   "metadata": {
    "ExecuteTime": {
     "end_time": "2021-04-04T14:22:31.981427Z",
     "start_time": "2021-04-04T14:22:31.967426Z"
    }
   },
   "outputs": [
    {
     "data": {
      "text/plain": [
       "0.0"
      ]
     },
     "execution_count": 36,
     "metadata": {},
     "output_type": "execute_result"
    }
   ],
   "source": [
    "precision_score(predictions[:, 1].round(), y_test)"
   ]
  },
  {
   "cell_type": "code",
   "execution_count": 37,
   "metadata": {
    "ExecuteTime": {
     "end_time": "2021-04-04T14:22:31.997427Z",
     "start_time": "2021-04-04T14:22:31.984431Z"
    }
   },
   "outputs": [
    {
     "name": "stderr",
     "output_type": "stream",
     "text": [
      "C:\\Users\\Alex\\Anaconda3\\lib\\site-packages\\sklearn\\metrics\\_classification.py:1221: UndefinedMetricWarning: Recall is ill-defined and being set to 0.0 due to no true samples. Use `zero_division` parameter to control this behavior.\n",
      "  _warn_prf(average, modifier, msg_start, len(result))\n"
     ]
    },
    {
     "data": {
      "text/plain": [
       "0.0"
      ]
     },
     "execution_count": 37,
     "metadata": {},
     "output_type": "execute_result"
    }
   ],
   "source": [
    "recall_score(predictions[:, 1].round(), y_test)"
   ]
  },
  {
   "cell_type": "code",
   "execution_count": 38,
   "metadata": {
    "ExecuteTime": {
     "end_time": "2021-04-04T14:22:32.028426Z",
     "start_time": "2021-04-04T14:22:31.999428Z"
    }
   },
   "outputs": [
    {
     "data": {
      "text/html": [
       "<div>\n",
       "<style scoped>\n",
       "    .dataframe tbody tr th:only-of-type {\n",
       "        vertical-align: middle;\n",
       "    }\n",
       "\n",
       "    .dataframe tbody tr th {\n",
       "        vertical-align: top;\n",
       "    }\n",
       "\n",
       "    .dataframe thead th {\n",
       "        text-align: right;\n",
       "    }\n",
       "</style>\n",
       "<table border=\"1\" class=\"dataframe\">\n",
       "  <thead>\n",
       "    <tr style=\"text-align: right;\">\n",
       "      <th></th>\n",
       "      <th>msg</th>\n",
       "      <th>spam</th>\n",
       "      <th>prob</th>\n",
       "    </tr>\n",
       "  </thead>\n",
       "  <tbody>\n",
       "    <tr>\n",
       "      <th>0</th>\n",
       "      <td>Всем ✋🏻</td>\n",
       "      <td>0</td>\n",
       "      <td>0.001667</td>\n",
       "    </tr>\n",
       "    <tr>\n",
       "      <th>1</th>\n",
       "      <td>Это супергруппа. А это значит что админ может редактировать и удалять любые сообщения. Пользователи могут ...</td>\n",
       "      <td>0</td>\n",
       "      <td>0.006001</td>\n",
       "    </tr>\n",
       "    <tr>\n",
       "      <th>2</th>\n",
       "      <td>/</td>\n",
       "      <td>0</td>\n",
       "      <td>0.001910</td>\n",
       "    </tr>\n",
       "    <tr>\n",
       "      <th>3</th>\n",
       "      <td>не пугайтесь, немного почистил мусор)</td>\n",
       "      <td>0</td>\n",
       "      <td>0.001192</td>\n",
       "    </tr>\n",
       "    <tr>\n",
       "      <th>4</th>\n",
       "      <td>Всем привет)</td>\n",
       "      <td>0</td>\n",
       "      <td>0.004088</td>\n",
       "    </tr>\n",
       "    <tr>\n",
       "      <th>...</th>\n",
       "      <td>...</td>\n",
       "      <td>...</td>\n",
       "      <td>...</td>\n",
       "    </tr>\n",
       "    <tr>\n",
       "      <th>54569</th>\n",
       "      <td>Добрый день скоро открытия огромного магазина для мастеров и любителей ,для парикмахеров и салонов красоты...</td>\n",
       "      <td>1</td>\n",
       "      <td>NaN</td>\n",
       "    </tr>\n",
       "    <tr>\n",
       "      <th>54570</th>\n",
       "      <td>https://t.me/MoscowskyPravdorub/1470?single</td>\n",
       "      <td>1</td>\n",
       "      <td>NaN</td>\n",
       "    </tr>\n",
       "    <tr>\n",
       "      <th>54571</th>\n",
       "      <td>Большой выбор ждём вас</td>\n",
       "      <td>1</td>\n",
       "      <td>NaN</td>\n",
       "    </tr>\n",
       "    <tr>\n",
       "      <th>54572</th>\n",
       "      <td>Интернет от 300 Мбит/с + бесплатный роутер \\nЗвонить с 09:00 до 24:00 без выходных.МГТС/МТС home\\nТелефон:...</td>\n",
       "      <td>1</td>\n",
       "      <td>NaN</td>\n",
       "    </tr>\n",
       "    <tr>\n",
       "      <th>54573</th>\n",
       "      <td>Здравствуйте! Услуги Психолога!\\n\\nПсихолог с высшим образованием и практикой более 10 лет предлагаю услуг...</td>\n",
       "      <td>1</td>\n",
       "      <td>NaN</td>\n",
       "    </tr>\n",
       "  </tbody>\n",
       "</table>\n",
       "<p>54574 rows × 3 columns</p>\n",
       "</div>"
      ],
      "text/plain": [
       "                                                                                                                 msg  \\\n",
       "0                                                                                                            Всем ✋🏻   \n",
       "1      Это супергруппа. А это значит что админ может редактировать и удалять любые сообщения. Пользователи могут ...   \n",
       "2                                                                                                                  /   \n",
       "3                                                                              не пугайтесь, немного почистил мусор)   \n",
       "4                                                                                                       Всем привет)   \n",
       "...                                                                                                              ...   \n",
       "54569  Добрый день скоро открытия огромного магазина для мастеров и любителей ,для парикмахеров и салонов красоты...   \n",
       "54570                                                                    https://t.me/MoscowskyPravdorub/1470?single   \n",
       "54571                                                                                         Большой выбор ждём вас   \n",
       "54572  Интернет от 300 Мбит/с + бесплатный роутер \\nЗвонить с 09:00 до 24:00 без выходных.МГТС/МТС home\\nТелефон:...   \n",
       "54573  Здравствуйте! Услуги Психолога!\\n\\nПсихолог с высшим образованием и практикой более 10 лет предлагаю услуг...   \n",
       "\n",
       "       spam      prob  \n",
       "0         0  0.001667  \n",
       "1         0  0.006001  \n",
       "2         0  0.001910  \n",
       "3         0  0.001192  \n",
       "4         0  0.004088  \n",
       "...     ...       ...  \n",
       "54569     1       NaN  \n",
       "54570     1       NaN  \n",
       "54571     1       NaN  \n",
       "54572     1       NaN  \n",
       "54573     1       NaN  \n",
       "\n",
       "[54574 rows x 3 columns]"
      ]
     },
     "execution_count": 38,
     "metadata": {},
     "output_type": "execute_result"
    }
   ],
   "source": [
    "df_pred = pd.concat([df, pd.Series(predictions[:, 1])], axis=1)\n",
    "df_pred.columns=[\"msg\", \"spam\", \"prob\"]\n",
    "df_pred"
   ]
  },
  {
   "cell_type": "code",
   "execution_count": 39,
   "metadata": {
    "ExecuteTime": {
     "end_time": "2021-04-04T14:22:32.044431Z",
     "start_time": "2021-04-04T14:22:32.030429Z"
    }
   },
   "outputs": [
    {
     "data": {
      "text/plain": [
       "(nan, numpy.float64)"
      ]
     },
     "execution_count": 39,
     "metadata": {},
     "output_type": "execute_result"
    }
   ],
   "source": [
    "df_pred.iloc[54570,2], type(df_pred.iloc[54570,2])"
   ]
  },
  {
   "cell_type": "code",
   "execution_count": 40,
   "metadata": {
    "ExecuteTime": {
     "end_time": "2021-04-04T14:22:32.060426Z",
     "start_time": "2021-04-04T14:22:32.046431Z"
    }
   },
   "outputs": [
    {
     "data": {
      "text/html": [
       "<div>\n",
       "<style scoped>\n",
       "    .dataframe tbody tr th:only-of-type {\n",
       "        vertical-align: middle;\n",
       "    }\n",
       "\n",
       "    .dataframe tbody tr th {\n",
       "        vertical-align: top;\n",
       "    }\n",
       "\n",
       "    .dataframe thead th {\n",
       "        text-align: right;\n",
       "    }\n",
       "</style>\n",
       "<table border=\"1\" class=\"dataframe\">\n",
       "  <thead>\n",
       "    <tr style=\"text-align: right;\">\n",
       "      <th></th>\n",
       "      <th>msg</th>\n",
       "      <th>spam</th>\n",
       "      <th>prob</th>\n",
       "    </tr>\n",
       "  </thead>\n",
       "  <tbody>\n",
       "    <tr>\n",
       "      <th>3458</th>\n",
       "      <td>Брат окно</td>\n",
       "      <td>0</td>\n",
       "      <td>0.165447</td>\n",
       "    </tr>\n",
       "    <tr>\n",
       "      <th>4849</th>\n",
       "      <td>Воробей всегда подрузамевает)))))))))</td>\n",
       "      <td>0</td>\n",
       "      <td>0.143628</td>\n",
       "    </tr>\n",
       "    <tr>\n",
       "      <th>6068</th>\n",
       "      <td>Они по проекту района там предполагались</td>\n",
       "      <td>0</td>\n",
       "      <td>0.161846</td>\n",
       "    </tr>\n",
       "    <tr>\n",
       "      <th>7398</th>\n",
       "      <td>Желания нет продолжать эту беседу...</td>\n",
       "      <td>0</td>\n",
       "      <td>0.161846</td>\n",
       "    </tr>\n",
       "    <tr>\n",
       "      <th>8806</th>\n",
       "      <td>https://mir24.tv/news/16293475/v-podmoskovnom-reutove-za-pytki-nad-zhivotnymi-zaderzhali-devushku</td>\n",
       "      <td>0</td>\n",
       "      <td>0.161846</td>\n",
       "    </tr>\n",
       "    <tr>\n",
       "      <th>9038</th>\n",
       "      <td>Включенные габариты</td>\n",
       "      <td>0</td>\n",
       "      <td>0.161846</td>\n",
       "    </tr>\n",
       "    <tr>\n",
       "      <th>9071</th>\n",
       "      <td>Да, смартфон Android, компьютер Windows</td>\n",
       "      <td>0</td>\n",
       "      <td>0.117427</td>\n",
       "    </tr>\n",
       "    <tr>\n",
       "      <th>9257</th>\n",
       "      <td>Подскажите пожалуйста, где у нас в районе можно зеркало на машине починить? Мне кто-то ночью снёс правое з...</td>\n",
       "      <td>0</td>\n",
       "      <td>0.161846</td>\n",
       "    </tr>\n",
       "    <tr>\n",
       "      <th>9632</th>\n",
       "      <td>И кстати вот тут не за что извиняться мы ж русские , и  \"вы\" на Руси было оскорбительно</td>\n",
       "      <td>0</td>\n",
       "      <td>0.166958</td>\n",
       "    </tr>\n",
       "    <tr>\n",
       "      <th>9922</th>\n",
       "      <td>ЗАметано)</td>\n",
       "      <td>0</td>\n",
       "      <td>0.111680</td>\n",
       "    </tr>\n",
       "    <tr>\n",
       "      <th>10149</th>\n",
       "      <td>Ну и ищите, пойду инвесторов в дивизию предлагать</td>\n",
       "      <td>0</td>\n",
       "      <td>0.161846</td>\n",
       "    </tr>\n",
       "    <tr>\n",
       "      <th>10625</th>\n",
       "      <td>Если брать за понятие \"живёт\" - ставит себе на стол тарелку с супом, то да ЖИВЁТ. А если брать возможности...</td>\n",
       "      <td>0</td>\n",
       "      <td>0.179452</td>\n",
       "    </tr>\n",
       "    <tr>\n",
       "      <th>11090</th>\n",
       "      <td>жена тоже рыба блять, молчит в  тряпочку</td>\n",
       "      <td>0</td>\n",
       "      <td>0.161846</td>\n",
       "    </tr>\n",
       "    <tr>\n",
       "      <th>13434</th>\n",
       "      <td>Кстати, фильм очень наглядный.</td>\n",
       "      <td>0</td>\n",
       "      <td>0.161846</td>\n",
       "    </tr>\n",
       "  </tbody>\n",
       "</table>\n",
       "</div>"
      ],
      "text/plain": [
       "                                                                                                                 msg  \\\n",
       "3458                                                                                                       Брат окно   \n",
       "4849                                                                           Воробей всегда подрузамевает)))))))))   \n",
       "6068                                                                        Они по проекту района там предполагались   \n",
       "7398                                                                            Желания нет продолжать эту беседу...   \n",
       "8806               https://mir24.tv/news/16293475/v-podmoskovnom-reutove-za-pytki-nad-zhivotnymi-zaderzhali-devushku   \n",
       "9038                                                                                             Включенные габариты   \n",
       "9071                                                                         Да, смартфон Android, компьютер Windows   \n",
       "9257   Подскажите пожалуйста, где у нас в районе можно зеркало на машине починить? Мне кто-то ночью снёс правое з...   \n",
       "9632                         И кстати вот тут не за что извиняться мы ж русские , и  \"вы\" на Руси было оскорбительно   \n",
       "9922                                                                                                       ЗАметано)   \n",
       "10149                                                              Ну и ищите, пойду инвесторов в дивизию предлагать   \n",
       "10625  Если брать за понятие \"живёт\" - ставит себе на стол тарелку с супом, то да ЖИВЁТ. А если брать возможности...   \n",
       "11090                                                                       жена тоже рыба блять, молчит в  тряпочку   \n",
       "13434                                                                                 Кстати, фильм очень наглядный.   \n",
       "\n",
       "       spam      prob  \n",
       "3458      0  0.165447  \n",
       "4849      0  0.143628  \n",
       "6068      0  0.161846  \n",
       "7398      0  0.161846  \n",
       "8806      0  0.161846  \n",
       "9038      0  0.161846  \n",
       "9071      0  0.117427  \n",
       "9257      0  0.161846  \n",
       "9632      0  0.166958  \n",
       "9922      0  0.111680  \n",
       "10149     0  0.161846  \n",
       "10625     0  0.179452  \n",
       "11090     0  0.161846  \n",
       "13434     0  0.161846  "
      ]
     },
     "execution_count": 40,
     "metadata": {},
     "output_type": "execute_result"
    }
   ],
   "source": [
    "pd.set_option('display.max_rows', 200)\n",
    "df_pred.loc[df_pred['prob'] > 0.1]"
   ]
  },
  {
   "cell_type": "code",
   "execution_count": 41,
   "metadata": {
    "ExecuteTime": {
     "end_time": "2021-04-04T14:22:32.076429Z",
     "start_time": "2021-04-04T14:22:32.061431Z"
    },
    "scrolled": false
   },
   "outputs": [
    {
     "data": {
      "text/html": [
       "<div>\n",
       "<style scoped>\n",
       "    .dataframe tbody tr th:only-of-type {\n",
       "        vertical-align: middle;\n",
       "    }\n",
       "\n",
       "    .dataframe tbody tr th {\n",
       "        vertical-align: top;\n",
       "    }\n",
       "\n",
       "    .dataframe thead th {\n",
       "        text-align: right;\n",
       "    }\n",
       "</style>\n",
       "<table border=\"1\" class=\"dataframe\">\n",
       "  <thead>\n",
       "    <tr style=\"text-align: right;\">\n",
       "      <th></th>\n",
       "      <th>msg</th>\n",
       "      <th>spam</th>\n",
       "      <th>prob</th>\n",
       "    </tr>\n",
       "  </thead>\n",
       "  <tbody>\n",
       "    <tr>\n",
       "      <th>3458</th>\n",
       "      <td>Брат окно</td>\n",
       "      <td>0</td>\n",
       "      <td>0.165447</td>\n",
       "    </tr>\n",
       "    <tr>\n",
       "      <th>6068</th>\n",
       "      <td>Они по проекту района там предполагались</td>\n",
       "      <td>0</td>\n",
       "      <td>0.161846</td>\n",
       "    </tr>\n",
       "    <tr>\n",
       "      <th>7398</th>\n",
       "      <td>Желания нет продолжать эту беседу...</td>\n",
       "      <td>0</td>\n",
       "      <td>0.161846</td>\n",
       "    </tr>\n",
       "    <tr>\n",
       "      <th>8806</th>\n",
       "      <td>https://mir24.tv/news/16293475/v-podmoskovnom-reutove-za-pytki-nad-zhivotnymi-zaderzhali-devushku</td>\n",
       "      <td>0</td>\n",
       "      <td>0.161846</td>\n",
       "    </tr>\n",
       "    <tr>\n",
       "      <th>9038</th>\n",
       "      <td>Включенные габариты</td>\n",
       "      <td>0</td>\n",
       "      <td>0.161846</td>\n",
       "    </tr>\n",
       "    <tr>\n",
       "      <th>9257</th>\n",
       "      <td>Подскажите пожалуйста, где у нас в районе можно зеркало на машине починить? Мне кто-то ночью снёс правое з...</td>\n",
       "      <td>0</td>\n",
       "      <td>0.161846</td>\n",
       "    </tr>\n",
       "    <tr>\n",
       "      <th>9632</th>\n",
       "      <td>И кстати вот тут не за что извиняться мы ж русские , и  \"вы\" на Руси было оскорбительно</td>\n",
       "      <td>0</td>\n",
       "      <td>0.166958</td>\n",
       "    </tr>\n",
       "    <tr>\n",
       "      <th>10149</th>\n",
       "      <td>Ну и ищите, пойду инвесторов в дивизию предлагать</td>\n",
       "      <td>0</td>\n",
       "      <td>0.161846</td>\n",
       "    </tr>\n",
       "    <tr>\n",
       "      <th>10625</th>\n",
       "      <td>Если брать за понятие \"живёт\" - ставит себе на стол тарелку с супом, то да ЖИВЁТ. А если брать возможности...</td>\n",
       "      <td>0</td>\n",
       "      <td>0.179452</td>\n",
       "    </tr>\n",
       "    <tr>\n",
       "      <th>11090</th>\n",
       "      <td>жена тоже рыба блять, молчит в  тряпочку</td>\n",
       "      <td>0</td>\n",
       "      <td>0.161846</td>\n",
       "    </tr>\n",
       "    <tr>\n",
       "      <th>13434</th>\n",
       "      <td>Кстати, фильм очень наглядный.</td>\n",
       "      <td>0</td>\n",
       "      <td>0.161846</td>\n",
       "    </tr>\n",
       "  </tbody>\n",
       "</table>\n",
       "</div>"
      ],
      "text/plain": [
       "                                                                                                                 msg  \\\n",
       "3458                                                                                                       Брат окно   \n",
       "6068                                                                        Они по проекту района там предполагались   \n",
       "7398                                                                            Желания нет продолжать эту беседу...   \n",
       "8806               https://mir24.tv/news/16293475/v-podmoskovnom-reutove-za-pytki-nad-zhivotnymi-zaderzhali-devushku   \n",
       "9038                                                                                             Включенные габариты   \n",
       "9257   Подскажите пожалуйста, где у нас в районе можно зеркало на машине починить? Мне кто-то ночью снёс правое з...   \n",
       "9632                         И кстати вот тут не за что извиняться мы ж русские , и  \"вы\" на Руси было оскорбительно   \n",
       "10149                                                              Ну и ищите, пойду инвесторов в дивизию предлагать   \n",
       "10625  Если брать за понятие \"живёт\" - ставит себе на стол тарелку с супом, то да ЖИВЁТ. А если брать возможности...   \n",
       "11090                                                                       жена тоже рыба блять, молчит в  тряпочку   \n",
       "13434                                                                                 Кстати, фильм очень наглядный.   \n",
       "\n",
       "       spam      prob  \n",
       "3458      0  0.165447  \n",
       "6068      0  0.161846  \n",
       "7398      0  0.161846  \n",
       "8806      0  0.161846  \n",
       "9038      0  0.161846  \n",
       "9257      0  0.161846  \n",
       "9632      0  0.166958  \n",
       "10149     0  0.161846  \n",
       "10625     0  0.179452  \n",
       "11090     0  0.161846  \n",
       "13434     0  0.161846  "
      ]
     },
     "execution_count": 41,
     "metadata": {},
     "output_type": "execute_result"
    }
   ],
   "source": [
    "pd.set_option('display.max_rows', 200)\n",
    "df_pred.query('(prob > 0.15)').head(200)"
   ]
  },
  {
   "cell_type": "markdown",
   "metadata": {},
   "source": [
    "Сохраним модель (пайплайн)"
   ]
  },
  {
   "cell_type": "code",
   "execution_count": 42,
   "metadata": {
    "ExecuteTime": {
     "end_time": "2021-04-04T14:22:32.376270Z",
     "start_time": "2021-04-04T14:22:32.078427Z"
    }
   },
   "outputs": [],
   "source": [
    "with open(\"spam_classifier_pipeline.dill\", \"wb\") as f:\n",
    "    dill.dump(pipeline, f)"
   ]
  },
  {
   "cell_type": "code",
   "execution_count": null,
   "metadata": {},
   "outputs": [],
   "source": []
  }
 ],
 "metadata": {
  "kernelspec": {
   "display_name": "Python 3",
   "language": "python",
   "name": "python3"
  },
  "language_info": {
   "codemirror_mode": {
    "name": "ipython",
    "version": 3
   },
   "file_extension": ".py",
   "mimetype": "text/x-python",
   "name": "python",
   "nbconvert_exporter": "python",
   "pygments_lexer": "ipython3",
   "version": "3.8.8"
  },
  "toc": {
   "base_numbering": 1,
   "nav_menu": {},
   "number_sections": false,
   "sideBar": true,
   "skip_h1_title": false,
   "title_cell": "Table of Contents",
   "title_sidebar": "Contents",
   "toc_cell": false,
   "toc_position": {},
   "toc_section_display": true,
   "toc_window_display": true
  },
  "varInspector": {
   "cols": {
    "lenName": 16,
    "lenType": 16,
    "lenVar": 40
   },
   "kernels_config": {
    "python": {
     "delete_cmd_postfix": "",
     "delete_cmd_prefix": "del ",
     "library": "var_list.py",
     "varRefreshCmd": "print(var_dic_list())"
    },
    "r": {
     "delete_cmd_postfix": ") ",
     "delete_cmd_prefix": "rm(",
     "library": "var_list.r",
     "varRefreshCmd": "cat(var_dic_list()) "
    }
   },
   "oldHeight": 345,
   "position": {
    "height": "367px",
    "left": "553px",
    "right": "20px",
    "top": "81px",
    "width": "558px"
   },
   "types_to_exclude": [
    "module",
    "function",
    "builtin_function_or_method",
    "instance",
    "_Feature"
   ],
   "varInspector_section_display": "block",
   "window_display": false
  }
 },
 "nbformat": 4,
 "nbformat_minor": 2
}
