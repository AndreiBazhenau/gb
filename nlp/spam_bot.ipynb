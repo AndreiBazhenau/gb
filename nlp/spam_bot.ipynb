{
 "cells": [
  {
   "cell_type": "markdown",
   "metadata": {},
   "source": [
    "1. kaggle (https://www.kaggle.com/datasets)\n",
    "2. спарсить самостоятельно, но в этом случае вам может понадобиться разметка (если у вас обучение с учителем)"
   ]
  },
  {
   "cell_type": "markdown",
   "metadata": {},
   "source": [
    "Пишем простой граббер для Telegram чатов на Python https://medium.com/swlh/build-a-telegram-bot-in-go-in-9-minutes-e06ad38acef1  https://proglib.io/p/pishem-prostoy-grabber-dlya-telegram-chatov-na-python-2019-11-06\n",
    "\n",
    "Spam Classifier in Python from scratch https://towardsdatascience.com/spam-classifier-in-python-from-scratch-27a98ddd8e73\n",
    "\n",
    "How to deploy ML models with Telegram Bots https://medium.com/analytics-vidhya/how-to-deploy-machine-learning-models-on-android-and-ios-with-telegram-bots-a6fb16922741"
   ]
  },
  {
   "cell_type": "code",
   "execution_count": 7,
   "metadata": {
    "ExecuteTime": {
     "end_time": "2021-08-24T19:34:14.919027Z",
     "start_time": "2021-08-24T19:34:14.896051Z"
    }
   },
   "outputs": [],
   "source": [
    "import pandas as pd\n",
    "pd.set_option('display.max_columns', 50)\n",
    "pd.set_option('max_colwidth', 110)\n",
    "import numpy as np\n",
    "import re\n",
    "\n",
    "#from gensim.test.utils import common_texts\n",
    "#from gensim.corpora.dictionary import Dictionary\n",
    "\n",
    "#предобработка текстов\n",
    "import nltk\n",
    "#nltk.download('stopwords')\n",
    "from nltk.corpus import stopwords\n",
    "#from nltk.tokenize import word_tokenize\n",
    "\n",
    "#from razdel import tokenize # https://github.com/natasha/razdel\n",
    "#!pip install razdel\n",
    "\n",
    "import pymorphy2  # pip install pymorphy2\n",
    "\n",
    "from sklearn.linear_model import LogisticRegression\n",
    "from sklearn.model_selection import train_test_split\n",
    "from sklearn.metrics import f1_score, roc_auc_score, precision_score, recall_score, \\\n",
    "                            classification_report, precision_recall_curve, confusion_matrix\n",
    "from sklearn.base import BaseEstimator, TransformerMixin\n",
    "from sklearn.pipeline import Pipeline, FeatureUnion\n",
    "from sklearn.feature_extraction.text import TfidfVectorizer\n",
    "import itertools\n",
    "\n",
    "import matplotlib.pyplot as plt\n",
    "%matplotlib inline\n",
    "\n",
    "#import dill\n",
    "import os"
   ]
  },
  {
   "cell_type": "code",
   "execution_count": 8,
   "metadata": {
    "ExecuteTime": {
     "end_time": "2021-08-24T19:34:23.359511Z",
     "start_time": "2021-08-24T19:34:23.166876Z"
    },
    "scrolled": true
   },
   "outputs": [],
   "source": [
    "path_to_files = '../../data/spam_detection/'\n",
    "\n",
    "ham_raw = pd.read_json(os.path.join(path_to_files, 'ham.json'))\n",
    "spam_raw = pd.read_json(os.path.join(path_to_files, 'spam.json'))"
   ]
  },
  {
   "cell_type": "markdown",
   "metadata": {},
   "source": [
    "# Data processing"
   ]
  },
  {
   "cell_type": "markdown",
   "metadata": {},
   "source": [
    "## Обработка неспамных сообщений"
   ]
  },
  {
   "cell_type": "code",
   "execution_count": 9,
   "metadata": {
    "ExecuteTime": {
     "end_time": "2021-08-24T19:34:25.124842Z",
     "start_time": "2021-08-24T19:34:25.111876Z"
    }
   },
   "outputs": [
    {
     "data": {
      "text/html": [
       "<div>\n",
       "<style scoped>\n",
       "    .dataframe tbody tr th:only-of-type {\n",
       "        vertical-align: middle;\n",
       "    }\n",
       "\n",
       "    .dataframe tbody tr th {\n",
       "        vertical-align: top;\n",
       "    }\n",
       "\n",
       "    .dataframe thead th {\n",
       "        text-align: right;\n",
       "    }\n",
       "</style>\n",
       "<table border=\"1\" class=\"dataframe\">\n",
       "  <thead>\n",
       "    <tr style=\"text-align: right;\">\n",
       "      <th></th>\n",
       "      <th>name</th>\n",
       "      <th>type</th>\n",
       "      <th>id</th>\n",
       "      <th>messages</th>\n",
       "    </tr>\n",
       "  </thead>\n",
       "  <tbody>\n",
       "    <tr>\n",
       "      <th>20442</th>\n",
       "      <td>Новое Измайлово</td>\n",
       "      <td>public_supergroup</td>\n",
       "      <td>1077014744</td>\n",
       "      <td>{'id': 84724, 'type': 'message', 'date': '2021-08-24T21:09:27', 'from': 'Juriy', 'from_id': 'user229200647...</td>\n",
       "    </tr>\n",
       "    <tr>\n",
       "      <th>20443</th>\n",
       "      <td>Новое Измайлово</td>\n",
       "      <td>public_supergroup</td>\n",
       "      <td>1077014744</td>\n",
       "      <td>{'id': 84727, 'type': 'message', 'date': '2021-08-24T21:57:16', 'edited': '2021-08-24T21:57:23', 'from': '...</td>\n",
       "    </tr>\n",
       "    <tr>\n",
       "      <th>20444</th>\n",
       "      <td>Новое Измайлово</td>\n",
       "      <td>public_supergroup</td>\n",
       "      <td>1077014744</td>\n",
       "      <td>{'id': 84728, 'type': 'message', 'date': '2021-08-24T22:10:24', 'from': 'Fidel', 'from_id': 'user429545993...</td>\n",
       "    </tr>\n",
       "  </tbody>\n",
       "</table>\n",
       "</div>"
      ],
      "text/plain": [
       "                  name               type          id  \\\n",
       "20442  Новое Измайлово  public_supergroup  1077014744   \n",
       "20443  Новое Измайлово  public_supergroup  1077014744   \n",
       "20444  Новое Измайлово  public_supergroup  1077014744   \n",
       "\n",
       "                                                                                                            messages  \n",
       "20442  {'id': 84724, 'type': 'message', 'date': '2021-08-24T21:09:27', 'from': 'Juriy', 'from_id': 'user229200647...  \n",
       "20443  {'id': 84727, 'type': 'message', 'date': '2021-08-24T21:57:16', 'edited': '2021-08-24T21:57:23', 'from': '...  \n",
       "20444  {'id': 84728, 'type': 'message', 'date': '2021-08-24T22:10:24', 'from': 'Fidel', 'from_id': 'user429545993...  "
      ]
     },
     "execution_count": 9,
     "metadata": {},
     "output_type": "execute_result"
    }
   ],
   "source": [
    "ham_raw.tail(3)"
   ]
  },
  {
   "cell_type": "code",
   "execution_count": 45,
   "metadata": {
    "ExecuteTime": {
     "end_time": "2021-08-24T20:29:03.935735Z",
     "start_time": "2021-08-24T20:29:03.656139Z"
    }
   },
   "outputs": [
    {
     "data": {
      "text/html": [
       "<div>\n",
       "<style scoped>\n",
       "    .dataframe tbody tr th:only-of-type {\n",
       "        vertical-align: middle;\n",
       "    }\n",
       "\n",
       "    .dataframe tbody tr th {\n",
       "        vertical-align: top;\n",
       "    }\n",
       "\n",
       "    .dataframe thead th {\n",
       "        text-align: right;\n",
       "    }\n",
       "</style>\n",
       "<table border=\"1\" class=\"dataframe\">\n",
       "  <thead>\n",
       "    <tr style=\"text-align: right;\">\n",
       "      <th></th>\n",
       "      <th>id</th>\n",
       "      <th>type</th>\n",
       "      <th>date</th>\n",
       "      <th>from</th>\n",
       "      <th>from_id</th>\n",
       "      <th>text</th>\n",
       "      <th>actor</th>\n",
       "      <th>actor_id</th>\n",
       "      <th>action</th>\n",
       "      <th>members</th>\n",
       "      <th>edited</th>\n",
       "      <th>forwarded_from</th>\n",
       "      <th>file</th>\n",
       "      <th>thumbnail</th>\n",
       "      <th>media_type</th>\n",
       "      <th>mime_type</th>\n",
       "      <th>duration_seconds</th>\n",
       "      <th>width</th>\n",
       "      <th>height</th>\n",
       "      <th>reply_to_message_id</th>\n",
       "      <th>photo</th>\n",
       "      <th>contact_information.first_name</th>\n",
       "      <th>contact_information.last_name</th>\n",
       "      <th>contact_information.phone_number</th>\n",
       "      <th>sticker_emoji</th>\n",
       "      <th>contact_vcard</th>\n",
       "      <th>location_information.latitude</th>\n",
       "      <th>location_information.longitude</th>\n",
       "      <th>via_bot</th>\n",
       "      <th>message_id</th>\n",
       "    </tr>\n",
       "  </thead>\n",
       "  <tbody>\n",
       "    <tr>\n",
       "      <th>0</th>\n",
       "      <td>58320</td>\n",
       "      <td>message</td>\n",
       "      <td>2020-07-07T01:21:52</td>\n",
       "      <td>Alexandr</td>\n",
       "      <td>user362421356</td>\n",
       "      <td>Че за возня опять? Возле верного</td>\n",
       "      <td>NaN</td>\n",
       "      <td>NaN</td>\n",
       "      <td>NaN</td>\n",
       "      <td>NaN</td>\n",
       "      <td>NaN</td>\n",
       "      <td>NaN</td>\n",
       "      <td>NaN</td>\n",
       "      <td>NaN</td>\n",
       "      <td>NaN</td>\n",
       "      <td>NaN</td>\n",
       "      <td>NaN</td>\n",
       "      <td>NaN</td>\n",
       "      <td>NaN</td>\n",
       "      <td>NaN</td>\n",
       "      <td>NaN</td>\n",
       "      <td>NaN</td>\n",
       "      <td>NaN</td>\n",
       "      <td>NaN</td>\n",
       "      <td>NaN</td>\n",
       "      <td>NaN</td>\n",
       "      <td>NaN</td>\n",
       "      <td>NaN</td>\n",
       "      <td>NaN</td>\n",
       "      <td>NaN</td>\n",
       "    </tr>\n",
       "    <tr>\n",
       "      <th>1</th>\n",
       "      <td>58321</td>\n",
       "      <td>service</td>\n",
       "      <td>2020-07-07T01:22:12</td>\n",
       "      <td>NaN</td>\n",
       "      <td>NaN</td>\n",
       "      <td></td>\n",
       "      <td>Ismail</td>\n",
       "      <td>user589798156</td>\n",
       "      <td>invite_members</td>\n",
       "      <td>[Ismail]</td>\n",
       "      <td>NaN</td>\n",
       "      <td>NaN</td>\n",
       "      <td>NaN</td>\n",
       "      <td>NaN</td>\n",
       "      <td>NaN</td>\n",
       "      <td>NaN</td>\n",
       "      <td>NaN</td>\n",
       "      <td>NaN</td>\n",
       "      <td>NaN</td>\n",
       "      <td>NaN</td>\n",
       "      <td>NaN</td>\n",
       "      <td>NaN</td>\n",
       "      <td>NaN</td>\n",
       "      <td>NaN</td>\n",
       "      <td>NaN</td>\n",
       "      <td>NaN</td>\n",
       "      <td>NaN</td>\n",
       "      <td>NaN</td>\n",
       "      <td>NaN</td>\n",
       "      <td>NaN</td>\n",
       "    </tr>\n",
       "    <tr>\n",
       "      <th>2</th>\n",
       "      <td>58322</td>\n",
       "      <td>message</td>\n",
       "      <td>2020-07-07T01:22:32</td>\n",
       "      <td>Lia</td>\n",
       "      <td>user587895366</td>\n",
       "      <td>Что то похожее на стрельбу было и сейчас три машины полицейских</td>\n",
       "      <td>NaN</td>\n",
       "      <td>NaN</td>\n",
       "      <td>NaN</td>\n",
       "      <td>NaN</td>\n",
       "      <td>NaN</td>\n",
       "      <td>NaN</td>\n",
       "      <td>NaN</td>\n",
       "      <td>NaN</td>\n",
       "      <td>NaN</td>\n",
       "      <td>NaN</td>\n",
       "      <td>NaN</td>\n",
       "      <td>NaN</td>\n",
       "      <td>NaN</td>\n",
       "      <td>NaN</td>\n",
       "      <td>NaN</td>\n",
       "      <td>NaN</td>\n",
       "      <td>NaN</td>\n",
       "      <td>NaN</td>\n",
       "      <td>NaN</td>\n",
       "      <td>NaN</td>\n",
       "      <td>NaN</td>\n",
       "      <td>NaN</td>\n",
       "      <td>NaN</td>\n",
       "      <td>NaN</td>\n",
       "    </tr>\n",
       "    <tr>\n",
       "      <th>3</th>\n",
       "      <td>58323</td>\n",
       "      <td>message</td>\n",
       "      <td>2020-07-07T01:22:47</td>\n",
       "      <td>Ismail</td>\n",
       "      <td>user589798156</td>\n",
       "      <td>А кто-то в курсе что за стрельба?</td>\n",
       "      <td>NaN</td>\n",
       "      <td>NaN</td>\n",
       "      <td>NaN</td>\n",
       "      <td>NaN</td>\n",
       "      <td>2020-07-07T01:23:13</td>\n",
       "      <td>NaN</td>\n",
       "      <td>NaN</td>\n",
       "      <td>NaN</td>\n",
       "      <td>NaN</td>\n",
       "      <td>NaN</td>\n",
       "      <td>NaN</td>\n",
       "      <td>NaN</td>\n",
       "      <td>NaN</td>\n",
       "      <td>NaN</td>\n",
       "      <td>NaN</td>\n",
       "      <td>NaN</td>\n",
       "      <td>NaN</td>\n",
       "      <td>NaN</td>\n",
       "      <td>NaN</td>\n",
       "      <td>NaN</td>\n",
       "      <td>NaN</td>\n",
       "      <td>NaN</td>\n",
       "      <td>NaN</td>\n",
       "      <td>NaN</td>\n",
       "    </tr>\n",
       "    <tr>\n",
       "      <th>4</th>\n",
       "      <td>58324</td>\n",
       "      <td>message</td>\n",
       "      <td>2020-07-07T01:23:32</td>\n",
       "      <td>Maria Gaurikh</td>\n",
       "      <td>user292667992</td>\n",
       "      <td>Предупредительный был, видимо , от ментов</td>\n",
       "      <td>NaN</td>\n",
       "      <td>NaN</td>\n",
       "      <td>NaN</td>\n",
       "      <td>NaN</td>\n",
       "      <td>NaN</td>\n",
       "      <td>NaN</td>\n",
       "      <td>NaN</td>\n",
       "      <td>NaN</td>\n",
       "      <td>NaN</td>\n",
       "      <td>NaN</td>\n",
       "      <td>NaN</td>\n",
       "      <td>NaN</td>\n",
       "      <td>NaN</td>\n",
       "      <td>NaN</td>\n",
       "      <td>NaN</td>\n",
       "      <td>NaN</td>\n",
       "      <td>NaN</td>\n",
       "      <td>NaN</td>\n",
       "      <td>NaN</td>\n",
       "      <td>NaN</td>\n",
       "      <td>NaN</td>\n",
       "      <td>NaN</td>\n",
       "      <td>NaN</td>\n",
       "      <td>NaN</td>\n",
       "    </tr>\n",
       "  </tbody>\n",
       "</table>\n",
       "</div>"
      ],
      "text/plain": [
       "      id     type                 date           from        from_id  \\\n",
       "0  58320  message  2020-07-07T01:21:52       Alexandr  user362421356   \n",
       "1  58321  service  2020-07-07T01:22:12            NaN            NaN   \n",
       "2  58322  message  2020-07-07T01:22:32            Lia  user587895366   \n",
       "3  58323  message  2020-07-07T01:22:47         Ismail  user589798156   \n",
       "4  58324  message  2020-07-07T01:23:32  Maria Gaurikh  user292667992   \n",
       "\n",
       "                                                              text   actor  \\\n",
       "0                                 Че за возня опять? Возле верного     NaN   \n",
       "1                                                                   Ismail   \n",
       "2  Что то похожее на стрельбу было и сейчас три машины полицейских     NaN   \n",
       "3                                А кто-то в курсе что за стрельба?     NaN   \n",
       "4                        Предупредительный был, видимо , от ментов     NaN   \n",
       "\n",
       "        actor_id          action   members               edited  \\\n",
       "0            NaN             NaN       NaN                  NaN   \n",
       "1  user589798156  invite_members  [Ismail]                  NaN   \n",
       "2            NaN             NaN       NaN                  NaN   \n",
       "3            NaN             NaN       NaN  2020-07-07T01:23:13   \n",
       "4            NaN             NaN       NaN                  NaN   \n",
       "\n",
       "  forwarded_from file thumbnail media_type mime_type  duration_seconds  width  \\\n",
       "0            NaN  NaN       NaN        NaN       NaN               NaN    NaN   \n",
       "1            NaN  NaN       NaN        NaN       NaN               NaN    NaN   \n",
       "2            NaN  NaN       NaN        NaN       NaN               NaN    NaN   \n",
       "3            NaN  NaN       NaN        NaN       NaN               NaN    NaN   \n",
       "4            NaN  NaN       NaN        NaN       NaN               NaN    NaN   \n",
       "\n",
       "   height  reply_to_message_id photo contact_information.first_name  \\\n",
       "0     NaN                  NaN   NaN                            NaN   \n",
       "1     NaN                  NaN   NaN                            NaN   \n",
       "2     NaN                  NaN   NaN                            NaN   \n",
       "3     NaN                  NaN   NaN                            NaN   \n",
       "4     NaN                  NaN   NaN                            NaN   \n",
       "\n",
       "  contact_information.last_name contact_information.phone_number  \\\n",
       "0                           NaN                              NaN   \n",
       "1                           NaN                              NaN   \n",
       "2                           NaN                              NaN   \n",
       "3                           NaN                              NaN   \n",
       "4                           NaN                              NaN   \n",
       "\n",
       "  sticker_emoji contact_vcard  location_information.latitude  \\\n",
       "0           NaN           NaN                            NaN   \n",
       "1           NaN           NaN                            NaN   \n",
       "2           NaN           NaN                            NaN   \n",
       "3           NaN           NaN                            NaN   \n",
       "4           NaN           NaN                            NaN   \n",
       "\n",
       "   location_information.longitude via_bot  message_id  \n",
       "0                             NaN     NaN         NaN  \n",
       "1                             NaN     NaN         NaN  \n",
       "2                             NaN     NaN         NaN  \n",
       "3                             NaN     NaN         NaN  \n",
       "4                             NaN     NaN         NaN  "
      ]
     },
     "execution_count": 45,
     "metadata": {},
     "output_type": "execute_result"
    }
   ],
   "source": [
    "ham = pd.json_normalize(ham_raw['messages'])\n",
    "ham.head(5)"
   ]
  },
  {
   "cell_type": "code",
   "execution_count": 46,
   "metadata": {
    "ExecuteTime": {
     "end_time": "2021-08-24T20:29:06.691764Z",
     "start_time": "2021-08-24T20:29:06.670206Z"
    }
   },
   "outputs": [],
   "source": [
    "# удалям строки сервисных сообщений (около 10-ти)\n",
    "ham = ham.drop(ham[ham['type']== 'service'].index)"
   ]
  },
  {
   "cell_type": "code",
   "execution_count": 47,
   "metadata": {
    "ExecuteTime": {
     "end_time": "2021-08-24T20:29:07.932039Z",
     "start_time": "2021-08-24T20:29:07.911094Z"
    }
   },
   "outputs": [
    {
     "data": {
      "text/html": [
       "<div>\n",
       "<style scoped>\n",
       "    .dataframe tbody tr th:only-of-type {\n",
       "        vertical-align: middle;\n",
       "    }\n",
       "\n",
       "    .dataframe tbody tr th {\n",
       "        vertical-align: top;\n",
       "    }\n",
       "\n",
       "    .dataframe thead th {\n",
       "        text-align: right;\n",
       "    }\n",
       "</style>\n",
       "<table border=\"1\" class=\"dataframe\">\n",
       "  <thead>\n",
       "    <tr style=\"text-align: right;\">\n",
       "      <th></th>\n",
       "      <th>id</th>\n",
       "      <th>type</th>\n",
       "      <th>date</th>\n",
       "      <th>from</th>\n",
       "      <th>from_id</th>\n",
       "      <th>text</th>\n",
       "      <th>actor</th>\n",
       "      <th>actor_id</th>\n",
       "      <th>action</th>\n",
       "      <th>members</th>\n",
       "      <th>edited</th>\n",
       "      <th>forwarded_from</th>\n",
       "      <th>file</th>\n",
       "      <th>thumbnail</th>\n",
       "      <th>media_type</th>\n",
       "      <th>mime_type</th>\n",
       "      <th>duration_seconds</th>\n",
       "      <th>width</th>\n",
       "      <th>height</th>\n",
       "      <th>reply_to_message_id</th>\n",
       "      <th>photo</th>\n",
       "      <th>contact_information.first_name</th>\n",
       "      <th>contact_information.last_name</th>\n",
       "      <th>contact_information.phone_number</th>\n",
       "      <th>sticker_emoji</th>\n",
       "      <th>contact_vcard</th>\n",
       "      <th>location_information.latitude</th>\n",
       "      <th>location_information.longitude</th>\n",
       "      <th>via_bot</th>\n",
       "      <th>message_id</th>\n",
       "    </tr>\n",
       "  </thead>\n",
       "  <tbody>\n",
       "    <tr>\n",
       "      <th>0</th>\n",
       "      <td>58320</td>\n",
       "      <td>message</td>\n",
       "      <td>2020-07-07T01:21:52</td>\n",
       "      <td>Alexandr</td>\n",
       "      <td>user362421356</td>\n",
       "      <td>Че за возня опять? Возле верного</td>\n",
       "      <td>NaN</td>\n",
       "      <td>NaN</td>\n",
       "      <td>NaN</td>\n",
       "      <td>NaN</td>\n",
       "      <td>NaN</td>\n",
       "      <td>NaN</td>\n",
       "      <td>NaN</td>\n",
       "      <td>NaN</td>\n",
       "      <td>NaN</td>\n",
       "      <td>NaN</td>\n",
       "      <td>NaN</td>\n",
       "      <td>NaN</td>\n",
       "      <td>NaN</td>\n",
       "      <td>NaN</td>\n",
       "      <td>NaN</td>\n",
       "      <td>NaN</td>\n",
       "      <td>NaN</td>\n",
       "      <td>NaN</td>\n",
       "      <td>NaN</td>\n",
       "      <td>NaN</td>\n",
       "      <td>NaN</td>\n",
       "      <td>NaN</td>\n",
       "      <td>NaN</td>\n",
       "      <td>NaN</td>\n",
       "    </tr>\n",
       "    <tr>\n",
       "      <th>2</th>\n",
       "      <td>58322</td>\n",
       "      <td>message</td>\n",
       "      <td>2020-07-07T01:22:32</td>\n",
       "      <td>Lia</td>\n",
       "      <td>user587895366</td>\n",
       "      <td>Что то похожее на стрельбу было и сейчас три машины полицейских</td>\n",
       "      <td>NaN</td>\n",
       "      <td>NaN</td>\n",
       "      <td>NaN</td>\n",
       "      <td>NaN</td>\n",
       "      <td>NaN</td>\n",
       "      <td>NaN</td>\n",
       "      <td>NaN</td>\n",
       "      <td>NaN</td>\n",
       "      <td>NaN</td>\n",
       "      <td>NaN</td>\n",
       "      <td>NaN</td>\n",
       "      <td>NaN</td>\n",
       "      <td>NaN</td>\n",
       "      <td>NaN</td>\n",
       "      <td>NaN</td>\n",
       "      <td>NaN</td>\n",
       "      <td>NaN</td>\n",
       "      <td>NaN</td>\n",
       "      <td>NaN</td>\n",
       "      <td>NaN</td>\n",
       "      <td>NaN</td>\n",
       "      <td>NaN</td>\n",
       "      <td>NaN</td>\n",
       "      <td>NaN</td>\n",
       "    </tr>\n",
       "    <tr>\n",
       "      <th>3</th>\n",
       "      <td>58323</td>\n",
       "      <td>message</td>\n",
       "      <td>2020-07-07T01:22:47</td>\n",
       "      <td>Ismail</td>\n",
       "      <td>user589798156</td>\n",
       "      <td>А кто-то в курсе что за стрельба?</td>\n",
       "      <td>NaN</td>\n",
       "      <td>NaN</td>\n",
       "      <td>NaN</td>\n",
       "      <td>NaN</td>\n",
       "      <td>2020-07-07T01:23:13</td>\n",
       "      <td>NaN</td>\n",
       "      <td>NaN</td>\n",
       "      <td>NaN</td>\n",
       "      <td>NaN</td>\n",
       "      <td>NaN</td>\n",
       "      <td>NaN</td>\n",
       "      <td>NaN</td>\n",
       "      <td>NaN</td>\n",
       "      <td>NaN</td>\n",
       "      <td>NaN</td>\n",
       "      <td>NaN</td>\n",
       "      <td>NaN</td>\n",
       "      <td>NaN</td>\n",
       "      <td>NaN</td>\n",
       "      <td>NaN</td>\n",
       "      <td>NaN</td>\n",
       "      <td>NaN</td>\n",
       "      <td>NaN</td>\n",
       "      <td>NaN</td>\n",
       "    </tr>\n",
       "    <tr>\n",
       "      <th>4</th>\n",
       "      <td>58324</td>\n",
       "      <td>message</td>\n",
       "      <td>2020-07-07T01:23:32</td>\n",
       "      <td>Maria Gaurikh</td>\n",
       "      <td>user292667992</td>\n",
       "      <td>Предупредительный был, видимо , от ментов</td>\n",
       "      <td>NaN</td>\n",
       "      <td>NaN</td>\n",
       "      <td>NaN</td>\n",
       "      <td>NaN</td>\n",
       "      <td>NaN</td>\n",
       "      <td>NaN</td>\n",
       "      <td>NaN</td>\n",
       "      <td>NaN</td>\n",
       "      <td>NaN</td>\n",
       "      <td>NaN</td>\n",
       "      <td>NaN</td>\n",
       "      <td>NaN</td>\n",
       "      <td>NaN</td>\n",
       "      <td>NaN</td>\n",
       "      <td>NaN</td>\n",
       "      <td>NaN</td>\n",
       "      <td>NaN</td>\n",
       "      <td>NaN</td>\n",
       "      <td>NaN</td>\n",
       "      <td>NaN</td>\n",
       "      <td>NaN</td>\n",
       "      <td>NaN</td>\n",
       "      <td>NaN</td>\n",
       "      <td>NaN</td>\n",
       "    </tr>\n",
       "    <tr>\n",
       "      <th>6</th>\n",
       "      <td>58326</td>\n",
       "      <td>message</td>\n",
       "      <td>2020-07-07T01:36:05</td>\n",
       "      <td>Andrey Skalny</td>\n",
       "      <td>user473275267</td>\n",
       "      <td>Всё закончилось. Разборки были с поножовщиной</td>\n",
       "      <td>NaN</td>\n",
       "      <td>NaN</td>\n",
       "      <td>NaN</td>\n",
       "      <td>NaN</td>\n",
       "      <td>NaN</td>\n",
       "      <td>NaN</td>\n",
       "      <td>NaN</td>\n",
       "      <td>NaN</td>\n",
       "      <td>NaN</td>\n",
       "      <td>NaN</td>\n",
       "      <td>NaN</td>\n",
       "      <td>NaN</td>\n",
       "      <td>NaN</td>\n",
       "      <td>NaN</td>\n",
       "      <td>NaN</td>\n",
       "      <td>NaN</td>\n",
       "      <td>NaN</td>\n",
       "      <td>NaN</td>\n",
       "      <td>NaN</td>\n",
       "      <td>NaN</td>\n",
       "      <td>NaN</td>\n",
       "      <td>NaN</td>\n",
       "      <td>NaN</td>\n",
       "      <td>NaN</td>\n",
       "    </tr>\n",
       "  </tbody>\n",
       "</table>\n",
       "</div>"
      ],
      "text/plain": [
       "      id     type                 date           from        from_id  \\\n",
       "0  58320  message  2020-07-07T01:21:52       Alexandr  user362421356   \n",
       "2  58322  message  2020-07-07T01:22:32            Lia  user587895366   \n",
       "3  58323  message  2020-07-07T01:22:47         Ismail  user589798156   \n",
       "4  58324  message  2020-07-07T01:23:32  Maria Gaurikh  user292667992   \n",
       "6  58326  message  2020-07-07T01:36:05  Andrey Skalny  user473275267   \n",
       "\n",
       "                                                              text actor  \\\n",
       "0                                 Че за возня опять? Возле верного   NaN   \n",
       "2  Что то похожее на стрельбу было и сейчас три машины полицейских   NaN   \n",
       "3                                А кто-то в курсе что за стрельба?   NaN   \n",
       "4                        Предупредительный был, видимо , от ментов   NaN   \n",
       "6                    Всё закончилось. Разборки были с поножовщиной   NaN   \n",
       "\n",
       "  actor_id action members               edited forwarded_from file thumbnail  \\\n",
       "0      NaN    NaN     NaN                  NaN            NaN  NaN       NaN   \n",
       "2      NaN    NaN     NaN                  NaN            NaN  NaN       NaN   \n",
       "3      NaN    NaN     NaN  2020-07-07T01:23:13            NaN  NaN       NaN   \n",
       "4      NaN    NaN     NaN                  NaN            NaN  NaN       NaN   \n",
       "6      NaN    NaN     NaN                  NaN            NaN  NaN       NaN   \n",
       "\n",
       "  media_type mime_type  duration_seconds  width  height  reply_to_message_id  \\\n",
       "0        NaN       NaN               NaN    NaN     NaN                  NaN   \n",
       "2        NaN       NaN               NaN    NaN     NaN                  NaN   \n",
       "3        NaN       NaN               NaN    NaN     NaN                  NaN   \n",
       "4        NaN       NaN               NaN    NaN     NaN                  NaN   \n",
       "6        NaN       NaN               NaN    NaN     NaN                  NaN   \n",
       "\n",
       "  photo contact_information.first_name contact_information.last_name  \\\n",
       "0   NaN                            NaN                           NaN   \n",
       "2   NaN                            NaN                           NaN   \n",
       "3   NaN                            NaN                           NaN   \n",
       "4   NaN                            NaN                           NaN   \n",
       "6   NaN                            NaN                           NaN   \n",
       "\n",
       "  contact_information.phone_number sticker_emoji contact_vcard  \\\n",
       "0                              NaN           NaN           NaN   \n",
       "2                              NaN           NaN           NaN   \n",
       "3                              NaN           NaN           NaN   \n",
       "4                              NaN           NaN           NaN   \n",
       "6                              NaN           NaN           NaN   \n",
       "\n",
       "   location_information.latitude  location_information.longitude via_bot  \\\n",
       "0                            NaN                             NaN     NaN   \n",
       "2                            NaN                             NaN     NaN   \n",
       "3                            NaN                             NaN     NaN   \n",
       "4                            NaN                             NaN     NaN   \n",
       "6                            NaN                             NaN     NaN   \n",
       "\n",
       "   message_id  \n",
       "0         NaN  \n",
       "2         NaN  \n",
       "3         NaN  \n",
       "4         NaN  \n",
       "6         NaN  "
      ]
     },
     "execution_count": 47,
     "metadata": {},
     "output_type": "execute_result"
    }
   ],
   "source": [
    "ham.head(5)"
   ]
  },
  {
   "cell_type": "markdown",
   "metadata": {},
   "source": [
    "Список признаков"
   ]
  },
  {
   "cell_type": "code",
   "execution_count": 32,
   "metadata": {
    "ExecuteTime": {
     "end_time": "2021-08-24T19:49:50.528195Z",
     "start_time": "2021-08-24T19:49:50.514560Z"
    }
   },
   "outputs": [
    {
     "data": {
      "text/plain": [
       "Index(['id', 'type', 'date', 'from', 'from_id', 'text', 'actor', 'actor_id',\n",
       "       'action', 'members', 'edited', 'forwarded_from', 'file', 'thumbnail',\n",
       "       'media_type', 'mime_type', 'duration_seconds', 'width', 'height',\n",
       "       'reply_to_message_id', 'photo', 'contact_information.first_name',\n",
       "       'contact_information.last_name', 'contact_information.phone_number',\n",
       "       'sticker_emoji', 'contact_vcard', 'location_information.latitude',\n",
       "       'location_information.longitude', 'via_bot', 'message_id'],\n",
       "      dtype='object')"
      ]
     },
     "execution_count": 32,
     "metadata": {},
     "output_type": "execute_result"
    }
   ],
   "source": [
    "ham.columns"
   ]
  },
  {
   "cell_type": "markdown",
   "metadata": {},
   "source": [
    "Уникальные значения по некоторым признакам"
   ]
  },
  {
   "cell_type": "code",
   "execution_count": 33,
   "metadata": {
    "ExecuteTime": {
     "end_time": "2021-08-24T19:49:58.017858Z",
     "start_time": "2021-08-24T19:49:58.000737Z"
    }
   },
   "outputs": [
    {
     "name": "stdout",
     "output_type": "stream",
     "text": [
      "type ['message' 'service'] \n",
      "\n",
      "actor_id [nan 'user589798156' 'user786448865' 'user572801898' 'user1140663320'\n",
      " 'user1177305831' 'user450782284'] \n",
      "\n",
      "action [nan 'invite_members' 'group_call' 'invite_to_group_call' 'pin_message'] \n",
      "\n",
      "file [nan '(File not included. Change data exporting settings to download.)'] \n",
      "\n",
      "thumbnail [nan '(File not included. Change data exporting settings to download.)'] \n",
      "\n",
      "media_type [nan 'video_file' 'sticker' 'voice_message' 'animation'] \n",
      "\n",
      "sticker_emoji [nan '👍' '🤔' '💩' '🥺' '😂' '🍳' '😄' '😴' '🤑' '🍿' '❗️' '🙄' '😳' '😯' '😭' '😞' '👌'\n",
      " '😱' '😌' '🤟' '🤦\\u200d♂️' '😤' '😔' '🤨' '😨' '😀' '😆' '😃' '👋' '👏' '😰' '😐' '😉'\n",
      " '🤷\\u200d♀️' '🇷🇸' '💬' '🤷\\u200d♂️' '🤢' '😡' '🤣' '😏' '😣' '😘' '😊' '🙂' '🤦' '😬'\n",
      " '⚒' '🙅\\u200d♂️' '😮' '😥' '🤩' '☺️'] \n",
      "\n",
      "photo [nan '(File not included. Change data exporting settings to download.)'] \n",
      "\n",
      "mime_type [nan 'video/mp4' 'image/jpeg' 'audio/ogg'\n",
      " 'application/vnd.openxmlformats-officedocument.wordprocessingml.document'\n",
      " 'image/png' 'application/pdf' 'image/gif' 'application/zip'\n",
      " 'application/octet-stream' 'video/quicktime'] \n",
      "\n",
      "via_bot [nan '@gif'] \n",
      "\n"
     ]
    }
   ],
   "source": [
    "all_cols = ['id', 'type', 'date', 'from', 'from_id', 'text', 'actor', 'actor_id',\n",
    "           'action', 'members', 'edited', 'forwarded_from', 'file', 'thumbnail',\n",
    "           'media_type', 'mime_type', 'duration_seconds', 'width', 'height',\n",
    "           'reply_to_message_id', 'photo', 'contact_information.first_name',\n",
    "           'contact_information.last_name', 'contact_information.phone_number',\n",
    "           'sticker_emoji', 'contact_vcard', 'location_information.latitude',\n",
    "           'location_information.longitude', 'via_bot', 'message_id']\n",
    "\n",
    "some_cols = ['type', 'actor_id', 'action', 'file', 'thumbnail', 'media_type',\n",
    "             'sticker_emoji', 'photo', 'mime_type', 'via_bot',\n",
    "            ]\n",
    "\n",
    "for col in some_cols:\n",
    "    print(col, ham[col].unique(), '\\n')"
   ]
  },
  {
   "cell_type": "code",
   "execution_count": 49,
   "metadata": {
    "ExecuteTime": {
     "end_time": "2021-08-24T20:32:36.319603Z",
     "start_time": "2021-08-24T20:32:36.302685Z"
    }
   },
   "outputs": [
    {
     "data": {
      "text/html": [
       "<div>\n",
       "<style scoped>\n",
       "    .dataframe tbody tr th:only-of-type {\n",
       "        vertical-align: middle;\n",
       "    }\n",
       "\n",
       "    .dataframe tbody tr th {\n",
       "        vertical-align: top;\n",
       "    }\n",
       "\n",
       "    .dataframe thead th {\n",
       "        text-align: right;\n",
       "    }\n",
       "</style>\n",
       "<table border=\"1\" class=\"dataframe\">\n",
       "  <thead>\n",
       "    <tr style=\"text-align: right;\">\n",
       "      <th></th>\n",
       "      <th>from</th>\n",
       "      <th>text</th>\n",
       "      <th>sticker_emoji</th>\n",
       "    </tr>\n",
       "  </thead>\n",
       "  <tbody>\n",
       "    <tr>\n",
       "      <th>0</th>\n",
       "      <td>Alexandr</td>\n",
       "      <td>Че за возня опять? Возле верного</td>\n",
       "      <td>NaN</td>\n",
       "    </tr>\n",
       "    <tr>\n",
       "      <th>2</th>\n",
       "      <td>Lia</td>\n",
       "      <td>Что то похожее на стрельбу было и сейчас три машины полицейских</td>\n",
       "      <td>NaN</td>\n",
       "    </tr>\n",
       "    <tr>\n",
       "      <th>3</th>\n",
       "      <td>Ismail</td>\n",
       "      <td>А кто-то в курсе что за стрельба?</td>\n",
       "      <td>NaN</td>\n",
       "    </tr>\n",
       "    <tr>\n",
       "      <th>4</th>\n",
       "      <td>Maria Gaurikh</td>\n",
       "      <td>Предупредительный был, видимо , от ментов</td>\n",
       "      <td>NaN</td>\n",
       "    </tr>\n",
       "    <tr>\n",
       "      <th>6</th>\n",
       "      <td>Andrey Skalny</td>\n",
       "      <td>Всё закончилось. Разборки были с поножовщиной</td>\n",
       "      <td>NaN</td>\n",
       "    </tr>\n",
       "    <tr>\n",
       "      <th>...</th>\n",
       "      <td>...</td>\n",
       "      <td>...</td>\n",
       "      <td>...</td>\n",
       "    </tr>\n",
       "    <tr>\n",
       "      <th>20440</th>\n",
       "      <td>Alexandra ▪️</td>\n",
       "      <td>на доброделе недавно голосование было о благоустройстве. вроде даже наш лесопарк победил 🤔</td>\n",
       "      <td>NaN</td>\n",
       "    </tr>\n",
       "    <tr>\n",
       "      <th>20441</th>\n",
       "      <td>Татьяна</td>\n",
       "      <td>Ну вот) значит будем скоро гулять по новому парку 👏🏻</td>\n",
       "      <td>NaN</td>\n",
       "    </tr>\n",
       "    <tr>\n",
       "      <th>20442</th>\n",
       "      <td>Juriy</td>\n",
       "      <td>Готов на платной основе.)))</td>\n",
       "      <td>NaN</td>\n",
       "    </tr>\n",
       "    <tr>\n",
       "      <th>20443</th>\n",
       "      <td>Дмитрий</td>\n",
       "      <td>Если Дёмин Луг 6/5 то это у моря)))</td>\n",
       "      <td>NaN</td>\n",
       "    </tr>\n",
       "    <tr>\n",
       "      <th>20444</th>\n",
       "      <td>Fidel</td>\n",
       "      <td></td>\n",
       "      <td>😄</td>\n",
       "    </tr>\n",
       "  </tbody>\n",
       "</table>\n",
       "<p>20438 rows × 3 columns</p>\n",
       "</div>"
      ],
      "text/plain": [
       "                from  \\\n",
       "0           Alexandr   \n",
       "2                Lia   \n",
       "3             Ismail   \n",
       "4      Maria Gaurikh   \n",
       "6      Andrey Skalny   \n",
       "...              ...   \n",
       "20440   Alexandra ▪️   \n",
       "20441        Татьяна   \n",
       "20442          Juriy   \n",
       "20443        Дмитрий   \n",
       "20444          Fidel   \n",
       "\n",
       "                                                                                             text  \\\n",
       "0                                                                Че за возня опять? Возле верного   \n",
       "2                                 Что то похожее на стрельбу было и сейчас три машины полицейских   \n",
       "3                                                               А кто-то в курсе что за стрельба?   \n",
       "4                                                       Предупредительный был, видимо , от ментов   \n",
       "6                                                   Всё закончилось. Разборки были с поножовщиной   \n",
       "...                                                                                           ...   \n",
       "20440  на доброделе недавно голосование было о благоустройстве. вроде даже наш лесопарк победил 🤔   \n",
       "20441                                        Ну вот) значит будем скоро гулять по новому парку 👏🏻   \n",
       "20442                                                                 Готов на платной основе.)))   \n",
       "20443                                                         Если Дёмин Луг 6/5 то это у моря)))   \n",
       "20444                                                                                               \n",
       "\n",
       "      sticker_emoji  \n",
       "0               NaN  \n",
       "2               NaN  \n",
       "3               NaN  \n",
       "4               NaN  \n",
       "6               NaN  \n",
       "...             ...  \n",
       "20440           NaN  \n",
       "20441           NaN  \n",
       "20442           NaN  \n",
       "20443           NaN  \n",
       "20444             😄  \n",
       "\n",
       "[20438 rows x 3 columns]"
      ]
     },
     "execution_count": 49,
     "metadata": {},
     "output_type": "execute_result"
    }
   ],
   "source": [
    "ham = ham.drop(['id', 'type', 'date', 'from_id', 'actor', 'actor_id',\n",
    "                'action', 'members', 'edited', 'forwarded_from', 'file', 'thumbnail',\n",
    "                'media_type', 'mime_type', 'duration_seconds', 'width', 'height',\n",
    "                'reply_to_message_id', 'photo', 'contact_information.first_name',\n",
    "                'contact_information.last_name', 'contact_information.phone_number',\n",
    "                'contact_vcard', 'location_information.latitude',\n",
    "                'location_information.longitude', 'via_bot', 'message_id'], axis=1)\n",
    "ham"
   ]
  },
  {
   "cell_type": "code",
   "execution_count": 52,
   "metadata": {
    "ExecuteTime": {
     "end_time": "2021-08-24T20:51:43.284218Z",
     "start_time": "2021-08-24T20:51:43.264239Z"
    }
   },
   "outputs": [
    {
     "data": {
      "text/html": [
       "<div>\n",
       "<style scoped>\n",
       "    .dataframe tbody tr th:only-of-type {\n",
       "        vertical-align: middle;\n",
       "    }\n",
       "\n",
       "    .dataframe tbody tr th {\n",
       "        vertical-align: top;\n",
       "    }\n",
       "\n",
       "    .dataframe thead th {\n",
       "        text-align: right;\n",
       "    }\n",
       "</style>\n",
       "<table border=\"1\" class=\"dataframe\">\n",
       "  <thead>\n",
       "    <tr style=\"text-align: right;\">\n",
       "      <th></th>\n",
       "      <th>from</th>\n",
       "      <th>text</th>\n",
       "      <th>sticker_emoji</th>\n",
       "    </tr>\n",
       "  </thead>\n",
       "  <tbody>\n",
       "    <tr>\n",
       "      <th>20435</th>\n",
       "      <td>Татьяна</td>\n",
       "      <td>Пмж</td>\n",
       "      <td>NaN</td>\n",
       "    </tr>\n",
       "    <tr>\n",
       "      <th>20436</th>\n",
       "      <td>Nik</td>\n",
       "      <td>у моря надо брать )</td>\n",
       "      <td>NaN</td>\n",
       "    </tr>\n",
       "    <tr>\n",
       "      <th>20437</th>\n",
       "      <td>Татьяна</td>\n",
       "      <td>На море только отдыхать пока)</td>\n",
       "      <td>NaN</td>\n",
       "    </tr>\n",
       "    <tr>\n",
       "      <th>20438</th>\n",
       "      <td>Дмитрий</td>\n",
       "      <td>В сухую погоду и в выходные вполне (только его гадят несознательные отдыхающие). А так чтобы вечером после...</td>\n",
       "      <td>NaN</td>\n",
       "    </tr>\n",
       "    <tr>\n",
       "      <th>20439</th>\n",
       "      <td>Татьяна</td>\n",
       "      <td>Главное чтобы было с кем, а где можно думаю и придумать)) а парк может когда-то и обустроят</td>\n",
       "      <td>NaN</td>\n",
       "    </tr>\n",
       "    <tr>\n",
       "      <th>20440</th>\n",
       "      <td>Alexandra ▪️</td>\n",
       "      <td>на доброделе недавно голосование было о благоустройстве. вроде даже наш лесопарк победил 🤔</td>\n",
       "      <td>NaN</td>\n",
       "    </tr>\n",
       "    <tr>\n",
       "      <th>20441</th>\n",
       "      <td>Татьяна</td>\n",
       "      <td>Ну вот) значит будем скоро гулять по новому парку 👏🏻</td>\n",
       "      <td>NaN</td>\n",
       "    </tr>\n",
       "    <tr>\n",
       "      <th>20442</th>\n",
       "      <td>Juriy</td>\n",
       "      <td>Готов на платной основе.)))</td>\n",
       "      <td>NaN</td>\n",
       "    </tr>\n",
       "    <tr>\n",
       "      <th>20443</th>\n",
       "      <td>Дмитрий</td>\n",
       "      <td>Если Дёмин Луг 6/5 то это у моря)))</td>\n",
       "      <td>NaN</td>\n",
       "    </tr>\n",
       "    <tr>\n",
       "      <th>20444</th>\n",
       "      <td>Fidel</td>\n",
       "      <td></td>\n",
       "      <td>😄</td>\n",
       "    </tr>\n",
       "  </tbody>\n",
       "</table>\n",
       "</div>"
      ],
      "text/plain": [
       "               from  \\\n",
       "20435       Татьяна   \n",
       "20436           Nik   \n",
       "20437       Татьяна   \n",
       "20438       Дмитрий   \n",
       "20439       Татьяна   \n",
       "20440  Alexandra ▪️   \n",
       "20441       Татьяна   \n",
       "20442         Juriy   \n",
       "20443       Дмитрий   \n",
       "20444         Fidel   \n",
       "\n",
       "                                                                                                                text  \\\n",
       "20435                                                                                                            Пмж   \n",
       "20436                                                                                            у моря надо брать )   \n",
       "20437                                                                                  На море только отдыхать пока)   \n",
       "20438  В сухую погоду и в выходные вполне (только его гадят несознательные отдыхающие). А так чтобы вечером после...   \n",
       "20439                    Главное чтобы было с кем, а где можно думаю и придумать)) а парк может когда-то и обустроят   \n",
       "20440                     на доброделе недавно голосование было о благоустройстве. вроде даже наш лесопарк победил 🤔   \n",
       "20441                                                           Ну вот) значит будем скоро гулять по новому парку 👏🏻   \n",
       "20442                                                                                    Готов на платной основе.)))   \n",
       "20443                                                                            Если Дёмин Луг 6/5 то это у моря)))   \n",
       "20444                                                                                                                  \n",
       "\n",
       "      sticker_emoji  \n",
       "20435           NaN  \n",
       "20436           NaN  \n",
       "20437           NaN  \n",
       "20438           NaN  \n",
       "20439           NaN  \n",
       "20440           NaN  \n",
       "20441           NaN  \n",
       "20442           NaN  \n",
       "20443           NaN  \n",
       "20444             😄  "
      ]
     },
     "execution_count": 52,
     "metadata": {},
     "output_type": "execute_result"
    }
   ],
   "source": [
    "ham.tail(10)"
   ]
  },
  {
   "cell_type": "code",
   "execution_count": 75,
   "metadata": {
    "ExecuteTime": {
     "end_time": "2021-08-24T21:07:29.186319Z",
     "start_time": "2021-08-24T21:07:29.175644Z"
    },
    "scrolled": true
   },
   "outputs": [],
   "source": [
    "def clean_msg(msg):\n",
    "    if isinstance(msg, list):\n",
    "        list_len = len(msg) - 2\n",
    "        for pos, elem in enumerate(msg):\n",
    "            if isinstance(elem, dict) and pos ==  list_len:\n",
    "                for key, val in elem.items():\n",
    "                    if key == 'type' and val == 'hashtag':\n",
    "                        break\n",
    "                    if key == 'type' and val == 'bold':\n",
    "                        break\n",
    "                    if key == 'type' and val == 'mention_name':\n",
    "                        break\n",
    "                    if key == 'text':\n",
    "                        return val\n",
    "    if isinstance(msg, str):\n",
    "        return msg"
   ]
  },
  {
   "cell_type": "code",
   "execution_count": 30,
   "metadata": {
    "ExecuteTime": {
     "end_time": "2021-08-24T19:46:24.698170Z",
     "start_time": "2021-08-24T19:46:24.670579Z"
    }
   },
   "outputs": [
    {
     "data": {
      "text/plain": [
       "0                                                                   Че за возня опять? Возле верного\n",
       "1                                    Что то похожее на стрельбу было и сейчас три машины полицейских\n",
       "2                                                                  А кто-то в курсе что за стрельба?\n",
       "3                                                          Предупредительный был, видимо , от ментов\n",
       "4                                                      Всё закончилось. Разборки были с поножовщиной\n",
       "                                                    ...                                             \n",
       "18042    Главное чтобы было с кем, а где можно думаю и придумать)) а парк может когда-то и обустроят\n",
       "18043     на доброделе недавно голосование было о благоустройстве. вроде даже наш лесопарк победил 🤔\n",
       "18044                                           Ну вот) значит будем скоро гулять по новому парку 👏🏻\n",
       "18045                                                                    Готов на платной основе.)))\n",
       "18046                                                            Если Дёмин Луг 6/5 то это у моря)))\n",
       "Name: text, Length: 18047, dtype: object"
      ]
     },
     "execution_count": 30,
     "metadata": {},
     "output_type": "execute_result"
    }
   ],
   "source": [
    "# Извлечение из json текста, , замена '' на Nan, удаление строк (сообщений) без текста\n",
    "# обновление индекса после удаление строк (индекс теперь по порядку)\n",
    "ham = ham_raw1['text'].apply(clean_msg).replace('', np.nan).dropna().reset_index(drop=True)\n",
    "ham"
   ]
  },
  {
   "cell_type": "code",
   "execution_count": 12,
   "metadata": {
    "ExecuteTime": {
     "end_time": "2021-04-04T14:22:30.066765Z",
     "start_time": "2021-04-04T14:22:30.051722Z"
    },
    "scrolled": true
   },
   "outputs": [
    {
     "data": {
      "text/plain": [
       "0                                                                                                           Всем ✋🏻\n",
       "1     Это супергруппа. А это значит что админ может редактировать и удалять любые сообщения. Пользователи могут ...\n",
       "2                                                                                                                 /\n",
       "3                                                                             не пугайтесь, немного почистил мусор)\n",
       "4                                                                                                      Всем привет)\n",
       "5                                                                                                       Привет всем\n",
       "6                                                                                                      Добрый вечер\n",
       "7                                                                                                   Доброе утро! :)\n",
       "8     Дети разные бывают - если это маленькие - то родителям обьяснил бы, если великовозрастные дэбилы - начисти...\n",
       "9     С учётом того что у нас участились случаи закидывания прохожих всякими кульками и пакетами с мукой... Надо...\n",
       "10    Если не ошибаюсь это уже не в первый раз.  Они ещё иногда самокаты в машины запускают.  Может конечно это ...\n",
       "11                                      Я так понимаю, это не первый случай, ранее в ВК читала и тоже на Ситникова.\n",
       "12    За руку и беседовать с родителями. А если не помогает - к участковому на беседу. Порча чужого имущества на...\n",
       "13                                                                                                     Всем привет!\n",
       "14                                                                                                             😂😂😂😂\n",
       "15                                                                              Вопрос к админу , а флудочат есть ?\n",
       "16                                                                                               Че такое флудочат?\n",
       "17    Вопрос поставил меня в тупик ))) ну все , что оффтоп , без каких либо правил ..ну как бы галатнее то выраз...\n",
       "18    И канал сделайте для важных новостей , мне , к примеру , удобнее новости в телеге читать , в вк редко захо...\n",
       "19                                                                                         Есть такой чат в ватсапе\n",
       "20                                                                                                Как туда попасть?\n",
       "21                                          В этой группе напишите администратору Александру, он и в ватсапе админ)\n",
       "22    Чат , или канал  ? Чат - это вот мы тут сидим , переписываемся с вами , канал - односторонний способ перед...\n",
       "23                                                                                                         Спасибо!\n",
       "24                                   Чат, но там все строго по делу, только важная инфа, без обсуждений, иначе бан😏\n",
       "25                                                         Ну и для пользователей телеги канал ) было бы не плохо )\n",
       "26                                              В чате флуда никаких ограничений. Ограничения в чате новостей и ЧП.\n",
       "27                                                                                                      Всем привет\n",
       "28                                                                                                      Ну привет 😆\n",
       "29                                                                                                                ✋\n",
       "30                                                                                                        Здрасьте)\n",
       "31    Добрый вечер!) Вопрос ко всем сколько примерно выходит кварплата у вас в месяц?) У меня за этот месяц одно...\n",
       "32                                                           При том что проживает и зарегистрирован один человек!)\n",
       "33                                                                                      Какая непонятная ситуация!)\n",
       "34                                                                                                       91 м2 6500\n",
       "35                                                                                         расход большой воды и жэ\n",
       "36                                                                                                               ээ\n",
       "37                                                                                                       40 кв 3400\n",
       "38                                                                                                     46,43 - 4100\n",
       "39                                      Мне в этот раз 7 пришло, но я показания счетчиков второй раз всего подавал😂\n",
       "40                                                                                                        40 метров\n",
       "41            Вот самое дорогое это водоотведение по ипу 1548, холодное водоснабжение 1761 и тех. обслуживание 1802\n",
       "42                                            Я когда начал по счетчикам платить в первый раз вообще 16 пришло!))))\n",
       "43                                          Потом был перерасчет на все равно мне кажется что как то не так считают\n",
       "44                                                                                    Значит я еще легко отделался)\n",
       "45                                      А вы заведите тетрадку и записывайте показания которые подаёте каждый месяц\n",
       "46                                                               Это я сделал!) Есть фото и скриншоты ежемесячные!)\n",
       "47                                               Потому что частенько бывает, что бухгалтерия \"случайно\" ошибается)\n",
       "48                                                                       Я сам из Казани, так у нас это милое дело)\n",
       "49                                                                                           Всегда нужно проверять\n",
       "Name: text, dtype: object"
      ]
     },
     "execution_count": 12,
     "metadata": {},
     "output_type": "execute_result"
    }
   ],
   "source": [
    "# увеличение максимальной ширины столбца\n",
    "pd.set_option('max_colwidth', 110)\n",
    "ham.head(50)"
   ]
  },
  {
   "cell_type": "markdown",
   "metadata": {},
   "source": [
    "## Обработка сообщений со спамом"
   ]
  },
  {
   "cell_type": "code",
   "execution_count": 58,
   "metadata": {
    "ExecuteTime": {
     "end_time": "2021-08-24T20:54:25.536624Z",
     "start_time": "2021-08-24T20:54:25.507012Z"
    },
    "scrolled": true
   },
   "outputs": [
    {
     "data": {
      "text/html": [
       "<div>\n",
       "<style scoped>\n",
       "    .dataframe tbody tr th:only-of-type {\n",
       "        vertical-align: middle;\n",
       "    }\n",
       "\n",
       "    .dataframe tbody tr th {\n",
       "        vertical-align: top;\n",
       "    }\n",
       "\n",
       "    .dataframe thead th {\n",
       "        text-align: right;\n",
       "    }\n",
       "</style>\n",
       "<table border=\"1\" class=\"dataframe\">\n",
       "  <thead>\n",
       "    <tr style=\"text-align: right;\">\n",
       "      <th></th>\n",
       "      <th>name</th>\n",
       "      <th>type</th>\n",
       "      <th>id</th>\n",
       "      <th>messages</th>\n",
       "    </tr>\n",
       "  </thead>\n",
       "  <tbody>\n",
       "    <tr>\n",
       "      <th>0</th>\n",
       "      <td>Журнал НИ</td>\n",
       "      <td>private_channel</td>\n",
       "      <td>1212843637</td>\n",
       "      <td>{'id': 1, 'type': 'service', 'date': '2020-07-07T20:25:57', 'actor': 'Журнал НИ', 'actor_id': 'channel1212...</td>\n",
       "    </tr>\n",
       "    <tr>\n",
       "      <th>1</th>\n",
       "      <td>Журнал НИ</td>\n",
       "      <td>private_channel</td>\n",
       "      <td>1212843637</td>\n",
       "      <td>{'id': 4, 'type': 'message', 'date': '2020-07-07T20:27:15', 'from': 'Журнал НИ', 'from_id': 'channel121284...</td>\n",
       "    </tr>\n",
       "    <tr>\n",
       "      <th>2</th>\n",
       "      <td>Журнал НИ</td>\n",
       "      <td>private_channel</td>\n",
       "      <td>1212843637</td>\n",
       "      <td>{'id': 5, 'type': 'message', 'date': '2020-07-07T20:31:15', 'from': 'Журнал НИ', 'from_id': 'channel121284...</td>\n",
       "    </tr>\n",
       "    <tr>\n",
       "      <th>3</th>\n",
       "      <td>Журнал НИ</td>\n",
       "      <td>private_channel</td>\n",
       "      <td>1212843637</td>\n",
       "      <td>{'id': 6, 'type': 'message', 'date': '2020-07-07T20:34:59', 'from': 'Журнал НИ', 'from_id': 'channel121284...</td>\n",
       "    </tr>\n",
       "    <tr>\n",
       "      <th>4</th>\n",
       "      <td>Журнал НИ</td>\n",
       "      <td>private_channel</td>\n",
       "      <td>1212843637</td>\n",
       "      <td>{'id': 7, 'type': 'message', 'date': '2020-07-07T20:35:36', 'from': 'Журнал НИ', 'from_id': 'channel121284...</td>\n",
       "    </tr>\n",
       "  </tbody>\n",
       "</table>\n",
       "</div>"
      ],
      "text/plain": [
       "        name             type          id  \\\n",
       "0  Журнал НИ  private_channel  1212843637   \n",
       "1  Журнал НИ  private_channel  1212843637   \n",
       "2  Журнал НИ  private_channel  1212843637   \n",
       "3  Журнал НИ  private_channel  1212843637   \n",
       "4  Журнал НИ  private_channel  1212843637   \n",
       "\n",
       "                                                                                                        messages  \n",
       "0  {'id': 1, 'type': 'service', 'date': '2020-07-07T20:25:57', 'actor': 'Журнал НИ', 'actor_id': 'channel1212...  \n",
       "1  {'id': 4, 'type': 'message', 'date': '2020-07-07T20:27:15', 'from': 'Журнал НИ', 'from_id': 'channel121284...  \n",
       "2  {'id': 5, 'type': 'message', 'date': '2020-07-07T20:31:15', 'from': 'Журнал НИ', 'from_id': 'channel121284...  \n",
       "3  {'id': 6, 'type': 'message', 'date': '2020-07-07T20:34:59', 'from': 'Журнал НИ', 'from_id': 'channel121284...  \n",
       "4  {'id': 7, 'type': 'message', 'date': '2020-07-07T20:35:36', 'from': 'Журнал НИ', 'from_id': 'channel121284...  "
      ]
     },
     "execution_count": 58,
     "metadata": {},
     "output_type": "execute_result"
    }
   ],
   "source": [
    "spam_raw.head(5)"
   ]
  },
  {
   "cell_type": "code",
   "execution_count": 60,
   "metadata": {
    "ExecuteTime": {
     "end_time": "2021-08-24T20:56:16.915204Z",
     "start_time": "2021-08-24T20:56:16.651135Z"
    }
   },
   "outputs": [
    {
     "data": {
      "text/html": [
       "<div>\n",
       "<style scoped>\n",
       "    .dataframe tbody tr th:only-of-type {\n",
       "        vertical-align: middle;\n",
       "    }\n",
       "\n",
       "    .dataframe tbody tr th {\n",
       "        vertical-align: top;\n",
       "    }\n",
       "\n",
       "    .dataframe thead th {\n",
       "        text-align: right;\n",
       "    }\n",
       "</style>\n",
       "<table border=\"1\" class=\"dataframe\">\n",
       "  <thead>\n",
       "    <tr style=\"text-align: right;\">\n",
       "      <th></th>\n",
       "      <th>id</th>\n",
       "      <th>type</th>\n",
       "      <th>date</th>\n",
       "      <th>actor</th>\n",
       "      <th>actor_id</th>\n",
       "      <th>action</th>\n",
       "      <th>title</th>\n",
       "      <th>text</th>\n",
       "      <th>from</th>\n",
       "      <th>from_id</th>\n",
       "    </tr>\n",
       "  </thead>\n",
       "  <tbody>\n",
       "    <tr>\n",
       "      <th>3088</th>\n",
       "      <td>3091</td>\n",
       "      <td>message</td>\n",
       "      <td>2021-08-22T22:40:49</td>\n",
       "      <td>NaN</td>\n",
       "      <td>NaN</td>\n",
       "      <td>NaN</td>\n",
       "      <td>NaN</td>\n",
       "      <td>[🆔 , {'type': 'hashtag', 'text': '#НовыйПользователь'}, \\n\\n, {'type': 'bold', 'text': 'Группа:'},  , {'ty...</td>\n",
       "      <td>Журнал НИ</td>\n",
       "      <td>channel1212843637</td>\n",
       "    </tr>\n",
       "    <tr>\n",
       "      <th>3089</th>\n",
       "      <td>3092</td>\n",
       "      <td>message</td>\n",
       "      <td>2021-08-23T23:17:05</td>\n",
       "      <td>NaN</td>\n",
       "      <td>NaN</td>\n",
       "      <td>NaN</td>\n",
       "      <td>NaN</td>\n",
       "      <td>[🆔 , {'type': 'hashtag', 'text': '#НовыйПользователь'}, \\n\\n, {'type': 'bold', 'text': 'Группа:'},  , {'ty...</td>\n",
       "      <td>Журнал НИ</td>\n",
       "      <td>channel1212843637</td>\n",
       "    </tr>\n",
       "    <tr>\n",
       "      <th>3090</th>\n",
       "      <td>3093</td>\n",
       "      <td>message</td>\n",
       "      <td>2021-08-24T00:33:31</td>\n",
       "      <td>NaN</td>\n",
       "      <td>NaN</td>\n",
       "      <td>NaN</td>\n",
       "      <td>NaN</td>\n",
       "      <td>[🆔 , {'type': 'hashtag', 'text': '#НовыйПользователь'}, \\n\\n, {'type': 'bold', 'text': 'Группа:'},  , {'ty...</td>\n",
       "      <td>Журнал НИ</td>\n",
       "      <td>channel1212843637</td>\n",
       "    </tr>\n",
       "    <tr>\n",
       "      <th>3091</th>\n",
       "      <td>3094</td>\n",
       "      <td>message</td>\n",
       "      <td>2021-08-24T00:33:43</td>\n",
       "      <td>NaN</td>\n",
       "      <td>NaN</td>\n",
       "      <td>NaN</td>\n",
       "      <td>NaN</td>\n",
       "      <td>[✅ Пользователь прошедший проверку разблокирован\\n\\n, {'type': 'bold', 'text': 'Группа:'},  , {'type': 'co...</td>\n",
       "      <td>Журнал НИ</td>\n",
       "      <td>channel1212843637</td>\n",
       "    </tr>\n",
       "    <tr>\n",
       "      <th>3092</th>\n",
       "      <td>3095</td>\n",
       "      <td>message</td>\n",
       "      <td>2021-08-24T12:07:29</td>\n",
       "      <td>NaN</td>\n",
       "      <td>NaN</td>\n",
       "      <td>NaN</td>\n",
       "      <td>NaN</td>\n",
       "      <td>[🆔 , {'type': 'hashtag', 'text': '#НовыйПользователь'}, \\n\\n, {'type': 'bold', 'text': 'Группа:'},  , {'ty...</td>\n",
       "      <td>Журнал НИ</td>\n",
       "      <td>channel1212843637</td>\n",
       "    </tr>\n",
       "    <tr>\n",
       "      <th>3093</th>\n",
       "      <td>3096</td>\n",
       "      <td>message</td>\n",
       "      <td>2021-08-24T13:25:44</td>\n",
       "      <td>NaN</td>\n",
       "      <td>NaN</td>\n",
       "      <td>NaN</td>\n",
       "      <td>NaN</td>\n",
       "      <td>[🆔 , {'type': 'hashtag', 'text': '#НовыйПользователь'}, \\n\\n, {'type': 'bold', 'text': 'Группа:'},  , {'ty...</td>\n",
       "      <td>Журнал НИ</td>\n",
       "      <td>channel1212843637</td>\n",
       "    </tr>\n",
       "    <tr>\n",
       "      <th>3094</th>\n",
       "      <td>3097</td>\n",
       "      <td>message</td>\n",
       "      <td>2021-08-24T13:57:26</td>\n",
       "      <td>NaN</td>\n",
       "      <td>NaN</td>\n",
       "      <td>NaN</td>\n",
       "      <td>NaN</td>\n",
       "      <td>[🆔 , {'type': 'hashtag', 'text': '#НовыйПользователь'}, \\n\\n, {'type': 'bold', 'text': 'Группа:'},  , {'ty...</td>\n",
       "      <td>Журнал НИ</td>\n",
       "      <td>channel1212843637</td>\n",
       "    </tr>\n",
       "    <tr>\n",
       "      <th>3095</th>\n",
       "      <td>3098</td>\n",
       "      <td>message</td>\n",
       "      <td>2021-08-24T19:12:21</td>\n",
       "      <td>NaN</td>\n",
       "      <td>NaN</td>\n",
       "      <td>NaN</td>\n",
       "      <td>NaN</td>\n",
       "      <td>[🆔 , {'type': 'hashtag', 'text': '#НовыйПользователь'}, \\n\\n, {'type': 'bold', 'text': 'Группа:'},  , {'ty...</td>\n",
       "      <td>Журнал НИ</td>\n",
       "      <td>channel1212843637</td>\n",
       "    </tr>\n",
       "    <tr>\n",
       "      <th>3096</th>\n",
       "      <td>3099</td>\n",
       "      <td>message</td>\n",
       "      <td>2021-08-24T19:12:25</td>\n",
       "      <td>NaN</td>\n",
       "      <td>NaN</td>\n",
       "      <td>NaN</td>\n",
       "      <td>NaN</td>\n",
       "      <td>[✅ Пользователь прошедший проверку разблокирован\\n\\n, {'type': 'bold', 'text': 'Группа:'},  , {'type': 'co...</td>\n",
       "      <td>Журнал НИ</td>\n",
       "      <td>channel1212843637</td>\n",
       "    </tr>\n",
       "    <tr>\n",
       "      <th>3097</th>\n",
       "      <td>3100</td>\n",
       "      <td>message</td>\n",
       "      <td>2021-08-24T21:27:48</td>\n",
       "      <td>NaN</td>\n",
       "      <td>NaN</td>\n",
       "      <td>NaN</td>\n",
       "      <td>NaN</td>\n",
       "      <td>[🆔 , {'type': 'hashtag', 'text': '#НовыйПользователь'}, \\n\\n, {'type': 'bold', 'text': 'Группа:'},  , {'ty...</td>\n",
       "      <td>Журнал НИ</td>\n",
       "      <td>channel1212843637</td>\n",
       "    </tr>\n",
       "  </tbody>\n",
       "</table>\n",
       "</div>"
      ],
      "text/plain": [
       "        id     type                 date actor actor_id action title  \\\n",
       "3088  3091  message  2021-08-22T22:40:49   NaN      NaN    NaN   NaN   \n",
       "3089  3092  message  2021-08-23T23:17:05   NaN      NaN    NaN   NaN   \n",
       "3090  3093  message  2021-08-24T00:33:31   NaN      NaN    NaN   NaN   \n",
       "3091  3094  message  2021-08-24T00:33:43   NaN      NaN    NaN   NaN   \n",
       "3092  3095  message  2021-08-24T12:07:29   NaN      NaN    NaN   NaN   \n",
       "3093  3096  message  2021-08-24T13:25:44   NaN      NaN    NaN   NaN   \n",
       "3094  3097  message  2021-08-24T13:57:26   NaN      NaN    NaN   NaN   \n",
       "3095  3098  message  2021-08-24T19:12:21   NaN      NaN    NaN   NaN   \n",
       "3096  3099  message  2021-08-24T19:12:25   NaN      NaN    NaN   NaN   \n",
       "3097  3100  message  2021-08-24T21:27:48   NaN      NaN    NaN   NaN   \n",
       "\n",
       "                                                                                                               text  \\\n",
       "3088  [🆔 , {'type': 'hashtag', 'text': '#НовыйПользователь'}, \\n\\n, {'type': 'bold', 'text': 'Группа:'},  , {'ty...   \n",
       "3089  [🆔 , {'type': 'hashtag', 'text': '#НовыйПользователь'}, \\n\\n, {'type': 'bold', 'text': 'Группа:'},  , {'ty...   \n",
       "3090  [🆔 , {'type': 'hashtag', 'text': '#НовыйПользователь'}, \\n\\n, {'type': 'bold', 'text': 'Группа:'},  , {'ty...   \n",
       "3091  [✅ Пользователь прошедший проверку разблокирован\\n\\n, {'type': 'bold', 'text': 'Группа:'},  , {'type': 'co...   \n",
       "3092  [🆔 , {'type': 'hashtag', 'text': '#НовыйПользователь'}, \\n\\n, {'type': 'bold', 'text': 'Группа:'},  , {'ty...   \n",
       "3093  [🆔 , {'type': 'hashtag', 'text': '#НовыйПользователь'}, \\n\\n, {'type': 'bold', 'text': 'Группа:'},  , {'ty...   \n",
       "3094  [🆔 , {'type': 'hashtag', 'text': '#НовыйПользователь'}, \\n\\n, {'type': 'bold', 'text': 'Группа:'},  , {'ty...   \n",
       "3095  [🆔 , {'type': 'hashtag', 'text': '#НовыйПользователь'}, \\n\\n, {'type': 'bold', 'text': 'Группа:'},  , {'ty...   \n",
       "3096  [✅ Пользователь прошедший проверку разблокирован\\n\\n, {'type': 'bold', 'text': 'Группа:'},  , {'type': 'co...   \n",
       "3097  [🆔 , {'type': 'hashtag', 'text': '#НовыйПользователь'}, \\n\\n, {'type': 'bold', 'text': 'Группа:'},  , {'ty...   \n",
       "\n",
       "           from            from_id  \n",
       "3088  Журнал НИ  channel1212843637  \n",
       "3089  Журнал НИ  channel1212843637  \n",
       "3090  Журнал НИ  channel1212843637  \n",
       "3091  Журнал НИ  channel1212843637  \n",
       "3092  Журнал НИ  channel1212843637  \n",
       "3093  Журнал НИ  channel1212843637  \n",
       "3094  Журнал НИ  channel1212843637  \n",
       "3095  Журнал НИ  channel1212843637  \n",
       "3096  Журнал НИ  channel1212843637  \n",
       "3097  Журнал НИ  channel1212843637  "
      ]
     },
     "execution_count": 60,
     "metadata": {},
     "output_type": "execute_result"
    }
   ],
   "source": [
    "spam = pd.json_normalize(spam_raw['messages'])\n",
    "spam.tail(10)"
   ]
  },
  {
   "cell_type": "code",
   "execution_count": 63,
   "metadata": {
    "ExecuteTime": {
     "end_time": "2021-08-24T20:59:31.054261Z",
     "start_time": "2021-08-24T20:59:31.040793Z"
    }
   },
   "outputs": [
    {
     "data": {
      "text/plain": [
       "Index(['id', 'type', 'date', 'actor', 'actor_id', 'action', 'title', 'text',\n",
       "       'from', 'from_id'],\n",
       "      dtype='object')"
      ]
     },
     "execution_count": 63,
     "metadata": {},
     "output_type": "execute_result"
    }
   ],
   "source": [
    "spam.columns"
   ]
  },
  {
   "cell_type": "code",
   "execution_count": 64,
   "metadata": {
    "ExecuteTime": {
     "end_time": "2021-08-24T20:59:42.541632Z",
     "start_time": "2021-08-24T20:59:42.531585Z"
    }
   },
   "outputs": [
    {
     "name": "stdout",
     "output_type": "stream",
     "text": [
      "type ['service' 'message']\n",
      "actor ['Журнал НИ' nan]\n",
      "actor_id ['channel1212843637' nan]\n",
      "action ['create_channel' nan]\n",
      "title ['Журнал НИ' nan]\n",
      "from [nan 'Журнал НИ']\n",
      "from_id [nan 'channel1212843637']\n"
     ]
    }
   ],
   "source": [
    "for col in ['type', 'actor', 'actor_id', 'action', 'title', 'from', 'from_id']:\n",
    "    print(col, spam[col].unique())"
   ]
  },
  {
   "cell_type": "code",
   "execution_count": 65,
   "metadata": {
    "ExecuteTime": {
     "end_time": "2021-08-24T21:03:19.004279Z",
     "start_time": "2021-08-24T21:03:18.985330Z"
    }
   },
   "outputs": [
    {
     "data": {
      "text/plain": [
       "3083    [✅ Пользователь прошедший проверку разблокирован\\n\\n, {'type': 'bold', 'text': 'Группа:'},  , {'type': 'co...\n",
       "3084    [🆔 , {'type': 'hashtag', 'text': '#НовыйПользователь'}, \\n\\n, {'type': 'bold', 'text': 'Группа:'},  , {'ty...\n",
       "3085    [🆔 , {'type': 'hashtag', 'text': '#НовыйПользователь'},  , {'type': 'hashtag', 'text': '#Вернулся'}, \\n\\nП...\n",
       "3086    [✅ Пользователь прошедший проверку разблокирован\\n\\n, {'type': 'bold', 'text': 'Группа:'},  , {'type': 'co...\n",
       "3087    [🆔 , {'type': 'hashtag', 'text': '#НовыйПользователь'}, \\n\\n, {'type': 'bold', 'text': 'Группа:'},  , {'ty...\n",
       "3088    [🆔 , {'type': 'hashtag', 'text': '#НовыйПользователь'}, \\n\\n, {'type': 'bold', 'text': 'Группа:'},  , {'ty...\n",
       "3089    [🆔 , {'type': 'hashtag', 'text': '#НовыйПользователь'}, \\n\\n, {'type': 'bold', 'text': 'Группа:'},  , {'ty...\n",
       "3090    [🆔 , {'type': 'hashtag', 'text': '#НовыйПользователь'}, \\n\\n, {'type': 'bold', 'text': 'Группа:'},  , {'ty...\n",
       "3091    [✅ Пользователь прошедший проверку разблокирован\\n\\n, {'type': 'bold', 'text': 'Группа:'},  , {'type': 'co...\n",
       "3092    [🆔 , {'type': 'hashtag', 'text': '#НовыйПользователь'}, \\n\\n, {'type': 'bold', 'text': 'Группа:'},  , {'ty...\n",
       "3093    [🆔 , {'type': 'hashtag', 'text': '#НовыйПользователь'}, \\n\\n, {'type': 'bold', 'text': 'Группа:'},  , {'ty...\n",
       "3094    [🆔 , {'type': 'hashtag', 'text': '#НовыйПользователь'}, \\n\\n, {'type': 'bold', 'text': 'Группа:'},  , {'ty...\n",
       "3095    [🆔 , {'type': 'hashtag', 'text': '#НовыйПользователь'}, \\n\\n, {'type': 'bold', 'text': 'Группа:'},  , {'ty...\n",
       "3096    [✅ Пользователь прошедший проверку разблокирован\\n\\n, {'type': 'bold', 'text': 'Группа:'},  , {'type': 'co...\n",
       "3097    [🆔 , {'type': 'hashtag', 'text': '#НовыйПользователь'}, \\n\\n, {'type': 'bold', 'text': 'Группа:'},  , {'ty...\n",
       "Name: text, dtype: object"
      ]
     },
     "execution_count": 65,
     "metadata": {},
     "output_type": "execute_result"
    }
   ],
   "source": [
    "spam_1 = spam['text']\n",
    "spam_1.tail(15)"
   ]
  },
  {
   "cell_type": "code",
   "execution_count": 71,
   "metadata": {
    "ExecuteTime": {
     "end_time": "2021-08-24T21:05:23.085334Z",
     "start_time": "2021-08-24T21:05:23.073355Z"
    },
    "scrolled": false
   },
   "outputs": [
    {
     "data": {
      "text/plain": [
       "'Добрый день, рады представить Вам тематический чат для Дачников, здесь мы обмениваемся советами по строительству, садоводству и т.д.\\n\\nhttps://t.me/dacha_pro'"
      ]
     },
     "execution_count": 71,
     "metadata": {},
     "output_type": "execute_result"
    }
   ],
   "source": [
    "spam_1.iloc[2007]"
   ]
  },
  {
   "cell_type": "code",
   "execution_count": 70,
   "metadata": {
    "ExecuteTime": {
     "end_time": "2021-08-24T21:04:57.959512Z",
     "start_time": "2021-08-24T21:04:57.952994Z"
    },
    "scrolled": true
   },
   "outputs": [],
   "source": [
    "clean_msg(spam_1.iloc[2003])"
   ]
  },
  {
   "cell_type": "code",
   "execution_count": 72,
   "metadata": {
    "ExecuteTime": {
     "end_time": "2021-08-24T21:05:41.931537Z",
     "start_time": "2021-08-24T21:05:41.912586Z"
    },
    "scrolled": true
   },
   "outputs": [
    {
     "data": {
      "text/plain": [
       "3088    None\n",
       "3089    None\n",
       "3090    None\n",
       "3091    None\n",
       "3092    None\n",
       "3093    None\n",
       "3094    None\n",
       "3095    None\n",
       "3096    None\n",
       "3097    None\n",
       "Name: text, dtype: object"
      ]
     },
     "execution_count": 72,
     "metadata": {},
     "output_type": "execute_result"
    }
   ],
   "source": [
    "spam_2 = spam_1.apply(clean_msg)\n",
    "spam_2.tail(10)"
   ]
  },
  {
   "cell_type": "code",
   "execution_count": 73,
   "metadata": {
    "ExecuteTime": {
     "end_time": "2021-08-24T21:05:52.168022Z",
     "start_time": "2021-08-24T21:05:52.153040Z"
    },
    "scrolled": true
   },
   "outputs": [],
   "source": [
    "# извлечение из json текста, удаление строк (сообщений) без текста,\n",
    "# обновление индекса после удаление строк (индекс теперь по порядку)\n",
    "spam_3 = spam_1.apply(clean_msg).dropna().reset_index(drop=True)"
   ]
  },
  {
   "cell_type": "code",
   "execution_count": 74,
   "metadata": {
    "ExecuteTime": {
     "end_time": "2021-08-24T21:05:55.235324Z",
     "start_time": "2021-08-24T21:05:55.214987Z"
    },
    "scrolled": true
   },
   "outputs": [
    {
     "data": {
      "text/plain": [
       "0                                                                                                                   \n",
       "1                                                                             Канал успешно добавлен в журнал группы\n",
       "2                                                                                     Охуенно надежный дом Балашихе😳\n",
       "3                         🪓🪓🪓🪓🪓🪓🪓\\n\\nЧитайте ответ по строительству!\\n\\n\\nhttps://dobrodel.mosreg.ru//claims/4154945\n",
       "4                                                       это же бандиты:\\nhttps://www.youtube.com/watch?v=ygol2LCWnHs\n",
       "                                                           ...                                                      \n",
       "341    Всем привет, никто не желает учить китайский язык? Я репетиторствую китайским  с 2016 года, живу на улице ...\n",
       "342    Уважаемые родители ❗️❗️❗️\\nХочу предложить Вам услуги няни👩&zwj;👧&zwj;👦\\n\\nСобираю группу деток (2-5 детей...\n",
       "343                  Добрый вечер,могу вам помочь с селективной парфюмерией!\\nСама занимаюсь,исключительно оригинал!\n",
       "344    Здравствуйте, есть один билет на концерт Сергея Пенкина, завтра в Зелёном Театре, 2000 руб \\nНужен сертифи...\n",
       "345    ⚡️Производим яркие и стильные перегородки в стиле Loft\\n \\nВиды\\n- глухие \\n- с распашными дверями\\n- с ра...\n",
       "Name: text, Length: 346, dtype: object"
      ]
     },
     "execution_count": 74,
     "metadata": {},
     "output_type": "execute_result"
    }
   ],
   "source": [
    "spam_3"
   ]
  },
  {
   "cell_type": "markdown",
   "metadata": {},
   "source": [
    "## Получение объединённого датасета"
   ]
  },
  {
   "cell_type": "code",
   "execution_count": 23,
   "metadata": {
    "ExecuteTime": {
     "end_time": "2021-04-04T14:22:30.477916Z",
     "start_time": "2021-04-04T14:22:30.449917Z"
    }
   },
   "outputs": [
    {
     "data": {
      "text/html": [
       "<div>\n",
       "<style scoped>\n",
       "    .dataframe tbody tr th:only-of-type {\n",
       "        vertical-align: middle;\n",
       "    }\n",
       "\n",
       "    .dataframe tbody tr th {\n",
       "        vertical-align: top;\n",
       "    }\n",
       "\n",
       "    .dataframe thead th {\n",
       "        text-align: right;\n",
       "    }\n",
       "</style>\n",
       "<table border=\"1\" class=\"dataframe\">\n",
       "  <thead>\n",
       "    <tr style=\"text-align: right;\">\n",
       "      <th></th>\n",
       "      <th>msg</th>\n",
       "      <th>spam</th>\n",
       "    </tr>\n",
       "  </thead>\n",
       "  <tbody>\n",
       "    <tr>\n",
       "      <th>0</th>\n",
       "      <td>Всем ✋🏻</td>\n",
       "      <td>0</td>\n",
       "    </tr>\n",
       "    <tr>\n",
       "      <th>1</th>\n",
       "      <td>Это супергруппа. А это значит что админ может редактировать и удалять любые сообщения. Пользователи могут ...</td>\n",
       "      <td>0</td>\n",
       "    </tr>\n",
       "    <tr>\n",
       "      <th>2</th>\n",
       "      <td>/</td>\n",
       "      <td>0</td>\n",
       "    </tr>\n",
       "    <tr>\n",
       "      <th>3</th>\n",
       "      <td>не пугайтесь, немного почистил мусор)</td>\n",
       "      <td>0</td>\n",
       "    </tr>\n",
       "    <tr>\n",
       "      <th>4</th>\n",
       "      <td>Всем привет)</td>\n",
       "      <td>0</td>\n",
       "    </tr>\n",
       "    <tr>\n",
       "      <th>...</th>\n",
       "      <td>...</td>\n",
       "      <td>...</td>\n",
       "    </tr>\n",
       "    <tr>\n",
       "      <th>54569</th>\n",
       "      <td>Добрый день скоро открытия огромного магазина для мастеров и любителей ,для парикмахеров и салонов красоты...</td>\n",
       "      <td>1</td>\n",
       "    </tr>\n",
       "    <tr>\n",
       "      <th>54570</th>\n",
       "      <td>https://t.me/MoscowskyPravdorub/1470?single</td>\n",
       "      <td>1</td>\n",
       "    </tr>\n",
       "    <tr>\n",
       "      <th>54571</th>\n",
       "      <td>Большой выбор ждём вас</td>\n",
       "      <td>1</td>\n",
       "    </tr>\n",
       "    <tr>\n",
       "      <th>54572</th>\n",
       "      <td>Интернет от 300 Мбит/с + бесплатный роутер \\nЗвонить с 09:00 до 24:00 без выходных.МГТС/МТС home\\nТелефон:...</td>\n",
       "      <td>1</td>\n",
       "    </tr>\n",
       "    <tr>\n",
       "      <th>54573</th>\n",
       "      <td>Здравствуйте! Услуги Психолога!\\n\\nПсихолог с высшим образованием и практикой более 10 лет предлагаю услуг...</td>\n",
       "      <td>1</td>\n",
       "    </tr>\n",
       "  </tbody>\n",
       "</table>\n",
       "<p>54574 rows × 2 columns</p>\n",
       "</div>"
      ],
      "text/plain": [
       "                                                                                                                 msg  \\\n",
       "0                                                                                                            Всем ✋🏻   \n",
       "1      Это супергруппа. А это значит что админ может редактировать и удалять любые сообщения. Пользователи могут ...   \n",
       "2                                                                                                                  /   \n",
       "3                                                                              не пугайтесь, немного почистил мусор)   \n",
       "4                                                                                                       Всем привет)   \n",
       "...                                                                                                              ...   \n",
       "54569  Добрый день скоро открытия огромного магазина для мастеров и любителей ,для парикмахеров и салонов красоты...   \n",
       "54570                                                                    https://t.me/MoscowskyPravdorub/1470?single   \n",
       "54571                                                                                         Большой выбор ждём вас   \n",
       "54572  Интернет от 300 Мбит/с + бесплатный роутер \\nЗвонить с 09:00 до 24:00 без выходных.МГТС/МТС home\\nТелефон:...   \n",
       "54573  Здравствуйте! Услуги Психолога!\\n\\nПсихолог с высшим образованием и практикой более 10 лет предлагаю услуг...   \n",
       "\n",
       "       spam  \n",
       "0         0  \n",
       "1         0  \n",
       "2         0  \n",
       "3         0  \n",
       "4         0  \n",
       "...     ...  \n",
       "54569     1  \n",
       "54570     1  \n",
       "54571     1  \n",
       "54572     1  \n",
       "54573     1  \n",
       "\n",
       "[54574 rows x 2 columns]"
      ]
     },
     "execution_count": 23,
     "metadata": {},
     "output_type": "execute_result"
    }
   ],
   "source": [
    "# Series -> DataFrame\n",
    "ham_df = ham.to_frame('msg')\n",
    "# создание нового столбца с категорией спам / не спам\n",
    "ham_df['spam'] = 0\n",
    "\n",
    "spam_df = spam.to_frame('msg')\n",
    "spam_df['spam'] = 1\n",
    "\n",
    "# конкатенация датафреймов\n",
    "df = pd.concat([ham_df, spam_df], axis=0, ignore_index=True)\n",
    "df"
   ]
  },
  {
   "cell_type": "code",
   "execution_count": 24,
   "metadata": {
    "ExecuteTime": {
     "end_time": "2021-04-04T14:22:30.730471Z",
     "start_time": "2021-04-04T14:22:30.479920Z"
    }
   },
   "outputs": [],
   "source": [
    "X_train, X_test, y_train, y_test = train_test_split(df.drop('spam', 1), \n",
    "                                                    df['spam'], random_state=0)\n",
    "#save test\n",
    "X_test.to_csv(\"X_test_spam.csv\", index=None)\n",
    "y_test.to_csv(\"y_test_spam.csv\", index=None)\n",
    "#save train\n",
    "X_train.to_csv(\"X_train_spam.csv\", index=None)\n",
    "y_train.to_csv(\"y_train_spam.csv\", index=None)"
   ]
  },
  {
   "cell_type": "code",
   "execution_count": 25,
   "metadata": {
    "ExecuteTime": {
     "end_time": "2021-04-04T14:22:30.746435Z",
     "start_time": "2021-04-04T14:22:30.732431Z"
    }
   },
   "outputs": [
    {
     "data": {
      "text/html": [
       "<div>\n",
       "<style scoped>\n",
       "    .dataframe tbody tr th:only-of-type {\n",
       "        vertical-align: middle;\n",
       "    }\n",
       "\n",
       "    .dataframe tbody tr th {\n",
       "        vertical-align: top;\n",
       "    }\n",
       "\n",
       "    .dataframe thead th {\n",
       "        text-align: right;\n",
       "    }\n",
       "</style>\n",
       "<table border=\"1\" class=\"dataframe\">\n",
       "  <thead>\n",
       "    <tr style=\"text-align: right;\">\n",
       "      <th></th>\n",
       "      <th>msg</th>\n",
       "    </tr>\n",
       "  </thead>\n",
       "  <tbody>\n",
       "    <tr>\n",
       "      <th>3856</th>\n",
       "      <td>Они в один месяц не учли показания (программа сбойнула, не загрузилось с сайта, не туда посмотрели) и у ва...</td>\n",
       "    </tr>\n",
       "    <tr>\n",
       "      <th>40894</th>\n",
       "      <td>Раз в час примерно, первая в районе 7 утра уходит.</td>\n",
       "    </tr>\n",
       "    <tr>\n",
       "      <th>7915</th>\n",
       "      <td>Это же гениально! 😂отличная идея!)))</td>\n",
       "    </tr>\n",
       "    <tr>\n",
       "      <th>25371</th>\n",
       "      <td>Да непонятно, в доброделе отвечают — проведите ОСС и сами залейте)</td>\n",
       "    </tr>\n",
       "    <tr>\n",
       "      <th>40093</th>\n",
       "      <td>Может одна новая, пробега мало, а вторая загаженная</td>\n",
       "    </tr>\n",
       "    <tr>\n",
       "      <th>...</th>\n",
       "      <td>...</td>\n",
       "    </tr>\n",
       "    <tr>\n",
       "      <th>45891</th>\n",
       "      <td>Спасибо 😀</td>\n",
       "    </tr>\n",
       "    <tr>\n",
       "      <th>52416</th>\n",
       "      <td>А разве заставляют?</td>\n",
       "    </tr>\n",
       "    <tr>\n",
       "      <th>42613</th>\n",
       "      <td>Не то футбольный праздник, не то свадьба в Чечне.</td>\n",
       "    </tr>\n",
       "    <tr>\n",
       "      <th>43567</th>\n",
       "      <td>А чат собаководов есть?</td>\n",
       "    </tr>\n",
       "    <tr>\n",
       "      <th>2732</th>\n",
       "      <td>Отправьте в добродел, отличный ракурс</td>\n",
       "    </tr>\n",
       "  </tbody>\n",
       "</table>\n",
       "<p>40930 rows × 1 columns</p>\n",
       "</div>"
      ],
      "text/plain": [
       "                                                                                                                 msg\n",
       "3856   Они в один месяц не учли показания (программа сбойнула, не загрузилось с сайта, не туда посмотрели) и у ва...\n",
       "40894                                                             Раз в час примерно, первая в районе 7 утра уходит.\n",
       "7915                                                                            Это же гениально! 😂отличная идея!)))\n",
       "25371                                             Да непонятно, в доброделе отвечают — проведите ОСС и сами залейте)\n",
       "40093                                                            Может одна новая, пробега мало, а вторая загаженная\n",
       "...                                                                                                              ...\n",
       "45891                                                                                                      Спасибо 😀\n",
       "52416                                                                                            А разве заставляют?\n",
       "42613                                                              Не то футбольный праздник, не то свадьба в Чечне.\n",
       "43567                                                                                        А чат собаководов есть?\n",
       "2732                                                                           Отправьте в добродел, отличный ракурс\n",
       "\n",
       "[40930 rows x 1 columns]"
      ]
     },
     "execution_count": 25,
     "metadata": {},
     "output_type": "execute_result"
    }
   ],
   "source": [
    "X_train"
   ]
  },
  {
   "cell_type": "code",
   "execution_count": 26,
   "metadata": {
    "ExecuteTime": {
     "end_time": "2021-04-04T14:22:30.762431Z",
     "start_time": "2021-04-04T14:22:30.747432Z"
    }
   },
   "outputs": [],
   "source": [
    "class ColumnSelector(BaseEstimator, TransformerMixin):\n",
    "    \"\"\"\n",
    "    Transformer to select a single column from the data frame to perform additional transformations on\n",
    "    \"\"\"\n",
    "    def __init__(self, key):\n",
    "        self.key = key\n",
    "\n",
    "    def fit(self, X, y=None):\n",
    "        return self\n",
    "\n",
    "    def transform(self, X):\n",
    "        return X[self.key]\n",
    "    \n",
    "class TextImputer(BaseEstimator, TransformerMixin):\n",
    "    def __init__(self, key, value):\n",
    "        self.key = key\n",
    "        self.value = value\n",
    "    def fit(self, X, y=None):\n",
    "        return self\n",
    "    def transform(self, X):\n",
    "        X[self.key] = X[self.key].fillna(self.value)\n",
    "        return X"
   ]
  },
  {
   "cell_type": "code",
   "execution_count": 27,
   "metadata": {
    "ExecuteTime": {
     "end_time": "2021-04-04T14:22:30.778505Z",
     "start_time": "2021-04-04T14:22:30.764433Z"
    }
   },
   "outputs": [],
   "source": [
    "features = ['msg']\n",
    "target = 'spam'"
   ]
  },
  {
   "cell_type": "code",
   "execution_count": 28,
   "metadata": {
    "ExecuteTime": {
     "end_time": "2021-04-04T14:22:30.793729Z",
     "start_time": "2021-04-04T14:22:30.780634Z"
    }
   },
   "outputs": [],
   "source": [
    "#combine\n",
    "msg = Pipeline([\n",
    "                ('imputer', TextImputer('msg', '')),\n",
    "                ('selector', ColumnSelector(key='msg')),\n",
    "                ('tfidf', TfidfVectorizer(max_df=0.9, min_df=10))\n",
    "            ])\n",
    "\n",
    "feats = FeatureUnion([('msg', msg)])"
   ]
  },
  {
   "cell_type": "code",
   "execution_count": 29,
   "metadata": {
    "ExecuteTime": {
     "end_time": "2021-04-04T14:22:31.631929Z",
     "start_time": "2021-04-04T14:22:30.794648Z"
    }
   },
   "outputs": [
    {
     "name": "stdout",
     "output_type": "stream",
     "text": [
      "Wall time: 723 ms\n"
     ]
    },
    {
     "data": {
      "text/plain": [
       "Pipeline(steps=[('features',\n",
       "                 FeatureUnion(transformer_list=[('msg',\n",
       "                                                 Pipeline(steps=[('imputer',\n",
       "                                                                  TextImputer(key='msg',\n",
       "                                                                              value='')),\n",
       "                                                                 ('selector',\n",
       "                                                                  ColumnSelector(key='msg')),\n",
       "                                                                 ('tfidf',\n",
       "                                                                  TfidfVectorizer(max_df=0.9,\n",
       "                                                                                  min_df=10))]))])),\n",
       "                ('classifier', LogisticRegression())])"
      ]
     },
     "execution_count": 29,
     "metadata": {},
     "output_type": "execute_result"
    }
   ],
   "source": [
    "%%time\n",
    "\n",
    "pipeline = Pipeline([\n",
    "    ('features',feats),\n",
    "    ('classifier', LogisticRegression()),\n",
    "])\n",
    "\n",
    "pipeline.fit(X_train, y_train)"
   ]
  },
  {
   "cell_type": "markdown",
   "metadata": {},
   "source": [
    "Посмотрим, как выглядит наш pipeline"
   ]
  },
  {
   "cell_type": "code",
   "execution_count": 30,
   "metadata": {
    "ExecuteTime": {
     "end_time": "2021-04-04T14:22:31.663926Z",
     "start_time": "2021-04-04T14:22:31.633928Z"
    }
   },
   "outputs": [
    {
     "data": {
      "text/plain": [
       "[('features',\n",
       "  FeatureUnion(transformer_list=[('msg',\n",
       "                                  Pipeline(steps=[('imputer',\n",
       "                                                   TextImputer(key='msg',\n",
       "                                                               value='')),\n",
       "                                                  ('selector',\n",
       "                                                   ColumnSelector(key='msg')),\n",
       "                                                  ('tfidf',\n",
       "                                                   TfidfVectorizer(max_df=0.9,\n",
       "                                                                   min_df=10))]))])),\n",
       " ('classifier', LogisticRegression())]"
      ]
     },
     "execution_count": 30,
     "metadata": {},
     "output_type": "execute_result"
    }
   ],
   "source": [
    "pipeline.steps"
   ]
  },
  {
   "cell_type": "code",
   "execution_count": 31,
   "metadata": {
    "ExecuteTime": {
     "end_time": "2021-04-04T14:22:31.902424Z",
     "start_time": "2021-04-04T14:22:31.664926Z"
    }
   },
   "outputs": [],
   "source": [
    "predictions = pipeline.predict_proba(X_test)\n",
    "#pd.DataFrame({'preds': predictions[:, 1]}).to_csv(\"test_predictions.csv\", index=None)"
   ]
  },
  {
   "cell_type": "code",
   "execution_count": 32,
   "metadata": {
    "ExecuteTime": {
     "end_time": "2021-04-04T14:22:31.917424Z",
     "start_time": "2021-04-04T14:22:31.903426Z"
    }
   },
   "outputs": [
    {
     "data": {
      "text/plain": [
       "48502    0\n",
       "48785    0\n",
       "40039    0\n",
       "40399    0\n",
       "50011    0\n",
       "        ..\n",
       "27058    0\n",
       "16446    0\n",
       "42301    0\n",
       "11306    0\n",
       "31998    0\n",
       "Name: spam, Length: 13644, dtype: int64"
      ]
     },
     "execution_count": 32,
     "metadata": {},
     "output_type": "execute_result"
    }
   ],
   "source": [
    "y_test"
   ]
  },
  {
   "cell_type": "code",
   "execution_count": 33,
   "metadata": {
    "ExecuteTime": {
     "end_time": "2021-04-04T14:22:31.933424Z",
     "start_time": "2021-04-04T14:22:31.918425Z"
    }
   },
   "outputs": [
    {
     "data": {
      "text/plain": [
       "array([0.00166743, 0.00600112, 0.00191033, ..., 0.0022781 , 0.00163441,\n",
       "       0.00238243])"
      ]
     },
     "execution_count": 33,
     "metadata": {},
     "output_type": "execute_result"
    }
   ],
   "source": [
    "predictions[:, 1][:]"
   ]
  },
  {
   "cell_type": "code",
   "execution_count": 34,
   "metadata": {
    "ExecuteTime": {
     "end_time": "2021-04-04T14:22:31.949426Z",
     "start_time": "2021-04-04T14:22:31.935426Z"
    }
   },
   "outputs": [
    {
     "data": {
      "text/plain": [
       "0.9552632018716577"
      ]
     },
     "execution_count": 34,
     "metadata": {},
     "output_type": "execute_result"
    }
   ],
   "source": [
    "roc_auc_score(y_score=predictions[:, 1], y_true=y_test)"
   ]
  },
  {
   "cell_type": "code",
   "execution_count": 35,
   "metadata": {
    "ExecuteTime": {
     "end_time": "2021-04-04T14:22:31.965426Z",
     "start_time": "2021-04-04T14:22:31.951446Z"
    }
   },
   "outputs": [
    {
     "data": {
      "text/plain": [
       "0.0"
      ]
     },
     "execution_count": 35,
     "metadata": {},
     "output_type": "execute_result"
    }
   ],
   "source": [
    "f1_score(predictions[:, 1].round(), y_test)"
   ]
  },
  {
   "cell_type": "code",
   "execution_count": 36,
   "metadata": {
    "ExecuteTime": {
     "end_time": "2021-04-04T14:22:31.981427Z",
     "start_time": "2021-04-04T14:22:31.967426Z"
    }
   },
   "outputs": [
    {
     "data": {
      "text/plain": [
       "0.0"
      ]
     },
     "execution_count": 36,
     "metadata": {},
     "output_type": "execute_result"
    }
   ],
   "source": [
    "precision_score(predictions[:, 1].round(), y_test)"
   ]
  },
  {
   "cell_type": "code",
   "execution_count": 37,
   "metadata": {
    "ExecuteTime": {
     "end_time": "2021-04-04T14:22:31.997427Z",
     "start_time": "2021-04-04T14:22:31.984431Z"
    }
   },
   "outputs": [
    {
     "name": "stderr",
     "output_type": "stream",
     "text": [
      "C:\\Users\\Alex\\Anaconda3\\lib\\site-packages\\sklearn\\metrics\\_classification.py:1221: UndefinedMetricWarning: Recall is ill-defined and being set to 0.0 due to no true samples. Use `zero_division` parameter to control this behavior.\n",
      "  _warn_prf(average, modifier, msg_start, len(result))\n"
     ]
    },
    {
     "data": {
      "text/plain": [
       "0.0"
      ]
     },
     "execution_count": 37,
     "metadata": {},
     "output_type": "execute_result"
    }
   ],
   "source": [
    "recall_score(predictions[:, 1].round(), y_test)"
   ]
  },
  {
   "cell_type": "code",
   "execution_count": 38,
   "metadata": {
    "ExecuteTime": {
     "end_time": "2021-04-04T14:22:32.028426Z",
     "start_time": "2021-04-04T14:22:31.999428Z"
    }
   },
   "outputs": [
    {
     "data": {
      "text/html": [
       "<div>\n",
       "<style scoped>\n",
       "    .dataframe tbody tr th:only-of-type {\n",
       "        vertical-align: middle;\n",
       "    }\n",
       "\n",
       "    .dataframe tbody tr th {\n",
       "        vertical-align: top;\n",
       "    }\n",
       "\n",
       "    .dataframe thead th {\n",
       "        text-align: right;\n",
       "    }\n",
       "</style>\n",
       "<table border=\"1\" class=\"dataframe\">\n",
       "  <thead>\n",
       "    <tr style=\"text-align: right;\">\n",
       "      <th></th>\n",
       "      <th>msg</th>\n",
       "      <th>spam</th>\n",
       "      <th>prob</th>\n",
       "    </tr>\n",
       "  </thead>\n",
       "  <tbody>\n",
       "    <tr>\n",
       "      <th>0</th>\n",
       "      <td>Всем ✋🏻</td>\n",
       "      <td>0</td>\n",
       "      <td>0.001667</td>\n",
       "    </tr>\n",
       "    <tr>\n",
       "      <th>1</th>\n",
       "      <td>Это супергруппа. А это значит что админ может редактировать и удалять любые сообщения. Пользователи могут ...</td>\n",
       "      <td>0</td>\n",
       "      <td>0.006001</td>\n",
       "    </tr>\n",
       "    <tr>\n",
       "      <th>2</th>\n",
       "      <td>/</td>\n",
       "      <td>0</td>\n",
       "      <td>0.001910</td>\n",
       "    </tr>\n",
       "    <tr>\n",
       "      <th>3</th>\n",
       "      <td>не пугайтесь, немного почистил мусор)</td>\n",
       "      <td>0</td>\n",
       "      <td>0.001192</td>\n",
       "    </tr>\n",
       "    <tr>\n",
       "      <th>4</th>\n",
       "      <td>Всем привет)</td>\n",
       "      <td>0</td>\n",
       "      <td>0.004088</td>\n",
       "    </tr>\n",
       "    <tr>\n",
       "      <th>...</th>\n",
       "      <td>...</td>\n",
       "      <td>...</td>\n",
       "      <td>...</td>\n",
       "    </tr>\n",
       "    <tr>\n",
       "      <th>54569</th>\n",
       "      <td>Добрый день скоро открытия огромного магазина для мастеров и любителей ,для парикмахеров и салонов красоты...</td>\n",
       "      <td>1</td>\n",
       "      <td>NaN</td>\n",
       "    </tr>\n",
       "    <tr>\n",
       "      <th>54570</th>\n",
       "      <td>https://t.me/MoscowskyPravdorub/1470?single</td>\n",
       "      <td>1</td>\n",
       "      <td>NaN</td>\n",
       "    </tr>\n",
       "    <tr>\n",
       "      <th>54571</th>\n",
       "      <td>Большой выбор ждём вас</td>\n",
       "      <td>1</td>\n",
       "      <td>NaN</td>\n",
       "    </tr>\n",
       "    <tr>\n",
       "      <th>54572</th>\n",
       "      <td>Интернет от 300 Мбит/с + бесплатный роутер \\nЗвонить с 09:00 до 24:00 без выходных.МГТС/МТС home\\nТелефон:...</td>\n",
       "      <td>1</td>\n",
       "      <td>NaN</td>\n",
       "    </tr>\n",
       "    <tr>\n",
       "      <th>54573</th>\n",
       "      <td>Здравствуйте! Услуги Психолога!\\n\\nПсихолог с высшим образованием и практикой более 10 лет предлагаю услуг...</td>\n",
       "      <td>1</td>\n",
       "      <td>NaN</td>\n",
       "    </tr>\n",
       "  </tbody>\n",
       "</table>\n",
       "<p>54574 rows × 3 columns</p>\n",
       "</div>"
      ],
      "text/plain": [
       "                                                                                                                 msg  \\\n",
       "0                                                                                                            Всем ✋🏻   \n",
       "1      Это супергруппа. А это значит что админ может редактировать и удалять любые сообщения. Пользователи могут ...   \n",
       "2                                                                                                                  /   \n",
       "3                                                                              не пугайтесь, немного почистил мусор)   \n",
       "4                                                                                                       Всем привет)   \n",
       "...                                                                                                              ...   \n",
       "54569  Добрый день скоро открытия огромного магазина для мастеров и любителей ,для парикмахеров и салонов красоты...   \n",
       "54570                                                                    https://t.me/MoscowskyPravdorub/1470?single   \n",
       "54571                                                                                         Большой выбор ждём вас   \n",
       "54572  Интернет от 300 Мбит/с + бесплатный роутер \\nЗвонить с 09:00 до 24:00 без выходных.МГТС/МТС home\\nТелефон:...   \n",
       "54573  Здравствуйте! Услуги Психолога!\\n\\nПсихолог с высшим образованием и практикой более 10 лет предлагаю услуг...   \n",
       "\n",
       "       spam      prob  \n",
       "0         0  0.001667  \n",
       "1         0  0.006001  \n",
       "2         0  0.001910  \n",
       "3         0  0.001192  \n",
       "4         0  0.004088  \n",
       "...     ...       ...  \n",
       "54569     1       NaN  \n",
       "54570     1       NaN  \n",
       "54571     1       NaN  \n",
       "54572     1       NaN  \n",
       "54573     1       NaN  \n",
       "\n",
       "[54574 rows x 3 columns]"
      ]
     },
     "execution_count": 38,
     "metadata": {},
     "output_type": "execute_result"
    }
   ],
   "source": [
    "df_pred = pd.concat([df, pd.Series(predictions[:, 1])], axis=1)\n",
    "df_pred.columns=[\"msg\", \"spam\", \"prob\"]\n",
    "df_pred"
   ]
  },
  {
   "cell_type": "code",
   "execution_count": 39,
   "metadata": {
    "ExecuteTime": {
     "end_time": "2021-04-04T14:22:32.044431Z",
     "start_time": "2021-04-04T14:22:32.030429Z"
    }
   },
   "outputs": [
    {
     "data": {
      "text/plain": [
       "(nan, numpy.float64)"
      ]
     },
     "execution_count": 39,
     "metadata": {},
     "output_type": "execute_result"
    }
   ],
   "source": [
    "df_pred.iloc[54570,2], type(df_pred.iloc[54570,2])"
   ]
  },
  {
   "cell_type": "code",
   "execution_count": 40,
   "metadata": {
    "ExecuteTime": {
     "end_time": "2021-04-04T14:22:32.060426Z",
     "start_time": "2021-04-04T14:22:32.046431Z"
    }
   },
   "outputs": [
    {
     "data": {
      "text/html": [
       "<div>\n",
       "<style scoped>\n",
       "    .dataframe tbody tr th:only-of-type {\n",
       "        vertical-align: middle;\n",
       "    }\n",
       "\n",
       "    .dataframe tbody tr th {\n",
       "        vertical-align: top;\n",
       "    }\n",
       "\n",
       "    .dataframe thead th {\n",
       "        text-align: right;\n",
       "    }\n",
       "</style>\n",
       "<table border=\"1\" class=\"dataframe\">\n",
       "  <thead>\n",
       "    <tr style=\"text-align: right;\">\n",
       "      <th></th>\n",
       "      <th>msg</th>\n",
       "      <th>spam</th>\n",
       "      <th>prob</th>\n",
       "    </tr>\n",
       "  </thead>\n",
       "  <tbody>\n",
       "    <tr>\n",
       "      <th>3458</th>\n",
       "      <td>Брат окно</td>\n",
       "      <td>0</td>\n",
       "      <td>0.165447</td>\n",
       "    </tr>\n",
       "    <tr>\n",
       "      <th>4849</th>\n",
       "      <td>Воробей всегда подрузамевает)))))))))</td>\n",
       "      <td>0</td>\n",
       "      <td>0.143628</td>\n",
       "    </tr>\n",
       "    <tr>\n",
       "      <th>6068</th>\n",
       "      <td>Они по проекту района там предполагались</td>\n",
       "      <td>0</td>\n",
       "      <td>0.161846</td>\n",
       "    </tr>\n",
       "    <tr>\n",
       "      <th>7398</th>\n",
       "      <td>Желания нет продолжать эту беседу...</td>\n",
       "      <td>0</td>\n",
       "      <td>0.161846</td>\n",
       "    </tr>\n",
       "    <tr>\n",
       "      <th>8806</th>\n",
       "      <td>https://mir24.tv/news/16293475/v-podmoskovnom-reutove-za-pytki-nad-zhivotnymi-zaderzhali-devushku</td>\n",
       "      <td>0</td>\n",
       "      <td>0.161846</td>\n",
       "    </tr>\n",
       "    <tr>\n",
       "      <th>9038</th>\n",
       "      <td>Включенные габариты</td>\n",
       "      <td>0</td>\n",
       "      <td>0.161846</td>\n",
       "    </tr>\n",
       "    <tr>\n",
       "      <th>9071</th>\n",
       "      <td>Да, смартфон Android, компьютер Windows</td>\n",
       "      <td>0</td>\n",
       "      <td>0.117427</td>\n",
       "    </tr>\n",
       "    <tr>\n",
       "      <th>9257</th>\n",
       "      <td>Подскажите пожалуйста, где у нас в районе можно зеркало на машине починить? Мне кто-то ночью снёс правое з...</td>\n",
       "      <td>0</td>\n",
       "      <td>0.161846</td>\n",
       "    </tr>\n",
       "    <tr>\n",
       "      <th>9632</th>\n",
       "      <td>И кстати вот тут не за что извиняться мы ж русские , и  \"вы\" на Руси было оскорбительно</td>\n",
       "      <td>0</td>\n",
       "      <td>0.166958</td>\n",
       "    </tr>\n",
       "    <tr>\n",
       "      <th>9922</th>\n",
       "      <td>ЗАметано)</td>\n",
       "      <td>0</td>\n",
       "      <td>0.111680</td>\n",
       "    </tr>\n",
       "    <tr>\n",
       "      <th>10149</th>\n",
       "      <td>Ну и ищите, пойду инвесторов в дивизию предлагать</td>\n",
       "      <td>0</td>\n",
       "      <td>0.161846</td>\n",
       "    </tr>\n",
       "    <tr>\n",
       "      <th>10625</th>\n",
       "      <td>Если брать за понятие \"живёт\" - ставит себе на стол тарелку с супом, то да ЖИВЁТ. А если брать возможности...</td>\n",
       "      <td>0</td>\n",
       "      <td>0.179452</td>\n",
       "    </tr>\n",
       "    <tr>\n",
       "      <th>11090</th>\n",
       "      <td>жена тоже рыба блять, молчит в  тряпочку</td>\n",
       "      <td>0</td>\n",
       "      <td>0.161846</td>\n",
       "    </tr>\n",
       "    <tr>\n",
       "      <th>13434</th>\n",
       "      <td>Кстати, фильм очень наглядный.</td>\n",
       "      <td>0</td>\n",
       "      <td>0.161846</td>\n",
       "    </tr>\n",
       "  </tbody>\n",
       "</table>\n",
       "</div>"
      ],
      "text/plain": [
       "                                                                                                                 msg  \\\n",
       "3458                                                                                                       Брат окно   \n",
       "4849                                                                           Воробей всегда подрузамевает)))))))))   \n",
       "6068                                                                        Они по проекту района там предполагались   \n",
       "7398                                                                            Желания нет продолжать эту беседу...   \n",
       "8806               https://mir24.tv/news/16293475/v-podmoskovnom-reutove-za-pytki-nad-zhivotnymi-zaderzhali-devushku   \n",
       "9038                                                                                             Включенные габариты   \n",
       "9071                                                                         Да, смартфон Android, компьютер Windows   \n",
       "9257   Подскажите пожалуйста, где у нас в районе можно зеркало на машине починить? Мне кто-то ночью снёс правое з...   \n",
       "9632                         И кстати вот тут не за что извиняться мы ж русские , и  \"вы\" на Руси было оскорбительно   \n",
       "9922                                                                                                       ЗАметано)   \n",
       "10149                                                              Ну и ищите, пойду инвесторов в дивизию предлагать   \n",
       "10625  Если брать за понятие \"живёт\" - ставит себе на стол тарелку с супом, то да ЖИВЁТ. А если брать возможности...   \n",
       "11090                                                                       жена тоже рыба блять, молчит в  тряпочку   \n",
       "13434                                                                                 Кстати, фильм очень наглядный.   \n",
       "\n",
       "       spam      prob  \n",
       "3458      0  0.165447  \n",
       "4849      0  0.143628  \n",
       "6068      0  0.161846  \n",
       "7398      0  0.161846  \n",
       "8806      0  0.161846  \n",
       "9038      0  0.161846  \n",
       "9071      0  0.117427  \n",
       "9257      0  0.161846  \n",
       "9632      0  0.166958  \n",
       "9922      0  0.111680  \n",
       "10149     0  0.161846  \n",
       "10625     0  0.179452  \n",
       "11090     0  0.161846  \n",
       "13434     0  0.161846  "
      ]
     },
     "execution_count": 40,
     "metadata": {},
     "output_type": "execute_result"
    }
   ],
   "source": [
    "pd.set_option('display.max_rows', 200)\n",
    "df_pred.loc[df_pred['prob'] > 0.1]"
   ]
  },
  {
   "cell_type": "code",
   "execution_count": 41,
   "metadata": {
    "ExecuteTime": {
     "end_time": "2021-04-04T14:22:32.076429Z",
     "start_time": "2021-04-04T14:22:32.061431Z"
    },
    "scrolled": false
   },
   "outputs": [
    {
     "data": {
      "text/html": [
       "<div>\n",
       "<style scoped>\n",
       "    .dataframe tbody tr th:only-of-type {\n",
       "        vertical-align: middle;\n",
       "    }\n",
       "\n",
       "    .dataframe tbody tr th {\n",
       "        vertical-align: top;\n",
       "    }\n",
       "\n",
       "    .dataframe thead th {\n",
       "        text-align: right;\n",
       "    }\n",
       "</style>\n",
       "<table border=\"1\" class=\"dataframe\">\n",
       "  <thead>\n",
       "    <tr style=\"text-align: right;\">\n",
       "      <th></th>\n",
       "      <th>msg</th>\n",
       "      <th>spam</th>\n",
       "      <th>prob</th>\n",
       "    </tr>\n",
       "  </thead>\n",
       "  <tbody>\n",
       "    <tr>\n",
       "      <th>3458</th>\n",
       "      <td>Брат окно</td>\n",
       "      <td>0</td>\n",
       "      <td>0.165447</td>\n",
       "    </tr>\n",
       "    <tr>\n",
       "      <th>6068</th>\n",
       "      <td>Они по проекту района там предполагались</td>\n",
       "      <td>0</td>\n",
       "      <td>0.161846</td>\n",
       "    </tr>\n",
       "    <tr>\n",
       "      <th>7398</th>\n",
       "      <td>Желания нет продолжать эту беседу...</td>\n",
       "      <td>0</td>\n",
       "      <td>0.161846</td>\n",
       "    </tr>\n",
       "    <tr>\n",
       "      <th>8806</th>\n",
       "      <td>https://mir24.tv/news/16293475/v-podmoskovnom-reutove-za-pytki-nad-zhivotnymi-zaderzhali-devushku</td>\n",
       "      <td>0</td>\n",
       "      <td>0.161846</td>\n",
       "    </tr>\n",
       "    <tr>\n",
       "      <th>9038</th>\n",
       "      <td>Включенные габариты</td>\n",
       "      <td>0</td>\n",
       "      <td>0.161846</td>\n",
       "    </tr>\n",
       "    <tr>\n",
       "      <th>9257</th>\n",
       "      <td>Подскажите пожалуйста, где у нас в районе можно зеркало на машине починить? Мне кто-то ночью снёс правое з...</td>\n",
       "      <td>0</td>\n",
       "      <td>0.161846</td>\n",
       "    </tr>\n",
       "    <tr>\n",
       "      <th>9632</th>\n",
       "      <td>И кстати вот тут не за что извиняться мы ж русские , и  \"вы\" на Руси было оскорбительно</td>\n",
       "      <td>0</td>\n",
       "      <td>0.166958</td>\n",
       "    </tr>\n",
       "    <tr>\n",
       "      <th>10149</th>\n",
       "      <td>Ну и ищите, пойду инвесторов в дивизию предлагать</td>\n",
       "      <td>0</td>\n",
       "      <td>0.161846</td>\n",
       "    </tr>\n",
       "    <tr>\n",
       "      <th>10625</th>\n",
       "      <td>Если брать за понятие \"живёт\" - ставит себе на стол тарелку с супом, то да ЖИВЁТ. А если брать возможности...</td>\n",
       "      <td>0</td>\n",
       "      <td>0.179452</td>\n",
       "    </tr>\n",
       "    <tr>\n",
       "      <th>11090</th>\n",
       "      <td>жена тоже рыба блять, молчит в  тряпочку</td>\n",
       "      <td>0</td>\n",
       "      <td>0.161846</td>\n",
       "    </tr>\n",
       "    <tr>\n",
       "      <th>13434</th>\n",
       "      <td>Кстати, фильм очень наглядный.</td>\n",
       "      <td>0</td>\n",
       "      <td>0.161846</td>\n",
       "    </tr>\n",
       "  </tbody>\n",
       "</table>\n",
       "</div>"
      ],
      "text/plain": [
       "                                                                                                                 msg  \\\n",
       "3458                                                                                                       Брат окно   \n",
       "6068                                                                        Они по проекту района там предполагались   \n",
       "7398                                                                            Желания нет продолжать эту беседу...   \n",
       "8806               https://mir24.tv/news/16293475/v-podmoskovnom-reutove-za-pytki-nad-zhivotnymi-zaderzhali-devushku   \n",
       "9038                                                                                             Включенные габариты   \n",
       "9257   Подскажите пожалуйста, где у нас в районе можно зеркало на машине починить? Мне кто-то ночью снёс правое з...   \n",
       "9632                         И кстати вот тут не за что извиняться мы ж русские , и  \"вы\" на Руси было оскорбительно   \n",
       "10149                                                              Ну и ищите, пойду инвесторов в дивизию предлагать   \n",
       "10625  Если брать за понятие \"живёт\" - ставит себе на стол тарелку с супом, то да ЖИВЁТ. А если брать возможности...   \n",
       "11090                                                                       жена тоже рыба блять, молчит в  тряпочку   \n",
       "13434                                                                                 Кстати, фильм очень наглядный.   \n",
       "\n",
       "       spam      prob  \n",
       "3458      0  0.165447  \n",
       "6068      0  0.161846  \n",
       "7398      0  0.161846  \n",
       "8806      0  0.161846  \n",
       "9038      0  0.161846  \n",
       "9257      0  0.161846  \n",
       "9632      0  0.166958  \n",
       "10149     0  0.161846  \n",
       "10625     0  0.179452  \n",
       "11090     0  0.161846  \n",
       "13434     0  0.161846  "
      ]
     },
     "execution_count": 41,
     "metadata": {},
     "output_type": "execute_result"
    }
   ],
   "source": [
    "pd.set_option('display.max_rows', 200)\n",
    "df_pred.query('(prob > 0.15)').head(200)"
   ]
  },
  {
   "cell_type": "markdown",
   "metadata": {},
   "source": [
    "Сохраним модель (пайплайн)"
   ]
  },
  {
   "cell_type": "code",
   "execution_count": 42,
   "metadata": {
    "ExecuteTime": {
     "end_time": "2021-04-04T14:22:32.376270Z",
     "start_time": "2021-04-04T14:22:32.078427Z"
    }
   },
   "outputs": [],
   "source": [
    "with open(\"spam_classifier_pipeline.dill\", \"wb\") as f:\n",
    "    dill.dump(pipeline, f)"
   ]
  },
  {
   "cell_type": "code",
   "execution_count": null,
   "metadata": {},
   "outputs": [],
   "source": []
  }
 ],
 "metadata": {
  "kernelspec": {
   "display_name": "Python 3",
   "language": "python",
   "name": "python3"
  },
  "language_info": {
   "codemirror_mode": {
    "name": "ipython",
    "version": 3
   },
   "file_extension": ".py",
   "mimetype": "text/x-python",
   "name": "python",
   "nbconvert_exporter": "python",
   "pygments_lexer": "ipython3",
   "version": "3.8.8"
  },
  "toc": {
   "base_numbering": 1,
   "nav_menu": {},
   "number_sections": false,
   "sideBar": true,
   "skip_h1_title": false,
   "title_cell": "Table of Contents",
   "title_sidebar": "Contents",
   "toc_cell": false,
   "toc_position": {},
   "toc_section_display": true,
   "toc_window_display": true
  },
  "varInspector": {
   "cols": {
    "lenName": 16,
    "lenType": 16,
    "lenVar": 40
   },
   "kernels_config": {
    "python": {
     "delete_cmd_postfix": "",
     "delete_cmd_prefix": "del ",
     "library": "var_list.py",
     "varRefreshCmd": "print(var_dic_list())"
    },
    "r": {
     "delete_cmd_postfix": ") ",
     "delete_cmd_prefix": "rm(",
     "library": "var_list.r",
     "varRefreshCmd": "cat(var_dic_list()) "
    }
   },
   "oldHeight": 345,
   "position": {
    "height": "367px",
    "left": "553px",
    "right": "20px",
    "top": "81px",
    "width": "558px"
   },
   "types_to_exclude": [
    "module",
    "function",
    "builtin_function_or_method",
    "instance",
    "_Feature"
   ],
   "varInspector_section_display": "block",
   "window_display": false
  }
 },
 "nbformat": 4,
 "nbformat_minor": 2
}
