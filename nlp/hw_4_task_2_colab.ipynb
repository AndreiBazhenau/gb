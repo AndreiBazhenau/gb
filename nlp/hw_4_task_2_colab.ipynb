{
 "cells": [
  {
   "cell_type": "markdown",
   "metadata": {},
   "source": [
    "Тема “Тематическое моделирование”\n",
    "---\n",
    "\n",
    "**Задание 1**. Взять ноутбук с вебинара изменить тематики (минимум 3-ри тематики взять) построить тематическую модель, попробовать проинтерпретировать полученные тематики. Насколько они похожи на то что вы выделяли из корпуса. Возможно большее количество тематик так же хорошо интерпретируется проверьте это. Подберите оптимальное количество тематик с точки зрения интерпретации результатов. Не забывайте чтобы получить хорошие тематики надо хорошо почистить тексты.\n",
    "\n",
    "**Задание 2**. Просмотрите вторую часть ноутбука с библиотекой bigArtm. В ноутбуке есть инструкция как её устанавливать. Проще это делать в колабе. Просто ознакомиться\n",
    " \n",
    "**Задание 3**. Просмотрите ноутбук по ссылке он довольно большой и интересный. \n",
    "https://github.com/klyshinsky/NLP_VVSU_2021/blob/main/Lecture_20210511-W2V.ipynb\n",
    "это курс по компьютерной лингвистике довольно интересный, но небольшой. Полезно просто ознакомиться с ноутбуком."
   ]
  },
  {
   "cell_type": "markdown",
   "metadata": {},
   "source": [
    "# Задание 2"
   ]
  },
  {
   "cell_type": "markdown",
   "metadata": {
    "id": "K66yLTYz-fhD"
   },
   "source": [
    "__Важно__: запускать **`BigARTM`** удобнее всего в google colab (ниже будет код для установки библиотеки в colab), или с помощью Docker-образа. Если вы планируете работать с использованием Docker, сперва запустите его и работайте с ноутбуком внутри окружения, чтобы не делать предобработку данных дважды. Инструкция ниже.\n",
    "\n",
    "\n",
    "Есть несколько сценариев работы с BigARTM, среди которых:\n",
    "\n",
    "- установка библиотеки для Питона: инструкция [здесь](https://bigartm.readthedocs.io/en/stable/installation/index.html)\n",
    "\n",
    "- запуск Docker образа с библиотекой\n",
    "\n",
    "Если вы предпочтете второй сценарий, вам нужно:\n",
    "1. Скачать и установить [Docker](https://www.docker.com/get-started) для своей ОС. Запустить Docker. \n",
    "2. Скачать образ (Dockerfile), в котором устанавливается большинство библиотек для анализа данных, Jupyter Notebook и сама BigARTM. Ссылка на файл лежит рядом со ссылкой на этот ноутбук в материалах недели.\n",
    "3. Собрать образ: это можно сделать через командную строку (находясь в папке, где лежит скачанный в п.2 Dockerfile):\n",
    "\n",
    "$ docker build -t artm .\n",
    "\n",
    "$ docker run -p 8888:8888 artm\n",
    "\n",
    "После выполнения этих двух команд запустится Jupyter Notebook, в командной строке будет написан путь к нему в таком формате:\n",
    "\n",
    "Or copy and paste one of these URLs:\n",
    "        http://de0ad378d760:8888/?token=5897bc15b494ca17f0d996763a8d05a71f1170af3455e96d\n",
    "     or http://127.0.0.1:8888/?token=5897bc15b494ca17f0d996763a8d05a71f1170af3455e96d   \n",
    "\n",
    "Откройте любой из URL, там поднят Jupyter Notebook с уже установленными библиотеками.\n",
    "\n",
    "При работе не забывайте, что все ноутбуки, которые вы создаете внутри этого Docker образа, исчезнут, как только вы остановите Docker, поэтому перед окончанием работы скачайте ноутбук с результатом себе на компьютер.\n"
   ]
  },
  {
   "cell_type": "markdown",
   "metadata": {
    "id": "9UOlijQ5f6Ms"
   },
   "source": [
    "## Библиотека BigARTM\n",
    "\n",
    "Теперь попробуем построить модели с помощью библиотеки BigARTM. [Тут](https://github.com/bigartm/bigartm-book/blob/master/ARTM_example_RU.ipynb) и [тут](https://github.com/bigartm/bigartm-book/blob/master/ARTM_tutorial_RU.ipynb) можно посмотреть на примеры использования библиотеки. "
   ]
  },
  {
   "cell_type": "markdown",
   "metadata": {
    "id": "oy0GNiJ4jbWZ"
   },
   "source": [
    "### Установка библиотеки в Google Colab"
   ]
  },
  {
   "cell_type": "code",
   "execution_count": null,
   "metadata": {
    "colab": {
     "base_uri": "https://localhost:8080/"
    },
    "id": "RgHU-7r9SeQa",
    "outputId": "f3cba871-da53-4666-f59e-1ad5a689bdb0"
   },
   "outputs": [
    {
     "name": "stdout",
     "output_type": "stream",
     "text": [
      "\r",
      "0% [Working]\r",
      "            \r",
      "Get:1 https://cloud.r-project.org/bin/linux/ubuntu bionic-cran40/ InRelease [3,626 B]\n",
      "\r",
      "0% [Connecting to archive.ubuntu.com (91.189.88.142)] [Connecting to security.u\r",
      "0% [Connecting to archive.ubuntu.com (91.189.88.142)] [Connecting to security.u\r",
      "0% [1 InRelease gpgv 3,626 B] [Connecting to archive.ubuntu.com (91.189.88.142)\r",
      "                                                                               \r",
      "Ign:2 https://developer.download.nvidia.com/compute/cuda/repos/ubuntu1804/x86_64  InRelease\n",
      "\r",
      "0% [1 InRelease gpgv 3,626 B] [Connecting to archive.ubuntu.com (91.189.88.142)\r",
      "                                                                               \r",
      "Ign:3 https://developer.download.nvidia.com/compute/machine-learning/repos/ubuntu1804/x86_64  InRelease\n",
      "\r",
      "0% [1 InRelease gpgv 3,626 B] [Connecting to archive.ubuntu.com (91.189.88.142)\r",
      "                                                                               \r",
      "Get:4 https://developer.download.nvidia.com/compute/cuda/repos/ubuntu1804/x86_64  Release [697 B]\n",
      "\r",
      "0% [1 InRelease gpgv 3,626 B] [Waiting for headers] [Waiting for headers] [Wait\r",
      "0% [1 InRelease gpgv 3,626 B] [Waiting for headers] [Waiting for headers] [Wait\r",
      "                                                                               \r",
      "Hit:5 https://developer.download.nvidia.com/compute/machine-learning/repos/ubuntu1804/x86_64  Release\n",
      "Get:6 https://developer.download.nvidia.com/compute/cuda/repos/ubuntu1804/x86_64  Release.gpg [836 B]\n",
      "Hit:7 http://archive.ubuntu.com/ubuntu bionic InRelease\n",
      "Get:8 http://security.ubuntu.com/ubuntu bionic-security InRelease [88.7 kB]\n",
      "Get:9 http://ppa.launchpad.net/c2d4u.team/c2d4u4.0+/ubuntu bionic InRelease [15.9 kB]\n",
      "Get:10 http://archive.ubuntu.com/ubuntu bionic-updates InRelease [88.7 kB]\n",
      "Get:12 http://ppa.launchpad.net/graphics-drivers/ppa/ubuntu bionic InRelease [21.3 kB]\n",
      "Ign:13 https://developer.download.nvidia.com/compute/cuda/repos/ubuntu1804/x86_64  Packages\n",
      "Get:13 https://developer.download.nvidia.com/compute/cuda/repos/ubuntu1804/x86_64  Packages [443 kB]\n",
      "Get:14 http://archive.ubuntu.com/ubuntu bionic-backports InRelease [74.6 kB]\n",
      "Get:15 http://ppa.launchpad.net/c2d4u.team/c2d4u4.0+/ubuntu bionic/main Sources [1,690 kB]\n",
      "Get:16 http://security.ubuntu.com/ubuntu bionic-security/universe amd64 Packages [1,365 kB]\n",
      "Get:17 http://archive.ubuntu.com/ubuntu bionic-updates/multiverse amd64 Packages [54.3 kB]\n",
      "Get:18 http://archive.ubuntu.com/ubuntu bionic-updates/universe amd64 Packages [2,130 kB]\n",
      "Get:19 http://security.ubuntu.com/ubuntu bionic-security/main amd64 Packages [1,781 kB]\n",
      "Get:20 http://archive.ubuntu.com/ubuntu bionic-updates/main amd64 Packages [2,208 kB]\n",
      "Get:21 http://archive.ubuntu.com/ubuntu bionic-updates/restricted amd64 Packages [252 kB]\n",
      "Get:22 http://ppa.launchpad.net/c2d4u.team/c2d4u4.0+/ubuntu bionic/main amd64 Packages [865 kB]\n",
      "Get:23 http://ppa.launchpad.net/graphics-drivers/ppa/ubuntu bionic/main amd64 Packages [46.5 kB]\n",
      "Fetched 11.1 MB in 4s (2,698 kB/s)\n",
      "Reading package lists... Done\n",
      "Reading package lists... Done\n",
      "Building dependency tree       \n",
      "Reading state information... Done\n",
      "build-essential is already the newest version (12.4ubuntu1).\n",
      "make is already the newest version (4.1-9.1ubuntu1).\n",
      "make set to manually installed.\n",
      "libboost-all-dev is already the newest version (1.65.1.0ubuntu1).\n",
      "cmake is already the newest version (3.10.2-1ubuntu2.18.04.1).\n",
      "git is already the newest version (1:2.17.1-1ubuntu0.7).\n",
      "0 upgraded, 0 newly installed, 0 to remove and 60 not upgraded.\n",
      "Reading package lists... Done\n",
      "Building dependency tree       \n",
      "Reading state information... Done\n",
      "python-numpy is already the newest version (1:1.13.3-2ubuntu1).\n",
      "python-numpy set to manually installed.\n",
      "The following additional packages will be installed:\n",
      "  fonts-lyx javascript-common libamd2 libblosc1 libcamd2 libccolamd2\n",
      "  libcholmod3 libcolamd2 libdsdp-5.8gf libglpk40 libgsl23 libgslcblas0\n",
      "  libjs-jquery libjs-jquery-ui libmetis5 libsuitesparseconfig5 libumfpack5\n",
      "  python-antlr python-attr python-backports.functools-lru-cache python-bs4\n",
      "  python-chardet python-cvxopt python-cycler python-dateutil python-decorator\n",
      "  python-et-xmlfile python-funcsigs python-html5lib python-jdcal python-joblib\n",
      "  python-lxml python-matplotlib python-matplotlib-data python-mock\n",
      "  python-numexpr python-olefile python-openpyxl python-pandas-lib python-patsy\n",
      "  python-pbr python-pil python-pkg-resources python-pluggy python-py\n",
      "  python-pyparsing python-pytest python-simplejson python-six\n",
      "  python-statsmodels python-statsmodels-lib python-subprocess32 python-tables\n",
      "  python-tables-data python-tables-lib python-tz python-webencodings\n",
      "  python-xlrd python-xlwt ttf-bitstream-vera\n",
      "Suggested packages:\n",
      "  apache2 | lighttpd | httpd libiodbc2-dev default-libmysqlclient-dev\n",
      "  gsl-ref-psdoc | gsl-doc-pdf | gsl-doc-info | gsl-ref-html\n",
      "  libjs-jquery-ui-docs python-attr-doc python-cvxopt-doc python-cycler-doc\n",
      "  python-funcsigs-doc python-genshi python-lxml-dbg python-lxml-doc dvipng\n",
      "  gir1.2-gtk-3.0 ghostscript inkscape ipython python-cairocffi\n",
      "  python-configobj python-excelerator python-gobject python-matplotlib-doc\n",
      "  python-nose python-qt4 python-sip python-tornado python-traits\n",
      "  python-wxgtk3.0 texlive-extra-utils texlive-latex-extra ttf-staypuft\n",
      "  python-mock-doc python-pandas-doc python-patsy-doc python-pil-doc\n",
      "  python-pil-dbg python-setuptools subversion python-pytest-xdist\n",
      "  python-pyparsing-doc python-scipy-doc python-statsmodels-doc\n",
      "  python-tables-doc python-netcdf4 vitables\n",
      "The following NEW packages will be installed:\n",
      "  fonts-lyx javascript-common libamd2 libblosc1 libcamd2 libccolamd2\n",
      "  libcholmod3 libcolamd2 libdsdp-5.8gf libglpk40 libgsl23 libgslcblas0\n",
      "  libjs-jquery libjs-jquery-ui libmetis5 libsuitesparseconfig5 libumfpack5\n",
      "  python-antlr python-attr python-backports.functools-lru-cache python-bs4\n",
      "  python-chardet python-cvxopt python-cycler python-dateutil python-decorator\n",
      "  python-et-xmlfile python-funcsigs python-html5lib python-jdcal python-joblib\n",
      "  python-lxml python-matplotlib python-matplotlib-data python-mock\n",
      "  python-numexpr python-olefile python-openpyxl python-pandas\n",
      "  python-pandas-lib python-patsy python-pbr python-pil python-pkg-resources\n",
      "  python-pluggy python-py python-pyparsing python-pytest python-scipy\n",
      "  python-simplejson python-six python-statsmodels python-statsmodels-lib\n",
      "  python-subprocess32 python-tables python-tables-data python-tables-lib\n",
      "  python-tz python-webencodings python-xlrd python-xlwt ttf-bitstream-vera\n",
      "0 upgraded, 62 newly installed, 0 to remove and 60 not upgraded.\n",
      "Need to get 37.6 MB of archives.\n",
      "After this operation, 160 MB of additional disk space will be used.\n",
      "Get:1 http://archive.ubuntu.com/ubuntu bionic-updates/universe amd64 fonts-lyx all 2.2.4-0ubuntu0.18.04.1 [155 kB]\n",
      "Get:2 http://archive.ubuntu.com/ubuntu bionic/main amd64 javascript-common all 11 [6,066 B]\n",
      "Get:3 http://archive.ubuntu.com/ubuntu bionic/main amd64 libsuitesparseconfig5 amd64 1:5.1.2-2 [9,044 B]\n",
      "Get:4 http://archive.ubuntu.com/ubuntu bionic/main amd64 libamd2 amd64 1:5.1.2-2 [19.5 kB]\n",
      "Get:5 http://archive.ubuntu.com/ubuntu bionic/universe amd64 libblosc1 amd64 1.14.2+ds1-1 [31.4 kB]\n",
      "Get:6 http://archive.ubuntu.com/ubuntu bionic/main amd64 libcamd2 amd64 1:5.1.2-2 [20.9 kB]\n",
      "Get:7 http://archive.ubuntu.com/ubuntu bionic/main amd64 libccolamd2 amd64 1:5.1.2-2 [21.7 kB]\n",
      "Get:8 http://archive.ubuntu.com/ubuntu bionic/main amd64 libcolamd2 amd64 1:5.1.2-2 [16.2 kB]\n",
      "Get:9 http://archive.ubuntu.com/ubuntu bionic/main amd64 libmetis5 amd64 5.1.0.dfsg-5 [169 kB]\n",
      "Get:10 http://archive.ubuntu.com/ubuntu bionic/main amd64 libcholmod3 amd64 1:5.1.2-2 [300 kB]\n",
      "Get:11 http://archive.ubuntu.com/ubuntu bionic/universe amd64 libglpk40 amd64 4.65-1 [378 kB]\n",
      "Get:12 http://archive.ubuntu.com/ubuntu bionic/universe amd64 libgslcblas0 amd64 2.4+dfsg-6 [79.7 kB]\n",
      "Get:13 http://archive.ubuntu.com/ubuntu bionic/universe amd64 libgsl23 amd64 2.4+dfsg-6 [823 kB]\n",
      "Get:14 http://archive.ubuntu.com/ubuntu bionic/main amd64 libjs-jquery all 3.2.1-1 [152 kB]\n",
      "Get:15 http://archive.ubuntu.com/ubuntu bionic/universe amd64 libjs-jquery-ui all 1.12.1+dfsg-5 [232 kB]\n",
      "Get:16 http://archive.ubuntu.com/ubuntu bionic/main amd64 libumfpack5 amd64 1:5.1.2-2 [229 kB]\n",
      "Get:17 http://archive.ubuntu.com/ubuntu bionic/main amd64 python-six all 1.11.0-2 [11.3 kB]\n",
      "Get:18 http://archive.ubuntu.com/ubuntu bionic/universe amd64 python-antlr all 2.7.7+dfsg-9.2 [19.4 kB]\n",
      "Get:19 http://archive.ubuntu.com/ubuntu bionic/main amd64 python-attr all 17.4.0-2 [23.7 kB]\n",
      "Get:20 http://archive.ubuntu.com/ubuntu bionic/universe amd64 python-backports.functools-lru-cache all 1.4-2 [5,960 B]\n",
      "Get:21 http://archive.ubuntu.com/ubuntu bionic/main amd64 python-bs4 all 4.6.0-1 [67.9 kB]\n",
      "Get:22 http://archive.ubuntu.com/ubuntu bionic/main amd64 python-pkg-resources all 39.0.1-2 [128 kB]\n",
      "Get:23 http://archive.ubuntu.com/ubuntu bionic/main amd64 python-chardet all 3.0.4-1 [80.3 kB]\n",
      "Get:24 http://archive.ubuntu.com/ubuntu bionic/universe amd64 libdsdp-5.8gf amd64 5.8-9.4 [190 kB]\n",
      "Get:25 http://archive.ubuntu.com/ubuntu bionic/universe amd64 python-cvxopt amd64 1.1.9+dfsg-2build1 [252 kB]\n",
      "Get:26 http://archive.ubuntu.com/ubuntu bionic/universe amd64 python-cycler all 0.10.0-1 [7,520 B]\n",
      "Get:27 http://archive.ubuntu.com/ubuntu bionic/main amd64 python-dateutil all 2.6.1-1 [60.6 kB]\n",
      "Get:28 http://archive.ubuntu.com/ubuntu bionic/main amd64 python-decorator all 4.1.2-1 [9,300 B]\n",
      "Get:29 http://archive.ubuntu.com/ubuntu bionic/universe amd64 python-et-xmlfile all 1.0.1-2 [8,990 B]\n",
      "Get:30 http://archive.ubuntu.com/ubuntu bionic/main amd64 python-funcsigs all 1.0.2-4 [13.5 kB]\n",
      "Get:31 http://archive.ubuntu.com/ubuntu bionic/main amd64 python-webencodings all 0.5-2 [10.3 kB]\n",
      "Get:32 http://archive.ubuntu.com/ubuntu bionic/main amd64 python-html5lib all 0.999999999-1 [83.6 kB]\n",
      "Get:33 http://archive.ubuntu.com/ubuntu bionic/universe amd64 python-jdcal all 1.0-1.2 [7,728 B]\n",
      "Get:34 http://archive.ubuntu.com/ubuntu bionic/universe amd64 python-joblib all 0.11-1 [112 kB]\n",
      "Get:35 http://archive.ubuntu.com/ubuntu bionic-updates/main amd64 python-lxml amd64 4.2.1-1ubuntu0.1 [1,075 kB]\n",
      "Get:36 http://archive.ubuntu.com/ubuntu bionic/universe amd64 ttf-bitstream-vera all 1.10-8 [352 kB]\n",
      "Get:37 http://archive.ubuntu.com/ubuntu bionic/universe amd64 python-matplotlib-data all 2.1.1-2ubuntu3 [3,774 kB]\n",
      "Get:38 http://archive.ubuntu.com/ubuntu bionic/main amd64 python-pyparsing all 2.2.0+dfsg1-2 [52.1 kB]\n",
      "Get:39 http://archive.ubuntu.com/ubuntu bionic/main amd64 python-tz all 2018.3-2 [31.6 kB]\n",
      "Get:40 http://archive.ubuntu.com/ubuntu bionic/universe amd64 python-subprocess32 amd64 3.2.7-3 [27.2 kB]\n",
      "Get:41 http://archive.ubuntu.com/ubuntu bionic/universe amd64 python-matplotlib amd64 2.1.1-2ubuntu3 [3,901 kB]\n",
      "Get:42 http://archive.ubuntu.com/ubuntu bionic/universe amd64 python-numexpr amd64 2.6.4-1 [123 kB]\n",
      "Get:43 http://archive.ubuntu.com/ubuntu bionic/main amd64 python-olefile all 0.45.1-1 [33.2 kB]\n",
      "Get:44 http://archive.ubuntu.com/ubuntu bionic/universe amd64 python-openpyxl all 2.4.9-1 [210 kB]\n",
      "Get:45 http://archive.ubuntu.com/ubuntu bionic-updates/universe amd64 python-pandas-lib amd64 0.22.0-4ubuntu1 [3,058 kB]\n",
      "Get:46 http://archive.ubuntu.com/ubuntu bionic-updates/universe amd64 python-pandas all 0.22.0-4ubuntu1 [2,764 kB]\n",
      "Get:47 http://archive.ubuntu.com/ubuntu bionic-updates/universe amd64 python-patsy all 0.4.1+git34-ga5b54c2-1ubuntu0.1 [168 kB]\n",
      "Get:48 http://archive.ubuntu.com/ubuntu bionic-updates/main amd64 python-pil amd64 5.1.0-1ubuntu0.3 [301 kB]\n",
      "Get:49 http://archive.ubuntu.com/ubuntu bionic/universe amd64 python-pluggy all 0.6.0-1 [12.2 kB]\n",
      "Get:50 http://archive.ubuntu.com/ubuntu bionic/universe amd64 python-py all 1.5.2-1 [65.1 kB]\n",
      "Get:51 http://archive.ubuntu.com/ubuntu bionic/universe amd64 python-pytest all 3.3.2-2 [142 kB]\n",
      "Get:52 http://archive.ubuntu.com/ubuntu bionic/main amd64 python-simplejson amd64 3.13.2-1 [61.2 kB]\n",
      "Get:53 http://archive.ubuntu.com/ubuntu bionic/universe amd64 python-tables-lib amd64 3.4.2-4 [408 kB]\n",
      "Get:54 http://archive.ubuntu.com/ubuntu bionic/universe amd64 python-tables-data all 3.4.2-4 [46.1 kB]\n",
      "Get:55 http://archive.ubuntu.com/ubuntu bionic/main amd64 python-pbr all 3.1.1-3ubuntu3 [53.7 kB]\n",
      "Get:56 http://archive.ubuntu.com/ubuntu bionic/main amd64 python-mock all 2.0.0-3 [47.4 kB]\n",
      "Get:57 http://archive.ubuntu.com/ubuntu bionic/universe amd64 python-tables all 3.4.2-4 [325 kB]\n",
      "Get:58 http://archive.ubuntu.com/ubuntu bionic/universe amd64 python-xlrd all 1.1.0-1 [96.4 kB]\n",
      "Get:59 http://archive.ubuntu.com/ubuntu bionic/universe amd64 python-xlwt all 0.7.5+debian1-1 [83.5 kB]\n",
      "Get:60 http://archive.ubuntu.com/ubuntu bionic/universe amd64 python-scipy amd64 0.19.1-2ubuntu1 [9,689 kB]\n",
      "Get:61 http://archive.ubuntu.com/ubuntu bionic/universe amd64 python-statsmodels-lib amd64 0.8.0-6 [362 kB]\n",
      "Get:62 http://archive.ubuntu.com/ubuntu bionic/universe amd64 python-statsmodels all 0.8.0-6 [6,607 kB]\n",
      "Fetched 37.6 MB in 4s (10.1 MB/s)\n",
      "Extracting templates from packages: 100%\n",
      "Selecting previously unselected package fonts-lyx.\n",
      "(Reading database ... 144793 files and directories currently installed.)\n",
      "Preparing to unpack .../00-fonts-lyx_2.2.4-0ubuntu0.18.04.1_all.deb ...\n",
      "Unpacking fonts-lyx (2.2.4-0ubuntu0.18.04.1) ...\n",
      "Selecting previously unselected package javascript-common.\n",
      "Preparing to unpack .../01-javascript-common_11_all.deb ...\n",
      "Unpacking javascript-common (11) ...\n",
      "Selecting previously unselected package libsuitesparseconfig5:amd64.\n",
      "Preparing to unpack .../02-libsuitesparseconfig5_1%3a5.1.2-2_amd64.deb ...\n",
      "Unpacking libsuitesparseconfig5:amd64 (1:5.1.2-2) ...\n",
      "Selecting previously unselected package libamd2:amd64.\n",
      "Preparing to unpack .../03-libamd2_1%3a5.1.2-2_amd64.deb ...\n",
      "Unpacking libamd2:amd64 (1:5.1.2-2) ...\n",
      "Selecting previously unselected package libblosc1.\n",
      "Preparing to unpack .../04-libblosc1_1.14.2+ds1-1_amd64.deb ...\n",
      "Unpacking libblosc1 (1.14.2+ds1-1) ...\n",
      "Selecting previously unselected package libcamd2:amd64.\n",
      "Preparing to unpack .../05-libcamd2_1%3a5.1.2-2_amd64.deb ...\n",
      "Unpacking libcamd2:amd64 (1:5.1.2-2) ...\n",
      "Selecting previously unselected package libccolamd2:amd64.\n",
      "Preparing to unpack .../06-libccolamd2_1%3a5.1.2-2_amd64.deb ...\n",
      "Unpacking libccolamd2:amd64 (1:5.1.2-2) ...\n",
      "Selecting previously unselected package libcolamd2:amd64.\n",
      "Preparing to unpack .../07-libcolamd2_1%3a5.1.2-2_amd64.deb ...\n",
      "Unpacking libcolamd2:amd64 (1:5.1.2-2) ...\n",
      "Selecting previously unselected package libmetis5:amd64.\n",
      "Preparing to unpack .../08-libmetis5_5.1.0.dfsg-5_amd64.deb ...\n",
      "Unpacking libmetis5:amd64 (5.1.0.dfsg-5) ...\n",
      "Selecting previously unselected package libcholmod3:amd64.\n",
      "Preparing to unpack .../09-libcholmod3_1%3a5.1.2-2_amd64.deb ...\n",
      "Unpacking libcholmod3:amd64 (1:5.1.2-2) ...\n",
      "Selecting previously unselected package libglpk40:amd64.\n",
      "Preparing to unpack .../10-libglpk40_4.65-1_amd64.deb ...\n",
      "Unpacking libglpk40:amd64 (4.65-1) ...\n",
      "Selecting previously unselected package libgslcblas0:amd64.\n",
      "Preparing to unpack .../11-libgslcblas0_2.4+dfsg-6_amd64.deb ...\n",
      "Unpacking libgslcblas0:amd64 (2.4+dfsg-6) ...\n",
      "Selecting previously unselected package libgsl23:amd64.\n",
      "Preparing to unpack .../12-libgsl23_2.4+dfsg-6_amd64.deb ...\n",
      "Unpacking libgsl23:amd64 (2.4+dfsg-6) ...\n",
      "Selecting previously unselected package libjs-jquery.\n",
      "Preparing to unpack .../13-libjs-jquery_3.2.1-1_all.deb ...\n",
      "Unpacking libjs-jquery (3.2.1-1) ...\n",
      "Selecting previously unselected package libjs-jquery-ui.\n",
      "Preparing to unpack .../14-libjs-jquery-ui_1.12.1+dfsg-5_all.deb ...\n",
      "Unpacking libjs-jquery-ui (1.12.1+dfsg-5) ...\n",
      "Selecting previously unselected package libumfpack5:amd64.\n",
      "Preparing to unpack .../15-libumfpack5_1%3a5.1.2-2_amd64.deb ...\n",
      "Unpacking libumfpack5:amd64 (1:5.1.2-2) ...\n",
      "Selecting previously unselected package python-six.\n",
      "Preparing to unpack .../16-python-six_1.11.0-2_all.deb ...\n",
      "Unpacking python-six (1.11.0-2) ...\n",
      "Selecting previously unselected package python-antlr.\n",
      "Preparing to unpack .../17-python-antlr_2.7.7+dfsg-9.2_all.deb ...\n",
      "Unpacking python-antlr (2.7.7+dfsg-9.2) ...\n",
      "Selecting previously unselected package python-attr.\n",
      "Preparing to unpack .../18-python-attr_17.4.0-2_all.deb ...\n",
      "Unpacking python-attr (17.4.0-2) ...\n",
      "Selecting previously unselected package python-backports.functools-lru-cache.\n",
      "Preparing to unpack .../19-python-backports.functools-lru-cache_1.4-2_all.deb ...\n",
      "Unpacking python-backports.functools-lru-cache (1.4-2) ...\n",
      "Selecting previously unselected package python-bs4.\n",
      "Preparing to unpack .../20-python-bs4_4.6.0-1_all.deb ...\n",
      "Unpacking python-bs4 (4.6.0-1) ...\n",
      "Selecting previously unselected package python-pkg-resources.\n",
      "Preparing to unpack .../21-python-pkg-resources_39.0.1-2_all.deb ...\n",
      "Unpacking python-pkg-resources (39.0.1-2) ...\n",
      "Selecting previously unselected package python-chardet.\n",
      "Preparing to unpack .../22-python-chardet_3.0.4-1_all.deb ...\n",
      "Unpacking python-chardet (3.0.4-1) ...\n",
      "Selecting previously unselected package libdsdp-5.8gf.\n",
      "Preparing to unpack .../23-libdsdp-5.8gf_5.8-9.4_amd64.deb ...\n",
      "Unpacking libdsdp-5.8gf (5.8-9.4) ...\n",
      "Selecting previously unselected package python-cvxopt.\n",
      "Preparing to unpack .../24-python-cvxopt_1.1.9+dfsg-2build1_amd64.deb ...\n",
      "Unpacking python-cvxopt (1.1.9+dfsg-2build1) ...\n",
      "Selecting previously unselected package python-cycler.\n",
      "Preparing to unpack .../25-python-cycler_0.10.0-1_all.deb ...\n",
      "Unpacking python-cycler (0.10.0-1) ...\n",
      "Selecting previously unselected package python-dateutil.\n",
      "Preparing to unpack .../26-python-dateutil_2.6.1-1_all.deb ...\n",
      "Unpacking python-dateutil (2.6.1-1) ...\n",
      "Selecting previously unselected package python-decorator.\n",
      "Preparing to unpack .../27-python-decorator_4.1.2-1_all.deb ...\n",
      "Unpacking python-decorator (4.1.2-1) ...\n",
      "Selecting previously unselected package python-et-xmlfile.\n",
      "Preparing to unpack .../28-python-et-xmlfile_1.0.1-2_all.deb ...\n",
      "Unpacking python-et-xmlfile (1.0.1-2) ...\n",
      "Selecting previously unselected package python-funcsigs.\n",
      "Preparing to unpack .../29-python-funcsigs_1.0.2-4_all.deb ...\n",
      "Unpacking python-funcsigs (1.0.2-4) ...\n",
      "Selecting previously unselected package python-webencodings.\n",
      "Preparing to unpack .../30-python-webencodings_0.5-2_all.deb ...\n",
      "Unpacking python-webencodings (0.5-2) ...\n",
      "Selecting previously unselected package python-html5lib.\n",
      "Preparing to unpack .../31-python-html5lib_0.999999999-1_all.deb ...\n",
      "Unpacking python-html5lib (0.999999999-1) ...\n",
      "Selecting previously unselected package python-jdcal.\n",
      "Preparing to unpack .../32-python-jdcal_1.0-1.2_all.deb ...\n",
      "Unpacking python-jdcal (1.0-1.2) ...\n",
      "Selecting previously unselected package python-joblib.\n",
      "Preparing to unpack .../33-python-joblib_0.11-1_all.deb ...\n",
      "Unpacking python-joblib (0.11-1) ...\n",
      "Selecting previously unselected package python-lxml:amd64.\n",
      "Preparing to unpack .../34-python-lxml_4.2.1-1ubuntu0.1_amd64.deb ...\n",
      "Unpacking python-lxml:amd64 (4.2.1-1ubuntu0.1) ...\n",
      "Selecting previously unselected package ttf-bitstream-vera.\n",
      "Preparing to unpack .../35-ttf-bitstream-vera_1.10-8_all.deb ...\n",
      "Unpacking ttf-bitstream-vera (1.10-8) ...\n",
      "Selecting previously unselected package python-matplotlib-data.\n",
      "Preparing to unpack .../36-python-matplotlib-data_2.1.1-2ubuntu3_all.deb ...\n",
      "Unpacking python-matplotlib-data (2.1.1-2ubuntu3) ...\n",
      "Selecting previously unselected package python-pyparsing.\n",
      "Preparing to unpack .../37-python-pyparsing_2.2.0+dfsg1-2_all.deb ...\n",
      "Unpacking python-pyparsing (2.2.0+dfsg1-2) ...\n",
      "Selecting previously unselected package python-tz.\n",
      "Preparing to unpack .../38-python-tz_2018.3-2_all.deb ...\n",
      "Unpacking python-tz (2018.3-2) ...\n",
      "Selecting previously unselected package python-subprocess32.\n",
      "Preparing to unpack .../39-python-subprocess32_3.2.7-3_amd64.deb ...\n",
      "Unpacking python-subprocess32 (3.2.7-3) ...\n",
      "Selecting previously unselected package python-matplotlib.\n",
      "Preparing to unpack .../40-python-matplotlib_2.1.1-2ubuntu3_amd64.deb ...\n",
      "Unpacking python-matplotlib (2.1.1-2ubuntu3) ...\n",
      "Selecting previously unselected package python-numexpr.\n",
      "Preparing to unpack .../41-python-numexpr_2.6.4-1_amd64.deb ...\n",
      "Unpacking python-numexpr (2.6.4-1) ...\n",
      "Selecting previously unselected package python-olefile.\n",
      "Preparing to unpack .../42-python-olefile_0.45.1-1_all.deb ...\n",
      "Unpacking python-olefile (0.45.1-1) ...\n",
      "Selecting previously unselected package python-openpyxl.\n",
      "Preparing to unpack .../43-python-openpyxl_2.4.9-1_all.deb ...\n",
      "Unpacking python-openpyxl (2.4.9-1) ...\n",
      "Selecting previously unselected package python-pandas-lib.\n",
      "Preparing to unpack .../44-python-pandas-lib_0.22.0-4ubuntu1_amd64.deb ...\n",
      "Unpacking python-pandas-lib (0.22.0-4ubuntu1) ...\n",
      "Selecting previously unselected package python-pandas.\n",
      "Preparing to unpack .../45-python-pandas_0.22.0-4ubuntu1_all.deb ...\n",
      "Unpacking python-pandas (0.22.0-4ubuntu1) ...\n",
      "Selecting previously unselected package python-patsy.\n",
      "Preparing to unpack .../46-python-patsy_0.4.1+git34-ga5b54c2-1ubuntu0.1_all.deb ...\n",
      "Unpacking python-patsy (0.4.1+git34-ga5b54c2-1ubuntu0.1) ...\n",
      "Selecting previously unselected package python-pil:amd64.\n",
      "Preparing to unpack .../47-python-pil_5.1.0-1ubuntu0.3_amd64.deb ...\n",
      "Unpacking python-pil:amd64 (5.1.0-1ubuntu0.3) ...\n",
      "Selecting previously unselected package python-pluggy.\n",
      "Preparing to unpack .../48-python-pluggy_0.6.0-1_all.deb ...\n",
      "Unpacking python-pluggy (0.6.0-1) ...\n",
      "Selecting previously unselected package python-py.\n",
      "Preparing to unpack .../49-python-py_1.5.2-1_all.deb ...\n",
      "Unpacking python-py (1.5.2-1) ...\n",
      "Selecting previously unselected package python-pytest.\n",
      "Preparing to unpack .../50-python-pytest_3.3.2-2_all.deb ...\n",
      "Unpacking python-pytest (3.3.2-2) ...\n",
      "Selecting previously unselected package python-simplejson.\n",
      "Preparing to unpack .../51-python-simplejson_3.13.2-1_amd64.deb ...\n",
      "Unpacking python-simplejson (3.13.2-1) ...\n",
      "Selecting previously unselected package python-tables-lib.\n",
      "Preparing to unpack .../52-python-tables-lib_3.4.2-4_amd64.deb ...\n",
      "Unpacking python-tables-lib (3.4.2-4) ...\n",
      "Selecting previously unselected package python-tables-data.\n",
      "Preparing to unpack .../53-python-tables-data_3.4.2-4_all.deb ...\n",
      "Unpacking python-tables-data (3.4.2-4) ...\n",
      "Selecting previously unselected package python-pbr.\n",
      "Preparing to unpack .../54-python-pbr_3.1.1-3ubuntu3_all.deb ...\n",
      "Unpacking python-pbr (3.1.1-3ubuntu3) ...\n",
      "Selecting previously unselected package python-mock.\n",
      "Preparing to unpack .../55-python-mock_2.0.0-3_all.deb ...\n",
      "Unpacking python-mock (2.0.0-3) ...\n",
      "Selecting previously unselected package python-tables.\n",
      "Preparing to unpack .../56-python-tables_3.4.2-4_all.deb ...\n",
      "Unpacking python-tables (3.4.2-4) ...\n",
      "Selecting previously unselected package python-xlrd.\n",
      "Preparing to unpack .../57-python-xlrd_1.1.0-1_all.deb ...\n",
      "Unpacking python-xlrd (1.1.0-1) ...\n",
      "Selecting previously unselected package python-xlwt.\n",
      "Preparing to unpack .../58-python-xlwt_0.7.5+debian1-1_all.deb ...\n",
      "Unpacking python-xlwt (0.7.5+debian1-1) ...\n",
      "Selecting previously unselected package python-scipy.\n",
      "Preparing to unpack .../59-python-scipy_0.19.1-2ubuntu1_amd64.deb ...\n",
      "Unpacking python-scipy (0.19.1-2ubuntu1) ...\n",
      "Selecting previously unselected package python-statsmodels-lib.\n",
      "Preparing to unpack .../60-python-statsmodels-lib_0.8.0-6_amd64.deb ...\n",
      "Unpacking python-statsmodels-lib (0.8.0-6) ...\n",
      "Selecting previously unselected package python-statsmodels.\n",
      "Preparing to unpack .../61-python-statsmodels_0.8.0-6_all.deb ...\n",
      "Unpacking python-statsmodels (0.8.0-6) ...\n",
      "Setting up python-simplejson (3.13.2-1) ...\n",
      "Setting up libjs-jquery (3.2.1-1) ...\n",
      "Setting up libblosc1 (1.14.2+ds1-1) ...\n",
      "Setting up python-attr (17.4.0-2) ...\n",
      "Setting up python-backports.functools-lru-cache (1.4-2) ...\n",
      "Setting up python-joblib (0.11-1) ...\n",
      "Setting up python-pluggy (0.6.0-1) ...\n",
      "Setting up python-tz (2018.3-2) ...\n",
      "Setting up python-jdcal (1.0-1.2) ...\n",
      "Setting up python-tables-data (3.4.2-4) ...\n",
      "Setting up python-pkg-resources (39.0.1-2) ...\n",
      "Setting up libdsdp-5.8gf (5.8-9.4) ...\n",
      "Setting up python-tables-lib (3.4.2-4) ...\n",
      "Setting up python-six (1.11.0-2) ...\n",
      "Setting up python-xlrd (1.1.0-1) ...\n",
      "Setting up python-bs4 (4.6.0-1) ...\n",
      "Setting up python-et-xmlfile (1.0.1-2) ...\n",
      "Setting up python-pandas-lib (0.22.0-4ubuntu1) ...\n",
      "Setting up python-pbr (3.1.1-3ubuntu3) ...\n",
      "update-alternatives: using /usr/bin/python2-pbr to provide /usr/bin/pbr (pbr) in auto mode\n",
      "Setting up libsuitesparseconfig5:amd64 (1:5.1.2-2) ...\n",
      "Setting up libmetis5:amd64 (5.1.0.dfsg-5) ...\n",
      "Setting up libjs-jquery-ui (1.12.1+dfsg-5) ...\n",
      "Setting up python-lxml:amd64 (4.2.1-1ubuntu0.1) ...\n",
      "Setting up libcolamd2:amd64 (1:5.1.2-2) ...\n",
      "Setting up python-funcsigs (1.0.2-4) ...\n",
      "Setting up python-olefile (0.45.1-1) ...\n",
      "Setting up ttf-bitstream-vera (1.10-8) ...\n",
      "Setting up libccolamd2:amd64 (1:5.1.2-2) ...\n",
      "Setting up python-statsmodels-lib (0.8.0-6) ...\n",
      "Setting up python-decorator (4.1.2-1) ...\n",
      "Setting up javascript-common (11) ...\n",
      "Setting up python-antlr (2.7.7+dfsg-9.2) ...\n",
      "Setting up python-subprocess32 (3.2.7-3) ...\n",
      "Setting up libgslcblas0:amd64 (2.4+dfsg-6) ...\n",
      "Setting up python-pil:amd64 (5.1.0-1ubuntu0.3) ...\n",
      "Setting up python-patsy (0.4.1+git34-ga5b54c2-1ubuntu0.1) ...\n",
      "Setting up python-webencodings (0.5-2) ...\n",
      "Setting up fonts-lyx (2.2.4-0ubuntu0.18.04.1) ...\n",
      "Setting up python-pyparsing (2.2.0+dfsg1-2) ...\n",
      "Setting up python-numexpr (2.6.4-1) ...\n",
      "Setting up python-chardet (3.0.4-1) ...\n",
      "Setting up python-matplotlib-data (2.1.1-2ubuntu3) ...\n",
      "Setting up python-scipy (0.19.1-2ubuntu1) ...\n",
      "Setting up python-xlwt (0.7.5+debian1-1) ...\n",
      "Setting up libgsl23:amd64 (2.4+dfsg-6) ...\n",
      "Setting up python-py (1.5.2-1) ...\n",
      "Setting up libcamd2:amd64 (1:5.1.2-2) ...\n",
      "Setting up python-mock (2.0.0-3) ...\n",
      "Setting up python-pytest (3.3.2-2) ...\n",
      "Setting up python-cycler (0.10.0-1) ...\n",
      "Setting up python-dateutil (2.6.1-1) ...\n",
      "Setting up libamd2:amd64 (1:5.1.2-2) ...\n",
      "Setting up python-openpyxl (2.4.9-1) ...\n",
      "Setting up python-tables (3.4.2-4) ...\n",
      "Setting up python-html5lib (0.999999999-1) ...\n",
      "Setting up libglpk40:amd64 (4.65-1) ...\n",
      "Setting up python-pandas (0.22.0-4ubuntu1) ...\n",
      "Setting up python-matplotlib (2.1.1-2ubuntu3) ...\n",
      "Setting up libcholmod3:amd64 (1:5.1.2-2) ...\n",
      "Setting up python-statsmodels (0.8.0-6) ...\n",
      "Setting up libumfpack5:amd64 (1:5.1.2-2) ...\n",
      "Setting up python-cvxopt (1.1.9+dfsg-2build1) ...\n",
      "Processing triggers for man-db (2.8.3-2ubuntu0.1) ...\n",
      "Processing triggers for fontconfig (2.12.6-0ubuntu2) ...\n",
      "Processing triggers for libc-bin (2.27-3ubuntu1.2) ...\n",
      "/sbin/ldconfig.real: /usr/local/lib/python3.6/dist-packages/ideep4py/lib/libmkldnn.so.0 is not a symbolic link\n",
      "\n",
      "--2020-11-24 16:21:09--  https://bootstrap.pypa.io/get-pip.py\n",
      "Resolving bootstrap.pypa.io (bootstrap.pypa.io)... 151.101.0.175, 151.101.64.175, 151.101.128.175, ...\n",
      "Connecting to bootstrap.pypa.io (bootstrap.pypa.io)|151.101.0.175|:443... connected.\n",
      "HTTP request sent, awaiting response... 200 OK\n",
      "Length: 1886796 (1.8M) [text/x-python]\n",
      "Saving to: ‘get-pip.py’\n",
      "\n",
      "get-pip.py          100%[===================>]   1.80M  --.-KB/s    in 0.06s   \n",
      "\n",
      "2020-11-24 16:21:09 (32.6 MB/s) - ‘get-pip.py’ saved [1886796/1886796]\n",
      "\n",
      "Collecting pip\n",
      "  Downloading pip-20.2.4-py2.py3-none-any.whl (1.5 MB)\n",
      "\u001b[K     |████████████████████████████████| 1.5 MB 9.8 MB/s \n",
      "\u001b[?25hInstalling collected packages: pip\n",
      "  Attempting uninstall: pip\n",
      "    Found existing installation: pip 19.3.1\n",
      "    Uninstalling pip-19.3.1:\n",
      "      Successfully uninstalled pip-19.3.1\n",
      "Successfully installed pip-20.2.4\n",
      "Requirement already satisfied: protobuf in /usr/local/lib/python3.6/dist-packages (3.12.4)\n",
      "Requirement already satisfied: tqdm in /usr/local/lib/python3.6/dist-packages (4.41.1)\n",
      "Requirement already satisfied: wheel in /usr/local/lib/python3.6/dist-packages (0.35.1)\n",
      "Requirement already satisfied: setuptools in /usr/local/lib/python3.6/dist-packages (from protobuf) (50.3.2)\n",
      "Requirement already satisfied: six>=1.9 in /usr/local/lib/python3.6/dist-packages (from protobuf) (1.15.0)\n",
      "Cloning into 'bigartm'...\n",
      "remote: Enumerating objects: 27, done.\u001b[K\n",
      "remote: Counting objects: 100% (27/27), done.\u001b[K\n",
      "remote: Compressing objects: 100% (27/27), done.\u001b[K\n",
      "remote: Total 16638 (delta 6), reused 6 (delta 0), pack-reused 16611\u001b[K\n",
      "Receiving objects: 100% (16638/16638), 17.20 MiB | 21.42 MiB/s, done.\n",
      "Resolving deltas: 100% (11628/11628), done.\n"
     ]
    }
   ],
   "source": [
    "!apt-get --yes update\n",
    "!apt-get --yes install git make cmake build-essential libboost-all-dev\n",
    "!apt-get --yes install python-numpy python-pandas python-scipy\n",
    "!wget https://bootstrap.pypa.io/get-pip.py\n",
    "!python get-pip.py\n",
    "!pip install protobuf tqdm wheel\n",
    "!git clone --branch=stable https://github.com/bigartm/bigartm.git"
   ]
  },
  {
   "cell_type": "code",
   "execution_count": null,
   "metadata": {
    "colab": {
     "base_uri": "https://localhost:8080/"
    },
    "id": "ybXdTWRyUywA",
    "outputId": "8859f37e-5eba-4837-fc3a-7680b1093210"
   },
   "outputs": [
    {
     "name": "stdout",
     "output_type": "stream",
     "text": [
      "/content/bigartm\n"
     ]
    }
   ],
   "source": [
    "%cd bigartm"
   ]
  },
  {
   "cell_type": "code",
   "execution_count": null,
   "metadata": {
    "id": "bFnF1nI1U34z"
   },
   "outputs": [],
   "source": [
    "!mkdir build"
   ]
  },
  {
   "cell_type": "code",
   "execution_count": null,
   "metadata": {
    "colab": {
     "base_uri": "https://localhost:8080/"
    },
    "id": "nubxVcCXVuGb",
    "outputId": "b40d7c9e-6b71-4197-ddcc-5332ec797c0a"
   },
   "outputs": [
    {
     "name": "stdout",
     "output_type": "stream",
     "text": [
      "/content/bigartm/build\n"
     ]
    }
   ],
   "source": [
    "%cd build"
   ]
  },
  {
   "cell_type": "code",
   "execution_count": null,
   "metadata": {
    "colab": {
     "base_uri": "https://localhost:8080/"
    },
    "id": "nJdbsuaqU6J3",
    "outputId": "8158719e-509d-4489-8645-5957841f494c"
   },
   "outputs": [
    {
     "name": "stdout",
     "output_type": "stream",
     "text": [
      "-- The C compiler identification is GNU 7.5.0\n",
      "-- The CXX compiler identification is GNU 7.5.0\n",
      "-- Check for working C compiler: /usr/bin/cc\n",
      "-- Check for working C compiler: /usr/bin/cc -- works\n",
      "-- Detecting C compiler ABI info\n",
      "-- Detecting C compiler ABI info - done\n",
      "-- Detecting C compile features\n",
      "-- Detecting C compile features - done\n",
      "-- Check for working CXX compiler: /usr/bin/c++\n",
      "-- Check for working CXX compiler: /usr/bin/c++ -- works\n",
      "-- Detecting CXX compiler ABI info\n",
      "-- Detecting CXX compiler ABI info - done\n",
      "-- Detecting CXX compile features\n",
      "-- Detecting CXX compile features - done\n",
      "-- Build type: Release\n",
      "-- Looking for include file unistd.h\n",
      "-- Looking for include file unistd.h - found\n",
      "-- Boost version: 1.65.1\n",
      "-- Looking for pthread.h\n",
      "-- Looking for pthread.h - found\n",
      "-- Looking for pthread_create\n",
      "-- Looking for pthread_create - not found\n",
      "-- Looking for pthread_create in pthreads\n",
      "-- Looking for pthread_create in pthreads - not found\n",
      "-- Looking for pthread_create in pthread\n",
      "-- Looking for pthread_create in pthread - found\n",
      "-- Found Threads: TRUE  \n",
      "-- Boost version: 1.65.1\n",
      "-- Found the following Boost libraries:\n",
      "--   thread\n",
      "--   program_options\n",
      "--   date_time\n",
      "--   filesystem\n",
      "--   iostreams\n",
      "--   system\n",
      "--   chrono\n",
      "--   timer\n",
      "--   atomic\n",
      "--   regex\n",
      "-- Looking for C++ include stdint.h\n",
      "-- Looking for C++ include stdint.h - found\n",
      "-- Looking for C++ include inttypes.h\n",
      "-- Looking for C++ include inttypes.h - found\n",
      "-- Looking for C++ include sys/types.h\n",
      "-- Looking for C++ include sys/types.h - found\n",
      "-- Looking for C++ include sys/stat.h\n",
      "-- Looking for C++ include sys/stat.h - found\n",
      "-- Looking for C++ include fnmatch.h\n",
      "-- Looking for C++ include fnmatch.h - found\n",
      "-- Looking for strtoll\n",
      "-- Looking for strtoll - found\n",
      "-- Looking for C++ include stddef.h\n",
      "-- Looking for C++ include stddef.h - found\n",
      "-- Check size of pthread_rwlock_t\n",
      "-- Check size of pthread_rwlock_t - done\n",
      "-- Looking for dlfcn.h\n",
      "-- Looking for dlfcn.h - found\n",
      "-- Looking for execinfo.h\n",
      "-- Looking for execinfo.h - found\n",
      "-- Looking for glob.h\n",
      "-- Looking for glob.h - found\n",
      "-- Looking for libunwind.h\n",
      "-- Looking for libunwind.h - not found\n",
      "-- Looking for memory.h\n",
      "-- Looking for memory.h - found\n",
      "-- Looking for pwd.h\n",
      "-- Looking for pwd.h - found\n",
      "-- Looking for stdlib.h\n",
      "-- Looking for stdlib.h - found\n",
      "-- Looking for string.h\n",
      "-- Looking for string.h - found\n",
      "-- Looking for strings.h\n",
      "-- Looking for strings.h - found\n",
      "-- Looking for sys/syscall.h\n",
      "-- Looking for sys/syscall.h - found\n",
      "-- Looking for sys/time.h\n",
      "-- Looking for sys/time.h - found\n",
      "-- Looking for sys/utsname.h\n",
      "-- Looking for sys/utsname.h - found\n",
      "-- Looking for syscall.h\n",
      "-- Looking for syscall.h - found\n",
      "-- Looking for syslog.h\n",
      "-- Looking for syslog.h - found\n",
      "-- Looking for ucontext.h\n",
      "-- Looking for ucontext.h - found\n",
      "-- Looking for unwind.h\n",
      "-- Looking for unwind.h - found\n",
      "-- Looking for C++ include ext/hash_map\n",
      "-- Looking for C++ include ext/hash_map - found\n",
      "-- Looking for C++ include ext/hash_set\n",
      "-- Looking for C++ include ext/hash_set - found\n",
      "-- Looking for C++ include ext/slist\n",
      "-- Looking for C++ include ext/slist - found\n",
      "-- Looking for C++ include tr1/unordered_map\n",
      "-- Looking for C++ include tr1/unordered_map - found\n",
      "-- Looking for C++ include tr1/unordered_set\n",
      "-- Looking for C++ include tr1/unordered_set - found\n",
      "-- Looking for C++ include unordered_map\n",
      "-- Looking for C++ include unordered_map - found\n",
      "-- Looking for C++ include unordered_set\n",
      "-- Looking for C++ include unordered_set - found\n",
      "-- Check size of unsigned __int16\n",
      "-- Check size of unsigned __int16 - failed\n",
      "-- Check size of u_int16_t\n",
      "-- Check size of u_int16_t - done\n",
      "-- Check size of uint16_t\n",
      "-- Check size of uint16_t - done\n",
      "-- Looking for dladdr\n",
      "-- Looking for dladdr - not found\n",
      "-- Looking for fcntl\n",
      "-- Looking for fcntl - found\n",
      "-- Looking for pread\n",
      "-- Looking for pread - found\n",
      "-- Looking for pwrite\n",
      "-- Looking for pwrite - found\n",
      "-- Looking for sigaction\n",
      "-- Looking for sigaction - found\n",
      "-- Looking for sigaltstack\n",
      "-- Looking for sigaltstack - found\n",
      "-- Performing Test HAVE_NO_DEPRECATED\n",
      "-- Performing Test HAVE_NO_DEPRECATED - Success\n",
      "-- Performing Test HAVE_NO_UNNAMED_TYPE_TEMPLATE_ARGS\n",
      "-- Performing Test HAVE_NO_UNNAMED_TYPE_TEMPLATE_ARGS - Failed\n",
      "-- Looking for snprintf\n",
      "-- Looking for snprintf - found\n",
      "-- Looking for get_static_proc_name in unwind\n",
      "-- Looking for get_static_proc_name in unwind - not found\n",
      "-- Performing Test HAVE___ATTRIBUTE__\n",
      "-- Performing Test HAVE___ATTRIBUTE__ - Success\n",
      "-- Performing Test HAVE___ATTRIBUTE__VISIBILITY_DEFAULT\n",
      "-- Performing Test HAVE___ATTRIBUTE__VISIBILITY_DEFAULT - Success\n",
      "-- Performing Test HAVE___ATTRIBUTE__VISIBILITY_HIDDEN\n",
      "-- Performing Test HAVE___ATTRIBUTE__VISIBILITY_HIDDEN - Success\n",
      "-- Performing Test HAVE___BUILTIN_EXPECT\n",
      "-- Performing Test HAVE___BUILTIN_EXPECT - Success\n",
      "-- Performing Test HAVE___SYNC_VAL_COMPARE_AND_SWAP\n",
      "-- Performing Test HAVE___SYNC_VAL_COMPARE_AND_SWAP - Success\n",
      "-- Performing Test HAVE___DECLSPEC\n",
      "-- Performing Test HAVE___DECLSPEC - Failed\n",
      "-- Performing Test STL_NO_NAMESPACE\n",
      "-- Performing Test STL_NO_NAMESPACE - Failed\n",
      "-- Performing Test STL_STD_NAMESPACE\n",
      "-- Performing Test STL_STD_NAMESPACE - Success\n",
      "-- Performing Test HAVE_USING_OPERATOR\n",
      "-- Performing Test HAVE_USING_OPERATOR - Success\n",
      "-- Performing Test HAVE_NAMESPACES\n",
      "-- Performing Test HAVE_NAMESPACES - Success\n",
      "CMake Warning (dev) at 3rdparty/protobuf-3.0.0/cmake/install.cmake:41 (message):\n",
      "  The file\n",
      "  \"/content/bigartm/3rdparty/protobuf-3.0.0/src/google/protobuf/repeated_field_reflection.h\"\n",
      "  is listed in\n",
      "  \"/content/bigartm/3rdparty/protobuf-3.0.0/cmake/cmake/extract_includes.bat.in\"\n",
      "  but there not exists.  The file will not be installed.\n",
      "Call Stack (most recent call first):\n",
      "  3rdparty/protobuf-3.0.0/cmake/CMakeLists.txt:159 (include)\n",
      "This warning is for project developers.  Use -Wno-dev to suppress it.\n",
      "\n",
      "-- Performing Test COMPILER_SUPPORTS_CXX11\n",
      "-- Performing Test COMPILER_SUPPORTS_CXX11 - Success\n",
      "-- Performing Test COMPILER_SUPPORTS_CXX0X\n",
      "-- Performing Test COMPILER_SUPPORTS_CXX0X - Success\n",
      "-- Performing Test COMPILER_HAS_HIDDEN_VISIBILITY\n",
      "-- Performing Test COMPILER_HAS_HIDDEN_VISIBILITY - Success\n",
      "-- Performing Test COMPILER_HAS_HIDDEN_INLINE_VISIBILITY\n",
      "-- Performing Test COMPILER_HAS_HIDDEN_INLINE_VISIBILITY - Success\n",
      "-- Performing Test COMPILER_HAS_DEPRECATED_ATTR\n",
      "-- Performing Test COMPILER_HAS_DEPRECATED_ATTR - Success\n",
      "-- Configuring done\n",
      "-- Generating done\n",
      "-- Build files have been written to: /content/bigartm/build\n"
     ]
    }
   ],
   "source": [
    "!cmake .."
   ]
  },
  {
   "cell_type": "code",
   "execution_count": null,
   "metadata": {
    "colab": {
     "base_uri": "https://localhost:8080/"
    },
    "id": "GZYhTafmGern",
    "outputId": "3684f884-c4fc-4046-d30c-fbdaada1a166"
   },
   "outputs": [
    {
     "name": "stdout",
     "output_type": "stream",
     "text": [
      "\u001b[35m\u001b[1mScanning dependencies of target libprotobuf\u001b[0m\n",
      "[  0%] \u001b[32mBuilding CXX object 3rdparty/protobuf-3.0.0/cmake/CMakeFiles/libprotobuf.dir/__/src/google/protobuf/arena.cc.o\u001b[0m\n",
      "[  0%] \u001b[32mBuilding CXX object 3rdparty/protobuf-3.0.0/cmake/CMakeFiles/libprotobuf.dir/__/src/google/protobuf/arenastring.cc.o\u001b[0m\n",
      "[  1%] \u001b[32mBuilding CXX object 3rdparty/protobuf-3.0.0/cmake/CMakeFiles/libprotobuf.dir/__/src/google/protobuf/extension_set.cc.o\u001b[0m\n",
      "[  1%] \u001b[32mBuilding CXX object 3rdparty/protobuf-3.0.0/cmake/CMakeFiles/libprotobuf.dir/__/src/google/protobuf/generated_message_util.cc.o\u001b[0m\n",
      "[  1%] \u001b[32mBuilding CXX object 3rdparty/protobuf-3.0.0/cmake/CMakeFiles/libprotobuf.dir/__/src/google/protobuf/io/coded_stream.cc.o\u001b[0m\n",
      "[  2%] \u001b[32mBuilding CXX object 3rdparty/protobuf-3.0.0/cmake/CMakeFiles/libprotobuf.dir/__/src/google/protobuf/io/zero_copy_stream.cc.o\u001b[0m\n",
      "[  2%] \u001b[32mBuilding CXX object 3rdparty/protobuf-3.0.0/cmake/CMakeFiles/libprotobuf.dir/__/src/google/protobuf/io/zero_copy_stream_impl_lite.cc.o\u001b[0m\n",
      "[  2%] \u001b[32mBuilding CXX object 3rdparty/protobuf-3.0.0/cmake/CMakeFiles/libprotobuf.dir/__/src/google/protobuf/message_lite.cc.o\u001b[0m\n",
      "[  3%] \u001b[32mBuilding CXX object 3rdparty/protobuf-3.0.0/cmake/CMakeFiles/libprotobuf.dir/__/src/google/protobuf/repeated_field.cc.o\u001b[0m\n",
      "[  3%] \u001b[32mBuilding CXX object 3rdparty/protobuf-3.0.0/cmake/CMakeFiles/libprotobuf.dir/__/src/google/protobuf/stubs/atomicops_internals_x86_gcc.cc.o\u001b[0m\n",
      "[  3%] \u001b[32mBuilding CXX object 3rdparty/protobuf-3.0.0/cmake/CMakeFiles/libprotobuf.dir/__/src/google/protobuf/stubs/atomicops_internals_x86_msvc.cc.o\u001b[0m\n",
      "[  4%] \u001b[32mBuilding CXX object 3rdparty/protobuf-3.0.0/cmake/CMakeFiles/libprotobuf.dir/__/src/google/protobuf/stubs/bytestream.cc.o\u001b[0m\n",
      "[  4%] \u001b[32mBuilding CXX object 3rdparty/protobuf-3.0.0/cmake/CMakeFiles/libprotobuf.dir/__/src/google/protobuf/stubs/common.cc.o\u001b[0m\n",
      "[  4%] \u001b[32mBuilding CXX object 3rdparty/protobuf-3.0.0/cmake/CMakeFiles/libprotobuf.dir/__/src/google/protobuf/stubs/int128.cc.o\u001b[0m\n",
      "[  5%] \u001b[32mBuilding CXX object 3rdparty/protobuf-3.0.0/cmake/CMakeFiles/libprotobuf.dir/__/src/google/protobuf/stubs/once.cc.o\u001b[0m\n",
      "[  5%] \u001b[32mBuilding CXX object 3rdparty/protobuf-3.0.0/cmake/CMakeFiles/libprotobuf.dir/__/src/google/protobuf/stubs/status.cc.o\u001b[0m\n",
      "[  5%] \u001b[32mBuilding CXX object 3rdparty/protobuf-3.0.0/cmake/CMakeFiles/libprotobuf.dir/__/src/google/protobuf/stubs/statusor.cc.o\u001b[0m\n",
      "[  6%] \u001b[32mBuilding CXX object 3rdparty/protobuf-3.0.0/cmake/CMakeFiles/libprotobuf.dir/__/src/google/protobuf/stubs/stringpiece.cc.o\u001b[0m\n",
      "[  6%] \u001b[32mBuilding CXX object 3rdparty/protobuf-3.0.0/cmake/CMakeFiles/libprotobuf.dir/__/src/google/protobuf/stubs/stringprintf.cc.o\u001b[0m\n",
      "[  6%] \u001b[32mBuilding CXX object 3rdparty/protobuf-3.0.0/cmake/CMakeFiles/libprotobuf.dir/__/src/google/protobuf/stubs/structurally_valid.cc.o\u001b[0m\n",
      "[  7%] \u001b[32mBuilding CXX object 3rdparty/protobuf-3.0.0/cmake/CMakeFiles/libprotobuf.dir/__/src/google/protobuf/stubs/strutil.cc.o\u001b[0m\n",
      "[  7%] \u001b[32mBuilding CXX object 3rdparty/protobuf-3.0.0/cmake/CMakeFiles/libprotobuf.dir/__/src/google/protobuf/stubs/time.cc.o\u001b[0m\n",
      "[  7%] \u001b[32mBuilding CXX object 3rdparty/protobuf-3.0.0/cmake/CMakeFiles/libprotobuf.dir/__/src/google/protobuf/wire_format_lite.cc.o\u001b[0m\n",
      "[  8%] \u001b[32mBuilding CXX object 3rdparty/protobuf-3.0.0/cmake/CMakeFiles/libprotobuf.dir/__/src/google/protobuf/any.cc.o\u001b[0m\n",
      "[  8%] \u001b[32mBuilding CXX object 3rdparty/protobuf-3.0.0/cmake/CMakeFiles/libprotobuf.dir/__/src/google/protobuf/any.pb.cc.o\u001b[0m\n",
      "[  8%] \u001b[32mBuilding CXX object 3rdparty/protobuf-3.0.0/cmake/CMakeFiles/libprotobuf.dir/__/src/google/protobuf/api.pb.cc.o\u001b[0m\n",
      "[  9%] \u001b[32mBuilding CXX object 3rdparty/protobuf-3.0.0/cmake/CMakeFiles/libprotobuf.dir/__/src/google/protobuf/compiler/importer.cc.o\u001b[0m\n",
      "[  9%] \u001b[32mBuilding CXX object 3rdparty/protobuf-3.0.0/cmake/CMakeFiles/libprotobuf.dir/__/src/google/protobuf/compiler/parser.cc.o\u001b[0m\n",
      "[  9%] \u001b[32mBuilding CXX object 3rdparty/protobuf-3.0.0/cmake/CMakeFiles/libprotobuf.dir/__/src/google/protobuf/descriptor.cc.o\u001b[0m\n",
      "[ 10%] \u001b[32mBuilding CXX object 3rdparty/protobuf-3.0.0/cmake/CMakeFiles/libprotobuf.dir/__/src/google/protobuf/descriptor.pb.cc.o\u001b[0m\n",
      "[ 10%] \u001b[32mBuilding CXX object 3rdparty/protobuf-3.0.0/cmake/CMakeFiles/libprotobuf.dir/__/src/google/protobuf/descriptor_database.cc.o\u001b[0m\n",
      "[ 10%] \u001b[32mBuilding CXX object 3rdparty/protobuf-3.0.0/cmake/CMakeFiles/libprotobuf.dir/__/src/google/protobuf/duration.pb.cc.o\u001b[0m\n",
      "[ 11%] \u001b[32mBuilding CXX object 3rdparty/protobuf-3.0.0/cmake/CMakeFiles/libprotobuf.dir/__/src/google/protobuf/dynamic_message.cc.o\u001b[0m\n",
      "[ 11%] \u001b[32mBuilding CXX object 3rdparty/protobuf-3.0.0/cmake/CMakeFiles/libprotobuf.dir/__/src/google/protobuf/empty.pb.cc.o\u001b[0m\n",
      "[ 11%] \u001b[32mBuilding CXX object 3rdparty/protobuf-3.0.0/cmake/CMakeFiles/libprotobuf.dir/__/src/google/protobuf/extension_set_heavy.cc.o\u001b[0m\n",
      "[ 13%] \u001b[32mBuilding CXX object 3rdparty/protobuf-3.0.0/cmake/CMakeFiles/libprotobuf.dir/__/src/google/protobuf/field_mask.pb.cc.o\u001b[0m\n",
      "[ 13%] \u001b[32mBuilding CXX object 3rdparty/protobuf-3.0.0/cmake/CMakeFiles/libprotobuf.dir/__/src/google/protobuf/generated_message_reflection.cc.o\u001b[0m\n",
      "[ 13%] \u001b[32mBuilding CXX object 3rdparty/protobuf-3.0.0/cmake/CMakeFiles/libprotobuf.dir/__/src/google/protobuf/io/gzip_stream.cc.o\u001b[0m\n",
      "[ 14%] \u001b[32mBuilding CXX object 3rdparty/protobuf-3.0.0/cmake/CMakeFiles/libprotobuf.dir/__/src/google/protobuf/io/printer.cc.o\u001b[0m\n",
      "[ 14%] \u001b[32mBuilding CXX object 3rdparty/protobuf-3.0.0/cmake/CMakeFiles/libprotobuf.dir/__/src/google/protobuf/io/strtod.cc.o\u001b[0m\n",
      "[ 14%] \u001b[32mBuilding CXX object 3rdparty/protobuf-3.0.0/cmake/CMakeFiles/libprotobuf.dir/__/src/google/protobuf/io/tokenizer.cc.o\u001b[0m\n",
      "[ 15%] \u001b[32mBuilding CXX object 3rdparty/protobuf-3.0.0/cmake/CMakeFiles/libprotobuf.dir/__/src/google/protobuf/io/zero_copy_stream_impl.cc.o\u001b[0m\n",
      "[ 15%] \u001b[32mBuilding CXX object 3rdparty/protobuf-3.0.0/cmake/CMakeFiles/libprotobuf.dir/__/src/google/protobuf/map_field.cc.o\u001b[0m\n",
      "[ 15%] \u001b[32mBuilding CXX object 3rdparty/protobuf-3.0.0/cmake/CMakeFiles/libprotobuf.dir/__/src/google/protobuf/message.cc.o\u001b[0m\n",
      "[ 16%] \u001b[32mBuilding CXX object 3rdparty/protobuf-3.0.0/cmake/CMakeFiles/libprotobuf.dir/__/src/google/protobuf/reflection_ops.cc.o\u001b[0m\n",
      "[ 16%] \u001b[32mBuilding CXX object 3rdparty/protobuf-3.0.0/cmake/CMakeFiles/libprotobuf.dir/__/src/google/protobuf/service.cc.o\u001b[0m\n",
      "[ 16%] \u001b[32mBuilding CXX object 3rdparty/protobuf-3.0.0/cmake/CMakeFiles/libprotobuf.dir/__/src/google/protobuf/source_context.pb.cc.o\u001b[0m\n",
      "[ 17%] \u001b[32mBuilding CXX object 3rdparty/protobuf-3.0.0/cmake/CMakeFiles/libprotobuf.dir/__/src/google/protobuf/struct.pb.cc.o\u001b[0m\n",
      "[ 17%] \u001b[32mBuilding CXX object 3rdparty/protobuf-3.0.0/cmake/CMakeFiles/libprotobuf.dir/__/src/google/protobuf/stubs/mathlimits.cc.o\u001b[0m\n",
      "[ 17%] \u001b[32mBuilding CXX object 3rdparty/protobuf-3.0.0/cmake/CMakeFiles/libprotobuf.dir/__/src/google/protobuf/stubs/substitute.cc.o\u001b[0m\n",
      "[ 18%] \u001b[32mBuilding CXX object 3rdparty/protobuf-3.0.0/cmake/CMakeFiles/libprotobuf.dir/__/src/google/protobuf/text_format.cc.o\u001b[0m\n",
      "[ 18%] \u001b[32mBuilding CXX object 3rdparty/protobuf-3.0.0/cmake/CMakeFiles/libprotobuf.dir/__/src/google/protobuf/timestamp.pb.cc.o\u001b[0m\n",
      "[ 19%] \u001b[32mBuilding CXX object 3rdparty/protobuf-3.0.0/cmake/CMakeFiles/libprotobuf.dir/__/src/google/protobuf/type.pb.cc.o\u001b[0m\n",
      "[ 19%] \u001b[32mBuilding CXX object 3rdparty/protobuf-3.0.0/cmake/CMakeFiles/libprotobuf.dir/__/src/google/protobuf/unknown_field_set.cc.o\u001b[0m\n",
      "[ 19%] \u001b[32mBuilding CXX object 3rdparty/protobuf-3.0.0/cmake/CMakeFiles/libprotobuf.dir/__/src/google/protobuf/util/field_comparator.cc.o\u001b[0m\n",
      "[ 20%] \u001b[32mBuilding CXX object 3rdparty/protobuf-3.0.0/cmake/CMakeFiles/libprotobuf.dir/__/src/google/protobuf/util/field_mask_util.cc.o\u001b[0m\n",
      "[ 20%] \u001b[32mBuilding CXX object 3rdparty/protobuf-3.0.0/cmake/CMakeFiles/libprotobuf.dir/__/src/google/protobuf/util/internal/datapiece.cc.o\u001b[0m\n",
      "[ 20%] \u001b[32mBuilding CXX object 3rdparty/protobuf-3.0.0/cmake/CMakeFiles/libprotobuf.dir/__/src/google/protobuf/util/internal/default_value_objectwriter.cc.o\u001b[0m\n",
      "[ 21%] \u001b[32mBuilding CXX object 3rdparty/protobuf-3.0.0/cmake/CMakeFiles/libprotobuf.dir/__/src/google/protobuf/util/internal/error_listener.cc.o\u001b[0m\n",
      "[ 21%] \u001b[32mBuilding CXX object 3rdparty/protobuf-3.0.0/cmake/CMakeFiles/libprotobuf.dir/__/src/google/protobuf/util/internal/field_mask_utility.cc.o\u001b[0m\n",
      "[ 21%] \u001b[32mBuilding CXX object 3rdparty/protobuf-3.0.0/cmake/CMakeFiles/libprotobuf.dir/__/src/google/protobuf/util/internal/json_escaping.cc.o\u001b[0m\n",
      "[ 22%] \u001b[32mBuilding CXX object 3rdparty/protobuf-3.0.0/cmake/CMakeFiles/libprotobuf.dir/__/src/google/protobuf/util/internal/json_objectwriter.cc.o\u001b[0m\n",
      "[ 22%] \u001b[32mBuilding CXX object 3rdparty/protobuf-3.0.0/cmake/CMakeFiles/libprotobuf.dir/__/src/google/protobuf/util/internal/json_stream_parser.cc.o\u001b[0m\n",
      "[ 22%] \u001b[32mBuilding CXX object 3rdparty/protobuf-3.0.0/cmake/CMakeFiles/libprotobuf.dir/__/src/google/protobuf/util/internal/object_writer.cc.o\u001b[0m\n",
      "[ 23%] \u001b[32mBuilding CXX object 3rdparty/protobuf-3.0.0/cmake/CMakeFiles/libprotobuf.dir/__/src/google/protobuf/util/internal/proto_writer.cc.o\u001b[0m\n",
      "[ 23%] \u001b[32mBuilding CXX object 3rdparty/protobuf-3.0.0/cmake/CMakeFiles/libprotobuf.dir/__/src/google/protobuf/util/internal/protostream_objectsource.cc.o\u001b[0m\n",
      "[ 23%] \u001b[32mBuilding CXX object 3rdparty/protobuf-3.0.0/cmake/CMakeFiles/libprotobuf.dir/__/src/google/protobuf/util/internal/protostream_objectwriter.cc.o\u001b[0m\n",
      "[ 25%] \u001b[32mBuilding CXX object 3rdparty/protobuf-3.0.0/cmake/CMakeFiles/libprotobuf.dir/__/src/google/protobuf/util/internal/type_info.cc.o\u001b[0m\n",
      "[ 25%] \u001b[32mBuilding CXX object 3rdparty/protobuf-3.0.0/cmake/CMakeFiles/libprotobuf.dir/__/src/google/protobuf/util/internal/type_info_test_helper.cc.o\u001b[0m\n",
      "[ 25%] \u001b[32mBuilding CXX object 3rdparty/protobuf-3.0.0/cmake/CMakeFiles/libprotobuf.dir/__/src/google/protobuf/util/internal/utility.cc.o\u001b[0m\n",
      "[ 26%] \u001b[32mBuilding CXX object 3rdparty/protobuf-3.0.0/cmake/CMakeFiles/libprotobuf.dir/__/src/google/protobuf/util/json_util.cc.o\u001b[0m\n",
      "[ 26%] \u001b[32mBuilding CXX object 3rdparty/protobuf-3.0.0/cmake/CMakeFiles/libprotobuf.dir/__/src/google/protobuf/util/message_differencer.cc.o\u001b[0m\n",
      "[ 26%] \u001b[32mBuilding CXX object 3rdparty/protobuf-3.0.0/cmake/CMakeFiles/libprotobuf.dir/__/src/google/protobuf/util/time_util.cc.o\u001b[0m\n",
      "[ 27%] \u001b[32mBuilding CXX object 3rdparty/protobuf-3.0.0/cmake/CMakeFiles/libprotobuf.dir/__/src/google/protobuf/util/type_resolver_util.cc.o\u001b[0m\n",
      "[ 27%] \u001b[32mBuilding CXX object 3rdparty/protobuf-3.0.0/cmake/CMakeFiles/libprotobuf.dir/__/src/google/protobuf/wire_format.cc.o\u001b[0m\n",
      "[ 27%] \u001b[32mBuilding CXX object 3rdparty/protobuf-3.0.0/cmake/CMakeFiles/libprotobuf.dir/__/src/google/protobuf/wrappers.pb.cc.o\u001b[0m\n",
      "[ 28%] \u001b[32m\u001b[1mLinking CXX static library ../../../lib/libprotobuf.a\u001b[0m\n",
      "[ 28%] Built target libprotobuf\n",
      "\u001b[35m\u001b[1mScanning dependencies of target libprotoc\u001b[0m\n",
      "[ 28%] \u001b[32mBuilding CXX object 3rdparty/protobuf-3.0.0/cmake/CMakeFiles/libprotoc.dir/__/src/google/protobuf/compiler/code_generator.cc.o\u001b[0m\n",
      "[ 28%] \u001b[32mBuilding CXX object 3rdparty/protobuf-3.0.0/cmake/CMakeFiles/libprotoc.dir/__/src/google/protobuf/compiler/command_line_interface.cc.o\u001b[0m\n",
      "[ 29%] \u001b[32mBuilding CXX object 3rdparty/protobuf-3.0.0/cmake/CMakeFiles/libprotoc.dir/__/src/google/protobuf/compiler/cpp/cpp_enum.cc.o\u001b[0m\n",
      "[ 29%] \u001b[32mBuilding CXX object 3rdparty/protobuf-3.0.0/cmake/CMakeFiles/libprotoc.dir/__/src/google/protobuf/compiler/cpp/cpp_enum_field.cc.o\u001b[0m\n",
      "[ 29%] \u001b[32mBuilding CXX object 3rdparty/protobuf-3.0.0/cmake/CMakeFiles/libprotoc.dir/__/src/google/protobuf/compiler/cpp/cpp_extension.cc.o\u001b[0m\n",
      "[ 30%] \u001b[32mBuilding CXX object 3rdparty/protobuf-3.0.0/cmake/CMakeFiles/libprotoc.dir/__/src/google/protobuf/compiler/cpp/cpp_field.cc.o\u001b[0m\n",
      "[ 30%] \u001b[32mBuilding CXX object 3rdparty/protobuf-3.0.0/cmake/CMakeFiles/libprotoc.dir/__/src/google/protobuf/compiler/cpp/cpp_file.cc.o\u001b[0m\n",
      "[ 30%] \u001b[32mBuilding CXX object 3rdparty/protobuf-3.0.0/cmake/CMakeFiles/libprotoc.dir/__/src/google/protobuf/compiler/cpp/cpp_generator.cc.o\u001b[0m\n",
      "[ 31%] \u001b[32mBuilding CXX object 3rdparty/protobuf-3.0.0/cmake/CMakeFiles/libprotoc.dir/__/src/google/protobuf/compiler/cpp/cpp_helpers.cc.o\u001b[0m\n",
      "[ 31%] \u001b[32mBuilding CXX object 3rdparty/protobuf-3.0.0/cmake/CMakeFiles/libprotoc.dir/__/src/google/protobuf/compiler/cpp/cpp_map_field.cc.o\u001b[0m\n",
      "[ 31%] \u001b[32mBuilding CXX object 3rdparty/protobuf-3.0.0/cmake/CMakeFiles/libprotoc.dir/__/src/google/protobuf/compiler/cpp/cpp_message.cc.o\u001b[0m\n",
      "[ 32%] \u001b[32mBuilding CXX object 3rdparty/protobuf-3.0.0/cmake/CMakeFiles/libprotoc.dir/__/src/google/protobuf/compiler/cpp/cpp_message_field.cc.o\u001b[0m\n",
      "[ 32%] \u001b[32mBuilding CXX object 3rdparty/protobuf-3.0.0/cmake/CMakeFiles/libprotoc.dir/__/src/google/protobuf/compiler/cpp/cpp_primitive_field.cc.o\u001b[0m\n",
      "[ 32%] \u001b[32mBuilding CXX object 3rdparty/protobuf-3.0.0/cmake/CMakeFiles/libprotoc.dir/__/src/google/protobuf/compiler/cpp/cpp_service.cc.o\u001b[0m\n",
      "[ 33%] \u001b[32mBuilding CXX object 3rdparty/protobuf-3.0.0/cmake/CMakeFiles/libprotoc.dir/__/src/google/protobuf/compiler/cpp/cpp_string_field.cc.o\u001b[0m\n",
      "[ 33%] \u001b[32mBuilding CXX object 3rdparty/protobuf-3.0.0/cmake/CMakeFiles/libprotoc.dir/__/src/google/protobuf/compiler/csharp/csharp_doc_comment.cc.o\u001b[0m\n",
      "[ 33%] \u001b[32mBuilding CXX object 3rdparty/protobuf-3.0.0/cmake/CMakeFiles/libprotoc.dir/__/src/google/protobuf/compiler/csharp/csharp_enum.cc.o\u001b[0m\n",
      "[ 34%] \u001b[32mBuilding CXX object 3rdparty/protobuf-3.0.0/cmake/CMakeFiles/libprotoc.dir/__/src/google/protobuf/compiler/csharp/csharp_enum_field.cc.o\u001b[0m\n",
      "[ 34%] \u001b[32mBuilding CXX object 3rdparty/protobuf-3.0.0/cmake/CMakeFiles/libprotoc.dir/__/src/google/protobuf/compiler/csharp/csharp_field_base.cc.o\u001b[0m\n",
      "[ 34%] \u001b[32mBuilding CXX object 3rdparty/protobuf-3.0.0/cmake/CMakeFiles/libprotoc.dir/__/src/google/protobuf/compiler/csharp/csharp_generator.cc.o\u001b[0m\n",
      "[ 35%] \u001b[32mBuilding CXX object 3rdparty/protobuf-3.0.0/cmake/CMakeFiles/libprotoc.dir/__/src/google/protobuf/compiler/csharp/csharp_helpers.cc.o\u001b[0m\n",
      "[ 35%] \u001b[32mBuilding CXX object 3rdparty/protobuf-3.0.0/cmake/CMakeFiles/libprotoc.dir/__/src/google/protobuf/compiler/csharp/csharp_map_field.cc.o\u001b[0m\n",
      "[ 35%] \u001b[32mBuilding CXX object 3rdparty/protobuf-3.0.0/cmake/CMakeFiles/libprotoc.dir/__/src/google/protobuf/compiler/csharp/csharp_message.cc.o\u001b[0m\n",
      "[ 36%] \u001b[32mBuilding CXX object 3rdparty/protobuf-3.0.0/cmake/CMakeFiles/libprotoc.dir/__/src/google/protobuf/compiler/csharp/csharp_message_field.cc.o\u001b[0m\n",
      "[ 36%] \u001b[32mBuilding CXX object 3rdparty/protobuf-3.0.0/cmake/CMakeFiles/libprotoc.dir/__/src/google/protobuf/compiler/csharp/csharp_primitive_field.cc.o\u001b[0m\n",
      "[ 38%] \u001b[32mBuilding CXX object 3rdparty/protobuf-3.0.0/cmake/CMakeFiles/libprotoc.dir/__/src/google/protobuf/compiler/csharp/csharp_reflection_class.cc.o\u001b[0m\n",
      "[ 38%] \u001b[32mBuilding CXX object 3rdparty/protobuf-3.0.0/cmake/CMakeFiles/libprotoc.dir/__/src/google/protobuf/compiler/csharp/csharp_repeated_enum_field.cc.o\u001b[0m\n",
      "[ 38%] \u001b[32mBuilding CXX object 3rdparty/protobuf-3.0.0/cmake/CMakeFiles/libprotoc.dir/__/src/google/protobuf/compiler/csharp/csharp_repeated_message_field.cc.o\u001b[0m\n",
      "[ 39%] \u001b[32mBuilding CXX object 3rdparty/protobuf-3.0.0/cmake/CMakeFiles/libprotoc.dir/__/src/google/protobuf/compiler/csharp/csharp_repeated_primitive_field.cc.o\u001b[0m\n",
      "[ 39%] \u001b[32mBuilding CXX object 3rdparty/protobuf-3.0.0/cmake/CMakeFiles/libprotoc.dir/__/src/google/protobuf/compiler/csharp/csharp_source_generator_base.cc.o\u001b[0m\n",
      "[ 39%] \u001b[32mBuilding CXX object 3rdparty/protobuf-3.0.0/cmake/CMakeFiles/libprotoc.dir/__/src/google/protobuf/compiler/csharp/csharp_wrapper_field.cc.o\u001b[0m\n",
      "[ 40%] \u001b[32mBuilding CXX object 3rdparty/protobuf-3.0.0/cmake/CMakeFiles/libprotoc.dir/__/src/google/protobuf/compiler/java/java_context.cc.o\u001b[0m\n",
      "[ 40%] \u001b[32mBuilding CXX object 3rdparty/protobuf-3.0.0/cmake/CMakeFiles/libprotoc.dir/__/src/google/protobuf/compiler/java/java_doc_comment.cc.o\u001b[0m\n",
      "[ 40%] \u001b[32mBuilding CXX object 3rdparty/protobuf-3.0.0/cmake/CMakeFiles/libprotoc.dir/__/src/google/protobuf/compiler/java/java_enum.cc.o\u001b[0m\n",
      "[ 41%] \u001b[32mBuilding CXX object 3rdparty/protobuf-3.0.0/cmake/CMakeFiles/libprotoc.dir/__/src/google/protobuf/compiler/java/java_enum_field.cc.o\u001b[0m\n",
      "[ 41%] \u001b[32mBuilding CXX object 3rdparty/protobuf-3.0.0/cmake/CMakeFiles/libprotoc.dir/__/src/google/protobuf/compiler/java/java_enum_field_lite.cc.o\u001b[0m\n",
      "[ 41%] \u001b[32mBuilding CXX object 3rdparty/protobuf-3.0.0/cmake/CMakeFiles/libprotoc.dir/__/src/google/protobuf/compiler/java/java_enum_lite.cc.o\u001b[0m\n",
      "[ 42%] \u001b[32mBuilding CXX object 3rdparty/protobuf-3.0.0/cmake/CMakeFiles/libprotoc.dir/__/src/google/protobuf/compiler/java/java_extension.cc.o\u001b[0m\n",
      "[ 42%] \u001b[32mBuilding CXX object 3rdparty/protobuf-3.0.0/cmake/CMakeFiles/libprotoc.dir/__/src/google/protobuf/compiler/java/java_extension_lite.cc.o\u001b[0m\n",
      "[ 42%] \u001b[32mBuilding CXX object 3rdparty/protobuf-3.0.0/cmake/CMakeFiles/libprotoc.dir/__/src/google/protobuf/compiler/java/java_field.cc.o\u001b[0m\n",
      "[ 43%] \u001b[32mBuilding CXX object 3rdparty/protobuf-3.0.0/cmake/CMakeFiles/libprotoc.dir/__/src/google/protobuf/compiler/java/java_file.cc.o\u001b[0m\n",
      "[ 43%] \u001b[32mBuilding CXX object 3rdparty/protobuf-3.0.0/cmake/CMakeFiles/libprotoc.dir/__/src/google/protobuf/compiler/java/java_generator.cc.o\u001b[0m\n",
      "[ 43%] \u001b[32mBuilding CXX object 3rdparty/protobuf-3.0.0/cmake/CMakeFiles/libprotoc.dir/__/src/google/protobuf/compiler/java/java_generator_factory.cc.o\u001b[0m\n",
      "[ 44%] \u001b[32mBuilding CXX object 3rdparty/protobuf-3.0.0/cmake/CMakeFiles/libprotoc.dir/__/src/google/protobuf/compiler/java/java_helpers.cc.o\u001b[0m\n",
      "[ 44%] \u001b[32mBuilding CXX object 3rdparty/protobuf-3.0.0/cmake/CMakeFiles/libprotoc.dir/__/src/google/protobuf/compiler/java/java_lazy_message_field.cc.o\u001b[0m\n",
      "[ 44%] \u001b[32mBuilding CXX object 3rdparty/protobuf-3.0.0/cmake/CMakeFiles/libprotoc.dir/__/src/google/protobuf/compiler/java/java_lazy_message_field_lite.cc.o\u001b[0m\n",
      "[ 45%] \u001b[32mBuilding CXX object 3rdparty/protobuf-3.0.0/cmake/CMakeFiles/libprotoc.dir/__/src/google/protobuf/compiler/java/java_map_field.cc.o\u001b[0m\n",
      "[ 45%] \u001b[32mBuilding CXX object 3rdparty/protobuf-3.0.0/cmake/CMakeFiles/libprotoc.dir/__/src/google/protobuf/compiler/java/java_map_field_lite.cc.o\u001b[0m\n",
      "[ 45%] \u001b[32mBuilding CXX object 3rdparty/protobuf-3.0.0/cmake/CMakeFiles/libprotoc.dir/__/src/google/protobuf/compiler/java/java_message.cc.o\u001b[0m\n",
      "[ 46%] \u001b[32mBuilding CXX object 3rdparty/protobuf-3.0.0/cmake/CMakeFiles/libprotoc.dir/__/src/google/protobuf/compiler/java/java_message_builder.cc.o\u001b[0m\n",
      "[ 46%] \u001b[32mBuilding CXX object 3rdparty/protobuf-3.0.0/cmake/CMakeFiles/libprotoc.dir/__/src/google/protobuf/compiler/java/java_message_builder_lite.cc.o\u001b[0m\n",
      "[ 46%] \u001b[32mBuilding CXX object 3rdparty/protobuf-3.0.0/cmake/CMakeFiles/libprotoc.dir/__/src/google/protobuf/compiler/java/java_message_field.cc.o\u001b[0m\n",
      "[ 47%] \u001b[32mBuilding CXX object 3rdparty/protobuf-3.0.0/cmake/CMakeFiles/libprotoc.dir/__/src/google/protobuf/compiler/java/java_message_field_lite.cc.o\u001b[0m\n",
      "[ 47%] \u001b[32mBuilding CXX object 3rdparty/protobuf-3.0.0/cmake/CMakeFiles/libprotoc.dir/__/src/google/protobuf/compiler/java/java_message_lite.cc.o\u001b[0m\n",
      "[ 47%] \u001b[32mBuilding CXX object 3rdparty/protobuf-3.0.0/cmake/CMakeFiles/libprotoc.dir/__/src/google/protobuf/compiler/java/java_name_resolver.cc.o\u001b[0m\n",
      "[ 48%] \u001b[32mBuilding CXX object 3rdparty/protobuf-3.0.0/cmake/CMakeFiles/libprotoc.dir/__/src/google/protobuf/compiler/java/java_primitive_field.cc.o\u001b[0m\n",
      "[ 48%] \u001b[32mBuilding CXX object 3rdparty/protobuf-3.0.0/cmake/CMakeFiles/libprotoc.dir/__/src/google/protobuf/compiler/java/java_primitive_field_lite.cc.o\u001b[0m\n",
      "[ 48%] \u001b[32mBuilding CXX object 3rdparty/protobuf-3.0.0/cmake/CMakeFiles/libprotoc.dir/__/src/google/protobuf/compiler/java/java_service.cc.o\u001b[0m\n",
      "[ 50%] \u001b[32mBuilding CXX object 3rdparty/protobuf-3.0.0/cmake/CMakeFiles/libprotoc.dir/__/src/google/protobuf/compiler/java/java_shared_code_generator.cc.o\u001b[0m\n",
      "[ 50%] \u001b[32mBuilding CXX object 3rdparty/protobuf-3.0.0/cmake/CMakeFiles/libprotoc.dir/__/src/google/protobuf/compiler/java/java_string_field.cc.o\u001b[0m\n",
      "[ 50%] \u001b[32mBuilding CXX object 3rdparty/protobuf-3.0.0/cmake/CMakeFiles/libprotoc.dir/__/src/google/protobuf/compiler/java/java_string_field_lite.cc.o\u001b[0m\n",
      "[ 51%] \u001b[32mBuilding CXX object 3rdparty/protobuf-3.0.0/cmake/CMakeFiles/libprotoc.dir/__/src/google/protobuf/compiler/javanano/javanano_enum.cc.o\u001b[0m\n",
      "[ 51%] \u001b[32mBuilding CXX object 3rdparty/protobuf-3.0.0/cmake/CMakeFiles/libprotoc.dir/__/src/google/protobuf/compiler/javanano/javanano_enum_field.cc.o\u001b[0m\n",
      "[ 51%] \u001b[32mBuilding CXX object 3rdparty/protobuf-3.0.0/cmake/CMakeFiles/libprotoc.dir/__/src/google/protobuf/compiler/javanano/javanano_extension.cc.o\u001b[0m\n",
      "[ 52%] \u001b[32mBuilding CXX object 3rdparty/protobuf-3.0.0/cmake/CMakeFiles/libprotoc.dir/__/src/google/protobuf/compiler/javanano/javanano_field.cc.o\u001b[0m\n",
      "[ 52%] \u001b[32mBuilding CXX object 3rdparty/protobuf-3.0.0/cmake/CMakeFiles/libprotoc.dir/__/src/google/protobuf/compiler/javanano/javanano_file.cc.o\u001b[0m\n",
      "[ 52%] \u001b[32mBuilding CXX object 3rdparty/protobuf-3.0.0/cmake/CMakeFiles/libprotoc.dir/__/src/google/protobuf/compiler/javanano/javanano_generator.cc.o\u001b[0m\n",
      "[ 53%] \u001b[32mBuilding CXX object 3rdparty/protobuf-3.0.0/cmake/CMakeFiles/libprotoc.dir/__/src/google/protobuf/compiler/javanano/javanano_helpers.cc.o\u001b[0m\n",
      "[ 53%] \u001b[32mBuilding CXX object 3rdparty/protobuf-3.0.0/cmake/CMakeFiles/libprotoc.dir/__/src/google/protobuf/compiler/javanano/javanano_map_field.cc.o\u001b[0m\n",
      "[ 53%] \u001b[32mBuilding CXX object 3rdparty/protobuf-3.0.0/cmake/CMakeFiles/libprotoc.dir/__/src/google/protobuf/compiler/javanano/javanano_message.cc.o\u001b[0m\n",
      "[ 54%] \u001b[32mBuilding CXX object 3rdparty/protobuf-3.0.0/cmake/CMakeFiles/libprotoc.dir/__/src/google/protobuf/compiler/javanano/javanano_message_field.cc.o\u001b[0m\n",
      "[ 54%] \u001b[32mBuilding CXX object 3rdparty/protobuf-3.0.0/cmake/CMakeFiles/libprotoc.dir/__/src/google/protobuf/compiler/javanano/javanano_primitive_field.cc.o\u001b[0m\n",
      "[ 54%] \u001b[32mBuilding CXX object 3rdparty/protobuf-3.0.0/cmake/CMakeFiles/libprotoc.dir/__/src/google/protobuf/compiler/js/js_generator.cc.o\u001b[0m\n",
      "[ 55%] \u001b[32mBuilding CXX object 3rdparty/protobuf-3.0.0/cmake/CMakeFiles/libprotoc.dir/__/src/google/protobuf/compiler/objectivec/objectivec_enum.cc.o\u001b[0m\n",
      "[ 55%] \u001b[32mBuilding CXX object 3rdparty/protobuf-3.0.0/cmake/CMakeFiles/libprotoc.dir/__/src/google/protobuf/compiler/objectivec/objectivec_enum_field.cc.o\u001b[0m\n",
      "[ 55%] \u001b[32mBuilding CXX object 3rdparty/protobuf-3.0.0/cmake/CMakeFiles/libprotoc.dir/__/src/google/protobuf/compiler/objectivec/objectivec_extension.cc.o\u001b[0m\n",
      "[ 56%] \u001b[32mBuilding CXX object 3rdparty/protobuf-3.0.0/cmake/CMakeFiles/libprotoc.dir/__/src/google/protobuf/compiler/objectivec/objectivec_field.cc.o\u001b[0m\n",
      "[ 56%] \u001b[32mBuilding CXX object 3rdparty/protobuf-3.0.0/cmake/CMakeFiles/libprotoc.dir/__/src/google/protobuf/compiler/objectivec/objectivec_file.cc.o\u001b[0m\n",
      "[ 56%] \u001b[32mBuilding CXX object 3rdparty/protobuf-3.0.0/cmake/CMakeFiles/libprotoc.dir/__/src/google/protobuf/compiler/objectivec/objectivec_generator.cc.o\u001b[0m\n",
      "[ 57%] \u001b[32mBuilding CXX object 3rdparty/protobuf-3.0.0/cmake/CMakeFiles/libprotoc.dir/__/src/google/protobuf/compiler/objectivec/objectivec_helpers.cc.o\u001b[0m\n",
      "[ 57%] \u001b[32mBuilding CXX object 3rdparty/protobuf-3.0.0/cmake/CMakeFiles/libprotoc.dir/__/src/google/protobuf/compiler/objectivec/objectivec_map_field.cc.o\u001b[0m\n",
      "[ 57%] \u001b[32mBuilding CXX object 3rdparty/protobuf-3.0.0/cmake/CMakeFiles/libprotoc.dir/__/src/google/protobuf/compiler/objectivec/objectivec_message.cc.o\u001b[0m\n",
      "[ 58%] \u001b[32mBuilding CXX object 3rdparty/protobuf-3.0.0/cmake/CMakeFiles/libprotoc.dir/__/src/google/protobuf/compiler/objectivec/objectivec_message_field.cc.o\u001b[0m\n",
      "[ 58%] \u001b[32mBuilding CXX object 3rdparty/protobuf-3.0.0/cmake/CMakeFiles/libprotoc.dir/__/src/google/protobuf/compiler/objectivec/objectivec_oneof.cc.o\u001b[0m\n",
      "[ 58%] \u001b[32mBuilding CXX object 3rdparty/protobuf-3.0.0/cmake/CMakeFiles/libprotoc.dir/__/src/google/protobuf/compiler/objectivec/objectivec_primitive_field.cc.o\u001b[0m\n",
      "[ 59%] \u001b[32mBuilding CXX object 3rdparty/protobuf-3.0.0/cmake/CMakeFiles/libprotoc.dir/__/src/google/protobuf/compiler/plugin.cc.o\u001b[0m\n",
      "[ 59%] \u001b[32mBuilding CXX object 3rdparty/protobuf-3.0.0/cmake/CMakeFiles/libprotoc.dir/__/src/google/protobuf/compiler/plugin.pb.cc.o\u001b[0m\n",
      "[ 59%] \u001b[32mBuilding CXX object 3rdparty/protobuf-3.0.0/cmake/CMakeFiles/libprotoc.dir/__/src/google/protobuf/compiler/python/python_generator.cc.o\u001b[0m\n",
      "[ 60%] \u001b[32mBuilding CXX object 3rdparty/protobuf-3.0.0/cmake/CMakeFiles/libprotoc.dir/__/src/google/protobuf/compiler/ruby/ruby_generator.cc.o\u001b[0m\n",
      "[ 60%] \u001b[32mBuilding CXX object 3rdparty/protobuf-3.0.0/cmake/CMakeFiles/libprotoc.dir/__/src/google/protobuf/compiler/subprocess.cc.o\u001b[0m\n",
      "[ 60%] \u001b[32mBuilding CXX object 3rdparty/protobuf-3.0.0/cmake/CMakeFiles/libprotoc.dir/__/src/google/protobuf/compiler/zip_writer.cc.o\u001b[0m\n",
      "[ 61%] \u001b[32m\u001b[1mLinking CXX static library ../../../lib/libprotoc.a\u001b[0m\n",
      "[ 61%] Built target libprotoc\n",
      "\u001b[35m\u001b[1mScanning dependencies of target protoc\u001b[0m\n",
      "[ 61%] \u001b[32mBuilding CXX object 3rdparty/protobuf-3.0.0/cmake/CMakeFiles/protoc.dir/__/src/google/protobuf/compiler/main.cc.o\u001b[0m\n",
      "[ 63%] \u001b[32m\u001b[1mLinking CXX executable ../../../bin/protoc\u001b[0m\n",
      "[ 63%] Built target protoc\n",
      "\u001b[35m\u001b[1mScanning dependencies of target proto_generation\u001b[0m\n",
      "[ 63%] \u001b[34m\u001b[1mGenerating headers and sources from *.proto files\u001b[0m\n",
      "[ 63%] Built target proto_generation\n",
      "\u001b[35m\u001b[1mScanning dependencies of target internals_proto\u001b[0m\n",
      "[ 63%] \u001b[32mBuilding CXX object src/artm/CMakeFiles/internals_proto.dir/core/internals.pb.cc.o\u001b[0m\n",
      "[ 64%] \u001b[32m\u001b[1mLinking CXX static library ../../lib/libinternals_proto.a\u001b[0m\n",
      "[ 64%] Built target internals_proto\n",
      "\u001b[35m\u001b[1mScanning dependencies of target gflags_static\u001b[0m\n",
      "[ 64%] \u001b[32mBuilding CXX object 3rdparty/gflags/CMakeFiles/gflags_static.dir/src/gflags.cc.o\u001b[0m\n",
      "[ 64%] \u001b[32mBuilding CXX object 3rdparty/gflags/CMakeFiles/gflags_static.dir/src/gflags_reporting.cc.o\u001b[0m\n",
      "[ 65%] \u001b[32mBuilding CXX object 3rdparty/gflags/CMakeFiles/gflags_static.dir/src/gflags_completions.cc.o\u001b[0m\n",
      "[ 65%] \u001b[32m\u001b[1mLinking CXX static library ../../lib/libgflags.a\u001b[0m\n",
      "[ 65%] Built target gflags_static\n",
      "\u001b[35m\u001b[1mScanning dependencies of target glog\u001b[0m\n",
      "[ 65%] \u001b[32mBuilding CXX object 3rdparty/glog/CMakeFiles/glog.dir/src/demangle.cc.o\u001b[0m\n",
      "[ 66%] \u001b[32mBuilding CXX object 3rdparty/glog/CMakeFiles/glog.dir/src/logging.cc.o\u001b[0m\n",
      "[ 66%] \u001b[32mBuilding CXX object 3rdparty/glog/CMakeFiles/glog.dir/src/raw_logging.cc.o\u001b[0m\n",
      "[ 66%] \u001b[32mBuilding CXX object 3rdparty/glog/CMakeFiles/glog.dir/src/symbolize.cc.o\u001b[0m\n",
      "[ 67%] \u001b[32mBuilding CXX object 3rdparty/glog/CMakeFiles/glog.dir/src/utilities.cc.o\u001b[0m\n",
      "[ 67%] \u001b[32mBuilding CXX object 3rdparty/glog/CMakeFiles/glog.dir/src/vlog_is_on.cc.o\u001b[0m\n",
      "[ 67%] \u001b[32mBuilding CXX object 3rdparty/glog/CMakeFiles/glog.dir/src/signalhandler.cc.o\u001b[0m\n",
      "[ 68%] \u001b[32m\u001b[1mLinking CXX static library ../../lib/libglog.a\u001b[0m\n",
      "[ 68%] Built target glog\n",
      "\u001b[35m\u001b[1mScanning dependencies of target messages_proto\u001b[0m\n",
      "[ 68%] \u001b[32mBuilding CXX object src/artm/CMakeFiles/messages_proto.dir/messages.pb.cc.o\u001b[0m\n",
      "[ 69%] \u001b[32m\u001b[1mLinking CXX static library ../../lib/libmessages_proto.a\u001b[0m\n",
      "[ 69%] Built target messages_proto\n",
      "\u001b[35m\u001b[1mScanning dependencies of target artm-static\u001b[0m\n",
      "[ 70%] \u001b[32mBuilding CXX object src/artm/CMakeFiles/artm-static.dir/c_interface.cc.o\u001b[0m\n",
      "In file included from \u001b[01m\u001b[K/content/bigartm/src/artm/c_interface.cc:18:0\u001b[m\u001b[K:\n",
      "\u001b[01m\u001b[K/content/bigartm/src/artm/../artm/core/check_messages.h:\u001b[m\u001b[K In function ‘\u001b[01m\u001b[Kvoid artm::core::FixMessage(T*) [with T = artm::RegularizerConfig]\u001b[m\u001b[K’:\n",
      "\u001b[01m\u001b[K/content/bigartm/src/artm/../artm/core/check_messages.h:553:28:\u001b[m\u001b[K \u001b[01;35m\u001b[Kwarning: \u001b[m\u001b[Ksuggest parentheses around ‘\u001b[01m\u001b[K&&\u001b[m\u001b[K’ within ‘\u001b[01m\u001b[K||\u001b[m\u001b[K’ [\u001b[01;35m\u001b[K-Wparentheses\u001b[m\u001b[K]\n",
      "   if (\u001b[01;35m\u001b[Kmessage->has_gamma() && (message->gamma() < 0)\u001b[m\u001b[K || (message->gamma() > 1)) {\n",
      "       \u001b[01;35m\u001b[K~~~~~~~~~~~~~~~~~~~~~^~~~~~~~~~~~~~~~~~~~~~~~~\u001b[m\u001b[K\n",
      "[ 70%] \u001b[32mBuilding CXX object src/artm/CMakeFiles/artm-static.dir/cpp_interface.cc.o\u001b[0m\n",
      "[ 70%] \u001b[32mBuilding CXX object src/artm/CMakeFiles/artm-static.dir/regularizer_interface.cc.o\u001b[0m\n",
      "[ 71%] \u001b[32mBuilding CXX object src/artm/CMakeFiles/artm-static.dir/score_calculator_interface.cc.o\u001b[0m\n",
      "[ 71%] \u001b[32mBuilding CXX object src/artm/CMakeFiles/artm-static.dir/core/batch_manager.cc.o\u001b[0m\n",
      "[ 71%] \u001b[32mBuilding CXX object src/artm/CMakeFiles/artm-static.dir/core/cache_manager.cc.o\u001b[0m\n",
      "[ 72%] \u001b[32mBuilding CXX object src/artm/CMakeFiles/artm-static.dir/core/collection_parser.cc.o\u001b[0m\n",
      "\u001b[01m\u001b[K/content/bigartm/src/artm/core/collection_parser.cc:\u001b[m\u001b[K In member function ‘\u001b[01m\u001b[Kvoid artm::core::CollectionParser::BatchCollector::RecordTransaction(const std::vector<std::__cxx11::basic_string<char> >&, const std::vector<std::__cxx11::basic_string<char> >&, const std::vector<float>&, const TransactionTypeName&)\u001b[m\u001b[K’:\n",
      "\u001b[01m\u001b[K/content/bigartm/src/artm/core/collection_parser.cc:412:23:\u001b[m\u001b[K \u001b[01;35m\u001b[Kwarning: \u001b[m\u001b[Kcomparison between signed and unsigned integer expressions [\u001b[01;35m\u001b[K-Wsign-compare\u001b[m\u001b[K]\n",
      "     for (int i = 0; \u001b[01;35m\u001b[Ki < class_ids.size()\u001b[m\u001b[K; ++i) {\n",
      "                     \u001b[01;35m\u001b[K~~^~~~~~~~~~~~~~~~~~\u001b[m\u001b[K\n",
      "\u001b[01m\u001b[K/content/bigartm/src/artm/core/collection_parser.cc:\u001b[m\u001b[K In lambda function:\n",
      "\u001b[01m\u001b[K/content/bigartm/src/artm/core/collection_parser.cc:605:35:\u001b[m\u001b[K \u001b[01;35m\u001b[Kwarning: \u001b[m\u001b[Kcomparison between signed and unsigned integer expressions [\u001b[01;35m\u001b[K-Wsign-compare\u001b[m\u001b[K]\n",
      "                 for (int i = 0; \u001b[01;35m\u001b[Ki < tokens.size()\u001b[m\u001b[K; ++i) {\n",
      "                                 \u001b[01;35m\u001b[K~~^~~~~~~~~~~~~~~\u001b[m\u001b[K\n",
      "\u001b[01m\u001b[K/content/bigartm/src/artm/core/collection_parser.cc:729:27:\u001b[m\u001b[K \u001b[01;35m\u001b[Kwarning: \u001b[m\u001b[Kcomparison between signed and unsigned integer expressions [\u001b[01;35m\u001b[K-Wsign-compare\u001b[m\u001b[K]\n",
      "         for (int i = 0; \u001b[01;35m\u001b[Ki < tokens.size()\u001b[m\u001b[K; ++i) {\n",
      "                         \u001b[01;35m\u001b[K~~^~~~~~~~~~~~~~~\u001b[m\u001b[K\n",
      "\u001b[01m\u001b[K/content/bigartm/src/artm/core/collection_parser.cc:\u001b[m\u001b[K At global scope:\n",
      "\u001b[01m\u001b[K/content/bigartm/src/artm/core/collection_parser.cc:81:13:\u001b[m\u001b[K \u001b[01;35m\u001b[Kwarning: \u001b[m\u001b[K‘\u001b[01m\u001b[Kbool artm::core::useClassId(const std::vector<std::__cxx11::basic_string<char> >&, const artm::CollectionParserConfig&)\u001b[m\u001b[K’ defined but not used [\u001b[01;35m\u001b[K-Wunused-function\u001b[m\u001b[K]\n",
      " static bool \u001b[01;35m\u001b[KuseClassId\u001b[m\u001b[K(const std::vector<ClassId>& class_ids, const CollectionParserConfig& config) {\n",
      "             \u001b[01;35m\u001b[K^~~~~~~~~~\u001b[m\u001b[K\n",
      "[ 72%] \u001b[32mBuilding CXX object src/artm/CMakeFiles/artm-static.dir/core/cooccurrence_collector.cc.o\u001b[0m\n",
      "\u001b[01m\u001b[K/content/bigartm/src/artm/core/cooccurrence_collector.cc:\u001b[m\u001b[K In constructor ‘\u001b[01m\u001b[Kartm::core::Vocab::Vocab(const string&)\u001b[m\u001b[K’:\n",
      "\u001b[01m\u001b[K/content/bigartm/src/artm/core/cooccurrence_collector.cc:541:30:\u001b[m\u001b[K \u001b[01;35m\u001b[Kwarning: \u001b[m\u001b[Kcomparison between signed and unsigned integer expressions [\u001b[01;35m\u001b[K-Wsign-compare\u001b[m\u001b[K]\n",
      "       for (; \u001b[01;35m\u001b[Kpos_of_modality < strs.size()\u001b[m\u001b[K && strs[pos_of_modality].empty(); ++pos_of_modality) { }\n",
      "              \u001b[01;35m\u001b[K~~~~~~~~~~~~~~~~^~~~~~~~~~~~~\u001b[m\u001b[K\n",
      "\u001b[01m\u001b[K/content/bigartm/src/artm/core/cooccurrence_collector.cc:542:27:\u001b[m\u001b[K \u001b[01;35m\u001b[Kwarning: \u001b[m\u001b[Kcomparison between signed and unsigned integer expressions [\u001b[01;35m\u001b[K-Wsign-compare\u001b[m\u001b[K]\n",
      "       if (\u001b[01;35m\u001b[Kpos_of_modality != strs.size()\u001b[m\u001b[K) {\n",
      "           \u001b[01;35m\u001b[K~~~~~~~~~~~~~~~~^~~~~~~~~~~~~~\u001b[m\u001b[K\n",
      "[ 72%] \u001b[32mBuilding CXX object src/artm/CMakeFiles/artm-static.dir/core/cuckoo_watch.cc.o\u001b[0m\n",
      "[ 73%] \u001b[32mBuilding CXX object src/artm/CMakeFiles/artm-static.dir/core/dense_phi_matrix.cc.o\u001b[0m\n",
      "\u001b[01m\u001b[K/content/bigartm/src/artm/core/dense_phi_matrix.cc:\u001b[m\u001b[K In constructor ‘\u001b[01m\u001b[Kartm::core::AttachedPhiMatrix::AttachedPhiMatrix(int, float*, artm::core::PhiMatrixFrame*)\u001b[m\u001b[K’:\n",
      "\u001b[01m\u001b[K/content/bigartm/src/artm/core/dense_phi_matrix.cc:406:57:\u001b[m\u001b[K \u001b[01;35m\u001b[Kwarning: \u001b[m\u001b[Kcomparison between signed and unsigned integer expressions [\u001b[01;35m\u001b[K-Wsign-compare\u001b[m\u001b[K]\n",
      "   if (\u001b[01;35m\u001b[K(int64_t) topic_size * token_size * sizeof(float) != address_length\u001b[m\u001b[K) {\n",
      "       \u001b[01;35m\u001b[K~~~~~~~~~~~~~~~~~~~~~~~~~~~~~~~~~~~~~~~~~~~~~~~~~~^~~~~~~~~~~~~~~~~\u001b[m\u001b[K\n",
      "[ 73%] \u001b[32mBuilding CXX object src/artm/CMakeFiles/artm-static.dir/core/dictionary.cc.o\u001b[0m\n",
      "[ 73%] \u001b[32mBuilding CXX object src/artm/CMakeFiles/artm-static.dir/core/dictionary_operations.cc.o\u001b[0m\n",
      "[ 75%] \u001b[32mBuilding CXX object src/artm/CMakeFiles/artm-static.dir/core/helpers.cc.o\u001b[0m\n",
      "In file included from \u001b[01m\u001b[K/content/bigartm/src/artm/core/helpers.cc:16:0\u001b[m\u001b[K:\n",
      "\u001b[01m\u001b[K/content/bigartm/src/artm/../artm/core/check_messages.h:\u001b[m\u001b[K In function ‘\u001b[01m\u001b[Kvoid artm::core::FixMessage(T*) [with T = artm::RegularizerConfig]\u001b[m\u001b[K’:\n",
      "\u001b[01m\u001b[K/content/bigartm/src/artm/../artm/core/check_messages.h:553:28:\u001b[m\u001b[K \u001b[01;35m\u001b[Kwarning: \u001b[m\u001b[Ksuggest parentheses around ‘\u001b[01m\u001b[K&&\u001b[m\u001b[K’ within ‘\u001b[01m\u001b[K||\u001b[m\u001b[K’ [\u001b[01;35m\u001b[K-Wparentheses\u001b[m\u001b[K]\n",
      "   if (\u001b[01;35m\u001b[Kmessage->has_gamma() && (message->gamma() < 0)\u001b[m\u001b[K || (message->gamma() > 1)) {\n",
      "       \u001b[01;35m\u001b[K~~~~~~~~~~~~~~~~~~~~~^~~~~~~~~~~~~~~~~~~~~~~~~\u001b[m\u001b[K\n",
      "[ 75%] \u001b[32mBuilding CXX object src/artm/CMakeFiles/artm-static.dir/core/instance.cc.o\u001b[0m\n",
      "[ 75%] \u001b[32mBuilding CXX object src/artm/CMakeFiles/artm-static.dir/core/master_component.cc.o\u001b[0m\n",
      "In file included from \u001b[01m\u001b[K/content/bigartm/src/artm/core/master_component.cc:31:0\u001b[m\u001b[K:\n",
      "\u001b[01m\u001b[K/content/bigartm/src/artm/../artm/core/check_messages.h:\u001b[m\u001b[K In function ‘\u001b[01m\u001b[Kvoid artm::core::FixMessage(T*) [with T = artm::RegularizerConfig]\u001b[m\u001b[K’:\n",
      "\u001b[01m\u001b[K/content/bigartm/src/artm/../artm/core/check_messages.h:553:28:\u001b[m\u001b[K \u001b[01;35m\u001b[Kwarning: \u001b[m\u001b[Ksuggest parentheses around ‘\u001b[01m\u001b[K&&\u001b[m\u001b[K’ within ‘\u001b[01m\u001b[K||\u001b[m\u001b[K’ [\u001b[01;35m\u001b[K-Wparentheses\u001b[m\u001b[K]\n",
      "   if (\u001b[01;35m\u001b[Kmessage->has_gamma() && (message->gamma() < 0)\u001b[m\u001b[K || (message->gamma() > 1)) {\n",
      "       \u001b[01;35m\u001b[K~~~~~~~~~~~~~~~~~~~~~^~~~~~~~~~~~~~~~~~~~~~~~~\u001b[m\u001b[K\n",
      "\u001b[01m\u001b[K/content/bigartm/src/artm/core/master_component.cc:\u001b[m\u001b[K In member function ‘\u001b[01m\u001b[Kvoid artm::core::MasterComponent::RequestProcessBatchesImpl(const artm::ProcessBatchesArgs&, artm::core::BatchManager*, bool, artm::core::ScoreManager*, artm::ThetaMatrix*)\u001b[m\u001b[K’:\n",
      "\u001b[01m\u001b[K/content/bigartm/src/artm/core/master_component.cc:807:10:\u001b[m\u001b[K \u001b[01;35m\u001b[Kwarning: \u001b[m\u001b[Kenumeration value ‘\u001b[01m\u001b[KThetaMatrixType_None\u001b[m\u001b[K’ not handled in switch [\u001b[01;35m\u001b[K-Wswitch\u001b[m\u001b[K]\n",
      "   switch \u001b[01;35m\u001b[K(\u001b[m\u001b[Kargs.theta_matrix_type()) {\n",
      "          \u001b[01;35m\u001b[K^\u001b[m\u001b[K\n",
      "\u001b[01m\u001b[K/content/bigartm/src/artm/core/master_component.cc:824:34:\u001b[m\u001b[K \u001b[01;35m\u001b[Kwarning: \u001b[m\u001b[Kcomparison between signed and unsigned integer expressions [\u001b[01;35m\u001b[K-Wsign-compare\u001b[m\u001b[K]\n",
      "   if (\u001b[01;35m\u001b[Kargs.batch_filename_size() < instance_->processor_size()\u001b[m\u001b[K) {\n",
      "       \u001b[01;35m\u001b[K~~~~~~~~~~~~~~~~~~~~~~~~~~~^~~~~~~~~~~~~~~~~~~~~~~~~~~~~\u001b[m\u001b[K\n",
      "\u001b[01m\u001b[K/content/bigartm/src/artm/core/master_component.cc:880:10:\u001b[m\u001b[K \u001b[01;35m\u001b[Kwarning: \u001b[m\u001b[Kenumeration value ‘\u001b[01m\u001b[KThetaMatrixType_None\u001b[m\u001b[K’ not handled in switch [\u001b[01;35m\u001b[K-Wswitch\u001b[m\u001b[K]\n",
      "   switch \u001b[01;35m\u001b[K(\u001b[m\u001b[Kargs.theta_matrix_type()) {\n",
      "          \u001b[01;35m\u001b[K^\u001b[m\u001b[K\n",
      "\u001b[01m\u001b[K/content/bigartm/src/artm/core/master_component.cc:880:10:\u001b[m\u001b[K \u001b[01;35m\u001b[Kwarning: \u001b[m\u001b[Kenumeration value ‘\u001b[01m\u001b[KThetaMatrixType_Cache\u001b[m\u001b[K’ not handled in switch [\u001b[01;35m\u001b[K-Wswitch\u001b[m\u001b[K]\n",
      "\u001b[01m\u001b[K/content/bigartm/src/artm/core/master_component.cc:802:8:\u001b[m\u001b[K \u001b[01;35m\u001b[Kwarning: \u001b[m\u001b[Kvariable ‘\u001b[01m\u001b[Kreturn_theta\u001b[m\u001b[K’ set but not used [\u001b[01;35m\u001b[K-Wunused-but-set-variable\u001b[m\u001b[K]\n",
      "   bool \u001b[01;35m\u001b[Kreturn_theta\u001b[m\u001b[K = false;\n",
      "        \u001b[01;35m\u001b[K^~~~~~~~~~~~\u001b[m\u001b[K\n",
      "\u001b[01m\u001b[K/content/bigartm/src/artm/core/master_component.cc:803:8:\u001b[m\u001b[K \u001b[01;35m\u001b[Kwarning: \u001b[m\u001b[Kvariable ‘\u001b[01m\u001b[Kreturn_ptdw\u001b[m\u001b[K’ set but not used [\u001b[01;35m\u001b[K-Wunused-but-set-variable\u001b[m\u001b[K]\n",
      "   bool \u001b[01;35m\u001b[Kreturn_ptdw\u001b[m\u001b[K = false;\n",
      "        \u001b[01;35m\u001b[K^~~~~~~~~~~\u001b[m\u001b[K\n",
      "\u001b[01m\u001b[K/content/bigartm/src/artm/core/master_component.cc:\u001b[m\u001b[K In member function ‘\u001b[01m\u001b[Kbool artm::core::OnlineBatchesIterator::more() const\u001b[m\u001b[K’:\n",
      "\u001b[01m\u001b[K/content/bigartm/src/artm/core/master_component.cc:1198:39:\u001b[m\u001b[K \u001b[01;35m\u001b[Kwarning: \u001b[m\u001b[Kcomparison between signed and unsigned integer expressions [\u001b[01;35m\u001b[K-Wsign-compare\u001b[m\u001b[K]\n",
      "   bool more() const { return \u001b[01;35m\u001b[Kcurrent_ < static_cast<int>(update_after_.size())\u001b[m\u001b[K; }\n",
      "                              \u001b[01;35m\u001b[K~~~~~~~~~^~~~~~~~~~~~~~~~~~~~~~~~~~~~~~~~~~~~~~~~\u001b[m\u001b[K\n",
      "[ 76%] \u001b[32mBuilding CXX object src/artm/CMakeFiles/artm-static.dir/core/processor.cc.o\u001b[0m\n",
      "[ 76%] \u001b[32mBuilding CXX object src/artm/CMakeFiles/artm-static.dir/core/processor_helpers.cc.o\u001b[0m\n",
      "[ 76%] \u001b[32mBuilding CXX object src/artm/CMakeFiles/artm-static.dir/core/processor_transaction_helpers.cc.o\u001b[0m\n",
      "\u001b[01m\u001b[K/content/bigartm/src/artm/core/processor_transaction_helpers.cc:\u001b[m\u001b[K In static member function ‘\u001b[01m\u001b[Kstatic void artm::core::ProcessorTransactionHelpers::TransactionInferThetaAndUpdateNwtSparse(const artm::ProcessBatchesArgs&, const artm::Batch&, float, std::shared_ptr<artm::core::BatchTransactionInfo>, const artm::core::PhiMatrix&, const artm::core::RegularizeThetaAgentCollection&, artm::utility::LocalThetaMatrix<float>*, artm::core::NwtWriteAdapter*, artm::utility::Blas*, artm::ThetaMatrix*)\u001b[m\u001b[K’:\n",
      "\u001b[01m\u001b[K/content/bigartm/src/artm/core/processor_transaction_helpers.cc:166:25:\u001b[m\u001b[K \u001b[01;35m\u001b[Kwarning: \u001b[m\u001b[Kcomparison between signed and unsigned integer expressions [\u001b[01;35m\u001b[K-Wsign-compare\u001b[m\u001b[K]\n",
      "       for (int k = 0; \u001b[01;35m\u001b[Kk < it->second->local_pwt_token_index.size()\u001b[m\u001b[K; ++k) {\n",
      "                       \u001b[01;35m\u001b[K~~^~~~~~~~~~~~~~~~~~~~~~~~~~~~~~~~~~~~~~~~~~\u001b[m\u001b[K\n",
      "[ 77%] \u001b[32mBuilding CXX object src/artm/CMakeFiles/artm-static.dir/core/processor_input.cc.o\u001b[0m\n",
      "[ 77%] \u001b[32mBuilding CXX object src/artm/CMakeFiles/artm-static.dir/core/protobuf_serialization.cc.o\u001b[0m\n",
      "[ 77%] \u001b[32mBuilding CXX object src/artm/CMakeFiles/artm-static.dir/core/phi_matrix_operations.cc.o\u001b[0m\n",
      "In file included from \u001b[01m\u001b[K/content/bigartm/src/artm/core/phi_matrix_operations.cc:14:0\u001b[m\u001b[K:\n",
      "\u001b[01m\u001b[K/content/bigartm/src/artm/../artm/core/check_messages.h:\u001b[m\u001b[K In function ‘\u001b[01m\u001b[Kvoid artm::core::FixMessage(T*) [with T = artm::RegularizerConfig]\u001b[m\u001b[K’:\n",
      "\u001b[01m\u001b[K/content/bigartm/src/artm/../artm/core/check_messages.h:553:28:\u001b[m\u001b[K \u001b[01;35m\u001b[Kwarning: \u001b[m\u001b[Ksuggest parentheses around ‘\u001b[01m\u001b[K&&\u001b[m\u001b[K’ within ‘\u001b[01m\u001b[K||\u001b[m\u001b[K’ [\u001b[01;35m\u001b[K-Wparentheses\u001b[m\u001b[K]\n",
      "   if (\u001b[01;35m\u001b[Kmessage->has_gamma() && (message->gamma() < 0)\u001b[m\u001b[K || (message->gamma() > 1)) {\n",
      "       \u001b[01;35m\u001b[K~~~~~~~~~~~~~~~~~~~~~^~~~~~~~~~~~~~~~~~~~~~~~~\u001b[m\u001b[K\n",
      "\u001b[01m\u001b[K/content/bigartm/src/artm/core/phi_matrix_operations.cc:\u001b[m\u001b[K In static member function ‘\u001b[01m\u001b[Kstatic void artm::core::PhiMatrixOperations::ApplyTopicModelOperation(const artm::TopicModel&, float, bool, artm::core::PhiMatrix*)\u001b[m\u001b[K’:\n",
      "\u001b[01m\u001b[K/content/bigartm/src/artm/core/phi_matrix_operations.cc:156:60:\u001b[m\u001b[K \u001b[01;35m\u001b[Kwarning: \u001b[m\u001b[Kcomparison between signed and unsigned integer expressions [\u001b[01;35m\u001b[K-Wsign-compare\u001b[m\u001b[K]\n",
      "   if ((apply_weight == 1.0f) && (\u001b[01;35m\u001b[Ktarget_topic_index.size() == this_topic_size\u001b[m\u001b[K)) {\n",
      "                                  \u001b[01;35m\u001b[K~~~~~~~~~~~~~~~~~~~~~~~~~~^~~~~~~~~~~~~~~~~~\u001b[m\u001b[K\n",
      "\u001b[01m\u001b[K/content/bigartm/src/artm/core/phi_matrix_operations.cc:159:43:\u001b[m\u001b[K \u001b[01;35m\u001b[Kwarning: \u001b[m\u001b[Kcomparison between signed and unsigned integer expressions [\u001b[01;35m\u001b[K-Wsign-compare\u001b[m\u001b[K]\n",
      "       if (target_topic_index[topic_index] != topic_index) {\n",
      "[ 78%] \u001b[32mBuilding CXX object src/artm/CMakeFiles/artm-static.dir/core/score_manager.cc.o\u001b[0m\n",
      "[ 78%] \u001b[32mBuilding CXX object src/artm/CMakeFiles/artm-static.dir/core/token.cc.o\u001b[0m\n",
      "[ 78%] \u001b[32mBuilding CXX object src/artm/CMakeFiles/artm-static.dir/core/transform_function.cc.o\u001b[0m\n",
      "[ 79%] \u001b[32mBuilding CXX object src/artm/CMakeFiles/artm-static.dir/regularizer/decorrelator_phi.cc.o\u001b[0m\n",
      "[ 79%] \u001b[32mBuilding CXX object src/artm/CMakeFiles/artm-static.dir/regularizer/multilanguage_phi.cc.o\u001b[0m\n",
      "[ 79%] \u001b[32mBuilding CXX object src/artm/CMakeFiles/artm-static.dir/regularizer/smooth_sparse_phi.cc.o\u001b[0m\n",
      "[ 80%] \u001b[32mBuilding CXX object src/artm/CMakeFiles/artm-static.dir/regularizer/label_regularization_phi.cc.o\u001b[0m\n",
      "[ 80%] \u001b[32mBuilding CXX object src/artm/CMakeFiles/artm-static.dir/regularizer/smooth_sparse_theta.cc.o\u001b[0m\n",
      "\u001b[01m\u001b[K/content/bigartm/src/artm/regularizer/smooth_sparse_theta.cc:\u001b[m\u001b[K In member function ‘\u001b[01m\u001b[Kvirtual void artm::regularizer::SmoothSparseThetaAgent::Apply(int, int, int, const float*, float*) const\u001b[m\u001b[K’:\n",
      "\u001b[01m\u001b[K/content/bigartm/src/artm/regularizer/smooth_sparse_theta.cc:22:19:\u001b[m\u001b[K \u001b[01;35m\u001b[Kwarning: \u001b[m\u001b[Kcomparison between signed and unsigned integer expressions [\u001b[01;35m\u001b[K-Wsign-compare\u001b[m\u001b[K]\n",
      "   if (\u001b[01;35m\u001b[Ktopics_size != topic_weight.size()\u001b[m\u001b[K || inner_iter >= alpha_weight.size()) {\n",
      "       \u001b[01;35m\u001b[K~~~~~~~~~~~~^~~~~~~~~~~~~~~~~~~~~~\u001b[m\u001b[K\n",
      "\u001b[01m\u001b[K/content/bigartm/src/artm/regularizer/smooth_sparse_theta.cc:22:56:\u001b[m\u001b[K \u001b[01;35m\u001b[Kwarning: \u001b[m\u001b[Kcomparison between signed and unsigned integer expressions [\u001b[01;35m\u001b[K-Wsign-compare\u001b[m\u001b[K]\n",
      "   if (topics_size != topic_weight.size() || \u001b[01;35m\u001b[Kinner_iter >= alpha_weight.size()\u001b[m\u001b[K) {\n",
      "                                             \u001b[01;35m\u001b[K~~~~~~~~~~~^~~~~~~~~~~~~~~~~~~~~~\u001b[m\u001b[K\n",
      "\u001b[01m\u001b[K/content/bigartm/src/artm/regularizer/smooth_sparse_theta.cc:34:71:\u001b[m\u001b[K \u001b[01;35m\u001b[Kwarning: \u001b[m\u001b[Kcomparison between signed and unsigned integer expressions [\u001b[01;35m\u001b[K-Wsign-compare\u001b[m\u001b[K]\n",
      "   if (use_universal_multiplier && \u001b[01;35m\u001b[Kuniversal_topic_multiplier_->size() != topics_size\u001b[m\u001b[K) {\n",
      "                                   \u001b[01;35m\u001b[K~~~~~~~~~~~~~~~~~~~~~~~~~~~~~~~~~~~~^~~~~~~~~~~~~~\u001b[m\u001b[K\n",
      "\u001b[01m\u001b[K/content/bigartm/src/artm/regularizer/smooth_sparse_theta.cc:46:56:\u001b[m\u001b[K \u001b[01;35m\u001b[Kwarning: \u001b[m\u001b[Kcomparison between signed and unsigned integer expressions [\u001b[01;35m\u001b[K-Wsign-compare\u001b[m\u001b[K]\n",
      "     if (use_specific_multiplier && \u001b[01;35m\u001b[Kiter->second.size() != topics_size\u001b[m\u001b[K) {\n",
      "                                    \u001b[01;35m\u001b[K~~~~~~~~~~~~~~~~~~~~^~~~~~~~~~~~~~\u001b[m\u001b[K\n",
      "[ 80%] \u001b[32mBuilding CXX object src/artm/CMakeFiles/artm-static.dir/regularizer/smooth_ptdw.cc.o\u001b[0m\n",
      "[ 81%] \u001b[32mBuilding CXX object src/artm/CMakeFiles/artm-static.dir/regularizer/specified_sparse_phi.cc.o\u001b[0m\n",
      "\u001b[01m\u001b[K/content/bigartm/src/artm/regularizer/specified_sparse_phi.cc:\u001b[m\u001b[K In member function ‘\u001b[01m\u001b[Kvirtual bool artm::regularizer::SpecifiedSparsePhi::RegularizePhi(const artm::core::PhiMatrix&, const artm::core::PhiMatrix&, artm::core::PhiMatrix*)\u001b[m\u001b[K’:\n",
      "\u001b[01m\u001b[K/content/bigartm/src/artm/regularizer/specified_sparse_phi.cc:79:28:\u001b[m\u001b[K \u001b[01;35m\u001b[Kwarning: \u001b[m\u001b[Kcomparison between signed and unsigned integer expressions [\u001b[01;35m\u001b[K-Wsign-compare\u001b[m\u001b[K]\n",
      "       if (\u001b[01;35m\u001b[Kmax_queue.size() < config_.max_elements_count()\u001b[m\u001b[K) {\n",
      "           \u001b[01;35m\u001b[K~~~~~~~~~~~~~~~~~^~~~~~~~~~~~~~~~~~~~~~~~~~~~~~\u001b[m\u001b[K\n",
      "[ 81%] \u001b[32mBuilding CXX object src/artm/CMakeFiles/artm-static.dir/regularizer/improve_coherence_phi.cc.o\u001b[0m\n",
      "[ 81%] \u001b[32mBuilding CXX object src/artm/CMakeFiles/artm-static.dir/regularizer/topic_selection_theta.cc.o\u001b[0m\n",
      "\u001b[01m\u001b[K/content/bigartm/src/artm/regularizer/topic_selection_theta.cc:\u001b[m\u001b[K In member function ‘\u001b[01m\u001b[Kvirtual void artm::regularizer::TopicSelectionThetaAgent::Apply(int, int, int, const float*, float*) const\u001b[m\u001b[K’:\n",
      "\u001b[01m\u001b[K/content/bigartm/src/artm/regularizer/topic_selection_theta.cc:26:19:\u001b[m\u001b[K \u001b[01;35m\u001b[Kwarning: \u001b[m\u001b[Kcomparison between signed and unsigned integer expressions [\u001b[01;35m\u001b[K-Wsign-compare\u001b[m\u001b[K]\n",
      "   if (\u001b[01;35m\u001b[Ktopics_size != topic_weight.size()\u001b[m\u001b[K || inner_iter >= alpha_weight.size()) {\n",
      "       \u001b[01;35m\u001b[K~~~~~~~~~~~~^~~~~~~~~~~~~~~~~~~~~~\u001b[m\u001b[K\n",
      "\u001b[01m\u001b[K/content/bigartm/src/artm/regularizer/topic_selection_theta.cc:26:56:\u001b[m\u001b[K \u001b[01;35m\u001b[Kwarning: \u001b[m\u001b[Kcomparison between signed and unsigned integer expressions [\u001b[01;35m\u001b[K-Wsign-compare\u001b[m\u001b[K]\n",
      "   if (topics_size != topic_weight.size() || \u001b[01;35m\u001b[Kinner_iter >= alpha_weight.size()\u001b[m\u001b[K) {\n",
      "                                             \u001b[01;35m\u001b[K~~~~~~~~~~~^~~~~~~~~~~~~~~~~~~~~~\u001b[m\u001b[K\n",
      "\u001b[01m\u001b[K/content/bigartm/src/artm/regularizer/topic_selection_theta.cc:\u001b[m\u001b[K In member function ‘\u001b[01m\u001b[Kvirtual void artm::regularizer::TopicSelectionThetaAgent::Apply(int, const artm::utility::LocalThetaMatrix<float>&, artm::utility::LocalThetaMatrix<float>*) const\u001b[m\u001b[K’:\n",
      "\u001b[01m\u001b[K/content/bigartm/src/artm/regularizer/topic_selection_theta.cc:46:18:\u001b[m\u001b[K \u001b[01;35m\u001b[Kwarning: \u001b[m\u001b[Kcomparison between signed and unsigned integer expressions [\u001b[01;35m\u001b[K-Wsign-compare\u001b[m\u001b[K]\n",
      "   if (\u001b[01;35m\u001b[Ktopic_size != topic_weight.size()\u001b[m\u001b[K || inner_iter >= alpha_weight.size()) {\n",
      "       \u001b[01;35m\u001b[K~~~~~~~~~~~^~~~~~~~~~~~~~~~~~~~~~\u001b[m\u001b[K\n",
      "\u001b[01m\u001b[K/content/bigartm/src/artm/regularizer/topic_selection_theta.cc:46:55:\u001b[m\u001b[K \u001b[01;35m\u001b[Kwarning: \u001b[m\u001b[Kcomparison between signed and unsigned integer expressions [\u001b[01;35m\u001b[K-Wsign-compare\u001b[m\u001b[K]\n",
      "   if (topic_size != topic_weight.size() || \u001b[01;35m\u001b[Kinner_iter >= alpha_weight.size()\u001b[m\u001b[K) {\n",
      "                                            \u001b[01;35m\u001b[K~~~~~~~~~~~^~~~~~~~~~~~~~~~~~~~~~\u001b[m\u001b[K\n",
      "[ 82%] \u001b[32mBuilding CXX object src/artm/CMakeFiles/artm-static.dir/regularizer/biterms_phi.cc.o\u001b[0m\n",
      "[ 82%] \u001b[32mBuilding CXX object src/artm/CMakeFiles/artm-static.dir/regularizer/hierarchy_sparsing_theta.cc.o\u001b[0m\n",
      "\u001b[01m\u001b[K/content/bigartm/src/artm/regularizer/hierarchy_sparsing_theta.cc:\u001b[m\u001b[K In member function ‘\u001b[01m\u001b[Kvirtual void artm::regularizer::HierarchySparsingThetaAgent::Apply(int, const artm::utility::LocalThetaMatrix<float>&, artm::utility::LocalThetaMatrix<float>*) const\u001b[m\u001b[K’:\n",
      "\u001b[01m\u001b[K/content/bigartm/src/artm/regularizer/hierarchy_sparsing_theta.cc:54:18:\u001b[m\u001b[K \u001b[01;35m\u001b[Kwarning: \u001b[m\u001b[Kcomparison between signed and unsigned integer expressions [\u001b[01;35m\u001b[K-Wsign-compare\u001b[m\u001b[K]\n",
      "   if (\u001b[01;35m\u001b[Ktopic_size != topic_weight.size()\u001b[m\u001b[K || inner_iter >= alpha_weight.size()) {\n",
      "       \u001b[01;35m\u001b[K~~~~~~~~~~~^~~~~~~~~~~~~~~~~~~~~~\u001b[m\u001b[K\n",
      "\u001b[01m\u001b[K/content/bigartm/src/artm/regularizer/hierarchy_sparsing_theta.cc:54:55:\u001b[m\u001b[K \u001b[01;35m\u001b[Kwarning: \u001b[m\u001b[Kcomparison between signed and unsigned integer expressions [\u001b[01;35m\u001b[K-Wsign-compare\u001b[m\u001b[K]\n",
      "   if (topic_size != topic_weight.size() || \u001b[01;35m\u001b[Kinner_iter >= alpha_weight.size()\u001b[m\u001b[K) {\n",
      "                                            \u001b[01;35m\u001b[K~~~~~~~~~~~^~~~~~~~~~~~~~~~~~~~~~\u001b[m\u001b[K\n",
      "[ 82%] \u001b[32mBuilding CXX object src/artm/CMakeFiles/artm-static.dir/regularizer/topic_segmentation_ptdw.cc.o\u001b[0m\n",
      "[ 83%] \u001b[32mBuilding CXX object src/artm/CMakeFiles/artm-static.dir/regularizer/smooth_time_in_topics_phi.cc.o\u001b[0m\n",
      "[ 83%] \u001b[32mBuilding CXX object src/artm/CMakeFiles/artm-static.dir/regularizer/net_plsa_phi.cc.o\u001b[0m\n",
      "\u001b[01m\u001b[K/content/bigartm/src/artm/regularizer/net_plsa_phi.cc:\u001b[m\u001b[K In member function ‘\u001b[01m\u001b[Kvirtual bool artm::regularizer::NetPlsaPhi::RegularizePhi(const artm::core::PhiMatrix&, const artm::core::PhiMatrix&, artm::core::PhiMatrix*)\u001b[m\u001b[K’:\n",
      "\u001b[01m\u001b[K/content/bigartm/src/artm/regularizer/net_plsa_phi.cc:41:42:\u001b[m\u001b[K \u001b[01;35m\u001b[Kwarning: \u001b[m\u001b[Kcomparison between signed and unsigned integer expressions [\u001b[01;35m\u001b[K-Wsign-compare\u001b[m\u001b[K]\n",
      "   if (has_weights && \u001b[01;35m\u001b[Kvertex_name_.size() != config_.vertex_weight_size()\u001b[m\u001b[K) {\n",
      "                      \u001b[01;35m\u001b[K~~~~~~~~~~~~~~~~~~~~^~~~~~~~~~~~~~~~~~~~~~~~~~~~~~~\u001b[m\u001b[K\n",
      "\u001b[01m\u001b[K/content/bigartm/src/artm/regularizer/net_plsa_phi.cc:55:37:\u001b[m\u001b[K \u001b[01;35m\u001b[Kwarning: \u001b[m\u001b[Kcomparison between signed and unsigned integer expressions [\u001b[01;35m\u001b[K-Wsign-compare\u001b[m\u001b[K]\n",
      "   for (int vertex_id = 0; \u001b[01;35m\u001b[Kvertex_id < vertex_name_.size()\u001b[m\u001b[K; ++vertex_id) {\n",
      "                           \u001b[01;35m\u001b[K~~~~~~~~~~^~~~~~~~~~~~~~~~~~~~~\u001b[m\u001b[K\n",
      "\u001b[01m\u001b[K/content/bigartm/src/artm/regularizer/net_plsa_phi.cc:76:27:\u001b[m\u001b[K \u001b[01;35m\u001b[Kwarning: \u001b[m\u001b[Kcomparison between signed and unsigned integer expressions [\u001b[01;35m\u001b[K-Wsign-compare\u001b[m\u001b[K]\n",
      "         if (\u001b[01;35m\u001b[Kpair_id.first >= vertex_name_.size()\u001b[m\u001b[K || pair_id.first < 0) {\n",
      "             \u001b[01;35m\u001b[K~~~~~~~~~~~~~~^~~~~~~~~~~~~~~~~~~~~~\u001b[m\u001b[K\n",
      "[ 83%] \u001b[32mBuilding CXX object src/artm/CMakeFiles/artm-static.dir/score/class_precision.cc.o\u001b[0m\n",
      "[ 84%] \u001b[32mBuilding CXX object src/artm/CMakeFiles/artm-static.dir/score/items_processed.cc.o\u001b[0m\n",
      "[ 84%] \u001b[32mBuilding CXX object src/artm/CMakeFiles/artm-static.dir/score/peak_memory.cc.o\u001b[0m\n",
      "[ 84%] \u001b[32mBuilding CXX object src/artm/CMakeFiles/artm-static.dir/score/perplexity.cc.o\u001b[0m\n",
      "\u001b[01m\u001b[K/content/bigartm/src/artm/score/perplexity.cc:\u001b[m\u001b[K In member function ‘\u001b[01m\u001b[Kvirtual void artm::score::Perplexity::AppendScore(const artm::Item&, const artm::Batch&, const std::vector<artm::core::Token>&, const artm::core::PhiMatrix&, const artm::ProcessBatchesArgs&, const std::vector<float>&, artm::Score*)\u001b[m\u001b[K’:\n",
      "\u001b[01m\u001b[K/content/bigartm/src/artm/score/perplexity.cc:169:11:\u001b[m\u001b[K \u001b[01;35m\u001b[Kwarning: \u001b[m\u001b[Kvariable ‘\u001b[01m\u001b[Ktt_weight\u001b[m\u001b[K’ set but not used [\u001b[01;35m\u001b[K-Wunused-but-set-variable\u001b[m\u001b[K]\n",
      "     float \u001b[01;35m\u001b[Ktt_weight\u001b[m\u001b[K = 1.0f;\n",
      "           \u001b[01;35m\u001b[K^~~~~~~~~\u001b[m\u001b[K\n",
      "\u001b[01m\u001b[K/content/bigartm/src/artm/score/perplexity.cc:\u001b[m\u001b[K In member function ‘\u001b[01m\u001b[Kvirtual void artm::score::Perplexity::AppendScore(const Score&, artm::Score*)\u001b[m\u001b[K’:\n",
      "\u001b[01m\u001b[K/content/bigartm/src/artm/score/perplexity.cc:292:26:\u001b[m\u001b[K \u001b[01;35m\u001b[Kwarning: \u001b[m\u001b[Kcomparison between signed and unsigned integer expressions [\u001b[01;35m\u001b[K-Wsign-compare\u001b[m\u001b[K]\n",
      "     for (size_t i = 0; \u001b[01;35m\u001b[Ki < perplexity_score->transaction_typename_info_size()\u001b[m\u001b[K; ++i) {\n",
      "                        \u001b[01;35m\u001b[K~~^~~~~~~~~~~~~~~~~~~~~~~~~~~~~~~~~~~~~~~~~~~~~~~~~~~~\u001b[m\u001b[K\n",
      "\u001b[01m\u001b[K/content/bigartm/src/artm/score/perplexity.cc:296:28:\u001b[m\u001b[K \u001b[01;35m\u001b[Kwarning: \u001b[m\u001b[Kcomparison between signed and unsigned integer expressions [\u001b[01;35m\u001b[K-Wsign-compare\u001b[m\u001b[K]\n",
      "       for (size_t j = 0; \u001b[01;35m\u001b[Kj < perplexity_target->transaction_typename_info_size()\u001b[m\u001b[K; ++j) {\n",
      "                          \u001b[01;35m\u001b[K~~^~~~~~~~~~~~~~~~~~~~~~~~~~~~~~~~~~~~~~~~~~~~~~~~~~~~~\u001b[m\u001b[K\n",
      "\u001b[01m\u001b[K/content/bigartm/src/artm/score/perplexity.cc:323:26:\u001b[m\u001b[K \u001b[01;35m\u001b[Kwarning: \u001b[m\u001b[Kcomparison between signed and unsigned integer expressions [\u001b[01;35m\u001b[K-Wsign-compare\u001b[m\u001b[K]\n",
      "     for (size_t j = 0; \u001b[01;35m\u001b[Kj < perplexity_target->transaction_typename_info_size()\u001b[m\u001b[K; ++j) {\n",
      "                        \u001b[01;35m\u001b[K~~^~~~~~~~~~~~~~~~~~~~~~~~~~~~~~~~~~~~~~~~~~~~~~~~~~~~~\u001b[m\u001b[K\n",
      "[ 85%] \u001b[32mBuilding CXX object src/artm/CMakeFiles/artm-static.dir/score/sparsity_phi.cc.o\u001b[0m\n",
      "[ 85%] \u001b[32mBuilding CXX object src/artm/CMakeFiles/artm-static.dir/score/sparsity_theta.cc.o\u001b[0m\n",
      "[ 85%] \u001b[32mBuilding CXX object src/artm/CMakeFiles/artm-static.dir/score/theta_snippet.cc.o\u001b[0m\n",
      "[ 86%] \u001b[32mBuilding CXX object src/artm/CMakeFiles/artm-static.dir/score/top_tokens.cc.o\u001b[0m\n",
      "[ 86%] \u001b[32mBuilding CXX object src/artm/CMakeFiles/artm-static.dir/score/topic_kernel.cc.o\u001b[0m\n",
      "[ 86%] \u001b[32mBuilding CXX object src/artm/CMakeFiles/artm-static.dir/score/topic_mass_phi.cc.o\u001b[0m\n",
      "[ 88%] \u001b[32mBuilding CXX object src/artm/CMakeFiles/artm-static.dir/score/background_tokens_ratio.cc.o\u001b[0m\n",
      "[ 88%] \u001b[32mBuilding CXX object src/artm/CMakeFiles/artm-static.dir/utility/blas.cc.o\u001b[0m\n",
      "[ 88%] \u001b[32mBuilding CXX object src/artm/CMakeFiles/artm-static.dir/utility/progress_printer.cc.o\u001b[0m\n",
      "[ 89%] \u001b[32m\u001b[1mLinking CXX static library ../../lib/libartm-static.a\u001b[0m\n",
      "[ 89%] Built target artm-static\n",
      "\u001b[35m\u001b[1mScanning dependencies of target artm\u001b[0m\n",
      "[ 89%] \u001b[32mBuilding CXX object src/artm/CMakeFiles/artm.dir/c_interface.cc.o\u001b[0m\n",
      "In file included from \u001b[01m\u001b[K/content/bigartm/src/artm/c_interface.cc:18:0\u001b[m\u001b[K:\n",
      "\u001b[01m\u001b[K/content/bigartm/src/artm/../artm/core/check_messages.h:\u001b[m\u001b[K In function ‘\u001b[01m\u001b[Kvoid artm::core::FixMessage(T*) [with T = artm::RegularizerConfig]\u001b[m\u001b[K’:\n",
      "\u001b[01m\u001b[K/content/bigartm/src/artm/../artm/core/check_messages.h:553:28:\u001b[m\u001b[K \u001b[01;35m\u001b[Kwarning: \u001b[m\u001b[Ksuggest parentheses around ‘\u001b[01m\u001b[K&&\u001b[m\u001b[K’ within ‘\u001b[01m\u001b[K||\u001b[m\u001b[K’ [\u001b[01;35m\u001b[K-Wparentheses\u001b[m\u001b[K]\n",
      "   if (\u001b[01;35m\u001b[Kmessage->has_gamma() && (message->gamma() < 0)\u001b[m\u001b[K || (message->gamma() > 1)) {\n",
      "       \u001b[01;35m\u001b[K~~~~~~~~~~~~~~~~~~~~~^~~~~~~~~~~~~~~~~~~~~~~~~\u001b[m\u001b[K\n",
      "[ 90%] \u001b[32mBuilding CXX object src/artm/CMakeFiles/artm.dir/cpp_interface.cc.o\u001b[0m\n",
      "[ 90%] \u001b[32mBuilding CXX object src/artm/CMakeFiles/artm.dir/messages.pb.cc.o\u001b[0m\n",
      "[ 90%] \u001b[32m\u001b[1mLinking CXX shared library ../../lib/libartm.so\u001b[0m\n",
      "[ 90%] Built target artm\n",
      "\u001b[35m\u001b[1mScanning dependencies of target artm_tests\u001b[0m\n",
      "[ 90%] \u001b[32mBuilding CXX object src/artm_tests/CMakeFiles/artm_tests.dir/api.cc.o\u001b[0m\n",
      "[ 90%] \u001b[32mBuilding CXX object src/artm_tests/CMakeFiles/artm_tests.dir/batch_manager_test.cc.o\u001b[0m\n",
      "[ 91%] \u001b[32mBuilding CXX object src/artm_tests/CMakeFiles/artm_tests.dir/blas_test.cc.o\u001b[0m\n",
      "[ 91%] \u001b[32mBuilding CXX object src/artm_tests/CMakeFiles/artm_tests.dir/boost_thread_test.cc.o\u001b[0m\n",
      "[ 91%] \u001b[32mBuilding CXX object src/artm_tests/CMakeFiles/artm_tests.dir/cache_manager_test.cc.o\u001b[0m\n",
      "In file included from \u001b[01m\u001b[K/content/bigartm/src/artm_tests/cache_manager_test.cc:5:0\u001b[m\u001b[K:\n",
      "/content/bigartm/3rdparty/gtest/fused-src/gtest/gtest.h: In instantiation of ‘\u001b[01m\u001b[Ktesting::AssertionResult testing::internal::CmpHelperEQ(const char*, const char*, const T1&, const T2&) [with T1 = long unsigned int; T2 = int]\u001b[m\u001b[K’:\n",
      "\u001b[01m\u001b[K/content/bigartm/3rdparty/gtest/fused-src/gtest/gtest.h:18897:23:\u001b[m\u001b[K   required from ‘\u001b[01m\u001b[Kstatic testing::AssertionResult testing::internal::EqHelper<lhs_is_null_literal>::Compare(const char*, const char*, const T1&, const T2&) [with T1 = long unsigned int; T2 = int; bool lhs_is_null_literal = false]\u001b[m\u001b[K’\n",
      "\u001b[01m\u001b[K/content/bigartm/src/artm_tests/cache_manager_test.cc:27:3:\u001b[m\u001b[K   required from here\n",
      "\u001b[01m\u001b[K/content/bigartm/3rdparty/gtest/fused-src/gtest/gtest.h:18861:16:\u001b[m\u001b[K \u001b[01;35m\u001b[Kwarning: \u001b[m\u001b[Kcomparison between signed and unsigned integer expressions [\u001b[01;35m\u001b[K-Wsign-compare\u001b[m\u001b[K]\n",
      "   if (\u001b[01;35m\u001b[Kexpected == actual\u001b[m\u001b[K) {\n",
      "       \u001b[01;35m\u001b[K~~~~~~~~~^~~~~~~~~\u001b[m\u001b[K\n",
      "[ 92%] \u001b[32mBuilding CXX object src/artm_tests/CMakeFiles/artm_tests.dir/collection_parser_test.cc.o\u001b[0m\n",
      "[ 92%] \u001b[32mBuilding CXX object src/artm_tests/CMakeFiles/artm_tests.dir/cpp_interface_test.cc.o\u001b[0m\n",
      "\u001b[01m\u001b[K/content/bigartm/src/artm_tests/cpp_interface_test.cc:\u001b[m\u001b[K In member function ‘\u001b[01m\u001b[Kvirtual void CppInterface_AsyncProcessBatches_Test::TestBody()\u001b[m\u001b[K’:\n",
      "\u001b[01m\u001b[K/content/bigartm/src/artm_tests/cpp_interface_test.cc:700:26:\u001b[m\u001b[K \u001b[01;35m\u001b[Kwarning: \u001b[m\u001b[Kcomparison between signed and unsigned integer expressions [\u001b[01;35m\u001b[K-Wsign-compare\u001b[m\u001b[K]\n",
      "   for (unsigned i = 0; \u001b[01;35m\u001b[Ki < offlineArgs.batch_filename_size()\u001b[m\u001b[K; ++i) {\n",
      "                        \u001b[01;35m\u001b[K~~^~~~~~~~~~~~~~~~~~~~~~~~~~~~~~~~~~~\u001b[m\u001b[K\n",
      "In file included from \u001b[01m\u001b[K/content/bigartm/src/artm_tests/cpp_interface_test.cc:4:0\u001b[m\u001b[K:\n",
      "/content/bigartm/3rdparty/gtest/fused-src/gtest/gtest.h: In instantiation of ‘\u001b[01m\u001b[Ktesting::AssertionResult testing::internal::CmpHelperGT(const char*, const char*, const T1&, const T2&) [with T1 = long unsigned int; T2 = int]\u001b[m\u001b[K’:\n",
      "\u001b[01m\u001b[K/content/bigartm/src/artm_tests/cpp_interface_test.cc:31:3:\u001b[m\u001b[K   required from here\n",
      "\u001b[01m\u001b[K/content/bigartm/3rdparty/gtest/fused-src/gtest/gtest.h:18998:28:\u001b[m\u001b[K \u001b[01;35m\u001b[Kwarning: \u001b[m\u001b[Kcomparison between signed and unsigned integer expressions [\u001b[01;35m\u001b[K-Wsign-compare\u001b[m\u001b[K]\n",
      "\u001b[01m\u001b[K/content/bigartm/3rdparty/gtest/fused-src/gtest/gtest.h:18975:7:\u001b[m\u001b[K\n",
      "   if (\u001b[01;35m\u001b[Kval1 op v\u001b[m\u001b[Kal2) {\\\n",
      "       \u001b[01;35m\u001b[K~~~~~~~~~\u001b[m\u001b[K             \n",
      "\u001b[01m\u001b[K/content/bigartm/3rdparty/gtest/fused-src/gtest/gtest.h:18998:28:\u001b[m\u001b[K\n",
      " GTEST_IMPL_CMP_HELPER_(GT, >);\n",
      "\u001b[01m\u001b[K/content/bigartm/3rdparty/gtest/fused-src/gtest/gtest.h:18975:12:\u001b[m\u001b[K \u001b[01;36m\u001b[Knote: \u001b[m\u001b[Kin definition of macro ‘\u001b[01m\u001b[KGTEST_IMPL_CMP_HELPER_\u001b[m\u001b[K’\n",
      "   if (val1 \u001b[01;36m\u001b[Kop\u001b[m\u001b[K val2) {\\\n",
      "            \u001b[01;36m\u001b[K^~\u001b[m\u001b[K\n",
      "/content/bigartm/3rdparty/gtest/fused-src/gtest/gtest.h: In instantiation of ‘\u001b[01m\u001b[Ktesting::AssertionResult testing::internal::CmpHelperEQ(const char*, const char*, const T1&, const T2&) [with T1 = long unsigned int; T2 = int]\u001b[m\u001b[K’:\n",
      "\u001b[01m\u001b[K/content/bigartm/3rdparty/gtest/fused-src/gtest/gtest.h:18897:23:\u001b[m\u001b[K   required from ‘\u001b[01m\u001b[Kstatic testing::AssertionResult testing::internal::EqHelper<lhs_is_null_literal>::Compare(const char*, const char*, const T1&, const T2&) [with T1 = long unsigned int; T2 = int; bool lhs_is_null_literal = false]\u001b[m\u001b[K’\n",
      "\u001b[01m\u001b[K/content/bigartm/src/artm_tests/cpp_interface_test.cc:342:7:\u001b[m\u001b[K   required from here\n",
      "\u001b[01m\u001b[K/content/bigartm/3rdparty/gtest/fused-src/gtest/gtest.h:18861:16:\u001b[m\u001b[K \u001b[01;35m\u001b[Kwarning: \u001b[m\u001b[Kcomparison between signed and unsigned integer expressions [\u001b[01;35m\u001b[K-Wsign-compare\u001b[m\u001b[K]\n",
      "   if (\u001b[01;35m\u001b[Kexpected == actual\u001b[m\u001b[K) {\n",
      "       \u001b[01;35m\u001b[K~~~~~~~~~^~~~~~~~~\u001b[m\u001b[K\n",
      "[ 92%] \u001b[32mBuilding CXX object src/artm_tests/CMakeFiles/artm_tests.dir/master_model_test.cc.o\u001b[0m\n",
      "\u001b[01m\u001b[K/content/bigartm/src/artm_tests/master_model_test.cc:\u001b[m\u001b[K In function ‘\u001b[01m\u001b[Kvoid testReshapeTokens(bool, bool)\u001b[m\u001b[K’:\n",
      "\u001b[01m\u001b[K/content/bigartm/src/artm_tests/master_model_test.cc:277:9:\u001b[m\u001b[K \u001b[01;35m\u001b[Kwarning: \u001b[m\u001b[Kunused variable ‘\u001b[01m\u001b[Kexpected\u001b[m\u001b[K’ [\u001b[01;35m\u001b[K-Wunused-variable\u001b[m\u001b[K]\n",
      "   float \u001b[01;35m\u001b[Kexpected\u001b[m\u001b[K[] = { 14.3481f, 11.7418f, 10.8133f, 10.3792f };\n",
      "         \u001b[01;35m\u001b[K^~~~~~~~\u001b[m\u001b[K\n",
      "In file included from \u001b[01m\u001b[K/content/bigartm/src/artm_tests/master_model_test.cc:7:0\u001b[m\u001b[K:\n",
      "/content/bigartm/3rdparty/gtest/fused-src/gtest/gtest.h: In instantiation of ‘\u001b[01m\u001b[Ktesting::AssertionResult testing::internal::CmpHelperEQ(const char*, const char*, const T1&, const T2&) [with T1 = long unsigned int; T2 = int]\u001b[m\u001b[K’:\n",
      "\u001b[01m\u001b[K/content/bigartm/3rdparty/gtest/fused-src/gtest/gtest.h:18897:23:\u001b[m\u001b[K   required from ‘\u001b[01m\u001b[Kstatic testing::AssertionResult testing::internal::EqHelper<lhs_is_null_literal>::Compare(const char*, const char*, const T1&, const T2&) [with T1 = long unsigned int; T2 = int; bool lhs_is_null_literal = false]\u001b[m\u001b[K’\n",
      "\u001b[01m\u001b[K/content/bigartm/src/artm_tests/master_model_test.cc:95:5:\u001b[m\u001b[K   required from here\n",
      "\u001b[01m\u001b[K/content/bigartm/3rdparty/gtest/fused-src/gtest/gtest.h:18861:16:\u001b[m\u001b[K \u001b[01;35m\u001b[Kwarning: \u001b[m\u001b[Kcomparison between signed and unsigned integer expressions [\u001b[01;35m\u001b[K-Wsign-compare\u001b[m\u001b[K]\n",
      "   if (\u001b[01;35m\u001b[Kexpected == actual\u001b[m\u001b[K) {\n",
      "       \u001b[01;35m\u001b[K~~~~~~~~~^~~~~~~~~\u001b[m\u001b[K\n",
      "[ 93%] \u001b[32mBuilding CXX object src/artm_tests/CMakeFiles/artm_tests.dir/multiple_classes_test.cc.o\u001b[0m\n",
      "[ 93%] \u001b[32mBuilding CXX object src/artm_tests/CMakeFiles/artm_tests.dir/regularizers_test.cc.o\u001b[0m\n",
      "In file included from \u001b[01m\u001b[K/content/bigartm/src/artm_tests/regularizers_test.cc:6:0\u001b[m\u001b[K:\n",
      "/content/bigartm/3rdparty/gtest/fused-src/gtest/gtest.h: In instantiation of ‘\u001b[01m\u001b[Ktesting::AssertionResult testing::internal::CmpHelperEQ(const char*, const char*, const T1&, const T2&) [with T1 = long unsigned int; T2 = int]\u001b[m\u001b[K’:\n",
      "\u001b[01m\u001b[K/content/bigartm/3rdparty/gtest/fused-src/gtest/gtest.h:18897:23:\u001b[m\u001b[K   required from ‘\u001b[01m\u001b[Kstatic testing::AssertionResult testing::internal::EqHelper<lhs_is_null_literal>::Compare(const char*, const char*, const T1&, const T2&) [with T1 = long unsigned int; T2 = int; bool lhs_is_null_literal = false]\u001b[m\u001b[K’\n",
      "\u001b[01m\u001b[K/content/bigartm/src/artm_tests/regularizers_test.cc:377:5:\u001b[m\u001b[K   required from here\n",
      "\u001b[01m\u001b[K/content/bigartm/3rdparty/gtest/fused-src/gtest/gtest.h:18861:16:\u001b[m\u001b[K \u001b[01;35m\u001b[Kwarning: \u001b[m\u001b[Kcomparison between signed and unsigned integer expressions [\u001b[01;35m\u001b[K-Wsign-compare\u001b[m\u001b[K]\n",
      "   if (\u001b[01;35m\u001b[Kexpected == actual\u001b[m\u001b[K) {\n",
      "       \u001b[01;35m\u001b[K~~~~~~~~~^~~~~~~~~\u001b[m\u001b[K\n",
      "[ 93%] \u001b[32mBuilding CXX object src/artm_tests/CMakeFiles/artm_tests.dir/scores_test.cc.o\u001b[0m\n",
      "\u001b[01m\u001b[K/content/bigartm/src/artm_tests/scores_test.cc:\u001b[m\u001b[K In member function ‘\u001b[01m\u001b[Kvirtual void Scores_ScoreTrackerExportImport_Test::TestBody()\u001b[m\u001b[K’:\n",
      "\u001b[01m\u001b[K/content/bigartm/src/artm_tests/scores_test.cc:197:24:\u001b[m\u001b[K \u001b[01;35m\u001b[Kwarning: \u001b[m\u001b[Kcomparison between signed and unsigned integer expressions [\u001b[01;35m\u001b[K-Wsign-compare\u001b[m\u001b[K]\n",
      "   for (size_t i = 0; \u001b[01;35m\u001b[Ki < nPasses\u001b[m\u001b[K; ++i) {\n",
      "                      \u001b[01;35m\u001b[K~~^~~~~~~~~\u001b[m\u001b[K\n",
      "\u001b[01m\u001b[K/content/bigartm/src/artm_tests/scores_test.cc:204:24:\u001b[m\u001b[K \u001b[01;35m\u001b[Kwarning: \u001b[m\u001b[Kcomparison between signed and unsigned integer expressions [\u001b[01;35m\u001b[K-Wsign-compare\u001b[m\u001b[K]\n",
      "   for (size_t i = 0; \u001b[01;35m\u001b[Ki < nPasses\u001b[m\u001b[K; ++i) {\n",
      "                      \u001b[01;35m\u001b[K~~^~~~~~~~~\u001b[m\u001b[K\n",
      "[ 94%] \u001b[32mBuilding CXX object src/artm_tests/CMakeFiles/artm_tests.dir/repeatable_result_test.cc.o\u001b[0m\n",
      "In file included from \u001b[01m\u001b[K/content/bigartm/src/artm_tests/repeatable_result_test.cc:4:0\u001b[m\u001b[K:\n",
      "/content/bigartm/3rdparty/gtest/fused-src/gtest/gtest.h: In instantiation of ‘\u001b[01m\u001b[Ktesting::AssertionResult testing::internal::CmpHelperEQ(const char*, const char*, const T1&, const T2&) [with T1 = long unsigned int; T2 = int]\u001b[m\u001b[K’:\n",
      "\u001b[01m\u001b[K/content/bigartm/3rdparty/gtest/fused-src/gtest/gtest.h:18897:23:\u001b[m\u001b[K   required from ‘\u001b[01m\u001b[Kstatic testing::AssertionResult testing::internal::EqHelper<lhs_is_null_literal>::Compare(const char*, const char*, const T1&, const T2&) [with T1 = long unsigned int; T2 = int; bool lhs_is_null_literal = false]\u001b[m\u001b[K’\n",
      "\u001b[01m\u001b[K/content/bigartm/src/artm_tests/repeatable_result_test.cc:72:3:\u001b[m\u001b[K   required from here\n",
      "\u001b[01m\u001b[K/content/bigartm/3rdparty/gtest/fused-src/gtest/gtest.h:18861:16:\u001b[m\u001b[K \u001b[01;35m\u001b[Kwarning: \u001b[m\u001b[Kcomparison between signed and unsigned integer expressions [\u001b[01;35m\u001b[K-Wsign-compare\u001b[m\u001b[K]\n",
      "   if (\u001b[01;35m\u001b[Kexpected == actual\u001b[m\u001b[K) {\n",
      "       \u001b[01;35m\u001b[K~~~~~~~~~^~~~~~~~~\u001b[m\u001b[K\n",
      "[ 94%] \u001b[32mBuilding CXX object src/artm_tests/CMakeFiles/artm_tests.dir/supcry_test.cc.o\u001b[0m\n",
      "[ 94%] \u001b[32mBuilding CXX object src/artm_tests/CMakeFiles/artm_tests.dir/template_manager_test.cc.o\u001b[0m\n",
      "In file included from \u001b[01m\u001b[K/content/bigartm/src/artm_tests/template_manager_test.cc:8:0\u001b[m\u001b[K:\n",
      "\u001b[01m\u001b[K/content/bigartm/src/artm_tests/../artm/core/check_messages.h:\u001b[m\u001b[K In function ‘\u001b[01m\u001b[Kvoid artm::core::FixMessage(T*) [with T = artm::RegularizerConfig]\u001b[m\u001b[K’:\n",
      "\u001b[01m\u001b[K/content/bigartm/src/artm_tests/../artm/core/check_messages.h:553:28:\u001b[m\u001b[K \u001b[01;35m\u001b[Kwarning: \u001b[m\u001b[Ksuggest parentheses around ‘\u001b[01m\u001b[K&&\u001b[m\u001b[K’ within ‘\u001b[01m\u001b[K||\u001b[m\u001b[K’ [\u001b[01;35m\u001b[K-Wparentheses\u001b[m\u001b[K]\n",
      "   if (\u001b[01;35m\u001b[Kmessage->has_gamma() && (message->gamma() < 0)\u001b[m\u001b[K || (message->gamma() > 1)) {\n",
      "       \u001b[01;35m\u001b[K~~~~~~~~~~~~~~~~~~~~~^~~~~~~~~~~~~~~~~~~~~~~~~\u001b[m\u001b[K\n",
      "[ 95%] \u001b[32mBuilding CXX object src/artm_tests/CMakeFiles/artm_tests.dir/test_mother.cc.o\u001b[0m\n",
      "[ 95%] \u001b[32mBuilding CXX object src/artm_tests/CMakeFiles/artm_tests.dir/thread_safe_holder_test.cc.o\u001b[0m\n",
      "[ 96%] \u001b[32mBuilding CXX object src/artm_tests/CMakeFiles/artm_tests.dir/topic_seg_test.cc.o\u001b[0m\n",
      "[ 96%] \u001b[32mBuilding CXX object src/artm_tests/CMakeFiles/artm_tests.dir/transactions_test.cc.o\u001b[0m\n",
      "\u001b[01m\u001b[K/content/bigartm/src/artm_tests/transactions_test.cc:\u001b[m\u001b[K In member function ‘\u001b[01m\u001b[Kvirtual void Transactions_BasicTest_Test::TestBody()\u001b[m\u001b[K’:\n",
      "\u001b[01m\u001b[K/content/bigartm/src/artm_tests/transactions_test.cc:166:27:\u001b[m\u001b[K \u001b[01;35m\u001b[Kwarning: \u001b[m\u001b[Kcomparison between signed and unsigned integer expressions [\u001b[01;35m\u001b[K-Wsign-compare\u001b[m\u001b[K]\n",
      "         for (int x = 0; \u001b[01;35m\u001b[Kx < transactions.size()\u001b[m\u001b[K; ++x) {\n",
      "                         \u001b[01;35m\u001b[K~~^~~~~~~~~~~~~~~~~~~~~\u001b[m\u001b[K\n",
      "[ 96%] \u001b[32mBuilding CXX object src/artm_tests/CMakeFiles/artm_tests.dir/__/__/3rdparty/gtest/fused-src/gtest/gtest_main.cc.o\u001b[0m\n",
      "[ 97%] \u001b[32mBuilding CXX object src/artm_tests/CMakeFiles/artm_tests.dir/__/__/3rdparty/gtest/fused-src/gtest/gtest-all.cc.o\u001b[0m\n",
      "[ 97%] \u001b[32m\u001b[1mLinking CXX executable ../../bin/artm_tests\u001b[0m\n",
      "[ 97%] Built target artm_tests\n",
      "\u001b[35m\u001b[1mScanning dependencies of target bigartm\u001b[0m\n",
      "[ 97%] \u001b[32mBuilding CXX object src/bigartm/CMakeFiles/bigartm.dir/srcmain.cc.o\u001b[0m\n",
      "[ 98%] \u001b[32m\u001b[1mLinking CXX executable ../../bin/bigartm\u001b[0m\n",
      "[ 98%] Built target bigartm\n",
      "\u001b[35m\u001b[1mScanning dependencies of target python_bigartm_build\u001b[0m\n",
      "[ 98%] \u001b[34m\u001b[1mBuilding python package bigartm\u001b[0m\n",
      "running build\n",
      "Generating ./artm/wrapper/messages_pb2.py...\n",
      "Executing ['/content/bigartm/build/bin/protoc', '-I../src', '--python_out=./tmp7tcueb6q', '../src/./artm/messages.proto']...\n",
      "running build_py\n",
      "creating build\n",
      "creating build/lib\n",
      "creating build/lib/artm\n",
      "copying artm/batches_utils.py -> build/lib/artm\n",
      "copying artm/master_component.py -> build/lib/artm\n",
      "copying artm/score_tracker.py -> build/lib/artm\n",
      "copying artm/scores.py -> build/lib/artm\n",
      "copying artm/lda_model.py -> build/lib/artm\n",
      "copying artm/dictionary.py -> build/lib/artm\n",
      "copying artm/__init__.py -> build/lib/artm\n",
      "copying artm/artm_model.py -> build/lib/artm\n",
      "copying artm/hierarchy_utils.py -> build/lib/artm\n",
      "copying artm/regularizers.py -> build/lib/artm\n",
      "creating build/lib/artm/wrapper\n",
      "copying artm/wrapper/exceptions.py -> build/lib/artm/wrapper\n",
      "copying artm/wrapper/messages_pb2.py -> build/lib/artm/wrapper\n",
      "copying artm/wrapper/spec.py -> build/lib/artm/wrapper\n",
      "copying artm/wrapper/api.py -> build/lib/artm/wrapper\n",
      "copying artm/wrapper/utils.py -> build/lib/artm/wrapper\n",
      "copying artm/wrapper/constants.py -> build/lib/artm/wrapper\n",
      "copying artm/wrapper/__init__.py -> build/lib/artm/wrapper\n",
      "[ 98%] Built target python_bigartm_build\n",
      "\u001b[35m\u001b[1mScanning dependencies of target python_bigartm_wheel\u001b[0m\n",
      "[100%] \u001b[34m\u001b[1mBuilding wheel bigartm\u001b[0m\n",
      "running bdist_wheel\n",
      "running build\n",
      "running build_py\n",
      "running build_ext\n",
      "installing to build/bdist.linux-x86_64/wheel\n",
      "running install\n",
      "running install_lib\n",
      "creating build/bdist.linux-x86_64\n",
      "creating build/bdist.linux-x86_64/wheel\n",
      "creating build/bdist.linux-x86_64/wheel/bigartm-0.10.0.data\n",
      "creating build/bdist.linux-x86_64/wheel/bigartm-0.10.0.data/purelib\n",
      "creating build/bdist.linux-x86_64/wheel/bigartm-0.10.0.data/purelib/artm\n",
      "copying build/lib/artm/batches_utils.py -> build/bdist.linux-x86_64/wheel/bigartm-0.10.0.data/purelib/artm\n",
      "copying build/lib/artm/master_component.py -> build/bdist.linux-x86_64/wheel/bigartm-0.10.0.data/purelib/artm\n",
      "creating build/bdist.linux-x86_64/wheel/bigartm-0.10.0.data/purelib/artm/wrapper\n",
      "copying build/lib/artm/wrapper/exceptions.py -> build/bdist.linux-x86_64/wheel/bigartm-0.10.0.data/purelib/artm/wrapper\n",
      "copying build/lib/artm/wrapper/messages_pb2.py -> build/bdist.linux-x86_64/wheel/bigartm-0.10.0.data/purelib/artm/wrapper\n",
      "copying build/lib/artm/wrapper/spec.py -> build/bdist.linux-x86_64/wheel/bigartm-0.10.0.data/purelib/artm/wrapper\n",
      "copying build/lib/artm/wrapper/api.py -> build/bdist.linux-x86_64/wheel/bigartm-0.10.0.data/purelib/artm/wrapper\n",
      "copying build/lib/artm/wrapper/utils.py -> build/bdist.linux-x86_64/wheel/bigartm-0.10.0.data/purelib/artm/wrapper\n",
      "copying build/lib/artm/wrapper/constants.py -> build/bdist.linux-x86_64/wheel/bigartm-0.10.0.data/purelib/artm/wrapper\n",
      "copying build/lib/artm/wrapper/__init__.py -> build/bdist.linux-x86_64/wheel/bigartm-0.10.0.data/purelib/artm/wrapper\n",
      "copying build/lib/artm/score_tracker.py -> build/bdist.linux-x86_64/wheel/bigartm-0.10.0.data/purelib/artm\n",
      "copying build/lib/artm/scores.py -> build/bdist.linux-x86_64/wheel/bigartm-0.10.0.data/purelib/artm\n",
      "copying build/lib/artm/lda_model.py -> build/bdist.linux-x86_64/wheel/bigartm-0.10.0.data/purelib/artm\n",
      "copying build/lib/artm/dictionary.py -> build/bdist.linux-x86_64/wheel/bigartm-0.10.0.data/purelib/artm\n",
      "copying build/lib/artm/__init__.py -> build/bdist.linux-x86_64/wheel/bigartm-0.10.0.data/purelib/artm\n",
      "copying build/lib/artm/libartm.so -> build/bdist.linux-x86_64/wheel/bigartm-0.10.0.data/purelib/artm\n",
      "copying build/lib/artm/artm_model.py -> build/bdist.linux-x86_64/wheel/bigartm-0.10.0.data/purelib/artm\n",
      "copying build/lib/artm/hierarchy_utils.py -> build/bdist.linux-x86_64/wheel/bigartm-0.10.0.data/purelib/artm\n",
      "copying build/lib/artm/regularizers.py -> build/bdist.linux-x86_64/wheel/bigartm-0.10.0.data/purelib/artm\n",
      "running install_egg_info\n",
      "running egg_info\n",
      "creating bigartm.egg-info\n",
      "writing bigartm.egg-info/PKG-INFO\n",
      "writing dependency_links to bigartm.egg-info/dependency_links.txt\n",
      "writing requirements to bigartm.egg-info/requires.txt\n",
      "writing top-level names to bigartm.egg-info/top_level.txt\n",
      "writing manifest file 'bigartm.egg-info/SOURCES.txt'\n",
      "writing manifest file 'bigartm.egg-info/SOURCES.txt'\n",
      "Copying bigartm.egg-info to build/bdist.linux-x86_64/wheel/bigartm-0.10.0.data/purelib/bigartm-0.10.0-py3.6.egg-info\n",
      "running install_scripts\n",
      "creating build/bdist.linux-x86_64/wheel/bigartm-0.10.0.dist-info/WHEEL\n",
      "creating '/content/bigartm/build/python/bigartm-0.10.0-cp36-cp36m-linux_x86_64.whl' and adding 'build/bdist.linux-x86_64/wheel' to it\n",
      "adding 'bigartm-0.10.0.data/purelib/artm/__init__.py'\n",
      "adding 'bigartm-0.10.0.data/purelib/artm/artm_model.py'\n",
      "adding 'bigartm-0.10.0.data/purelib/artm/batches_utils.py'\n",
      "adding 'bigartm-0.10.0.data/purelib/artm/dictionary.py'\n",
      "adding 'bigartm-0.10.0.data/purelib/artm/hierarchy_utils.py'\n",
      "adding 'bigartm-0.10.0.data/purelib/artm/lda_model.py'\n",
      "adding 'bigartm-0.10.0.data/purelib/artm/libartm.so'\n",
      "adding 'bigartm-0.10.0.data/purelib/artm/master_component.py'\n",
      "adding 'bigartm-0.10.0.data/purelib/artm/regularizers.py'\n",
      "adding 'bigartm-0.10.0.data/purelib/artm/score_tracker.py'\n",
      "adding 'bigartm-0.10.0.data/purelib/artm/scores.py'\n",
      "adding 'bigartm-0.10.0.data/purelib/artm/wrapper/__init__.py'\n",
      "adding 'bigartm-0.10.0.data/purelib/artm/wrapper/api.py'\n",
      "adding 'bigartm-0.10.0.data/purelib/artm/wrapper/constants.py'\n",
      "adding 'bigartm-0.10.0.data/purelib/artm/wrapper/exceptions.py'\n",
      "adding 'bigartm-0.10.0.data/purelib/artm/wrapper/messages_pb2.py'\n",
      "adding 'bigartm-0.10.0.data/purelib/artm/wrapper/spec.py'\n",
      "adding 'bigartm-0.10.0.data/purelib/artm/wrapper/utils.py'\n",
      "adding 'bigartm-0.10.0.dist-info/METADATA'\n",
      "adding 'bigartm-0.10.0.dist-info/WHEEL'\n",
      "adding 'bigartm-0.10.0.dist-info/top_level.txt'\n",
      "adding 'bigartm-0.10.0.dist-info/RECORD'\n",
      "removing build/bdist.linux-x86_64/wheel\n",
      "[100%] Built target python_bigartm_wheel\n"
     ]
    }
   ],
   "source": [
    "!make"
   ]
  },
  {
   "cell_type": "code",
   "execution_count": null,
   "metadata": {
    "colab": {
     "base_uri": "https://localhost:8080/"
    },
    "id": "jO53qbjQGmRf",
    "outputId": "6960dda1-e8ef-439e-a510-c605343f3c1b"
   },
   "outputs": [
    {
     "name": "stdout",
     "output_type": "stream",
     "text": [
      "[ 28%] Built target libprotobuf\n",
      "[ 61%] Built target libprotoc\n",
      "[ 63%] Built target protoc\n",
      "[ 63%] Built target proto_generation\n",
      "[ 64%] Built target internals_proto\n",
      "[ 65%] Built target gflags_static\n",
      "[ 68%] Built target glog\n",
      "[ 69%] Built target messages_proto\n",
      "[ 89%] Built target artm-static\n",
      "[ 90%] Built target artm\n",
      "[ 97%] Built target artm_tests\n",
      "[ 98%] Built target bigartm\n",
      "[ 98%] \u001b[34m\u001b[1mBuilding python package bigartm\u001b[0m\n",
      "running build\n",
      "running build_py\n",
      "[ 98%] Built target python_bigartm_build\n",
      "[100%] \u001b[34m\u001b[1mBuilding wheel bigartm\u001b[0m\n",
      "running bdist_wheel\n",
      "running build\n",
      "running build_py\n",
      "running build_ext\n",
      "installing to build/bdist.linux-x86_64/wheel\n",
      "running install\n",
      "running install_lib\n",
      "creating build/bdist.linux-x86_64/wheel\n",
      "creating build/bdist.linux-x86_64/wheel/bigartm-0.10.0.data\n",
      "creating build/bdist.linux-x86_64/wheel/bigartm-0.10.0.data/purelib\n",
      "creating build/bdist.linux-x86_64/wheel/bigartm-0.10.0.data/purelib/artm\n",
      "copying build/lib/artm/batches_utils.py -> build/bdist.linux-x86_64/wheel/bigartm-0.10.0.data/purelib/artm\n",
      "copying build/lib/artm/master_component.py -> build/bdist.linux-x86_64/wheel/bigartm-0.10.0.data/purelib/artm\n",
      "creating build/bdist.linux-x86_64/wheel/bigartm-0.10.0.data/purelib/artm/wrapper\n",
      "copying build/lib/artm/wrapper/exceptions.py -> build/bdist.linux-x86_64/wheel/bigartm-0.10.0.data/purelib/artm/wrapper\n",
      "copying build/lib/artm/wrapper/messages_pb2.py -> build/bdist.linux-x86_64/wheel/bigartm-0.10.0.data/purelib/artm/wrapper\n",
      "copying build/lib/artm/wrapper/spec.py -> build/bdist.linux-x86_64/wheel/bigartm-0.10.0.data/purelib/artm/wrapper\n",
      "copying build/lib/artm/wrapper/api.py -> build/bdist.linux-x86_64/wheel/bigartm-0.10.0.data/purelib/artm/wrapper\n",
      "copying build/lib/artm/wrapper/utils.py -> build/bdist.linux-x86_64/wheel/bigartm-0.10.0.data/purelib/artm/wrapper\n",
      "copying build/lib/artm/wrapper/constants.py -> build/bdist.linux-x86_64/wheel/bigartm-0.10.0.data/purelib/artm/wrapper\n",
      "copying build/lib/artm/wrapper/__init__.py -> build/bdist.linux-x86_64/wheel/bigartm-0.10.0.data/purelib/artm/wrapper\n",
      "copying build/lib/artm/score_tracker.py -> build/bdist.linux-x86_64/wheel/bigartm-0.10.0.data/purelib/artm\n",
      "copying build/lib/artm/scores.py -> build/bdist.linux-x86_64/wheel/bigartm-0.10.0.data/purelib/artm\n",
      "copying build/lib/artm/lda_model.py -> build/bdist.linux-x86_64/wheel/bigartm-0.10.0.data/purelib/artm\n",
      "copying build/lib/artm/dictionary.py -> build/bdist.linux-x86_64/wheel/bigartm-0.10.0.data/purelib/artm\n",
      "copying build/lib/artm/__init__.py -> build/bdist.linux-x86_64/wheel/bigartm-0.10.0.data/purelib/artm\n",
      "copying build/lib/artm/libartm.so -> build/bdist.linux-x86_64/wheel/bigartm-0.10.0.data/purelib/artm\n",
      "copying build/lib/artm/artm_model.py -> build/bdist.linux-x86_64/wheel/bigartm-0.10.0.data/purelib/artm\n",
      "copying build/lib/artm/hierarchy_utils.py -> build/bdist.linux-x86_64/wheel/bigartm-0.10.0.data/purelib/artm\n",
      "copying build/lib/artm/regularizers.py -> build/bdist.linux-x86_64/wheel/bigartm-0.10.0.data/purelib/artm\n",
      "running install_egg_info\n",
      "running egg_info\n",
      "writing bigartm.egg-info/PKG-INFO\n",
      "writing dependency_links to bigartm.egg-info/dependency_links.txt\n",
      "writing requirements to bigartm.egg-info/requires.txt\n",
      "writing top-level names to bigartm.egg-info/top_level.txt\n",
      "writing manifest file 'bigartm.egg-info/SOURCES.txt'\n",
      "Copying bigartm.egg-info to build/bdist.linux-x86_64/wheel/bigartm-0.10.0.data/purelib/bigartm-0.10.0-py3.6.egg-info\n",
      "running install_scripts\n",
      "creating build/bdist.linux-x86_64/wheel/bigartm-0.10.0.dist-info/WHEEL\n",
      "creating '/content/bigartm/build/python/bigartm-0.10.0-cp36-cp36m-linux_x86_64.whl' and adding 'build/bdist.linux-x86_64/wheel' to it\n",
      "adding 'bigartm-0.10.0.data/purelib/artm/__init__.py'\n",
      "adding 'bigartm-0.10.0.data/purelib/artm/artm_model.py'\n",
      "adding 'bigartm-0.10.0.data/purelib/artm/batches_utils.py'\n",
      "adding 'bigartm-0.10.0.data/purelib/artm/dictionary.py'\n",
      "adding 'bigartm-0.10.0.data/purelib/artm/hierarchy_utils.py'\n",
      "adding 'bigartm-0.10.0.data/purelib/artm/lda_model.py'\n",
      "adding 'bigartm-0.10.0.data/purelib/artm/libartm.so'\n",
      "adding 'bigartm-0.10.0.data/purelib/artm/master_component.py'\n",
      "adding 'bigartm-0.10.0.data/purelib/artm/regularizers.py'\n",
      "adding 'bigartm-0.10.0.data/purelib/artm/score_tracker.py'\n",
      "adding 'bigartm-0.10.0.data/purelib/artm/scores.py'\n",
      "adding 'bigartm-0.10.0.data/purelib/artm/wrapper/__init__.py'\n",
      "adding 'bigartm-0.10.0.data/purelib/artm/wrapper/api.py'\n",
      "adding 'bigartm-0.10.0.data/purelib/artm/wrapper/constants.py'\n",
      "adding 'bigartm-0.10.0.data/purelib/artm/wrapper/exceptions.py'\n",
      "adding 'bigartm-0.10.0.data/purelib/artm/wrapper/messages_pb2.py'\n",
      "adding 'bigartm-0.10.0.data/purelib/artm/wrapper/spec.py'\n",
      "adding 'bigartm-0.10.0.data/purelib/artm/wrapper/utils.py'\n",
      "adding 'bigartm-0.10.0.dist-info/METADATA'\n",
      "adding 'bigartm-0.10.0.dist-info/WHEEL'\n",
      "adding 'bigartm-0.10.0.dist-info/top_level.txt'\n",
      "adding 'bigartm-0.10.0.dist-info/RECORD'\n",
      "removing build/bdist.linux-x86_64/wheel\n",
      "[100%] Built target python_bigartm_wheel\n",
      "\u001b[36mInstall the project...\u001b[0m\n",
      "-- Install configuration: \"Release\"\n",
      "-- Installing: /usr/local/lib/libartm.so\n",
      "-- Installing: /usr/local/include/artm/c_interface.h\n",
      "-- Installing: /usr/local/include/artm/cpp_interface.h\n",
      "-- Installing: /usr/local/include/artm/messages.pb.h\n",
      "-- Installing: /usr/local/include/artm/messages.proto\n",
      "-- Installing: /usr/local/include/artm/artm_export.h\n",
      "-- Installing: /usr/local/lib/cmake/artm/artm-targets.cmake\n",
      "-- Installing: /usr/local/lib/cmake/artm/artm-targets-release.cmake\n",
      "-- Installing: /usr/local/lib/cmake/artm/artm-config.cmake\n",
      "-- Installing: /usr/local/include/artm/google/protobuf/any.h\n",
      "-- Installing: /usr/local/include/artm/google/protobuf/any.pb.h\n",
      "-- Installing: /usr/local/include/artm/google/protobuf/api.pb.h\n",
      "-- Installing: /usr/local/include/artm/google/protobuf/arena.h\n",
      "-- Installing: /usr/local/include/artm/google/protobuf/arenastring.h\n",
      "-- Installing: /usr/local/include/artm/google/protobuf/compiler/code_generator.h\n",
      "-- Installing: /usr/local/include/artm/google/protobuf/compiler/command_line_interface.h\n",
      "-- Installing: /usr/local/include/artm/google/protobuf/compiler/cpp/cpp_generator.h\n",
      "-- Installing: /usr/local/include/artm/google/protobuf/compiler/csharp/csharp_generator.h\n",
      "-- Installing: /usr/local/include/artm/google/protobuf/compiler/csharp/csharp_names.h\n",
      "-- Installing: /usr/local/include/artm/google/protobuf/compiler/csharp/csharp_options.h\n",
      "-- Installing: /usr/local/include/artm/google/protobuf/compiler/importer.h\n",
      "-- Installing: /usr/local/include/artm/google/protobuf/compiler/java/java_generator.h\n",
      "-- Installing: /usr/local/include/artm/google/protobuf/compiler/java/java_names.h\n",
      "-- Installing: /usr/local/include/artm/google/protobuf/compiler/javanano/javanano_generator.h\n",
      "-- Installing: /usr/local/include/artm/google/protobuf/compiler/js/js_generator.h\n",
      "-- Installing: /usr/local/include/artm/google/protobuf/compiler/objectivec/objectivec_generator.h\n",
      "-- Installing: /usr/local/include/artm/google/protobuf/compiler/objectivec/objectivec_helpers.h\n",
      "-- Installing: /usr/local/include/artm/google/protobuf/compiler/parser.h\n",
      "-- Installing: /usr/local/include/artm/google/protobuf/compiler/plugin.h\n",
      "-- Installing: /usr/local/include/artm/google/protobuf/compiler/plugin.pb.h\n",
      "-- Installing: /usr/local/include/artm/google/protobuf/compiler/python/python_generator.h\n",
      "-- Installing: /usr/local/include/artm/google/protobuf/compiler/ruby/ruby_generator.h\n",
      "-- Installing: /usr/local/include/artm/google/protobuf/descriptor.h\n",
      "-- Installing: /usr/local/include/artm/google/protobuf/descriptor.pb.h\n",
      "-- Installing: /usr/local/include/artm/google/protobuf/descriptor_database.h\n",
      "-- Installing: /usr/local/include/artm/google/protobuf/duration.pb.h\n",
      "-- Installing: /usr/local/include/artm/google/protobuf/dynamic_message.h\n",
      "-- Installing: /usr/local/include/artm/google/protobuf/empty.pb.h\n",
      "-- Installing: /usr/local/include/artm/google/protobuf/extension_set.h\n",
      "-- Installing: /usr/local/include/artm/google/protobuf/field_mask.pb.h\n",
      "-- Installing: /usr/local/include/artm/google/protobuf/generated_enum_reflection.h\n",
      "-- Installing: /usr/local/include/artm/google/protobuf/generated_enum_util.h\n",
      "-- Installing: /usr/local/include/artm/google/protobuf/generated_message_reflection.h\n",
      "-- Installing: /usr/local/include/artm/google/protobuf/generated_message_util.h\n",
      "-- Installing: /usr/local/include/artm/google/protobuf/io/coded_stream.h\n",
      "-- Installing: /usr/local/include/artm/google/protobuf/io/gzip_stream.h\n",
      "-- Installing: /usr/local/include/artm/google/protobuf/io/printer.h\n",
      "-- Installing: /usr/local/include/artm/google/protobuf/io/strtod.h\n",
      "-- Installing: /usr/local/include/artm/google/protobuf/io/tokenizer.h\n",
      "-- Installing: /usr/local/include/artm/google/protobuf/io/zero_copy_stream.h\n",
      "-- Installing: /usr/local/include/artm/google/protobuf/io/zero_copy_stream_impl.h\n",
      "-- Installing: /usr/local/include/artm/google/protobuf/io/zero_copy_stream_impl_lite.h\n",
      "-- Installing: /usr/local/include/artm/google/protobuf/map.h\n",
      "-- Installing: /usr/local/include/artm/google/protobuf/map_entry.h\n",
      "-- Installing: /usr/local/include/artm/google/protobuf/map_entry_lite.h\n",
      "-- Installing: /usr/local/include/artm/google/protobuf/map_field.h\n",
      "-- Installing: /usr/local/include/artm/google/protobuf/map_field_inl.h\n",
      "-- Installing: /usr/local/include/artm/google/protobuf/map_field_lite.h\n",
      "-- Installing: /usr/local/include/artm/google/protobuf/map_type_handler.h\n",
      "-- Installing: /usr/local/include/artm/google/protobuf/message.h\n",
      "-- Installing: /usr/local/include/artm/google/protobuf/message_lite.h\n",
      "-- Installing: /usr/local/include/artm/google/protobuf/metadata.h\n",
      "-- Installing: /usr/local/include/artm/google/protobuf/reflection.h\n",
      "-- Installing: /usr/local/include/artm/google/protobuf/reflection_ops.h\n",
      "-- Installing: /usr/local/include/artm/google/protobuf/repeated_field.h\n",
      "-- Installing: /usr/local/include/artm/google/protobuf/service.h\n",
      "-- Installing: /usr/local/include/artm/google/protobuf/source_context.pb.h\n",
      "-- Installing: /usr/local/include/artm/google/protobuf/struct.pb.h\n",
      "-- Installing: /usr/local/include/artm/google/protobuf/stubs/atomic_sequence_num.h\n",
      "-- Installing: /usr/local/include/artm/google/protobuf/stubs/atomicops.h\n",
      "-- Installing: /usr/local/include/artm/google/protobuf/stubs/atomicops_internals_arm64_gcc.h\n",
      "-- Installing: /usr/local/include/artm/google/protobuf/stubs/atomicops_internals_arm_gcc.h\n",
      "-- Installing: /usr/local/include/artm/google/protobuf/stubs/atomicops_internals_arm_qnx.h\n",
      "-- Installing: /usr/local/include/artm/google/protobuf/stubs/atomicops_internals_atomicword_compat.h\n",
      "-- Installing: /usr/local/include/artm/google/protobuf/stubs/atomicops_internals_generic_gcc.h\n",
      "-- Installing: /usr/local/include/artm/google/protobuf/stubs/atomicops_internals_macosx.h\n",
      "-- Installing: /usr/local/include/artm/google/protobuf/stubs/atomicops_internals_mips_gcc.h\n",
      "-- Installing: /usr/local/include/artm/google/protobuf/stubs/atomicops_internals_pnacl.h\n",
      "-- Installing: /usr/local/include/artm/google/protobuf/stubs/atomicops_internals_power.h\n",
      "-- Installing: /usr/local/include/artm/google/protobuf/stubs/atomicops_internals_solaris.h\n",
      "-- Installing: /usr/local/include/artm/google/protobuf/stubs/atomicops_internals_tsan.h\n",
      "-- Installing: /usr/local/include/artm/google/protobuf/stubs/atomicops_internals_x86_gcc.h\n",
      "-- Installing: /usr/local/include/artm/google/protobuf/stubs/atomicops_internals_x86_msvc.h\n",
      "-- Installing: /usr/local/include/artm/google/protobuf/stubs/bytestream.h\n",
      "-- Installing: /usr/local/include/artm/google/protobuf/stubs/callback.h\n",
      "-- Installing: /usr/local/include/artm/google/protobuf/stubs/casts.h\n",
      "-- Installing: /usr/local/include/artm/google/protobuf/stubs/common.h\n",
      "-- Installing: /usr/local/include/artm/google/protobuf/stubs/fastmem.h\n",
      "-- Installing: /usr/local/include/artm/google/protobuf/stubs/hash.h\n",
      "-- Installing: /usr/local/include/artm/google/protobuf/stubs/logging.h\n",
      "-- Installing: /usr/local/include/artm/google/protobuf/stubs/macros.h\n",
      "-- Installing: /usr/local/include/artm/google/protobuf/stubs/mutex.h\n",
      "-- Installing: /usr/local/include/artm/google/protobuf/stubs/once.h\n",
      "-- Installing: /usr/local/include/artm/google/protobuf/stubs/platform_macros.h\n",
      "-- Installing: /usr/local/include/artm/google/protobuf/stubs/port.h\n",
      "-- Installing: /usr/local/include/artm/google/protobuf/stubs/scoped_ptr.h\n",
      "-- Installing: /usr/local/include/artm/google/protobuf/stubs/shared_ptr.h\n",
      "-- Installing: /usr/local/include/artm/google/protobuf/stubs/singleton.h\n",
      "-- Installing: /usr/local/include/artm/google/protobuf/stubs/status.h\n",
      "-- Installing: /usr/local/include/artm/google/protobuf/stubs/stl_util.h\n",
      "-- Installing: /usr/local/include/artm/google/protobuf/stubs/stringpiece.h\n",
      "-- Installing: /usr/local/include/artm/google/protobuf/stubs/template_util.h\n",
      "-- Installing: /usr/local/include/artm/google/protobuf/stubs/type_traits.h\n",
      "-- Installing: /usr/local/include/artm/google/protobuf/text_format.h\n",
      "-- Installing: /usr/local/include/artm/google/protobuf/timestamp.pb.h\n",
      "-- Installing: /usr/local/include/artm/google/protobuf/type.pb.h\n",
      "-- Installing: /usr/local/include/artm/google/protobuf/unknown_field_set.h\n",
      "-- Installing: /usr/local/include/artm/google/protobuf/util/field_comparator.h\n",
      "-- Installing: /usr/local/include/artm/google/protobuf/util/field_mask_util.h\n",
      "-- Installing: /usr/local/include/artm/google/protobuf/util/json_util.h\n",
      "-- Installing: /usr/local/include/artm/google/protobuf/util/message_differencer.h\n",
      "-- Installing: /usr/local/include/artm/google/protobuf/util/time_util.h\n",
      "-- Installing: /usr/local/include/artm/google/protobuf/util/type_resolver.h\n",
      "-- Installing: /usr/local/include/artm/google/protobuf/util/type_resolver_util.h\n",
      "-- Installing: /usr/local/include/artm/google/protobuf/wire_format.h\n",
      "-- Installing: /usr/local/include/artm/google/protobuf/wire_format_lite.h\n",
      "-- Installing: /usr/local/include/artm/google/protobuf/wire_format_lite_inl.h\n",
      "-- Installing: /usr/local/include/artm/google/protobuf/wrappers.pb.h\n",
      "-- Installing: /usr/local/include/artm/google/protobuf/descriptor.proto\n",
      "-- Installing: /usr/local/include/artm/google/protobuf/any.proto\n",
      "-- Installing: /usr/local/include/artm/google/protobuf/api.proto\n",
      "-- Installing: /usr/local/include/artm/google/protobuf/duration.proto\n",
      "-- Installing: /usr/local/include/artm/google/protobuf/empty.proto\n",
      "-- Installing: /usr/local/include/artm/google/protobuf/field_mask.proto\n",
      "-- Installing: /usr/local/include/artm/google/protobuf/source_context.proto\n",
      "-- Installing: /usr/local/include/artm/google/protobuf/struct.proto\n",
      "-- Installing: /usr/local/include/artm/google/protobuf/timestamp.proto\n",
      "-- Installing: /usr/local/include/artm/google/protobuf/type.proto\n",
      "-- Installing: /usr/local/include/artm/google/protobuf/wrappers.proto\n",
      "-- Installing: /usr/local/include/artm/google/protobuf/compiler/plugin.proto\n",
      "-- Installing: /usr/local/bin/bigartm\n"
     ]
    }
   ],
   "source": [
    "!make install"
   ]
  },
  {
   "cell_type": "code",
   "execution_count": null,
   "metadata": {
    "colab": {
     "base_uri": "https://localhost:8080/"
    },
    "id": "2dRbHpw4LRZZ",
    "outputId": "e281a98f-eec6-4258-e460-ab34a914f86f"
   },
   "outputs": [
    {
     "name": "stdout",
     "output_type": "stream",
     "text": [
      "Processing ./python/bigartm-0.10.0-cp36-cp36m-linux_x86_64.whl\n",
      "Requirement already satisfied: numpy in /usr/local/lib/python3.6/dist-packages (from bigartm==0.10.0) (1.18.5)\n",
      "Requirement already satisfied: pandas in /usr/local/lib/python3.6/dist-packages (from bigartm==0.10.0) (1.1.4)\n",
      "Requirement already satisfied: python-dateutil>=2.7.3 in /usr/local/lib/python3.6/dist-packages (from pandas->bigartm==0.10.0) (2.8.1)\n",
      "Requirement already satisfied: pytz>=2017.2 in /usr/local/lib/python3.6/dist-packages (from pandas->bigartm==0.10.0) (2018.9)\n",
      "Requirement already satisfied: six>=1.5 in /usr/local/lib/python3.6/dist-packages (from python-dateutil>=2.7.3->pandas->bigartm==0.10.0) (1.15.0)\n",
      "Installing collected packages: bigartm\n",
      "Successfully installed bigartm-0.10.0\n"
     ]
    }
   ],
   "source": [
    "!pip install python/bigartm*.whl\n"
   ]
  },
  {
   "cell_type": "markdown",
   "metadata": {
    "id": "kcBGKDi_jmZt"
   },
   "source": [
    "### Тематические модели в BigARTM"
   ]
  },
  {
   "cell_type": "code",
   "execution_count": null,
   "metadata": {
    "id": "Agl7TVTSf6Ms"
   },
   "outputs": [],
   "source": [
    "import artm"
   ]
  },
  {
   "cell_type": "code",
   "execution_count": null,
   "metadata": {
    "colab": {
     "base_uri": "https://localhost:8080/",
     "height": 35
    },
    "id": "DFS8zf1zLWxg",
    "outputId": "7705588e-6e5f-46a9-df9e-cb3fab683e22"
   },
   "outputs": [
    {
     "data": {
      "application/vnd.google.colaboratory.intrinsic+json": {
       "type": "string"
      },
      "text/plain": [
       "'0.10.0'"
      ]
     },
     "execution_count": 19,
     "metadata": {
      "tags": []
     },
     "output_type": "execute_result"
    }
   ],
   "source": [
    "artm.version()"
   ]
  },
  {
   "cell_type": "code",
   "execution_count": null,
   "metadata": {
    "colab": {
     "base_uri": "https://localhost:8080/"
    },
    "id": "fZcj6ZxZLdhJ",
    "outputId": "8352ca56-33bd-47c8-8171-b2274d5c378c"
   },
   "outputs": [
    {
     "data": {
      "text/plain": [
       "config {\n",
       "  topic_name: \"topic_0\"\n",
       "  topic_name: \"topic_1\"\n",
       "  topic_name: \"topic_2\"\n",
       "  topic_name: \"topic_3\"\n",
       "  topic_name: \"topic_4\"\n",
       "  topic_name: \"topic_5\"\n",
       "  topic_name: \"topic_6\"\n",
       "  topic_name: \"topic_7\"\n",
       "  topic_name: \"topic_8\"\n",
       "  topic_name: \"topic_9\"\n",
       "  score_config {\n",
       "    name: \"^^^ItemsProcessedScore^^^\"\n",
       "    type: ScoreType_ItemsProcessed\n",
       "    config: \"\"\n",
       "  }\n",
       "  pwt_name: \"pwt\"\n",
       "  nwt_name: \"nwt\"\n",
       "  num_document_passes: 10\n",
       "  reuse_theta: false\n",
       "  cache_theta: false\n",
       "}\n",
       "score {\n",
       "  name: \"^^^ItemsProcessedScore^^^\"\n",
       "  type: \"N4artm5score14ItemsProcessedE\"\n",
       "}\n",
       "processor_queue_size: 0\n",
       "num_processors: 2"
      ]
     },
     "execution_count": 20,
     "metadata": {
      "tags": []
     },
     "output_type": "execute_result"
    }
   ],
   "source": [
    "artm.ARTM(num_topics=10).info"
   ]
  },
  {
   "cell_type": "markdown",
   "metadata": {
    "id": "pXA093Vnf6Ms"
   },
   "source": [
    "Чтобы работать с данными в библиотеке ARTM нужно сперва сделать препроцессинг (мы уже сделали его ранее) и записать данные в [одном из форматов](https://bigartm.readthedocs.io/en/v0.10.1/tutorials/datasets.html), с которыми умеет работать библиотека. Мы конвертируем данные в формат vowpal wabbit:"
   ]
  },
  {
   "cell_type": "markdown",
   "metadata": {
    "id": "ikEDbE7Wf6Ms"
   },
   "source": [
    "doc1 this text will be processed not as bag of words | Some_Author"
   ]
  },
  {
   "cell_type": "code",
   "execution_count": null,
   "metadata": {
    "id": "e2z0iUI9eT_4"
   },
   "outputs": [],
   "source": [
    "data['text'] = data['text'].apply(lambda x: ' '.join(x))"
   ]
  },
  {
   "cell_type": "code",
   "execution_count": null,
   "metadata": {
    "colab": {
     "base_uri": "https://localhost:8080/"
    },
    "id": "tyekj82IeN_h",
    "outputId": "7097de6b-a756-4793-a41d-05c080c5eaf2"
   },
   "outputs": [
    {
     "data": {
      "text/plain": [
       "title    Болельщики «Ростова» выдадут фанатам МЮ теплые пледы                                                                                                                                                                                                                                                                                                                                                                                                                                                                                                                                                                                                                                                                                                                                                                  \n",
       "topic    Спорт                                                                                                                                                                                                                                                                                                                                                                                                                                                                                                                                                                                                                                                                                                                                                                                                                 \n",
       "text     болельщик ростов домашний матч финал лига европа против манчестер юнайтед выдать тёплый плед фанат английский команда это сообщаться группа поклонник ростовчанин вконтакте весь известно погода март непредсказуемый гостеприимный хозяин должный позаботиться свой гость следующий год ожидать исторический событие чемпионат мир год дать акция хотеть подать пример весь житель наш страна самый главное развенчать миф небезопасно говориться сообщение первый поединок противостояние пройти четверг март начало встреча московский время март пресс служба ростов twitter посоветовать футболист отказаться шапка ушанка день это манкунианец предупредить свой болельщик возможный нападение россиянин середина февраль британский телевидение выйти фильм который рассказываться фанатский группировка россия\n",
       "tags     Футбол                                                                                                                                                                                                                                                                                                                                                                                                                                                                                                                                                                                                                                                                                                                                                                                                                \n",
       "Name: 89793, dtype: object"
      ]
     },
     "execution_count": 43,
     "metadata": {
      "tags": []
     },
     "output_type": "execute_result"
    }
   ],
   "source": [
    "i = 0\n",
    "d = data.iloc[i]\n",
    "d"
   ]
  },
  {
   "cell_type": "code",
   "execution_count": 2,
   "metadata": {
    "colab": {
     "base_uri": "https://localhost:8080/"
    },
    "id": "xKp4s9ow9nzr",
    "outputId": "8026baf3-9888-4657-aaff-2696314fd163"
   },
   "outputs": [
    {
     "name": "stdout",
     "output_type": "stream",
     "text": [
      "\n",
      "doc0 болельщик ростов домашний матч финал лига европа против манчестер юнайтед выдать тёплый плед фанат английский команда это сообщаться группа поклонник ростовчанин вконтакте весь известно погода март непредсказуемый гостеприимный хозяин должный позаботиться свой гость следующий год ожидать исторический событие чемпионат мир год дать акция хотеть подать пример весь житель наш страна самый главное развенчать миф небезопасно говориться сообщение первый поединок противостояние пройти четверг март начало встреча московский время март пресс служба ростов twitter посоветовать футболист отказаться шапка ушанка день это манкунианец предупредить свой болельщик возможный нападение россиянин середина февраль британский телевидение выйти фильм который рассказываться фанатский группировка россия |topic Спорт\n",
      "\n"
     ]
    }
   ],
   "source": [
    "f'doc{i} {d.text} |topic {d.topic}'"
   ]
  },
  {
   "cell_type": "code",
   "execution_count": null,
   "metadata": {
    "id": "vhDjcHEvf6Ms"
   },
   "outputs": [],
   "source": [
    "def convert_to_vw_format(index, row):\n",
    "    return f'doc{index} {row.text} |topic {row.topic}'"
   ]
  },
  {
   "cell_type": "code",
   "execution_count": null,
   "metadata": {
    "id": "TVq5_jO1f6Mt"
   },
   "outputs": [],
   "source": [
    "with open('lenta_wv.wv', 'w') as f:\n",
    "    for index, row in data.iterrows():\n",
    "        vw_string = convert_to_vw_format(index, row)\n",
    "        f.write(vw_string)\n",
    "        f.write('\\n')"
   ]
  },
  {
   "cell_type": "markdown",
   "metadata": {
    "id": "pcUjDQ6Cf6Mt"
   },
   "source": [
    "Далее нужно создать объект BatchVectorizer для данных, которые мы записали в формате vowpal wabbit:"
   ]
  },
  {
   "cell_type": "code",
   "execution_count": null,
   "metadata": {
    "id": "IM9Dh78Uf6Mt"
   },
   "outputs": [],
   "source": [
    "batch_vectorizer = artm.BatchVectorizer(data_path='lenta_wv.wv', \n",
    "                                        data_format='vowpal_wabbit',\n",
    "                                        target_folder='lenta_batches')"
   ]
  },
  {
   "cell_type": "markdown",
   "metadata": {
    "id": "ORTefKhxf6Mt"
   },
   "source": [
    "Попробуем обучить модель LDA для 10 тем:"
   ]
  },
  {
   "cell_type": "code",
   "execution_count": null,
   "metadata": {
    "colab": {
     "base_uri": "https://localhost:8080/"
    },
    "id": "WBbsIWhif6Mt",
    "outputId": "d343b19a-38b4-45cf-edf9-6b5881e3d920"
   },
   "outputs": [
    {
     "name": "stdout",
     "output_type": "stream",
     "text": [
      "CPU times: user 35.3 s, sys: 553 ms, total: 35.9 s\n",
      "Wall time: 20.1 s\n"
     ]
    }
   ],
   "source": [
    "%%time \n",
    "lda = artm.LDA(num_topics=10, alpha=0.1, beta=0.001, \n",
    "               cache_theta=True,\n",
    "               num_document_passes=5, \n",
    "               dictionary=batch_vectorizer.dictionary)\n",
    "\n",
    "lda.fit_offline(batch_vectorizer=batch_vectorizer, \n",
    "                num_collection_passes=10)"
   ]
  },
  {
   "cell_type": "markdown",
   "metadata": {
    "id": "j4kYzUFDf6Mt"
   },
   "source": [
    "- __fit_offline__ (офлайн алгоритм): много проходов по коллекции, один проход по документу, одно обновление матрицы $\\Phi$ в конце прохода по коллекции. __Лучше использовать при работе с небольшой коллекцией__.\n",
    "\n",
    "\n",
    "- __fit_online__ (онлайн алгоритм) : один проход по коллекции, несколько проходов по документу, несколько обновлений матрицы $\\Phi$ в конце прохода по коллекции. __Лучше использовать при работе с большой коллекцией, или коллекцией с часто меняющимеся темами.__\n",
    "\n",
    "\n",
    "\n",
    "Можем посмотреть на все значения перплексии (для каждой итерации по коллекции из num_collection_passes=10):"
   ]
  },
  {
   "cell_type": "code",
   "execution_count": null,
   "metadata": {
    "colab": {
     "base_uri": "https://localhost:8080/"
    },
    "id": "kkkePEE1f6Mt",
    "outputId": "b1687301-cb7d-4c3e-deba-335c20b38760"
   },
   "outputs": [
    {
     "data": {
      "text/plain": [
       "[59306.5703125,\n",
       " 4838.5927734375,\n",
       " 4427.85986328125,\n",
       " 3809.79296875,\n",
       " 3307.611328125,\n",
       " 2990.314453125,\n",
       " 2793.5966796875,\n",
       " 2667.261474609375,\n",
       " 2578.947265625,\n",
       " 2513.816162109375]"
      ]
     },
     "execution_count": 49,
     "metadata": {
      "tags": []
     },
     "output_type": "execute_result"
    }
   ],
   "source": [
    "lda.perplexity_value"
   ]
  },
  {
   "cell_type": "code",
   "execution_count": null,
   "metadata": {
    "id": "3G8zdXayf6Mt"
   },
   "outputs": [],
   "source": [
    "import numpy as np"
   ]
  },
  {
   "cell_type": "code",
   "execution_count": null,
   "metadata": {
    "colab": {
     "base_uri": "https://localhost:8080/"
    },
    "id": "laV9v0Azf6Mt",
    "outputId": "e713b80d-6098-429e-cbc9-29ff846dfcbf"
   },
   "outputs": [
    {
     "data": {
      "text/plain": [
       "7.829557260823786"
      ]
     },
     "execution_count": 51,
     "metadata": {
      "tags": []
     },
     "output_type": "execute_result"
    }
   ],
   "source": [
    "np.log(lda.perplexity_last_value)"
   ]
  },
  {
   "cell_type": "markdown",
   "metadata": {
    "id": "YiKmyFusf6Mt"
   },
   "source": [
    "Посмотрим на топ-10 токенов для каждой из тем:"
   ]
  },
  {
   "cell_type": "code",
   "execution_count": null,
   "metadata": {
    "colab": {
     "base_uri": "https://localhost:8080/"
    },
    "id": "nZym72AXf6Mt",
    "outputId": "46e09451-8af5-4cf9-dec1-fa7029875a6b"
   },
   "outputs": [
    {
     "name": "stdout",
     "output_type": "stream",
     "text": [
      "Topic #0: ['год', 'который', 'учёный', 'это', 'мочь', 'исследование', 'процент', 'человек', 'техника', 'результат']\n",
      "Topic #1: ['матч', 'клуб', 'команда', 'год', 'Спорт', 'сборная', 'это', 'чемпионат', 'который', 'тренер']\n",
      "Topic #2: ['год', 'фильм', 'который', 'Культура', 'the', 'картина', 'свой', 'это', 'группа', 'роль']\n",
      "Topic #3: ['матч', 'счёт', 'место', 'Спорт', 'первый', 'российский', 'турнир', 'мир', 'россия', 'который']\n",
      "Topic #4: ['год', 'это', 'банк', 'россия', 'компания', 'который', 'миллиард', 'Экономика', 'российский', 'заявить']\n",
      "Topic #5: ['год', 'техника', 'компания', 'который', 'самолёт', 'Наука', 'и', 'новый', 'это', 'также']\n",
      "Topic #6: ['игра', 'год', 'который', 'это', 'также', 'новый', 'свой', 'стать', 'выйти', 'время']\n",
      "Topic #7: ['процент', 'год', 'доллар', 'рубль', 'россия', 'это', 'миллиард', 'цена', 'составить', 'компания']\n",
      "Topic #8: ['год', 'это', 'который', 'компания', 'театр', 'директор', 'премия', 'российский', 'россия', 'сообщать']\n",
      "Topic #9: ['год', 'который', 'проект', 'музей', 'газ', 'тысяча', 'сообщать', 'город', 'строительство', 'это']\n"
     ]
    }
   ],
   "source": [
    "top_tokens = lda.get_top_tokens(num_tokens=10)\n",
    "for i, token_list in enumerate(top_tokens):\n",
    "     print ('Topic #{0}: {1}'.format(i, token_list))"
   ]
  },
  {
   "cell_type": "markdown",
   "metadata": {
    "id": "kHrLmqZFf6Mt"
   },
   "source": [
    "[Более подробный ноутбук про модель LDA](https://github.com/bigartm/bigartm-book/blob/master/LDA_tutorial_RU.ipynb)\n",
    "\n",
    "Теперь построим базовую модель pLSA:"
   ]
  },
  {
   "cell_type": "code",
   "execution_count": null,
   "metadata": {
    "id": "cgXcR8rgf6Mt"
   },
   "outputs": [],
   "source": [
    "plsa = artm.ARTM(num_topics=10, \n",
    "                 dictionary=batch_vectorizer.dictionary)"
   ]
  },
  {
   "cell_type": "markdown",
   "metadata": {
    "id": "mbQ9l4y5f6Mt"
   },
   "source": [
    "Добавим расчет перплексии:"
   ]
  },
  {
   "cell_type": "code",
   "execution_count": null,
   "metadata": {
    "id": "0IT6E3ENf6Mt"
   },
   "outputs": [],
   "source": [
    "plsa.scores.add(artm.PerplexityScore(name='lenta_perplexity_score',\n",
    "                 dictionary=batch_vectorizer.dictionary))"
   ]
  },
  {
   "cell_type": "markdown",
   "metadata": {
    "id": "pf8YEEonf6Mt"
   },
   "source": [
    "И TopTokensScore, чтобы взглянуть на самые вероятные слова в каждой теме:"
   ]
  },
  {
   "cell_type": "code",
   "execution_count": null,
   "metadata": {
    "id": "bhf_Qvo5f6Mt"
   },
   "outputs": [],
   "source": [
    "plsa.scores.add(artm.TopTokensScore(name='TopTokensScore', num_tokens=6))"
   ]
  },
  {
   "cell_type": "code",
   "execution_count": null,
   "metadata": {
    "id": "XBxu1x6lf6Mt"
   },
   "outputs": [],
   "source": [
    "plsa.fit_offline(batch_vectorizer=batch_vectorizer,\n",
    "                 num_collection_passes=20)"
   ]
  },
  {
   "cell_type": "code",
   "execution_count": null,
   "metadata": {
    "colab": {
     "base_uri": "https://localhost:8080/"
    },
    "id": "_Dk3ryOFf6Mu",
    "outputId": "6f42fc18-85a9-4057-a6cd-417d3658bbd8"
   },
   "outputs": [
    {
     "data": {
      "text/plain": [
       "[58649.796875,\n",
       " 4677.33203125,\n",
       " 4046.64892578125,\n",
       " 3386.676025390625,\n",
       " 2985.873779296875,\n",
       " 2762.552490234375,\n",
       " 2627.29150390625,\n",
       " 2536.97705078125,\n",
       " 2473.238037109375,\n",
       " 2430.149658203125,\n",
       " 2402.238525390625,\n",
       " 2384.063232421875,\n",
       " 2372.111328125,\n",
       " 2363.44091796875,\n",
       " 2356.9072265625,\n",
       " 2351.774658203125,\n",
       " 2347.544677734375,\n",
       " 2343.973876953125,\n",
       " 2340.83837890625,\n",
       " 2338.045166015625]"
      ]
     },
     "execution_count": 57,
     "metadata": {
      "tags": []
     },
     "output_type": "execute_result"
    }
   ],
   "source": [
    "plsa.score_tracker['lenta_perplexity_score'].value"
   ]
  },
  {
   "cell_type": "code",
   "execution_count": null,
   "metadata": {
    "colab": {
     "base_uri": "https://localhost:8080/"
    },
    "id": "EBCgiEyYf6Mu",
    "outputId": "2d11eeae-3250-470f-f1df-099a33c81e86"
   },
   "outputs": [
    {
     "name": "stdout",
     "output_type": "stream",
     "text": [
      "topic_0:  ['учёный', 'который', 'это', 'год', 'техника', 'Наука']\n",
      "topic_1:  ['матч', 'клуб', 'команда', 'год', 'Спорт', 'сборная']\n",
      "topic_2:  ['год', 'фильм', 'который', 'Культура', 'the', 'картина']\n",
      "topic_3:  ['матч', 'Спорт', 'счёт', 'россия', 'сборная', 'место']\n",
      "topic_4:  ['год', 'компания', 'это', 'россия', 'который', 'банк']\n",
      "topic_5:  ['год', 'компания', 'техника', 'самолёт', 'который', 'и']\n",
      "topic_6:  ['игра', 'год', 'который', 'это', 'компания', 'также']\n",
      "topic_7:  ['процент', 'год', 'доллар', 'миллиард', 'рубль', 'это']\n",
      "topic_8:  ['год', 'это', 'который', 'премия', 'театр', 'москва']\n",
      "topic_9:  ['год', 'который', 'это', 'город', 'тысяча', 'музей']\n"
     ]
    }
   ],
   "source": [
    "for topic_name in plsa.topic_names:\n",
    "    print (topic_name + ': ', plsa.score_tracker['TopTokensScore'].last_tokens[topic_name])"
   ]
  },
  {
   "cell_type": "markdown",
   "metadata": {
    "id": "w8z5zA1Cf6Mu"
   },
   "source": [
    "Обратите внимание на слова с заглавной буквы: это поле topic из оригинальных данных.\n",
    "\n",
    "Попробуем удалить из словаря слишком редкие и слишком частые токены:"
   ]
  },
  {
   "cell_type": "code",
   "execution_count": null,
   "metadata": {
    "colab": {
     "base_uri": "https://localhost:8080/"
    },
    "id": "VBd4w7JSf6Mu",
    "outputId": "d298832e-16ba-4600-ef86-143d4ae6a959"
   },
   "outputs": [
    {
     "data": {
      "text/plain": [
       "artm.Dictionary(name=8d50d698-9d84-45cd-b998-2494044d975a, num_entries=11451)"
      ]
     },
     "execution_count": 59,
     "metadata": {
      "tags": []
     },
     "output_type": "execute_result"
    }
   ],
   "source": [
    "batch_vectorizer.dictionary.filter(min_tf=10, max_tf=5000)"
   ]
  },
  {
   "cell_type": "code",
   "execution_count": null,
   "metadata": {
    "id": "FBo7BaTVf6Mu"
   },
   "outputs": [],
   "source": [
    "plsa = artm.ARTM(num_topics=10, \n",
    "                 dictionary=batch_vectorizer.dictionary)\n",
    "plsa.scores.add(artm.PerplexityScore(name='lenta_perplexity_score',\n",
    "                dictionary=batch_vectorizer.dictionary))\n",
    "\n",
    "plsa.scores.add(artm.TopTokensScore(name='TopTokensScore', \n",
    "                                    num_tokens=6))\n",
    "plsa.fit_offline(batch_vectorizer=batch_vectorizer, \n",
    "                 num_collection_passes=20)"
   ]
  },
  {
   "cell_type": "code",
   "execution_count": null,
   "metadata": {
    "colab": {
     "base_uri": "https://localhost:8080/"
    },
    "id": "16bIWNagf6Mu",
    "outputId": "865fb065-8b7a-47b3-cbea-edad4f2bc1aa"
   },
   "outputs": [
    {
     "data": {
      "text/plain": [
       "[2651.413330078125,\n",
       " 967.0784301757812,\n",
       " 857.0040893554688,\n",
       " 727.2493896484375,\n",
       " 648.6835327148438,\n",
       " 610.6629638671875,\n",
       " 592.6904296875,\n",
       " 583.2110595703125,\n",
       " 577.7476806640625,\n",
       " 574.2850341796875,\n",
       " 571.7968139648438,\n",
       " 569.8373413085938,\n",
       " 568.1939697265625,\n",
       " 566.7196044921875,\n",
       " 565.3278198242188,\n",
       " 563.9794311523438,\n",
       " 562.7440185546875,\n",
       " 561.7955322265625,\n",
       " 561.0269775390625,\n",
       " 560.357421875]"
      ]
     },
     "execution_count": 61,
     "metadata": {
      "tags": []
     },
     "output_type": "execute_result"
    }
   ],
   "source": [
    "plsa.score_tracker['lenta_perplexity_score'].value"
   ]
  },
  {
   "cell_type": "markdown",
   "metadata": {
    "id": "fzwXz8LKf6Mu"
   },
   "source": [
    "Стало заметно лучше :)"
   ]
  },
  {
   "cell_type": "code",
   "execution_count": null,
   "metadata": {
    "colab": {
     "base_uri": "https://localhost:8080/"
    },
    "id": "7JBLpHarf6Mu",
    "outputId": "8fabb03b-8b4e-4d05-9a6a-95844b7790b0"
   },
   "outputs": [
    {
     "name": "stdout",
     "output_type": "stream",
     "text": [
      "topic_0:  ['учёный', 'пункт', 'исследование', 'мочь', 'индекс', 'курс']\n",
      "topic_1:  ['матч', 'команда', 'клуб', 'сборная', 'Спорт', 'чемпионат']\n",
      "topic_2:  ['the', 'группа', 'миллион', 'британский', 'Культура', 'альбом']\n",
      "topic_3:  ['место', 'первый', 'мир', 'турнир', 'третий', 'второй']\n",
      "topic_4:  ['рубль', 'миллиард', 'банк', 'Экономика', 'акция', 'российский']\n",
      "topic_5:  ['самолёт', 'техника', 'и', 'Наука', 'новый', 'военный']\n",
      "topic_6:  ['игра', 'новый', 'продажа', 'техника', 'сеть', 'и']\n",
      "topic_7:  ['заявить', 'мир', 'российский', 'слово', 'Спорт', 'бой']\n",
      "topic_8:  ['фильм', 'картина', 'Культура', 'роль', 'режиссёр', 'премия']\n",
      "topic_9:  ['украина', 'газ', 'проект', 'российский', 'газпром', 'страна']\n"
     ]
    }
   ],
   "source": [
    "for topic_name in plsa.topic_names:\n",
    "    print (topic_name + ': ', plsa.score_tracker['TopTokensScore'].last_tokens[topic_name])"
   ]
  },
  {
   "cell_type": "markdown",
   "metadata": {
    "id": "0oSBjFc7f6Mu"
   },
   "source": [
    "__Мультимодальные модели__\n",
    "\n",
    "В библиотеке ARTM можно обучать мультимодальные модели, например, давайте попробуем обучить модель, которая будет учитывать поле topic из наших данных (мы специально записали его отдельно через | )"
   ]
  },
  {
   "cell_type": "code",
   "execution_count": null,
   "metadata": {
    "id": "4QmJ14iCf6Mu"
   },
   "outputs": [],
   "source": [
    "# описываем модель и задаем веса классов\n",
    "martm = artm.ARTM(num_topics=20,\n",
    "                  class_ids={'@default_class': 1.0, '@topic': 5.0}, \n",
    "                  dictionary=batch_vectorizer.dictionary)"
   ]
  },
  {
   "cell_type": "markdown",
   "metadata": {
    "id": "Tt7Uz87Nf6Mu"
   },
   "source": [
    "Добавим расчет метрик и регуляризаторы:"
   ]
  },
  {
   "cell_type": "code",
   "execution_count": null,
   "metadata": {
    "id": "vuLYKnnbf6Mu"
   },
   "outputs": [],
   "source": [
    "martm.scores.add(artm.SparsityPhiScore(name='sparsity_phi_score',\n",
    "                                       class_id='@topic'))\n",
    "\n",
    "martm.scores.add(artm.TopTokensScore(name='TopTokensScore',\n",
    "                                     num_tokens=6))\n",
    "\n",
    "\n",
    "martm.scores.add(artm.PerplexityScore(name='lenta_perplexity_score',\n",
    "                dictionary=batch_vectorizer.dictionary))\n",
    "\n",
    "martm.regularizers.add(artm.DecorrelatorPhiRegularizer(name='decorrelator_phi_def',\n",
    "                    class_ids=['@default_class']))\n",
    "\n",
    "martm.regularizers.add(artm.DecorrelatorPhiRegularizer(name='decorrelator_phi_lab',\n",
    "                        class_ids=['@topic']))"
   ]
  },
  {
   "cell_type": "code",
   "execution_count": null,
   "metadata": {
    "id": "O86jl9k-f6Mu"
   },
   "outputs": [],
   "source": [
    "martm.fit_offline(batch_vectorizer=batch_vectorizer, \n",
    "                  num_collection_passes=10)"
   ]
  },
  {
   "cell_type": "code",
   "execution_count": null,
   "metadata": {
    "colab": {
     "base_uri": "https://localhost:8080/"
    },
    "id": "UUgIM5Rwf6Mu",
    "outputId": "69fe787a-09d6-4651-9bfd-d88ed2d2fc46"
   },
   "outputs": [
    {
     "data": {
      "text/plain": [
       "[2637.11669921875,\n",
       " 947.080810546875,\n",
       " 795.9926147460938,\n",
       " 641.5875854492188,\n",
       " 562.3080444335938,\n",
       " 524.1238403320312,\n",
       " 503.2885437011719,\n",
       " 490.39959716796875,\n",
       " 481.7976379394531,\n",
       " 475.7392883300781]"
      ]
     },
     "execution_count": 66,
     "metadata": {
      "tags": []
     },
     "output_type": "execute_result"
    }
   ],
   "source": [
    "martm.score_tracker['lenta_perplexity_score'].value"
   ]
  },
  {
   "cell_type": "code",
   "execution_count": null,
   "metadata": {
    "colab": {
     "base_uri": "https://localhost:8080/"
    },
    "id": "DytAIn1Bf6Mv",
    "outputId": "ee862292-fb48-4f50-82aa-3bc84e713e36"
   },
   "outputs": [
    {
     "name": "stdout",
     "output_type": "stream",
     "text": [
      "topic_0:  ['учёный', 'техника', 'и', 'Наука', 'мочь', 'исследование']\n",
      "topic_1:  ['клуб', 'команда', 'тренер', 'матч', 'Спорт', 'футболист']\n",
      "topic_2:  ['группа', 'the', 'альбом', 'Культура', 'песня', 'музыкант']\n",
      "topic_3:  ['банк', 'страна', 'организация', 'сша', 'система', 'российский']\n",
      "topic_4:  ['миллиард', 'рубль', 'банк', 'Экономика', 'бюджет', 'правительство']\n",
      "topic_5:  ['самолёт', 'техника', 'военный', 'и', 'ракета', 'Наука']\n",
      "topic_6:  ['игра', 'новый', 'продажа', 'выйти', 'проект', 'версия']\n",
      "topic_7:  ['премия', 'получить', 'хороший', 'конкурс', 'стать', 'награда']\n",
      "topic_8:  ['Культура', 'театр', 'музей', 'книга', 'фестиваль', 'искусство']\n",
      "topic_9:  ['проект', 'строительство', 'новый', 'развитие', 'создание', 'слово']\n",
      "topic_10:  ['президент', 'акция', 'директор', 'глава', 'совет', 'российский']\n",
      "topic_11:  ['цена', 'рубль', 'нефть', 'рост', 'рынок', 'вырасти']\n",
      "topic_12:  ['миллиард', 'суд', 'газ', 'газпром', 'Экономика', 'миллион']\n",
      "topic_13:  ['человек', 'мочь', 'весь', 'мнение', 'время', 'исследование']\n",
      "topic_14:  ['устройство', 'техника', 'Наука', 'и', 'смартфон', 'apple']\n",
      "topic_15:  ['матч', 'счёт', 'команда', 'минута', 'первый', 'очко']\n",
      "topic_16:  ['фильм', 'картина', 'роль', 'режиссёр', 'Культура', 'актёр']\n",
      "topic_17:  ['мир', 'сборная', 'чемпионат', 'олимпийский', 'российский', 'Спорт']\n",
      "topic_18:  ['тысяча', 'миллион', 'авиакомпания', 'аэропорт', 'британский', 'город']\n",
      "topic_19:  ['украина', 'бой', 'рейтинг', 'турнир', 'мир', 'поединок']\n"
     ]
    }
   ],
   "source": [
    "for topic_name in martm.topic_names:\n",
    "    print (topic_name + ': ', martm.score_tracker['TopTokensScore'].last_tokens[topic_name])"
   ]
  },
  {
   "cell_type": "markdown",
   "metadata": {
    "id": "3aUbxjyBf6Mv"
   },
   "source": [
    "Сравним обычную модель pLSA и модель mARTM:"
   ]
  },
  {
   "cell_type": "code",
   "execution_count": null,
   "metadata": {
    "id": "SeMm9bvLf6Mv"
   },
   "outputs": [],
   "source": [
    "model_plsa = artm.ARTM(topic_names=['topic_{}'.format(i) for i in range(20)],\n",
    "                       scores=[artm.PerplexityScore(name='PerplexityScore',\n",
    "                       dictionary=batch_vectorizer.dictionary)],\n",
    "                       cache_theta=True)\n",
    "\n",
    "model_martm = artm.ARTM(topic_names=['topic_{}'.format(i) for i in range(20)],\n",
    "                       scores=[artm.PerplexityScore(name='PerplexityScore',\n",
    "                       dictionary=batch_vectorizer.dictionary)],\n",
    "                       regularizers=[artm.SmoothSparseThetaRegularizer(name='SparseTheta', tau=-0.15)],\n",
    "                       cache_theta=True,\n",
    "                        class_ids={'@default_class': 1.0, '@topic': 5.0}, \n",
    "                  dictionary=batch_vectorizer.dictionary)"
   ]
  },
  {
   "cell_type": "code",
   "execution_count": null,
   "metadata": {
    "id": "tmPLORQ9f6Mv"
   },
   "outputs": [],
   "source": [
    "model_martm.scores.add(artm.SparsityPhiScore(name='SparsityPhiScore'))\n",
    "model_martm.scores.add(artm.SparsityThetaScore(name='SparsityThetaScore'))\n",
    "\n",
    "model_plsa.scores.add(artm.SparsityPhiScore(name='SparsityPhiScore'))\n",
    "model_plsa.scores.add(artm.SparsityThetaScore(name='SparsityThetaScore'))"
   ]
  },
  {
   "cell_type": "code",
   "execution_count": null,
   "metadata": {
    "id": "4RE9fBCSf6Mv"
   },
   "outputs": [],
   "source": [
    "model_plsa.initialize(dictionary=batch_vectorizer.dictionary)\n",
    "model_martm.initialize(dictionary=batch_vectorizer.dictionary)"
   ]
  },
  {
   "cell_type": "code",
   "execution_count": null,
   "metadata": {
    "id": "BZ5Bz0CMf6Mv"
   },
   "outputs": [],
   "source": [
    "model_martm.num_document_passes = 1\n",
    "model_plsa.num_document_passes = 1\n",
    "\n",
    "model_martm.fit_offline(batch_vectorizer=batch_vectorizer, \n",
    "                        num_collection_passes=20)\n",
    "model_plsa.fit_offline(batch_vectorizer=batch_vectorizer,\n",
    "                       num_collection_passes=20)"
   ]
  },
  {
   "cell_type": "code",
   "execution_count": null,
   "metadata": {
    "colab": {
     "base_uri": "https://localhost:8080/",
     "height": 296
    },
    "id": "AzT23VFyjKMd",
    "outputId": "0d96f83c-4cd9-4eb9-88db-be8a5da766d9"
   },
   "outputs": [
    {
     "name": "stdout",
     "output_type": "stream",
     "text": [
      "Perplexity: 622.634 (pLSA) vs. 614.556 (mARTM)\n"
     ]
    },
    {
     "data": {
      "image/png": "[encoded data removed]",
      "text/plain": [
       "<Figure size 432x288 with 1 Axes>"
      ]
     },
     "metadata": {
      "needs_background": "light",
      "tags": []
     },
     "output_type": "display_data"
    }
   ],
   "source": [
    "import matplotlib.pyplot as plt\n",
    "\n",
    "def print_measures(model_plsa, model_martm):\n",
    "\n",
    "    print ('Perplexity: {0:.3f} (pLSA) vs. {1:.3f} (mARTM)'.format(\n",
    "        model_plsa.score_tracker['PerplexityScore'].last_value,\n",
    "        model_martm.score_tracker['PerplexityScore'].last_value))\n",
    "\n",
    "    plt.plot(range(model_plsa.num_phi_updates), model_plsa.score_tracker['PerplexityScore'].value, 'b--',\n",
    "             range(model_martm.num_phi_updates), model_martm.score_tracker['PerplexityScore'].value, 'r--', linewidth=2)\n",
    "    \n",
    "    plt.xlabel('Iterations count')\n",
    "    plt.ylabel('pLSA perp. (blue), mARTM perp. (red)')\n",
    "    plt.grid(True)\n",
    "    plt.show()\n",
    "    \n",
    "print_measures(model_plsa, model_martm)"
   ]
  },
  {
   "cell_type": "markdown",
   "metadata": {},
   "source": []
  }
 ],
 "metadata": {
  "kernelspec": {
   "display_name": "Python 3",
   "language": "python",
   "name": "python3"
  },
  "language_info": {
   "codemirror_mode": {
    "name": "ipython",
    "version": 3
   },
   "file_extension": ".py",
   "mimetype": "text/x-python",
   "name": "python",
   "nbconvert_exporter": "python",
   "pygments_lexer": "ipython3",
   "version": "3.8.5"
  },
  "toc": {
   "base_numbering": 1,
   "nav_menu": {},
   "number_sections": false,
   "sideBar": true,
   "skip_h1_title": false,
   "title_cell": "Table of Contents",
   "title_sidebar": "Contents",
   "toc_cell": false,
   "toc_position": {},
   "toc_section_display": true,
   "toc_window_display": false
  },
  "varInspector": {
   "cols": {
    "lenName": 16,
    "lenType": 16,
    "lenVar": 40
   },
   "kernels_config": {
    "python": {
     "delete_cmd_postfix": "",
     "delete_cmd_prefix": "del ",
     "library": "var_list.py",
     "varRefreshCmd": "print(var_dic_list())"
    },
    "r": {
     "delete_cmd_postfix": ") ",
     "delete_cmd_prefix": "rm(",
     "library": "var_list.r",
     "varRefreshCmd": "cat(var_dic_list()) "
    }
   },
   "types_to_exclude": [
    "module",
    "function",
    "builtin_function_or_method",
    "instance",
    "_Feature"
   ],
   "window_display": false
  }
 },
 "nbformat": 4,
 "nbformat_minor": 4
}
