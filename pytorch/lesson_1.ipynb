{
 "cells": [
  {
   "cell_type": "markdown",
   "metadata": {
    "id": "3E8KtDqFlrcm"
   },
   "source": [
    "# “Фреймворк PyTorch для разработки искусственных нейронных сетей”"
   ]
  },
  {
   "cell_type": "markdown",
   "metadata": {
    "id": "5JT3FtljAhgw"
   },
   "source": [
    "<img src='https://drive.google.com/uc?export=view&id=1v51-gWkPgQmtIhcGpmwuw81TGwMz7aM5'>"
   ]
  },
  {
   "cell_type": "markdown",
   "metadata": {
    "id": "kJo6HP61Ahgy"
   },
   "source": [
    "### План курса\n",
    "* Первое занятие: Введение в PyTorch. Мы познакомимся с самим фреймворком, установим его, посмотрим минимальный набор функций для получения какого-либо результата\n",
    "* Второе занятие: Детектирование в Pytorch. Здесь мы познакомимся с современными методами детектирования и реализуем простую модель. \n",
    "* Третье занятие: Сегментация изображений. Поговорим о том, как упаковывать данные для тренировки модели сегментации. Изучим и построим модель U-net.\n",
    "* На четвертом занятии мы поговорим о генерации данных с помощью Generative adversarial networks.\n",
    "* Пятое занятие: LSTM for human action recognition. Мы рассмотрим предложенные архитектуры, поработаем с различными данными и напишем свой собственный даталоадер."
   ]
  },
  {
   "cell_type": "markdown",
   "metadata": {
    "id": "GoFHbsJClrcw"
   },
   "source": [
    "# PyTorch, вводное занятие"
   ]
  },
  {
   "cell_type": "markdown",
   "metadata": {
    "id": "6q9v2uVflrcw"
   },
   "source": [
    "### План занятия:\n",
    "\n",
    "* Установка\n",
    "* Тензоры\n",
    "* Введение в синтаксис pytorch и Тензорные вычисления\n",
    "* Вычислительный граф и Автоматическое диференцирование\n",
    "* Погружаемся в детали\n",
    "* Датасет\n",
    "* Построение нейронной сети\n",
    "* Обучения модели\n",
    "* Сохранение и загрузка модели\n",
    "* Tensorflow vs PyTorch\n",
    "* Где полученные знания можно применить"
   ]
  },
  {
   "cell_type": "markdown",
   "metadata": {
    "id": "ZsbYTszFlrcy"
   },
   "source": [
    "# 0. Установка"
   ]
  },
  {
   "cell_type": "code",
   "execution_count": null,
   "metadata": {
    "colab": {
     "base_uri": "https://localhost:8080/"
    },
    "id": "yxkIdBBrlrcz",
    "outputId": "98c2a733-9226-4cc4-81f5-26a8e1cf433f"
   },
   "outputs": [
    {
     "name": "stdout",
     "output_type": "stream",
     "text": [
      "Requirement already satisfied: torch in /usr/local/lib/python3.7/dist-packages (1.8.1+cu101)\n",
      "Requirement already satisfied: torchvision in /usr/local/lib/python3.7/dist-packages (0.9.1+cu101)\n",
      "Requirement already satisfied: numpy in /usr/local/lib/python3.7/dist-packages (from torch) (1.19.5)\n",
      "Requirement already satisfied: typing-extensions in /usr/local/lib/python3.7/dist-packages (from torch) (3.7.4.3)\n",
      "Requirement already satisfied: pillow>=4.1.1 in /usr/local/lib/python3.7/dist-packages (from torchvision) (7.1.2)\n"
     ]
    }
   ],
   "source": [
    "!pip3 install torch torchvision"
   ]
  },
  {
   "cell_type": "markdown",
   "metadata": {
    "id": "Vz-hpRAclrc4"
   },
   "source": [
    "# 1. Тензоры"
   ]
  },
  {
   "cell_type": "markdown",
   "metadata": {
    "id": "ioO3fIeclrc4"
   },
   "source": [
    "Тензоры схожи с ndarrays в NumPy, с добавлением того, что тензоры могут быть использованы на GPU для ускорения вычислений."
   ]
  },
  {
   "cell_type": "markdown",
   "metadata": {
    "id": "ajgxH0z_AhhB"
   },
   "source": [
    "### Тензоры\n",
    "\n",
    "Тензор - основная структура данных в библиотеках машинного обучения, которая похожа на массив Numpy. Что-то вроде n-мерной матрицы или массива массивов.Тензоры обеспечивают ускорение различных математических операций. Эти операции при выполнении в большом количестве в глубоком обучении имеют огромное значение в скорости."
   ]
  },
  {
   "cell_type": "markdown",
   "metadata": {
    "id": "JZzcooQUe83I"
   },
   "source": [
    "<img src='https://drive.google.com/uc?export=view&id=1pDiSoBIL8IBpIFq3R4OKGRW3YseBRvFm'>\n",
    "\n",
    "\n",
    "Визуализизация тензора с более чем двумя осями:\n",
    "\n",
    "<img src='https://drive.google.com/uc?Export=view&id=1C6pu0iDx1Ugz2OMyE9d6KZH9IcN3-STG'>\n",
    "<img src='https://drive.google.com/uc?export=view&id=1cmVLwGNLc8fkDpmNZreTecMNCXgD6zGl'>\n",
    "<img src='https://drive.google.com/uc?export=view&id=1XiGSZVsVQrlH279eu2IK1bekSvccX6aT'>\n"
   ]
  },
  {
   "cell_type": "markdown",
   "metadata": {
    "id": "1Wwd8OUFlrc-"
   },
   "source": [
    "# 2. Введение в синтаксис pytorch и Тензорные вычисления"
   ]
  },
  {
   "cell_type": "markdown",
   "metadata": {
    "id": "oo6pzUghlrc-"
   },
   "source": [
    "[База от pytorch](https://pytorch.org/tutorials/beginner/basics/intro.html)"
   ]
  },
  {
   "cell_type": "code",
   "execution_count": null,
   "metadata": {
    "id": "cr4ur_8Llrc_"
   },
   "outputs": [],
   "source": [
    "from IPython import display\n",
    "import numpy as np\n",
    "import random\n",
    "import torch"
   ]
  },
  {
   "cell_type": "code",
   "execution_count": null,
   "metadata": {
    "id": "JZhwrpEIlrdA"
   },
   "outputs": [],
   "source": [
    "np.random.seed(42)\n",
    "random.seed(42)\n",
    "torch.manual_seed(42)\n",
    "torch.cuda.manual_seed(42)"
   ]
  },
  {
   "cell_type": "markdown",
   "metadata": {
    "id": "GjBbSSOXlrdB"
   },
   "source": [
    "### 2.1 Тензоры в pytorch"
   ]
  },
  {
   "cell_type": "markdown",
   "metadata": {
    "id": "DsP_QDjylrdC"
   },
   "source": [
    "Тип данных, хранимых тензором, отражается в имени его конструктора. Конструктор без параметров вернёт специальное значение — тензор без размерности, который нельзя использовать ни в каких операциях."
   ]
  },
  {
   "cell_type": "code",
   "execution_count": null,
   "metadata": {
    "colab": {
     "base_uri": "https://localhost:8080/"
    },
    "id": "fZUu5E6klrdC",
    "outputId": "e1d30002-9eab-49dc-abde-56854e4378e2"
   },
   "outputs": [
    {
     "data": {
      "text/plain": [
       "tensor([])"
      ]
     },
     "execution_count": 4,
     "metadata": {
      "tags": []
     },
     "output_type": "execute_result"
    }
   ],
   "source": [
    "torch.FloatTensor()"
   ]
  },
  {
   "cell_type": "markdown",
   "metadata": {
    "id": "sc2jfbOalrdD"
   },
   "source": [
    "Типы тензоров в pytorch:"
   ]
  },
  {
   "cell_type": "markdown",
   "metadata": {
    "id": "YRGslGDYlrdE"
   },
   "source": [
    "torch.HalfTensor      # 16 бит, с плавающей точкой  \n",
    "torch.FloatTensor     # 32 бита,  с плавающей точкой  \n",
    "torch.DoubleTensor    # 64 бита, с плавающей точкой  \n",
    "\n",
    "torch.ShortTensor     # 16 бит, целочисленный, знаковый  \n",
    "torch.IntTensor       # 32 бита, целочисленный, знаковый  \n",
    "torch.LongTensor      # 64 бита, целочисленный, знаковый  \n",
    "\n",
    "torch.CharTensor      # 8 бит, целочисленный, знаковый  \n",
    "torch.ByteTensor      # 8 бит, целочисленный, беззнаковый  "
   ]
  },
  {
   "cell_type": "markdown",
   "metadata": {
    "id": "3npMKfhHlrdF"
   },
   "source": [
    "torch.Tensor является сокращённым названием для torch.FloatTensor. Так же в последних версиях существует автоматическое приведение типов, если типы не сопоставимы:"
   ]
  },
  {
   "cell_type": "code",
   "execution_count": null,
   "metadata": {
    "colab": {
     "base_uri": "https://localhost:8080/"
    },
    "id": "mP6jj5ImlrdF",
    "outputId": "27378826-88cb-4dbb-e16b-c5288fe9320f"
   },
   "outputs": [
    {
     "name": "stdout",
     "output_type": "stream",
     "text": [
      "tensor([1.])\n",
      "tensor([2.], dtype=torch.float64)\n"
     ]
    },
    {
     "data": {
      "text/plain": [
       "tensor([2.], dtype=torch.float64)"
      ]
     },
     "execution_count": 4,
     "metadata": {
      "tags": []
     },
     "output_type": "execute_result"
    }
   ],
   "source": [
    "a = torch.FloatTensor([1.0])\n",
    "b = torch.DoubleTensor([2.0])\n",
    "print(a)\n",
    "print(b)\n",
    "a * b"
   ]
  },
  {
   "cell_type": "markdown",
   "metadata": {
    "id": "ULPsrNnxlrdH"
   },
   "source": [
    "Но где-то могут возникать проблемы в виду разных типов. Для этого предусмотрена возможность явного приведения типов:"
   ]
  },
  {
   "cell_type": "code",
   "execution_count": null,
   "metadata": {
    "colab": {
     "base_uri": "https://localhost:8080/"
    },
    "id": "Mzydn0ntlrdI",
    "outputId": "df17a5de-1e2f-498c-a454-405d0d766759"
   },
   "outputs": [
    {
     "name": "stdout",
     "output_type": "stream",
     "text": [
      "torch.IntTensor\n",
      "torch.ByteTensor\n"
     ]
    }
   ],
   "source": [
    "a = torch.IntTensor([1])\n",
    "print(a.type())\n",
    "a = a.byte()\n",
    "print(a.type())"
   ]
  },
  {
   "cell_type": "code",
   "execution_count": null,
   "metadata": {
    "colab": {
     "base_uri": "https://localhost:8080/"
    },
    "id": "fDpxFj1mlrdJ",
    "outputId": "0fd1b0a9-107d-4b5e-d6a5-647e2205ea15"
   },
   "outputs": [
    {
     "data": {
      "text/plain": [
       "tensor([1.])"
      ]
     },
     "execution_count": 7,
     "metadata": {
      "tags": []
     },
     "output_type": "execute_result"
    }
   ],
   "source": [
    "a.float()"
   ]
  },
  {
   "cell_type": "markdown",
   "metadata": {
    "id": "78WC03sMlrdK"
   },
   "source": [
    "### 2.2 Немного о различиях в функциях"
   ]
  },
  {
   "cell_type": "markdown",
   "metadata": {
    "id": "hll1Lq_MlrdK"
   },
   "source": [
    "Соглашение о именовании в PyTorch гласит, что любая функция вида xxx возвращает новый тензор, т.е. является immutable функцией. В противоположность ей функция вида xxx_ изменяет изначальный тензор, т.е. является mutable функцией. Последние ещё носят название inplace функций. \n",
    "Почти для любой immutable функции в PyTorch существует её собрат. Однако бывает и так, что функция существует лишь в каком-то одном варианте. По понятным причинам, функции, изменяющие размер тензора всегда являются immutable."
   ]
  },
  {
   "cell_type": "markdown",
   "metadata": {
    "id": "A5sdx0omlrdL"
   },
   "source": [
    "По поводу всех функций прошу [сюда](https://pytorch.org/docs/master/tensors.html). А сейчас мы коснемся лишь самых важных."
   ]
  },
  {
   "cell_type": "markdown",
   "metadata": {
    "id": "swyfZlVrlrdM"
   },
   "source": [
    "### 2.3 Инициализация"
   ]
  },
  {
   "cell_type": "markdown",
   "metadata": {
    "id": "O_XGiOlRlrdV"
   },
   "source": [
    "Начнем с того, как мы можем задать наш тензор. Полный список функций можно посмотреть в [официальном источнике](https://pytorch.org/docs/stable/torch.html) под заголовком Creation Ops. Вот некоторые разные варианты:"
   ]
  },
  {
   "cell_type": "code",
   "execution_count": null,
   "metadata": {
    "colab": {
     "base_uri": "https://localhost:8080/"
    },
    "id": "XBIvfmmzlrdW",
    "outputId": "dd06ec3e-b26c-4121-a720-4145f39a79b6"
   },
   "outputs": [
    {
     "name": "stdout",
     "output_type": "stream",
     "text": [
      "type of tensor :  torch.FloatTensor\n",
      "Simple way: tensor([1.0000, 1.4000, 2.5000])\n",
      "Via type : tensor([1.0000, 1.4000, 2.5000])\n",
      "Zeros:\n",
      " tensor([[0., 0., 0.],\n",
      "        [0., 0., 0.]])\n",
      "Превращаем а в нули : tensor([0., 0., 0.])\n",
      "Заполним тензор константой : tensor([5., 5., 5.])\n",
      "Range: tensor([0, 1, 2, 3, 4, 5, 6, 7, 8, 9])\n",
      "Complicated range: tensor([ 4,  6,  8, 10])\n",
      "Space: tensor([1.0000, 1.6000, 2.2000, 2.8000, 3.4000, 4.0000])\n"
     ]
    }
   ],
   "source": [
    "a = [1. , 1.4 , 2.5]\n",
    "a_tensor = torch.tensor(a)\n",
    "print(f\"type of tensor : \", a_tensor.type())\n",
    "print(f\"Simple way: {torch.tensor(a)}\")\n",
    "print(f\"Via type : {torch.FloatTensor(a)}\")\n",
    "print(f\"Zeros:\\n {torch.zeros((2, 3))}\")\n",
    "print(f\"Превращаем а в нули : {a_tensor.zero_()}\")\n",
    "print(f\"Заполним тензор константой : {a_tensor.fill_(5)}\")\n",
    "print(f\"Range: {torch.arange(0, 10)}\")\n",
    "print(f\"Complicated range: {torch.arange(4, 12, 2)}\")\n",
    "print(f\"Space: {torch.linspace(1, 4, 6)}\")"
   ]
  },
  {
   "cell_type": "markdown",
   "metadata": {
    "id": "BIf4MP-ulrdX"
   },
   "source": [
    "### 2.4 Случайная выборка"
   ]
  },
  {
   "cell_type": "markdown",
   "metadata": {
    "id": "-rGBzeeKlrdX"
   },
   "source": [
    "Теперь про то, как мы можем генерировать случайнные значения в наших тензорах. Полный список функций можно посмотреть по ссылке выше под заголовком Random sampling."
   ]
  },
  {
   "cell_type": "code",
   "execution_count": null,
   "metadata": {
    "colab": {
     "base_uri": "https://localhost:8080/"
    },
    "id": "-vKQwM1olrdY",
    "outputId": "6f295de6-ea50-400b-a80b-012142a4643b"
   },
   "outputs": [
    {
     "name": "stdout",
     "output_type": "stream",
     "text": [
      "From 0 to 1: tensor([0.8823])\n",
      "Vector from 0 to 1: tensor([0.9150, 0.3829, 0.9593, 0.3904, 0.6009])\n",
      "Vector from a normal distribution with mean 0 and variance 1: tensor([[ 1.1561,  0.3965, -2.4661],\n",
      "        [ 0.3623,  0.3765, -0.1808]])\n",
      "Vector from 0 to 10: tensor([7, 6, 9, 6, 3])\n",
      "Непрерывное равномерное распределение : tensor([4.1584, 0.5266, 1.3475])\n"
     ]
    }
   ],
   "source": [
    "print(f\"From 0 to 1: {torch.rand(1)}\")\n",
    "print(f\"Vector from 0 to 1: {torch.rand(5)}\")\n",
    "print(f\"Vector from a normal distribution with mean 0 and variance 1: {torch.randn(2, 3)}\")\n",
    "print(f\"Vector from 0 to 10: {torch.randint(10, size=(5,))}\")\n",
    "print(f\"Непрерывное равномерное распределение : {a_tensor.uniform_(0, 5)}\")"
   ]
  },
  {
   "cell_type": "markdown",
   "metadata": {
    "id": "1apoSI34lrda"
   },
   "source": [
    "### 2.5 Математические операции"
   ]
  },
  {
   "cell_type": "markdown",
   "metadata": {
    "id": "eogPvK3olrdb"
   },
   "source": [
    "С матричными операциями так же все аналогично с тем же numpy"
   ]
  },
  {
   "cell_type": "code",
   "execution_count": null,
   "metadata": {
    "colab": {
     "base_uri": "https://localhost:8080/"
    },
    "id": "mMpVDkyOlrdb",
    "outputId": "974176cb-b88a-41a1-9726-522dd731ad31"
   },
   "outputs": [
    {
     "name": "stdout",
     "output_type": "stream",
     "text": [
      "a: tensor([0., 1., 2., 3., 4., 5., 6., 7., 8., 9.])\n",
      "shape: torch.Size([10])\n",
      "b: tensor([-10.0000,  -7.7778,  -5.5556,  -3.3333,  -1.1111,   1.1111,   3.3333,\n",
      "          5.5556,   7.7778,  10.0000])\n",
      "shape: torch.Size([10])\n"
     ]
    }
   ],
   "source": [
    "a = torch.arange(10).type(torch.FloatTensor)\n",
    "b = torch.linspace(-10, 10, 10)\n",
    "print(f\"a: {a}\\nshape: {a.size()}\")\n",
    "print(f\"b: {b}\\nshape: {b.size()}\")"
   ]
  },
  {
   "cell_type": "code",
   "execution_count": null,
   "metadata": {
    "colab": {
     "base_uri": "https://localhost:8080/"
    },
    "id": "wLvfZBI5niyi",
    "outputId": "9dcc2901-8c46-45f1-85a8-7c71aeb3614c"
   },
   "outputs": [
    {
     "name": "stdout",
     "output_type": "stream",
     "text": [
      "a + b: tensor([-10.0000,  -6.7778,  -3.5556,  -0.3333,   2.8889,   6.1111,   9.3333,\n",
      "         12.5556,  15.7778,  19.0000]),\n",
      " a * b: tensor([ -0.0000,  -7.7778, -11.1111, -10.0000,  -4.4444,   5.5556,  20.0000,\n",
      "         38.8889,  62.2222,  90.0000])\n",
      "a + b: tensor([-10.0000,  -6.7778,  -3.5556,  -0.3333,   2.8889,   6.1111,   9.3333,\n",
      "         12.5556,  15.7778,  19.0000]),\n",
      " a * b: tensor([ -0.0000,  -7.7778, -11.1111, -10.0000,  -4.4444,   5.5556,  20.0000,\n",
      "         38.8889,  62.2222,  90.0000])\n",
      "a + b: tensor([-10.0000,  -6.7778,  -3.5556,  -0.3333,   2.8889,   6.1111,   9.3333,\n",
      "         12.5556,  15.7778,  19.0000]),\n",
      " a * b: tensor([100.0000,  52.7160,  19.7531,   1.1111,  -3.2099,   6.7901,  31.1111,\n",
      "         69.7531, 122.7160, 190.0000])\n"
     ]
    }
   ],
   "source": [
    "print(f\"a + b: {a + b},\\n a * b: {a * b}\")\n",
    "print(f\"a + b: {a.add(b)},\\n a * b: {a.mul(b)}\") # вычитание sub, деление - div\n",
    "print(f\"a + b: {a.add_(b)},\\n a * b: {a.mul_(b)}\")"
   ]
  },
  {
   "cell_type": "code",
   "execution_count": null,
   "metadata": {
    "colab": {
     "base_uri": "https://localhost:8080/"
    },
    "id": "w8ev2q3OnkSg",
    "outputId": "6e9c187a-b277-426c-ce20-257828b31774"
   },
   "outputs": [
    {
     "name": "stdout",
     "output_type": "stream",
     "text": [
      "Экспонента : tensor([1.0000e+00, 2.7183e+00, 7.3891e+00, 2.0086e+01, 5.4598e+01, 1.4841e+02,\n",
      "        4.0343e+02, 1.0966e+03, 2.9810e+03, 8.1031e+03]),\n",
      " tensor([1.0000e+00, 2.7183e+00, 7.3891e+00, 2.0086e+01, 5.4598e+01, 1.4841e+02,\n",
      "        4.0343e+02, 1.0966e+03, 2.9810e+03, 8.1031e+03]), \n",
      " tensor([1.0000e+00, 2.7183e+00, 7.3891e+00, 2.0086e+01, 5.4598e+01, 1.4841e+02,\n",
      "        4.0343e+02, 1.0966e+03, 2.9810e+03, 8.1031e+03])\n",
      "Логарифм : tensor([0., 1., 2., 3., 4., 5., 6., 7., 8., 9.])\n",
      "Модуль : tensor([1.0000e+00, 2.7183e+00, 7.3891e+00, 2.0086e+01, 5.4598e+01, 1.4841e+02,\n",
      "        4.0343e+02, 1.0966e+03, 2.9810e+03, 8.1031e+03])\n"
     ]
    }
   ],
   "source": [
    "a = torch.arange(10).type(torch.FloatTensor)\n",
    "\n",
    "print(f\"Экспонента : {a.exp()},\\n {torch.exp(a)}, \\n {a.exp_()}\")\n",
    "print(f\"Логарифм : {a.log()}\")\n",
    "print(f\"Модуль : {a.abs()}\")"
   ]
  },
  {
   "cell_type": "code",
   "execution_count": null,
   "metadata": {
    "colab": {
     "base_uri": "https://localhost:8080/"
    },
    "id": "Gqhs-wzFnlqm",
    "outputId": "cb4da5dc-afcc-4853-e6c3-4a48f1d66411"
   },
   "outputs": [
    {
     "name": "stdout",
     "output_type": "stream",
     "text": [
      "Скалярное произведение: 111618.328125\n",
      "Mean: 1281.830810546875, STD: 2571.337890625\n",
      "Sum: 12818.30859375, Min: 1.0, Max: 8103.083984375\n"
     ]
    }
   ],
   "source": [
    "print(f\"Скалярное произведение: {a.dot(b)}\")\n",
    "print(f\"Mean: {a.mean()}, STD: {a.std()}\")\n",
    "print(f\"Sum: {a.sum()}, Min: {a.min()}, Max: {a.max()}\")"
   ]
  },
  {
   "cell_type": "code",
   "execution_count": null,
   "metadata": {
    "colab": {
     "base_uri": "https://localhost:8080/"
    },
    "id": "bqJzUTbESuO8",
    "outputId": "09145193-8486-4e32-c705-1cc1781f9e37"
   },
   "outputs": [
    {
     "data": {
      "text/plain": [
       "torch.Size([10])"
      ]
     },
     "execution_count": 14,
     "metadata": {
      "tags": []
     },
     "output_type": "execute_result"
    }
   ],
   "source": [
    "a.shape"
   ]
  },
  {
   "cell_type": "code",
   "execution_count": null,
   "metadata": {
    "colab": {
     "base_uri": "https://localhost:8080/"
    },
    "id": "b8FYpFBMnm9_",
    "outputId": "0dc3b293-3120-4efe-8a95-41169fc96b77"
   },
   "outputs": [
    {
     "name": "stdout",
     "output_type": "stream",
     "text": [
      "Reshape:\n",
      "tensor([[1.0000e+00],\n",
      "        [2.7183e+00],\n",
      "        [7.3891e+00],\n",
      "        [2.0086e+01],\n",
      "        [5.4598e+01],\n",
      "        [1.4841e+02],\n",
      "        [4.0343e+02],\n",
      "        [1.0966e+03],\n",
      "        [2.9810e+03],\n",
      "        [8.1031e+03]])\n",
      "shape: torch.Size([10, 1])\n",
      "Повторения:\n",
      "tensor([[1.0000e+00, 1.0000e+00, 1.0000e+00, 1.0000e+00, 1.0000e+00],\n",
      "        [2.7183e+00, 2.7183e+00, 2.7183e+00, 2.7183e+00, 2.7183e+00],\n",
      "        [7.3891e+00, 7.3891e+00, 7.3891e+00, 7.3891e+00, 7.3891e+00],\n",
      "        [2.0086e+01, 2.0086e+01, 2.0086e+01, 2.0086e+01, 2.0086e+01],\n",
      "        [5.4598e+01, 5.4598e+01, 5.4598e+01, 5.4598e+01, 5.4598e+01],\n",
      "        [1.4841e+02, 1.4841e+02, 1.4841e+02, 1.4841e+02, 1.4841e+02],\n",
      "        [4.0343e+02, 4.0343e+02, 4.0343e+02, 4.0343e+02, 4.0343e+02],\n",
      "        [1.0966e+03, 1.0966e+03, 1.0966e+03, 1.0966e+03, 1.0966e+03],\n",
      "        [2.9810e+03, 2.9810e+03, 2.9810e+03, 2.9810e+03, 2.9810e+03],\n",
      "        [8.1031e+03, 8.1031e+03, 8.1031e+03, 8.1031e+03, 8.1031e+03]])\n",
      "shape: torch.Size([10, 5])\n",
      "Транспонирование:\n",
      "tensor([[1.0000e+00, 2.7183e+00, 7.3891e+00, 2.0086e+01, 5.4598e+01, 1.4841e+02,\n",
      "         4.0343e+02, 1.0966e+03, 2.9810e+03, 8.1031e+03],\n",
      "        [1.0000e+00, 2.7183e+00, 7.3891e+00, 2.0086e+01, 5.4598e+01, 1.4841e+02,\n",
      "         4.0343e+02, 1.0966e+03, 2.9810e+03, 8.1031e+03],\n",
      "        [1.0000e+00, 2.7183e+00, 7.3891e+00, 2.0086e+01, 5.4598e+01, 1.4841e+02,\n",
      "         4.0343e+02, 1.0966e+03, 2.9810e+03, 8.1031e+03],\n",
      "        [1.0000e+00, 2.7183e+00, 7.3891e+00, 2.0086e+01, 5.4598e+01, 1.4841e+02,\n",
      "         4.0343e+02, 1.0966e+03, 2.9810e+03, 8.1031e+03],\n",
      "        [1.0000e+00, 2.7183e+00, 7.3891e+00, 2.0086e+01, 5.4598e+01, 1.4841e+02,\n",
      "         4.0343e+02, 1.0966e+03, 2.9810e+03, 8.1031e+03]])\n",
      "shape: torch.Size([5, 10])\n",
      "Уникальные элементы: tensor([1.0000e+00, 2.7183e+00, 7.3891e+00, 2.0086e+01, 5.4598e+01, 1.4841e+02,\n",
      "        4.0343e+02, 1.0966e+03, 2.9810e+03, 8.1031e+03])\n"
     ]
    }
   ],
   "source": [
    "print(f\"Reshape:\\n{a.reshape(-1, 1)}\\nshape: {a.reshape(-1, 1).size()}\")\n",
    "c = a.reshape(-1, 1).repeat(1, 5)\n",
    "print(f\"Повторения:\\n{c}\\nshape: {c.size()}\")\n",
    "print(f\"Транспонирование:\\n{c.T}\\nshape: {c.T.size()}\")\n",
    "print(f\"Уникальные элементы: {torch.unique(c)}\")"
   ]
  },
  {
   "cell_type": "markdown",
   "metadata": {
    "id": "mrI9Y6-klrdd"
   },
   "source": [
    "### 2.6 Индексирование"
   ]
  },
  {
   "cell_type": "code",
   "execution_count": null,
   "metadata": {
    "colab": {
     "base_uri": "https://localhost:8080/"
    },
    "id": "gWKhVxkulrdd",
    "outputId": "832e246f-84d4-4f78-e9fb-2d777e3d2b7c"
   },
   "outputs": [
    {
     "name": "stdout",
     "output_type": "stream",
     "text": [
      "Array:\n",
      "tensor([[ 0,  1,  2,  3,  4,  5,  6,  7,  8,  9],\n",
      "        [10, 11, 12, 13, 14, 15, 16, 17, 18, 19],\n",
      "        [20, 21, 22, 23, 24, 25, 26, 27, 28, 29],\n",
      "        [30, 31, 32, 33, 34, 35, 36, 37, 38, 39],\n",
      "        [40, 41, 42, 43, 44, 45, 46, 47, 48, 49],\n",
      "        [50, 51, 52, 53, 54, 55, 56, 57, 58, 59],\n",
      "        [60, 61, 62, 63, 64, 65, 66, 67, 68, 69],\n",
      "        [70, 71, 72, 73, 74, 75, 76, 77, 78, 79],\n",
      "        [80, 81, 82, 83, 84, 85, 86, 87, 88, 89],\n",
      "        [90, 91, 92, 93, 94, 95, 96, 97, 98, 99]])\n",
      "shape: torch.Size([10, 10])\n",
      "Get first column: tensor([ 0, 10, 20, 30, 40, 50, 60, 70, 80, 90])\n",
      "Get last row: tensor([90, 91, 92, 93, 94, 95, 96, 97, 98, 99])\n",
      "Add new aхis:\n",
      "tensor([[[ 0,  1,  2,  3,  4,  5,  6,  7,  8,  9]],\n",
      "\n",
      "        [[10, 11, 12, 13, 14, 15, 16, 17, 18, 19]],\n",
      "\n",
      "        [[20, 21, 22, 23, 24, 25, 26, 27, 28, 29]],\n",
      "\n",
      "        [[30, 31, 32, 33, 34, 35, 36, 37, 38, 39]],\n",
      "\n",
      "        [[40, 41, 42, 43, 44, 45, 46, 47, 48, 49]],\n",
      "\n",
      "        [[50, 51, 52, 53, 54, 55, 56, 57, 58, 59]],\n",
      "\n",
      "        [[60, 61, 62, 63, 64, 65, 66, 67, 68, 69]],\n",
      "\n",
      "        [[70, 71, 72, 73, 74, 75, 76, 77, 78, 79]],\n",
      "\n",
      "        [[80, 81, 82, 83, 84, 85, 86, 87, 88, 89]],\n",
      "\n",
      "        [[90, 91, 92, 93, 94, 95, 96, 97, 98, 99]]])\n",
      "shape: torch.Size([10, 1, 10])\n",
      "Specific indexing:\n",
      "tensor([[47, 48, 49],\n",
      "        [57, 58, 59]])\n"
     ]
    }
   ],
   "source": [
    "a = torch.arange(100).reshape(10, 10)\n",
    "print(f\"Array:\\n{a}\\nshape: {a.size()}\")\n",
    "print(f\"Get first column: {a[:, 0]}\")\n",
    "print(f\"Get last row: {a[-1, :]}\")\n",
    "print(f\"Add new aхis:\\n{a[:, np.newaxis]}\\nshape: {a[:, np.newaxis].size()}\")\n",
    "print(f\"Specific indexing:\\n{a[4:6, 7:]}\")"
   ]
  },
  {
   "cell_type": "markdown",
   "metadata": {
    "id": "XxJ36RNblrde"
   },
   "source": [
    "### 2.7 Из numpy в pytorch и обратно"
   ]
  },
  {
   "cell_type": "code",
   "execution_count": null,
   "metadata": {
    "colab": {
     "base_uri": "https://localhost:8080/"
    },
    "id": "Von-vTQxlrdk",
    "outputId": "92a526ac-3205-4f2c-c712-5e706d1dd4fe"
   },
   "outputs": [
    {
     "data": {
      "text/plain": [
       "array([[ 0.66878796, -0.70770884, -0.32670644, -0.27880862],\n",
       "       [-0.42198604, -1.3323241 , -0.36393228,  0.15133809]],\n",
       "      dtype=float32)"
      ]
     },
     "execution_count": 17,
     "metadata": {
      "tags": []
     },
     "output_type": "execute_result"
    }
   ],
   "source": [
    "a = torch.normal(mean=torch.zeros(2,4))\n",
    "a.numpy()"
   ]
  },
  {
   "cell_type": "code",
   "execution_count": null,
   "metadata": {
    "colab": {
     "base_uri": "https://localhost:8080/"
    },
    "id": "nQl1YKAVlrdl",
    "outputId": "e3764b0d-dca5-48cb-c87b-539cef99fa22"
   },
   "outputs": [
    {
     "data": {
      "text/plain": [
       "tensor([[ 0.4967, -0.1383,  0.6477,  1.5230],\n",
       "        [-0.2342, -0.2341,  1.5792,  0.7674]], dtype=torch.float64)"
      ]
     },
     "execution_count": 18,
     "metadata": {
      "tags": []
     },
     "output_type": "execute_result"
    }
   ],
   "source": [
    "b = np.random.normal(size=(2, 4))\n",
    "torch.from_numpy(b)"
   ]
  },
  {
   "cell_type": "markdown",
   "metadata": {
    "id": "oB-V0qAFlrdm"
   },
   "source": [
    "### 2.8 CUDA"
   ]
  },
  {
   "cell_type": "markdown",
   "metadata": {
    "id": "TgH4-Qsklrdm"
   },
   "source": [
    "torch.cuda - это пакет для поддержки CUDA. Он поддерживает такую же функциональность как и CPU, но использует CUDA ядра для вычислений. С полным функционалом можно ознакомиться [здесь](https://pytorch.org/docs/stable/cuda.html?highlight=cuda#module-torch.cuda)"
   ]
  },
  {
   "cell_type": "code",
   "execution_count": null,
   "metadata": {
    "colab": {
     "base_uri": "https://localhost:8080/"
    },
    "id": "cKi3yXWzlrdn",
    "outputId": "5b7ac540-e667-42bf-ff4f-669445276420"
   },
   "outputs": [
    {
     "name": "stdout",
     "output_type": "stream",
     "text": [
      "Поддерживается ли CUDA : True\n",
      "Количество гпу девайсов: 1\n",
      "Переключение между гпу девайсами: <torch.cuda.device object at 0x7f5b926e4b90>\n",
      "Характеристики видеокарты : _CudaDeviceProperties(name='Tesla T4', major=7, minor=5, total_memory=15109MB, multi_processor_count=40)\n",
      "Удаляем всю незанятую память через torch.cuda.empty_cache()\n",
      "Следующие процессы происходят на нашей гпу : \n",
      "GPU:0\n",
      "no processes are running\n"
     ]
    }
   ],
   "source": [
    "print(f\"Поддерживается ли CUDA : {torch.cuda.is_available()}\")\n",
    "print(f'Количество гпу девайсов: {torch.cuda.device_count()}')\n",
    "print(f\"Переключение между гпу девайсами: {torch.cuda.device(0)}\")\n",
    "print(f\"Характеристики видеокарты : {torch.cuda.get_device_properties(0)}\")\n",
    "print(f\"Удаляем всю незанятую память через torch.cuda.empty_cache()\")\n",
    "# Что бы следующая команда работала вам нужно сделать pip install pynvml\n",
    "print(f\"Следующие процессы происходят на нашей гпу : \\n{torch.cuda.list_gpu_processes()}\")"
   ]
  },
  {
   "cell_type": "markdown",
   "metadata": {
    "id": "ZYuP3-cHlrdo"
   },
   "source": [
    "Давайте посмотрим на практике как работать с cuda. Допустим мы инициализуем два тензора:"
   ]
  },
  {
   "cell_type": "code",
   "execution_count": null,
   "metadata": {
    "colab": {
     "base_uri": "https://localhost:8080/"
    },
    "id": "tDl0l9wQlrdo",
    "outputId": "89913b24-be5f-4460-a86d-d50a9d958463"
   },
   "outputs": [
    {
     "name": "stdout",
     "output_type": "stream",
     "text": [
      "a:\n",
      "tensor([[ 0.3367,  0.1288,  0.2345,  0.2303],\n",
      "        [-1.1229, -0.1863,  2.2082, -0.6380]])\n",
      "b:\n",
      "tensor([[ 0.4617,  0.2674,  0.5349,  0.8094],\n",
      "        [ 1.1103, -1.6898, -0.9890,  0.9580]])\n"
     ]
    }
   ],
   "source": [
    "a = torch.normal(mean=torch.zeros(2, 4))\n",
    "b = torch.normal(mean=torch.zeros(2, 4))\n",
    "print(f\"a:\\n{a}\\nb:\\n{b}\")"
   ]
  },
  {
   "cell_type": "markdown",
   "metadata": {
    "id": "i1K9I_VKlrdp"
   },
   "source": [
    "Наши тензоры автоматом загружены в память cpu. Но мы легко можем перевести их на cpu таким способом:"
   ]
  },
  {
   "cell_type": "code",
   "execution_count": null,
   "metadata": {
    "colab": {
     "base_uri": "https://localhost:8080/"
    },
    "id": "lDb6ruPvlrdq",
    "outputId": "3451e4ac-b9a9-4324-9b8f-79bbb29fe0ab"
   },
   "outputs": [
    {
     "data": {
      "text/plain": [
       "tensor([[-0.3514, -0.7906, -0.0915,  0.2352],\n",
       "        [ 2.2440,  0.5817,  0.4528,  0.6410]], device='cuda:0')"
      ]
     },
     "execution_count": 21,
     "metadata": {
      "tags": []
     },
     "output_type": "execute_result"
    }
   ],
   "source": [
    "a = a.cuda()\n",
    "a"
   ]
  },
  {
   "cell_type": "markdown",
   "metadata": {
    "id": "Ha5DoFO5lrdq"
   },
   "source": [
    "Теперь, если мы попробуем сложить эти два тензора, то у нас вылезет ошибка, т.к. один тензор на cpu, а другой на cuda:"
   ]
  },
  {
   "cell_type": "code",
   "execution_count": null,
   "metadata": {
    "colab": {
     "base_uri": "https://localhost:8080/",
     "height": 173
    },
    "id": "UGwUNC2xlrdw",
    "outputId": "30e94753-8605-4038-e04a-bacd14d23763"
   },
   "outputs": [
    {
     "ename": "RuntimeError",
     "evalue": "ignored",
     "output_type": "error",
     "traceback": [
      "\u001b[0;31m---------------------------------------------------------------------------\u001b[0m",
      "\u001b[0;31mRuntimeError\u001b[0m                              Traceback (most recent call last)",
      "\u001b[0;32m<ipython-input-22-bd58363a63fc>\u001b[0m in \u001b[0;36m<module>\u001b[0;34m()\u001b[0m\n\u001b[0;32m----> 1\u001b[0;31m \u001b[0ma\u001b[0m \u001b[0;34m+\u001b[0m \u001b[0mb\u001b[0m\u001b[0;34m\u001b[0m\u001b[0;34m\u001b[0m\u001b[0m\n\u001b[0m",
      "\u001b[0;31mRuntimeError\u001b[0m: Expected all tensors to be on the same device, but found at least two devices, cuda:0 and cpu!"
     ]
    }
   ],
   "source": [
    "a + b"
   ]
  },
  {
   "cell_type": "markdown",
   "metadata": {
    "id": "Hc627l3ulrdw"
   },
   "source": [
    "Мы не можем производить никакие операции с тензорами, находящимеся на разных устройствах. Что бы сложить их нам нужно оба тензора перевести на одно устройство:"
   ]
  },
  {
   "cell_type": "code",
   "execution_count": null,
   "metadata": {
    "colab": {
     "base_uri": "https://localhost:8080/"
    },
    "id": "Xv7Vbf0glrdx",
    "outputId": "94bcf27c-d6bb-4e7b-d3e2-5f98545f80e8"
   },
   "outputs": [
    {
     "data": {
      "text/plain": [
       "tensor([[ 0.1685, -0.2339, -0.0171,  0.9465],\n",
       "        [ 1.6753,  1.8397, -1.1362, -0.4798]], device='cuda:0')"
      ]
     },
     "execution_count": 23,
     "metadata": {
      "tags": []
     },
     "output_type": "execute_result"
    }
   ],
   "source": [
    "a + b.cuda()"
   ]
  },
  {
   "cell_type": "code",
   "execution_count": null,
   "metadata": {
    "colab": {
     "base_uri": "https://localhost:8080/"
    },
    "id": "X-WcdeyTlrdx",
    "outputId": "224e8f01-ac88-4d63-8b48-0d253de23023"
   },
   "outputs": [
    {
     "data": {
      "text/plain": [
       "tensor([[ 0.1685, -0.2339, -0.0171,  0.9465],\n",
       "        [ 1.6753,  1.8397, -1.1362, -0.4798]])"
      ]
     },
     "execution_count": 24,
     "metadata": {
      "tags": []
     },
     "output_type": "execute_result"
    }
   ],
   "source": [
    "a.cpu() + b"
   ]
  },
  {
   "cell_type": "code",
   "execution_count": null,
   "metadata": {
    "colab": {
     "base_uri": "https://localhost:8080/"
    },
    "id": "gmcJ4-dYlrdz",
    "outputId": "2f533a92-0f2f-4fea-b56c-38a65f751195"
   },
   "outputs": [
    {
     "data": {
      "text/plain": [
       "tensor([[ 0.1685, -0.2339, -0.0171,  0.9465],\n",
       "        [ 1.6753,  1.8397, -1.1362, -0.4798]])"
      ]
     },
     "execution_count": 25,
     "metadata": {
      "tags": []
     },
     "output_type": "execute_result"
    }
   ],
   "source": [
    "(a + b.cuda()).cpu()"
   ]
  },
  {
   "cell_type": "markdown",
   "metadata": {
    "id": "MBhzRlf5lrdz"
   },
   "source": [
    "Так же мы можем задать следующее определение устройства. Если  есть куда, то выбираем куду. В ином случае - цпу:"
   ]
  },
  {
   "cell_type": "code",
   "execution_count": null,
   "metadata": {
    "colab": {
     "base_uri": "https://localhost:8080/"
    },
    "id": "6_7usJoelrd0",
    "outputId": "664da280-5de7-49ca-ff39-5b2dac367b1e"
   },
   "outputs": [
    {
     "name": "stdout",
     "output_type": "stream",
     "text": [
      "cuda:0\n"
     ]
    }
   ],
   "source": [
    "device = torch.device(\"cuda:0\" if torch.cuda.is_available() else \"cpu\")\n",
    "print(device)"
   ]
  },
  {
   "cell_type": "markdown",
   "metadata": {
    "id": "q4RrmCBTlrd0"
   },
   "source": [
    "У каждого тензора есть поле device, которое по умолчанию стоит cpu. Но мы можем менять его при инициализации или в процессе использования:"
   ]
  },
  {
   "cell_type": "code",
   "execution_count": null,
   "metadata": {
    "colab": {
     "base_uri": "https://localhost:8080/"
    },
    "id": "Tf4O-Jbzlrd7",
    "outputId": "dd9d5f26-4f23-48b5-f63f-87ce33a4c7c0"
   },
   "outputs": [
    {
     "data": {
      "text/plain": [
       "tensor([[ 0.1940,  2.1614, -0.1721,  0.8491, -1.9244,  0.6530, -0.6494, -0.8175,\n",
       "          0.5280, -1.2753],\n",
       "        [-1.6621, -0.3033, -0.0926,  0.1992, -1.1204,  1.8577, -0.7145,  0.6881,\n",
       "          0.7968, -0.0334],\n",
       "        [ 1.4917, -0.5165, -0.2541,  1.4746, -0.3260, -1.1600,  2.3551, -0.6924,\n",
       "          0.1837, -1.1835],\n",
       "        [-1.8029, -1.5808,  0.8387,  1.4192,  0.6469,  0.4253, -1.5892,  0.6223,\n",
       "          1.6898, -0.6648],\n",
       "        [ 0.9425,  0.0783,  0.0847, -0.1408,  0.3316, -0.5890, -1.0723,  0.0954,\n",
       "         -0.3347, -0.5258],\n",
       "        [-0.8776,  0.3938,  0.1640, -0.1977,  1.0104, -1.3482, -0.3498, -0.6443,\n",
       "          0.4468, -0.5371],\n",
       "        [ 1.2423, -0.8146,  0.2502, -0.4273,  1.1044, -1.1028,  0.5543, -1.2847,\n",
       "         -0.3816,  0.5139],\n",
       "        [ 0.1002,  0.2586,  0.3617,  2.2787,  0.0233,  1.5828, -1.1592,  0.9484,\n",
       "         -0.4573,  0.7605],\n",
       "        [-0.5787, -0.7050, -0.7234, -0.5071, -0.4398, -0.4182,  0.1741,  0.4427,\n",
       "          0.5069, -1.2168],\n",
       "        [-0.2719,  0.2765, -1.4398, -0.6463,  0.0749,  0.1939,  0.5960,  0.2322,\n",
       "          1.1415, -0.6817]], device='cuda:0')"
      ]
     },
     "execution_count": 27,
     "metadata": {
      "tags": []
     },
     "output_type": "execute_result"
    }
   ],
   "source": [
    "torch.randn(10, 10, device=device)"
   ]
  },
  {
   "cell_type": "code",
   "execution_count": null,
   "metadata": {
    "colab": {
     "base_uri": "https://localhost:8080/"
    },
    "id": "PQwfJX44lrd8",
    "outputId": "fe6bd6e0-1b23-423b-9e6f-d93a2976b95c"
   },
   "outputs": [
    {
     "name": "stdout",
     "output_type": "stream",
     "text": [
      "tensor([2, 3])\n"
     ]
    }
   ],
   "source": [
    "a = torch.tensor((2 ,3))\n",
    "print(a)"
   ]
  },
  {
   "cell_type": "markdown",
   "metadata": {
    "id": "LtemnxcGlrd9"
   },
   "source": [
    "Переместить можно не только a.cuda(), но и так:"
   ]
  },
  {
   "cell_type": "code",
   "execution_count": null,
   "metadata": {
    "colab": {
     "base_uri": "https://localhost:8080/"
    },
    "id": "TrYYeQ2Ylrd9",
    "outputId": "d32055a6-3dcf-4cc3-a942-d89916b291cf"
   },
   "outputs": [
    {
     "data": {
      "text/plain": [
       "tensor([[ 0.3367,  0.1288,  0.2345,  0.2303],\n",
       "        [-1.1229, -0.1863,  2.2082, -0.6380]], device='cuda:0')"
      ]
     },
     "execution_count": 8,
     "metadata": {
      "tags": []
     },
     "output_type": "execute_result"
    }
   ],
   "source": [
    "a.to(device)"
   ]
  },
  {
   "cell_type": "markdown",
   "metadata": {
    "id": "QJfvB_s_lrd-"
   },
   "source": [
    "Но следует запомнить что .cuda() immutable функция. Т.е. она возвращает новый тензор, а не перезаписывает существующий a:"
   ]
  },
  {
   "cell_type": "code",
   "execution_count": null,
   "metadata": {
    "colab": {
     "base_uri": "https://localhost:8080/"
    },
    "id": "DHVkYlxWlrd-",
    "outputId": "e14096d5-bb6f-4ddd-a675-794e60f16a4e"
   },
   "outputs": [
    {
     "data": {
      "text/plain": [
       "tensor([[ 0.3367,  0.1288,  0.2345,  0.2303],\n",
       "        [-1.1229, -0.1863,  2.2082, -0.6380]])"
      ]
     },
     "execution_count": 9,
     "metadata": {
      "tags": []
     },
     "output_type": "execute_result"
    }
   ],
   "source": [
    "a"
   ]
  },
  {
   "cell_type": "markdown",
   "metadata": {
    "id": "1r-u4QZ3lrd_"
   },
   "source": [
    "Как видим наш тензор a все на том же cpu. Что бы интерпретатор запомнил что a у нас на куде необходимо присвоить значение выражение в тензор:"
   ]
  },
  {
   "cell_type": "code",
   "execution_count": null,
   "metadata": {
    "id": "8PZP4VMqlrd_"
   },
   "outputs": [],
   "source": [
    "a = a.cuda()"
   ]
  },
  {
   "cell_type": "code",
   "execution_count": null,
   "metadata": {
    "colab": {
     "base_uri": "https://localhost:8080/"
    },
    "id": "jSnuqWi4lreA",
    "outputId": "4367efc5-52be-49a0-ecc9-c45e3fc2ec7f"
   },
   "outputs": [
    {
     "data": {
      "text/plain": [
       "tensor([[ 0.3367,  0.1288,  0.2345,  0.2303],\n",
       "        [-1.1229, -0.1863,  2.2082, -0.6380]], device='cuda:0')"
      ]
     },
     "execution_count": 11,
     "metadata": {
      "tags": []
     },
     "output_type": "execute_result"
    }
   ],
   "source": [
    "a"
   ]
  },
  {
   "cell_type": "markdown",
   "metadata": {
    "id": "KiV-LOESlreG"
   },
   "source": [
    "Проверяем, находится ли сейчас тензор на куде:"
   ]
  },
  {
   "cell_type": "code",
   "execution_count": null,
   "metadata": {
    "colab": {
     "base_uri": "https://localhost:8080/"
    },
    "id": "6w2LyZpklreH",
    "outputId": "c02c4b7b-9d2e-447e-9e88-7dcad4f8aa65"
   },
   "outputs": [
    {
     "data": {
      "text/plain": [
       "True"
      ]
     },
     "execution_count": 33,
     "metadata": {
      "tags": []
     },
     "output_type": "execute_result"
    }
   ],
   "source": [
    "a.is_cuda"
   ]
  },
  {
   "cell_type": "markdown",
   "metadata": {
    "id": "wYIltf84lreJ"
   },
   "source": [
    "# 3. Вычислительный граф и Автоматическое диференцирование\n",
    "\n",
    "### 3.1 Вычислительный граф\n",
    "\n",
    "Вычислительный граф — это иллюстрированная запись какой-либо функции, состоящая из вершин и рёбер. Вершины (или узлы) — вычислительные операции, которые необходимо выполнить, а рёбра связывают их в определённую последовательность.\n",
    "\n",
    "Автоматическое дифференцирование - строительный блок не только в Pytorch, но и в каждой другой DL библиотеке. Движок автоматического дифференцирования в Pytorch называет [Autograd](https://pytorch.org/docs/stable/autograd.html). \n",
    "\n",
    "Современные архитектуры нейронных сетей могут иметь миллионы обучающихся параметров. С вычислительной точки зрения тренировка сети состоит из двух фаз:\n",
    "\n",
    "1) Прямой проход для вычисления значения функции потерь.  \n",
    "2) Обратный проход для вычисления градиентов обучаемых параметров.\n",
    "\n",
    "Прямой проход весьма прямолинеен: выход одного слоя является входом другого.\n",
    "Обратный проход немного сложнее, поскольку он требует от нас использования цепного правила для вычисления градиентов весов относительно функции потерь."
   ]
  },
  {
   "cell_type": "markdown",
   "metadata": {
    "id": "PTUPg57vAhg6"
   },
   "source": [
    "Ниже представлен простой пример вычислительного графа для вычисления выражения $\\sigma(x*w_1 + w_0)$. Можно разбить вычисление на следующие шаги:"
   ]
  },
  {
   "cell_type": "markdown",
   "metadata": {
    "id": "7DEEdtooAhg6"
   },
   "source": [
    "<img src='https://drive.google.com/uc?export=view&id=1jCTO6zBGyE8sYkkSv_6NENdFOiwuJCMC' width=600>"
   ]
  },
  {
   "cell_type": "markdown",
   "metadata": {
    "id": "TJMGxYF6Ahg7"
   },
   "source": [
    "Преимущества использования вычислительного графа в том, что каждый узел является независимым функционирующим куском кода, если получит все необходимые входные данные. Это позволяет  оптимизировать производительность при выполнении расчетов, используя многоканальную обработку, параллельные вычисления."
   ]
  },
  {
   "cell_type": "markdown",
   "metadata": {
    "id": "5gbHTyn5lreo"
   },
   "source": [
    "### 3.3 PyTorch Autograd"
   ]
  },
  {
   "cell_type": "markdown",
   "metadata": {
    "id": "JZHQDshMlreo"
   },
   "source": [
    "Теперь, когда мы понимаем, что такое вычислительный граф, вернемся к PyTorch и разберемся, как это реализовано в PyTorch."
   ]
  },
  {
   "cell_type": "markdown",
   "metadata": {
    "id": "0415zzOllrep"
   },
   "source": [
    "#### 3.3.1 Tензоры и requires_grad"
   ]
  },
  {
   "cell_type": "markdown",
   "metadata": {
    "id": "bUUpc9TGlrep"
   },
   "source": [
    "Как мы видели выше, тензор - это структура данных, которая является фундаментальным строительным блоком PyTorch и они во многом похожи на массивы numpy, за исключением того, что в отличие от numpy, тензоры предназначены для использования преимуществ параллельных вычислений графического процессора(GPU)."
   ]
  },
  {
   "cell_type": "code",
   "execution_count": null,
   "metadata": {
    "colab": {
     "base_uri": "https://localhost:8080/"
    },
    "id": "rnhj6vjolreq",
    "outputId": "50916ded-2960-4d76-963c-f1d86f98e9a7"
   },
   "outputs": [
    {
     "data": {
      "text/plain": [
       "tensor([[-5.0783e+08,  3.0718e-41,  2.2082e+00, -6.3800e-01, -4.7764e+09],\n",
       "        [ 3.0718e-41, -4.7768e+09,  3.0718e-41, -4.7769e+09,  3.0718e-41],\n",
       "        [-4.7770e+09,  3.0718e-41, -4.7758e+09,  3.0718e-41, -4.7772e+09]])"
      ]
     },
     "execution_count": 12,
     "metadata": {
      "tags": []
     },
     "output_type": "execute_result"
    }
   ],
   "source": [
    "import torch\n",
    "tsr = torch.Tensor(3,5)\n",
    "tsr"
   ]
  },
  {
   "cell_type": "markdown",
   "metadata": {
    "id": "PAM31O5ylrer"
   },
   "source": [
    "Вот он Tensor похожий на numpy ndarray. Структура данных, которая позволяет быстро выполнять операции линейной алгебры. Что бы сделать тензор обучающимся и мы бы смогли вычислить его градиент, необходимо поставить его параметр requires_grad в значение True."
   ]
  },
  {
   "cell_type": "markdown",
   "metadata": {
    "id": "WQX1h7uvlrer"
   },
   "source": [
    "requires_grad можно менять как при инициализации тензора, так и после:"
   ]
  },
  {
   "cell_type": "code",
   "execution_count": null,
   "metadata": {
    "colab": {
     "base_uri": "https://localhost:8080/"
    },
    "id": "NjB1sRIMlrex",
    "outputId": "cb384705-4a89-48ef-ed20-c5b03336c2b7"
   },
   "outputs": [
    {
     "name": "stdout",
     "output_type": "stream",
     "text": [
      "True\n",
      "False\n"
     ]
    }
   ],
   "source": [
    "t1 = torch.randn((3, 3), requires_grad=True)\n",
    "print(t1.requires_grad)\n",
    "t2 = torch.FloatTensor(3, 3)\n",
    "print(t2.requires_grad)"
   ]
  },
  {
   "cell_type": "code",
   "execution_count": null,
   "metadata": {
    "colab": {
     "base_uri": "https://localhost:8080/"
    },
    "id": "PJkO2Yuolrey",
    "outputId": "3e6d4ce4-67ce-4e18-b8d2-5cabe6760349"
   },
   "outputs": [
    {
     "name": "stdout",
     "output_type": "stream",
     "text": [
      "True\n"
     ]
    }
   ],
   "source": [
    "t2.requires_grad = True\n",
    "print(t2.requires_grad)"
   ]
  },
  {
   "cell_type": "markdown",
   "metadata": {
    "id": "zzX5Atkmlrez"
   },
   "source": [
    "requires_grad заразителен. Это означает, что когда тензор создается с помощью других тензоров, для параметра requires_grad результирующего тензора будет установлено значение True, если хотя бы один из тензоров, используемых для создания, имеет для параметра requires_grad значение True."
   ]
  },
  {
   "cell_type": "markdown",
   "metadata": {
    "id": "heK4cN4iq8Kp"
   },
   "source": [
    "*__Вопрос__: в каких ситуациях нам не нужен градиент для переменных?*\n",
    "\n",
    "Для заморозки градиентов если нейронная сеть уже обучена."
   ]
  },
  {
   "cell_type": "code",
   "execution_count": null,
   "metadata": {
    "colab": {
     "base_uri": "https://localhost:8080/"
    },
    "id": "lZ6G8eOqAhhU",
    "outputId": "438e346b-8e41-4923-bc38-af4ff6147da7"
   },
   "outputs": [
    {
     "data": {
      "text/plain": [
       "tensor([1., 1., 1.], requires_grad=True)"
      ]
     },
     "execution_count": 13,
     "metadata": {
      "tags": []
     },
     "output_type": "execute_result"
    }
   ],
   "source": [
    "x = torch.ones(3, requires_grad=True)\n",
    "x"
   ]
  },
  {
   "cell_type": "markdown",
   "metadata": {
    "id": "u_aXcleXAhhU"
   },
   "source": [
    "В x у нас хранится информация о градиенте. Мы можем получить ее через метод grad:"
   ]
  },
  {
   "cell_type": "code",
   "execution_count": null,
   "metadata": {
    "id": "ft_gExlZAhhV"
   },
   "outputs": [],
   "source": [
    "x.grad"
   ]
  },
  {
   "cell_type": "markdown",
   "metadata": {
    "id": "go7WnPwfAhhV"
   },
   "source": [
    "В данном случае ничего нет, т.к. мы никаких действий с нашим тензором не производили."
   ]
  },
  {
   "cell_type": "markdown",
   "metadata": {
    "id": "G50J9jHEAhhV"
   },
   "source": [
    "Создадим переменную на основе x:"
   ]
  },
  {
   "cell_type": "code",
   "execution_count": null,
   "metadata": {
    "id": "nIqgi87CAhhW"
   },
   "outputs": [],
   "source": [
    "z = (x ** 2) + 5.0 * x  # задание - посчитать производную руками"
   ]
  },
  {
   "cell_type": "code",
   "execution_count": null,
   "metadata": {
    "colab": {
     "base_uri": "https://localhost:8080/"
    },
    "id": "cCl_FwTTAhhW",
    "outputId": "ac69bc45-4e23-4556-83af-e7a3f1a41679"
   },
   "outputs": [
    {
     "data": {
      "text/plain": [
       "tensor([6., 6., 6.], grad_fn=<AddBackward0>)"
      ]
     },
     "execution_count": 16,
     "metadata": {
      "tags": []
     },
     "output_type": "execute_result"
    }
   ],
   "source": [
    "z"
   ]
  },
  {
   "cell_type": "markdown",
   "metadata": {
    "id": "zwpCO-5hAhhW"
   },
   "source": [
    "Мы вызываем метод backward и передаем ей единичный тензор:"
   ]
  },
  {
   "cell_type": "code",
   "execution_count": null,
   "metadata": {
    "id": "U2RngNdNAhhX"
   },
   "outputs": [],
   "source": [
    "z.backward(x)"
   ]
  },
  {
   "cell_type": "markdown",
   "metadata": {
    "id": "GMNtkwy6AhhX"
   },
   "source": [
    "И тогда, когда мы выполнили эту функцию - мы вызываем градиент и мы получаем три 7ки:"
   ]
  },
  {
   "cell_type": "code",
   "execution_count": null,
   "metadata": {
    "colab": {
     "base_uri": "https://localhost:8080/"
    },
    "id": "DXcfyu2FAhhX",
    "outputId": "6d528d91-b0c1-45a0-beef-944956446646"
   },
   "outputs": [
    {
     "data": {
      "text/plain": [
       "tensor([7., 7., 7.])"
      ]
     },
     "execution_count": 45,
     "metadata": {
      "tags": []
     },
     "output_type": "execute_result"
    }
   ],
   "source": [
    "x.grad"
   ]
  },
  {
   "cell_type": "markdown",
   "metadata": {
    "id": "t8e4hHAybGqo"
   },
   "source": [
    "<img src='https://drive.google.com/uc?export=view&id=1jCTO6zBGyE8sYkkSv_6NENdFOiwuJCMC' width=600>"
   ]
  },
  {
   "cell_type": "code",
   "execution_count": null,
   "metadata": {
    "colab": {
     "base_uri": "https://localhost:8080/"
    },
    "id": "BFUmKCyCbGqx",
    "outputId": "c0363994-c412-486b-99d7-29a9ebaca991"
   },
   "outputs": [
    {
     "name": "stderr",
     "output_type": "stream",
     "text": [
      "/usr/local/lib/python3.7/dist-packages/torch/nn/functional.py:1709: UserWarning: nn.functional.sigmoid is deprecated. Use torch.sigmoid instead.\n",
      "  warnings.warn(\"nn.functional.sigmoid is deprecated. Use torch.sigmoid instead.\")\n"
     ]
    },
    {
     "data": {
      "text/plain": [
       "tensor(0.0590, grad_fn=<MseLossBackward>)"
      ]
     },
     "execution_count": 46,
     "metadata": {
      "tags": []
     },
     "output_type": "execute_result"
    }
   ],
   "source": [
    "x = torch.FloatTensor([1])\n",
    "w1 = torch.tensor([0.417], requires_grad=True)\n",
    "w0 = torch.tensor([0.72], requires_grad=True)\n",
    "\n",
    "a = x * w1\n",
    "b = a + w0\n",
    "\n",
    "sigma = torch.nn.functional.sigmoid(b)\n",
    "mse = torch.nn.functional.mse_loss(sigma, x)\n",
    "mse"
   ]
  },
  {
   "cell_type": "code",
   "execution_count": null,
   "metadata": {
    "id": "Co67-_HqbGq0"
   },
   "outputs": [],
   "source": [
    "mse.backward()"
   ]
  },
  {
   "cell_type": "code",
   "execution_count": null,
   "metadata": {
    "colab": {
     "base_uri": "https://localhost:8080/"
    },
    "id": "bYWTMpiEbGq1",
    "outputId": "6d9655b3-bd80-4c02-e297-34bdf4a51d26"
   },
   "outputs": [
    {
     "data": {
      "text/plain": [
       "(tensor([-0.0893]), tensor([-0.0893]))"
      ]
     },
     "execution_count": 48,
     "metadata": {
      "tags": []
     },
     "output_type": "execute_result"
    }
   ],
   "source": [
    "w1.grad, w0.grad"
   ]
  },
  {
   "cell_type": "markdown",
   "metadata": {
    "id": "jXn6KlzWlre0"
   },
   "source": [
    "У каждого тензора есть атрибут grad_fn, который отсылается к функции (математическому оператору), создающему переменную. Если для параметра requires_grad установлено значение False, grad_fn будет равен None."
   ]
  },
  {
   "cell_type": "code",
   "execution_count": null,
   "metadata": {
    "colab": {
     "base_uri": "https://localhost:8080/"
    },
    "id": "rGsqOfzQlre_",
    "outputId": "09076091-824c-4647-c63b-fb9758fcf92d"
   },
   "outputs": [
    {
     "name": "stdout",
     "output_type": "stream",
     "text": [
      "The grad fn for a is None\n",
      "The grad fn for d is <AddBackward0 object at 0x7f0e472e8490>\n"
     ]
    }
   ],
   "source": [
    "a = torch.randn((3,3), requires_grad=True)\n",
    "\n",
    "w1 = torch.randn((3,3), requires_grad=True)\n",
    "w2 = torch.randn((3,3), requires_grad=True)\n",
    "w3 = torch.randn((3,3), requires_grad=True)\n",
    "w4 = torch.randn((3,3), requires_grad=True)\n",
    "\n",
    "b = w1 * a\n",
    "c = w2 * a\n",
    "\n",
    "d = w3 * b + w4 * c\n",
    "\n",
    "L = 10 - d\n",
    "\n",
    "print(\"The grad fn for a is\", a.grad_fn)\n",
    "print(\"The grad fn for d is\", d.grad_fn)"
   ]
  },
  {
   "cell_type": "markdown",
   "metadata": {
    "id": "IhIb7fzAlrfA"
   },
   "source": [
    "Можно использовать функцию-член is_leaf, чтобы определить, является ли переменная листовым тензором или нет. Листовые тензоры - это тензоры, которые мы подаем в нашу систему вычислений. В нашем случае это а:"
   ]
  },
  {
   "cell_type": "code",
   "execution_count": null,
   "metadata": {
    "colab": {
     "base_uri": "https://localhost:8080/"
    },
    "id": "j5QIyVGOlrfB",
    "outputId": "c9c54384-2eb6-4641-be23-7aea64e8bb91"
   },
   "outputs": [
    {
     "data": {
      "text/plain": [
       "(True, True)"
      ]
     },
     "execution_count": 50,
     "metadata": {
      "tags": []
     },
     "output_type": "execute_result"
    }
   ],
   "source": [
    "a.is_leaf, w1.is_leaf"
   ]
  },
  {
   "cell_type": "code",
   "execution_count": null,
   "metadata": {
    "colab": {
     "base_uri": "https://localhost:8080/"
    },
    "id": "RnZelZ9KlrfC",
    "outputId": "f2ca7962-0271-4847-8c88-455ef3484c0c"
   },
   "outputs": [
    {
     "data": {
      "text/plain": [
       "False"
      ]
     },
     "execution_count": 51,
     "metadata": {
      "tags": []
     },
     "output_type": "execute_result"
    }
   ],
   "source": [
    "L.is_leaf"
   ]
  },
  {
   "cell_type": "markdown",
   "metadata": {
    "id": "AMm2QuehlrfD"
   },
   "source": [
    "#### 3.3.2 Function"
   ]
  },
  {
   "cell_type": "markdown",
   "metadata": {
    "id": "pSs52A0rlrfD"
   },
   "source": [
    "Все математические операции в PyTorch реализуются классом [torch.nn.Autograd.Function](https://pytorch.org/docs/stable/autograd.html#function). У этого класса есть две важные функции-члены, на которые нам нужно обратить внимание.\n",
    "\n",
    "Во-первых, это forward функция, которая просто вычисляет выходные данные, используя входные данные.\n",
    "\n",
    "Функция backward принимает входящий градиент, исходящий от части сети перед ней. Как вы можете видеть, градиент, который должен распространяться в обратном направлении от функции f, - это, по сути, градиент, который передается обратно в f от слоев перед ним, умноженный на локальный градиент выходных данных f по отношению к его входам. Именно это и делает обратная функция.\n"
   ]
  },
  {
   "cell_type": "markdown",
   "metadata": {
    "id": "GMXS85bmlrfG"
   },
   "source": [
    "Алгоритмически, вот как происходит обратное распространение с графом вычислений. (Не фактическая реализация, только пример):"
   ]
  },
  {
   "cell_type": "code",
   "execution_count": null,
   "metadata": {
    "id": "MNm3GMI-lrfG"
   },
   "outputs": [],
   "source": [
    "def backward(incoming_gradients):\n",
    "    self.Tensor.grad = incoming_gradients\n",
    "\n",
    "    for inp in self.inputs:\n",
    "        if inp.grad_fn is not None:\n",
    "            new_incoming_gradients = incoming_gradient * local_grad(self.Tensor, inp)\n",
    "\n",
    "            inp.grad_fn.backward(new_incoming_gradients)\n",
    "        else:\n",
    "            pass"
   ]
  },
  {
   "cell_type": "markdown",
   "metadata": {
    "id": "0EtJtoVblrfG"
   },
   "source": [
    "Здесь self.Tensor - это, тензор, созданный Autograd.Function, который использовался в нашем примере.\n",
    "\n",
    "Входящие градиенты и локальные градиенты были описаны выше."
   ]
  },
  {
   "cell_type": "markdown",
   "metadata": {
    "id": "DLVqseSWlrfH"
   },
   "source": [
    "----"
   ]
  },
  {
   "cell_type": "markdown",
   "metadata": {
    "id": "2EJewzsLlrfJ"
   },
   "source": [
    "Чтобы вычислить производные в нашей нейронной сети, мы обычно обращаемся к тензору, представляющему нашу потерю. Затем мы возвращаемся по графику, начиная с узла, представляющего grad_fn наших потерь.\n",
    "\n",
    "Как описано выше, обратная функция рекурсивно вызывается по графику, когда мы возвращаемся. Однажды мы достигаем листового узла, поскольку grad_fn равен None, но прекращаем возвращение по этому пути.\n",
    "\n",
    "Здесь следует отметить, что PyTorch выдает ошибку, если вы вызываете backward () для векторного тензора. Это означает, что вы можете выполнять обратный вызов только для тензорного скалярного значения. В нашем примере, если мы предположим, что a - тензор с векторным значением, и обратимся к L, он выдаст ошибку."
   ]
  },
  {
   "cell_type": "code",
   "execution_count": null,
   "metadata": {
    "colab": {
     "base_uri": "https://localhost:8080/",
     "height": 415
    },
    "id": "OHnXE1tDlrfJ",
    "outputId": "17c23f1f-5d07-4b47-c455-b03df3225961"
   },
   "outputs": [
    {
     "name": "stdout",
     "output_type": "stream",
     "text": [
      "tensor([[ 9.9736, 10.9209,  8.4235],\n",
      "        [10.0237, 10.0618,  8.3303],\n",
      "        [ 9.8834,  9.9571,  8.7704]], grad_fn=<RsubBackward1>)\n"
     ]
    },
    {
     "ename": "RuntimeError",
     "evalue": "ignored",
     "output_type": "error",
     "traceback": [
      "\u001b[0;31m---------------------------------------------------------------------------\u001b[0m",
      "\u001b[0;31mRuntimeError\u001b[0m                              Traceback (most recent call last)",
      "\u001b[0;32m<ipython-input-53-04b6b2e5b3ae>\u001b[0m in \u001b[0;36m<module>\u001b[0;34m()\u001b[0m\n\u001b[1;32m     16\u001b[0m \u001b[0mprint\u001b[0m\u001b[0;34m(\u001b[0m\u001b[0mL\u001b[0m\u001b[0;34m)\u001b[0m\u001b[0;34m\u001b[0m\u001b[0;34m\u001b[0m\u001b[0m\n\u001b[1;32m     17\u001b[0m \u001b[0;34m\u001b[0m\u001b[0m\n\u001b[0;32m---> 18\u001b[0;31m \u001b[0mL\u001b[0m\u001b[0;34m.\u001b[0m\u001b[0mbackward\u001b[0m\u001b[0;34m(\u001b[0m\u001b[0;34m)\u001b[0m\u001b[0;34m\u001b[0m\u001b[0;34m\u001b[0m\u001b[0m\n\u001b[0m",
      "\u001b[0;32m/usr/local/lib/python3.7/dist-packages/torch/tensor.py\u001b[0m in \u001b[0;36mbackward\u001b[0;34m(self, gradient, retain_graph, create_graph, inputs)\u001b[0m\n\u001b[1;32m    243\u001b[0m                 \u001b[0mcreate_graph\u001b[0m\u001b[0;34m=\u001b[0m\u001b[0mcreate_graph\u001b[0m\u001b[0;34m,\u001b[0m\u001b[0;34m\u001b[0m\u001b[0;34m\u001b[0m\u001b[0m\n\u001b[1;32m    244\u001b[0m                 inputs=inputs)\n\u001b[0;32m--> 245\u001b[0;31m         \u001b[0mtorch\u001b[0m\u001b[0;34m.\u001b[0m\u001b[0mautograd\u001b[0m\u001b[0;34m.\u001b[0m\u001b[0mbackward\u001b[0m\u001b[0;34m(\u001b[0m\u001b[0mself\u001b[0m\u001b[0;34m,\u001b[0m \u001b[0mgradient\u001b[0m\u001b[0;34m,\u001b[0m \u001b[0mretain_graph\u001b[0m\u001b[0;34m,\u001b[0m \u001b[0mcreate_graph\u001b[0m\u001b[0;34m,\u001b[0m \u001b[0minputs\u001b[0m\u001b[0;34m=\u001b[0m\u001b[0minputs\u001b[0m\u001b[0;34m)\u001b[0m\u001b[0;34m\u001b[0m\u001b[0;34m\u001b[0m\u001b[0m\n\u001b[0m\u001b[1;32m    246\u001b[0m \u001b[0;34m\u001b[0m\u001b[0m\n\u001b[1;32m    247\u001b[0m     \u001b[0;32mdef\u001b[0m \u001b[0mregister_hook\u001b[0m\u001b[0;34m(\u001b[0m\u001b[0mself\u001b[0m\u001b[0;34m,\u001b[0m \u001b[0mhook\u001b[0m\u001b[0;34m)\u001b[0m\u001b[0;34m:\u001b[0m\u001b[0;34m\u001b[0m\u001b[0;34m\u001b[0m\u001b[0m\n",
      "\u001b[0;32m/usr/local/lib/python3.7/dist-packages/torch/autograd/__init__.py\u001b[0m in \u001b[0;36mbackward\u001b[0;34m(tensors, grad_tensors, retain_graph, create_graph, grad_variables, inputs)\u001b[0m\n\u001b[1;32m    139\u001b[0m \u001b[0;34m\u001b[0m\u001b[0m\n\u001b[1;32m    140\u001b[0m     \u001b[0mgrad_tensors_\u001b[0m \u001b[0;34m=\u001b[0m \u001b[0m_tensor_or_tensors_to_tuple\u001b[0m\u001b[0;34m(\u001b[0m\u001b[0mgrad_tensors\u001b[0m\u001b[0;34m,\u001b[0m \u001b[0mlen\u001b[0m\u001b[0;34m(\u001b[0m\u001b[0mtensors\u001b[0m\u001b[0;34m)\u001b[0m\u001b[0;34m)\u001b[0m\u001b[0;34m\u001b[0m\u001b[0;34m\u001b[0m\u001b[0m\n\u001b[0;32m--> 141\u001b[0;31m     \u001b[0mgrad_tensors_\u001b[0m \u001b[0;34m=\u001b[0m \u001b[0m_make_grads\u001b[0m\u001b[0;34m(\u001b[0m\u001b[0mtensors\u001b[0m\u001b[0;34m,\u001b[0m \u001b[0mgrad_tensors_\u001b[0m\u001b[0;34m)\u001b[0m\u001b[0;34m\u001b[0m\u001b[0;34m\u001b[0m\u001b[0m\n\u001b[0m\u001b[1;32m    142\u001b[0m     \u001b[0;32mif\u001b[0m \u001b[0mretain_graph\u001b[0m \u001b[0;32mis\u001b[0m \u001b[0;32mNone\u001b[0m\u001b[0;34m:\u001b[0m\u001b[0;34m\u001b[0m\u001b[0;34m\u001b[0m\u001b[0m\n\u001b[1;32m    143\u001b[0m         \u001b[0mretain_graph\u001b[0m \u001b[0;34m=\u001b[0m \u001b[0mcreate_graph\u001b[0m\u001b[0;34m\u001b[0m\u001b[0;34m\u001b[0m\u001b[0m\n",
      "\u001b[0;32m/usr/local/lib/python3.7/dist-packages/torch/autograd/__init__.py\u001b[0m in \u001b[0;36m_make_grads\u001b[0;34m(outputs, grads)\u001b[0m\n\u001b[1;32m     48\u001b[0m             \u001b[0;32mif\u001b[0m \u001b[0mout\u001b[0m\u001b[0;34m.\u001b[0m\u001b[0mrequires_grad\u001b[0m\u001b[0;34m:\u001b[0m\u001b[0;34m\u001b[0m\u001b[0;34m\u001b[0m\u001b[0m\n\u001b[1;32m     49\u001b[0m                 \u001b[0;32mif\u001b[0m \u001b[0mout\u001b[0m\u001b[0;34m.\u001b[0m\u001b[0mnumel\u001b[0m\u001b[0;34m(\u001b[0m\u001b[0;34m)\u001b[0m \u001b[0;34m!=\u001b[0m \u001b[0;36m1\u001b[0m\u001b[0;34m:\u001b[0m\u001b[0;34m\u001b[0m\u001b[0;34m\u001b[0m\u001b[0m\n\u001b[0;32m---> 50\u001b[0;31m                     \u001b[0;32mraise\u001b[0m \u001b[0mRuntimeError\u001b[0m\u001b[0;34m(\u001b[0m\u001b[0;34m\"grad can be implicitly created only for scalar outputs\"\u001b[0m\u001b[0;34m)\u001b[0m\u001b[0;34m\u001b[0m\u001b[0;34m\u001b[0m\u001b[0m\n\u001b[0m\u001b[1;32m     51\u001b[0m                 \u001b[0mnew_grads\u001b[0m\u001b[0;34m.\u001b[0m\u001b[0mappend\u001b[0m\u001b[0;34m(\u001b[0m\u001b[0mtorch\u001b[0m\u001b[0;34m.\u001b[0m\u001b[0mones_like\u001b[0m\u001b[0;34m(\u001b[0m\u001b[0mout\u001b[0m\u001b[0;34m,\u001b[0m \u001b[0mmemory_format\u001b[0m\u001b[0;34m=\u001b[0m\u001b[0mtorch\u001b[0m\u001b[0;34m.\u001b[0m\u001b[0mpreserve_format\u001b[0m\u001b[0;34m)\u001b[0m\u001b[0;34m)\u001b[0m\u001b[0;34m\u001b[0m\u001b[0;34m\u001b[0m\u001b[0m\n\u001b[1;32m     52\u001b[0m             \u001b[0;32melse\u001b[0m\u001b[0;34m:\u001b[0m\u001b[0;34m\u001b[0m\u001b[0;34m\u001b[0m\u001b[0m\n",
      "\u001b[0;31mRuntimeError\u001b[0m: grad can be implicitly created only for scalar outputs"
     ]
    }
   ],
   "source": [
    "import torch \n",
    "\n",
    "a = torch.randn((3,3), requires_grad=True)\n",
    "\n",
    "w1 = torch.randn((3,3), requires_grad=True)\n",
    "w2 = torch.randn((3,3), requires_grad=True)\n",
    "w3 = torch.randn((3,3), requires_grad=True)\n",
    "w4 = torch.randn((3,3), requires_grad=True)\n",
    "\n",
    "b = w1 * a \n",
    "c = w2 * a\n",
    "\n",
    "d = w3 * b + w4 * c \n",
    "\n",
    "L = (10 - d)\n",
    "print(L)\n",
    "\n",
    "L.backward()"
   ]
  },
  {
   "cell_type": "markdown",
   "metadata": {
    "id": "bd_gEROTlrfK"
   },
   "source": [
    "Это потому, что градиенты могут быть вычислены относительно скалярных значений по определению. Вы не можете точно отличить вектор от другого вектора."
   ]
  },
  {
   "cell_type": "markdown",
   "metadata": {
    "id": "ETgNADiolrfL"
   },
   "source": [
    "Если вы просто сделаете небольшое изменение в приведенном выше коде, установив L как сумму всех ошибок, наша проблема будет решена."
   ]
  },
  {
   "cell_type": "code",
   "execution_count": null,
   "metadata": {
    "colab": {
     "base_uri": "https://localhost:8080/"
    },
    "id": "SUdyzF2WlrfL",
    "outputId": "ed9fc8f5-e1a0-42a7-dc5c-c01b3b05bf68"
   },
   "outputs": [
    {
     "name": "stdout",
     "output_type": "stream",
     "text": [
      "tensor(82.8813, grad_fn=<SumBackward0>)\n"
     ]
    }
   ],
   "source": [
    "import torch \n",
    "\n",
    "a = torch.randn((3,3), requires_grad=True)\n",
    "\n",
    "w1 = torch.randn((3,3), requires_grad=True)\n",
    "w2 = torch.randn((3,3), requires_grad=True)\n",
    "w3 = torch.randn((3,3), requires_grad=True)\n",
    "w4 = torch.randn((3,3), requires_grad=True)\n",
    "\n",
    "b = w1 * a \n",
    "c = w2 * a\n",
    "\n",
    "d = w3 * b + w4 * c \n",
    "\n",
    "# Replace L = (10 - d) by \n",
    "L = (10 - d).sum()\n",
    "print(L)\n",
    "\n",
    "L.backward()"
   ]
  },
  {
   "cell_type": "markdown",
   "metadata": {
    "id": "TUVG6dtolrfN"
   },
   "source": [
    "Как только это будет сделано, вы можете получить доступ к градиентам, вызвав атрибут grad в Tensor."
   ]
  },
  {
   "cell_type": "markdown",
   "metadata": {
    "id": "geQBtfx6lrfQ"
   },
   "source": [
    "#### 3.3.3 Некоторые хитрости"
   ]
  },
  {
   "cell_type": "markdown",
   "metadata": {
    "id": "WPyuy1PxlrfR"
   },
   "source": [
    "1) requires_grad"
   ]
  },
  {
   "cell_type": "markdown",
   "metadata": {
    "id": "-adpm4BrlrfR"
   },
   "source": [
    "Это атрибут класса Tensor. По умолчанию это False. Это удобно, когда вам нужно заморозить некоторые слои и запретить им обновлять параметры во время тренировки. Вы можете просто установить для параметра requires_grad значение False, и эти тензоры не будут участвовать в графе вычислений."
   ]
  },
  {
   "cell_type": "markdown",
   "metadata": {
    "id": "LE87s9HhlrfS"
   },
   "source": [
    "2) torch.no_grad()"
   ]
  },
  {
   "cell_type": "markdown",
   "metadata": {
    "id": "zOHxTUA-lrfh"
   },
   "source": [
    "Когда мы вычисляем градиенты, нам нужно кэшировать входные значения и промежуточные функции, поскольку они могут потребоваться для вычисления градиента позже.  Если нам нужно сохранить эти значения для вычисления градиента во время обратного прохода, это повлияет на объем памяти, занимаемой сетью."
   ]
  },
  {
   "cell_type": "markdown",
   "metadata": {
    "id": "qJ2CMPD3lrfi"
   },
   "source": [
    "С использованием torch.no_grad мы выполняем вывод нашей нейронной сети и мы не вычисляем градиенты и, следовательно, нам не нужно хранить эти значения. Фактически, во время вывода графа вычислений создавать не нужно, так как это приведет к бесполезному потреблению памяти."
   ]
  },
  {
   "cell_type": "markdown",
   "metadata": {
    "id": "BjayYcWxlrfj"
   },
   "source": [
    "PyTorch предлагает для этой цели диспетчер контекста, называемый torch.no_grad."
   ]
  },
  {
   "cell_type": "code",
   "execution_count": null,
   "metadata": {
    "id": "F5IRJk1Wlrfj"
   },
   "outputs": [],
   "source": [
    "with torch.no_grad():\n",
    "    # inference code goes here \n",
    "    pass"
   ]
  },
  {
   "cell_type": "markdown",
   "metadata": {
    "id": "7MMq6SyGlrfk"
   },
   "source": [
    "# 4. Погружаемся в детали"
   ]
  },
  {
   "cell_type": "markdown",
   "metadata": {
    "id": "PkcMK9v7lrfl"
   },
   "source": [
    "Все основные модули которые будут рассматриваться ниже находятся в [torch.nn](https://pytorch.org/docs/stable/nn.html#). Все кроме оптимизаторов - они находятся в [torch.optim](https://pytorch.org/docs/stable/optim.html)"
   ]
  },
  {
   "cell_type": "markdown",
   "metadata": {
    "id": "zuo6jRyclrfl"
   },
   "source": [
    "### 4.1. Слои"
   ]
  },
  {
   "cell_type": "markdown",
   "metadata": {
    "id": "PqyiBsZslrfm"
   },
   "source": [
    "#### 4.1.1 Линейный слой (Линейное преобразование)\n",
    "\n",
    "[pytorch doc](https://pytorch.org/docs/stable/generated/torch.nn.Linear.html)\n",
    "\n",
    "$$y = xA^T + b$$"
   ]
  },
  {
   "cell_type": "code",
   "execution_count": null,
   "metadata": {
    "id": "wW0hJOqRlrfr"
   },
   "outputs": [],
   "source": [
    "layer = torch.nn.Linear(\n",
    "    in_features=3,\n",
    "    out_features=2,\n",
    "    bias=True\n",
    ")"
   ]
  },
  {
   "cell_type": "code",
   "execution_count": null,
   "metadata": {
    "colab": {
     "base_uri": "https://localhost:8080/"
    },
    "id": "vBymHmwoO6Gc",
    "outputId": "91747e7e-026e-4273-da62-a8a150035082"
   },
   "outputs": [
    {
     "data": {
      "text/plain": [
       "(Parameter containing:\n",
       " tensor([[-0.3586, -0.0716,  0.2350],\n",
       "         [-0.5648,  0.1715, -0.3817]], requires_grad=True),\n",
       " Parameter containing:\n",
       " tensor([-0.2818,  0.2217], requires_grad=True))"
      ]
     },
     "execution_count": 68,
     "metadata": {
      "tags": []
     },
     "output_type": "execute_result"
    }
   ],
   "source": [
    "layer.weight, layer.bias"
   ]
  },
  {
   "cell_type": "markdown",
   "metadata": {
    "id": "H2b1GNX9lrfs"
   },
   "source": [
    "#### 4.1.2 Сверточный слой (Convolutional layer)\n",
    "\n",
    "[pytorch doc](https://pytorch.org/docs/stable/generated/torch.nn.Conv2d.html?highlight=conv2d%20conv2d#torch.nn.Conv2d)"
   ]
  },
  {
   "cell_type": "markdown",
   "metadata": {
    "id": "ZS-SUpGSlrfs"
   },
   "source": [
    "<img src='https://s3-us-west-2.amazonaws.com/static.pyimagesearch.com/keras-conv2d/keras_conv2d_padding.gif'>"
   ]
  },
  {
   "cell_type": "markdown",
   "metadata": {
    "id": "Ow6KvIAClrfs"
   },
   "source": [
    "На гифке выше представлен вариант Conv2d. Т.е. мы проходим по картинке ядром (сверткой) и создаем карту признаков размера:  \n",
    "\n",
    "$$H\\_out = \\frac{H\\_in + 2*padding[0] - dilation[0]*(kernel\\_size[0]-1)-1}{stride[0]}+1,\\\\W\\_out = \\frac{W\\_in + 2*padding[1] - dilation[1]*(kernel\\_size[1]-1)-1}{stride[1]}+1$$\n",
    "\n",
    "Но в большинстве случаев картинка подается квадратная, и размер kernel_size тоже квадрат. При этом stride=1 , padding=0, dilation=1. Поэтому можно формулу выхода переписать упрощено следующим образом:  \n",
    "Если размеры картинки равны AxA, а размеры  kernel_size KxK -> то размеры карты признаков равны:  \n",
    "\n",
    "$$H\\_out = W\\_out = A - K + 1$$"
   ]
  },
  {
   "cell_type": "markdown",
   "metadata": {
    "id": "bKzVGSsklrft"
   },
   "source": [
    "Как реализовано в pytorch:"
   ]
  },
  {
   "cell_type": "code",
   "execution_count": null,
   "metadata": {
    "id": "fJx-vOQelrft"
   },
   "outputs": [],
   "source": [
    "layer = torch.nn.Conv2d(\n",
    "    in_channels=2,\n",
    "    out_channels=3,\n",
    "    kernel_size=2,\n",
    "    stride=1,\n",
    "    padding=0,\n",
    "    padding_mode='zeros',\n",
    "    dilation=1,\n",
    "    bias=True\n",
    ")"
   ]
  },
  {
   "cell_type": "code",
   "execution_count": null,
   "metadata": {
    "id": "qbZtkJK2QTfp"
   },
   "outputs": [],
   "source": [
    "# 1 channel - 4 + 4 + 4\n",
    "# 2 channel - 4 + 4 + 4\n",
    "#             1   1   1\n",
    "# 9 * 3 = 27"
   ]
  },
  {
   "cell_type": "code",
   "execution_count": null,
   "metadata": {
    "colab": {
     "base_uri": "https://localhost:8080/"
    },
    "id": "wc6szxdjQFXp",
    "outputId": "774d7dcc-639a-481e-b1ff-a2707c3d616a"
   },
   "outputs": [
    {
     "data": {
      "text/plain": [
       "(Parameter containing:\n",
       " tensor([[[[ 0.1615,  0.2029],\n",
       "           [-0.3515,  0.3242]],\n",
       " \n",
       "          [[ 0.2965,  0.1407],\n",
       "           [-0.3231, -0.1263]]],\n",
       " \n",
       " \n",
       "         [[[-0.1025, -0.0909],\n",
       "           [ 0.1994,  0.1285]],\n",
       " \n",
       "          [[ 0.2801, -0.1324],\n",
       "           [ 0.1190,  0.1258]]],\n",
       " \n",
       " \n",
       "         [[[-0.2944, -0.3430],\n",
       "           [-0.1835,  0.2420]],\n",
       " \n",
       "          [[-0.3329, -0.3077],\n",
       "           [ 0.1981,  0.1908]]]], requires_grad=True), Parameter containing:\n",
       " tensor([ 0.2908, -0.2669, -0.2588], requires_grad=True))"
      ]
     },
     "execution_count": 74,
     "metadata": {
      "tags": []
     },
     "output_type": "execute_result"
    }
   ],
   "source": [
    "layer.weight, layer.bias"
   ]
  },
  {
   "cell_type": "markdown",
   "metadata": {
    "id": "lHSXEWYnlrft"
   },
   "source": [
    "Давайте слегка коснемся следующих параметров этого слоя:\n",
    "\n",
    "##### 4.1.2.1 Padding\n",
    "\n",
    "\n",
    "<img src='https://drive.google.com/uc?export=view&id=10YL2TmF0Yp56nbnPrdbVSX7ft982JMR2'>\n",
    "\n",
    "К краям добавляются поддельные пиксели (обычно нулевого значения. За это отвечает параметр padding_mode. По дефолту он стоит \"zero_padding\"). За счет этого краевые пиксели могут учитываться по центру свертки. И мы можем получить выходную карту признаков такого же размера как и входная картинка."
   ]
  },
  {
   "cell_type": "markdown",
   "metadata": {
    "id": "gmxcULbllrfu"
   },
   "source": [
    "##### 4.1.2.2 Stride\n",
    "\n",
    "\n",
    "<img src='https://drive.google.com/uc?export=view&id=1MXz5etAzJtzi7MudLQ-Unr0n3j0h5aso'>\n",
    "\n",
    "бывает такое, что необходимо получить на выходе карту признаков еще меньшего размера. Для этого обычно используются Polling слои(Об этом ниже). Но например в архитектурах семейства ResNet полностью отказались от этих слоев и пользуются как раз вторым вариантом. Их называют чередующимися свертками. По сути этот параметр отвечает за шаг свертки. При 1 берутся пролеты через 1 пиксель, при 2 - пролеты через каждые 2 пикселя."
   ]
  },
  {
   "cell_type": "markdown",
   "metadata": {
    "id": "dZ25Y_o4lrfv"
   },
   "source": [
    "##### 4.1.2.3 Dilate\n",
    "\n",
    "\n",
    "<img src='https://www.mdpi.com/remotesensing/remotesensing-11-02220/article_deploy/html/images/remotesensing-11-02220-g001.png'>\n",
    "\n",
    "Это так называемое рецептивное поле сверточного слоя. Оно расширяет пространство между элементами оригинальной свертки. Подробнее об этом можно узнать [здесь](https://towardsdatascience.com/understanding-2d-dilated-convolution-operation-with-examples-in-numpy-and-tensorflow-with-d376b3972b25)"
   ]
  },
  {
   "cell_type": "markdown",
   "metadata": {
    "id": "RGtaMIlslrfv"
   },
   "source": [
    "Остальные сверточные слои реализованные в pytorch можно посмотреть [здесь](https://pytorch.org/docs/stable/nn.html#convolution-layers)"
   ]
  },
  {
   "cell_type": "markdown",
   "metadata": {
    "id": "WdTvtWErlrfw"
   },
   "source": [
    "#### 4.1.2  Cубдискритизирующий слой (Downsampling, Polling Layer)\n",
    "\n",
    "[pytorch doc](https://pytorch.org/docs/stable/generated/torch.nn.MaxPool2d.html?highlight=pool#torch.nn.MaxPool2d)\n",
    "<img src='https://www.mdpi.com/sensors/sensors-17-01535/article_deploy/html/images/sensors-17-01535-g005.png'>\n",
    "\n",
    "В большинстве случаев, на вход такой сети приходят много маленьких матриц(обычно 2х2) и они последовательно объединяются в одно число(обычно max).\n"
   ]
  },
  {
   "cell_type": "markdown",
   "metadata": {
    "id": "XNc6HiYtlrfx"
   },
   "source": [
    "Как реализовано в pytorch:"
   ]
  },
  {
   "cell_type": "code",
   "execution_count": null,
   "metadata": {
    "id": "CGSxlgrKlrfx"
   },
   "outputs": [],
   "source": [
    "layer = torch.nn.MaxPool2d(\n",
    "    kernel_size=2, \n",
    "    stride=2,\n",
    "    padding=0,\n",
    "    dilation=0\n",
    ")"
   ]
  },
  {
   "cell_type": "code",
   "execution_count": null,
   "metadata": {
    "colab": {
     "base_uri": "https://localhost:8080/",
     "height": 300
    },
    "id": "gL-t6zB0SoME",
    "outputId": "1825706c-8796-4351-c116-aaabd968aa9e"
   },
   "outputs": [
    {
     "ename": "AttributeError",
     "evalue": "ignored",
     "output_type": "error",
     "traceback": [
      "\u001b[0;31m---------------------------------------------------------------------------\u001b[0m",
      "\u001b[0;31mAttributeError\u001b[0m                            Traceback (most recent call last)",
      "\u001b[0;32m<ipython-input-76-3ab6e0c6f8ec>\u001b[0m in \u001b[0;36m<module>\u001b[0;34m()\u001b[0m\n\u001b[0;32m----> 1\u001b[0;31m \u001b[0mlayer\u001b[0m\u001b[0;34m.\u001b[0m\u001b[0mweight\u001b[0m\u001b[0;34m\u001b[0m\u001b[0;34m\u001b[0m\u001b[0m\n\u001b[0m",
      "\u001b[0;32m/usr/local/lib/python3.7/dist-packages/torch/nn/modules/module.py\u001b[0m in \u001b[0;36m__getattr__\u001b[0;34m(self, name)\u001b[0m\n\u001b[1;32m    946\u001b[0m                 \u001b[0;32mreturn\u001b[0m \u001b[0mmodules\u001b[0m\u001b[0;34m[\u001b[0m\u001b[0mname\u001b[0m\u001b[0;34m]\u001b[0m\u001b[0;34m\u001b[0m\u001b[0;34m\u001b[0m\u001b[0m\n\u001b[1;32m    947\u001b[0m         raise AttributeError(\"'{}' object has no attribute '{}'\".format(\n\u001b[0;32m--> 948\u001b[0;31m             type(self).__name__, name))\n\u001b[0m\u001b[1;32m    949\u001b[0m \u001b[0;34m\u001b[0m\u001b[0m\n\u001b[1;32m    950\u001b[0m     \u001b[0;32mdef\u001b[0m \u001b[0m__setattr__\u001b[0m\u001b[0;34m(\u001b[0m\u001b[0mself\u001b[0m\u001b[0;34m,\u001b[0m \u001b[0mname\u001b[0m\u001b[0;34m:\u001b[0m \u001b[0mstr\u001b[0m\u001b[0;34m,\u001b[0m \u001b[0mvalue\u001b[0m\u001b[0;34m:\u001b[0m \u001b[0mUnion\u001b[0m\u001b[0;34m[\u001b[0m\u001b[0mTensor\u001b[0m\u001b[0;34m,\u001b[0m \u001b[0;34m'Module'\u001b[0m\u001b[0;34m]\u001b[0m\u001b[0;34m)\u001b[0m \u001b[0;34m->\u001b[0m \u001b[0;32mNone\u001b[0m\u001b[0;34m:\u001b[0m\u001b[0;34m\u001b[0m\u001b[0;34m\u001b[0m\u001b[0m\n",
      "\u001b[0;31mAttributeError\u001b[0m: 'MaxPool2d' object has no attribute 'weight'"
     ]
    }
   ],
   "source": [
    "layer.weight"
   ]
  },
  {
   "cell_type": "markdown",
   "metadata": {
    "id": "QfFNaQzBlrfy"
   },
   "source": [
    "Остальные пулинг слои реализованные в pytorch можно посмотреть [здесь](https://pytorch.org/docs/stable/nn.html#pooling-layers)"
   ]
  },
  {
   "cell_type": "markdown",
   "metadata": {
    "id": "J233-U8Blrfy"
   },
   "source": [
    "### 4.2. Инициализация весов и функции активации"
   ]
  },
  {
   "cell_type": "markdown",
   "metadata": {
    "id": "BzH24z7-lrf0"
   },
   "source": [
    "#### 4.2.1 Проблема затухающего градиента"
   ]
  },
  {
   "cell_type": "markdown",
   "metadata": {
    "id": "jbrlEjKllrf0"
   },
   "source": [
    "Инициализируются веса случайным образом. Но нужно правильным образом инициализировать веса этими случайными значениями чтобы все сошлось.\n",
    "Почему очень часто люди выбирают Relu в качестве функции активации. Очень большая проблема - это проблема затухающего градиента. \n",
    "$$tanh(x) = \\frac{2}{1+\\mathrm{e}^{-2x}}-1 $$"
   ]
  },
  {
   "cell_type": "markdown",
   "metadata": {
    "id": "c05tcJYAlrf2"
   },
   "source": [
    "Раньше нейросети обучали с помощью такой гладкой функцией нелинейности называемой гипорболическим тангенсом. С  ней есть следующая проблема. Предположим что на вход она получила какое-то большое число. Например 4. на выходе эта функия выдаст 1,т.к. 4 очень близко к месту насыщения. На обратном проходе она получит градиент который тоже равен 1. И что же она выдаст на выходе обратного распространения? А выдаст она 0, т.к. в этой точке функция уже не чувствительна к смещению.\n",
    "Это значит, что как только мы вышли из эффективного пространства этой функции, она сразу уводит значения в 1 или -1 и после этого уже вывести его от туда сверх сложно. Т.к. любой градиент который мы в нее пошлем она превратит в близкое к нулю значение. \n",
    "И если наша система состоит из большого количества слоев таких функций, то как только любой из них доходит до такого значения - он сразу убивает возможность нормально тренироваться всей предыдущей части сети. "
   ]
  },
  {
   "cell_type": "markdown",
   "metadata": {
    "id": "MO7ay4JAlrf2"
   },
   "source": [
    "<img src='https://cdn-images-1.medium.com/max/1024/1*XJXRG2ZCc1hHOiamSN3uhQ.png' width=800>"
   ]
  },
  {
   "cell_type": "markdown",
   "metadata": {
    "id": "aC2tuCnHlrf3"
   },
   "source": [
    "#### 4.2.2 Rectifier Linear Unit ReLU\n",
    "\n",
    "[pytorch doc](https://pytorch.org/docs/stable/generated/torch.nn.ReLU.html#torch.nn.ReLU)\n",
    "\n",
    "А вот у ReLU нет такой проблемы, т.к. она нигде не выходит ни на какую ассимптоту. Она продолжает идти дальше по мере возрастания. Поэтому градиент никогда не затухает даже если очень много слоев впихнуть последовательно. "
   ]
  },
  {
   "cell_type": "markdown",
   "metadata": {
    "id": "vb_72xgNlrf3"
   },
   "source": [
    "<img src='https://i1.wp.com/debuggercafe.com/wp-content/uploads/2019/04/relu_plot.png' width=400>"
   ]
  },
  {
   "cell_type": "markdown",
   "metadata": {
    "id": "Uqh5IUcclrf4"
   },
   "source": [
    "Как реализовано в pytorch:"
   ]
  },
  {
   "cell_type": "code",
   "execution_count": null,
   "metadata": {
    "colab": {
     "base_uri": "https://localhost:8080/"
    },
    "id": "DfSChYvFlrf5",
    "outputId": "e4a967cb-db69-4fef-ab6b-ee0bc129bcdc"
   },
   "outputs": [
    {
     "data": {
      "text/plain": [
       "ReLU()"
      ]
     },
     "execution_count": 77,
     "metadata": {
      "tags": []
     },
     "output_type": "execute_result"
    }
   ],
   "source": [
    "torch.nn.ReLU()"
   ]
  },
  {
   "cell_type": "markdown",
   "metadata": {
    "id": "R6XOSAXalrf5"
   },
   "source": [
    "Но у ReLU есть следующая проблема: бывает так, что  в какой-то момент у конкретной ReLU все точки датасета лежат в области < 0. Т.е. там градиент всегда ноль. Никакая оптимизация не сдвинет ему веса. Но на практике процент нейронов с такой функцией активации очень мал, что не особо мешает обучению.   \n",
    "Но в современном мире есть альтернативные варианты для ReLU:"
   ]
  },
  {
   "cell_type": "markdown",
   "metadata": {
    "id": "W5YC2V_Ulrf6"
   },
   "source": [
    "<img src='https://ekababisong.org/assets/ieee_ompi/Leaky-ReLU.png' width=600>"
   ]
  },
  {
   "cell_type": "markdown",
   "metadata": {
    "id": "ILmXmrGOlrf6"
   },
   "source": [
    "[pytorch doc](https://pytorch.org/docs/stable/generated/torch.nn.LeakyReLU.html#torch.nn.LeakyReLU)\n",
    "\n",
    "Как реализовано в pytorch:"
   ]
  },
  {
   "cell_type": "code",
   "execution_count": null,
   "metadata": {
    "colab": {
     "base_uri": "https://localhost:8080/"
    },
    "id": "6o7j0cE9lrf7",
    "outputId": "ae0831bb-1902-42b3-dd8e-bc43833cfb92"
   },
   "outputs": [
    {
     "data": {
      "text/plain": [
       "LeakyReLU(negative_slope=0.01)"
      ]
     },
     "execution_count": 53,
     "metadata": {
      "tags": []
     },
     "output_type": "execute_result"
    }
   ],
   "source": [
    "torch.nn.LeakyReLU(negative_slope=0.01)"
   ]
  },
  {
   "cell_type": "markdown",
   "metadata": {
    "id": "jxTCMoQXlrf8"
   },
   "source": [
    "<img src='https://pbs.twimg.com/media/D654OBZUcAA87gG.jpg' width=500>"
   ]
  },
  {
   "cell_type": "markdown",
   "metadata": {
    "id": "9GSBl71Hlrf8"
   },
   "source": [
    "[pytorch doc](https://pytorch.org/docs/stable/generated/torch.nn.ELU.html#torch.nn.ELU)\n",
    "\n",
    "Как реализовано в pytorch:"
   ]
  },
  {
   "cell_type": "code",
   "execution_count": null,
   "metadata": {
    "colab": {
     "base_uri": "https://localhost:8080/"
    },
    "id": "GIun7UdVlrf9",
    "outputId": "7d923add-e934-42bc-8b3f-8c8e050669e7"
   },
   "outputs": [
    {
     "data": {
      "text/plain": [
       "ELU(alpha=1.0)"
      ]
     },
     "execution_count": 54,
     "metadata": {
      "tags": []
     },
     "output_type": "execute_result"
    }
   ],
   "source": [
    "torch.nn.ELU(alpha=1.0)"
   ]
  },
  {
   "cell_type": "markdown",
   "metadata": {
    "id": "qNkbbIzBlrf9"
   },
   "source": [
    "С остальными функциями активации вы можете ознакомится [здесь](https://pytorch.org/docs/stable/nn.html#non-linear-activations-weighted-sum-nonlinearity) и [здесь](https://pytorch.org/docs/stable/nn.html#non-linear-activations-other)"
   ]
  },
  {
   "cell_type": "markdown",
   "metadata": {
    "id": "jO3LHAyIlrf-"
   },
   "source": [
    "#### 4.2.3 Инициализация весов\n",
    "\n",
    "В самом простом варианте мы можем инициализировать наши веса следующим образом:\n",
    "\n",
    "$$w = a * random(width, height)$$"
   ]
  },
  {
   "cell_type": "markdown",
   "metadata": {
    "id": "A1fTRwIGlrgB"
   },
   "source": [
    "Какая тут у нас может возникнуть проблема? Мы начинаем тренировку с того что подаем X и прогоняем его через большое количество слоев.   \n",
    "Важный вопрос : как выбрать a? В чем проблема? Если мы например выберем a>>1, то каждый из следующих слоев будет умножать выход примерно на a, второй слой на а в квадрате и т.д. И это очень быстро растущая функция. В конце в итоге получится очень большое число, которое может выйти за пределы всех допустимых вычислений. И вернуть по этому числу градиент будет очень сложно.  \n",
    "А если а<<1, то точно так же градиент будет затухать что приведет к проблеме затухающего градиента.  \n",
    "Т.е. а нужно выбирать так, что бы функции активации не сильно увеличивались и не сильно уменьшались."
   ]
  },
  {
   "cell_type": "markdown",
   "metadata": {
    "id": "1ShK7sF1Sy43"
   },
   "source": [
    "<img src='https://drive.google.com/uc?export=view&id=1ucOBrTAjt4RwlRK8IKsXftls-XOy1f22' width=600>"
   ]
  },
  {
   "cell_type": "markdown",
   "metadata": {
    "id": "9gNDGeCvlrgB"
   },
   "source": [
    "Есть методы, которые позволяют по размерам w вычислить это правильное значение а:\n",
    "\n",
    "Со всеми можно познакомиться в разделе [torch.nn.init](https://pytorch.org/docs/stable/nn.init.html) "
   ]
  },
  {
   "cell_type": "markdown",
   "metadata": {
    "id": "54rM2BeclrgC"
   },
   "source": [
    "##### 4.2.3.1 Xavier initialization\n",
    "\n",
    "[статья](http://citeseerx.ist.psu.edu/viewdoc/download?doi=10.1.1.207.2059&rep=rep1&type=pdf)\n",
    "\n",
    "$$a = \\frac{1}{sqrt(in\\_num)}\\\\W = a * random({in\\_num}, {out\\_num})$$\n",
    "\n",
    "\n",
    "<img src='https://drive.google.com/uc?export=view&id=1ZzTgjrfAx0l2p_64K6TWZEcCze1cDML6' width=600>"
   ]
  },
  {
   "cell_type": "markdown",
   "metadata": {
    "id": "FDx96959lrgD"
   },
   "source": [
    "Как реализовано в pytorch:"
   ]
  },
  {
   "cell_type": "code",
   "execution_count": null,
   "metadata": {
    "colab": {
     "base_uri": "https://localhost:8080/"
    },
    "id": "gS4XLj9hlrgE",
    "outputId": "acbc2f7a-e2ca-49b0-d39a-89ed811090fc"
   },
   "outputs": [
    {
     "data": {
      "text/plain": [
       "tensor([[ 0.4419, -0.6252, -0.8126, -0.9780,  0.5915],\n",
       "        [ 1.1033,  0.2076, -0.4783, -0.3229,  0.4562],\n",
       "        [ 0.4227, -0.0036,  0.2897, -0.4601, -0.4864]])"
      ]
     },
     "execution_count": 57,
     "metadata": {
      "tags": []
     },
     "output_type": "execute_result"
    }
   ],
   "source": [
    "torch.nn.init.xavier_normal_(torch.empty(3, 5))"
   ]
  },
  {
   "cell_type": "markdown",
   "metadata": {
    "id": "vQva7xCXlrgF"
   },
   "source": [
    "##### 4.2.3.2 He initialization\n",
    "\n",
    "[статья](https://arxiv.org/abs/1502.01852)\n",
    "\n",
    "Небольшой апдейт метода выше. Предназначается для сетей с активацией ReLU. \n",
    "\n",
    "$$a = \\frac{1}{sqrt(2/in\\_num)}\\\\W = a * random({in\\_num}, {out\\_num})$$"
   ]
  },
  {
   "cell_type": "markdown",
   "metadata": {
    "id": "Gw97J36-lrgF"
   },
   "source": [
    "<img src='https://drive.google.com/uc?export=view&id=1uZmbOPqQhK-JUg_e-1poGEF-O9-R4zLM' width=600>"
   ]
  },
  {
   "cell_type": "markdown",
   "metadata": {
    "id": "0jf1X4EvlrgG"
   },
   "source": [
    "Как реализовано в pytorch:"
   ]
  },
  {
   "cell_type": "code",
   "execution_count": null,
   "metadata": {
    "colab": {
     "base_uri": "https://localhost:8080/"
    },
    "id": "291487DZlrgG",
    "outputId": "a68981c0-2657-4973-8432-84cd0b9a5684"
   },
   "outputs": [
    {
     "data": {
      "text/plain": [
       "tensor([[-0.1562, -0.6274,  1.1749, -0.1625,  0.1592],\n",
       "        [ 0.9483,  0.3413, -0.0859,  0.2203,  1.1989],\n",
       "        [-0.1073,  0.2982, -0.3936, -0.7261,  1.3586]])"
      ]
     },
     "execution_count": 61,
     "metadata": {
      "tags": []
     },
     "output_type": "execute_result"
    }
   ],
   "source": [
    "torch.nn.init.kaiming_normal_(torch.empty(3, 5))"
   ]
  },
  {
   "cell_type": "markdown",
   "metadata": {
    "id": "3AA_rUsQlrgH"
   },
   "source": [
    "### 4.3. Оптимизаторы\n",
    "\n",
    "Как конкретно мы собираемся обновлять параметры? Это про улучшенные методы градиентного спуска, которые есть в pytorch.\n",
    "Все оптимизаторы можно найти в разделе [torch.optim](https://pytorch.org/docs/stable/optim.html)\n",
    "\n",
    "#### 4.3.1 SGD  \n",
    "\n",
    "В самом простом варианте , мы вычисляем наш градиент и умножаем на learningrate.\n",
    "$$w = w - learning\\_rate * gradient$$"
   ]
  },
  {
   "cell_type": "markdown",
   "metadata": {
    "id": "5tFb0gGGlrgH"
   },
   "source": [
    "Но оказывается что это не так уж и эффективно. На гифке ниже видны разные подходы оптимизаторов. Они из одной точки по-разному добираются до цели. Можно увидеть что в отличие от нашего простого метода(SGD) другие оптимизаторы выполняют свою работу намного быстрее. Это происходит в основном из-за неконстантного шага обучения:"
   ]
  },
  {
   "cell_type": "markdown",
   "metadata": {
    "id": "3kFEaPQ3lrgI"
   },
   "source": [
    "<img src='https://i.stack.imgur.com/8rpzr.gif'>"
   ]
  },
  {
   "cell_type": "markdown",
   "metadata": {
    "id": "-SGTgbhYlrgJ"
   },
   "source": [
    "Давайте подробнее посмотрим на эти оптимизаторы и как ими пользоваться в pytorch:"
   ]
  },
  {
   "cell_type": "markdown",
   "metadata": {
    "id": "qoSR0zdSlrgK"
   },
   "source": [
    "Как реализовано в pytorch:"
   ]
  },
  {
   "cell_type": "code",
   "execution_count": null,
   "metadata": {
    "id": "_PvHaeKxlrgK"
   },
   "outputs": [],
   "source": [
    "# в оптимизатор нужно передавать параметры, на которых \n",
    "# нужно обучаться (какие параметры, какие веса) и скорость обучения\n",
    "optimizer = torch.optim.SGD(model.parameters(), lr=0.1)"
   ]
  },
  {
   "cell_type": "markdown",
   "metadata": {
    "id": "eUgJU3bXlrgL"
   },
   "source": [
    "#### 4.3.2 Momentum (импульс)\n",
    "\n",
    "\n",
    "\n",
    "[статья](https://arxiv.org/abs/1810.13395?utm_source=feedburner&utm_medium=feed&utm_campaign=Feed%253A+arxiv%252FQSXk+%2528ExcitingAds%2521+cs+updates+on+arXiv.org%2529)  \n",
    "[pytorch doc](https://pytorch.org/docs/master/generated/torch.optim.SGD.html?highlight=sgd#torch.optim.SGD)\n",
    "\n",
    "<img src='https://drive.google.com/uc?export=view&id=1JMoY1y1oZUtiicvCuhxhliiLBLoNl7bA' width=600>\n",
    "\n",
    "\n",
    "$$velocity = momentum * velocity - \\eta*gradient\\\\w = w + velocity$$"
   ]
  },
  {
   "cell_type": "markdown",
   "metadata": {
    "id": "IxOID2bPlrgN"
   },
   "source": [
    "Как это математически объясняется: мы накапливаем некоторую скорость velocity, которая скорость вектора. Наш learningrate, который мы применяли к веса, теперь применяется к скорости. Т.е. по направлению градиента мы увеличиваем не просто веса, а скорость изменения весов. И есть такой момент затухания momentum, для того что бы было каке-то трение в системе, иначе все это улетит очень при очень далеко. И мы обычно берем momentum от 0.9-0.99. \n",
    "И таким образом мы берем старое значение скорости, его немного уменьшаем и добавляем к нему направление градиента. "
   ]
  },
  {
   "cell_type": "markdown",
   "metadata": {
    "id": "sqtk507kfVDI"
   },
   "source": [
    "\n",
    "\n",
    "<img src='https://drive.google.com/uc?export=view&id=1h0u3hNo2cjDRoq0FVdXIScgRo6Iq687y' width=400>"
   ]
  },
  {
   "cell_type": "markdown",
   "metadata": {
    "id": "QnMoeBWF3f8g"
   },
   "source": [
    "Засчет добавления импульса получается сглаживание оптимизации.\n",
    "\n",
    "|$t_1$|$t_2$|..|$t_n$|\n",
    "|--|--|--|--|\n",
    "|$g_1$|$g_2$|..|$g_n$|\n",
    "\n",
    "$\\gamma = 0.5$\n",
    "\n",
    "$v_1 = g_1$<br>\n",
    "$v_2 = \\gamma * v_1 + g_2 = 0.5 * g_1 + g_2$<br>\n",
    "$v_3 = \\gamma * v_2 + g_3 = \\gamma (\\gamma * v_1 + g_2) + g_3 = \\gamma^2 * g_1 + \\gamma * g_2 + g_3 = 0.25 * g_1 + 0.5 * g_2 + g_3$<br>"
   ]
  },
  {
   "cell_type": "markdown",
   "metadata": {
    "id": "wUHfJiIflrgO"
   },
   "source": [
    "Как реализовано в pytorch:"
   ]
  },
  {
   "cell_type": "code",
   "execution_count": null,
   "metadata": {
    "id": "60wFP2udlrgP"
   },
   "outputs": [],
   "source": [
    "optimizer = torch.optim.SGD(model.parameters(), lr=0.1, momentum=0.9)"
   ]
  },
  {
   "cell_type": "markdown",
   "metadata": {
    "id": "P8F7XM9ilrgP"
   },
   "source": [
    "Другие методы предназначены для решения кейса \"седловая точка\". Седловая точка - это точка в которой формально градиент равен нулю. Но это не глобальный минимум. Он по некоторым направлениям локальный минимум, а по некоторым локальный максимум. Т.е. это не точка глобального минимума. И вообще было такое обсуждение, что методы градиентого спуска могут скатиться в локальные мимнимумы. Но оказывается на практике это сделать довольно сложно. Пространство на столько огромное, что найти настоящий глобальный минимум по этим тысячам параметров довольно сложно. И такой проблемы на практике скорее нет. А есть проблема, что метод может скатиться в такие точки, что градиент все еще ноль. И поэтому если мы в нем оказались, то очень сложно из него выйти, тк. нет сигнала от градиента. Но если отойти в определенном направлении, то можно понять что эта точка так же и локальный максимум. И после этого можно успешно скатиться. \n",
    "И поэтому есть несколько модификаций градиентного спуска, что бы как раз выкатываться из таких точек."
   ]
  },
  {
   "cell_type": "markdown",
   "metadata": {
    "id": "FmWVdJk-lrgQ"
   },
   "source": [
    "<img src='https://i.ytimg.com/vi/fODpu1-lNTw/maxresdefault.jpg' width=600>"
   ]
  },
  {
   "cell_type": "markdown",
   "metadata": {
    "id": "npFYZWVYlrgQ"
   },
   "source": [
    "#### 4.3.3 Adagrad\n",
    "\n",
    "[статья](http://www.jmlr.org/papers/volume12/duchi11a/duchi11a.pdf)  \n",
    "[pytorch doc](https://pytorch.org/docs/master/generated/torch.optim.Adagrad.html?highlight=adagrad#torch.optim.Adagrad)\n",
    "\n",
    "Собственно каким образом этим методам удается выходить из подобных точек.\n",
    "\n"
   ]
  },
  {
   "cell_type": "markdown",
   "metadata": {
    "id": "OX-YS6urlrgR"
   },
   "source": [
    "Основная идея следующая - делать learning_rate не константой для всех измерений, а адаптивно для разных измерений и весов подбирать свой learning_rate. Если по какому-то направлению нам градиент будет говорить что там не интересно, там очень маленькое изменение, мы его искусственно повысим. А в тех направлениях где градиент  будет говорить что да, нужно во всю двигаться - мы наоборот его понизим. таким образом мы накапливаем статистику какие градиенты мы считаем наиболее важными или наименее важными. И усилим те которые считаются неважными. И это даст нам возможность выкатиться, потому что мы даже по неважным измерениям будем знать существенный шаг. А как только мы выкатились из этой точки, то сразу происходит существенное ускорение.   \n",
    "Как мы это делаем:\n",
    "$$accumulated = accumulated + gradient^2\\\\adaptive\\_\\eta = \\frac{\\eta}{sqrt(accumulated)}\\\\w = w - adaptive\\_\\eta*gradient$$"
   ]
  },
  {
   "cell_type": "markdown",
   "metadata": {
    "id": "JEPesFb_lrgS"
   },
   "source": [
    "Мы таким образом считаем накопленный вес accumulated как квадрат градиента по всем направлениям. Т.е. если в каком-то направлении этот градиент будет большой - там этот квадрат мы накопим очень большой. А потом поделим на корень из него. Т.о. мы уменьшим adaptive_learning_rate в местах где градиент накопился и наоборот в обратном случае. И будем вот с таким adaptive_learning_rate обновлять наши веса. "
   ]
  },
  {
   "cell_type": "markdown",
   "metadata": {
    "id": "UKDeEHtwlrgS"
   },
   "source": [
    "Как реализовано в pytorch:"
   ]
  },
  {
   "cell_type": "code",
   "execution_count": null,
   "metadata": {
    "id": "WJ57MXl5lrgT"
   },
   "outputs": [],
   "source": [
    "optimizer = torch.optim.Adagrad(model.parameters(), lr=0.1)"
   ]
  },
  {
   "cell_type": "markdown",
   "metadata": {
    "id": "9Bb5LTv5lrgU"
   },
   "source": [
    "#### 4.3.4 RMSProp\n",
    "[статья](https://arxiv.org/abs/1412.6980)  \n",
    "[pytorch doc](https://pytorch.org/docs/master/generated/torch.optim.RMSprop.html)\n",
    "\n",
    "Следующий апгрейт делает примерно тоже самое, но только применяет к аккумуляции релаксацию как в momentum'е.  \n",
    "$$accumulated = \\rho * accumulated + (1-\\rho) * gradient^2\\\\adaptive\\eta = \\frac{\\eta}{sqrt(accumulated)}\\\\w = w - adaptive\\eta*gradient$$"
   ]
  },
  {
   "cell_type": "markdown",
   "metadata": {
    "id": "CrYFbR-slrgV"
   },
   "source": [
    "Как реализовано в pytorch:"
   ]
  },
  {
   "cell_type": "code",
   "execution_count": null,
   "metadata": {
    "colab": {
     "base_uri": "https://localhost:8080/",
     "height": 173
    },
    "id": "zYquTjk0lrgV",
    "outputId": "064db1f9-307c-4ee7-8504-102d6613e55e"
   },
   "outputs": [
    {
     "ename": "NameError",
     "evalue": "ignored",
     "output_type": "error",
     "traceback": [
      "\u001b[0;31m---------------------------------------------------------------------------\u001b[0m",
      "\u001b[0;31mNameError\u001b[0m                                 Traceback (most recent call last)",
      "\u001b[0;32m<ipython-input-78-3ce12eda67c8>\u001b[0m in \u001b[0;36m<module>\u001b[0;34m()\u001b[0m\n\u001b[0;32m----> 1\u001b[0;31m \u001b[0moptimizer\u001b[0m \u001b[0;34m=\u001b[0m \u001b[0mtorch\u001b[0m\u001b[0;34m.\u001b[0m\u001b[0moptim\u001b[0m\u001b[0;34m.\u001b[0m\u001b[0mRMSprop\u001b[0m\u001b[0;34m(\u001b[0m\u001b[0mmodel\u001b[0m\u001b[0;34m.\u001b[0m\u001b[0mparameters\u001b[0m\u001b[0;34m(\u001b[0m\u001b[0;34m)\u001b[0m\u001b[0;34m,\u001b[0m \u001b[0mlr\u001b[0m\u001b[0;34m=\u001b[0m\u001b[0;36m0.1\u001b[0m\u001b[0;34m,\u001b[0m \u001b[0malpha\u001b[0m\u001b[0;34m=\u001b[0m\u001b[0;36m0.99\u001b[0m\u001b[0;34m)\u001b[0m\u001b[0;34m\u001b[0m\u001b[0;34m\u001b[0m\u001b[0m\n\u001b[0m",
      "\u001b[0;31mNameError\u001b[0m: name 'model' is not defined"
     ]
    }
   ],
   "source": [
    "optimizer = torch.optim.RMSprop(model.parameters(), lr=0.1, alpha=0.99)"
   ]
  },
  {
   "cell_type": "markdown",
   "metadata": {
    "id": "7OsmUvD3lrgW"
   },
   "source": [
    "#### 4.3.5 Adam\n",
    "\n",
    "[статья](https://arxiv.org/abs/1412.6980)  \n",
    "[pytorch doc](https://pytorch.org/docs/master/generated/torch.optim.Adam.html?highlight=adam#torch.optim.Adam)\n",
    "\n",
    "Этот метод комбинирует идеи RMSProp + Momentum. \n",
    "\n",
    "$$velocity = beta1 * velocity + (1-beta1) * gradient\\\\accumulated = beta2*accumulated + (1-beta2)*gradient^2\\\\adaptive\\_\\eta = \\frac{\\eta}{sqrt(accumulated)}\\\\w = w - adaptive\\_\\eta*velocity$$"
   ]
  },
  {
   "cell_type": "markdown",
   "metadata": {
    "id": "c37oeTvqlrgW"
   },
   "source": [
    "Т.е. все так же есть adaptive_learning_rate, но мы применяем его не к обычному градиенту, а к скорости, которая вычисляется как в momentum'е. "
   ]
  },
  {
   "cell_type": "markdown",
   "metadata": {
    "id": "D8_gfvmElrgX"
   },
   "source": [
    "Как реализовано в pytorch:"
   ]
  },
  {
   "cell_type": "code",
   "execution_count": null,
   "metadata": {
    "id": "xCbiOprClrgY"
   },
   "outputs": [],
   "source": [
    "optimizer = torch.optim.Adam(model.parameters(), lr=0.1)"
   ]
  },
  {
   "cell_type": "markdown",
   "metadata": {
    "id": "99hvXk0mlrgY"
   },
   "source": [
    "Adam - такой хороший современный выбор по дефолту. Если не знаете какой оптимизатор использовать - берите его!"
   ]
  },
  {
   "cell_type": "markdown",
   "metadata": {
    "id": "eHImPO4olrgZ"
   },
   "source": [
    "### 4.4 Алгоритм обучения в pytorch"
   ]
  },
  {
   "cell_type": "code",
   "execution_count": null,
   "metadata": {
    "id": "phZxJlZ5lrgZ"
   },
   "outputs": [],
   "source": [
    "import torch\n",
    "from torch import nn\n",
    "from torch import optim"
   ]
  },
  {
   "cell_type": "markdown",
   "metadata": {
    "id": "leaG6UYdlrgb"
   },
   "source": [
    "1. Для начала нам нужна модель через которую мы будем прогонять данные и получать какой-то результат. Для этого возьмем линейное преобразование:"
   ]
  },
  {
   "cell_type": "code",
   "execution_count": null,
   "metadata": {
    "id": "8p_Y5Ix8lrge"
   },
   "outputs": [],
   "source": [
    "linear = nn.Linear(2, 2)"
   ]
  },
  {
   "cell_type": "markdown",
   "metadata": {
    "id": "MCYlfLIZlrgf"
   },
   "source": [
    "У слоя в pytorch мы всегда можем посмотреть веса и отклонение:"
   ]
  },
  {
   "cell_type": "code",
   "execution_count": null,
   "metadata": {
    "colab": {
     "base_uri": "https://localhost:8080/"
    },
    "id": "QfmjSh0wlrgg",
    "outputId": "2a53a2d0-1f90-4ab4-b0ec-2041d2f2443c"
   },
   "outputs": [
    {
     "name": "stdout",
     "output_type": "stream",
     "text": [
      "w:  Parameter containing:\n",
      "tensor([[ 0.5459,  0.1177],\n",
      "        [-0.2296,  0.4370]], requires_grad=True)\n",
      "b:  Parameter containing:\n",
      "tensor([0.1102, 0.5713], requires_grad=True)\n"
     ]
    }
   ],
   "source": [
    "print('w: ', linear.weight)\n",
    "print('b: ', linear.bias)"
   ]
  },
  {
   "cell_type": "markdown",
   "metadata": {
    "id": "EcEQk9xklrgg"
   },
   "source": [
    "2. Теперь нам нужно определить функцию ошибок для посдчета градиента:"
   ]
  },
  {
   "cell_type": "code",
   "execution_count": null,
   "metadata": {
    "id": "ktjXPigolrgh"
   },
   "outputs": [],
   "source": [
    "criterion = nn.MSELoss()"
   ]
  },
  {
   "cell_type": "markdown",
   "metadata": {
    "id": "9s5fLcGGlrgm"
   },
   "source": [
    "3. Так же нам нужен оптимизатор который будет изменять веса нашей модели:"
   ]
  },
  {
   "cell_type": "code",
   "execution_count": null,
   "metadata": {
    "id": "TQoaffbOlrgm"
   },
   "outputs": [],
   "source": [
    "optimizer = torch.optim.SGD(linear.parameters(), lr=0.01)"
   ]
  },
  {
   "cell_type": "markdown",
   "metadata": {
    "id": "jsft9Mrulrgn"
   },
   "source": [
    "4. Нам нужны данные (х) и верные метки (y) по которым мы поймем правильные ли предсказания делает модель. (В данном случае у нас всего пара значений (данные, метки). О том как организовывать много данных ниже и в дальнейших вебинарах):"
   ]
  },
  {
   "cell_type": "code",
   "execution_count": null,
   "metadata": {
    "colab": {
     "base_uri": "https://localhost:8080/"
    },
    "id": "0aXEA3OGlrgn",
    "outputId": "7dd5e4d0-58e6-4c84-dc7f-b5b127e35186"
   },
   "outputs": [
    {
     "data": {
      "text/plain": [
       "(tensor([-0.3639,  0.1513], requires_grad=True), tensor([-0.3514, -0.7906]))"
      ]
     },
     "execution_count": 22,
     "metadata": {
      "tags": []
     },
     "output_type": "execute_result"
    }
   ],
   "source": [
    "x = torch.randn(2, requires_grad=True)\n",
    "y = torch.randn(2, requires_grad=False)\n",
    "\n",
    "x, y"
   ]
  },
  {
   "cell_type": "markdown",
   "metadata": {
    "id": "hT-kKVE7lrgo"
   },
   "source": [
    "5. Перед тем как считать градиенты и менять веса, нам нужно обнулить градиенты хранящиеся в свойстве тензора .grad. Это нужно делать на каждом шаге потому что torch эти градиенты накапливает и если их не обнулить, то они будут накапливаться до бесконечности. На каждом шагее обучения нужно явно подчищать градиенты. Для этого выполняем следующую строчку кода:"
   ]
  },
  {
   "cell_type": "code",
   "execution_count": null,
   "metadata": {
    "id": "JdByvAdylrgo"
   },
   "outputs": [],
   "source": [
    "optimizer.zero_grad()"
   ]
  },
  {
   "cell_type": "markdown",
   "metadata": {
    "id": "nleewGB2lrgp"
   },
   "source": [
    "6. Затем делаем предсказание на наших данных х, получаем предсказание модели и сохраняем это предсказание в переменную pred:"
   ]
  },
  {
   "cell_type": "code",
   "execution_count": null,
   "metadata": {
    "id": "6vd31Yqxlrgp"
   },
   "outputs": [],
   "source": [
    "pred = linear(x)"
   ]
  },
  {
   "cell_type": "markdown",
   "metadata": {
    "id": "8_xyEM2Ilrgq"
   },
   "source": [
    "7. Переменная pred имеет ту же размерность, что и y. y - это наша правильная метка (ground truth). На этом этапе мы сравниваем предсказанное с реальным и получаем некую численную оценку этого через функцию потерь:"
   ]
  },
  {
   "cell_type": "code",
   "execution_count": null,
   "metadata": {
    "colab": {
     "base_uri": "https://localhost:8080/"
    },
    "id": "KMATmsD0lrgq",
    "outputId": "09bb551a-a8cb-4856-e068-c16fc48ddd05"
   },
   "outputs": [
    {
     "name": "stdout",
     "output_type": "stream",
     "text": [
      "loss:  tensor(0.0631, grad_fn=<MseLossBackward>)  \n",
      "loss_item : 0.0630771592259407\n"
     ]
    }
   ],
   "source": [
    "loss = criterion(pred, y)\n",
    "print('loss: ', loss, ' \\nloss_item :', loss.item())"
   ]
  },
  {
   "cell_type": "markdown",
   "metadata": {
    "id": "1LBFt80flrgr"
   },
   "source": [
    "Стоит отметить, что если мы посмотрим на переменную .grad наших весов и отклонения, то ничего не будет:"
   ]
  },
  {
   "cell_type": "code",
   "execution_count": null,
   "metadata": {
    "colab": {
     "base_uri": "https://localhost:8080/"
    },
    "id": "CUIp6jQtlrgs",
    "outputId": "650e27a7-5b5b-4982-d2b7-33a74e3b9b2f"
   },
   "outputs": [
    {
     "name": "stdout",
     "output_type": "stream",
     "text": [
      "dL/dw:  None\n",
      "dL/db:  None\n"
     ]
    }
   ],
   "source": [
    "print('dL/dw: ', linear.weight.grad) \n",
    "print('dL/db: ', linear.bias.grad)"
   ]
  },
  {
   "cell_type": "markdown",
   "metadata": {
    "id": "UpKSxAbulrgs"
   },
   "source": [
    "Это потому что мы не начинали идти в обратном направлении и высчитывать градиенты."
   ]
  },
  {
   "cell_type": "markdown",
   "metadata": {
    "id": "MyCJdzdclrgt"
   },
   "source": [
    "8. Что ж, самое время это сделать. Проходим в обратном направлении и вычислим градиенты:"
   ]
  },
  {
   "cell_type": "code",
   "execution_count": null,
   "metadata": {
    "id": "JroDNpxJlrgt"
   },
   "outputs": [],
   "source": [
    "loss.backward()"
   ]
  },
  {
   "cell_type": "markdown",
   "metadata": {
    "id": "qlzi3IZflrgu"
   },
   "source": [
    "Теперь если мы посмотрим на grad весов, то уже что-то увидим:"
   ]
  },
  {
   "cell_type": "code",
   "execution_count": null,
   "metadata": {
    "colab": {
     "base_uri": "https://localhost:8080/"
    },
    "id": "S2jqTzv5lrgu",
    "outputId": "422d55ca-20b3-476d-b8b0-aeebb9b0e8a2"
   },
   "outputs": [
    {
     "name": "stdout",
     "output_type": "stream",
     "text": [
      "w:  tensor([[ 0.0748, -0.0014],\n",
      "        [-0.0140,  0.0003]])\n",
      "b:  tensor([-0.3492,  0.0652])\n"
     ]
    }
   ],
   "source": [
    "print('w: ', linear.weight.grad)\n",
    "print('b: ', linear.bias.grad)"
   ]
  },
  {
   "cell_type": "markdown",
   "metadata": {
    "id": "96uo8Dyulrgv"
   },
   "source": [
    "9. Теперь самое время поменять веса. Для этого надо сделать так называемый шаг оптимизатора. Здесь оптимизатор имея информацию о высчитанных градиентах и значениях весов меняет последние:"
   ]
  },
  {
   "cell_type": "code",
   "execution_count": null,
   "metadata": {
    "colab": {
     "base_uri": "https://localhost:8080/"
    },
    "id": "JOQ1VXTOlrgv",
    "outputId": "36095a20-fddf-433c-d291-8ed3e1b0d44c"
   },
   "outputs": [
    {
     "name": "stdout",
     "output_type": "stream",
     "text": [
      "BEFORE:\n",
      " w:  Parameter containing:\n",
      "tensor([[-0.4562, -0.3210],\n",
      "        [ 0.4946, -0.4838]], requires_grad=True)\n",
      "b:  Parameter containing:\n",
      "tensor([-0.3899,  0.5162], requires_grad=True) \n",
      "\n",
      "AFTER:\n",
      "w:  Parameter containing:\n",
      "tensor([[-0.4570, -0.3210],\n",
      "        [ 0.4947, -0.4838]], requires_grad=True)\n",
      "b:  Parameter containing:\n",
      "tensor([-0.3864,  0.5155], requires_grad=True)\n"
     ]
    }
   ],
   "source": [
    "# Веса до\n",
    "print('BEFORE:\\n','w: ', linear.weight)\n",
    "print('b: ', linear.bias, '\\n')\n",
    "\n",
    "# Делаем шаг оптимизатора\n",
    "optimizer.step()\n",
    "\n",
    "# Веса после\n",
    "print('AFTER:\\n''w: ', linear.weight)\n",
    "print('b: ', linear.bias)"
   ]
  },
  {
   "cell_type": "markdown",
   "metadata": {
    "id": "kFDcguiilrgw"
   },
   "source": [
    "# 5. Датасет"
   ]
  },
  {
   "cell_type": "markdown",
   "metadata": {
    "id": "MjvgUHQ4lrgx"
   },
   "source": [
    "Для удобства в PyTorch предоставляется ряд утилит для загрузки датасетов, их предварительной обработки и взаимодействия с ними. Эти вспомогательные классы находятся в модуле torch.utils.data module. Здесь следует обратить внимание на две основные концепции:\n",
    "\n",
    "1. Dataset, инкапсулирующий источник данных,  \n",
    "2. DataLoader, отвечающий за загрузку датасета, возможно, в параллельном режиме.  \n",
    "\n"
   ]
  },
  {
   "cell_type": "code",
   "execution_count": null,
   "metadata": {
    "id": "cyjTlOQdlrgy"
   },
   "outputs": [],
   "source": [
    "import torch\n",
    "import torchvision\n",
    "from torch import nn \n",
    "from torch import optim\n",
    "import torchvision.transforms as transforms\n",
    "import matplotlib.pyplot as plt\n",
    "import torch, torchvision"
   ]
  },
  {
   "cell_type": "markdown",
   "metadata": {
    "id": "tuY7IOOvlrgz"
   },
   "source": [
    "### 5.1 Загрузка Данных"
   ]
  },
  {
   "cell_type": "markdown",
   "metadata": {
    "id": "9ct_8tqVlrgz"
   },
   "source": [
    "Давайте теперь загрузим данные. Для этого мы будем использовать классы torch.utils.data.Dataset и torch.utils.data.Dataloader из [torch.utils.data](https://pytorch.org/docs/stable/data.html). Все датасеты картинок из pytorch представлены в [torchvision.datasets](https://pytorch.org/vision/stable/datasets.html). Возьмем от туда CIFAR10."
   ]
  },
  {
   "cell_type": "code",
   "execution_count": null,
   "metadata": {
    "colab": {
     "base_uri": "https://localhost:8080/",
     "height": 136,
     "referenced_widgets": [
      "17c01a9480a14ed9a07772d305fd39cf",
      "03eb65932c8545f8973c1fe07cc70273",
      "5234eb8c6a0b446f8c3563dbcaf7e64b",
      "d712ccd9b0884f9bad45bc657d2ed205",
      "1e3dadefe7574420aadba9a4b46ee468",
      "aeb71a2759da42738462a326f41531bf",
      "9995e22b576d412996059fcfef764070",
      "dfa688533567456aab1ec0007c4df794"
     ]
    },
    "id": "uU5u0nMylrg0",
    "outputId": "d5606465-cedc-42dd-c77b-141cfe4d4522"
   },
   "outputs": [
    {
     "name": "stdout",
     "output_type": "stream",
     "text": [
      "Downloading https://www.cs.toronto.edu/~kriz/cifar-10-python.tar.gz to data/cifar-10-python.tar.gz\n"
     ]
    },
    {
     "data": {
      "application/vnd.jupyter.widget-view+json": {
       "model_id": "17c01a9480a14ed9a07772d305fd39cf",
       "version_major": 2,
       "version_minor": 0
      },
      "text/plain": [
       "HBox(children=(FloatProgress(value=0.0, max=170498071.0), HTML(value='')))"
      ]
     },
     "metadata": {
      "tags": []
     },
     "output_type": "display_data"
    },
    {
     "name": "stdout",
     "output_type": "stream",
     "text": [
      "\n",
      "Extracting data/cifar-10-python.tar.gz to data/\n",
      "torch.Size([3, 32, 32])\n",
      "6\n"
     ]
    }
   ],
   "source": [
    "train_dataset = torchvision.datasets.CIFAR10(\n",
    "    root='data/',  # путь, куда будут скачиваться данные(если download=true), \n",
    "                   # или где лежат данные(dowload=False)\n",
    "    train=True,    # говорим что используем датасет для обучения  \n",
    "    transform=transforms.ToTensor(), # преобразуем данные в формат тензоров\n",
    "    download=True, # True - надо скачать и положить в root.  False - уже скачано\n",
    ")\n",
    "\n",
    "\n",
    "image, label = train_dataset[0]\n",
    "print(image.shape)\n",
    "print(label)"
   ]
  },
  {
   "cell_type": "code",
   "execution_count": null,
   "metadata": {
    "id": "nefONtVEXkLP"
   },
   "outputs": [],
   "source": [
    "classes = ['plane', 'car', 'bird', 'cat','deer', 'dog', \n",
    "           'frog', 'horse', 'ship', 'truck']"
   ]
  },
  {
   "cell_type": "code",
   "execution_count": null,
   "metadata": {
    "colab": {
     "base_uri": "https://localhost:8080/"
    },
    "id": "rbC543zrbVyR",
    "outputId": "e5705271-4cd5-42a0-e6c1-d4ebb4e6edf3"
   },
   "outputs": [
    {
     "data": {
      "text/plain": [
       "torch.Size([32, 32, 3])"
      ]
     },
     "execution_count": 31,
     "metadata": {
      "tags": []
     },
     "output_type": "execute_result"
    }
   ],
   "source": [
    "# поменять порядок канал - размерность\n",
    "image.permute(1, 2, 0).shape"
   ]
  },
  {
   "cell_type": "code",
   "execution_count": null,
   "metadata": {
    "colab": {
     "base_uri": "https://localhost:8080/",
     "height": 266
    },
    "id": "4Zuz88o2lrg0",
    "outputId": "322ff139-e80b-4405-c7c0-bb6aba1765ab"
   },
   "outputs": [
    {
     "data": {
      "image/png": "[encoded data removed]",
      "text/plain": [
       "<Figure size 432x288 with 1 Axes>"
      ]
     },
     "metadata": {
      "needs_background": "light",
      "tags": []
     },
     "output_type": "display_data"
    }
   ],
   "source": [
    "plt.imshow(image.permute(1, 2, 0));"
   ]
  },
  {
   "cell_type": "markdown",
   "metadata": {
    "id": "vwa0GTk2lrg1"
   },
   "source": [
    "### 5.2 Даталоадер"
   ]
  },
  {
   "cell_type": "code",
   "execution_count": null,
   "metadata": {
    "id": "2EzVRQfNlrg2"
   },
   "outputs": [],
   "source": [
    "train_loader = torch.utils.data.DataLoader(\n",
    "    dataset=train_dataset,\n",
    "    batch_size=64, \n",
    "    shuffle=True\n",
    ")"
   ]
  },
  {
   "cell_type": "code",
   "execution_count": null,
   "metadata": {
    "colab": {
     "base_uri": "https://localhost:8080/",
     "height": 303
    },
    "id": "iJP2pfEZXgA9",
    "outputId": "321bdba9-d903-4279-db12-291fdda656d4"
   },
   "outputs": [
    {
     "name": "stdout",
     "output_type": "stream",
     "text": [
      "torch.Size([64, 3, 32, 32]) torch.Size([64])\n",
      "deer\n"
     ]
    },
    {
     "data": {
      "image/png": "[encoded data removed]",
      "text/plain": [
       "<Figure size 432x288 with 1 Axes>"
      ]
     },
     "metadata": {
      "needs_background": "light",
      "tags": []
     },
     "output_type": "display_data"
    }
   ],
   "source": [
    "for imgs, labels in train_loader:\n",
    "    print(imgs.shape, labels.shape)\n",
    "    print(classes[labels[0]])\n",
    "    plt.imshow(imgs[0].permute(1, 2, 0))\n",
    "    break"
   ]
  },
  {
   "cell_type": "markdown",
   "metadata": {
    "id": "tYMZROXZlrg2"
   },
   "source": [
    "Делаем все тоже самое для тестового набора данных:"
   ]
  },
  {
   "cell_type": "code",
   "execution_count": null,
   "metadata": {
    "colab": {
     "base_uri": "https://localhost:8080/"
    },
    "id": "XoMUX03dlrg3",
    "outputId": "42e73b56-cfda-490d-f7ab-1ace061feee0"
   },
   "outputs": [
    {
     "name": "stdout",
     "output_type": "stream",
     "text": [
      "Files already downloaded and verified\n"
     ]
    }
   ],
   "source": [
    "test_dataset = torchvision.datasets.CIFAR10(\n",
    "    root='./data',\n",
    "    train=False,\n",
    "    download=True,\n",
    "    transform=transforms.ToTensor()\n",
    ")\n",
    "\n",
    "test_loader = torch.utils.data.DataLoader(\n",
    "    test_dataset,\n",
    "    batch_size=8,\n",
    "    shuffle=False\n",
    ")"
   ]
  },
  {
   "cell_type": "markdown",
   "metadata": {
    "id": "wx6zbVUrlrg4"
   },
   "source": [
    "# 6. Построение нейронной сети"
   ]
  },
  {
   "cell_type": "markdown",
   "metadata": {
    "id": "etZQhSjDlrg5"
   },
   "source": [
    "В этой части мы реализуем нейронную сеть для классификации изображений CIFAR-10. Мы расскажем о реализации нейронной сети, конвейера загрузки данных и уменьшающейся скорости обучения."
   ]
  },
  {
   "cell_type": "markdown",
   "metadata": {
    "id": "23rcwDGWlrg5"
   },
   "source": [
    "Прежде чем мы начнем, позвольте отметить, что цель этого руководства не в достижении максимально возможной точности при выполнении задачи, а в том, чтобы показать вам, как использовать PyTorch."
   ]
  },
  {
   "cell_type": "markdown",
   "metadata": {
    "id": "i0qsGanClrg6"
   },
   "source": [
    "Модуль torch.nn является краеугольным камнем проектирования нейронных сетей в PyTorch. Этот класс можно использовать для реализации такого уровня, как полностью связанный слой, сверточный слой, pooling слой, функция активации, а так же целую нейронную сеть, создав экземпляр объекта torch.nn.Module"
   ]
  },
  {
   "cell_type": "markdown",
   "metadata": {
    "id": "Jwuw1L58lrg7"
   },
   "source": [
    "Несколько объектов nn.Module можно связать вместе, чтобы сформировать более крупный объект nn.Module, таким образом мы можем реализовать нейронную сеть, используя множество слоев. Фактически, nn.Module может использоваться для представления произвольной функции f в PyTorch."
   ]
  },
  {
   "cell_type": "markdown",
   "metadata": {
    "id": "u6poZa3hlrg7"
   },
   "source": [
    "У класса nn.Module есть два метода, которые необходимо переопределить:\n",
    "\n",
    "1) __init__ - эта функция вызывается при создании экземпляра nn.Module. Здесь вы определяете различные параметры слоя, такие как фильтры, размер ядра для сверточного слоя, вероятность dropout-слоя и другие параметры.  \n",
    "2) forward - здесь вы определяете, как рассчитывается ваш вывод. Эту функцию не нужно вызывать явно, и ее можно запустить, просто вызвав экземпляр nn.Module как функцию с вводом в качестве аргумента."
   ]
  },
  {
   "cell_type": "code",
   "execution_count": null,
   "metadata": {
    "colab": {
     "base_uri": "https://localhost:8080/"
    },
    "id": "bpUQHLN0lrg8",
    "outputId": "021e1412-2179-4f36-d7b9-f005fb797bda"
   },
   "outputs": [
    {
     "name": "stdout",
     "output_type": "stream",
     "text": [
      "tensor([25., 20., 15.])\n"
     ]
    }
   ],
   "source": [
    "from torch import nn\n",
    "\n",
    "\n",
    "# Очень простой слой\n",
    "class MyLayer(nn.Module):\n",
    "    def __init__(self, param):\n",
    "        super().__init__()\n",
    "        self.param = param \n",
    "  \n",
    "    def forward(self, x):\n",
    "        return x * self.param\n",
    "\n",
    "myLayerObject = MyLayer(5)\n",
    "output = myLayerObject(torch.Tensor([5, 4, 3]))\n",
    "print(output)"
   ]
  },
  {
   "cell_type": "markdown",
   "metadata": {
    "id": "8xFh0YMvlrg-"
   },
   "source": [
    "Другой широко используемый и важный класс - это класс nn.Sequential. При запуске этого класса мы можем передать список объектов nn.Module в определенной последовательности. Объект, возвращаемый nn.Sequential, сам по себе является объектом nn.Module. Когда этот объект запускается с вводом, он последовательно пропускает ввод через весь объект nn.Module, который мы ему передали, в том же порядке, в котором мы их передали."
   ]
  },
  {
   "cell_type": "code",
   "execution_count": null,
   "metadata": {
    "colab": {
     "base_uri": "https://localhost:8080/"
    },
    "id": "1ifPX-uZlrg-",
    "outputId": "4da3e47e-aeec-4352-c12d-4be01eef4402"
   },
   "outputs": [
    {
     "data": {
      "text/plain": [
       "Sequential(\n",
       "  (0): MyLayer()\n",
       "  (1): MyLayer()\n",
       ")"
      ]
     },
     "execution_count": 86,
     "metadata": {
      "tags": []
     },
     "output_type": "execute_result"
    }
   ],
   "source": [
    "combinedNetwork = nn.Sequential(MyLayer(5), MyLayer(10))\n",
    "combinedNetwork"
   ]
  },
  {
   "cell_type": "markdown",
   "metadata": {
    "id": "XclOiiJNlrg_"
   },
   "source": [
    "Давайте теперь приступим к реализации нашей классификационной сети."
   ]
  },
  {
   "cell_type": "markdown",
   "metadata": {
    "id": "5-hjUs7tlrg_"
   },
   "source": [
    "Определим следующую модель:"
   ]
  },
  {
   "cell_type": "code",
   "execution_count": null,
   "metadata": {
    "id": "mHMp7g8zlrhA"
   },
   "outputs": [],
   "source": [
    "import torch.nn.functional as F\n",
    "\n",
    "\n",
    "class Net(nn.Module):\n",
    "    def __init__(self):\n",
    "        # инициализируем слои\n",
    "        super().__init__()\n",
    "        self.conv1 = nn.Conv2d(in_channels=3,\n",
    "                               out_channels=6,\n",
    "                               kernel_size=5)\n",
    "        # один пулинг т.к. нет весов и он одинаковый\n",
    "        self.pool = nn.MaxPool2d(kernel_size=2,\n",
    "                                 stride=2)\n",
    "        self.conv2 = nn.Conv2d(in_channels=6,\n",
    "                               out_channels=16,\n",
    "                               kernel_size=5)\n",
    "        self.fc1 = nn.Linear(in_features=16 * 5 * 5,\n",
    "                             out_features=120)\n",
    "        self.fc2 = nn.Linear(in_features=120,\n",
    "                             out_features=84)\n",
    "        self.fc3 = nn.Linear(in_features=84,\n",
    "                             out_features=10)\n",
    "        # 2 свертки 5×5, после каждой свертки maxpooling. \n",
    "        # 1-ая свертка: (3, 32, 32) -> (6, 28, 28)\n",
    "        # pool: (6, 28, 28) -> (6, 14, 14)\n",
    "        # 2-ая свертка: (6, 14, 14) -> (16, 10, 10)\n",
    "        # pool: (16, 10, 10) -> (16, 5, 5)\n",
    "\n",
    "    def forward(self, x):\n",
    "        # объединяем и связываем слои\n",
    "        x = self.pool(F.relu(self.conv1(x)))\n",
    "        x = self.pool(F.relu(self.conv2(x)))\n",
    "        x = x.reshape(-1, 16 * 5 * 5)\n",
    "        x = F.relu(self.fc1(x))\n",
    "        x = F.relu(self.fc2(x))\n",
    "        x = self.fc3(x)\n",
    "        return x\n",
    "\n",
    "\n",
    "net = Net().to('cuda')"
   ]
  },
  {
   "cell_type": "markdown",
   "metadata": {
    "id": "ImVF_SXyEcfW"
   },
   "source": [
    "*__Вопрос__: Почему пользуемся одним пулингом, а не инициализируем разные для разных слоев сверток?*"
   ]
  },
  {
   "cell_type": "code",
   "execution_count": null,
   "metadata": {
    "colab": {
     "base_uri": "https://localhost:8080/"
    },
    "id": "ktOBtaH0Ahhp",
    "outputId": "a488e39e-9b62-47c0-df00-4c9227982d0e"
   },
   "outputs": [
    {
     "data": {
      "text/plain": [
       "Net(\n",
       "  (conv1): Conv2d(3, 6, kernel_size=(5, 5), stride=(1, 1))\n",
       "  (pool): MaxPool2d(kernel_size=2, stride=2, padding=0, dilation=1, ceil_mode=False)\n",
       "  (conv2): Conv2d(6, 16, kernel_size=(5, 5), stride=(1, 1))\n",
       "  (fc1): Linear(in_features=400, out_features=120, bias=True)\n",
       "  (fc2): Linear(in_features=120, out_features=84, bias=True)\n",
       "  (fc3): Linear(in_features=84, out_features=10, bias=True)\n",
       ")"
      ]
     },
     "execution_count": 105,
     "metadata": {
      "tags": []
     },
     "output_type": "execute_result"
    }
   ],
   "source": [
    "net"
   ]
  },
  {
   "cell_type": "code",
   "execution_count": null,
   "metadata": {
    "id": "j-54WEe6lrhA"
   },
   "outputs": [],
   "source": [
    "# инициализируем ошибку. классификация, значит возмём кросс-энтропию\n",
    "criterion = nn.CrossEntropyLoss()\n",
    "optimizer = optim.SGD(net.parameters(), lr=0.001, momentum=0.9)"
   ]
  },
  {
   "cell_type": "code",
   "execution_count": null,
   "metadata": {
    "colab": {
     "base_uri": "https://localhost:8080/"
    },
    "id": "WjdzmibFlrhB",
    "outputId": "f8e22883-f750-48e5-8e94-8f81c3560b1e"
   },
   "outputs": [
    {
     "name": "stdout",
     "output_type": "stream",
     "text": [
      "Epoch [1/10]. Step [1/782]. Loss: 0.036\n",
      "Epoch [1/10]. Step [301/782]. Loss: 0.036\n",
      "Epoch [1/10]. Step [601/782]. Loss: 0.036\n",
      "Epoch [2/10]. Step [1/782]. Loss: 0.036\n",
      "Epoch [2/10]. Step [301/782]. Loss: 0.036\n",
      "Epoch [2/10]. Step [601/782]. Loss: 0.035\n",
      "Epoch [3/10]. Step [1/782]. Loss: 0.033\n",
      "Epoch [3/10]. Step [301/782]. Loss: 0.032\n",
      "Epoch [3/10]. Step [601/782]. Loss: 0.031\n",
      "Epoch [4/10]. Step [1/782]. Loss: 0.032\n",
      "Epoch [4/10]. Step [301/782]. Loss: 0.030\n",
      "Epoch [4/10]. Step [601/782]. Loss: 0.030\n",
      "Epoch [5/10]. Step [1/782]. Loss: 0.027\n",
      "Epoch [5/10]. Step [301/782]. Loss: 0.029\n",
      "Epoch [5/10]. Step [601/782]. Loss: 0.029\n",
      "Epoch [6/10]. Step [1/782]. Loss: 0.029\n",
      "Epoch [6/10]. Step [301/782]. Loss: 0.028\n",
      "Epoch [6/10]. Step [601/782]. Loss: 0.027\n",
      "Epoch [7/10]. Step [1/782]. Loss: 0.029\n",
      "Epoch [7/10]. Step [301/782]. Loss: 0.026\n",
      "Epoch [7/10]. Step [601/782]. Loss: 0.025\n",
      "Epoch [8/10]. Step [1/782]. Loss: 0.026\n",
      "Epoch [8/10]. Step [301/782]. Loss: 0.025\n",
      "Epoch [8/10]. Step [601/782]. Loss: 0.024\n",
      "Epoch [9/10]. Step [1/782]. Loss: 0.023\n",
      "Epoch [9/10]. Step [301/782]. Loss: 0.024\n",
      "Epoch [9/10]. Step [601/782]. Loss: 0.024\n",
      "Epoch [10/10]. Step [1/782]. Loss: 0.023\n",
      "Epoch [10/10]. Step [301/782]. Loss: 0.023\n",
      "Epoch [10/10]. Step [601/782]. Loss: 0.023\n",
      "Training is finished!\n",
      "CPU times: user 58.1 s, sys: 669 ms, total: 58.7 s\n",
      "Wall time: 58.8 s\n"
     ]
    }
   ],
   "source": [
    "%%time\n",
    "num_epochs = 10\n",
    "\n",
    "# нет как в Keras метода fit, всё надо писать\n",
    "for epoch in range(num_epochs):\n",
    "    # инициализируем значение функцию потерь\n",
    "    running_loss = 0.0  # Для вывода процесса обучения\n",
    "    # сколько объектов увидели\n",
    "    running_items = 0.0\n",
    "    \n",
    "    # проходимся по генератору и получаем батч объектов для обучения\n",
    "    for i, data in enumerate(train_loader):\n",
    "        inputs, labels = data[0].to(device), data[1].to(device)\n",
    "\n",
    "        # Обнуляем градиент\n",
    "        optimizer.zero_grad()\n",
    "        # Делаем предсказание, не обращаясь к методу forward,\n",
    "        # а передавая входы в сеть. По факту будет вызов forward'а\n",
    "        outputs = net(inputs)\n",
    "        # Рассчитываем лосс-функцию\n",
    "        loss = criterion(outputs, labels)\n",
    "        # Делаем шаг назад по лоссу\n",
    "        loss.backward()\n",
    "        # Делаем шаг нашего оптимайзера\n",
    "        optimizer.step()\n",
    "\n",
    "        # выводим статистику о процессе обучения\n",
    "        # нет стандартного вывода как в Keras\n",
    "        running_loss += loss.item()\n",
    "        running_items += len(labels)\n",
    "        if i % 300 == 0:    # печатаем каждые 300\n",
    "            print(f'Epoch [{epoch + 1}/{num_epochs}]. ' \\\n",
    "                  f'Step [{i + 1}/{len(train_loader)}]. ' \\\n",
    "                  f'Loss: {running_loss / running_items:.3f}')\n",
    "            # очищаем статистику\n",
    "            running_loss, running_items = 0.0, 0.0\n",
    "\n",
    "print('Training is finished!')"
   ]
  },
  {
   "cell_type": "markdown",
   "metadata": {
    "id": "_sTks3KslrhC"
   },
   "source": [
    "# 6. Загрузка и сохранение модели"
   ]
  },
  {
   "cell_type": "markdown",
   "metadata": {
    "id": "LPFEiskvlrhC"
   },
   "source": [
    "### 6.1 Сохранение модели\n",
    "\n",
    "Можем сохранять либо веса, либо модель с весами"
   ]
  },
  {
   "cell_type": "code",
   "execution_count": null,
   "metadata": {
    "id": "KD7mnuaeAhhs"
   },
   "outputs": [],
   "source": [
    "# сохраняем веса. Архитектуру модели нужно обязательно тоже сохранить (отдельно)\n",
    "PATH_WEIGHTS = './cifar_net_test_version_weights.pth'\n",
    "torch.save(net.state_dict(), PATH_WEIGHTS)"
   ]
  },
  {
   "cell_type": "code",
   "execution_count": null,
   "metadata": {
    "colab": {
     "base_uri": "https://localhost:8080/"
    },
    "id": "vfaFpun1Ahhs",
    "outputId": "888b2a43-285f-4692-dbdc-bf843c4d2688"
   },
   "outputs": [
    {
     "name": "stdout",
     "output_type": "stream",
     "text": [
      "Model state_dict: \n",
      "conv1.weight \t torch.Size([6, 3, 5, 5])\n",
      "conv1.bias \t torch.Size([6])\n",
      "conv2.weight \t torch.Size([16, 6, 5, 5])\n",
      "conv2.bias \t torch.Size([16])\n",
      "fc1.weight \t torch.Size([120, 400])\n",
      "fc1.bias \t torch.Size([120])\n",
      "fc2.weight \t torch.Size([84, 120])\n",
      "fc2.bias \t torch.Size([84])\n",
      "fc3.weight \t torch.Size([10, 84])\n",
      "fc3.bias \t torch.Size([10])\n"
     ]
    }
   ],
   "source": [
    "print(\"Model state_dict: \")\n",
    "for param in net.state_dict():\n",
    "    print(param, \"\\t\", net.state_dict()[param].size())"
   ]
  },
  {
   "cell_type": "code",
   "execution_count": null,
   "metadata": {
    "id": "7uo21kDtpehh"
   },
   "outputs": [],
   "source": [
    "# 2-й способ: сохраняем модель полностью со всей архитектурой и весами\n",
    "PATH_MODEL = './cifar_net_test_version_model.pth'\n",
    "torch.save(net, PATH_MODEL)"
   ]
  },
  {
   "cell_type": "markdown",
   "metadata": {
    "id": "ehNiDFWtAhht"
   },
   "source": [
    "### 6.2 Загрузка и использование модели "
   ]
  },
  {
   "cell_type": "code",
   "execution_count": null,
   "metadata": {
    "colab": {
     "base_uri": "https://localhost:8080/"
    },
    "id": "3bobKodiAhht",
    "outputId": "9aa5fde5-4989-4fbb-cbbd-21fd58919663"
   },
   "outputs": [
    {
     "data": {
      "text/plain": [
       "Net(\n",
       "  (conv1): Conv2d(3, 6, kernel_size=(5, 5), stride=(1, 1))\n",
       "  (pool): MaxPool2d(kernel_size=2, stride=2, padding=0, dilation=1, ceil_mode=False)\n",
       "  (conv2): Conv2d(6, 16, kernel_size=(5, 5), stride=(1, 1))\n",
       "  (fc1): Linear(in_features=400, out_features=120, bias=True)\n",
       "  (fc2): Linear(in_features=120, out_features=84, bias=True)\n",
       "  (fc3): Linear(in_features=84, out_features=10, bias=True)\n",
       ")"
      ]
     },
     "execution_count": 114,
     "metadata": {
      "tags": []
     },
     "output_type": "execute_result"
    }
   ],
   "source": [
    "# инициализируем модель\n",
    "net = Net()\n",
    "# подгружаем к ней веса\n",
    "net.load_state_dict(torch.load(PATH_WEIGHTS))\n",
    "net"
   ]
  },
  {
   "cell_type": "code",
   "execution_count": null,
   "metadata": {
    "colab": {
     "base_uri": "https://localhost:8080/"
    },
    "id": "EcC_eMaxphxr",
    "outputId": "8ba60ff8-e6ea-40ea-83e5-6ee5f614ff41"
   },
   "outputs": [
    {
     "data": {
      "text/plain": [
       "Net(\n",
       "  (conv1): Conv2d(3, 6, kernel_size=(5, 5), stride=(1, 1))\n",
       "  (pool): MaxPool2d(kernel_size=2, stride=2, padding=0, dilation=1, ceil_mode=False)\n",
       "  (conv2): Conv2d(6, 16, kernel_size=(5, 5), stride=(1, 1))\n",
       "  (fc1): Linear(in_features=400, out_features=120, bias=True)\n",
       "  (fc2): Linear(in_features=120, out_features=84, bias=True)\n",
       "  (fc3): Linear(in_features=84, out_features=10, bias=True)\n",
       ")"
      ]
     },
     "execution_count": 115,
     "metadata": {
      "tags": []
     },
     "output_type": "execute_result"
    }
   ],
   "source": [
    "# 2-й способ - подгружаем модель с весами\n",
    "net = torch.load(PATH_MODEL)\n",
    "net.to('cpu')"
   ]
  },
  {
   "cell_type": "markdown",
   "metadata": {},
   "source": [
    "Посмотрим как модель работает на тесте."
   ]
  },
  {
   "cell_type": "code",
   "execution_count": null,
   "metadata": {
    "id": "bnItAZIgAhht"
   },
   "outputs": [],
   "source": [
    "# берём один объект\n",
    "data_iter = iter(test_loader)\n",
    "images, labels = data_iter.next()"
   ]
  },
  {
   "cell_type": "code",
   "execution_count": null,
   "metadata": {
    "colab": {
     "base_uri": "https://localhost:8080/",
     "height": 142
    },
    "id": "xaZVP7lWAhhu",
    "outputId": "d3ad1da8-83f7-46d1-ea65-9e5e7713fdce"
   },
   "outputs": [
    {
     "name": "stdout",
     "output_type": "stream",
     "text": [
      "GroundTruth:  cat ship ship plane frog frog car frog\n"
     ]
    },
    {
     "data": {
      "image/png": "[encoded data removed]",
      "text/plain": [
       "<Figure size 720x360 with 1 Axes>"
      ]
     },
     "metadata": {
      "needs_background": "light",
      "tags": []
     },
     "output_type": "display_data"
    }
   ],
   "source": [
    "# прогоняем через сеть\n",
    "outputs = net(images)\n",
    "# отрисовываем картинки с помощью торча и истинные метки\n",
    "imgs = torchvision.utils.make_grid(images)\n",
    "plt.figure(figsize=(10, 5))\n",
    "plt.imshow(imgs.permute(1, 2, 0).numpy())\n",
    "print('GroundTruth: ', ' '.join(classes[labels[j]] for j in range(len(labels))))"
   ]
  },
  {
   "cell_type": "code",
   "execution_count": null,
   "metadata": {
    "colab": {
     "base_uri": "https://localhost:8080/"
    },
    "id": "OK5qzXeCAhhv",
    "outputId": "476d2461-191d-416c-eb9b-a2f77fef270b"
   },
   "outputs": [
    {
     "name": "stdout",
     "output_type": "stream",
     "text": [
      "tensor([[-0.8204,  0.3746,  0.4533,  1.3054,  0.1365,  1.0049,  0.0915, -1.4121,\n",
      "          0.4212, -0.8952],\n",
      "        [ 3.7632,  4.5290, -1.0295, -2.9887, -1.7876, -4.0010, -5.2768, -2.2075,\n",
      "          4.3952,  3.5601],\n",
      "        [ 2.4597,  4.9167, -1.3548, -1.6817, -2.4444, -2.1983, -5.2265, -1.6216,\n",
      "          3.0788,  3.5463],\n",
      "        [ 3.6195,  3.1902,  0.1350, -1.7492, -0.6893, -2.8791, -3.9275, -2.1349,\n",
      "          3.7847,  1.0094],\n",
      "        [-1.3975, -3.7336,  2.1198,  2.0333,  2.2746,  1.5645,  2.6139, -0.4489,\n",
      "         -2.2830, -2.6431],\n",
      "        [-0.3082, -0.1018,  0.2515, -0.3346,  0.8932, -0.6641,  2.2761, -0.8294,\n",
      "         -2.0538, -1.1813],\n",
      "        [-0.0393,  2.9446,  0.6929,  1.5183, -2.4838,  1.1361, -2.6712, -0.9327,\n",
      "         -0.6705,  0.6625],\n",
      "        [-1.0623, -2.9638,  1.0411,  1.0074,  1.9223,  0.7561,  2.7615, -0.2589,\n",
      "         -2.0202, -1.9967]], grad_fn=<AddmmBackward>)\n"
     ]
    }
   ],
   "source": [
    "# линейный выход. работает как вероятность - чем больше, тем больше вероятность\n",
    "print(outputs)"
   ]
  },
  {
   "cell_type": "code",
   "execution_count": null,
   "metadata": {
    "colab": {
     "base_uri": "https://localhost:8080/"
    },
    "id": "VF-ezeboAhhv",
    "outputId": "8eb0a483-c6e0-4d82-f525-1852883ea07d"
   },
   "outputs": [
    {
     "data": {
      "text/plain": [
       "tensor([3, 1, 1, 8, 6, 6, 1, 6])"
      ]
     },
     "execution_count": 119,
     "metadata": {
      "tags": []
     },
     "output_type": "execute_result"
    }
   ],
   "source": [
    "# выводи максимальное значение. 1- по какой размерности ищем максимальное - ищем в каждой строчке\n",
    "_, predicted = torch.max(outputs, 1)\n",
    "\n",
    "predicted"
   ]
  },
  {
   "cell_type": "code",
   "execution_count": null,
   "metadata": {
    "colab": {
     "base_uri": "https://localhost:8080/"
    },
    "id": "Vd6w5xrvHP-O",
    "outputId": "ec6d1e11-c019-4837-b3c1-e64c53cd2d68"
   },
   "outputs": [
    {
     "name": "stdout",
     "output_type": "stream",
     "text": [
      "Predicted:  cat car car ship frog frog car frog\n"
     ]
    }
   ],
   "source": [
    "print('Predicted: ', ' '.join(classes[predicted[j]] for j in range(len(labels))))"
   ]
  },
  {
   "cell_type": "code",
   "execution_count": null,
   "metadata": {
    "colab": {
     "base_uri": "https://localhost:8080/"
    },
    "id": "oxPcScN3ROv2",
    "outputId": "8259345d-ffdc-4eed-b663-33b8400c639e"
   },
   "outputs": [
    {
     "name": "stdout",
     "output_type": "stream",
     "text": [
      "['cat' 'ship' 'ship' 'plane' 'frog' 'frog' 'car' 'frog']\n",
      "['cat' 'car' 'car' 'ship' 'frog' 'frog' 'car' 'frog']\n",
      "Accuracy is 0.625\n"
     ]
    }
   ],
   "source": [
    "gt = np.array([classes[labels[j]] for j in range(len(labels))])\n",
    "pred = np.array([classes[predicted[j]] for j in range(len(labels))])\n",
    "\n",
    "# истинные\n",
    "print(gt)\n",
    "# предсказанные\n",
    "print(pred)\n",
    "print(f'Accuracy is {(gt == pred).sum() / len(gt)}')"
   ]
  },
  {
   "cell_type": "markdown",
   "metadata": {
    "id": "3HhgLc7nlrhR"
   },
   "source": [
    "#  7. Tensorflow vs PyTorch:"
   ]
  },
  {
   "cell_type": "markdown",
   "metadata": {
    "id": "FZvXLj-RlrhS"
   },
   "source": [
    "<img src='https://drive.google.com/uc?export=view&id=13SNw7d9JGT8lHMrKN2-mNgYrqKqkNXfG'>"
   ]
  },
  {
   "cell_type": "markdown",
   "metadata": {
    "id": "MjwlR38ylrhT"
   },
   "source": [
    "* Отладка\n",
    "* Определение графа - верно для старых версий, в Октябре 2019 года добавили поддержку подобного стиля программирования (стало не нужно использование плейсхолдеров - заглушек)."
   ]
  },
  {
   "cell_type": "markdown",
   "metadata": {
    "id": "Y2zYPfsDlrhV"
   },
   "source": [
    "#### Различия:\n",
    "\n",
    "PyTorch разработал Facebook Lab в 2016 году, здесь динамическое определение графа. А Tensorflow разрабатывался командой Google Brains в 2015 и до 2019 года граф определялся только статически.\n",
    "\n",
    "В TensorFlow граф определяется статически перед запуском модели. Связь осуществляется с помощью объекта tf.Session и tf.Placeholder — тензорами, которые во время выполнения программы будут заменены внешними данными.\n",
    "\n",
    "В PyTorch можно определять, изменять и выполнять узлы как вам угодно без дополнительных session- и placeholder-интерфейсов. Когда вы пишите на TensorFlow, иногда кажется, что с моделью можно связываться через несколько крошечных отверстий в кирпичной стене, за которой и прячется модель.\n",
    "\n",
    "Существуют архитектуры нейронных сетей, которые получают преимущества от динамического подхода. RNN со статическим графом длина входной последовательности остается постоянной. Это означает, что необходимо зафиксировать длину предложения на максимальном значении, а все более мелкие последовательности заполнять нулями.\n",
    "\n",
    "Но теперь и в Tensorflow и PyTorch есть возможность динамического определения графа.\n",
    "\n",
    "\n",
    "<img src='https://drive.google.com/uc?export=view&id=1YceAfoUFkzUo_nHPwpwW8OuklFlQGMwu'>"
   ]
  },
  {
   "cell_type": "markdown",
   "metadata": {
    "id": "JXPZ4j1-lrhW"
   },
   "source": [
    "[Ссылка](https://chel-center.ru/python-yfc/2020/12/22/pytorch-protiv-tensorflow-dlya-vashego-proekta-glubokogo-obucheniya-python/) на статью где хорошо объясняется различие pytorch от tensorflow."
   ]
  },
  {
   "cell_type": "markdown",
   "metadata": {
    "id": "3btv8V0QlrhW"
   },
   "source": [
    "# 8. Где полученные знания можно применять"
   ]
  },
  {
   "cell_type": "markdown",
   "metadata": {
    "id": "LDMm1C17lrhX"
   },
   "source": [
    "В этом курсе мы будем изучать и использовать pytorch для работы с изображениями. Соотвественно решать задачу компьютерного зрения.  \n",
    "Но помимо компьютерного зрения pytorch можно использовать в следующих областях:\n",
    "* Распознавание и синтез аудио. Об этом [torchaudio](https://pytorch.org/audio/stable/index.html)  \n",
    "* Так же с инструментом pytorch можно заниматься регрессионными проблемами, прогнозирования временных рядов. Например предсказывать цены на определенные валюты, акции, дома и т.д. [ссылка](https://www.machinelearningmastery.ru/lstm-for-time-series-prediction-de8aeb26f2ca/)\n",
    "* [Задачи NLP](https://pytorchnlp.readthedocs.io/en/latest/index.html#)  \n",
    "* Можно генерировать разную информацию от картинок до текста и аудио.\n",
    "\n",
    "В общем pytorch можно применять везде где используются нейронные сети.\n",
    "\n",
    "[Бонус](https://www.8host.com/blog/kak-ustanovit-i-ispolzovat-pytorch/): зайдите по ссылке и долистайте до \"Экосистема Pytorch\""
   ]
  },
  {
   "cell_type": "markdown",
   "metadata": {
    "id": "MkJ7emsMxaYF"
   },
   "source": [
    "# Домашнее задание\n",
    "\n",
    "1. Добиться хорошего результата от модели, собранной на занятии (6 угаданныx картинок из 8 предложенных). Варианты изменений:\n",
    "- изменение слоёв и их количества;\n",
    "- изменение метода оптимизации;\n",
    "- изменение процесса обучения;\n",
    "- *преобразование данных transform\n",
    "\n",
    "2. *Переписать данный туториал на PyTorch: https://www.tensorflow.org/tutorials/quickstart/beginner?hl=ru"
   ]
  },
  {
   "cell_type": "markdown",
   "metadata": {
    "id": "nfRSfecExTgi"
   },
   "source": [
    "# Дополнительные материалы\n",
    "1. [Pytorch vs Tensorflow in 2020](https://towardsdatascience.com/pytorch-vs-tensorflow-in-2020-fe237862fae1)\n",
    "2. [Официальная документация PyTorch](https://pytorch.org/tutorials/)"
   ]
  },
  {
   "cell_type": "markdown",
   "metadata": {
    "id": "u4TESt3AxXg7"
   },
   "source": [
    "# Определения\n",
    "\n",
    "\n",
    "**Вычислительный граф** — это иллюстрированная запись какой-либо функции, состоящая из вершин и рёбер. Вершины (или узлы) — вычислительные операции, которые необходимо выполнить, а рёбра связывают их в определённую последовательность.\n",
    "\n",
    "Шаги обучения PyTorch:\n",
    "1. Проход по батчу\n",
    "2. Обнуление градиента\n",
    "3. Предсказание модели на батче\n",
    "4. Подсчет ошибки\n",
    "5. Подсчет градиентов\n",
    "6. Шаг оптимизации\n",
    "7. Логирование информации"
   ]
  }
 ],
 "metadata": {
  "accelerator": "GPU",
  "colab": {
   "collapsed_sections": [
    "GjBbSSOXlrdB",
    "78WC03sMlrdK",
    "swyfZlVrlrdM",
    "BIf4MP-ulrdX",
    "1apoSI34lrda",
    "mrI9Y6-klrdd",
    "XxJ36RNblrde",
    "oB-V0qAFlrdm",
    "wYIltf84lreJ",
    "5gbHTyn5lreo",
    "0415zzOllrep",
    "AMm2QuehlrfD",
    "geQBtfx6lrfQ",
    "7MMq6SyGlrfk",
    "zuo6jRyclrfl",
    "PqyiBsZslrfm",
    "H2b1GNX9lrfs",
    "WdTvtWErlrfw",
    "J233-U8Blrfy",
    "BzH24z7-lrf0",
    "aC2tuCnHlrf3",
    "jO3LHAyIlrf-",
    "3AA_rUsQlrgH",
    "eUgJU3bXlrgL",
    "npFYZWVYlrgQ",
    "9Bb5LTv5lrgU",
    "7OsmUvD3lrgW",
    "eHImPO4olrgZ",
    "kFDcguiilrgw",
    "tuY7IOOvlrgz",
    "vwa0GTk2lrg1",
    "wx6zbVUrlrg4",
    "_sTks3KslrhC",
    "LPFEiskvlrhC",
    "ehNiDFWtAhht",
    "3HhgLc7nlrhR",
    "Y2zYPfsDlrhV",
    "3btv8V0QlrhW",
    "MkJ7emsMxaYF",
    "nfRSfecExTgi",
    "u4TESt3AxXg7"
   ],
   "name": "lesson_1.ipynb",
   "provenance": [],
   "toc_visible": true
  },
  "kernelspec": {
   "display_name": "Python 3",
   "language": "python",
   "name": "python3"
  },
  "language_info": {
   "codemirror_mode": {
    "name": "ipython",
    "version": 3
   },
   "file_extension": ".py",
   "mimetype": "text/x-python",
   "name": "python",
   "nbconvert_exporter": "python",
   "pygments_lexer": "ipython3",
   "version": "3.8.8"
  },
  "toc": {
   "base_numbering": 1,
   "nav_menu": {},
   "number_sections": false,
   "sideBar": true,
   "skip_h1_title": false,
   "title_cell": "Table of Contents",
   "title_sidebar": "Contents",
   "toc_cell": false,
   "toc_position": {
    "height": "calc(100% - 180px)",
    "left": "10px",
    "top": "150px",
    "width": "249.188px"
   },
   "toc_section_display": true,
   "toc_window_display": false
  },
  "varInspector": {
   "cols": {
    "lenName": 16,
    "lenType": 16,
    "lenVar": 40
   },
   "kernels_config": {
    "python": {
     "delete_cmd_postfix": "",
     "delete_cmd_prefix": "del ",
     "library": "var_list.py",
     "varRefreshCmd": "print(var_dic_list())"
    },
    "r": {
     "delete_cmd_postfix": ") ",
     "delete_cmd_prefix": "rm(",
     "library": "var_list.r",
     "varRefreshCmd": "cat(var_dic_list()) "
    }
   },
   "types_to_exclude": [
    "module",
    "function",
    "builtin_function_or_method",
    "instance",
    "_Feature"
   ],
   "window_display": false
  },
  "widgets": {
   "application/vnd.jupyter.widget-state+json": {
    "03eb65932c8545f8973c1fe07cc70273": {
     "model_module": "@jupyter-widgets/base",
     "model_name": "LayoutModel",
     "state": {
      "_model_module": "@jupyter-widgets/base",
      "_model_module_version": "1.2.0",
      "_model_name": "LayoutModel",
      "_view_count": null,
      "_view_module": "@jupyter-widgets/base",
      "_view_module_version": "1.2.0",
      "_view_name": "LayoutView",
      "align_content": null,
      "align_items": null,
      "align_self": null,
      "border": null,
      "bottom": null,
      "display": null,
      "flex": null,
      "flex_flow": null,
      "grid_area": null,
      "grid_auto_columns": null,
      "grid_auto_flow": null,
      "grid_auto_rows": null,
      "grid_column": null,
      "grid_gap": null,
      "grid_row": null,
      "grid_template_areas": null,
      "grid_template_columns": null,
      "grid_template_rows": null,
      "height": null,
      "justify_content": null,
      "justify_items": null,
      "left": null,
      "margin": null,
      "max_height": null,
      "max_width": null,
      "min_height": null,
      "min_width": null,
      "object_fit": null,
      "object_position": null,
      "order": null,
      "overflow": null,
      "overflow_x": null,
      "overflow_y": null,
      "padding": null,
      "right": null,
      "top": null,
      "visibility": null,
      "width": null
     }
    },
    "17c01a9480a14ed9a07772d305fd39cf": {
     "model_module": "@jupyter-widgets/controls",
     "model_name": "HBoxModel",
     "state": {
      "_dom_classes": [],
      "_model_module": "@jupyter-widgets/controls",
      "_model_module_version": "1.5.0",
      "_model_name": "HBoxModel",
      "_view_count": null,
      "_view_module": "@jupyter-widgets/controls",
      "_view_module_version": "1.5.0",
      "_view_name": "HBoxView",
      "box_style": "",
      "children": [
       "IPY_MODEL_5234eb8c6a0b446f8c3563dbcaf7e64b",
       "IPY_MODEL_d712ccd9b0884f9bad45bc657d2ed205"
      ],
      "layout": "IPY_MODEL_03eb65932c8545f8973c1fe07cc70273"
     }
    },
    "1e3dadefe7574420aadba9a4b46ee468": {
     "model_module": "@jupyter-widgets/controls",
     "model_name": "ProgressStyleModel",
     "state": {
      "_model_module": "@jupyter-widgets/controls",
      "_model_module_version": "1.5.0",
      "_model_name": "ProgressStyleModel",
      "_view_count": null,
      "_view_module": "@jupyter-widgets/base",
      "_view_module_version": "1.2.0",
      "_view_name": "StyleView",
      "bar_color": null,
      "description_width": "initial"
     }
    },
    "5234eb8c6a0b446f8c3563dbcaf7e64b": {
     "model_module": "@jupyter-widgets/controls",
     "model_name": "FloatProgressModel",
     "state": {
      "_dom_classes": [],
      "_model_module": "@jupyter-widgets/controls",
      "_model_module_version": "1.5.0",
      "_model_name": "FloatProgressModel",
      "_view_count": null,
      "_view_module": "@jupyter-widgets/controls",
      "_view_module_version": "1.5.0",
      "_view_name": "ProgressView",
      "bar_style": "success",
      "description": "",
      "description_tooltip": null,
      "layout": "IPY_MODEL_aeb71a2759da42738462a326f41531bf",
      "max": 170498071,
      "min": 0,
      "orientation": "horizontal",
      "style": "IPY_MODEL_1e3dadefe7574420aadba9a4b46ee468",
      "value": 170498071
     }
    },
    "9995e22b576d412996059fcfef764070": {
     "model_module": "@jupyter-widgets/controls",
     "model_name": "DescriptionStyleModel",
     "state": {
      "_model_module": "@jupyter-widgets/controls",
      "_model_module_version": "1.5.0",
      "_model_name": "DescriptionStyleModel",
      "_view_count": null,
      "_view_module": "@jupyter-widgets/base",
      "_view_module_version": "1.2.0",
      "_view_name": "StyleView",
      "description_width": ""
     }
    },
    "aeb71a2759da42738462a326f41531bf": {
     "model_module": "@jupyter-widgets/base",
     "model_name": "LayoutModel",
     "state": {
      "_model_module": "@jupyter-widgets/base",
      "_model_module_version": "1.2.0",
      "_model_name": "LayoutModel",
      "_view_count": null,
      "_view_module": "@jupyter-widgets/base",
      "_view_module_version": "1.2.0",
      "_view_name": "LayoutView",
      "align_content": null,
      "align_items": null,
      "align_self": null,
      "border": null,
      "bottom": null,
      "display": null,
      "flex": null,
      "flex_flow": null,
      "grid_area": null,
      "grid_auto_columns": null,
      "grid_auto_flow": null,
      "grid_auto_rows": null,
      "grid_column": null,
      "grid_gap": null,
      "grid_row": null,
      "grid_template_areas": null,
      "grid_template_columns": null,
      "grid_template_rows": null,
      "height": null,
      "justify_content": null,
      "justify_items": null,
      "left": null,
      "margin": null,
      "max_height": null,
      "max_width": null,
      "min_height": null,
      "min_width": null,
      "object_fit": null,
      "object_position": null,
      "order": null,
      "overflow": null,
      "overflow_x": null,
      "overflow_y": null,
      "padding": null,
      "right": null,
      "top": null,
      "visibility": null,
      "width": null
     }
    },
    "d712ccd9b0884f9bad45bc657d2ed205": {
     "model_module": "@jupyter-widgets/controls",
     "model_name": "HTMLModel",
     "state": {
      "_dom_classes": [],
      "_model_module": "@jupyter-widgets/controls",
      "_model_module_version": "1.5.0",
      "_model_name": "HTMLModel",
      "_view_count": null,
      "_view_module": "@jupyter-widgets/controls",
      "_view_module_version": "1.5.0",
      "_view_name": "HTMLView",
      "description": "",
      "description_tooltip": null,
      "layout": "IPY_MODEL_dfa688533567456aab1ec0007c4df794",
      "placeholder": "​",
      "style": "IPY_MODEL_9995e22b576d412996059fcfef764070",
      "value": " 170499072/? [00:48&lt;00:00, 3509366.08it/s]"
     }
    },
    "dfa688533567456aab1ec0007c4df794": {
     "model_module": "@jupyter-widgets/base",
     "model_name": "LayoutModel",
     "state": {
      "_model_module": "@jupyter-widgets/base",
      "_model_module_version": "1.2.0",
      "_model_name": "LayoutModel",
      "_view_count": null,
      "_view_module": "@jupyter-widgets/base",
      "_view_module_version": "1.2.0",
      "_view_name": "LayoutView",
      "align_content": null,
      "align_items": null,
      "align_self": null,
      "border": null,
      "bottom": null,
      "display": null,
      "flex": null,
      "flex_flow": null,
      "grid_area": null,
      "grid_auto_columns": null,
      "grid_auto_flow": null,
      "grid_auto_rows": null,
      "grid_column": null,
      "grid_gap": null,
      "grid_row": null,
      "grid_template_areas": null,
      "grid_template_columns": null,
      "grid_template_rows": null,
      "height": null,
      "justify_content": null,
      "justify_items": null,
      "left": null,
      "margin": null,
      "max_height": null,
      "max_width": null,
      "min_height": null,
      "min_width": null,
      "object_fit": null,
      "object_position": null,
      "order": null,
      "overflow": null,
      "overflow_x": null,
      "overflow_y": null,
      "padding": null,
      "right": null,
      "top": null,
      "visibility": null,
      "width": null
     }
    }
   }
  }
 },
 "nbformat": 4,
 "nbformat_minor": 1
}
