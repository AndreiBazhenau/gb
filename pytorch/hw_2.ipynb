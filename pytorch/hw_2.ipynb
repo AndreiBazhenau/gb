{
 "cells": [
  {
   "cell_type": "markdown",
   "metadata": {},
   "source": [
    "Урок 2. CNN. Детектирование\n",
    "---\n",
    "\n",
    "**Домашнее задание**: Используя файл Web2.ipynb (он в полезных ссылках):\n",
    "\n",
    "1. Вам нужно будет загрузить и оформить датасет котиков, собак https://www.kaggle.com/andrewmvd/dog-and-cat-detection\n",
    "2. *Нужно будет произвести аугментацию данных\n",
    "3. Затем обучить нейронную сеть на получившемся датасете"
   ]
  },
  {
   "cell_type": "code",
   "execution_count": 1,
   "metadata": {
    "_cell_guid": "b1076dfc-b9ad-4769-8c92-a6c4dae69d19",
    "_uuid": "8f2839f25d086af736a60e9eeb907d3b93b6e0e5",
    "execution": {
     "iopub.execute_input": "2021-07-12T21:55:28.558774Z",
     "iopub.status.busy": "2021-07-12T21:55:28.558431Z",
     "iopub.status.idle": "2021-07-12T21:55:30.967215Z",
     "shell.execute_reply": "2021-07-12T21:55:30.966366Z",
     "shell.execute_reply.started": "2021-07-12T21:55:28.558723Z"
    }
   },
   "outputs": [],
   "source": [
    "import os\n",
    "import random\n",
    "import math\n",
    "from datetime import datetime\n",
    "from collections import Counter\n",
    "import pandas as pd\n",
    "import numpy as np\n",
    "\n",
    "import cv2\n",
    "from PIL import Image\n",
    "from pathlib import Path\n",
    "import matplotlib.pyplot as plt\n",
    "from matplotlib.patches import Rectangle\n",
    "from sklearn.model_selection import train_test_split\n",
    "import xml.etree.ElementTree as ET\n",
    "\n",
    "import torch\n",
    "from torch.utils.data import Dataset, DataLoader\n",
    "import torch.optim as optim\n",
    "import torch.nn as nn\n",
    "import torch.nn.functional as F\n",
    "from torchvision import models"
   ]
  },
  {
   "cell_type": "markdown",
   "metadata": {},
   "source": [
    "# Загрузка данных"
   ]
  },
  {
   "cell_type": "code",
   "execution_count": 2,
   "metadata": {
    "execution": {
     "iopub.execute_input": "2021-07-12T21:55:30.974311Z",
     "iopub.status.busy": "2021-07-12T21:55:30.973945Z",
     "iopub.status.idle": "2021-07-12T21:55:30.983437Z",
     "shell.execute_reply": "2021-07-12T21:55:30.982383Z",
     "shell.execute_reply.started": "2021-07-12T21:55:30.974273Z"
    }
   },
   "outputs": [],
   "source": [
    "images_path = Path('../input/dog-and-cat-detection/images')\n",
    "anno_path = Path('../input/dog-and-cat-detection/annotations')\n",
    "\n",
    "\n",
    "def filelist(root, file_type):\n",
    "    \"\"\"Функция возвращает полностью квалифицированный список файлов в директории\"\"\"\n",
    "    return [os.path.join(directory_path, f) for directory_path, directory_name, \n",
    "            files in os.walk(root) for f in files if f.endswith(file_type)]\n",
    "\n",
    "\n",
    "def generate_train_df (anno_path):\n",
    "    annotations = filelist(anno_path, '.xml')\n",
    "    anno_list = []\n",
    "    for anno_path in annotations:\n",
    "        root = ET.parse(anno_path).getroot()\n",
    "        anno = {}\n",
    "        anno['filename'] = Path(str(images_path) + '/'+ root.find(\"./filename\").text)\n",
    "        anno['width'] = root.find(\"./size/width\").text\n",
    "        anno['height'] = root.find(\"./size/height\").text\n",
    "        anno['class'] = root.find(\"./object/name\").text\n",
    "        anno['xmin'] = int(root.find(\"./object/bndbox/xmin\").text)\n",
    "        anno['ymin'] = int(root.find(\"./object/bndbox/ymin\").text)\n",
    "        anno['xmax'] = int(root.find(\"./object/bndbox/xmax\").text)\n",
    "        anno['ymax'] = int(root.find(\"./object/bndbox/ymax\").text)\n",
    "        anno_list.append(anno)\n",
    "    return pd.DataFrame(anno_list)"
   ]
  },
  {
   "cell_type": "code",
   "execution_count": 3,
   "metadata": {
    "execution": {
     "iopub.execute_input": "2021-07-12T21:55:30.985593Z",
     "iopub.status.busy": "2021-07-12T21:55:30.985197Z",
     "iopub.status.idle": "2021-07-12T21:55:40.817817Z",
     "shell.execute_reply": "2021-07-12T21:55:40.817033Z",
     "shell.execute_reply.started": "2021-07-12T21:55:30.985553Z"
    }
   },
   "outputs": [
    {
     "data": {
      "text/html": [
       "<div>\n",
       "<style scoped>\n",
       "    .dataframe tbody tr th:only-of-type {\n",
       "        vertical-align: middle;\n",
       "    }\n",
       "\n",
       "    .dataframe tbody tr th {\n",
       "        vertical-align: top;\n",
       "    }\n",
       "\n",
       "    .dataframe thead th {\n",
       "        text-align: right;\n",
       "    }\n",
       "</style>\n",
       "<table border=\"1\" class=\"dataframe\">\n",
       "  <thead>\n",
       "    <tr style=\"text-align: right;\">\n",
       "      <th></th>\n",
       "      <th>filename</th>\n",
       "      <th>width</th>\n",
       "      <th>height</th>\n",
       "      <th>class</th>\n",
       "      <th>xmin</th>\n",
       "      <th>ymin</th>\n",
       "      <th>xmax</th>\n",
       "      <th>ymax</th>\n",
       "    </tr>\n",
       "  </thead>\n",
       "  <tbody>\n",
       "    <tr>\n",
       "      <th>0</th>\n",
       "      <td>../input/dog-and-cat-detection/images/Cats_Tes...</td>\n",
       "      <td>313</td>\n",
       "      <td>310</td>\n",
       "      <td>cat</td>\n",
       "      <td>99</td>\n",
       "      <td>34</td>\n",
       "      <td>238</td>\n",
       "      <td>183</td>\n",
       "    </tr>\n",
       "    <tr>\n",
       "      <th>1</th>\n",
       "      <td>../input/dog-and-cat-detection/images/Cats_Tes...</td>\n",
       "      <td>500</td>\n",
       "      <td>417</td>\n",
       "      <td>dog</td>\n",
       "      <td>183</td>\n",
       "      <td>92</td>\n",
       "      <td>291</td>\n",
       "      <td>259</td>\n",
       "    </tr>\n",
       "    <tr>\n",
       "      <th>2</th>\n",
       "      <td>../input/dog-and-cat-detection/images/Cats_Tes...</td>\n",
       "      <td>500</td>\n",
       "      <td>375</td>\n",
       "      <td>dog</td>\n",
       "      <td>155</td>\n",
       "      <td>119</td>\n",
       "      <td>356</td>\n",
       "      <td>250</td>\n",
       "    </tr>\n",
       "    <tr>\n",
       "      <th>3</th>\n",
       "      <td>../input/dog-and-cat-detection/images/Cats_Tes...</td>\n",
       "      <td>500</td>\n",
       "      <td>375</td>\n",
       "      <td>dog</td>\n",
       "      <td>193</td>\n",
       "      <td>85</td>\n",
       "      <td>305</td>\n",
       "      <td>179</td>\n",
       "    </tr>\n",
       "    <tr>\n",
       "      <th>4</th>\n",
       "      <td>../input/dog-and-cat-detection/images/Cats_Tes...</td>\n",
       "      <td>500</td>\n",
       "      <td>334</td>\n",
       "      <td>dog</td>\n",
       "      <td>284</td>\n",
       "      <td>58</td>\n",
       "      <td>363</td>\n",
       "      <td>128</td>\n",
       "    </tr>\n",
       "    <tr>\n",
       "      <th>...</th>\n",
       "      <td>...</td>\n",
       "      <td>...</td>\n",
       "      <td>...</td>\n",
       "      <td>...</td>\n",
       "      <td>...</td>\n",
       "      <td>...</td>\n",
       "      <td>...</td>\n",
       "      <td>...</td>\n",
       "    </tr>\n",
       "    <tr>\n",
       "      <th>3681</th>\n",
       "      <td>../input/dog-and-cat-detection/images/Cats_Tes...</td>\n",
       "      <td>200</td>\n",
       "      <td>179</td>\n",
       "      <td>cat</td>\n",
       "      <td>1</td>\n",
       "      <td>73</td>\n",
       "      <td>110</td>\n",
       "      <td>178</td>\n",
       "    </tr>\n",
       "    <tr>\n",
       "      <th>3682</th>\n",
       "      <td>../input/dog-and-cat-detection/images/Cats_Tes...</td>\n",
       "      <td>300</td>\n",
       "      <td>238</td>\n",
       "      <td>cat</td>\n",
       "      <td>223</td>\n",
       "      <td>77</td>\n",
       "      <td>285</td>\n",
       "      <td>145</td>\n",
       "    </tr>\n",
       "    <tr>\n",
       "      <th>3683</th>\n",
       "      <td>../input/dog-and-cat-detection/images/Cats_Tes...</td>\n",
       "      <td>500</td>\n",
       "      <td>333</td>\n",
       "      <td>dog</td>\n",
       "      <td>187</td>\n",
       "      <td>1</td>\n",
       "      <td>468</td>\n",
       "      <td>256</td>\n",
       "    </tr>\n",
       "    <tr>\n",
       "      <th>3684</th>\n",
       "      <td>../input/dog-and-cat-detection/images/Cats_Tes...</td>\n",
       "      <td>500</td>\n",
       "      <td>359</td>\n",
       "      <td>cat</td>\n",
       "      <td>215</td>\n",
       "      <td>23</td>\n",
       "      <td>393</td>\n",
       "      <td>176</td>\n",
       "    </tr>\n",
       "    <tr>\n",
       "      <th>3685</th>\n",
       "      <td>../input/dog-and-cat-detection/images/Cats_Tes...</td>\n",
       "      <td>400</td>\n",
       "      <td>372</td>\n",
       "      <td>cat</td>\n",
       "      <td>141</td>\n",
       "      <td>17</td>\n",
       "      <td>325</td>\n",
       "      <td>206</td>\n",
       "    </tr>\n",
       "  </tbody>\n",
       "</table>\n",
       "<p>3686 rows × 8 columns</p>\n",
       "</div>"
      ],
      "text/plain": [
       "                                               filename width height class  \\\n",
       "0     ../input/dog-and-cat-detection/images/Cats_Tes...   313    310   cat   \n",
       "1     ../input/dog-and-cat-detection/images/Cats_Tes...   500    417   dog   \n",
       "2     ../input/dog-and-cat-detection/images/Cats_Tes...   500    375   dog   \n",
       "3     ../input/dog-and-cat-detection/images/Cats_Tes...   500    375   dog   \n",
       "4     ../input/dog-and-cat-detection/images/Cats_Tes...   500    334   dog   \n",
       "...                                                 ...   ...    ...   ...   \n",
       "3681  ../input/dog-and-cat-detection/images/Cats_Tes...   200    179   cat   \n",
       "3682  ../input/dog-and-cat-detection/images/Cats_Tes...   300    238   cat   \n",
       "3683  ../input/dog-and-cat-detection/images/Cats_Tes...   500    333   dog   \n",
       "3684  ../input/dog-and-cat-detection/images/Cats_Tes...   500    359   cat   \n",
       "3685  ../input/dog-and-cat-detection/images/Cats_Tes...   400    372   cat   \n",
       "\n",
       "      xmin  ymin  xmax  ymax  \n",
       "0       99    34   238   183  \n",
       "1      183    92   291   259  \n",
       "2      155   119   356   250  \n",
       "3      193    85   305   179  \n",
       "4      284    58   363   128  \n",
       "...    ...   ...   ...   ...  \n",
       "3681     1    73   110   178  \n",
       "3682   223    77   285   145  \n",
       "3683   187     1   468   256  \n",
       "3684   215    23   393   176  \n",
       "3685   141    17   325   206  \n",
       "\n",
       "[3686 rows x 8 columns]"
      ]
     },
     "execution_count": 3,
     "metadata": {},
     "output_type": "execute_result"
    }
   ],
   "source": [
    "df_train = generate_train_df(anno_path)\n",
    "df_train"
   ]
  },
  {
   "cell_type": "code",
   "execution_count": 4,
   "metadata": {
    "execution": {
     "iopub.execute_input": "2021-07-12T21:55:40.819366Z",
     "iopub.status.busy": "2021-07-12T21:55:40.818993Z",
     "iopub.status.idle": "2021-07-12T21:55:40.830027Z",
     "shell.execute_reply": "2021-07-12T21:55:40.829075Z",
     "shell.execute_reply.started": "2021-07-12T21:55:40.819322Z"
    }
   },
   "outputs": [
    {
     "data": {
      "text/plain": [
       "dog    2498\n",
       "cat    1188\n",
       "Name: class, dtype: int64"
      ]
     },
     "execution_count": 4,
     "metadata": {},
     "output_type": "execute_result"
    }
   ],
   "source": [
    "df_train['class'].value_counts()"
   ]
  },
  {
   "cell_type": "markdown",
   "metadata": {},
   "source": [
    "# Преобразуем метки в классы"
   ]
  },
  {
   "cell_type": "code",
   "execution_count": 5,
   "metadata": {
    "execution": {
     "iopub.execute_input": "2021-07-12T21:55:40.831753Z",
     "iopub.status.busy": "2021-07-12T21:55:40.831387Z",
     "iopub.status.idle": "2021-07-12T21:55:40.852672Z",
     "shell.execute_reply": "2021-07-12T21:55:40.851698Z",
     "shell.execute_reply.started": "2021-07-12T21:55:40.831716Z"
    }
   },
   "outputs": [
    {
     "name": "stdout",
     "output_type": "stream",
     "text": [
      "(3686, 8)\n"
     ]
    },
    {
     "data": {
      "text/html": [
       "<div>\n",
       "<style scoped>\n",
       "    .dataframe tbody tr th:only-of-type {\n",
       "        vertical-align: middle;\n",
       "    }\n",
       "\n",
       "    .dataframe tbody tr th {\n",
       "        vertical-align: top;\n",
       "    }\n",
       "\n",
       "    .dataframe thead th {\n",
       "        text-align: right;\n",
       "    }\n",
       "</style>\n",
       "<table border=\"1\" class=\"dataframe\">\n",
       "  <thead>\n",
       "    <tr style=\"text-align: right;\">\n",
       "      <th></th>\n",
       "      <th>filename</th>\n",
       "      <th>width</th>\n",
       "      <th>height</th>\n",
       "      <th>class</th>\n",
       "      <th>xmin</th>\n",
       "      <th>ymin</th>\n",
       "      <th>xmax</th>\n",
       "      <th>ymax</th>\n",
       "    </tr>\n",
       "  </thead>\n",
       "  <tbody>\n",
       "    <tr>\n",
       "      <th>0</th>\n",
       "      <td>../input/dog-and-cat-detection/images/Cats_Tes...</td>\n",
       "      <td>313</td>\n",
       "      <td>310</td>\n",
       "      <td>0</td>\n",
       "      <td>99</td>\n",
       "      <td>34</td>\n",
       "      <td>238</td>\n",
       "      <td>183</td>\n",
       "    </tr>\n",
       "    <tr>\n",
       "      <th>1</th>\n",
       "      <td>../input/dog-and-cat-detection/images/Cats_Tes...</td>\n",
       "      <td>500</td>\n",
       "      <td>417</td>\n",
       "      <td>1</td>\n",
       "      <td>183</td>\n",
       "      <td>92</td>\n",
       "      <td>291</td>\n",
       "      <td>259</td>\n",
       "    </tr>\n",
       "    <tr>\n",
       "      <th>2</th>\n",
       "      <td>../input/dog-and-cat-detection/images/Cats_Tes...</td>\n",
       "      <td>500</td>\n",
       "      <td>375</td>\n",
       "      <td>1</td>\n",
       "      <td>155</td>\n",
       "      <td>119</td>\n",
       "      <td>356</td>\n",
       "      <td>250</td>\n",
       "    </tr>\n",
       "    <tr>\n",
       "      <th>3</th>\n",
       "      <td>../input/dog-and-cat-detection/images/Cats_Tes...</td>\n",
       "      <td>500</td>\n",
       "      <td>375</td>\n",
       "      <td>1</td>\n",
       "      <td>193</td>\n",
       "      <td>85</td>\n",
       "      <td>305</td>\n",
       "      <td>179</td>\n",
       "    </tr>\n",
       "    <tr>\n",
       "      <th>4</th>\n",
       "      <td>../input/dog-and-cat-detection/images/Cats_Tes...</td>\n",
       "      <td>500</td>\n",
       "      <td>334</td>\n",
       "      <td>1</td>\n",
       "      <td>284</td>\n",
       "      <td>58</td>\n",
       "      <td>363</td>\n",
       "      <td>128</td>\n",
       "    </tr>\n",
       "  </tbody>\n",
       "</table>\n",
       "</div>"
      ],
      "text/plain": [
       "                                            filename width height  class  \\\n",
       "0  ../input/dog-and-cat-detection/images/Cats_Tes...   313    310      0   \n",
       "1  ../input/dog-and-cat-detection/images/Cats_Tes...   500    417      1   \n",
       "2  ../input/dog-and-cat-detection/images/Cats_Tes...   500    375      1   \n",
       "3  ../input/dog-and-cat-detection/images/Cats_Tes...   500    375      1   \n",
       "4  ../input/dog-and-cat-detection/images/Cats_Tes...   500    334      1   \n",
       "\n",
       "   xmin  ymin  xmax  ymax  \n",
       "0    99    34   238   183  \n",
       "1   183    92   291   259  \n",
       "2   155   119   356   250  \n",
       "3   193    85   305   179  \n",
       "4   284    58   363   128  "
      ]
     },
     "execution_count": 5,
     "metadata": {},
     "output_type": "execute_result"
    }
   ],
   "source": [
    "class_dict = {'cat': 0, 'dog': 1}\n",
    "df_train['class'] = df_train['class'].apply(lambda x:  class_dict[x])\n",
    "\n",
    "print(df_train.shape)\n",
    "df_train.head()"
   ]
  },
  {
   "cell_type": "markdown",
   "metadata": {},
   "source": [
    "# Изменение размеров изображений и bounding box'ов"
   ]
  },
  {
   "cell_type": "markdown",
   "metadata": {},
   "source": [
    "Поскольку для обучения модели компьютерного зрения изображения должны иметь одинаковый размер, нам необходимо изменить размер наших изображений и соответствующих им ограничивающих рамок. Изменить размер изображения просто, но изменить размер bounding box'a немного сложнее, потому что каждый прямоугольник зависит от изображения и его размеров.\n",
    "\n",
    "Вот основаная идея:\n",
    "\n",
    "Преобразуем bounding box в изображение(маску) того же размера что и соотвествующее этому прямоугольнику изображение. Эта маска будет просто иметь 0 для заднего фона и 1 для области покрывающей bounding box.\n",
    "\n",
    "Сначала прочитаем изображение:Пока что пропустим"
   ]
  },
  {
   "cell_type": "code",
   "execution_count": 6,
   "metadata": {
    "execution": {
     "iopub.execute_input": "2021-07-12T21:55:40.854340Z",
     "iopub.status.busy": "2021-07-12T21:55:40.853992Z",
     "iopub.status.idle": "2021-07-12T21:55:40.872763Z",
     "shell.execute_reply": "2021-07-12T21:55:40.871839Z",
     "shell.execute_reply.started": "2021-07-12T21:55:40.854304Z"
    }
   },
   "outputs": [],
   "source": [
    "def read_image(path):\n",
    "    return cv2.cvtColor(cv2.imread(str(path)), cv2.COLOR_BGR2RGB)\n",
    "\n",
    "def create_mask(bb, x):\n",
    "    \"\"\"Создаем маску для bounding box'a такого же шейпа как и изображение\"\"\"\n",
    "    rows,cols,*_ = x.shape\n",
    "    Y = np.zeros((rows, cols))\n",
    "    bb = bb.astype(np.int)\n",
    "    Y[bb[0]:bb[2], bb[1]:bb[3]] = 1.\n",
    "    return Y\n",
    "\n",
    "def mask_to_bb(Y):\n",
    "    \"\"\"Конвертируем маску Y в bounding box'a, принимая 0 как фоновый ненулевой объект \"\"\"\n",
    "    cols, rows = np.nonzero(Y)\n",
    "    if len(cols) == 0: \n",
    "        return np.zeros(4, dtype=np.float32)\n",
    "    top_row = np.min(rows)\n",
    "    left_col = np.min(cols)\n",
    "    bottom_row = np.max(rows)\n",
    "    right_col = np.max(cols)\n",
    "    return np.array([left_col, top_row, right_col, bottom_row], dtype=np.float32)\n",
    "\n",
    "\n",
    "def create_bb_array(x):\n",
    "    \"\"\"Генерируем массив bounding box'a из столбца train_df\"\"\"\n",
    "    return np.array([x[5],x[4],x[7],x[6]])\n",
    "\n",
    "\n",
    "def resize_image_bb(read_path, write_path, bb, sz):\n",
    "    \"\"\"Ресайзим изображение и его bounding box и записываем изображение в новый путь\"\"\"\n",
    "    im = read_image(read_path)\n",
    "    im_resized = cv2.resize(im, (sz, sz))\n",
    "    Y_resized = cv2.resize(create_mask(bb, im), (sz, sz))\n",
    "    new_path = str(write_path/read_path.parts[-1])\n",
    "    cv2.imwrite(new_path, cv2.cvtColor(im_resized, cv2.COLOR_RGB2BGR))\n",
    "    return new_path, mask_to_bb(Y_resized)\n",
    "\n",
    "\n",
    "\n",
    "def crop(im, r, c, target_r, target_c): \n",
    "    \"\"\"Вырезаем кусок с изображения\"\"\"\n",
    "    return im[r:r+target_r, c:c+target_c]\n",
    "\n",
    "def center_crop(x, r_pix=8):\n",
    "    \"\"\"Центральное вырезание \"\"\"\n",
    "    r, c,*_ = x.shape\n",
    "    c_pix = round(r_pix*c/r)\n",
    "    return crop(x, r_pix, c_pix, r-2*r_pix, c-2*c_pix)\n",
    "\n",
    "def transformsXY(path, bb, is_transforms):\n",
    "    \"\"\"Трансформируем нашу картинку\"\"\"\n",
    "    x = cv2.imread(str(path)).astype(np.float32)\n",
    "    x = cv2.cvtColor(x, cv2.COLOR_BGR2RGB) / 255\n",
    "    Y = create_mask(bb, x)\n",
    "    if is_transforms:\n",
    "        rdeg = (np.random.random()-.50) * 20\n",
    "        x = rotate_cv(x, rdeg)\n",
    "        Y = rotate_cv(Y, rdeg, y=True)\n",
    "        if np.random.random() > 0.5: \n",
    "            x = np.fliplr(x).copy()\n",
    "            Y = np.fliplr(Y).copy()\n",
    "        x, Y = random_cropXY(x, Y)\n",
    "    else:\n",
    "        x, Y = center_crop(x), center_crop(Y)\n",
    "    return x, mask_to_bb(Y)\n",
    "\n",
    "def create_corner_rect(bb, color='red'):\n",
    "    bb = np.array(bb, dtype=np.float32)\n",
    "    return plt.Rectangle((bb[1], bb[0]), bb[3]-bb[1], bb[2]-bb[0], color=color,\n",
    "                         fill=False, lw=3)\n",
    "\n",
    "def show_corner_bb(im, bb):\n",
    "    plt.imshow(im)\n",
    "    plt.gca().add_patch(create_corner_rect(bb))"
   ]
  },
  {
   "cell_type": "markdown",
   "metadata": {},
   "source": [
    "Применим все наши написанные функции:"
   ]
  },
  {
   "cell_type": "code",
   "execution_count": 7,
   "metadata": {
    "execution": {
     "iopub.execute_input": "2021-07-12T21:55:40.874632Z",
     "iopub.status.busy": "2021-07-12T21:55:40.874289Z",
     "iopub.status.idle": "2021-07-12T21:55:40.886025Z",
     "shell.execute_reply": "2021-07-12T21:55:40.884950Z",
     "shell.execute_reply.started": "2021-07-12T21:55:40.874588Z"
    }
   },
   "outputs": [],
   "source": [
    "IM_SIZE = 300"
   ]
  },
  {
   "cell_type": "code",
   "execution_count": 8,
   "metadata": {
    "execution": {
     "iopub.execute_input": "2021-07-12T21:55:40.889426Z",
     "iopub.status.busy": "2021-07-12T21:55:40.888999Z",
     "iopub.status.idle": "2021-07-12T21:56:53.164358Z",
     "shell.execute_reply": "2021-07-12T21:56:53.163546Z",
     "shell.execute_reply.started": "2021-07-12T21:55:40.889388Z"
    }
   },
   "outputs": [
    {
     "data": {
      "text/html": [
       "<div>\n",
       "<style scoped>\n",
       "    .dataframe tbody tr th:only-of-type {\n",
       "        vertical-align: middle;\n",
       "    }\n",
       "\n",
       "    .dataframe tbody tr th {\n",
       "        vertical-align: top;\n",
       "    }\n",
       "\n",
       "    .dataframe thead th {\n",
       "        text-align: right;\n",
       "    }\n",
       "</style>\n",
       "<table border=\"1\" class=\"dataframe\">\n",
       "  <thead>\n",
       "    <tr style=\"text-align: right;\">\n",
       "      <th></th>\n",
       "      <th>filename</th>\n",
       "      <th>width</th>\n",
       "      <th>height</th>\n",
       "      <th>class</th>\n",
       "      <th>xmin</th>\n",
       "      <th>ymin</th>\n",
       "      <th>xmax</th>\n",
       "      <th>ymax</th>\n",
       "      <th>new_path</th>\n",
       "      <th>new_bb</th>\n",
       "    </tr>\n",
       "  </thead>\n",
       "  <tbody>\n",
       "    <tr>\n",
       "      <th>0</th>\n",
       "      <td>../input/dog-and-cat-detection/images/Cats_Tes...</td>\n",
       "      <td>313</td>\n",
       "      <td>310</td>\n",
       "      <td>0</td>\n",
       "      <td>99</td>\n",
       "      <td>34</td>\n",
       "      <td>238</td>\n",
       "      <td>183</td>\n",
       "      <td>images_resized/Cats_Test2888.png</td>\n",
       "      <td>[32.0, 94.0, 177.0, 228.0]</td>\n",
       "    </tr>\n",
       "    <tr>\n",
       "      <th>1</th>\n",
       "      <td>../input/dog-and-cat-detection/images/Cats_Tes...</td>\n",
       "      <td>500</td>\n",
       "      <td>417</td>\n",
       "      <td>1</td>\n",
       "      <td>183</td>\n",
       "      <td>92</td>\n",
       "      <td>291</td>\n",
       "      <td>259</td>\n",
       "      <td>images_resized/Cats_Test1617.png</td>\n",
       "      <td>[66.0, 110.0, 186.0, 174.0]</td>\n",
       "    </tr>\n",
       "    <tr>\n",
       "      <th>2</th>\n",
       "      <td>../input/dog-and-cat-detection/images/Cats_Tes...</td>\n",
       "      <td>500</td>\n",
       "      <td>375</td>\n",
       "      <td>1</td>\n",
       "      <td>155</td>\n",
       "      <td>119</td>\n",
       "      <td>356</td>\n",
       "      <td>250</td>\n",
       "      <td>images_resized/Cats_Test83.png</td>\n",
       "      <td>[95.0, 93.0, 199.0, 213.0]</td>\n",
       "    </tr>\n",
       "    <tr>\n",
       "      <th>3</th>\n",
       "      <td>../input/dog-and-cat-detection/images/Cats_Tes...</td>\n",
       "      <td>500</td>\n",
       "      <td>375</td>\n",
       "      <td>1</td>\n",
       "      <td>193</td>\n",
       "      <td>85</td>\n",
       "      <td>305</td>\n",
       "      <td>179</td>\n",
       "      <td>images_resized/Cats_Test899.png</td>\n",
       "      <td>[68.0, 116.0, 143.0, 182.0]</td>\n",
       "    </tr>\n",
       "    <tr>\n",
       "      <th>4</th>\n",
       "      <td>../input/dog-and-cat-detection/images/Cats_Tes...</td>\n",
       "      <td>500</td>\n",
       "      <td>334</td>\n",
       "      <td>1</td>\n",
       "      <td>284</td>\n",
       "      <td>58</td>\n",
       "      <td>363</td>\n",
       "      <td>128</td>\n",
       "      <td>images_resized/Cats_Test1204.png</td>\n",
       "      <td>[52.0, 170.0, 114.0, 217.0]</td>\n",
       "    </tr>\n",
       "  </tbody>\n",
       "</table>\n",
       "</div>"
      ],
      "text/plain": [
       "                                            filename width height  class  \\\n",
       "0  ../input/dog-and-cat-detection/images/Cats_Tes...   313    310      0   \n",
       "1  ../input/dog-and-cat-detection/images/Cats_Tes...   500    417      1   \n",
       "2  ../input/dog-and-cat-detection/images/Cats_Tes...   500    375      1   \n",
       "3  ../input/dog-and-cat-detection/images/Cats_Tes...   500    375      1   \n",
       "4  ../input/dog-and-cat-detection/images/Cats_Tes...   500    334      1   \n",
       "\n",
       "   xmin  ymin  xmax  ymax                          new_path  \\\n",
       "0    99    34   238   183  images_resized/Cats_Test2888.png   \n",
       "1   183    92   291   259  images_resized/Cats_Test1617.png   \n",
       "2   155   119   356   250    images_resized/Cats_Test83.png   \n",
       "3   193    85   305   179   images_resized/Cats_Test899.png   \n",
       "4   284    58   363   128  images_resized/Cats_Test1204.png   \n",
       "\n",
       "                        new_bb  \n",
       "0   [32.0, 94.0, 177.0, 228.0]  \n",
       "1  [66.0, 110.0, 186.0, 174.0]  \n",
       "2   [95.0, 93.0, 199.0, 213.0]  \n",
       "3  [68.0, 116.0, 143.0, 182.0]  \n",
       "4  [52.0, 170.0, 114.0, 217.0]  "
      ]
     },
     "execution_count": 8,
     "metadata": {},
     "output_type": "execute_result"
    }
   ],
   "source": [
    "new_paths = []\n",
    "new_bbs = []\n",
    "train_path_resized = Path('./images_resized')\n",
    "Path.mkdir(train_path_resized, exist_ok=True)\n",
    "\n",
    "\n",
    "for index, row in df_train.iterrows():\n",
    "    new_path,new_bb = resize_image_bb(row['filename'], train_path_resized, create_bb_array(row.values), IM_SIZE)\n",
    "    new_paths.append(new_path)\n",
    "    new_bbs.append(new_bb)\n",
    "    \n",
    "    \n",
    "df_train['new_path'] = new_paths\n",
    "df_train['new_bb'] = new_bbs\n",
    "\n",
    "df_train.head()"
   ]
  },
  {
   "cell_type": "markdown",
   "metadata": {},
   "source": [
    "Пример получившегося сэмпла"
   ]
  },
  {
   "cell_type": "code",
   "execution_count": 23,
   "metadata": {
    "execution": {
     "iopub.execute_input": "2021-07-12T22:28:08.344640Z",
     "iopub.status.busy": "2021-07-12T22:28:08.344312Z",
     "iopub.status.idle": "2021-07-12T22:28:08.362498Z",
     "shell.execute_reply": "2021-07-12T22:28:08.361189Z",
     "shell.execute_reply.started": "2021-07-12T22:28:08.344601Z"
    }
   },
   "outputs": [
    {
     "data": {
      "text/html": [
       "<div>\n",
       "<style scoped>\n",
       "    .dataframe tbody tr th:only-of-type {\n",
       "        vertical-align: middle;\n",
       "    }\n",
       "\n",
       "    .dataframe tbody tr th {\n",
       "        vertical-align: top;\n",
       "    }\n",
       "\n",
       "    .dataframe thead th {\n",
       "        text-align: right;\n",
       "    }\n",
       "</style>\n",
       "<table border=\"1\" class=\"dataframe\">\n",
       "  <thead>\n",
       "    <tr style=\"text-align: right;\">\n",
       "      <th></th>\n",
       "      <th>index</th>\n",
       "      <th>filename</th>\n",
       "      <th>width</th>\n",
       "      <th>height</th>\n",
       "      <th>class</th>\n",
       "      <th>xmin</th>\n",
       "      <th>ymin</th>\n",
       "      <th>xmax</th>\n",
       "      <th>ymax</th>\n",
       "      <th>new_path</th>\n",
       "      <th>new_bb</th>\n",
       "    </tr>\n",
       "  </thead>\n",
       "  <tbody>\n",
       "    <tr>\n",
       "      <th>7</th>\n",
       "      <td>7</td>\n",
       "      <td>../input/dog-and-cat-detection/images/Cats_Tes...</td>\n",
       "      <td>334</td>\n",
       "      <td>500</td>\n",
       "      <td>0</td>\n",
       "      <td>67</td>\n",
       "      <td>18</td>\n",
       "      <td>185</td>\n",
       "      <td>166</td>\n",
       "      <td>images_resized/Cats_Test380.png</td>\n",
       "      <td>[11.0, 60.0, 99.0, 166.0]</td>\n",
       "    </tr>\n",
       "    <tr>\n",
       "      <th>8</th>\n",
       "      <td>8</td>\n",
       "      <td>../input/dog-and-cat-detection/images/Cats_Tes...</td>\n",
       "      <td>405</td>\n",
       "      <td>500</td>\n",
       "      <td>1</td>\n",
       "      <td>12</td>\n",
       "      <td>25</td>\n",
       "      <td>303</td>\n",
       "      <td>340</td>\n",
       "      <td>images_resized/Cats_Test1300.png</td>\n",
       "      <td>[15.0, 9.0, 203.0, 224.0]</td>\n",
       "    </tr>\n",
       "    <tr>\n",
       "      <th>9</th>\n",
       "      <td>9</td>\n",
       "      <td>../input/dog-and-cat-detection/images/Cats_Tes...</td>\n",
       "      <td>500</td>\n",
       "      <td>375</td>\n",
       "      <td>1</td>\n",
       "      <td>206</td>\n",
       "      <td>24</td>\n",
       "      <td>363</td>\n",
       "      <td>170</td>\n",
       "      <td>images_resized/Cats_Test3380.png</td>\n",
       "      <td>[19.0, 123.0, 135.0, 217.0]</td>\n",
       "    </tr>\n",
       "  </tbody>\n",
       "</table>\n",
       "</div>"
      ],
      "text/plain": [
       "   index                                           filename width height  \\\n",
       "7      7  ../input/dog-and-cat-detection/images/Cats_Tes...   334    500   \n",
       "8      8  ../input/dog-and-cat-detection/images/Cats_Tes...   405    500   \n",
       "9      9  ../input/dog-and-cat-detection/images/Cats_Tes...   500    375   \n",
       "\n",
       "   class  xmin  ymin  xmax  ymax                          new_path  \\\n",
       "7      0    67    18   185   166   images_resized/Cats_Test380.png   \n",
       "8      1    12    25   303   340  images_resized/Cats_Test1300.png   \n",
       "9      1   206    24   363   170  images_resized/Cats_Test3380.png   \n",
       "\n",
       "                        new_bb  \n",
       "7    [11.0, 60.0, 99.0, 166.0]  \n",
       "8    [15.0, 9.0, 203.0, 224.0]  \n",
       "9  [19.0, 123.0, 135.0, 217.0]  "
      ]
     },
     "execution_count": 23,
     "metadata": {},
     "output_type": "execute_result"
    }
   ],
   "source": [
    "df_train.iloc[7:10]"
   ]
  },
  {
   "cell_type": "code",
   "execution_count": 10,
   "metadata": {
    "execution": {
     "iopub.execute_input": "2021-07-12T21:56:53.182806Z",
     "iopub.status.busy": "2021-07-12T21:56:53.182397Z",
     "iopub.status.idle": "2021-07-12T21:56:53.414809Z",
     "shell.execute_reply": "2021-07-12T21:56:53.413974Z",
     "shell.execute_reply.started": "2021-07-12T21:56:53.182767Z"
    }
   },
   "outputs": [
    {
     "name": "stdout",
     "output_type": "stream",
     "text": [
      "(375, 500, 3)\n"
     ]
    },
    {
     "data": {
      "image/png": "[encoded data removed]",
      "text/plain": [
       "<Figure size 432x288 with 1 Axes>"
      ]
     },
     "metadata": {
      "needs_background": "light"
     },
     "output_type": "display_data"
    }
   ],
   "source": [
    "im = cv2.imread(str(df_train.values[9][0]))\n",
    "bb = create_bb_array(df_train.values[9])\n",
    "print(im.shape)\n",
    "\n",
    "Y = create_mask(bb, im)\n",
    "mask_to_bb(Y)\n",
    "\n",
    "plt.imshow(im);"
   ]
  },
  {
   "cell_type": "code",
   "execution_count": 11,
   "metadata": {
    "execution": {
     "iopub.execute_input": "2021-07-12T21:56:53.416161Z",
     "iopub.status.busy": "2021-07-12T21:56:53.415860Z",
     "iopub.status.idle": "2021-07-12T21:56:53.571719Z",
     "shell.execute_reply": "2021-07-12T21:56:53.570774Z",
     "shell.execute_reply.started": "2021-07-12T21:56:53.416128Z"
    }
   },
   "outputs": [
    {
     "data": {
      "image/png": "[encoded data removed]",
      "text/plain": [
       "<Figure size 432x288 with 1 Axes>"
      ]
     },
     "metadata": {
      "needs_background": "light"
     },
     "output_type": "display_data"
    }
   ],
   "source": [
    "plt.imshow(Y, cmap='gray');"
   ]
  },
  {
   "cell_type": "markdown",
   "metadata": {},
   "source": [
    "# Создадим датасет"
   ]
  },
  {
   "cell_type": "code",
   "execution_count": 12,
   "metadata": {
    "execution": {
     "iopub.execute_input": "2021-07-12T21:56:53.573543Z",
     "iopub.status.busy": "2021-07-12T21:56:53.573186Z",
     "iopub.status.idle": "2021-07-12T21:56:53.588852Z",
     "shell.execute_reply": "2021-07-12T21:56:53.588041Z",
     "shell.execute_reply.started": "2021-07-12T21:56:53.573507Z"
    }
   },
   "outputs": [],
   "source": [
    "df_train = df_train.reset_index()\n",
    "X = df_train[['new_path', 'new_bb']]\n",
    "Y = df_train['class']\n",
    "X_train, X_val, y_train, y_val = train_test_split(X, Y, test_size=0.2, random_state=42)\n",
    "\n",
    "\n",
    "def normalize(im):\n",
    "    \"\"\"Нормализация данных с помощью статистики ImageNet\"\"\"\n",
    "    imagenet_stats = np.array([[0.485, 0.456, 0.406], [0.229, 0.224, 0.225]])\n",
    "    return (im - imagenet_stats[0]) / imagenet_stats[1]\n",
    "\n",
    "\n",
    "class RoadDataset(Dataset):\n",
    "    def __init__(self, paths, bb, y, is_transforms=False):\n",
    "        self.is_transforms = is_transforms\n",
    "        self.paths = paths.values\n",
    "        self.bb = bb.values\n",
    "        self.y = y.values\n",
    "        \n",
    "    def __len__(self):\n",
    "        return len(self.paths)\n",
    "    \n",
    "    def __getitem__(self, idx):\n",
    "        path = self.paths[idx]\n",
    "        y_class = self.y[idx]\n",
    "        x, y_bb = transformsXY(path, self.bb[idx], self.is_transforms)\n",
    "        x = normalize(x)\n",
    "        x = np.rollaxis(x, 2)\n",
    "        return x, y_class, y_bb\n",
    "\n",
    "    \n",
    "train_ds = RoadDataset(X_train['new_path'], X_train['new_bb'], y_train)#, is_transforms=True)\n",
    "valid_ds = RoadDataset(X_val['new_path'], X_val['new_bb'], y_val)"
   ]
  },
  {
   "cell_type": "markdown",
   "metadata": {},
   "source": [
    "Загрузим все это в наш даталоадер:"
   ]
  },
  {
   "cell_type": "code",
   "execution_count": 13,
   "metadata": {
    "execution": {
     "iopub.execute_input": "2021-07-12T21:56:53.590732Z",
     "iopub.status.busy": "2021-07-12T21:56:53.590357Z",
     "iopub.status.idle": "2021-07-12T21:56:53.597590Z",
     "shell.execute_reply": "2021-07-12T21:56:53.596828Z",
     "shell.execute_reply.started": "2021-07-12T21:56:53.590694Z"
    }
   },
   "outputs": [],
   "source": [
    "batch_size = 16\n",
    "train_dl = DataLoader(train_ds, batch_size=batch_size, shuffle=True)\n",
    "valid_dl = DataLoader(valid_ds, batch_size=batch_size)"
   ]
  },
  {
   "cell_type": "markdown",
   "metadata": {},
   "source": [
    "# Определение модели\n",
    "\n",
    "В качестве модели мы будем использовать очень простую предварительно обученную модель [resNet-34](https://pytorch.org/vision/stable/models.html#torchvision.models.resnet34). Поскольку здесь у нас есть две задачи, есть два последних слоя - регрессия ограничивающей рамки и классификатор изображений."
   ]
  },
  {
   "cell_type": "code",
   "execution_count": 14,
   "metadata": {
    "execution": {
     "iopub.execute_input": "2021-07-12T21:56:53.599284Z",
     "iopub.status.busy": "2021-07-12T21:56:53.598720Z",
     "iopub.status.idle": "2021-07-12T21:56:53.608444Z",
     "shell.execute_reply": "2021-07-12T21:56:53.607659Z",
     "shell.execute_reply.started": "2021-07-12T21:56:53.599230Z"
    }
   },
   "outputs": [],
   "source": [
    "class BB_model(nn.Module):\n",
    "    def __init__(self):\n",
    "        super(BB_model, self).__init__()\n",
    "        resnet = models.resnet34(pretrained=True)\n",
    "        layers = list(resnet.children())[:8]\n",
    "        self.features = nn.Sequential(*layers)\n",
    "        self.classifier = nn.Sequential(nn.BatchNorm1d(512), nn.Linear(512, 4))\n",
    "        self.bb = nn.Sequential(nn.BatchNorm1d(512), nn.Linear(512, 4))\n",
    "        \n",
    "    def forward(self, x):\n",
    "        x = self.features(x)\n",
    "        x = F.relu(x)\n",
    "        x = nn.AdaptiveAvgPool2d((1,1))(x)\n",
    "        x = x.view(x.shape[0], -1)\n",
    "        return self.classifier(x), self.bb(x)"
   ]
  },
  {
   "cell_type": "code",
   "execution_count": 15,
   "metadata": {
    "execution": {
     "iopub.execute_input": "2021-07-12T21:56:53.609949Z",
     "iopub.status.busy": "2021-07-12T21:56:53.609610Z",
     "iopub.status.idle": "2021-07-12T21:56:55.071083Z",
     "shell.execute_reply": "2021-07-12T21:56:55.070092Z",
     "shell.execute_reply.started": "2021-07-12T21:56:53.609910Z"
    }
   },
   "outputs": [
    {
     "name": "stderr",
     "output_type": "stream",
     "text": [
      "Downloading: \"https://download.pytorch.org/models/resnet34-333f7ec4.pth\" to /root/.cache/torch/hub/checkpoints/resnet34-333f7ec4.pth\n"
     ]
    },
    {
     "data": {
      "application/vnd.jupyter.widget-view+json": {
       "model_id": "e53d8300a46b4b23a55d727216c32640",
       "version_major": 2,
       "version_minor": 0
      },
      "text/plain": [
       "  0%|          | 0.00/83.3M [00:00<?, ?B/s]"
      ]
     },
     "metadata": {},
     "output_type": "display_data"
    },
    {
     "data": {
      "text/plain": [
       "[Conv2d(3, 64, kernel_size=(7, 7), stride=(2, 2), padding=(3, 3), bias=False),\n",
       " BatchNorm2d(64, eps=1e-05, momentum=0.1, affine=True, track_running_stats=True),\n",
       " ReLU(inplace=True),\n",
       " MaxPool2d(kernel_size=3, stride=2, padding=1, dilation=1, ceil_mode=False),\n",
       " Sequential(\n",
       "   (0): BasicBlock(\n",
       "     (conv1): Conv2d(64, 64, kernel_size=(3, 3), stride=(1, 1), padding=(1, 1), bias=False)\n",
       "     (bn1): BatchNorm2d(64, eps=1e-05, momentum=0.1, affine=True, track_running_stats=True)\n",
       "     (relu): ReLU(inplace=True)\n",
       "     (conv2): Conv2d(64, 64, kernel_size=(3, 3), stride=(1, 1), padding=(1, 1), bias=False)\n",
       "     (bn2): BatchNorm2d(64, eps=1e-05, momentum=0.1, affine=True, track_running_stats=True)\n",
       "   )\n",
       "   (1): BasicBlock(\n",
       "     (conv1): Conv2d(64, 64, kernel_size=(3, 3), stride=(1, 1), padding=(1, 1), bias=False)\n",
       "     (bn1): BatchNorm2d(64, eps=1e-05, momentum=0.1, affine=True, track_running_stats=True)\n",
       "     (relu): ReLU(inplace=True)\n",
       "     (conv2): Conv2d(64, 64, kernel_size=(3, 3), stride=(1, 1), padding=(1, 1), bias=False)\n",
       "     (bn2): BatchNorm2d(64, eps=1e-05, momentum=0.1, affine=True, track_running_stats=True)\n",
       "   )\n",
       "   (2): BasicBlock(\n",
       "     (conv1): Conv2d(64, 64, kernel_size=(3, 3), stride=(1, 1), padding=(1, 1), bias=False)\n",
       "     (bn1): BatchNorm2d(64, eps=1e-05, momentum=0.1, affine=True, track_running_stats=True)\n",
       "     (relu): ReLU(inplace=True)\n",
       "     (conv2): Conv2d(64, 64, kernel_size=(3, 3), stride=(1, 1), padding=(1, 1), bias=False)\n",
       "     (bn2): BatchNorm2d(64, eps=1e-05, momentum=0.1, affine=True, track_running_stats=True)\n",
       "   )\n",
       " ),\n",
       " Sequential(\n",
       "   (0): BasicBlock(\n",
       "     (conv1): Conv2d(64, 128, kernel_size=(3, 3), stride=(2, 2), padding=(1, 1), bias=False)\n",
       "     (bn1): BatchNorm2d(128, eps=1e-05, momentum=0.1, affine=True, track_running_stats=True)\n",
       "     (relu): ReLU(inplace=True)\n",
       "     (conv2): Conv2d(128, 128, kernel_size=(3, 3), stride=(1, 1), padding=(1, 1), bias=False)\n",
       "     (bn2): BatchNorm2d(128, eps=1e-05, momentum=0.1, affine=True, track_running_stats=True)\n",
       "     (downsample): Sequential(\n",
       "       (0): Conv2d(64, 128, kernel_size=(1, 1), stride=(2, 2), bias=False)\n",
       "       (1): BatchNorm2d(128, eps=1e-05, momentum=0.1, affine=True, track_running_stats=True)\n",
       "     )\n",
       "   )\n",
       "   (1): BasicBlock(\n",
       "     (conv1): Conv2d(128, 128, kernel_size=(3, 3), stride=(1, 1), padding=(1, 1), bias=False)\n",
       "     (bn1): BatchNorm2d(128, eps=1e-05, momentum=0.1, affine=True, track_running_stats=True)\n",
       "     (relu): ReLU(inplace=True)\n",
       "     (conv2): Conv2d(128, 128, kernel_size=(3, 3), stride=(1, 1), padding=(1, 1), bias=False)\n",
       "     (bn2): BatchNorm2d(128, eps=1e-05, momentum=0.1, affine=True, track_running_stats=True)\n",
       "   )\n",
       "   (2): BasicBlock(\n",
       "     (conv1): Conv2d(128, 128, kernel_size=(3, 3), stride=(1, 1), padding=(1, 1), bias=False)\n",
       "     (bn1): BatchNorm2d(128, eps=1e-05, momentum=0.1, affine=True, track_running_stats=True)\n",
       "     (relu): ReLU(inplace=True)\n",
       "     (conv2): Conv2d(128, 128, kernel_size=(3, 3), stride=(1, 1), padding=(1, 1), bias=False)\n",
       "     (bn2): BatchNorm2d(128, eps=1e-05, momentum=0.1, affine=True, track_running_stats=True)\n",
       "   )\n",
       "   (3): BasicBlock(\n",
       "     (conv1): Conv2d(128, 128, kernel_size=(3, 3), stride=(1, 1), padding=(1, 1), bias=False)\n",
       "     (bn1): BatchNorm2d(128, eps=1e-05, momentum=0.1, affine=True, track_running_stats=True)\n",
       "     (relu): ReLU(inplace=True)\n",
       "     (conv2): Conv2d(128, 128, kernel_size=(3, 3), stride=(1, 1), padding=(1, 1), bias=False)\n",
       "     (bn2): BatchNorm2d(128, eps=1e-05, momentum=0.1, affine=True, track_running_stats=True)\n",
       "   )\n",
       " ),\n",
       " Sequential(\n",
       "   (0): BasicBlock(\n",
       "     (conv1): Conv2d(128, 256, kernel_size=(3, 3), stride=(2, 2), padding=(1, 1), bias=False)\n",
       "     (bn1): BatchNorm2d(256, eps=1e-05, momentum=0.1, affine=True, track_running_stats=True)\n",
       "     (relu): ReLU(inplace=True)\n",
       "     (conv2): Conv2d(256, 256, kernel_size=(3, 3), stride=(1, 1), padding=(1, 1), bias=False)\n",
       "     (bn2): BatchNorm2d(256, eps=1e-05, momentum=0.1, affine=True, track_running_stats=True)\n",
       "     (downsample): Sequential(\n",
       "       (0): Conv2d(128, 256, kernel_size=(1, 1), stride=(2, 2), bias=False)\n",
       "       (1): BatchNorm2d(256, eps=1e-05, momentum=0.1, affine=True, track_running_stats=True)\n",
       "     )\n",
       "   )\n",
       "   (1): BasicBlock(\n",
       "     (conv1): Conv2d(256, 256, kernel_size=(3, 3), stride=(1, 1), padding=(1, 1), bias=False)\n",
       "     (bn1): BatchNorm2d(256, eps=1e-05, momentum=0.1, affine=True, track_running_stats=True)\n",
       "     (relu): ReLU(inplace=True)\n",
       "     (conv2): Conv2d(256, 256, kernel_size=(3, 3), stride=(1, 1), padding=(1, 1), bias=False)\n",
       "     (bn2): BatchNorm2d(256, eps=1e-05, momentum=0.1, affine=True, track_running_stats=True)\n",
       "   )\n",
       "   (2): BasicBlock(\n",
       "     (conv1): Conv2d(256, 256, kernel_size=(3, 3), stride=(1, 1), padding=(1, 1), bias=False)\n",
       "     (bn1): BatchNorm2d(256, eps=1e-05, momentum=0.1, affine=True, track_running_stats=True)\n",
       "     (relu): ReLU(inplace=True)\n",
       "     (conv2): Conv2d(256, 256, kernel_size=(3, 3), stride=(1, 1), padding=(1, 1), bias=False)\n",
       "     (bn2): BatchNorm2d(256, eps=1e-05, momentum=0.1, affine=True, track_running_stats=True)\n",
       "   )\n",
       "   (3): BasicBlock(\n",
       "     (conv1): Conv2d(256, 256, kernel_size=(3, 3), stride=(1, 1), padding=(1, 1), bias=False)\n",
       "     (bn1): BatchNorm2d(256, eps=1e-05, momentum=0.1, affine=True, track_running_stats=True)\n",
       "     (relu): ReLU(inplace=True)\n",
       "     (conv2): Conv2d(256, 256, kernel_size=(3, 3), stride=(1, 1), padding=(1, 1), bias=False)\n",
       "     (bn2): BatchNorm2d(256, eps=1e-05, momentum=0.1, affine=True, track_running_stats=True)\n",
       "   )\n",
       "   (4): BasicBlock(\n",
       "     (conv1): Conv2d(256, 256, kernel_size=(3, 3), stride=(1, 1), padding=(1, 1), bias=False)\n",
       "     (bn1): BatchNorm2d(256, eps=1e-05, momentum=0.1, affine=True, track_running_stats=True)\n",
       "     (relu): ReLU(inplace=True)\n",
       "     (conv2): Conv2d(256, 256, kernel_size=(3, 3), stride=(1, 1), padding=(1, 1), bias=False)\n",
       "     (bn2): BatchNorm2d(256, eps=1e-05, momentum=0.1, affine=True, track_running_stats=True)\n",
       "   )\n",
       "   (5): BasicBlock(\n",
       "     (conv1): Conv2d(256, 256, kernel_size=(3, 3), stride=(1, 1), padding=(1, 1), bias=False)\n",
       "     (bn1): BatchNorm2d(256, eps=1e-05, momentum=0.1, affine=True, track_running_stats=True)\n",
       "     (relu): ReLU(inplace=True)\n",
       "     (conv2): Conv2d(256, 256, kernel_size=(3, 3), stride=(1, 1), padding=(1, 1), bias=False)\n",
       "     (bn2): BatchNorm2d(256, eps=1e-05, momentum=0.1, affine=True, track_running_stats=True)\n",
       "   )\n",
       " ),\n",
       " Sequential(\n",
       "   (0): BasicBlock(\n",
       "     (conv1): Conv2d(256, 512, kernel_size=(3, 3), stride=(2, 2), padding=(1, 1), bias=False)\n",
       "     (bn1): BatchNorm2d(512, eps=1e-05, momentum=0.1, affine=True, track_running_stats=True)\n",
       "     (relu): ReLU(inplace=True)\n",
       "     (conv2): Conv2d(512, 512, kernel_size=(3, 3), stride=(1, 1), padding=(1, 1), bias=False)\n",
       "     (bn2): BatchNorm2d(512, eps=1e-05, momentum=0.1, affine=True, track_running_stats=True)\n",
       "     (downsample): Sequential(\n",
       "       (0): Conv2d(256, 512, kernel_size=(1, 1), stride=(2, 2), bias=False)\n",
       "       (1): BatchNorm2d(512, eps=1e-05, momentum=0.1, affine=True, track_running_stats=True)\n",
       "     )\n",
       "   )\n",
       "   (1): BasicBlock(\n",
       "     (conv1): Conv2d(512, 512, kernel_size=(3, 3), stride=(1, 1), padding=(1, 1), bias=False)\n",
       "     (bn1): BatchNorm2d(512, eps=1e-05, momentum=0.1, affine=True, track_running_stats=True)\n",
       "     (relu): ReLU(inplace=True)\n",
       "     (conv2): Conv2d(512, 512, kernel_size=(3, 3), stride=(1, 1), padding=(1, 1), bias=False)\n",
       "     (bn2): BatchNorm2d(512, eps=1e-05, momentum=0.1, affine=True, track_running_stats=True)\n",
       "   )\n",
       "   (2): BasicBlock(\n",
       "     (conv1): Conv2d(512, 512, kernel_size=(3, 3), stride=(1, 1), padding=(1, 1), bias=False)\n",
       "     (bn1): BatchNorm2d(512, eps=1e-05, momentum=0.1, affine=True, track_running_stats=True)\n",
       "     (relu): ReLU(inplace=True)\n",
       "     (conv2): Conv2d(512, 512, kernel_size=(3, 3), stride=(1, 1), padding=(1, 1), bias=False)\n",
       "     (bn2): BatchNorm2d(512, eps=1e-05, momentum=0.1, affine=True, track_running_stats=True)\n",
       "   )\n",
       " )]"
      ]
     },
     "execution_count": 15,
     "metadata": {},
     "output_type": "execute_result"
    }
   ],
   "source": [
    "resnet = models.resnet34(pretrained=True)\n",
    "list(resnet.children())[:8]"
   ]
  },
  {
   "cell_type": "markdown",
   "metadata": {},
   "source": [
    "# Обучение\n",
    "\n",
    "Для расчета потерь нам нужно принять во внимание как потерю классификации, так и потерю регрессии ограничивающего прямоугольника, поэтому мы используем комбинацию кросс-энтропии и L1-потери (сумма всех абсолютных различий между истинным значением и прогнозируемыми координатами)."
   ]
  },
  {
   "cell_type": "code",
   "execution_count": 16,
   "metadata": {
    "execution": {
     "iopub.execute_input": "2021-07-12T21:56:55.072962Z",
     "iopub.status.busy": "2021-07-12T21:56:55.072435Z",
     "iopub.status.idle": "2021-07-12T21:57:00.084535Z",
     "shell.execute_reply": "2021-07-12T21:57:00.083687Z",
     "shell.execute_reply.started": "2021-07-12T21:56:55.072923Z"
    }
   },
   "outputs": [
    {
     "data": {
      "text/plain": [
       "BB_model(\n",
       "  (features): Sequential(\n",
       "    (0): Conv2d(3, 64, kernel_size=(7, 7), stride=(2, 2), padding=(3, 3), bias=False)\n",
       "    (1): BatchNorm2d(64, eps=1e-05, momentum=0.1, affine=True, track_running_stats=True)\n",
       "    (2): ReLU(inplace=True)\n",
       "    (3): MaxPool2d(kernel_size=3, stride=2, padding=1, dilation=1, ceil_mode=False)\n",
       "    (4): Sequential(\n",
       "      (0): BasicBlock(\n",
       "        (conv1): Conv2d(64, 64, kernel_size=(3, 3), stride=(1, 1), padding=(1, 1), bias=False)\n",
       "        (bn1): BatchNorm2d(64, eps=1e-05, momentum=0.1, affine=True, track_running_stats=True)\n",
       "        (relu): ReLU(inplace=True)\n",
       "        (conv2): Conv2d(64, 64, kernel_size=(3, 3), stride=(1, 1), padding=(1, 1), bias=False)\n",
       "        (bn2): BatchNorm2d(64, eps=1e-05, momentum=0.1, affine=True, track_running_stats=True)\n",
       "      )\n",
       "      (1): BasicBlock(\n",
       "        (conv1): Conv2d(64, 64, kernel_size=(3, 3), stride=(1, 1), padding=(1, 1), bias=False)\n",
       "        (bn1): BatchNorm2d(64, eps=1e-05, momentum=0.1, affine=True, track_running_stats=True)\n",
       "        (relu): ReLU(inplace=True)\n",
       "        (conv2): Conv2d(64, 64, kernel_size=(3, 3), stride=(1, 1), padding=(1, 1), bias=False)\n",
       "        (bn2): BatchNorm2d(64, eps=1e-05, momentum=0.1, affine=True, track_running_stats=True)\n",
       "      )\n",
       "      (2): BasicBlock(\n",
       "        (conv1): Conv2d(64, 64, kernel_size=(3, 3), stride=(1, 1), padding=(1, 1), bias=False)\n",
       "        (bn1): BatchNorm2d(64, eps=1e-05, momentum=0.1, affine=True, track_running_stats=True)\n",
       "        (relu): ReLU(inplace=True)\n",
       "        (conv2): Conv2d(64, 64, kernel_size=(3, 3), stride=(1, 1), padding=(1, 1), bias=False)\n",
       "        (bn2): BatchNorm2d(64, eps=1e-05, momentum=0.1, affine=True, track_running_stats=True)\n",
       "      )\n",
       "    )\n",
       "    (5): Sequential(\n",
       "      (0): BasicBlock(\n",
       "        (conv1): Conv2d(64, 128, kernel_size=(3, 3), stride=(2, 2), padding=(1, 1), bias=False)\n",
       "        (bn1): BatchNorm2d(128, eps=1e-05, momentum=0.1, affine=True, track_running_stats=True)\n",
       "        (relu): ReLU(inplace=True)\n",
       "        (conv2): Conv2d(128, 128, kernel_size=(3, 3), stride=(1, 1), padding=(1, 1), bias=False)\n",
       "        (bn2): BatchNorm2d(128, eps=1e-05, momentum=0.1, affine=True, track_running_stats=True)\n",
       "        (downsample): Sequential(\n",
       "          (0): Conv2d(64, 128, kernel_size=(1, 1), stride=(2, 2), bias=False)\n",
       "          (1): BatchNorm2d(128, eps=1e-05, momentum=0.1, affine=True, track_running_stats=True)\n",
       "        )\n",
       "      )\n",
       "      (1): BasicBlock(\n",
       "        (conv1): Conv2d(128, 128, kernel_size=(3, 3), stride=(1, 1), padding=(1, 1), bias=False)\n",
       "        (bn1): BatchNorm2d(128, eps=1e-05, momentum=0.1, affine=True, track_running_stats=True)\n",
       "        (relu): ReLU(inplace=True)\n",
       "        (conv2): Conv2d(128, 128, kernel_size=(3, 3), stride=(1, 1), padding=(1, 1), bias=False)\n",
       "        (bn2): BatchNorm2d(128, eps=1e-05, momentum=0.1, affine=True, track_running_stats=True)\n",
       "      )\n",
       "      (2): BasicBlock(\n",
       "        (conv1): Conv2d(128, 128, kernel_size=(3, 3), stride=(1, 1), padding=(1, 1), bias=False)\n",
       "        (bn1): BatchNorm2d(128, eps=1e-05, momentum=0.1, affine=True, track_running_stats=True)\n",
       "        (relu): ReLU(inplace=True)\n",
       "        (conv2): Conv2d(128, 128, kernel_size=(3, 3), stride=(1, 1), padding=(1, 1), bias=False)\n",
       "        (bn2): BatchNorm2d(128, eps=1e-05, momentum=0.1, affine=True, track_running_stats=True)\n",
       "      )\n",
       "      (3): BasicBlock(\n",
       "        (conv1): Conv2d(128, 128, kernel_size=(3, 3), stride=(1, 1), padding=(1, 1), bias=False)\n",
       "        (bn1): BatchNorm2d(128, eps=1e-05, momentum=0.1, affine=True, track_running_stats=True)\n",
       "        (relu): ReLU(inplace=True)\n",
       "        (conv2): Conv2d(128, 128, kernel_size=(3, 3), stride=(1, 1), padding=(1, 1), bias=False)\n",
       "        (bn2): BatchNorm2d(128, eps=1e-05, momentum=0.1, affine=True, track_running_stats=True)\n",
       "      )\n",
       "    )\n",
       "    (6): Sequential(\n",
       "      (0): BasicBlock(\n",
       "        (conv1): Conv2d(128, 256, kernel_size=(3, 3), stride=(2, 2), padding=(1, 1), bias=False)\n",
       "        (bn1): BatchNorm2d(256, eps=1e-05, momentum=0.1, affine=True, track_running_stats=True)\n",
       "        (relu): ReLU(inplace=True)\n",
       "        (conv2): Conv2d(256, 256, kernel_size=(3, 3), stride=(1, 1), padding=(1, 1), bias=False)\n",
       "        (bn2): BatchNorm2d(256, eps=1e-05, momentum=0.1, affine=True, track_running_stats=True)\n",
       "        (downsample): Sequential(\n",
       "          (0): Conv2d(128, 256, kernel_size=(1, 1), stride=(2, 2), bias=False)\n",
       "          (1): BatchNorm2d(256, eps=1e-05, momentum=0.1, affine=True, track_running_stats=True)\n",
       "        )\n",
       "      )\n",
       "      (1): BasicBlock(\n",
       "        (conv1): Conv2d(256, 256, kernel_size=(3, 3), stride=(1, 1), padding=(1, 1), bias=False)\n",
       "        (bn1): BatchNorm2d(256, eps=1e-05, momentum=0.1, affine=True, track_running_stats=True)\n",
       "        (relu): ReLU(inplace=True)\n",
       "        (conv2): Conv2d(256, 256, kernel_size=(3, 3), stride=(1, 1), padding=(1, 1), bias=False)\n",
       "        (bn2): BatchNorm2d(256, eps=1e-05, momentum=0.1, affine=True, track_running_stats=True)\n",
       "      )\n",
       "      (2): BasicBlock(\n",
       "        (conv1): Conv2d(256, 256, kernel_size=(3, 3), stride=(1, 1), padding=(1, 1), bias=False)\n",
       "        (bn1): BatchNorm2d(256, eps=1e-05, momentum=0.1, affine=True, track_running_stats=True)\n",
       "        (relu): ReLU(inplace=True)\n",
       "        (conv2): Conv2d(256, 256, kernel_size=(3, 3), stride=(1, 1), padding=(1, 1), bias=False)\n",
       "        (bn2): BatchNorm2d(256, eps=1e-05, momentum=0.1, affine=True, track_running_stats=True)\n",
       "      )\n",
       "      (3): BasicBlock(\n",
       "        (conv1): Conv2d(256, 256, kernel_size=(3, 3), stride=(1, 1), padding=(1, 1), bias=False)\n",
       "        (bn1): BatchNorm2d(256, eps=1e-05, momentum=0.1, affine=True, track_running_stats=True)\n",
       "        (relu): ReLU(inplace=True)\n",
       "        (conv2): Conv2d(256, 256, kernel_size=(3, 3), stride=(1, 1), padding=(1, 1), bias=False)\n",
       "        (bn2): BatchNorm2d(256, eps=1e-05, momentum=0.1, affine=True, track_running_stats=True)\n",
       "      )\n",
       "      (4): BasicBlock(\n",
       "        (conv1): Conv2d(256, 256, kernel_size=(3, 3), stride=(1, 1), padding=(1, 1), bias=False)\n",
       "        (bn1): BatchNorm2d(256, eps=1e-05, momentum=0.1, affine=True, track_running_stats=True)\n",
       "        (relu): ReLU(inplace=True)\n",
       "        (conv2): Conv2d(256, 256, kernel_size=(3, 3), stride=(1, 1), padding=(1, 1), bias=False)\n",
       "        (bn2): BatchNorm2d(256, eps=1e-05, momentum=0.1, affine=True, track_running_stats=True)\n",
       "      )\n",
       "      (5): BasicBlock(\n",
       "        (conv1): Conv2d(256, 256, kernel_size=(3, 3), stride=(1, 1), padding=(1, 1), bias=False)\n",
       "        (bn1): BatchNorm2d(256, eps=1e-05, momentum=0.1, affine=True, track_running_stats=True)\n",
       "        (relu): ReLU(inplace=True)\n",
       "        (conv2): Conv2d(256, 256, kernel_size=(3, 3), stride=(1, 1), padding=(1, 1), bias=False)\n",
       "        (bn2): BatchNorm2d(256, eps=1e-05, momentum=0.1, affine=True, track_running_stats=True)\n",
       "      )\n",
       "    )\n",
       "    (7): Sequential(\n",
       "      (0): BasicBlock(\n",
       "        (conv1): Conv2d(256, 512, kernel_size=(3, 3), stride=(2, 2), padding=(1, 1), bias=False)\n",
       "        (bn1): BatchNorm2d(512, eps=1e-05, momentum=0.1, affine=True, track_running_stats=True)\n",
       "        (relu): ReLU(inplace=True)\n",
       "        (conv2): Conv2d(512, 512, kernel_size=(3, 3), stride=(1, 1), padding=(1, 1), bias=False)\n",
       "        (bn2): BatchNorm2d(512, eps=1e-05, momentum=0.1, affine=True, track_running_stats=True)\n",
       "        (downsample): Sequential(\n",
       "          (0): Conv2d(256, 512, kernel_size=(1, 1), stride=(2, 2), bias=False)\n",
       "          (1): BatchNorm2d(512, eps=1e-05, momentum=0.1, affine=True, track_running_stats=True)\n",
       "        )\n",
       "      )\n",
       "      (1): BasicBlock(\n",
       "        (conv1): Conv2d(512, 512, kernel_size=(3, 3), stride=(1, 1), padding=(1, 1), bias=False)\n",
       "        (bn1): BatchNorm2d(512, eps=1e-05, momentum=0.1, affine=True, track_running_stats=True)\n",
       "        (relu): ReLU(inplace=True)\n",
       "        (conv2): Conv2d(512, 512, kernel_size=(3, 3), stride=(1, 1), padding=(1, 1), bias=False)\n",
       "        (bn2): BatchNorm2d(512, eps=1e-05, momentum=0.1, affine=True, track_running_stats=True)\n",
       "      )\n",
       "      (2): BasicBlock(\n",
       "        (conv1): Conv2d(512, 512, kernel_size=(3, 3), stride=(1, 1), padding=(1, 1), bias=False)\n",
       "        (bn1): BatchNorm2d(512, eps=1e-05, momentum=0.1, affine=True, track_running_stats=True)\n",
       "        (relu): ReLU(inplace=True)\n",
       "        (conv2): Conv2d(512, 512, kernel_size=(3, 3), stride=(1, 1), padding=(1, 1), bias=False)\n",
       "        (bn2): BatchNorm2d(512, eps=1e-05, momentum=0.1, affine=True, track_running_stats=True)\n",
       "      )\n",
       "    )\n",
       "  )\n",
       "  (classifier): Sequential(\n",
       "    (0): BatchNorm1d(512, eps=1e-05, momentum=0.1, affine=True, track_running_stats=True)\n",
       "    (1): Linear(in_features=512, out_features=4, bias=True)\n",
       "  )\n",
       "  (bb): Sequential(\n",
       "    (0): BatchNorm1d(512, eps=1e-05, momentum=0.1, affine=True, track_running_stats=True)\n",
       "    (1): Linear(in_features=512, out_features=4, bias=True)\n",
       "  )\n",
       ")"
      ]
     },
     "execution_count": 16,
     "metadata": {},
     "output_type": "execute_result"
    }
   ],
   "source": [
    "model = BB_model().cuda()\n",
    "params = [p for p in model.parameters() if p.requires_grad]\n",
    "optimizer = torch.optim.Adam(params, lr=0.006)\n",
    "epochs = 15\n",
    "model"
   ]
  },
  {
   "cell_type": "code",
   "execution_count": 17,
   "metadata": {
    "execution": {
     "iopub.execute_input": "2021-07-12T21:59:32.651686Z",
     "iopub.status.busy": "2021-07-12T21:59:32.651346Z",
     "iopub.status.idle": "2021-07-12T21:59:32.662325Z",
     "shell.execute_reply": "2021-07-12T21:59:32.661307Z",
     "shell.execute_reply.started": "2021-07-12T21:59:32.651657Z"
    }
   },
   "outputs": [],
   "source": [
    "def train():\n",
    "    for i in range(epochs):\n",
    "\n",
    "        model.train()\n",
    "        total = 0\n",
    "        sum_loss = 0\n",
    "\n",
    "        for x, y_class, y_bb in train_dl:\n",
    "            len_batch = y_class.shape[0]\n",
    "            x = x.cuda().float()\n",
    "            y_class = y_class.cuda()\n",
    "            y_bb = y_bb.cuda().float()\n",
    "            out_class, out_bb = model(x)\n",
    "            \n",
    "            # losses\n",
    "            loss_class = F.cross_entropy(out_class, y_class, reduction=\"sum\")\n",
    "            loss_bb = F.l1_loss(out_bb, y_bb, reduction=\"sum\")\n",
    "            \n",
    "            loss = loss_class + loss_bb\n",
    "            \n",
    "            optimizer.zero_grad()\n",
    "            loss.backward()\n",
    "            optimizer.step()\n",
    "            \n",
    "            total += len_batch\n",
    "            sum_loss += loss.item()\n",
    "        \n",
    "        train_loss = sum_loss / total\n",
    "\n",
    "        # Eval\n",
    "        model.eval()\n",
    "        val_total = 0\n",
    "        val_sum_loss = 0\n",
    "        correct = 0\n",
    "\n",
    "        for x, y_class, y_bb in valid_dl:\n",
    "            len_batch = y_class.shape[0]\n",
    "            x = x.cuda().float()\n",
    "            y_class = y_class.cuda()\n",
    "            y_bb = y_bb.cuda().float()\n",
    "            \n",
    "            out_class, out_bb = model(x)\n",
    "            \n",
    "            loss_class = F.cross_entropy(out_class, y_class, reduction=\"sum\")\n",
    "            loss_bb = F.l1_loss(out_bb, y_bb, reduction=\"sum\")\n",
    "            loss = loss_class + loss_bb\n",
    "            \n",
    "            _, pred = torch.max(out_class, 1)\n",
    "            correct += (pred == y_class).sum().item()\n",
    "            \n",
    "            val_sum_loss += loss.item()\n",
    "            val_total += len_batch\n",
    "            \n",
    "        val_loss = val_sum_loss / val_total\n",
    "        val_acc = correct / val_total\n",
    "\n",
    "        print(f\"Epoch [{i+1}/{epochs}]. train_loss {train_loss:.3f} val_loss {val_loss:.3f} val_acc {val_acc:.3f}\")"
   ]
  },
  {
   "cell_type": "code",
   "execution_count": 18,
   "metadata": {
    "execution": {
     "iopub.execute_input": "2021-07-12T21:59:51.605918Z",
     "iopub.status.busy": "2021-07-12T21:59:51.605580Z",
     "iopub.status.idle": "2021-07-12T22:12:43.893846Z",
     "shell.execute_reply": "2021-07-12T22:12:43.892985Z",
     "shell.execute_reply.started": "2021-07-12T21:59:51.605887Z"
    }
   },
   "outputs": [
    {
     "name": "stdout",
     "output_type": "stream",
     "text": [
      "Epoch [1/15]. train_loss 233.110 val_loss 142.514 val_acc 0.669\n",
      "Epoch [2/15]. train_loss 141.180 val_loss 180.619 val_acc 0.630\n",
      "Epoch [3/15]. train_loss 141.001 val_loss 139.615 val_acc 0.694\n",
      "Epoch [4/15]. train_loss 139.541 val_loss 145.134 val_acc 0.673\n",
      "Epoch [5/15]. train_loss 139.256 val_loss 187.678 val_acc 0.682\n",
      "Epoch [6/15]. train_loss 138.701 val_loss 146.822 val_acc 0.694\n",
      "Epoch [7/15]. train_loss 139.196 val_loss 135.788 val_acc 0.694\n",
      "Epoch [8/15]. train_loss 138.520 val_loss 138.113 val_acc 0.690\n",
      "Epoch [9/15]. train_loss 139.419 val_loss 139.569 val_acc 0.673\n",
      "Epoch [10/15]. train_loss 137.297 val_loss 138.545 val_acc 0.694\n",
      "Epoch [11/15]. train_loss 133.963 val_loss 132.932 val_acc 0.702\n",
      "Epoch [12/15]. train_loss 130.034 val_loss 126.151 val_acc 0.694\n",
      "Epoch [13/15]. train_loss 126.564 val_loss 122.462 val_acc 0.619\n",
      "Epoch [14/15]. train_loss 122.640 val_loss 135.115 val_acc 0.690\n",
      "Epoch [15/15]. train_loss 119.638 val_loss 135.068 val_acc 0.686\n"
     ]
    }
   ],
   "source": [
    "train()"
   ]
  },
  {
   "cell_type": "markdown",
   "metadata": {},
   "source": [
    "Трюк: мы можем после прохождения обучения изменить шаг обучения и продолжить:"
   ]
  },
  {
   "cell_type": "code",
   "execution_count": 20,
   "metadata": {
    "execution": {
     "iopub.execute_input": "2021-07-12T22:13:48.456914Z",
     "iopub.status.busy": "2021-07-12T22:13:48.456582Z",
     "iopub.status.idle": "2021-07-12T22:13:48.461115Z",
     "shell.execute_reply": "2021-07-12T22:13:48.460041Z",
     "shell.execute_reply.started": "2021-07-12T22:13:48.456881Z"
    }
   },
   "outputs": [],
   "source": [
    "for i, param_group in enumerate(optimizer.param_groups):\n",
    "    param_group[\"lr\"] = 0.001"
   ]
  },
  {
   "cell_type": "code",
   "execution_count": 21,
   "metadata": {
    "execution": {
     "iopub.execute_input": "2021-07-12T22:14:04.135079Z",
     "iopub.status.busy": "2021-07-12T22:14:04.134767Z",
     "iopub.status.idle": "2021-07-12T22:26:54.319870Z",
     "shell.execute_reply": "2021-07-12T22:26:54.318980Z",
     "shell.execute_reply.started": "2021-07-12T22:14:04.135049Z"
    }
   },
   "outputs": [
    {
     "name": "stdout",
     "output_type": "stream",
     "text": [
      "Epoch [1/15]. train_loss 115.135 val_loss 109.311 val_acc 0.672\n",
      "Epoch [2/15]. train_loss 111.321 val_loss 109.567 val_acc 0.671\n",
      "Epoch [3/15]. train_loss 109.648 val_loss 105.703 val_acc 0.687\n",
      "Epoch [4/15]. train_loss 107.728 val_loss 103.742 val_acc 0.680\n",
      "Epoch [5/15]. train_loss 106.220 val_loss 104.072 val_acc 0.692\n",
      "Epoch [6/15]. train_loss 104.640 val_loss 102.827 val_acc 0.692\n",
      "Epoch [7/15]. train_loss 103.829 val_loss 101.511 val_acc 0.694\n",
      "Epoch [8/15]. train_loss 102.676 val_loss 99.649 val_acc 0.691\n",
      "Epoch [9/15]. train_loss 102.223 val_loss 98.720 val_acc 0.688\n",
      "Epoch [10/15]. train_loss 100.374 val_loss 96.659 val_acc 0.672\n",
      "Epoch [11/15]. train_loss 98.226 val_loss 94.612 val_acc 0.690\n",
      "Epoch [12/15]. train_loss 97.924 val_loss 97.826 val_acc 0.705\n",
      "Epoch [13/15]. train_loss 95.501 val_loss 92.784 val_acc 0.701\n",
      "Epoch [14/15]. train_loss 94.127 val_loss 90.779 val_acc 0.699\n",
      "Epoch [15/15]. train_loss 92.196 val_loss 90.240 val_acc 0.703\n"
     ]
    }
   ],
   "source": [
    "train()"
   ]
  },
  {
   "cell_type": "markdown",
   "metadata": {},
   "source": [
    "# Тестирование"
   ]
  },
  {
   "cell_type": "code",
   "execution_count": 24,
   "metadata": {
    "execution": {
     "iopub.execute_input": "2021-07-12T22:28:23.998602Z",
     "iopub.status.busy": "2021-07-12T22:28:23.998226Z",
     "iopub.status.idle": "2021-07-12T22:28:24.011526Z",
     "shell.execute_reply": "2021-07-12T22:28:24.010424Z",
     "shell.execute_reply.started": "2021-07-12T22:28:23.998571Z"
    }
   },
   "outputs": [
    {
     "data": {
      "text/plain": [
       "True"
      ]
     },
     "execution_count": 24,
     "metadata": {},
     "output_type": "execute_result"
    }
   ],
   "source": [
    "# resizing test image\n",
    "image = 'Cats_Test1300'\n",
    "im = read_image(f'./images_resized/{image}.png')\n",
    "Path.mkdir(Path('./road_signs_test'), exist_ok=True)\n",
    "cv2.imwrite(f'./road_signs_test/{image}.jpg', cv2.cvtColor(im, cv2.COLOR_RGB2BGR))"
   ]
  },
  {
   "cell_type": "code",
   "execution_count": 25,
   "metadata": {
    "execution": {
     "iopub.execute_input": "2021-07-12T22:28:49.177066Z",
     "iopub.status.busy": "2021-07-12T22:28:49.176720Z",
     "iopub.status.idle": "2021-07-12T22:28:49.198903Z",
     "shell.execute_reply": "2021-07-12T22:28:49.198117Z",
     "shell.execute_reply.started": "2021-07-12T22:28:49.177023Z"
    }
   },
   "outputs": [
    {
     "data": {
      "text/plain": [
       "torch.Size([1, 3, 284, 284])"
      ]
     },
     "execution_count": 25,
     "metadata": {},
     "output_type": "execute_result"
    }
   ],
   "source": [
    "# test Dataset\n",
    "test_ds = RoadDataset(\n",
    "    pd.DataFrame([{'path':f'./road_signs_test/{image}.jpg'}])['path'],\n",
    "    pd.DataFrame([{'bb':np.array([0,0,0,0])}])['bb'],\n",
    "    pd.DataFrame([{'y':[0]}])['y']\n",
    ")\n",
    "x, y_class, y_bb = test_ds[0]\n",
    "\n",
    "xx = torch.FloatTensor(x[None,])\n",
    "xx.shape"
   ]
  },
  {
   "cell_type": "code",
   "execution_count": 26,
   "metadata": {
    "execution": {
     "iopub.execute_input": "2021-07-12T22:29:02.600478Z",
     "iopub.status.busy": "2021-07-12T22:29:02.600132Z",
     "iopub.status.idle": "2021-07-12T22:29:02.654536Z",
     "shell.execute_reply": "2021-07-12T22:29:02.653584Z",
     "shell.execute_reply.started": "2021-07-12T22:29:02.600445Z"
    }
   },
   "outputs": [
    {
     "data": {
      "text/plain": [
       "(tensor([[ 0.9585,  1.5983, -7.1006, -7.4262]], device='cuda:0',\n",
       "        grad_fn=<AddmmBackward>),\n",
       " tensor([[ 19.9071, 108.8514, 157.1909, 212.4157]], device='cuda:0',\n",
       "        grad_fn=<AddmmBackward>))"
      ]
     },
     "execution_count": 26,
     "metadata": {},
     "output_type": "execute_result"
    }
   ],
   "source": [
    "# prediction\n",
    "out_class, out_bb = model(xx.cuda())\n",
    "out_class, out_bb"
   ]
  },
  {
   "cell_type": "code",
   "execution_count": 27,
   "metadata": {
    "execution": {
     "iopub.execute_input": "2021-07-12T22:29:13.044985Z",
     "iopub.status.busy": "2021-07-12T22:29:13.044583Z",
     "iopub.status.idle": "2021-07-12T22:29:13.053381Z",
     "shell.execute_reply": "2021-07-12T22:29:13.052118Z",
     "shell.execute_reply.started": "2021-07-12T22:29:13.044941Z"
    }
   },
   "outputs": [
    {
     "data": {
      "text/plain": [
       "torch.return_types.max(\n",
       "values=tensor([1.5983], device='cuda:0', grad_fn=<MaxBackward0>),\n",
       "indices=tensor([1], device='cuda:0'))"
      ]
     },
     "execution_count": 27,
     "metadata": {},
     "output_type": "execute_result"
    }
   ],
   "source": [
    "# predicted class\n",
    "torch.max(out_class, 1)"
   ]
  },
  {
   "cell_type": "code",
   "execution_count": 28,
   "metadata": {
    "execution": {
     "iopub.execute_input": "2021-07-12T22:29:30.407883Z",
     "iopub.status.busy": "2021-07-12T22:29:30.407564Z",
     "iopub.status.idle": "2021-07-12T22:29:30.415916Z",
     "shell.execute_reply": "2021-07-12T22:29:30.414711Z",
     "shell.execute_reply.started": "2021-07-12T22:29:30.407851Z"
    }
   },
   "outputs": [
    {
     "data": {
      "text/plain": [
       "{'cat': 0, 'dog': 1}"
      ]
     },
     "execution_count": 28,
     "metadata": {},
     "output_type": "execute_result"
    }
   ],
   "source": [
    "class_dict"
   ]
  },
  {
   "cell_type": "code",
   "execution_count": 29,
   "metadata": {
    "execution": {
     "iopub.execute_input": "2021-07-12T22:29:40.435556Z",
     "iopub.status.busy": "2021-07-12T22:29:40.435211Z",
     "iopub.status.idle": "2021-07-12T22:29:40.598757Z",
     "shell.execute_reply": "2021-07-12T22:29:40.597799Z",
     "shell.execute_reply.started": "2021-07-12T22:29:40.435528Z"
    }
   },
   "outputs": [
    {
     "data": {
      "image/png": "[encoded data removed]",
      "text/plain": [
       "<Figure size 432x288 with 1 Axes>"
      ]
     },
     "metadata": {
      "needs_background": "light"
     },
     "output_type": "display_data"
    }
   ],
   "source": [
    "# predicted bounding box\n",
    "bb_hat = out_bb.detach().cpu().numpy()\n",
    "bb_hat = bb_hat.astype(int)\n",
    "show_corner_bb(im, bb_hat[0])"
   ]
  }
 ],
 "metadata": {
  "kernelspec": {
   "display_name": "Python 3",
   "language": "python",
   "name": "python3"
  },
  "language_info": {
   "codemirror_mode": {
    "name": "ipython",
    "version": 3
   },
   "file_extension": ".py",
   "mimetype": "text/x-python",
   "name": "python",
   "nbconvert_exporter": "python",
   "pygments_lexer": "ipython3",
   "version": "3.8.8"
  },
  "toc": {
   "base_numbering": 1,
   "nav_menu": {},
   "number_sections": false,
   "sideBar": true,
   "skip_h1_title": true,
   "title_cell": "Table of Contents",
   "title_sidebar": "Contents",
   "toc_cell": false,
   "toc_position": {},
   "toc_section_display": true,
   "toc_window_display": false
  },
  "varInspector": {
   "cols": {
    "lenName": 16,
    "lenType": 16,
    "lenVar": 40
   },
   "kernels_config": {
    "python": {
     "delete_cmd_postfix": "",
     "delete_cmd_prefix": "del ",
     "library": "var_list.py",
     "varRefreshCmd": "print(var_dic_list())"
    },
    "r": {
     "delete_cmd_postfix": ") ",
     "delete_cmd_prefix": "rm(",
     "library": "var_list.r",
     "varRefreshCmd": "cat(var_dic_list()) "
    }
   },
   "types_to_exclude": [
    "module",
    "function",
    "builtin_function_or_method",
    "instance",
    "_Feature"
   ],
   "window_display": false
  }
 },
 "nbformat": 4,
 "nbformat_minor": 4
}
