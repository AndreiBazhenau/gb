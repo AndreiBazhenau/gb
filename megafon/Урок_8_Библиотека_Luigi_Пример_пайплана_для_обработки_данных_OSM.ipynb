{
 "cells": [
  {
   "cell_type": "markdown",
   "metadata": {},
   "source": [
    "Написание на Luigi пайплайна для скачивания данных из OpenStreetMap\n",
    "---\n",
    "\n",
    "Представим, что мы хотим автоматизировать процесс скачивания данных. Разобъём на 2 подзадачи - первая будет скачвать данные, а вторая обрабатывать и формировать датафрейм."
   ]
  },
  {
   "cell_type": "code",
   "execution_count": null,
   "metadata": {
    "id": "86nm0pZqoGVH"
   },
   "outputs": [],
   "source": [
    "import luigi\n",
    "import requests\n",
    "import json\n",
    "import pandas as pd\n",
    "import datetime"
   ]
  },
  {
   "cell_type": "markdown",
   "metadata": {
    "id": "XT6nr13VoGVU"
   },
   "source": [
    "### Пример пайплайна для  данных osm"
   ]
  },
  {
   "cell_type": "markdown",
   "metadata": {
    "id": "SuHt7p6ioGVU"
   },
   "source": [
    "Скачать данные по выбранной категории объектов\n",
    "\n",
    "Обработка данных\n",
    "\n",
    "Сохранение для дальнейшего использлвания"
   ]
  },
  {
   "cell_type": "markdown",
   "metadata": {
    "id": "KwthKZKKoGVV"
   },
   "source": [
    "Основными параметрами данного пайплайна будет территория, заданная боксом города, категория места, а также атрибут OSM.\n",
    "Скачаем места по Москве:"
   ]
  },
  {
   "cell_type": "code",
   "execution_count": null,
   "metadata": {
    "id": "G1tC-q7VoGVV"
   },
   "outputs": [],
   "source": [
    "# класс отвечающий за выгрузуку данных\n",
    "class TaskOSMLoading(luigi.Task):\n",
    "    # определяем параметры: атрибуты, категории и bounding box\n",
    "    attr = luigi.Parameter()\n",
    "    category = luigi.Parameter()\n",
    "    bbox = luigi.Parameter()\n",
    "    \n",
    "    # выбираем куда мы будем сохранять данные (json)\n",
    "    def output(self):\n",
    "        return luigi.LocalTarget(\"osm_data/data_osm_{}.json\".format(self.category))\n",
    "    \n",
    "    # в методе run формируем get-запрос\n",
    "    def run(self):\n",
    "        \n",
    "        overpass_url = \"https://overpass.kumi.systems/api/interpreter\"\n",
    "        overpass_query = \"\"\"\n",
    "            [out:json];\n",
    "            ({}[{}]({});\n",
    "            );\n",
    "             out body;\n",
    "                         \"\"\".format(self.attr, self.category, self.bbox)\n",
    "        \n",
    "        response = requests.get(overpass_url, \n",
    "                                params={'data': overpass_query})\n",
    "        data = response.json()\n",
    "        \n",
    "        # сохраняем результат запроса в файл\n",
    "        with self.output().open('w') as f:\n",
    "            json.dump(data, f)"
   ]
  },
  {
   "cell_type": "markdown",
   "metadata": {
    "id": "yM_5Ir5doGVW"
   },
   "source": [
    "Создадим следующую задачу, которая будет принимать на вход данные от этого класса и выдавать некоторый датафрейм.\n",
    "\n",
    "Теперь `categories = luigi.ListParameter()` определяется как лист. Это нужно чтобы мы могли скачивать не одну какую то категорию, а несколько мест, например магазины, офисы, остановки...\n",
    "\n",
    "В классе можно определять вспомогательные методы, которые затем можно переиспользовать в `run()`:"
   ]
  },
  {
   "cell_type": "code",
   "execution_count": null,
   "metadata": {
    "id": "TPiwOF2loGVW"
   },
   "outputs": [],
   "source": [
    "class TaskOSMProcessing(luigi.Task):\n",
    "    # определяем параметры: атрибуты, категории и bounding box\n",
    "    attr = luigi.Parameter()\n",
    "    categories = luigi.ListParameter()\n",
    "    bbox = luigi.Parameter()\n",
    "    #date = luigi.DateParameter(default = datetime.datetime.now()) \n",
    "    \n",
    "    # метод возвращает не одну зависимую задачу, а список задач - создаём цикл по категориям\n",
    "    def requires(self):\n",
    "        # сначала скачиваются все места по всем категориям, а затем будет произведена обработка данных\n",
    "        return [TaskOSMLoading(self.attr, category, self.bbox) for category in self.categories]\n",
    "    \n",
    "    # определяем куда мы сохраняем итоговый результат\n",
    "    def output(self):\n",
    "        return luigi.LocalTarget('osm_data/results_s.csv')\n",
    "    \n",
    "    # чтобы не перегружать метод run выносим часть кода сюда\n",
    "    def get_tag(self, x, key_name):\n",
    "        if str(key_name) in x:\n",
    "            tmp = x[key_name]\n",
    "            return tmp\n",
    "        else:\n",
    "            return 'unknown'\n",
    "    \n",
    "    # в методе run вся основная логика обработки данных\n",
    "    def run(self):\n",
    "        \n",
    "        all_osm = pd.DataFrame()\n",
    "        # проходимся по всем скачанным файлам\n",
    "        for _input in self.input():\n",
    "            with _input.open('r') as raw_file:\n",
    "                # преобразовываем их в датафрейм\n",
    "                data = pd.DataFrame((json.load(raw_file))['elements'])\n",
    "                all_osm = all_osm.append(data)\n",
    "        \n",
    "        # вытаскиваем нужную категорию\n",
    "        all_osm['amenity'] = all_osm['tags'].apply(lambda x: self.get_tag(x, 'amenity'))\n",
    "        \n",
    "        # сохраняем результат в csv\n",
    "        with self.output().open('w') as f:\n",
    "            all_osm[['id','lat','lon','amenity']].to_csv(f, encoding='utf8')"
   ]
  },
  {
   "cell_type": "markdown",
   "metadata": {},
   "source": [
    "Запускаем нашу задачу. Для этого определяем какие параметры мы передаём:\n",
    "- node - потому что вытаскиваем места\n",
    "- далее лист категорий\n",
    "- bounding box Москвы"
   ]
  },
  {
   "cell_type": "code",
   "execution_count": null,
   "metadata": {
    "id": "p7hYV-V-oGVX",
    "outputId": "02bacfd4-ea52-4155-fa87-da1f3de839a4",
    "scrolled": true
   },
   "outputs": [
    {
     "name": "stderr",
     "output_type": "stream",
     "text": [
      "DEBUG: Checking if TaskOSMProcessing(attr=node, categories=[\"amenity\", \"shop\", \"office\", \"bus_stop\"], bbox=55.1422,36.8031,56.0212,37.9674) is complete\n",
      "DEBUG: Checking if TaskOSMLoading(attr=node, category=amenity, bbox=55.1422,36.8031,56.0212,37.9674) is complete\n",
      "DEBUG: Checking if TaskOSMLoading(attr=node, category=shop, bbox=55.1422,36.8031,56.0212,37.9674) is complete\n",
      "DEBUG: Checking if TaskOSMLoading(attr=node, category=office, bbox=55.1422,36.8031,56.0212,37.9674) is complete\n",
      "DEBUG: Checking if TaskOSMLoading(attr=node, category=bus_stop, bbox=55.1422,36.8031,56.0212,37.9674) is complete\n",
      "INFO: Informed scheduler that task   TaskOSMProcessing_node_55_1422_36_8031____amenity____sho_badb57d548   has status   PENDING\n",
      "INFO: Informed scheduler that task   TaskOSMLoading_node_55_1422_36_8031__bus_stop_cc6b2eb261   has status   PENDING\n",
      "INFO: Informed scheduler that task   TaskOSMLoading_node_55_1422_36_8031__office_a8ea274f7d   has status   PENDING\n",
      "INFO: Informed scheduler that task   TaskOSMLoading_node_55_1422_36_8031__shop_cd2f7a8f48   has status   PENDING\n",
      "INFO: Informed scheduler that task   TaskOSMLoading_node_55_1422_36_8031__amenity_b895978954   has status   PENDING\n",
      "INFO: Done scheduling tasks\n",
      "INFO: Running Worker with 1 processes\n",
      "DEBUG: Asking scheduler for work...\n",
      "DEBUG: Pending tasks: 5\n",
      "INFO: [pid 7509] Worker Worker(salt=075421608, workers=1, host=MacBook-Air-Elena-2.local, username=elena, pid=7509) running   TaskOSMLoading(attr=node, category=amenity, bbox=55.1422,36.8031,56.0212,37.9674)\n",
      "INFO: [pid 7509] Worker Worker(salt=075421608, workers=1, host=MacBook-Air-Elena-2.local, username=elena, pid=7509) done      TaskOSMLoading(attr=node, category=amenity, bbox=55.1422,36.8031,56.0212,37.9674)\n",
      "DEBUG: 1 running tasks, waiting for next task to finish\n",
      "INFO: Informed scheduler that task   TaskOSMLoading_node_55_1422_36_8031__amenity_b895978954   has status   DONE\n",
      "DEBUG: Asking scheduler for work...\n",
      "DEBUG: Pending tasks: 4\n",
      "INFO: [pid 7509] Worker Worker(salt=075421608, workers=1, host=MacBook-Air-Elena-2.local, username=elena, pid=7509) running   TaskOSMLoading(attr=node, category=bus_stop, bbox=55.1422,36.8031,56.0212,37.9674)\n",
      "INFO: [pid 7509] Worker Worker(salt=075421608, workers=1, host=MacBook-Air-Elena-2.local, username=elena, pid=7509) done      TaskOSMLoading(attr=node, category=bus_stop, bbox=55.1422,36.8031,56.0212,37.9674)\n",
      "DEBUG: 1 running tasks, waiting for next task to finish\n",
      "INFO: Informed scheduler that task   TaskOSMLoading_node_55_1422_36_8031__bus_stop_cc6b2eb261   has status   DONE\n",
      "DEBUG: Asking scheduler for work...\n",
      "DEBUG: Pending tasks: 3\n",
      "INFO: [pid 7509] Worker Worker(salt=075421608, workers=1, host=MacBook-Air-Elena-2.local, username=elena, pid=7509) running   TaskOSMLoading(attr=node, category=shop, bbox=55.1422,36.8031,56.0212,37.9674)\n",
      "INFO: [pid 7509] Worker Worker(salt=075421608, workers=1, host=MacBook-Air-Elena-2.local, username=elena, pid=7509) done      TaskOSMLoading(attr=node, category=shop, bbox=55.1422,36.8031,56.0212,37.9674)\n",
      "DEBUG: 1 running tasks, waiting for next task to finish\n",
      "INFO: Informed scheduler that task   TaskOSMLoading_node_55_1422_36_8031__shop_cd2f7a8f48   has status   DONE\n",
      "DEBUG: Asking scheduler for work...\n",
      "DEBUG: Pending tasks: 2\n",
      "INFO: [pid 7509] Worker Worker(salt=075421608, workers=1, host=MacBook-Air-Elena-2.local, username=elena, pid=7509) running   TaskOSMLoading(attr=node, category=office, bbox=55.1422,36.8031,56.0212,37.9674)\n",
      "INFO: [pid 7509] Worker Worker(salt=075421608, workers=1, host=MacBook-Air-Elena-2.local, username=elena, pid=7509) done      TaskOSMLoading(attr=node, category=office, bbox=55.1422,36.8031,56.0212,37.9674)\n",
      "DEBUG: 1 running tasks, waiting for next task to finish\n",
      "INFO: Informed scheduler that task   TaskOSMLoading_node_55_1422_36_8031__office_a8ea274f7d   has status   DONE\n",
      "DEBUG: Asking scheduler for work...\n",
      "DEBUG: Pending tasks: 1\n",
      "INFO: [pid 7509] Worker Worker(salt=075421608, workers=1, host=MacBook-Air-Elena-2.local, username=elena, pid=7509) running   TaskOSMProcessing(attr=node, categories=[\"amenity\", \"shop\", \"office\", \"bus_stop\"], bbox=55.1422,36.8031,56.0212,37.9674)\n",
      "INFO: [pid 7509] Worker Worker(salt=075421608, workers=1, host=MacBook-Air-Elena-2.local, username=elena, pid=7509) done      TaskOSMProcessing(attr=node, categories=[\"amenity\", \"shop\", \"office\", \"bus_stop\"], bbox=55.1422,36.8031,56.0212,37.9674)\n",
      "DEBUG: 1 running tasks, waiting for next task to finish\n",
      "INFO: Informed scheduler that task   TaskOSMProcessing_node_55_1422_36_8031____amenity____sho_badb57d548   has status   DONE\n",
      "DEBUG: Asking scheduler for work...\n",
      "DEBUG: Done\n",
      "DEBUG: There are no more tasks to run at this time\n",
      "INFO: Worker Worker(salt=075421608, workers=1, host=MacBook-Air-Elena-2.local, username=elena, pid=7509) was stopped. Shutting down Keep-Alive thread\n",
      "INFO: \n",
      "===== Luigi Execution Summary =====\n",
      "\n",
      "Scheduled 5 tasks of which:\n",
      "* 5 ran successfully:\n",
      "    - 4 TaskOSMLoading(attr=node, category=amenity, bbox=55.1422,36.8031,56.0212,37.9674) ...\n",
      "    - 1 TaskOSMProcessing(attr=node, categories=[\"amenity\", \"shop\", \"office\", \"bus_stop\"], bbox=55.1422,36.8031,56.0212,37.9674)\n",
      "\n",
      "This progress looks :) because there were no failed tasks or missing dependencies\n",
      "\n",
      "===== Luigi Execution Summary =====\n",
      "\n"
     ]
    }
   ],
   "source": [
    "if __name__ == '__main__':\n",
    "    luigi.build([TaskOSMProcessing('node',['amenity','shop','office','bus_stop'],\n",
    "                                   \"55.1422,36.8031,56.0212,37.9674\")])"
   ]
  },
  {
   "cell_type": "markdown",
   "metadata": {
    "id": "IKwFmT9YoGVZ"
   },
   "source": [
    "<img src=luigi_dependencies.png>"
   ]
  },
  {
   "cell_type": "markdown",
   "metadata": {
    "id": "CMiy76rUoGVa"
   },
   "source": [
    "#### Плюсы Luigi \n",
    "\n",
    "- Luigi можно запускать для тестирования пайплайна в режиме `--local-sheduler`, также можно запускать через центральный планировщик с аргументом `--central-sheduler`  \n",
    "- Довольно простой интерфейс - по факту для написания пайплайна нужно оперировать только тремя сущностями;\n",
    "- Неплохая документация;\n",
    "- Визуализация графа задач;\n",
    "- Перезапуск задачи не приводит к потере данных предыдущих задач;\n",
    "- Удобная обработка аргументов, передаваемые через терминал;"
   ]
  },
  {
   "cell_type": "markdown",
   "metadata": {
    "id": "xt0-_I1NoGVb"
   },
   "source": [
    "### Ограничения Luigi\n",
    "\n",
    "- Не поддерживает real-time обработку\n",
    "- Отсутствует запуск задач по расписанию"
   ]
  },
  {
   "cell_type": "markdown",
   "metadata": {
    "id": "nSDOzXYtoGVc"
   },
   "source": [
    "### Другие библиотеки\n",
    "\n",
    "- `airflow` - библиотека от airbnb, сейчас выложена в открытом доступе\n",
    "- `celery` - подходит для real-time обработки"
   ]
  }
 ],
 "metadata": {
  "colab": {
   "collapsed_sections": [],
   "name": "Урок 8.Библиотека Luigi -Пример пайплана для обработки данных OSM.ipynb",
   "provenance": []
  },
  "kernelspec": {
   "display_name": "Python 3",
   "language": "python",
   "name": "python3"
  },
  "language_info": {
   "codemirror_mode": {
    "name": "ipython",
    "version": 3
   },
   "file_extension": ".py",
   "mimetype": "text/x-python",
   "name": "python",
   "nbconvert_exporter": "python",
   "pygments_lexer": "ipython3",
   "version": "3.8.8"
  },
  "toc": {
   "base_numbering": 1,
   "nav_menu": {},
   "number_sections": false,
   "sideBar": true,
   "skip_h1_title": false,
   "title_cell": "Table of Contents",
   "title_sidebar": "Contents",
   "toc_cell": false,
   "toc_position": {
    "height": "732px",
    "left": "0px",
    "right": "1382px",
    "top": "66px",
    "width": "259px"
   },
   "toc_section_display": false,
   "toc_window_display": true
  },
  "varInspector": {
   "cols": {
    "lenName": 16,
    "lenType": 16,
    "lenVar": 40
   },
   "kernels_config": {
    "python": {
     "delete_cmd_postfix": "",
     "delete_cmd_prefix": "del ",
     "library": "var_list.py",
     "varRefreshCmd": "print(var_dic_list())"
    },
    "r": {
     "delete_cmd_postfix": ") ",
     "delete_cmd_prefix": "rm(",
     "library": "var_list.r",
     "varRefreshCmd": "cat(var_dic_list()) "
    }
   },
   "types_to_exclude": [
    "module",
    "function",
    "builtin_function_or_method",
    "instance",
    "_Feature"
   ],
   "window_display": false
  }
 },
 "nbformat": 4,
 "nbformat_minor": 1
}
