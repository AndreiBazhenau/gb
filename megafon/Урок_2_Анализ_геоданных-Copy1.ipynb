{
 "cells": [
  {
   "cell_type": "markdown",
   "metadata": {},
   "source": [
    "# Урок 2. Основные инструменты работы с геоданными. Генерация гео признаков"
   ]
  },
  {
   "cell_type": "code",
   "execution_count": 1,
   "metadata": {
    "ExecuteTime": {
     "end_time": "2021-10-16T19:30:05.958525Z",
     "start_time": "2021-10-16T19:30:05.324011Z"
    },
    "id": "capTtMqXLazc"
   },
   "outputs": [
    {
     "ename": "ModuleNotFoundError",
     "evalue": "No module named 'geopandas'",
     "output_type": "error",
     "traceback": [
      "\u001b[1;31m---------------------------------------------------------------------------\u001b[0m",
      "\u001b[1;31mModuleNotFoundError\u001b[0m                       Traceback (most recent call last)",
      "\u001b[1;32m<ipython-input-1-5d7f8a3ec921>\u001b[0m in \u001b[0;36m<module>\u001b[1;34m\u001b[0m\n\u001b[0;32m      1\u001b[0m \u001b[1;32mimport\u001b[0m \u001b[0mpandas\u001b[0m \u001b[1;32mas\u001b[0m \u001b[0mpd\u001b[0m\u001b[1;33m\u001b[0m\u001b[1;33m\u001b[0m\u001b[0m\n\u001b[1;32m----> 2\u001b[1;33m \u001b[1;32mimport\u001b[0m \u001b[0mgeopandas\u001b[0m \u001b[1;32mas\u001b[0m \u001b[0mgpd\u001b[0m\u001b[1;33m\u001b[0m\u001b[1;33m\u001b[0m\u001b[0m\n\u001b[0m\u001b[0;32m      3\u001b[0m \u001b[1;32mimport\u001b[0m \u001b[0mseaborn\u001b[0m \u001b[1;32mas\u001b[0m \u001b[0msns\u001b[0m\u001b[1;33m\u001b[0m\u001b[1;33m\u001b[0m\u001b[0m\n\u001b[0;32m      4\u001b[0m \u001b[1;32mimport\u001b[0m \u001b[0mmatplotlib\u001b[0m\u001b[1;33m.\u001b[0m\u001b[0mpyplot\u001b[0m \u001b[1;32mas\u001b[0m \u001b[0mplt\u001b[0m\u001b[1;33m\u001b[0m\u001b[1;33m\u001b[0m\u001b[0m\n\u001b[0;32m      5\u001b[0m \u001b[0mplt\u001b[0m\u001b[1;33m.\u001b[0m\u001b[0mrcParams\u001b[0m\u001b[1;33m[\u001b[0m\u001b[1;34m'figure.figsize'\u001b[0m\u001b[1;33m]\u001b[0m \u001b[1;33m=\u001b[0m \u001b[1;36m10\u001b[0m\u001b[1;33m,\u001b[0m \u001b[1;36m8\u001b[0m\u001b[1;33m\u001b[0m\u001b[1;33m\u001b[0m\u001b[0m\n",
      "\u001b[1;31mModuleNotFoundError\u001b[0m: No module named 'geopandas'"
     ]
    }
   ],
   "source": [
    "import pandas as pd\n",
    "import geopandas as gpd\n",
    "import seaborn as sns\n",
    "import matplotlib.pyplot as plt\n",
    "plt.rcParams['figure.figsize'] = 10, 8\n",
    "%matplotlib inline"
   ]
  },
  {
   "cell_type": "markdown",
   "metadata": {
    "id": "IaG33Tj-Lazf"
   },
   "source": [
    "Ноутбук посвящен работе с геоданными с помощью библиотек shapely и geopandas. "
   ]
  },
  {
   "cell_type": "markdown",
   "metadata": {
    "id": "xx7NuxNcLazh"
   },
   "source": [
    "### Знакомство с shapely"
   ]
  },
  {
   "cell_type": "markdown",
   "metadata": {
    "id": "Mr8UVMYwLazh"
   },
   "source": [
    "`Shapely` - библиотека для работы с геометрическими объектами\n",
    "\n",
    "`Geopandas` - pandas, только с гео\n",
    "\n",
    "`folium` - для визуализации"
   ]
  },
  {
   "cell_type": "code",
   "execution_count": null,
   "metadata": {
    "ExecuteTime": {
     "end_time": "2021-10-16T19:16:50.393741Z",
     "start_time": "2021-10-16T19:16:49.804Z"
    },
    "id": "QiKB10NNLazi"
   },
   "outputs": [],
   "source": [
    "from shapely.geometry import Point, LineString, Polygon"
   ]
  },
  {
   "cell_type": "markdown",
   "metadata": {
    "id": "pZiSyc4CLazi"
   },
   "source": [
    "#### точка"
   ]
  },
  {
   "cell_type": "code",
   "execution_count": null,
   "metadata": {
    "ExecuteTime": {
     "end_time": "2021-10-16T19:16:50.396730Z",
     "start_time": "2021-10-16T19:16:49.809Z"
    },
    "id": "FsBmUiFtLazj"
   },
   "outputs": [],
   "source": [
    "moscow_lon = 37.618423\n",
    "moscow_lat = 55.751244\n",
    "point = Point(moscow_lon, moscow_lat)"
   ]
  },
  {
   "cell_type": "code",
   "execution_count": null,
   "metadata": {
    "ExecuteTime": {
     "end_time": "2021-10-16T19:16:50.397727Z",
     "start_time": "2021-10-16T19:16:49.812Z"
    },
    "id": "hxsInz32Lazj",
    "outputId": "b643719a-f8cf-47ca-a934-e7f3e676c087"
   },
   "outputs": [],
   "source": [
    "point"
   ]
  },
  {
   "cell_type": "markdown",
   "metadata": {},
   "source": [
    "У точки как и у любого объекта shaply есть атрибуты площадь и длина:"
   ]
  },
  {
   "cell_type": "code",
   "execution_count": null,
   "metadata": {
    "ExecuteTime": {
     "end_time": "2021-10-16T19:16:50.398725Z",
     "start_time": "2021-10-16T19:16:49.815Z"
    },
    "id": "e1DJlv4fLazk",
    "outputId": "ac05fe68-23ab-46bd-8807-996199e36fb2",
    "scrolled": true
   },
   "outputs": [],
   "source": [
    "print(\"area \", point.area)\n",
    "print(\"length \", point.length)"
   ]
  },
  {
   "cell_type": "markdown",
   "metadata": {},
   "source": [
    "Граница точки:"
   ]
  },
  {
   "cell_type": "code",
   "execution_count": null,
   "metadata": {
    "ExecuteTime": {
     "end_time": "2021-10-16T19:16:50.399722Z",
     "start_time": "2021-10-16T19:16:49.817Z"
    },
    "id": "smhQn5O2Lazl",
    "outputId": "83ee90ca-f9d1-408a-e546-b89800906bdd"
   },
   "outputs": [],
   "source": [
    "point.bounds"
   ]
  },
  {
   "cell_type": "markdown",
   "metadata": {
    "id": "YnjgsUsCLazl"
   },
   "source": [
    "#### Линия"
   ]
  },
  {
   "cell_type": "code",
   "execution_count": null,
   "metadata": {
    "ExecuteTime": {
     "end_time": "2021-10-16T19:16:50.400720Z",
     "start_time": "2021-10-16T19:16:49.820Z"
    },
    "id": "NfBBiIvwLazl"
   },
   "outputs": [],
   "source": [
    "moscow_lon = 37.618423\n",
    "moscow_lat = 55.751244\n",
    "\n",
    "piter_lon = 30.26417\n",
    "piter_lat = 59.89444\n",
    "\n",
    "line = LineString([(moscow_lon, moscow_lat), (piter_lon, piter_lat)])"
   ]
  },
  {
   "cell_type": "code",
   "execution_count": null,
   "metadata": {
    "ExecuteTime": {
     "end_time": "2021-10-16T19:16:50.401718Z",
     "start_time": "2021-10-16T19:16:49.822Z"
    },
    "id": "rrqL8LCzLazm",
    "outputId": "e2ea6377-bae0-498c-e6ee-3603a9294672"
   },
   "outputs": [],
   "source": [
    "line"
   ]
  },
  {
   "cell_type": "markdown",
   "metadata": {
    "id": "EJhhxU1ELazm"
   },
   "source": [
    "Границы будут отсортированы в следующем порядке: bounds - (minx, miny, maxx, maxy)  - мин долгота, мин широта, макс долгота, макс широта."
   ]
  },
  {
   "cell_type": "code",
   "execution_count": null,
   "metadata": {
    "ExecuteTime": {
     "end_time": "2021-10-16T19:16:50.403713Z",
     "start_time": "2021-10-16T19:16:49.825Z"
    },
    "id": "7MbWh8_jLazm",
    "outputId": "4d4de586-cd25-4ca8-ec4c-57bbb99bc737"
   },
   "outputs": [],
   "source": [
    "line.bounds"
   ]
  },
  {
   "cell_type": "markdown",
   "metadata": {},
   "source": [
    "Если линия состоит из набора точек, с помощью атрибута `coords` можно вернуть массив этих точек."
   ]
  },
  {
   "cell_type": "code",
   "execution_count": null,
   "metadata": {
    "ExecuteTime": {
     "end_time": "2021-10-16T19:16:50.404710Z",
     "start_time": "2021-10-16T19:16:49.828Z"
    },
    "id": "fJIyvt1-Lazm",
    "outputId": "3a004030-4e76-47db-94cf-dbd8af9ea937"
   },
   "outputs": [],
   "source": [
    "list(line.coords)"
   ]
  },
  {
   "cell_type": "markdown",
   "metadata": {
    "id": "Pj9iX0zvLazn"
   },
   "source": [
    "#### Полигон"
   ]
  },
  {
   "cell_type": "markdown",
   "metadata": {
    "id": "vMbq_x1DLazn"
   },
   "source": [
    "https://boundingbox.klokantech.com/ - сайт для создания bounding box города"
   ]
  },
  {
   "cell_type": "code",
   "execution_count": null,
   "metadata": {
    "ExecuteTime": {
     "end_time": "2021-10-16T19:16:50.405707Z",
     "start_time": "2021-10-16T19:16:49.831Z"
    },
    "id": "yf9IAVTgLazn",
    "outputId": "bb78c6cb-0b5e-4b5a-eb09-281e15c0eedc"
   },
   "outputs": [],
   "source": [
    "polygon = Polygon([(37.3193289,55.489927), \n",
    "                   (37.9456611,55.489927),\n",
    "                   (37.9456611,56.009657),\n",
    "                   (37.3193289,56.009657)])\n",
    "print(polygon.area)\n",
    "print(polygon.length)"
   ]
  },
  {
   "cell_type": "code",
   "execution_count": null,
   "metadata": {
    "ExecuteTime": {
     "end_time": "2021-10-16T19:16:50.406705Z",
     "start_time": "2021-10-16T19:16:49.834Z"
    },
    "id": "F2dUgeEsLazo",
    "outputId": "9a168460-8380-49cc-d67e-f0226ee2bd95"
   },
   "outputs": [],
   "source": [
    "polygon"
   ]
  },
  {
   "cell_type": "markdown",
   "metadata": {
    "id": "m55LVzOhLazo"
   },
   "source": [
    "Границы полигона"
   ]
  },
  {
   "cell_type": "code",
   "execution_count": null,
   "metadata": {
    "ExecuteTime": {
     "end_time": "2021-10-16T19:16:50.407701Z",
     "start_time": "2021-10-16T19:16:49.837Z"
    },
    "id": "DPztnBoDLazo",
    "outputId": "922b9e51-e278-472c-a940-d128affc25ae"
   },
   "outputs": [],
   "source": [
    "polygon.bounds"
   ]
  },
  {
   "cell_type": "markdown",
   "metadata": {
    "id": "YLId8mGlLazo"
   },
   "source": [
    "Для полигона, у которого внутри дырка, можно найти внутренние и внешние границы"
   ]
  },
  {
   "cell_type": "code",
   "execution_count": null,
   "metadata": {
    "ExecuteTime": {
     "end_time": "2021-10-16T19:16:50.409697Z",
     "start_time": "2021-10-16T19:16:49.840Z"
    },
    "id": "EzQq03tPLazp",
    "outputId": "d8c3be6a-abef-428c-ca60-2be6181f5eaa"
   },
   "outputs": [],
   "source": [
    "list(polygon.exterior.coords)"
   ]
  },
  {
   "cell_type": "code",
   "execution_count": null,
   "metadata": {
    "ExecuteTime": {
     "end_time": "2021-10-16T19:16:50.411698Z",
     "start_time": "2021-10-16T19:16:49.842Z"
    },
    "id": "vgWG4Oe-Lazp",
    "outputId": "766cc767-c8c1-4181-b5e2-fdc242b96327"
   },
   "outputs": [],
   "source": [
    "list(polygon.interiors)"
   ]
  },
  {
   "cell_type": "markdown",
   "metadata": {
    "id": "5skHX107Lazp"
   },
   "source": [
    "### Операции с геометрией"
   ]
  },
  {
   "cell_type": "markdown",
   "metadata": {
    "id": "VrTRVBNHLazp"
   },
   "source": [
    "<img src=http://docs.qgis.org/testing/en/_images/overlay_operations.png>"
   ]
  },
  {
   "cell_type": "markdown",
   "metadata": {
    "id": "5f2FJnppLazp"
   },
   "source": [
    "intersection\n",
    "\n",
    "Создадим 2 точки и буфер вокруг точки, который превращается в круг."
   ]
  },
  {
   "cell_type": "code",
   "execution_count": null,
   "metadata": {
    "ExecuteTime": {
     "end_time": "2021-10-16T19:16:50.412689Z",
     "start_time": "2021-10-16T19:16:49.845Z"
    },
    "id": "uRpdkOnILazp"
   },
   "outputs": [],
   "source": [
    "a = Point(0, 0).buffer(1.1)\n",
    "b = Point(1, 1).buffer(0.7)"
   ]
  },
  {
   "cell_type": "code",
   "execution_count": null,
   "metadata": {
    "ExecuteTime": {
     "end_time": "2021-10-16T19:16:50.414683Z",
     "start_time": "2021-10-16T19:16:49.847Z"
    },
    "id": "9E9Rr2MvLazp",
    "outputId": "57405c75-6868-4ba6-9934-6ac0408b8119"
   },
   "outputs": [],
   "source": [
    "b"
   ]
  },
  {
   "cell_type": "code",
   "execution_count": null,
   "metadata": {
    "ExecuteTime": {
     "end_time": "2021-10-16T19:16:50.415679Z",
     "start_time": "2021-10-16T19:16:49.850Z"
    },
    "id": "4h4Y2cwyLazq",
    "outputId": "2250d878-d20c-44bf-ceb1-308694ad541d"
   },
   "outputs": [],
   "source": [
    "a.intersection(b)"
   ]
  },
  {
   "cell_type": "markdown",
   "metadata": {
    "id": "tACXqUUkLazq"
   },
   "source": [
    "union"
   ]
  },
  {
   "cell_type": "code",
   "execution_count": null,
   "metadata": {
    "ExecuteTime": {
     "end_time": "2021-10-16T19:16:50.416678Z",
     "start_time": "2021-10-16T19:16:49.853Z"
    },
    "id": "RhNPHGTaLazq",
    "outputId": "ad2e4943-8ae7-4643-8330-5d0b356e95d5"
   },
   "outputs": [],
   "source": [
    "a.union(b)"
   ]
  },
  {
   "cell_type": "code",
   "execution_count": null,
   "metadata": {
    "ExecuteTime": {
     "end_time": "2021-10-16T19:16:50.417676Z",
     "start_time": "2021-10-16T19:16:49.856Z"
    },
    "id": "PxJlDYISLazq",
    "outputId": "7b645550-65f2-4ad1-b0b8-a887f19a44f6"
   },
   "outputs": [],
   "source": [
    "a.difference(b)"
   ]
  },
  {
   "cell_type": "markdown",
   "metadata": {
    "id": "cDAslzlMLazq"
   },
   "source": [
    "contains\n",
    "\n",
    "Например для того, чтобы проверить лежит ли точка в самом полигоне."
   ]
  },
  {
   "cell_type": "code",
   "execution_count": null,
   "metadata": {
    "ExecuteTime": {
     "end_time": "2021-10-16T19:16:50.419670Z",
     "start_time": "2021-10-16T19:16:49.859Z"
    },
    "id": "dorOryn0Lazq",
    "outputId": "5aa0bbdd-a1ac-428b-ac81-e37e9ed48030"
   },
   "outputs": [],
   "source": [
    "polygon.contains(Point(moscow_lon, moscow_lat))"
   ]
  },
  {
   "cell_type": "code",
   "execution_count": null,
   "metadata": {
    "ExecuteTime": {
     "end_time": "2021-10-16T19:16:50.420666Z",
     "start_time": "2021-10-16T19:16:49.861Z"
    },
    "id": "5Wx133CALazr",
    "outputId": "0811a5d3-60f1-4c4f-fcad-e3335fc8ec43"
   },
   "outputs": [],
   "source": [
    "polygon.contains(Point(piter_lon, piter_lat))"
   ]
  },
  {
   "cell_type": "markdown",
   "metadata": {
    "id": "voRWLW6uLazr"
   },
   "source": [
    "### Geopandas\n",
    "\n",
    "Создаём объект GeoSeries (аналог Series) используя точки из Shapely."
   ]
  },
  {
   "cell_type": "code",
   "execution_count": null,
   "metadata": {
    "ExecuteTime": {
     "end_time": "2021-10-16T19:16:50.422664Z",
     "start_time": "2021-10-16T19:16:49.864Z"
    },
    "id": "HmlM2OcVLazr",
    "outputId": "7bcc01e5-08b1-457d-b334-5933851af08e"
   },
   "outputs": [],
   "source": [
    "geo_series = gpd.GeoSeries([Point(-120, 45), Point(-121.2, 46), Point(-122.9, 47.5)])\n",
    "geo_series"
   ]
  },
  {
   "cell_type": "markdown",
   "metadata": {},
   "source": [
    "Точки без привязки к местности не имеют смысла, поэтому задаём географическую проекцию."
   ]
  },
  {
   "cell_type": "code",
   "execution_count": null,
   "metadata": {
    "ExecuteTime": {
     "end_time": "2021-10-16T19:16:50.424657Z",
     "start_time": "2021-10-16T19:16:49.867Z"
    },
    "id": "Rc2IpLrILazr"
   },
   "outputs": [],
   "source": [
    "geo_series.crs = {'init': 'epsg:4326'}"
   ]
  },
  {
   "cell_type": "markdown",
   "metadata": {
    "id": "svzPGxZ4Lazr"
   },
   "source": [
    "#### GeoDataFrame\n",
    "\n",
    "Создадим геодатафрейм на примере датасета административных границ Москвы. Можно подгрузить geojson или esri shape-файл."
   ]
  },
  {
   "cell_type": "code",
   "execution_count": null,
   "metadata": {
    "ExecuteTime": {
     "end_time": "2021-10-16T19:16:50.425653Z",
     "start_time": "2021-10-16T19:16:49.870Z"
    },
    "id": "5NNp8pwdLazr"
   },
   "outputs": [],
   "source": [
    "moscow_districts = gpd.read_file('moscow_districts.geojson')"
   ]
  },
  {
   "cell_type": "code",
   "execution_count": null,
   "metadata": {
    "ExecuteTime": {
     "end_time": "2021-10-16T19:16:50.426651Z",
     "start_time": "2021-10-16T19:16:49.872Z"
    },
    "id": "syltRe-QLazr"
   },
   "outputs": [],
   "source": [
    "moscow_districts.columns = moscow_districts.columns.str.lower()"
   ]
  },
  {
   "cell_type": "code",
   "execution_count": null,
   "metadata": {
    "ExecuteTime": {
     "end_time": "2021-10-16T19:16:50.427649Z",
     "start_time": "2021-10-16T19:16:49.875Z"
    },
    "id": "D7nvSz8uLazs",
    "outputId": "1fe73882-e9ca-43a0-f0b7-cbd4ae88a5b5"
   },
   "outputs": [],
   "source": [
    "moscow_districts.head()"
   ]
  },
  {
   "cell_type": "markdown",
   "metadata": {},
   "source": [
    "Нарисуем геодатафрейм с помощью метода plot и покажем общую численность населения."
   ]
  },
  {
   "cell_type": "code",
   "execution_count": null,
   "metadata": {
    "ExecuteTime": {
     "end_time": "2021-10-16T19:16:50.428645Z",
     "start_time": "2021-10-16T19:16:49.877Z"
    },
    "id": "1ux_p-gKLazs",
    "outputId": "da949417-6232-4cac-9d61-c1fa755b8d6b"
   },
   "outputs": [],
   "source": [
    "moscow_districts.plot('totalpopul', figsize=(12,10), cmap='OrRd');"
   ]
  },
  {
   "cell_type": "markdown",
   "metadata": {
    "id": "xjgAtI9qLazs"
   },
   "source": [
    "#### OpenStreetMap"
   ]
  },
  {
   "cell_type": "markdown",
   "metadata": {
    "id": "vOZZ-qeLLazs"
   },
   "source": [
    "Скачаем данные по местам из OpenStreetMap на примере Москвы"
   ]
  },
  {
   "cell_type": "markdown",
   "metadata": {
    "id": "v52NUXcALazs"
   },
   "source": [
    "https://wiki.openstreetmap.org/wiki/Main_Page"
   ]
  },
  {
   "cell_type": "markdown",
   "metadata": {
    "id": "K3ZXquZgLazs"
   },
   "source": [
    "Сущности OpenStreeMap:\n",
    "- `node` - точка, параметры широта и долгота (магазин, офис)\n",
    "- `way` - линейные объекты, например улица, дорога\n",
    "- `relation` - отношение, для связи между объектами"
   ]
  },
  {
   "cell_type": "code",
   "execution_count": null,
   "metadata": {
    "ExecuteTime": {
     "end_time": "2021-10-16T19:16:50.429644Z",
     "start_time": "2021-10-16T19:16:49.881Z"
    },
    "id": "0bVRHkuHLazs"
   },
   "outputs": [],
   "source": [
    "import requests"
   ]
  },
  {
   "cell_type": "markdown",
   "metadata": {
    "id": "AY0-WFJWLazs"
   },
   "source": [
    "https://wiki.openstreetmap.org/wiki/Map_Features - информация по категориям"
   ]
  },
  {
   "cell_type": "code",
   "execution_count": null,
   "metadata": {
    "ExecuteTime": {
     "end_time": "2021-10-16T19:16:50.430640Z",
     "start_time": "2021-10-16T19:16:49.884Z"
    },
    "id": "JubZlKXyLazt"
   },
   "outputs": [],
   "source": [
    "# источник, откуда будем качать\n",
    "overpass_url = \"https://overpass.kumi.systems/api/interpreter\"\n",
    "\n",
    "# тип выходных данных, которые мы хотим получить. \n",
    "#В данном примере это json\n",
    "# далее указываем сущность - точки с категорией shop и область по которой скачиваем\n",
    "overpass_query = \"\"\"\n",
    "[out:json];\n",
    "(\n",
    " node[\"shop\"](55.4245,37.0919,56.0671,38.1335);\n",
    ");\n",
    "out body;\n",
    "\"\"\"\n",
    "\n",
    "# формируем get-запрос\n",
    "response = requests.get(overpass_url, \n",
    "                        params={'data': overpass_query})\n",
    "data = response.json()"
   ]
  },
  {
   "cell_type": "code",
   "execution_count": null,
   "metadata": {
    "ExecuteTime": {
     "end_time": "2021-10-16T19:16:50.432634Z",
     "start_time": "2021-10-16T19:16:49.893Z"
    },
    "id": "UhC6BFvZLazt",
    "outputId": "efae3a50-9487-48ce-b1f7-c196c4da7e4d",
    "scrolled": true
   },
   "outputs": [],
   "source": [
    "data"
   ]
  },
  {
   "cell_type": "markdown",
   "metadata": {},
   "source": [
    "Преобразуем в датафрейм и оставим только нужные поля"
   ]
  },
  {
   "cell_type": "code",
   "execution_count": null,
   "metadata": {
    "ExecuteTime": {
     "end_time": "2021-10-16T19:16:50.433632Z",
     "start_time": "2021-10-16T19:16:49.896Z"
    },
    "id": "k4JJ-EeMLazt"
   },
   "outputs": [],
   "source": [
    "def get_tag(x, key_name):\n",
    "    if str(key_name) in x:\n",
    "        tmp = x[key_name]\n",
    "        return tmp\n",
    "    else:\n",
    "        return \"unknown\""
   ]
  },
  {
   "cell_type": "code",
   "execution_count": null,
   "metadata": {
    "ExecuteTime": {
     "end_time": "2021-10-16T19:16:50.434630Z",
     "start_time": "2021-10-16T19:16:49.899Z"
    },
    "id": "YKfHEEyhLazt"
   },
   "outputs": [],
   "source": [
    "loaded = pd.DataFrame(data['elements'])\n",
    "loaded['shop'] = loaded['tags'].apply(lambda x: get_tag(x, 'shop'))"
   ]
  },
  {
   "cell_type": "code",
   "execution_count": null,
   "metadata": {
    "ExecuteTime": {
     "end_time": "2021-10-16T19:16:50.435627Z",
     "start_time": "2021-10-16T19:16:49.903Z"
    },
    "id": "jGiB_enOLazu",
    "outputId": "7b72bca3-104e-4b94-de91-836e21ab7f5b"
   },
   "outputs": [],
   "source": [
    "loaded.head()"
   ]
  },
  {
   "cell_type": "markdown",
   "metadata": {},
   "source": [
    "Но здесь нет поля геометрии. Создадим его."
   ]
  },
  {
   "cell_type": "markdown",
   "metadata": {
    "id": "RYy2-bhCLazu"
   },
   "source": [
    "#### Создание geodataframe\n",
    "\n",
    "Неважно как называется поле с геометрией, таких полей даже может быть несколько, главное указать какой столбец будет главным в параметре geometry."
   ]
  },
  {
   "cell_type": "code",
   "execution_count": null,
   "metadata": {
    "ExecuteTime": {
     "end_time": "2021-10-16T19:16:50.437622Z",
     "start_time": "2021-10-16T19:16:49.908Z"
    },
    "id": "pOftHAlJLazu"
   },
   "outputs": [],
   "source": [
    "# определяем проекцию для создания наших координат\n",
    "crs = {'init' :'epsg:4326'}\n",
    "# создадим лист для хранения массива точек\n",
    "geometry = [Point(xy) for xy in zip(loaded.lon, loaded.lat)]\n",
    "# создаём геодатафрейм с указанием исходного датафрейма, проекции и геометрии\n",
    "places_geo = gpd.GeoDataFrame(loaded, crs=crs, geometry=geometry)"
   ]
  },
  {
   "cell_type": "code",
   "execution_count": null,
   "metadata": {
    "ExecuteTime": {
     "end_time": "2021-10-16T19:16:50.438618Z",
     "start_time": "2021-10-16T19:16:49.912Z"
    },
    "id": "gAdtIbkALazu",
    "outputId": "28135846-61c8-4bf3-d41b-63e764134414"
   },
   "outputs": [],
   "source": [
    "places_geo.head()"
   ]
  },
  {
   "cell_type": "markdown",
   "metadata": {},
   "source": [
    "Теперь мы можем связать места с районами Москвы, т.е. посчитать какие места встречаются например в центре. Для этого можно определить атрибутивный join. У нас есть 2 датафрейма и мы их связываем по какому-нибудь общему столбцу. А когда мы имеем дело с геометрией, мы можем воспользоваться spatial join - отношения между объектами."
   ]
  },
  {
   "cell_type": "markdown",
   "metadata": {
    "id": "L1zxy_C3Lazu"
   },
   "source": [
    "### Spatial join"
   ]
  },
  {
   "cell_type": "markdown",
   "metadata": {
    "id": "p_wSOtj6Lazu"
   },
   "source": [
    "проверка проекций - у двух датафреймов они должны совпадать"
   ]
  },
  {
   "cell_type": "code",
   "execution_count": null,
   "metadata": {
    "ExecuteTime": {
     "end_time": "2021-10-16T19:16:50.439615Z",
     "start_time": "2021-10-16T19:16:49.916Z"
    },
    "id": "6w5WVji5Lazu",
    "outputId": "b0affd06-2cbc-4f11-90e9-76afd270cb29"
   },
   "outputs": [],
   "source": [
    "moscow_districts.crs"
   ]
  },
  {
   "cell_type": "code",
   "execution_count": null,
   "metadata": {
    "ExecuteTime": {
     "end_time": "2021-10-16T19:16:50.441612Z",
     "start_time": "2021-10-16T19:16:49.919Z"
    },
    "id": "xKWkR3ofLazv",
    "outputId": "37cb998b-c08e-4012-808f-2ac1a7c48c7a"
   },
   "outputs": [],
   "source": [
    "places_geo.crs"
   ]
  },
  {
   "cell_type": "markdown",
   "metadata": {},
   "source": [
    "Объединяем 2 датафрейма (сначала районы Москвы, потом сами места), тип inner и отнрошение между геометрическими объектами (intersects, contains, within). "
   ]
  },
  {
   "cell_type": "code",
   "execution_count": null,
   "metadata": {
    "ExecuteTime": {
     "end_time": "2021-10-16T19:16:50.442610Z",
     "start_time": "2021-10-16T19:16:49.922Z"
    },
    "id": "drkJKS7MLazv"
   },
   "outputs": [],
   "source": [
    "places_district = gpd.sjoin(moscow_districts, places_geo, how=\"inner\", op='contains')"
   ]
  },
  {
   "cell_type": "markdown",
   "metadata": {},
   "source": [
    "На выходе получаем связь районов с местами."
   ]
  },
  {
   "cell_type": "code",
   "execution_count": null,
   "metadata": {
    "ExecuteTime": {
     "end_time": "2021-10-16T19:16:50.443606Z",
     "start_time": "2021-10-16T19:16:49.926Z"
    },
    "id": "RpPz951ELazv",
    "outputId": "bff68993-85e4-483d-a48f-cbef6e988956"
   },
   "outputs": [],
   "source": [
    "places_district.head()"
   ]
  },
  {
   "cell_type": "markdown",
   "metadata": {},
   "source": [
    "Преобразуем датафрейм - сделаем агрегат - сгруппируем места по районам, посчитаем их общее количество."
   ]
  },
  {
   "cell_type": "code",
   "execution_count": null,
   "metadata": {
    "ExecuteTime": {
     "end_time": "2021-10-16T19:16:50.444604Z",
     "start_time": "2021-10-16T19:16:49.929Z"
    },
    "id": "UXfjmOtFLazv"
   },
   "outputs": [],
   "source": [
    "places_district['shop_count'] = places_district.groupby('name')['id'].transform('nunique')"
   ]
  },
  {
   "cell_type": "markdown",
   "metadata": {},
   "source": [
    "В данном датафрейме у нас будет хранится уменьшенная информация."
   ]
  },
  {
   "cell_type": "code",
   "execution_count": null,
   "metadata": {
    "ExecuteTime": {
     "end_time": "2021-10-16T19:16:50.446599Z",
     "start_time": "2021-10-16T19:16:49.932Z"
    },
    "id": "5Hd0onjQLazv"
   },
   "outputs": [],
   "source": [
    "district_stats = places_district[['name','geometry', 'shop_count', 'totalpopul']].drop_duplicates('name')#"
   ]
  },
  {
   "cell_type": "markdown",
   "metadata": {},
   "source": [
    "Нарисуем карту, где у нас будет показано количество магазинов по районам."
   ]
  },
  {
   "cell_type": "code",
   "execution_count": null,
   "metadata": {
    "ExecuteTime": {
     "end_time": "2021-10-16T19:16:50.447594Z",
     "start_time": "2021-10-16T19:16:49.935Z"
    },
    "id": "RxQ6ckHFLazv",
    "outputId": "b73d06a6-3a57-48c8-fe83-d30db51b88b1",
    "scrolled": false
   },
   "outputs": [],
   "source": [
    "district_stats.plot('shop_count', cmap='OrRd', figsize=(12,10), scheme='equals',legend=True);"
   ]
  },
  {
   "cell_type": "markdown",
   "metadata": {
    "id": "Ew0eehEfLazv"
   },
   "source": [
    "Изменим проекцию на Pseudo-Mercator EPSG:3857"
   ]
  },
  {
   "cell_type": "code",
   "execution_count": null,
   "metadata": {
    "ExecuteTime": {
     "end_time": "2021-10-16T19:16:50.450723Z",
     "start_time": "2021-10-16T19:16:49.940Z"
    },
    "id": "1UEPri9qLazv"
   },
   "outputs": [],
   "source": [
    "district_stats = district_stats.to_crs(epsg=3857)"
   ]
  },
  {
   "cell_type": "code",
   "execution_count": null,
   "metadata": {
    "ExecuteTime": {
     "end_time": "2021-10-16T19:16:50.452584Z",
     "start_time": "2021-10-16T19:16:49.943Z"
    },
    "id": "nItjQVg7Lazv",
    "outputId": "da3e1d1d-5baf-451b-86a3-cfa9bb1b1170"
   },
   "outputs": [],
   "source": [
    "district_stats.plot('shop_count', cmap='OrRd', figsize=(12,10), scheme='equals', legend=True);"
   ]
  }
 ],
 "metadata": {
  "colab": {
   "name": "Урок 2.Анализ геоданных.ipynb",
   "provenance": []
  },
  "kernelspec": {
   "display_name": "Python 3",
   "language": "python",
   "name": "python3"
  },
  "language_info": {
   "codemirror_mode": {
    "name": "ipython",
    "version": 3
   },
   "file_extension": ".py",
   "mimetype": "text/x-python",
   "name": "python",
   "nbconvert_exporter": "python",
   "pygments_lexer": "ipython3",
   "version": "3.8.8"
  },
  "toc": {
   "base_numbering": 1,
   "nav_menu": {},
   "number_sections": false,
   "sideBar": true,
   "skip_h1_title": false,
   "title_cell": "Table of Contents",
   "title_sidebar": "Contents",
   "toc_cell": false,
   "toc_position": {
    "height": "calc(100% - 180px)",
    "left": "10px",
    "top": "150px",
    "width": "214px"
   },
   "toc_section_display": "block",
   "toc_window_display": true
  },
  "varInspector": {
   "cols": {
    "lenName": 16,
    "lenType": 16,
    "lenVar": 40
   },
   "kernels_config": {
    "python": {
     "delete_cmd_postfix": "",
     "delete_cmd_prefix": "del ",
     "library": "var_list.py",
     "varRefreshCmd": "print(var_dic_list())"
    },
    "r": {
     "delete_cmd_postfix": ") ",
     "delete_cmd_prefix": "rm(",
     "library": "var_list.r",
     "varRefreshCmd": "cat(var_dic_list()) "
    }
   },
   "types_to_exclude": [
    "module",
    "function",
    "builtin_function_or_method",
    "instance",
    "_Feature"
   ],
   "window_display": false
  }
 },
 "nbformat": 4,
 "nbformat_minor": 1
}
