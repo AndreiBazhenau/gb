{
 "cells": [
  {
   "cell_type": "code",
   "execution_count": 4,
   "id": "2d9e26c2",
   "metadata": {
    "ExecuteTime": {
     "end_time": "2021-10-24T18:41:23.795860Z",
     "start_time": "2021-10-24T18:41:23.750980Z"
    }
   },
   "outputs": [],
   "source": [
    "!pip install dataprep"
   ]
  },
  {
   "cell_type": "code",
   "execution_count": 1,
   "id": "31b01668",
   "metadata": {
    "ExecuteTime": {
     "end_time": "2021-10-24T18:39:18.064204Z",
     "start_time": "2021-10-24T18:39:17.951204Z"
    }
   },
   "outputs": [
    {
     "ename": "ModuleNotFoundError",
     "evalue": "No module named 'dataprep'",
     "output_type": "error",
     "traceback": [
      "\u001b[1;31m---------------------------------------------------------------------------\u001b[0m",
      "\u001b[1;31mModuleNotFoundError\u001b[0m                       Traceback (most recent call last)",
      "\u001b[1;32m<ipython-input-1-22c73991ccd2>\u001b[0m in \u001b[0;36m<module>\u001b[1;34m\u001b[0m\n\u001b[1;32m----> 1\u001b[1;33m \u001b[1;32mfrom\u001b[0m \u001b[0mdataprep\u001b[0m\u001b[1;33m.\u001b[0m\u001b[0meda\u001b[0m \u001b[1;32mimport\u001b[0m \u001b[0mplot\u001b[0m\u001b[1;33m,\u001b[0m \u001b[0mplot_correlation\u001b[0m\u001b[1;33m,\u001b[0m \u001b[0mcreate_report\u001b[0m\u001b[1;33m,\u001b[0m \u001b[0mplot_missing\u001b[0m\u001b[1;33m\u001b[0m\u001b[1;33m\u001b[0m\u001b[0m\n\u001b[0m\u001b[0;32m      2\u001b[0m \u001b[1;32mimport\u001b[0m \u001b[0mpandas\u001b[0m \u001b[1;32mas\u001b[0m \u001b[0mpd\u001b[0m\u001b[1;33m\u001b[0m\u001b[1;33m\u001b[0m\u001b[0m\n",
      "\u001b[1;31mModuleNotFoundError\u001b[0m: No module named 'dataprep'"
     ]
    }
   ],
   "source": [
    "from dataprep.eda import plot, plot_correlation, create_report, plot_missing\n",
    "import pandas as pd"
   ]
  },
  {
   "cell_type": "code",
   "execution_count": null,
   "id": "261aad63",
   "metadata": {
    "ExecuteTime": {
     "end_time": "2021-10-24T18:38:28.402723Z",
     "start_time": "2021-10-24T18:38:28.061Z"
    }
   },
   "outputs": [],
   "source": [
    "path = Path('../../data/megafon/')"
   ]
  },
  {
   "cell_type": "code",
   "execution_count": null,
   "id": "9569b1c0",
   "metadata": {
    "ExecuteTime": {
     "end_time": "2021-10-24T18:38:28.402723Z",
     "start_time": "2021-10-24T18:38:28.063Z"
    }
   },
   "outputs": [],
   "source": [
    "train = pd.read_csv(path.joinpath('data_train.csv'))\n",
    "train"
   ]
  },
  {
   "cell_type": "code",
   "execution_count": null,
   "id": "b96e6cae",
   "metadata": {
    "ExecuteTime": {
     "end_time": "2021-10-24T18:38:28.403719Z",
     "start_time": "2021-10-24T18:38:28.064Z"
    }
   },
   "outputs": [],
   "source": [
    "plot(train)"
   ]
  },
  {
   "cell_type": "code",
   "execution_count": null,
   "id": "1047947b",
   "metadata": {
    "ExecuteTime": {
     "end_time": "2021-10-24T18:38:28.404717Z",
     "start_time": "2021-10-24T18:38:28.065Z"
    }
   },
   "outputs": [],
   "source": [
    "test = pd.read_csv(path.joinpath('data_test.csv'))\n",
    "test"
   ]
  },
  {
   "cell_type": "code",
   "execution_count": null,
   "id": "a68c2fae",
   "metadata": {
    "ExecuteTime": {
     "end_time": "2021-10-24T18:38:28.406712Z",
     "start_time": "2021-10-24T18:38:28.066Z"
    }
   },
   "outputs": [],
   "source": [
    "plot(test)"
   ]
  },
  {
   "cell_type": "markdown",
   "id": "3d498c94",
   "metadata": {},
   "source": [
    "<div class=\"alert alert-danger\">\n",
    "Файл features.csv загружается в оперативу 5 мин и занимает 9 Гб.\n",
    "</div>"
   ]
  },
  {
   "cell_type": "code",
   "execution_count": null,
   "id": "542d51be",
   "metadata": {
    "ExecuteTime": {
     "end_time": "2021-10-24T18:38:28.407709Z",
     "start_time": "2021-10-24T18:38:28.068Z"
    }
   },
   "outputs": [],
   "source": [
    "features = pd.read_csv(path.joinpath('features.csv'), sep='\\t')\n",
    "features"
   ]
  },
  {
   "cell_type": "code",
   "execution_count": null,
   "id": "192e62a5",
   "metadata": {
    "ExecuteTime": {
     "end_time": "2021-10-24T18:38:28.407709Z",
     "start_time": "2021-10-24T18:38:28.069Z"
    }
   },
   "outputs": [],
   "source": [
    "plot(features)"
   ]
  }
 ],
 "metadata": {
  "kernelspec": {
   "display_name": "Python 3",
   "language": "python",
   "name": "python3"
  },
  "language_info": {
   "codemirror_mode": {
    "name": "ipython",
    "version": 3
   },
   "file_extension": ".py",
   "mimetype": "text/x-python",
   "name": "python",
   "nbconvert_exporter": "python",
   "pygments_lexer": "ipython3",
   "version": "3.8.8"
  },
  "toc": {
   "base_numbering": 1,
   "nav_menu": {},
   "number_sections": false,
   "sideBar": true,
   "skip_h1_title": false,
   "title_cell": "Table of Contents",
   "title_sidebar": "Contents",
   "toc_cell": false,
   "toc_position": {},
   "toc_section_display": true,
   "toc_window_display": false
  },
  "varInspector": {
   "cols": {
    "lenName": 16,
    "lenType": 16,
    "lenVar": 40
   },
   "kernels_config": {
    "python": {
     "delete_cmd_postfix": "",
     "delete_cmd_prefix": "del ",
     "library": "var_list.py",
     "varRefreshCmd": "print(var_dic_list())"
    },
    "r": {
     "delete_cmd_postfix": ") ",
     "delete_cmd_prefix": "rm(",
     "library": "var_list.r",
     "varRefreshCmd": "cat(var_dic_list()) "
    }
   },
   "types_to_exclude": [
    "module",
    "function",
    "builtin_function_or_method",
    "instance",
    "_Feature"
   ],
   "window_display": false
  }
 },
 "nbformat": 4,
 "nbformat_minor": 5
}
