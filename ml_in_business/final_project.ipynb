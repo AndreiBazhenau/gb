{
 "cells": [
  {
   "cell_type": "markdown",
   "metadata": {},
   "source": [
    "### Задание\n",
    "\n",
    "1. Обучить модель на понравившихся данных\n",
    "2. Создать rest api сервис, к которому можно будет обращаться для получения прогнозов"
   ]
  },
  {
   "cell_type": "markdown",
   "metadata": {},
   "source": [
    "### Примерные темы"
   ]
  },
  {
   "cell_type": "markdown",
   "metadata": {},
   "source": [
    "1. Определение токсичности комментария\n",
    "2. Определение стоимости жилья от разных факторов: площадь жилья, удаленность от центра, etc (здесь же куча идей прогнозирования стоимости чего-либо по его описанию)\n",
    "3. Темы новости по ее тексту\n",
    "4. Классификатор рукописных цифр\n",
    "5. Классификатор картинок (например, определение города и страны по снимку улицы)\n",
    "6. Определение вероятности наличия сердечно-сосудистых заболеваний по данным первичного осмотра (или что-то подобное)\n",
    "7. Многое другое (придумайте сами)\n",
    "8. Прогнозирование рейтинга вопроса на stackoverflow - https://www.kaggle.com/imoore/60k-stack-overflow-questions-with-quality-rate\n",
    "9. https://www.kaggle.com/russellyates88/suicide-rates-overview-1985-to-2016\n",
    "10. Тематическое моделирование статей на arxiv - https://www.kaggle.com/Cornell-University/arxiv"
   ]
  },
  {
   "cell_type": "markdown",
   "metadata": {},
   "source": [
    "### Откуда брать данные"
   ]
  },
  {
   "cell_type": "markdown",
   "metadata": {},
   "source": [
    "1. kaggle (https://www.kaggle.com/datasets)\n",
    "2. спарсить самостоятельно, но в этом случае вам может понадобиться разметка (если у вас обучение с учителем)"
   ]
  },
  {
   "cell_type": "markdown",
   "metadata": {},
   "source": [
    "Пишем простой граббер для Telegram чатов на Python https://medium.com/swlh/build-a-telegram-bot-in-go-in-9-minutes-e06ad38acef1  https://proglib.io/p/pishem-prostoy-grabber-dlya-telegram-chatov-na-python-2019-11-06"
   ]
  },
  {
   "cell_type": "code",
   "execution_count": 1,
   "metadata": {
    "ExecuteTime": {
     "end_time": "2021-03-25T07:35:21.694310Z",
     "start_time": "2021-03-25T07:35:20.047699Z"
    }
   },
   "outputs": [],
   "source": [
    "import pandas as pd\n",
    "import numpy as np"
   ]
  },
  {
   "cell_type": "code",
   "execution_count": 5,
   "metadata": {
    "ExecuteTime": {
     "end_time": "2021-03-25T07:39:45.301201Z",
     "start_time": "2021-03-25T07:39:44.645325Z"
    }
   },
   "outputs": [
    {
     "data": {
      "text/html": [
       "<div>\n",
       "<style scoped>\n",
       "    .dataframe tbody tr th:only-of-type {\n",
       "        vertical-align: middle;\n",
       "    }\n",
       "\n",
       "    .dataframe tbody tr th {\n",
       "        vertical-align: top;\n",
       "    }\n",
       "\n",
       "    .dataframe thead th {\n",
       "        text-align: right;\n",
       "    }\n",
       "</style>\n",
       "<table border=\"1\" class=\"dataframe\">\n",
       "  <thead>\n",
       "    <tr style=\"text-align: right;\">\n",
       "      <th></th>\n",
       "      <th>name</th>\n",
       "      <th>type</th>\n",
       "      <th>id</th>\n",
       "      <th>messages</th>\n",
       "    </tr>\n",
       "  </thead>\n",
       "  <tbody>\n",
       "    <tr>\n",
       "      <th>0</th>\n",
       "      <td>Новое Измайлово</td>\n",
       "      <td>public_supergroup</td>\n",
       "      <td>9666949336</td>\n",
       "      <td>{'id': -999996617, 'type': 'service', 'date': ...</td>\n",
       "    </tr>\n",
       "    <tr>\n",
       "      <th>1</th>\n",
       "      <td>Новое Измайлово</td>\n",
       "      <td>public_supergroup</td>\n",
       "      <td>9666949336</td>\n",
       "      <td>{'id': 1, 'type': 'service', 'date': '2016-08-...</td>\n",
       "    </tr>\n",
       "    <tr>\n",
       "      <th>2</th>\n",
       "      <td>Новое Измайлово</td>\n",
       "      <td>public_supergroup</td>\n",
       "      <td>9666949336</td>\n",
       "      <td>{'id': 99, 'type': 'service', 'date': '2016-09...</td>\n",
       "    </tr>\n",
       "  </tbody>\n",
       "</table>\n",
       "</div>"
      ],
      "text/plain": [
       "              name               type          id  \\\n",
       "0  Новое Измайлово  public_supergroup  9666949336   \n",
       "1  Новое Измайлово  public_supergroup  9666949336   \n",
       "2  Новое Измайлово  public_supergroup  9666949336   \n",
       "\n",
       "                                            messages  \n",
       "0  {'id': -999996617, 'type': 'service', 'date': ...  \n",
       "1  {'id': 1, 'type': 'service', 'date': '2016-08-...  \n",
       "2  {'id': 99, 'type': 'service', 'date': '2016-09...  "
      ]
     },
     "execution_count": 5,
     "metadata": {},
     "output_type": "execute_result"
    }
   ],
   "source": [
    "ham_raw = pd.read_json('../../data/spam_detection/ham2016.json')\n",
    "ham_raw.head(3)"
   ]
  },
  {
   "cell_type": "code",
   "execution_count": 7,
   "metadata": {
    "ExecuteTime": {
     "end_time": "2021-03-25T07:40:06.822015Z",
     "start_time": "2021-03-25T07:40:04.488744Z"
    }
   },
   "outputs": [
    {
     "data": {
      "text/html": [
       "<div>\n",
       "<style scoped>\n",
       "    .dataframe tbody tr th:only-of-type {\n",
       "        vertical-align: middle;\n",
       "    }\n",
       "\n",
       "    .dataframe tbody tr th {\n",
       "        vertical-align: top;\n",
       "    }\n",
       "\n",
       "    .dataframe thead th {\n",
       "        text-align: right;\n",
       "    }\n",
       "</style>\n",
       "<table border=\"1\" class=\"dataframe\">\n",
       "  <thead>\n",
       "    <tr style=\"text-align: right;\">\n",
       "      <th></th>\n",
       "      <th>id</th>\n",
       "      <th>type</th>\n",
       "      <th>date</th>\n",
       "      <th>actor</th>\n",
       "      <th>actor_id</th>\n",
       "      <th>action</th>\n",
       "      <th>text</th>\n",
       "      <th>title</th>\n",
       "      <th>members</th>\n",
       "      <th>from</th>\n",
       "      <th>from_id</th>\n",
       "      <th>file</th>\n",
       "      <th>thumbnail</th>\n",
       "      <th>media_type</th>\n",
       "      <th>sticker_emoji</th>\n",
       "      <th>width</th>\n",
       "      <th>height</th>\n",
       "      <th>reply_to_message_id</th>\n",
       "      <th>photo</th>\n",
       "      <th>edited</th>\n",
       "      <th>forwarded_from</th>\n",
       "      <th>mime_type</th>\n",
       "      <th>contact_information.first_name</th>\n",
       "      <th>contact_information.last_name</th>\n",
       "      <th>contact_information.phone_number</th>\n",
       "      <th>duration_seconds</th>\n",
       "      <th>via_bot</th>\n",
       "      <th>contact_vcard</th>\n",
       "      <th>inviter</th>\n",
       "      <th>message_id</th>\n",
       "      <th>poll.question</th>\n",
       "      <th>poll.closed</th>\n",
       "      <th>poll.total_voters</th>\n",
       "      <th>poll.answers</th>\n",
       "      <th>location_information.latitude</th>\n",
       "      <th>location_information.longitude</th>\n",
       "    </tr>\n",
       "  </thead>\n",
       "  <tbody>\n",
       "    <tr>\n",
       "      <th>60987</th>\n",
       "      <td>73759</td>\n",
       "      <td>message</td>\n",
       "      <td>2021-03-24T09:52:51</td>\n",
       "      <td>NaN</td>\n",
       "      <td>NaN</td>\n",
       "      <td>NaN</td>\n",
       "      <td>мойка проходит в несколько этапов: сначала сби...</td>\n",
       "      <td>NaN</td>\n",
       "      <td>NaN</td>\n",
       "      <td>Серёжа</td>\n",
       "      <td>4.801717e+09</td>\n",
       "      <td>NaN</td>\n",
       "      <td>NaN</td>\n",
       "      <td>NaN</td>\n",
       "      <td>NaN</td>\n",
       "      <td>NaN</td>\n",
       "      <td>NaN</td>\n",
       "      <td>NaN</td>\n",
       "      <td>NaN</td>\n",
       "      <td>NaN</td>\n",
       "      <td>NaN</td>\n",
       "      <td>NaN</td>\n",
       "      <td>NaN</td>\n",
       "      <td>NaN</td>\n",
       "      <td>NaN</td>\n",
       "      <td>NaN</td>\n",
       "      <td>NaN</td>\n",
       "      <td>NaN</td>\n",
       "      <td>NaN</td>\n",
       "      <td>NaN</td>\n",
       "      <td>NaN</td>\n",
       "      <td>NaN</td>\n",
       "      <td>NaN</td>\n",
       "      <td>NaN</td>\n",
       "      <td>NaN</td>\n",
       "      <td>NaN</td>\n",
       "    </tr>\n",
       "    <tr>\n",
       "      <th>60988</th>\n",
       "      <td>73764</td>\n",
       "      <td>message</td>\n",
       "      <td>2021-03-24T10:08:35</td>\n",
       "      <td>NaN</td>\n",
       "      <td>NaN</td>\n",
       "      <td>NaN</td>\n",
       "      <td>Спасибо большое! Попробую сегодня</td>\n",
       "      <td>NaN</td>\n",
       "      <td>NaN</td>\n",
       "      <td>ИриШок</td>\n",
       "      <td>5.225578e+09</td>\n",
       "      <td>NaN</td>\n",
       "      <td>NaN</td>\n",
       "      <td>NaN</td>\n",
       "      <td>NaN</td>\n",
       "      <td>NaN</td>\n",
       "      <td>NaN</td>\n",
       "      <td>73759.0</td>\n",
       "      <td>NaN</td>\n",
       "      <td>NaN</td>\n",
       "      <td>NaN</td>\n",
       "      <td>NaN</td>\n",
       "      <td>NaN</td>\n",
       "      <td>NaN</td>\n",
       "      <td>NaN</td>\n",
       "      <td>NaN</td>\n",
       "      <td>NaN</td>\n",
       "      <td>NaN</td>\n",
       "      <td>NaN</td>\n",
       "      <td>NaN</td>\n",
       "      <td>NaN</td>\n",
       "      <td>NaN</td>\n",
       "      <td>NaN</td>\n",
       "      <td>NaN</td>\n",
       "      <td>NaN</td>\n",
       "      <td>NaN</td>\n",
       "    </tr>\n",
       "    <tr>\n",
       "      <th>60989</th>\n",
       "      <td>73765</td>\n",
       "      <td>message</td>\n",
       "      <td>2021-03-24T10:08:35</td>\n",
       "      <td>NaN</td>\n",
       "      <td>NaN</td>\n",
       "      <td>NaN</td>\n",
       "      <td>[{'type': 'mention_name', 'text': 'Серёжа', 'u...</td>\n",
       "      <td>NaN</td>\n",
       "      <td>NaN</td>\n",
       "      <td>ChatKeeperBot</td>\n",
       "      <td>4.848115e+09</td>\n",
       "      <td>NaN</td>\n",
       "      <td>NaN</td>\n",
       "      <td>NaN</td>\n",
       "      <td>NaN</td>\n",
       "      <td>NaN</td>\n",
       "      <td>NaN</td>\n",
       "      <td>73759.0</td>\n",
       "      <td>NaN</td>\n",
       "      <td>NaN</td>\n",
       "      <td>NaN</td>\n",
       "      <td>NaN</td>\n",
       "      <td>NaN</td>\n",
       "      <td>NaN</td>\n",
       "      <td>NaN</td>\n",
       "      <td>NaN</td>\n",
       "      <td>NaN</td>\n",
       "      <td>NaN</td>\n",
       "      <td>NaN</td>\n",
       "      <td>NaN</td>\n",
       "      <td>NaN</td>\n",
       "      <td>NaN</td>\n",
       "      <td>NaN</td>\n",
       "      <td>NaN</td>\n",
       "      <td>NaN</td>\n",
       "      <td>NaN</td>\n",
       "    </tr>\n",
       "  </tbody>\n",
       "</table>\n",
       "</div>"
      ],
      "text/plain": [
       "          id     type                 date actor  actor_id action  \\\n",
       "60987  73759  message  2021-03-24T09:52:51   NaN       NaN    NaN   \n",
       "60988  73764  message  2021-03-24T10:08:35   NaN       NaN    NaN   \n",
       "60989  73765  message  2021-03-24T10:08:35   NaN       NaN    NaN   \n",
       "\n",
       "                                                    text title members  \\\n",
       "60987  мойка проходит в несколько этапов: сначала сби...   NaN     NaN   \n",
       "60988                  Спасибо большое! Попробую сегодня   NaN     NaN   \n",
       "60989  [{'type': 'mention_name', 'text': 'Серёжа', 'u...   NaN     NaN   \n",
       "\n",
       "                from       from_id file thumbnail media_type sticker_emoji  \\\n",
       "60987         Серёжа  4.801717e+09  NaN       NaN        NaN           NaN   \n",
       "60988         ИриШок  5.225578e+09  NaN       NaN        NaN           NaN   \n",
       "60989  ChatKeeperBot  4.848115e+09  NaN       NaN        NaN           NaN   \n",
       "\n",
       "       width  height  reply_to_message_id photo edited forwarded_from  \\\n",
       "60987    NaN     NaN                  NaN   NaN    NaN            NaN   \n",
       "60988    NaN     NaN              73759.0   NaN    NaN            NaN   \n",
       "60989    NaN     NaN              73759.0   NaN    NaN            NaN   \n",
       "\n",
       "      mime_type contact_information.first_name contact_information.last_name  \\\n",
       "60987       NaN                            NaN                           NaN   \n",
       "60988       NaN                            NaN                           NaN   \n",
       "60989       NaN                            NaN                           NaN   \n",
       "\n",
       "      contact_information.phone_number  duration_seconds via_bot  \\\n",
       "60987                              NaN               NaN     NaN   \n",
       "60988                              NaN               NaN     NaN   \n",
       "60989                              NaN               NaN     NaN   \n",
       "\n",
       "      contact_vcard inviter  message_id poll.question poll.closed  \\\n",
       "60987           NaN     NaN         NaN           NaN         NaN   \n",
       "60988           NaN     NaN         NaN           NaN         NaN   \n",
       "60989           NaN     NaN         NaN           NaN         NaN   \n",
       "\n",
       "       poll.total_voters poll.answers  location_information.latitude  \\\n",
       "60987                NaN          NaN                            NaN   \n",
       "60988                NaN          NaN                            NaN   \n",
       "60989                NaN          NaN                            NaN   \n",
       "\n",
       "       location_information.longitude  \n",
       "60987                             NaN  \n",
       "60988                             NaN  \n",
       "60989                             NaN  "
      ]
     },
     "execution_count": 7,
     "metadata": {},
     "output_type": "execute_result"
    }
   ],
   "source": [
    "ham = pd.json_normalize(ham_raw.iloc[:, 3])\n",
    "pd.set_option('display.max_columns', 50)\n",
    "ham.tail(3)"
   ]
  },
  {
   "cell_type": "markdown",
   "metadata": {},
   "source": [
    "Пример предпоследнего сообщения"
   ]
  },
  {
   "cell_type": "code",
   "execution_count": 8,
   "metadata": {
    "ExecuteTime": {
     "end_time": "2021-03-25T07:40:20.622561Z",
     "start_time": "2021-03-25T07:40:20.602640Z"
    }
   },
   "outputs": [
    {
     "data": {
      "text/plain": [
       "'Спасибо большое! Попробую сегодня'"
      ]
     },
     "execution_count": 8,
     "metadata": {},
     "output_type": "execute_result"
    }
   ],
   "source": [
    "ham['text'][60988]"
   ]
  },
  {
   "cell_type": "markdown",
   "metadata": {},
   "source": [
    "Пример последнего сообщения от бота"
   ]
  },
  {
   "cell_type": "code",
   "execution_count": 9,
   "metadata": {
    "ExecuteTime": {
     "end_time": "2021-03-25T07:40:32.797233Z",
     "start_time": "2021-03-25T07:40:32.776502Z"
    }
   },
   "outputs": [
    {
     "data": {
      "text/plain": [
       "[{'type': 'mention_name', 'text': 'Серёжа', 'user_id': 506749612},\n",
       " ', вашу репутацию увеличил ',\n",
       " {'type': 'mention_name', 'text': 'ИриШок', 'user_id': 930610950},\n",
       " '.\\n Ваша репутация 8']"
      ]
     },
     "execution_count": 9,
     "metadata": {},
     "output_type": "execute_result"
    }
   ],
   "source": [
    "ham['text'][60989]"
   ]
  },
  {
   "cell_type": "markdown",
   "metadata": {},
   "source": [
    "Список признаков"
   ]
  },
  {
   "cell_type": "code",
   "execution_count": 10,
   "metadata": {
    "ExecuteTime": {
     "end_time": "2021-03-25T07:40:38.304964Z",
     "start_time": "2021-03-25T07:40:38.283584Z"
    }
   },
   "outputs": [
    {
     "data": {
      "text/plain": [
       "Index(['id', 'type', 'date', 'actor', 'actor_id', 'action', 'text', 'title',\n",
       "       'members', 'from', 'from_id', 'file', 'thumbnail', 'media_type',\n",
       "       'sticker_emoji', 'width', 'height', 'reply_to_message_id', 'photo',\n",
       "       'edited', 'forwarded_from', 'mime_type',\n",
       "       'contact_information.first_name', 'contact_information.last_name',\n",
       "       'contact_information.phone_number', 'duration_seconds', 'via_bot',\n",
       "       'contact_vcard', 'inviter', 'message_id', 'poll.question',\n",
       "       'poll.closed', 'poll.total_voters', 'poll.answers',\n",
       "       'location_information.latitude', 'location_information.longitude'],\n",
       "      dtype='object')"
      ]
     },
     "execution_count": 10,
     "metadata": {},
     "output_type": "execute_result"
    }
   ],
   "source": [
    "ham.columns"
   ]
  },
  {
   "cell_type": "markdown",
   "metadata": {},
   "source": [
    "Уникальные значения по некоторым признакам"
   ]
  },
  {
   "cell_type": "code",
   "execution_count": 11,
   "metadata": {
    "ExecuteTime": {
     "end_time": "2021-03-25T07:40:43.864853Z",
     "start_time": "2021-03-25T07:40:43.514090Z"
    }
   },
   "outputs": [
    {
     "name": "stdout",
     "output_type": "stream",
     "text": [
      "id [-999996617          1         99 ...      73759      73764      73765]\n",
      "type ['service' 'message']\n",
      "date ['2016-08-26T12:01:01' '2016-09-01T18:04:20' '2016-09-01T18:07:07' ...\n",
      " '2021-03-24T09:48:16' '2021-03-24T09:52:51' '2021-03-24T10:08:35']\n",
      "actor_id [4.49716059e+09 9.66694934e+09 4.48584734e+09 ... 4.86776919e+09\n",
      " 5.43563062e+09 5.47227313e+09]\n",
      "action ['migrate_to_supergroup' 'migrate_from_group' 'invite_members' nan\n",
      " 'remove_members' 'join_group_by_link' 'pin_message' 'group_call'\n",
      " 'invite_to_group_call']\n",
      "from_id [           nan 4.47956145e+09 4.55065251e+09 ... 5.37073416e+09\n",
      " 5.95687004e+09 5.75695058e+09]\n",
      "file [nan '(File not included. Change data exporting settings to download.)']\n",
      "thumbnail [nan '(File not included. Change data exporting settings to download.)']\n",
      "media_type [nan 'sticker' 'video_file' 'animation' 'voice_message' 'video_message'\n",
      " 'audio_file']\n",
      "sticker_emoji [nan '😠' '💩' '🎉' '🌚' '😊' '🙈' '😒' '🎮' '😂' '🙄' '👈' '😳' '🤔' '😌' '😞' '😋' '😍'\n",
      " '☺️' '😁' '👍' '✌' '💐' '😡' '🔥' '😐' '🏃' '🍞' '📷' '😈' '😱' '🐓' '🖕' '🐟' '✋' '🚢'\n",
      " '👆' '😖' '🔩' '😝' '😅' '💋' '👀' '☀' '😏' '✨' '😃' '🌙' '🐼' '🍔' '✂' '😵' '🏮' '😎'\n",
      " '👦' '👲' '👻' '😬' '😔' '👑' '🍻' '🌰' '🌱' '🚬' '👋' '👱' '😮' '🎪' '😰' '😢' '😯' '😦'\n",
      " '💻' '🐕' '🍰' '👿' '🔪' '🚨' '👮' '🍩' '✊' '😴' '🌺' '😜' '😕' '😆' '👌' '💭' '😶' '😚'\n",
      " '😘' '😗' '⚔' '😭' '👔' '💪' '🙊' '🙅' '🤦' '⛹' '🤓' '🙌' '🤷' '🤜' '📞' '🏅' '😧'\n",
      " '🤷\\u200d♀️' '🐷' '❤' '😼' '😑' '💜' '😲' '🕺' '🖋' '🐣' '🤷\\u200d♂️' '🔧' '💰' '💸'\n",
      " '😨' '👂' '💔' '😫' '🇷🇺' '🙏' '💤' '⚽' '😀' '💃' '🐶' '👏' '👹' '🙀' '😿' '😄'\n",
      " '🤦\\u200d♂️' '💀' '☕️' '🍿' '🌹' '❤️' '🐒' '😉' '🤪' '👎' '🔍' '☹' '🔫' '💏' '🍸' '💵'\n",
      " '🤫' '☝' '💑' '🤗' '✊️' '🙃' '🦠' '🥺' '🍳' '🤑' '❗️' '🤟' '😤' '🤨']\n",
      "reply_to_message_id [   nan   171.   202. ... 73753. 73755. 73759.]\n",
      "photo [nan '(File not included. Change data exporting settings to download.)']\n",
      "edited [nan '2016-09-09T17:10:31' '2016-09-10T13:52:01' ... '2021-03-23T22:16:50'\n",
      " '2021-03-23T23:50:56' '2021-03-24T08:33:24']\n",
      "mime_type [nan\n",
      " 'application/vnd.openxmlformats-officedocument.wordprocessingml.document'\n",
      " 'application/pdf' 'video/mp4' 'image/png' 'image/jpeg' 'audio/ogg'\n",
      " 'application/octet-stream' 'image/gif' 'text/rtf' 'audio/mpeg'\n",
      " 'video/ext-mp4' 'application/zip']\n",
      "contact_information.first_name [nan 'Лиза Строителей' 'Лидер Эксплуатация' 'Участковый'\n",
      " 'Call-центр Лидер' 'Алексей юрьевич' 'Диспетчерская' 'Сергей Сантехн.'\n",
      " 'Ольга' 'Нина' 'УК' 'Дежурный Гибдд' 'Виктор Ветеринар'\n",
      " 'Участков Ни Евг Ник Пучков' '' 'ЛидерЭкспл' 'ВетАнгел'\n",
      " 'Елена Чат Подъезда' 'УК КОМФОРТ'\n",
      " 'Участковый Новое Измайлово Евгений Николаевич' 'Лидия' 'Дамир'\n",
      " 'Стилист-Нумеролог Елена' 'НИ Электрик-Сантехник Стр3 Сергей'\n",
      " 'Ремонт Посудомойки+Стиралка' 'Денис' 'Анна' 'Букеты'\n",
      " 'Наталья Сакраменто Массаж' 'Величко Ав' 'Илья' 'Марина Юник' 'Валентина'\n",
      " 'Студия' 'Полицейская-колонкисты' 'Стилист-Нумеролог'\n",
      " 'Катя-Ситникова,4-110 Кв' 'Лилит Рабочий' 'Ремонт Телевизора Сергей'\n",
      " 'Шары НИ' 'Елена-парикмахер НИ' 'РЭУ' 'Юля Брови' 'ЕДС'\n",
      " 'Артур НИ Поверка' 'Саша Сантехник, НИ' 'Гарик']\n",
      "contact_information.last_name [nan '3' '' 'Новая' 'наш' 'Бухгалтерия' 'Call-центр' 'Эвакуатор'\n",
      " 'Дисптечерская УК' 'Консьерж' 'Массаж Спины' 'недорого' 'Семён'\n",
      " 'Мастер Стиралка' 'Страхование' 'Новоизмайлово' 'Парикмахерская' 'Шарики'\n",
      " 'Сюрприз' 'Елена' 'Людмила' 'Садовый' 'Реутов' '2020']\n",
      "contact_information.phone_number [nan '+7 906 097 90 74' '+7 495 744 55 88' '+7 999 010 31 50'\n",
      " '+89990103150' '+89151706613' '+7 905 515 52 74' '+7 916 853 82 74'\n",
      " '+7 915 467 48 42' '+84 957445588' '+84 955219902' '+7 985 344 11 42'\n",
      " '+7 965 436 72 25' '+7 915 170 66 13' '+7 916 910 55 70' '+89164341162'\n",
      " '+7 495 737 77 40' '+7 915 405 91 77' '+7 906 378 63 77'\n",
      " '+7 925 378 45 62' '+7 915 228 37 48' '+89261563757' '+7 926 870 15 55'\n",
      " '+7 926 073 63 26' '+7 903 677 52 00' '+7 967 657 67 22'\n",
      " '+7 968 051 78 88' '+7 916 375 94 06' '+7 926 574 47 20'\n",
      " '+7 917 504 45 80' '+7 916 437 13 31' '+7 925 699 16 09'\n",
      " '+7 968 797 32 07' '+7 926 858 69 46' '+89091546365' '+7 495 777 60 00'\n",
      " '+7 916 005 89 39' '+7 498 650 25 46' '+7 903 016 54 27'\n",
      " '+7 966 013 79 11' '+7 903 495 30 17']\n",
      "duration_seconds [ nan  68.  38.   1.  13.   4.   3.   5.   6.  14.   9.  24.  19.   8.\n",
      "  10.  12.  32. 152.  35.   7.  29. 345.  27.  96.  58.  79.  22.   2.\n",
      "  51.  37.  28.  20.  15.  18.  74. 151.  16.  31.  46.  57.  39.  21.\n",
      " 103.  30.  67.  77.  49.  47. 116.  11. 175.  33.  26.  36.  54.  61.\n",
      "  99.  44.  41.  52.  72.  83.  23.  87.  56.  62.  17.  25. 127.  81.\n",
      " 108. 532.  82.  55. 177.  42.  75. 263.  69.  85.  78. 168.  34.  65.\n",
      " 143. 133. 110. 173. 106.  50. 125.  63.  70. 107.  97.  53. 140. 135.\n",
      " 156. 119.  40.  60.  43.  89.]\n",
      "via_bot [nan '@gif' '@vote']\n",
      "inviter [nan 'Group']\n",
      "message_id [   nan 50413. 52002. 53291.]\n",
      "poll.question [nan 'Мешает ли в чате:'\n",
      " 'Новоизмайловский квиз. Какое было первое название у нашего микрорайона?']\n",
      "poll.closed [nan False]\n",
      "poll.total_voters [ nan 109. 111.]\n",
      "location_information.latitude [      nan 55.789003 55.810251]\n",
      "location_information.longitude [      nan 37.883185 37.891219]\n"
     ]
    }
   ],
   "source": [
    "all_cols = ['id', 'type', 'date', 'actor', 'actor_id', 'action', 'text', 'title',\n",
    "       'members', 'from', 'from_id', 'file', 'thumbnail', 'media_type',\n",
    "       'sticker_emoji', 'width', 'height', 'reply_to_message_id', 'photo',\n",
    "       'edited', 'forwarded_from', 'mime_type',\n",
    "       'contact_information.first_name', 'contact_information.last_name',\n",
    "       'contact_information.phone_number', 'duration_seconds', 'via_bot',\n",
    "       'contact_vcard', 'inviter', 'message_id', 'poll.question',\n",
    "       'poll.closed', 'poll.total_voters', 'poll.answers',\n",
    "       'location_information.latitude', 'location_information.longitude']\n",
    "\n",
    "some_cols = ['id', 'type', 'date', 'actor_id', 'action',  \n",
    "         'from_id', 'file', 'thumbnail', 'media_type',\n",
    "       'sticker_emoji', 'reply_to_message_id', 'photo',\n",
    "       'edited',  'mime_type',\n",
    "       'contact_information.first_name', 'contact_information.last_name',\n",
    "       'contact_information.phone_number', 'duration_seconds', 'via_bot',\n",
    "        'inviter', 'message_id', 'poll.question',\n",
    "       'poll.closed', 'poll.total_voters', \n",
    "       'location_information.latitude', 'location_information.longitude']\n",
    "\n",
    "for col in some_cols:\n",
    "    print(col, ham[col].unique())"
   ]
  }
 ],
 "metadata": {
  "kernelspec": {
   "display_name": "Python 3",
   "language": "python",
   "name": "python3"
  },
  "language_info": {
   "codemirror_mode": {
    "name": "ipython",
    "version": 3
   },
   "file_extension": ".py",
   "mimetype": "text/x-python",
   "name": "python",
   "nbconvert_exporter": "python",
   "pygments_lexer": "ipython3",
   "version": "3.8.5"
  },
  "toc": {
   "base_numbering": 1,
   "nav_menu": {},
   "number_sections": true,
   "sideBar": true,
   "skip_h1_title": false,
   "title_cell": "Table of Contents",
   "title_sidebar": "Contents",
   "toc_cell": false,
   "toc_position": {},
   "toc_section_display": true,
   "toc_window_display": false
  },
  "varInspector": {
   "cols": {
    "lenName": 16,
    "lenType": 16,
    "lenVar": 40
   },
   "kernels_config": {
    "python": {
     "delete_cmd_postfix": "",
     "delete_cmd_prefix": "del ",
     "library": "var_list.py",
     "varRefreshCmd": "print(var_dic_list())"
    },
    "r": {
     "delete_cmd_postfix": ") ",
     "delete_cmd_prefix": "rm(",
     "library": "var_list.r",
     "varRefreshCmd": "cat(var_dic_list()) "
    }
   },
   "types_to_exclude": [
    "module",
    "function",
    "builtin_function_or_method",
    "instance",
    "_Feature"
   ],
   "window_display": false
  }
 },
 "nbformat": 4,
 "nbformat_minor": 2
}
