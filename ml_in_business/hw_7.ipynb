{
 "cells": [
  {
   "cell_type": "markdown",
   "metadata": {},
   "source": [
    "## Домашнее задание в процессе выполнения..."
   ]
  },
  {
   "cell_type": "markdown",
   "metadata": {},
   "source": [
    "**Практическое задание:**:\n",
    "1. Взять любой набор данных для бинарной классификации (можно скачать один из модельных с https://archive.ics.uci.edu/ml/datasets.php)\n",
    "2. сделать обзорный анализ выбранного датасета\n",
    "3. сделать feature engineering\n",
    "4. обучить любой классификатор (какой вам нравится)\n",
    "5. разобраться с SHAP и построить важности признаков для:\n",
    "-  всего тестового набора данных (summary_plot - дать интерпретацию)\n",
    "-  для топ 10% (сортировка по убыванию вероятности - таргета)\n",
    "6. для отдельных наблюдений вывести force_plot и попытаться проинтерпретировать результат\n",
    "7. (опциональное задание) для примера из вебинара (model A, model B) рассчитать shap-значения для точки {Fever=1, Cough=0}\n",
    "\n",
    "**Ссылки**:\n",
    "1. Пример с Permutation Importance - https://www.kaggle.com/dansbecker/permutation-importance\n",
    "2. Github проекта SHAP - https://github.com/slundberg/shap\n",
    "3. https://arxiv.org/pdf/1809.04559.pdf\n",
    "4. https://medium.com/civis-analytics/demystifying-black-box-models-with-shap-value-analysis-3e20b536fc80\n",
    "5. https://en.wikipedia.org/wiki/Shapley_value\n",
    "\n",
    "**Feature selection**:\n",
    "1. RFE - recursive feature elimination (есть в sklearn)\n",
    "2. Boruta - shadow features\n",
    "3. Target permutation"
   ]
  }
 ],
 "metadata": {
  "kernelspec": {
   "display_name": "Python 3",
   "language": "python",
   "name": "python3"
  },
  "language_info": {
   "codemirror_mode": {
    "name": "ipython",
    "version": 3
   },
   "file_extension": ".py",
   "mimetype": "text/x-python",
   "name": "python",
   "nbconvert_exporter": "python",
   "pygments_lexer": "ipython3",
   "version": "3.8.5"
  },
  "toc": {
   "base_numbering": 1,
   "nav_menu": {},
   "number_sections": false,
   "sideBar": true,
   "skip_h1_title": false,
   "title_cell": "Table of Contents",
   "title_sidebar": "Contents",
   "toc_cell": false,
   "toc_position": {},
   "toc_section_display": true,
   "toc_window_display": false
  },
  "varInspector": {
   "cols": {
    "lenName": 16,
    "lenType": 16,
    "lenVar": 40
   },
   "kernels_config": {
    "python": {
     "delete_cmd_postfix": "",
     "delete_cmd_prefix": "del ",
     "library": "var_list.py",
     "varRefreshCmd": "print(var_dic_list())"
    },
    "r": {
     "delete_cmd_postfix": ") ",
     "delete_cmd_prefix": "rm(",
     "library": "var_list.r",
     "varRefreshCmd": "cat(var_dic_list()) "
    }
   },
   "types_to_exclude": [
    "module",
    "function",
    "builtin_function_or_method",
    "instance",
    "_Feature"
   ],
   "window_display": false
  }
 },
 "nbformat": 4,
 "nbformat_minor": 4
}
