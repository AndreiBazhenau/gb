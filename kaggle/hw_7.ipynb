{
 "cells": [
  {
   "cell_type": "markdown",
   "metadata": {},
   "source": [
    "Чтобы было больше времени на выполнение курсовой работы, задание выполнить **на наборе данных для соревнования**:\n",
    "\n",
    "**`Тестовая выборка`** - это выборка для применения модели и загрузки на ЛБ."
   ]
  },
  {
   "cell_type": "code",
   "execution_count": 1,
   "metadata": {
    "ExecuteTime": {
     "end_time": "2021-04-22T17:17:36.599728Z",
     "start_time": "2021-04-22T17:17:34.956217Z"
    }
   },
   "outputs": [],
   "source": [
    "from tqdm import tqdm\n",
    "import time\n",
    "from typing import List, Tuple\n",
    "\n",
    "import numpy as np\n",
    "import pandas as pd\n",
    "import seaborn as sns\n",
    "import matplotlib as mpl\n",
    "import matplotlib.pyplot as plt\n",
    "%matplotlib inline\n",
    "# большая чёткость графиков\n",
    "#%config InlineBackend.figure_format = 'svg'\n",
    "#plt.savefig(\"High resoltion.png\",dpi=600)\n",
    "\n",
    "import scipy.stats as st\n",
    "from scipy.stats import probplot, ks_2samp, gmean, rankdata\n",
    "\n",
    "import xgboost as xgb\n",
    "import lightgbm as lgb\n",
    "import catboost as cb\n",
    "from catboost import Pool\n",
    "from catboost.utils import get_roc_curve\n",
    "\n",
    "from sklearn.ensemble import RandomForestRegressor\n",
    "from sklearn import preprocessing\n",
    "from sklearn.preprocessing import StandardScaler, LabelEncoder\n",
    "from sklearn.pipeline import Pipeline, FeatureUnion, make_pipeline\n",
    "from sklearn.base import BaseEstimator, TransformerMixin\n",
    "from sklearn.utils.validation import check_is_fitted\n",
    "from sklearn.model_selection import KFold, StratifiedKFold, train_test_split, cross_val_score\n",
    "from sklearn.metrics import (roc_auc_score, recall_score, accuracy_score, auc, classification_report, \\\n",
    "                            confusion_matrix, plot_confusion_matrix, precision_recall_curve, \\\n",
    "                            plot_precision_recall_curve, roc_curve, plot_roc_curve)\n",
    "import copy\n",
    "import missingno as msno\n",
    "\n",
    "import os, sys\n",
    "module_path = os.path.abspath(os.path.join(os.pardir))\n",
    "if module_path not in sys.path:\n",
    "    sys.path.append(module_path)\n",
    "from src.processing import ColumnSelector, NumberSelector, OHEEncoder, get_num_features, get_cat_features"
   ]
  },
  {
   "cell_type": "markdown",
   "metadata": {},
   "source": [
    "## Загрузка данных"
   ]
  },
  {
   "cell_type": "code",
   "execution_count": 2,
   "metadata": {
    "ExecuteTime": {
     "end_time": "2021-04-22T17:17:42.878306Z",
     "start_time": "2021-04-22T17:17:36.600615Z"
    }
   },
   "outputs": [
    {
     "name": "stdout",
     "output_type": "stream",
     "text": [
      "train.shape = 110093 rows, 3 cols\n",
      "test.shape = 165141 rows, 2 cols\n",
      "bki.shape = 165141 rows, 2 cols\n",
      "client_profile.shape = 165141 rows, 2 cols\n",
      "payments.shape = 165141 rows, 2 cols\n",
      "applications_history.shape = 165141 rows, 2 cols\n"
     ]
    }
   ],
   "source": [
    "train = pd.read_csv(\"../../data/kaggle/gb_competitive_data_analysis/train.csv\")\n",
    "test = pd.read_csv(\"../../data/kaggle/gb_competitive_data_analysis/test.csv\")\n",
    "bki = pd.read_csv(\"../../data/kaggle/gb_competitive_data_analysis/bki.csv\")\n",
    "client_profile = pd.read_csv(\"../../data/kaggle/gb_competitive_data_analysis/client_profile.csv\")\n",
    "payments = pd.read_csv(\"../../data/kaggle/gb_competitive_data_analysis/payments.csv\")\n",
    "applications_history = pd.read_csv(\"../../data/kaggle/gb_competitive_data_analysis/applications_history.csv\")\n",
    "\n",
    "print(\"train.shape = {} rows, {} cols\".format(*train.shape))\n",
    "print(\"test.shape = {} rows, {} cols\".format(*test.shape))\n",
    "print(\"bki.shape = {} rows, {} cols\".format(*test.shape))\n",
    "print(\"client_profile.shape = {} rows, {} cols\".format(*test.shape))\n",
    "print(\"payments.shape = {} rows, {} cols\".format(*test.shape))\n",
    "print(\"applications_history.shape = {} rows, {} cols\".format(*test.shape))"
   ]
  },
  {
   "cell_type": "code",
   "execution_count": 3,
   "metadata": {
    "ExecuteTime": {
     "end_time": "2021-04-22T17:17:42.893942Z",
     "start_time": "2021-04-22T17:17:42.880306Z"
    }
   },
   "outputs": [],
   "source": [
    "# \n",
    "df_list = [train, test, bki, client_profile, payments, applications_history]"
   ]
  },
  {
   "cell_type": "markdown",
   "metadata": {},
   "source": [
    "## Краткий обзор признаков"
   ]
  },
  {
   "cell_type": "markdown",
   "metadata": {},
   "source": [
    "### Train"
   ]
  },
  {
   "cell_type": "code",
   "execution_count": 4,
   "metadata": {
    "ExecuteTime": {
     "end_time": "2021-04-22T17:17:42.925943Z",
     "start_time": "2021-04-22T17:17:42.894941Z"
    }
   },
   "outputs": [
    {
     "name": "stdout",
     "output_type": "stream",
     "text": [
      "train.shape = 110093 rows, 3 cols\n"
     ]
    },
    {
     "data": {
      "text/html": [
       "<div>\n",
       "<style scoped>\n",
       "    .dataframe tbody tr th:only-of-type {\n",
       "        vertical-align: middle;\n",
       "    }\n",
       "\n",
       "    .dataframe tbody tr th {\n",
       "        vertical-align: top;\n",
       "    }\n",
       "\n",
       "    .dataframe thead th {\n",
       "        text-align: right;\n",
       "    }\n",
       "</style>\n",
       "<table border=\"1\" class=\"dataframe\">\n",
       "  <thead>\n",
       "    <tr style=\"text-align: right;\">\n",
       "      <th></th>\n",
       "      <th>APPLICATION_NUMBER</th>\n",
       "      <th>TARGET</th>\n",
       "      <th>NAME_CONTRACT_TYPE</th>\n",
       "    </tr>\n",
       "  </thead>\n",
       "  <tbody>\n",
       "    <tr>\n",
       "      <th>0</th>\n",
       "      <td>123687442</td>\n",
       "      <td>0</td>\n",
       "      <td>Cash</td>\n",
       "    </tr>\n",
       "    <tr>\n",
       "      <th>1</th>\n",
       "      <td>123597908</td>\n",
       "      <td>1</td>\n",
       "      <td>Cash</td>\n",
       "    </tr>\n",
       "    <tr>\n",
       "      <th>2</th>\n",
       "      <td>123526683</td>\n",
       "      <td>0</td>\n",
       "      <td>Cash</td>\n",
       "    </tr>\n",
       "    <tr>\n",
       "      <th>3</th>\n",
       "      <td>123710391</td>\n",
       "      <td>1</td>\n",
       "      <td>Cash</td>\n",
       "    </tr>\n",
       "    <tr>\n",
       "      <th>4</th>\n",
       "      <td>123590329</td>\n",
       "      <td>1</td>\n",
       "      <td>Cash</td>\n",
       "    </tr>\n",
       "  </tbody>\n",
       "</table>\n",
       "</div>"
      ],
      "text/plain": [
       "   APPLICATION_NUMBER  TARGET NAME_CONTRACT_TYPE\n",
       "0           123687442       0               Cash\n",
       "1           123597908       1               Cash\n",
       "2           123526683       0               Cash\n",
       "3           123710391       1               Cash\n",
       "4           123590329       1               Cash"
      ]
     },
     "execution_count": 4,
     "metadata": {},
     "output_type": "execute_result"
    }
   ],
   "source": [
    "print(\"train.shape = {} rows, {} cols\".format(*train.shape))\n",
    "train.head()"
   ]
  },
  {
   "cell_type": "code",
   "execution_count": 5,
   "metadata": {
    "ExecuteTime": {
     "end_time": "2021-04-22T17:17:42.940944Z",
     "start_time": "2021-04-22T17:17:42.926944Z"
    }
   },
   "outputs": [
    {
     "data": {
      "text/plain": [
       "array(['Cash', 'Credit Card'], dtype=object)"
      ]
     },
     "execution_count": 5,
     "metadata": {},
     "output_type": "execute_result"
    }
   ],
   "source": [
    "train['NAME_CONTRACT_TYPE'].unique()"
   ]
  },
  {
   "cell_type": "code",
   "execution_count": 6,
   "metadata": {
    "ExecuteTime": {
     "end_time": "2021-04-22T17:17:42.971944Z",
     "start_time": "2021-04-22T17:17:42.941945Z"
    }
   },
   "outputs": [
    {
     "name": "stdout",
     "output_type": "stream",
     "text": [
      "<class 'pandas.core.frame.DataFrame'>\n",
      "RangeIndex: 110093 entries, 0 to 110092\n",
      "Data columns (total 3 columns):\n",
      " #   Column              Non-Null Count   Dtype \n",
      "---  ------              --------------   ----- \n",
      " 0   APPLICATION_NUMBER  110093 non-null  int64 \n",
      " 1   TARGET              110093 non-null  int64 \n",
      " 2   NAME_CONTRACT_TYPE  110093 non-null  object\n",
      "dtypes: int64(2), object(1)\n",
      "memory usage: 2.5+ MB\n"
     ]
    }
   ],
   "source": [
    "train.info()"
   ]
  },
  {
   "cell_type": "code",
   "execution_count": 7,
   "metadata": {
    "ExecuteTime": {
     "end_time": "2021-04-22T17:17:43.002943Z",
     "start_time": "2021-04-22T17:17:42.972962Z"
    }
   },
   "outputs": [
    {
     "data": {
      "text/plain": [
       "False    110093\n",
       "dtype: int64"
      ]
     },
     "execution_count": 7,
     "metadata": {},
     "output_type": "execute_result"
    }
   ],
   "source": [
    "train.duplicated(subset=['APPLICATION_NUMBER']).value_counts()"
   ]
  },
  {
   "cell_type": "markdown",
   "metadata": {},
   "source": [
    "**train: пропусков нет, дубликатов нет**"
   ]
  },
  {
   "cell_type": "markdown",
   "metadata": {},
   "source": [
    "### Test"
   ]
  },
  {
   "cell_type": "code",
   "execution_count": 8,
   "metadata": {
    "ExecuteTime": {
     "end_time": "2021-04-22T17:17:43.018943Z",
     "start_time": "2021-04-22T17:17:43.005941Z"
    }
   },
   "outputs": [
    {
     "name": "stdout",
     "output_type": "stream",
     "text": [
      "test.shape = 165141 rows, 2 cols\n"
     ]
    },
    {
     "data": {
      "text/html": [
       "<div>\n",
       "<style scoped>\n",
       "    .dataframe tbody tr th:only-of-type {\n",
       "        vertical-align: middle;\n",
       "    }\n",
       "\n",
       "    .dataframe tbody tr th {\n",
       "        vertical-align: top;\n",
       "    }\n",
       "\n",
       "    .dataframe thead th {\n",
       "        text-align: right;\n",
       "    }\n",
       "</style>\n",
       "<table border=\"1\" class=\"dataframe\">\n",
       "  <thead>\n",
       "    <tr style=\"text-align: right;\">\n",
       "      <th></th>\n",
       "      <th>APPLICATION_NUMBER</th>\n",
       "      <th>NAME_CONTRACT_TYPE</th>\n",
       "    </tr>\n",
       "  </thead>\n",
       "  <tbody>\n",
       "    <tr>\n",
       "      <th>0</th>\n",
       "      <td>123724268</td>\n",
       "      <td>Cash</td>\n",
       "    </tr>\n",
       "    <tr>\n",
       "      <th>1</th>\n",
       "      <td>123456549</td>\n",
       "      <td>Cash</td>\n",
       "    </tr>\n",
       "    <tr>\n",
       "      <th>2</th>\n",
       "      <td>123428178</td>\n",
       "      <td>Credit Card</td>\n",
       "    </tr>\n",
       "    <tr>\n",
       "      <th>3</th>\n",
       "      <td>123619984</td>\n",
       "      <td>Cash</td>\n",
       "    </tr>\n",
       "    <tr>\n",
       "      <th>4</th>\n",
       "      <td>123671104</td>\n",
       "      <td>Cash</td>\n",
       "    </tr>\n",
       "  </tbody>\n",
       "</table>\n",
       "</div>"
      ],
      "text/plain": [
       "   APPLICATION_NUMBER NAME_CONTRACT_TYPE\n",
       "0           123724268               Cash\n",
       "1           123456549               Cash\n",
       "2           123428178        Credit Card\n",
       "3           123619984               Cash\n",
       "4           123671104               Cash"
      ]
     },
     "execution_count": 8,
     "metadata": {},
     "output_type": "execute_result"
    }
   ],
   "source": [
    "print(\"test.shape = {} rows, {} cols\".format(*test.shape))\n",
    "test.head()"
   ]
  },
  {
   "cell_type": "code",
   "execution_count": 9,
   "metadata": {
    "ExecuteTime": {
     "end_time": "2021-04-22T17:17:43.034945Z",
     "start_time": "2021-04-22T17:17:43.020940Z"
    }
   },
   "outputs": [
    {
     "data": {
      "text/plain": [
       "array(['Cash', 'Credit Card'], dtype=object)"
      ]
     },
     "execution_count": 9,
     "metadata": {},
     "output_type": "execute_result"
    }
   ],
   "source": [
    "test['NAME_CONTRACT_TYPE'].unique()"
   ]
  },
  {
   "cell_type": "code",
   "execution_count": 10,
   "metadata": {
    "ExecuteTime": {
     "end_time": "2021-04-22T17:17:43.050941Z",
     "start_time": "2021-04-22T17:17:43.035945Z"
    }
   },
   "outputs": [
    {
     "name": "stdout",
     "output_type": "stream",
     "text": [
      "<class 'pandas.core.frame.DataFrame'>\n",
      "RangeIndex: 165141 entries, 0 to 165140\n",
      "Data columns (total 2 columns):\n",
      " #   Column              Non-Null Count   Dtype \n",
      "---  ------              --------------   ----- \n",
      " 0   APPLICATION_NUMBER  165141 non-null  int64 \n",
      " 1   NAME_CONTRACT_TYPE  165141 non-null  object\n",
      "dtypes: int64(1), object(1)\n",
      "memory usage: 2.5+ MB\n"
     ]
    }
   ],
   "source": [
    "test.info()"
   ]
  },
  {
   "cell_type": "code",
   "execution_count": 11,
   "metadata": {
    "ExecuteTime": {
     "end_time": "2021-04-22T17:17:43.082944Z",
     "start_time": "2021-04-22T17:17:43.051941Z"
    }
   },
   "outputs": [
    {
     "data": {
      "text/plain": [
       "False    165141\n",
       "dtype: int64"
      ]
     },
     "execution_count": 11,
     "metadata": {},
     "output_type": "execute_result"
    }
   ],
   "source": [
    "test.duplicated(subset=['APPLICATION_NUMBER']).value_counts()"
   ]
  },
  {
   "cell_type": "markdown",
   "metadata": {},
   "source": [
    "**Пропусков нет, дубликатов нет**"
   ]
  },
  {
   "cell_type": "markdown",
   "metadata": {},
   "source": [
    "### BKI"
   ]
  },
  {
   "cell_type": "code",
   "execution_count": 12,
   "metadata": {
    "ExecuteTime": {
     "end_time": "2021-04-22T17:17:43.098942Z",
     "start_time": "2021-04-22T17:17:43.083943Z"
    }
   },
   "outputs": [
    {
     "name": "stdout",
     "output_type": "stream",
     "text": [
      "bki.shape = 945234 rows, 17 cols\n"
     ]
    },
    {
     "data": {
      "text/html": [
       "<div>\n",
       "<style scoped>\n",
       "    .dataframe tbody tr th:only-of-type {\n",
       "        vertical-align: middle;\n",
       "    }\n",
       "\n",
       "    .dataframe tbody tr th {\n",
       "        vertical-align: top;\n",
       "    }\n",
       "\n",
       "    .dataframe thead th {\n",
       "        text-align: right;\n",
       "    }\n",
       "</style>\n",
       "<table border=\"1\" class=\"dataframe\">\n",
       "  <thead>\n",
       "    <tr style=\"text-align: right;\">\n",
       "      <th></th>\n",
       "      <th>APPLICATION_NUMBER</th>\n",
       "      <th>BUREAU_ID</th>\n",
       "      <th>CREDIT_ACTIVE</th>\n",
       "      <th>CREDIT_CURRENCY</th>\n",
       "      <th>DAYS_CREDIT</th>\n",
       "      <th>CREDIT_DAY_OVERDUE</th>\n",
       "      <th>DAYS_CREDIT_ENDDATE</th>\n",
       "      <th>DAYS_ENDDATE_FACT</th>\n",
       "      <th>AMT_CREDIT_MAX_OVERDUE</th>\n",
       "      <th>CNT_CREDIT_PROLONG</th>\n",
       "      <th>AMT_CREDIT_SUM</th>\n",
       "      <th>AMT_CREDIT_SUM_DEBT</th>\n",
       "      <th>AMT_CREDIT_SUM_LIMIT</th>\n",
       "      <th>AMT_CREDIT_SUM_OVERDUE</th>\n",
       "      <th>CREDIT_TYPE</th>\n",
       "      <th>DAYS_CREDIT_UPDATE</th>\n",
       "      <th>AMT_ANNUITY</th>\n",
       "    </tr>\n",
       "  </thead>\n",
       "  <tbody>\n",
       "    <tr>\n",
       "      <th>0</th>\n",
       "      <td>123538884</td>\n",
       "      <td>5223613</td>\n",
       "      <td>Active</td>\n",
       "      <td>currency 1</td>\n",
       "      <td>718.0</td>\n",
       "      <td>0</td>\n",
       "      <td>377.0</td>\n",
       "      <td>NaN</td>\n",
       "      <td>19386.81</td>\n",
       "      <td>0</td>\n",
       "      <td>675000.00</td>\n",
       "      <td>320265.495</td>\n",
       "      <td>0.0</td>\n",
       "      <td>0.0</td>\n",
       "      <td>Consumer credit</td>\n",
       "      <td>39.0</td>\n",
       "      <td>NaN</td>\n",
       "    </tr>\n",
       "    <tr>\n",
       "      <th>1</th>\n",
       "      <td>123436670</td>\n",
       "      <td>6207544</td>\n",
       "      <td>Closed</td>\n",
       "      <td>currency 1</td>\n",
       "      <td>696.0</td>\n",
       "      <td>0</td>\n",
       "      <td>511.0</td>\n",
       "      <td>511.0</td>\n",
       "      <td>0.00</td>\n",
       "      <td>0</td>\n",
       "      <td>93111.66</td>\n",
       "      <td>0.000</td>\n",
       "      <td>0.0</td>\n",
       "      <td>0.0</td>\n",
       "      <td>Consumer credit</td>\n",
       "      <td>505.0</td>\n",
       "      <td>NaN</td>\n",
       "    </tr>\n",
       "    <tr>\n",
       "      <th>2</th>\n",
       "      <td>123589020</td>\n",
       "      <td>6326395</td>\n",
       "      <td>Closed</td>\n",
       "      <td>currency 1</td>\n",
       "      <td>165.0</td>\n",
       "      <td>0</td>\n",
       "      <td>149.0</td>\n",
       "      <td>160.0</td>\n",
       "      <td>NaN</td>\n",
       "      <td>0</td>\n",
       "      <td>36000.00</td>\n",
       "      <td>0.000</td>\n",
       "      <td>0.0</td>\n",
       "      <td>0.0</td>\n",
       "      <td>Consumer credit</td>\n",
       "      <td>150.0</td>\n",
       "      <td>0.0</td>\n",
       "    </tr>\n",
       "    <tr>\n",
       "      <th>3</th>\n",
       "      <td>123494590</td>\n",
       "      <td>6606618</td>\n",
       "      <td>Active</td>\n",
       "      <td>currency 1</td>\n",
       "      <td>55.0</td>\n",
       "      <td>0</td>\n",
       "      <td>310.0</td>\n",
       "      <td>NaN</td>\n",
       "      <td>NaN</td>\n",
       "      <td>0</td>\n",
       "      <td>38664.00</td>\n",
       "      <td>37858.500</td>\n",
       "      <td>NaN</td>\n",
       "      <td>0.0</td>\n",
       "      <td>Consumer credit</td>\n",
       "      <td>15.0</td>\n",
       "      <td>NaN</td>\n",
       "    </tr>\n",
       "    <tr>\n",
       "      <th>4</th>\n",
       "      <td>123446603</td>\n",
       "      <td>5046832</td>\n",
       "      <td>Active</td>\n",
       "      <td>currency 1</td>\n",
       "      <td>358.0</td>\n",
       "      <td>0</td>\n",
       "      <td>35.0</td>\n",
       "      <td>NaN</td>\n",
       "      <td>NaN</td>\n",
       "      <td>0</td>\n",
       "      <td>67500.00</td>\n",
       "      <td>0.000</td>\n",
       "      <td>0.0</td>\n",
       "      <td>0.0</td>\n",
       "      <td>Credit card</td>\n",
       "      <td>116.0</td>\n",
       "      <td>NaN</td>\n",
       "    </tr>\n",
       "  </tbody>\n",
       "</table>\n",
       "</div>"
      ],
      "text/plain": [
       "   APPLICATION_NUMBER  BUREAU_ID CREDIT_ACTIVE CREDIT_CURRENCY  DAYS_CREDIT  \\\n",
       "0           123538884    5223613        Active      currency 1        718.0   \n",
       "1           123436670    6207544        Closed      currency 1        696.0   \n",
       "2           123589020    6326395        Closed      currency 1        165.0   \n",
       "3           123494590    6606618        Active      currency 1         55.0   \n",
       "4           123446603    5046832        Active      currency 1        358.0   \n",
       "\n",
       "   CREDIT_DAY_OVERDUE  DAYS_CREDIT_ENDDATE  DAYS_ENDDATE_FACT  \\\n",
       "0                   0                377.0                NaN   \n",
       "1                   0                511.0              511.0   \n",
       "2                   0                149.0              160.0   \n",
       "3                   0                310.0                NaN   \n",
       "4                   0                 35.0                NaN   \n",
       "\n",
       "   AMT_CREDIT_MAX_OVERDUE  CNT_CREDIT_PROLONG  AMT_CREDIT_SUM  \\\n",
       "0                19386.81                   0       675000.00   \n",
       "1                    0.00                   0        93111.66   \n",
       "2                     NaN                   0        36000.00   \n",
       "3                     NaN                   0        38664.00   \n",
       "4                     NaN                   0        67500.00   \n",
       "\n",
       "   AMT_CREDIT_SUM_DEBT  AMT_CREDIT_SUM_LIMIT  AMT_CREDIT_SUM_OVERDUE  \\\n",
       "0           320265.495                   0.0                     0.0   \n",
       "1                0.000                   0.0                     0.0   \n",
       "2                0.000                   0.0                     0.0   \n",
       "3            37858.500                   NaN                     0.0   \n",
       "4                0.000                   0.0                     0.0   \n",
       "\n",
       "       CREDIT_TYPE  DAYS_CREDIT_UPDATE  AMT_ANNUITY  \n",
       "0  Consumer credit                39.0          NaN  \n",
       "1  Consumer credit               505.0          NaN  \n",
       "2  Consumer credit               150.0          0.0  \n",
       "3  Consumer credit                15.0          NaN  \n",
       "4      Credit card               116.0          NaN  "
      ]
     },
     "execution_count": 12,
     "metadata": {},
     "output_type": "execute_result"
    }
   ],
   "source": [
    "print(\"bki.shape = {} rows, {} cols\".format(*bki.shape))\n",
    "bki.head()"
   ]
  },
  {
   "cell_type": "code",
   "execution_count": 13,
   "metadata": {
    "ExecuteTime": {
     "end_time": "2021-04-22T17:17:43.255940Z",
     "start_time": "2021-04-22T17:17:43.100942Z"
    }
   },
   "outputs": [
    {
     "name": "stdout",
     "output_type": "stream",
     "text": [
      "<class 'pandas.core.frame.DataFrame'>\n",
      "RangeIndex: 945234 entries, 0 to 945233\n",
      "Data columns (total 17 columns):\n",
      " #   Column                  Non-Null Count   Dtype  \n",
      "---  ------                  --------------   -----  \n",
      " 0   APPLICATION_NUMBER      945234 non-null  int64  \n",
      " 1   BUREAU_ID               945234 non-null  int64  \n",
      " 2   CREDIT_ACTIVE           945234 non-null  object \n",
      " 3   CREDIT_CURRENCY         945234 non-null  object \n",
      " 4   DAYS_CREDIT             945234 non-null  float64\n",
      " 5   CREDIT_DAY_OVERDUE      945234 non-null  int64  \n",
      " 6   DAYS_CREDIT_ENDDATE     886797 non-null  float64\n",
      " 7   DAYS_ENDDATE_FACT       596274 non-null  float64\n",
      " 8   AMT_CREDIT_MAX_OVERDUE  326557 non-null  float64\n",
      " 9   CNT_CREDIT_PROLONG      945234 non-null  int64  \n",
      " 10  AMT_CREDIT_SUM          945229 non-null  float64\n",
      " 11  AMT_CREDIT_SUM_DEBT     803483 non-null  float64\n",
      " 12  AMT_CREDIT_SUM_LIMIT    619267 non-null  float64\n",
      " 13  AMT_CREDIT_SUM_OVERDUE  945234 non-null  float64\n",
      " 14  CREDIT_TYPE             945234 non-null  object \n",
      " 15  DAYS_CREDIT_UPDATE      945234 non-null  float64\n",
      " 16  AMT_ANNUITY             269330 non-null  float64\n",
      "dtypes: float64(10), int64(4), object(3)\n",
      "memory usage: 122.6+ MB\n"
     ]
    }
   ],
   "source": [
    "bki.info()"
   ]
  },
  {
   "cell_type": "code",
   "execution_count": 14,
   "metadata": {
    "ExecuteTime": {
     "end_time": "2021-04-22T17:17:43.286942Z",
     "start_time": "2021-04-22T17:17:43.257942Z"
    }
   },
   "outputs": [
    {
     "data": {
      "text/plain": [
       "(['CREDIT_ACTIVE', 'CREDIT_CURRENCY', 'CREDIT_TYPE'], 3)"
      ]
     },
     "execution_count": 14,
     "metadata": {},
     "output_type": "execute_result"
    }
   ],
   "source": [
    "# получим список признаков с категорией object\n",
    "bki_obj_feat = list(bki.loc[:, bki.dtypes == 'object'].columns.values)\n",
    "bki_obj_feat, len(bki_obj_feat)"
   ]
  },
  {
   "cell_type": "code",
   "execution_count": 15,
   "metadata": {
    "ExecuteTime": {
     "end_time": "2021-04-22T17:17:43.462940Z",
     "start_time": "2021-04-22T17:17:43.288942Z"
    }
   },
   "outputs": [
    {
     "name": "stdout",
     "output_type": "stream",
     "text": [
      "CREDIT_ACTIVE: ['Active' 'Closed' 'Sold' 'Bad debt'] \n",
      "\n",
      "CREDIT_CURRENCY: ['currency 1' 'currency 2' 'currency 3' 'currency 4'] \n",
      "\n",
      "CREDIT_TYPE: ['Consumer credit' 'Credit card' 'Car loan' 'Mortgage'\n",
      " 'Loan for business development' 'Microloan'\n",
      " 'Loan for working capital replenishment' 'Unknown type of loan'\n",
      " 'Loan for the purchase of equipment' 'Another type of loan'\n",
      " 'Cash loan (non-earmarked)' 'Real estate loan' 'Mobile operator loan'\n",
      " 'Loan for purchase of shares (margin lending)'] \n",
      "\n"
     ]
    }
   ],
   "source": [
    "# список уникальных значений по категориальным фичам\n",
    "for column in bki_obj_feat:\n",
    "    print(f'{column}: {bki[column].unique()} \\n')"
   ]
  },
  {
   "cell_type": "code",
   "execution_count": 16,
   "metadata": {
    "ExecuteTime": {
     "end_time": "2021-04-22T17:17:45.935320Z",
     "start_time": "2021-04-22T17:17:43.463943Z"
    }
   },
   "outputs": [
    {
     "data": {
      "image/png": "[encoded data removed]",
      "text/plain": [
       "<Figure size 1800x720 with 2 Axes>"
      ]
     },
     "metadata": {
      "needs_background": "light"
     },
     "output_type": "display_data"
    }
   ],
   "source": [
    "msno.matrix(bki);"
   ]
  },
  {
   "cell_type": "code",
   "execution_count": 17,
   "metadata": {
    "ExecuteTime": {
     "end_time": "2021-04-22T17:17:46.014606Z",
     "start_time": "2021-04-22T17:17:45.937321Z"
    }
   },
   "outputs": [
    {
     "data": {
      "text/plain": [
       "True     672103\n",
       "False    273131\n",
       "dtype: int64"
      ]
     },
     "execution_count": 17,
     "metadata": {},
     "output_type": "execute_result"
    }
   ],
   "source": [
    "bki.duplicated(subset=['APPLICATION_NUMBER']).value_counts()"
   ]
  },
  {
   "cell_type": "markdown",
   "metadata": {},
   "source": [
    "**Есть 672103 дублирующихся записей и 273131 уникальных по 'APPLICATION_NUMBER'**"
   ]
  },
  {
   "cell_type": "markdown",
   "metadata": {},
   "source": [
    "### client_profile"
   ]
  },
  {
   "cell_type": "code",
   "execution_count": 18,
   "metadata": {
    "ExecuteTime": {
     "end_time": "2021-04-22T17:17:46.046346Z",
     "start_time": "2021-04-22T17:17:46.016368Z"
    }
   },
   "outputs": [
    {
     "name": "stdout",
     "output_type": "stream",
     "text": [
      "client_profile.shape = 250000 rows, 24 cols\n"
     ]
    },
    {
     "data": {
      "text/html": [
       "<div>\n",
       "<style scoped>\n",
       "    .dataframe tbody tr th:only-of-type {\n",
       "        vertical-align: middle;\n",
       "    }\n",
       "\n",
       "    .dataframe tbody tr th {\n",
       "        vertical-align: top;\n",
       "    }\n",
       "\n",
       "    .dataframe thead th {\n",
       "        text-align: right;\n",
       "    }\n",
       "</style>\n",
       "<table border=\"1\" class=\"dataframe\">\n",
       "  <thead>\n",
       "    <tr style=\"text-align: right;\">\n",
       "      <th></th>\n",
       "      <th>APPLICATION_NUMBER</th>\n",
       "      <th>GENDER</th>\n",
       "      <th>CHILDRENS</th>\n",
       "      <th>TOTAL_SALARY</th>\n",
       "      <th>AMOUNT_CREDIT</th>\n",
       "      <th>AMOUNT_ANNUITY</th>\n",
       "      <th>EDUCATION_LEVEL</th>\n",
       "      <th>FAMILY_STATUS</th>\n",
       "      <th>REGION_POPULATION</th>\n",
       "      <th>AGE</th>\n",
       "      <th>...</th>\n",
       "      <th>FAMILY_SIZE</th>\n",
       "      <th>EXTERNAL_SCORING_RATING_1</th>\n",
       "      <th>EXTERNAL_SCORING_RATING_2</th>\n",
       "      <th>EXTERNAL_SCORING_RATING_3</th>\n",
       "      <th>AMT_REQ_CREDIT_BUREAU_HOUR</th>\n",
       "      <th>AMT_REQ_CREDIT_BUREAU_DAY</th>\n",
       "      <th>AMT_REQ_CREDIT_BUREAU_WEEK</th>\n",
       "      <th>AMT_REQ_CREDIT_BUREAU_MON</th>\n",
       "      <th>AMT_REQ_CREDIT_BUREAU_QRT</th>\n",
       "      <th>AMT_REQ_CREDIT_BUREAU_YEAR</th>\n",
       "    </tr>\n",
       "  </thead>\n",
       "  <tbody>\n",
       "    <tr>\n",
       "      <th>0</th>\n",
       "      <td>123666076</td>\n",
       "      <td>F</td>\n",
       "      <td>0</td>\n",
       "      <td>157500.0</td>\n",
       "      <td>270000.0</td>\n",
       "      <td>13500.0</td>\n",
       "      <td>Incomplete higher</td>\n",
       "      <td>Civil marriage</td>\n",
       "      <td>0.008068</td>\n",
       "      <td>8560</td>\n",
       "      <td>...</td>\n",
       "      <td>2.0</td>\n",
       "      <td>0.329471</td>\n",
       "      <td>0.236315</td>\n",
       "      <td>0.678568</td>\n",
       "      <td>0.0</td>\n",
       "      <td>0.0</td>\n",
       "      <td>0.0</td>\n",
       "      <td>0.0</td>\n",
       "      <td>1.0</td>\n",
       "      <td>2.0</td>\n",
       "    </tr>\n",
       "    <tr>\n",
       "      <th>1</th>\n",
       "      <td>123423688</td>\n",
       "      <td>F</td>\n",
       "      <td>0</td>\n",
       "      <td>270000.0</td>\n",
       "      <td>536917.5</td>\n",
       "      <td>28467.0</td>\n",
       "      <td>Secondary / secondary special</td>\n",
       "      <td>Married</td>\n",
       "      <td>0.020246</td>\n",
       "      <td>23187</td>\n",
       "      <td>...</td>\n",
       "      <td>2.0</td>\n",
       "      <td>NaN</td>\n",
       "      <td>0.442295</td>\n",
       "      <td>0.802745</td>\n",
       "      <td>0.0</td>\n",
       "      <td>0.0</td>\n",
       "      <td>0.0</td>\n",
       "      <td>0.0</td>\n",
       "      <td>1.0</td>\n",
       "      <td>1.0</td>\n",
       "    </tr>\n",
       "    <tr>\n",
       "      <th>2</th>\n",
       "      <td>123501780</td>\n",
       "      <td>M</td>\n",
       "      <td>1</td>\n",
       "      <td>427500.0</td>\n",
       "      <td>239850.0</td>\n",
       "      <td>23850.0</td>\n",
       "      <td>Incomplete higher</td>\n",
       "      <td>Married</td>\n",
       "      <td>0.072508</td>\n",
       "      <td>14387</td>\n",
       "      <td>...</td>\n",
       "      <td>3.0</td>\n",
       "      <td>0.409017</td>\n",
       "      <td>0.738159</td>\n",
       "      <td>NaN</td>\n",
       "      <td>NaN</td>\n",
       "      <td>NaN</td>\n",
       "      <td>NaN</td>\n",
       "      <td>NaN</td>\n",
       "      <td>NaN</td>\n",
       "      <td>NaN</td>\n",
       "    </tr>\n",
       "    <tr>\n",
       "      <th>3</th>\n",
       "      <td>123588799</td>\n",
       "      <td>M</td>\n",
       "      <td>0</td>\n",
       "      <td>112500.0</td>\n",
       "      <td>254700.0</td>\n",
       "      <td>17149.5</td>\n",
       "      <td>Secondary / secondary special</td>\n",
       "      <td>Married</td>\n",
       "      <td>0.019101</td>\n",
       "      <td>14273</td>\n",
       "      <td>...</td>\n",
       "      <td>2.0</td>\n",
       "      <td>NaN</td>\n",
       "      <td>0.308994</td>\n",
       "      <td>0.590233</td>\n",
       "      <td>0.0</td>\n",
       "      <td>0.0</td>\n",
       "      <td>0.0</td>\n",
       "      <td>0.0</td>\n",
       "      <td>0.0</td>\n",
       "      <td>3.0</td>\n",
       "    </tr>\n",
       "    <tr>\n",
       "      <th>4</th>\n",
       "      <td>123647485</td>\n",
       "      <td>M</td>\n",
       "      <td>0</td>\n",
       "      <td>130500.0</td>\n",
       "      <td>614574.0</td>\n",
       "      <td>19822.5</td>\n",
       "      <td>Lower secondary</td>\n",
       "      <td>Married</td>\n",
       "      <td>0.022625</td>\n",
       "      <td>22954</td>\n",
       "      <td>...</td>\n",
       "      <td>2.0</td>\n",
       "      <td>NaN</td>\n",
       "      <td>0.739408</td>\n",
       "      <td>0.156640</td>\n",
       "      <td>0.0</td>\n",
       "      <td>0.0</td>\n",
       "      <td>1.0</td>\n",
       "      <td>0.0</td>\n",
       "      <td>0.0</td>\n",
       "      <td>6.0</td>\n",
       "    </tr>\n",
       "  </tbody>\n",
       "</table>\n",
       "<p>5 rows × 24 columns</p>\n",
       "</div>"
      ],
      "text/plain": [
       "   APPLICATION_NUMBER GENDER  CHILDRENS  TOTAL_SALARY  AMOUNT_CREDIT  \\\n",
       "0           123666076      F          0      157500.0       270000.0   \n",
       "1           123423688      F          0      270000.0       536917.5   \n",
       "2           123501780      M          1      427500.0       239850.0   \n",
       "3           123588799      M          0      112500.0       254700.0   \n",
       "4           123647485      M          0      130500.0       614574.0   \n",
       "\n",
       "   AMOUNT_ANNUITY                EDUCATION_LEVEL   FAMILY_STATUS  \\\n",
       "0         13500.0              Incomplete higher  Civil marriage   \n",
       "1         28467.0  Secondary / secondary special         Married   \n",
       "2         23850.0              Incomplete higher         Married   \n",
       "3         17149.5  Secondary / secondary special         Married   \n",
       "4         19822.5                Lower secondary         Married   \n",
       "\n",
       "   REGION_POPULATION    AGE  ...  FAMILY_SIZE  EXTERNAL_SCORING_RATING_1  \\\n",
       "0           0.008068   8560  ...          2.0                   0.329471   \n",
       "1           0.020246  23187  ...          2.0                        NaN   \n",
       "2           0.072508  14387  ...          3.0                   0.409017   \n",
       "3           0.019101  14273  ...          2.0                        NaN   \n",
       "4           0.022625  22954  ...          2.0                        NaN   \n",
       "\n",
       "   EXTERNAL_SCORING_RATING_2  EXTERNAL_SCORING_RATING_3  \\\n",
       "0                   0.236315                   0.678568   \n",
       "1                   0.442295                   0.802745   \n",
       "2                   0.738159                        NaN   \n",
       "3                   0.308994                   0.590233   \n",
       "4                   0.739408                   0.156640   \n",
       "\n",
       "   AMT_REQ_CREDIT_BUREAU_HOUR  AMT_REQ_CREDIT_BUREAU_DAY  \\\n",
       "0                         0.0                        0.0   \n",
       "1                         0.0                        0.0   \n",
       "2                         NaN                        NaN   \n",
       "3                         0.0                        0.0   \n",
       "4                         0.0                        0.0   \n",
       "\n",
       "   AMT_REQ_CREDIT_BUREAU_WEEK  AMT_REQ_CREDIT_BUREAU_MON  \\\n",
       "0                         0.0                        0.0   \n",
       "1                         0.0                        0.0   \n",
       "2                         NaN                        NaN   \n",
       "3                         0.0                        0.0   \n",
       "4                         1.0                        0.0   \n",
       "\n",
       "   AMT_REQ_CREDIT_BUREAU_QRT  AMT_REQ_CREDIT_BUREAU_YEAR  \n",
       "0                        1.0                         2.0  \n",
       "1                        1.0                         1.0  \n",
       "2                        NaN                         NaN  \n",
       "3                        0.0                         3.0  \n",
       "4                        0.0                         6.0  \n",
       "\n",
       "[5 rows x 24 columns]"
      ]
     },
     "execution_count": 18,
     "metadata": {},
     "output_type": "execute_result"
    }
   ],
   "source": [
    "print(\"client_profile.shape = {} rows, {} cols\".format(*client_profile.shape))\n",
    "client_profile.head()"
   ]
  },
  {
   "cell_type": "code",
   "execution_count": 19,
   "metadata": {
    "ExecuteTime": {
     "end_time": "2021-04-22T17:17:46.093346Z",
     "start_time": "2021-04-22T17:17:46.047347Z"
    }
   },
   "outputs": [
    {
     "name": "stdout",
     "output_type": "stream",
     "text": [
      "<class 'pandas.core.frame.DataFrame'>\n",
      "RangeIndex: 250000 entries, 0 to 249999\n",
      "Data columns (total 24 columns):\n",
      " #   Column                      Non-Null Count   Dtype  \n",
      "---  ------                      --------------   -----  \n",
      " 0   APPLICATION_NUMBER          250000 non-null  int64  \n",
      " 1   GENDER                      250000 non-null  object \n",
      " 2   CHILDRENS                   250000 non-null  int64  \n",
      " 3   TOTAL_SALARY                250000 non-null  float64\n",
      " 4   AMOUNT_CREDIT               250000 non-null  float64\n",
      " 5   AMOUNT_ANNUITY              249989 non-null  float64\n",
      " 6   EDUCATION_LEVEL             250000 non-null  object \n",
      " 7   FAMILY_STATUS               250000 non-null  object \n",
      " 8   REGION_POPULATION           250000 non-null  float64\n",
      " 9   AGE                         250000 non-null  int64  \n",
      " 10  DAYS_ON_LAST_JOB            250000 non-null  int64  \n",
      " 11  OWN_CAR_AGE                 85041 non-null   float64\n",
      " 12  FLAG_PHONE                  250000 non-null  int64  \n",
      " 13  FLAG_EMAIL                  250000 non-null  int64  \n",
      " 14  FAMILY_SIZE                 249998 non-null  float64\n",
      " 15  EXTERNAL_SCORING_RATING_1   109121 non-null  float64\n",
      " 16  EXTERNAL_SCORING_RATING_2   249468 non-null  float64\n",
      " 17  EXTERNAL_SCORING_RATING_3   200462 non-null  float64\n",
      " 18  AMT_REQ_CREDIT_BUREAU_HOUR  216293 non-null  float64\n",
      " 19  AMT_REQ_CREDIT_BUREAU_DAY   216293 non-null  float64\n",
      " 20  AMT_REQ_CREDIT_BUREAU_WEEK  216293 non-null  float64\n",
      " 21  AMT_REQ_CREDIT_BUREAU_MON   216293 non-null  float64\n",
      " 22  AMT_REQ_CREDIT_BUREAU_QRT   216293 non-null  float64\n",
      " 23  AMT_REQ_CREDIT_BUREAU_YEAR  216293 non-null  float64\n",
      "dtypes: float64(15), int64(6), object(3)\n",
      "memory usage: 45.8+ MB\n"
     ]
    }
   ],
   "source": [
    "client_profile.info()"
   ]
  },
  {
   "cell_type": "code",
   "execution_count": 20,
   "metadata": {
    "ExecuteTime": {
     "end_time": "2021-04-22T17:17:46.109390Z",
     "start_time": "2021-04-22T17:17:46.094347Z"
    }
   },
   "outputs": [
    {
     "data": {
      "text/plain": [
       "(['GENDER', 'EDUCATION_LEVEL', 'FAMILY_STATUS'], 3)"
      ]
     },
     "execution_count": 20,
     "metadata": {},
     "output_type": "execute_result"
    }
   ],
   "source": [
    "# получим список признаков с категорией object\n",
    "client_profile_obj_feat = list(client_profile.loc[:, client_profile.dtypes == 'object'].columns.values)\n",
    "client_profile_obj_feat, len(client_profile_obj_feat)"
   ]
  },
  {
   "cell_type": "code",
   "execution_count": 21,
   "metadata": {
    "ExecuteTime": {
     "end_time": "2021-04-22T17:17:46.157348Z",
     "start_time": "2021-04-22T17:17:46.111350Z"
    }
   },
   "outputs": [
    {
     "name": "stdout",
     "output_type": "stream",
     "text": [
      "GENDER: ['F' 'M' 'XNA'] \n",
      "\n",
      "EDUCATION_LEVEL: ['Incomplete higher' 'Secondary / secondary special' 'Lower secondary'\n",
      " 'Higher education' 'Academic degree'] \n",
      "\n",
      "FAMILY_STATUS: ['Civil marriage' 'Married' 'Widow' 'Single / not married' 'Separated'\n",
      " 'Unknown'] \n",
      "\n"
     ]
    }
   ],
   "source": [
    "# список уникальных значений по категориальным фичам\n",
    "for column in client_profile_obj_feat:\n",
    "    print(f'{column}: {client_profile[column].unique()} \\n')"
   ]
  },
  {
   "cell_type": "code",
   "execution_count": 22,
   "metadata": {
    "ExecuteTime": {
     "end_time": "2021-04-22T17:17:47.283449Z",
     "start_time": "2021-04-22T17:17:46.158350Z"
    }
   },
   "outputs": [
    {
     "data": {
      "image/png": "[encoded data removed]",
      "text/plain": [
       "<Figure size 1800x720 with 2 Axes>"
      ]
     },
     "metadata": {
      "needs_background": "light"
     },
     "output_type": "display_data"
    }
   ],
   "source": [
    "msno.matrix(client_profile);"
   ]
  },
  {
   "cell_type": "code",
   "execution_count": 23,
   "metadata": {
    "ExecuteTime": {
     "end_time": "2021-04-22T17:17:47.314451Z",
     "start_time": "2021-04-22T17:17:47.287451Z"
    }
   },
   "outputs": [
    {
     "data": {
      "text/plain": [
       "False    250000\n",
       "dtype: int64"
      ]
     },
     "execution_count": 23,
     "metadata": {},
     "output_type": "execute_result"
    }
   ],
   "source": [
    "client_profile.duplicated(subset=['APPLICATION_NUMBER']).value_counts()"
   ]
  },
  {
   "cell_type": "markdown",
   "metadata": {},
   "source": [
    "**Нет дублей**"
   ]
  },
  {
   "cell_type": "markdown",
   "metadata": {},
   "source": [
    "### payments"
   ]
  },
  {
   "cell_type": "code",
   "execution_count": 24,
   "metadata": {
    "ExecuteTime": {
     "end_time": "2021-04-22T17:17:47.330449Z",
     "start_time": "2021-04-22T17:17:47.316451Z"
    }
   },
   "outputs": [
    {
     "name": "stdout",
     "output_type": "stream",
     "text": [
      "payments.shape = 1023932 rows, 8 cols\n"
     ]
    },
    {
     "data": {
      "text/html": [
       "<div>\n",
       "<style scoped>\n",
       "    .dataframe tbody tr th:only-of-type {\n",
       "        vertical-align: middle;\n",
       "    }\n",
       "\n",
       "    .dataframe tbody tr th {\n",
       "        vertical-align: top;\n",
       "    }\n",
       "\n",
       "    .dataframe thead th {\n",
       "        text-align: right;\n",
       "    }\n",
       "</style>\n",
       "<table border=\"1\" class=\"dataframe\">\n",
       "  <thead>\n",
       "    <tr style=\"text-align: right;\">\n",
       "      <th></th>\n",
       "      <th>PREV_APPLICATION_NUMBER</th>\n",
       "      <th>APPLICATION_NUMBER</th>\n",
       "      <th>NUM_INSTALMENT_VERSION</th>\n",
       "      <th>NUM_INSTALMENT_NUMBER</th>\n",
       "      <th>DAYS_INSTALMENT</th>\n",
       "      <th>DAYS_ENTRY_PAYMENT</th>\n",
       "      <th>AMT_INSTALMENT</th>\n",
       "      <th>AMT_PAYMENT</th>\n",
       "    </tr>\n",
       "  </thead>\n",
       "  <tbody>\n",
       "    <tr>\n",
       "      <th>0</th>\n",
       "      <td>49011181</td>\n",
       "      <td>123664960</td>\n",
       "      <td>1.0</td>\n",
       "      <td>5</td>\n",
       "      <td>1002.0</td>\n",
       "      <td>1015.0</td>\n",
       "      <td>12156.615</td>\n",
       "      <td>12156.615</td>\n",
       "    </tr>\n",
       "    <tr>\n",
       "      <th>1</th>\n",
       "      <td>48683432</td>\n",
       "      <td>123497205</td>\n",
       "      <td>1.0</td>\n",
       "      <td>13</td>\n",
       "      <td>442.0</td>\n",
       "      <td>432.0</td>\n",
       "      <td>18392.535</td>\n",
       "      <td>10047.645</td>\n",
       "    </tr>\n",
       "    <tr>\n",
       "      <th>2</th>\n",
       "      <td>48652024</td>\n",
       "      <td>123749925</td>\n",
       "      <td>1.0</td>\n",
       "      <td>10</td>\n",
       "      <td>8.0</td>\n",
       "      <td>23.0</td>\n",
       "      <td>5499.945</td>\n",
       "      <td>5499.945</td>\n",
       "    </tr>\n",
       "    <tr>\n",
       "      <th>3</th>\n",
       "      <td>48398897</td>\n",
       "      <td>123550846</td>\n",
       "      <td>0.0</td>\n",
       "      <td>82</td>\n",
       "      <td>398.0</td>\n",
       "      <td>398.0</td>\n",
       "      <td>7082.145</td>\n",
       "      <td>7082.145</td>\n",
       "    </tr>\n",
       "    <tr>\n",
       "      <th>4</th>\n",
       "      <td>49867197</td>\n",
       "      <td>123562174</td>\n",
       "      <td>0.0</td>\n",
       "      <td>63</td>\n",
       "      <td>1359.0</td>\n",
       "      <td>1359.0</td>\n",
       "      <td>156.735</td>\n",
       "      <td>156.735</td>\n",
       "    </tr>\n",
       "  </tbody>\n",
       "</table>\n",
       "</div>"
      ],
      "text/plain": [
       "   PREV_APPLICATION_NUMBER  APPLICATION_NUMBER  NUM_INSTALMENT_VERSION  \\\n",
       "0                 49011181           123664960                     1.0   \n",
       "1                 48683432           123497205                     1.0   \n",
       "2                 48652024           123749925                     1.0   \n",
       "3                 48398897           123550846                     0.0   \n",
       "4                 49867197           123562174                     0.0   \n",
       "\n",
       "   NUM_INSTALMENT_NUMBER  DAYS_INSTALMENT  DAYS_ENTRY_PAYMENT  AMT_INSTALMENT  \\\n",
       "0                      5           1002.0              1015.0       12156.615   \n",
       "1                     13            442.0               432.0       18392.535   \n",
       "2                     10              8.0                23.0        5499.945   \n",
       "3                     82            398.0               398.0        7082.145   \n",
       "4                     63           1359.0              1359.0         156.735   \n",
       "\n",
       "   AMT_PAYMENT  \n",
       "0    12156.615  \n",
       "1    10047.645  \n",
       "2     5499.945  \n",
       "3     7082.145  \n",
       "4      156.735  "
      ]
     },
     "execution_count": 24,
     "metadata": {},
     "output_type": "execute_result"
    }
   ],
   "source": [
    "print(\"payments.shape = {} rows, {} cols\".format(*payments.shape))\n",
    "payments.head()"
   ]
  },
  {
   "cell_type": "code",
   "execution_count": 25,
   "metadata": {
    "ExecuteTime": {
     "end_time": "2021-04-22T17:17:47.378465Z",
     "start_time": "2021-04-22T17:17:47.331450Z"
    }
   },
   "outputs": [
    {
     "name": "stdout",
     "output_type": "stream",
     "text": [
      "<class 'pandas.core.frame.DataFrame'>\n",
      "RangeIndex: 1023932 entries, 0 to 1023931\n",
      "Data columns (total 8 columns):\n",
      " #   Column                   Non-Null Count    Dtype  \n",
      "---  ------                   --------------    -----  \n",
      " 0   PREV_APPLICATION_NUMBER  1023932 non-null  int64  \n",
      " 1   APPLICATION_NUMBER       1023932 non-null  int64  \n",
      " 2   NUM_INSTALMENT_VERSION   1023932 non-null  float64\n",
      " 3   NUM_INSTALMENT_NUMBER    1023932 non-null  int64  \n",
      " 4   DAYS_INSTALMENT          1023932 non-null  float64\n",
      " 5   DAYS_ENTRY_PAYMENT       1023729 non-null  float64\n",
      " 6   AMT_INSTALMENT           1023932 non-null  float64\n",
      " 7   AMT_PAYMENT              1023729 non-null  float64\n",
      "dtypes: float64(5), int64(3)\n",
      "memory usage: 62.5 MB\n"
     ]
    }
   ],
   "source": [
    "payments.info()"
   ]
  },
  {
   "cell_type": "code",
   "execution_count": 26,
   "metadata": {
    "ExecuteTime": {
     "end_time": "2021-04-22T17:17:47.474499Z",
     "start_time": "2021-04-22T17:17:47.380456Z"
    }
   },
   "outputs": [
    {
     "data": {
      "text/plain": [
       "True     759206\n",
       "False    264726\n",
       "dtype: int64"
      ]
     },
     "execution_count": 26,
     "metadata": {},
     "output_type": "execute_result"
    }
   ],
   "source": [
    "payments.duplicated(subset=['APPLICATION_NUMBER']).value_counts()"
   ]
  },
  {
   "cell_type": "markdown",
   "metadata": {
    "ExecuteTime": {
     "end_time": "2021-03-20T21:16:34.418695Z",
     "start_time": "2021-03-20T21:16:34.406109Z"
    }
   },
   "source": [
    "**Все признаки числовые, категориальных нет. 759206 дубликатов и 264726 уникальных**\n",
    "\n",
    "**Только признаки `DAYS_ENTRY_PAYMENT` и `AMT_PAYMENT` имеют по 203 пропуска каждый. Остальные признаки пропусков не имеют**"
   ]
  },
  {
   "cell_type": "markdown",
   "metadata": {},
   "source": [
    "### applications_history"
   ]
  },
  {
   "cell_type": "code",
   "execution_count": 27,
   "metadata": {
    "ExecuteTime": {
     "end_time": "2021-04-22T17:17:47.506459Z",
     "start_time": "2021-04-22T17:17:47.475451Z"
    }
   },
   "outputs": [
    {
     "name": "stdout",
     "output_type": "stream",
     "text": [
      "applications_history.shape = 1670214 rows, 26 cols\n"
     ]
    },
    {
     "data": {
      "text/html": [
       "<div>\n",
       "<style scoped>\n",
       "    .dataframe tbody tr th:only-of-type {\n",
       "        vertical-align: middle;\n",
       "    }\n",
       "\n",
       "    .dataframe tbody tr th {\n",
       "        vertical-align: top;\n",
       "    }\n",
       "\n",
       "    .dataframe thead th {\n",
       "        text-align: right;\n",
       "    }\n",
       "</style>\n",
       "<table border=\"1\" class=\"dataframe\">\n",
       "  <thead>\n",
       "    <tr style=\"text-align: right;\">\n",
       "      <th></th>\n",
       "      <th>PREV_APPLICATION_NUMBER</th>\n",
       "      <th>APPLICATION_NUMBER</th>\n",
       "      <th>NAME_CONTRACT_TYPE</th>\n",
       "      <th>AMOUNT_ANNUITY</th>\n",
       "      <th>AMT_APPLICATION</th>\n",
       "      <th>AMOUNT_CREDIT</th>\n",
       "      <th>AMOUNT_PAYMENT</th>\n",
       "      <th>AMOUNT_GOODS_PAYMENT</th>\n",
       "      <th>NAME_CONTRACT_STATUS</th>\n",
       "      <th>DAYS_DECISION</th>\n",
       "      <th>...</th>\n",
       "      <th>NAME_PRODUCT_TYPE</th>\n",
       "      <th>SELLERPLACE_AREA</th>\n",
       "      <th>CNT_PAYMENT</th>\n",
       "      <th>NAME_YIELD_GROUP</th>\n",
       "      <th>DAYS_FIRST_DRAWING</th>\n",
       "      <th>DAYS_FIRST_DUE</th>\n",
       "      <th>DAYS_LAST_DUE_1ST_VERSION</th>\n",
       "      <th>DAYS_LAST_DUE</th>\n",
       "      <th>DAYS_TERMINATION</th>\n",
       "      <th>NFLAG_INSURED_ON_APPROVAL</th>\n",
       "    </tr>\n",
       "  </thead>\n",
       "  <tbody>\n",
       "    <tr>\n",
       "      <th>0</th>\n",
       "      <td>49298709</td>\n",
       "      <td>123595216</td>\n",
       "      <td>NaN</td>\n",
       "      <td>1730.430</td>\n",
       "      <td>17145.0</td>\n",
       "      <td>17145.0</td>\n",
       "      <td>0.0</td>\n",
       "      <td>17145.0</td>\n",
       "      <td>Approved</td>\n",
       "      <td>73</td>\n",
       "      <td>...</td>\n",
       "      <td>XNA</td>\n",
       "      <td>35</td>\n",
       "      <td>12.0</td>\n",
       "      <td>middle</td>\n",
       "      <td>365243.0</td>\n",
       "      <td>42.0</td>\n",
       "      <td>300.0</td>\n",
       "      <td>42.0</td>\n",
       "      <td>37.0</td>\n",
       "      <td>0.0</td>\n",
       "    </tr>\n",
       "    <tr>\n",
       "      <th>1</th>\n",
       "      <td>50070639</td>\n",
       "      <td>123431468</td>\n",
       "      <td>Cash</td>\n",
       "      <td>25188.615</td>\n",
       "      <td>607500.0</td>\n",
       "      <td>679671.0</td>\n",
       "      <td>NaN</td>\n",
       "      <td>607500.0</td>\n",
       "      <td>Approved</td>\n",
       "      <td>164</td>\n",
       "      <td>...</td>\n",
       "      <td>x-sell</td>\n",
       "      <td>-1</td>\n",
       "      <td>36.0</td>\n",
       "      <td>low_action</td>\n",
       "      <td>365243.0</td>\n",
       "      <td>134.0</td>\n",
       "      <td>916.0</td>\n",
       "      <td>365243.0</td>\n",
       "      <td>365243.0</td>\n",
       "      <td>1.0</td>\n",
       "    </tr>\n",
       "    <tr>\n",
       "      <th>2</th>\n",
       "      <td>49791680</td>\n",
       "      <td>123445379</td>\n",
       "      <td>Cash</td>\n",
       "      <td>15060.735</td>\n",
       "      <td>112500.0</td>\n",
       "      <td>136444.5</td>\n",
       "      <td>NaN</td>\n",
       "      <td>112500.0</td>\n",
       "      <td>Approved</td>\n",
       "      <td>301</td>\n",
       "      <td>...</td>\n",
       "      <td>x-sell</td>\n",
       "      <td>-1</td>\n",
       "      <td>12.0</td>\n",
       "      <td>high</td>\n",
       "      <td>365243.0</td>\n",
       "      <td>271.0</td>\n",
       "      <td>59.0</td>\n",
       "      <td>365243.0</td>\n",
       "      <td>365243.0</td>\n",
       "      <td>1.0</td>\n",
       "    </tr>\n",
       "    <tr>\n",
       "      <th>3</th>\n",
       "      <td>50087457</td>\n",
       "      <td>123499497</td>\n",
       "      <td>Cash</td>\n",
       "      <td>47041.335</td>\n",
       "      <td>450000.0</td>\n",
       "      <td>470790.0</td>\n",
       "      <td>NaN</td>\n",
       "      <td>450000.0</td>\n",
       "      <td>Approved</td>\n",
       "      <td>512</td>\n",
       "      <td>...</td>\n",
       "      <td>x-sell</td>\n",
       "      <td>-1</td>\n",
       "      <td>12.0</td>\n",
       "      <td>middle</td>\n",
       "      <td>365243.0</td>\n",
       "      <td>482.0</td>\n",
       "      <td>152.0</td>\n",
       "      <td>182.0</td>\n",
       "      <td>177.0</td>\n",
       "      <td>1.0</td>\n",
       "    </tr>\n",
       "    <tr>\n",
       "      <th>4</th>\n",
       "      <td>49052479</td>\n",
       "      <td>123525393</td>\n",
       "      <td>Cash</td>\n",
       "      <td>31924.395</td>\n",
       "      <td>337500.0</td>\n",
       "      <td>404055.0</td>\n",
       "      <td>NaN</td>\n",
       "      <td>337500.0</td>\n",
       "      <td>Refused</td>\n",
       "      <td>781</td>\n",
       "      <td>...</td>\n",
       "      <td>walk-in</td>\n",
       "      <td>-1</td>\n",
       "      <td>24.0</td>\n",
       "      <td>high</td>\n",
       "      <td>NaN</td>\n",
       "      <td>NaN</td>\n",
       "      <td>NaN</td>\n",
       "      <td>NaN</td>\n",
       "      <td>NaN</td>\n",
       "      <td>NaN</td>\n",
       "    </tr>\n",
       "  </tbody>\n",
       "</table>\n",
       "<p>5 rows × 26 columns</p>\n",
       "</div>"
      ],
      "text/plain": [
       "   PREV_APPLICATION_NUMBER  APPLICATION_NUMBER NAME_CONTRACT_TYPE  \\\n",
       "0                 49298709           123595216                NaN   \n",
       "1                 50070639           123431468               Cash   \n",
       "2                 49791680           123445379               Cash   \n",
       "3                 50087457           123499497               Cash   \n",
       "4                 49052479           123525393               Cash   \n",
       "\n",
       "   AMOUNT_ANNUITY  AMT_APPLICATION  AMOUNT_CREDIT  AMOUNT_PAYMENT  \\\n",
       "0        1730.430          17145.0        17145.0             0.0   \n",
       "1       25188.615         607500.0       679671.0             NaN   \n",
       "2       15060.735         112500.0       136444.5             NaN   \n",
       "3       47041.335         450000.0       470790.0             NaN   \n",
       "4       31924.395         337500.0       404055.0             NaN   \n",
       "\n",
       "   AMOUNT_GOODS_PAYMENT NAME_CONTRACT_STATUS  DAYS_DECISION  ...  \\\n",
       "0               17145.0             Approved             73  ...   \n",
       "1              607500.0             Approved            164  ...   \n",
       "2              112500.0             Approved            301  ...   \n",
       "3              450000.0             Approved            512  ...   \n",
       "4              337500.0              Refused            781  ...   \n",
       "\n",
       "  NAME_PRODUCT_TYPE SELLERPLACE_AREA CNT_PAYMENT NAME_YIELD_GROUP  \\\n",
       "0               XNA               35        12.0           middle   \n",
       "1            x-sell               -1        36.0       low_action   \n",
       "2            x-sell               -1        12.0             high   \n",
       "3            x-sell               -1        12.0           middle   \n",
       "4           walk-in               -1        24.0             high   \n",
       "\n",
       "  DAYS_FIRST_DRAWING DAYS_FIRST_DUE DAYS_LAST_DUE_1ST_VERSION  DAYS_LAST_DUE  \\\n",
       "0           365243.0           42.0                     300.0           42.0   \n",
       "1           365243.0          134.0                     916.0       365243.0   \n",
       "2           365243.0          271.0                      59.0       365243.0   \n",
       "3           365243.0          482.0                     152.0          182.0   \n",
       "4                NaN            NaN                       NaN            NaN   \n",
       "\n",
       "   DAYS_TERMINATION NFLAG_INSURED_ON_APPROVAL  \n",
       "0              37.0                       0.0  \n",
       "1          365243.0                       1.0  \n",
       "2          365243.0                       1.0  \n",
       "3             177.0                       1.0  \n",
       "4               NaN                       NaN  \n",
       "\n",
       "[5 rows x 26 columns]"
      ]
     },
     "execution_count": 27,
     "metadata": {},
     "output_type": "execute_result"
    }
   ],
   "source": [
    "print(\"applications_history.shape = {} rows, {} cols\".format(*applications_history.shape))\n",
    "applications_history.head()"
   ]
  },
  {
   "cell_type": "code",
   "execution_count": 28,
   "metadata": {
    "ExecuteTime": {
     "end_time": "2021-04-22T17:17:48.135160Z",
     "start_time": "2021-04-22T17:17:47.508450Z"
    }
   },
   "outputs": [
    {
     "name": "stdout",
     "output_type": "stream",
     "text": [
      "<class 'pandas.core.frame.DataFrame'>\n",
      "RangeIndex: 1670214 entries, 0 to 1670213\n",
      "Data columns (total 26 columns):\n",
      " #   Column                     Non-Null Count    Dtype  \n",
      "---  ------                     --------------    -----  \n",
      " 0   PREV_APPLICATION_NUMBER    1670214 non-null  int64  \n",
      " 1   APPLICATION_NUMBER         1670214 non-null  int64  \n",
      " 2   NAME_CONTRACT_TYPE         940717 non-null   object \n",
      " 3   AMOUNT_ANNUITY             1297979 non-null  float64\n",
      " 4   AMT_APPLICATION            1670214 non-null  float64\n",
      " 5   AMOUNT_CREDIT              1670213 non-null  float64\n",
      " 6   AMOUNT_PAYMENT             774370 non-null   float64\n",
      " 7   AMOUNT_GOODS_PAYMENT       1284699 non-null  float64\n",
      " 8   NAME_CONTRACT_STATUS       1670214 non-null  object \n",
      " 9   DAYS_DECISION              1670214 non-null  int64  \n",
      " 10  NAME_PAYMENT_TYPE          1670214 non-null  object \n",
      " 11  CODE_REJECT_REASON         1670214 non-null  object \n",
      " 12  NAME_TYPE_SUITE            849809 non-null   object \n",
      " 13  NAME_CLIENT_TYPE           1670214 non-null  object \n",
      " 14  NAME_GOODS_CATEGORY        1670214 non-null  object \n",
      " 15  NAME_PORTFOLIO             1670214 non-null  object \n",
      " 16  NAME_PRODUCT_TYPE          1670214 non-null  object \n",
      " 17  SELLERPLACE_AREA           1670214 non-null  int64  \n",
      " 18  CNT_PAYMENT                1297984 non-null  float64\n",
      " 19  NAME_YIELD_GROUP           1670214 non-null  object \n",
      " 20  DAYS_FIRST_DRAWING         997149 non-null   float64\n",
      " 21  DAYS_FIRST_DUE             997149 non-null   float64\n",
      " 22  DAYS_LAST_DUE_1ST_VERSION  997149 non-null   float64\n",
      " 23  DAYS_LAST_DUE              997149 non-null   float64\n",
      " 24  DAYS_TERMINATION           997149 non-null   float64\n",
      " 25  NFLAG_INSURED_ON_APPROVAL  997149 non-null   float64\n",
      "dtypes: float64(12), int64(4), object(10)\n",
      "memory usage: 331.3+ MB\n"
     ]
    }
   ],
   "source": [
    "applications_history.info()"
   ]
  },
  {
   "cell_type": "code",
   "execution_count": 29,
   "metadata": {
    "ExecuteTime": {
     "end_time": "2021-04-22T17:17:48.275817Z",
     "start_time": "2021-04-22T17:17:48.136163Z"
    }
   },
   "outputs": [
    {
     "data": {
      "text/plain": [
       "(['NAME_CONTRACT_TYPE',\n",
       "  'NAME_CONTRACT_STATUS',\n",
       "  'NAME_PAYMENT_TYPE',\n",
       "  'CODE_REJECT_REASON',\n",
       "  'NAME_TYPE_SUITE',\n",
       "  'NAME_CLIENT_TYPE',\n",
       "  'NAME_GOODS_CATEGORY',\n",
       "  'NAME_PORTFOLIO',\n",
       "  'NAME_PRODUCT_TYPE',\n",
       "  'NAME_YIELD_GROUP'],\n",
       " 10)"
      ]
     },
     "execution_count": 29,
     "metadata": {},
     "output_type": "execute_result"
    }
   ],
   "source": [
    "# получим список признаков с категорией object\n",
    "applications_history_obj_feat = list(applications_history.loc[:, applications_history.dtypes == 'object'].columns.values)\n",
    "applications_history_obj_feat, len(applications_history_obj_feat)"
   ]
  },
  {
   "cell_type": "code",
   "execution_count": 30,
   "metadata": {
    "ExecuteTime": {
     "end_time": "2021-04-22T17:17:49.031453Z",
     "start_time": "2021-04-22T17:17:48.276819Z"
    }
   },
   "outputs": [
    {
     "name": "stdout",
     "output_type": "stream",
     "text": [
      "NAME_CONTRACT_TYPE: [nan 'Cash' 'Credit Card'] \n",
      "\n",
      "NAME_CONTRACT_STATUS: ['Approved' 'Refused' 'Canceled' 'Unused offer'] \n",
      "\n",
      "NAME_PAYMENT_TYPE: ['Cash through the bank' 'XNA' 'Non-cash from your account'\n",
      " 'Cashless from the account of the employer'] \n",
      "\n",
      "CODE_REJECT_REASON: ['XAP' 'HC' 'LIMIT' 'CLIENT' 'SCOFR' 'SCO' 'XNA' 'VERIF' 'SYSTEM'] \n",
      "\n",
      "NAME_TYPE_SUITE: [nan 'Unaccompanied' 'Spouse, partner' 'Family' 'Children' 'Other_B'\n",
      " 'Other_A' 'Group of people'] \n",
      "\n",
      "NAME_CLIENT_TYPE: ['Repeater' 'New' 'Refreshed' 'XNA'] \n",
      "\n",
      "NAME_GOODS_CATEGORY: ['Mobile' 'XNA' 'Consumer Electronics' 'Construction Materials'\n",
      " 'Auto Accessories' 'Photo / Cinema Equipment' 'Computers' 'Audio/Video'\n",
      " 'Medicine' 'Clothing and Accessories' 'Furniture' 'Sport and Leisure'\n",
      " 'Homewares' 'Gardening' 'Jewelry' 'Vehicles' 'Education'\n",
      " 'Medical Supplies' 'Other' 'Direct Sales' 'Office Appliances' 'Fitness'\n",
      " 'Tourism' 'Insurance' 'Additional Service' 'Weapon' 'Animals'\n",
      " 'House Construction'] \n",
      "\n",
      "NAME_PORTFOLIO: ['POS' 'Cash' 'XNA' 'Cards' 'Cars'] \n",
      "\n",
      "NAME_PRODUCT_TYPE: ['XNA' 'x-sell' 'walk-in'] \n",
      "\n",
      "NAME_YIELD_GROUP: ['middle' 'low_action' 'high' 'low_normal' 'XNA'] \n",
      "\n"
     ]
    }
   ],
   "source": [
    "# список уникальных значений по категориальным фичам\n",
    "for column in applications_history_obj_feat:\n",
    "    print(f'{column}: {applications_history[column].unique()} \\n')"
   ]
  },
  {
   "cell_type": "code",
   "execution_count": 31,
   "metadata": {
    "ExecuteTime": {
     "end_time": "2021-04-22T17:17:55.067418Z",
     "start_time": "2021-04-22T17:17:49.032457Z"
    }
   },
   "outputs": [
    {
     "data": {
      "image/png": "[encoded data removed]",
      "text/plain": [
       "<Figure size 1800x720 with 2 Axes>"
      ]
     },
     "metadata": {
      "needs_background": "light"
     },
     "output_type": "display_data"
    }
   ],
   "source": [
    "msno.matrix(applications_history);"
   ]
  },
  {
   "cell_type": "code",
   "execution_count": 32,
   "metadata": {
    "ExecuteTime": {
     "end_time": "2021-04-22T17:17:55.210384Z",
     "start_time": "2021-04-22T17:17:55.068377Z"
    }
   },
   "outputs": [
    {
     "data": {
      "text/plain": [
       "True     1331357\n",
       "False     338857\n",
       "dtype: int64"
      ]
     },
     "execution_count": 32,
     "metadata": {},
     "output_type": "execute_result"
    }
   ],
   "source": [
    "applications_history.duplicated(subset=['APPLICATION_NUMBER']).value_counts()"
   ]
  },
  {
   "cell_type": "markdown",
   "metadata": {},
   "source": [
    "**applications_history имеет 1331357 повторяющихся значений и 338857 уникальных по 'APPLICATION_NUMBER'. Надо подумать как сконкатенировать**"
   ]
  },
  {
   "cell_type": "markdown",
   "metadata": {},
   "source": [
    "### Целевая переменная"
   ]
  },
  {
   "cell_type": "code",
   "execution_count": 33,
   "metadata": {
    "ExecuteTime": {
     "end_time": "2021-04-22T17:17:55.226374Z",
     "start_time": "2021-04-22T17:17:55.211375Z"
    }
   },
   "outputs": [
    {
     "data": {
      "text/plain": [
       "array([0, 1], dtype=int64)"
      ]
     },
     "execution_count": 33,
     "metadata": {},
     "output_type": "execute_result"
    }
   ],
   "source": [
    "train['TARGET'].unique()"
   ]
  },
  {
   "cell_type": "code",
   "execution_count": 34,
   "metadata": {
    "ExecuteTime": {
     "end_time": "2021-04-22T17:17:55.464376Z",
     "start_time": "2021-04-22T17:17:55.227374Z"
    }
   },
   "outputs": [
    {
     "data": {
      "image/png": "[encoded data removed]",
      "text/plain": [
       "<Figure size 360x360 with 1 Axes>"
      ]
     },
     "metadata": {
      "needs_background": "light"
     },
     "output_type": "display_data"
    }
   ],
   "source": [
    "sns.displot(train, x='TARGET');"
   ]
  },
  {
   "cell_type": "code",
   "execution_count": 35,
   "metadata": {
    "ExecuteTime": {
     "end_time": "2021-04-22T17:17:55.479776Z",
     "start_time": "2021-04-22T17:17:55.465373Z"
    }
   },
   "outputs": [
    {
     "data": {
      "text/plain": [
       "11.37417106889963"
      ]
     },
     "execution_count": 35,
     "metadata": {},
     "output_type": "execute_result"
    }
   ],
   "source": [
    "train['TARGET'].value_counts()[0] / train['TARGET'].value_counts()[1]"
   ]
  },
  {
   "cell_type": "markdown",
   "metadata": {},
   "source": [
    "Дисбаланс классов 11.4 к 1-му."
   ]
  },
  {
   "cell_type": "markdown",
   "metadata": {},
   "source": [
    "**Объеденим client_profile с трейном и тестом**"
   ]
  },
  {
   "cell_type": "code",
   "execution_count": 36,
   "metadata": {
    "ExecuteTime": {
     "end_time": "2021-04-22T17:17:55.906776Z",
     "start_time": "2021-04-22T17:17:55.480779Z"
    }
   },
   "outputs": [
    {
     "data": {
      "text/html": [
       "<div>\n",
       "<style scoped>\n",
       "    .dataframe tbody tr th:only-of-type {\n",
       "        vertical-align: middle;\n",
       "    }\n",
       "\n",
       "    .dataframe tbody tr th {\n",
       "        vertical-align: top;\n",
       "    }\n",
       "\n",
       "    .dataframe thead th {\n",
       "        text-align: right;\n",
       "    }\n",
       "</style>\n",
       "<table border=\"1\" class=\"dataframe\">\n",
       "  <thead>\n",
       "    <tr style=\"text-align: right;\">\n",
       "      <th></th>\n",
       "      <th>APPLICATION_NUMBER</th>\n",
       "      <th>TARGET</th>\n",
       "      <th>NAME_CONTRACT_TYPE</th>\n",
       "      <th>GENDER</th>\n",
       "      <th>CHILDRENS</th>\n",
       "      <th>TOTAL_SALARY</th>\n",
       "      <th>AMOUNT_CREDIT</th>\n",
       "      <th>AMOUNT_ANNUITY</th>\n",
       "      <th>EDUCATION_LEVEL</th>\n",
       "      <th>FAMILY_STATUS</th>\n",
       "      <th>...</th>\n",
       "      <th>FAMILY_SIZE</th>\n",
       "      <th>EXTERNAL_SCORING_RATING_1</th>\n",
       "      <th>EXTERNAL_SCORING_RATING_2</th>\n",
       "      <th>EXTERNAL_SCORING_RATING_3</th>\n",
       "      <th>AMT_REQ_CREDIT_BUREAU_HOUR</th>\n",
       "      <th>AMT_REQ_CREDIT_BUREAU_DAY</th>\n",
       "      <th>AMT_REQ_CREDIT_BUREAU_WEEK</th>\n",
       "      <th>AMT_REQ_CREDIT_BUREAU_MON</th>\n",
       "      <th>AMT_REQ_CREDIT_BUREAU_QRT</th>\n",
       "      <th>AMT_REQ_CREDIT_BUREAU_YEAR</th>\n",
       "    </tr>\n",
       "  </thead>\n",
       "  <tbody>\n",
       "    <tr>\n",
       "      <th>0</th>\n",
       "      <td>123687442</td>\n",
       "      <td>0</td>\n",
       "      <td>Cash</td>\n",
       "      <td>M</td>\n",
       "      <td>1.0</td>\n",
       "      <td>157500.0</td>\n",
       "      <td>855000.0</td>\n",
       "      <td>25128.0</td>\n",
       "      <td>Secondary / secondary special</td>\n",
       "      <td>Married</td>\n",
       "      <td>...</td>\n",
       "      <td>3.0</td>\n",
       "      <td>0.700784</td>\n",
       "      <td>0.645914</td>\n",
       "      <td>0.716570</td>\n",
       "      <td>0.0</td>\n",
       "      <td>0.0</td>\n",
       "      <td>1.0</td>\n",
       "      <td>0.0</td>\n",
       "      <td>0.0</td>\n",
       "      <td>2.0</td>\n",
       "    </tr>\n",
       "    <tr>\n",
       "      <th>1</th>\n",
       "      <td>123597908</td>\n",
       "      <td>1</td>\n",
       "      <td>Cash</td>\n",
       "      <td>NaN</td>\n",
       "      <td>NaN</td>\n",
       "      <td>NaN</td>\n",
       "      <td>NaN</td>\n",
       "      <td>NaN</td>\n",
       "      <td>NaN</td>\n",
       "      <td>NaN</td>\n",
       "      <td>...</td>\n",
       "      <td>NaN</td>\n",
       "      <td>NaN</td>\n",
       "      <td>NaN</td>\n",
       "      <td>NaN</td>\n",
       "      <td>NaN</td>\n",
       "      <td>NaN</td>\n",
       "      <td>NaN</td>\n",
       "      <td>NaN</td>\n",
       "      <td>NaN</td>\n",
       "      <td>NaN</td>\n",
       "    </tr>\n",
       "    <tr>\n",
       "      <th>2</th>\n",
       "      <td>123526683</td>\n",
       "      <td>0</td>\n",
       "      <td>Cash</td>\n",
       "      <td>F</td>\n",
       "      <td>0.0</td>\n",
       "      <td>135000.0</td>\n",
       "      <td>1006920.0</td>\n",
       "      <td>42660.0</td>\n",
       "      <td>Higher education</td>\n",
       "      <td>Married</td>\n",
       "      <td>...</td>\n",
       "      <td>2.0</td>\n",
       "      <td>NaN</td>\n",
       "      <td>0.682149</td>\n",
       "      <td>0.267869</td>\n",
       "      <td>0.0</td>\n",
       "      <td>0.0</td>\n",
       "      <td>0.0</td>\n",
       "      <td>7.0</td>\n",
       "      <td>0.0</td>\n",
       "      <td>4.0</td>\n",
       "    </tr>\n",
       "    <tr>\n",
       "      <th>3</th>\n",
       "      <td>123710391</td>\n",
       "      <td>1</td>\n",
       "      <td>Cash</td>\n",
       "      <td>M</td>\n",
       "      <td>0.0</td>\n",
       "      <td>180000.0</td>\n",
       "      <td>518562.0</td>\n",
       "      <td>22972.5</td>\n",
       "      <td>Secondary / secondary special</td>\n",
       "      <td>Married</td>\n",
       "      <td>...</td>\n",
       "      <td>2.0</td>\n",
       "      <td>NaN</td>\n",
       "      <td>0.171299</td>\n",
       "      <td>0.170446</td>\n",
       "      <td>0.0</td>\n",
       "      <td>0.0</td>\n",
       "      <td>0.0</td>\n",
       "      <td>0.0</td>\n",
       "      <td>0.0</td>\n",
       "      <td>0.0</td>\n",
       "    </tr>\n",
       "    <tr>\n",
       "      <th>4</th>\n",
       "      <td>123590329</td>\n",
       "      <td>1</td>\n",
       "      <td>Cash</td>\n",
       "      <td>NaN</td>\n",
       "      <td>NaN</td>\n",
       "      <td>NaN</td>\n",
       "      <td>NaN</td>\n",
       "      <td>NaN</td>\n",
       "      <td>NaN</td>\n",
       "      <td>NaN</td>\n",
       "      <td>...</td>\n",
       "      <td>NaN</td>\n",
       "      <td>NaN</td>\n",
       "      <td>NaN</td>\n",
       "      <td>NaN</td>\n",
       "      <td>NaN</td>\n",
       "      <td>NaN</td>\n",
       "      <td>NaN</td>\n",
       "      <td>NaN</td>\n",
       "      <td>NaN</td>\n",
       "      <td>NaN</td>\n",
       "    </tr>\n",
       "  </tbody>\n",
       "</table>\n",
       "<p>5 rows × 26 columns</p>\n",
       "</div>"
      ],
      "text/plain": [
       "   APPLICATION_NUMBER  TARGET NAME_CONTRACT_TYPE GENDER  CHILDRENS  \\\n",
       "0           123687442       0               Cash      M        1.0   \n",
       "1           123597908       1               Cash    NaN        NaN   \n",
       "2           123526683       0               Cash      F        0.0   \n",
       "3           123710391       1               Cash      M        0.0   \n",
       "4           123590329       1               Cash    NaN        NaN   \n",
       "\n",
       "   TOTAL_SALARY  AMOUNT_CREDIT  AMOUNT_ANNUITY                EDUCATION_LEVEL  \\\n",
       "0      157500.0       855000.0         25128.0  Secondary / secondary special   \n",
       "1           NaN            NaN             NaN                            NaN   \n",
       "2      135000.0      1006920.0         42660.0               Higher education   \n",
       "3      180000.0       518562.0         22972.5  Secondary / secondary special   \n",
       "4           NaN            NaN             NaN                            NaN   \n",
       "\n",
       "  FAMILY_STATUS  ...  FAMILY_SIZE  EXTERNAL_SCORING_RATING_1  \\\n",
       "0       Married  ...          3.0                   0.700784   \n",
       "1           NaN  ...          NaN                        NaN   \n",
       "2       Married  ...          2.0                        NaN   \n",
       "3       Married  ...          2.0                        NaN   \n",
       "4           NaN  ...          NaN                        NaN   \n",
       "\n",
       "   EXTERNAL_SCORING_RATING_2  EXTERNAL_SCORING_RATING_3  \\\n",
       "0                   0.645914                   0.716570   \n",
       "1                        NaN                        NaN   \n",
       "2                   0.682149                   0.267869   \n",
       "3                   0.171299                   0.170446   \n",
       "4                        NaN                        NaN   \n",
       "\n",
       "   AMT_REQ_CREDIT_BUREAU_HOUR  AMT_REQ_CREDIT_BUREAU_DAY  \\\n",
       "0                         0.0                        0.0   \n",
       "1                         NaN                        NaN   \n",
       "2                         0.0                        0.0   \n",
       "3                         0.0                        0.0   \n",
       "4                         NaN                        NaN   \n",
       "\n",
       "   AMT_REQ_CREDIT_BUREAU_WEEK  AMT_REQ_CREDIT_BUREAU_MON  \\\n",
       "0                         1.0                        0.0   \n",
       "1                         NaN                        NaN   \n",
       "2                         0.0                        7.0   \n",
       "3                         0.0                        0.0   \n",
       "4                         NaN                        NaN   \n",
       "\n",
       "   AMT_REQ_CREDIT_BUREAU_QRT  AMT_REQ_CREDIT_BUREAU_YEAR  \n",
       "0                        0.0                         2.0  \n",
       "1                        NaN                         NaN  \n",
       "2                        0.0                         4.0  \n",
       "3                        0.0                         0.0  \n",
       "4                        NaN                         NaN  \n",
       "\n",
       "[5 rows x 26 columns]"
      ]
     },
     "execution_count": 36,
     "metadata": {},
     "output_type": "execute_result"
    }
   ],
   "source": [
    "# конкатенируем client_profile. Он единственный не содержит дубликатов\n",
    "train = pd.merge(train, client_profile, on='APPLICATION_NUMBER', how='left')\n",
    "X_test = pd.merge(test, client_profile, on='APPLICATION_NUMBER', how='left')\n",
    "\n",
    "# не конкатенируем из-да дублей\n",
    "#df = pd.merge(df, bki, on='APPLICATION_NUMBER', how='left')\n",
    "#df = pd.merge(df, payments, on='APPLICATION_NUMBER', how='left')\n",
    "#df = pd.merge(df, applications_history, on='APPLICATION_NUMBER', how='left')\n",
    "train.head(5)"
   ]
  },
  {
   "cell_type": "markdown",
   "metadata": {},
   "source": [
    "---\n",
    "**Функции кросс-валидации**"
   ]
  },
  {
   "cell_type": "code",
   "execution_count": 37,
   "metadata": {
    "ExecuteTime": {
     "end_time": "2021-04-22T17:17:55.922866Z",
     "start_time": "2021-04-22T17:17:55.907776Z"
    }
   },
   "outputs": [],
   "source": [
    "def lightgbm_cross_validation(params, X, y, cv, categorical = None):\n",
    "    \"\"\"\n",
    "    Кросс-валидация для модели LightGBM.\n",
    "\n",
    "    Parameters\n",
    "    ----------\n",
    "    params: dict\n",
    "        Словарь гиперпараметров модели.\n",
    "\n",
    "    X: pandas.core.frame.DataFrame\n",
    "        Матрица признаков для обучения модели.\n",
    "\n",
    "    y: pandas.core.frame.Series\n",
    "        Вектор целевой переменной для обучения модели.\n",
    "\n",
    "    cv: KFold or StratifiedKFold generator.\n",
    "        Объект KFold / StratifiedKFold для определения\n",
    "        стратегии кросс-валидации модели.\n",
    "\n",
    "    categorical: str, optional, default = None\n",
    "        Список категориальных признаков.\n",
    "        Опциональный параметр, по умолчанию, не используется.\n",
    "\n",
    "    Returns\n",
    "    -------\n",
    "    estimators: list\n",
    "        Список с объектами обученной модели.\n",
    "\n",
    "    oof_preds: np.array\n",
    "        Вектор OOF-прогнозов.\n",
    "\n",
    "    \"\"\"\n",
    "    if not categorical:\n",
    "        categorical = \"auto\"\n",
    "\n",
    "    estimators, folds_scores = [], []\n",
    "    oof_preds = np.zeros(X.shape[0])\n",
    "    print(f\"{time.ctime()}, Cross-Validation, {X.shape[0]} rows, {X.shape[1]} cols\")\n",
    "\n",
    "    for fold, (train_idx, valid_idx) in enumerate(cv.split(X, y)):\n",
    "        x_train, x_valid = X.loc[train_idx], X.loc[valid_idx]\n",
    "        y_train, y_valid = y[train_idx], y[valid_idx]\n",
    "\n",
    "        model = lgb.LGBMClassifier(**params)\n",
    "        model.fit(\n",
    "            x_train, y_train,\n",
    "            eval_set=[(x_valid, y_valid)],\n",
    "            eval_metric=\"auc\", verbose=0, early_stopping_rounds=5000,\n",
    "            categorical_feature=categorical\n",
    "        )\n",
    "        oof_preds[valid_idx] = model.predict_proba(x_valid)[:, 1]\n",
    "        score = roc_auc_score(y_valid, oof_preds[valid_idx])\n",
    "        # print(f\"Fold {fold+1}, Valid score = {round(score, 5)}\")\n",
    "        folds_scores.append(round(score, 5))\n",
    "        estimators.append(model)\n",
    "\n",
    "    print(f\"Score by each fold: {folds_scores}\")\n",
    "    print(\"=\"*65)\n",
    "    return estimators, oof_preds\n",
    "\n",
    "\n",
    "def xgboost_cross_validation(params, X, y, cv, categorical = None):\n",
    "    \"\"\"\n",
    "    Кросс-валидация для модели XGBoost.\n",
    "\n",
    "    Parameters\n",
    "    ----------\n",
    "    params: dict\n",
    "        Словарь гиперпараметров модели.\n",
    "\n",
    "    X: pandas.core.frame.DataFrame\n",
    "        Матрица признако для обучения модели.\n",
    "\n",
    "    y: pandas.core.frame.Series\n",
    "        Вектор целевой переменной для обучения модели.\n",
    "\n",
    "    cv: KFold or StratifiedKFold generator.\n",
    "        Объект KFold / StratifiedKFold для определения\n",
    "        стратегии кросс-валидации модели.\n",
    "\n",
    "    categorical: str, optional, default = None\n",
    "        Список категориальных признаков.\n",
    "        Опциональный параметр, по умолчанию, не используется.\n",
    "\n",
    "    Returns\n",
    "    -------\n",
    "    estimators: list\n",
    "        Список с объектами обученной модели.\n",
    "\n",
    "    encoders: dict\n",
    "        Список с объектами LabelEncoders.\n",
    "\n",
    "    oof_preds: np.array\n",
    "        Вектор OOF-прогнозов.\n",
    "\n",
    "    \"\"\"\n",
    "    estimators, folds_scores, encoders = [], [], {}\n",
    "    oof_preds = np.zeros(X.shape[0])\n",
    "\n",
    "    if categorical:\n",
    "        for feature in categorical:\n",
    "            encoder = LabelEncoder()\n",
    "            X[feature] = encoder.fit_transform(X[feature].astype(\"str\").fillna(\"NA\"))\n",
    "            encoders[feature] = encoder\n",
    "\n",
    "    print(f\"{time.ctime()}, Cross-Validation, {X.shape[0]} rows, {X.shape[1]} cols\")\n",
    "\n",
    "    for fold, (train_idx, valid_idx) in enumerate(cv.split(X, y)):\n",
    "\n",
    "        x_train, x_valid = X.loc[train_idx], X.loc[valid_idx]\n",
    "        y_train, y_valid = y[train_idx], y[valid_idx]\n",
    "        dtrain = xgb.DMatrix(x_train, y_train)\n",
    "        dvalid = xgb.DMatrix(x_valid, y_valid)\n",
    "\n",
    "        model = xgb.train(\n",
    "            params=params,\n",
    "            dtrain=dtrain,\n",
    "            maximize=True,\n",
    "            num_boost_round=10000,\n",
    "            early_stopping_rounds=25,\n",
    "            evals=[(dtrain, \"train\"), (dvalid, \"valid\")],\n",
    "            verbose_eval=0,\n",
    "        )\n",
    "        oof_preds[valid_idx] = model.predict(dvalid)\n",
    "        score = roc_auc_score(y_valid, oof_preds[valid_idx])\n",
    "        # print(f\"Fold {fold+1}, Valid score = {round(score, 5)}\")\n",
    "        folds_scores.append(round(score, 5))\n",
    "        estimators.append(model)\n",
    "\n",
    "    print(f\"Score by each fold: {folds_scores}\")\n",
    "    print(\"=\"*65)\n",
    "    return estimators, encoders, oof_preds"
   ]
  },
  {
   "cell_type": "code",
   "execution_count": 38,
   "metadata": {
    "ExecuteTime": {
     "end_time": "2021-04-22T17:17:55.938265Z",
     "start_time": "2021-04-22T17:17:55.924815Z"
    }
   },
   "outputs": [],
   "source": [
    "def get_cat_features(df):\n",
    "    \"\"\"\n",
    "    функция возвращает список признаков\n",
    "    :param df:\n",
    "    :return: list\n",
    "    \"\"\"\n",
    "    categorical_features = df.select_dtypes(include=[np.object])\n",
    "    return categorical_features.columns.to_list()"
   ]
  },
  {
   "cell_type": "code",
   "execution_count": 39,
   "metadata": {
    "ExecuteTime": {
     "end_time": "2021-04-22T17:17:55.970263Z",
     "start_time": "2021-04-22T17:17:55.940272Z"
    }
   },
   "outputs": [
    {
     "data": {
      "text/plain": [
       "['NAME_CONTRACT_TYPE', 'GENDER', 'EDUCATION_LEVEL', 'FAMILY_STATUS']"
      ]
     },
     "execution_count": 39,
     "metadata": {},
     "output_type": "execute_result"
    }
   ],
   "source": [
    "cat_features = get_cat_features(train)\n",
    "cat_features"
   ]
  },
  {
   "cell_type": "markdown",
   "metadata": {},
   "source": [
    "# Задание 1"
   ]
  },
  {
   "cell_type": "markdown",
   "metadata": {},
   "source": [
    "**Обучить алгоритмы `LightGBM` и `XGBoost`, получить OOF прогнозы, оценить корреляцию прогнозов на обучающей выборке. Применить модели на тестовую выборку и оценить корреляцию.**"
   ]
  },
  {
   "cell_type": "code",
   "execution_count": 40,
   "metadata": {
    "ExecuteTime": {
     "end_time": "2021-04-22T17:17:55.986264Z",
     "start_time": "2021-04-22T17:17:55.971264Z"
    }
   },
   "outputs": [],
   "source": [
    "target, data = train['TARGET'], train.drop(['TARGET'], axis=1)"
   ]
  },
  {
   "cell_type": "code",
   "execution_count": 41,
   "metadata": {
    "ExecuteTime": {
     "end_time": "2021-04-22T17:17:56.002264Z",
     "start_time": "2021-04-22T17:17:55.988265Z"
    }
   },
   "outputs": [],
   "source": [
    "xgb_params = {\n",
    "    \"objective\": \"binary:logistic\",\n",
    "    \"booster\": \"gbtree\",\n",
    "    \"eval_metric\": \"auc\",\n",
    "    \"eta\": \"0.05\",\n",
    "    \"max_depth\": 6,\n",
    "    \"gamma\": 10,\n",
    "    \"subsample\": 0.85,\n",
    "    \"colsample_bytree\": 0.7,\n",
    "    \"colsample_bylevel\": 0.632,\n",
    "    \"min_child_weight\": 30,\n",
    "    \"alpha\": 0,\n",
    "    \"lambda\": 0,\n",
    "    \"nthread\": 8,\n",
    "    \"seed\": 42\n",
    "}\n",
    "\n",
    "xgb_cv = KFold(n_splits=10, random_state=42, shuffle=True)"
   ]
  },
  {
   "cell_type": "code",
   "execution_count": 42,
   "metadata": {
    "ExecuteTime": {
     "end_time": "2021-04-22T17:19:44.252415Z",
     "start_time": "2021-04-22T17:17:56.003263Z"
    },
    "scrolled": true
   },
   "outputs": [
    {
     "name": "stdout",
     "output_type": "stream",
     "text": [
      "Thu Apr 22 20:17:56 2021, Cross-Validation, 110093 rows, 25 cols\n",
      "Score by each fold: [0.73901, 0.73029, 0.71994, 0.70268, 0.73241, 0.71845, 0.72533, 0.71446, 0.70497, 0.70755]\n",
      "=================================================================\n"
     ]
    }
   ],
   "source": [
    "xgb_estimators, _, xgb_oof_preds = xgboost_cross_validation(\n",
    "    xgb_params, data, target, xgb_cv, cat_features\n",
    ")"
   ]
  },
  {
   "cell_type": "markdown",
   "metadata": {},
   "source": [
    "Score by each fold: [0.73901, 0.73029, 0.71994, 0.70268, 0.73241, 0.71845, 0.72533, 0.71446, 0.70497, 0.70755]"
   ]
  },
  {
   "cell_type": "code",
   "execution_count": 43,
   "metadata": {
    "ExecuteTime": {
     "end_time": "2021-04-22T17:19:44.315439Z",
     "start_time": "2021-04-22T17:19:44.254416Z"
    }
   },
   "outputs": [
    {
     "name": "stdout",
     "output_type": "stream",
     "text": [
      "Score = 0.7025\n"
     ]
    }
   ],
   "source": [
    "score = roc_auc_score(target, xgb_oof_preds)\n",
    "print(f\"Score = {round(score, 4)}\")"
   ]
  },
  {
   "cell_type": "code",
   "execution_count": 44,
   "metadata": {
    "ExecuteTime": {
     "end_time": "2021-04-22T17:19:44.331440Z",
     "start_time": "2021-04-22T17:19:44.317441Z"
    }
   },
   "outputs": [],
   "source": [
    "lgbm_params = {\n",
    "    'boosting_type': 'gbdt',\n",
    "    'n_estimators': 750,\n",
    "    'learning_rate': 0.005134,\n",
    "    'num_leaves': 54,\n",
    "    'max_depth': 10,\n",
    "    'subsample_for_bin': 240000,\n",
    "    'reg_alpha': 0.436193,\n",
    "    'reg_lambda': 0.479169,\n",
    "    'colsample_bytree': 0.508716,\n",
    "    'min_split_gain': 0.024766,\n",
    "    'subsample': 0.7,\n",
    "    'is_unbalance': True,\n",
    "    'random_state': 42,\n",
    "    'silent': -1,\n",
    "    'verbose': -1\n",
    "}\n",
    "\n",
    "lgbm_cv = KFold(n_splits=7, random_state=1, shuffle=True)"
   ]
  },
  {
   "cell_type": "code",
   "execution_count": 45,
   "metadata": {
    "ExecuteTime": {
     "end_time": "2021-04-22T17:20:30.566856Z",
     "start_time": "2021-04-22T17:19:44.333441Z"
    },
    "scrolled": true
   },
   "outputs": [
    {
     "name": "stdout",
     "output_type": "stream",
     "text": [
      "Thu Apr 22 20:19:44 2021, Cross-Validation, 110093 rows, 25 cols\n",
      "Score by each fold: [0.71242, 0.72574, 0.72173, 0.71592, 0.7348, 0.71319, 0.70672]\n",
      "=================================================================\n"
     ]
    }
   ],
   "source": [
    "lgbm_estimators, lgbm_oof_preds = lightgbm_cross_validation(\n",
    "    lgbm_params, data, target, lgbm_cv\n",
    ")"
   ]
  },
  {
   "cell_type": "markdown",
   "metadata": {},
   "source": [
    "Score by each fold: [0.7124, 0.7241, 0.72279, 0.71697, 0.73438, 0.71215, 0.70829]"
   ]
  },
  {
   "cell_type": "code",
   "execution_count": 46,
   "metadata": {
    "ExecuteTime": {
     "end_time": "2021-04-22T17:20:30.630887Z",
     "start_time": "2021-04-22T17:20:30.569858Z"
    }
   },
   "outputs": [
    {
     "name": "stdout",
     "output_type": "stream",
     "text": [
      "Score = 0.7185\n"
     ]
    }
   ],
   "source": [
    "score = roc_auc_score(target, lgbm_oof_preds)\n",
    "print(f\"Score = {round(score, 4)}\")"
   ]
  },
  {
   "cell_type": "markdown",
   "metadata": {},
   "source": [
    "Чтобы понять можно ли смешивать модели, посчитаем корреляцию между прогнозами трейна. Составим матрицу с out-of-fold прогнозами моделей и посчитаем корреляцию между ними.\n",
    "\n",
    "**Prediction Correlation**"
   ]
  },
  {
   "cell_type": "code",
   "execution_count": 47,
   "metadata": {
    "ExecuteTime": {
     "end_time": "2021-04-22T17:20:30.645887Z",
     "start_time": "2021-04-22T17:20:30.632887Z"
    }
   },
   "outputs": [
    {
     "data": {
      "text/plain": [
       "array([0.14025125, 0.49431974, 0.37914719, ..., 0.50569478, 0.28593276,\n",
       "       0.48474344])"
      ]
     },
     "execution_count": 47,
     "metadata": {},
     "output_type": "execute_result"
    }
   ],
   "source": [
    "lgbm_oof_preds"
   ]
  },
  {
   "cell_type": "code",
   "execution_count": 48,
   "metadata": {
    "ExecuteTime": {
     "end_time": "2021-04-22T17:20:30.661892Z",
     "start_time": "2021-04-22T17:20:30.647889Z"
    }
   },
   "outputs": [],
   "source": [
    "scores_train = pd.DataFrame({\n",
    "    \"lgbm\": lgbm_oof_preds,\n",
    "    \"xgb\": xgb_oof_preds,\n",
    "})\n",
    "\n",
    "corr = scores_train.corr()\n",
    "mask = np.zeros_like(corr, dtype=np.bool)\n",
    "mask[np.triu_indices_from(mask)] = True"
   ]
  },
  {
   "cell_type": "code",
   "execution_count": 49,
   "metadata": {
    "ExecuteTime": {
     "end_time": "2021-04-22T17:20:30.880887Z",
     "start_time": "2021-04-22T17:20:30.663890Z"
    }
   },
   "outputs": [
    {
     "data": {
      "image/png": "[encoded data removed]",
      "text/plain": [
       "<Figure size 720x720 with 2 Axes>"
      ]
     },
     "metadata": {
      "needs_background": "light"
     },
     "output_type": "display_data"
    }
   ],
   "source": [
    "fig, axes = plt.subplots(1, 1, figsize=(10, 10))\n",
    "sns.heatmap(corr, mask=mask, annot=True, fmt=\".4g\", square=True, cmap=\"viridis\", ax=axes);"
   ]
  },
  {
   "cell_type": "markdown",
   "metadata": {},
   "source": [
    " **Применим модели на тестовую выборку**"
   ]
  },
  {
   "cell_type": "code",
   "execution_count": 50,
   "metadata": {
    "ExecuteTime": {
     "end_time": "2021-04-22T17:20:30.896886Z",
     "start_time": "2021-04-22T17:20:30.882887Z"
    }
   },
   "outputs": [],
   "source": [
    "def xgboost_cross_validation_predict(models, X, cv, categorical = None):\n",
    "    \"\"\"\n",
    "    Предсказания для модели XGBoost.\n",
    "\n",
    "    Parameters\n",
    "    ----------\n",
    "    models: list\n",
    "        Список моделей\n",
    "\n",
    "    X: pandas.core.frame.DataFrame\n",
    "        Матрица признаков для прогнозов модели.\n",
    "\n",
    "    cv: KFold or StratifiedKFold generator.\n",
    "        Объект KFold / StratifiedKFold для определения\n",
    "        стратегии кросс-валидации модели.\n",
    "\n",
    "    categorical: str, optional, default = None\n",
    "        Список категориальных признаков.\n",
    "        Опциональный параметр, по умолчанию, не используется.\n",
    "\n",
    "    Returns\n",
    "    -------\n",
    "    oof_preds: np.array\n",
    "        Вектор OOF-прогнозов.\n",
    "\n",
    "    \"\"\"\n",
    "    encoders = {}\n",
    "    oof_preds = np.zeros(X.shape[0])\n",
    "\n",
    "    if categorical:\n",
    "        for feature in categorical:\n",
    "            encoder = LabelEncoder()\n",
    "            X[feature] = encoder.fit_transform(X[feature].astype(\"str\").fillna(\"NA\"))\n",
    "            encoders[feature] = encoder\n",
    "\n",
    "    print(f\"{time.ctime()}, Cross-Validation, {X.shape[0]} rows, {X.shape[1]} cols\")\n",
    "    \n",
    "    i = 0\n",
    "    for fold, (train_idx, valid_idx) in enumerate(cv.split(X)):\n",
    "        x_train, x_valid = X.loc[train_idx], X.loc[valid_idx]\n",
    "        dtrain = xgb.DMatrix(x_train)\n",
    "        dvalid = xgb.DMatrix(x_valid)\n",
    "        oof_preds[valid_idx] = models[i].predict(dvalid)\n",
    "        i += 1\n",
    "\n",
    "\n",
    "    #print(f\"Score by each fold: {folds_preds}\")\n",
    "    #print(\"=\"*65)\n",
    "    return oof_preds"
   ]
  },
  {
   "cell_type": "code",
   "execution_count": 51,
   "metadata": {
    "ExecuteTime": {
     "end_time": "2021-04-22T17:20:32.306910Z",
     "start_time": "2021-04-22T17:20:30.897889Z"
    }
   },
   "outputs": [
    {
     "name": "stdout",
     "output_type": "stream",
     "text": [
      "Thu Apr 22 20:20:31 2021, Cross-Validation, 165141 rows, 25 cols\n"
     ]
    }
   ],
   "source": [
    "# предсказания XGB\n",
    "xgb_oof_test_preds = xgboost_cross_validation_predict(xgb_estimators, X_test, xgb_cv, cat_features)"
   ]
  },
  {
   "cell_type": "code",
   "execution_count": 52,
   "metadata": {
    "ExecuteTime": {
     "end_time": "2021-04-22T17:20:32.322486Z",
     "start_time": "2021-04-22T17:20:32.308911Z"
    }
   },
   "outputs": [
    {
     "data": {
      "text/plain": [
       "array([0.07611421, 0.24183679, 0.16415544, ..., 0.16096108, 0.13539006,\n",
       "       0.13260722])"
      ]
     },
     "execution_count": 52,
     "metadata": {},
     "output_type": "execute_result"
    }
   ],
   "source": [
    "xgb_oof_test_preds"
   ]
  },
  {
   "cell_type": "code",
   "execution_count": 53,
   "metadata": {
    "ExecuteTime": {
     "end_time": "2021-04-22T17:20:32.338485Z",
     "start_time": "2021-04-22T17:20:32.324489Z"
    }
   },
   "outputs": [],
   "source": [
    "def lightgbm_cross_validation_predict(models, X, cv, categorical = None):\n",
    "    \"\"\"\n",
    "    Предсказания для модели LightGBM.\n",
    "\n",
    "    Parameters\n",
    "    ----------\n",
    "    models: list\n",
    "        Список обученных моделей.\n",
    "\n",
    "    X: pandas.core.frame.DataFrame\n",
    "        Матрица признаков для прогноза.\n",
    "\n",
    "    cv: KFold or StratifiedKFold generator.\n",
    "        Объект KFold / StratifiedKFold для определения\n",
    "        стратегии кросс-валидации модели.\n",
    "\n",
    "    categorical: str, optional, default = None\n",
    "        Список категориальных признаков.\n",
    "        Опциональный параметр, по умолчанию, не используется.\n",
    "\n",
    "    Returns\n",
    "    -------\n",
    "    oof_preds: np.array\n",
    "        Вектор OOF-прогнозов.\n",
    "\n",
    "    \"\"\"\n",
    "    if not categorical:\n",
    "        categorical = \"auto\"\n",
    "\n",
    "    oof_preds = np.zeros(X.shape[0])\n",
    "    print(f\"{time.ctime()}, Cross-Validation, {X.shape[0]} rows, {X.shape[1]} cols\")\n",
    "\n",
    "    i = 0\n",
    "    for fold, (train_idx, valid_idx) in enumerate(cv.split(X)):\n",
    "        x_train, x_valid = X.loc[train_idx], X.loc[valid_idx]\n",
    "        oof_preds[valid_idx] = models[i].predict_proba(x_valid)[:, 1]\n",
    "        i += 1\n",
    "\n",
    "    print(\"=\"*65)\n",
    "    return oof_preds"
   ]
  },
  {
   "cell_type": "code",
   "execution_count": 54,
   "metadata": {
    "ExecuteTime": {
     "end_time": "2021-04-22T17:20:36.230147Z",
     "start_time": "2021-04-22T17:20:32.340486Z"
    }
   },
   "outputs": [
    {
     "name": "stdout",
     "output_type": "stream",
     "text": [
      "Thu Apr 22 20:20:32 2021, Cross-Validation, 165141 rows, 25 cols\n",
      "=================================================================\n"
     ]
    }
   ],
   "source": [
    "lgbm_oof_test_preds = lightgbm_cross_validation_predict(lgbm_estimators, X_test, lgbm_cv, cat_features)"
   ]
  },
  {
   "cell_type": "markdown",
   "metadata": {},
   "source": [
    "**Построим корреляции предсказаний теста**"
   ]
  },
  {
   "cell_type": "code",
   "execution_count": 55,
   "metadata": {
    "ExecuteTime": {
     "end_time": "2021-04-22T17:20:36.261149Z",
     "start_time": "2021-04-22T17:20:36.232147Z"
    }
   },
   "outputs": [],
   "source": [
    "scores_test = pd.DataFrame({\n",
    "    \"lgbm test\": lgbm_oof_test_preds,\n",
    "    \"xgb test\": xgb_oof_test_preds,\n",
    "})\n",
    "\n",
    "corr = scores_test.corr()\n",
    "mask = np.zeros_like(corr, dtype=np.bool)\n",
    "mask[np.triu_indices_from(mask)] = True"
   ]
  },
  {
   "cell_type": "code",
   "execution_count": 56,
   "metadata": {
    "ExecuteTime": {
     "end_time": "2021-04-22T17:20:36.498168Z",
     "start_time": "2021-04-22T17:20:36.264148Z"
    }
   },
   "outputs": [
    {
     "data": {
      "image/png": "[encoded data removed]",
      "text/plain": [
       "<Figure size 720x720 with 2 Axes>"
      ]
     },
     "metadata": {
      "needs_background": "light"
     },
     "output_type": "display_data"
    }
   ],
   "source": [
    "fig, axes = plt.subplots(1, 1, figsize=(10, 10))\n",
    "sns.heatmap(corr, mask=mask, annot=True, fmt=\".4g\", square=True, cmap=\"viridis\", ax=axes);"
   ]
  },
  {
   "cell_type": "markdown",
   "metadata": {},
   "source": [
    "**Корреляция предсказаний на трейне была 0.7845. На тесте = 0.7829**\n",
    "\n",
    "---"
   ]
  },
  {
   "cell_type": "markdown",
   "metadata": {},
   "source": [
    "# Задание 2"
   ]
  },
  {
   "cell_type": "markdown",
   "metadata": {},
   "source": [
    "**Усреднить прогнозы с помощью арифметического среднего, геометрического среднего и усреднить ранги, сделать выводы о качестве отдельных моделей и о качестве комбинации.**"
   ]
  },
  {
   "cell_type": "code",
   "execution_count": 57,
   "metadata": {
    "ExecuteTime": {
     "end_time": "2021-04-22T17:20:36.545198Z",
     "start_time": "2021-04-22T17:20:36.499148Z"
    }
   },
   "outputs": [
    {
     "name": "stdout",
     "output_type": "stream",
     "text": [
      "Score = 0.719\n"
     ]
    }
   ],
   "source": [
    "# Arithmetic mean\n",
    "scores_mean = scores_train.mean(axis=1)\n",
    "score = roc_auc_score(target, scores_mean)\n",
    "print(f\"Score = {round(score, 4)}\")"
   ]
  },
  {
   "cell_type": "markdown",
   "metadata": {},
   "source": [
    "Арифметическое среднее даёт 0.719 - лучше, чем было в lgbm = 0.7185."
   ]
  },
  {
   "cell_type": "code",
   "execution_count": 58,
   "metadata": {
    "ExecuteTime": {
     "end_time": "2021-04-22T17:20:36.592243Z",
     "start_time": "2021-04-22T17:20:36.546201Z"
    },
    "scrolled": true
   },
   "outputs": [
    {
     "name": "stdout",
     "output_type": "stream",
     "text": [
      "Score = 0.7154\n"
     ]
    }
   ],
   "source": [
    "# Geometric Mean\n",
    "scores_mean = gmean(scores_train, axis=1)\n",
    "score = roc_auc_score(target, scores_mean)\n",
    "print(f\"Score = {round(score, 4)}\")"
   ]
  },
  {
   "cell_type": "markdown",
   "metadata": {},
   "source": [
    "Геометрическое среднее даёт 0.7154 - хуже."
   ]
  },
  {
   "cell_type": "code",
   "execution_count": 59,
   "metadata": {
    "ExecuteTime": {
     "end_time": "2021-04-22T17:20:36.670198Z",
     "start_time": "2021-04-22T17:20:36.593200Z"
    }
   },
   "outputs": [
    {
     "name": "stdout",
     "output_type": "stream",
     "text": [
      "Score = 0.716\n"
     ]
    }
   ],
   "source": [
    "# Rankdata\n",
    "# ROC-AUC / GINI\n",
    "scores_mean = scores_train.rank().mean(axis=1)\n",
    "score = roc_auc_score(target, scores_mean)\n",
    "print(f\"Score = {round(score, 4)}\")"
   ]
  },
  {
   "cell_type": "code",
   "execution_count": 60,
   "metadata": {
    "ExecuteTime": {
     "end_time": "2021-04-22T17:20:36.733228Z",
     "start_time": "2021-04-22T17:20:36.672198Z"
    }
   },
   "outputs": [
    {
     "name": "stdout",
     "output_type": "stream",
     "text": [
      "Score = 0.718\n"
     ]
    }
   ],
   "source": [
    "scores_mean = gmean(scores_train.rank(), axis=1)\n",
    "score = roc_auc_score(target, scores_mean)\n",
    "print(f\"Score = {round(score, 4)}\")"
   ]
  },
  {
   "cell_type": "markdown",
   "metadata": {},
   "source": [
    "**Наилучший скор получается у среднего арифметического**.\n",
    "\n",
    "---"
   ]
  },
  {
   "cell_type": "markdown",
   "metadata": {},
   "source": [
    "# Задание 3"
   ]
  },
  {
   "cell_type": "markdown",
   "metadata": {},
   "source": [
    "**Обучить `CatBoost`, получить OOF прогнозы и выполнить задание 1 для трех моделей**."
   ]
  },
  {
   "cell_type": "markdown",
   "metadata": {},
   "source": [
    "Обучаем алгоритм CatBoost, получаем OOF прогнозы"
   ]
  },
  {
   "cell_type": "code",
   "execution_count": 61,
   "metadata": {
    "ExecuteTime": {
     "end_time": "2021-04-22T17:20:36.749227Z",
     "start_time": "2021-04-22T17:20:36.735197Z"
    }
   },
   "outputs": [],
   "source": [
    "def catboost_cross_validation(params, X, y, cv, categorical = None):\n",
    "    \"\"\"\n",
    "    Кросс-валидация для модели XGBoost.\n",
    "\n",
    "    Parameters\n",
    "    ----------\n",
    "    params: dict\n",
    "        Словарь гиперпараметров модели.\n",
    "\n",
    "    X: pandas.core.frame.DataFrame\n",
    "        Матрица признако для обучения модели.\n",
    "\n",
    "    y: pandas.core.frame.Series\n",
    "        Вектор целевой переменной для обучения модели.\n",
    "\n",
    "    cv: KFold or StratifiedKFold generator.\n",
    "        Объект KFold / StratifiedKFold для определения\n",
    "        стратегии кросс-валидации модели.\n",
    "\n",
    "    categorical: str, optional, default = None\n",
    "        Список категориальных признаков.\n",
    "        Опциональный параметр, по умолчанию, не используется.\n",
    "\n",
    "    Returns\n",
    "    -------\n",
    "    estimators: list\n",
    "        Список с объектами обученной модели.\n",
    "\n",
    "    encoders: dict\n",
    "        Список с объектами LabelEncoders.\n",
    "\n",
    "    oof_preds: np.array\n",
    "        Вектор OOF-прогнозов.\n",
    "\n",
    "    \"\"\"\n",
    "    estimators, folds_scores, encoders = [], [], {}\n",
    "    oof_preds = np.zeros(X.shape[0])\n",
    "\n",
    "    if categorical:\n",
    "        for feature in categorical:\n",
    "            encoder = LabelEncoder()\n",
    "            X[feature] = encoder.fit_transform(X[feature].astype(\"str\").fillna(\"NA\"))\n",
    "            encoders[feature] = encoder\n",
    "\n",
    "    print(f\"{time.ctime()}, Cross-Validation, {X.shape[0]} rows, {X.shape[1]} cols\")\n",
    "\n",
    "    for fold, (train_idx, valid_idx) in enumerate(cv.split(X, y)):\n",
    "\n",
    "        x_train, x_valid = X.loc[train_idx], X.loc[valid_idx]\n",
    "        y_train, y_valid = y[train_idx], y[valid_idx]\n",
    "        #train_pool = cb.Pool(x_train, y_train, cat_features=categorical)\n",
    "        #valid_pool = cb.Pool(x_valid, y_valid, cat_features=categorical)\n",
    "\n",
    "        model = cb.CatBoostClassifier(**params)\n",
    "        model.fit(\n",
    "            x_train,\n",
    "            y_train,\n",
    "            categorical,\n",
    "            eval_set=[(x_train, y_train), (x_valid, y_valid)],\n",
    "            verbose_eval=0,\n",
    "        )\n",
    "        oof_preds[valid_idx] = model.predict_proba(x_valid)[:, 1]\n",
    "        score = roc_auc_score(y_valid, oof_preds[valid_idx])\n",
    "        # print(f\"Fold {fold+1}, Valid score = {round(score, 5)}\")\n",
    "        folds_scores.append(round(score, 5))\n",
    "        estimators.append(model)\n",
    "\n",
    "    print(f\"Score by each fold: {folds_scores}\")\n",
    "    print(\"=\"*65)\n",
    "    return estimators, encoders, oof_preds"
   ]
  },
  {
   "cell_type": "code",
   "execution_count": 62,
   "metadata": {
    "ExecuteTime": {
     "end_time": "2021-04-22T17:25:15.507366Z",
     "start_time": "2021-04-22T17:20:36.751202Z"
    }
   },
   "outputs": [
    {
     "name": "stdout",
     "output_type": "stream",
     "text": [
      "Thu Apr 22 20:20:37 2021, Cross-Validation, 110093 rows, 25 cols\n",
      "Score by each fold: [0.73674, 0.73179, 0.72195, 0.71695, 0.72922, 0.72058, 0.72701, 0.71815, 0.71625, 0.71166]\n",
      "=================================================================\n"
     ]
    }
   ],
   "source": [
    "cb_params = {\n",
    "    #\"n_estimators\": 750,\n",
    "    \"loss_function\": \"Logloss\",\n",
    "    \"eval_metric\": \"AUC\",\n",
    "    \"task_type\": \"CPU\",\n",
    "    #\"max_bin\": 20,\n",
    "    \"verbose\": 0,\n",
    "    \"max_depth\": 6,\n",
    "    #\"l2_leaf_reg\": 100,\n",
    "    \"early_stopping_rounds\": 50,\n",
    "    \"thread_count\": -1,\n",
    "    \"random_seed\": 42\n",
    "}\n",
    "\n",
    "cb_cv = KFold(n_splits=10, random_state=42, shuffle=True)\n",
    "\n",
    "cb_estimators, cb_encoders, cb_oof_preds = catboost_cross_validation(\n",
    "    cb_params, data, target, cb_cv, cat_features\n",
    ")"
   ]
  },
  {
   "cell_type": "code",
   "execution_count": 63,
   "metadata": {
    "ExecuteTime": {
     "end_time": "2021-04-22T17:25:15.523364Z",
     "start_time": "2021-04-22T17:25:15.510368Z"
    },
    "scrolled": true
   },
   "outputs": [
    {
     "data": {
      "text/plain": [
       "(array([0.14025125, 0.49431974, 0.37914719, ..., 0.50569478, 0.28593276,\n",
       "        0.48474344]),\n",
       " array([0.02460046, 0.16096108, 0.06466153, ..., 0.08562571, 0.03146516,\n",
       "        0.08508746]),\n",
       " array([0.02424596, 0.08535358, 0.04240942, ..., 0.08094838, 0.03117069,\n",
       "        0.08706344]))"
      ]
     },
     "execution_count": 63,
     "metadata": {},
     "output_type": "execute_result"
    }
   ],
   "source": [
    "lgbm_oof_preds, xgb_oof_preds, cb_oof_preds,"
   ]
  },
  {
   "cell_type": "code",
   "execution_count": 64,
   "metadata": {
    "ExecuteTime": {
     "end_time": "2021-04-22T17:25:15.586365Z",
     "start_time": "2021-04-22T17:25:15.525367Z"
    }
   },
   "outputs": [
    {
     "name": "stdout",
     "output_type": "stream",
     "text": [
      "Score = 0.7223\n"
     ]
    }
   ],
   "source": [
    "score = roc_auc_score(target, cb_oof_preds)\n",
    "print(f\"Score = {round(score, 4)}\")"
   ]
  },
  {
   "cell_type": "markdown",
   "metadata": {},
   "source": [
    "**оценим корреляцию прогнозов на обучающей выборке**"
   ]
  },
  {
   "cell_type": "code",
   "execution_count": 65,
   "metadata": {
    "ExecuteTime": {
     "end_time": "2021-04-22T17:25:15.618374Z",
     "start_time": "2021-04-22T17:25:15.588368Z"
    }
   },
   "outputs": [],
   "source": [
    "scores_train = pd.DataFrame({\n",
    "    \"lgbm train\": lgbm_oof_preds,\n",
    "    \"xgb train\": xgb_oof_preds,\n",
    "    \"cat boost train\": cb_oof_preds,\n",
    "})\n",
    "\n",
    "corr = scores_train.corr()\n",
    "mask = np.zeros_like(corr, dtype=np.bool)\n",
    "mask[np.triu_indices_from(mask)] = True"
   ]
  },
  {
   "cell_type": "code",
   "execution_count": 66,
   "metadata": {
    "ExecuteTime": {
     "end_time": "2021-04-22T17:25:15.810368Z",
     "start_time": "2021-04-22T17:25:15.620367Z"
    }
   },
   "outputs": [
    {
     "data": {
      "image/png": "[encoded data removed]",
      "text/plain": [
       "<Figure size 720x720 with 2 Axes>"
      ]
     },
     "metadata": {
      "needs_background": "light"
     },
     "output_type": "display_data"
    }
   ],
   "source": [
    "fig, axes = plt.subplots(1, 1, figsize=(10, 10))\n",
    "sns.heatmap(corr, mask=mask, annot=True, fmt=\".4g\", square=True, cmap=\"viridis\", ax=axes);"
   ]
  },
  {
   "cell_type": "markdown",
   "metadata": {},
   "source": [
    "**Самая низкая корреляция на трейне между XGBoost и lightgbm**."
   ]
  },
  {
   "cell_type": "markdown",
   "metadata": {},
   "source": [
    "**Применим модели на тестовую выборку**"
   ]
  },
  {
   "cell_type": "code",
   "execution_count": 67,
   "metadata": {
    "ExecuteTime": {
     "end_time": "2021-04-22T17:25:15.826365Z",
     "start_time": "2021-04-22T17:25:15.811368Z"
    }
   },
   "outputs": [],
   "source": [
    "def catboost_cross_validation_predict(models, X, cv, categorical = None):\n",
    "    \"\"\"\n",
    "    Предсказания для модели LightGBM.\n",
    "\n",
    "    Parameters\n",
    "    ----------\n",
    "    models: list\n",
    "        Список обученных моделей.\n",
    "\n",
    "    X: pandas.core.frame.DataFrame\n",
    "        Матрица признаков для прогноза.\n",
    "\n",
    "    cv: KFold or StratifiedKFold generator.\n",
    "        Объект KFold / StratifiedKFold для определения\n",
    "        стратегии кросс-валидации модели.\n",
    "\n",
    "    categorical: str, optional, default = None\n",
    "        Список категориальных признаков.\n",
    "        Опциональный параметр, по умолчанию, не используется.\n",
    "\n",
    "    Returns\n",
    "    -------\n",
    "    oof_preds: np.array\n",
    "        Вектор OOF-прогнозов.\n",
    "\n",
    "    \"\"\"\n",
    "    if not categorical:\n",
    "        categorical = \"auto\"\n",
    "\n",
    "    oof_preds = np.zeros(X.shape[0])\n",
    "    print(f\"{time.ctime()}, Cross-Validation, {X.shape[0]} rows, {X.shape[1]} cols\")\n",
    "\n",
    "    i = 0\n",
    "    for fold, (train_idx, valid_idx) in enumerate(cv.split(X)):\n",
    "        x_train, x_valid = X.loc[train_idx], X.loc[valid_idx]\n",
    "        oof_preds[valid_idx] = models[i].predict_proba(x_valid)[:, 1]\n",
    "        i += 1\n",
    "\n",
    "    print(\"=\"*65)\n",
    "    return oof_preds"
   ]
  },
  {
   "cell_type": "code",
   "execution_count": 68,
   "metadata": {
    "ExecuteTime": {
     "end_time": "2021-04-22T17:25:16.380364Z",
     "start_time": "2021-04-22T17:25:15.840365Z"
    }
   },
   "outputs": [
    {
     "name": "stdout",
     "output_type": "stream",
     "text": [
      "Thu Apr 22 20:25:15 2021, Cross-Validation, 165141 rows, 25 cols\n",
      "=================================================================\n"
     ]
    }
   ],
   "source": [
    "catboost_oof_test_preds = catboost_cross_validation_predict(cb_estimators, X_test, cb_cv, cat_features)"
   ]
  },
  {
   "cell_type": "code",
   "execution_count": 69,
   "metadata": {
    "ExecuteTime": {
     "end_time": "2021-04-22T17:25:16.395937Z",
     "start_time": "2021-04-22T17:25:16.386365Z"
    }
   },
   "outputs": [
    {
     "data": {
      "text/plain": [
       "array([0.06522411, 0.25766805, 0.16121411, ..., 0.0827012 , 0.02391673,\n",
       "       0.05603946])"
      ]
     },
     "execution_count": 69,
     "metadata": {},
     "output_type": "execute_result"
    }
   ],
   "source": [
    "catboost_oof_test_preds"
   ]
  },
  {
   "cell_type": "markdown",
   "metadata": {},
   "source": [
    "**Построим корреляции предсказаний теста трёх моделей**"
   ]
  },
  {
   "cell_type": "code",
   "execution_count": 70,
   "metadata": {
    "ExecuteTime": {
     "end_time": "2021-04-22T17:25:16.427018Z",
     "start_time": "2021-04-22T17:25:16.398456Z"
    }
   },
   "outputs": [],
   "source": [
    "scores_test = pd.DataFrame({\n",
    "    \"lgbm test\": lgbm_oof_test_preds,\n",
    "    \"xgb test\": xgb_oof_test_preds,\n",
    "    \"cb test\": catboost_oof_test_preds,\n",
    "    \n",
    "})\n",
    "\n",
    "corr = scores_test.corr()\n",
    "mask = np.zeros_like(corr, dtype=np.bool)\n",
    "mask[np.triu_indices_from(mask)] = True"
   ]
  },
  {
   "cell_type": "code",
   "execution_count": 71,
   "metadata": {
    "ExecuteTime": {
     "end_time": "2021-04-22T17:25:16.615198Z",
     "start_time": "2021-04-22T17:25:16.429018Z"
    }
   },
   "outputs": [
    {
     "data": {
      "image/png": "[encoded data removed]",
      "text/plain": [
       "<Figure size 720x720 with 2 Axes>"
      ]
     },
     "metadata": {
      "needs_background": "light"
     },
     "output_type": "display_data"
    }
   ],
   "source": [
    "fig, axes = plt.subplots(1, 1, figsize=(10, 10))\n",
    "sns.heatmap(corr, mask=mask, annot=True, fmt=\".4g\", square=True, cmap=\"viridis\", ax=axes);"
   ]
  },
  {
   "cell_type": "markdown",
   "metadata": {},
   "source": [
    "**Самая низкая корреляция на тесте там же где и на трейне: между XGBoost и lightgbm**."
   ]
  },
  {
   "cell_type": "markdown",
   "metadata": {},
   "source": [
    "# Задание 4"
   ]
  },
  {
   "cell_type": "markdown",
   "metadata": {},
   "source": [
    "**Выполнить задание 2 для трех моделей**."
   ]
  },
  {
   "cell_type": "markdown",
   "metadata": {},
   "source": [
    "Усреднить прогнозы с помощью арифметического среднего, геометрического среднего и усреднить ранги, сделать выводы о качестве отдельных моделей и о качестве комбинации."
   ]
  },
  {
   "cell_type": "code",
   "execution_count": 72,
   "metadata": {
    "ExecuteTime": {
     "end_time": "2021-04-22T17:25:16.663063Z",
     "start_time": "2021-04-22T17:25:16.617022Z"
    }
   },
   "outputs": [
    {
     "name": "stdout",
     "output_type": "stream",
     "text": [
      "Score = 0.7209\n"
     ]
    }
   ],
   "source": [
    "# Arithmetic mean\n",
    "scores_mean = scores_train.mean(axis=1)\n",
    "score = roc_auc_score(target, scores_mean)\n",
    "print(f\"Score = {round(score, 4)}\")"
   ]
  },
  {
   "cell_type": "code",
   "execution_count": 73,
   "metadata": {
    "ExecuteTime": {
     "end_time": "2021-04-22T17:25:16.727058Z",
     "start_time": "2021-04-22T17:25:16.665019Z"
    }
   },
   "outputs": [
    {
     "name": "stdout",
     "output_type": "stream",
     "text": [
      "Score = 0.7213\n"
     ]
    }
   ],
   "source": [
    "# Geometric Mean\n",
    "scores_mean = gmean(scores_train, axis=1)\n",
    "score = roc_auc_score(target, scores_mean)\n",
    "print(f\"Score = {round(score, 4)}\")"
   ]
  },
  {
   "cell_type": "code",
   "execution_count": 74,
   "metadata": {
    "ExecuteTime": {
     "end_time": "2021-04-22T17:25:16.820195Z",
     "start_time": "2021-04-22T17:25:16.729019Z"
    }
   },
   "outputs": [
    {
     "name": "stdout",
     "output_type": "stream",
     "text": [
      "Score = 0.7206\n"
     ]
    }
   ],
   "source": [
    "# Rankdata\n",
    "# ROC-AUC / GINI\n",
    "scores_mean = scores_train.rank().mean(axis=1)\n",
    "score = roc_auc_score(target, scores_mean)\n",
    "print(f\"Score = {round(score, 4)}\")"
   ]
  },
  {
   "cell_type": "code",
   "execution_count": 75,
   "metadata": {
    "ExecuteTime": {
     "end_time": "2021-04-22T17:25:16.913057Z",
     "start_time": "2021-04-22T17:25:16.823021Z"
    }
   },
   "outputs": [
    {
     "name": "stdout",
     "output_type": "stream",
     "text": [
      "Score = 0.7215\n"
     ]
    }
   ],
   "source": [
    "scores_mean = gmean(scores_train.rank(), axis=1)\n",
    "score = roc_auc_score(target, scores_mean)\n",
    "print(f\"Score = {round(score, 4)}\")"
   ]
  },
  {
   "cell_type": "markdown",
   "metadata": {},
   "source": [
    "**Самый высокий скор 0.7212 даёт геометрическое среднее рангов**\n",
    "\n",
    "**Лучшая модель: CatBoost со скором 0.7222**"
   ]
  },
  {
   "cell_type": "markdown",
   "metadata": {},
   "source": [
    "5. (опция) Объединить OOF-прогнозы для трех моделей и обучить алгоритм Логистической регрессии (и любой другой, на ваше усмотрение). Сделать выводы о достигаемом качестве, сравнить достигаемое качество с качеством отдельных моделей и моделей, полученных в п.2 и п.4."
   ]
  },
  {
   "cell_type": "markdown",
   "metadata": {},
   "source": [
    "6. (опция) Обучить алгоритм `RandomForest` (желательно подтюнить параметры) и добавить к построенным ранее моделям. Выполнить задание 5."
   ]
  }
 ],
 "metadata": {
  "kernelspec": {
   "display_name": "Python 3",
   "language": "python",
   "name": "python3"
  },
  "language_info": {
   "codemirror_mode": {
    "name": "ipython",
    "version": 3
   },
   "file_extension": ".py",
   "mimetype": "text/x-python",
   "name": "python",
   "nbconvert_exporter": "python",
   "pygments_lexer": "ipython3",
   "version": "3.8.5"
  },
  "toc": {
   "base_numbering": 1,
   "nav_menu": {},
   "number_sections": false,
   "sideBar": true,
   "skip_h1_title": false,
   "title_cell": "Table of Contents",
   "title_sidebar": "Contents",
   "toc_cell": false,
   "toc_position": {
    "height": "calc(100% - 180px)",
    "left": "10px",
    "top": "150px",
    "width": "195.2px"
   },
   "toc_section_display": true,
   "toc_window_display": true
  },
  "varInspector": {
   "cols": {
    "lenName": 16,
    "lenType": 16,
    "lenVar": 40
   },
   "kernels_config": {
    "python": {
     "delete_cmd_postfix": "",
     "delete_cmd_prefix": "del ",
     "library": "var_list.py",
     "varRefreshCmd": "print(var_dic_list())"
    },
    "r": {
     "delete_cmd_postfix": ") ",
     "delete_cmd_prefix": "rm(",
     "library": "var_list.r",
     "varRefreshCmd": "cat(var_dic_list()) "
    }
   },
   "position": {
    "height": "546.4px",
    "left": "619px",
    "right": "20px",
    "top": "177px",
    "width": "758px"
   },
   "types_to_exclude": [
    "module",
    "function",
    "builtin_function_or_method",
    "instance",
    "_Feature"
   ],
   "window_display": false
  }
 },
 "nbformat": 4,
 "nbformat_minor": 4
}
