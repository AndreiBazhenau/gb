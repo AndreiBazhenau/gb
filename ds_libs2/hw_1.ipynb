{
 "cells": [
  {
   "cell_type": "markdown",
   "metadata": {},
   "source": [
    "**Урок 1. Введение в задачу классификации. Постановка задачи и подготовка данных**"
   ]
  },
  {
   "cell_type": "markdown",
   "metadata": {},
   "source": [
    "*Precision* - точность отражает какой процент объектов, отнесённых к \"основному\" классу, действительно являются таковыми.\n",
    "\n",
    "<center>$\\large precision = \\LARGE \\frac{TP}{TP \\: + \\: FP}$<center>\n",
    "\n",
    "*Recall* - полнота отражает какой процент объектов \"основного\" класса было обнаружено алгоритмом.\n",
    "\n",
    "<center>$\\large recall = \\LARGE \\frac{TP}{TP \\: + \\: FN}$<center>\n",
    "\n",
    "<img src=\"img\\prec_vs_recall.png\">\n",
    "\n",
    "**Confusion matrix (матрица ошибок)**  \n",
    "    \n",
    "*Пример*\n",
    "\n",
    "У нас есть выборка из 13 животных, из которых 8 - кошки и 5 - другие животные. После обучения классификатора, мы попробовали определить с его помощью класс животного (кошка это или нет) и что бы более наглядно увидеть результаты его работы построили следующую таблицу, которая называется \"матрицей ошибок / неточностей\".\n",
    "\n",
    "<img src=\"img\\confusion_matrix.jpg\">"
   ]
  },
  {
   "cell_type": "markdown",
   "metadata": {},
   "source": [
    "**1. Приведите по 2 примера, когда лучше максимизировать Precision, а когда Recall.**\n",
    "\n",
    "**Пример 1**. Определение спама в письмах. Максимизация полноты (recall) приведёт к тому, чтобы важные письма не попадали в спам. Максимизация Precision приведёт к тому, что будет заблокировано максимальное количество спама.\n",
    "\n",
    "**Пример 2**. Определение объекта в компьютерном зрении (например котиков). Максимизация Recall приведёт к минимизации количества объектов, которые мы определили как котиков, но которые не являются таковыми. Максимизация Precision даст снижение количества объектов, которые мы определели как не котики, но которые являются котиками."
   ]
  },
  {
   "cell_type": "markdown",
   "metadata": {},
   "source": [
    "**2. Почему мы используем F-меру, почему, например, нельзя просто взять среднее от Precision и Recall?**\n",
    "\n",
    "$$ F = \\frac{2 \\cdot precision \\cdot recall }{ presision + recall}$$\n",
    "\n",
    "<br/><br/>\n",
    "\n",
    "<center>$\\Large F_{\\beta} = (1+ \\beta^2) \\cdot \\frac{precision \\: \\cdot \\: recall}{(\\beta^2 \\cdot precision) \\: + \\: recall}$<center>\n",
    "    \n",
    "&nbsp;"
   ]
  },
  {
   "cell_type": "markdown",
   "metadata": {},
   "source": [
    "**Ответ**: Потому что F-мера штрафует экстремальные значения.\n",
    "\n",
    "Рассмотрим пример, когда классификатор возвращает нам всегда класс А. В действительности у нас бесконечное число элементов класса B и 1 элемент класса А. В этом случае:\n",
    "```\n",
    "Precision = 0\n",
    "Recall = 1\n",
    "```\n",
    "Среднее арифметическое даст нам 50%. Гармоническое среднее = 0.\n",
    "\n",
    "Поэтому F-мера является более корректным сравнением."
   ]
  }
 ],
 "metadata": {
  "kernelspec": {
   "display_name": "Python 3",
   "language": "python",
   "name": "python3"
  },
  "language_info": {
   "codemirror_mode": {
    "name": "ipython",
    "version": 3
   },
   "file_extension": ".py",
   "mimetype": "text/x-python",
   "name": "python",
   "nbconvert_exporter": "python",
   "pygments_lexer": "ipython3",
   "version": "3.8.5"
  },
  "toc": {
   "base_numbering": 1,
   "nav_menu": {},
   "number_sections": true,
   "sideBar": true,
   "skip_h1_title": false,
   "title_cell": "Table of Contents",
   "title_sidebar": "Contents",
   "toc_cell": false,
   "toc_position": {},
   "toc_section_display": true,
   "toc_window_display": false
  },
  "varInspector": {
   "cols": {
    "lenName": 16,
    "lenType": 16,
    "lenVar": 40
   },
   "kernels_config": {
    "python": {
     "delete_cmd_postfix": "",
     "delete_cmd_prefix": "del ",
     "library": "var_list.py",
     "varRefreshCmd": "print(var_dic_list())"
    },
    "r": {
     "delete_cmd_postfix": ") ",
     "delete_cmd_prefix": "rm(",
     "library": "var_list.r",
     "varRefreshCmd": "cat(var_dic_list()) "
    }
   },
   "types_to_exclude": [
    "module",
    "function",
    "builtin_function_or_method",
    "instance",
    "_Feature"
   ],
   "window_display": false
  }
 },
 "nbformat": 4,
 "nbformat_minor": 4
}
