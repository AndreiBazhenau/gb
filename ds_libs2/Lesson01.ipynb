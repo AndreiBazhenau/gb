{
 "cells": [
  {
   "cell_type": "markdown",
   "metadata": {},
   "source": [
    "## Урок 1.\n",
    "# Введение в задачу классификации.<br>Постановка задачи и подготовка данных.\n",
    "\n",
    "**План занятия**\n",
    "\n",
    "* [Теоретическая часть](#theory)\n",
    "    * [Задача классификации](#classification)\n",
    "    * [Метрики качества](#metrics)\n",
    "* [Практическая часть](#practice)\n",
    "    * [Постановка задачи](#task)\n",
    "    * [Загрузка данных](#load_data)\n",
    "    * [Приведение типов](#cast)\n",
    "    * [Обзор данных](#review)    \n",
    "    * [Обработка пропусков](#gaps)\n",
    "    * [Обработка выбросов](#outliers)\n",
    "    * [Построение новых признаков](#new_features)\n",
    "    * [Сохранение обучающего датасета](#saving)\n",
    "* [Курсовой проект](#course_project)\n",
    "    * [Постановка задачи](#course_project_task)\n",
    "    * [Примерное описание этапов выполнения курсового проекта](#course_project_steps)\n",
    "    * [Обзор данных](#course_project_review)    "
   ]
  },
  {
   "cell_type": "markdown",
   "metadata": {},
   "source": [
    "## <center>Теоретическая часть<a class=\"anchor\" id=\"theory\"></a><center>"
   ]
  },
  {
   "cell_type": "markdown",
   "metadata": {},
   "source": [
    "### Задача классификации<a class=\"anchor\" id=\"classification\"></a>"
   ]
  },
  {
   "cell_type": "markdown",
   "metadata": {},
   "source": [
    "Имеется множество объектов (ситуаций), разделённых некоторым образом на классы. Для некоторых объектов из этого множества известна их классовая принадлежность - это подмножество называется обучающей выборкой. Классовая принадлежность остальных объектов не известна. Требуется построить алгоритм, способный классифицировать произвольный объект из исходного множества.\n",
    "\n",
    "*Классифицировать объект* — значит, указать номер (или наименование класса), к которому относится данный объект.\n",
    "\n",
    "*Классификация объекта* — номер или наименование класса, выдаваемый алгоритмом классификации в результате его применения к данному конкретному объекту.\n",
    "\n",
    "Ссылка на источник:<br>\n",
    "http://www.machinelearning.ru/wiki/index.php?title=%D0%9A%D0%BB%D0%B0%D1%81%D1%81%D0%B8%D1%84%D0%B8%D0%BA%D0%B0%D1%86%D0%B8%D1%8F"
   ]
  },
  {
   "cell_type": "markdown",
   "metadata": {},
   "source": [
    "**Бинарная классификация**"
   ]
  },
  {
   "cell_type": "markdown",
   "metadata": {},
   "source": [
    "Данные разделены на два класса, необходимо обучить модель определять принадлежность произвольного объекта (из рассматриваемого множества) к одному из них. На выходе алгоритм должен выдавать либо метку одного из двух классов, либо вероятности принадлежности рассматриваемого объекта к каждому из них."
   ]
  },
  {
   "cell_type": "markdown",
   "metadata": {},
   "source": [
    "*Пример решения задачи бинарной классификации с помощью линейной модели*"
   ]
  },
  {
   "cell_type": "markdown",
   "metadata": {},
   "source": [
    "<img src=\"img\\bin_class.png\">"
   ]
  },
  {
   "cell_type": "markdown",
   "metadata": {},
   "source": [
    "*Пример решения задачи бинарной классификации с помощью деревьев решений*"
   ]
  },
  {
   "cell_type": "markdown",
   "metadata": {},
   "source": [
    "<img src=\"img\\bin_class2.jpg\">"
   ]
  },
  {
   "cell_type": "markdown",
   "metadata": {},
   "source": [
    "**Многоклассовая классификация**"
   ]
  },
  {
   "cell_type": "markdown",
   "metadata": {},
   "source": [
    "Постановка задачи аналогична задаче бинарной классификации, при условии, что количество классов больше двух.\n",
    "Решается задача, как правило, с помощью всё тех же бинарных классификаторов, но используются различные подходы при их обучении и агрегации прогнозов."
   ]
  },
  {
   "cell_type": "markdown",
   "metadata": {},
   "source": [
    "*Подход One-vs-All*\n",
    "\n",
    "Обучается N бинарных классификаторов, где N - количестве классов и N > 2, таким образом, что каждый из них учится определять только один вид класса от всех остальных. После чего входной объект оценивается каждым из классификаторов и принимается решение об отнесении объекта к одному из N классов, исходя из того, какой классификатор показал большую степень уверенности в том, что объект относится именно к его классу."
   ]
  },
  {
   "cell_type": "markdown",
   "metadata": {},
   "source": [
    "<img src=\"img\\multi_class.png\">"
   ]
  },
  {
   "cell_type": "markdown",
   "metadata": {},
   "source": [
    "### Метрики качества<a class=\"anchor\" id=\"metrics\"></a>"
   ]
  },
  {
   "cell_type": "markdown",
   "metadata": {},
   "source": [
    "**Confusion matrix (матрица ошибок)**"
   ]
  },
  {
   "cell_type": "markdown",
   "metadata": {},
   "source": [
    "*Пример*\n",
    "\n",
    "У нас есть выборка из 13 животных, из которых 8 - кошки и 5 - другие животные. После обучения классификатора, мы попробовали определить с его помощью класс животного (кошка это или нет) и что бы более наглядно увидеть результаты его работы построили следующую таблицу, которая называется \"матрицей ошибок / неточностей\"."
   ]
  },
  {
   "cell_type": "markdown",
   "metadata": {},
   "source": [
    "<img src=\"img\\confusion_matrix.jpg\">"
   ]
  },
  {
   "cell_type": "markdown",
   "metadata": {},
   "source": [
    "Positive - алгоритм предсказал, что объект относится к \"основному\" классу.\n",
    "* True Positive (TP) - истино-положительное решение, алгоритм предсказал, что объект относится к \"основному\" классу и оказался прав.\n",
    "* False Positive (FP) - ложно-положительное решение, алгоритм предсказал, что объект относится к \"основному\" классу и ошибся.\n",
    "\n",
    "Negative - алгоритм предсказал, что объект относится к \"альтернативному\" классу.\n",
    "* True Negative (TN) - истино-отрицательное решение, алгоритм предсказал, что объект относится к \"альтернативному\" классу и оказался прав.\n",
    "* False Negative (FN) - ложно-отрицательное решение, алгоритм предсказал, что объект относится к \"альтернативному\" классу и ошибся."
   ]
  },
  {
   "cell_type": "markdown",
   "metadata": {},
   "source": [
    "Исходя из этой нотации, получается, что 8 животных алгоритм классифицировал верно (5 - кошек и 3 - других вида), а в 5 случаях ошибся (алгоритм не распознал 3 кошки, а 2 других вида животных наоборот принял за кошек)."
   ]
  },
  {
   "cell_type": "markdown",
   "metadata": {},
   "source": [
    "**Accuracy (доля правильных ответов)**"
   ]
  },
  {
   "cell_type": "markdown",
   "metadata": {},
   "source": [
    "*Accuracy* - доля правильных ответов отражает процент объектов, для которых классы были определены верно, среди всего множества объектов."
   ]
  },
  {
   "cell_type": "markdown",
   "metadata": {},
   "source": [
    "<center>$\\large accuracy = \\LARGE \\frac{T}{N} = \\frac{TP \\: + \\: TN}{TP \\: + \\: TN \\: + \\: FP \\: + \\: FN}$<center>"
   ]
  },
  {
   "cell_type": "markdown",
   "metadata": {},
   "source": [
    "$T$ - количество объектов, для которых классы были определены верно<br>\n",
    "$N$ - общее количество объектов"
   ]
  },
  {
   "cell_type": "markdown",
   "metadata": {},
   "source": [
    "Основная проблема данной метрики в том, что она не позволяет производить более детализированную оценку работы алгоритма, как следствие она может показывать высокое качество в тех случаях, где алгоритм этого явно не заслуживает. \n",
    "\n",
    "Как пример рассмотри случай несбалансированной выборки, когда у нас есть 100 объектов, 90 из которых относятся к основному классу, а 10 к альтернатинвому. Мы можем добиться показателя данной метрики равного 0.9 (90% точность модели), если просто задим константную модель, которая всегда будет предсказывать основной класс."
   ]
  },
  {
   "cell_type": "markdown",
   "metadata": {},
   "source": [
    "**Precision (точность) & Recall (полнота)**"
   ]
  },
  {
   "cell_type": "markdown",
   "metadata": {},
   "source": [
    "*Precision* - точность отражает какой процент объектов, отнесённых к \"основному\" классу, действительно являются таковыми.\n",
    "\n",
    "*Recall* - полнота отражает какой процент объектов \"основного\" класса было обнаружено алгоритмом."
   ]
  },
  {
   "cell_type": "markdown",
   "metadata": {},
   "source": [
    "<center>$\\large precision = \\LARGE \\frac{TP}{TP \\: + \\: FP} \\:\\:\\:\\:\\: \\large recall = \\LARGE \\frac{TP}{TP \\: + \\: FN}$<center>"
   ]
  },
  {
   "cell_type": "markdown",
   "metadata": {},
   "source": [
    "<img src=\"img\\prec_vs_recall.png\">"
   ]
  },
  {
   "attachments": {
    "spam.png": {
     "image/png": "[encoded data removed]"
    }
   },
   "cell_type": "markdown",
   "metadata": {},
   "source": [
    "Пример с классификацией писем. 0 - не спам. 1 - спам.\n",
    "\n",
    "![spam.png](attachment:spam.png)"
   ]
  },
  {
   "cell_type": "markdown",
   "metadata": {},
   "source": [
    "**F-score (F-мера, гармоническое среднее)**"
   ]
  },
  {
   "cell_type": "markdown",
   "metadata": {},
   "source": [
    "Есть различные варианты объединения их в одну метрику, одним из наиболее удобных из них является *F-мера*, которая представляет собой среднее гармоническое между точностью и полнотой\n",
    "\n",
    "$$ F = \\frac{2 \\cdot precision \\cdot recall }{ presision + recall}$$\n",
    "\n",
    "В отличие от, например, среднего арифметического, если хотя бы один из аргументов близок к нулю, то и среднее гармоническое будет близко к нулю. По сути, F-мера является сглаженной версией минимума из точности и полноты (см. графики)."
   ]
  },
  {
   "cell_type": "markdown",
   "metadata": {},
   "source": [
    "*F-score* - метрика объединяющая в себе точность и полноту, выдавая как результат их гармоническое среднее, а коэффициент 0<$\\beta$<1, позволяет балансировать вклад, вносимый точностью, тем самым акцентируя внимание на той метрике, максимизация которой для нас наиболее приоритетна. Точнее акцентируюя внимание на Recall, а Precision - по остаточному принципу.\n",
    "\n",
    "Наиболее часто встречающаяся вариация данной метрики - это F1-score, когда $\\beta$ = 1, а влияние точности и полноты одинаково."
   ]
  },
  {
   "cell_type": "markdown",
   "metadata": {},
   "source": [
    "<center>$\\LARGE F_{\\beta} = (1+ \\beta^2) \\cdot \\frac{precision \\: \\cdot \\: recall}{(\\beta^2 \\cdot precision) \\: + \\: recall}$<center>"
   ]
  },
  {
   "cell_type": "markdown",
   "metadata": {},
   "source": [
    "**PR-кривая**"
   ]
  },
  {
   "cell_type": "markdown",
   "metadata": {},
   "source": [
    "Графичекая характеристика качества бинарного классификатора, отображает зависимость изменения точности алгоритма от его полноты."
   ]
  },
  {
   "cell_type": "markdown",
   "metadata": {},
   "source": [
    "<img src=\"img\\pr-curve.png\">"
   ]
  },
  {
   "cell_type": "markdown",
   "metadata": {},
   "source": [
    "**ROC-кривая**"
   ]
  },
  {
   "cell_type": "markdown",
   "metadata": {},
   "source": [
    "Графичекая характеристика качества бинарного классификатора, отображает зависимость доли верных положительных классификаций *True Positive Rate (TPR)* от доли ложных положительных классификаций *False Positive Rate (FPR)*."
   ]
  },
  {
   "cell_type": "markdown",
   "metadata": {},
   "source": [
    "<center>$\\large TPR = \\LARGE \\frac{TP}{TP \\: + \\: FN} \\:\\:\\:\\:\\: \\large FPR = \\LARGE \\frac{FP}{FP \\: + \\: TN}$<center>"
   ]
  },
  {
   "cell_type": "markdown",
   "metadata": {},
   "source": [
    "<img src=\"img\\roc-curve.png\">"
   ]
  },
  {
   "cell_type": "markdown",
   "metadata": {},
   "source": [
    "## <center>Практическая часть<a class=\"anchor\" id=\"practice\"></a><center>"
   ]
  },
  {
   "cell_type": "markdown",
   "metadata": {},
   "source": [
    "### Постановка задачи<a class=\"anchor\" id=\"task\"></a>"
   ]
  },
  {
   "cell_type": "markdown",
   "metadata": {},
   "source": [
    "Требуется на основании демографических данных о клиентах банка, истории их платежей и состоянии счета, предсказать невыполнение их обязательств по кредитной карте в следующем месяце."
   ]
  },
  {
   "cell_type": "markdown",
   "metadata": {},
   "source": [
    "**Описание датасета**\n",
    "\n",
    "* **LIMIT_BAL** - Сумма предоставленного кредита\n",
    "* **SEX** - Пол (1=мужчина, 2=женщина)\n",
    "* **EDUCATION** - Образование (1=аспирантура, 2=университет, 3=старшая школа, 4=прочее, 5=неизвестно, 6=неизвестно)\n",
    "* **MARRIAGE** - Семейное положение (1=женат/замужен, 2=не женат/не замуженм, 3=прочее)\n",
    "* **AGE** - Возраст (в годах)\n",
    "* **PAY_1** - Статус погашения в Сентябре (-1=погашен полностью, 0=погашен частично, 1=отсрочка платежа на один месяц, .., 3=отсрочка платежа на три месяца и более)\n",
    "* **PAY_2** - Статус погашения в Августе\n",
    "* **PAY_3** - Статус погашения в Июле\n",
    "* **PAY_4** - Статус погашения в Июне\n",
    "* **PAY_5** - Статус погашения в Мае\n",
    "* **PAY_6** - Статус погашения в Апреле\n",
    "* **BILL_AMT1** - Сумма выписки по счету в Сентябре\n",
    "* **BILL_AMT2** - Сумма выписки по счету в Августе\n",
    "* **BILL_AMT3** - Сумма выписки по счету в Июле\n",
    "* **BILL_AMT4** - Сумма выписки по счету в Июне\n",
    "* **BILL_AMT5** - Сумма выписки по счету в Мае\n",
    "* **BILL_AMT6** - Сумма выписки по счету в Апреле\n",
    "* **PAY_AMT1** - Сумма предыдущего платежа в Сентябре\n",
    "* **PAY_AMT2** - Сумма предыдущего платежа в Августе\n",
    "* **PAY_AMT3** - Сумма предыдущего платежа в Июле\n",
    "* **PAY_AMT4** - Сумма предыдущего платежа в Июне\n",
    "* **PAY_AMT5** - Сумма предыдущего платежа в Мае\n",
    "* **PAY_AMT6** - Сумма предыдущего платежа в Апреле\n",
    "* **NEXT_MONTH_DEFAULT** - Просрочка платежа в следующем месяце (1=да, 0=нет)"
   ]
  },
  {
   "cell_type": "markdown",
   "metadata": {},
   "source": [
    "- - - "
   ]
  },
  {
   "cell_type": "markdown",
   "metadata": {},
   "source": [
    "**Подключение библиотек и скриптов**"
   ]
  },
  {
   "cell_type": "code",
   "execution_count": 1,
   "metadata": {},
   "outputs": [],
   "source": [
    "import numpy as np\n",
    "import pandas as pd"
   ]
  },
  {
   "cell_type": "markdown",
   "metadata": {},
   "source": [
    "**Пути к директориям и файлам**"
   ]
  },
  {
   "cell_type": "code",
   "execution_count": 2,
   "metadata": {},
   "outputs": [],
   "source": [
    "# input\n",
    "DATASET_PATH = '../training_project_data.csv'\n",
    "\n",
    "# output\n",
    "PREP_DATASET_PATH = '../training_project_data_prep.csv'"
   ]
  },
  {
   "cell_type": "markdown",
   "metadata": {},
   "source": [
    "### Загрузка данных<a class=\"anchor\" id=\"load_data\"></a>"
   ]
  },
  {
   "cell_type": "code",
   "execution_count": 3,
   "metadata": {},
   "outputs": [
    {
     "data": {
      "text/html": [
       "<div>\n",
       "<style scoped>\n",
       "    .dataframe tbody tr th:only-of-type {\n",
       "        vertical-align: middle;\n",
       "    }\n",
       "\n",
       "    .dataframe tbody tr th {\n",
       "        vertical-align: top;\n",
       "    }\n",
       "\n",
       "    .dataframe thead th {\n",
       "        text-align: right;\n",
       "    }\n",
       "</style>\n",
       "<table border=\"1\" class=\"dataframe\">\n",
       "  <thead>\n",
       "    <tr style=\"text-align: right;\">\n",
       "      <th></th>\n",
       "      <th>LIMIT_BAL</th>\n",
       "      <th>SEX</th>\n",
       "      <th>EDUCATION</th>\n",
       "      <th>MARRIAGE</th>\n",
       "      <th>AGE</th>\n",
       "      <th>PAY_1</th>\n",
       "      <th>PAY_2</th>\n",
       "      <th>PAY_3</th>\n",
       "      <th>PAY_4</th>\n",
       "      <th>PAY_5</th>\n",
       "      <th>...</th>\n",
       "      <th>BILL_AMT4</th>\n",
       "      <th>BILL_AMT5</th>\n",
       "      <th>BILL_AMT6</th>\n",
       "      <th>PAY_AMT1</th>\n",
       "      <th>PAY_AMT2</th>\n",
       "      <th>PAY_AMT3</th>\n",
       "      <th>PAY_AMT4</th>\n",
       "      <th>PAY_AMT5</th>\n",
       "      <th>PAY_AMT6</th>\n",
       "      <th>NEXT_MONTH_DEFAULT</th>\n",
       "    </tr>\n",
       "  </thead>\n",
       "  <tbody>\n",
       "    <tr>\n",
       "      <th>0</th>\n",
       "      <td>150000.0</td>\n",
       "      <td>2</td>\n",
       "      <td>2</td>\n",
       "      <td>2</td>\n",
       "      <td>24</td>\n",
       "      <td>1</td>\n",
       "      <td>2</td>\n",
       "      <td>0</td>\n",
       "      <td>0</td>\n",
       "      <td>0</td>\n",
       "      <td>...</td>\n",
       "      <td>17853.0</td>\n",
       "      <td>34527.0</td>\n",
       "      <td>28277.0</td>\n",
       "      <td>0.0</td>\n",
       "      <td>2145.0</td>\n",
       "      <td>10000.0</td>\n",
       "      <td>22000.0</td>\n",
       "      <td>3000.0</td>\n",
       "      <td>5093.0</td>\n",
       "      <td>0</td>\n",
       "    </tr>\n",
       "    <tr>\n",
       "      <th>1</th>\n",
       "      <td>50000.0</td>\n",
       "      <td>2</td>\n",
       "      <td>3</td>\n",
       "      <td>1</td>\n",
       "      <td>46</td>\n",
       "      <td>3</td>\n",
       "      <td>3</td>\n",
       "      <td>3</td>\n",
       "      <td>3</td>\n",
       "      <td>2</td>\n",
       "      <td>...</td>\n",
       "      <td>30748.0</td>\n",
       "      <td>30162.0</td>\n",
       "      <td>30016.0</td>\n",
       "      <td>0.0</td>\n",
       "      <td>0.0</td>\n",
       "      <td>0.0</td>\n",
       "      <td>0.0</td>\n",
       "      <td>3100.0</td>\n",
       "      <td>798.0</td>\n",
       "      <td>1</td>\n",
       "    </tr>\n",
       "    <tr>\n",
       "      <th>2</th>\n",
       "      <td>150000.0</td>\n",
       "      <td>2</td>\n",
       "      <td>2</td>\n",
       "      <td>1</td>\n",
       "      <td>41</td>\n",
       "      <td>-1</td>\n",
       "      <td>-1</td>\n",
       "      <td>-1</td>\n",
       "      <td>-1</td>\n",
       "      <td>0</td>\n",
       "      <td>...</td>\n",
       "      <td>6784.0</td>\n",
       "      <td>6923.0</td>\n",
       "      <td>14116.0</td>\n",
       "      <td>0.0</td>\n",
       "      <td>0.0</td>\n",
       "      <td>6784.0</td>\n",
       "      <td>159.0</td>\n",
       "      <td>167.0</td>\n",
       "      <td>760.0</td>\n",
       "      <td>0</td>\n",
       "    </tr>\n",
       "    <tr>\n",
       "      <th>3</th>\n",
       "      <td>150000.0</td>\n",
       "      <td>2</td>\n",
       "      <td>2</td>\n",
       "      <td>2</td>\n",
       "      <td>35</td>\n",
       "      <td>0</td>\n",
       "      <td>0</td>\n",
       "      <td>0</td>\n",
       "      <td>0</td>\n",
       "      <td>0</td>\n",
       "      <td>...</td>\n",
       "      <td>55182.0</td>\n",
       "      <td>48983.0</td>\n",
       "      <td>50136.0</td>\n",
       "      <td>3500.0</td>\n",
       "      <td>2000.0</td>\n",
       "      <td>20000.0</td>\n",
       "      <td>2000.0</td>\n",
       "      <td>2000.0</td>\n",
       "      <td>2000.0</td>\n",
       "      <td>0</td>\n",
       "    </tr>\n",
       "    <tr>\n",
       "      <th>4</th>\n",
       "      <td>70000.0</td>\n",
       "      <td>2</td>\n",
       "      <td>1</td>\n",
       "      <td>1</td>\n",
       "      <td>35</td>\n",
       "      <td>1</td>\n",
       "      <td>2</td>\n",
       "      <td>2</td>\n",
       "      <td>2</td>\n",
       "      <td>2</td>\n",
       "      <td>...</td>\n",
       "      <td>47026.0</td>\n",
       "      <td>45971.0</td>\n",
       "      <td>47573.0</td>\n",
       "      <td>0.0</td>\n",
       "      <td>6500.0</td>\n",
       "      <td>1800.0</td>\n",
       "      <td>0.0</td>\n",
       "      <td>2500.0</td>\n",
       "      <td>2000.0</td>\n",
       "      <td>0</td>\n",
       "    </tr>\n",
       "  </tbody>\n",
       "</table>\n",
       "<p>5 rows × 24 columns</p>\n",
       "</div>"
      ],
      "text/plain": [
       "   LIMIT_BAL  SEX  EDUCATION  MARRIAGE  AGE  PAY_1  PAY_2  PAY_3  PAY_4  \\\n",
       "0   150000.0    2          2         2   24      1      2      0      0   \n",
       "1    50000.0    2          3         1   46      3      3      3      3   \n",
       "2   150000.0    2          2         1   41     -1     -1     -1     -1   \n",
       "3   150000.0    2          2         2   35      0      0      0      0   \n",
       "4    70000.0    2          1         1   35      1      2      2      2   \n",
       "\n",
       "   PAY_5  ...  BILL_AMT4  BILL_AMT5  BILL_AMT6  PAY_AMT1  PAY_AMT2  PAY_AMT3  \\\n",
       "0      0  ...    17853.0    34527.0    28277.0       0.0    2145.0   10000.0   \n",
       "1      2  ...    30748.0    30162.0    30016.0       0.0       0.0       0.0   \n",
       "2      0  ...     6784.0     6923.0    14116.0       0.0       0.0    6784.0   \n",
       "3      0  ...    55182.0    48983.0    50136.0    3500.0    2000.0   20000.0   \n",
       "4      2  ...    47026.0    45971.0    47573.0       0.0    6500.0    1800.0   \n",
       "\n",
       "   PAY_AMT4  PAY_AMT5  PAY_AMT6  NEXT_MONTH_DEFAULT  \n",
       "0   22000.0    3000.0    5093.0                   0  \n",
       "1       0.0    3100.0     798.0                   1  \n",
       "2     159.0     167.0     760.0                   0  \n",
       "3    2000.0    2000.0    2000.0                   0  \n",
       "4       0.0    2500.0    2000.0                   0  \n",
       "\n",
       "[5 rows x 24 columns]"
      ]
     },
     "execution_count": 3,
     "metadata": {},
     "output_type": "execute_result"
    }
   ],
   "source": [
    "df = pd.read_csv(DATASET_PATH)\n",
    "df.head()"
   ]
  },
  {
   "cell_type": "code",
   "execution_count": 4,
   "metadata": {},
   "outputs": [
    {
     "data": {
      "text/plain": [
       "(10000, 24)"
      ]
     },
     "execution_count": 4,
     "metadata": {},
     "output_type": "execute_result"
    }
   ],
   "source": [
    "df.shape"
   ]
  },
  {
   "cell_type": "code",
   "execution_count": 5,
   "metadata": {},
   "outputs": [
    {
     "data": {
      "text/plain": [
       "LIMIT_BAL             150000.0\n",
       "SEX                        2.0\n",
       "EDUCATION                  2.0\n",
       "MARRIAGE                   2.0\n",
       "AGE                       24.0\n",
       "PAY_1                      1.0\n",
       "PAY_2                      2.0\n",
       "PAY_3                      0.0\n",
       "PAY_4                      0.0\n",
       "PAY_5                      0.0\n",
       "PAY_6                      0.0\n",
       "BILL_AMT1              65542.0\n",
       "BILL_AMT2              28311.0\n",
       "BILL_AMT3              23978.0\n",
       "BILL_AMT4              17853.0\n",
       "BILL_AMT5              34527.0\n",
       "BILL_AMT6              28277.0\n",
       "PAY_AMT1                   0.0\n",
       "PAY_AMT2                2145.0\n",
       "PAY_AMT3               10000.0\n",
       "PAY_AMT4               22000.0\n",
       "PAY_AMT5                3000.0\n",
       "PAY_AMT6                5093.0\n",
       "NEXT_MONTH_DEFAULT         0.0\n",
       "Name: 0, dtype: float64"
      ]
     },
     "execution_count": 5,
     "metadata": {},
     "output_type": "execute_result"
    }
   ],
   "source": [
    "df.iloc[0]"
   ]
  },
  {
   "cell_type": "code",
   "execution_count": 6,
   "metadata": {},
   "outputs": [
    {
     "name": "stdout",
     "output_type": "stream",
     "text": [
      "<class 'pandas.core.frame.DataFrame'>\n",
      "RangeIndex: 10000 entries, 0 to 9999\n",
      "Data columns (total 24 columns):\n",
      "LIMIT_BAL             10000 non-null float64\n",
      "SEX                   10000 non-null int64\n",
      "EDUCATION             10000 non-null int64\n",
      "MARRIAGE              10000 non-null int64\n",
      "AGE                   10000 non-null int64\n",
      "PAY_1                 10000 non-null int64\n",
      "PAY_2                 10000 non-null int64\n",
      "PAY_3                 10000 non-null int64\n",
      "PAY_4                 10000 non-null int64\n",
      "PAY_5                 10000 non-null int64\n",
      "PAY_6                 10000 non-null int64\n",
      "BILL_AMT1             10000 non-null float64\n",
      "BILL_AMT2             10000 non-null float64\n",
      "BILL_AMT3             10000 non-null float64\n",
      "BILL_AMT4             10000 non-null float64\n",
      "BILL_AMT5             10000 non-null float64\n",
      "BILL_AMT6             10000 non-null float64\n",
      "PAY_AMT1              10000 non-null float64\n",
      "PAY_AMT2              10000 non-null float64\n",
      "PAY_AMT3              10000 non-null float64\n",
      "PAY_AMT4              10000 non-null float64\n",
      "PAY_AMT5              10000 non-null float64\n",
      "PAY_AMT6              10000 non-null float64\n",
      "NEXT_MONTH_DEFAULT    10000 non-null int64\n",
      "dtypes: float64(13), int64(11)\n",
      "memory usage: 1.8 MB\n"
     ]
    }
   ],
   "source": [
    "df.info()"
   ]
  },
  {
   "cell_type": "markdown",
   "metadata": {},
   "source": [
    "### Приведение типов<a class=\"anchor\" id=\"cast\"></a>"
   ]
  },
  {
   "cell_type": "code",
   "execution_count": 7,
   "metadata": {},
   "outputs": [],
   "source": [
    "for colname in ['SEX', 'EDUCATION', 'MARRIAGE', 'PAY_1', 'PAY_2', 'PAY_3', 'PAY_4', 'PAY_5', 'PAY_6']:\n",
    "    df[colname] = df[colname].astype(str)"
   ]
  },
  {
   "cell_type": "code",
   "execution_count": 8,
   "metadata": {},
   "outputs": [
    {
     "data": {
      "text/plain": [
       "LIMIT_BAL             float64\n",
       "SEX                    object\n",
       "EDUCATION              object\n",
       "MARRIAGE               object\n",
       "AGE                     int64\n",
       "PAY_1                  object\n",
       "PAY_2                  object\n",
       "PAY_3                  object\n",
       "PAY_4                  object\n",
       "PAY_5                  object\n",
       "PAY_6                  object\n",
       "BILL_AMT1             float64\n",
       "BILL_AMT2             float64\n",
       "BILL_AMT3             float64\n",
       "BILL_AMT4             float64\n",
       "BILL_AMT5             float64\n",
       "BILL_AMT6             float64\n",
       "PAY_AMT1              float64\n",
       "PAY_AMT2              float64\n",
       "PAY_AMT3              float64\n",
       "PAY_AMT4              float64\n",
       "PAY_AMT5              float64\n",
       "PAY_AMT6              float64\n",
       "NEXT_MONTH_DEFAULT      int64\n",
       "dtype: object"
      ]
     },
     "execution_count": 8,
     "metadata": {},
     "output_type": "execute_result"
    }
   ],
   "source": [
    "df.dtypes"
   ]
  },
  {
   "cell_type": "markdown",
   "metadata": {},
   "source": [
    "### Обзор данных<a class=\"anchor\" id=\"review\"></a>"
   ]
  },
  {
   "cell_type": "markdown",
   "metadata": {},
   "source": [
    "**Обзор целевой переменной**"
   ]
  },
  {
   "cell_type": "code",
   "execution_count": 9,
   "metadata": {},
   "outputs": [
    {
     "data": {
      "text/plain": [
       "0    7805\n",
       "1    2195\n",
       "Name: NEXT_MONTH_DEFAULT, dtype: int64"
      ]
     },
     "execution_count": 9,
     "metadata": {},
     "output_type": "execute_result"
    }
   ],
   "source": [
    "df['NEXT_MONTH_DEFAULT'].value_counts()"
   ]
  },
  {
   "cell_type": "markdown",
   "metadata": {},
   "source": [
    "**Обзор количественных признаков**"
   ]
  },
  {
   "cell_type": "code",
   "execution_count": 10,
   "metadata": {},
   "outputs": [
    {
     "data": {
      "text/html": [
       "<div>\n",
       "<style scoped>\n",
       "    .dataframe tbody tr th:only-of-type {\n",
       "        vertical-align: middle;\n",
       "    }\n",
       "\n",
       "    .dataframe tbody tr th {\n",
       "        vertical-align: top;\n",
       "    }\n",
       "\n",
       "    .dataframe thead th {\n",
       "        text-align: right;\n",
       "    }\n",
       "</style>\n",
       "<table border=\"1\" class=\"dataframe\">\n",
       "  <thead>\n",
       "    <tr style=\"text-align: right;\">\n",
       "      <th></th>\n",
       "      <th>LIMIT_BAL</th>\n",
       "      <th>AGE</th>\n",
       "      <th>BILL_AMT1</th>\n",
       "      <th>BILL_AMT2</th>\n",
       "      <th>BILL_AMT3</th>\n",
       "      <th>BILL_AMT4</th>\n",
       "      <th>BILL_AMT5</th>\n",
       "      <th>BILL_AMT6</th>\n",
       "      <th>PAY_AMT1</th>\n",
       "      <th>PAY_AMT2</th>\n",
       "      <th>PAY_AMT3</th>\n",
       "      <th>PAY_AMT4</th>\n",
       "      <th>PAY_AMT5</th>\n",
       "      <th>PAY_AMT6</th>\n",
       "      <th>NEXT_MONTH_DEFAULT</th>\n",
       "    </tr>\n",
       "  </thead>\n",
       "  <tbody>\n",
       "    <tr>\n",
       "      <th>count</th>\n",
       "      <td>10000.000000</td>\n",
       "      <td>10000.00000</td>\n",
       "      <td>10000.000000</td>\n",
       "      <td>10000.000000</td>\n",
       "      <td>10000.00000</td>\n",
       "      <td>10000.000000</td>\n",
       "      <td>10000.000000</td>\n",
       "      <td>10000.000000</td>\n",
       "      <td>10000.00000</td>\n",
       "      <td>1.000000e+04</td>\n",
       "      <td>10000.000000</td>\n",
       "      <td>10000.000000</td>\n",
       "      <td>10000.000000</td>\n",
       "      <td>10000.000000</td>\n",
       "      <td>10000.000000</td>\n",
       "    </tr>\n",
       "    <tr>\n",
       "      <th>mean</th>\n",
       "      <td>168182.000000</td>\n",
       "      <td>35.39600</td>\n",
       "      <td>51490.560500</td>\n",
       "      <td>49298.972000</td>\n",
       "      <td>47292.40850</td>\n",
       "      <td>43605.665800</td>\n",
       "      <td>40347.829700</td>\n",
       "      <td>38996.784300</td>\n",
       "      <td>5511.82970</td>\n",
       "      <td>5.931217e+03</td>\n",
       "      <td>5385.050600</td>\n",
       "      <td>4585.585700</td>\n",
       "      <td>4712.134300</td>\n",
       "      <td>5055.019400</td>\n",
       "      <td>0.219500</td>\n",
       "    </tr>\n",
       "    <tr>\n",
       "      <th>std</th>\n",
       "      <td>130118.668771</td>\n",
       "      <td>9.19536</td>\n",
       "      <td>74906.094564</td>\n",
       "      <td>71808.952137</td>\n",
       "      <td>69398.13263</td>\n",
       "      <td>65062.788893</td>\n",
       "      <td>61044.676044</td>\n",
       "      <td>59682.999879</td>\n",
       "      <td>14748.85889</td>\n",
       "      <td>2.204220e+04</td>\n",
       "      <td>18527.041096</td>\n",
       "      <td>14066.147593</td>\n",
       "      <td>14080.847065</td>\n",
       "      <td>17359.210922</td>\n",
       "      <td>0.413929</td>\n",
       "    </tr>\n",
       "    <tr>\n",
       "      <th>min</th>\n",
       "      <td>10000.000000</td>\n",
       "      <td>21.00000</td>\n",
       "      <td>-11545.000000</td>\n",
       "      <td>-24704.000000</td>\n",
       "      <td>-157264.00000</td>\n",
       "      <td>-65167.000000</td>\n",
       "      <td>-23003.000000</td>\n",
       "      <td>-339603.000000</td>\n",
       "      <td>0.00000</td>\n",
       "      <td>0.000000e+00</td>\n",
       "      <td>0.000000</td>\n",
       "      <td>0.000000</td>\n",
       "      <td>0.000000</td>\n",
       "      <td>0.000000</td>\n",
       "      <td>0.000000</td>\n",
       "    </tr>\n",
       "    <tr>\n",
       "      <th>25%</th>\n",
       "      <td>50000.000000</td>\n",
       "      <td>28.00000</td>\n",
       "      <td>3388.000000</td>\n",
       "      <td>3016.500000</td>\n",
       "      <td>2561.75000</td>\n",
       "      <td>2400.000000</td>\n",
       "      <td>1703.250000</td>\n",
       "      <td>1300.750000</td>\n",
       "      <td>1000.00000</td>\n",
       "      <td>7.492500e+02</td>\n",
       "      <td>390.000000</td>\n",
       "      <td>277.250000</td>\n",
       "      <td>300.000000</td>\n",
       "      <td>150.750000</td>\n",
       "      <td>0.000000</td>\n",
       "    </tr>\n",
       "    <tr>\n",
       "      <th>50%</th>\n",
       "      <td>140000.000000</td>\n",
       "      <td>34.00000</td>\n",
       "      <td>22896.500000</td>\n",
       "      <td>21576.000000</td>\n",
       "      <td>20370.50000</td>\n",
       "      <td>19194.000000</td>\n",
       "      <td>18261.000000</td>\n",
       "      <td>17338.000000</td>\n",
       "      <td>2163.50000</td>\n",
       "      <td>2.001000e+03</td>\n",
       "      <td>1800.000000</td>\n",
       "      <td>1500.000000</td>\n",
       "      <td>1543.000000</td>\n",
       "      <td>1500.000000</td>\n",
       "      <td>0.000000</td>\n",
       "    </tr>\n",
       "    <tr>\n",
       "      <th>75%</th>\n",
       "      <td>240000.000000</td>\n",
       "      <td>41.00000</td>\n",
       "      <td>67834.750000</td>\n",
       "      <td>64243.500000</td>\n",
       "      <td>60783.25000</td>\n",
       "      <td>55731.250000</td>\n",
       "      <td>50491.000000</td>\n",
       "      <td>49696.000000</td>\n",
       "      <td>5001.00000</td>\n",
       "      <td>5.000000e+03</td>\n",
       "      <td>4651.500000</td>\n",
       "      <td>4014.250000</td>\n",
       "      <td>4100.000000</td>\n",
       "      <td>4000.000000</td>\n",
       "      <td>0.000000</td>\n",
       "    </tr>\n",
       "    <tr>\n",
       "      <th>max</th>\n",
       "      <td>1000000.000000</td>\n",
       "      <td>75.00000</td>\n",
       "      <td>964511.000000</td>\n",
       "      <td>983931.000000</td>\n",
       "      <td>689643.00000</td>\n",
       "      <td>891586.000000</td>\n",
       "      <td>927171.000000</td>\n",
       "      <td>961664.000000</td>\n",
       "      <td>493358.00000</td>\n",
       "      <td>1.227082e+06</td>\n",
       "      <td>896040.000000</td>\n",
       "      <td>432130.000000</td>\n",
       "      <td>417990.000000</td>\n",
       "      <td>422000.000000</td>\n",
       "      <td>1.000000</td>\n",
       "    </tr>\n",
       "  </tbody>\n",
       "</table>\n",
       "</div>"
      ],
      "text/plain": [
       "            LIMIT_BAL          AGE      BILL_AMT1      BILL_AMT2  \\\n",
       "count    10000.000000  10000.00000   10000.000000   10000.000000   \n",
       "mean    168182.000000     35.39600   51490.560500   49298.972000   \n",
       "std     130118.668771      9.19536   74906.094564   71808.952137   \n",
       "min      10000.000000     21.00000  -11545.000000  -24704.000000   \n",
       "25%      50000.000000     28.00000    3388.000000    3016.500000   \n",
       "50%     140000.000000     34.00000   22896.500000   21576.000000   \n",
       "75%     240000.000000     41.00000   67834.750000   64243.500000   \n",
       "max    1000000.000000     75.00000  964511.000000  983931.000000   \n",
       "\n",
       "          BILL_AMT3      BILL_AMT4      BILL_AMT5      BILL_AMT6  \\\n",
       "count   10000.00000   10000.000000   10000.000000   10000.000000   \n",
       "mean    47292.40850   43605.665800   40347.829700   38996.784300   \n",
       "std     69398.13263   65062.788893   61044.676044   59682.999879   \n",
       "min   -157264.00000  -65167.000000  -23003.000000 -339603.000000   \n",
       "25%      2561.75000    2400.000000    1703.250000    1300.750000   \n",
       "50%     20370.50000   19194.000000   18261.000000   17338.000000   \n",
       "75%     60783.25000   55731.250000   50491.000000   49696.000000   \n",
       "max    689643.00000  891586.000000  927171.000000  961664.000000   \n",
       "\n",
       "           PAY_AMT1      PAY_AMT2       PAY_AMT3       PAY_AMT4  \\\n",
       "count   10000.00000  1.000000e+04   10000.000000   10000.000000   \n",
       "mean     5511.82970  5.931217e+03    5385.050600    4585.585700   \n",
       "std     14748.85889  2.204220e+04   18527.041096   14066.147593   \n",
       "min         0.00000  0.000000e+00       0.000000       0.000000   \n",
       "25%      1000.00000  7.492500e+02     390.000000     277.250000   \n",
       "50%      2163.50000  2.001000e+03    1800.000000    1500.000000   \n",
       "75%      5001.00000  5.000000e+03    4651.500000    4014.250000   \n",
       "max    493358.00000  1.227082e+06  896040.000000  432130.000000   \n",
       "\n",
       "            PAY_AMT5       PAY_AMT6  NEXT_MONTH_DEFAULT  \n",
       "count   10000.000000   10000.000000        10000.000000  \n",
       "mean     4712.134300    5055.019400            0.219500  \n",
       "std     14080.847065   17359.210922            0.413929  \n",
       "min         0.000000       0.000000            0.000000  \n",
       "25%       300.000000     150.750000            0.000000  \n",
       "50%      1543.000000    1500.000000            0.000000  \n",
       "75%      4100.000000    4000.000000            0.000000  \n",
       "max    417990.000000  422000.000000            1.000000  "
      ]
     },
     "execution_count": 10,
     "metadata": {},
     "output_type": "execute_result"
    }
   ],
   "source": [
    "df.describe()"
   ]
  },
  {
   "cell_type": "markdown",
   "metadata": {},
   "source": [
    "**Обзор номинативных признаков**"
   ]
  },
  {
   "cell_type": "code",
   "execution_count": 11,
   "metadata": {
    "scrolled": false
   },
   "outputs": [
    {
     "name": "stdout",
     "output_type": "stream",
     "text": [
      "SEX\n",
      "\n",
      "2    6068\n",
      "1    3932\n",
      "Name: SEX, dtype: int64\n",
      "****************************************************************************************************\n",
      "\n",
      "EDUCATION\n",
      "\n",
      "2    4678\n",
      "1    3496\n",
      "3    1674\n",
      "5      90\n",
      "4      42\n",
      "6      18\n",
      "0       2\n",
      "Name: EDUCATION, dtype: int64\n",
      "****************************************************************************************************\n",
      "\n",
      "MARRIAGE\n",
      "\n",
      "2    5332\n",
      "1    4547\n",
      "3     108\n",
      "0      13\n",
      "Name: MARRIAGE, dtype: int64\n",
      "****************************************************************************************************\n",
      "\n",
      "PAY_1\n",
      "\n",
      "0     4895\n",
      "-1    2852\n",
      "1     1217\n",
      "2      881\n",
      "3      155\n",
      "Name: PAY_1, dtype: int64\n",
      "****************************************************************************************************\n",
      "\n",
      "PAY_2\n",
      "\n",
      "0     5178\n",
      "-1    3318\n",
      "2     1318\n",
      "3      175\n",
      "1       11\n",
      "Name: PAY_2, dtype: int64\n",
      "****************************************************************************************************\n",
      "\n",
      "PAY_3\n",
      "\n",
      "0     5200\n",
      "-1    3379\n",
      "2     1288\n",
      "3      131\n",
      "1        2\n",
      "Name: PAY_3, dtype: int64\n",
      "****************************************************************************************************\n",
      "\n",
      "PAY_4\n",
      "\n",
      "0     5459\n",
      "-1    3360\n",
      "2     1064\n",
      "3      117\n",
      "Name: PAY_4, dtype: int64\n",
      "****************************************************************************************************\n",
      "\n",
      "PAY_5\n",
      "\n",
      "0     5601\n",
      "-1    3398\n",
      "2      894\n",
      "3      107\n",
      "Name: PAY_5, dtype: int64\n",
      "****************************************************************************************************\n",
      "\n",
      "PAY_6\n",
      "\n",
      "0     5394\n",
      "-1    3585\n",
      "2      927\n",
      "3       94\n",
      "Name: PAY_6, dtype: int64\n",
      "****************************************************************************************************\n",
      "\n"
     ]
    }
   ],
   "source": [
    "for cat_colname in df.select_dtypes(include='object').columns:\n",
    "    print(str(cat_colname) + '\\n\\n' + str(df[cat_colname].value_counts()) + '\\n' + '*' * 100 + '\\n')"
   ]
  },
  {
   "cell_type": "markdown",
   "metadata": {},
   "source": [
    "### Обработка пропусков<a class=\"anchor\" id=\"gaps\"></a>"
   ]
  },
  {
   "cell_type": "code",
   "execution_count": 12,
   "metadata": {},
   "outputs": [
    {
     "data": {
      "text/plain": [
       "LIMIT_BAL             0\n",
       "SEX                   0\n",
       "EDUCATION             0\n",
       "MARRIAGE              0\n",
       "AGE                   0\n",
       "PAY_1                 0\n",
       "PAY_2                 0\n",
       "PAY_3                 0\n",
       "PAY_4                 0\n",
       "PAY_5                 0\n",
       "PAY_6                 0\n",
       "BILL_AMT1             0\n",
       "BILL_AMT2             0\n",
       "BILL_AMT3             0\n",
       "BILL_AMT4             0\n",
       "BILL_AMT5             0\n",
       "BILL_AMT6             0\n",
       "PAY_AMT1              0\n",
       "PAY_AMT2              0\n",
       "PAY_AMT3              0\n",
       "PAY_AMT4              0\n",
       "PAY_AMT5              0\n",
       "PAY_AMT6              0\n",
       "NEXT_MONTH_DEFAULT    0\n",
       "dtype: int64"
      ]
     },
     "execution_count": 12,
     "metadata": {},
     "output_type": "execute_result"
    }
   ],
   "source": [
    "len(df) - df.count()"
   ]
  },
  {
   "cell_type": "markdown",
   "metadata": {},
   "source": [
    "### Обработка выбросов<a class=\"anchor\" id=\"outliers\"></a>"
   ]
  },
  {
   "cell_type": "markdown",
   "metadata": {},
   "source": [
    "**EDUCATION**"
   ]
  },
  {
   "cell_type": "code",
   "execution_count": 13,
   "metadata": {},
   "outputs": [],
   "source": [
    "df.loc[df['EDUCATION'] == '0', 'EDUCATION'] = df['EDUCATION'].mode()[0]"
   ]
  },
  {
   "cell_type": "markdown",
   "metadata": {},
   "source": [
    "**MARRIAGE**"
   ]
  },
  {
   "cell_type": "code",
   "execution_count": 14,
   "metadata": {},
   "outputs": [],
   "source": [
    "df.loc[df['MARRIAGE'] == '0', 'MARRIAGE'] = df['MARRIAGE'].mode()[0]"
   ]
  },
  {
   "cell_type": "markdown",
   "metadata": {},
   "source": [
    "### Построение новых признаков<a class=\"anchor\" id=\"new_features\"></a>"
   ]
  },
  {
   "cell_type": "markdown",
   "metadata": {},
   "source": [
    "**Id**"
   ]
  },
  {
   "cell_type": "code",
   "execution_count": 15,
   "metadata": {},
   "outputs": [],
   "source": [
    "df['ID'] = df.index.tolist()"
   ]
  },
  {
   "cell_type": "markdown",
   "metadata": {},
   "source": [
    "**Dummies**"
   ]
  },
  {
   "cell_type": "code",
   "execution_count": 16,
   "metadata": {},
   "outputs": [],
   "source": [
    "df['IS_MALE'] = df['SEX'].map({'1':'1', '2':'0'}).astype(int)"
   ]
  },
  {
   "cell_type": "code",
   "execution_count": 17,
   "metadata": {},
   "outputs": [],
   "source": [
    "for cat_colname in df.select_dtypes(include='object').columns[1:]:\n",
    "    df = pd.concat([df, pd.get_dummies(df[cat_colname], prefix=cat_colname)], axis=1)"
   ]
  },
  {
   "cell_type": "markdown",
   "metadata": {},
   "source": [
    "### Сохранение обучающего датасета<a class=\"anchor\" id=\"saving\"></a>"
   ]
  },
  {
   "cell_type": "code",
   "execution_count": 18,
   "metadata": {},
   "outputs": [],
   "source": [
    "df.to_csv(PREP_DATASET_PATH, index=False, encoding='utf-8')"
   ]
  },
  {
   "cell_type": "markdown",
   "metadata": {},
   "source": [
    "## <center>Курсовой проект<a class=\"anchor\" id=\"course_project\"></a><center>"
   ]
  },
  {
   "cell_type": "markdown",
   "metadata": {},
   "source": [
    "### Постановка задачи<a class=\"anchor\" id=\"course_project_task\"></a>"
   ]
  },
  {
   "cell_type": "markdown",
   "metadata": {},
   "source": [
    "**Задача**\n",
    "\n",
    "Требуется, на основании имеющихся данных о клиентах банка, построить модель, используя обучающий датасет, для прогнозирования невыполнения долговых обязательств по текущему кредиту. Выполнить прогноз для примеров из тестового датасета.\n",
    "\n",
    "**Наименование файлов с данными**\n",
    "\n",
    "course_project_train.csv - обучающий датасет<br>\n",
    "course_project_test.csv - тестовый датасет\n",
    "\n",
    "**Целевая переменная**\n",
    "\n",
    "Credit Default - факт невыполнения кредитных обязательств\n",
    "\n",
    "**Метрика качества**\n",
    "\n",
    "F1-score (sklearn.metrics.f1_score)\n",
    "\n",
    "**Требования к решению**\n",
    "\n",
    "*Целевая метрика*\n",
    "* F1 > 0.5\n",
    "* Метрика оценивается по качеству прогноза для главного класса (1 - просрочка по кредиту)\n",
    "\n",
    "*Решение должно содержать*\n",
    "1. Тетрадка Jupyter Notebook с кодом Вашего решения, названная по образцу {ФИО}\\_solution.ipynb, пример SShirkin\\_solution.ipynb\n",
    "2. Файл CSV с прогнозами целевой переменной для тестового датасета, названный по образцу {ФИО}\\_predictions.csv, пример SShirkin\\_predictions.csv\n",
    "\n",
    "*Рекомендации для файла с кодом (ipynb)*\n",
    "1. Файл должен содержать заголовки и комментарии (markdown)\n",
    "2. Повторяющиеся операции лучше оформлять в виде функций\n",
    "3. Не делать вывод большого количества строк таблиц (5-10 достаточно)\n",
    "4. По возможности добавлять графики, описывающие данные (около 3-5)\n",
    "5. Добавлять только лучшую модель, то есть не включать в код все варианты решения проекта\n",
    "6. Скрипт проекта должен отрабатывать от начала и до конца (от загрузки данных до выгрузки предсказаний)\n",
    "7. Весь проект должен быть в одном скрипте (файл ipynb).\n",
    "8. Допускается применение библиотек Python и моделей машинного обучения,\n",
    "которые были в данном курсе.\n",
    "\n",
    "**Сроки сдачи**\n",
    "\n",
    "Cдать проект нужно в течение 5 дней после окончания последнего вебинара.\n",
    "Оценки работ, сданных до дедлайна, будут представлены в виде рейтинга, ранжированного по заданной метрике качества.\n",
    "Проекты, сданные после дедлайна или сданные повторно, не попадают в рейтинг, но можно будет узнать результат."
   ]
  },
  {
   "cell_type": "markdown",
   "metadata": {},
   "source": [
    "### Примерное описание этапов выполнения курсового проекта<a class=\"anchor\" id=\"course_project_steps\"></a>"
   ]
  },
  {
   "cell_type": "markdown",
   "metadata": {},
   "source": [
    "**Построение модели классификации**\n",
    "1. Обзор обучающего датасета\n",
    "2. Обработка выбросов\n",
    "3. Обработка пропусков\n",
    "4. Анализ данных\n",
    "5. Отбор признаков\n",
    "6. Балансировка классов\n",
    "7. Подбор моделей, получение бейзлана\n",
    "8. Выбор наилучшей модели, настройка гиперпараметров\n",
    "9. Проверка качества, борьба с переобучением\n",
    "10. Интерпретация результатов\n",
    "\n",
    "**Прогнозирование на тестовом датасете**\n",
    "1. Выполнить для тестового датасета те же этапы обработки и постронияния признаков\n",
    "2. Спрогнозировать целевую переменную, используя модель, построенную на обучающем датасете\n",
    "3. Прогнозы должны быть для всех примеров из тестового датасета (для всех строк)\n",
    "4. Соблюдать исходный порядок примеров из тестового датасета"
   ]
  },
  {
   "cell_type": "markdown",
   "metadata": {},
   "source": [
    "### Обзор данных<a class=\"anchor\" id=\"course_project_review\"></a>"
   ]
  },
  {
   "cell_type": "markdown",
   "metadata": {},
   "source": [
    "**Описание датасета**\n",
    "\n",
    "* **Home Ownership** - домовладение\n",
    "* **Annual Income** - годовой доход\n",
    "* **Years in current job** - количество лет на текущем месте работы\n",
    "* **Tax Liens** - налоговые обременения\n",
    "* **Number of Open Accounts** - количество открытых счетов\n",
    "* **Years of Credit History** - количество лет кредитной истории\n",
    "* **Maximum Open Credit** - наибольший открытый кредит\n",
    "* **Number of Credit Problems** - количество проблем с кредитом\n",
    "* **Months since last delinquent** - количество месяцев с последней просрочки платежа\n",
    "* **Bankruptcies** - банкротства\n",
    "* **Purpose** - цель кредита\n",
    "* **Term** - срок кредита\n",
    "* **Current Loan Amount** - текущая сумма кредита\n",
    "* **Current Credit Balance** - текущий кредитный баланс\n",
    "* **Monthly Debt** - ежемесячный долг\n",
    "* **Credit Default** - факт невыполнения кредитных обязательств (0 - погашен вовремя, 1 - просрочка)"
   ]
  },
  {
   "cell_type": "markdown",
   "metadata": {},
   "source": [
    "**Пути к директориям и файлам**"
   ]
  },
  {
   "cell_type": "code",
   "execution_count": 19,
   "metadata": {},
   "outputs": [],
   "source": [
    "TRAIN_DATASET_PATH = '../course_project_train.csv'\n",
    "TEST_DATASET_PATH = '../course_project_test.csv'"
   ]
  },
  {
   "cell_type": "markdown",
   "metadata": {},
   "source": [
    "**Загрузка данных**"
   ]
  },
  {
   "cell_type": "code",
   "execution_count": 20,
   "metadata": {},
   "outputs": [
    {
     "data": {
      "text/html": [
       "<div>\n",
       "<style scoped>\n",
       "    .dataframe tbody tr th:only-of-type {\n",
       "        vertical-align: middle;\n",
       "    }\n",
       "\n",
       "    .dataframe tbody tr th {\n",
       "        vertical-align: top;\n",
       "    }\n",
       "\n",
       "    .dataframe thead th {\n",
       "        text-align: right;\n",
       "    }\n",
       "</style>\n",
       "<table border=\"1\" class=\"dataframe\">\n",
       "  <thead>\n",
       "    <tr style=\"text-align: right;\">\n",
       "      <th></th>\n",
       "      <th>Home Ownership</th>\n",
       "      <th>Annual Income</th>\n",
       "      <th>Years in current job</th>\n",
       "      <th>Tax Liens</th>\n",
       "      <th>Number of Open Accounts</th>\n",
       "      <th>Years of Credit History</th>\n",
       "      <th>Maximum Open Credit</th>\n",
       "      <th>Number of Credit Problems</th>\n",
       "      <th>Months since last delinquent</th>\n",
       "      <th>Bankruptcies</th>\n",
       "      <th>Purpose</th>\n",
       "      <th>Term</th>\n",
       "      <th>Current Loan Amount</th>\n",
       "      <th>Current Credit Balance</th>\n",
       "      <th>Monthly Debt</th>\n",
       "      <th>Credit Default</th>\n",
       "    </tr>\n",
       "  </thead>\n",
       "  <tbody>\n",
       "    <tr>\n",
       "      <th>0</th>\n",
       "      <td>Home Mortgage</td>\n",
       "      <td>1025981.0</td>\n",
       "      <td>7 years</td>\n",
       "      <td>0.0</td>\n",
       "      <td>8.0</td>\n",
       "      <td>13.1</td>\n",
       "      <td>431640.0</td>\n",
       "      <td>0.0</td>\n",
       "      <td>NaN</td>\n",
       "      <td>0.0</td>\n",
       "      <td>debt consolidation</td>\n",
       "      <td>Short Term</td>\n",
       "      <td>99999999.0</td>\n",
       "      <td>144267.0</td>\n",
       "      <td>19152.0</td>\n",
       "      <td>0</td>\n",
       "    </tr>\n",
       "    <tr>\n",
       "      <th>1</th>\n",
       "      <td>Rent</td>\n",
       "      <td>595726.0</td>\n",
       "      <td>10+ years</td>\n",
       "      <td>0.0</td>\n",
       "      <td>14.0</td>\n",
       "      <td>15.4</td>\n",
       "      <td>493702.0</td>\n",
       "      <td>1.0</td>\n",
       "      <td>NaN</td>\n",
       "      <td>1.0</td>\n",
       "      <td>debt consolidation</td>\n",
       "      <td>Long Term</td>\n",
       "      <td>215556.0</td>\n",
       "      <td>236227.0</td>\n",
       "      <td>15737.0</td>\n",
       "      <td>0</td>\n",
       "    </tr>\n",
       "    <tr>\n",
       "      <th>2</th>\n",
       "      <td>Home Mortgage</td>\n",
       "      <td>1266882.0</td>\n",
       "      <td>10+ years</td>\n",
       "      <td>0.0</td>\n",
       "      <td>15.0</td>\n",
       "      <td>26.2</td>\n",
       "      <td>477004.0</td>\n",
       "      <td>0.0</td>\n",
       "      <td>11.0</td>\n",
       "      <td>0.0</td>\n",
       "      <td>debt consolidation</td>\n",
       "      <td>Short Term</td>\n",
       "      <td>328416.0</td>\n",
       "      <td>226176.0</td>\n",
       "      <td>19531.0</td>\n",
       "      <td>1</td>\n",
       "    </tr>\n",
       "    <tr>\n",
       "      <th>3</th>\n",
       "      <td>Rent</td>\n",
       "      <td>NaN</td>\n",
       "      <td>10+ years</td>\n",
       "      <td>0.0</td>\n",
       "      <td>9.0</td>\n",
       "      <td>16.0</td>\n",
       "      <td>236742.0</td>\n",
       "      <td>0.0</td>\n",
       "      <td>NaN</td>\n",
       "      <td>0.0</td>\n",
       "      <td>debt consolidation</td>\n",
       "      <td>Short Term</td>\n",
       "      <td>338404.0</td>\n",
       "      <td>190152.0</td>\n",
       "      <td>13296.0</td>\n",
       "      <td>1</td>\n",
       "    </tr>\n",
       "    <tr>\n",
       "      <th>4</th>\n",
       "      <td>Home Mortgage</td>\n",
       "      <td>685767.0</td>\n",
       "      <td>2 years</td>\n",
       "      <td>0.0</td>\n",
       "      <td>10.0</td>\n",
       "      <td>25.4</td>\n",
       "      <td>389026.0</td>\n",
       "      <td>2.0</td>\n",
       "      <td>61.0</td>\n",
       "      <td>2.0</td>\n",
       "      <td>debt consolidation</td>\n",
       "      <td>Short Term</td>\n",
       "      <td>190124.0</td>\n",
       "      <td>167656.0</td>\n",
       "      <td>14401.0</td>\n",
       "      <td>0</td>\n",
       "    </tr>\n",
       "  </tbody>\n",
       "</table>\n",
       "</div>"
      ],
      "text/plain": [
       "  Home Ownership  Annual Income Years in current job  Tax Liens  \\\n",
       "0  Home Mortgage      1025981.0              7 years        0.0   \n",
       "1           Rent       595726.0            10+ years        0.0   \n",
       "2  Home Mortgage      1266882.0            10+ years        0.0   \n",
       "3           Rent            NaN            10+ years        0.0   \n",
       "4  Home Mortgage       685767.0              2 years        0.0   \n",
       "\n",
       "   Number of Open Accounts  Years of Credit History  Maximum Open Credit  \\\n",
       "0                      8.0                     13.1             431640.0   \n",
       "1                     14.0                     15.4             493702.0   \n",
       "2                     15.0                     26.2             477004.0   \n",
       "3                      9.0                     16.0             236742.0   \n",
       "4                     10.0                     25.4             389026.0   \n",
       "\n",
       "   Number of Credit Problems  Months since last delinquent  Bankruptcies  \\\n",
       "0                        0.0                           NaN           0.0   \n",
       "1                        1.0                           NaN           1.0   \n",
       "2                        0.0                          11.0           0.0   \n",
       "3                        0.0                           NaN           0.0   \n",
       "4                        2.0                          61.0           2.0   \n",
       "\n",
       "              Purpose        Term  Current Loan Amount  \\\n",
       "0  debt consolidation  Short Term           99999999.0   \n",
       "1  debt consolidation   Long Term             215556.0   \n",
       "2  debt consolidation  Short Term             328416.0   \n",
       "3  debt consolidation  Short Term             338404.0   \n",
       "4  debt consolidation  Short Term             190124.0   \n",
       "\n",
       "   Current Credit Balance  Monthly Debt  Credit Default  \n",
       "0                144267.0       19152.0               0  \n",
       "1                236227.0       15737.0               0  \n",
       "2                226176.0       19531.0               1  \n",
       "3                190152.0       13296.0               1  \n",
       "4                167656.0       14401.0               0  "
      ]
     },
     "execution_count": 20,
     "metadata": {},
     "output_type": "execute_result"
    }
   ],
   "source": [
    "df_train = pd.read_csv(TRAIN_DATASET_PATH)\n",
    "df_train.head()"
   ]
  },
  {
   "cell_type": "code",
   "execution_count": 21,
   "metadata": {},
   "outputs": [
    {
     "data": {
      "text/plain": [
       "(7500, 16)"
      ]
     },
     "execution_count": 21,
     "metadata": {},
     "output_type": "execute_result"
    }
   ],
   "source": [
    "df_train.shape"
   ]
  },
  {
   "cell_type": "code",
   "execution_count": 22,
   "metadata": {},
   "outputs": [
    {
     "data": {
      "text/plain": [
       "Home Ownership                       Home Mortgage\n",
       "Annual Income                          1.02598e+06\n",
       "Years in current job                       7 years\n",
       "Tax Liens                                        0\n",
       "Number of Open Accounts                          8\n",
       "Years of Credit History                       13.1\n",
       "Maximum Open Credit                         431640\n",
       "Number of Credit Problems                        0\n",
       "Months since last delinquent                   NaN\n",
       "Bankruptcies                                     0\n",
       "Purpose                         debt consolidation\n",
       "Term                                    Short Term\n",
       "Current Loan Amount                          1e+08\n",
       "Current Credit Balance                      144267\n",
       "Monthly Debt                                 19152\n",
       "Credit Default                                   0\n",
       "Name: 0, dtype: object"
      ]
     },
     "execution_count": 22,
     "metadata": {},
     "output_type": "execute_result"
    }
   ],
   "source": [
    "df_train.iloc[0]"
   ]
  },
  {
   "cell_type": "code",
   "execution_count": 23,
   "metadata": {},
   "outputs": [
    {
     "data": {
      "text/plain": [
       "0    5793\n",
       "1    1707\n",
       "Name: Credit Default, dtype: int64"
      ]
     },
     "execution_count": 23,
     "metadata": {},
     "output_type": "execute_result"
    }
   ],
   "source": [
    "df_train['Credit Default'].value_counts()"
   ]
  },
  {
   "cell_type": "code",
   "execution_count": 24,
   "metadata": {},
   "outputs": [
    {
     "data": {
      "text/html": [
       "<div>\n",
       "<style scoped>\n",
       "    .dataframe tbody tr th:only-of-type {\n",
       "        vertical-align: middle;\n",
       "    }\n",
       "\n",
       "    .dataframe tbody tr th {\n",
       "        vertical-align: top;\n",
       "    }\n",
       "\n",
       "    .dataframe thead th {\n",
       "        text-align: right;\n",
       "    }\n",
       "</style>\n",
       "<table border=\"1\" class=\"dataframe\">\n",
       "  <thead>\n",
       "    <tr style=\"text-align: right;\">\n",
       "      <th></th>\n",
       "      <th>Home Ownership</th>\n",
       "      <th>Annual Income</th>\n",
       "      <th>Years in current job</th>\n",
       "      <th>Tax Liens</th>\n",
       "      <th>Number of Open Accounts</th>\n",
       "      <th>Years of Credit History</th>\n",
       "      <th>Maximum Open Credit</th>\n",
       "      <th>Number of Credit Problems</th>\n",
       "      <th>Months since last delinquent</th>\n",
       "      <th>Bankruptcies</th>\n",
       "      <th>Purpose</th>\n",
       "      <th>Term</th>\n",
       "      <th>Current Loan Amount</th>\n",
       "      <th>Current Credit Balance</th>\n",
       "      <th>Monthly Debt</th>\n",
       "    </tr>\n",
       "  </thead>\n",
       "  <tbody>\n",
       "    <tr>\n",
       "      <th>0</th>\n",
       "      <td>Home Mortgage</td>\n",
       "      <td>930620.0</td>\n",
       "      <td>1 year</td>\n",
       "      <td>0.0</td>\n",
       "      <td>13.0</td>\n",
       "      <td>11.1</td>\n",
       "      <td>361812.0</td>\n",
       "      <td>1.0</td>\n",
       "      <td>NaN</td>\n",
       "      <td>1.0</td>\n",
       "      <td>debt consolidation</td>\n",
       "      <td>Short Term</td>\n",
       "      <td>99999999.0</td>\n",
       "      <td>204668.0</td>\n",
       "      <td>22878.0</td>\n",
       "    </tr>\n",
       "    <tr>\n",
       "      <th>1</th>\n",
       "      <td>Home Mortgage</td>\n",
       "      <td>1592789.0</td>\n",
       "      <td>&lt; 1 year</td>\n",
       "      <td>0.0</td>\n",
       "      <td>4.0</td>\n",
       "      <td>17.1</td>\n",
       "      <td>414018.0</td>\n",
       "      <td>0.0</td>\n",
       "      <td>NaN</td>\n",
       "      <td>0.0</td>\n",
       "      <td>other</td>\n",
       "      <td>Long Term</td>\n",
       "      <td>99999999.0</td>\n",
       "      <td>70794.0</td>\n",
       "      <td>3079.0</td>\n",
       "    </tr>\n",
       "    <tr>\n",
       "      <th>2</th>\n",
       "      <td>Rent</td>\n",
       "      <td>NaN</td>\n",
       "      <td>NaN</td>\n",
       "      <td>1.0</td>\n",
       "      <td>12.0</td>\n",
       "      <td>24.6</td>\n",
       "      <td>275704.0</td>\n",
       "      <td>2.0</td>\n",
       "      <td>NaN</td>\n",
       "      <td>1.0</td>\n",
       "      <td>debt consolidation</td>\n",
       "      <td>Short Term</td>\n",
       "      <td>107800.0</td>\n",
       "      <td>92150.0</td>\n",
       "      <td>16266.0</td>\n",
       "    </tr>\n",
       "    <tr>\n",
       "      <th>3</th>\n",
       "      <td>Home Mortgage</td>\n",
       "      <td>1104185.0</td>\n",
       "      <td>10+ years</td>\n",
       "      <td>0.0</td>\n",
       "      <td>10.0</td>\n",
       "      <td>20.0</td>\n",
       "      <td>1023440.0</td>\n",
       "      <td>0.0</td>\n",
       "      <td>NaN</td>\n",
       "      <td>0.0</td>\n",
       "      <td>debt consolidation</td>\n",
       "      <td>Long Term</td>\n",
       "      <td>441232.0</td>\n",
       "      <td>811414.0</td>\n",
       "      <td>21844.0</td>\n",
       "    </tr>\n",
       "    <tr>\n",
       "      <th>4</th>\n",
       "      <td>Home Mortgage</td>\n",
       "      <td>1852823.0</td>\n",
       "      <td>6 years</td>\n",
       "      <td>0.0</td>\n",
       "      <td>10.0</td>\n",
       "      <td>26.6</td>\n",
       "      <td>1771880.0</td>\n",
       "      <td>0.0</td>\n",
       "      <td>13.0</td>\n",
       "      <td>0.0</td>\n",
       "      <td>debt consolidation</td>\n",
       "      <td>Short Term</td>\n",
       "      <td>99999999.0</td>\n",
       "      <td>1039053.0</td>\n",
       "      <td>28163.0</td>\n",
       "    </tr>\n",
       "  </tbody>\n",
       "</table>\n",
       "</div>"
      ],
      "text/plain": [
       "  Home Ownership  Annual Income Years in current job  Tax Liens  \\\n",
       "0  Home Mortgage       930620.0               1 year        0.0   \n",
       "1  Home Mortgage      1592789.0             < 1 year        0.0   \n",
       "2           Rent            NaN                  NaN        1.0   \n",
       "3  Home Mortgage      1104185.0            10+ years        0.0   \n",
       "4  Home Mortgage      1852823.0              6 years        0.0   \n",
       "\n",
       "   Number of Open Accounts  Years of Credit History  Maximum Open Credit  \\\n",
       "0                     13.0                     11.1             361812.0   \n",
       "1                      4.0                     17.1             414018.0   \n",
       "2                     12.0                     24.6             275704.0   \n",
       "3                     10.0                     20.0            1023440.0   \n",
       "4                     10.0                     26.6            1771880.0   \n",
       "\n",
       "   Number of Credit Problems  Months since last delinquent  Bankruptcies  \\\n",
       "0                        1.0                           NaN           1.0   \n",
       "1                        0.0                           NaN           0.0   \n",
       "2                        2.0                           NaN           1.0   \n",
       "3                        0.0                           NaN           0.0   \n",
       "4                        0.0                          13.0           0.0   \n",
       "\n",
       "              Purpose        Term  Current Loan Amount  \\\n",
       "0  debt consolidation  Short Term           99999999.0   \n",
       "1               other   Long Term           99999999.0   \n",
       "2  debt consolidation  Short Term             107800.0   \n",
       "3  debt consolidation   Long Term             441232.0   \n",
       "4  debt consolidation  Short Term           99999999.0   \n",
       "\n",
       "   Current Credit Balance  Monthly Debt  \n",
       "0                204668.0       22878.0  \n",
       "1                 70794.0        3079.0  \n",
       "2                 92150.0       16266.0  \n",
       "3                811414.0       21844.0  \n",
       "4               1039053.0       28163.0  "
      ]
     },
     "execution_count": 24,
     "metadata": {},
     "output_type": "execute_result"
    }
   ],
   "source": [
    "df_test = pd.read_csv(TEST_DATASET_PATH)\n",
    "df_test.head()"
   ]
  },
  {
   "cell_type": "code",
   "execution_count": 25,
   "metadata": {},
   "outputs": [
    {
     "data": {
      "text/plain": [
       "(2500, 15)"
      ]
     },
     "execution_count": 25,
     "metadata": {},
     "output_type": "execute_result"
    }
   ],
   "source": [
    "df_test.shape"
   ]
  },
  {
   "cell_type": "code",
   "execution_count": null,
   "metadata": {},
   "outputs": [],
   "source": []
  }
 ],
 "metadata": {
  "kernelspec": {
   "display_name": "Python 3",
   "language": "python",
   "name": "python3"
  },
  "language_info": {
   "codemirror_mode": {
    "name": "ipython",
    "version": 3
   },
   "file_extension": ".py",
   "mimetype": "text/x-python",
   "name": "python",
   "nbconvert_exporter": "python",
   "pygments_lexer": "ipython3",
   "version": "3.8.5"
  },
  "toc": {
   "base_numbering": 1,
   "nav_menu": {},
   "number_sections": true,
   "sideBar": true,
   "skip_h1_title": false,
   "title_cell": "Table of Contents",
   "title_sidebar": "Contents",
   "toc_cell": false,
   "toc_position": {},
   "toc_section_display": true,
   "toc_window_display": false
  },
  "varInspector": {
   "cols": {
    "lenName": 16,
    "lenType": 16,
    "lenVar": 40
   },
   "kernels_config": {
    "python": {
     "delete_cmd_postfix": "",
     "delete_cmd_prefix": "del ",
     "library": "var_list.py",
     "varRefreshCmd": "print(var_dic_list())"
    },
    "r": {
     "delete_cmd_postfix": ") ",
     "delete_cmd_prefix": "rm(",
     "library": "var_list.r",
     "varRefreshCmd": "cat(var_dic_list()) "
    }
   },
   "types_to_exclude": [
    "module",
    "function",
    "builtin_function_or_method",
    "instance",
    "_Feature"
   ],
   "window_display": false
  }
 },
 "nbformat": 4,
 "nbformat_minor": 2
}
