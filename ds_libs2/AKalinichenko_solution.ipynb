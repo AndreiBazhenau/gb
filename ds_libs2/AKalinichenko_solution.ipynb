{
 "cells": [
  {
   "cell_type": "markdown",
   "metadata": {},
   "source": [
    "# <center>Курсовой проект<a class=\"anchor\" id=\"course_project\"></a><center>"
   ]
  },
  {
   "cell_type": "markdown",
   "metadata": {},
   "source": [
    "**Постановка задачи**<a class=\"anchor\" id=\"course_project_task\"></a>\n",
    "\n",
    "**Задача**\n",
    "\n",
    "Требуется, на основании имеющихся данных о клиентах банка, построить модель, используя обучающий датасет, для прогнозирования невыполнения долговых обязательств по текущему кредиту. Выполнить прогноз для примеров из тестового датасета.\n",
    "\n",
    "**Наименование файлов с данными**\n",
    "\n",
    "course_project_train.csv - обучающий датасет<br>\n",
    "course_project_test.csv - тестовый датасет\n",
    "\n",
    "\n",
    "**Целевая переменная**\n",
    "\n",
    "Credit Default - факт невыполнения кредитных обязательств\n",
    "\n",
    "**Метрика качества**\n",
    "\n",
    "F1-score (sklearn.metrics.f1_score)\n",
    "\n",
    "**Требования к решению**\n",
    "\n",
    "*Целевая метрика*\n",
    "* F1 > 0.5\n",
    "* Метрика оценивается по качеству прогноза для главного класса (1 - просрочка по кредиту)\n",
    "\n",
    "*Решение должно содержать*\n",
    "1. Тетрадка Jupyter Notebook с кодом Вашего решения, названная по образцу {ФИО}\\_solution.ipynb, пример SShirkin\\_solution.ipynb\n",
    "2. Файл CSV с прогнозами целевой переменной для тестового датасета, названный по образцу {ФИО}\\_predictions.csv, пример SShirkin\\_predictions.csv\n",
    "\n",
    "*Рекомендации для файла с кодом (ipynb)*\n",
    "1. Файл должен содержать заголовки и комментарии (markdown)\n",
    "2. Повторяющиеся операции лучше оформлять в виде функций\n",
    "3. Не делать вывод большого количества строк таблиц (5-10 достаточно)\n",
    "4. По возможности добавлять графики, описывающие данные (около 3-5)\n",
    "5. Добавлять только лучшую модель, то есть не включать в код все варианты решения проекта\n",
    "6. Скрипт проекта должен отрабатывать от начала и до конца (от загрузки данных до выгрузки предсказаний)\n",
    "7. Весь проект должен быть в одном скрипте (файл ipynb).\n",
    "8. Допускается применение библиотек Python и моделей машинного обучения,\n",
    "которые были в данном курсе.\n",
    "\n",
    "**Сроки сдачи**\n",
    "\n",
    "Cдать проект нужно в течение 5 дней после окончания последнего вебинара.\n",
    "Оценки работ, сданных до дедлайна, будут представлены в виде рейтинга, ранжированного по заданной метрике качества.\n",
    "Проекты, сданные после дедлайна или сданные повторно, не попадают в рейтинг, но можно будет узнать результат."
   ]
  },
  {
   "cell_type": "markdown",
   "metadata": {},
   "source": [
    "**Примерное описание этапов выполнения курсового проекта**<a class=\"anchor\" id=\"course_project_steps\"></a>\n",
    "\n",
    "**Построение модели классификации**\n",
    "1. Обзор обучающего датасета\n",
    "2. Обработка выбросов\n",
    "3. Обработка пропусков\n",
    "4. Анализ данных\n",
    "5. Отбор признаков\n",
    "6. Балансировка классов\n",
    "7. Подбор моделей, получение бейзлана\n",
    "8. Выбор наилучшей модели, настройка гиперпараметров\n",
    "9. Проверка качества, борьба с переобучением\n",
    "10. Интерпретация результатов\n",
    "\n",
    "**Прогнозирование на тестовом датасете**\n",
    "1. Выполнить для тестового датасета те же этапы обработки и постронияния признаков\n",
    "2. Спрогнозировать целевую переменную, используя модель, построенную на обучающем датасете\n",
    "3. Прогнозы должны быть для всех примеров из тестового датасета (для всех строк)\n",
    "4. Соблюдать исходный порядок примеров из тестового датасета"
   ]
  },
  {
   "cell_type": "markdown",
   "metadata": {},
   "source": [
    "# Обзор данных<a class=\"anchor\" id=\"course_project_review\"></a>\n",
    "\n",
    "**Описание датасета**\n",
    "\n",
    "* **Home Ownership** - домовладение\n",
    "* **Annual Income** - годовой доход\n",
    "* **Years in current job** - количество лет на текущем месте работы\n",
    "* **Tax Liens** - налоговые обременения\n",
    "* **Number of Open Accounts** - количество открытых счетов\n",
    "* **Years of Credit History** - количество лет кредитной истории\n",
    "* **Maximum Open Credit** - наибольший открытый кредит\n",
    "* **Number of Credit Problems** - количество проблем с кредитом\n",
    "* **Months since last delinquent** - количество месяцев с последней просрочки платежа\n",
    "* **Bankruptcies** - банкротства\n",
    "* **Purpose** - цель кредита\n",
    "* **Term** - срок кредита\n",
    "* **Current Loan Amount** - текущая сумма кредита\n",
    "* **Current Credit Balance** - текущий кредитный баланс\n",
    "* **Monthly Debt** - ежемесячный долг\n",
    "* **Credit Default** - факт невыполнения кредитных обязательств (0 - погашен вовремя, 1 - просрочка)"
   ]
  },
  {
   "cell_type": "markdown",
   "metadata": {},
   "source": [
    "# Библиотеки. Функции"
   ]
  },
  {
   "cell_type": "code",
   "execution_count": 119,
   "metadata": {},
   "outputs": [],
   "source": [
    "import numpy as np\n",
    "import pandas as pd\n",
    "import matplotlib\n",
    "import matplotlib.pyplot as plt\n",
    "import seaborn as sns\n",
    "import missingno\n",
    "import warnings\n",
    "warnings.filterwarnings(\"ignore\")\n",
    "%matplotlib inline\n",
    "import tqdm\n",
    "import re\n",
    "\n",
    "from sklearn.preprocessing import StandardScaler\n",
    "from sklearn.model_selection import train_test_split, ShuffleSplit, cross_val_score, learning_curve\n",
    "from sklearn.model_selection import StratifiedKFold, GridSearchCV, RandomizedSearchCV\n",
    "from sklearn.metrics import classification_report, f1_score, precision_score, recall_score\n",
    "\n",
    "from sklearn.tree import DecisionTreeClassifier\n",
    "from sklearn.linear_model import LogisticRegression\n",
    "from sklearn.neighbors import KNeighborsClassifier\n",
    "import xgboost as xgb, lightgbm as lgbm, catboost as catb\n",
    "\n",
    "from sklearn.model_selection import train_test_split, GridSearchCV\n",
    "from sklearn.metrics import (roc_auc_score, roc_curve, auc, confusion_matrix, f1_score, \\\n",
    "                             accuracy_score, classification_report, plot_confusion_matrix, \\\n",
    "                             plot_precision_recall_curve, precision_recall_curve, recall_score,\n",
    "                             plot_roc_curve)"
   ]
  },
  {
   "cell_type": "code",
   "execution_count": 2,
   "metadata": {},
   "outputs": [],
   "source": [
    "# !pip install xgboost\n",
    "# !pip install lightgbm\n",
    "# !pip install catboost"
   ]
  },
  {
   "cell_type": "markdown",
   "metadata": {},
   "source": [
    "**Пути к директориям и файлам**"
   ]
  },
  {
   "cell_type": "code",
   "execution_count": 189,
   "metadata": {},
   "outputs": [],
   "source": [
    "TRAIN_DATASET_PATH = './data/course_project_train.csv'\n",
    "TEST_DATASET_PATH = './data/course_project_test.csv'"
   ]
  },
  {
   "cell_type": "markdown",
   "metadata": {},
   "source": [
    "**Загрузка данных**"
   ]
  },
  {
   "cell_type": "code",
   "execution_count": 190,
   "metadata": {},
   "outputs": [],
   "source": [
    "df_train = pd.read_csv(TRAIN_DATASET_PATH)\n",
    "df_test = pd.read_csv(TEST_DATASET_PATH)"
   ]
  },
  {
   "cell_type": "code",
   "execution_count": 8,
   "metadata": {},
   "outputs": [],
   "source": [
    "# разбиение признаков на числовые и категориальные\n",
    "FEATURES = df_train.columns.to_list()\n",
    "\n",
    "TARGET_NAME = 'Credit Default'\n",
    "\n",
    "NUM_FEATURE_NAMES = ['Annual Income', 'Tax Liens', 'Number of Open Accounts', 'Years of Credit History',\n",
    "            'Maximum Open Credit', 'Number of Credit Problems', 'Months since last delinquent',\n",
    "            'Bankruptcies', 'Current Loan Amount', 'Current Credit Balance', 'Monthly Debt', 'Credit Score']\n",
    "\n",
    "# получаем категориальные признаки вычитая из всех признаков числовые и целевой признак\n",
    "CAT_FEATURE_NAMES = [item for item in FEATURES if item not in NUM_FEATURE_NAMES]\n",
    "\n",
    "CAT_FEATURE_NAMES.remove(TARGET_NAME)\n",
    "\n",
    "SELECTED_FEATURE_NAMES = NUM_FEATURE_NAMES + CAT_FEATURE_NAMES #+ NEW_FEATURE_NAMES"
   ]
  },
  {
   "cell_type": "markdown",
   "metadata": {},
   "source": [
    "**Функции**"
   ]
  },
  {
   "cell_type": "code",
   "execution_count": 81,
   "metadata": {},
   "outputs": [],
   "source": [
    "def get_classification_report(y_train_true, y_train_pred, y_test_true, y_test_pred):\n",
    "    print('TRAIN\\n\\n' + classification_report(y_train_true, y_train_pred))\n",
    "    print('TEST\\n\\n' + classification_report(y_test_true, y_test_pred))\n",
    "    print('CONFUSION MATRIX\\n')\n",
    "    print(pd.crosstab(y_test_true, y_test_pred))"
   ]
  },
  {
   "cell_type": "code",
   "execution_count": 82,
   "metadata": {},
   "outputs": [],
   "source": [
    "def evaluate_preds(model, X_train, X_test, y_train, y_test):\n",
    "    y_train_pred = model.predict(X_train)\n",
    "    y_test_pred = model.predict(X_test)\n",
    "\n",
    "    get_classification_report(y_train, y_train_pred, y_test, y_test_pred)"
   ]
  },
  {
   "cell_type": "code",
   "execution_count": 83,
   "metadata": {},
   "outputs": [],
   "source": [
    "def balance_df_by_target(df, target_name, method='over'):\n",
    "\n",
    "    assert method in ['over', 'under'], 'Неверный метод сэмплирования'\n",
    "    \n",
    "    target_counts = df[target_name].value_counts()\n",
    "\n",
    "    major_class_name = target_counts.argmax()\n",
    "    minor_class_name = target_counts.argmin()\n",
    "\n",
    "    disbalance_coeff = int(target_counts[major_class_name] / target_counts[minor_class_name]) - 1\n",
    "    if method == 'over':\n",
    "        for i in range(disbalance_coeff):\n",
    "            sample = df[df[target_name] == minor_class_name].sample(target_counts[minor_class_name])\n",
    "            df = df.append(sample, ignore_index=True)\n",
    "    elif method == 'under':\n",
    "        df_ = df.copy()\n",
    "        df = df_[df_[target_name] == minor_class_name]\n",
    "        tmp = df_[df_[target_name] == major_class_name]\n",
    "        df = df.append(tmp.iloc[\n",
    "            np.random.randint(0, tmp.shape[0], target_counts[minor_class_name])\n",
    "        ], ignore_index=True)\n",
    "\n",
    "\n",
    "    return df.sample(frac=1) "
   ]
  },
  {
   "cell_type": "code",
   "execution_count": 205,
   "metadata": {
    "colab": {},
    "colab_type": "code",
    "id": "5Jqk10LxZ5l3"
   },
   "outputs": [],
   "source": [
    "def LogRegression(df):\n",
    "\n",
    "    # Заполняем пропуски модой\n",
    "    #df.fillna(df.mode().iloc[0], inplace=True)\n",
    "    #df = df.fillna(df.median(axis=0), axis=0)\n",
    "\n",
    "    # Переводим категориальные признаки в количественные\n",
    "    df = pd.get_dummies(df)\n",
    "\n",
    "    # стандиртизируем данные\n",
    "    scaler = StandardScaler()\n",
    "    df_norm = df.copy()\n",
    "    df_norm[NUM_FEATURE_NAMES] = scaler.fit_transform(df_norm[NUM_FEATURE_NAMES])\n",
    "    df = df_norm.copy()\n",
    "    \n",
    "    # форммруем выборки\n",
    "    X = df.drop(columns=[TARGET_NAME])\n",
    "    y = df[TARGET_NAME]\n",
    "\n",
    "    X_train, X_test, y_train, y_test = train_test_split(X, y, \n",
    "                                                        shuffle=True,\n",
    "                                                        test_size=0.3,\n",
    "                                                        random_state=21,\n",
    "                                                        stratify=y)\n",
    "    # обучаем модель\n",
    "    model = LogisticRegression()\n",
    "    model.fit(X_train, y_train)\n",
    "\n",
    "    # предсказываем\n",
    "    y_train_pred = model.predict(X_train)\n",
    "    y_test_pred = model.predict(X_test)\n",
    "    \n",
    "    # считаем метрики\n",
    "    #evaluate_preds(model, X_train, X_test, y_train, y_test)\n",
    "    accuracy_train = accuracy_score(y_train, y_train_pred)\n",
    "    accuracy_test = accuracy_score(y_test, y_test_pred)\n",
    "    \n",
    "    return f'f1 class 1: TRAIN = {round(accuracy_train, 4)}, TEST = {round(accuracy_test, 4)}'"
   ]
  },
  {
   "cell_type": "code",
   "execution_count": 206,
   "metadata": {
    "colab": {},
    "colab_type": "code",
    "id": "5Jqk10LxZ5l3"
   },
   "outputs": [],
   "source": [
    "def knn(df):\n",
    "\n",
    "    # Заполняем пропуски модой\n",
    "    #df.fillna(df.mode().iloc[0], inplace=True)\n",
    "    #df = df.fillna(df.median(axis=0), axis=0)\n",
    "\n",
    "    # Переводим категориальные признаки в количественные\n",
    "    df = pd.get_dummies(df)\n",
    "\n",
    "    # стандиртизируем данные\n",
    "#     scaler = StandardScaler()\n",
    "#     df_norm = df.copy()\n",
    "#     df_norm[NUM_FEATURE_NAMES] = scaler.fit_transform(df_norm[NUM_FEATURE_NAMES])\n",
    "#     df = df_norm.copy()\n",
    "    \n",
    "    # форммруем выборки\n",
    "    X = df.drop(columns=[TARGET_NAME])\n",
    "    y = df[TARGET_NAME]\n",
    "\n",
    "    X_train, X_test, y_train, y_test = train_test_split(X, y, \n",
    "                                                        shuffle=True,\n",
    "                                                        test_size=0.3,\n",
    "                                                        random_state=21,\n",
    "                                                        stratify=y)\n",
    "    # обучаем модель\n",
    "    model = KNeighborsClassifier()\n",
    "    model.fit(X_train, y_train)\n",
    "\n",
    "    # предсказываем\n",
    "    y_train_pred = model.predict(X_train)\n",
    "    y_test_pred = model.predict(X_test)\n",
    "    \n",
    "    # считаем метрики\n",
    "    #evaluate_preds(model, X_train, X_test, y_train, y_test)\n",
    "    accuracy_train = accuracy_score(y_train, y_train_pred)\n",
    "    accuracy_test = accuracy_score(y_test, y_test_pred)\n",
    "    \n",
    "    return f'f1 class 1: TRAIN = {round(accuracy_train, 4)}, TEST = {round(accuracy_test, 4)}'"
   ]
  },
  {
   "cell_type": "code",
   "execution_count": 207,
   "metadata": {
    "colab": {},
    "colab_type": "code",
    "id": "5Jqk10LxZ5l3"
   },
   "outputs": [],
   "source": [
    "def decision_tree(df, max_depth):\n",
    "\n",
    "    # подсчитываем дисбаланс классов\n",
    "    class_weight = df[TARGET_NAME].value_counts()[1] / df[TARGET_NAME].value_counts()[0]\n",
    "    \n",
    "    # Заполняем пропуски модой\n",
    "    #df.fillna(df.mode().iloc[0], inplace=True)\n",
    "    #df = df.fillna(df.median(axis=0), axis=0)\n",
    "\n",
    "    # Переводим категориальные признаки в количественные\n",
    "    df = pd.get_dummies(df)\n",
    "\n",
    "    # стандиртизируем данные\n",
    "#     scaler = StandardScaler()\n",
    "#     df_norm = df.copy()\n",
    "#     df_norm[NUM_FEATURE_NAMES] = scaler.fit_transform(df_norm[NUM_FEATURE_NAMES])\n",
    "#     df = df_norm.copy()\n",
    "        \n",
    "    # формируем выборки\n",
    "    X = df.drop(columns=[TARGET_NAME])\n",
    "    y = df[TARGET_NAME]\n",
    "\n",
    "    X_train, X_test, y_train, y_test = train_test_split(X, y, \n",
    "                                                        shuffle=True,\n",
    "                                                        test_size=0.3,\n",
    "                                                        random_state=21,\n",
    "                                                        stratify=y)\n",
    "    # обучаем модель\n",
    "    model = DecisionTreeClassifier(random_state=21,\n",
    "                                    class_weight={0:class_weight, 1:1},\n",
    "                                    max_depth=max_depth\n",
    "                                    )\n",
    "    model.fit(X_train, y_train)\n",
    "\n",
    "    # предсказываем\n",
    "    y_train_pred = model.predict(X_train)\n",
    "    y_test_pred = model.predict(X_test)\n",
    "    \n",
    "    # считаем метрики\n",
    "    #evaluate_preds(model, X_train, X_test, y_train, y_test)\n",
    "    accuracy_train = accuracy_score(y_train, y_train_pred)\n",
    "    accuracy_test = accuracy_score(y_test, y_test_pred)\n",
    "    \n",
    "    return f'f1 class 1: TRAIN = {round(accuracy_train, 4)}, TEST = {round(accuracy_test, 4)}'"
   ]
  },
  {
   "cell_type": "code",
   "execution_count": 208,
   "metadata": {
    "colab": {},
    "colab_type": "code",
    "id": "5Jqk10LxZ5l3"
   },
   "outputs": [],
   "source": [
    "def xgboost(df, n_estimators):\n",
    "\n",
    "    # подсчитываем дисбаланс классов\n",
    "    #class_weight = df[TARGET_NAME].value_counts()[1] / df[TARGET_NAME].value_counts()[0]\n",
    "    \n",
    "    # Заполняем пропуски модой\n",
    "    #df.fillna(df.mode().iloc[0], inplace=True)\n",
    "    #df = df.fillna(df.median(axis=0), axis=0)\n",
    "\n",
    "    # Переводим категориальные признаки в количественные\n",
    "    df = pd.get_dummies(df)\n",
    "    \n",
    "    # после перевода в категориальные данные появляется столбец \n",
    "    # 'Years in current job_< 1 year', необходимо заменить знак <\n",
    "    #df_clean = df\n",
    "    regex = re.compile(r\"\\[|\\]|<\", re.IGNORECASE)\n",
    "    df.columns = [regex.sub(\"_\", col) if any(x in str(col) for x in set(('[', ']', '<'))) \\\n",
    "                       else col for col in df.columns.values]\n",
    "    \n",
    "    # стандиртизируем данные\n",
    "#     scaler = StandardScaler()\n",
    "#     df_norm = df.copy()\n",
    "#     df_norm[NUM_FEATURE_NAMES] = scaler.fit_transform(df_norm[NUM_FEATURE_NAMES])\n",
    "#     df = df_norm.copy()\n",
    "        \n",
    "    # формируем выборки\n",
    "    X = df.drop(columns=[TARGET_NAME])\n",
    "    y = df[TARGET_NAME]\n",
    "\n",
    "    X_train, X_test, y_train, y_test = train_test_split(X, y, \n",
    "                                                        shuffle=True,\n",
    "                                                        test_size=0.3,\n",
    "                                                        random_state=21,\n",
    "                                                        stratify=y)\n",
    "    # обучаем модель\n",
    "    model = xgb.XGBClassifier(random_state=21,\n",
    "                               n_estimators=n_estimators,\n",
    "                              #n_estimators=100\n",
    "                             )\n",
    "    model.fit(X_train, y_train)\n",
    "\n",
    "    # предсказываем\n",
    "    y_train_pred = model.predict(X_train)\n",
    "    y_test_pred = model.predict(X_test)\n",
    "    \n",
    "    # считаем метрики\n",
    "    #evaluate_preds(model, X_train, X_test, y_train, y_test)\n",
    "    accuracy_train = accuracy_score(y_train, y_train_pred)\n",
    "    accuracy_test = accuracy_score(y_test, y_test_pred)\n",
    "    \n",
    "    return f'f1 class 1: TRAIN = {round(accuracy_train, 4)}, TEST = {round(accuracy_test, 4)}'"
   ]
  },
  {
   "cell_type": "code",
   "execution_count": 209,
   "metadata": {
    "colab": {},
    "colab_type": "code",
    "id": "5Jqk10LxZ5l3"
   },
   "outputs": [],
   "source": [
    "def light_gbm(df, n_estimators=100, num_leaves=10):\n",
    "\n",
    "    # подсчитываем дисбаланс классов\n",
    "    class_weight = df[TARGET_NAME].value_counts()[1] / df[TARGET_NAME].value_counts()[0]\n",
    "    \n",
    "    # Заполняем пропуски модой\n",
    "    #df.fillna(df.mode().iloc[0], inplace=True)\n",
    "    #df = df.fillna(df.median(axis=0), axis=0)\n",
    "\n",
    "    # Переводим категориальные признаки в количественные\n",
    "    df = pd.get_dummies(df)\n",
    "    \n",
    "    # после перевода в категориальные данные появляется столбец \n",
    "    # 'Years in current job_< 1 year', необходимо заменить знак <\n",
    "    #df_clean = df\n",
    "    regex = re.compile(r\"\\[|\\]|<\", re.IGNORECASE)\n",
    "    df.columns = [regex.sub(\"_\", col) if any(x in str(col) for x in set(('[', ']', '<'))) \\\n",
    "                       else col for col in df.columns.values]\n",
    "    \n",
    "    # стандиртизируем данные\n",
    "#     scaler = StandardScaler()\n",
    "#     df_norm = df.copy()\n",
    "#     df_norm[NUM_FEATURE_NAMES] = scaler.fit_transform(df_norm[NUM_FEATURE_NAMES])\n",
    "#     df = df_norm.copy()\n",
    "        \n",
    "    # формируем выборки\n",
    "    X = df.drop(columns=[TARGET_NAME])\n",
    "    y = df[TARGET_NAME]\n",
    "\n",
    "    X_train, X_test, y_train, y_test = train_test_split(X, y, \n",
    "                                                        shuffle=True,\n",
    "                                                        test_size=0.3,\n",
    "                                                        random_state=21,\n",
    "                                                        stratify=y)\n",
    "    # обучаем модель\n",
    "    model = lgbm.LGBMClassifier(random_state=21, \n",
    "                                 class_weight={0:class_weight, 1:1},\n",
    "                                  n_estimators=n_estimators,\n",
    "                                num_leaves=num_leaves\n",
    "                               )\n",
    "    model.fit(X_train, y_train)\n",
    "\n",
    "    # предсказываем\n",
    "    y_train_pred = model.predict(X_train)\n",
    "    y_test_pred = model.predict(X_test)\n",
    "    \n",
    "    # считаем метрики\n",
    "    #evaluate_preds(model, X_train, X_test, y_train, y_test)\n",
    "    accuracy_train = accuracy_score(y_train, y_train_pred)\n",
    "    accuracy_test = accuracy_score(y_test, y_test_pred)\n",
    "    \n",
    "    return f'f1 class 1: TRAIN = {round(accuracy_train, 4)}, TEST = {round(accuracy_test, 4)}'"
   ]
  },
  {
   "cell_type": "markdown",
   "metadata": {},
   "source": [
    "**LightGBM**\n",
    "\n",
    "**For Better Accuracy**\n",
    "- Use large `max_bin` (may be slower)\n",
    "- Use small learning_rate with large `num_iterations`\n",
    "- Use large `num_leaves` (may cause over-fitting)\n",
    "- Use bigger training data\n",
    "- Try `dart`\n",
    "\n",
    "**Deal with Over-fitting**\n",
    "- Use small `max_bin`\n",
    "- Use small `num_leaves`\n",
    "- Use `min_data_in_leaf` and min_sum_hessian_in_leaf\n",
    "- Use bagging by set `bagging_fraction` and `bagging_freq`\n",
    "- Use feature sub-sampling by set `feature_fraction`\n",
    "- Use bigger training data\n",
    "- Try `lambda_l1`, `lambda_l2` and `min_gain_to_split` for regularization\n",
    "- Try `max_depth` to avoid growing deep tree\n",
    "- Try `extra_trees`\n",
    "- Try increasing `path_smooth`"
   ]
  },
  {
   "cell_type": "code",
   "execution_count": 210,
   "metadata": {
    "colab": {},
    "colab_type": "code",
    "id": "5Jqk10LxZ5l3"
   },
   "outputs": [],
   "source": [
    "def cat_boost(df, n_estimators=100, num_leaves=10):\n",
    "\n",
    "    # подсчитываем дисбаланс классов\n",
    "    class_weight = df[TARGET_NAME].value_counts()[1] / df[TARGET_NAME].value_counts()[0]\n",
    "    \n",
    "    # Заполняем пропуски модой\n",
    "    #df.fillna(df.mode().iloc[0], inplace=True)\n",
    "    #df = df.fillna(df.median(axis=0), axis=0)\n",
    "\n",
    "    # Переводим категориальные признаки в количественные\n",
    "    #df = pd.get_dummies(df)\n",
    "    \n",
    "    # после перевода в категориальные данные появляется столбец \n",
    "    # 'Years in current job_< 1 year', необходимо заменить знак <\n",
    "    #df_clean = df\n",
    "#     regex = re.compile(r\"\\[|\\]|<\", re.IGNORECASE)\n",
    "#     df.columns = [regex.sub(\"_\", col) if any(x in str(col) for x in set(('[', ']', '<'))) \\\n",
    "#                        else col for col in df.columns.values]\n",
    "    \n",
    "    # стандиртизируем данные\n",
    "#     scaler = StandardScaler()\n",
    "#     df_norm = df.copy()\n",
    "#     df_norm[NUM_FEATURE_NAMES] = scaler.fit_transform(df_norm[NUM_FEATURE_NAMES])\n",
    "#     df = df_norm.copy()\n",
    "        \n",
    "    # формируем выборки\n",
    "    X = df.drop(columns=[TARGET_NAME])\n",
    "    y = df[TARGET_NAME]\n",
    "\n",
    "    X_train, X_test, y_train, y_test = train_test_split(X, y, \n",
    "                                                        shuffle=True,\n",
    "                                                        test_size=0.3,\n",
    "                                                        random_state=21,\n",
    "                                                        stratify=y)\n",
    "    # обучаем модель\n",
    "    model = catb.CatBoostClassifier(silent=True, random_state=21, \n",
    "                                    cat_features=CAT_FEATURE_NAMES,\n",
    "                                    one_hot_max_size=len(X.columns),\n",
    "                                    class_weights=[class_weight, 1],\n",
    "                                    eval_metric='F1',\n",
    "                                    custom_metric=['Precision', 'Recall'],\n",
    "                                   )\n",
    "    model.fit(X_train, y_train)\n",
    "\n",
    "    # предсказываем\n",
    "    y_train_pred = model.predict(X_train)\n",
    "    y_test_pred = model.predict(X_test)\n",
    "    \n",
    "    # считаем метрики\n",
    "    #evaluate_preds(model, X_train, X_test, y_train, y_test)\n",
    "    accuracy_train = accuracy_score(y_train, y_train_pred)\n",
    "    accuracy_test = accuracy_score(y_test, y_test_pred)\n",
    "    \n",
    "    return f'f1 class 1: TRAIN = {round(accuracy_train, 4)}, TEST = {round(accuracy_test, 4)}'"
   ]
  },
  {
   "cell_type": "markdown",
   "metadata": {},
   "source": [
    "# EDA: обзор датасета"
   ]
  },
  {
   "cell_type": "code",
   "execution_count": 264,
   "metadata": {
    "scrolled": true
   },
   "outputs": [
    {
     "data": {
      "text/html": [
       "<style  type=\"text/css\" >\n",
       "#T_e6bc865a_59e0_11eb_bfb8_aa67d55ccda8row0_col2,#T_e6bc865a_59e0_11eb_bfb8_aa67d55ccda8row0_col8,#T_e6bc865a_59e0_11eb_bfb8_aa67d55ccda8row1_col8,#T_e6bc865a_59e0_11eb_bfb8_aa67d55ccda8row2_col8,#T_e6bc865a_59e0_11eb_bfb8_aa67d55ccda8row3_col8,#T_e6bc865a_59e0_11eb_bfb8_aa67d55ccda8row4_col8{\n",
       "            color:  red;\n",
       "        }</style><table id=\"T_e6bc865a_59e0_11eb_bfb8_aa67d55ccda8\" ><thead>    <tr>        <th class=\"blank level0\" ></th>        <th class=\"col_heading level0 col0\" >Home Ownership</th>        <th class=\"col_heading level0 col1\" >Annual Income</th>        <th class=\"col_heading level0 col2\" >Years in current job</th>        <th class=\"col_heading level0 col3\" >Tax Liens</th>        <th class=\"col_heading level0 col4\" >Number of Open Accounts</th>        <th class=\"col_heading level0 col5\" >Years of Credit History</th>        <th class=\"col_heading level0 col6\" >Maximum Open Credit</th>        <th class=\"col_heading level0 col7\" >Number of Credit Problems</th>        <th class=\"col_heading level0 col8\" >Months since last delinquent</th>        <th class=\"col_heading level0 col9\" >Bankruptcies</th>        <th class=\"col_heading level0 col10\" >Purpose</th>        <th class=\"col_heading level0 col11\" >Term</th>        <th class=\"col_heading level0 col12\" >Current Loan Amount</th>        <th class=\"col_heading level0 col13\" >Current Credit Balance</th>        <th class=\"col_heading level0 col14\" >Monthly Debt</th>        <th class=\"col_heading level0 col15\" >Credit Score</th>        <th class=\"col_heading level0 col16\" >Credit Default</th>    </tr></thead><tbody>\n",
       "                <tr>\n",
       "                        <th id=\"T_e6bc865a_59e0_11eb_bfb8_aa67d55ccda8level0_row0\" class=\"row_heading level0 row0\" >0</th>\n",
       "                        <td id=\"T_e6bc865a_59e0_11eb_bfb8_aa67d55ccda8row0_col0\" class=\"data row0 col0\" >Own Home</td>\n",
       "                        <td id=\"T_e6bc865a_59e0_11eb_bfb8_aa67d55ccda8row0_col1\" class=\"data row0 col1\" >482087.000000</td>\n",
       "                        <td id=\"T_e6bc865a_59e0_11eb_bfb8_aa67d55ccda8row0_col2\" class=\"data row0 col2\" >nan</td>\n",
       "                        <td id=\"T_e6bc865a_59e0_11eb_bfb8_aa67d55ccda8row0_col3\" class=\"data row0 col3\" >0.000000</td>\n",
       "                        <td id=\"T_e6bc865a_59e0_11eb_bfb8_aa67d55ccda8row0_col4\" class=\"data row0 col4\" >11.000000</td>\n",
       "                        <td id=\"T_e6bc865a_59e0_11eb_bfb8_aa67d55ccda8row0_col5\" class=\"data row0 col5\" >26.300000</td>\n",
       "                        <td id=\"T_e6bc865a_59e0_11eb_bfb8_aa67d55ccda8row0_col6\" class=\"data row0 col6\" >685960.000000</td>\n",
       "                        <td id=\"T_e6bc865a_59e0_11eb_bfb8_aa67d55ccda8row0_col7\" class=\"data row0 col7\" >1.000000</td>\n",
       "                        <td id=\"T_e6bc865a_59e0_11eb_bfb8_aa67d55ccda8row0_col8\" class=\"data row0 col8\" >nan</td>\n",
       "                        <td id=\"T_e6bc865a_59e0_11eb_bfb8_aa67d55ccda8row0_col9\" class=\"data row0 col9\" >1.000000</td>\n",
       "                        <td id=\"T_e6bc865a_59e0_11eb_bfb8_aa67d55ccda8row0_col10\" class=\"data row0 col10\" >debt consolidation</td>\n",
       "                        <td id=\"T_e6bc865a_59e0_11eb_bfb8_aa67d55ccda8row0_col11\" class=\"data row0 col11\" >Short Term</td>\n",
       "                        <td id=\"T_e6bc865a_59e0_11eb_bfb8_aa67d55ccda8row0_col12\" class=\"data row0 col12\" >99999999.000000</td>\n",
       "                        <td id=\"T_e6bc865a_59e0_11eb_bfb8_aa67d55ccda8row0_col13\" class=\"data row0 col13\" >47386.000000</td>\n",
       "                        <td id=\"T_e6bc865a_59e0_11eb_bfb8_aa67d55ccda8row0_col14\" class=\"data row0 col14\" >7914.000000</td>\n",
       "                        <td id=\"T_e6bc865a_59e0_11eb_bfb8_aa67d55ccda8row0_col15\" class=\"data row0 col15\" >749.000000</td>\n",
       "                        <td id=\"T_e6bc865a_59e0_11eb_bfb8_aa67d55ccda8row0_col16\" class=\"data row0 col16\" >0</td>\n",
       "            </tr>\n",
       "            <tr>\n",
       "                        <th id=\"T_e6bc865a_59e0_11eb_bfb8_aa67d55ccda8level0_row1\" class=\"row_heading level0 row1\" >1</th>\n",
       "                        <td id=\"T_e6bc865a_59e0_11eb_bfb8_aa67d55ccda8row1_col0\" class=\"data row1 col0\" >Own Home</td>\n",
       "                        <td id=\"T_e6bc865a_59e0_11eb_bfb8_aa67d55ccda8row1_col1\" class=\"data row1 col1\" >1025487.000000</td>\n",
       "                        <td id=\"T_e6bc865a_59e0_11eb_bfb8_aa67d55ccda8row1_col2\" class=\"data row1 col2\" >10+ years</td>\n",
       "                        <td id=\"T_e6bc865a_59e0_11eb_bfb8_aa67d55ccda8row1_col3\" class=\"data row1 col3\" >0.000000</td>\n",
       "                        <td id=\"T_e6bc865a_59e0_11eb_bfb8_aa67d55ccda8row1_col4\" class=\"data row1 col4\" >15.000000</td>\n",
       "                        <td id=\"T_e6bc865a_59e0_11eb_bfb8_aa67d55ccda8row1_col5\" class=\"data row1 col5\" >15.300000</td>\n",
       "                        <td id=\"T_e6bc865a_59e0_11eb_bfb8_aa67d55ccda8row1_col6\" class=\"data row1 col6\" >1181730.000000</td>\n",
       "                        <td id=\"T_e6bc865a_59e0_11eb_bfb8_aa67d55ccda8row1_col7\" class=\"data row1 col7\" >0.000000</td>\n",
       "                        <td id=\"T_e6bc865a_59e0_11eb_bfb8_aa67d55ccda8row1_col8\" class=\"data row1 col8\" >nan</td>\n",
       "                        <td id=\"T_e6bc865a_59e0_11eb_bfb8_aa67d55ccda8row1_col9\" class=\"data row1 col9\" >0.000000</td>\n",
       "                        <td id=\"T_e6bc865a_59e0_11eb_bfb8_aa67d55ccda8row1_col10\" class=\"data row1 col10\" >debt consolidation</td>\n",
       "                        <td id=\"T_e6bc865a_59e0_11eb_bfb8_aa67d55ccda8row1_col11\" class=\"data row1 col11\" >Long Term</td>\n",
       "                        <td id=\"T_e6bc865a_59e0_11eb_bfb8_aa67d55ccda8row1_col12\" class=\"data row1 col12\" >264968.000000</td>\n",
       "                        <td id=\"T_e6bc865a_59e0_11eb_bfb8_aa67d55ccda8row1_col13\" class=\"data row1 col13\" >394972.000000</td>\n",
       "                        <td id=\"T_e6bc865a_59e0_11eb_bfb8_aa67d55ccda8row1_col14\" class=\"data row1 col14\" >18373.000000</td>\n",
       "                        <td id=\"T_e6bc865a_59e0_11eb_bfb8_aa67d55ccda8row1_col15\" class=\"data row1 col15\" >737.000000</td>\n",
       "                        <td id=\"T_e6bc865a_59e0_11eb_bfb8_aa67d55ccda8row1_col16\" class=\"data row1 col16\" >1</td>\n",
       "            </tr>\n",
       "            <tr>\n",
       "                        <th id=\"T_e6bc865a_59e0_11eb_bfb8_aa67d55ccda8level0_row2\" class=\"row_heading level0 row2\" >2</th>\n",
       "                        <td id=\"T_e6bc865a_59e0_11eb_bfb8_aa67d55ccda8row2_col0\" class=\"data row2 col0\" >Home Mortgage</td>\n",
       "                        <td id=\"T_e6bc865a_59e0_11eb_bfb8_aa67d55ccda8row2_col1\" class=\"data row2 col1\" >751412.000000</td>\n",
       "                        <td id=\"T_e6bc865a_59e0_11eb_bfb8_aa67d55ccda8row2_col2\" class=\"data row2 col2\" >8 years</td>\n",
       "                        <td id=\"T_e6bc865a_59e0_11eb_bfb8_aa67d55ccda8row2_col3\" class=\"data row2 col3\" >0.000000</td>\n",
       "                        <td id=\"T_e6bc865a_59e0_11eb_bfb8_aa67d55ccda8row2_col4\" class=\"data row2 col4\" >11.000000</td>\n",
       "                        <td id=\"T_e6bc865a_59e0_11eb_bfb8_aa67d55ccda8row2_col5\" class=\"data row2 col5\" >35.000000</td>\n",
       "                        <td id=\"T_e6bc865a_59e0_11eb_bfb8_aa67d55ccda8row2_col6\" class=\"data row2 col6\" >1182434.000000</td>\n",
       "                        <td id=\"T_e6bc865a_59e0_11eb_bfb8_aa67d55ccda8row2_col7\" class=\"data row2 col7\" >0.000000</td>\n",
       "                        <td id=\"T_e6bc865a_59e0_11eb_bfb8_aa67d55ccda8row2_col8\" class=\"data row2 col8\" >nan</td>\n",
       "                        <td id=\"T_e6bc865a_59e0_11eb_bfb8_aa67d55ccda8row2_col9\" class=\"data row2 col9\" >0.000000</td>\n",
       "                        <td id=\"T_e6bc865a_59e0_11eb_bfb8_aa67d55ccda8row2_col10\" class=\"data row2 col10\" >debt consolidation</td>\n",
       "                        <td id=\"T_e6bc865a_59e0_11eb_bfb8_aa67d55ccda8row2_col11\" class=\"data row2 col11\" >Short Term</td>\n",
       "                        <td id=\"T_e6bc865a_59e0_11eb_bfb8_aa67d55ccda8row2_col12\" class=\"data row2 col12\" >99999999.000000</td>\n",
       "                        <td id=\"T_e6bc865a_59e0_11eb_bfb8_aa67d55ccda8row2_col13\" class=\"data row2 col13\" >308389.000000</td>\n",
       "                        <td id=\"T_e6bc865a_59e0_11eb_bfb8_aa67d55ccda8row2_col14\" class=\"data row2 col14\" >13651.000000</td>\n",
       "                        <td id=\"T_e6bc865a_59e0_11eb_bfb8_aa67d55ccda8row2_col15\" class=\"data row2 col15\" >742.000000</td>\n",
       "                        <td id=\"T_e6bc865a_59e0_11eb_bfb8_aa67d55ccda8row2_col16\" class=\"data row2 col16\" >0</td>\n",
       "            </tr>\n",
       "            <tr>\n",
       "                        <th id=\"T_e6bc865a_59e0_11eb_bfb8_aa67d55ccda8level0_row3\" class=\"row_heading level0 row3\" >3</th>\n",
       "                        <td id=\"T_e6bc865a_59e0_11eb_bfb8_aa67d55ccda8row3_col0\" class=\"data row3 col0\" >Own Home</td>\n",
       "                        <td id=\"T_e6bc865a_59e0_11eb_bfb8_aa67d55ccda8row3_col1\" class=\"data row3 col1\" >805068.000000</td>\n",
       "                        <td id=\"T_e6bc865a_59e0_11eb_bfb8_aa67d55ccda8row3_col2\" class=\"data row3 col2\" >6 years</td>\n",
       "                        <td id=\"T_e6bc865a_59e0_11eb_bfb8_aa67d55ccda8row3_col3\" class=\"data row3 col3\" >0.000000</td>\n",
       "                        <td id=\"T_e6bc865a_59e0_11eb_bfb8_aa67d55ccda8row3_col4\" class=\"data row3 col4\" >8.000000</td>\n",
       "                        <td id=\"T_e6bc865a_59e0_11eb_bfb8_aa67d55ccda8row3_col5\" class=\"data row3 col5\" >22.500000</td>\n",
       "                        <td id=\"T_e6bc865a_59e0_11eb_bfb8_aa67d55ccda8row3_col6\" class=\"data row3 col6\" >147400.000000</td>\n",
       "                        <td id=\"T_e6bc865a_59e0_11eb_bfb8_aa67d55ccda8row3_col7\" class=\"data row3 col7\" >1.000000</td>\n",
       "                        <td id=\"T_e6bc865a_59e0_11eb_bfb8_aa67d55ccda8row3_col8\" class=\"data row3 col8\" >nan</td>\n",
       "                        <td id=\"T_e6bc865a_59e0_11eb_bfb8_aa67d55ccda8row3_col9\" class=\"data row3 col9\" >1.000000</td>\n",
       "                        <td id=\"T_e6bc865a_59e0_11eb_bfb8_aa67d55ccda8row3_col10\" class=\"data row3 col10\" >debt consolidation</td>\n",
       "                        <td id=\"T_e6bc865a_59e0_11eb_bfb8_aa67d55ccda8row3_col11\" class=\"data row3 col11\" >Short Term</td>\n",
       "                        <td id=\"T_e6bc865a_59e0_11eb_bfb8_aa67d55ccda8row3_col12\" class=\"data row3 col12\" >121396.000000</td>\n",
       "                        <td id=\"T_e6bc865a_59e0_11eb_bfb8_aa67d55ccda8row3_col13\" class=\"data row3 col13\" >95855.000000</td>\n",
       "                        <td id=\"T_e6bc865a_59e0_11eb_bfb8_aa67d55ccda8row3_col14\" class=\"data row3 col14\" >11338.000000</td>\n",
       "                        <td id=\"T_e6bc865a_59e0_11eb_bfb8_aa67d55ccda8row3_col15\" class=\"data row3 col15\" >694.000000</td>\n",
       "                        <td id=\"T_e6bc865a_59e0_11eb_bfb8_aa67d55ccda8row3_col16\" class=\"data row3 col16\" >0</td>\n",
       "            </tr>\n",
       "            <tr>\n",
       "                        <th id=\"T_e6bc865a_59e0_11eb_bfb8_aa67d55ccda8level0_row4\" class=\"row_heading level0 row4\" >4</th>\n",
       "                        <td id=\"T_e6bc865a_59e0_11eb_bfb8_aa67d55ccda8row4_col0\" class=\"data row4 col0\" >Rent</td>\n",
       "                        <td id=\"T_e6bc865a_59e0_11eb_bfb8_aa67d55ccda8row4_col1\" class=\"data row4 col1\" >776264.000000</td>\n",
       "                        <td id=\"T_e6bc865a_59e0_11eb_bfb8_aa67d55ccda8row4_col2\" class=\"data row4 col2\" >8 years</td>\n",
       "                        <td id=\"T_e6bc865a_59e0_11eb_bfb8_aa67d55ccda8row4_col3\" class=\"data row4 col3\" >0.000000</td>\n",
       "                        <td id=\"T_e6bc865a_59e0_11eb_bfb8_aa67d55ccda8row4_col4\" class=\"data row4 col4\" >13.000000</td>\n",
       "                        <td id=\"T_e6bc865a_59e0_11eb_bfb8_aa67d55ccda8row4_col5\" class=\"data row4 col5\" >13.600000</td>\n",
       "                        <td id=\"T_e6bc865a_59e0_11eb_bfb8_aa67d55ccda8row4_col6\" class=\"data row4 col6\" >385836.000000</td>\n",
       "                        <td id=\"T_e6bc865a_59e0_11eb_bfb8_aa67d55ccda8row4_col7\" class=\"data row4 col7\" >1.000000</td>\n",
       "                        <td id=\"T_e6bc865a_59e0_11eb_bfb8_aa67d55ccda8row4_col8\" class=\"data row4 col8\" >nan</td>\n",
       "                        <td id=\"T_e6bc865a_59e0_11eb_bfb8_aa67d55ccda8row4_col9\" class=\"data row4 col9\" >0.000000</td>\n",
       "                        <td id=\"T_e6bc865a_59e0_11eb_bfb8_aa67d55ccda8row4_col10\" class=\"data row4 col10\" >debt consolidation</td>\n",
       "                        <td id=\"T_e6bc865a_59e0_11eb_bfb8_aa67d55ccda8row4_col11\" class=\"data row4 col11\" >Short Term</td>\n",
       "                        <td id=\"T_e6bc865a_59e0_11eb_bfb8_aa67d55ccda8row4_col12\" class=\"data row4 col12\" >125840.000000</td>\n",
       "                        <td id=\"T_e6bc865a_59e0_11eb_bfb8_aa67d55ccda8row4_col13\" class=\"data row4 col13\" >93309.000000</td>\n",
       "                        <td id=\"T_e6bc865a_59e0_11eb_bfb8_aa67d55ccda8row4_col14\" class=\"data row4 col14\" >7180.000000</td>\n",
       "                        <td id=\"T_e6bc865a_59e0_11eb_bfb8_aa67d55ccda8row4_col15\" class=\"data row4 col15\" >719.000000</td>\n",
       "                        <td id=\"T_e6bc865a_59e0_11eb_bfb8_aa67d55ccda8row4_col16\" class=\"data row4 col16\" >0</td>\n",
       "            </tr>\n",
       "    </tbody></table>"
      ],
      "text/plain": [
       "<pandas.io.formats.style.Styler at 0x1c7872d5a60>"
      ]
     },
     "execution_count": 264,
     "metadata": {},
     "output_type": "execute_result"
    }
   ],
   "source": [
    "df_train.head().style.applymap(lambda x: 'color: red' if pd.isnull(x) else '')"
   ]
  },
  {
   "cell_type": "code",
   "execution_count": 10,
   "metadata": {},
   "outputs": [
    {
     "data": {
      "text/plain": [
       "(7500, 17)"
      ]
     },
     "execution_count": 10,
     "metadata": {},
     "output_type": "execute_result"
    }
   ],
   "source": [
    "df_train.shape"
   ]
  },
  {
   "cell_type": "code",
   "execution_count": 11,
   "metadata": {
    "scrolled": false
   },
   "outputs": [
    {
     "name": "stdout",
     "output_type": "stream",
     "text": [
      "<class 'pandas.core.frame.DataFrame'>\n",
      "RangeIndex: 7500 entries, 0 to 7499\n",
      "Data columns (total 17 columns):\n",
      " #   Column                        Non-Null Count  Dtype  \n",
      "---  ------                        --------------  -----  \n",
      " 0   Home Ownership                7500 non-null   object \n",
      " 1   Annual Income                 5943 non-null   float64\n",
      " 2   Years in current job          7129 non-null   object \n",
      " 3   Tax Liens                     7500 non-null   float64\n",
      " 4   Number of Open Accounts       7500 non-null   float64\n",
      " 5   Years of Credit History       7500 non-null   float64\n",
      " 6   Maximum Open Credit           7500 non-null   float64\n",
      " 7   Number of Credit Problems     7500 non-null   float64\n",
      " 8   Months since last delinquent  3419 non-null   float64\n",
      " 9   Bankruptcies                  7486 non-null   float64\n",
      " 10  Purpose                       7500 non-null   object \n",
      " 11  Term                          7500 non-null   object \n",
      " 12  Current Loan Amount           7500 non-null   float64\n",
      " 13  Current Credit Balance        7500 non-null   float64\n",
      " 14  Monthly Debt                  7500 non-null   float64\n",
      " 15  Credit Score                  5943 non-null   float64\n",
      " 16  Credit Default                7500 non-null   int64  \n",
      "dtypes: float64(12), int64(1), object(4)\n",
      "memory usage: 996.2+ KB\n"
     ]
    }
   ],
   "source": [
    "df_train.info()"
   ]
  },
  {
   "cell_type": "code",
   "execution_count": 12,
   "metadata": {
    "scrolled": false
   },
   "outputs": [
    {
     "data": {
      "text/html": [
       "<div>\n",
       "<style scoped>\n",
       "    .dataframe tbody tr th:only-of-type {\n",
       "        vertical-align: middle;\n",
       "    }\n",
       "\n",
       "    .dataframe tbody tr th {\n",
       "        vertical-align: top;\n",
       "    }\n",
       "\n",
       "    .dataframe thead th {\n",
       "        text-align: right;\n",
       "    }\n",
       "</style>\n",
       "<table border=\"1\" class=\"dataframe\">\n",
       "  <thead>\n",
       "    <tr style=\"text-align: right;\">\n",
       "      <th></th>\n",
       "      <th>Annual Income</th>\n",
       "      <th>Tax Liens</th>\n",
       "      <th>Number of Open Accounts</th>\n",
       "      <th>Years of Credit History</th>\n",
       "      <th>Maximum Open Credit</th>\n",
       "      <th>Number of Credit Problems</th>\n",
       "      <th>Months since last delinquent</th>\n",
       "      <th>Bankruptcies</th>\n",
       "      <th>Current Loan Amount</th>\n",
       "      <th>Current Credit Balance</th>\n",
       "      <th>Monthly Debt</th>\n",
       "      <th>Credit Score</th>\n",
       "      <th>Credit Default</th>\n",
       "    </tr>\n",
       "  </thead>\n",
       "  <tbody>\n",
       "    <tr>\n",
       "      <th>count</th>\n",
       "      <td>5.943000e+03</td>\n",
       "      <td>7500.000000</td>\n",
       "      <td>7500.000000</td>\n",
       "      <td>7500.000000</td>\n",
       "      <td>7.500000e+03</td>\n",
       "      <td>7500.000000</td>\n",
       "      <td>3419.000000</td>\n",
       "      <td>7486.000000</td>\n",
       "      <td>7.500000e+03</td>\n",
       "      <td>7.500000e+03</td>\n",
       "      <td>7500.000000</td>\n",
       "      <td>5943.000000</td>\n",
       "      <td>7500.000000</td>\n",
       "    </tr>\n",
       "    <tr>\n",
       "      <th>mean</th>\n",
       "      <td>1.366392e+06</td>\n",
       "      <td>0.030133</td>\n",
       "      <td>11.130933</td>\n",
       "      <td>18.317467</td>\n",
       "      <td>9.451537e+05</td>\n",
       "      <td>0.170000</td>\n",
       "      <td>34.692600</td>\n",
       "      <td>0.117152</td>\n",
       "      <td>1.187318e+07</td>\n",
       "      <td>2.898332e+05</td>\n",
       "      <td>18314.454133</td>\n",
       "      <td>1151.087498</td>\n",
       "      <td>0.281733</td>\n",
       "    </tr>\n",
       "    <tr>\n",
       "      <th>std</th>\n",
       "      <td>8.453392e+05</td>\n",
       "      <td>0.271604</td>\n",
       "      <td>4.908924</td>\n",
       "      <td>7.041946</td>\n",
       "      <td>1.602622e+07</td>\n",
       "      <td>0.498598</td>\n",
       "      <td>21.688806</td>\n",
       "      <td>0.347192</td>\n",
       "      <td>3.192612e+07</td>\n",
       "      <td>3.178714e+05</td>\n",
       "      <td>11926.764673</td>\n",
       "      <td>1604.451418</td>\n",
       "      <td>0.449874</td>\n",
       "    </tr>\n",
       "    <tr>\n",
       "      <th>min</th>\n",
       "      <td>1.645970e+05</td>\n",
       "      <td>0.000000</td>\n",
       "      <td>2.000000</td>\n",
       "      <td>4.000000</td>\n",
       "      <td>0.000000e+00</td>\n",
       "      <td>0.000000</td>\n",
       "      <td>0.000000</td>\n",
       "      <td>0.000000</td>\n",
       "      <td>1.124200e+04</td>\n",
       "      <td>0.000000e+00</td>\n",
       "      <td>0.000000</td>\n",
       "      <td>585.000000</td>\n",
       "      <td>0.000000</td>\n",
       "    </tr>\n",
       "    <tr>\n",
       "      <th>25%</th>\n",
       "      <td>8.443410e+05</td>\n",
       "      <td>0.000000</td>\n",
       "      <td>8.000000</td>\n",
       "      <td>13.500000</td>\n",
       "      <td>2.792295e+05</td>\n",
       "      <td>0.000000</td>\n",
       "      <td>16.000000</td>\n",
       "      <td>0.000000</td>\n",
       "      <td>1.801690e+05</td>\n",
       "      <td>1.142565e+05</td>\n",
       "      <td>10067.500000</td>\n",
       "      <td>711.000000</td>\n",
       "      <td>0.000000</td>\n",
       "    </tr>\n",
       "    <tr>\n",
       "      <th>50%</th>\n",
       "      <td>1.168386e+06</td>\n",
       "      <td>0.000000</td>\n",
       "      <td>10.000000</td>\n",
       "      <td>17.000000</td>\n",
       "      <td>4.781590e+05</td>\n",
       "      <td>0.000000</td>\n",
       "      <td>32.000000</td>\n",
       "      <td>0.000000</td>\n",
       "      <td>3.095730e+05</td>\n",
       "      <td>2.093230e+05</td>\n",
       "      <td>16076.500000</td>\n",
       "      <td>731.000000</td>\n",
       "      <td>0.000000</td>\n",
       "    </tr>\n",
       "    <tr>\n",
       "      <th>75%</th>\n",
       "      <td>1.640137e+06</td>\n",
       "      <td>0.000000</td>\n",
       "      <td>14.000000</td>\n",
       "      <td>21.800000</td>\n",
       "      <td>7.935015e+05</td>\n",
       "      <td>0.000000</td>\n",
       "      <td>50.000000</td>\n",
       "      <td>0.000000</td>\n",
       "      <td>5.198820e+05</td>\n",
       "      <td>3.604062e+05</td>\n",
       "      <td>23818.000000</td>\n",
       "      <td>743.000000</td>\n",
       "      <td>1.000000</td>\n",
       "    </tr>\n",
       "    <tr>\n",
       "      <th>max</th>\n",
       "      <td>1.014934e+07</td>\n",
       "      <td>7.000000</td>\n",
       "      <td>43.000000</td>\n",
       "      <td>57.700000</td>\n",
       "      <td>1.304726e+09</td>\n",
       "      <td>7.000000</td>\n",
       "      <td>118.000000</td>\n",
       "      <td>4.000000</td>\n",
       "      <td>1.000000e+08</td>\n",
       "      <td>6.506797e+06</td>\n",
       "      <td>136679.000000</td>\n",
       "      <td>7510.000000</td>\n",
       "      <td>1.000000</td>\n",
       "    </tr>\n",
       "  </tbody>\n",
       "</table>\n",
       "</div>"
      ],
      "text/plain": [
       "       Annual Income    Tax Liens  Number of Open Accounts  \\\n",
       "count   5.943000e+03  7500.000000              7500.000000   \n",
       "mean    1.366392e+06     0.030133                11.130933   \n",
       "std     8.453392e+05     0.271604                 4.908924   \n",
       "min     1.645970e+05     0.000000                 2.000000   \n",
       "25%     8.443410e+05     0.000000                 8.000000   \n",
       "50%     1.168386e+06     0.000000                10.000000   \n",
       "75%     1.640137e+06     0.000000                14.000000   \n",
       "max     1.014934e+07     7.000000                43.000000   \n",
       "\n",
       "       Years of Credit History  Maximum Open Credit  \\\n",
       "count              7500.000000         7.500000e+03   \n",
       "mean                 18.317467         9.451537e+05   \n",
       "std                   7.041946         1.602622e+07   \n",
       "min                   4.000000         0.000000e+00   \n",
       "25%                  13.500000         2.792295e+05   \n",
       "50%                  17.000000         4.781590e+05   \n",
       "75%                  21.800000         7.935015e+05   \n",
       "max                  57.700000         1.304726e+09   \n",
       "\n",
       "       Number of Credit Problems  Months since last delinquent  Bankruptcies  \\\n",
       "count                7500.000000                   3419.000000   7486.000000   \n",
       "mean                    0.170000                     34.692600      0.117152   \n",
       "std                     0.498598                     21.688806      0.347192   \n",
       "min                     0.000000                      0.000000      0.000000   \n",
       "25%                     0.000000                     16.000000      0.000000   \n",
       "50%                     0.000000                     32.000000      0.000000   \n",
       "75%                     0.000000                     50.000000      0.000000   \n",
       "max                     7.000000                    118.000000      4.000000   \n",
       "\n",
       "       Current Loan Amount  Current Credit Balance   Monthly Debt  \\\n",
       "count         7.500000e+03            7.500000e+03    7500.000000   \n",
       "mean          1.187318e+07            2.898332e+05   18314.454133   \n",
       "std           3.192612e+07            3.178714e+05   11926.764673   \n",
       "min           1.124200e+04            0.000000e+00       0.000000   \n",
       "25%           1.801690e+05            1.142565e+05   10067.500000   \n",
       "50%           3.095730e+05            2.093230e+05   16076.500000   \n",
       "75%           5.198820e+05            3.604062e+05   23818.000000   \n",
       "max           1.000000e+08            6.506797e+06  136679.000000   \n",
       "\n",
       "       Credit Score  Credit Default  \n",
       "count   5943.000000     7500.000000  \n",
       "mean    1151.087498        0.281733  \n",
       "std     1604.451418        0.449874  \n",
       "min      585.000000        0.000000  \n",
       "25%      711.000000        0.000000  \n",
       "50%      731.000000        0.000000  \n",
       "75%      743.000000        1.000000  \n",
       "max     7510.000000        1.000000  "
      ]
     },
     "execution_count": 12,
     "metadata": {},
     "output_type": "execute_result"
    }
   ],
   "source": [
    "df_train.describe()"
   ]
  },
  {
   "cell_type": "code",
   "execution_count": 13,
   "metadata": {
    "scrolled": false
   },
   "outputs": [
    {
     "name": "stdout",
     "output_type": "stream",
     "text": [
      "<class 'pandas.core.frame.DataFrame'>\n",
      "RangeIndex: 2500 entries, 0 to 2499\n",
      "Data columns (total 16 columns):\n",
      " #   Column                        Non-Null Count  Dtype  \n",
      "---  ------                        --------------  -----  \n",
      " 0   Home Ownership                2500 non-null   object \n",
      " 1   Annual Income                 1987 non-null   float64\n",
      " 2   Years in current job          2414 non-null   object \n",
      " 3   Tax Liens                     2500 non-null   float64\n",
      " 4   Number of Open Accounts       2500 non-null   float64\n",
      " 5   Years of Credit History       2500 non-null   float64\n",
      " 6   Maximum Open Credit           2500 non-null   float64\n",
      " 7   Number of Credit Problems     2500 non-null   float64\n",
      " 8   Months since last delinquent  1142 non-null   float64\n",
      " 9   Bankruptcies                  2497 non-null   float64\n",
      " 10  Purpose                       2500 non-null   object \n",
      " 11  Term                          2500 non-null   object \n",
      " 12  Current Loan Amount           2500 non-null   float64\n",
      " 13  Current Credit Balance        2500 non-null   float64\n",
      " 14  Monthly Debt                  2500 non-null   float64\n",
      " 15  Credit Score                  1987 non-null   float64\n",
      "dtypes: float64(12), object(4)\n",
      "memory usage: 312.6+ KB\n"
     ]
    }
   ],
   "source": [
    "df_test.info()"
   ]
  },
  {
   "cell_type": "code",
   "execution_count": 266,
   "metadata": {},
   "outputs": [
    {
     "data": {
      "text/html": [
       "<style  type=\"text/css\" >\n",
       "#T_fcc0922d_59e0_11eb_bcd2_aa67d55ccda8row0_col1,#T_fcc0922d_59e0_11eb_bcd2_aa67d55ccda8row0_col15,#T_fcc0922d_59e0_11eb_bcd2_aa67d55ccda8row2_col8,#T_fcc0922d_59e0_11eb_bcd2_aa67d55ccda8row4_col8{\n",
       "            color:  red;\n",
       "        }</style><table id=\"T_fcc0922d_59e0_11eb_bcd2_aa67d55ccda8\" ><thead>    <tr>        <th class=\"blank level0\" ></th>        <th class=\"col_heading level0 col0\" >Home Ownership</th>        <th class=\"col_heading level0 col1\" >Annual Income</th>        <th class=\"col_heading level0 col2\" >Years in current job</th>        <th class=\"col_heading level0 col3\" >Tax Liens</th>        <th class=\"col_heading level0 col4\" >Number of Open Accounts</th>        <th class=\"col_heading level0 col5\" >Years of Credit History</th>        <th class=\"col_heading level0 col6\" >Maximum Open Credit</th>        <th class=\"col_heading level0 col7\" >Number of Credit Problems</th>        <th class=\"col_heading level0 col8\" >Months since last delinquent</th>        <th class=\"col_heading level0 col9\" >Bankruptcies</th>        <th class=\"col_heading level0 col10\" >Purpose</th>        <th class=\"col_heading level0 col11\" >Term</th>        <th class=\"col_heading level0 col12\" >Current Loan Amount</th>        <th class=\"col_heading level0 col13\" >Current Credit Balance</th>        <th class=\"col_heading level0 col14\" >Monthly Debt</th>        <th class=\"col_heading level0 col15\" >Credit Score</th>    </tr></thead><tbody>\n",
       "                <tr>\n",
       "                        <th id=\"T_fcc0922d_59e0_11eb_bcd2_aa67d55ccda8level0_row0\" class=\"row_heading level0 row0\" >0</th>\n",
       "                        <td id=\"T_fcc0922d_59e0_11eb_bcd2_aa67d55ccda8row0_col0\" class=\"data row0 col0\" >Rent</td>\n",
       "                        <td id=\"T_fcc0922d_59e0_11eb_bcd2_aa67d55ccda8row0_col1\" class=\"data row0 col1\" >nan</td>\n",
       "                        <td id=\"T_fcc0922d_59e0_11eb_bcd2_aa67d55ccda8row0_col2\" class=\"data row0 col2\" >4 years</td>\n",
       "                        <td id=\"T_fcc0922d_59e0_11eb_bcd2_aa67d55ccda8row0_col3\" class=\"data row0 col3\" >0.000000</td>\n",
       "                        <td id=\"T_fcc0922d_59e0_11eb_bcd2_aa67d55ccda8row0_col4\" class=\"data row0 col4\" >9.000000</td>\n",
       "                        <td id=\"T_fcc0922d_59e0_11eb_bcd2_aa67d55ccda8row0_col5\" class=\"data row0 col5\" >12.500000</td>\n",
       "                        <td id=\"T_fcc0922d_59e0_11eb_bcd2_aa67d55ccda8row0_col6\" class=\"data row0 col6\" >220968.000000</td>\n",
       "                        <td id=\"T_fcc0922d_59e0_11eb_bcd2_aa67d55ccda8row0_col7\" class=\"data row0 col7\" >0.000000</td>\n",
       "                        <td id=\"T_fcc0922d_59e0_11eb_bcd2_aa67d55ccda8row0_col8\" class=\"data row0 col8\" >70.000000</td>\n",
       "                        <td id=\"T_fcc0922d_59e0_11eb_bcd2_aa67d55ccda8row0_col9\" class=\"data row0 col9\" >0.000000</td>\n",
       "                        <td id=\"T_fcc0922d_59e0_11eb_bcd2_aa67d55ccda8row0_col10\" class=\"data row0 col10\" >debt consolidation</td>\n",
       "                        <td id=\"T_fcc0922d_59e0_11eb_bcd2_aa67d55ccda8row0_col11\" class=\"data row0 col11\" >Short Term</td>\n",
       "                        <td id=\"T_fcc0922d_59e0_11eb_bcd2_aa67d55ccda8row0_col12\" class=\"data row0 col12\" >162470.000000</td>\n",
       "                        <td id=\"T_fcc0922d_59e0_11eb_bcd2_aa67d55ccda8row0_col13\" class=\"data row0 col13\" >105906.000000</td>\n",
       "                        <td id=\"T_fcc0922d_59e0_11eb_bcd2_aa67d55ccda8row0_col14\" class=\"data row0 col14\" >6813.000000</td>\n",
       "                        <td id=\"T_fcc0922d_59e0_11eb_bcd2_aa67d55ccda8row0_col15\" class=\"data row0 col15\" >nan</td>\n",
       "            </tr>\n",
       "            <tr>\n",
       "                        <th id=\"T_fcc0922d_59e0_11eb_bcd2_aa67d55ccda8level0_row1\" class=\"row_heading level0 row1\" >1</th>\n",
       "                        <td id=\"T_fcc0922d_59e0_11eb_bcd2_aa67d55ccda8row1_col0\" class=\"data row1 col0\" >Rent</td>\n",
       "                        <td id=\"T_fcc0922d_59e0_11eb_bcd2_aa67d55ccda8row1_col1\" class=\"data row1 col1\" >231838.000000</td>\n",
       "                        <td id=\"T_fcc0922d_59e0_11eb_bcd2_aa67d55ccda8row1_col2\" class=\"data row1 col2\" >1 year</td>\n",
       "                        <td id=\"T_fcc0922d_59e0_11eb_bcd2_aa67d55ccda8row1_col3\" class=\"data row1 col3\" >0.000000</td>\n",
       "                        <td id=\"T_fcc0922d_59e0_11eb_bcd2_aa67d55ccda8row1_col4\" class=\"data row1 col4\" >6.000000</td>\n",
       "                        <td id=\"T_fcc0922d_59e0_11eb_bcd2_aa67d55ccda8row1_col5\" class=\"data row1 col5\" >32.700000</td>\n",
       "                        <td id=\"T_fcc0922d_59e0_11eb_bcd2_aa67d55ccda8row1_col6\" class=\"data row1 col6\" >55946.000000</td>\n",
       "                        <td id=\"T_fcc0922d_59e0_11eb_bcd2_aa67d55ccda8row1_col7\" class=\"data row1 col7\" >0.000000</td>\n",
       "                        <td id=\"T_fcc0922d_59e0_11eb_bcd2_aa67d55ccda8row1_col8\" class=\"data row1 col8\" >8.000000</td>\n",
       "                        <td id=\"T_fcc0922d_59e0_11eb_bcd2_aa67d55ccda8row1_col9\" class=\"data row1 col9\" >0.000000</td>\n",
       "                        <td id=\"T_fcc0922d_59e0_11eb_bcd2_aa67d55ccda8row1_col10\" class=\"data row1 col10\" >educational expenses</td>\n",
       "                        <td id=\"T_fcc0922d_59e0_11eb_bcd2_aa67d55ccda8row1_col11\" class=\"data row1 col11\" >Short Term</td>\n",
       "                        <td id=\"T_fcc0922d_59e0_11eb_bcd2_aa67d55ccda8row1_col12\" class=\"data row1 col12\" >78298.000000</td>\n",
       "                        <td id=\"T_fcc0922d_59e0_11eb_bcd2_aa67d55ccda8row1_col13\" class=\"data row1 col13\" >46037.000000</td>\n",
       "                        <td id=\"T_fcc0922d_59e0_11eb_bcd2_aa67d55ccda8row1_col14\" class=\"data row1 col14\" >2318.000000</td>\n",
       "                        <td id=\"T_fcc0922d_59e0_11eb_bcd2_aa67d55ccda8row1_col15\" class=\"data row1 col15\" >699.000000</td>\n",
       "            </tr>\n",
       "            <tr>\n",
       "                        <th id=\"T_fcc0922d_59e0_11eb_bcd2_aa67d55ccda8level0_row2\" class=\"row_heading level0 row2\" >2</th>\n",
       "                        <td id=\"T_fcc0922d_59e0_11eb_bcd2_aa67d55ccda8row2_col0\" class=\"data row2 col0\" >Home Mortgage</td>\n",
       "                        <td id=\"T_fcc0922d_59e0_11eb_bcd2_aa67d55ccda8row2_col1\" class=\"data row2 col1\" >1152540.000000</td>\n",
       "                        <td id=\"T_fcc0922d_59e0_11eb_bcd2_aa67d55ccda8row2_col2\" class=\"data row2 col2\" >3 years</td>\n",
       "                        <td id=\"T_fcc0922d_59e0_11eb_bcd2_aa67d55ccda8row2_col3\" class=\"data row2 col3\" >0.000000</td>\n",
       "                        <td id=\"T_fcc0922d_59e0_11eb_bcd2_aa67d55ccda8row2_col4\" class=\"data row2 col4\" >10.000000</td>\n",
       "                        <td id=\"T_fcc0922d_59e0_11eb_bcd2_aa67d55ccda8row2_col5\" class=\"data row2 col5\" >13.700000</td>\n",
       "                        <td id=\"T_fcc0922d_59e0_11eb_bcd2_aa67d55ccda8row2_col6\" class=\"data row2 col6\" >204600.000000</td>\n",
       "                        <td id=\"T_fcc0922d_59e0_11eb_bcd2_aa67d55ccda8row2_col7\" class=\"data row2 col7\" >0.000000</td>\n",
       "                        <td id=\"T_fcc0922d_59e0_11eb_bcd2_aa67d55ccda8row2_col8\" class=\"data row2 col8\" >nan</td>\n",
       "                        <td id=\"T_fcc0922d_59e0_11eb_bcd2_aa67d55ccda8row2_col9\" class=\"data row2 col9\" >0.000000</td>\n",
       "                        <td id=\"T_fcc0922d_59e0_11eb_bcd2_aa67d55ccda8row2_col10\" class=\"data row2 col10\" >debt consolidation</td>\n",
       "                        <td id=\"T_fcc0922d_59e0_11eb_bcd2_aa67d55ccda8row2_col11\" class=\"data row2 col11\" >Short Term</td>\n",
       "                        <td id=\"T_fcc0922d_59e0_11eb_bcd2_aa67d55ccda8row2_col12\" class=\"data row2 col12\" >200178.000000</td>\n",
       "                        <td id=\"T_fcc0922d_59e0_11eb_bcd2_aa67d55ccda8row2_col13\" class=\"data row2 col13\" >146490.000000</td>\n",
       "                        <td id=\"T_fcc0922d_59e0_11eb_bcd2_aa67d55ccda8row2_col14\" class=\"data row2 col14\" >18729.000000</td>\n",
       "                        <td id=\"T_fcc0922d_59e0_11eb_bcd2_aa67d55ccda8row2_col15\" class=\"data row2 col15\" >7260.000000</td>\n",
       "            </tr>\n",
       "            <tr>\n",
       "                        <th id=\"T_fcc0922d_59e0_11eb_bcd2_aa67d55ccda8level0_row3\" class=\"row_heading level0 row3\" >3</th>\n",
       "                        <td id=\"T_fcc0922d_59e0_11eb_bcd2_aa67d55ccda8row3_col0\" class=\"data row3 col0\" >Home Mortgage</td>\n",
       "                        <td id=\"T_fcc0922d_59e0_11eb_bcd2_aa67d55ccda8row3_col1\" class=\"data row3 col1\" >1220313.000000</td>\n",
       "                        <td id=\"T_fcc0922d_59e0_11eb_bcd2_aa67d55ccda8row3_col2\" class=\"data row3 col2\" >10+ years</td>\n",
       "                        <td id=\"T_fcc0922d_59e0_11eb_bcd2_aa67d55ccda8row3_col3\" class=\"data row3 col3\" >0.000000</td>\n",
       "                        <td id=\"T_fcc0922d_59e0_11eb_bcd2_aa67d55ccda8row3_col4\" class=\"data row3 col4\" >16.000000</td>\n",
       "                        <td id=\"T_fcc0922d_59e0_11eb_bcd2_aa67d55ccda8row3_col5\" class=\"data row3 col5\" >17.000000</td>\n",
       "                        <td id=\"T_fcc0922d_59e0_11eb_bcd2_aa67d55ccda8row3_col6\" class=\"data row3 col6\" >456302.000000</td>\n",
       "                        <td id=\"T_fcc0922d_59e0_11eb_bcd2_aa67d55ccda8row3_col7\" class=\"data row3 col7\" >0.000000</td>\n",
       "                        <td id=\"T_fcc0922d_59e0_11eb_bcd2_aa67d55ccda8row3_col8\" class=\"data row3 col8\" >70.000000</td>\n",
       "                        <td id=\"T_fcc0922d_59e0_11eb_bcd2_aa67d55ccda8row3_col9\" class=\"data row3 col9\" >0.000000</td>\n",
       "                        <td id=\"T_fcc0922d_59e0_11eb_bcd2_aa67d55ccda8row3_col10\" class=\"data row3 col10\" >debt consolidation</td>\n",
       "                        <td id=\"T_fcc0922d_59e0_11eb_bcd2_aa67d55ccda8row3_col11\" class=\"data row3 col11\" >Short Term</td>\n",
       "                        <td id=\"T_fcc0922d_59e0_11eb_bcd2_aa67d55ccda8row3_col12\" class=\"data row3 col12\" >217382.000000</td>\n",
       "                        <td id=\"T_fcc0922d_59e0_11eb_bcd2_aa67d55ccda8row3_col13\" class=\"data row3 col13\" >213199.000000</td>\n",
       "                        <td id=\"T_fcc0922d_59e0_11eb_bcd2_aa67d55ccda8row3_col14\" class=\"data row3 col14\" >27559.000000</td>\n",
       "                        <td id=\"T_fcc0922d_59e0_11eb_bcd2_aa67d55ccda8row3_col15\" class=\"data row3 col15\" >739.000000</td>\n",
       "            </tr>\n",
       "            <tr>\n",
       "                        <th id=\"T_fcc0922d_59e0_11eb_bcd2_aa67d55ccda8level0_row4\" class=\"row_heading level0 row4\" >4</th>\n",
       "                        <td id=\"T_fcc0922d_59e0_11eb_bcd2_aa67d55ccda8row4_col0\" class=\"data row4 col0\" >Home Mortgage</td>\n",
       "                        <td id=\"T_fcc0922d_59e0_11eb_bcd2_aa67d55ccda8row4_col1\" class=\"data row4 col1\" >2340952.000000</td>\n",
       "                        <td id=\"T_fcc0922d_59e0_11eb_bcd2_aa67d55ccda8row4_col2\" class=\"data row4 col2\" >6 years</td>\n",
       "                        <td id=\"T_fcc0922d_59e0_11eb_bcd2_aa67d55ccda8row4_col3\" class=\"data row4 col3\" >0.000000</td>\n",
       "                        <td id=\"T_fcc0922d_59e0_11eb_bcd2_aa67d55ccda8row4_col4\" class=\"data row4 col4\" >11.000000</td>\n",
       "                        <td id=\"T_fcc0922d_59e0_11eb_bcd2_aa67d55ccda8row4_col5\" class=\"data row4 col5\" >23.600000</td>\n",
       "                        <td id=\"T_fcc0922d_59e0_11eb_bcd2_aa67d55ccda8row4_col6\" class=\"data row4 col6\" >1207272.000000</td>\n",
       "                        <td id=\"T_fcc0922d_59e0_11eb_bcd2_aa67d55ccda8row4_col7\" class=\"data row4 col7\" >0.000000</td>\n",
       "                        <td id=\"T_fcc0922d_59e0_11eb_bcd2_aa67d55ccda8row4_col8\" class=\"data row4 col8\" >nan</td>\n",
       "                        <td id=\"T_fcc0922d_59e0_11eb_bcd2_aa67d55ccda8row4_col9\" class=\"data row4 col9\" >0.000000</td>\n",
       "                        <td id=\"T_fcc0922d_59e0_11eb_bcd2_aa67d55ccda8row4_col10\" class=\"data row4 col10\" >debt consolidation</td>\n",
       "                        <td id=\"T_fcc0922d_59e0_11eb_bcd2_aa67d55ccda8row4_col11\" class=\"data row4 col11\" >Long Term</td>\n",
       "                        <td id=\"T_fcc0922d_59e0_11eb_bcd2_aa67d55ccda8row4_col12\" class=\"data row4 col12\" >777634.000000</td>\n",
       "                        <td id=\"T_fcc0922d_59e0_11eb_bcd2_aa67d55ccda8row4_col13\" class=\"data row4 col13\" >425391.000000</td>\n",
       "                        <td id=\"T_fcc0922d_59e0_11eb_bcd2_aa67d55ccda8row4_col14\" class=\"data row4 col14\" >42605.000000</td>\n",
       "                        <td id=\"T_fcc0922d_59e0_11eb_bcd2_aa67d55ccda8row4_col15\" class=\"data row4 col15\" >706.000000</td>\n",
       "            </tr>\n",
       "    </tbody></table>"
      ],
      "text/plain": [
       "<pandas.io.formats.style.Styler at 0x1c7885efca0>"
      ]
     },
     "execution_count": 266,
     "metadata": {},
     "output_type": "execute_result"
    }
   ],
   "source": [
    "df_test.head().style.applymap(lambda x: 'color: red' if pd.isnull(x) else '')"
   ]
  },
  {
   "cell_type": "code",
   "execution_count": 15,
   "metadata": {
    "scrolled": true
   },
   "outputs": [
    {
     "data": {
      "text/plain": [
       "(2500, 16)"
      ]
     },
     "execution_count": 15,
     "metadata": {},
     "output_type": "execute_result"
    }
   ],
   "source": [
    "df_test.shape"
   ]
  },
  {
   "cell_type": "markdown",
   "metadata": {},
   "source": [
    "Количество уникальных значений"
   ]
  },
  {
   "cell_type": "code",
   "execution_count": 16,
   "metadata": {
    "scrolled": true
   },
   "outputs": [
    {
     "data": {
      "text/plain": [
       "Home Ownership                     4\n",
       "Annual Income                   5478\n",
       "Years in current job              11\n",
       "Tax Liens                          8\n",
       "Number of Open Accounts           39\n",
       "Years of Credit History          408\n",
       "Maximum Open Credit             6963\n",
       "Number of Credit Problems          8\n",
       "Months since last delinquent      89\n",
       "Bankruptcies                       5\n",
       "Purpose                           15\n",
       "Term                               2\n",
       "Current Loan Amount             5386\n",
       "Current Credit Balance          6592\n",
       "Monthly Debt                    6716\n",
       "Credit Score                     268\n",
       "Credit Default                     2\n",
       "dtype: int64"
      ]
     },
     "execution_count": 16,
     "metadata": {},
     "output_type": "execute_result"
    }
   ],
   "source": [
    "df_train.nunique()"
   ]
  },
  {
   "cell_type": "code",
   "execution_count": 17,
   "metadata": {},
   "outputs": [
    {
     "data": {
      "text/plain": [
       "Home Ownership                     4\n",
       "Annual Income                   1929\n",
       "Years in current job              11\n",
       "Tax Liens                          8\n",
       "Number of Open Accounts           35\n",
       "Years of Credit History          345\n",
       "Maximum Open Credit             2435\n",
       "Number of Credit Problems          8\n",
       "Months since last delinquent      83\n",
       "Bankruptcies                       6\n",
       "Purpose                           14\n",
       "Term                               2\n",
       "Current Loan Amount             2026\n",
       "Current Credit Balance          2385\n",
       "Monthly Debt                    2416\n",
       "Credit Score                     211\n",
       "dtype: int64"
      ]
     },
     "execution_count": 17,
     "metadata": {},
     "output_type": "execute_result"
    }
   ],
   "source": [
    "df_test.nunique()"
   ]
  },
  {
   "cell_type": "markdown",
   "metadata": {},
   "source": [
    "## Обзор категориальных переменных"
   ]
  },
  {
   "cell_type": "code",
   "execution_count": 18,
   "metadata": {},
   "outputs": [
    {
     "data": {
      "text/plain": [
       "array(['Own Home', 'Home Mortgage', 'Rent', 'Have Mortgage'], dtype=object)"
      ]
     },
     "execution_count": 18,
     "metadata": {},
     "output_type": "execute_result"
    }
   ],
   "source": [
    "df_train['Home Ownership'].unique()"
   ]
  },
  {
   "cell_type": "code",
   "execution_count": 20,
   "metadata": {},
   "outputs": [
    {
     "data": {
      "text/plain": [
       "array([nan, '10+ years', '8 years', '6 years', '7 years', '5 years',\n",
       "       '1 year', '< 1 year', '4 years', '3 years', '2 years', '9 years'],\n",
       "      dtype=object)"
      ]
     },
     "execution_count": 20,
     "metadata": {},
     "output_type": "execute_result"
    }
   ],
   "source": [
    "df_train['Years in current job'].unique()"
   ]
  },
  {
   "cell_type": "code",
   "execution_count": 22,
   "metadata": {},
   "outputs": [
    {
     "data": {
      "text/plain": [
       "array(['Short Term', 'Long Term'], dtype=object)"
      ]
     },
     "execution_count": 22,
     "metadata": {},
     "output_type": "execute_result"
    }
   ],
   "source": [
    "df_train['Term'].unique()"
   ]
  },
  {
   "cell_type": "code",
   "execution_count": 202,
   "metadata": {
    "scrolled": true
   },
   "outputs": [
    {
     "data": {
      "text/plain": [
       "array(['debt consolidation', 'other', 'home improvements', 'take a trip',\n",
       "       'buy a car', 'small business', 'business loan', 'wedding',\n",
       "       'educational expenses', 'buy house', 'medical bills', 'moving',\n",
       "       'major purchase', 'vacation', 'renewable energy'], dtype=object)"
      ]
     },
     "execution_count": 202,
     "metadata": {},
     "output_type": "execute_result"
    }
   ],
   "source": [
    "df_train['Purpose'].unique()"
   ]
  },
  {
   "cell_type": "code",
   "execution_count": 205,
   "metadata": {
    "scrolled": false
   },
   "outputs": [
    {
     "name": "stdout",
     "output_type": "stream",
     "text": [
      "<class 'pandas.core.frame.DataFrame'>\n",
      "RangeIndex: 7500 entries, 0 to 7499\n",
      "Data columns (total 17 columns):\n",
      " #   Column                        Non-Null Count  Dtype  \n",
      "---  ------                        --------------  -----  \n",
      " 0   Home Ownership                7500 non-null   object \n",
      " 1   Annual Income                 7500 non-null   float64\n",
      " 2   Years in current job          7500 non-null   object \n",
      " 3   Tax Liens                     7500 non-null   float64\n",
      " 4   Number of Open Accounts       7500 non-null   float64\n",
      " 5   Years of Credit History       7500 non-null   float64\n",
      " 6   Maximum Open Credit           7500 non-null   float64\n",
      " 7   Number of Credit Problems     7500 non-null   float64\n",
      " 8   Months since last delinquent  7500 non-null   float64\n",
      " 9   Bankruptcies                  7500 non-null   float64\n",
      " 10  Purpose                       7500 non-null   object \n",
      " 11  Term                          7500 non-null   object \n",
      " 12  Current Loan Amount           7500 non-null   float64\n",
      " 13  Current Credit Balance        7500 non-null   float64\n",
      " 14  Monthly Debt                  7500 non-null   float64\n",
      " 15  Credit Score                  7500 non-null   float64\n",
      " 16  Credit Default                7500 non-null   int64  \n",
      "dtypes: float64(12), int64(1), object(4)\n",
      "memory usage: 996.2+ KB\n"
     ]
    }
   ],
   "source": [
    "df_train.info()"
   ]
  },
  {
   "cell_type": "code",
   "execution_count": 206,
   "metadata": {
    "scrolled": false
   },
   "outputs": [
    {
     "name": "stdout",
     "output_type": "stream",
     "text": [
      "<class 'pandas.core.frame.DataFrame'>\n",
      "RangeIndex: 2500 entries, 0 to 2499\n",
      "Data columns (total 16 columns):\n",
      " #   Column                        Non-Null Count  Dtype  \n",
      "---  ------                        --------------  -----  \n",
      " 0   Home Ownership                2500 non-null   object \n",
      " 1   Annual Income                 2500 non-null   float64\n",
      " 2   Years in current job          2500 non-null   object \n",
      " 3   Tax Liens                     2500 non-null   float64\n",
      " 4   Number of Open Accounts       2500 non-null   float64\n",
      " 5   Years of Credit History       2500 non-null   float64\n",
      " 6   Maximum Open Credit           2500 non-null   float64\n",
      " 7   Number of Credit Problems     2500 non-null   float64\n",
      " 8   Months since last delinquent  2500 non-null   float64\n",
      " 9   Bankruptcies                  2500 non-null   float64\n",
      " 10  Purpose                       2500 non-null   object \n",
      " 11  Term                          2500 non-null   object \n",
      " 12  Current Loan Amount           2500 non-null   float64\n",
      " 13  Current Credit Balance        2500 non-null   float64\n",
      " 14  Monthly Debt                  2500 non-null   float64\n",
      " 15  Credit Score                  2500 non-null   float64\n",
      "dtypes: float64(12), object(4)\n",
      "memory usage: 312.6+ KB\n"
     ]
    }
   ],
   "source": [
    "df_test.info()"
   ]
  },
  {
   "cell_type": "markdown",
   "metadata": {},
   "source": [
    "# Baseline"
   ]
  },
  {
   "cell_type": "markdown",
   "metadata": {},
   "source": [
    "Обновляем данные и заполняем пропуски модой"
   ]
  },
  {
   "cell_type": "code",
   "execution_count": 251,
   "metadata": {},
   "outputs": [
    {
     "data": {
      "text/html": [
       "<div>\n",
       "<style scoped>\n",
       "    .dataframe tbody tr th:only-of-type {\n",
       "        vertical-align: middle;\n",
       "    }\n",
       "\n",
       "    .dataframe tbody tr th {\n",
       "        vertical-align: top;\n",
       "    }\n",
       "\n",
       "    .dataframe thead th {\n",
       "        text-align: right;\n",
       "    }\n",
       "</style>\n",
       "<table border=\"1\" class=\"dataframe\">\n",
       "  <thead>\n",
       "    <tr style=\"text-align: right;\">\n",
       "      <th></th>\n",
       "      <th>Home Ownership</th>\n",
       "      <th>Annual Income</th>\n",
       "      <th>Years in current job</th>\n",
       "      <th>Tax Liens</th>\n",
       "      <th>Number of Open Accounts</th>\n",
       "      <th>Years of Credit History</th>\n",
       "      <th>Maximum Open Credit</th>\n",
       "      <th>Number of Credit Problems</th>\n",
       "      <th>Months since last delinquent</th>\n",
       "      <th>Bankruptcies</th>\n",
       "      <th>Purpose</th>\n",
       "      <th>Term</th>\n",
       "      <th>Current Loan Amount</th>\n",
       "      <th>Current Credit Balance</th>\n",
       "      <th>Monthly Debt</th>\n",
       "      <th>Credit Score</th>\n",
       "      <th>Credit Default</th>\n",
       "    </tr>\n",
       "  </thead>\n",
       "  <tbody>\n",
       "    <tr>\n",
       "      <th>0</th>\n",
       "      <td>Own Home</td>\n",
       "      <td>482087.0</td>\n",
       "      <td>10+ years</td>\n",
       "      <td>0.0</td>\n",
       "      <td>11.0</td>\n",
       "      <td>26.3</td>\n",
       "      <td>685960.0</td>\n",
       "      <td>1.0</td>\n",
       "      <td>14.0</td>\n",
       "      <td>1.0</td>\n",
       "      <td>debt consolidation</td>\n",
       "      <td>Short Term</td>\n",
       "      <td>99999999.0</td>\n",
       "      <td>47386.0</td>\n",
       "      <td>7914.0</td>\n",
       "      <td>749.0</td>\n",
       "      <td>0</td>\n",
       "    </tr>\n",
       "    <tr>\n",
       "      <th>1</th>\n",
       "      <td>Own Home</td>\n",
       "      <td>1025487.0</td>\n",
       "      <td>10+ years</td>\n",
       "      <td>0.0</td>\n",
       "      <td>15.0</td>\n",
       "      <td>15.3</td>\n",
       "      <td>1181730.0</td>\n",
       "      <td>0.0</td>\n",
       "      <td>14.0</td>\n",
       "      <td>0.0</td>\n",
       "      <td>debt consolidation</td>\n",
       "      <td>Long Term</td>\n",
       "      <td>264968.0</td>\n",
       "      <td>394972.0</td>\n",
       "      <td>18373.0</td>\n",
       "      <td>737.0</td>\n",
       "      <td>1</td>\n",
       "    </tr>\n",
       "    <tr>\n",
       "      <th>2</th>\n",
       "      <td>Home Mortgage</td>\n",
       "      <td>751412.0</td>\n",
       "      <td>8 years</td>\n",
       "      <td>0.0</td>\n",
       "      <td>11.0</td>\n",
       "      <td>35.0</td>\n",
       "      <td>1182434.0</td>\n",
       "      <td>0.0</td>\n",
       "      <td>14.0</td>\n",
       "      <td>0.0</td>\n",
       "      <td>debt consolidation</td>\n",
       "      <td>Short Term</td>\n",
       "      <td>99999999.0</td>\n",
       "      <td>308389.0</td>\n",
       "      <td>13651.0</td>\n",
       "      <td>742.0</td>\n",
       "      <td>0</td>\n",
       "    </tr>\n",
       "    <tr>\n",
       "      <th>3</th>\n",
       "      <td>Own Home</td>\n",
       "      <td>805068.0</td>\n",
       "      <td>6 years</td>\n",
       "      <td>0.0</td>\n",
       "      <td>8.0</td>\n",
       "      <td>22.5</td>\n",
       "      <td>147400.0</td>\n",
       "      <td>1.0</td>\n",
       "      <td>14.0</td>\n",
       "      <td>1.0</td>\n",
       "      <td>debt consolidation</td>\n",
       "      <td>Short Term</td>\n",
       "      <td>121396.0</td>\n",
       "      <td>95855.0</td>\n",
       "      <td>11338.0</td>\n",
       "      <td>694.0</td>\n",
       "      <td>0</td>\n",
       "    </tr>\n",
       "    <tr>\n",
       "      <th>4</th>\n",
       "      <td>Rent</td>\n",
       "      <td>776264.0</td>\n",
       "      <td>8 years</td>\n",
       "      <td>0.0</td>\n",
       "      <td>13.0</td>\n",
       "      <td>13.6</td>\n",
       "      <td>385836.0</td>\n",
       "      <td>1.0</td>\n",
       "      <td>14.0</td>\n",
       "      <td>0.0</td>\n",
       "      <td>debt consolidation</td>\n",
       "      <td>Short Term</td>\n",
       "      <td>125840.0</td>\n",
       "      <td>93309.0</td>\n",
       "      <td>7180.0</td>\n",
       "      <td>719.0</td>\n",
       "      <td>0</td>\n",
       "    </tr>\n",
       "    <tr>\n",
       "      <th>5</th>\n",
       "      <td>Rent</td>\n",
       "      <td>969475.0</td>\n",
       "      <td>7 years</td>\n",
       "      <td>0.0</td>\n",
       "      <td>12.0</td>\n",
       "      <td>14.6</td>\n",
       "      <td>366784.0</td>\n",
       "      <td>0.0</td>\n",
       "      <td>14.0</td>\n",
       "      <td>0.0</td>\n",
       "      <td>other</td>\n",
       "      <td>Long Term</td>\n",
       "      <td>337304.0</td>\n",
       "      <td>165680.0</td>\n",
       "      <td>18692.0</td>\n",
       "      <td>740.0</td>\n",
       "      <td>1</td>\n",
       "    </tr>\n",
       "    <tr>\n",
       "      <th>6</th>\n",
       "      <td>Home Mortgage</td>\n",
       "      <td>1511108.0</td>\n",
       "      <td>10+ years</td>\n",
       "      <td>0.0</td>\n",
       "      <td>9.0</td>\n",
       "      <td>20.3</td>\n",
       "      <td>388124.0</td>\n",
       "      <td>0.0</td>\n",
       "      <td>73.0</td>\n",
       "      <td>0.0</td>\n",
       "      <td>home improvements</td>\n",
       "      <td>Short Term</td>\n",
       "      <td>99999999.0</td>\n",
       "      <td>51623.0</td>\n",
       "      <td>2317.0</td>\n",
       "      <td>745.0</td>\n",
       "      <td>0</td>\n",
       "    </tr>\n",
       "    <tr>\n",
       "      <th>7</th>\n",
       "      <td>Rent</td>\n",
       "      <td>1040060.0</td>\n",
       "      <td>10+ years</td>\n",
       "      <td>0.0</td>\n",
       "      <td>13.0</td>\n",
       "      <td>12.0</td>\n",
       "      <td>330374.0</td>\n",
       "      <td>0.0</td>\n",
       "      <td>18.0</td>\n",
       "      <td>0.0</td>\n",
       "      <td>other</td>\n",
       "      <td>Short Term</td>\n",
       "      <td>250888.0</td>\n",
       "      <td>89015.0</td>\n",
       "      <td>19761.0</td>\n",
       "      <td>705.0</td>\n",
       "      <td>1</td>\n",
       "    </tr>\n",
       "    <tr>\n",
       "      <th>8</th>\n",
       "      <td>Home Mortgage</td>\n",
       "      <td>969475.0</td>\n",
       "      <td>5 years</td>\n",
       "      <td>0.0</td>\n",
       "      <td>17.0</td>\n",
       "      <td>15.7</td>\n",
       "      <td>0.0</td>\n",
       "      <td>1.0</td>\n",
       "      <td>14.0</td>\n",
       "      <td>1.0</td>\n",
       "      <td>home improvements</td>\n",
       "      <td>Short Term</td>\n",
       "      <td>129734.0</td>\n",
       "      <td>19.0</td>\n",
       "      <td>17.0</td>\n",
       "      <td>740.0</td>\n",
       "      <td>0</td>\n",
       "    </tr>\n",
       "    <tr>\n",
       "      <th>9</th>\n",
       "      <td>Home Mortgage</td>\n",
       "      <td>969475.0</td>\n",
       "      <td>1 year</td>\n",
       "      <td>0.0</td>\n",
       "      <td>10.0</td>\n",
       "      <td>24.6</td>\n",
       "      <td>511302.0</td>\n",
       "      <td>0.0</td>\n",
       "      <td>6.0</td>\n",
       "      <td>0.0</td>\n",
       "      <td>debt consolidation</td>\n",
       "      <td>Long Term</td>\n",
       "      <td>572880.0</td>\n",
       "      <td>205333.0</td>\n",
       "      <td>17613.0</td>\n",
       "      <td>740.0</td>\n",
       "      <td>1</td>\n",
       "    </tr>\n",
       "  </tbody>\n",
       "</table>\n",
       "</div>"
      ],
      "text/plain": [
       "  Home Ownership  Annual Income Years in current job  Tax Liens  \\\n",
       "0       Own Home       482087.0            10+ years        0.0   \n",
       "1       Own Home      1025487.0            10+ years        0.0   \n",
       "2  Home Mortgage       751412.0              8 years        0.0   \n",
       "3       Own Home       805068.0              6 years        0.0   \n",
       "4           Rent       776264.0              8 years        0.0   \n",
       "5           Rent       969475.0              7 years        0.0   \n",
       "6  Home Mortgage      1511108.0            10+ years        0.0   \n",
       "7           Rent      1040060.0            10+ years        0.0   \n",
       "8  Home Mortgage       969475.0              5 years        0.0   \n",
       "9  Home Mortgage       969475.0               1 year        0.0   \n",
       "\n",
       "   Number of Open Accounts  Years of Credit History  Maximum Open Credit  \\\n",
       "0                     11.0                     26.3             685960.0   \n",
       "1                     15.0                     15.3            1181730.0   \n",
       "2                     11.0                     35.0            1182434.0   \n",
       "3                      8.0                     22.5             147400.0   \n",
       "4                     13.0                     13.6             385836.0   \n",
       "5                     12.0                     14.6             366784.0   \n",
       "6                      9.0                     20.3             388124.0   \n",
       "7                     13.0                     12.0             330374.0   \n",
       "8                     17.0                     15.7                  0.0   \n",
       "9                     10.0                     24.6             511302.0   \n",
       "\n",
       "   Number of Credit Problems  Months since last delinquent  Bankruptcies  \\\n",
       "0                        1.0                          14.0           1.0   \n",
       "1                        0.0                          14.0           0.0   \n",
       "2                        0.0                          14.0           0.0   \n",
       "3                        1.0                          14.0           1.0   \n",
       "4                        1.0                          14.0           0.0   \n",
       "5                        0.0                          14.0           0.0   \n",
       "6                        0.0                          73.0           0.0   \n",
       "7                        0.0                          18.0           0.0   \n",
       "8                        1.0                          14.0           1.0   \n",
       "9                        0.0                           6.0           0.0   \n",
       "\n",
       "              Purpose        Term  Current Loan Amount  \\\n",
       "0  debt consolidation  Short Term           99999999.0   \n",
       "1  debt consolidation   Long Term             264968.0   \n",
       "2  debt consolidation  Short Term           99999999.0   \n",
       "3  debt consolidation  Short Term             121396.0   \n",
       "4  debt consolidation  Short Term             125840.0   \n",
       "5               other   Long Term             337304.0   \n",
       "6   home improvements  Short Term           99999999.0   \n",
       "7               other  Short Term             250888.0   \n",
       "8   home improvements  Short Term             129734.0   \n",
       "9  debt consolidation   Long Term             572880.0   \n",
       "\n",
       "   Current Credit Balance  Monthly Debt  Credit Score  Credit Default  \n",
       "0                 47386.0        7914.0         749.0               0  \n",
       "1                394972.0       18373.0         737.0               1  \n",
       "2                308389.0       13651.0         742.0               0  \n",
       "3                 95855.0       11338.0         694.0               0  \n",
       "4                 93309.0        7180.0         719.0               0  \n",
       "5                165680.0       18692.0         740.0               1  \n",
       "6                 51623.0        2317.0         745.0               0  \n",
       "7                 89015.0       19761.0         705.0               1  \n",
       "8                    19.0          17.0         740.0               0  \n",
       "9                205333.0       17613.0         740.0               1  "
      ]
     },
     "execution_count": 251,
     "metadata": {},
     "output_type": "execute_result"
    }
   ],
   "source": [
    "df_train = pd.read_csv(TRAIN_DATASET_PATH)\n",
    "df_test = pd.read_csv(TEST_DATASET_PATH)\n",
    "\n",
    "df_train.fillna(df_train.mode().iloc[0], inplace=True)\n",
    "#df = df.fillna(df.median(axis=0), axis=0)\n",
    "df_train.head(10)"
   ]
  },
  {
   "cell_type": "code",
   "execution_count": 213,
   "metadata": {
    "scrolled": true
   },
   "outputs": [
    {
     "data": {
      "text/plain": [
       "'f1 class 1: TRAIN = 0.7817, TEST = 0.768'"
      ]
     },
     "execution_count": 213,
     "metadata": {},
     "output_type": "execute_result"
    }
   ],
   "source": [
    "LogRegression(df_train)"
   ]
  },
  {
   "cell_type": "code",
   "execution_count": 214,
   "metadata": {},
   "outputs": [
    {
     "data": {
      "text/plain": [
       "'f1 class 1: TRAIN = 0.7813, TEST = 0.6747'"
      ]
     },
     "execution_count": 214,
     "metadata": {},
     "output_type": "execute_result"
    }
   ],
   "source": [
    "knn(df_train)"
   ]
  },
  {
   "cell_type": "code",
   "execution_count": 215,
   "metadata": {},
   "outputs": [
    {
     "data": {
      "text/plain": [
       "'f1 class 1: TRAIN = 0.7726, TEST = 0.7693'"
      ]
     },
     "execution_count": 215,
     "metadata": {},
     "output_type": "execute_result"
    }
   ],
   "source": [
    "decision_tree(df_train, max_depth=2)"
   ]
  },
  {
   "cell_type": "code",
   "execution_count": 216,
   "metadata": {
    "scrolled": false
   },
   "outputs": [
    {
     "name": "stdout",
     "output_type": "stream",
     "text": [
      "[01:08:58] WARNING: C:/Users/Administrator/workspace/xgboost-win64_release_1.3.0/src/learner.cc:1061: Starting in XGBoost 1.3.0, the default evaluation metric used with the objective 'binary:logistic' was changed from 'error' to 'logloss'. Explicitly set eval_metric if you'd like to restore the old behavior.\n"
     ]
    },
    {
     "data": {
      "text/plain": [
       "'f1 class 1: TRAIN = 0.8038, TEST = 0.7698'"
      ]
     },
     "execution_count": 216,
     "metadata": {},
     "output_type": "execute_result"
    }
   ],
   "source": [
    "xgboost(df_train, n_estimators=10)"
   ]
  },
  {
   "cell_type": "code",
   "execution_count": 217,
   "metadata": {},
   "outputs": [
    {
     "data": {
      "text/plain": [
       "'f1 class 1: TRAIN = 0.8072, TEST = 0.7018'"
      ]
     },
     "execution_count": 217,
     "metadata": {},
     "output_type": "execute_result"
    }
   ],
   "source": [
    "light_gbm(df_train)"
   ]
  },
  {
   "cell_type": "code",
   "execution_count": 218,
   "metadata": {},
   "outputs": [
    {
     "data": {
      "text/plain": [
       "'f1 class 1: TRAIN = 0.7259, TEST = 0.7076'"
      ]
     },
     "execution_count": 218,
     "metadata": {},
     "output_type": "execute_result"
    }
   ],
   "source": [
    "# tuning\n",
    "light_gbm(df_train, num_leaves=2)"
   ]
  },
  {
   "cell_type": "code",
   "execution_count": 219,
   "metadata": {
    "scrolled": true
   },
   "outputs": [
    {
     "data": {
      "text/plain": [
       "'f1 class 1: TRAIN = 0.9025, TEST = 0.7156'"
      ]
     },
     "execution_count": 219,
     "metadata": {},
     "output_type": "execute_result"
    }
   ],
   "source": [
    "cat_boost(df_train)"
   ]
  },
  {
   "cell_type": "markdown",
   "metadata": {},
   "source": [
    "# Обработка данных"
   ]
  },
  {
   "cell_type": "markdown",
   "metadata": {},
   "source": [
    "## Обработка пропусков"
   ]
  },
  {
   "cell_type": "markdown",
   "metadata": {},
   "source": [
    "### Выбросить данные с пропусками"
   ]
  },
  {
   "cell_type": "code",
   "execution_count": 229,
   "metadata": {},
   "outputs": [
    {
     "name": "stdout",
     "output_type": "stream",
     "text": [
      "Original dataset shape =  (7500, 17)\n",
      "Dataset shape wothout NaN =  (2585, 17)\n"
     ]
    }
   ],
   "source": [
    "df_train = pd.read_csv(TRAIN_DATASET_PATH)\n",
    "df_test = pd.read_csv(TEST_DATASET_PATH)\n",
    "print('Original dataset shape = ', df_train.shape)\n",
    "\n",
    "df_train.dropna(axis='index', inplace=True) \n",
    "print('Dataset shape wothout NaN = ', df_train.shape)"
   ]
  },
  {
   "cell_type": "code",
   "execution_count": 230,
   "metadata": {
    "scrolled": true
   },
   "outputs": [
    {
     "data": {
      "text/plain": [
       "'f1 class 1: TRAIN = 0.8115, TEST = 0.7977'"
      ]
     },
     "execution_count": 230,
     "metadata": {},
     "output_type": "execute_result"
    }
   ],
   "source": [
    "LogRegression(df_train)"
   ]
  },
  {
   "cell_type": "code",
   "execution_count": 231,
   "metadata": {},
   "outputs": [
    {
     "data": {
      "text/plain": [
       "'f1 class 1: TRAIN = 0.7828, TEST = 0.6997'"
      ]
     },
     "execution_count": 231,
     "metadata": {},
     "output_type": "execute_result"
    }
   ],
   "source": [
    "knn(df_train)"
   ]
  },
  {
   "cell_type": "code",
   "execution_count": 232,
   "metadata": {},
   "outputs": [
    {
     "data": {
      "text/plain": [
       "'f1 class 1: TRAIN = 0.8043, TEST = 0.8015'"
      ]
     },
     "execution_count": 232,
     "metadata": {},
     "output_type": "execute_result"
    }
   ],
   "source": [
    "decision_tree(df_train, max_depth=2)"
   ]
  },
  {
   "cell_type": "code",
   "execution_count": 233,
   "metadata": {
    "scrolled": false
   },
   "outputs": [
    {
     "name": "stdout",
     "output_type": "stream",
     "text": [
      "[01:32:14] WARNING: C:/Users/Administrator/workspace/xgboost-win64_release_1.3.0/src/learner.cc:1061: Starting in XGBoost 1.3.0, the default evaluation metric used with the objective 'binary:logistic' was changed from 'error' to 'logloss'. Explicitly set eval_metric if you'd like to restore the old behavior.\n"
     ]
    },
    {
     "data": {
      "text/plain": [
       "'f1 class 1: TRAIN = 0.8563, TEST = 0.8041'"
      ]
     },
     "execution_count": 233,
     "metadata": {},
     "output_type": "execute_result"
    }
   ],
   "source": [
    "xgboost(df_train, n_estimators=10)"
   ]
  },
  {
   "cell_type": "code",
   "execution_count": 235,
   "metadata": {},
   "outputs": [
    {
     "data": {
      "text/plain": [
       "'f1 class 1: TRAIN = 0.9038, TEST = 0.7358'"
      ]
     },
     "execution_count": 235,
     "metadata": {},
     "output_type": "execute_result"
    }
   ],
   "source": [
    "light_gbm(df_train)"
   ]
  },
  {
   "cell_type": "code",
   "execution_count": 234,
   "metadata": {},
   "outputs": [
    {
     "data": {
      "text/plain": [
       "'f1 class 1: TRAIN = 0.7529, TEST = 0.7307'"
      ]
     },
     "execution_count": 234,
     "metadata": {},
     "output_type": "execute_result"
    }
   ],
   "source": [
    "# tuning\n",
    "light_gbm(df_train, num_leaves=2)"
   ]
  },
  {
   "cell_type": "code",
   "execution_count": 236,
   "metadata": {
    "scrolled": true
   },
   "outputs": [
    {
     "data": {
      "text/plain": [
       "'f1 class 1: TRAIN = 0.9663, TEST = 0.7668'"
      ]
     },
     "execution_count": 236,
     "metadata": {},
     "output_type": "execute_result"
    }
   ],
   "source": [
    "cat_boost(df_train)"
   ]
  },
  {
   "cell_type": "markdown",
   "metadata": {},
   "source": [
    "Model | Baseline | Dropped NaN\n",
    "---|---|---\n",
    "LogReg | TRAIN = 0.7817, TEST = 0.768 | TRAIN = 0.8115, TEST = 0.7977\n",
    "KNN | TRAIN = 0.7813, TEST = 0.6747' | TRAIN = 0.7828, TEST = 0.6997\n",
    "Decision Tree | TRAIN = 0.7726, TEST = 0.7693 | TRAIN = 0.8043, TEST = 0.8015\n",
    "XGB | TRAIN = 0.8038, TEST = 0.7698 | TRAIN = 0.8563, TEST = 0.8041\n",
    "LGBM | TRAIN = 0.8072, TEST = 0.7018 | TRAIN = 0.9038, TEST = 0.7358\n",
    "CatB | TRAIN = 0.9025, TEST = 0.7156 | TRAIN = 0.9663, TEST = 0.7668\n",
    "\n",
    "Вывод: выбрасывание пропущенных значений значительно улучшило скор по сравнению с заполнением модой. Лучше всего себя показало Decision Tree и XGB.\n",
    "\n",
    "Идея: использовать параметр dropna -  threshint: Require that many non-NA values."
   ]
  },
  {
   "attachments": {},
   "cell_type": "markdown",
   "metadata": {},
   "source": [
    "### Заменять разными методами (медианы, средние значения, бизнес-логика, строить модели...)"
   ]
  },
  {
   "cell_type": "markdown",
   "metadata": {},
   "source": [
    "Заполним пропущенные значения: Мода для категориальный, среднее для числовых"
   ]
  },
  {
   "cell_type": "code",
   "execution_count": 250,
   "metadata": {},
   "outputs": [
    {
     "data": {
      "text/html": [
       "<div>\n",
       "<style scoped>\n",
       "    .dataframe tbody tr th:only-of-type {\n",
       "        vertical-align: middle;\n",
       "    }\n",
       "\n",
       "    .dataframe tbody tr th {\n",
       "        vertical-align: top;\n",
       "    }\n",
       "\n",
       "    .dataframe thead th {\n",
       "        text-align: right;\n",
       "    }\n",
       "</style>\n",
       "<table border=\"1\" class=\"dataframe\">\n",
       "  <thead>\n",
       "    <tr style=\"text-align: right;\">\n",
       "      <th></th>\n",
       "      <th>Home Ownership</th>\n",
       "      <th>Annual Income</th>\n",
       "      <th>Years in current job</th>\n",
       "      <th>Tax Liens</th>\n",
       "      <th>Number of Open Accounts</th>\n",
       "      <th>Years of Credit History</th>\n",
       "      <th>Maximum Open Credit</th>\n",
       "      <th>Number of Credit Problems</th>\n",
       "      <th>Months since last delinquent</th>\n",
       "      <th>Bankruptcies</th>\n",
       "      <th>Purpose</th>\n",
       "      <th>Term</th>\n",
       "      <th>Current Loan Amount</th>\n",
       "      <th>Current Credit Balance</th>\n",
       "      <th>Monthly Debt</th>\n",
       "      <th>Credit Score</th>\n",
       "      <th>Credit Default</th>\n",
       "    </tr>\n",
       "  </thead>\n",
       "  <tbody>\n",
       "    <tr>\n",
       "      <th>0</th>\n",
       "      <td>Own Home</td>\n",
       "      <td>482087.0</td>\n",
       "      <td>10+ years</td>\n",
       "      <td>0.0</td>\n",
       "      <td>11.0</td>\n",
       "      <td>26.3</td>\n",
       "      <td>685960.0</td>\n",
       "      <td>1.0</td>\n",
       "      <td>32.0</td>\n",
       "      <td>1.0</td>\n",
       "      <td>debt consolidation</td>\n",
       "      <td>Short Term</td>\n",
       "      <td>99999999.0</td>\n",
       "      <td>47386.0</td>\n",
       "      <td>7914.0</td>\n",
       "      <td>749.0</td>\n",
       "      <td>0</td>\n",
       "    </tr>\n",
       "    <tr>\n",
       "      <th>1</th>\n",
       "      <td>Own Home</td>\n",
       "      <td>1025487.0</td>\n",
       "      <td>10+ years</td>\n",
       "      <td>0.0</td>\n",
       "      <td>15.0</td>\n",
       "      <td>15.3</td>\n",
       "      <td>1181730.0</td>\n",
       "      <td>0.0</td>\n",
       "      <td>32.0</td>\n",
       "      <td>0.0</td>\n",
       "      <td>debt consolidation</td>\n",
       "      <td>Long Term</td>\n",
       "      <td>264968.0</td>\n",
       "      <td>394972.0</td>\n",
       "      <td>18373.0</td>\n",
       "      <td>737.0</td>\n",
       "      <td>1</td>\n",
       "    </tr>\n",
       "    <tr>\n",
       "      <th>2</th>\n",
       "      <td>Home Mortgage</td>\n",
       "      <td>751412.0</td>\n",
       "      <td>8 years</td>\n",
       "      <td>0.0</td>\n",
       "      <td>11.0</td>\n",
       "      <td>35.0</td>\n",
       "      <td>1182434.0</td>\n",
       "      <td>0.0</td>\n",
       "      <td>32.0</td>\n",
       "      <td>0.0</td>\n",
       "      <td>debt consolidation</td>\n",
       "      <td>Short Term</td>\n",
       "      <td>99999999.0</td>\n",
       "      <td>308389.0</td>\n",
       "      <td>13651.0</td>\n",
       "      <td>742.0</td>\n",
       "      <td>0</td>\n",
       "    </tr>\n",
       "    <tr>\n",
       "      <th>3</th>\n",
       "      <td>Own Home</td>\n",
       "      <td>805068.0</td>\n",
       "      <td>6 years</td>\n",
       "      <td>0.0</td>\n",
       "      <td>8.0</td>\n",
       "      <td>22.5</td>\n",
       "      <td>147400.0</td>\n",
       "      <td>1.0</td>\n",
       "      <td>32.0</td>\n",
       "      <td>1.0</td>\n",
       "      <td>debt consolidation</td>\n",
       "      <td>Short Term</td>\n",
       "      <td>121396.0</td>\n",
       "      <td>95855.0</td>\n",
       "      <td>11338.0</td>\n",
       "      <td>694.0</td>\n",
       "      <td>0</td>\n",
       "    </tr>\n",
       "    <tr>\n",
       "      <th>4</th>\n",
       "      <td>Rent</td>\n",
       "      <td>776264.0</td>\n",
       "      <td>8 years</td>\n",
       "      <td>0.0</td>\n",
       "      <td>13.0</td>\n",
       "      <td>13.6</td>\n",
       "      <td>385836.0</td>\n",
       "      <td>1.0</td>\n",
       "      <td>32.0</td>\n",
       "      <td>0.0</td>\n",
       "      <td>debt consolidation</td>\n",
       "      <td>Short Term</td>\n",
       "      <td>125840.0</td>\n",
       "      <td>93309.0</td>\n",
       "      <td>7180.0</td>\n",
       "      <td>719.0</td>\n",
       "      <td>0</td>\n",
       "    </tr>\n",
       "    <tr>\n",
       "      <th>5</th>\n",
       "      <td>Rent</td>\n",
       "      <td>1168386.0</td>\n",
       "      <td>7 years</td>\n",
       "      <td>0.0</td>\n",
       "      <td>12.0</td>\n",
       "      <td>14.6</td>\n",
       "      <td>366784.0</td>\n",
       "      <td>0.0</td>\n",
       "      <td>32.0</td>\n",
       "      <td>0.0</td>\n",
       "      <td>other</td>\n",
       "      <td>Long Term</td>\n",
       "      <td>337304.0</td>\n",
       "      <td>165680.0</td>\n",
       "      <td>18692.0</td>\n",
       "      <td>731.0</td>\n",
       "      <td>1</td>\n",
       "    </tr>\n",
       "    <tr>\n",
       "      <th>6</th>\n",
       "      <td>Home Mortgage</td>\n",
       "      <td>1511108.0</td>\n",
       "      <td>10+ years</td>\n",
       "      <td>0.0</td>\n",
       "      <td>9.0</td>\n",
       "      <td>20.3</td>\n",
       "      <td>388124.0</td>\n",
       "      <td>0.0</td>\n",
       "      <td>73.0</td>\n",
       "      <td>0.0</td>\n",
       "      <td>home improvements</td>\n",
       "      <td>Short Term</td>\n",
       "      <td>99999999.0</td>\n",
       "      <td>51623.0</td>\n",
       "      <td>2317.0</td>\n",
       "      <td>745.0</td>\n",
       "      <td>0</td>\n",
       "    </tr>\n",
       "    <tr>\n",
       "      <th>7</th>\n",
       "      <td>Rent</td>\n",
       "      <td>1040060.0</td>\n",
       "      <td>10+ years</td>\n",
       "      <td>0.0</td>\n",
       "      <td>13.0</td>\n",
       "      <td>12.0</td>\n",
       "      <td>330374.0</td>\n",
       "      <td>0.0</td>\n",
       "      <td>18.0</td>\n",
       "      <td>0.0</td>\n",
       "      <td>other</td>\n",
       "      <td>Short Term</td>\n",
       "      <td>250888.0</td>\n",
       "      <td>89015.0</td>\n",
       "      <td>19761.0</td>\n",
       "      <td>705.0</td>\n",
       "      <td>1</td>\n",
       "    </tr>\n",
       "    <tr>\n",
       "      <th>8</th>\n",
       "      <td>Home Mortgage</td>\n",
       "      <td>1168386.0</td>\n",
       "      <td>5 years</td>\n",
       "      <td>0.0</td>\n",
       "      <td>17.0</td>\n",
       "      <td>15.7</td>\n",
       "      <td>0.0</td>\n",
       "      <td>1.0</td>\n",
       "      <td>32.0</td>\n",
       "      <td>1.0</td>\n",
       "      <td>home improvements</td>\n",
       "      <td>Short Term</td>\n",
       "      <td>129734.0</td>\n",
       "      <td>19.0</td>\n",
       "      <td>17.0</td>\n",
       "      <td>731.0</td>\n",
       "      <td>0</td>\n",
       "    </tr>\n",
       "    <tr>\n",
       "      <th>9</th>\n",
       "      <td>Home Mortgage</td>\n",
       "      <td>1168386.0</td>\n",
       "      <td>1 year</td>\n",
       "      <td>0.0</td>\n",
       "      <td>10.0</td>\n",
       "      <td>24.6</td>\n",
       "      <td>511302.0</td>\n",
       "      <td>0.0</td>\n",
       "      <td>6.0</td>\n",
       "      <td>0.0</td>\n",
       "      <td>debt consolidation</td>\n",
       "      <td>Long Term</td>\n",
       "      <td>572880.0</td>\n",
       "      <td>205333.0</td>\n",
       "      <td>17613.0</td>\n",
       "      <td>731.0</td>\n",
       "      <td>1</td>\n",
       "    </tr>\n",
       "  </tbody>\n",
       "</table>\n",
       "</div>"
      ],
      "text/plain": [
       "  Home Ownership  Annual Income Years in current job  Tax Liens  \\\n",
       "0       Own Home       482087.0            10+ years        0.0   \n",
       "1       Own Home      1025487.0            10+ years        0.0   \n",
       "2  Home Mortgage       751412.0              8 years        0.0   \n",
       "3       Own Home       805068.0              6 years        0.0   \n",
       "4           Rent       776264.0              8 years        0.0   \n",
       "5           Rent      1168386.0              7 years        0.0   \n",
       "6  Home Mortgage      1511108.0            10+ years        0.0   \n",
       "7           Rent      1040060.0            10+ years        0.0   \n",
       "8  Home Mortgage      1168386.0              5 years        0.0   \n",
       "9  Home Mortgage      1168386.0               1 year        0.0   \n",
       "\n",
       "   Number of Open Accounts  Years of Credit History  Maximum Open Credit  \\\n",
       "0                     11.0                     26.3             685960.0   \n",
       "1                     15.0                     15.3            1181730.0   \n",
       "2                     11.0                     35.0            1182434.0   \n",
       "3                      8.0                     22.5             147400.0   \n",
       "4                     13.0                     13.6             385836.0   \n",
       "5                     12.0                     14.6             366784.0   \n",
       "6                      9.0                     20.3             388124.0   \n",
       "7                     13.0                     12.0             330374.0   \n",
       "8                     17.0                     15.7                  0.0   \n",
       "9                     10.0                     24.6             511302.0   \n",
       "\n",
       "   Number of Credit Problems  Months since last delinquent  Bankruptcies  \\\n",
       "0                        1.0                          32.0           1.0   \n",
       "1                        0.0                          32.0           0.0   \n",
       "2                        0.0                          32.0           0.0   \n",
       "3                        1.0                          32.0           1.0   \n",
       "4                        1.0                          32.0           0.0   \n",
       "5                        0.0                          32.0           0.0   \n",
       "6                        0.0                          73.0           0.0   \n",
       "7                        0.0                          18.0           0.0   \n",
       "8                        1.0                          32.0           1.0   \n",
       "9                        0.0                           6.0           0.0   \n",
       "\n",
       "              Purpose        Term  Current Loan Amount  \\\n",
       "0  debt consolidation  Short Term           99999999.0   \n",
       "1  debt consolidation   Long Term             264968.0   \n",
       "2  debt consolidation  Short Term           99999999.0   \n",
       "3  debt consolidation  Short Term             121396.0   \n",
       "4  debt consolidation  Short Term             125840.0   \n",
       "5               other   Long Term             337304.0   \n",
       "6   home improvements  Short Term           99999999.0   \n",
       "7               other  Short Term             250888.0   \n",
       "8   home improvements  Short Term             129734.0   \n",
       "9  debt consolidation   Long Term             572880.0   \n",
       "\n",
       "   Current Credit Balance  Monthly Debt  Credit Score  Credit Default  \n",
       "0                 47386.0        7914.0         749.0               0  \n",
       "1                394972.0       18373.0         737.0               1  \n",
       "2                308389.0       13651.0         742.0               0  \n",
       "3                 95855.0       11338.0         694.0               0  \n",
       "4                 93309.0        7180.0         719.0               0  \n",
       "5                165680.0       18692.0         731.0               1  \n",
       "6                 51623.0        2317.0         745.0               0  \n",
       "7                 89015.0       19761.0         705.0               1  \n",
       "8                    19.0          17.0         731.0               0  \n",
       "9                205333.0       17613.0         731.0               1  "
      ]
     },
     "execution_count": 250,
     "metadata": {},
     "output_type": "execute_result"
    }
   ],
   "source": [
    "# Мода для категориальный, среднее для числовых\n",
    "df_train = pd.read_csv(TRAIN_DATASET_PATH)\n",
    "df_test = pd.read_csv(TEST_DATASET_PATH)\n",
    "\n",
    "df_train[CAT_FEATURE_NAMES] = df_train[CAT_FEATURE_NAMES].fillna(df_train.mode().iloc[0])\n",
    "df_train[NUM_FEATURE_NAMES] = df_train[NUM_FEATURE_NAMES].fillna(df_train.median())\n",
    "df_train.head(10)"
   ]
  },
  {
   "cell_type": "code",
   "execution_count": 252,
   "metadata": {},
   "outputs": [
    {
     "name": "stdout",
     "output_type": "stream",
     "text": [
      "<class 'pandas.core.frame.DataFrame'>\n",
      "RangeIndex: 7500 entries, 0 to 7499\n",
      "Data columns (total 17 columns):\n",
      " #   Column                        Non-Null Count  Dtype  \n",
      "---  ------                        --------------  -----  \n",
      " 0   Home Ownership                7500 non-null   object \n",
      " 1   Annual Income                 7500 non-null   float64\n",
      " 2   Years in current job          7500 non-null   object \n",
      " 3   Tax Liens                     7500 non-null   float64\n",
      " 4   Number of Open Accounts       7500 non-null   float64\n",
      " 5   Years of Credit History       7500 non-null   float64\n",
      " 6   Maximum Open Credit           7500 non-null   float64\n",
      " 7   Number of Credit Problems     7500 non-null   float64\n",
      " 8   Months since last delinquent  7500 non-null   float64\n",
      " 9   Bankruptcies                  7500 non-null   float64\n",
      " 10  Purpose                       7500 non-null   object \n",
      " 11  Term                          7500 non-null   object \n",
      " 12  Current Loan Amount           7500 non-null   float64\n",
      " 13  Current Credit Balance        7500 non-null   float64\n",
      " 14  Monthly Debt                  7500 non-null   float64\n",
      " 15  Credit Score                  7500 non-null   float64\n",
      " 16  Credit Default                7500 non-null   int64  \n",
      "dtypes: float64(12), int64(1), object(4)\n",
      "memory usage: 996.2+ KB\n"
     ]
    }
   ],
   "source": [
    "df_train.info()"
   ]
  },
  {
   "cell_type": "code",
   "execution_count": 253,
   "metadata": {
    "scrolled": true
   },
   "outputs": [
    {
     "data": {
      "text/plain": [
       "'f1 class 1: TRAIN = 0.7817, TEST = 0.768'"
      ]
     },
     "execution_count": 253,
     "metadata": {},
     "output_type": "execute_result"
    }
   ],
   "source": [
    "LogRegression(df_train)"
   ]
  },
  {
   "cell_type": "code",
   "execution_count": 254,
   "metadata": {},
   "outputs": [
    {
     "data": {
      "text/plain": [
       "'f1 class 1: TRAIN = 0.7813, TEST = 0.6747'"
      ]
     },
     "execution_count": 254,
     "metadata": {},
     "output_type": "execute_result"
    }
   ],
   "source": [
    "knn(df_train)"
   ]
  },
  {
   "cell_type": "code",
   "execution_count": 255,
   "metadata": {},
   "outputs": [
    {
     "data": {
      "text/plain": [
       "'f1 class 1: TRAIN = 0.7726, TEST = 0.7693'"
      ]
     },
     "execution_count": 255,
     "metadata": {},
     "output_type": "execute_result"
    }
   ],
   "source": [
    "decision_tree(df_train, max_depth=2)"
   ]
  },
  {
   "cell_type": "code",
   "execution_count": 256,
   "metadata": {
    "scrolled": false
   },
   "outputs": [
    {
     "name": "stdout",
     "output_type": "stream",
     "text": [
      "[01:55:11] WARNING: C:/Users/Administrator/workspace/xgboost-win64_release_1.3.0/src/learner.cc:1061: Starting in XGBoost 1.3.0, the default evaluation metric used with the objective 'binary:logistic' was changed from 'error' to 'logloss'. Explicitly set eval_metric if you'd like to restore the old behavior.\n"
     ]
    },
    {
     "data": {
      "text/plain": [
       "'f1 class 1: TRAIN = 0.8038, TEST = 0.7698'"
      ]
     },
     "execution_count": 256,
     "metadata": {},
     "output_type": "execute_result"
    }
   ],
   "source": [
    "xgboost(df_train, n_estimators=10)"
   ]
  },
  {
   "cell_type": "code",
   "execution_count": 257,
   "metadata": {},
   "outputs": [
    {
     "data": {
      "text/plain": [
       "'f1 class 1: TRAIN = 0.8072, TEST = 0.7018'"
      ]
     },
     "execution_count": 257,
     "metadata": {},
     "output_type": "execute_result"
    }
   ],
   "source": [
    "light_gbm(df_train)"
   ]
  },
  {
   "cell_type": "code",
   "execution_count": 258,
   "metadata": {},
   "outputs": [
    {
     "data": {
      "text/plain": [
       "'f1 class 1: TRAIN = 0.7259, TEST = 0.7076'"
      ]
     },
     "execution_count": 258,
     "metadata": {},
     "output_type": "execute_result"
    }
   ],
   "source": [
    "# tuning\n",
    "light_gbm(df_train, num_leaves=2)"
   ]
  },
  {
   "cell_type": "code",
   "execution_count": 259,
   "metadata": {
    "scrolled": true
   },
   "outputs": [
    {
     "data": {
      "text/plain": [
       "'f1 class 1: TRAIN = 0.9025, TEST = 0.7156'"
      ]
     },
     "execution_count": 259,
     "metadata": {},
     "output_type": "execute_result"
    }
   ],
   "source": [
    "cat_boost(df_train)"
   ]
  },
  {
   "cell_type": "markdown",
   "metadata": {},
   "source": [
    "Model | Baseline | Dropped NaN | Moda + Mean\n",
    "---|---|---|---\n",
    "LogReg | TRAIN = 0.7817, TEST = 0.768 | TRAIN = 0.8115, TEST = 0.7977 | TRAIN = 0.7817, TEST = 0.768\n",
    "KNN | TRAIN = 0.7813, TEST = 0.6747' | TRAIN = 0.7828, TEST = 0.6997 | TRAIN = 0.7813, TEST = 0.6747\n",
    "D Tree | TRAIN = 0.7726, TEST = 0.7693 | TRAIN = 0.8043, TEST = 0.8015 | TRAIN = 0.7726, TEST = 0.7693\n",
    "XGB | TRAIN = 0.8038, TEST = 0.7698 | TRAIN = 0.8563, TEST = 0.8041 | TRAIN = 0.8038, TEST = 0.7698\n",
    "LGBM | TRAIN = 0.8072, TEST = 0.7018 | TRAIN = 0.9038, TEST = 0.7358 | TRAIN = 0.8072, TEST = 0.7018\n",
    "CatB | TRAIN = 0.9025, TEST = 0.7156 | TRAIN = 0.9663, TEST = 0.7668 | TRAIN = 0.9025, TEST = 0.7156\n",
    "\n",
    "Вывод: заполнение пропущенных значений модой + медианой не улучшило скор по сравнению с выбрасыванием пропусков."
   ]
  },
  {
   "attachments": {},
   "cell_type": "markdown",
   "metadata": {},
   "source": [
    "### Оставить пропуски как есть (для алгоритмов работающих с пропусками)"
   ]
  },
  {
   "cell_type": "code",
   "execution_count": 263,
   "metadata": {},
   "outputs": [
    {
     "data": {
      "text/html": [
       "<style  type=\"text/css\" >\n",
       "#T_d8ac87f1_59e0_11eb_bbda_aa67d55ccda8row0_col2,#T_d8ac87f1_59e0_11eb_bbda_aa67d55ccda8row0_col8,#T_d8ac87f1_59e0_11eb_bbda_aa67d55ccda8row1_col8,#T_d8ac87f1_59e0_11eb_bbda_aa67d55ccda8row2_col8,#T_d8ac87f1_59e0_11eb_bbda_aa67d55ccda8row3_col8,#T_d8ac87f1_59e0_11eb_bbda_aa67d55ccda8row4_col8{\n",
       "            color:  red;\n",
       "        }</style><table id=\"T_d8ac87f1_59e0_11eb_bbda_aa67d55ccda8\" ><thead>    <tr>        <th class=\"blank level0\" ></th>        <th class=\"col_heading level0 col0\" >Home Ownership</th>        <th class=\"col_heading level0 col1\" >Annual Income</th>        <th class=\"col_heading level0 col2\" >Years in current job</th>        <th class=\"col_heading level0 col3\" >Tax Liens</th>        <th class=\"col_heading level0 col4\" >Number of Open Accounts</th>        <th class=\"col_heading level0 col5\" >Years of Credit History</th>        <th class=\"col_heading level0 col6\" >Maximum Open Credit</th>        <th class=\"col_heading level0 col7\" >Number of Credit Problems</th>        <th class=\"col_heading level0 col8\" >Months since last delinquent</th>        <th class=\"col_heading level0 col9\" >Bankruptcies</th>        <th class=\"col_heading level0 col10\" >Purpose</th>        <th class=\"col_heading level0 col11\" >Term</th>        <th class=\"col_heading level0 col12\" >Current Loan Amount</th>        <th class=\"col_heading level0 col13\" >Current Credit Balance</th>        <th class=\"col_heading level0 col14\" >Monthly Debt</th>        <th class=\"col_heading level0 col15\" >Credit Score</th>        <th class=\"col_heading level0 col16\" >Credit Default</th>    </tr></thead><tbody>\n",
       "                <tr>\n",
       "                        <th id=\"T_d8ac87f1_59e0_11eb_bbda_aa67d55ccda8level0_row0\" class=\"row_heading level0 row0\" >0</th>\n",
       "                        <td id=\"T_d8ac87f1_59e0_11eb_bbda_aa67d55ccda8row0_col0\" class=\"data row0 col0\" >Own Home</td>\n",
       "                        <td id=\"T_d8ac87f1_59e0_11eb_bbda_aa67d55ccda8row0_col1\" class=\"data row0 col1\" >482087.000000</td>\n",
       "                        <td id=\"T_d8ac87f1_59e0_11eb_bbda_aa67d55ccda8row0_col2\" class=\"data row0 col2\" >nan</td>\n",
       "                        <td id=\"T_d8ac87f1_59e0_11eb_bbda_aa67d55ccda8row0_col3\" class=\"data row0 col3\" >0.000000</td>\n",
       "                        <td id=\"T_d8ac87f1_59e0_11eb_bbda_aa67d55ccda8row0_col4\" class=\"data row0 col4\" >11.000000</td>\n",
       "                        <td id=\"T_d8ac87f1_59e0_11eb_bbda_aa67d55ccda8row0_col5\" class=\"data row0 col5\" >26.300000</td>\n",
       "                        <td id=\"T_d8ac87f1_59e0_11eb_bbda_aa67d55ccda8row0_col6\" class=\"data row0 col6\" >685960.000000</td>\n",
       "                        <td id=\"T_d8ac87f1_59e0_11eb_bbda_aa67d55ccda8row0_col7\" class=\"data row0 col7\" >1.000000</td>\n",
       "                        <td id=\"T_d8ac87f1_59e0_11eb_bbda_aa67d55ccda8row0_col8\" class=\"data row0 col8\" >nan</td>\n",
       "                        <td id=\"T_d8ac87f1_59e0_11eb_bbda_aa67d55ccda8row0_col9\" class=\"data row0 col9\" >1.000000</td>\n",
       "                        <td id=\"T_d8ac87f1_59e0_11eb_bbda_aa67d55ccda8row0_col10\" class=\"data row0 col10\" >debt consolidation</td>\n",
       "                        <td id=\"T_d8ac87f1_59e0_11eb_bbda_aa67d55ccda8row0_col11\" class=\"data row0 col11\" >Short Term</td>\n",
       "                        <td id=\"T_d8ac87f1_59e0_11eb_bbda_aa67d55ccda8row0_col12\" class=\"data row0 col12\" >99999999.000000</td>\n",
       "                        <td id=\"T_d8ac87f1_59e0_11eb_bbda_aa67d55ccda8row0_col13\" class=\"data row0 col13\" >47386.000000</td>\n",
       "                        <td id=\"T_d8ac87f1_59e0_11eb_bbda_aa67d55ccda8row0_col14\" class=\"data row0 col14\" >7914.000000</td>\n",
       "                        <td id=\"T_d8ac87f1_59e0_11eb_bbda_aa67d55ccda8row0_col15\" class=\"data row0 col15\" >749.000000</td>\n",
       "                        <td id=\"T_d8ac87f1_59e0_11eb_bbda_aa67d55ccda8row0_col16\" class=\"data row0 col16\" >0</td>\n",
       "            </tr>\n",
       "            <tr>\n",
       "                        <th id=\"T_d8ac87f1_59e0_11eb_bbda_aa67d55ccda8level0_row1\" class=\"row_heading level0 row1\" >1</th>\n",
       "                        <td id=\"T_d8ac87f1_59e0_11eb_bbda_aa67d55ccda8row1_col0\" class=\"data row1 col0\" >Own Home</td>\n",
       "                        <td id=\"T_d8ac87f1_59e0_11eb_bbda_aa67d55ccda8row1_col1\" class=\"data row1 col1\" >1025487.000000</td>\n",
       "                        <td id=\"T_d8ac87f1_59e0_11eb_bbda_aa67d55ccda8row1_col2\" class=\"data row1 col2\" >10+ years</td>\n",
       "                        <td id=\"T_d8ac87f1_59e0_11eb_bbda_aa67d55ccda8row1_col3\" class=\"data row1 col3\" >0.000000</td>\n",
       "                        <td id=\"T_d8ac87f1_59e0_11eb_bbda_aa67d55ccda8row1_col4\" class=\"data row1 col4\" >15.000000</td>\n",
       "                        <td id=\"T_d8ac87f1_59e0_11eb_bbda_aa67d55ccda8row1_col5\" class=\"data row1 col5\" >15.300000</td>\n",
       "                        <td id=\"T_d8ac87f1_59e0_11eb_bbda_aa67d55ccda8row1_col6\" class=\"data row1 col6\" >1181730.000000</td>\n",
       "                        <td id=\"T_d8ac87f1_59e0_11eb_bbda_aa67d55ccda8row1_col7\" class=\"data row1 col7\" >0.000000</td>\n",
       "                        <td id=\"T_d8ac87f1_59e0_11eb_bbda_aa67d55ccda8row1_col8\" class=\"data row1 col8\" >nan</td>\n",
       "                        <td id=\"T_d8ac87f1_59e0_11eb_bbda_aa67d55ccda8row1_col9\" class=\"data row1 col9\" >0.000000</td>\n",
       "                        <td id=\"T_d8ac87f1_59e0_11eb_bbda_aa67d55ccda8row1_col10\" class=\"data row1 col10\" >debt consolidation</td>\n",
       "                        <td id=\"T_d8ac87f1_59e0_11eb_bbda_aa67d55ccda8row1_col11\" class=\"data row1 col11\" >Long Term</td>\n",
       "                        <td id=\"T_d8ac87f1_59e0_11eb_bbda_aa67d55ccda8row1_col12\" class=\"data row1 col12\" >264968.000000</td>\n",
       "                        <td id=\"T_d8ac87f1_59e0_11eb_bbda_aa67d55ccda8row1_col13\" class=\"data row1 col13\" >394972.000000</td>\n",
       "                        <td id=\"T_d8ac87f1_59e0_11eb_bbda_aa67d55ccda8row1_col14\" class=\"data row1 col14\" >18373.000000</td>\n",
       "                        <td id=\"T_d8ac87f1_59e0_11eb_bbda_aa67d55ccda8row1_col15\" class=\"data row1 col15\" >737.000000</td>\n",
       "                        <td id=\"T_d8ac87f1_59e0_11eb_bbda_aa67d55ccda8row1_col16\" class=\"data row1 col16\" >1</td>\n",
       "            </tr>\n",
       "            <tr>\n",
       "                        <th id=\"T_d8ac87f1_59e0_11eb_bbda_aa67d55ccda8level0_row2\" class=\"row_heading level0 row2\" >2</th>\n",
       "                        <td id=\"T_d8ac87f1_59e0_11eb_bbda_aa67d55ccda8row2_col0\" class=\"data row2 col0\" >Home Mortgage</td>\n",
       "                        <td id=\"T_d8ac87f1_59e0_11eb_bbda_aa67d55ccda8row2_col1\" class=\"data row2 col1\" >751412.000000</td>\n",
       "                        <td id=\"T_d8ac87f1_59e0_11eb_bbda_aa67d55ccda8row2_col2\" class=\"data row2 col2\" >8 years</td>\n",
       "                        <td id=\"T_d8ac87f1_59e0_11eb_bbda_aa67d55ccda8row2_col3\" class=\"data row2 col3\" >0.000000</td>\n",
       "                        <td id=\"T_d8ac87f1_59e0_11eb_bbda_aa67d55ccda8row2_col4\" class=\"data row2 col4\" >11.000000</td>\n",
       "                        <td id=\"T_d8ac87f1_59e0_11eb_bbda_aa67d55ccda8row2_col5\" class=\"data row2 col5\" >35.000000</td>\n",
       "                        <td id=\"T_d8ac87f1_59e0_11eb_bbda_aa67d55ccda8row2_col6\" class=\"data row2 col6\" >1182434.000000</td>\n",
       "                        <td id=\"T_d8ac87f1_59e0_11eb_bbda_aa67d55ccda8row2_col7\" class=\"data row2 col7\" >0.000000</td>\n",
       "                        <td id=\"T_d8ac87f1_59e0_11eb_bbda_aa67d55ccda8row2_col8\" class=\"data row2 col8\" >nan</td>\n",
       "                        <td id=\"T_d8ac87f1_59e0_11eb_bbda_aa67d55ccda8row2_col9\" class=\"data row2 col9\" >0.000000</td>\n",
       "                        <td id=\"T_d8ac87f1_59e0_11eb_bbda_aa67d55ccda8row2_col10\" class=\"data row2 col10\" >debt consolidation</td>\n",
       "                        <td id=\"T_d8ac87f1_59e0_11eb_bbda_aa67d55ccda8row2_col11\" class=\"data row2 col11\" >Short Term</td>\n",
       "                        <td id=\"T_d8ac87f1_59e0_11eb_bbda_aa67d55ccda8row2_col12\" class=\"data row2 col12\" >99999999.000000</td>\n",
       "                        <td id=\"T_d8ac87f1_59e0_11eb_bbda_aa67d55ccda8row2_col13\" class=\"data row2 col13\" >308389.000000</td>\n",
       "                        <td id=\"T_d8ac87f1_59e0_11eb_bbda_aa67d55ccda8row2_col14\" class=\"data row2 col14\" >13651.000000</td>\n",
       "                        <td id=\"T_d8ac87f1_59e0_11eb_bbda_aa67d55ccda8row2_col15\" class=\"data row2 col15\" >742.000000</td>\n",
       "                        <td id=\"T_d8ac87f1_59e0_11eb_bbda_aa67d55ccda8row2_col16\" class=\"data row2 col16\" >0</td>\n",
       "            </tr>\n",
       "            <tr>\n",
       "                        <th id=\"T_d8ac87f1_59e0_11eb_bbda_aa67d55ccda8level0_row3\" class=\"row_heading level0 row3\" >3</th>\n",
       "                        <td id=\"T_d8ac87f1_59e0_11eb_bbda_aa67d55ccda8row3_col0\" class=\"data row3 col0\" >Own Home</td>\n",
       "                        <td id=\"T_d8ac87f1_59e0_11eb_bbda_aa67d55ccda8row3_col1\" class=\"data row3 col1\" >805068.000000</td>\n",
       "                        <td id=\"T_d8ac87f1_59e0_11eb_bbda_aa67d55ccda8row3_col2\" class=\"data row3 col2\" >6 years</td>\n",
       "                        <td id=\"T_d8ac87f1_59e0_11eb_bbda_aa67d55ccda8row3_col3\" class=\"data row3 col3\" >0.000000</td>\n",
       "                        <td id=\"T_d8ac87f1_59e0_11eb_bbda_aa67d55ccda8row3_col4\" class=\"data row3 col4\" >8.000000</td>\n",
       "                        <td id=\"T_d8ac87f1_59e0_11eb_bbda_aa67d55ccda8row3_col5\" class=\"data row3 col5\" >22.500000</td>\n",
       "                        <td id=\"T_d8ac87f1_59e0_11eb_bbda_aa67d55ccda8row3_col6\" class=\"data row3 col6\" >147400.000000</td>\n",
       "                        <td id=\"T_d8ac87f1_59e0_11eb_bbda_aa67d55ccda8row3_col7\" class=\"data row3 col7\" >1.000000</td>\n",
       "                        <td id=\"T_d8ac87f1_59e0_11eb_bbda_aa67d55ccda8row3_col8\" class=\"data row3 col8\" >nan</td>\n",
       "                        <td id=\"T_d8ac87f1_59e0_11eb_bbda_aa67d55ccda8row3_col9\" class=\"data row3 col9\" >1.000000</td>\n",
       "                        <td id=\"T_d8ac87f1_59e0_11eb_bbda_aa67d55ccda8row3_col10\" class=\"data row3 col10\" >debt consolidation</td>\n",
       "                        <td id=\"T_d8ac87f1_59e0_11eb_bbda_aa67d55ccda8row3_col11\" class=\"data row3 col11\" >Short Term</td>\n",
       "                        <td id=\"T_d8ac87f1_59e0_11eb_bbda_aa67d55ccda8row3_col12\" class=\"data row3 col12\" >121396.000000</td>\n",
       "                        <td id=\"T_d8ac87f1_59e0_11eb_bbda_aa67d55ccda8row3_col13\" class=\"data row3 col13\" >95855.000000</td>\n",
       "                        <td id=\"T_d8ac87f1_59e0_11eb_bbda_aa67d55ccda8row3_col14\" class=\"data row3 col14\" >11338.000000</td>\n",
       "                        <td id=\"T_d8ac87f1_59e0_11eb_bbda_aa67d55ccda8row3_col15\" class=\"data row3 col15\" >694.000000</td>\n",
       "                        <td id=\"T_d8ac87f1_59e0_11eb_bbda_aa67d55ccda8row3_col16\" class=\"data row3 col16\" >0</td>\n",
       "            </tr>\n",
       "            <tr>\n",
       "                        <th id=\"T_d8ac87f1_59e0_11eb_bbda_aa67d55ccda8level0_row4\" class=\"row_heading level0 row4\" >4</th>\n",
       "                        <td id=\"T_d8ac87f1_59e0_11eb_bbda_aa67d55ccda8row4_col0\" class=\"data row4 col0\" >Rent</td>\n",
       "                        <td id=\"T_d8ac87f1_59e0_11eb_bbda_aa67d55ccda8row4_col1\" class=\"data row4 col1\" >776264.000000</td>\n",
       "                        <td id=\"T_d8ac87f1_59e0_11eb_bbda_aa67d55ccda8row4_col2\" class=\"data row4 col2\" >8 years</td>\n",
       "                        <td id=\"T_d8ac87f1_59e0_11eb_bbda_aa67d55ccda8row4_col3\" class=\"data row4 col3\" >0.000000</td>\n",
       "                        <td id=\"T_d8ac87f1_59e0_11eb_bbda_aa67d55ccda8row4_col4\" class=\"data row4 col4\" >13.000000</td>\n",
       "                        <td id=\"T_d8ac87f1_59e0_11eb_bbda_aa67d55ccda8row4_col5\" class=\"data row4 col5\" >13.600000</td>\n",
       "                        <td id=\"T_d8ac87f1_59e0_11eb_bbda_aa67d55ccda8row4_col6\" class=\"data row4 col6\" >385836.000000</td>\n",
       "                        <td id=\"T_d8ac87f1_59e0_11eb_bbda_aa67d55ccda8row4_col7\" class=\"data row4 col7\" >1.000000</td>\n",
       "                        <td id=\"T_d8ac87f1_59e0_11eb_bbda_aa67d55ccda8row4_col8\" class=\"data row4 col8\" >nan</td>\n",
       "                        <td id=\"T_d8ac87f1_59e0_11eb_bbda_aa67d55ccda8row4_col9\" class=\"data row4 col9\" >0.000000</td>\n",
       "                        <td id=\"T_d8ac87f1_59e0_11eb_bbda_aa67d55ccda8row4_col10\" class=\"data row4 col10\" >debt consolidation</td>\n",
       "                        <td id=\"T_d8ac87f1_59e0_11eb_bbda_aa67d55ccda8row4_col11\" class=\"data row4 col11\" >Short Term</td>\n",
       "                        <td id=\"T_d8ac87f1_59e0_11eb_bbda_aa67d55ccda8row4_col12\" class=\"data row4 col12\" >125840.000000</td>\n",
       "                        <td id=\"T_d8ac87f1_59e0_11eb_bbda_aa67d55ccda8row4_col13\" class=\"data row4 col13\" >93309.000000</td>\n",
       "                        <td id=\"T_d8ac87f1_59e0_11eb_bbda_aa67d55ccda8row4_col14\" class=\"data row4 col14\" >7180.000000</td>\n",
       "                        <td id=\"T_d8ac87f1_59e0_11eb_bbda_aa67d55ccda8row4_col15\" class=\"data row4 col15\" >719.000000</td>\n",
       "                        <td id=\"T_d8ac87f1_59e0_11eb_bbda_aa67d55ccda8row4_col16\" class=\"data row4 col16\" >0</td>\n",
       "            </tr>\n",
       "    </tbody></table>"
      ],
      "text/plain": [
       "<pandas.io.formats.style.Styler at 0x1c7872d5dc0>"
      ]
     },
     "execution_count": 263,
     "metadata": {},
     "output_type": "execute_result"
    }
   ],
   "source": [
    "df_train = pd.read_csv(TRAIN_DATASET_PATH)\n",
    "df_test = pd.read_csv(TEST_DATASET_PATH)\n",
    "\n",
    "df_train.head(5).style.applymap(lambda x: 'color: red' if pd.isnull(x) else '')"
   ]
  },
  {
   "cell_type": "code",
   "execution_count": 272,
   "metadata": {
    "scrolled": false
   },
   "outputs": [
    {
     "name": "stdout",
     "output_type": "stream",
     "text": [
      "[02:03:41] WARNING: C:/Users/Administrator/workspace/xgboost-win64_release_1.3.0/src/learner.cc:1061: Starting in XGBoost 1.3.0, the default evaluation metric used with the objective 'binary:logistic' was changed from 'error' to 'logloss'. Explicitly set eval_metric if you'd like to restore the old behavior.\n"
     ]
    },
    {
     "data": {
      "text/plain": [
       "'f1 class 1: TRAIN = 0.8015, TEST = 0.7676'"
      ]
     },
     "execution_count": 272,
     "metadata": {},
     "output_type": "execute_result"
    }
   ],
   "source": [
    "xgboost(df_train, n_estimators=10)"
   ]
  },
  {
   "cell_type": "code",
   "execution_count": 273,
   "metadata": {},
   "outputs": [
    {
     "data": {
      "text/plain": [
       "'f1 class 1: TRAIN = 0.8063, TEST = 0.7084'"
      ]
     },
     "execution_count": 273,
     "metadata": {},
     "output_type": "execute_result"
    }
   ],
   "source": [
    "light_gbm(df_train)"
   ]
  },
  {
   "cell_type": "code",
   "execution_count": 274,
   "metadata": {},
   "outputs": [
    {
     "data": {
      "text/plain": [
       "'f1 class 1: TRAIN = 0.667, TEST = 0.6516'"
      ]
     },
     "execution_count": 274,
     "metadata": {},
     "output_type": "execute_result"
    }
   ],
   "source": [
    "# tuning\n",
    "light_gbm(df_train, num_leaves=2)"
   ]
  },
  {
   "cell_type": "markdown",
   "metadata": {},
   "source": [
    "Model | Baseline | Dropped NaN | With NaN\n",
    "---|---|---|---\n",
    "LogReg | TRAIN = 0.7817, TEST = 0.768 | TRAIN = 0.8115, TEST = 0.7977 | \n",
    "KNN | TRAIN = 0.7813, TEST = 0.6747' | TRAIN = 0.7828, TEST = 0.6997 | \n",
    "Des Tree | TRAIN = 0.7726, TEST = 0.7693 | TRAIN = 0.8043, TEST = 0.8015 | \n",
    "XGB | TRAIN = 0.8038, TEST = 0.7698 | TRAIN = 0.8563, TEST = 0.8041 | TRAIN = 0.8015, TEST = 0.7676\n",
    "LGBM | TRAIN = 0.8072, TEST = 0.7018 | TRAIN = 0.9038, TEST = 0.7358 | TRAIN = 0.8063, TEST = 0.7084\n",
    "CatB | TRAIN = 0.9025, TEST = 0.7156 | TRAIN = 0.9663, TEST = 0.7668 | \n",
    "\n",
    "Вывод: \"Оставить NaN как есть\" -  не улучшило скор по сравнению с выбрасывание пропусков."
   ]
  },
  {
   "cell_type": "code",
   "execution_count": null,
   "metadata": {},
   "outputs": [],
   "source": []
  },
  {
   "cell_type": "code",
   "execution_count": null,
   "metadata": {},
   "outputs": [],
   "source": []
  },
  {
   "cell_type": "markdown",
   "metadata": {},
   "source": [
    "## Обработка выбросов"
   ]
  },
  {
   "cell_type": "markdown",
   "metadata": {},
   "source": [
    "### Выбросить данные с выбросами"
   ]
  },
  {
   "attachments": {},
   "cell_type": "markdown",
   "metadata": {},
   "source": [
    "### Заменять пропуски разными методами (медианы, средние значения, бизнес-логика, строить модели...)"
   ]
  },
  {
   "cell_type": "markdown",
   "metadata": {},
   "source": [
    "# Финальная модель"
   ]
  },
  {
   "cell_type": "code",
   "execution_count": 283,
   "metadata": {},
   "outputs": [
    {
     "name": "stdout",
     "output_type": "stream",
     "text": [
      "Original dataset shape =  (7500, 17)\n",
      "Dataset shape wothout NaN =  (2585, 17)\n"
     ]
    }
   ],
   "source": [
    "df_train = pd.read_csv(TRAIN_DATASET_PATH)\n",
    "df_test = pd.read_csv(TEST_DATASET_PATH)\n",
    "print('Original dataset shape = ', df_train.shape)\n",
    "\n",
    "df_train.dropna(axis='index', inplace=True)\n",
    "print('Dataset shape wothout NaN = ', df_train.shape)"
   ]
  },
  {
   "cell_type": "code",
   "execution_count": 286,
   "metadata": {},
   "outputs": [
    {
     "data": {
      "text/html": [
       "<div>\n",
       "<style scoped>\n",
       "    .dataframe tbody tr th:only-of-type {\n",
       "        vertical-align: middle;\n",
       "    }\n",
       "\n",
       "    .dataframe tbody tr th {\n",
       "        vertical-align: top;\n",
       "    }\n",
       "\n",
       "    .dataframe thead th {\n",
       "        text-align: right;\n",
       "    }\n",
       "</style>\n",
       "<table border=\"1\" class=\"dataframe\">\n",
       "  <thead>\n",
       "    <tr style=\"text-align: right;\">\n",
       "      <th></th>\n",
       "      <th>Annual Income</th>\n",
       "      <th>Tax Liens</th>\n",
       "      <th>Number of Open Accounts</th>\n",
       "      <th>Years of Credit History</th>\n",
       "      <th>Maximum Open Credit</th>\n",
       "      <th>Number of Credit Problems</th>\n",
       "      <th>Months since last delinquent</th>\n",
       "      <th>Bankruptcies</th>\n",
       "      <th>Current Loan Amount</th>\n",
       "      <th>Current Credit Balance</th>\n",
       "      <th>...</th>\n",
       "      <th>Purpose_major purchase</th>\n",
       "      <th>Purpose_medical bills</th>\n",
       "      <th>Purpose_moving</th>\n",
       "      <th>Purpose_other</th>\n",
       "      <th>Purpose_small business</th>\n",
       "      <th>Purpose_take a trip</th>\n",
       "      <th>Purpose_vacation</th>\n",
       "      <th>Purpose_wedding</th>\n",
       "      <th>Term_Long Term</th>\n",
       "      <th>Term_Short Term</th>\n",
       "    </tr>\n",
       "  </thead>\n",
       "  <tbody>\n",
       "    <tr>\n",
       "      <th>6</th>\n",
       "      <td>1511108.0</td>\n",
       "      <td>0.0</td>\n",
       "      <td>9.0</td>\n",
       "      <td>20.3</td>\n",
       "      <td>388124.0</td>\n",
       "      <td>0.0</td>\n",
       "      <td>73.0</td>\n",
       "      <td>0.0</td>\n",
       "      <td>99999999.0</td>\n",
       "      <td>51623.0</td>\n",
       "      <td>...</td>\n",
       "      <td>0</td>\n",
       "      <td>0</td>\n",
       "      <td>0</td>\n",
       "      <td>0</td>\n",
       "      <td>0</td>\n",
       "      <td>0</td>\n",
       "      <td>0</td>\n",
       "      <td>0</td>\n",
       "      <td>0</td>\n",
       "      <td>1</td>\n",
       "    </tr>\n",
       "    <tr>\n",
       "      <th>7</th>\n",
       "      <td>1040060.0</td>\n",
       "      <td>0.0</td>\n",
       "      <td>13.0</td>\n",
       "      <td>12.0</td>\n",
       "      <td>330374.0</td>\n",
       "      <td>0.0</td>\n",
       "      <td>18.0</td>\n",
       "      <td>0.0</td>\n",
       "      <td>250888.0</td>\n",
       "      <td>89015.0</td>\n",
       "      <td>...</td>\n",
       "      <td>0</td>\n",
       "      <td>0</td>\n",
       "      <td>0</td>\n",
       "      <td>1</td>\n",
       "      <td>0</td>\n",
       "      <td>0</td>\n",
       "      <td>0</td>\n",
       "      <td>0</td>\n",
       "      <td>0</td>\n",
       "      <td>1</td>\n",
       "    </tr>\n",
       "    <tr>\n",
       "      <th>18</th>\n",
       "      <td>1401744.0</td>\n",
       "      <td>0.0</td>\n",
       "      <td>9.0</td>\n",
       "      <td>29.0</td>\n",
       "      <td>387222.0</td>\n",
       "      <td>0.0</td>\n",
       "      <td>40.0</td>\n",
       "      <td>0.0</td>\n",
       "      <td>553586.0</td>\n",
       "      <td>201989.0</td>\n",
       "      <td>...</td>\n",
       "      <td>0</td>\n",
       "      <td>0</td>\n",
       "      <td>0</td>\n",
       "      <td>0</td>\n",
       "      <td>0</td>\n",
       "      <td>0</td>\n",
       "      <td>0</td>\n",
       "      <td>0</td>\n",
       "      <td>1</td>\n",
       "      <td>0</td>\n",
       "    </tr>\n",
       "    <tr>\n",
       "      <th>20</th>\n",
       "      <td>1651993.0</td>\n",
       "      <td>0.0</td>\n",
       "      <td>11.0</td>\n",
       "      <td>26.5</td>\n",
       "      <td>663894.0</td>\n",
       "      <td>0.0</td>\n",
       "      <td>44.0</td>\n",
       "      <td>0.0</td>\n",
       "      <td>585090.0</td>\n",
       "      <td>252852.0</td>\n",
       "      <td>...</td>\n",
       "      <td>0</td>\n",
       "      <td>0</td>\n",
       "      <td>0</td>\n",
       "      <td>0</td>\n",
       "      <td>0</td>\n",
       "      <td>0</td>\n",
       "      <td>0</td>\n",
       "      <td>0</td>\n",
       "      <td>1</td>\n",
       "      <td>0</td>\n",
       "    </tr>\n",
       "    <tr>\n",
       "      <th>21</th>\n",
       "      <td>1047394.0</td>\n",
       "      <td>0.0</td>\n",
       "      <td>7.0</td>\n",
       "      <td>34.4</td>\n",
       "      <td>401104.0</td>\n",
       "      <td>0.0</td>\n",
       "      <td>45.0</td>\n",
       "      <td>0.0</td>\n",
       "      <td>324852.0</td>\n",
       "      <td>183597.0</td>\n",
       "      <td>...</td>\n",
       "      <td>0</td>\n",
       "      <td>0</td>\n",
       "      <td>0</td>\n",
       "      <td>0</td>\n",
       "      <td>0</td>\n",
       "      <td>0</td>\n",
       "      <td>0</td>\n",
       "      <td>0</td>\n",
       "      <td>0</td>\n",
       "      <td>1</td>\n",
       "    </tr>\n",
       "    <tr>\n",
       "      <th>...</th>\n",
       "      <td>...</td>\n",
       "      <td>...</td>\n",
       "      <td>...</td>\n",
       "      <td>...</td>\n",
       "      <td>...</td>\n",
       "      <td>...</td>\n",
       "      <td>...</td>\n",
       "      <td>...</td>\n",
       "      <td>...</td>\n",
       "      <td>...</td>\n",
       "      <td>...</td>\n",
       "      <td>...</td>\n",
       "      <td>...</td>\n",
       "      <td>...</td>\n",
       "      <td>...</td>\n",
       "      <td>...</td>\n",
       "      <td>...</td>\n",
       "      <td>...</td>\n",
       "      <td>...</td>\n",
       "      <td>...</td>\n",
       "      <td>...</td>\n",
       "    </tr>\n",
       "    <tr>\n",
       "      <th>7489</th>\n",
       "      <td>1394942.0</td>\n",
       "      <td>0.0</td>\n",
       "      <td>15.0</td>\n",
       "      <td>27.2</td>\n",
       "      <td>1441396.0</td>\n",
       "      <td>0.0</td>\n",
       "      <td>35.0</td>\n",
       "      <td>0.0</td>\n",
       "      <td>753764.0</td>\n",
       "      <td>496698.0</td>\n",
       "      <td>...</td>\n",
       "      <td>0</td>\n",
       "      <td>0</td>\n",
       "      <td>0</td>\n",
       "      <td>0</td>\n",
       "      <td>0</td>\n",
       "      <td>0</td>\n",
       "      <td>0</td>\n",
       "      <td>0</td>\n",
       "      <td>0</td>\n",
       "      <td>1</td>\n",
       "    </tr>\n",
       "    <tr>\n",
       "      <th>7490</th>\n",
       "      <td>1368000.0</td>\n",
       "      <td>0.0</td>\n",
       "      <td>20.0</td>\n",
       "      <td>26.7</td>\n",
       "      <td>897842.0</td>\n",
       "      <td>0.0</td>\n",
       "      <td>69.0</td>\n",
       "      <td>0.0</td>\n",
       "      <td>683650.0</td>\n",
       "      <td>517199.0</td>\n",
       "      <td>...</td>\n",
       "      <td>0</td>\n",
       "      <td>0</td>\n",
       "      <td>0</td>\n",
       "      <td>0</td>\n",
       "      <td>0</td>\n",
       "      <td>0</td>\n",
       "      <td>0</td>\n",
       "      <td>0</td>\n",
       "      <td>0</td>\n",
       "      <td>1</td>\n",
       "    </tr>\n",
       "    <tr>\n",
       "      <th>7491</th>\n",
       "      <td>2833185.0</td>\n",
       "      <td>0.0</td>\n",
       "      <td>18.0</td>\n",
       "      <td>21.3</td>\n",
       "      <td>280170.0</td>\n",
       "      <td>0.0</td>\n",
       "      <td>6.0</td>\n",
       "      <td>0.0</td>\n",
       "      <td>437404.0</td>\n",
       "      <td>108889.0</td>\n",
       "      <td>...</td>\n",
       "      <td>0</td>\n",
       "      <td>0</td>\n",
       "      <td>0</td>\n",
       "      <td>0</td>\n",
       "      <td>0</td>\n",
       "      <td>0</td>\n",
       "      <td>0</td>\n",
       "      <td>0</td>\n",
       "      <td>0</td>\n",
       "      <td>1</td>\n",
       "    </tr>\n",
       "    <tr>\n",
       "      <th>7493</th>\n",
       "      <td>1257610.0</td>\n",
       "      <td>0.0</td>\n",
       "      <td>14.0</td>\n",
       "      <td>16.5</td>\n",
       "      <td>821480.0</td>\n",
       "      <td>0.0</td>\n",
       "      <td>58.0</td>\n",
       "      <td>0.0</td>\n",
       "      <td>448052.0</td>\n",
       "      <td>167428.0</td>\n",
       "      <td>...</td>\n",
       "      <td>0</td>\n",
       "      <td>0</td>\n",
       "      <td>0</td>\n",
       "      <td>0</td>\n",
       "      <td>0</td>\n",
       "      <td>0</td>\n",
       "      <td>0</td>\n",
       "      <td>0</td>\n",
       "      <td>1</td>\n",
       "      <td>0</td>\n",
       "    </tr>\n",
       "    <tr>\n",
       "      <th>7496</th>\n",
       "      <td>1533984.0</td>\n",
       "      <td>0.0</td>\n",
       "      <td>10.0</td>\n",
       "      <td>26.5</td>\n",
       "      <td>686312.0</td>\n",
       "      <td>0.0</td>\n",
       "      <td>43.0</td>\n",
       "      <td>0.0</td>\n",
       "      <td>444048.0</td>\n",
       "      <td>456399.0</td>\n",
       "      <td>...</td>\n",
       "      <td>0</td>\n",
       "      <td>0</td>\n",
       "      <td>0</td>\n",
       "      <td>0</td>\n",
       "      <td>0</td>\n",
       "      <td>0</td>\n",
       "      <td>0</td>\n",
       "      <td>0</td>\n",
       "      <td>1</td>\n",
       "      <td>0</td>\n",
       "    </tr>\n",
       "  </tbody>\n",
       "</table>\n",
       "<p>2585 rows × 43 columns</p>\n",
       "</div>"
      ],
      "text/plain": [
       "      Annual Income  Tax Liens  Number of Open Accounts  \\\n",
       "6         1511108.0        0.0                      9.0   \n",
       "7         1040060.0        0.0                     13.0   \n",
       "18        1401744.0        0.0                      9.0   \n",
       "20        1651993.0        0.0                     11.0   \n",
       "21        1047394.0        0.0                      7.0   \n",
       "...             ...        ...                      ...   \n",
       "7489      1394942.0        0.0                     15.0   \n",
       "7490      1368000.0        0.0                     20.0   \n",
       "7491      2833185.0        0.0                     18.0   \n",
       "7493      1257610.0        0.0                     14.0   \n",
       "7496      1533984.0        0.0                     10.0   \n",
       "\n",
       "      Years of Credit History  Maximum Open Credit  Number of Credit Problems  \\\n",
       "6                        20.3             388124.0                        0.0   \n",
       "7                        12.0             330374.0                        0.0   \n",
       "18                       29.0             387222.0                        0.0   \n",
       "20                       26.5             663894.0                        0.0   \n",
       "21                       34.4             401104.0                        0.0   \n",
       "...                       ...                  ...                        ...   \n",
       "7489                     27.2            1441396.0                        0.0   \n",
       "7490                     26.7             897842.0                        0.0   \n",
       "7491                     21.3             280170.0                        0.0   \n",
       "7493                     16.5             821480.0                        0.0   \n",
       "7496                     26.5             686312.0                        0.0   \n",
       "\n",
       "      Months since last delinquent  Bankruptcies  Current Loan Amount  \\\n",
       "6                             73.0           0.0           99999999.0   \n",
       "7                             18.0           0.0             250888.0   \n",
       "18                            40.0           0.0             553586.0   \n",
       "20                            44.0           0.0             585090.0   \n",
       "21                            45.0           0.0             324852.0   \n",
       "...                            ...           ...                  ...   \n",
       "7489                          35.0           0.0             753764.0   \n",
       "7490                          69.0           0.0             683650.0   \n",
       "7491                           6.0           0.0             437404.0   \n",
       "7493                          58.0           0.0             448052.0   \n",
       "7496                          43.0           0.0             444048.0   \n",
       "\n",
       "      Current Credit Balance  ...  Purpose_major purchase  \\\n",
       "6                    51623.0  ...                       0   \n",
       "7                    89015.0  ...                       0   \n",
       "18                  201989.0  ...                       0   \n",
       "20                  252852.0  ...                       0   \n",
       "21                  183597.0  ...                       0   \n",
       "...                      ...  ...                     ...   \n",
       "7489                496698.0  ...                       0   \n",
       "7490                517199.0  ...                       0   \n",
       "7491                108889.0  ...                       0   \n",
       "7493                167428.0  ...                       0   \n",
       "7496                456399.0  ...                       0   \n",
       "\n",
       "      Purpose_medical bills  Purpose_moving  Purpose_other  \\\n",
       "6                         0               0              0   \n",
       "7                         0               0              1   \n",
       "18                        0               0              0   \n",
       "20                        0               0              0   \n",
       "21                        0               0              0   \n",
       "...                     ...             ...            ...   \n",
       "7489                      0               0              0   \n",
       "7490                      0               0              0   \n",
       "7491                      0               0              0   \n",
       "7493                      0               0              0   \n",
       "7496                      0               0              0   \n",
       "\n",
       "      Purpose_small business  Purpose_take a trip  Purpose_vacation  \\\n",
       "6                          0                    0                 0   \n",
       "7                          0                    0                 0   \n",
       "18                         0                    0                 0   \n",
       "20                         0                    0                 0   \n",
       "21                         0                    0                 0   \n",
       "...                      ...                  ...               ...   \n",
       "7489                       0                    0                 0   \n",
       "7490                       0                    0                 0   \n",
       "7491                       0                    0                 0   \n",
       "7493                       0                    0                 0   \n",
       "7496                       0                    0                 0   \n",
       "\n",
       "      Purpose_wedding  Term_Long Term  Term_Short Term  \n",
       "6                   0               0                1  \n",
       "7                   0               0                1  \n",
       "18                  0               1                0  \n",
       "20                  0               1                0  \n",
       "21                  0               0                1  \n",
       "...               ...             ...              ...  \n",
       "7489                0               0                1  \n",
       "7490                0               0                1  \n",
       "7491                0               0                1  \n",
       "7493                0               1                0  \n",
       "7496                0               1                0  \n",
       "\n",
       "[2585 rows x 43 columns]"
      ]
     },
     "execution_count": 286,
     "metadata": {},
     "output_type": "execute_result"
    }
   ],
   "source": [
    "X"
   ]
  },
  {
   "cell_type": "code",
   "execution_count": 287,
   "metadata": {},
   "outputs": [
    {
     "data": {
      "text/plain": [
       "6       0\n",
       "7       1\n",
       "18      1\n",
       "20      0\n",
       "21      1\n",
       "       ..\n",
       "7489    1\n",
       "7490    1\n",
       "7491    0\n",
       "7493    1\n",
       "7496    1\n",
       "Name: Credit Default, Length: 2585, dtype: int64"
      ]
     },
     "execution_count": 287,
     "metadata": {},
     "output_type": "execute_result"
    }
   ],
   "source": [
    "y"
   ]
  },
  {
   "cell_type": "code",
   "execution_count": 313,
   "metadata": {},
   "outputs": [
    {
     "name": "stdout",
     "output_type": "stream",
     "text": [
      "[02:37:59] WARNING: C:/Users/Administrator/workspace/xgboost-win64_release_1.3.0/src/learner.cc:1061: Starting in XGBoost 1.3.0, the default evaluation metric used with the objective 'binary:logistic' was changed from 'error' to 'logloss'. Explicitly set eval_metric if you'd like to restore the old behavior.\n",
      "f1 class 1: TRAIN = 0.789, TEST = 0.7769\n"
     ]
    }
   ],
   "source": [
    "# Переводим категориальные признаки в количественные\n",
    "df = pd.get_dummies(df)\n",
    "\n",
    "# после перевода в категориальные данные появляется столбец \n",
    "# 'Years in current job_< 1 year', необходимо заменить знак <\n",
    "#df_clean = df\n",
    "regex = re.compile(r\"\\[|\\]|<\", re.IGNORECASE)\n",
    "df.columns = [regex.sub(\"_\", col) if any(x in str(col) for x in set(('[', ']', '<'))) \\\n",
    "                   else col for col in df.columns.values]\n",
    "\n",
    "\n",
    "# формируем выборки\n",
    "X = df.drop(columns=[TARGET_NAME])\n",
    "y = df[TARGET_NAME]\n",
    "\n",
    "X_train, X_test, y_train, y_test = train_test_split(X, y, \n",
    "                                                    shuffle=True,\n",
    "                                                    test_size=0.3,\n",
    "                                                    random_state=21,\n",
    "                                                    stratify=y)\n",
    "# обучаем модель\n",
    "model = xgb.XGBClassifier(random_state=21,\n",
    "                           #n_estimators=n_estimators,\n",
    "                          #n_estimators=100,\n",
    "                          reg_lambda=10000,\n",
    "                         )\n",
    "model.fit(X_train, y_train)\n",
    "\n",
    "# предсказываем\n",
    "y_train_pred = model.predict(X_train)\n",
    "y_test_pred = model.predict(X_test)\n",
    "\n",
    "# считаем метрики\n",
    "#evaluate_preds(model, X_train, X_test, y_train, y_test)\n",
    "accuracy_train = accuracy_score(y_train, y_train_pred)\n",
    "accuracy_test = accuracy_score(y_test, y_test_pred)\n",
    "\n",
    "print(f'f1 class 1: TRAIN = {round(accuracy_train, 4)}, TEST = {round(accuracy_test, 4)}')"
   ]
  },
  {
   "cell_type": "code",
   "execution_count": 314,
   "metadata": {},
   "outputs": [
    {
     "name": "stdout",
     "output_type": "stream",
     "text": [
      "[02:38:22] WARNING: C:/Users/Administrator/workspace/xgboost-win64_release_1.3.0/src/learner.cc:1061: Starting in XGBoost 1.3.0, the default evaluation metric used with the objective 'binary:logistic' was changed from 'error' to 'logloss'. Explicitly set eval_metric if you'd like to restore the old behavior.\n",
      "f1 class 1: TRAIN = 0.8066\n"
     ]
    }
   ],
   "source": [
    "# Переводим категориальные признаки в количественные\n",
    "df_train = pd.get_dummies(df_train)\n",
    "df_test = pd.get_dummies(df_test)\n",
    "\n",
    "# после перевода в категориальные данные появляется столбец \n",
    "# 'Years in current job_< 1 year', необходимо заменить знак <\n",
    "#df_clean = df\n",
    "regex = re.compile(r\"\\[|\\]|<\", re.IGNORECASE)\n",
    "df_train.columns = [regex.sub(\"_\", col) if any(x in str(col) for x in set(('[', ']', '<'))) \\\n",
    "                   else col for col in df_train.columns.values]\n",
    "df_test.columns = [regex.sub(\"_\", col) if any(x in str(col) for x in set(('[', ']', '<'))) \\\n",
    "                   else col for col in df_test.columns.values]\n",
    "\n",
    "# формируем выборки\n",
    "X = df_train.drop(columns=[TARGET_NAME])\n",
    "y = df_train[TARGET_NAME]\n",
    "\n",
    "\n",
    "# X_train, X_test, y_train, y_test = train_test_split(X, y, \n",
    "#                                                     shuffle=True,\n",
    "#                                                     test_size=0.3,\n",
    "#                                                     random_state=21,\n",
    "#                                                     stratify=y)\n",
    "# обучаем модель\n",
    "model = xgb.XGBClassifier(random_state=21,\n",
    "                          # n_estimators=n_estimators,\n",
    "                          #n_estimators=5,\n",
    "                          reg_lambda=10000,\n",
    "                         )\n",
    "model.fit(X, y)\n",
    "\n",
    "# предсказываем\n",
    "y_train_pred = model.predict(X)\n",
    "y_pred = model.predict(df_test)\n",
    "\n",
    "# считаем метрики\n",
    "#evaluate_preds(model, X_train, X_test, y_train, y_test)\n",
    "accuracy_train = accuracy_score(y, y_train_pred)\n",
    "\n",
    "print(f'f1 class 1: TRAIN = {round(accuracy_train, 4)}')"
   ]
  },
  {
   "cell_type": "code",
   "execution_count": 290,
   "metadata": {},
   "outputs": [
    {
     "data": {
      "text/plain": [
       "array([0, 1, 1, ..., 0, 0, 1], dtype=int64)"
      ]
     },
     "execution_count": 290,
     "metadata": {},
     "output_type": "execute_result"
    }
   ],
   "source": [
    "y_pred"
   ]
  },
  {
   "cell_type": "code",
   "execution_count": 315,
   "metadata": {},
   "outputs": [
    {
     "name": "stdout",
     "output_type": "stream",
     "text": [
      "Done!\n"
     ]
    }
   ],
   "source": [
    "submission = pd.DataFrame()\n",
    "submission['Credit Default'] = y_pred\n",
    "submission.to_csv(f'data/AKalinichenko_xgb_drop_NaN_lambda10000_predictions.csv', \n",
    "                  index_label='Id', \n",
    "                  header=['Credit Default'], \n",
    "                  index=True, \n",
    "                  encoding='utf-8')\n",
    "print('Done!')"
   ]
  },
  {
   "cell_type": "markdown",
   "metadata": {},
   "source": [
    "Model | Processing | Train | Test | Private | Public\n",
    "---|---|---|---|--|---\n",
    " 1 | мода? | | | 0.50455 | 0.48577\n",
    "XGB | Drop NaN n_estimators=5 | 0.8563 | 0.8041 |0.48820 | 0.42458\n",
    "XGB | Drop NAN + lambda=10000 | 0.789 | 0.7769 | 0.51692 | 0.40601"
   ]
  }
 ],
 "metadata": {
  "kernelspec": {
   "display_name": "Python 3",
   "language": "python",
   "name": "python3"
  },
  "language_info": {
   "codemirror_mode": {
    "name": "ipython",
    "version": 3
   },
   "file_extension": ".py",
   "mimetype": "text/x-python",
   "name": "python",
   "nbconvert_exporter": "python",
   "pygments_lexer": "ipython3",
   "version": "3.8.5"
  },
  "toc": {
   "base_numbering": 1,
   "nav_menu": {},
   "number_sections": true,
   "sideBar": true,
   "skip_h1_title": false,
   "title_cell": "Table of Contents",
   "title_sidebar": "Contents",
   "toc_cell": false,
   "toc_position": {},
   "toc_section_display": true,
   "toc_window_display": true
  },
  "varInspector": {
   "cols": {
    "lenName": 16,
    "lenType": 16,
    "lenVar": 40
   },
   "kernels_config": {
    "python": {
     "delete_cmd_postfix": "",
     "delete_cmd_prefix": "del ",
     "library": "var_list.py",
     "varRefreshCmd": "print(var_dic_list())"
    },
    "r": {
     "delete_cmd_postfix": ") ",
     "delete_cmd_prefix": "rm(",
     "library": "var_list.r",
     "varRefreshCmd": "cat(var_dic_list()) "
    }
   },
   "types_to_exclude": [
    "module",
    "function",
    "builtin_function_or_method",
    "instance",
    "_Feature"
   ],
   "window_display": false
  }
 },
 "nbformat": 4,
 "nbformat_minor": 4
}
