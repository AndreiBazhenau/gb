{
 "cells": [
  {
   "cell_type": "code",
   "execution_count": 45,
   "metadata": {},
   "outputs": [],
   "source": [
    "import matplotlib.pyplot as plt\n",
    "%matplotlib inline"
   ]
  },
  {
   "cell_type": "markdown",
   "metadata": {},
   "source": [
    "1. Постройте график зависимости весов всех признаков от lambda в самописной L2-регуляризации (на данных про ЕГЭ). Сделайте вывод."
   ]
  },
  {
   "cell_type": "code",
   "execution_count": 31,
   "metadata": {},
   "outputs": [],
   "source": [
    "# стаж преподавателя, стоимость урока\n",
    "X = np.array([[   1,    1,  500,    1],\n",
    "              [   1,    1,  700,    1],\n",
    "              [   1,    2,  750,    2],\n",
    "              [   1,    5,  600,    1],\n",
    "              [   1,    3, 1450,    2],\n",
    "              [   1,    0,  800,    1],\n",
    "              [   1,    5, 1500,    3],\n",
    "              [   1,   10, 2000,    3],\n",
    "              [   1,    1,  450,    1],\n",
    "              [   1,    2, 1000,    2]])\n",
    "\n",
    "# полученный балл ЕГЭ\n",
    "y = [45, 55, 50, 55, 60, 35, 75, 80, 50, 60]"
   ]
  },
  {
   "cell_type": "code",
   "execution_count": 94,
   "metadata": {},
   "outputs": [],
   "source": [
    "def standart_scale(X):\n",
    "    mean = X.mean()\n",
    "    std = X.std()\n",
    "    return (X - mean) / std"
   ]
  },
  {
   "cell_type": "code",
   "execution_count": 95,
   "metadata": {},
   "outputs": [],
   "source": [
    "def calc_mse(y, y_pred):\n",
    "    err = np.mean((y - y_pred)**2)\n",
    "    return err"
   ]
  },
  {
   "cell_type": "code",
   "execution_count": 5,
   "metadata": {},
   "outputs": [
    {
     "data": {
      "text/plain": [
       "array([[ 1.        , -0.70710678, -0.97958969,  1.        ],\n",
       "       [ 1.        , -0.70710678, -0.56713087,  1.        ],\n",
       "       [ 1.        , -0.35355339, -0.46401617,  2.        ],\n",
       "       [ 1.        ,  0.70710678, -0.77336028,  1.        ],\n",
       "       [ 1.        ,  0.        ,  0.97958969,  2.        ],\n",
       "       [ 1.        , -1.06066017, -0.36090146,  1.        ],\n",
       "       [ 1.        ,  0.70710678,  1.08270439,  3.        ],\n",
       "       [ 1.        ,  2.47487373,  2.11385144,  3.        ],\n",
       "       [ 1.        , -0.70710678, -1.08270439,  1.        ],\n",
       "       [ 1.        , -0.35355339,  0.05155735,  2.        ]])"
      ]
     },
     "execution_count": 5,
     "metadata": {},
     "output_type": "execute_result"
    }
   ],
   "source": [
    "# стандартизируем 2-й и 3-й признаки с изменением типа на float\n",
    "X_st = X.copy().astype(np.float64)\n",
    "X_st[:, 1] = standart_scale(X_st[:, 1])\n",
    "X_st[:, 2] = standart_scale(X_st[:, 2])\n",
    "X_st"
   ]
  },
  {
   "cell_type": "code",
   "execution_count": 6,
   "metadata": {},
   "outputs": [],
   "source": [
    "def gradient_descent_reg_l2(X, y, iterations, eta=1e-4, reg=1e-8):\n",
    "    W = np.random.randn(X.shape[1])\n",
    "    n = X.shape[0]\n",
    "    \n",
    "    for i in range(0, iterations):\n",
    "        y_pred = np.dot(X, W)\n",
    "        err = calc_mse(y, y_pred)\n",
    "        \n",
    "        dQ = 2/n * X.T @ (y_pred - y) # градиент функции ошибки\n",
    "        dReg = reg * W # градиент регуляризации\n",
    "        W -= eta * dQ + dReg\n",
    "        if i % (iterations / 10) == 0:\n",
    "            print(f'Iter: {i}, weights: {W}, error {err}')\n",
    "    print(f'Final MSE: {calc_mse(y, np.dot(X, W))}')\n",
    "    return W"
   ]
  },
  {
   "cell_type": "code",
   "execution_count": 7,
   "metadata": {
    "scrolled": true
   },
   "outputs": [
    {
     "name": "stdout",
     "output_type": "stream",
     "text": [
      "Iter: 0, weights: [1.2138283  0.94802748 0.32665191 2.09505932], error 3320.472359805036\n",
      "Iter: 500, weights: [22.90320343  5.12621228 -7.04881497 19.36753023], error 40.4546432985403\n",
      "Iter: 1000, weights: [27.39674569  5.92837677 -6.01386534 16.82353596], error 33.982831979220066\n",
      "Iter: 1500, weights: [30.49088944  6.02787509 -4.84303311 15.05703046], error 30.58197776462747\n",
      "Iter: 2000, weights: [32.70033796  6.05180169 -3.95929384 13.79407707], error 28.637023180535607\n",
      "Iter: 2500, weights: [34.2862581   6.0642476  -3.3201705  12.88738745], error 27.492392460335388\n",
      "Iter: 3000, weights: [35.42543956  6.07271563 -2.8606046  12.23608831], error 26.800118649774912\n",
      "Iter: 3500, weights: [36.24380663  6.07875182 -2.53041325 11.76820542], error 26.369862504734602\n",
      "Iter: 4000, weights: [36.83171472  6.08308348 -2.29320178 11.43208209], error 26.09537943731932\n",
      "Iter: 4500, weights: [37.25406382  6.08619484 -2.12279023 11.1906134 ], error 25.916054176896505\n",
      "Final MSE: 25.796446219071775\n"
     ]
    }
   ],
   "source": [
    "W = gradient_descent_reg_l2(X_st, y, iterations=5000, eta=1e-2, reg=1e-4)"
   ]
  },
  {
   "cell_type": "code",
   "execution_count": 8,
   "metadata": {},
   "outputs": [
    {
     "name": "stdout",
     "output_type": "stream",
     "text": [
      "reg (lambda)=0.0\n",
      "Iter: 0, weights: [0.04129159 0.66692523 1.62645421 2.16794763], error 3426.7048404078137\n",
      "Iter: 500, weights: [22.73333545  5.14220569 -7.17992091 19.50826348], error 40.7436628407505\n",
      "Iter: 1000, weights: [27.68328365  6.08946879 -6.10422549 16.70795301], error 33.68853298171241\n",
      "Iter: 1500, weights: [31.25491223  6.21130049 -4.75977288 14.66907001], error 29.91221801422527\n",
      "Iter: 2000, weights: [33.93488693  6.24106069 -3.68857857 13.13718098], error 27.760929907163238\n",
      "Iter: 2500, weights: [35.95710089  6.25700821 -2.8737081  11.98105947], error 26.533862239942017\n",
      "Iter: 3000, weights: [37.48418395  6.26836784 -2.25766412 11.10798735], error 25.833941503499563\n",
      "Iter: 3500, weights: [38.63749203  6.27687539 -1.79233302 10.44860952], error 25.43470576707694\n",
      "Iter: 4000, weights: [39.50852493  6.28329317 -1.44088533  9.95061591], error 25.20698116004815\n",
      "Iter: 4500, weights: [40.16637161  6.28813941 -1.17545404  9.57450673], error 25.077086734463872\n",
      "Final MSE: 25.00299477743705\n",
      "reg (lambda)=0.05\n",
      "Iter: 0, weights: [ 0.99876169  1.53843052 -0.4984962   0.44440869], error 3767.1277426514607\n",
      "Iter: 500, weights: [ 8.9390248   0.71204912 -0.12593695 14.83141953], error 540.198180535524\n",
      "Iter: 1000, weights: [ 8.9390248   0.71204912 -0.12593695 14.83141953], error 540.1981805355274\n",
      "Iter: 1500, weights: [ 8.9390248   0.71204912 -0.12593695 14.83141953], error 540.1981805355274\n",
      "Iter: 2000, weights: [ 8.9390248   0.71204912 -0.12593695 14.83141953], error 540.1981805355274\n",
      "Iter: 2500, weights: [ 8.9390248   0.71204912 -0.12593695 14.83141953], error 540.1981805355274\n",
      "Iter: 3000, weights: [ 8.9390248   0.71204912 -0.12593695 14.83141953], error 540.1981805355274\n",
      "Iter: 3500, weights: [ 8.9390248   0.71204912 -0.12593695 14.83141953], error 540.1981805355274\n",
      "Iter: 4000, weights: [ 8.9390248   0.71204912 -0.12593695 14.83141953], error 540.1981805355274\n",
      "Iter: 4500, weights: [ 8.9390248   0.71204912 -0.12593695 14.83141953], error 540.1981805355274\n",
      "Final MSE: 540.1981805355274\n",
      "reg (lambda)=0.1\n",
      "Iter: 0, weights: [0.66543142 0.85114861 1.36726285 2.52140756], error 3260.240859909732\n",
      "Iter: 500, weights: [ 6.31330114  0.71544684  0.3759989  10.95305481], error 1037.1616579116062\n",
      "Iter: 1000, weights: [ 6.31330114  0.71544684  0.3759989  10.95305481], error 1037.1616579116062\n",
      "Iter: 1500, weights: [ 6.31330114  0.71544684  0.3759989  10.95305481], error 1037.1616579116062\n",
      "Iter: 2000, weights: [ 6.31330114  0.71544684  0.3759989  10.95305481], error 1037.1616579116062\n",
      "Iter: 2500, weights: [ 6.31330114  0.71544684  0.3759989  10.95305481], error 1037.1616579116062\n",
      "Iter: 3000, weights: [ 6.31330114  0.71544684  0.3759989  10.95305481], error 1037.1616579116062\n",
      "Iter: 3500, weights: [ 6.31330114  0.71544684  0.3759989  10.95305481], error 1037.1616579116062\n",
      "Iter: 4000, weights: [ 6.31330114  0.71544684  0.3759989  10.95305481], error 1037.1616579116062\n",
      "Iter: 4500, weights: [ 6.31330114  0.71544684  0.3759989  10.95305481], error 1037.1616579116062\n",
      "Final MSE: 1037.1616579116062\n",
      "reg (lambda)=0.15000000000000002\n",
      "Iter: 0, weights: [ 0.0218262  -0.9886574  -0.36428652  1.74144395], error 3676.9244056325797\n",
      "Iter: 500, weights: [4.91133043 0.64884369 0.45779347 8.67864195], error 1405.7862457209253\n",
      "Iter: 1000, weights: [4.91133043 0.64884369 0.45779347 8.67864195], error 1405.7862457209253\n",
      "Iter: 1500, weights: [4.91133043 0.64884369 0.45779347 8.67864195], error 1405.7862457209253\n",
      "Iter: 2000, weights: [4.91133043 0.64884369 0.45779347 8.67864195], error 1405.7862457209253\n",
      "Iter: 2500, weights: [4.91133043 0.64884369 0.45779347 8.67864195], error 1405.7862457209253\n",
      "Iter: 3000, weights: [4.91133043 0.64884369 0.45779347 8.67864195], error 1405.7862457209253\n",
      "Iter: 3500, weights: [4.91133043 0.64884369 0.45779347 8.67864195], error 1405.7862457209253\n",
      "Iter: 4000, weights: [4.91133043 0.64884369 0.45779347 8.67864195], error 1405.7862457209253\n",
      "Iter: 4500, weights: [4.91133043 0.64884369 0.45779347 8.67864195], error 1405.7862457209253\n",
      "Final MSE: 1405.7862457209253\n",
      "reg (lambda)=0.2\n",
      "Iter: 0, weights: [ 2.49804783  0.56981948 -0.72180504  1.5076148 ], error 3329.5339252772865\n",
      "Iter: 500, weights: [4.02577108 0.57845744 0.45319992 7.18618712], error 1679.2368700057687\n",
      "Iter: 1000, weights: [4.02577108 0.57845744 0.45319992 7.18618712], error 1679.2368700057687\n",
      "Iter: 1500, weights: [4.02577108 0.57845744 0.45319992 7.18618712], error 1679.2368700057687\n",
      "Iter: 2000, weights: [4.02577108 0.57845744 0.45319992 7.18618712], error 1679.2368700057687\n",
      "Iter: 2500, weights: [4.02577108 0.57845744 0.45319992 7.18618712], error 1679.2368700057687\n",
      "Iter: 3000, weights: [4.02577108 0.57845744 0.45319992 7.18618712], error 1679.2368700057687\n",
      "Iter: 3500, weights: [4.02577108 0.57845744 0.45319992 7.18618712], error 1679.2368700057687\n",
      "Iter: 4000, weights: [4.02577108 0.57845744 0.45319992 7.18618712], error 1679.2368700057687\n",
      "Iter: 4500, weights: [4.02577108 0.57845744 0.45319992 7.18618712], error 1679.2368700057687\n",
      "Final MSE: 1679.2368700057687\n",
      "reg (lambda)=0.25\n",
      "Iter: 0, weights: [0.56235773 1.50419604 1.47972756 1.15530086], error 3670.8860835494897\n",
      "Iter: 500, weights: [3.41303878 0.51702864 0.42720453 6.13175086], error 1887.6470491671\n",
      "Iter: 1000, weights: [3.41303878 0.51702864 0.42720453 6.13175086], error 1887.6470491671\n",
      "Iter: 1500, weights: [3.41303878 0.51702864 0.42720453 6.13175086], error 1887.6470491671\n",
      "Iter: 2000, weights: [3.41303878 0.51702864 0.42720453 6.13175086], error 1887.6470491671\n",
      "Iter: 2500, weights: [3.41303878 0.51702864 0.42720453 6.13175086], error 1887.6470491671\n",
      "Iter: 3000, weights: [3.41303878 0.51702864 0.42720453 6.13175086], error 1887.6470491671\n",
      "Iter: 3500, weights: [3.41303878 0.51702864 0.42720453 6.13175086], error 1887.6470491671\n",
      "Iter: 4000, weights: [3.41303878 0.51702864 0.42720453 6.13175086], error 1887.6470491671\n",
      "Iter: 4500, weights: [3.41303878 0.51702864 0.42720453 6.13175086], error 1887.6470491671\n",
      "Final MSE: 1887.6470491671\n",
      "reg (lambda)=0.30000000000000004\n",
      "Iter: 0, weights: [ 1.15547463 -0.43831987  0.15000898  2.20640374], error 3336.22414438151\n",
      "Iter: 500, weights: [2.96311108 0.46545563 0.39710991 5.34718981], error 2050.9355609564873\n",
      "Iter: 1000, weights: [2.96311108 0.46545563 0.39710991 5.34718981], error 2050.9355609564873\n",
      "Iter: 1500, weights: [2.96311108 0.46545563 0.39710991 5.34718981], error 2050.9355609564873\n",
      "Iter: 2000, weights: [2.96311108 0.46545563 0.39710991 5.34718981], error 2050.9355609564873\n",
      "Iter: 2500, weights: [2.96311108 0.46545563 0.39710991 5.34718981], error 2050.9355609564873\n",
      "Iter: 3000, weights: [2.96311108 0.46545563 0.39710991 5.34718981], error 2050.9355609564873\n",
      "Iter: 3500, weights: [2.96311108 0.46545563 0.39710991 5.34718981], error 2050.9355609564873\n",
      "Iter: 4000, weights: [2.96311108 0.46545563 0.39710991 5.34718981], error 2050.9355609564873\n",
      "Iter: 4500, weights: [2.96311108 0.46545563 0.39710991 5.34718981], error 2050.9355609564873\n",
      "Final MSE: 2050.9355609564873\n",
      "reg (lambda)=0.35000000000000003\n",
      "Iter: 0, weights: [1.01780641 0.63887687 0.07325471 2.38129356], error 3255.1507313190236\n",
      "Iter: 500, weights: [2.61842713 0.42233225 0.36809343 4.74064594], error 2181.9986861322254\n",
      "Iter: 1000, weights: [2.61842713 0.42233225 0.36809343 4.74064594], error 2181.9986861322254\n",
      "Iter: 1500, weights: [2.61842713 0.42233225 0.36809343 4.74064594], error 2181.9986861322254\n",
      "Iter: 2000, weights: [2.61842713 0.42233225 0.36809343 4.74064594], error 2181.9986861322254\n",
      "Iter: 2500, weights: [2.61842713 0.42233225 0.36809343 4.74064594], error 2181.9986861322254\n",
      "Iter: 3000, weights: [2.61842713 0.42233225 0.36809343 4.74064594], error 2181.9986861322254\n",
      "Iter: 3500, weights: [2.61842713 0.42233225 0.36809343 4.74064594], error 2181.9986861322254\n",
      "Iter: 4000, weights: [2.61842713 0.42233225 0.36809343 4.74064594], error 2181.9986861322254\n",
      "Iter: 4500, weights: [2.61842713 0.42233225 0.36809343 4.74064594], error 2181.9986861322254\n",
      "Final MSE: 2181.9986861322254\n",
      "reg (lambda)=0.4\n",
      "Iter: 0, weights: [ 1.52482893 -0.09607706  0.37840429  1.84547121], error 3373.32449383898\n",
      "Iter: 500, weights: [2.3458052  0.38605149 0.3416337  4.25770052], error 2289.371282218247\n",
      "Iter: 1000, weights: [2.3458052  0.38605149 0.3416337  4.25770052], error 2289.371282218247\n",
      "Iter: 1500, weights: [2.3458052  0.38605149 0.3416337  4.25770052], error 2289.371282218247\n",
      "Iter: 2000, weights: [2.3458052  0.38605149 0.3416337  4.25770052], error 2289.371282218247\n",
      "Iter: 2500, weights: [2.3458052  0.38605149 0.3416337  4.25770052], error 2289.371282218247\n"
     ]
    },
    {
     "name": "stdout",
     "output_type": "stream",
     "text": [
      "Iter: 3000, weights: [2.3458052  0.38605149 0.3416337  4.25770052], error 2289.371282218247\n",
      "Iter: 3500, weights: [2.3458052  0.38605149 0.3416337  4.25770052], error 2289.371282218247\n",
      "Iter: 4000, weights: [2.3458052  0.38605149 0.3416337  4.25770052], error 2289.371282218247\n",
      "Iter: 4500, weights: [2.3458052  0.38605149 0.3416337  4.25770052], error 2289.371282218247\n",
      "Final MSE: 2289.371282218247\n",
      "reg (lambda)=0.45\n",
      "Iter: 0, weights: [ 0.92402964  0.36843052 -0.10614731  1.49712073], error 3690.09289857642\n",
      "Iter: 500, weights: [2.12472722 0.35524675 0.31797587 3.86406488], error 2378.8702163810535\n",
      "Iter: 1000, weights: [2.12472722 0.35524675 0.31797587 3.86406488], error 2378.8702163810535\n",
      "Iter: 1500, weights: [2.12472722 0.35524675 0.31797587 3.86406488], error 2378.8702163810535\n",
      "Iter: 2000, weights: [2.12472722 0.35524675 0.31797587 3.86406488], error 2378.8702163810535\n",
      "Iter: 2500, weights: [2.12472722 0.35524675 0.31797587 3.86406488], error 2378.8702163810535\n",
      "Iter: 3000, weights: [2.12472722 0.35524675 0.31797587 3.86406488], error 2378.8702163810535\n",
      "Iter: 3500, weights: [2.12472722 0.35524675 0.31797587 3.86406488], error 2378.8702163810535\n",
      "Iter: 4000, weights: [2.12472722 0.35524675 0.31797587 3.86406488], error 2378.8702163810535\n",
      "Iter: 4500, weights: [2.12472722 0.35524675 0.31797587 3.86406488], error 2378.8702163810535\n",
      "Final MSE: 2378.8702163810535\n",
      "reg (lambda)=0.5\n",
      "Iter: 0, weights: [ 1.14440903  0.11387326 -1.34506974  2.43041309], error 3284.793863170728\n",
      "Iter: 500, weights: [1.94180758 0.32883691 0.2969514  3.53706047], error 2454.5756153211664\n",
      "Iter: 1000, weights: [1.94180758 0.32883691 0.2969514  3.53706047], error 2454.5756153211664\n",
      "Iter: 1500, weights: [1.94180758 0.32883691 0.2969514  3.53706047], error 2454.5756153211664\n",
      "Iter: 2000, weights: [1.94180758 0.32883691 0.2969514  3.53706047], error 2454.5756153211664\n",
      "Iter: 2500, weights: [1.94180758 0.32883691 0.2969514  3.53706047], error 2454.5756153211664\n",
      "Iter: 3000, weights: [1.94180758 0.32883691 0.2969514  3.53706047], error 2454.5756153211664\n",
      "Iter: 3500, weights: [1.94180758 0.32883691 0.2969514  3.53706047], error 2454.5756153211664\n",
      "Iter: 4000, weights: [1.94180758 0.32883691 0.2969514  3.53706047], error 2454.5756153211664\n",
      "Iter: 4500, weights: [1.94180758 0.32883691 0.2969514  3.53706047], error 2454.5756153211664\n",
      "Final MSE: 2454.5756153211664\n",
      "reg (lambda)=0.55\n",
      "Iter: 0, weights: [0.92980736 0.25094213 0.73790286 2.3712406 ], error 3215.6719290729543\n",
      "Iter: 500, weights: [1.78793509 0.30598298 0.27827133 3.26108828], error 2519.425256825663\n",
      "Iter: 1000, weights: [1.78793509 0.30598298 0.27827133 3.26108828], error 2519.425256825663\n",
      "Iter: 1500, weights: [1.78793509 0.30598298 0.27827133 3.26108828], error 2519.425256825663\n",
      "Iter: 2000, weights: [1.78793509 0.30598298 0.27827133 3.26108828], error 2519.425256825663\n",
      "Iter: 2500, weights: [1.78793509 0.30598298 0.27827133 3.26108828], error 2519.425256825663\n",
      "Iter: 3000, weights: [1.78793509 0.30598298 0.27827133 3.26108828], error 2519.425256825663\n",
      "Iter: 3500, weights: [1.78793509 0.30598298 0.27827133 3.26108828], error 2519.425256825663\n",
      "Iter: 4000, weights: [1.78793509 0.30598298 0.27827133 3.26108828], error 2519.425256825663\n",
      "Iter: 4500, weights: [1.78793509 0.30598298 0.27827133 3.26108828], error 2519.425256825663\n",
      "Final MSE: 2519.425256825663\n",
      "reg (lambda)=0.6000000000000001\n",
      "Iter: 0, weights: [1.03938698 0.41441813 0.54347939 2.22272984], error 3254.6621380374336\n",
      "Iter: 500, weights: [1.65668992 0.28603451 0.26163374 3.02506621], error 2575.584179484523\n",
      "Iter: 1000, weights: [1.65668992 0.28603451 0.26163374 3.02506621], error 2575.584179484523\n",
      "Iter: 1500, weights: [1.65668992 0.28603451 0.26163374 3.02506621], error 2575.584179484523\n",
      "Iter: 2000, weights: [1.65668992 0.28603451 0.26163374 3.02506621], error 2575.584179484523\n",
      "Iter: 2500, weights: [1.65668992 0.28603451 0.26163374 3.02506621], error 2575.584179484523\n",
      "Iter: 3000, weights: [1.65668992 0.28603451 0.26163374 3.02506621], error 2575.584179484523\n",
      "Iter: 3500, weights: [1.65668992 0.28603451 0.26163374 3.02506621], error 2575.584179484523\n",
      "Iter: 4000, weights: [1.65668992 0.28603451 0.26163374 3.02506621], error 2575.584179484523\n",
      "Iter: 4500, weights: [1.65668992 0.28603451 0.26163374 3.02506621], error 2575.584179484523\n",
      "Final MSE: 2575.584179484523\n",
      "reg (lambda)=0.65\n",
      "Iter: 0, weights: [1.18754923 0.80231529 0.14201237 2.23487487], error 3166.48535061115\n",
      "Iter: 500, weights: [1.54341679 0.26848413 0.2467613  2.8209045 ], error 2624.6810826444153\n",
      "Iter: 1000, weights: [1.54341679 0.26848413 0.2467613  2.8209045 ], error 2624.6810826444153\n",
      "Iter: 1500, weights: [1.54341679 0.26848413 0.2467613  2.8209045 ], error 2624.6810826444153\n",
      "Iter: 2000, weights: [1.54341679 0.26848413 0.2467613  2.8209045 ], error 2624.6810826444153\n",
      "Iter: 2500, weights: [1.54341679 0.26848413 0.2467613  2.8209045 ], error 2624.6810826444153\n",
      "Iter: 3000, weights: [1.54341679 0.26848413 0.2467613  2.8209045 ], error 2624.6810826444153\n",
      "Iter: 3500, weights: [1.54341679 0.26848413 0.2467613  2.8209045 ], error 2624.6810826444153\n",
      "Iter: 4000, weights: [1.54341679 0.26848413 0.2467613  2.8209045 ], error 2624.6810826444153\n",
      "Iter: 4500, weights: [1.54341679 0.26848413 0.2467613  2.8209045 ], error 2624.6810826444153\n",
      "Final MSE: 2624.6810826444153\n",
      "reg (lambda)=0.7000000000000001\n",
      "Iter: 0, weights: [ 0.88744547  0.15676251 -0.12541144  2.22170655], error 3400.7074590140596\n",
      "Iter: 500, weights: [1.44465691 0.25293247 0.23341183 2.64255955], error 2667.963673275027\n",
      "Iter: 1000, weights: [1.44465691 0.25293247 0.23341183 2.64255955], error 2667.963673275027\n",
      "Iter: 1500, weights: [1.44465691 0.25293247 0.23341183 2.64255955], error 2667.963673275027\n",
      "Iter: 2000, weights: [1.44465691 0.25293247 0.23341183 2.64255955], error 2667.963673275027\n",
      "Iter: 2500, weights: [1.44465691 0.25293247 0.23341183 2.64255955], error 2667.963673275027\n",
      "Iter: 3000, weights: [1.44465691 0.25293247 0.23341183 2.64255955], error 2667.963673275027\n",
      "Iter: 3500, weights: [1.44465691 0.25293247 0.23341183 2.64255955], error 2667.963673275027\n",
      "Iter: 4000, weights: [1.44465691 0.25293247 0.23341183 2.64255955], error 2667.963673275027\n",
      "Iter: 4500, weights: [1.44465691 0.25293247 0.23341183 2.64255955], error 2667.963673275027\n",
      "Final MSE: 2667.963673275027\n",
      "reg (lambda)=0.75\n",
      "Iter: 0, weights: [1.56984971 0.30484047 0.61853271 1.90942714], error 3203.0477522418723\n",
      "Iter: 500, weights: [1.35778641 0.23906207 0.22137836 2.48542547], error 2706.4033346816786\n",
      "Iter: 1000, weights: [1.35778641 0.23906207 0.22137836 2.48542547], error 2706.4033346816786\n",
      "Iter: 1500, weights: [1.35778641 0.23906207 0.22137836 2.48542547], error 2706.4033346816786\n",
      "Iter: 2000, weights: [1.35778641 0.23906207 0.22137836 2.48542547], error 2706.4033346816786\n",
      "Iter: 2500, weights: [1.35778641 0.23906207 0.22137836 2.48542547], error 2706.4033346816786\n",
      "Iter: 3000, weights: [1.35778641 0.23906207 0.22137836 2.48542547], error 2706.4033346816786\n",
      "Iter: 3500, weights: [1.35778641 0.23906207 0.22137836 2.48542547], error 2706.4033346816786\n",
      "Iter: 4000, weights: [1.35778641 0.23906207 0.22137836 2.48542547], error 2706.4033346816786\n",
      "Iter: 4500, weights: [1.35778641 0.23906207 0.22137836 2.48542547], error 2706.4033346816786\n",
      "Final MSE: 2706.4033346816786\n",
      "reg (lambda)=0.8\n",
      "Iter: 0, weights: [1.2703201  0.00496786 0.2445322  2.089524  ], error 3262.123380633507\n",
      "Iter: 500, weights: [1.28077849 0.22661799 0.21048567 2.34593055], error 2740.7672736036743\n",
      "Iter: 1000, weights: [1.28077849 0.22661799 0.21048567 2.34593055], error 2740.7672736036743\n",
      "Iter: 1500, weights: [1.28077849 0.22661799 0.21048567 2.34593055], error 2740.7672736036743\n",
      "Iter: 2000, weights: [1.28077849 0.22661799 0.21048567 2.34593055], error 2740.7672736036743\n",
      "Iter: 2500, weights: [1.28077849 0.22661799 0.21048567 2.34593055], error 2740.7672736036743\n",
      "Iter: 3000, weights: [1.28077849 0.22661799 0.21048567 2.34593055], error 2740.7672736036743\n",
      "Iter: 3500, weights: [1.28077849 0.22661799 0.21048567 2.34593055], error 2740.7672736036743\n",
      "Iter: 4000, weights: [1.28077849 0.22661799 0.21048567 2.34593055], error 2740.7672736036743\n",
      "Iter: 4500, weights: [1.28077849 0.22661799 0.21048567 2.34593055], error 2740.7672736036743\n",
      "Final MSE: 2740.7672736036743\n",
      "reg (lambda)=0.8500000000000001\n",
      "Iter: 0, weights: [1.03117884 0.25897493 0.39189826 2.10238182], error 3355.6316370574214\n",
      "Iter: 500, weights: [1.21204262 0.21539357 0.2005858  2.22126239], error 2771.669286765749\n",
      "Iter: 1000, weights: [1.21204262 0.21539357 0.2005858  2.22126239], error 2771.669286765749\n",
      "Iter: 1500, weights: [1.21204262 0.21539357 0.2005858  2.22126239], error 2771.669286765749\n",
      "Iter: 2000, weights: [1.21204262 0.21539357 0.2005858  2.22126239], error 2771.669286765749\n",
      "Iter: 2500, weights: [1.21204262 0.21539357 0.2005858  2.22126239], error 2771.669286765749\n",
      "Iter: 3000, weights: [1.21204262 0.21539357 0.2005858  2.22126239], error 2771.669286765749\n"
     ]
    },
    {
     "name": "stdout",
     "output_type": "stream",
     "text": [
      "Iter: 3500, weights: [1.21204262 0.21539357 0.2005858  2.22126239], error 2771.669286765749\n",
      "Iter: 4000, weights: [1.21204262 0.21539357 0.2005858  2.22126239], error 2771.669286765749\n",
      "Iter: 4500, weights: [1.21204262 0.21539357 0.2005858  2.22126239], error 2771.669286765749\n",
      "Final MSE: 2771.669286765749\n",
      "reg (lambda)=0.9\n",
      "Iter: 0, weights: [1.09337907 0.20436551 0.2630995  2.09579152], error 3402.177798316344\n",
      "Iter: 500, weights: [1.15031305 0.20521968 0.19155373 2.10917633], error 2799.606156084879\n",
      "Iter: 1000, weights: [1.15031305 0.20521968 0.19155373 2.10917633], error 2799.606156084879\n",
      "Iter: 1500, weights: [1.15031305 0.20521968 0.19155373 2.10917633], error 2799.606156084879\n",
      "Iter: 2000, weights: [1.15031305 0.20521968 0.19155373 2.10917633], error 2799.606156084879\n",
      "Iter: 2500, weights: [1.15031305 0.20521968 0.19155373 2.10917633], error 2799.606156084879\n",
      "Iter: 3000, weights: [1.15031305 0.20521968 0.19155373 2.10917633], error 2799.606156084879\n",
      "Iter: 3500, weights: [1.15031305 0.20521968 0.19155373 2.10917633], error 2799.606156084879\n",
      "Iter: 4000, weights: [1.15031305 0.20521968 0.19155373 2.10917633], error 2799.606156084879\n",
      "Iter: 4500, weights: [1.15031305 0.20521968 0.19155373 2.10917633], error 2799.606156084879\n",
      "Final MSE: 2799.606156084879\n",
      "reg (lambda)=0.9500000000000001\n",
      "Iter: 0, weights: [1.09431357 0.20509503 0.16994373 2.08889311], error 3166.107448881611\n",
      "Iter: 500, weights: [1.09456989 0.19595673 0.18328353 2.00785905], error 2824.984186175308\n",
      "Iter: 1000, weights: [1.09456989 0.19595673 0.18328353 2.00785905], error 2824.984186175308\n",
      "Iter: 1500, weights: [1.09456989 0.19595673 0.18328353 2.00785905], error 2824.984186175308\n",
      "Iter: 2000, weights: [1.09456989 0.19595673 0.18328353 2.00785905], error 2824.984186175308\n",
      "Iter: 2500, weights: [1.09456989 0.19595673 0.18328353 2.00785905], error 2824.984186175308\n",
      "Iter: 3000, weights: [1.09456989 0.19595673 0.18328353 2.00785905], error 2824.984186175308\n",
      "Iter: 3500, weights: [1.09456989 0.19595673 0.18328353 2.00785905], error 2824.984186175308\n",
      "Iter: 4000, weights: [1.09456989 0.19595673 0.18328353 2.00785905], error 2824.984186175308\n",
      "Iter: 4500, weights: [1.09456989 0.19595673 0.18328353 2.00785905], error 2824.984186175308\n",
      "Final MSE: 2824.984186175308\n"
     ]
    },
    {
     "data": {
      "image/png": "[encoded data removed]",
      "text/plain": [
       "<Figure size 432x288 with 1 Axes>"
      ]
     },
     "metadata": {
      "needs_background": "light"
     },
     "output_type": "display_data"
    }
   ],
   "source": [
    "W_list = []\n",
    "reg_list = []\n",
    "\n",
    "for reg in np.arange(0, 1, 0.05):\n",
    "    print(f'reg (lambda)={reg}')\n",
    "    W = gradient_descent_reg_l2(X_st, y, iterations=5000, eta=1e-2, reg=reg)\n",
    "    W_list.append(W)\n",
    "    reg_list.append(reg)\n",
    "\n",
    "plt.plot(reg_list, W_list)\n",
    "plt.title('График зависимости весов всех признаков \\n от lambda в самописной L2-регуляризации')\n",
    "#plt.xticks(np.arange(0, 101, 10))\n",
    "plt.xlabel('reg (lambda)')\n",
    "plt.ylabel('Веса признаков');"
   ]
  },
  {
   "cell_type": "markdown",
   "metadata": {},
   "source": [
    "2. Напишите функцию наподобие gradient_descent_reg_l2, но для применения L1-регуляризации."
   ]
  },
  {
   "cell_type": "code",
   "execution_count": 9,
   "metadata": {},
   "outputs": [],
   "source": [
    "def gradient_descent_reg_l1(X, y, iterations, eta=1e-4, reg=1e-8):\n",
    "    W = np.random.randn(X.shape[1])\n",
    "    n = X.shape[0]\n",
    "    \n",
    "    for i in range(0, iterations):\n",
    "        y_pred = np.dot(X, W)\n",
    "        err = calc_mse(y, y_pred)\n",
    "        \n",
    "        dQ = 2/n * X.T @ (y_pred - y) # градиент функции ошибки\n",
    "        dReg = reg * np.sign(W) # градиент регуляризации L1\n",
    "        #dReg = reg * W # градиент регуляризации L2\n",
    "        W -= eta * dQ + dReg\n",
    "        if i % (iterations / 10) == 0:\n",
    "            print(f'Iter: {i}, weights: {W}, error {err}')\n",
    "    print(f'Final MSE: {calc_mse(y, np.dot(X, W))}')\n",
    "    return W"
   ]
  },
  {
   "cell_type": "code",
   "execution_count": 10,
   "metadata": {},
   "outputs": [
    {
     "name": "stdout",
     "output_type": "stream",
     "text": [
      "Iter: 0, weights: [ 0.42747626 -0.50088234  0.40681144  1.39399242], error 3617.679152341959\n",
      "Iter: 500, weights: [22.89291839  5.13103041 -7.10128951 19.41463174], error 40.49253582433205\n",
      "Iter: 1000, weights: [27.79896679  6.06821734 -6.03343917 16.63910182], error 33.54220516200858\n",
      "Iter: 1500, weights: [31.33922637  6.18879511 -4.7006086  14.61811998], error 29.82876206572569\n",
      "Iter: 2000, weights: [33.99569698  6.2182749  -3.6387893  13.09966539], error 27.713976544220202\n",
      "Iter: 2500, weights: [36.00017915  6.23408055 -2.83106197 11.95368127], error 26.507666718776925\n",
      "Iter: 3000, weights: [37.51387235  6.24534036 -2.2204194  11.08826446], error 25.819477070623613\n",
      "Iter: 3500, weights: [38.65706797  6.25377329 -1.75916841 10.43466821], error 25.426843793984442\n",
      "Iter: 4000, weights: [39.52046345  6.2601348  -1.41080229  9.94104111], error 25.202817364566933\n",
      "Iter: 4500, weights: [40.17254199  6.26493854 -1.14769836  9.56822974], error 25.074981051017495\n",
      "Final MSE: 25.002024266818406\n"
     ]
    }
   ],
   "source": [
    "W = gradient_descent_reg_l1(X_st, y, iterations=5000, eta=1e-2, reg=1e-4)"
   ]
  },
  {
   "cell_type": "code",
   "execution_count": 11,
   "metadata": {},
   "outputs": [
    {
     "name": "stdout",
     "output_type": "stream",
     "text": [
      "reg (lambda)=0.0\n",
      "Iter: 0, weights: [0.25288753 1.67334682 0.13910722 2.66361764], error 3297.330543888392\n",
      "Iter: 500, weights: [22.43270495  5.26872313 -7.43147041 19.68434176], error 41.1829480509722\n",
      "Iter: 1000, weights: [27.43265502  6.10112339 -6.21901048 16.85168478], error 33.998524019253495\n",
      "Iter: 1500, weights: [31.06315242  6.21130378 -4.83857774 14.7787506 ], error 30.089690904827943\n",
      "Iter: 2000, weights: [33.78980116  6.24014039 -3.74726878 13.22013538], error 27.86216787405421\n",
      "Iter: 2500, weights: [35.84749778  6.25621638 -2.9179471  12.04372312], error 26.591608593021817\n",
      "Iter: 3000, weights: [37.40140344  6.26775966 -2.29106648 11.15531532], error 25.86688010270858\n",
      "Iter: 3500, weights: [38.57497182  6.27641499 -1.81755918 10.48435407], error 25.453493988876215\n",
      "Iter: 4000, weights: [39.46130655  6.28294535 -1.45993727  9.97761196], error 25.217697987317003\n",
      "Iter: 4500, weights: [40.13070997  6.2878767  -1.18984299  9.59489548], error 25.08319962731436\n",
      "Final MSE: 25.006481579833316\n",
      "reg (lambda)=0.05\n",
      "Iter: 0, weights: [-0.9463309  -0.34405434 -0.6637874   4.14821842], error 3171.476856194106\n",
      "Iter: 500, weights: [18.27235424 -0.03267258 -1.69454186 20.6926786 ], error 70.4956635707877\n",
      "Iter: 1000, weights: [ 2.30125351e+01 -1.94591006e-02  1.69500233e-03  1.80206934e+01], error 61.90450452698466\n",
      "Iter: 1500, weights: [ 2.49194725e+01 -2.32117583e-02 -3.85223860e-02  1.70536234e+01], error 55.98272558915791\n",
      "Iter: 2000, weights: [ 2.54025546e+01  5.11339811e-02 -1.50617943e-02  1.68073887e+01], error 54.60589591514789\n",
      "Iter: 2500, weights: [ 2.55292183e+01  4.27725493e-02 -2.50112953e-03  1.67442535e+01], error 54.33177747900545\n",
      "Iter: 3000, weights: [ 2.55604191e+01  2.48987858e-02 -5.28981665e-02  1.67268336e+01], error 54.42924049856515\n",
      "Iter: 3500, weights: [25.56771568  0.0627472  -0.03660369 16.7258949 ], error 54.37126213992015\n",
      "Iter: 4000, weights: [ 2.55693632e+01  7.16471982e-03 -1.03761531e-02  1.67245638e+01], error 54.30460538538058\n",
      "Iter: 4500, weights: [2.55698941e+01 5.41200463e-02 1.93817047e-02 1.67244168e+01], error 54.51678654184893\n",
      "Final MSE: 54.47479191674495\n",
      "reg (lambda)=0.1\n",
      "Iter: 0, weights: [0.26720103 0.27800245 0.13886098 2.69227446], error 3305.5368296814995\n",
      "Iter: 500, weights: [ 1.62070218e+01 -1.90879918e-02 -7.15541860e-02  2.06128850e+01], error 97.7840457620962\n",
      "Iter: 1000, weights: [17.58776468 -0.07377323 -0.13292626 19.91147326], error 90.1457733343167\n",
      "Iter: 1500, weights: [17.93994076 -0.04466131 -0.02134396 19.73161447], error 89.11908295423228\n",
      "Iter: 2000, weights: [18.02893678 -0.0802795  -0.04808903 19.68727659], error 88.46320871413886\n",
      "Iter: 2500, weights: [ 1.80497528e+01  1.72644513e-02 -1.02465611e-01  1.96760565e+01], error 87.98301648218849\n",
      "Iter: 3000, weights: [18.05527149 -0.05483939 -0.12056366 19.67196077], error 87.91068080529021\n",
      "Iter: 3500, weights: [18.05956762  0.07490922 -0.13778354 19.66978232], error 89.01294189863191\n",
      "Iter: 4000, weights: [ 1.80623720e+01  6.29890143e-03 -1.53518334e-01  1.96685743e+01], error 88.85407674003012\n",
      "Iter: 4500, weights: [18.06462108 -0.06500603  0.0280171  19.66632098], error 88.81717503874178\n",
      "Final MSE: 88.64801528396188\n",
      "reg (lambda)=0.15000000000000002\n",
      "Iter: 0, weights: [ 0.66401941  0.19388261 -0.0772058   3.83928853], error 3016.402679657288\n",
      "Iter: 500, weights: [10.48404295  0.05350391 -0.12523588 22.6514894 ], error 144.78385452893065\n",
      "Iter: 1000, weights: [ 1.05366346e+01 -2.69451163e-02 -3.87290057e-03  2.26259657e+01], error 145.320476672753\n",
      "Iter: 1500, weights: [ 1.05488929e+01 -1.97806348e-02 -8.13091794e-02  2.26195523e+01], error 144.4651051779053\n",
      "Iter: 2000, weights: [ 1.05502270e+01  1.20574226e-02 -1.29127582e-01  2.26180639e+01], error 144.09818679738925\n",
      "Iter: 2500, weights: [10.54416925  0.07990795 -0.14644981 22.62415796], error 144.16388914735734\n",
      "Iter: 3000, weights: [10.54596883 -0.18336852 -0.19558234 22.61970529], error 143.84523350665287\n",
      "Iter: 3500, weights: [10.54766017 -0.14446145 -0.24312209 22.61651438], error 146.6643723084857\n",
      "Iter: 4000, weights: [10.54287486 -0.07289625  0.03875109 22.62294097], error 145.54154564121131\n",
      "Iter: 4500, weights: [ 1.05450730e+01 -3.17489259e-02 -5.55121655e-03  2.26229776e+01], error 145.2007760147948\n",
      "Final MSE: 144.85121443350855\n",
      "reg (lambda)=0.2\n",
      "Iter: 0, weights: [-5.99087939e-01 -1.59796044e+00 -1.14589123e-03  1.07839063e+00], error 3960.5919723549778\n",
      "Iter: 500, weights: [ 4.90378595 -0.04397173 -0.22496384 24.61895077], error 203.89387087837207\n",
      "Iter: 1000, weights: [ 3.55458342  0.06980702  0.02833682 25.30212254], error 220.90441102742057\n",
      "Iter: 1500, weights: [ 3.16781003e+00  2.17293142e-02 -7.14365589e-02  2.55037489e+01], error 222.8724252808614\n",
      "Iter: 2000, weights: [ 3.08913773  0.09106533 -0.18577445 25.53621136], error 222.67586027754925\n",
      "Iter: 2500, weights: [ 3.06635905  0.05135956 -0.02670481 25.5502373 ], error 224.85074104928572\n",
      "Iter: 3000, weights: [ 3.04810450e+00  1.94109675e-02 -2.59955104e-01  2.55624085e+01], error 221.4284194825313\n",
      "Iter: 3500, weights: [ 3.03327163e+00 -1.14765089e-02 -8.91073920e-02  2.55717811e+01], error 223.73547269899888\n",
      "Iter: 4000, weights: [ 3.02365913 -0.06335126 -0.33559542 25.56924907], error 225.84100435073992\n",
      "Iter: 4500, weights: [ 3.01663362 -0.0946406  -0.15862066 25.58119025], error 222.32922322878593\n",
      "Final MSE: 224.61043948622296\n",
      "reg (lambda)=0.25\n",
      "Iter: 0, weights: [ 0.35013801 -1.13604715  0.0179191   1.87312458], error 3633.402146294053\n",
      "Iter: 500, weights: [ 0.44116862 -0.04644571  0.02661036 26.24279332], error 264.28328261473234\n",
      "Iter: 1000, weights: [ 0.48192827 -0.0830755   0.06936171 26.26531784], error 275.37953835659476\n",
      "Iter: 1500, weights: [ 7.41127946e-03 -1.24983859e-01 -3.93978670e-01  2.62580392e+01], error 275.1808926904701\n",
      "Iter: 2000, weights: [ 0.0360378  -0.18960512 -0.38206852 26.23954891], error 278.6837798768277\n",
      "Iter: 2500, weights: [ 0.05098674 -0.1894189  -0.30500093 26.24242738], error 271.65644977572094\n",
      "Iter: 3000, weights: [ 0.07899069 -0.23755852 -0.27798602 26.23268344], error 271.25798716344127\n",
      "Iter: 3500, weights: [ 0.10553117 -0.28186108 -0.2480886  26.22226369], error 270.9908492707169\n",
      "Iter: 4000, weights: [ 0.13242     0.16853866 -0.21529138 26.21487758], error 270.6350700865835\n",
      "Iter: 4500, weights: [ 0.15153501  0.15284807 -0.15857551 26.21105616], error 270.9959271091253\n",
      "Final MSE: 270.952776701753\n",
      "reg (lambda)=0.30000000000000004\n",
      "Iter: 0, weights: [ 0.38709047 -0.61867195  1.18827534  3.03917965], error 3194.2457415486033\n",
      "Iter: 500, weights: [ 0.02627442 -0.19907194 -0.11651125 25.49810724], error 294.698555051359\n",
      "Iter: 1000, weights: [ 2.04867753e-01 -1.47711466e-02 -3.94732989e-01  2.54732907e+01], error 292.2437592275015\n",
      "Iter: 1500, weights: [ 0.39816553  0.1802713  -0.05187964 25.48786269], error 284.1836418042274\n",
      "Iter: 2000, weights: [ 1.21750056e-03 -2.43839259e-01 -3.41091241e-01  2.54981124e+01], error 300.5568384636293\n",
      "Iter: 2500, weights: [ 1.83844790e-01 -5.54367959e-02 -1.96550966e-02  2.54800562e+01], error 289.19495052985104\n",
      "Iter: 3000, weights: [ 0.37619242  0.12158417 -0.3067835  25.47237252], error 289.8172185277508\n",
      "Iter: 3500, weights: [-1.20181785e-02 -2.98960954e-01  8.68952627e-03  2.55005994e+01], error 296.7590369933158\n",
      "Iter: 4000, weights: [ 0.15979944 -0.10212779 -0.25172826 25.47666716], error 286.5881289881469\n",
      "Iter: 4500, weights: [ 0.35752312  0.08324129  0.07080996 25.48476256], error 286.4519845050405\n",
      "Final MSE: 293.757787729538\n",
      "reg (lambda)=0.35000000000000003\n",
      "Iter: 0, weights: [ 1.46577124  0.33288163 -0.05613909  2.33521224], error 3364.7948192379035\n",
      "Iter: 500, weights: [ 0.5776855   0.11734824  0.05076584 24.78397962], error 321.3937702059858\n",
      "Iter: 1000, weights: [ 0.47315021 -0.31263892 -0.22174673 24.75844795], error 302.47577975584136\n",
      "Iter: 1500, weights: [ 0.37871652 -0.04585726  0.2140993  24.75601681], error 308.449768862367\n",
      "Iter: 2000, weights: [ 0.2793761   0.22490555 -0.05208746 24.74344017], error 310.04296115484163\n",
      "Iter: 2500, weights: [ 0.20181796 -0.23442277 -0.35253087 24.74416045], error 319.22051234887874\n",
      "Iter: 3000, weights: [1.20609139e-01 2.42151716e-02 7.28320137e-02 2.47566884e+01], error 314.78484750622533\n",
      "Iter: 3500, weights: [ 0.03542244  0.28517976 -0.19835493 24.76467383], error 315.1130522489402\n",
      "Iter: 4000, weights: [-0.04468813 -0.16623248 -0.48950328 24.76742836], error 324.4003450700154\n",
      "Iter: 4500, weights: [ 0.56121551  0.09966003 -0.05640899 24.7630473 ], error 300.16028057179955\n",
      "Final MSE: 309.87835339728645\n",
      "reg (lambda)=0.4\n",
      "Iter: 0, weights: [1.59741758 0.18369893 0.84419692 2.95158779], error 2954.7377932978693\n",
      "Iter: 500, weights: [ 0.04819559 -0.29887504 -0.16085187 24.02303255], error 343.05251830018904\n"
     ]
    },
    {
     "name": "stdout",
     "output_type": "stream",
     "text": [
      "Iter: 1000, weights: [-0.04379132  0.26508172  0.19182578 24.03646368], error 348.4781446878836\n",
      "Iter: 1500, weights: [ 0.66032049  0.0280042  -0.26009643 24.04005761], error 354.5332990337552\n",
      "Iter: 2000, weights: [ 0.55290715 -0.19250793  0.11833508 24.03997994], error 329.7833590688087\n",
      "Iter: 2500, weights: [ 0.43867431 -0.41186949 -0.3147949  24.0245031 ], error 337.47002961582655\n",
      "Iter: 3000, weights: [ 0.31781865  0.17579232  0.06726227 24.00849719], error 335.86865515262974\n",
      "Iter: 3500, weights: [ 0.22629897 -0.08362773 -0.39439331 24.01211677], error 341.4400491643888\n",
      "Iter: 4000, weights: [ 0.12140209 -0.3063523  -0.02611145 24.01412922], error 342.5625040325698\n",
      "Iter: 4500, weights: [ 0.02665292  0.25844585 -0.46565137 24.02823971], error 348.1883297135749\n",
      "Final MSE: 344.4305314901715\n",
      "reg (lambda)=0.45\n",
      "Iter: 0, weights: [0.84091596 0.53438085 1.00418607 2.46941166], error 3302.335977642094\n",
      "Iter: 500, weights: [ 0.31443075 -0.4175728  -0.1647517  23.29563482], error 363.3238851871047\n",
      "Iter: 1000, weights: [ 0.3355662  -0.48303211  0.28720956 23.2948931 ], error 367.16075438012206\n",
      "Iter: 1500, weights: [ 0.35137766  0.37321892 -0.14940047 23.2927498 ], error 361.91376921765715\n",
      "Iter: 2000, weights: [ 0.37801066  0.33306872  0.29512185 23.29655483], error 365.30658533177996\n",
      "Iter: 2500, weights: [ 0.3968411   0.26027527 -0.16148662 23.28513577], error 360.1782582199718\n",
      "Iter: 3000, weights: [ 0.42935276  0.18533675  0.28797471 23.30157881], error 362.572909815937\n",
      "Iter: 3500, weights: [ 0.45190655  0.14595555 -0.16099255 23.30248732], error 357.0229495105172\n",
      "Iter: 4000, weights: [ 0.46768535  0.08952831  0.2933329  23.29409911], error 361.2822837461941\n",
      "Iter: 4500, weights: [ 4.96204836e-01  1.17490086e-02 -1.61067213e-01  2.33011387e+01], error 355.14186053396025\n",
      "Final MSE: 359.09188624163414\n",
      "reg (lambda)=0.5\n",
      "Iter: 0, weights: [ 0.78580496 -1.13333836  0.37122786  2.55663266], error 3497.189023805045\n",
      "Iter: 500, weights: [ 0.70160199  0.44618674  0.21110343 22.60551768], error 383.23148024322415\n",
      "Iter: 1000, weights: [ 4.28184984e-01 -5.81088022e-02  1.97790319e-02  2.26070224e+01], error 390.28621062225113\n",
      "Iter: 1500, weights: [ 0.15094621  0.42305143 -0.17628971 22.59836432], error 400.66047473990005\n",
      "Iter: 2000, weights: [-0.1187018  -0.10788235 -0.37961112 22.59601305], error 420.9133200569078\n",
      "Iter: 2500, weights: [ 0.60595126  0.36967373 -0.5803756  22.58818914], error 389.4869172938505\n",
      "Iter: 3000, weights: [ 0.3204222  -0.1283401   0.23580612 22.57510168], error 400.95500974450283\n",
      "Iter: 3500, weights: [ 0.04620413  0.35514591  0.04360953 22.57391807], error 407.83570726339383\n",
      "Iter: 4000, weights: [ 0.77810717 -0.13918443 -0.12970912 22.59642237], error 416.94887162648683\n",
      "Iter: 4500, weights: [ 0.4920043   0.31918107 -0.34603787 22.55980476], error 397.45925708909476\n",
      "Final MSE: 409.03120763688923\n",
      "reg (lambda)=0.55\n",
      "Iter: 0, weights: [0.92038925 1.23905374 0.63607207 1.93340903], error 3414.142879395542\n",
      "Iter: 500, weights: [-0.14984638  0.50470557 -0.1584974  21.87199661], error 450.49858827524633\n",
      "Iter: 1000, weights: [ 0.51478815  0.28788224 -0.25419987 21.83329914], error 433.69961832352527\n",
      "Iter: 1500, weights: [ 0.09390767  0.11593507 -0.31584267 21.84479218], error 449.09501334576055\n",
      "Iter: 2000, weights: [ 0.77878192 -0.02826071 -0.34308894 21.88943315], error 463.0248353016649\n",
      "Iter: 2500, weights: [ 0.33283668 -0.2402005  -0.44666348 21.82943336], error 441.2931586586037\n",
      "Iter: 3000, weights: [-0.07951027 -0.41262309 -0.50944575 21.85430278], error 455.4920886620356\n",
      "Iter: 3500, weights: [ 0.57300164 -0.57021206 -0.56114862 21.82922827], error 429.4538962091395\n",
      "Iter: 4000, weights: [ 0.14494238  0.35403419 -0.62165686 21.82931168], error 445.80969907940215\n",
      "Iter: 4500, weights: [ 0.83839942  0.17465243  0.40838443 21.85982366], error 459.83184441356025\n",
      "Final MSE: 434.4650520471699\n",
      "reg (lambda)=0.6000000000000001\n",
      "Iter: 0, weights: [ 0.95783664 -0.32304834  0.66617026  1.57983323], error 3313.09837554537\n",
      "Iter: 500, weights: [ 0.96645013  0.03454063 -0.2158638  21.13381059], error 504.30803958674034\n",
      "Iter: 1000, weights: [ 0.18265373  0.28970167  0.38555491 21.08883698], error 484.82813669175056\n",
      "Iter: 1500, weights: [ 0.63511522 -0.62057245 -0.20604059 21.1144358 ], error 468.9946374027457\n",
      "Iter: 2000, weights: [-0.11817303 -0.34966772  0.40450993 21.12821366], error 496.3986580393827\n",
      "Iter: 2500, weights: [ 0.31518556 -0.08538605 -0.20049448 21.10572685], error 484.99714390500793\n",
      "Iter: 3000, weights: [ 0.76029766  0.18193662  0.40734665 21.11418437], error 458.40628567220426\n",
      "Iter: 3500, weights: [-1.67774565e-02  4.81054200e-01 -1.57037686e-01  2.11024229e+01], error 489.24583379763817\n",
      "Iter: 4000, weights: [ 0.43221939 -0.46351638  0.4377083  21.10649453], error 473.8616754857686\n",
      "Iter: 4500, weights: [ 0.8966731  -0.18305481 -0.15861661 21.14333438], error 499.6616169691947\n",
      "Final MSE: 487.67974745292076\n",
      "reg (lambda)=0.65\n",
      "Iter: 0, weights: [-0.12267863  0.7144897  -0.37227502  2.09902261], error 3715.175935777962\n",
      "Iter: 500, weights: [ 0.35490822  0.22018801 -0.10137207 20.37338679], error 518.1588834239682\n",
      "Iter: 1000, weights: [-0.08873186  0.62334951  0.23417872 20.40585201], error 537.9050469942092\n",
      "Iter: 1500, weights: [ 0.77266821 -0.4079664   0.47283065 20.37943696], error 502.01322144915105\n",
      "Iter: 2000, weights: [ 3.15543526e-01 -3.59711705e-03 -4.94968763e-01  2.03869862e+01], error 523.9123217992768\n",
      "Iter: 2500, weights: [-0.11182256  0.25529744 -0.25867415 20.37712803], error 546.0848578202366\n",
      "Iter: 3000, weights: [ 0.738854   -0.64340393  0.08265493 20.40532314], error 499.115542459345\n",
      "Iter: 3500, weights: [ 0.29319297 -0.38036565  0.31390785 20.36084617], error 524.0728048070584\n",
      "Iter: 4000, weights: [-0.14319591  0.02241022 -0.64202608 20.41217879], error 542.5188321069285\n",
      "Iter: 4500, weights: [ 0.71738534  0.28211449 -0.41218831 20.37647365], error 506.9749768571607\n",
      "Final MSE: 519.9978560870506\n",
      "reg (lambda)=0.7000000000000001\n",
      "Iter: 0, weights: [ 1.72997985  0.69946383 -0.2124106   2.79341987], error 3048.505786033952\n",
      "Iter: 500, weights: [ 0.37222678  0.04487005 -0.17482502 19.68137329], error 569.3099596749832\n",
      "Iter: 1000, weights: [ 0.53612753  0.0345989  -0.41005087 19.67241638], error 560.8082147729758\n",
      "Iter: 1500, weights: [ 0.70975417  0.04140565 -0.62352784 19.69835263], error 549.4791338351178\n",
      "Iter: 2000, weights: [ 0.86177424  0.06546623  0.5889716  19.70777933], error 540.6713872515413\n",
      "Iter: 2500, weights: [ 1.0325018   0.04595193  0.34799541 19.71313978], error 599.0391654218022\n",
      "Iter: 3000, weights: [-0.20388678  0.0429355   0.11521218 19.706932  ], error 590.5533682621489\n",
      "Iter: 3500, weights: [-0.03944934  0.05751991 -0.09166335 19.71844445], error 580.8145503335443\n",
      "Iter: 4000, weights: [ 0.10628928  0.03928988 -0.32928144 19.67889442], error 581.5884845200197\n",
      "Iter: 4500, weights: [ 0.26345186  0.0422014  -0.5393594  19.67972275], error 572.767277738911\n",
      "Final MSE: 561.5864220034013\n",
      "reg (lambda)=0.75\n",
      "Iter: 0, weights: [1.25597532 0.86977917 0.75967614 2.64509231], error 2964.0702837646886\n",
      "Iter: 500, weights: [ 0.49601177  0.5157247   0.43673121 18.884453  ], error 615.3764549643494\n",
      "Iter: 1000, weights: [ 0.89525871  0.52249127 -0.14760099 18.89753545], error 598.1945739669932\n",
      "Iter: 1500, weights: [-0.20523949  0.52644334 -0.73126059 18.91213883], error 650.6216434722413\n",
      "Iter: 2000, weights: [ 0.18763411  0.52717896  0.17449529 18.90895535], error 628.3480565500711\n",
      "Iter: 2500, weights: [ 0.57135028  0.5278114  -0.41826801 18.89105347], error 613.6314828486205\n",
      "Iter: 3000, weights: [ 0.94549845  0.54414343  0.51922996 18.87581606], error 593.5969395207128\n",
      "Iter: 3500, weights: [-0.14518056  0.54437732 -0.08370414 18.89325397], error 646.3354088192499\n",
      "Iter: 4000, weights: [ 0.24804297  0.52262905 -0.69624903 18.87542273], error 630.2236547504342\n",
      "Iter: 4500, weights: [ 0.64023829  0.52320489  0.2075058  18.86848915], error 608.6095178201723\n",
      "Final MSE: 664.4077265987955\n",
      "reg (lambda)=0.8\n",
      "Iter: 0, weights: [ 0.97699626 -0.20682644 -0.52919072  1.990867  ], error 3298.856985498146\n",
      "Iter: 500, weights: [ 0.48523219  0.53253508 -0.33197664 18.16528613], error 672.6935590118891\n",
      "Iter: 1000, weights: [ 0.25051257 -0.06280455 -0.44210211 18.12824808], error 687.3178969579722\n",
      "Iter: 1500, weights: [-0.04835256 -0.28747671 -0.25055943 18.19209559], error 699.0346071957008\n",
      "Iter: 2000, weights: [-0.27102577  0.69910103 -0.39150332 18.1586171 ], error 714.0187597880853\n",
      "Iter: 2500, weights: [ 1.12056129  0.15662144 -0.46606799 18.19314015], error 723.4099913876937\n",
      "Iter: 3000, weights: [ 0.85145176 -0.26191479 -0.44386294 18.18700641], error 650.1781314753068\n"
     ]
    },
    {
     "name": "stdout",
     "output_type": "stream",
     "text": [
      "Iter: 3500, weights: [ 0.56459962 -0.69486295 -0.4123885  18.15802082], error 668.2346960917096\n",
      "Iter: 4000, weights: [ 0.27181336  0.57288667 -0.32466791 18.16220358], error 684.4231048474106\n",
      "Iter: 4500, weights: [ 0.04949138 -0.05008053 -0.4652295  18.12277675], error 698.6303495403465\n",
      "Final MSE: 710.1752480951859\n",
      "reg (lambda)=0.8500000000000001\n",
      "Iter: 0, weights: [ 1.89326855 -0.01550102  0.90085819  1.22036538], error 3150.712681036638\n",
      "Iter: 500, weights: [ 0.59744619 -0.31227469 -0.81236062 17.46613003], error 718.5479906893654\n",
      "Iter: 1000, weights: [ 0.01868742 -0.06736503 -0.89487717 17.43763786], error 753.313964467215\n",
      "Iter: 1500, weights: [ 1.22675415  0.08936689  0.61529307 17.48324023], error 781.9456252533515\n",
      "Iter: 2000, weights: [ 0.60538102  0.48660275  0.63386797 17.45942173], error 720.6916745712214\n",
      "Iter: 2500, weights: [1.08840650e-02 7.85844880e-01 5.84242525e-01 1.74303578e+01], error 755.9710668302421\n",
      "Iter: 3000, weights: [ 1.2084383  -0.77174087  0.39882407 17.45871819], error 781.6634673372639\n",
      "Iter: 3500, weights: [ 0.59963033 -0.3700531   0.40770546 17.44805543], error 718.9291080139726\n",
      "Iter: 4000, weights: [ 0.0257017  -0.11928867  0.30291289 17.41451815], error 753.7930778861598\n",
      "Iter: 4500, weights: [ 1.18870034  0.2089981   0.2842811  17.50390354], error 781.526204509709\n",
      "Final MSE: 721.0989907815826\n",
      "reg (lambda)=0.9\n",
      "Iter: 0, weights: [ 0.90771189 -0.34086554  0.20442752  2.7867119 ], error 3510.194721899602\n",
      "Iter: 500, weights: [1.56212935e-02 5.96147850e-01 1.59540948e-01 1.67175521e+01], error 818.9755952041107\n",
      "Iter: 1000, weights: [ 1.43397772  0.92792826  0.78468811 16.72562327], error 839.4855539741071\n",
      "Iter: 1500, weights: [ 1.02870659 -0.47373116 -0.37753214 16.70358895], error 758.9251435986737\n",
      "Iter: 2000, weights: [ 0.62539161 -0.10160835  0.28325057 16.69921142], error 779.5895125943665\n",
      "Iter: 2500, weights: [ 0.23840223  0.31278587 -0.81382391 16.7517497 ], error 803.3296758519496\n",
      "Iter: 3000, weights: [-0.17567128  0.7384179  -0.08330921 16.77480227], error 825.1835213678132\n",
      "Iter: 3500, weights: [ 1.23137705 -0.77121834  0.48203709 16.72577973], error 851.3023003084879\n",
      "Iter: 4000, weights: [ 0.78338852 -0.26090341 -0.58121725 16.70950331], error 771.5760354628208\n",
      "Iter: 4500, weights: [ 0.35961984  0.11833664  0.10500203 16.68795217], error 804.5291903185572\n",
      "Final MSE: 818.5621297594091\n",
      "reg (lambda)=0.9500000000000001\n",
      "Iter: 0, weights: [1.51169833 0.00216377 0.93004141 1.89988431], error 3732.512987413308\n",
      "Iter: 500, weights: [ 0.7236871   0.75465859 -0.76422343 15.95538329], error 844.5359348190777\n",
      "Iter: 1000, weights: [ 0.71951618 -0.86466733  0.37034464 15.903724  ], error 849.2255541180245\n",
      "Iter: 1500, weights: [ 0.68366841 -0.35268424 -0.17991064 15.95119569], error 845.2994915413983\n",
      "Iter: 2000, weights: [ 0.71040668 -0.02946584 -0.92422976 15.96854752], error 839.6197715650729\n",
      "Iter: 2500, weights: [ 0.72071384  0.31647407  0.23323618 15.96348024], error 847.9163298621628\n",
      "Iter: 3000, weights: [ 0.68109463  0.74627927 -0.41513182 15.93174829], error 849.6906019271203\n",
      "Iter: 3500, weights: [ 0.66316681 -0.67656244 -0.95351819 16.01632181], error 839.8467739350323\n",
      "Iter: 4000, weights: [ 0.68447374 -0.36942005  0.15516405 15.99386847], error 839.6508599046387\n",
      "Iter: 4500, weights: [ 0.68308306 -0.08369853 -0.62974697 15.93499806], error 845.3427598114602\n",
      "Final MSE: 849.5444537129667\n"
     ]
    },
    {
     "data": {
      "image/png": "[encoded data removed]",
      "text/plain": [
       "<Figure size 432x288 with 1 Axes>"
      ]
     },
     "metadata": {
      "needs_background": "light"
     },
     "output_type": "display_data"
    }
   ],
   "source": [
    "W_list = []\n",
    "reg_list = []\n",
    "\n",
    "for reg in np.arange(0, 1, 0.05):\n",
    "    print(f'reg (lambda)={reg}')\n",
    "    W = gradient_descent_reg_l1(X_st, y, iterations=5000, eta=1e-2, reg=reg)\n",
    "    W_list.append(W)\n",
    "    reg_list.append(reg)\n",
    "\n",
    "plt.plot(reg_list, W_list)\n",
    "plt.title('График зависимости весов всех признаков \\n от lambda в самописной L1-регуляризации')\n",
    "#plt.xticks(np.arange(0, 101, 10))\n",
    "plt.xlabel('reg (lambda)')\n",
    "plt.ylabel('Веса признаков');\n"
   ]
  },
  {
   "cell_type": "markdown",
   "metadata": {},
   "source": [
    "3. *Можно ли к одному и тому же признаку применить сразу и нормализацию, и стандартизацию?"
   ]
  },
  {
   "cell_type": "markdown",
   "metadata": {},
   "source": [
    "4. *Сгенерируйте датасет при помощи <code>sklearn.datasets.make_regression</code> и обучите линейную модель при помощи градиентного и стохастического градиентного спуска. Нанесите среднеквадратичную ошибку для обоих методов на один график, сделайте выводы о разнице скорости сходимости каждого из методов."
   ]
  },
  {
   "cell_type": "code",
   "execution_count": 89,
   "metadata": {},
   "outputs": [
    {
     "data": {
      "image/png": "[encoded data removed]",
      "text/plain": [
       "<Figure size 432x288 with 1 Axes>"
      ]
     },
     "metadata": {
      "needs_background": "light"
     },
     "output_type": "display_data"
    },
    {
     "data": {
      "text/plain": [
       "array(34.77075996)"
      ]
     },
     "execution_count": 89,
     "metadata": {},
     "output_type": "execute_result"
    }
   ],
   "source": [
    "# sklearn.datasets.make_regression(n_samples=100, n_features=100, *, n_informative=10, n_targets=1, bias=0.0,\n",
    "#          effective_rank=None, tail_strength=0.5, noise=0.0, shuffle=True, coef=False, random_state=None)\n",
    "from sklearn.datasets import make_regression\n",
    "from matplotlib import pyplot\n",
    "# generate regression dataset\n",
    "X, y, coef = make_regression(n_samples=10000, n_features=1, noise=1.8, coef=True)\n",
    "# plot regression dataset\n",
    "pyplot.scatter(X, y)\n",
    "pyplot.show()\n",
    "coef"
   ]
  },
  {
   "cell_type": "code",
   "execution_count": 67,
   "metadata": {},
   "outputs": [],
   "source": [
    "# градиентный спуск\n",
    "def gradient_descent(X, y, iterations, eta):\n",
    "    W = np.random.randn(X.shape[1])\n",
    "    n = X.shape[0]\n",
    "    global err_list_gd\n",
    "    err_list_gd = []\n",
    "    for i in range(0, iterations):\n",
    "        y_pred = np.dot(X, W)\n",
    "        err = calc_mse(y, y_pred)\n",
    "        err_list_gd.append(err)\n",
    "        dQ = 2/n * X.T @ (y_pred - y) # градиент функции ошибки\n",
    "        W -= eta * dQ\n",
    "        if i % (iterations / 10) == 0:\n",
    "            print(f'Iter: {i}, weights: {W}, error {err}')\n",
    "    print(f'Final MSE: {calc_mse(y, np.dot(X, W))}')\n",
    "    return W"
   ]
  },
  {
   "cell_type": "code",
   "execution_count": 91,
   "metadata": {},
   "outputs": [
    {
     "name": "stdout",
     "output_type": "stream",
     "text": [
      "Iter: 0, weights: [-0.38254725], error 1228.3191659401975\n",
      "Iter: 5000, weights: [21.72266198], error 171.9968097799661\n",
      "Iter: 10000, weights: [29.9268535], error 26.491516976272738\n",
      "Iter: 15000, weights: [32.97178095], error 6.4485915279763155\n",
      "Iter: 20000, weights: [34.10188417], error 3.6877375907388625\n",
      "Iter: 25000, weights: [34.52131395], error 3.3074380939201524\n",
      "Iter: 30000, weights: [34.67698234], error 3.2550529585351233\n",
      "Iter: 35000, weights: [34.73475756], error 3.24783706045412\n",
      "Iter: 40000, weights: [34.75620042], error 3.2468430917503452\n",
      "Iter: 45000, weights: [34.76415879], error 3.2467061754894835\n",
      "Final MSE: 3.246687315677882\n"
     ]
    },
    {
     "data": {
      "text/plain": [
       "array([34.76711213])"
      ]
     },
     "execution_count": 91,
     "metadata": {},
     "output_type": "execute_result"
    }
   ],
   "source": [
    "gradient_descent(X, y, iterations=50000, eta=1e-4)"
   ]
  },
  {
   "cell_type": "code",
   "execution_count": 92,
   "metadata": {},
   "outputs": [
    {
     "data": {
      "image/png": "[encoded data removed]",
      "text/plain": [
       "<Figure size 432x288 with 1 Axes>"
      ]
     },
     "metadata": {
      "needs_background": "light"
     },
     "output_type": "display_data"
    }
   ],
   "source": [
    "plt.plot(err_list_gd)\n",
    "plt.title('Графики среднеквадратичной ошибки')\n",
    "#plt.xticks(np.arange(0, 101, 10))\n",
    "#plt.xlabel('reg (lambda)')\n",
    "plt.ylabel('MSE');"
   ]
  },
  {
   "cell_type": "code",
   "execution_count": 71,
   "metadata": {},
   "outputs": [],
   "source": [
    "# стохастический градиентный спуск\n",
    "def stohastic_gradient_descent(X, y, iterations, batch_size, eta=1e-4):\n",
    "    W = np.random.randn(X.shape[1])\n",
    "    n = X.shape[0]\n",
    "    global err_list_sgd\n",
    "    err_list_sgd = []\n",
    "    n_batch = n // batch_size    \n",
    "    if n % batch_size != 0:\n",
    "        n_batch += 1\n",
    "    print(f'amount of batches is {n_batch}')\n",
    "        \n",
    "    for i in range(0, iterations):\n",
    "        \n",
    "        for b in range(n_batch):\n",
    "            start = batch_size * b\n",
    "            end = batch_size * (b + 1)\n",
    "            \n",
    "#             print(b, start, end)\n",
    "            \n",
    "            X_tmp = X[start : end, ]\n",
    "            y_tmp = y[start : end]\n",
    "\n",
    "            y_pred_tmp = np.dot(X_tmp, W)\n",
    "            err = calc_mse(y_tmp, y_pred_tmp)\n",
    "            err_list_sgd.append(err)\n",
    "            dQ = 2/len(y_tmp) * X_tmp.T @ (y_pred_tmp - y_tmp) # градиент функции ошибки\n",
    "            W -= (eta * dQ)\n",
    "        \n",
    "        if i % (iterations / 10) == 0:\n",
    "            print(f'Iter: {i}, weights: {W}, error {err}')\n",
    "    \n",
    "    print(f'Final MSE: {calc_mse(y, np.dot(X, W))}')\n",
    "    return W"
   ]
  },
  {
   "cell_type": "code",
   "execution_count": 102,
   "metadata": {},
   "outputs": [
    {
     "name": "stdout",
     "output_type": "stream",
     "text": [
      "amount of batches is 100\n",
      "Iter: 0, weights: [30.00071924], error 32.24037948979352\n",
      "Iter: 5000, weights: [34.7641793], error 3.485543494807985\n",
      "Iter: 10000, weights: [34.7641793], error 3.485543494807985\n",
      "Iter: 15000, weights: [34.7641793], error 3.485543494807985\n",
      "Iter: 20000, weights: [34.7641793], error 3.485543494807985\n",
      "Iter: 25000, weights: [34.7641793], error 3.485543494807985\n",
      "Iter: 30000, weights: [34.7641793], error 3.485543494807985\n",
      "Iter: 35000, weights: [34.7641793], error 3.485543494807985\n",
      "Iter: 40000, weights: [34.7641793], error 3.485543494807985\n",
      "Iter: 45000, weights: [34.7641793], error 3.485543494807985\n",
      "Final MSE: 3.2467059762208477\n"
     ]
    },
    {
     "data": {
      "text/plain": [
       "array([34.7641793])"
      ]
     },
     "execution_count": 102,
     "metadata": {},
     "output_type": "execute_result"
    }
   ],
   "source": [
    "stohastic_gradient_descent(X, y, iterations=50000, batch_size=100, eta=1e-2)"
   ]
  },
  {
   "cell_type": "code",
   "execution_count": 104,
   "metadata": {},
   "outputs": [
    {
     "data": {
      "image/png": "[encoded data removed]",
      "text/plain": [
       "<Figure size 432x288 with 1 Axes>"
      ]
     },
     "metadata": {
      "needs_background": "light"
     },
     "output_type": "display_data"
    }
   ],
   "source": [
    "plt.plot(err_list_sgd)\n",
    "plt.title('Графики среднеквадратичной ошибки')\n",
    "#plt.xticks(np.arange(0, 101, 10))\n",
    "#plt.xlabel('reg (lambda)')\n",
    "plt.ylabel('MSE');"
   ]
  },
  {
   "cell_type": "markdown",
   "metadata": {},
   "source": [
    "Проект: \n",
    "1. https://www.kaggle.com/c/regression-tutors-expected-math-exam-results регрессия\n",
    "1. https://www.kaggle.com/c/classification-choose-tutors классификация"
   ]
  },
  {
   "cell_type": "markdown",
   "metadata": {},
   "source": []
  }
 ],
 "metadata": {
  "kernelspec": {
   "display_name": "Python 3",
   "language": "python",
   "name": "python3"
  },
  "language_info": {
   "codemirror_mode": {
    "name": "ipython",
    "version": 3
   },
   "file_extension": ".py",
   "mimetype": "text/x-python",
   "name": "python",
   "nbconvert_exporter": "python",
   "pygments_lexer": "ipython3",
   "version": "3.7.7"
  },
  "toc": {
   "base_numbering": 1,
   "nav_menu": {},
   "number_sections": true,
   "sideBar": true,
   "skip_h1_title": false,
   "title_cell": "Table of Contents",
   "title_sidebar": "Contents",
   "toc_cell": false,
   "toc_position": {},
   "toc_section_display": true,
   "toc_window_display": false
  },
  "varInspector": {
   "cols": {
    "lenName": 16,
    "lenType": 16,
    "lenVar": 40
   },
   "kernels_config": {
    "python": {
     "delete_cmd_postfix": "",
     "delete_cmd_prefix": "del ",
     "library": "var_list.py",
     "varRefreshCmd": "print(var_dic_list())"
    },
    "r": {
     "delete_cmd_postfix": ") ",
     "delete_cmd_prefix": "rm(",
     "library": "var_list.r",
     "varRefreshCmd": "cat(var_dic_list()) "
    }
   },
   "types_to_exclude": [
    "module",
    "function",
    "builtin_function_or_method",
    "instance",
    "_Feature"
   ],
   "window_display": false
  }
 },
 "nbformat": 4,
 "nbformat_minor": 4
}
