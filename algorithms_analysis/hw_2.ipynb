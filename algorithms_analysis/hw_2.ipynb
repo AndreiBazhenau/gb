{
 "cells": [
  {
   "cell_type": "code",
   "execution_count": 1,
   "metadata": {},
   "outputs": [],
   "source": [
    "import matplotlib.pyplot as plt\n",
    "%matplotlib inline"
   ]
  },
  {
   "cell_type": "markdown",
   "metadata": {},
   "source": [
    "1. Постройте график зависимости весов всех признаков от lambda в самописной L2-регуляризации (на данных про ЕГЭ). Сделайте вывод."
   ]
  },
  {
   "cell_type": "code",
   "execution_count": 2,
   "metadata": {},
   "outputs": [],
   "source": [
    "# стаж преподавателя, стоимость урока\n",
    "X = np.array([[   1,    1,  500,    1],\n",
    "              [   1,    1,  700,    1],\n",
    "              [   1,    2,  750,    2],\n",
    "              [   1,    5,  600,    1],\n",
    "              [   1,    3, 1450,    2],\n",
    "              [   1,    0,  800,    1],\n",
    "              [   1,    5, 1500,    3],\n",
    "              [   1,   10, 2000,    3],\n",
    "              [   1,    1,  450,    1],\n",
    "              [   1,    2, 1000,    2]])\n",
    "\n",
    "# полученный балл ЕГЭ\n",
    "y = [45, 55, 50, 55, 60, 35, 75, 80, 50, 60]"
   ]
  },
  {
   "cell_type": "code",
   "execution_count": 3,
   "metadata": {},
   "outputs": [],
   "source": [
    "def standart_scale(X):\n",
    "    mean = X.mean()\n",
    "    std = X.std()\n",
    "    return (X - mean) / std"
   ]
  },
  {
   "cell_type": "code",
   "execution_count": 4,
   "metadata": {},
   "outputs": [],
   "source": [
    "def normal_scale(X):\n",
    "    min_X = X.min()\n",
    "    max_X = X.max()\n",
    "    return (X - min_X) / (max_X - min_X)"
   ]
  },
  {
   "cell_type": "code",
   "execution_count": 5,
   "metadata": {},
   "outputs": [],
   "source": [
    "def calc_mse(y, y_pred):\n",
    "    err = np.mean((y - y_pred)**2)\n",
    "    return err"
   ]
  },
  {
   "cell_type": "code",
   "execution_count": 6,
   "metadata": {},
   "outputs": [
    {
     "data": {
      "text/plain": [
       "array([[ 1.        , -0.70710678, -0.97958969,  1.        ],\n",
       "       [ 1.        , -0.70710678, -0.56713087,  1.        ],\n",
       "       [ 1.        , -0.35355339, -0.46401617,  2.        ],\n",
       "       [ 1.        ,  0.70710678, -0.77336028,  1.        ],\n",
       "       [ 1.        ,  0.        ,  0.97958969,  2.        ],\n",
       "       [ 1.        , -1.06066017, -0.36090146,  1.        ],\n",
       "       [ 1.        ,  0.70710678,  1.08270439,  3.        ],\n",
       "       [ 1.        ,  2.47487373,  2.11385144,  3.        ],\n",
       "       [ 1.        , -0.70710678, -1.08270439,  1.        ],\n",
       "       [ 1.        , -0.35355339,  0.05155735,  2.        ]])"
      ]
     },
     "execution_count": 6,
     "metadata": {},
     "output_type": "execute_result"
    }
   ],
   "source": [
    "# стандартизируем 2-й и 3-й признаки с изменением типа на float\n",
    "X_st = X.copy().astype(np.float64)\n",
    "X_st[:, 1] = standart_scale(X_st[:, 1])\n",
    "X_st[:, 2] = standart_scale(X_st[:, 2])\n",
    "X_st"
   ]
  },
  {
   "cell_type": "code",
   "execution_count": 7,
   "metadata": {},
   "outputs": [],
   "source": [
    "def gradient_descent_reg_l2(X, y, iterations, eta=1e-4, reg=1e-8):\n",
    "    W = np.random.randn(X.shape[1])\n",
    "    n = X.shape[0]\n",
    "    \n",
    "    for i in range(0, iterations):\n",
    "        y_pred = np.dot(X, W)\n",
    "        err = calc_mse(y, y_pred)\n",
    "        \n",
    "        dQ = 2/n * X.T @ (y_pred - y) # градиент функции ошибки\n",
    "        dReg = reg * W # градиент регуляризации\n",
    "        W -= eta * dQ + dReg\n",
    "        if i % (iterations / 10) == 0:\n",
    "            print(f'Iter: {i}, weights: {W}, error {err}')\n",
    "    print(f'Final MSE: {calc_mse(y, np.dot(X, W))}')\n",
    "    return W"
   ]
  },
  {
   "cell_type": "code",
   "execution_count": 8,
   "metadata": {
    "scrolled": true
   },
   "outputs": [
    {
     "name": "stdout",
     "output_type": "stream",
     "text": [
      "Iter: 0, weights: [-0.13203404 -1.36723371 -1.64228204  1.90041977], error 3653.662315710956\n",
      "Iter: 500, weights: [21.90318095  5.07146893 -7.40437443 19.93772534], error 42.106640556042564\n",
      "Iter: 1000, weights: [26.68659019  5.91842007 -6.29562166 17.2293974 ], error 34.877016732599536\n",
      "Iter: 1500, weights: [29.98154172  6.02365163 -5.04807055 15.3482233 ], error 31.088352962970824\n",
      "Iter: 2000, weights: [32.33450808  6.04905975 -4.10685323 14.00323061], error 28.93094811771305\n",
      "Iter: 2500, weights: [34.02345656  6.06230696 -3.4262023  13.03763822], error 27.66751860521171\n",
      "Iter: 3000, weights: [35.23664552  6.07132439 -2.93677974 12.34402708], error 26.907336761449937\n",
      "Iter: 3500, weights: [36.10817833  6.07775266 -2.58513722 11.84574787], error 26.437292701413064\n",
      "Iter: 4000, weights: [36.73428027  6.08236571 -2.33251514 11.48778807], error 26.138869204786573\n",
      "Iter: 4500, weights: [37.18406756  6.08567921 -2.15103269 11.2306322 ], error 25.94474145298272\n",
      "Final MSE: 25.81573611048963\n"
     ]
    }
   ],
   "source": [
    "W = gradient_descent_reg_l2(X_st, y, iterations=5000, eta=1e-2, reg=1e-4)"
   ]
  },
  {
   "cell_type": "code",
   "execution_count": 9,
   "metadata": {},
   "outputs": [
    {
     "name": "stdout",
     "output_type": "stream",
     "text": [
      "reg (lambda)=0.0\n",
      "Iter: 0, weights: [2.41792607 0.80575537 0.53638568 2.4438025 ], error 3095.2108683990896\n",
      "Iter: 500, weights: [23.66294366  5.24542652 -6.90234656 18.97992458], error 39.248248365526536\n",
      "Iter: 1000, weights: [28.36771852  6.10461795 -5.83829245 16.31697234], error 32.88078692115358\n",
      "Iter: 1500, weights: [31.76997996  6.2161548  -4.55302315 14.37462609], error 29.45197615930501\n",
      "Iter: 2000, weights: [34.32369728  6.24403607 -3.53181181 12.91489095], error 27.498412800166534\n",
      "Iter: 2500, weights: [36.25072924  6.25918292 -2.7552452  11.81318439], error 26.384122185250913\n",
      "Iter: 3000, weights: [37.70594439  6.27000269 -2.16818829 10.9812008 ], error 25.74852957329967\n",
      "Iter: 3500, weights: [38.80497621  6.27810931 -1.72475576 10.35285418], error 25.38598668592672\n",
      "Iter: 4000, weights: [39.63501719  6.284225   -1.38984759  9.87829678], error 25.179191729895802\n",
      "Iter: 4500, weights: [40.26190479  6.28884317 -1.13690781  9.51988776], error 25.061235605707683\n",
      "Final MSE: 24.993953272034904\n",
      "reg (lambda)=0.05\n",
      "Iter: 0, weights: [ 0.7567164   0.77412383 -1.21445173  2.35564012], error 3360.384642479426\n",
      "Iter: 500, weights: [ 8.9390248   0.71204912 -0.12593695 14.83141953], error 540.198180535538\n",
      "Iter: 1000, weights: [ 8.9390248   0.71204912 -0.12593695 14.83141953], error 540.198180535527\n",
      "Iter: 1500, weights: [ 8.9390248   0.71204912 -0.12593695 14.83141953], error 540.198180535527\n",
      "Iter: 2000, weights: [ 8.9390248   0.71204912 -0.12593695 14.83141953], error 540.198180535527\n",
      "Iter: 2500, weights: [ 8.9390248   0.71204912 -0.12593695 14.83141953], error 540.198180535527\n",
      "Iter: 3000, weights: [ 8.9390248   0.71204912 -0.12593695 14.83141953], error 540.198180535527\n",
      "Iter: 3500, weights: [ 8.9390248   0.71204912 -0.12593695 14.83141953], error 540.198180535527\n",
      "Iter: 4000, weights: [ 8.9390248   0.71204912 -0.12593695 14.83141953], error 540.198180535527\n",
      "Iter: 4500, weights: [ 8.9390248   0.71204912 -0.12593695 14.83141953], error 540.198180535527\n",
      "Final MSE: 540.198180535527\n",
      "reg (lambda)=0.1\n",
      "Iter: 0, weights: [1.21103221 0.20779079 1.15828926 1.97360079], error 3345.7085591109453\n",
      "Iter: 500, weights: [ 6.31330114  0.71544684  0.3759989  10.95305481], error 1037.1616579116067\n",
      "Iter: 1000, weights: [ 6.31330114  0.71544684  0.3759989  10.95305481], error 1037.1616579116067\n",
      "Iter: 1500, weights: [ 6.31330114  0.71544684  0.3759989  10.95305481], error 1037.1616579116067\n",
      "Iter: 2000, weights: [ 6.31330114  0.71544684  0.3759989  10.95305481], error 1037.1616579116067\n",
      "Iter: 2500, weights: [ 6.31330114  0.71544684  0.3759989  10.95305481], error 1037.1616579116067\n",
      "Iter: 3000, weights: [ 6.31330114  0.71544684  0.3759989  10.95305481], error 1037.1616579116067\n",
      "Iter: 3500, weights: [ 6.31330114  0.71544684  0.3759989  10.95305481], error 1037.1616579116067\n",
      "Iter: 4000, weights: [ 6.31330114  0.71544684  0.3759989  10.95305481], error 1037.1616579116067\n",
      "Iter: 4500, weights: [ 6.31330114  0.71544684  0.3759989  10.95305481], error 1037.1616579116067\n",
      "Final MSE: 1037.1616579116067\n",
      "reg (lambda)=0.15000000000000002\n",
      "Iter: 0, weights: [-0.6168496   0.48921937 -0.46137604  2.0940003 ], error 3626.567606304236\n",
      "Iter: 500, weights: [4.91133043 0.64884369 0.45779347 8.67864195], error 1405.7862457209253\n",
      "Iter: 1000, weights: [4.91133043 0.64884369 0.45779347 8.67864195], error 1405.7862457209253\n",
      "Iter: 1500, weights: [4.91133043 0.64884369 0.45779347 8.67864195], error 1405.7862457209253\n",
      "Iter: 2000, weights: [4.91133043 0.64884369 0.45779347 8.67864195], error 1405.7862457209253\n",
      "Iter: 2500, weights: [4.91133043 0.64884369 0.45779347 8.67864195], error 1405.7862457209253\n",
      "Iter: 3000, weights: [4.91133043 0.64884369 0.45779347 8.67864195], error 1405.7862457209253\n",
      "Iter: 3500, weights: [4.91133043 0.64884369 0.45779347 8.67864195], error 1405.7862457209253\n",
      "Iter: 4000, weights: [4.91133043 0.64884369 0.45779347 8.67864195], error 1405.7862457209253\n",
      "Iter: 4500, weights: [4.91133043 0.64884369 0.45779347 8.67864195], error 1405.7862457209253\n",
      "Final MSE: 1405.7862457209253\n",
      "reg (lambda)=0.2\n",
      "Iter: 0, weights: [0.86565777 0.25244602 0.60701318 1.93620583], error 3425.992235130797\n",
      "Iter: 500, weights: [4.02577108 0.57845744 0.45319992 7.18618712], error 1679.2368700057682\n",
      "Iter: 1000, weights: [4.02577108 0.57845744 0.45319992 7.18618712], error 1679.2368700057682\n",
      "Iter: 1500, weights: [4.02577108 0.57845744 0.45319992 7.18618712], error 1679.2368700057682\n",
      "Iter: 2000, weights: [4.02577108 0.57845744 0.45319992 7.18618712], error 1679.2368700057682\n",
      "Iter: 2500, weights: [4.02577108 0.57845744 0.45319992 7.18618712], error 1679.2368700057682\n",
      "Iter: 3000, weights: [4.02577108 0.57845744 0.45319992 7.18618712], error 1679.2368700057682\n",
      "Iter: 3500, weights: [4.02577108 0.57845744 0.45319992 7.18618712], error 1679.2368700057682\n",
      "Iter: 4000, weights: [4.02577108 0.57845744 0.45319992 7.18618712], error 1679.2368700057682\n",
      "Iter: 4500, weights: [4.02577108 0.57845744 0.45319992 7.18618712], error 1679.2368700057682\n",
      "Final MSE: 1679.2368700057682\n",
      "reg (lambda)=0.25\n",
      "Iter: 0, weights: [ 1.8755938   1.65128742 -0.89934111  2.09060533], error 3217.2578907399284\n",
      "Iter: 500, weights: [3.41303878 0.51702864 0.42720453 6.13175086], error 1887.6470491670996\n",
      "Iter: 1000, weights: [3.41303878 0.51702864 0.42720453 6.13175086], error 1887.6470491670996\n",
      "Iter: 1500, weights: [3.41303878 0.51702864 0.42720453 6.13175086], error 1887.6470491670996\n",
      "Iter: 2000, weights: [3.41303878 0.51702864 0.42720453 6.13175086], error 1887.6470491670996\n",
      "Iter: 2500, weights: [3.41303878 0.51702864 0.42720453 6.13175086], error 1887.6470491670996\n",
      "Iter: 3000, weights: [3.41303878 0.51702864 0.42720453 6.13175086], error 1887.6470491670996\n",
      "Iter: 3500, weights: [3.41303878 0.51702864 0.42720453 6.13175086], error 1887.6470491670996\n",
      "Iter: 4000, weights: [3.41303878 0.51702864 0.42720453 6.13175086], error 1887.6470491670996\n",
      "Iter: 4500, weights: [3.41303878 0.51702864 0.42720453 6.13175086], error 1887.6470491670996\n",
      "Final MSE: 1887.6470491670996\n",
      "reg (lambda)=0.30000000000000004\n",
      "Iter: 0, weights: [ 1.446784    0.37909398 -0.58030818  1.58867634], error 3494.0834056837193\n",
      "Iter: 500, weights: [2.96311108 0.46545563 0.39710991 5.34718981], error 2050.9355609564873\n",
      "Iter: 1000, weights: [2.96311108 0.46545563 0.39710991 5.34718981], error 2050.9355609564873\n",
      "Iter: 1500, weights: [2.96311108 0.46545563 0.39710991 5.34718981], error 2050.9355609564873\n",
      "Iter: 2000, weights: [2.96311108 0.46545563 0.39710991 5.34718981], error 2050.9355609564873\n",
      "Iter: 2500, weights: [2.96311108 0.46545563 0.39710991 5.34718981], error 2050.9355609564873\n",
      "Iter: 3000, weights: [2.96311108 0.46545563 0.39710991 5.34718981], error 2050.9355609564873\n",
      "Iter: 3500, weights: [2.96311108 0.46545563 0.39710991 5.34718981], error 2050.9355609564873\n",
      "Iter: 4000, weights: [2.96311108 0.46545563 0.39710991 5.34718981], error 2050.9355609564873\n",
      "Iter: 4500, weights: [2.96311108 0.46545563 0.39710991 5.34718981], error 2050.9355609564873\n",
      "Final MSE: 2050.9355609564873\n",
      "reg (lambda)=0.35000000000000003\n",
      "Iter: 0, weights: [1.03062551 0.18684028 0.17572117 2.51602325], error 3217.168528664839\n",
      "Iter: 500, weights: [2.61842713 0.42233225 0.36809343 4.74064594], error 2181.9986861322254\n",
      "Iter: 1000, weights: [2.61842713 0.42233225 0.36809343 4.74064594], error 2181.9986861322254\n",
      "Iter: 1500, weights: [2.61842713 0.42233225 0.36809343 4.74064594], error 2181.9986861322254\n",
      "Iter: 2000, weights: [2.61842713 0.42233225 0.36809343 4.74064594], error 2181.9986861322254\n",
      "Iter: 2500, weights: [2.61842713 0.42233225 0.36809343 4.74064594], error 2181.9986861322254\n",
      "Iter: 3000, weights: [2.61842713 0.42233225 0.36809343 4.74064594], error 2181.9986861322254\n",
      "Iter: 3500, weights: [2.61842713 0.42233225 0.36809343 4.74064594], error 2181.9986861322254\n",
      "Iter: 4000, weights: [2.61842713 0.42233225 0.36809343 4.74064594], error 2181.9986861322254\n",
      "Iter: 4500, weights: [2.61842713 0.42233225 0.36809343 4.74064594], error 2181.9986861322254\n",
      "Final MSE: 2181.9986861322254\n",
      "reg (lambda)=0.4\n",
      "Iter: 0, weights: [ 0.94517867 -0.41467957  0.76223711  2.05908519], error 3409.5164195235056\n",
      "Iter: 500, weights: [2.3458052  0.38605149 0.3416337  4.25770052], error 2289.371282218247\n",
      "Iter: 1000, weights: [2.3458052  0.38605149 0.3416337  4.25770052], error 2289.371282218247\n",
      "Iter: 1500, weights: [2.3458052  0.38605149 0.3416337  4.25770052], error 2289.371282218247\n",
      "Iter: 2000, weights: [2.3458052  0.38605149 0.3416337  4.25770052], error 2289.371282218247\n"
     ]
    },
    {
     "name": "stdout",
     "output_type": "stream",
     "text": [
      "Iter: 2500, weights: [2.3458052  0.38605149 0.3416337  4.25770052], error 2289.371282218247\n",
      "Iter: 3000, weights: [2.3458052  0.38605149 0.3416337  4.25770052], error 2289.371282218247\n",
      "Iter: 3500, weights: [2.3458052  0.38605149 0.3416337  4.25770052], error 2289.371282218247\n",
      "Iter: 4000, weights: [2.3458052  0.38605149 0.3416337  4.25770052], error 2289.371282218247\n",
      "Iter: 4500, weights: [2.3458052  0.38605149 0.3416337  4.25770052], error 2289.371282218247\n",
      "Final MSE: 2289.371282218247\n",
      "reg (lambda)=0.45\n",
      "Iter: 0, weights: [ 0.76869488  0.06912609 -0.07788092  2.11961634], error 3450.5212598147978\n",
      "Iter: 500, weights: [2.12472722 0.35524675 0.31797587 3.86406488], error 2378.870216381053\n",
      "Iter: 1000, weights: [2.12472722 0.35524675 0.31797587 3.86406488], error 2378.870216381053\n",
      "Iter: 1500, weights: [2.12472722 0.35524675 0.31797587 3.86406488], error 2378.870216381053\n",
      "Iter: 2000, weights: [2.12472722 0.35524675 0.31797587 3.86406488], error 2378.870216381053\n",
      "Iter: 2500, weights: [2.12472722 0.35524675 0.31797587 3.86406488], error 2378.870216381053\n",
      "Iter: 3000, weights: [2.12472722 0.35524675 0.31797587 3.86406488], error 2378.870216381053\n",
      "Iter: 3500, weights: [2.12472722 0.35524675 0.31797587 3.86406488], error 2378.870216381053\n",
      "Iter: 4000, weights: [2.12472722 0.35524675 0.31797587 3.86406488], error 2378.870216381053\n",
      "Iter: 4500, weights: [2.12472722 0.35524675 0.31797587 3.86406488], error 2378.870216381053\n",
      "Final MSE: 2378.870216381053\n",
      "reg (lambda)=0.5\n",
      "Iter: 0, weights: [ 0.85748592  0.29051892 -0.31560767  2.30870675], error 3342.459396389343\n",
      "Iter: 500, weights: [1.94180758 0.32883691 0.2969514  3.53706047], error 2454.5756153211664\n",
      "Iter: 1000, weights: [1.94180758 0.32883691 0.2969514  3.53706047], error 2454.5756153211664\n",
      "Iter: 1500, weights: [1.94180758 0.32883691 0.2969514  3.53706047], error 2454.5756153211664\n",
      "Iter: 2000, weights: [1.94180758 0.32883691 0.2969514  3.53706047], error 2454.5756153211664\n",
      "Iter: 2500, weights: [1.94180758 0.32883691 0.2969514  3.53706047], error 2454.5756153211664\n",
      "Iter: 3000, weights: [1.94180758 0.32883691 0.2969514  3.53706047], error 2454.5756153211664\n",
      "Iter: 3500, weights: [1.94180758 0.32883691 0.2969514  3.53706047], error 2454.5756153211664\n",
      "Iter: 4000, weights: [1.94180758 0.32883691 0.2969514  3.53706047], error 2454.5756153211664\n",
      "Iter: 4500, weights: [1.94180758 0.32883691 0.2969514  3.53706047], error 2454.5756153211664\n",
      "Final MSE: 2454.5756153211664\n",
      "reg (lambda)=0.55\n",
      "Iter: 0, weights: [0.60740459 0.14886426 0.31787479 2.05187681], error 3535.5281449674426\n",
      "Iter: 500, weights: [1.78793509 0.30598298 0.27827133 3.26108828], error 2519.425256825663\n",
      "Iter: 1000, weights: [1.78793509 0.30598298 0.27827133 3.26108828], error 2519.425256825663\n",
      "Iter: 1500, weights: [1.78793509 0.30598298 0.27827133 3.26108828], error 2519.425256825663\n",
      "Iter: 2000, weights: [1.78793509 0.30598298 0.27827133 3.26108828], error 2519.425256825663\n",
      "Iter: 2500, weights: [1.78793509 0.30598298 0.27827133 3.26108828], error 2519.425256825663\n",
      "Iter: 3000, weights: [1.78793509 0.30598298 0.27827133 3.26108828], error 2519.425256825663\n",
      "Iter: 3500, weights: [1.78793509 0.30598298 0.27827133 3.26108828], error 2519.425256825663\n",
      "Iter: 4000, weights: [1.78793509 0.30598298 0.27827133 3.26108828], error 2519.425256825663\n",
      "Iter: 4500, weights: [1.78793509 0.30598298 0.27827133 3.26108828], error 2519.425256825663\n",
      "Final MSE: 2519.425256825663\n",
      "reg (lambda)=0.6000000000000001\n",
      "Iter: 0, weights: [ 1.30407213 -0.21365592  0.57654694  1.47054004], error 3724.1412526236854\n",
      "Iter: 500, weights: [1.65668992 0.28603451 0.26163374 3.02506621], error 2575.584179484523\n",
      "Iter: 1000, weights: [1.65668992 0.28603451 0.26163374 3.02506621], error 2575.584179484523\n",
      "Iter: 1500, weights: [1.65668992 0.28603451 0.26163374 3.02506621], error 2575.584179484523\n",
      "Iter: 2000, weights: [1.65668992 0.28603451 0.26163374 3.02506621], error 2575.584179484523\n",
      "Iter: 2500, weights: [1.65668992 0.28603451 0.26163374 3.02506621], error 2575.584179484523\n",
      "Iter: 3000, weights: [1.65668992 0.28603451 0.26163374 3.02506621], error 2575.584179484523\n",
      "Iter: 3500, weights: [1.65668992 0.28603451 0.26163374 3.02506621], error 2575.584179484523\n",
      "Iter: 4000, weights: [1.65668992 0.28603451 0.26163374 3.02506621], error 2575.584179484523\n",
      "Iter: 4500, weights: [1.65668992 0.28603451 0.26163374 3.02506621], error 2575.584179484523\n",
      "Final MSE: 2575.584179484523\n",
      "reg (lambda)=0.65\n",
      "Iter: 0, weights: [ 0.71359876  0.18226544 -0.12067022  1.74294552], error 3867.4191278548956\n",
      "Iter: 500, weights: [1.54341679 0.26848413 0.2467613  2.8209045 ], error 2624.6810826444153\n",
      "Iter: 1000, weights: [1.54341679 0.26848413 0.2467613  2.8209045 ], error 2624.6810826444153\n",
      "Iter: 1500, weights: [1.54341679 0.26848413 0.2467613  2.8209045 ], error 2624.6810826444153\n",
      "Iter: 2000, weights: [1.54341679 0.26848413 0.2467613  2.8209045 ], error 2624.6810826444153\n",
      "Iter: 2500, weights: [1.54341679 0.26848413 0.2467613  2.8209045 ], error 2624.6810826444153\n",
      "Iter: 3000, weights: [1.54341679 0.26848413 0.2467613  2.8209045 ], error 2624.6810826444153\n",
      "Iter: 3500, weights: [1.54341679 0.26848413 0.2467613  2.8209045 ], error 2624.6810826444153\n",
      "Iter: 4000, weights: [1.54341679 0.26848413 0.2467613  2.8209045 ], error 2624.6810826444153\n",
      "Iter: 4500, weights: [1.54341679 0.26848413 0.2467613  2.8209045 ], error 2624.6810826444153\n",
      "Final MSE: 2624.6810826444153\n",
      "reg (lambda)=0.7000000000000001\n",
      "Iter: 0, weights: [1.19804562 0.5744726  0.08134911 1.87831536], error 3502.911516172023\n",
      "Iter: 500, weights: [1.44465691 0.25293247 0.23341183 2.64255955], error 2667.963673275027\n",
      "Iter: 1000, weights: [1.44465691 0.25293247 0.23341183 2.64255955], error 2667.963673275027\n",
      "Iter: 1500, weights: [1.44465691 0.25293247 0.23341183 2.64255955], error 2667.963673275027\n",
      "Iter: 2000, weights: [1.44465691 0.25293247 0.23341183 2.64255955], error 2667.963673275027\n",
      "Iter: 2500, weights: [1.44465691 0.25293247 0.23341183 2.64255955], error 2667.963673275027\n",
      "Iter: 3000, weights: [1.44465691 0.25293247 0.23341183 2.64255955], error 2667.963673275027\n",
      "Iter: 3500, weights: [1.44465691 0.25293247 0.23341183 2.64255955], error 2667.963673275027\n",
      "Iter: 4000, weights: [1.44465691 0.25293247 0.23341183 2.64255955], error 2667.963673275027\n",
      "Iter: 4500, weights: [1.44465691 0.25293247 0.23341183 2.64255955], error 2667.963673275027\n",
      "Final MSE: 2667.963673275027\n",
      "reg (lambda)=0.75\n",
      "Iter: 0, weights: [ 1.36577047 -0.14610636  0.0156447   1.83218445], error 3642.959194256609\n",
      "Iter: 500, weights: [1.35778641 0.23906207 0.22137836 2.48542547], error 2706.4033346816786\n",
      "Iter: 1000, weights: [1.35778641 0.23906207 0.22137836 2.48542547], error 2706.4033346816786\n",
      "Iter: 1500, weights: [1.35778641 0.23906207 0.22137836 2.48542547], error 2706.4033346816786\n",
      "Iter: 2000, weights: [1.35778641 0.23906207 0.22137836 2.48542547], error 2706.4033346816786\n",
      "Iter: 2500, weights: [1.35778641 0.23906207 0.22137836 2.48542547], error 2706.4033346816786\n",
      "Iter: 3000, weights: [1.35778641 0.23906207 0.22137836 2.48542547], error 2706.4033346816786\n",
      "Iter: 3500, weights: [1.35778641 0.23906207 0.22137836 2.48542547], error 2706.4033346816786\n",
      "Iter: 4000, weights: [1.35778641 0.23906207 0.22137836 2.48542547], error 2706.4033346816786\n",
      "Iter: 4500, weights: [1.35778641 0.23906207 0.22137836 2.48542547], error 2706.4033346816786\n",
      "Final MSE: 2706.4033346816786\n",
      "reg (lambda)=0.8\n",
      "Iter: 0, weights: [1.41338808 0.18287559 0.00913572 1.90781804], error 3494.2179152284893\n",
      "Iter: 500, weights: [1.28077849 0.22661799 0.21048567 2.34593055], error 2740.7672736036743\n",
      "Iter: 1000, weights: [1.28077849 0.22661799 0.21048567 2.34593055], error 2740.7672736036743\n",
      "Iter: 1500, weights: [1.28077849 0.22661799 0.21048567 2.34593055], error 2740.7672736036743\n",
      "Iter: 2000, weights: [1.28077849 0.22661799 0.21048567 2.34593055], error 2740.7672736036743\n",
      "Iter: 2500, weights: [1.28077849 0.22661799 0.21048567 2.34593055], error 2740.7672736036743\n",
      "Iter: 3000, weights: [1.28077849 0.22661799 0.21048567 2.34593055], error 2740.7672736036743\n",
      "Iter: 3500, weights: [1.28077849 0.22661799 0.21048567 2.34593055], error 2740.7672736036743\n",
      "Iter: 4000, weights: [1.28077849 0.22661799 0.21048567 2.34593055], error 2740.7672736036743\n",
      "Iter: 4500, weights: [1.28077849 0.22661799 0.21048567 2.34593055], error 2740.7672736036743\n",
      "Final MSE: 2740.7672736036743\n",
      "reg (lambda)=0.8500000000000001\n",
      "Iter: 0, weights: [0.94572041 0.12267023 0.13997175 2.1938946 ], error 3408.153259060267\n"
     ]
    },
    {
     "name": "stdout",
     "output_type": "stream",
     "text": [
      "Iter: 500, weights: [1.21204262 0.21539357 0.2005858  2.22126239], error 2771.669286765749\n",
      "Iter: 1000, weights: [1.21204262 0.21539357 0.2005858  2.22126239], error 2771.669286765749\n",
      "Iter: 1500, weights: [1.21204262 0.21539357 0.2005858  2.22126239], error 2771.669286765749\n",
      "Iter: 2000, weights: [1.21204262 0.21539357 0.2005858  2.22126239], error 2771.669286765749\n",
      "Iter: 2500, weights: [1.21204262 0.21539357 0.2005858  2.22126239], error 2771.669286765749\n",
      "Iter: 3000, weights: [1.21204262 0.21539357 0.2005858  2.22126239], error 2771.669286765749\n",
      "Iter: 3500, weights: [1.21204262 0.21539357 0.2005858  2.22126239], error 2771.669286765749\n",
      "Iter: 4000, weights: [1.21204262 0.21539357 0.2005858  2.22126239], error 2771.669286765749\n",
      "Iter: 4500, weights: [1.21204262 0.21539357 0.2005858  2.22126239], error 2771.669286765749\n",
      "Final MSE: 2771.669286765749\n",
      "reg (lambda)=0.9\n",
      "Iter: 0, weights: [1.06191489 0.24724849 0.12419714 2.14011227], error 3236.052117178712\n",
      "Iter: 500, weights: [1.15031305 0.20521968 0.19155373 2.10917633], error 2799.606156084879\n",
      "Iter: 1000, weights: [1.15031305 0.20521968 0.19155373 2.10917633], error 2799.606156084879\n",
      "Iter: 1500, weights: [1.15031305 0.20521968 0.19155373 2.10917633], error 2799.606156084879\n",
      "Iter: 2000, weights: [1.15031305 0.20521968 0.19155373 2.10917633], error 2799.606156084879\n",
      "Iter: 2500, weights: [1.15031305 0.20521968 0.19155373 2.10917633], error 2799.606156084879\n",
      "Iter: 3000, weights: [1.15031305 0.20521968 0.19155373 2.10917633], error 2799.606156084879\n",
      "Iter: 3500, weights: [1.15031305 0.20521968 0.19155373 2.10917633], error 2799.606156084879\n",
      "Iter: 4000, weights: [1.15031305 0.20521968 0.19155373 2.10917633], error 2799.606156084879\n",
      "Iter: 4500, weights: [1.15031305 0.20521968 0.19155373 2.10917633], error 2799.606156084879\n",
      "Final MSE: 2799.606156084879\n",
      "reg (lambda)=0.9500000000000001\n",
      "Iter: 0, weights: [1.14821723 0.25302146 0.23328691 2.15892264], error 3877.885420391803\n",
      "Iter: 500, weights: [1.09456989 0.19595673 0.18328353 2.00785905], error 2824.984186175308\n",
      "Iter: 1000, weights: [1.09456989 0.19595673 0.18328353 2.00785905], error 2824.984186175308\n",
      "Iter: 1500, weights: [1.09456989 0.19595673 0.18328353 2.00785905], error 2824.984186175308\n",
      "Iter: 2000, weights: [1.09456989 0.19595673 0.18328353 2.00785905], error 2824.984186175308\n",
      "Iter: 2500, weights: [1.09456989 0.19595673 0.18328353 2.00785905], error 2824.984186175308\n",
      "Iter: 3000, weights: [1.09456989 0.19595673 0.18328353 2.00785905], error 2824.984186175308\n",
      "Iter: 3500, weights: [1.09456989 0.19595673 0.18328353 2.00785905], error 2824.984186175308\n",
      "Iter: 4000, weights: [1.09456989 0.19595673 0.18328353 2.00785905], error 2824.984186175308\n",
      "Iter: 4500, weights: [1.09456989 0.19595673 0.18328353 2.00785905], error 2824.984186175308\n",
      "Final MSE: 2824.984186175308\n"
     ]
    }
   ],
   "source": [
    "W_list = []\n",
    "reg_list = []\n",
    "\n",
    "for reg in np.arange(0, 1, 0.05):\n",
    "    print(f'reg (lambda)={reg}')\n",
    "    W = gradient_descent_reg_l2(X_st, y, iterations=5000, eta=1e-2, reg=reg)\n",
    "    W_list.append(W)\n",
    "    reg_list.append(reg)"
   ]
  },
  {
   "cell_type": "code",
   "execution_count": 10,
   "metadata": {},
   "outputs": [
    {
     "data": {
      "image/png": "[encoded data removed]",
      "text/plain": [
       "<Figure size 432x288 with 1 Axes>"
      ]
     },
     "metadata": {
      "needs_background": "light"
     },
     "output_type": "display_data"
    }
   ],
   "source": [
    "plt.plot(reg_list, W_list)\n",
    "plt.title('График зависимости весов всех признаков \\n от lambda в самописной L2-регуляризации')\n",
    "#plt.xticks(np.arange(0, 101, 10))\n",
    "plt.xlabel('reg (lambda)')\n",
    "plt.ylabel('Веса признаков');"
   ]
  },
  {
   "cell_type": "markdown",
   "metadata": {},
   "source": [
    "2. Напишите функцию наподобие gradient_descent_reg_l2, но для применения L1-регуляризации."
   ]
  },
  {
   "cell_type": "code",
   "execution_count": 11,
   "metadata": {},
   "outputs": [],
   "source": [
    "def gradient_descent_reg_l1(X, y, iterations, eta=1e-4, reg=1e-8):\n",
    "    W = np.random.randn(X.shape[1])\n",
    "    n = X.shape[0]\n",
    "    \n",
    "    for i in range(0, iterations):\n",
    "        y_pred = np.dot(X, W)\n",
    "        err = calc_mse(y, y_pred)\n",
    "        \n",
    "        dQ = 2/n * X.T @ (y_pred - y) # градиент функции ошибки\n",
    "        dReg = reg * np.sign(W) # градиент регуляризации L1\n",
    "        #dReg = reg * W # градиент регуляризации L2\n",
    "        W -= eta * dQ + dReg\n",
    "        if i % (iterations / 10) == 0:\n",
    "            print(f'Iter: {i}, weights: {W}, error {err}')\n",
    "    print(f'Final MSE: {calc_mse(y, np.dot(X, W))}')\n",
    "    return W"
   ]
  },
  {
   "cell_type": "code",
   "execution_count": 12,
   "metadata": {},
   "outputs": [
    {
     "name": "stdout",
     "output_type": "stream",
     "text": [
      "Iter: 0, weights: [-1.53020458  1.06451505 -0.68210913  2.73653717], error 3535.999482459323\n",
      "Iter: 500, weights: [21.3235729   5.21869974 -7.83489698 20.31510711], error 43.05703683840704\n",
      "Iter: 1000, weights: [26.59554557  6.06975903 -6.52953138 17.32747058], error 35.052037327892236\n",
      "Iter: 1500, weights: [30.4284374   6.1831771  -5.06920279 15.13887888], error 30.690649895223846\n",
      "Iter: 2000, weights: [33.30762444  6.21332059 -3.91653223 13.49305926], error 28.205668760392673\n",
      "Iter: 2500, weights: [35.48049195  6.23026421 -3.04076023 12.25080124], error 26.78817070871898\n",
      "Iter: 3000, weights: [37.1213768   6.24245025 -2.37878683 11.31266509], error 25.97950794929877\n",
      "Iter: 3500, weights: [38.36063579  6.25158972 -1.87877455 10.60414671], error 25.51814897817559\n",
      "Iter: 4000, weights: [39.29658326  6.25848557 -1.50113466 10.06903963], error 25.25491559553362\n",
      "Iter: 4500, weights: [40.00345665  6.26369295 -1.2159218   9.66490052], error 25.104711266826424\n",
      "Final MSE: 25.01899247765804\n"
     ]
    }
   ],
   "source": [
    "W = gradient_descent_reg_l1(X_st, y, iterations=5000, eta=1e-2, reg=1e-4)"
   ]
  },
  {
   "cell_type": "code",
   "execution_count": 13,
   "metadata": {},
   "outputs": [
    {
     "name": "stdout",
     "output_type": "stream",
     "text": [
      "reg (lambda)=0.0\n",
      "Iter: 0, weights: [3.74390832 0.36290658 0.38381699 2.18993573], error 3008.6221185474556\n",
      "Iter: 500, weights: [24.3774371   5.25615027 -6.61958377 18.57160701], error 38.174613210715286\n",
      "Iter: 1000, weights: [28.90633903  6.10915842 -5.62154643 16.00904674], error 32.27081259180594\n",
      "Iter: 1500, weights: [32.17666779  6.21921077 -4.38899138 14.14211334], error 29.104072684498487\n",
      "Iter: 2000, weights: [34.63083694  6.24630496 -3.40789187 12.7392909 ], error 27.29996847874947\n",
      "Iter: 2500, weights: [36.48269507  6.26089238 -2.66165108 11.68056311], error 26.27092927763573\n",
      "Iter: 3000, weights: [37.88113628  6.27129333 -2.09750102 10.88103874], error 25.683964184874174\n",
      "Iter: 3500, weights: [38.93728973  6.27908402 -1.67136922 10.27720688], error 25.349158500551773\n",
      "Iter: 4000, weights: [39.73494687  6.28496115 -1.34952744  9.82116421], error 25.158184882866728\n",
      "Iter: 4500, weights: [40.3373766   6.28939914 -1.10645605  9.47673844], error 25.049253271590246\n",
      "Final MSE: 24.98711853235678\n",
      "reg (lambda)=0.05\n",
      "Iter: 0, weights: [ 2.41598834 -0.42935141  0.12367559  2.16298801], error 3183.602435370927\n",
      "Iter: 500, weights: [20.44924825  0.02823896 -0.80263111 19.44840501], error 66.9442571450202\n",
      "Iter: 1000, weights: [ 2.41286472e+01  3.34958359e-02 -1.70121704e-02  1.74555839e+01], error 58.16892260042257\n",
      "Iter: 1500, weights: [ 2.52028121e+01  1.31933210e-02 -7.56519269e-02  1.69094165e+01], error 55.314903409901675\n",
      "Iter: 2000, weights: [ 2.54737387e+01  2.57660650e-02 -1.55367343e-02  1.67723859e+01], error 54.484170570349285\n",
      "Iter: 2500, weights: [ 2.55467043e+01  2.39199643e-02 -7.01710568e-02  1.67347046e+01], error 54.41903078794536\n",
      "Iter: 3000, weights: [2.55647339e+01 3.77322088e-02 1.65257841e-02 1.67265190e+01], error 54.300275810876734\n",
      "Iter: 3500, weights: [ 2.55680113e+01 -2.04043958e-02 -6.08692496e-02  1.67242715e+01], error 54.503489703848324\n",
      "Iter: 4000, weights: [25.56865438  0.02751377 -0.03089259 16.72363696], error 54.21110924452371\n",
      "Iter: 4500, weights: [2.55689861e+01 7.64981113e-02 2.75921370e-04 1.67237778e+01], error 54.41959038513568\n",
      "Final MSE: 54.36405980272342\n",
      "reg (lambda)=0.1\n",
      "Iter: 0, weights: [2.06386235 0.58666888 2.34742414 2.23212415], error 3113.1561330115696\n",
      "Iter: 500, weights: [ 1.66720265e+01  5.03455151e-02 -3.47071102e-03  2.03748710e+01], error 95.8353059229772\n",
      "Iter: 1000, weights: [ 1.77066817e+01 -1.06476682e-01 -2.40821311e-04  1.98495923e+01], error 90.40467594667562\n",
      "Iter: 1500, weights: [17.97067306 -0.09865643 -0.06619722 19.71675779], error 88.62922818864605\n",
      "Iter: 2000, weights: [18.03590305 -0.08754615 -0.0341201  19.68375108], error 88.51299036138228\n",
      "Iter: 2500, weights: [18.04956693  0.02651435 -0.06820444 19.67688851], error 88.18812491762404\n",
      "Iter: 3000, weights: [18.05442838 -0.04237223 -0.08303126 19.67332677], error 88.14796221135191\n",
      "Iter: 3500, weights: [18.05867422  0.0902249  -0.09774917 19.67236081], error 87.98545488367162\n",
      "Iter: 4000, weights: [ 1.80620906e+01  1.71077455e-02 -1.16363455e-01  1.96697570e+01], error 87.83912869302712\n",
      "Iter: 4500, weights: [18.06451327 -0.05694091 -0.1379191  19.66538193], error 89.05923986142263\n",
      "Final MSE: 88.89148952422056\n",
      "reg (lambda)=0.15000000000000002\n",
      "Iter: 0, weights: [ 2.13069298  0.08271649 -0.52241149  2.47050194], error 3115.422327308982\n",
      "Iter: 500, weights: [ 1.09255589e+01 -1.19553303e-01  3.44682392e-03  2.24278293e+01], error 143.29293080920496\n",
      "Iter: 1000, weights: [ 1.06570064e+01 -1.83957354e-01  1.91779511e-02  2.25617646e+01], error 145.25841365572376\n",
      "Iter: 1500, weights: [ 1.05831230e+01 -2.16599519e-02 -1.42122563e-01  2.26028577e+01], error 143.5808351750301\n",
      "Iter: 2000, weights: [10.55665846  0.08162976 -0.11762457 22.61560684], error 144.408757114563\n",
      "Iter: 2500, weights: [10.54681534 -0.14554806 -0.12861777 22.62106403], error 144.63945373959316\n",
      "Iter: 3000, weights: [10.54863431 -0.10888596 -0.1772942  22.61802029], error 144.29998879127123\n",
      "Iter: 3500, weights: [10.54530286 -0.05447805 -0.21249544 22.61559184], error 146.20030921315532\n",
      "Iter: 4000, weights: [ 1.05447821e+01 -1.97004576e-04 -2.45425755e-01  2.26196151e+01], error 146.0057470371782\n",
      "Iter: 4500, weights: [1.05468029e+01 4.20597906e-02 1.17218084e-02 2.26211222e+01], error 145.66368978924814\n",
      "Final MSE: 145.4437808424245\n",
      "reg (lambda)=0.2\n",
      "Iter: 0, weights: [ 0.23379714 -0.19508169 -0.38731876  1.82549196], error 3637.1972153677298\n",
      "Iter: 500, weights: [ 4.92552359  0.03386884 -0.30454057 24.60450385], error 208.3586065076709\n",
      "Iter: 1000, weights: [ 3.55729798e+00 -2.01014311e-01  5.66163673e-04  2.52984195e+01], error 221.4493150559345\n",
      "Iter: 1500, weights: [ 3.17149217 -0.24345915 -0.10198543 25.50001812], error 223.3945018196799\n",
      "Iter: 2000, weights: [ 3.08482684 -0.14352054 -0.18466347 25.54116646], error 223.8573249899717\n",
      "Iter: 2500, weights: [ 3.06161013 -0.18562015 -0.02750273 25.55019367], error 226.13936251037362\n",
      "Iter: 3000, weights: [ 3.04523585 -0.22463081 -0.26587044 25.55979796], error 222.53703966995596\n",
      "Iter: 3500, weights: [ 3.03251691 -0.25481595 -0.09274505 25.57285884], error 224.79209180940794\n",
      "Iter: 4000, weights: [ 3.02181058  0.1006392  -0.3339852  25.57097862], error 227.06179642711845\n",
      "Iter: 4500, weights: [ 3.01444661  0.06784208 -0.15890631 25.58004116], error 223.50939659803976\n",
      "Final MSE: 225.71766008353333\n",
      "reg (lambda)=0.25\n",
      "Iter: 0, weights: [ 1.38962596  1.33641143 -0.08942561  2.48135842], error 3126.677286039764\n",
      "Iter: 500, weights: [ 1.58815776e-01  2.29153445e-02 -2.40460136e-01  2.62114607e+01], error 268.608906373741\n",
      "Iter: 1000, weights: [ 1.76712959e-01  2.85879803e-03 -1.78432062e-01  2.62084173e+01], error 269.0140696908694\n",
      "Iter: 1500, weights: [ 1.93628734e-01 -9.18800907e-03 -1.14478223e-01  2.62054405e+01], error 269.53503022405346\n",
      "Iter: 2000, weights: [ 0.23157767 -0.05886161 -0.08749939 26.21252633], error 268.4272431426153\n",
      "Iter: 2500, weights: [ 0.26926582 -0.12368951 -0.07639049 26.20794255], error 267.30965401448873\n",
      "Iter: 3000, weights: [ 0.2967225  -0.16951357 -0.04016349 26.20296872], error 270.8537993865121\n",
      "Iter: 3500, weights: [ 3.36399600e-01 -2.07517463e-01 -7.84144059e-03  2.62160073e+01], error 269.7200503841885\n",
      "Iter: 4000, weights: [ 3.74274078e-01 -2.60589894e-01  1.93018020e-02  2.62230026e+01], error 268.5943432584784\n",
      "Iter: 4500, weights: [ 0.41049961 -0.30323768  0.05690519 26.23385049], error 267.66550913400806\n",
      "Final MSE: 267.4193640660709\n",
      "reg (lambda)=0.30000000000000004\n",
      "Iter: 0, weights: [ 1.40711673 -0.6497639   0.925965    2.22763185], error 3259.861834652292\n",
      "Iter: 500, weights: [ 0.19318581 -0.29099266 -0.18307527 25.47567845], error 289.23254496227844\n",
      "Iter: 1000, weights: [ 0.39215262 -0.10552817  0.14079209 25.48781039], error 285.1341133125896\n",
      "Iter: 1500, weights: [-8.74468187e-03  7.23091211e-02 -1.36079479e-01  2.54981987e+01], error 293.164793938105\n",
      "Iter: 2000, weights: [ 0.16613856 -0.33619689 -0.40735482 25.47223172], error 295.14603959497595\n",
      "Iter: 2500, weights: [ 0.3639449  -0.14902414 -0.08438695 25.4811965 ], error 286.78388725696607\n",
      "Iter: 3000, weights: [-0.02760417  0.03016866 -0.36854464 25.50346642], error 298.3816293124185\n",
      "Iter: 3500, weights: [ 1.44052399e-01  2.26661303e-01 -2.16674299e-02  2.54836154e+01], error 292.0254390317071\n",
      "Iter: 4000, weights: [ 0.34187188 -0.20411751 -0.31885512 25.47846872], error 292.4530123677938\n",
      "Iter: 4500, weights: [ 5.51984705e-01 -1.23114622e-02  1.05696240e-02  2.55126723e+01], error 295.23842036866165\n",
      "Final MSE: 289.30699392398446\n",
      "reg (lambda)=0.35000000000000003\n",
      "Iter: 0, weights: [0.88120507 0.33506545 0.35694786 2.19776452], error 3389.198624038089\n",
      "Iter: 500, weights: [ 0.20398967 -0.11424111  0.18814086 24.75391514], error 313.0649656745719\n",
      "Iter: 1000, weights: [ 0.11991277  0.14121359 -0.09166019 24.75804721], error 313.3299821673548\n",
      "Iter: 1500, weights: [ 0.04231253 -0.33542478 -0.39572572 24.75576851], error 322.3350991458209\n",
      "Iter: 2000, weights: [-0.04306637 -0.05885928  0.0450137  24.77212032], error 318.38153259669724\n",
      "Iter: 2500, weights: [ 0.58192818  0.18368736 -0.2385091  24.7891612 ], error 317.7985799814201\n",
      "Iter: 3000, weights: [ 0.47886641 -0.2648324   0.17799672 24.75709879], error 307.9150709417246\n",
      "Iter: 3500, weights: [ 3.86884352e-01  3.98390578e-03 -8.68062408e-02  2.47577387e+01], error 304.6263570362677\n",
      "Iter: 4000, weights: [ 0.29841831  0.24723271 -0.37775442 24.74714507], error 314.38909270664465\n",
      "Iter: 4500, weights: [ 0.20689865 -0.18547939  0.05075613 24.74422032], error 315.3234291120164\n"
     ]
    },
    {
     "name": "stdout",
     "output_type": "stream",
     "text": [
      "Final MSE: 311.0316692319297\n",
      "reg (lambda)=0.4\n",
      "Iter: 0, weights: [1.71758092 0.29552179 0.09305115 1.51501997], error 3436.521732039306\n",
      "Iter: 500, weights: [ 0.67507721 -0.45203145 -0.25480458 24.02637603], error 356.4870435099871\n",
      "Iter: 1000, weights: [ 0.57072737  0.12380026  0.11561257 24.03047705], error 327.0470023419358\n",
      "Iter: 1500, weights: [ 0.45661802 -0.09020211 -0.30593947 24.02362363], error 334.4572625394001\n",
      "Iter: 2000, weights: [ 3.62113361e-01 -3.65389715e-01  1.48117934e-02  2.40100306e+01], error 335.01670612245033\n",
      "Iter: 2500, weights: [ 0.25308053  0.22788027 -0.39947661 24.01756681], error 341.8324608355\n",
      "Iter: 3000, weights: [ 1.53689980e-01 -3.90419734e-03 -3.40803690e-02  2.40272933e+01], error 338.4929007370728\n",
      "Iter: 3500, weights: [ 0.05912186 -0.25227766 -0.49201279 24.02971606], error 348.34234236191907\n",
      "Iter: 4000, weights: [-0.04876237  0.34915309 -0.09932741 24.03885184], error 345.53998076938956\n",
      "Iter: 4500, weights: [ 0.66082771  0.09719794  0.23970418 24.04413105], error 351.06378234969037\n",
      "Final MSE: 326.3663655188229\n",
      "reg (lambda)=0.45\n",
      "Iter: 0, weights: [2.03934789 0.92674998 0.42221485 2.81031135], error 2909.7755373311766\n",
      "Iter: 500, weights: [ 0.21857917  0.26864206 -0.38159041 23.28984926], error 373.4702785130681\n",
      "Iter: 1000, weights: [ 0.24037261  0.20321604  0.05227981 23.27778628], error 368.0214483638089\n",
      "Iter: 1500, weights: [ 0.26439708  0.14488972 -0.39065476 23.28491804], error 371.4439536202448\n",
      "Iter: 2000, weights: [ 0.28090246  0.08786722  0.06425932 23.27866408], error 366.26150579725186\n",
      "Iter: 2500, weights: [ 0.3132732   0.05117481 -0.38508249 23.29668046], error 368.8109264481433\n",
      "Iter: 3000, weights: [ 3.35973575e-01 -1.62300137e-02  6.06040571e-02  2.32943073e+01], error 363.15967485620666\n",
      "Iter: 3500, weights: [ 0.35227234 -0.077913   -0.37984679 23.29018413], error 367.3047383586511\n",
      "Iter: 4000, weights: [ 0.37799344 -0.12935503  0.05725548 23.28710075], error 365.12501781087417\n",
      "Iter: 4500, weights: [ 0.39500157 -0.18008114 -0.38436134 23.28409651], error 369.75268665271904\n",
      "Final MSE: 362.0350731246459\n",
      "reg (lambda)=0.5\n",
      "Iter: 0, weights: [1.51576513 0.67668123 1.69709213 1.43091016], error 3463.9904813523935\n",
      "Iter: 500, weights: [ 0.83764167 -0.43476592 -0.02785275 22.59123503], error 414.9032993580098\n",
      "Iter: 1000, weights: [ 0.55162585  0.06791824 -0.21843397 22.57208828], error 394.98583038542\n",
      "Iter: 1500, weights: [ 0.28942797 -0.47977233 -0.43066277 22.57884225], error 403.9757929121232\n",
      "Iter: 2000, weights: [ 1.07676604e-02  4.27144366e-02 -5.87900457e-01  2.25956826e+01], error 410.52957722723914\n",
      "Iter: 2500, weights: [ 0.74744904 -0.4639995   0.22260433 22.61606456], error 419.3176526436455\n",
      "Iter: 3000, weights: [ 0.45084108  0.02838157  0.04464344 22.58692406], error 390.91928845547733\n",
      "Iter: 3500, weights: [ 0.17618419 -0.49442626 -0.15858575 22.57815083], error 401.19511893349164\n",
      "Iter: 4000, weights: [-9.19835949e-02 -2.18833528e-03 -3.55404565e-01  2.25846262e+01], error 417.22156618269554\n",
      "Iter: 4500, weights: [ 0.62678736 -0.50934119 -0.54168219 22.57582274], error 390.20116768462213\n",
      "Final MSE: 398.14480617912466\n",
      "reg (lambda)=0.55\n",
      "Iter: 0, weights: [ 1.0790535  -0.02525227 -0.40138904  2.67052431], error 3442.115775922716\n",
      "Iter: 500, weights: [ 0.79965989  0.12669428 -0.3566577  21.86859507], error 463.6621556540223\n",
      "Iter: 1000, weights: [ 0.3556789  -0.037281   -0.42790957 21.83481585], error 437.71926193131094\n",
      "Iter: 1500, weights: [-0.0643974  -0.23243782 -0.49198615 21.84398116], error 456.283856449884\n",
      "Iter: 2000, weights: [ 0.61154612 -0.3997094  -0.55116694 21.85266951], error 427.1604605056018\n",
      "Iter: 2500, weights: [ 0.17294328 -0.56906867 -0.60448175 21.83955247], error 444.64139245231684\n",
      "Iter: 3000, weights: [ 0.86483353  0.3573421   0.43523208 21.8719498 ], error 458.56823482930304\n",
      "Iter: 3500, weights: [ 0.42479272  0.1831114   0.38249744 21.85607992], error 431.64597667239286\n",
      "Iter: 4000, weights: [-1.50372378e-03  1.81221088e-02  3.22688810e-01  2.18606387e+01], error 448.02649946220106\n",
      "Iter: 4500, weights: [ 0.67537306 -0.17294578  0.23766802 21.85115938], error 422.5362947016418\n",
      "Final MSE: 441.2479859170201\n",
      "reg (lambda)=0.6000000000000001\n",
      "Iter: 0, weights: [-1.48283108 -0.38050881  0.50429414  3.95015203], error 3170.212624298759\n",
      "Iter: 500, weights: [-1.30285748e-02  4.22209186e-01 -8.82630882e-02  2.11014838e+01], error 489.54671009223983\n",
      "Iter: 1000, weights: [ 0.43278924 -0.50967742  0.50404459 21.09952428], error 474.7244745158424\n",
      "Iter: 1500, weights: [ 0.90304967 -0.26111578 -0.10505621 21.13913273], error 499.926479593129\n",
      "Iter: 2000, weights: [ 0.12350918  0.04208679  0.51507807 21.1156021 ], error 486.34435881851095\n",
      "Iter: 2500, weights: [ 0.54610777  0.32183547 -0.0525025  21.09778757], error 465.6583398918016\n",
      "Iter: 3000, weights: [ 0.98447385 -0.54511142 -0.59857333 21.12607083], error 502.03356373826483\n",
      "Iter: 3500, weights: [ 1.96981257e-01 -3.04085047e-01 -7.33616161e-03  2.10638122e+01], error 483.804959035467\n",
      "Iter: 4000, weights: [ 6.62225549e-01  1.92519532e-02 -5.64368668e-01  2.11315419e+01], error 462.92241280395064\n",
      "Iter: 4500, weights: [-0.0990857   0.29055271  0.04488922 21.12604957], error 492.46395081537014\n",
      "Final MSE: 480.8666461383999\n",
      "reg (lambda)=0.65\n",
      "Iter: 0, weights: [ 0.12592519 -0.1487643   0.62288305  2.00626547], error 3425.7284951001334\n",
      "Iter: 500, weights: [ 0.73433975 -0.64761903 -0.50879412 20.4013282 ], error 504.1803792986464\n",
      "Iter: 1000, weights: [ 0.28882705 -0.38688772 -0.26775741 20.36172106], error 529.4629832510582\n",
      "Iter: 1500, weights: [-0.14814613  0.02271817  0.08309263 20.41712863], error 539.4252741539502\n",
      "Iter: 2000, weights: [ 0.70940973  0.30111331  0.32437352 20.38569883], error 503.21589936813945\n",
      "Iter: 2500, weights: [ 0.25935145 -0.62482337 -0.65339072 20.39851408], error 524.9502656884457\n",
      "Iter: 3000, weights: [-0.17329389 -0.34742636 -0.41300602 20.38323298], error 548.3537213104206\n",
      "Iter: 3500, weights: [ 0.68427557  0.05952386 -0.06224622 20.42800368], error 499.64735791597576\n",
      "Iter: 4000, weights: [ 0.23468308  0.32971627  0.17321521 20.38070435], error 524.4013523823578\n",
      "Iter: 4500, weights: [-0.19687821 -0.58738066  0.50552451 20.43101921], error 542.8962160060099\n",
      "Final MSE: 508.26881944517544\n",
      "reg (lambda)=0.7000000000000001\n",
      "Iter: 0, weights: [-0.8190389   0.73057225  0.01821341  1.6008121 ], error 3628.8720303188115\n",
      "Iter: 500, weights: [-0.06994259  0.04597939  0.08334974 19.72124751], error 582.66672238456\n",
      "Iter: 1000, weights: [ 0.07695647  0.04420464 -0.13819636 19.69285405], error 583.0150646815899\n",
      "Iter: 1500, weights: [ 0.23724728  0.04518829 -0.3524395  19.69478904], error 573.8451853123563\n",
      "Iter: 2000, weights: [ 0.38308641  0.0427233  -0.57034792 19.67134919], error 567.4519655381189\n",
      "Iter: 2500, weights: [ 0.5406383   0.05835507  0.63520353 19.68536612], error 557.856964268584\n",
      "Iter: 3000, weights: [ 0.71188339  0.05616253  0.41657102 19.70700614], error 547.1008619256767\n",
      "Iter: 3500, weights: [ 0.87775213  0.04333049  0.1793698  19.70426572], error 538.572278945029\n",
      "Iter: 4000, weights: [ 1.05049068  0.05860109 -0.03197391 19.72544166], error 595.8261826891013\n",
      "Iter: 4500, weights: [-0.19870216  0.04153962 -0.27180046 19.69280347], error 595.8617955062554\n",
      "Final MSE: 586.0586481211454\n",
      "reg (lambda)=0.75\n",
      "Iter: 0, weights: [ 1.61403613  0.19074527 -0.22603055  2.46784593], error 2930.89188294967\n",
      "Iter: 500, weights: [ 0.93039067 -0.23360227 -0.52736826 18.8692294 ], error 596.5854132563295\n",
      "Iter: 1000, weights: [-0.16543928 -0.23519134  0.37780128 18.88370571], error 648.5014507497647\n",
      "Iter: 1500, weights: [ 0.2307949  -0.23151842 -0.21612281 18.88559267], error 632.7061747161304\n",
      "Iter: 2000, weights: [ 0.62843196 -0.23019416  0.67921932 18.88236149], error 609.1046798778809\n",
      "Iter: 2500, weights: [ 1.05153729 -0.23343967  0.07939931 18.92444323], error 658.7548906291119\n",
      "Iter: 3000, weights: [-0.06288036 -0.24072252 -0.52876987 18.89861902], error 644.9376719879192\n",
      "Iter: 3500, weights: [ 0.31851119 -0.23417682  0.39320318 18.88707189], error 623.1360063862114\n",
      "Iter: 4000, weights: [ 0.72494089 -0.22181374 -0.18744221 18.91689444], error 605.2798427367064\n",
      "Iter: 4500, weights: [ 1.10216085 -0.21256217 -0.76528179 18.89881276], error 661.234209370585\n",
      "Final MSE: 639.5815467690894\n",
      "reg (lambda)=0.8\n",
      "Iter: 0, weights: [ 0.59717052 -0.24174676 -0.10343933  2.55380009], error 3246.513958245644\n",
      "Iter: 500, weights: [-0.0410979   0.13175905 -0.29417367 18.17964967], error 700.956344603778\n",
      "Iter: 1000, weights: [ 1.28065187 -0.21537173 -0.23057127 18.19079613], error 714.1807533846146\n",
      "Iter: 1500, weights: [ 1.03829295 -0.7171575  -0.25269205 18.2026771 ], error 726.6249933624061\n",
      "Iter: 2000, weights: [ 0.72102311  0.59846775 -0.11794054 18.19530237], error 658.3697765863078\n",
      "Iter: 2500, weights: [ 0.49890743 -0.05045671 -0.29445213 18.13283763], error 674.3398283163052\n",
      "Iter: 3000, weights: [ 0.26322223 -0.44055051 -0.26432294 18.19377908], error 681.8928975699965\n"
     ]
    },
    {
     "name": "stdout",
     "output_type": "stream",
     "text": [
      "Iter: 3500, weights: [-0.02684365  0.73991127 -0.24633634 18.15103484], error 701.7737072219713\n",
      "Iter: 4000, weights: [-0.27968002  0.37337534 -0.16757683 18.21802842], error 710.6053535649523\n",
      "Iter: 4500, weights: [ 1.03702678 -0.06197139 -0.15035153 18.18607478], error 728.6869466503088\n",
      "Final MSE: 651.9873632510368\n",
      "reg (lambda)=0.8500000000000001\n",
      "Iter: 0, weights: [0.31527809 0.08981958 0.81589079 1.28676924], error 3325.690996863005\n",
      "Iter: 500, weights: [ 0.79114142 -0.37174986  0.55414856 17.45557539], error 707.8931126667692\n",
      "Iter: 1000, weights: [ 0.20584791 -0.08675824  0.48900094 17.43274456], error 742.1508926473664\n",
      "Iter: 1500, weights: [ 1.33050871  0.29246655  0.51377067 17.48896445], error 774.3180085173252\n",
      "Iter: 2000, weights: [ 0.68218855  0.66893177  0.53537093 17.41833333], error 719.3726272570917\n",
      "Iter: 2500, weights: [ 0.13135633 -0.81282779  0.41064601 17.41361977], error 750.0574067513427\n",
      "Iter: 3000, weights: [ 1.27644289 -0.40849232  0.41304307 17.48887552], error 773.6696286663658\n",
      "Iter: 3500, weights: [ 0.65746005 -0.11308777  0.35842808 17.41450351], error 718.0557144513406\n",
      "Iter: 4000, weights: [ 0.11625766  0.12463797  0.26380116 17.44694379], error 751.166474173476\n",
      "Iter: 4500, weights: [ 1.25960318  0.49243283  0.24986777 17.50654538], error 775.7163571429699\n",
      "Final MSE: 719.0772200132499\n",
      "reg (lambda)=0.9\n",
      "Iter: 0, weights: [1.35107192 0.47100283 0.56775319 2.26102391], error 3008.2453767243974\n",
      "Iter: 500, weights: [ 0.78052905 -0.43184564  0.46228731 16.72220839], error 769.5683551792215\n",
      "Iter: 1000, weights: [ 3.24913389e-01 -1.07489942e-02 -6.37536677e-01  1.66621347e+01], error 802.5154699678714\n",
      "Iter: 1500, weights: [-0.07007618  0.47294946  0.1462383  16.76168704], error 820.3953599816184\n",
      "Iter: 2000, weights: [ 1.31317683  0.87167198  0.86615493 16.78491372], error 841.1218460865459\n",
      "Iter: 2500, weights: [ 0.8771608  -0.4847204  -0.25176585 16.74850584], error 763.8420434632317\n",
      "Iter: 3000, weights: [ 0.49430839 -0.19527044  0.31865377 16.71569961], error 786.0284061489002\n",
      "Iter: 3500, weights: [ 0.03373318  0.25122478 -0.71797127 16.69155014], error 821.9125400426437\n",
      "Iter: 4000, weights: [ 1.43266829  0.7046689   0.04343611 16.76762304], error 836.550474487394\n",
      "Iter: 4500, weights: [ 1.03240401 -0.84608571  0.576886   16.67686667], error 761.0208051720813\n",
      "Final MSE: 783.8276331263144\n",
      "reg (lambda)=0.9500000000000001\n",
      "Iter: 0, weights: [1.59172188 0.09648036 0.98982312 1.71473615], error 3037.9263546782104\n",
      "Iter: 500, weights: [ 0.88640136  0.94337343 -0.61525652 15.98367442], error 830.9123901626547\n",
      "Iter: 1000, weights: [ 0.83624863 -0.4569437   0.71548684 15.99259595], error 830.7474999927894\n",
      "Iter: 1500, weights: [ 0.87209257 -0.08060875  0.03717148 16.07338175], error 818.8557901123531\n",
      "Iter: 2000, weights: [ 0.86868098  0.27455538 -0.71467792 16.03946639], error 829.6352620449422\n",
      "Iter: 2500, weights: [ 0.75731434  0.7185485   0.56260301 15.90295387], error 848.5662028557429\n",
      "Iter: 3000, weights: [ 0.75433822 -0.8027101  -0.09819886 15.92694337], error 844.7850796681112\n",
      "Iter: 3500, weights: [ 0.8302562  -0.43696471 -0.8279573  16.04264591], error 826.2158641763941\n",
      "Iter: 4000, weights: [ 0.80818065 -0.13965171  0.30755907 15.96519903], error 833.9280700054017\n",
      "Iter: 4500, weights: [ 0.76225981  0.25143416 -0.37144848 15.90105712], error 850.2872688905984\n",
      "Final MSE: 826.8506759945212\n"
     ]
    }
   ],
   "source": [
    "W_list = []\n",
    "reg_list = []\n",
    "\n",
    "for reg in np.arange(0, 1, 0.05):\n",
    "    print(f'reg (lambda)={reg}')\n",
    "    W = gradient_descent_reg_l1(X_st, y, iterations=5000, eta=1e-2, reg=reg)\n",
    "    W_list.append(W)\n",
    "    reg_list.append(reg)"
   ]
  },
  {
   "cell_type": "code",
   "execution_count": 14,
   "metadata": {},
   "outputs": [
    {
     "data": {
      "image/png": "[encoded data removed]",
      "text/plain": [
       "<Figure size 432x288 with 1 Axes>"
      ]
     },
     "metadata": {
      "needs_background": "light"
     },
     "output_type": "display_data"
    }
   ],
   "source": [
    "plt.plot(reg_list, W_list)\n",
    "plt.title('График зависимости весов всех признаков \\n от lambda в самописной L1-регуляризации')\n",
    "#plt.xticks(np.arange(0, 101, 10))\n",
    "plt.xlabel('reg (lambda)')\n",
    "plt.ylabel('Веса признаков');"
   ]
  },
  {
   "cell_type": "markdown",
   "metadata": {},
   "source": [
    "3. *Можно ли к одному и тому же признаку применить сразу и нормализацию, и стандартизацию?"
   ]
  },
  {
   "cell_type": "code",
   "execution_count": 15,
   "metadata": {},
   "outputs": [
    {
     "name": "stdout",
     "output_type": "stream",
     "text": [
      "[[ 1.         -0.70710678 -0.97958969  1.        ]\n",
      " [ 1.         -0.70710678 -0.56713087  1.        ]\n",
      " [ 1.         -0.35355339 -0.46401617  2.        ]\n",
      " [ 1.          0.70710678 -0.77336028  1.        ]\n",
      " [ 1.          0.          0.97958969  2.        ]\n",
      " [ 1.         -1.06066017 -0.36090146  1.        ]\n",
      " [ 1.          0.70710678  1.08270439  3.        ]\n",
      " [ 1.          2.47487373  2.11385144  3.        ]\n",
      " [ 1.         -0.70710678 -1.08270439  1.        ]\n",
      " [ 1.         -0.35355339  0.05155735  2.        ]]\n"
     ]
    },
    {
     "data": {
      "text/plain": [
       "array([[1.        , 0.1       , 0.03225806, 1.        ],\n",
       "       [1.        , 0.1       , 0.16129032, 1.        ],\n",
       "       [1.        , 0.2       , 0.19354839, 2.        ],\n",
       "       [1.        , 0.5       , 0.09677419, 1.        ],\n",
       "       [1.        , 0.3       , 0.64516129, 2.        ],\n",
       "       [1.        , 0.        , 0.22580645, 1.        ],\n",
       "       [1.        , 0.5       , 0.67741935, 3.        ],\n",
       "       [1.        , 1.        , 1.        , 3.        ],\n",
       "       [1.        , 0.1       , 0.        , 1.        ],\n",
       "       [1.        , 0.2       , 0.35483871, 2.        ]])"
      ]
     },
     "execution_count": 15,
     "metadata": {},
     "output_type": "execute_result"
    }
   ],
   "source": [
    "# стандартизируем 2-й и 3-й признаки с изменением типа на float\n",
    "X_st = X.copy().astype(np.float64)\n",
    "X_norm = X.copy().astype(np.float64)\n",
    "X_st[:, 1] = standart_scale(X_st[:, 1])\n",
    "X_st[:, 2] = standart_scale(X_st[:, 2])\n",
    "print(X_st)\n",
    "\n",
    "# нормализуем стандартизированные 2-й и 3-й признаки\n",
    "X_norm[:, 1] = normal_scale(X_st[:, 1])\n",
    "X_norm[:, 2] = normal_scale(X_st[:, 2])\n",
    "X_norm"
   ]
  },
  {
   "cell_type": "code",
   "execution_count": 16,
   "metadata": {},
   "outputs": [
    {
     "data": {
      "image/png": "[encoded data removed]",
      "text/plain": [
       "<Figure size 432x288 with 1 Axes>"
      ]
     },
     "metadata": {
      "needs_background": "light"
     },
     "output_type": "display_data"
    }
   ],
   "source": [
    "plt.hist(X_st, bins=5);"
   ]
  },
  {
   "cell_type": "code",
   "execution_count": 17,
   "metadata": {},
   "outputs": [
    {
     "data": {
      "image/png": "[encoded data removed]",
      "text/plain": [
       "<Figure size 432x288 with 1 Axes>"
      ]
     },
     "metadata": {
      "needs_background": "light"
     },
     "output_type": "display_data"
    }
   ],
   "source": [
    "plt.hist(X_norm, bins=5);"
   ]
  },
  {
   "cell_type": "markdown",
   "metadata": {},
   "source": [
    "4. *Сгенерируйте датасет при помощи <code>sklearn.datasets.make_regression</code> и обучите линейную модель при помощи градиентного и стохастического градиентного спуска. Нанесите среднеквадратичную ошибку для обоих методов на один график, сделайте выводы о разнице скорости сходимости каждого из методов."
   ]
  },
  {
   "cell_type": "code",
   "execution_count": 18,
   "metadata": {},
   "outputs": [
    {
     "data": {
      "image/png": "[encoded data removed]",
      "text/plain": [
       "<Figure size 432x288 with 1 Axes>"
      ]
     },
     "metadata": {
      "needs_background": "light"
     },
     "output_type": "display_data"
    },
    {
     "data": {
      "text/plain": [
       "array(50.89074224)"
      ]
     },
     "execution_count": 18,
     "metadata": {},
     "output_type": "execute_result"
    }
   ],
   "source": [
    "# sklearn.datasets.make_regression(n_samples=100, n_features=100, *, n_informative=10, n_targets=1, bias=0.0,\n",
    "#          effective_rank=None, tail_strength=0.5, noise=0.0, shuffle=True, coef=False, random_state=None)\n",
    "from sklearn.datasets import make_regression\n",
    "from matplotlib import pyplot\n",
    "# generate regression dataset\n",
    "X, y, coef = make_regression(n_samples=10000, n_features=1, noise=1.8, coef=True)\n",
    "# plot regression dataset\n",
    "pyplot.scatter(X, y)\n",
    "pyplot.show()\n",
    "coef"
   ]
  },
  {
   "cell_type": "code",
   "execution_count": 19,
   "metadata": {},
   "outputs": [],
   "source": [
    "# градиентный спуск\n",
    "def gradient_descent(X, y, iterations, eta):\n",
    "    W = np.random.randn(X.shape[1])\n",
    "    n = X.shape[0]\n",
    "    #global err_list_gd\n",
    "    err_list_gd = []\n",
    "    for i in range(0, iterations):\n",
    "        y_pred = np.dot(X, W)\n",
    "        err = calc_mse(y, y_pred)\n",
    "        err_list_gd.append(err)\n",
    "        dQ = 2/n * X.T @ (y_pred - y) # градиент функции ошибки\n",
    "        W -= eta * dQ\n",
    "        if i % (iterations / 10) == 0:\n",
    "            print(f'Iter: {i}, weights: {W}, error {err}')\n",
    "    print(f'Final MSE: {calc_mse(y, np.dot(X, W))}')\n",
    "    return W, err_list_gd"
   ]
  },
  {
   "cell_type": "code",
   "execution_count": 20,
   "metadata": {},
   "outputs": [
    {
     "name": "stdout",
     "output_type": "stream",
     "text": [
      "Iter: 0, weights: [0.18338458], error 2582.054775687444\n",
      "Iter: 5000, weights: [32.28547372], error 350.51661332896913\n",
      "Iter: 10000, weights: [44.0661958], error 49.9909620934428\n",
      "Iter: 15000, weights: [48.38944754], error 9.518579154184414\n",
      "Iter: 20000, weights: [49.97598065], error 4.068083417639114\n",
      "Iter: 25000, weights: [50.55820149], error 3.33405439299059\n",
      "Iter: 30000, weights: [50.77186304], error 3.2352012546579214\n",
      "Iter: 35000, weights: [50.85027187], error 3.2218885073004393\n",
      "Iter: 40000, weights: [50.8790461], error 3.2200956533233724\n",
      "Iter: 45000, weights: [50.88960557], error 3.2198542061377005\n",
      "Final MSE: 3.2198216899683865\n"
     ]
    }
   ],
   "source": [
    "W, err_list_gd = gradient_descent(X, y, iterations=50000, eta=1e-4)"
   ]
  },
  {
   "cell_type": "code",
   "execution_count": 21,
   "metadata": {},
   "outputs": [
    {
     "data": {
      "image/png": "[encoded data removed]",
      "text/plain": [
       "<Figure size 432x288 with 1 Axes>"
      ]
     },
     "metadata": {
      "needs_background": "light"
     },
     "output_type": "display_data"
    }
   ],
   "source": [
    "plt.plot(err_list_gd)\n",
    "plt.title('График среднеквадратичной ошибки GD')\n",
    "#plt.xticks(np.arange(0, 101, 10))\n",
    "#plt.xlabel('reg (lambda)')\n",
    "#plt.xlim(0, 100)\n",
    "plt.ylabel('MSE');"
   ]
  },
  {
   "cell_type": "code",
   "execution_count": 22,
   "metadata": {},
   "outputs": [],
   "source": [
    "# стохастический градиентный спуск\n",
    "def stohastic_gradient_descent(X, y, iterations, batch_size, eta=1e-4):\n",
    "    W = np.random.randn(X.shape[1])\n",
    "    n = X.shape[0]\n",
    "    #global err_list_sgd\n",
    "    err_list_sgd = []\n",
    "    n_batch = n // batch_size    \n",
    "    if n % batch_size != 0:\n",
    "        n_batch += 1\n",
    "    print(f'amount of batches is {n_batch}')\n",
    "        \n",
    "    for i in range(0, iterations):\n",
    "        \n",
    "        for b in range(n_batch):\n",
    "            start = batch_size * b\n",
    "            end = batch_size * (b + 1)\n",
    "            \n",
    "#             print(b, start, end)\n",
    "            \n",
    "            X_tmp = X[start : end, ]\n",
    "            y_tmp = y[start : end]\n",
    "\n",
    "            y_pred_tmp = np.dot(X_tmp, W)\n",
    "            err = calc_mse(y_tmp, y_pred_tmp)\n",
    "            err_list_sgd.append(err)\n",
    "            dQ = 2/len(y_tmp) * X_tmp.T @ (y_pred_tmp - y_tmp) # градиент функции ошибки\n",
    "            W -= (eta * dQ)\n",
    "        \n",
    "        if i % (iterations / 10) == 0:\n",
    "            print(f'Iter: {i}, weights: {W}, error {err}')\n",
    "    \n",
    "    print(f'Final MSE: {calc_mse(y, np.dot(X, W))}')\n",
    "    return W, err_list_sgd"
   ]
  },
  {
   "cell_type": "code",
   "execution_count": 23,
   "metadata": {},
   "outputs": [
    {
     "name": "stdout",
     "output_type": "stream",
     "text": [
      "amount of batches is 100\n",
      "Iter: 0, weights: [44.24500752], error 52.281558947462564\n",
      "Iter: 5000, weights: [50.89902537], error 2.9107708424479104\n",
      "Iter: 10000, weights: [50.89902537], error 2.9107708424479104\n",
      "Iter: 15000, weights: [50.89902537], error 2.9107708424479104\n",
      "Iter: 20000, weights: [50.89902537], error 2.9107708424479104\n",
      "Iter: 25000, weights: [50.89902537], error 2.9107708424479104\n",
      "Iter: 30000, weights: [50.89902537], error 2.9107708424479104\n",
      "Iter: 35000, weights: [50.89902537], error 2.9107708424479104\n",
      "Iter: 40000, weights: [50.89902537], error 2.9107708424479104\n",
      "Iter: 45000, weights: [50.89902537], error 2.9107708424479104\n",
      "Final MSE: 3.219827533545302\n"
     ]
    }
   ],
   "source": [
    "W, err_list_sgd = stohastic_gradient_descent(X, y, iterations=50000, batch_size=100, eta=1e-2)"
   ]
  },
  {
   "cell_type": "code",
   "execution_count": 26,
   "metadata": {},
   "outputs": [
    {
     "data": {
      "image/png": "[encoded data removed]",
      "text/plain": [
       "<Figure size 432x288 with 1 Axes>"
      ]
     },
     "metadata": {
      "needs_background": "light"
     },
     "output_type": "display_data"
    }
   ],
   "source": [
    "plt.plot(err_list_gd)\n",
    "plt.plot(err_list_sgd)\n",
    "#plt.title('График среднеквадратичной ошибки SGD')\n",
    "#plt.xticks(np.arange(0, 101, 10))\n",
    "#plt.xlabel('reg (lambda)')\n",
    "plt.xlim(0, 500)\n",
    "plt.ylabel('MSE');"
   ]
  },
  {
   "cell_type": "markdown",
   "metadata": {},
   "source": [
    "Выаод: скорость сходимости стохастического градиентного спуска значительно выше."
   ]
  },
  {
   "cell_type": "markdown",
   "metadata": {},
   "source": [
    "Проект: \n",
    "1. https://www.kaggle.com/c/regression-tutors-expected-math-exam-results регрессия\n",
    "1. https://www.kaggle.com/c/classification-choose-tutors классификация"
   ]
  },
  {
   "cell_type": "markdown",
   "metadata": {},
   "source": []
  }
 ],
 "metadata": {
  "kernelspec": {
   "display_name": "Python 3",
   "language": "python",
   "name": "python3"
  },
  "language_info": {
   "codemirror_mode": {
    "name": "ipython",
    "version": 3
   },
   "file_extension": ".py",
   "mimetype": "text/x-python",
   "name": "python",
   "nbconvert_exporter": "python",
   "pygments_lexer": "ipython3",
   "version": "3.7.7"
  },
  "toc": {
   "base_numbering": 1,
   "nav_menu": {},
   "number_sections": true,
   "sideBar": true,
   "skip_h1_title": false,
   "title_cell": "Table of Contents",
   "title_sidebar": "Contents",
   "toc_cell": false,
   "toc_position": {},
   "toc_section_display": true,
   "toc_window_display": false
  },
  "varInspector": {
   "cols": {
    "lenName": 16,
    "lenType": 16,
    "lenVar": 40
   },
   "kernels_config": {
    "python": {
     "delete_cmd_postfix": "",
     "delete_cmd_prefix": "del ",
     "library": "var_list.py",
     "varRefreshCmd": "print(var_dic_list())"
    },
    "r": {
     "delete_cmd_postfix": ") ",
     "delete_cmd_prefix": "rm(",
     "library": "var_list.r",
     "varRefreshCmd": "cat(var_dic_list()) "
    }
   },
   "types_to_exclude": [
    "module",
    "function",
    "builtin_function_or_method",
    "instance",
    "_Feature"
   ],
   "window_display": false
  }
 },
 "nbformat": 4,
 "nbformat_minor": 4
}
