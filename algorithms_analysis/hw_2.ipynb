{
 "cells": [
  {
   "cell_type": "code",
   "execution_count": 1,
   "metadata": {},
   "outputs": [],
   "source": [
    "import matplotlib.pyplot as plt\n",
    "%matplotlib inline"
   ]
  },
  {
   "cell_type": "markdown",
   "metadata": {},
   "source": [
    "1. Постройте график зависимости весов всех признаков от lambda в самописной L2-регуляризации (на данных про ЕГЭ). Сделайте вывод."
   ]
  },
  {
   "cell_type": "code",
   "execution_count": 26,
   "metadata": {},
   "outputs": [],
   "source": [
    "# стаж преподавателя, стоимость урока\n",
    "X = np.array([[   1,    1,  500,    1],\n",
    "              [   1,    1,  700,    1],\n",
    "              [   1,    2,  750,    2],\n",
    "              [   1,    5,  600,    1],\n",
    "              [   1,    3, 1450,    2],\n",
    "              [   1,    0,  800,    1],\n",
    "              [   1,    5, 1500,    3],\n",
    "              [   1,   10, 2000,    3],\n",
    "              [   1,    1,  450,    1],\n",
    "              [   1,    2, 1000,    2]])\n",
    "\n",
    "# полученный балл ЕГЭ\n",
    "y = [45, 55, 50, 55, 60, 35, 75, 80, 50, 60]"
   ]
  },
  {
   "cell_type": "code",
   "execution_count": 3,
   "metadata": {},
   "outputs": [],
   "source": [
    "def standart_scale(X):\n",
    "    mean = X.mean()\n",
    "    std = X.std()\n",
    "    return (X - mean) / std"
   ]
  },
  {
   "cell_type": "code",
   "execution_count": 4,
   "metadata": {},
   "outputs": [],
   "source": [
    "def normal_scale(X):\n",
    "    min_X = X.min()\n",
    "    max_X = X.max()\n",
    "    return (X - min_X) / (max_X - min_X)"
   ]
  },
  {
   "cell_type": "code",
   "execution_count": 5,
   "metadata": {},
   "outputs": [],
   "source": [
    "def calc_mse(y, y_pred):\n",
    "    err = np.mean((y - y_pred)**2)\n",
    "    return err"
   ]
  },
  {
   "cell_type": "code",
   "execution_count": 6,
   "metadata": {},
   "outputs": [
    {
     "data": {
      "text/plain": [
       "array([[ 1.        , -0.70710678, -0.97958969,  1.        ],\n",
       "       [ 1.        , -0.70710678, -0.56713087,  1.        ],\n",
       "       [ 1.        , -0.35355339, -0.46401617,  2.        ],\n",
       "       [ 1.        ,  0.70710678, -0.77336028,  1.        ],\n",
       "       [ 1.        ,  0.        ,  0.97958969,  2.        ],\n",
       "       [ 1.        , -1.06066017, -0.36090146,  1.        ],\n",
       "       [ 1.        ,  0.70710678,  1.08270439,  3.        ],\n",
       "       [ 1.        ,  2.47487373,  2.11385144,  3.        ],\n",
       "       [ 1.        , -0.70710678, -1.08270439,  1.        ],\n",
       "       [ 1.        , -0.35355339,  0.05155735,  2.        ]])"
      ]
     },
     "execution_count": 6,
     "metadata": {},
     "output_type": "execute_result"
    }
   ],
   "source": [
    "# стандартизируем 2-й и 3-й признаки с изменением типа на float\n",
    "X_st = X.copy().astype(np.float64)\n",
    "X_st[:, 1] = standart_scale(X_st[:, 1])\n",
    "X_st[:, 2] = standart_scale(X_st[:, 2])\n",
    "X_st"
   ]
  },
  {
   "cell_type": "code",
   "execution_count": 7,
   "metadata": {},
   "outputs": [],
   "source": [
    "def gradient_descent_reg_l2(X, y, iterations, eta=1e-4, reg=1e-8):\n",
    "    W = np.random.randn(X.shape[1])\n",
    "    n = X.shape[0]\n",
    "    \n",
    "    for i in range(0, iterations):\n",
    "        y_pred = np.dot(X, W)\n",
    "        err = calc_mse(y, y_pred)\n",
    "        \n",
    "        dQ = 2/n * X.T @ (y_pred - y) # градиент функции ошибки\n",
    "        dReg = reg * W # градиент регуляризации\n",
    "        W -= eta * dQ + dReg\n",
    "        if i % (iterations / 10) == 0:\n",
    "            print(f'Iter: {i}, weights: {W}, error {err}')\n",
    "    print(f'Final MSE: {calc_mse(y, np.dot(X, W))}')\n",
    "    return W"
   ]
  },
  {
   "cell_type": "code",
   "execution_count": 8,
   "metadata": {
    "scrolled": true
   },
   "outputs": [
    {
     "name": "stdout",
     "output_type": "stream",
     "text": [
      "Iter: 0, weights: [0.3528779  0.37609471 0.89057656 2.47821585], error 3339.309794587891\n",
      "Iter: 500, weights: [22.46988013  5.051288   -7.15107682 19.61293314], error 41.18551711392165\n",
      "Iter: 1000, weights: [27.09794638  5.91902119 -6.12718768 16.99413442], error 34.353394582083666\n",
      "Iter: 1500, weights: [30.27748047  6.02558942 -4.92841849 15.17901901], error 30.79144730445892\n",
      "Iter: 2000, weights: [32.5471507   6.05060204 -4.02103062 13.88165614], error 28.75873478029851\n",
      "Iter: 2500, weights: [34.1762218   6.06342991 -3.36456134 12.95029802], error 27.56501488675384\n",
      "Iter: 3000, weights: [35.34639146  6.07213261 -2.89249863 12.28128228], error 26.844647742636646\n",
      "Iter: 3500, weights: [36.18701913  6.07833342 -2.5533261  11.80067241], error 26.39790807681201\n",
      "Iter: 4000, weights: [36.79091897  6.08278295 -2.30966226 11.45540615], error 26.11349185269166\n",
      "Iter: 4500, weights: [37.22475643  6.08597895 -2.13461533 11.20736925], error 25.928015603628882\n",
      "Final MSE: 25.804497122647298\n"
     ]
    }
   ],
   "source": [
    "W = gradient_descent_reg_l2(X_st, y, iterations=5000, eta=1e-2, reg=1e-4)"
   ]
  },
  {
   "cell_type": "code",
   "execution_count": 9,
   "metadata": {},
   "outputs": [
    {
     "name": "stdout",
     "output_type": "stream",
     "text": [
      "reg (lambda)=0.0\n",
      "Iter: 0, weights: [ 1.65530825 -0.37123278  1.01705627  2.09008533], error 3282.8490397053147\n",
      "Iter: 500, weights: [23.44519066  5.14588464 -6.89111449 19.1012251 ], error 39.62291043132382\n",
      "Iter: 1000, weights: [28.22119834  6.09326728 -5.8870188  16.40040692], error 33.04848252480301\n",
      "Iter: 1500, weights: [31.66120193  6.21427626 -4.59582357 14.43678236], error 29.54712387452336\n",
      "Iter: 2000, weights: [34.24174006  6.24331935 -3.56476604 12.96174448], error 27.55267961993627\n",
      "Iter: 2500, weights: [36.1888518   6.25871524 -2.78019984 11.84856105], error 26.415075991833\n",
      "Iter: 3000, weights: [37.65921368  6.2696572  -2.18704219 11.007918  ], error 25.766185666001906\n",
      "Iter: 3500, weights: [38.7696831   6.27784919 -1.73899588 10.37303223], error 25.39605774521132\n",
      "Iter: 4000, weights: [39.60836213  6.28402863 -1.4006025   9.89353622], error 25.18493627580959\n",
      "Iter: 4500, weights: [40.24177357  6.28869487 -1.14503046  9.53139734], error 25.064512302510256\n",
      "Final MSE: 24.995822304347826\n",
      "reg (lambda)=0.05\n",
      "Iter: 0, weights: [ 1.85974697 -0.63863812 -0.06225361  0.52829437], error 3678.5218599802697\n",
      "Iter: 500, weights: [ 8.9390248   0.71204912 -0.12593695 14.83141953], error 540.1981805355225\n",
      "Iter: 1000, weights: [ 8.9390248   0.71204912 -0.12593695 14.83141953], error 540.1981805355274\n",
      "Iter: 1500, weights: [ 8.9390248   0.71204912 -0.12593695 14.83141953], error 540.1981805355274\n",
      "Iter: 2000, weights: [ 8.9390248   0.71204912 -0.12593695 14.83141953], error 540.1981805355274\n",
      "Iter: 2500, weights: [ 8.9390248   0.71204912 -0.12593695 14.83141953], error 540.1981805355274\n",
      "Iter: 3000, weights: [ 8.9390248   0.71204912 -0.12593695 14.83141953], error 540.1981805355274\n",
      "Iter: 3500, weights: [ 8.9390248   0.71204912 -0.12593695 14.83141953], error 540.1981805355274\n",
      "Iter: 4000, weights: [ 8.9390248   0.71204912 -0.12593695 14.83141953], error 540.1981805355274\n",
      "Iter: 4500, weights: [ 8.9390248   0.71204912 -0.12593695 14.83141953], error 540.1981805355274\n",
      "Final MSE: 540.1981805355274\n",
      "reg (lambda)=0.1\n",
      "Iter: 0, weights: [ 1.24763127  1.52599927 -0.62676239  0.774697  ], error 3671.2188686098475\n",
      "Iter: 500, weights: [ 6.31330114  0.71544684  0.3759989  10.95305481], error 1037.1616579116067\n",
      "Iter: 1000, weights: [ 6.31330114  0.71544684  0.3759989  10.95305481], error 1037.1616579116067\n",
      "Iter: 1500, weights: [ 6.31330114  0.71544684  0.3759989  10.95305481], error 1037.1616579116067\n",
      "Iter: 2000, weights: [ 6.31330114  0.71544684  0.3759989  10.95305481], error 1037.1616579116067\n",
      "Iter: 2500, weights: [ 6.31330114  0.71544684  0.3759989  10.95305481], error 1037.1616579116067\n",
      "Iter: 3000, weights: [ 6.31330114  0.71544684  0.3759989  10.95305481], error 1037.1616579116067\n",
      "Iter: 3500, weights: [ 6.31330114  0.71544684  0.3759989  10.95305481], error 1037.1616579116067\n",
      "Iter: 4000, weights: [ 6.31330114  0.71544684  0.3759989  10.95305481], error 1037.1616579116067\n",
      "Iter: 4500, weights: [ 6.31330114  0.71544684  0.3759989  10.95305481], error 1037.1616579116067\n",
      "Final MSE: 1037.1616579116067\n",
      "reg (lambda)=0.15000000000000002\n",
      "Iter: 0, weights: [ 0.99900227 -0.93113678  1.788567    3.08887692], error 3091.8556079532896\n",
      "Iter: 500, weights: [4.91133043 0.64884369 0.45779347 8.67864195], error 1405.7862457209253\n",
      "Iter: 1000, weights: [4.91133043 0.64884369 0.45779347 8.67864195], error 1405.7862457209253\n",
      "Iter: 1500, weights: [4.91133043 0.64884369 0.45779347 8.67864195], error 1405.7862457209253\n",
      "Iter: 2000, weights: [4.91133043 0.64884369 0.45779347 8.67864195], error 1405.7862457209253\n",
      "Iter: 2500, weights: [4.91133043 0.64884369 0.45779347 8.67864195], error 1405.7862457209253\n",
      "Iter: 3000, weights: [4.91133043 0.64884369 0.45779347 8.67864195], error 1405.7862457209253\n",
      "Iter: 3500, weights: [4.91133043 0.64884369 0.45779347 8.67864195], error 1405.7862457209253\n",
      "Iter: 4000, weights: [4.91133043 0.64884369 0.45779347 8.67864195], error 1405.7862457209253\n",
      "Iter: 4500, weights: [4.91133043 0.64884369 0.45779347 8.67864195], error 1405.7862457209253\n",
      "Final MSE: 1405.7862457209253\n",
      "reg (lambda)=0.2\n",
      "Iter: 0, weights: [ 0.32464893 -0.36841881  1.23568438  0.32653321], error 4015.223712395846\n",
      "Iter: 500, weights: [4.02577108 0.57845744 0.45319992 7.18618712], error 1679.2368700057687\n",
      "Iter: 1000, weights: [4.02577108 0.57845744 0.45319992 7.18618712], error 1679.2368700057687\n",
      "Iter: 1500, weights: [4.02577108 0.57845744 0.45319992 7.18618712], error 1679.2368700057687\n",
      "Iter: 2000, weights: [4.02577108 0.57845744 0.45319992 7.18618712], error 1679.2368700057687\n",
      "Iter: 2500, weights: [4.02577108 0.57845744 0.45319992 7.18618712], error 1679.2368700057687\n",
      "Iter: 3000, weights: [4.02577108 0.57845744 0.45319992 7.18618712], error 1679.2368700057687\n",
      "Iter: 3500, weights: [4.02577108 0.57845744 0.45319992 7.18618712], error 1679.2368700057687\n",
      "Iter: 4000, weights: [4.02577108 0.57845744 0.45319992 7.18618712], error 1679.2368700057687\n",
      "Iter: 4500, weights: [4.02577108 0.57845744 0.45319992 7.18618712], error 1679.2368700057687\n",
      "Final MSE: 1679.2368700057687\n",
      "reg (lambda)=0.25\n",
      "Iter: 0, weights: [ 1.59024564 -0.27138914  0.95633754  1.71061895], error 3385.7647404883637\n",
      "Iter: 500, weights: [3.41303878 0.51702864 0.42720453 6.13175086], error 1887.6470491670996\n",
      "Iter: 1000, weights: [3.41303878 0.51702864 0.42720453 6.13175086], error 1887.6470491670996\n",
      "Iter: 1500, weights: [3.41303878 0.51702864 0.42720453 6.13175086], error 1887.6470491670996\n",
      "Iter: 2000, weights: [3.41303878 0.51702864 0.42720453 6.13175086], error 1887.6470491670996\n",
      "Iter: 2500, weights: [3.41303878 0.51702864 0.42720453 6.13175086], error 1887.6470491670996\n",
      "Iter: 3000, weights: [3.41303878 0.51702864 0.42720453 6.13175086], error 1887.6470491670996\n",
      "Iter: 3500, weights: [3.41303878 0.51702864 0.42720453 6.13175086], error 1887.6470491670996\n",
      "Iter: 4000, weights: [3.41303878 0.51702864 0.42720453 6.13175086], error 1887.6470491670996\n",
      "Iter: 4500, weights: [3.41303878 0.51702864 0.42720453 6.13175086], error 1887.6470491670996\n",
      "Final MSE: 1887.6470491670996\n",
      "reg (lambda)=0.30000000000000004\n",
      "Iter: 0, weights: [ 0.99773667  0.85287118 -0.91030533  2.33602306], error 3312.086363328107\n",
      "Iter: 500, weights: [2.96311108 0.46545563 0.39710991 5.34718981], error 2050.9355609564873\n",
      "Iter: 1000, weights: [2.96311108 0.46545563 0.39710991 5.34718981], error 2050.9355609564873\n",
      "Iter: 1500, weights: [2.96311108 0.46545563 0.39710991 5.34718981], error 2050.9355609564873\n",
      "Iter: 2000, weights: [2.96311108 0.46545563 0.39710991 5.34718981], error 2050.9355609564873\n",
      "Iter: 2500, weights: [2.96311108 0.46545563 0.39710991 5.34718981], error 2050.9355609564873\n",
      "Iter: 3000, weights: [2.96311108 0.46545563 0.39710991 5.34718981], error 2050.9355609564873\n",
      "Iter: 3500, weights: [2.96311108 0.46545563 0.39710991 5.34718981], error 2050.9355609564873\n",
      "Iter: 4000, weights: [2.96311108 0.46545563 0.39710991 5.34718981], error 2050.9355609564873\n",
      "Iter: 4500, weights: [2.96311108 0.46545563 0.39710991 5.34718981], error 2050.9355609564873\n",
      "Final MSE: 2050.9355609564873\n",
      "reg (lambda)=0.35000000000000003\n",
      "Iter: 0, weights: [0.02053806 0.0684323  1.48792598 1.41461361], error 3794.7860561492316\n",
      "Iter: 500, weights: [2.61842713 0.42233225 0.36809343 4.74064594], error 2181.9986861322254\n",
      "Iter: 1000, weights: [2.61842713 0.42233225 0.36809343 4.74064594], error 2181.9986861322254\n",
      "Iter: 1500, weights: [2.61842713 0.42233225 0.36809343 4.74064594], error 2181.9986861322254\n",
      "Iter: 2000, weights: [2.61842713 0.42233225 0.36809343 4.74064594], error 2181.9986861322254\n",
      "Iter: 2500, weights: [2.61842713 0.42233225 0.36809343 4.74064594], error 2181.9986861322254\n",
      "Iter: 3000, weights: [2.61842713 0.42233225 0.36809343 4.74064594], error 2181.9986861322254\n",
      "Iter: 3500, weights: [2.61842713 0.42233225 0.36809343 4.74064594], error 2181.9986861322254\n",
      "Iter: 4000, weights: [2.61842713 0.42233225 0.36809343 4.74064594], error 2181.9986861322254\n",
      "Iter: 4500, weights: [2.61842713 0.42233225 0.36809343 4.74064594], error 2181.9986861322254\n",
      "Final MSE: 2181.9986861322254\n",
      "reg (lambda)=0.4\n",
      "Iter: 0, weights: [1.53996107 0.0322322  1.04160838 2.14126158], error 3213.852367920628\n",
      "Iter: 500, weights: [2.3458052  0.38605149 0.3416337  4.25770052], error 2289.371282218247\n",
      "Iter: 1000, weights: [2.3458052  0.38605149 0.3416337  4.25770052], error 2289.371282218247\n",
      "Iter: 1500, weights: [2.3458052  0.38605149 0.3416337  4.25770052], error 2289.371282218247\n",
      "Iter: 2000, weights: [2.3458052  0.38605149 0.3416337  4.25770052], error 2289.371282218247\n",
      "Iter: 2500, weights: [2.3458052  0.38605149 0.3416337  4.25770052], error 2289.371282218247\n",
      "Iter: 3000, weights: [2.3458052  0.38605149 0.3416337  4.25770052], error 2289.371282218247\n"
     ]
    },
    {
     "name": "stdout",
     "output_type": "stream",
     "text": [
      "Iter: 3500, weights: [2.3458052  0.38605149 0.3416337  4.25770052], error 2289.371282218247\n",
      "Iter: 4000, weights: [2.3458052  0.38605149 0.3416337  4.25770052], error 2289.371282218247\n",
      "Iter: 4500, weights: [2.3458052  0.38605149 0.3416337  4.25770052], error 2289.371282218247\n",
      "Final MSE: 2289.371282218247\n",
      "reg (lambda)=0.45\n",
      "Iter: 0, weights: [2.04189899 0.71537494 0.57605561 2.57936619], error 2883.999602670671\n",
      "Iter: 500, weights: [2.12472722 0.35524675 0.31797587 3.86406488], error 2378.8702163810535\n",
      "Iter: 1000, weights: [2.12472722 0.35524675 0.31797587 3.86406488], error 2378.8702163810535\n",
      "Iter: 1500, weights: [2.12472722 0.35524675 0.31797587 3.86406488], error 2378.8702163810535\n",
      "Iter: 2000, weights: [2.12472722 0.35524675 0.31797587 3.86406488], error 2378.8702163810535\n",
      "Iter: 2500, weights: [2.12472722 0.35524675 0.31797587 3.86406488], error 2378.8702163810535\n",
      "Iter: 3000, weights: [2.12472722 0.35524675 0.31797587 3.86406488], error 2378.8702163810535\n",
      "Iter: 3500, weights: [2.12472722 0.35524675 0.31797587 3.86406488], error 2378.8702163810535\n",
      "Iter: 4000, weights: [2.12472722 0.35524675 0.31797587 3.86406488], error 2378.8702163810535\n",
      "Iter: 4500, weights: [2.12472722 0.35524675 0.31797587 3.86406488], error 2378.8702163810535\n",
      "Final MSE: 2378.8702163810535\n",
      "reg (lambda)=0.5\n",
      "Iter: 0, weights: [0.43558403 0.98057087 0.73085329 1.88878966], error 3578.0676428746256\n",
      "Iter: 500, weights: [1.94180758 0.32883691 0.2969514  3.53706047], error 2454.5756153211664\n",
      "Iter: 1000, weights: [1.94180758 0.32883691 0.2969514  3.53706047], error 2454.5756153211664\n",
      "Iter: 1500, weights: [1.94180758 0.32883691 0.2969514  3.53706047], error 2454.5756153211664\n",
      "Iter: 2000, weights: [1.94180758 0.32883691 0.2969514  3.53706047], error 2454.5756153211664\n",
      "Iter: 2500, weights: [1.94180758 0.32883691 0.2969514  3.53706047], error 2454.5756153211664\n",
      "Iter: 3000, weights: [1.94180758 0.32883691 0.2969514  3.53706047], error 2454.5756153211664\n",
      "Iter: 3500, weights: [1.94180758 0.32883691 0.2969514  3.53706047], error 2454.5756153211664\n",
      "Iter: 4000, weights: [1.94180758 0.32883691 0.2969514  3.53706047], error 2454.5756153211664\n",
      "Iter: 4500, weights: [1.94180758 0.32883691 0.2969514  3.53706047], error 2454.5756153211664\n",
      "Final MSE: 2454.5756153211664\n",
      "reg (lambda)=0.55\n",
      "Iter: 0, weights: [ 1.57969111  0.40709926 -0.09047028  2.11685378], error 3207.7520507820996\n",
      "Iter: 500, weights: [1.78793509 0.30598298 0.27827133 3.26108828], error 2519.425256825663\n",
      "Iter: 1000, weights: [1.78793509 0.30598298 0.27827133 3.26108828], error 2519.425256825663\n",
      "Iter: 1500, weights: [1.78793509 0.30598298 0.27827133 3.26108828], error 2519.425256825663\n",
      "Iter: 2000, weights: [1.78793509 0.30598298 0.27827133 3.26108828], error 2519.425256825663\n",
      "Iter: 2500, weights: [1.78793509 0.30598298 0.27827133 3.26108828], error 2519.425256825663\n",
      "Iter: 3000, weights: [1.78793509 0.30598298 0.27827133 3.26108828], error 2519.425256825663\n",
      "Iter: 3500, weights: [1.78793509 0.30598298 0.27827133 3.26108828], error 2519.425256825663\n",
      "Iter: 4000, weights: [1.78793509 0.30598298 0.27827133 3.26108828], error 2519.425256825663\n",
      "Iter: 4500, weights: [1.78793509 0.30598298 0.27827133 3.26108828], error 2519.425256825663\n",
      "Final MSE: 2519.425256825663\n",
      "reg (lambda)=0.6000000000000001\n",
      "Iter: 0, weights: [ 1.08412482 -0.14703591 -0.06370271  1.96580699], error 3509.5472138739933\n",
      "Iter: 500, weights: [1.65668992 0.28603451 0.26163374 3.02506621], error 2575.584179484523\n",
      "Iter: 1000, weights: [1.65668992 0.28603451 0.26163374 3.02506621], error 2575.584179484523\n",
      "Iter: 1500, weights: [1.65668992 0.28603451 0.26163374 3.02506621], error 2575.584179484523\n",
      "Iter: 2000, weights: [1.65668992 0.28603451 0.26163374 3.02506621], error 2575.584179484523\n",
      "Iter: 2500, weights: [1.65668992 0.28603451 0.26163374 3.02506621], error 2575.584179484523\n",
      "Iter: 3000, weights: [1.65668992 0.28603451 0.26163374 3.02506621], error 2575.584179484523\n",
      "Iter: 3500, weights: [1.65668992 0.28603451 0.26163374 3.02506621], error 2575.584179484523\n",
      "Iter: 4000, weights: [1.65668992 0.28603451 0.26163374 3.02506621], error 2575.584179484523\n",
      "Iter: 4500, weights: [1.65668992 0.28603451 0.26163374 3.02506621], error 2575.584179484523\n",
      "Final MSE: 2575.584179484523\n",
      "reg (lambda)=0.65\n",
      "Iter: 0, weights: [0.6293712  0.12669128 0.56451491 2.43937259], error 3259.5341338641215\n",
      "Iter: 500, weights: [1.54341679 0.26848413 0.2467613  2.8209045 ], error 2624.6810826444153\n",
      "Iter: 1000, weights: [1.54341679 0.26848413 0.2467613  2.8209045 ], error 2624.6810826444153\n",
      "Iter: 1500, weights: [1.54341679 0.26848413 0.2467613  2.8209045 ], error 2624.6810826444153\n",
      "Iter: 2000, weights: [1.54341679 0.26848413 0.2467613  2.8209045 ], error 2624.6810826444153\n",
      "Iter: 2500, weights: [1.54341679 0.26848413 0.2467613  2.8209045 ], error 2624.6810826444153\n",
      "Iter: 3000, weights: [1.54341679 0.26848413 0.2467613  2.8209045 ], error 2624.6810826444153\n",
      "Iter: 3500, weights: [1.54341679 0.26848413 0.2467613  2.8209045 ], error 2624.6810826444153\n",
      "Iter: 4000, weights: [1.54341679 0.26848413 0.2467613  2.8209045 ], error 2624.6810826444153\n",
      "Iter: 4500, weights: [1.54341679 0.26848413 0.2467613  2.8209045 ], error 2624.6810826444153\n",
      "Final MSE: 2624.6810826444153\n",
      "reg (lambda)=0.7000000000000001\n",
      "Iter: 0, weights: [ 1.17958934  0.24874593 -0.19786747  1.91909646], error 3552.7898755658453\n",
      "Iter: 500, weights: [1.44465691 0.25293247 0.23341183 2.64255955], error 2667.963673275027\n",
      "Iter: 1000, weights: [1.44465691 0.25293247 0.23341183 2.64255955], error 2667.963673275027\n",
      "Iter: 1500, weights: [1.44465691 0.25293247 0.23341183 2.64255955], error 2667.963673275027\n",
      "Iter: 2000, weights: [1.44465691 0.25293247 0.23341183 2.64255955], error 2667.963673275027\n",
      "Iter: 2500, weights: [1.44465691 0.25293247 0.23341183 2.64255955], error 2667.963673275027\n",
      "Iter: 3000, weights: [1.44465691 0.25293247 0.23341183 2.64255955], error 2667.963673275027\n",
      "Iter: 3500, weights: [1.44465691 0.25293247 0.23341183 2.64255955], error 2667.963673275027\n",
      "Iter: 4000, weights: [1.44465691 0.25293247 0.23341183 2.64255955], error 2667.963673275027\n",
      "Iter: 4500, weights: [1.44465691 0.25293247 0.23341183 2.64255955], error 2667.963673275027\n",
      "Final MSE: 2667.963673275027\n",
      "reg (lambda)=0.75\n",
      "Iter: 0, weights: [1.06857599 0.46960053 0.58418164 2.09949326], error 3279.140511169631\n",
      "Iter: 500, weights: [1.35778641 0.23906207 0.22137836 2.48542547], error 2706.4033346816786\n",
      "Iter: 1000, weights: [1.35778641 0.23906207 0.22137836 2.48542547], error 2706.4033346816786\n",
      "Iter: 1500, weights: [1.35778641 0.23906207 0.22137836 2.48542547], error 2706.4033346816786\n",
      "Iter: 2000, weights: [1.35778641 0.23906207 0.22137836 2.48542547], error 2706.4033346816786\n",
      "Iter: 2500, weights: [1.35778641 0.23906207 0.22137836 2.48542547], error 2706.4033346816786\n",
      "Iter: 3000, weights: [1.35778641 0.23906207 0.22137836 2.48542547], error 2706.4033346816786\n",
      "Iter: 3500, weights: [1.35778641 0.23906207 0.22137836 2.48542547], error 2706.4033346816786\n",
      "Iter: 4000, weights: [1.35778641 0.23906207 0.22137836 2.48542547], error 2706.4033346816786\n",
      "Iter: 4500, weights: [1.35778641 0.23906207 0.22137836 2.48542547], error 2706.4033346816786\n",
      "Final MSE: 2706.4033346816786\n",
      "reg (lambda)=0.8\n",
      "Iter: 0, weights: [ 0.92982646 -0.36273816  0.14584661  2.24233974], error 3441.3368255568976\n",
      "Iter: 500, weights: [1.28077849 0.22661799 0.21048567 2.34593055], error 2740.7672736036743\n",
      "Iter: 1000, weights: [1.28077849 0.22661799 0.21048567 2.34593055], error 2740.7672736036743\n",
      "Iter: 1500, weights: [1.28077849 0.22661799 0.21048567 2.34593055], error 2740.7672736036743\n",
      "Iter: 2000, weights: [1.28077849 0.22661799 0.21048567 2.34593055], error 2740.7672736036743\n",
      "Iter: 2500, weights: [1.28077849 0.22661799 0.21048567 2.34593055], error 2740.7672736036743\n",
      "Iter: 3000, weights: [1.28077849 0.22661799 0.21048567 2.34593055], error 2740.7672736036743\n",
      "Iter: 3500, weights: [1.28077849 0.22661799 0.21048567 2.34593055], error 2740.7672736036743\n",
      "Iter: 4000, weights: [1.28077849 0.22661799 0.21048567 2.34593055], error 2740.7672736036743\n",
      "Iter: 4500, weights: [1.28077849 0.22661799 0.21048567 2.34593055], error 2740.7672736036743\n",
      "Final MSE: 2740.7672736036743\n",
      "reg (lambda)=0.8500000000000001\n",
      "Iter: 0, weights: [1.24952133 0.31564951 0.22699655 2.06937096], error 3148.914000282732\n",
      "Iter: 500, weights: [1.21204262 0.21539357 0.2005858  2.22126239], error 2771.669286765749\n",
      "Iter: 1000, weights: [1.21204262 0.21539357 0.2005858  2.22126239], error 2771.669286765749\n",
      "Iter: 1500, weights: [1.21204262 0.21539357 0.2005858  2.22126239], error 2771.669286765749\n",
      "Iter: 2000, weights: [1.21204262 0.21539357 0.2005858  2.22126239], error 2771.669286765749\n"
     ]
    },
    {
     "name": "stdout",
     "output_type": "stream",
     "text": [
      "Iter: 2500, weights: [1.21204262 0.21539357 0.2005858  2.22126239], error 2771.669286765749\n",
      "Iter: 3000, weights: [1.21204262 0.21539357 0.2005858  2.22126239], error 2771.669286765749\n",
      "Iter: 3500, weights: [1.21204262 0.21539357 0.2005858  2.22126239], error 2771.669286765749\n",
      "Iter: 4000, weights: [1.21204262 0.21539357 0.2005858  2.22126239], error 2771.669286765749\n",
      "Iter: 4500, weights: [1.21204262 0.21539357 0.2005858  2.22126239], error 2771.669286765749\n",
      "Final MSE: 2771.669286765749\n",
      "reg (lambda)=0.9\n",
      "Iter: 0, weights: [1.29644447 0.17380168 0.15188245 2.02487026], error 3509.7325047991158\n",
      "Iter: 500, weights: [1.15031305 0.20521968 0.19155373 2.10917633], error 2799.606156084879\n",
      "Iter: 1000, weights: [1.15031305 0.20521968 0.19155373 2.10917633], error 2799.606156084879\n",
      "Iter: 1500, weights: [1.15031305 0.20521968 0.19155373 2.10917633], error 2799.606156084879\n",
      "Iter: 2000, weights: [1.15031305 0.20521968 0.19155373 2.10917633], error 2799.606156084879\n",
      "Iter: 2500, weights: [1.15031305 0.20521968 0.19155373 2.10917633], error 2799.606156084879\n",
      "Iter: 3000, weights: [1.15031305 0.20521968 0.19155373 2.10917633], error 2799.606156084879\n",
      "Iter: 3500, weights: [1.15031305 0.20521968 0.19155373 2.10917633], error 2799.606156084879\n",
      "Iter: 4000, weights: [1.15031305 0.20521968 0.19155373 2.10917633], error 2799.606156084879\n",
      "Iter: 4500, weights: [1.15031305 0.20521968 0.19155373 2.10917633], error 2799.606156084879\n",
      "Final MSE: 2799.606156084879\n",
      "reg (lambda)=0.9500000000000001\n",
      "Iter: 0, weights: [1.08598229 0.19750684 0.17981791 2.12636281], error 3334.1973132595513\n",
      "Iter: 500, weights: [1.09456989 0.19595673 0.18328353 2.00785905], error 2824.984186175308\n",
      "Iter: 1000, weights: [1.09456989 0.19595673 0.18328353 2.00785905], error 2824.984186175308\n",
      "Iter: 1500, weights: [1.09456989 0.19595673 0.18328353 2.00785905], error 2824.984186175308\n",
      "Iter: 2000, weights: [1.09456989 0.19595673 0.18328353 2.00785905], error 2824.984186175308\n",
      "Iter: 2500, weights: [1.09456989 0.19595673 0.18328353 2.00785905], error 2824.984186175308\n",
      "Iter: 3000, weights: [1.09456989 0.19595673 0.18328353 2.00785905], error 2824.984186175308\n",
      "Iter: 3500, weights: [1.09456989 0.19595673 0.18328353 2.00785905], error 2824.984186175308\n",
      "Iter: 4000, weights: [1.09456989 0.19595673 0.18328353 2.00785905], error 2824.984186175308\n",
      "Iter: 4500, weights: [1.09456989 0.19595673 0.18328353 2.00785905], error 2824.984186175308\n",
      "Final MSE: 2824.984186175308\n"
     ]
    }
   ],
   "source": [
    "W_list = []\n",
    "reg_list = []\n",
    "\n",
    "for reg in np.arange(0, 1, 0.05):\n",
    "    print(f'reg (lambda)={reg}')\n",
    "    W = gradient_descent_reg_l2(X_st, y, iterations=5000, eta=1e-2, reg=reg)\n",
    "    W_list.append(W)\n",
    "    reg_list.append(reg)"
   ]
  },
  {
   "cell_type": "code",
   "execution_count": 10,
   "metadata": {},
   "outputs": [
    {
     "data": {
      "image/png": "[encoded data removed]",
      "text/plain": [
       "<Figure size 432x288 with 1 Axes>"
      ]
     },
     "metadata": {
      "needs_background": "light"
     },
     "output_type": "display_data"
    }
   ],
   "source": [
    "plt.plot(reg_list, W_list)\n",
    "plt.title('График зависимости весов всех признаков \\n от lambda в самописной L2-регуляризации')\n",
    "#plt.xticks(np.arange(0, 101, 10))\n",
    "plt.xlabel('reg (lambda)')\n",
    "plt.ylabel('Веса признаков');"
   ]
  },
  {
   "cell_type": "markdown",
   "metadata": {},
   "source": [
    "2. Напишите функцию наподобие gradient_descent_reg_l2, но для применения L1-регуляризации."
   ]
  },
  {
   "cell_type": "code",
   "execution_count": 11,
   "metadata": {},
   "outputs": [],
   "source": [
    "def gradient_descent_reg_l1(X, y, iterations, eta=1e-4, reg=1e-8):\n",
    "    W = np.random.randn(X.shape[1])\n",
    "    n = X.shape[0]\n",
    "    \n",
    "    for i in range(0, iterations):\n",
    "        y_pred = np.dot(X, W)\n",
    "        err = calc_mse(y, y_pred)\n",
    "        \n",
    "        dQ = 2/n * X.T @ (y_pred - y) # градиент функции ошибки\n",
    "        dReg = reg * np.sign(W) # градиент регуляризации L1\n",
    "        #dReg = reg * W # градиент регуляризации L2\n",
    "        W -= eta * dQ + dReg\n",
    "        if i % (iterations / 10) == 0:\n",
    "            print(f'Iter: {i}, weights: {W}, error {err}')\n",
    "    print(f'Final MSE: {calc_mse(y, np.dot(X, W))}')\n",
    "    return W"
   ]
  },
  {
   "cell_type": "code",
   "execution_count": 12,
   "metadata": {},
   "outputs": [
    {
     "name": "stdout",
     "output_type": "stream",
     "text": [
      "Iter: 0, weights: [-0.36809983  1.43196959  0.96902048  1.60553793], error 3607.831743030555\n",
      "Iter: 500, weights: [22.5686583   5.19280068 -7.29703878 19.60211317], error 40.98677947319007\n",
      "Iter: 1000, weights: [27.54231874  6.07305543 -6.14380091 16.78605413], error 33.85503897932045\n",
      "Iter: 1500, weights: [31.14416074  6.18806382 -4.7800287  14.72966742], error 30.007615938534173\n",
      "Iter: 2000, weights: [33.84824458  6.21726268 -3.69835905 13.18397043], error 27.816017088226175\n",
      "Iter: 2500, weights: [35.88880229  6.23326784 -2.87600874 12.01735876], error 26.565880304883326\n",
      "Iter: 3000, weights: [37.42975364  6.24472151 -2.25436088 11.13635749], error 25.852688877864374\n",
      "Iter: 3500, weights: [38.59353723  6.25330537 -1.78480221 10.4709905 ], error 25.44579286427558\n",
      "Iter: 4000, weights: [39.4724819   6.25978134 -1.43016215  9.9684735 ], error 25.213629718948177\n",
      "Iter: 4500, weights: [40.13630395  6.26467159 -1.16231987  9.58894803], error 25.081151286151353\n",
      "Final MSE: 25.005545932370104\n"
     ]
    }
   ],
   "source": [
    "W = gradient_descent_reg_l1(X_st, y, iterations=5000, eta=1e-2, reg=1e-4)"
   ]
  },
  {
   "cell_type": "code",
   "execution_count": 13,
   "metadata": {},
   "outputs": [
    {
     "name": "stdout",
     "output_type": "stream",
     "text": [
      "reg (lambda)=0.0\n",
      "Iter: 0, weights: [-0.2985468   0.40085232  1.19577723  1.29055794], error 3692.5964491722793\n",
      "Iter: 500, weights: [22.72839135  5.14971233 -7.18954777 19.51133623], error 40.748390980827395\n",
      "Iter: 1000, weights: [27.67816809  6.09022219 -6.10708996 16.71090353], error 33.694933116498916\n",
      "Iter: 1500, weights: [31.25090381  6.21135392 -4.76147416 14.67136444], error 29.915909391083765\n",
      "Iter: 2000, weights: [33.93184438  6.24104697 -3.689815   13.13892077], error 27.763035921545217\n",
      "Iter: 2500, weights: [35.95480142  6.25699218 -2.87463683 11.98237418], error 26.535063518337495\n",
      "Iter: 3000, weights: [37.48244711  6.26835514 -2.258365   11.10898035], error 25.834626714384406\n",
      "Iter: 3500, weights: [38.63618027  6.27686573 -1.79286231 10.4493595 ], error 25.43509661229826\n",
      "Iter: 4000, weights: [39.50753422  6.28328587 -1.44128507  9.95118233], error 25.207204098694014\n",
      "Iter: 4500, weights: [40.16562337  6.2881339  -1.17575594  9.57493452], error 25.07721389897071\n",
      "Final MSE: 25.00306731224473\n",
      "reg (lambda)=0.05\n",
      "Iter: 0, weights: [-0.15398815  1.75667645 -1.92099786  3.60848556], error 3174.511446690712\n",
      "Iter: 500, weights: [ 1.86942368e+01 -1.07389241e-03 -1.52071892e+00  2.04515740e+01], error 69.75018261173656\n",
      "Iter: 1000, weights: [ 2.32690255e+01  1.08330612e-02 -2.47786610e-02  1.78923443e+01], error 60.88774551488672\n",
      "Iter: 1500, weights: [2.49822886e+01 7.60142432e-03 1.98754741e-02 1.70218616e+01], error 55.90097420655949\n",
      "Iter: 2000, weights: [25.41936586  0.07446429 -0.04071576 16.80029671], error 54.69694767833359\n",
      "Iter: 2500, weights: [ 2.55339758e+01 -1.30707482e-02 -6.53204925e-04  1.67417890e+01], error 54.473569093444965\n",
      "Iter: 3000, weights: [ 2.55614417e+01 -2.11459012e-02 -3.84988008e-02  1.67284509e+01], error 54.34004747763411\n",
      "Iter: 3500, weights: [ 2.55684299e+01  1.11272809e-02 -2.67878594e-02  1.67243038e+01], error 54.26264868474524\n",
      "Iter: 4000, weights: [ 2.55701191e+01  5.66409155e-02 -2.88382666e-04  1.67235089e+01], error 54.46930577265861\n",
      "Iter: 4500, weights: [ 2.55698487e+01  6.79457667e-03 -6.85451946e-02  1.67234955e+01], error 54.407077325401545\n",
      "Final MSE: 54.38295271719146\n",
      "reg (lambda)=0.1\n",
      "Iter: 0, weights: [ 1.93164069 -0.52964649  1.22853395  2.15740456], error 3198.435468391818\n",
      "Iter: 500, weights: [ 1.66261260e+01 -5.96386147e-03 -8.89675363e-02  2.04005592e+01], error 95.36687215334932\n",
      "Iter: 1000, weights: [17.69375474 -0.03119572  0.02828119 19.8556156 ], error 90.74259165155637\n",
      "Iter: 1500, weights: [17.96835532 -0.04591747 -0.06724695 19.71588059], error 88.69030471046388\n",
      "Iter: 2000, weights: [18.03419326 -0.03039601 -0.03330648 19.68385907], error 88.5741206704353\n",
      "Iter: 2500, weights: [18.04835509  0.08854424 -0.06488287 19.67914029], error 88.22365075570077\n",
      "Iter: 3000, weights: [ 1.80540609e+01  1.75172852e-02 -8.17823722e-02  1.96750825e+01], error 88.07433592162599\n",
      "Iter: 3500, weights: [18.05835946 -0.05665249 -0.1017198  19.67007525], error 88.01592656414974\n",
      "Iter: 4000, weights: [18.06168546  0.07560836 -0.11601648 19.67015209], error 87.85957332157625\n",
      "Iter: 4500, weights: [ 1.80639968e+01  4.61445721e-03 -1.34348338e-01  1.96676916e+01], error 88.96804526581272\n",
      "Final MSE: 88.93511979257784\n",
      "reg (lambda)=0.15000000000000002\n",
      "Iter: 0, weights: [2.23701646 0.05500646 0.73167183 2.6352148 ], error 3036.966750093526\n",
      "Iter: 500, weights: [ 1.09415206e+01 -1.83591948e-01  7.01412341e-03  2.24189223e+01], error 142.97645006209248\n",
      "Iter: 1000, weights: [10.66073487  0.08160954 -0.24474947 22.56031361], error 145.46604347283295\n",
      "Iter: 1500, weights: [10.58512788 -0.05878922 -0.10240554 22.60246245], error 143.82491935928257\n",
      "Iter: 2000, weights: [10.55318999  0.06941336 -0.06229144 22.61752552], error 144.95606179178185\n",
      "Iter: 2500, weights: [10.54929657 -0.18246791 -0.09439317 22.6192784 ], error 144.84114121888234\n",
      "Iter: 3000, weights: [10.54917817 -0.14241949 -0.1366745  22.6181679 ], error 144.57846705980631\n",
      "Iter: 3500, weights: [10.5500601 -0.1096356 -0.184451  22.6158536], error 144.2365498384875\n",
      "Iter: 4000, weights: [10.5446507  -0.05450708 -0.21276336 22.61597093], error 146.201516872826\n",
      "Iter: 4500, weights: [ 1.05442864e+01 -2.01799677e-04 -2.45624624e-01  2.26198985e+01], error 146.00685986705338\n",
      "Final MSE: 145.66452470037413\n",
      "reg (lambda)=0.2\n",
      "Iter: 0, weights: [ 0.30212836 -1.75618351  0.30322174  0.53697776], error 3972.4729824273163\n",
      "Iter: 500, weights: [ 5.05566439 -0.025742   -0.32159365 24.53795119], error 206.56075245242056\n",
      "Iter: 1000, weights: [ 3.58796516 -0.0550809  -0.16211583 25.28341663], error 217.12373146087194\n",
      "Iter: 1500, weights: [ 3.17327825 -0.04997326 -0.19451678 25.49539329], error 220.7227416134307\n",
      "Iter: 2000, weights: [ 3.08139754  0.05547014 -0.25745799 25.54081246], error 221.48286057146316\n",
      "Iter: 2500, weights: [ 3.058391    0.03085262 -0.08386229 25.55784092], error 223.88230286284153\n",
      "Iter: 3000, weights: [ 3.04125405e+00 -2.11603360e-03 -3.18676100e-01  2.55656736e+01], error 226.23386333547973\n",
      "Iter: 3500, weights: [ 3.02844894 -0.04136945 -0.15084042 25.57232162], error 222.74399675651557\n",
      "Iter: 4000, weights: [ 3.01996127e+00 -8.33180766e-02  1.12993116e-02  2.55748980e+01], error 224.88702093274364\n",
      "Iter: 4500, weights: [ 3.0138725  -0.11515174 -0.21466051 25.58421763], error 221.4042684191705\n",
      "Final MSE: 226.49259824071405\n",
      "reg (lambda)=0.25\n",
      "Iter: 0, weights: [ 0.94098825  0.1623449  -0.20602223  2.15258444], error 3462.5860148251486\n",
      "Iter: 500, weights: [ 0.06516719 -0.30531309 -0.11454863 26.23652635], error 273.44552252461597\n",
      "Iter: 1000, weights: [ 0.08908866  0.16126451 -0.07463223 26.22884026], error 273.4060059970237\n",
      "Iter: 1500, weights: [ 0.11790056  0.11144743 -0.04651324 26.22133257], error 272.93107791968924\n",
      "Iter: 2000, weights: [ 1.49458551e-01  5.42929020e-02 -2.56790616e-02  2.62133411e+01], error 272.2363096317196\n",
      "Iter: 2500, weights: [1.75751654e-01 1.09922707e-02 1.10025989e-02 2.62069955e+01], error 271.9792835486104\n",
      "Iter: 3000, weights: [ 0.20588299 -0.03114114  0.04312879 26.20386895], error 271.4793930056141\n",
      "Iter: 3500, weights: [ 0.23999459 -0.08405815  0.06728498 26.20254998], error 270.6307238246112\n",
      "Iter: 4000, weights: [ 0.27092637 -0.13394512 -0.40063676 26.20075208], error 270.02188782974713\n",
      "Iter: 4500, weights: [ 0.30624799 -0.1916271  -0.38212842 26.19840249], error 273.05312161680934\n",
      "Final MSE: 272.10831877900654\n",
      "reg (lambda)=0.30000000000000004\n",
      "Iter: 0, weights: [ 0.77037822  0.54600997 -0.76628283  0.24195482], error 3991.0953407232287\n",
      "Iter: 500, weights: [ 3.75724319e-01 -3.42946959e-01  6.58117894e-03  2.54721637e+01], error 286.6613945032356\n",
      "Iter: 1000, weights: [-1.91422729e-02 -1.48094003e-01 -2.46886366e-01  2.55093324e+01], error 294.10501721288966\n",
      "Iter: 1500, weights: [ 0.15741659  0.03868727  0.07317549 25.48014682], error 291.8228673518883\n",
      "Iter: 2000, weights: [ 0.35213335  0.22048711 -0.20307876 25.48379049], error 283.73359427413874\n",
      "Iter: 2500, weights: [ 0.55550701 -0.19720358  0.12892289 25.50750851], error 299.94325932554017\n",
      "Iter: 3000, weights: [ 1.36164669e-01 -8.97236093e-03 -1.51078131e-01  2.54853163e+01], error 288.846779778531\n",
      "Iter: 3500, weights: [ 0.32457621  0.16860624 -0.43782832 25.47118563], error 289.6917794752834\n",
      "Iter: 4000, weights: [ 0.53928981 -0.24466837 -0.10887934 25.51330907], error 296.402239217712\n",
      "Iter: 4500, weights: [ 0.11598001 -0.06521071 -0.3924717  25.48152342], error 294.1200685799089\n",
      "Final MSE: 286.58695376146\n",
      "reg (lambda)=0.35000000000000003\n",
      "Iter: 0, weights: [1.40076749 0.12944347 0.19688941 2.44947978], error 3136.9055233973\n",
      "Iter: 500, weights: [ 0.46316678 -0.09784191 -0.4429877  24.76093883], error 306.0159033156996\n",
      "Iter: 1000, weights: [3.67394446e-01 1.77714201e-01 3.79946793e-03 2.47629169e+01], error 307.1029562642726\n",
      "Iter: 1500, weights: [ 0.27467582 -0.29144578 -0.29814846 24.73664406], error 317.67489177804674\n",
      "Iter: 2000, weights: [ 0.19317028 -0.03027296  0.1295804  24.7503639 ], error 313.24775295675704\n",
      "Iter: 2500, weights: [ 0.10430126  0.2478685  -0.1318161  24.75895717], error 313.86079006076886\n",
      "Iter: 3000, weights: [ 1.85441024e-02 -2.11139839e-01 -4.24710742e-01  2.47512411e+01], error 323.6775954986447\n",
      "Iter: 3500, weights: [-5.77028922e-02  4.38214163e-02  1.45473555e-03  2.47720155e+01], error 318.8443333001945\n",
      "Iter: 4000, weights: [ 0.544498   -0.38011537 -0.2550895  24.76824782], error 299.1962875835737\n",
      "Iter: 4500, weights: [ 0.45040794 -0.13472899  0.15654284 24.74953419], error 309.620280228741\n",
      "Final MSE: 305.1886580149334\n",
      "reg (lambda)=0.4\n",
      "Iter: 0, weights: [0.97533112 0.19220631 1.58691951 1.92815953], error 3219.8947345521174\n",
      "Iter: 500, weights: [-2.38481982e-03 -2.52144704e-01 -1.61802125e-01  2.40352969e+01], error 344.4103548196038\n",
      "Iter: 1000, weights: [ 0.69195159  0.33774285  0.22370852 24.04903898], error 350.8266943164118\n",
      "Iter: 1500, weights: [ 0.58873239  0.09284751 -0.23453873 24.03333124], error 322.28928122280576\n",
      "Iter: 2000, weights: [ 0.46945805 -0.12092186  0.15027265 24.02200857], error 334.04197412985525\n"
     ]
    },
    {
     "name": "stdout",
     "output_type": "stream",
     "text": [
      "Iter: 2500, weights: [ 0.37507265 -0.38811547 -0.32614452 24.00981308], error 340.1493764650371\n",
      "Iter: 3000, weights: [2.78765833e-01 1.69136469e-01 1.92112714e-02 2.40090201e+01], error 336.5425247508703\n",
      "Iter: 3500, weights: [ 0.18011451 -0.05963935 -0.4152884  24.02055901], error 342.4536857245612\n",
      "Iter: 4000, weights: [ 0.08495729 -0.30220114 -0.06447491 24.0260432 ], error 342.80712553268495\n",
      "Iter: 4500, weights: [-1.90250222e-02  2.79192385e-01 -4.93676518e-01  2.40315450e+01], error 349.3301410303892\n",
      "Final MSE: 344.9156757821342\n",
      "reg (lambda)=0.45\n",
      "Iter: 0, weights: [0.94824015 1.32420941 0.24960661 1.78422248], error 3259.7156457062288\n",
      "Iter: 500, weights: [ 0.68491456 -0.30945035  0.28028587 23.3189185 ], error 386.41639838236347\n",
      "Iter: 1000, weights: [ 0.70447974 -0.35918216 -0.15696832 23.32252175], error 380.5615533377048\n",
      "Iter: 1500, weights: [ 0.72297283 -0.40414851  0.2886117  23.31407432], error 384.92505973775764\n",
      "Iter: 2000, weights: [ 0.75213307 -0.46883892 -0.16440533 23.32286376], error 378.31646952457885\n",
      "Iter: 2500, weights: [ 0.77124879  0.37489915  0.29619707 23.32348867], error 382.2381363728506\n",
      "Iter: 3000, weights: [-0.11015516  0.33978964 -0.15566097 23.31685505], error 377.0153186034332\n",
      "Iter: 3500, weights: [-0.09005828  0.2743418   0.29401045 23.31215096], error 380.9582755894692\n",
      "Iter: 4000, weights: [-0.06772706  0.19302078 -0.16791036 23.30336437], error 375.5618159265216\n",
      "Iter: 4500, weights: [-0.05594641  0.17647322  0.29800099 23.29702726], error 380.1385690933241\n",
      "Final MSE: 373.22979967817395\n",
      "reg (lambda)=0.5\n",
      "Iter: 0, weights: [1.4734246  0.17407747 0.01956295 0.40468114], error 3743.2732611536508\n",
      "Iter: 500, weights: [ 0.18580098  0.3596752  -0.32659194 22.55772414], error 409.5302008810963\n",
      "Iter: 1000, weights: [-0.10070545 -0.10492013 -0.45332602 22.57725455], error 420.43552271134206\n",
      "Iter: 1500, weights: [ 0.61747329  0.41671652 -0.59358251 22.59438177], error 388.7646155809535\n",
      "Iter: 2000, weights: [ 0.32726186 -0.08848316  0.22712744 22.57170381], error 400.9578126525125\n",
      "Iter: 2500, weights: [ 0.04675989  0.43160646  0.06142441 22.57765603], error 407.9846181691771\n",
      "Iter: 3000, weights: [ 0.79054133 -0.11392499 -0.14692522 22.59420248], error 416.5129830850211\n",
      "Iter: 3500, weights: [ 0.48495046  0.41262906 -0.30298803 22.56303256], error 398.36638554210634\n",
      "Iter: 4000, weights: [ 0.21945601 -0.14232093 -0.53447554 22.54859003], error 408.61010787740565\n",
      "Iter: 4500, weights: [-0.06258809  0.37490703  0.3160339  22.56363958], error 415.238093841162\n",
      "Final MSE: 388.23225836304726\n",
      "reg (lambda)=0.55\n",
      "Iter: 0, weights: [ 0.98238025  0.76830258 -0.46131582  1.69542961], error 3406.3826645296185\n",
      "Iter: 500, weights: [ 9.67809877e-03  7.65862563e-02 -1.03996037e-01  2.18478383e+01], error 445.2930534439768\n",
      "Iter: 1000, weights: [ 0.68925173 -0.09095515 -0.16226807 21.8627761 ], error 418.00952712619136\n",
      "Iter: 1500, weights: [ 0.25797509 -0.29754855 -0.25376652 21.83577451], error 445.6848255005549\n",
      "Iter: 2000, weights: [-0.15948491 -0.46772062 -0.31674767 21.85253512], error 460.59412207861453\n",
      "Iter: 2500, weights: [ 0.50161809  0.49070013 -0.34193488 21.85731542], error 432.60019728608313\n",
      "Iter: 3000, weights: [ 0.08391373  0.28218723 -0.44212979 21.84626125], error 448.69201442397053\n",
      "Iter: 3500, weights: [ 0.73449275  0.1284701  -0.46637402 21.83449017], error 422.5518001245864\n",
      "Iter: 4000, weights: [ 0.30947738 -0.03068067 -0.5238374  21.84322159], error 438.30097199676794\n",
      "Iter: 4500, weights: [-0.11653955 -0.23772102 -0.60647963 21.83111311], error 458.1050725585236\n",
      "Final MSE: 430.5818776026411\n",
      "reg (lambda)=0.6000000000000001\n",
      "Iter: 0, weights: [ 1.09060652 -0.1537567  -0.5154448   1.51001286], error 3307.826220484351\n",
      "Iter: 500, weights: [-0.0511422   0.11198471 -0.25099173 21.11714396], error 497.1816473314041\n",
      "Iter: 1000, weights: [ 0.36995329  0.39726739  0.36827458 21.08929665], error 476.63495139904416\n",
      "Iter: 1500, weights: [ 0.79193755 -0.49899039 -0.18664689 21.08240108], error 464.88209711379506\n",
      "Iter: 2000, weights: [ 0.04590405 -0.22151546  0.42302392 21.10618802], error 491.076829415499\n",
      "Iter: 2500, weights: [ 0.49173001  0.05338839 -0.17989429 21.10932931], error 474.5733804741615\n",
      "Iter: 3000, weights: [ 0.9272533   0.3672909   0.47346249 21.13268196], error 502.6862346675064\n",
      "Iter: 3500, weights: [ 0.14074186 -0.53396005 -0.07558114 21.11681539], error 481.9851001226656\n",
      "Iter: 4000, weights: [ 0.55982098 -0.25579715 -0.66418093 21.08333622], error 471.1532474600155\n",
      "Iter: 4500, weights: [ 1.00025282e+00  6.32665227e-02 -2.00697103e-03  2.11207518e+01], error 497.01859620102925\n",
      "Final MSE: 487.26202697870724\n",
      "reg (lambda)=0.65\n",
      "Iter: 0, weights: [ 1.56574225  0.2146086  -0.03408053  2.05819517], error 3213.557998517155\n",
      "Iter: 500, weights: [ 0.67483328  0.03441207  0.51673672 20.43579805], error 502.444751641054\n",
      "Iter: 1000, weights: [ 0.22601215  0.29601096 -0.55557239 20.38324872], error 527.9549718272704\n",
      "Iter: 1500, weights: [-0.20924475 -0.61456286 -0.22174382 20.42855207], error 547.7797863633724\n",
      "Iter: 2000, weights: [ 0.65236742 -0.33727726  0.02238592 20.40554966], error 502.7435088132781\n",
      "Iter: 2500, weights: [ 0.20235971  0.0525122   0.35578473 20.42471668], error 523.8523582156041\n",
      "Iter: 3000, weights: [ 1.06818897  0.34929978 -0.69017579 20.41648105], error 546.0634972095414\n",
      "Iter: 3500, weights: [ 0.60506182 -0.59925531 -0.38573097 20.39431826], error 511.4607021850006\n",
      "Iter: 4000, weights: [ 0.15641802 -0.28193094 -0.10692089 20.37773566], error 526.6525114288469\n",
      "Iter: 4500, weights: [ 1.03034886  0.08286776  0.20220821 20.42256609], error 545.2353137501726\n",
      "Final MSE: 511.58413261235165\n",
      "reg (lambda)=0.7000000000000001\n",
      "Iter: 0, weights: [1.24513423 0.28713008 0.4686165  1.82328415], error 3683.080273825382\n",
      "Iter: 500, weights: [ 0.2886777   0.03974122 -0.53828831 19.67359087], error 572.0199594322527\n",
      "Iter: 1000, weights: [ 0.45786525  0.04871716 -0.74608397 19.69727416], error 561.0265592480739\n",
      "Iter: 1500, weights: [ 0.60702161  0.04848012  0.43920204 19.68296275], error 554.033448966208\n",
      "Iter: 2000, weights: [ 0.78010112  0.0477298   0.21301056 19.69856812], error 543.7331189507311\n",
      "Iter: 2500, weights: [ 9.62724277e-01  5.70515992e-02 -2.86899114e-03  1.97338297e+01], error 599.6385528425623\n",
      "Iter: 3000, weights: [ 1.12315451  0.05369586 -0.23438467 19.72502119], error 597.4242697252215\n",
      "Iter: 3500, weights: [-0.13178143  0.04203879 -0.46548448 19.69184884], error 591.5959495362595\n",
      "Iter: 4000, weights: [ 0.02318337  0.04603747 -0.67476221 19.69162126], error 582.9461662710094\n",
      "Iter: 4500, weights: [ 0.1849208   0.04449523  0.50958917 19.69897101], error 573.5013517572278\n",
      "Final MSE: 566.4995828364332\n",
      "reg (lambda)=0.75\n",
      "Iter: 0, weights: [ 0.92658899 -0.19610879 -0.30529477  1.58881274], error 3437.095768425808\n",
      "Iter: 500, weights: [ 0.62080197 -0.24501483 -0.29102397 18.87149602], error 613.4181837707853\n",
      "Iter: 1000, weights: [ 1.05082007 -0.23031212  0.61697929 18.93268101], error 660.4904725428522\n",
      "Iter: 1500, weights: [-6.16565598e-02 -2.36564841e-01  1.19325382e-02  1.89109804e+01], error 639.2706259321485\n",
      "Iter: 2000, weights: [ 0.32065435 -0.2451343  -0.59950555 18.87784061], error 626.3718653115761\n",
      "Iter: 2500, weights: [ 0.73051125 -0.24386186  0.31524159 18.90873423], error 600.0703428596337\n",
      "Iter: 3000, weights: [ 1.12598783 -0.22993306 -0.27360658 18.91354149], error 661.5980539143562\n",
      "Iter: 3500, weights: [-8.03323896e-03 -2.09436874e-01  6.67251697e-01  1.88861174e+01], error 641.449674074106\n",
      "Iter: 4000, weights: [ 0.3841517  -0.21927245  0.04650951 18.86235045], error 620.3320233282553\n",
      "Iter: 4500, weights: [ 0.79546029 -0.23385056 -0.55787371 18.88002211], error 602.3158424029052\n",
      "Final MSE: 653.5773565087701\n",
      "reg (lambda)=0.8\n",
      "Iter: 0, weights: [ 0.39524213 -0.22794138  0.26912777  1.26150107], error 3788.1349989239257\n",
      "Iter: 500, weights: [ 0.28856049  0.571298    0.53738585 18.16257427], error 681.1786937896328\n",
      "Iter: 1000, weights: [ 0.02533845  0.07331865  0.52769054 18.1480079 ], error 698.549773588367\n",
      "Iter: 1500, weights: [-0.17325152 -0.40008531  0.48626642 18.22252472], error 699.5047230526932\n",
      "Iter: 2000, weights: [ 1.12483399  0.75163367  0.50806709 18.16033736], error 722.8773672469476\n",
      "Iter: 2500, weights: [ 0.8635545   0.41513423  0.59660016 18.22155505], error 645.938528024044\n",
      "Iter: 3000, weights: [ 0.59728406 -0.13453     0.50518284 18.14229241], error 664.4875470193685\n",
      "Iter: 3500, weights: [ 0.32076758 -0.45108304  0.62871644 18.1953213 ], error 675.5794548494152\n",
      "Iter: 4000, weights: [ 0.01825735  0.7624555   0.68901232 18.15890731], error 696.1410745297611\n",
      "Iter: 4500, weights: [-0.2478149   0.42976229 -0.81249314 18.21751339], error 706.6315459709732\n",
      "Final MSE: 714.9250867386622\n",
      "reg (lambda)=0.8500000000000001\n",
      "Iter: 0, weights: [1.17347637 0.70310748 0.42755178 2.07504479], error 3469.273210178948\n",
      "Iter: 500, weights: [ 1.26091052  0.14197174  0.08808972 17.50324304], error 777.8288223666191\n",
      "Iter: 1000, weights: [ 0.64949065  0.49238784  0.07737191 17.47306982], error 716.6408338813094\n"
     ]
    },
    {
     "name": "stdout",
     "output_type": "stream",
     "text": [
      "Iter: 1500, weights: [6.22372717e-02 7.75696018e-01 1.42486858e-03 1.74361109e+01], error 752.0685218298406\n",
      "Iter: 2000, weights: [ 1.25034237 -0.64806664 -0.10124986 17.51096669], error 777.1748841559504\n",
      "Iter: 2500, weights: [ 0.65406845 -0.39530019 -0.19532614 17.44813439], error 719.4718248050527\n",
      "Iter: 3000, weights: [ 0.05533799 -0.08371208 -0.23872245 17.41126955], error 756.3301122658111\n",
      "Iter: 3500, weights: [ 1.19848418  0.31151623 -0.19749234 17.51078635], error 781.3730447713135\n",
      "Iter: 4000, weights: [ 0.58308048  0.6201145  -0.22084174 17.46237382], error 723.0654155652762\n",
      "Iter: 4500, weights: [ 9.71880483e-04  8.39086720e-01 -3.19429379e-01  1.74154302e+01], error 759.633447059051\n",
      "Final MSE: 786.8869416503678\n",
      "reg (lambda)=0.9\n",
      "Iter: 0, weights: [1.08735878 1.04921899 0.33769478 3.51974837], error 2928.050887408591\n",
      "Iter: 500, weights: [-0.09988631 -0.04381709  0.03618313 16.74166817], error 818.1324699585881\n",
      "Iter: 1000, weights: [ 1.29031203  0.49500902  0.81450012 16.80836986], error 841.7530115279596\n",
      "Iter: 1500, weights: [ 0.89390585  0.75403934 -0.45893415 16.72392312], error 766.1046434775054\n",
      "Iter: 2000, weights: [ 0.44774451 -0.623564    0.28109972 16.70945369], error 791.0052080159858\n",
      "Iter: 2500, weights: [ 3.10431091e-03 -1.57516983e-01 -7.72523358e-01  1.67005567e+01], error 817.8719112885123\n",
      "Iter: 3000, weights: [ 1.44091027  0.17608693 -0.16534989 16.72991144], error 842.5663250274878\n",
      "Iter: 3500, weights: [ 0.99149157  0.67767492  0.59955587 16.72343493], error 760.1443433240751\n",
      "Iter: 4000, weights: [ 0.58415672 -0.79697841 -0.56399276 16.70135187], error 785.3622923229248\n",
      "Iter: 4500, weights: [ 0.19002154 -0.34500786  0.15645878 16.75258151], error 800.8479924308874\n",
      "Final MSE: 833.5466580746743\n",
      "reg (lambda)=0.9500000000000001\n",
      "Iter: 0, weights: [ 1.9534374   0.55575209 -0.03195796  1.50425661], error 3282.646209348399\n",
      "Iter: 500, weights: [ 1.33189644 -0.37869022  0.43981827 16.04826578], error 912.1150852971623\n",
      "Iter: 1000, weights: [ 1.33393758 -0.06723046 -0.30799018 16.02009355], error 915.3970753815814\n",
      "Iter: 1500, weights: [ 1.35040375  0.39527417 -0.92633376 16.11210747], error 909.547741205825\n",
      "Iter: 2000, weights: [ 1.30425064  0.78466055  0.29285991 16.05057322], error 917.7538323170587\n",
      "Iter: 2500, weights: [ 1.28854047 -0.74293971 -0.40306217 16.02726859], error 919.1169769283704\n",
      "Iter: 3000, weights: [ 1.29648911 -0.27412442  0.91424947 16.12778843], error 905.6672306554434\n",
      "Iter: 3500, weights: [ 1.30836567e+00 -1.83973340e-03  9.31191775e-02  1.60722742e+01], error 909.5237270874137\n",
      "Iter: 4000, weights: [ 1.24564455  0.43460942 -0.53721264 16.01614506], error 926.1222061848448\n",
      "Iter: 4500, weights: [ 1.19190491  0.85180594  0.74237327 15.97965494], error 931.6613819484937\n",
      "Final MSE: 917.1677250710964\n"
     ]
    }
   ],
   "source": [
    "W_list = []\n",
    "reg_list = []\n",
    "\n",
    "for reg in np.arange(0, 1, 0.05):\n",
    "    print(f'reg (lambda)={reg}')\n",
    "    W = gradient_descent_reg_l1(X_st, y, iterations=5000, eta=1e-2, reg=reg)\n",
    "    W_list.append(W)\n",
    "    reg_list.append(reg)"
   ]
  },
  {
   "cell_type": "code",
   "execution_count": 14,
   "metadata": {},
   "outputs": [
    {
     "data": {
      "image/png": "[encoded data removed]",
      "text/plain": [
       "<Figure size 432x288 with 1 Axes>"
      ]
     },
     "metadata": {
      "needs_background": "light"
     },
     "output_type": "display_data"
    }
   ],
   "source": [
    "plt.plot(reg_list, W_list)\n",
    "plt.title('График зависимости весов всех признаков \\n от lambda в самописной L1-регуляризации')\n",
    "#plt.xticks(np.arange(0, 101, 10))\n",
    "plt.xlabel('reg (lambda)')\n",
    "plt.ylabel('Веса признаков');"
   ]
  },
  {
   "cell_type": "markdown",
   "metadata": {},
   "source": [
    "3. *Можно ли к одному и тому же признаку применить сразу и нормализацию, и стандартизацию?"
   ]
  },
  {
   "cell_type": "code",
   "execution_count": 27,
   "metadata": {},
   "outputs": [
    {
     "name": "stdout",
     "output_type": "stream",
     "text": [
      "[[ 1.         -0.70710678 -0.97958969  1.        ]\n",
      " [ 1.         -0.70710678 -0.56713087  1.        ]\n",
      " [ 1.         -0.35355339 -0.46401617  2.        ]\n",
      " [ 1.          0.70710678 -0.77336028  1.        ]\n",
      " [ 1.          0.          0.97958969  2.        ]\n",
      " [ 1.         -1.06066017 -0.36090146  1.        ]\n",
      " [ 1.          0.70710678  1.08270439  3.        ]\n",
      " [ 1.          2.47487373  2.11385144  3.        ]\n",
      " [ 1.         -0.70710678 -1.08270439  1.        ]\n",
      " [ 1.         -0.35355339  0.05155735  2.        ]]\n"
     ]
    },
    {
     "data": {
      "text/plain": [
       "array([[1.        , 0.1       , 0.03225806, 1.        ],\n",
       "       [1.        , 0.1       , 0.16129032, 1.        ],\n",
       "       [1.        , 0.2       , 0.19354839, 2.        ],\n",
       "       [1.        , 0.5       , 0.09677419, 1.        ],\n",
       "       [1.        , 0.3       , 0.64516129, 2.        ],\n",
       "       [1.        , 0.        , 0.22580645, 1.        ],\n",
       "       [1.        , 0.5       , 0.67741935, 3.        ],\n",
       "       [1.        , 1.        , 1.        , 3.        ],\n",
       "       [1.        , 0.1       , 0.        , 1.        ],\n",
       "       [1.        , 0.2       , 0.35483871, 2.        ]])"
      ]
     },
     "execution_count": 27,
     "metadata": {},
     "output_type": "execute_result"
    }
   ],
   "source": [
    "# стандартизируем 2-й и 3-й признаки с изменением типа на float\n",
    "X_st = X.copy().astype(np.float64)\n",
    "X_norm = X.copy().astype(np.float64)\n",
    "X_st[:, 1] = standart_scale(X_st[:, 1])\n",
    "X_st[:, 2] = standart_scale(X_st[:, 2])\n",
    "print(X_st)\n",
    "\n",
    "# нормализуем стандартизированные 2-й и 3-й признаки\n",
    "X_norm[:, 1] = normal_scale(X_st[:, 1])\n",
    "X_norm[:, 2] = normal_scale(X_st[:, 2])\n",
    "X_norm"
   ]
  },
  {
   "cell_type": "code",
   "execution_count": 28,
   "metadata": {},
   "outputs": [
    {
     "data": {
      "image/png": "[encoded data removed]",
      "text/plain": [
       "<Figure size 432x288 with 1 Axes>"
      ]
     },
     "metadata": {
      "needs_background": "light"
     },
     "output_type": "display_data"
    }
   ],
   "source": [
    "plt.hist(X_st, bins=5);"
   ]
  },
  {
   "cell_type": "code",
   "execution_count": 29,
   "metadata": {},
   "outputs": [
    {
     "data": {
      "image/png": "[encoded data removed]",
      "text/plain": [
       "<Figure size 432x288 with 1 Axes>"
      ]
     },
     "metadata": {
      "needs_background": "light"
     },
     "output_type": "display_data"
    }
   ],
   "source": [
    "plt.hist(X_norm, bins=5);"
   ]
  },
  {
   "cell_type": "markdown",
   "metadata": {},
   "source": [
    "4. *Сгенерируйте датасет при помощи <code>sklearn.datasets.make_regression</code> и обучите линейную модель при помощи градиентного и стохастического градиентного спуска. Нанесите среднеквадратичную ошибку для обоих методов на один график, сделайте выводы о разнице скорости сходимости каждого из методов."
   ]
  },
  {
   "cell_type": "code",
   "execution_count": 18,
   "metadata": {},
   "outputs": [
    {
     "data": {
      "image/png": "[encoded data removed]",
      "text/plain": [
       "<Figure size 432x288 with 1 Axes>"
      ]
     },
     "metadata": {
      "needs_background": "light"
     },
     "output_type": "display_data"
    },
    {
     "data": {
      "text/plain": [
       "array(30.22449942)"
      ]
     },
     "execution_count": 18,
     "metadata": {},
     "output_type": "execute_result"
    }
   ],
   "source": [
    "# sklearn.datasets.make_regression(n_samples=100, n_features=100, *, n_informative=10, n_targets=1, bias=0.0,\n",
    "#          effective_rank=None, tail_strength=0.5, noise=0.0, shuffle=True, coef=False, random_state=None)\n",
    "from sklearn.datasets import make_regression\n",
    "from matplotlib import pyplot\n",
    "# generate regression dataset\n",
    "X, y, coef = make_regression(n_samples=10000, n_features=1, noise=1.8, coef=True)\n",
    "# plot regression dataset\n",
    "pyplot.scatter(X, y)\n",
    "pyplot.show()\n",
    "coef"
   ]
  },
  {
   "cell_type": "code",
   "execution_count": 19,
   "metadata": {},
   "outputs": [],
   "source": [
    "# градиентный спуск\n",
    "def gradient_descent(X, y, iterations, eta):\n",
    "    W = np.random.randn(X.shape[1])\n",
    "    n = X.shape[0]\n",
    "    #global err_list_gd\n",
    "    err_list_gd = []\n",
    "    for i in range(0, iterations):\n",
    "        y_pred = np.dot(X, W)\n",
    "        err = calc_mse(y, y_pred)\n",
    "        err_list_gd.append(err)\n",
    "        dQ = 2/n * X.T @ (y_pred - y) # градиент функции ошибки\n",
    "        W -= eta * dQ\n",
    "        if i % (iterations / 10) == 0:\n",
    "            print(f'Iter: {i}, weights: {W}, error {err}')\n",
    "    print(f'Final MSE: {calc_mse(y, np.dot(X, W))}')\n",
    "    return W, err_list_gd"
   ]
  },
  {
   "cell_type": "code",
   "execution_count": 20,
   "metadata": {},
   "outputs": [
    {
     "name": "stdout",
     "output_type": "stream",
     "text": [
      "Iter: 0, weights: [-0.25703846], error 930.5969066996995\n",
      "Iter: 5000, weights: [18.98915081], error 128.8549479675317\n",
      "Iter: 10000, weights: [26.0730409], error 20.24021567836604\n",
      "Iter: 15000, weights: [28.68038815], error 5.525805459768788\n",
      "Iter: 20000, weights: [29.64006703], error 3.5323938523568112\n",
      "Iter: 25000, weights: [29.9932933], error 3.2623395465756118\n",
      "Iter: 30000, weights: [30.12330429], error 3.225754363766445\n",
      "Iter: 35000, weights: [30.17115707], error 3.220798043602221\n",
      "Iter: 40000, weights: [30.1887701], error 3.220126593914559\n",
      "Iter: 45000, weights: [30.19525288], error 3.2200356303229993\n",
      "Final MSE: 3.220023307173341\n"
     ]
    }
   ],
   "source": [
    "W, err_list_gd = gradient_descent(X, y, iterations=50000, eta=1e-4)"
   ]
  },
  {
   "cell_type": "code",
   "execution_count": 21,
   "metadata": {},
   "outputs": [
    {
     "data": {
      "image/png": "[encoded data removed]",
      "text/plain": [
       "<Figure size 432x288 with 1 Axes>"
      ]
     },
     "metadata": {
      "needs_background": "light"
     },
     "output_type": "display_data"
    }
   ],
   "source": [
    "plt.plot(err_list_gd)\n",
    "plt.title('График среднеквадратичной ошибки GD')\n",
    "#plt.xticks(np.arange(0, 101, 10))\n",
    "#plt.xlabel('reg (lambda)')\n",
    "#plt.xlim(0, 100)\n",
    "plt.ylabel('MSE');"
   ]
  },
  {
   "cell_type": "code",
   "execution_count": 22,
   "metadata": {},
   "outputs": [],
   "source": [
    "# стохастический градиентный спуск\n",
    "def stohastic_gradient_descent(X, y, iterations, batch_size, eta=1e-4):\n",
    "    W = np.random.randn(X.shape[1])\n",
    "    n = X.shape[0]\n",
    "    #global err_list_sgd\n",
    "    err_list_sgd = []\n",
    "    n_batch = n // batch_size    \n",
    "    if n % batch_size != 0:\n",
    "        n_batch += 1\n",
    "    print(f'amount of batches is {n_batch}')\n",
    "        \n",
    "    for i in range(0, iterations):\n",
    "        \n",
    "        for b in range(n_batch):\n",
    "            start = batch_size * b\n",
    "            end = batch_size * (b + 1)\n",
    "            \n",
    "#             print(b, start, end)\n",
    "            \n",
    "            X_tmp = X[start : end, ]\n",
    "            y_tmp = y[start : end]\n",
    "\n",
    "            y_pred_tmp = np.dot(X_tmp, W)\n",
    "            err = calc_mse(y_tmp, y_pred_tmp)\n",
    "            err_list_sgd.append(err)\n",
    "            dQ = 2/len(y_tmp) * X_tmp.T @ (y_pred_tmp - y_tmp) # градиент функции ошибки\n",
    "            W -= (eta * dQ)\n",
    "        \n",
    "        if i % (iterations / 10) == 0:\n",
    "            print(f'Iter: {i}, weights: {W}, error {err}')\n",
    "    \n",
    "    print(f'Final MSE: {calc_mse(y, np.dot(X, W))}')\n",
    "    return W, err_list_sgd"
   ]
  },
  {
   "cell_type": "code",
   "execution_count": 23,
   "metadata": {},
   "outputs": [
    {
     "name": "stdout",
     "output_type": "stream",
     "text": [
      "amount of batches is 100\n",
      "Iter: 0, weights: [26.37172929], error 21.77728102411986\n",
      "Iter: 5000, weights: [30.20502686], error 2.762135209859129\n",
      "Iter: 10000, weights: [30.20502686], error 2.762135209859129\n",
      "Iter: 15000, weights: [30.20502686], error 2.762135209859129\n",
      "Iter: 20000, weights: [30.20502686], error 2.762135209859129\n",
      "Iter: 25000, weights: [30.20502686], error 2.762135209859129\n",
      "Iter: 30000, weights: [30.20502686], error 2.762135209859129\n",
      "Iter: 35000, weights: [30.20502686], error 2.762135209859129\n",
      "Iter: 40000, weights: [30.20502686], error 2.762135209859129\n",
      "Iter: 45000, weights: [30.20502686], error 2.762135209859129\n",
      "Final MSE: 3.220057331469392\n"
     ]
    }
   ],
   "source": [
    "W, err_list_sgd = stohastic_gradient_descent(X, y, iterations=50000, batch_size=100, eta=1e-2)"
   ]
  },
  {
   "cell_type": "code",
   "execution_count": 24,
   "metadata": {},
   "outputs": [
    {
     "data": {
      "image/png": "[encoded data removed]",
      "text/plain": [
       "<Figure size 432x288 with 1 Axes>"
      ]
     },
     "metadata": {
      "needs_background": "light"
     },
     "output_type": "display_data"
    }
   ],
   "source": [
    "plt.plot(err_list_sgd)\n",
    "plt.title('График среднеквадратичной ошибки SGD')\n",
    "#plt.xticks(np.arange(0, 101, 10))\n",
    "#plt.xlabel('reg (lambda)')\n",
    "plt.xlim(0,100)\n",
    "plt.ylabel('MSE');"
   ]
  },
  {
   "cell_type": "markdown",
   "metadata": {},
   "source": [
    "Проект: \n",
    "1. https://www.kaggle.com/c/regression-tutors-expected-math-exam-results регрессия\n",
    "1. https://www.kaggle.com/c/classification-choose-tutors классификация"
   ]
  },
  {
   "cell_type": "markdown",
   "metadata": {},
   "source": []
  }
 ],
 "metadata": {
  "kernelspec": {
   "display_name": "Python 3",
   "language": "python",
   "name": "python3"
  },
  "language_info": {
   "codemirror_mode": {
    "name": "ipython",
    "version": 3
   },
   "file_extension": ".py",
   "mimetype": "text/x-python",
   "name": "python",
   "nbconvert_exporter": "python",
   "pygments_lexer": "ipython3",
   "version": "3.7.7"
  },
  "toc": {
   "base_numbering": 1,
   "nav_menu": {},
   "number_sections": true,
   "sideBar": true,
   "skip_h1_title": false,
   "title_cell": "Table of Contents",
   "title_sidebar": "Contents",
   "toc_cell": false,
   "toc_position": {},
   "toc_section_display": true,
   "toc_window_display": false
  },
  "varInspector": {
   "cols": {
    "lenName": 16,
    "lenType": 16,
    "lenVar": 40
   },
   "kernels_config": {
    "python": {
     "delete_cmd_postfix": "",
     "delete_cmd_prefix": "del ",
     "library": "var_list.py",
     "varRefreshCmd": "print(var_dic_list())"
    },
    "r": {
     "delete_cmd_postfix": ") ",
     "delete_cmd_prefix": "rm(",
     "library": "var_list.r",
     "varRefreshCmd": "cat(var_dic_list()) "
    }
   },
   "types_to_exclude": [
    "module",
    "function",
    "builtin_function_or_method",
    "instance",
    "_Feature"
   ],
   "window_display": false
  }
 },
 "nbformat": 4,
 "nbformat_minor": 4
}
