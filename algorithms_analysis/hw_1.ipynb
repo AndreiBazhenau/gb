{
 "cells": [
  {
   "cell_type": "markdown",
   "metadata": {},
   "source": [
    "1. Подберите скорость обучения (eta) и количество итераций"
   ]
  },
  {
   "cell_type": "code",
   "execution_count": 2,
   "metadata": {},
   "outputs": [],
   "source": [
    "X = np.array([[ 1,  1],\n",
    "              [ 1,  1],\n",
    "              [ 1,  2],\n",
    "              [ 1,  5],\n",
    "              [ 1,  3],\n",
    "              [ 1,  0],\n",
    "              [ 1,  5],\n",
    "              [ 1, 10],\n",
    "              [ 1,  1],\n",
    "              [ 1,  2]])"
   ]
  },
  {
   "cell_type": "code",
   "execution_count": 3,
   "metadata": {},
   "outputs": [],
   "source": [
    "y = [45, 55, 50, 55, 60, 35, 75, 80, 50, 60]"
   ]
  },
  {
   "cell_type": "code",
   "execution_count": 4,
   "metadata": {},
   "outputs": [],
   "source": [
    "def calc_mae(y, y_pred):\n",
    "    err = np.mean(np.abs(y - y_pred))\n",
    "    return err\n",
    "\n",
    "def calc_mse(y, y_pred):\n",
    "    err = np.mean((y - y_pred)**2)\n",
    "    return err"
   ]
  },
  {
   "cell_type": "code",
   "execution_count": 19,
   "metadata": {
    "scrolled": true
   },
   "outputs": [
    {
     "name": "stdout",
     "output_type": "stream",
     "text": [
      "Number of objects = 2        \n",
      "Learning rate = 0.01        \n",
      "Initial weights = [1.  0.5] \n",
      "\n",
      "Iteration #0: W_new = [ 6.4  19.35], MSE = 3047.75\n",
      "Iteration #10: W_new = [18.77319138  8.6270072 ], MSE = 398.58\n",
      "Iteration #20: W_new = [27.15289315  7.06014716], MSE = 207.1\n",
      "Iteration #30: W_new = [32.4241672   6.10426679], MSE = 124.63\n",
      "Iteration #40: W_new = [35.85213314  5.48265802], MSE = 86.53\n",
      "Iteration #50: W_new = [38.15155609  5.06569312], MSE = 67.79\n",
      "Iteration #60: W_new = [39.73790007  4.7780341 ], MSE = 58.04\n",
      "Iteration #70: W_new = [40.86051023  4.57446606], MSE = 52.69\n",
      "Iteration #80: W_new = [41.67349173  4.4270444 ], MSE = 49.62\n",
      "Iteration #90: W_new = [42.2746909  4.3180262], MSE = 47.78\n",
      "Iteration #100: W_new = [42.727794    4.23586294], MSE = 46.63\n",
      "Iteration #110: W_new = [43.07521157  4.17286412], MSE = 45.89\n",
      "Iteration #120: W_new = [43.34578807  4.12379924], MSE = 45.4\n",
      "Iteration #130: W_new = [43.55952748  4.08504089], MSE = 45.06\n",
      "Iteration #140: W_new = [43.73055537  4.05402762], MSE = 44.82\n",
      "Iteration #150: W_new = [43.8690146   4.02892018], MSE = 44.65\n",
      "Iteration #160: W_new = [43.9823022   4.00837722], MSE = 44.53\n",
      "Iteration #170: W_new = [44.0758912   3.99140629], MSE = 44.44\n",
      "Iteration #180: W_new = [44.15388587  3.97726316], MSE = 44.36\n",
      "Iteration #190: W_new = [44.21940291  3.96538266], MSE = 44.31\n",
      "Iteration #200: W_new = [44.27483692  3.95533056], MSE = 44.26\n",
      "Iteration #210: W_new = [44.32204803  3.94676955], MSE = 44.23\n",
      "Iteration #220: W_new = [44.36249605  3.93943492], MSE = 44.2\n",
      "Iteration #230: W_new = [44.39733771  3.93311693], MSE = 44.18\n",
      "Iteration #240: W_new = [44.42749793  3.92764784], MSE = 44.16\n",
      "Iteration #250: W_new = [44.45372252  3.92289241], MSE = 44.14\n",
      "Iteration #260: W_new = [44.47661773  3.91874072], MSE = 44.13\n",
      "Iteration #270: W_new = [44.49668006  3.91510272], MSE = 44.12\n",
      "Iteration #280: W_new = [44.51431902  3.91190417], MSE = 44.11\n",
      "Iteration #290: W_new = [44.5298746  3.9090834], MSE = 44.1\n",
      "Iteration #300: W_new = [44.54363088  3.90658891], MSE = 44.1\n",
      "Iteration #310: W_new = [44.55582661  3.90437741], MSE = 44.09\n",
      "Iteration #320: W_new = [44.56666354  3.9024123 ], MSE = 44.09\n",
      "Iteration #330: W_new = [44.57631309  3.9006625 ], MSE = 44.08\n",
      "Iteration #340: W_new = [44.5849216   3.89910148], MSE = 44.08\n",
      "Iteration #350: W_new = [44.59261455  3.89770648], MSE = 44.07\n",
      "Iteration #360: W_new = [44.59950005  3.8964579 ], MSE = 44.07\n",
      "Iteration #370: W_new = [44.60567159  3.89533879], MSE = 44.07\n",
      "Iteration #380: W_new = [44.61121033  3.89433442], MSE = 44.06\n",
      "Iteration #390: W_new = [44.61618698  3.89343199], MSE = 44.06\n",
      "Iteration #400: W_new = [44.62066334  3.89262027], MSE = 44.06\n",
      "Iteration #410: W_new = [44.62469361  3.89188944], MSE = 44.06\n",
      "Iteration #420: W_new = [44.62832542  3.89123087], MSE = 44.06\n",
      "Iteration #430: W_new = [44.6316008   3.89063693], MSE = 44.06\n",
      "Iteration #440: W_new = [44.63455687  3.89010089], MSE = 44.06\n",
      "Iteration #450: W_new = [44.63722652  3.88961679], MSE = 44.05\n",
      "Iteration #460: W_new = [44.63963895  3.88917933], MSE = 44.05\n",
      "Iteration #470: W_new = [44.64182013  3.88878381], MSE = 44.05\n",
      "Iteration #480: W_new = [44.64379322  3.88842602], MSE = 44.05\n",
      "Iteration #490: W_new = [44.64557886  3.88810222], MSE = 44.05\n",
      "Iteration #500: W_new = [44.64719553  3.88780906], MSE = 44.05\n"
     ]
    }
   ],
   "source": [
    "n = X.shape[1]\n",
    "eta = 0.01\n",
    "n_iter = 501\n",
    "W = np.array([1, 0.5])\n",
    "errors = []\n",
    "print(f'Number of objects = {n} \\\n",
    "       \\nLearning rate = {eta} \\\n",
    "       \\nInitial weights = {W} \\n')\n",
    "\n",
    "for i in range(n_iter):\n",
    "    y_pred = np.dot(X, W)\n",
    "    err = calc_mse(y, y_pred)\n",
    "    errors.append(err)\n",
    "    for k in range(W.shape[0]):\n",
    "        W[k] -= eta * (1/n * 2 * X[:, k] @ (y_pred - y))\n",
    "    if i % 10 == 0:\n",
    "        eta /= 1.1\n",
    "        print(f'Iteration #{i}: W_new = {W}, MSE = {round(err, 2)}')"
   ]
  },
  {
   "cell_type": "code",
   "execution_count": 20,
   "metadata": {},
   "outputs": [
    {
     "data": {
      "image/png": "[encoded data removed]",
      "text/plain": [
       "<Figure size 432x288 with 1 Axes>"
      ]
     },
     "metadata": {
      "needs_background": "light"
     },
     "output_type": "display_data"
    }
   ],
   "source": [
    "y_pred_grad = X @ W\n",
    "plt.scatter(X[:, 1], y)\n",
    "plt.plot(X[:, 1], y_pred_grad, label='gradient descent', c='g')\n",
    "plt.legend()\n",
    "plt.show()"
   ]
  },
  {
   "cell_type": "code",
   "execution_count": 10,
   "metadata": {},
   "outputs": [
    {
     "data": {
      "text/plain": [
       "Text(0, 0.5, 'MSE')"
      ]
     },
     "execution_count": 10,
     "metadata": {},
     "output_type": "execute_result"
    },
    {
     "data": {
      "image/png": "[encoded data removed]",
      "text/plain": [
       "<Figure size 432x288 with 1 Axes>"
      ]
     },
     "metadata": {
      "needs_background": "light"
     },
     "output_type": "display_data"
    }
   ],
   "source": [
    "# Визуализируем изменение функционала ошибки\n",
    "import matplotlib.pyplot as plt\n",
    "plt.plot(range(len(errors)), errors)\n",
    "plt.title('MSE')\n",
    "plt.xlabel('Iteration number')\n",
    "plt.ylabel('MSE')"
   ]
  },
  {
   "cell_type": "markdown",
   "metadata": {},
   "source": [
    "2*. В этом коде мы избавляемся от итераций по весам, но тут есть ошибка, исправьте ее"
   ]
  },
  {
   "cell_type": "code",
   "execution_count": 26,
   "metadata": {
    "scrolled": true
   },
   "outputs": [
    {
     "name": "stdout",
     "output_type": "stream",
     "text": [
      "Number of objects = 2        \n",
      "Learning rate = 0.01        \n",
      "Initial weights = [1.  0.5] \n",
      "\n",
      "Iteration #0: W_new = [ 6.4  19.35], MSE = 3047.75\n",
      "Iteration #10: W_new = [19.96966932  8.87179137], MSE = 379.6\n",
      "Iteration #20: W_new = [29.27719328  6.70531799], MSE = 172.93\n",
      "Iteration #30: W_new = [35.16120834  5.60976141], MSE = 94.66\n",
      "Iteration #40: W_new = [38.85365942  4.93848587], MSE = 63.9\n",
      "Iteration #50: W_new = [41.16920131  4.51849616], MSE = 51.81\n",
      "Iteration #60: W_new = [42.62118483  4.25519525], MSE = 47.05\n",
      "Iteration #70: W_new = [43.53165976  4.0900943 ], MSE = 45.18\n",
      "Iteration #80: W_new = [44.10257814  3.98656703], MSE = 44.45\n",
      "Iteration #90: W_new = [44.46057568  3.9216497 ], MSE = 44.16\n",
      "Iteration #100: W_new = [44.68506002  3.88094292], MSE = 44.04\n",
      "Iteration #110: W_new = [44.82582417  3.85541751], MSE = 44.0\n",
      "Iteration #120: W_new = [44.91409111  3.83941166], MSE = 43.98\n",
      "Iteration #130: W_new = [44.96943938  3.82937511], MSE = 43.97\n",
      "Iteration #140: W_new = [45.00414582  3.82308163], MSE = 43.97\n",
      "Iteration #150: W_new = [45.02590869  3.81913527], MSE = 43.97\n",
      "Iteration #160: W_new = [45.03955522  3.81666068], MSE = 43.97\n",
      "Iteration #170: W_new = [45.04811235  3.81510898], MSE = 43.97\n",
      "Iteration #180: W_new = [45.05347814  3.81413597], MSE = 43.97\n",
      "Iteration #190: W_new = [45.05684279  3.81352585], MSE = 43.97\n",
      "Iteration #200: W_new = [45.05895262  3.81314326], MSE = 43.97\n",
      "Iteration #210: W_new = [45.06027559  3.81290336], MSE = 43.97\n",
      "Iteration #220: W_new = [45.06110517  3.81275293], MSE = 43.97\n",
      "Iteration #230: W_new = [45.06162537  3.8126586 ], MSE = 43.97\n",
      "Iteration #240: W_new = [45.06195156  3.81259945], MSE = 43.97\n",
      "Iteration #250: W_new = [45.0621561   3.81256236], MSE = 43.97\n",
      "Iteration #260: W_new = [45.06228435  3.8125391 ], MSE = 43.97\n",
      "Iteration #270: W_new = [45.06236478  3.81252452], MSE = 43.97\n",
      "Iteration #280: W_new = [45.06241521  3.81251538], MSE = 43.97\n",
      "Iteration #290: W_new = [45.06244683  3.81250964], MSE = 43.97\n",
      "Iteration #300: W_new = [45.06246666  3.81250605], MSE = 43.97\n",
      "Iteration #310: W_new = [45.06247909  3.81250379], MSE = 43.97\n",
      "Iteration #320: W_new = [45.06248689  3.81250238], MSE = 43.97\n",
      "Iteration #330: W_new = [45.06249178  3.81250149], MSE = 43.97\n",
      "Iteration #340: W_new = [45.06249485  3.81250093], MSE = 43.97\n",
      "Iteration #350: W_new = [45.06249677  3.81250059], MSE = 43.97\n",
      "Iteration #360: W_new = [45.06249797  3.81250037], MSE = 43.97\n",
      "Iteration #370: W_new = [45.06249873  3.81250023], MSE = 43.97\n",
      "Iteration #380: W_new = [45.0624992   3.81250014], MSE = 43.97\n",
      "Iteration #390: W_new = [45.0624995   3.81250009], MSE = 43.97\n",
      "Iteration #400: W_new = [45.06249969  3.81250006], MSE = 43.97\n",
      "Iteration #410: W_new = [45.0624998   3.81250004], MSE = 43.97\n",
      "Iteration #420: W_new = [45.06249988  3.81250002], MSE = 43.97\n",
      "Iteration #430: W_new = [45.06249992  3.81250001], MSE = 43.97\n",
      "Iteration #440: W_new = [45.06249995  3.81250001], MSE = 43.97\n",
      "Iteration #450: W_new = [45.06249997  3.81250001], MSE = 43.97\n",
      "Iteration #460: W_new = [45.06249998  3.8125    ], MSE = 43.97\n",
      "Iteration #470: W_new = [45.06249999  3.8125    ], MSE = 43.97\n",
      "Iteration #480: W_new = [45.06249999  3.8125    ], MSE = 43.97\n",
      "Iteration #490: W_new = [45.0625  3.8125], MSE = 43.97\n"
     ]
    }
   ],
   "source": [
    "n = X.shape[1]\n",
    "\n",
    "eta = 1e-2 \n",
    "n_iter = 500\n",
    "\n",
    "W = np.array([1, 0.5])\n",
    "print(f'Number of objects = {n} \\\n",
    "       \\nLearning rate = {eta} \\\n",
    "       \\nInitial weights = {W} \\n')\n",
    "\n",
    "for i in range(n_iter):\n",
    "    y_pred = np.dot(X, W)\n",
    "    err = calc_mse(y, y_pred)\n",
    "#     for k in range(W.shape[0]):\n",
    "#         W[k] -= eta * (1/n * 2 * X[:, k] @ (y_pred - y))\n",
    "#     W -= eta * (1/n * 2 * np.dot(X, y_pred - y))\n",
    "#     if i % 10 == 0:\n",
    "#         print(f'Iteration #{i}: W_new = {W}, MSE = {round(err,2)}')\n",
    "    # ИЗМЕНЕНИЯ\n",
    "    W -= eta * (1/n * 2 * np.dot(X.T, y_pred - y))\n",
    "    if i % 10 == 0:\n",
    "        print(f'Iteration #{i}: W_new = {W}, MSE = {round(err,2)}')"
   ]
  },
  {
   "cell_type": "code",
   "execution_count": 27,
   "metadata": {},
   "outputs": [
    {
     "data": {
      "image/png": "[encoded data removed]",
      "text/plain": [
       "<Figure size 432x288 with 1 Axes>"
      ]
     },
     "metadata": {
      "needs_background": "light"
     },
     "output_type": "display_data"
    }
   ],
   "source": [
    "y_pred_grad = X @ W\n",
    "plt.scatter(X[:, 1], y)\n",
    "plt.plot(X[:, 1], y_pred_grad, label='gradient descent', c='g')\n",
    "plt.legend()\n",
    "plt.show()"
   ]
  },
  {
   "cell_type": "markdown",
   "metadata": {},
   "source": [
    "3* Вместо того, чтобы задавать количество итераций, задайте другое условие останова алгоритма - когда веса перестают изменяться меньше определенного порога эпсилон."
   ]
  },
  {
   "cell_type": "code",
   "execution_count": null,
   "metadata": {
    "scrolled": true
   },
   "outputs": [],
   "source": [
    "n = X.shape[1]\n",
    "eta = 1e-2 \n",
    "n_iter = 500\n",
    "W = np.array([1, 0.5])\n",
    "W_old = W - 0.0001\n",
    "epsilon = 0.001\n",
    "\n",
    "print(f'Number of objects = {n} \\\n",
    "       \\nLearning rate = {eta} \\\n",
    "       \\nInitial weights = {W} \\n')\n",
    "\n",
    "while W[0] - W_old[0] < epsilon and W[1] - W_old[1] < epsilon:\n",
    "#for i in range(n_iter):\n",
    "    y_pred = np.dot(X, W)\n",
    "    err = calc_mse(y, y_pred)\n",
    "    #print(W)\n",
    "    W_old = W\n",
    "    W -= eta * (1/n * 2 * np.dot(X.T, y_pred - y))\n",
    "    if i % 10 == 0:\n",
    "        print(f'Iteration #{i}: W_new = {W}, MSE = {round(err,2)}')\n",
    "        \n",
    "y_pred_grad = X @ W\n",
    "plt.scatter(X[:, 1], y)\n",
    "plt.plot(X[:, 1], y_pred_grad, label='gradient descent', c='g')\n",
    "plt.legend()\n",
    "plt.show()"
   ]
  }
 ],
 "metadata": {
  "kernelspec": {
   "display_name": "Python 3",
   "language": "python",
   "name": "python3"
  },
  "language_info": {
   "codemirror_mode": {
    "name": "ipython",
    "version": 3
   },
   "file_extension": ".py",
   "mimetype": "text/x-python",
   "name": "python",
   "nbconvert_exporter": "python",
   "pygments_lexer": "ipython3",
   "version": "3.7.7"
  },
  "toc": {
   "base_numbering": 1,
   "nav_menu": {},
   "number_sections": true,
   "sideBar": true,
   "skip_h1_title": false,
   "title_cell": "Table of Contents",
   "title_sidebar": "Contents",
   "toc_cell": false,
   "toc_position": {},
   "toc_section_display": true,
   "toc_window_display": false
  },
  "varInspector": {
   "cols": {
    "lenName": 16,
    "lenType": 16,
    "lenVar": 40
   },
   "kernels_config": {
    "python": {
     "delete_cmd_postfix": "",
     "delete_cmd_prefix": "del ",
     "library": "var_list.py",
     "varRefreshCmd": "print(var_dic_list())"
    },
    "r": {
     "delete_cmd_postfix": ") ",
     "delete_cmd_prefix": "rm(",
     "library": "var_list.r",
     "varRefreshCmd": "cat(var_dic_list()) "
    }
   },
   "types_to_exclude": [
    "module",
    "function",
    "builtin_function_or_method",
    "instance",
    "_Feature"
   ],
   "window_display": false
  }
 },
 "nbformat": 4,
 "nbformat_minor": 4
}
