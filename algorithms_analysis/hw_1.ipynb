{
 "cells": [
  {
   "cell_type": "code",
   "execution_count": 6,
   "metadata": {},
   "outputs": [],
   "source": [
    "import matplotlib.pyplot as plt\n",
    "%matplotlib inline"
   ]
  },
  {
   "cell_type": "markdown",
   "metadata": {},
   "source": [
    "1. Подберите скорость обучения (eta) и количество итераций"
   ]
  },
  {
   "cell_type": "code",
   "execution_count": 1,
   "metadata": {},
   "outputs": [],
   "source": [
    "X = np.array([[ 1,  1],\n",
    "              [ 1,  1],\n",
    "              [ 1,  2],\n",
    "              [ 1,  5],\n",
    "              [ 1,  3],\n",
    "              [ 1,  0],\n",
    "              [ 1,  5],\n",
    "              [ 1, 10],\n",
    "              [ 1,  1],\n",
    "              [ 1,  2]])"
   ]
  },
  {
   "cell_type": "code",
   "execution_count": 2,
   "metadata": {},
   "outputs": [],
   "source": [
    "y = [45, 55, 50, 55, 60, 35, 75, 80, 50, 60]"
   ]
  },
  {
   "cell_type": "code",
   "execution_count": 3,
   "metadata": {},
   "outputs": [],
   "source": [
    "def calc_mae(y, y_pred):\n",
    "    err = np.mean(np.abs(y - y_pred))\n",
    "    return err\n",
    "\n",
    "def calc_mse(y, y_pred):\n",
    "    err = np.mean((y - y_pred)**2)\n",
    "    return err"
   ]
  },
  {
   "cell_type": "code",
   "execution_count": 4,
   "metadata": {
    "scrolled": true
   },
   "outputs": [
    {
     "name": "stdout",
     "output_type": "stream",
     "text": [
      "Number of objects = 10        \n",
      "Learning rate = 0.01        \n",
      "Initial weights = [1.  0.5] \n",
      "\n",
      "Iteration #0: W_new = [2.08 4.27], MSE = 3047.75\n",
      "Iteration #10: W_new = [ 6.67106886 10.61676385], MSE = 749.71\n",
      "Iteration #20: W_new = [ 9.49320908 10.25731657], MSE = 648.91\n",
      "Iteration #30: W_new = [11.85740092  9.83349244], MSE = 570.46\n",
      "Iteration #40: W_new = [13.86876921  9.46898661], MSE = 508.03\n",
      "Iteration #50: W_new = [15.59085668  9.15672679], MSE = 457.73\n",
      "Iteration #60: W_new = [17.07337653  8.88789585], MSE = 416.77\n",
      "Iteration #70: W_new = [18.35601294  8.65530964], MSE = 383.06\n",
      "Iteration #80: W_new = [19.47073522  8.45317196], MSE = 355.08\n",
      "Iteration #90: W_new = [20.44350656  8.27677488], MSE = 331.65\n",
      "Iteration #100: W_new = [21.29557245  8.12226587], MSE = 311.9\n",
      "Iteration #110: W_new = [22.044442    7.98646992], MSE = 295.12\n",
      "Iteration #120: W_new = [22.7046421   7.86675281], MSE = 280.78\n",
      "Iteration #130: W_new = [23.2883015   7.76091518], MSE = 268.46\n",
      "Iteration #140: W_new = [23.80560705  7.66710979], MSE = 257.81\n",
      "Iteration #150: W_new = [24.26516249  7.5837765 ], MSE = 248.58\n",
      "Iteration #160: W_new = [24.67427278  7.50959066], MSE = 240.53\n",
      "Iteration #170: W_new = [25.03917079  7.44342203], MSE = 233.49\n",
      "Iteration #180: W_new = [25.36519943  7.38430176], MSE = 227.31\n",
      "Iteration #190: W_new = [25.65695861  7.33139573], MSE = 221.86\n",
      "Iteration #200: W_new = [25.91842478  7.28398287], MSE = 217.05\n",
      "Iteration #210: W_new = [26.15304857  7.24143747], MSE = 212.8\n",
      "Iteration #220: W_new = [26.36383499  7.2032146 ], MSE = 209.02\n",
      "Iteration #230: W_new = [26.55340974  7.16883814], MSE = 205.65\n",
      "Iteration #240: W_new = [26.72407419  7.13789077], MSE = 202.66\n",
      "Iteration #250: W_new = [26.87785132  7.11000566], MSE = 199.98\n",
      "Iteration #260: W_new = [27.01652415  7.08485948], MSE = 197.59\n",
      "Iteration #270: W_new = [27.14166815  7.06216655], MSE = 195.44\n",
      "Iteration #280: W_new = [27.25467861  7.04167384], MSE = 193.52\n",
      "Iteration #290: W_new = [27.35679393  7.02315681], MSE = 191.79\n",
      "Iteration #300: W_new = [27.44911541  7.00641573], MSE = 190.24\n",
      "Iteration #310: W_new = [27.53262425  6.99127269], MSE = 188.84\n",
      "Iteration #320: W_new = [27.60819612  6.97756889], MSE = 187.58\n",
      "Iteration #330: W_new = [27.67661373  6.96516242], MSE = 186.45\n",
      "Iteration #340: W_new = [27.73857771  6.9539262 ], MSE = 185.42\n",
      "Iteration #350: W_new = [27.79471602  6.94374639], MSE = 184.5\n",
      "Iteration #360: W_new = [27.84559223  6.93452077], MSE = 183.66\n",
      "Iteration #370: W_new = [27.89171262  6.92615755], MSE = 182.91\n",
      "Iteration #380: W_new = [27.93353252  6.91857415], MSE = 182.23\n",
      "Iteration #390: W_new = [27.9714618   6.91169626], MSE = 181.61\n",
      "Iteration #400: W_new = [28.00586973  6.90545692], MSE = 181.05\n",
      "Iteration #410: W_new = [28.03708926  6.89979574], MSE = 180.54\n",
      "Iteration #420: W_new = [28.06542083  6.89465824], MSE = 180.08\n",
      "Iteration #430: W_new = [28.0911357   6.88999525], MSE = 179.67\n",
      "Iteration #440: W_new = [28.11447893  6.88576231], MSE = 179.29\n",
      "Iteration #450: W_new = [28.13567205  6.88191927], MSE = 178.95\n",
      "Iteration #460: W_new = [28.15491542  6.87842978], MSE = 178.64\n",
      "Iteration #470: W_new = [28.17239031  6.87526098], MSE = 178.36\n",
      "Iteration #480: W_new = [28.18826083  6.8723831 ], MSE = 178.1\n",
      "Iteration #490: W_new = [28.20267557  6.86976921], MSE = 177.87\n",
      "Iteration #500: W_new = [28.21576915  6.86739489], MSE = 177.66\n"
     ]
    }
   ],
   "source": [
    "n = X.shape[0]\n",
    "eta = 0.01\n",
    "n_iter = 501\n",
    "W = np.array([1, 0.5])\n",
    "errors = []\n",
    "print(f'Number of objects = {n} \\\n",
    "       \\nLearning rate = {eta} \\\n",
    "       \\nInitial weights = {W} \\n')\n",
    "\n",
    "for i in range(n_iter):\n",
    "    y_pred = np.dot(X, W)\n",
    "    err = calc_mse(y, y_pred)\n",
    "    errors.append(err)\n",
    "    for k in range(W.shape[0]):\n",
    "        W[k] -= eta * (1/n * 2 * X[:, k] @ (y_pred - y))\n",
    "    if i % 10 == 0:\n",
    "        eta /= 1.1\n",
    "        print(f'Iteration #{i}: W_new = {W}, MSE = {round(err, 2)}')"
   ]
  },
  {
   "cell_type": "code",
   "execution_count": 7,
   "metadata": {},
   "outputs": [
    {
     "data": {
      "image/png": "[encoded data removed]",
      "text/plain": [
       "<Figure size 432x288 with 1 Axes>"
      ]
     },
     "metadata": {
      "needs_background": "light"
     },
     "output_type": "display_data"
    }
   ],
   "source": [
    "y_pred_grad = X @ W\n",
    "plt.scatter(X[:, 1], y)\n",
    "plt.plot(X[:, 1], y_pred_grad, label='gradient descent', c='g')\n",
    "plt.legend()\n",
    "plt.show()"
   ]
  },
  {
   "cell_type": "code",
   "execution_count": 8,
   "metadata": {},
   "outputs": [
    {
     "data": {
      "text/plain": [
       "Text(0, 0.5, 'MSE')"
      ]
     },
     "execution_count": 8,
     "metadata": {},
     "output_type": "execute_result"
    },
    {
     "data": {
      "image/png": "[encoded data removed]",
      "text/plain": [
       "<Figure size 432x288 with 1 Axes>"
      ]
     },
     "metadata": {
      "needs_background": "light"
     },
     "output_type": "display_data"
    }
   ],
   "source": [
    "# Визуализируем изменение функционала ошибки\n",
    "import matplotlib.pyplot as plt\n",
    "plt.plot(range(len(errors)), errors)\n",
    "plt.title('MSE')\n",
    "plt.xlabel('Iteration number')\n",
    "plt.ylabel('MSE')"
   ]
  },
  {
   "cell_type": "markdown",
   "metadata": {},
   "source": [
    "2*. В этом коде мы избавляемся от итераций по весам, но тут есть ошибка, исправьте ее"
   ]
  },
  {
   "cell_type": "code",
   "execution_count": 9,
   "metadata": {
    "scrolled": true
   },
   "outputs": [
    {
     "name": "stdout",
     "output_type": "stream",
     "text": [
      "Number of objects = 2        \n",
      "Learning rate = 0.01        \n",
      "Initial weights = [1.  0.5] \n",
      "\n",
      "Iteration #0: W_new = [ 6.4  19.35], MSE = 3047.75\n",
      "Iteration #10: W_new = [19.96966932  8.87179137], MSE = 379.6\n",
      "Iteration #20: W_new = [29.27719328  6.70531799], MSE = 172.93\n",
      "Iteration #30: W_new = [35.16120834  5.60976141], MSE = 94.66\n",
      "Iteration #40: W_new = [38.85365942  4.93848587], MSE = 63.9\n",
      "Iteration #50: W_new = [41.16920131  4.51849616], MSE = 51.81\n",
      "Iteration #60: W_new = [42.62118483  4.25519525], MSE = 47.05\n",
      "Iteration #70: W_new = [43.53165976  4.0900943 ], MSE = 45.18\n",
      "Iteration #80: W_new = [44.10257814  3.98656703], MSE = 44.45\n",
      "Iteration #90: W_new = [44.46057568  3.9216497 ], MSE = 44.16\n",
      "Iteration #100: W_new = [44.68506002  3.88094292], MSE = 44.04\n",
      "Iteration #110: W_new = [44.82582417  3.85541751], MSE = 44.0\n",
      "Iteration #120: W_new = [44.91409111  3.83941166], MSE = 43.98\n",
      "Iteration #130: W_new = [44.96943938  3.82937511], MSE = 43.97\n",
      "Iteration #140: W_new = [45.00414582  3.82308163], MSE = 43.97\n",
      "Iteration #150: W_new = [45.02590869  3.81913527], MSE = 43.97\n",
      "Iteration #160: W_new = [45.03955522  3.81666068], MSE = 43.97\n",
      "Iteration #170: W_new = [45.04811235  3.81510898], MSE = 43.97\n",
      "Iteration #180: W_new = [45.05347814  3.81413597], MSE = 43.97\n",
      "Iteration #190: W_new = [45.05684279  3.81352585], MSE = 43.97\n",
      "Iteration #200: W_new = [45.05895262  3.81314326], MSE = 43.97\n",
      "Iteration #210: W_new = [45.06027559  3.81290336], MSE = 43.97\n",
      "Iteration #220: W_new = [45.06110517  3.81275293], MSE = 43.97\n",
      "Iteration #230: W_new = [45.06162537  3.8126586 ], MSE = 43.97\n",
      "Iteration #240: W_new = [45.06195156  3.81259945], MSE = 43.97\n",
      "Iteration #250: W_new = [45.0621561   3.81256236], MSE = 43.97\n",
      "Iteration #260: W_new = [45.06228435  3.8125391 ], MSE = 43.97\n",
      "Iteration #270: W_new = [45.06236478  3.81252452], MSE = 43.97\n",
      "Iteration #280: W_new = [45.06241521  3.81251538], MSE = 43.97\n",
      "Iteration #290: W_new = [45.06244683  3.81250964], MSE = 43.97\n",
      "Iteration #300: W_new = [45.06246666  3.81250605], MSE = 43.97\n",
      "Iteration #310: W_new = [45.06247909  3.81250379], MSE = 43.97\n",
      "Iteration #320: W_new = [45.06248689  3.81250238], MSE = 43.97\n",
      "Iteration #330: W_new = [45.06249178  3.81250149], MSE = 43.97\n",
      "Iteration #340: W_new = [45.06249485  3.81250093], MSE = 43.97\n",
      "Iteration #350: W_new = [45.06249677  3.81250059], MSE = 43.97\n",
      "Iteration #360: W_new = [45.06249797  3.81250037], MSE = 43.97\n",
      "Iteration #370: W_new = [45.06249873  3.81250023], MSE = 43.97\n",
      "Iteration #380: W_new = [45.0624992   3.81250014], MSE = 43.97\n",
      "Iteration #390: W_new = [45.0624995   3.81250009], MSE = 43.97\n",
      "Iteration #400: W_new = [45.06249969  3.81250006], MSE = 43.97\n",
      "Iteration #410: W_new = [45.0624998   3.81250004], MSE = 43.97\n",
      "Iteration #420: W_new = [45.06249988  3.81250002], MSE = 43.97\n",
      "Iteration #430: W_new = [45.06249992  3.81250001], MSE = 43.97\n",
      "Iteration #440: W_new = [45.06249995  3.81250001], MSE = 43.97\n",
      "Iteration #450: W_new = [45.06249997  3.81250001], MSE = 43.97\n",
      "Iteration #460: W_new = [45.06249998  3.8125    ], MSE = 43.97\n",
      "Iteration #470: W_new = [45.06249999  3.8125    ], MSE = 43.97\n",
      "Iteration #480: W_new = [45.06249999  3.8125    ], MSE = 43.97\n",
      "Iteration #490: W_new = [45.0625  3.8125], MSE = 43.97\n"
     ]
    }
   ],
   "source": [
    "n = X.shape[1]\n",
    "\n",
    "eta = 1e-2 \n",
    "n_iter = 500\n",
    "\n",
    "W = np.array([1, 0.5])\n",
    "print(f'Number of objects = {n} \\\n",
    "       \\nLearning rate = {eta} \\\n",
    "       \\nInitial weights = {W} \\n')\n",
    "\n",
    "for i in range(n_iter):\n",
    "    y_pred = np.dot(X, W)\n",
    "    err = calc_mse(y, y_pred)\n",
    "#     for k in range(W.shape[0]):\n",
    "#         W[k] -= eta * (1/n * 2 * X[:, k] @ (y_pred - y))\n",
    "#     W -= eta * (1/n * 2 * np.dot(X, y_pred - y))\n",
    "#     if i % 10 == 0:\n",
    "#         print(f'Iteration #{i}: W_new = {W}, MSE = {round(err,2)}')\n",
    "    # ИЗМЕНЕНИЯ\n",
    "    W -= eta * (1/n * 2 * np.dot(X.T, y_pred - y))\n",
    "    if i % 10 == 0:\n",
    "        print(f'Iteration #{i}: W_new = {W}, MSE = {round(err,2)}')"
   ]
  },
  {
   "cell_type": "code",
   "execution_count": 10,
   "metadata": {},
   "outputs": [
    {
     "data": {
      "image/png": "[encoded data removed]",
      "text/plain": [
       "<Figure size 432x288 with 1 Axes>"
      ]
     },
     "metadata": {
      "needs_background": "light"
     },
     "output_type": "display_data"
    }
   ],
   "source": [
    "y_pred_grad = X @ W\n",
    "plt.scatter(X[:, 1], y)\n",
    "plt.plot(X[:, 1], y_pred_grad, label='gradient descent', c='g')\n",
    "plt.legend()\n",
    "plt.show()"
   ]
  },
  {
   "cell_type": "markdown",
   "metadata": {},
   "source": [
    "3* Вместо того, чтобы задавать количество итераций, задайте другое условие останова алгоритма - когда веса перестают изменяться меньше определенного порога эпсилон."
   ]
  },
  {
   "cell_type": "code",
   "execution_count": null,
   "metadata": {
    "scrolled": true
   },
   "outputs": [],
   "source": [
    "n = X.shape[1]\n",
    "eta = 1e-2 \n",
    "n_iter = 500\n",
    "W = np.array([1, 0.5])\n",
    "W_old = W - 0.0001\n",
    "epsilon = 0.001\n",
    "\n",
    "print(f'Number of objects = {n} \\\n",
    "       \\nLearning rate = {eta} \\\n",
    "       \\nInitial weights = {W} \\n')\n",
    "\n",
    "while W[0] - W_old[0] < epsilon and W[1] - W_old[1] < epsilon:\n",
    "#for i in range(n_iter):\n",
    "    y_pred = np.dot(X, W)\n",
    "    err = calc_mse(y, y_pred)\n",
    "    #print(W)\n",
    "    W_old = W\n",
    "    W -= eta * (1/n * 2 * np.dot(X.T, y_pred - y))\n",
    "    if i % 10 == 0:\n",
    "        print(f'Iteration #{i}: W_new = {W}, MSE = {round(err,2)}')\n",
    "        \n",
    "y_pred_grad = X @ W\n",
    "plt.scatter(X[:, 1], y)\n",
    "plt.plot(X[:, 1], y_pred_grad, label='gradient descent', c='g')\n",
    "plt.legend()\n",
    "plt.show()"
   ]
  }
 ],
 "metadata": {
  "kernelspec": {
   "display_name": "Python 3",
   "language": "python",
   "name": "python3"
  },
  "language_info": {
   "codemirror_mode": {
    "name": "ipython",
    "version": 3
   },
   "file_extension": ".py",
   "mimetype": "text/x-python",
   "name": "python",
   "nbconvert_exporter": "python",
   "pygments_lexer": "ipython3",
   "version": "3.7.7"
  },
  "toc": {
   "base_numbering": 1,
   "nav_menu": {},
   "number_sections": true,
   "sideBar": true,
   "skip_h1_title": false,
   "title_cell": "Table of Contents",
   "title_sidebar": "Contents",
   "toc_cell": false,
   "toc_position": {},
   "toc_section_display": true,
   "toc_window_display": false
  },
  "varInspector": {
   "cols": {
    "lenName": 16,
    "lenType": 16,
    "lenVar": 40
   },
   "kernels_config": {
    "python": {
     "delete_cmd_postfix": "",
     "delete_cmd_prefix": "del ",
     "library": "var_list.py",
     "varRefreshCmd": "print(var_dic_list())"
    },
    "r": {
     "delete_cmd_postfix": ") ",
     "delete_cmd_prefix": "rm(",
     "library": "var_list.r",
     "varRefreshCmd": "cat(var_dic_list()) "
    }
   },
   "types_to_exclude": [
    "module",
    "function",
    "builtin_function_or_method",
    "instance",
    "_Feature"
   ],
   "window_display": false
  }
 },
 "nbformat": 4,
 "nbformat_minor": 4
}
