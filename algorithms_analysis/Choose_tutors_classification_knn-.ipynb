{
 "cells": [
  {
   "cell_type": "markdown",
   "metadata": {},
   "source": [
    "https://www.kaggle.com/c/classification-choose-tutors/\n",
    "\n",
    "In this competition your task will be to predict the probability for a tutor to be a proper one for preparing for the math exam. You will be given two datasets: train.csv (contains all features and the target) and test.csv (only features).\n",
    "\n",
    "Ваша задача этом соревновании - предсказать вероятность того, подойдет ли репетитор для подготовки к экзамену по математике. Вам будут даны два датасета: train.csv (содержит признаки и целевую переменную) и test.csv (только признаки)."
   ]
  },
  {
   "cell_type": "code",
   "execution_count": 1,
   "metadata": {},
   "outputs": [],
   "source": [
    "# You can only use these imports:\n",
    "import numpy as np\n",
    "import pandas as pd\n",
    "import sklearn\n",
    "from sklearn.model_selection import train_test_split\n",
    "#from imblearn import over_sampling, under_sampling\n",
    "import matplotlib.pyplot as plt\n",
    "import seaborn as sns"
   ]
  },
  {
   "cell_type": "code",
   "execution_count": 2,
   "metadata": {
    "scrolled": true
   },
   "outputs": [
    {
     "data": {
      "text/html": [
       "<div>\n",
       "<style scoped>\n",
       "    .dataframe tbody tr th:only-of-type {\n",
       "        vertical-align: middle;\n",
       "    }\n",
       "\n",
       "    .dataframe tbody tr th {\n",
       "        vertical-align: top;\n",
       "    }\n",
       "\n",
       "    .dataframe thead th {\n",
       "        text-align: right;\n",
       "    }\n",
       "</style>\n",
       "<table border=\"1\" class=\"dataframe\">\n",
       "  <thead>\n",
       "    <tr style=\"text-align: right;\">\n",
       "      <th></th>\n",
       "      <th>Id</th>\n",
       "      <th>age</th>\n",
       "      <th>years_of_experience</th>\n",
       "      <th>lesson_price</th>\n",
       "      <th>qualification</th>\n",
       "      <th>physics</th>\n",
       "      <th>chemistry</th>\n",
       "      <th>biology</th>\n",
       "      <th>english</th>\n",
       "      <th>geography</th>\n",
       "      <th>history</th>\n",
       "      <th>mean_exam_points</th>\n",
       "      <th>choose</th>\n",
       "    </tr>\n",
       "  </thead>\n",
       "  <tbody>\n",
       "    <tr>\n",
       "      <th>0</th>\n",
       "      <td>0</td>\n",
       "      <td>35.0</td>\n",
       "      <td>0.0</td>\n",
       "      <td>2150.0</td>\n",
       "      <td>2.0</td>\n",
       "      <td>0.0</td>\n",
       "      <td>0.0</td>\n",
       "      <td>0.0</td>\n",
       "      <td>0.0</td>\n",
       "      <td>0.0</td>\n",
       "      <td>0.0</td>\n",
       "      <td>74.0</td>\n",
       "      <td>0</td>\n",
       "    </tr>\n",
       "    <tr>\n",
       "      <th>1</th>\n",
       "      <td>1</td>\n",
       "      <td>52.0</td>\n",
       "      <td>2.0</td>\n",
       "      <td>1250.0</td>\n",
       "      <td>2.0</td>\n",
       "      <td>1.0</td>\n",
       "      <td>0.0</td>\n",
       "      <td>1.0</td>\n",
       "      <td>0.0</td>\n",
       "      <td>0.0</td>\n",
       "      <td>1.0</td>\n",
       "      <td>57.0</td>\n",
       "      <td>1</td>\n",
       "    </tr>\n",
       "    <tr>\n",
       "      <th>2</th>\n",
       "      <td>2</td>\n",
       "      <td>29.0</td>\n",
       "      <td>3.0</td>\n",
       "      <td>1750.0</td>\n",
       "      <td>1.0</td>\n",
       "      <td>1.0</td>\n",
       "      <td>0.0</td>\n",
       "      <td>0.0</td>\n",
       "      <td>0.0</td>\n",
       "      <td>0.0</td>\n",
       "      <td>0.0</td>\n",
       "      <td>66.0</td>\n",
       "      <td>0</td>\n",
       "    </tr>\n",
       "    <tr>\n",
       "      <th>3</th>\n",
       "      <td>3</td>\n",
       "      <td>33.0</td>\n",
       "      <td>3.0</td>\n",
       "      <td>1050.0</td>\n",
       "      <td>1.0</td>\n",
       "      <td>0.0</td>\n",
       "      <td>0.0</td>\n",
       "      <td>0.0</td>\n",
       "      <td>0.0</td>\n",
       "      <td>0.0</td>\n",
       "      <td>0.0</td>\n",
       "      <td>66.0</td>\n",
       "      <td>1</td>\n",
       "    </tr>\n",
       "    <tr>\n",
       "      <th>4</th>\n",
       "      <td>4</td>\n",
       "      <td>46.0</td>\n",
       "      <td>3.0</td>\n",
       "      <td>2250.0</td>\n",
       "      <td>2.0</td>\n",
       "      <td>1.0</td>\n",
       "      <td>0.0</td>\n",
       "      <td>0.0</td>\n",
       "      <td>0.0</td>\n",
       "      <td>0.0</td>\n",
       "      <td>0.0</td>\n",
       "      <td>73.0</td>\n",
       "      <td>0</td>\n",
       "    </tr>\n",
       "  </tbody>\n",
       "</table>\n",
       "</div>"
      ],
      "text/plain": [
       "   Id   age  years_of_experience  lesson_price  qualification  physics  \\\n",
       "0   0  35.0                  0.0        2150.0            2.0      0.0   \n",
       "1   1  52.0                  2.0        1250.0            2.0      1.0   \n",
       "2   2  29.0                  3.0        1750.0            1.0      1.0   \n",
       "3   3  33.0                  3.0        1050.0            1.0      0.0   \n",
       "4   4  46.0                  3.0        2250.0            2.0      1.0   \n",
       "\n",
       "   chemistry  biology  english  geography  history  mean_exam_points  choose  \n",
       "0        0.0      0.0      0.0        0.0      0.0              74.0       0  \n",
       "1        0.0      1.0      0.0        0.0      1.0              57.0       1  \n",
       "2        0.0      0.0      0.0        0.0      0.0              66.0       0  \n",
       "3        0.0      0.0      0.0        0.0      0.0              66.0       1  \n",
       "4        0.0      0.0      0.0        0.0      0.0              73.0       0  "
      ]
     },
     "execution_count": 2,
     "metadata": {},
     "output_type": "execute_result"
    }
   ],
   "source": [
    "train = pd.read_csv('Choose_tutors_classification_data/train.csv')\n",
    "test = pd.read_csv('Choose_tutors_classification_data/test.csv')\n",
    "train.head()"
   ]
  },
  {
   "cell_type": "code",
   "execution_count": 3,
   "metadata": {
    "scrolled": true
   },
   "outputs": [
    {
     "name": "stdout",
     "output_type": "stream",
     "text": [
      "<class 'pandas.core.frame.DataFrame'>\n",
      "RangeIndex: 10000 entries, 0 to 9999\n",
      "Data columns (total 13 columns):\n",
      " #   Column               Non-Null Count  Dtype  \n",
      "---  ------               --------------  -----  \n",
      " 0   Id                   10000 non-null  int64  \n",
      " 1   age                  10000 non-null  float64\n",
      " 2   years_of_experience  10000 non-null  float64\n",
      " 3   lesson_price         10000 non-null  float64\n",
      " 4   qualification        10000 non-null  float64\n",
      " 5   physics              10000 non-null  float64\n",
      " 6   chemistry            10000 non-null  float64\n",
      " 7   biology              10000 non-null  float64\n",
      " 8   english              10000 non-null  float64\n",
      " 9   geography            10000 non-null  float64\n",
      " 10  history              10000 non-null  float64\n",
      " 11  mean_exam_points     10000 non-null  float64\n",
      " 12  choose               10000 non-null  int64  \n",
      "dtypes: float64(11), int64(2)\n",
      "memory usage: 1015.8 KB\n"
     ]
    }
   ],
   "source": [
    "train.info()"
   ]
  },
  {
   "cell_type": "code",
   "execution_count": 4,
   "metadata": {
    "scrolled": true
   },
   "outputs": [
    {
     "data": {
      "text/html": [
       "<div>\n",
       "<style scoped>\n",
       "    .dataframe tbody tr th:only-of-type {\n",
       "        vertical-align: middle;\n",
       "    }\n",
       "\n",
       "    .dataframe tbody tr th {\n",
       "        vertical-align: top;\n",
       "    }\n",
       "\n",
       "    .dataframe thead th {\n",
       "        text-align: right;\n",
       "    }\n",
       "</style>\n",
       "<table border=\"1\" class=\"dataframe\">\n",
       "  <thead>\n",
       "    <tr style=\"text-align: right;\">\n",
       "      <th></th>\n",
       "      <th>Id</th>\n",
       "      <th>age</th>\n",
       "      <th>years_of_experience</th>\n",
       "      <th>lesson_price</th>\n",
       "      <th>qualification</th>\n",
       "      <th>physics</th>\n",
       "      <th>chemistry</th>\n",
       "      <th>biology</th>\n",
       "      <th>english</th>\n",
       "      <th>geography</th>\n",
       "      <th>history</th>\n",
       "      <th>mean_exam_points</th>\n",
       "    </tr>\n",
       "  </thead>\n",
       "  <tbody>\n",
       "    <tr>\n",
       "      <th>0</th>\n",
       "      <td>10000</td>\n",
       "      <td>32.0</td>\n",
       "      <td>2.0</td>\n",
       "      <td>2700.0</td>\n",
       "      <td>3.0</td>\n",
       "      <td>0.0</td>\n",
       "      <td>0.0</td>\n",
       "      <td>0.0</td>\n",
       "      <td>0.0</td>\n",
       "      <td>0.0</td>\n",
       "      <td>0.0</td>\n",
       "      <td>90.0</td>\n",
       "    </tr>\n",
       "    <tr>\n",
       "      <th>1</th>\n",
       "      <td>10001</td>\n",
       "      <td>35.0</td>\n",
       "      <td>6.0</td>\n",
       "      <td>1800.0</td>\n",
       "      <td>2.0</td>\n",
       "      <td>1.0</td>\n",
       "      <td>1.0</td>\n",
       "      <td>0.0</td>\n",
       "      <td>0.0</td>\n",
       "      <td>0.0</td>\n",
       "      <td>0.0</td>\n",
       "      <td>71.0</td>\n",
       "    </tr>\n",
       "    <tr>\n",
       "      <th>2</th>\n",
       "      <td>10002</td>\n",
       "      <td>44.0</td>\n",
       "      <td>2.0</td>\n",
       "      <td>1200.0</td>\n",
       "      <td>1.0</td>\n",
       "      <td>0.0</td>\n",
       "      <td>0.0</td>\n",
       "      <td>0.0</td>\n",
       "      <td>0.0</td>\n",
       "      <td>0.0</td>\n",
       "      <td>0.0</td>\n",
       "      <td>45.0</td>\n",
       "    </tr>\n",
       "    <tr>\n",
       "      <th>3</th>\n",
       "      <td>10003</td>\n",
       "      <td>44.0</td>\n",
       "      <td>4.0</td>\n",
       "      <td>2950.0</td>\n",
       "      <td>3.0</td>\n",
       "      <td>1.0</td>\n",
       "      <td>0.0</td>\n",
       "      <td>0.0</td>\n",
       "      <td>0.0</td>\n",
       "      <td>0.0</td>\n",
       "      <td>0.0</td>\n",
       "      <td>92.0</td>\n",
       "    </tr>\n",
       "    <tr>\n",
       "      <th>4</th>\n",
       "      <td>10004</td>\n",
       "      <td>38.0</td>\n",
       "      <td>3.0</td>\n",
       "      <td>1400.0</td>\n",
       "      <td>2.0</td>\n",
       "      <td>1.0</td>\n",
       "      <td>0.0</td>\n",
       "      <td>0.0</td>\n",
       "      <td>0.0</td>\n",
       "      <td>0.0</td>\n",
       "      <td>0.0</td>\n",
       "      <td>58.0</td>\n",
       "    </tr>\n",
       "  </tbody>\n",
       "</table>\n",
       "</div>"
      ],
      "text/plain": [
       "      Id   age  years_of_experience  lesson_price  qualification  physics  \\\n",
       "0  10000  32.0                  2.0        2700.0            3.0      0.0   \n",
       "1  10001  35.0                  6.0        1800.0            2.0      1.0   \n",
       "2  10002  44.0                  2.0        1200.0            1.0      0.0   \n",
       "3  10003  44.0                  4.0        2950.0            3.0      1.0   \n",
       "4  10004  38.0                  3.0        1400.0            2.0      1.0   \n",
       "\n",
       "   chemistry  biology  english  geography  history  mean_exam_points  \n",
       "0        0.0      0.0      0.0        0.0      0.0              90.0  \n",
       "1        1.0      0.0      0.0        0.0      0.0              71.0  \n",
       "2        0.0      0.0      0.0        0.0      0.0              45.0  \n",
       "3        0.0      0.0      0.0        0.0      0.0              92.0  \n",
       "4        0.0      0.0      0.0        0.0      0.0              58.0  "
      ]
     },
     "execution_count": 4,
     "metadata": {},
     "output_type": "execute_result"
    }
   ],
   "source": [
    "test.head()"
   ]
  },
  {
   "cell_type": "code",
   "execution_count": 5,
   "metadata": {
    "scrolled": true
   },
   "outputs": [
    {
     "name": "stdout",
     "output_type": "stream",
     "text": [
      "<class 'pandas.core.frame.DataFrame'>\n",
      "RangeIndex: 10000 entries, 0 to 9999\n",
      "Data columns (total 12 columns):\n",
      " #   Column               Non-Null Count  Dtype  \n",
      "---  ------               --------------  -----  \n",
      " 0   Id                   10000 non-null  int64  \n",
      " 1   age                  10000 non-null  float64\n",
      " 2   years_of_experience  10000 non-null  float64\n",
      " 3   lesson_price         10000 non-null  float64\n",
      " 4   qualification        10000 non-null  float64\n",
      " 5   physics              10000 non-null  float64\n",
      " 6   chemistry            10000 non-null  float64\n",
      " 7   biology              10000 non-null  float64\n",
      " 8   english              10000 non-null  float64\n",
      " 9   geography            10000 non-null  float64\n",
      " 10  history              10000 non-null  float64\n",
      " 11  mean_exam_points     10000 non-null  float64\n",
      "dtypes: float64(11), int64(1)\n",
      "memory usage: 937.6 KB\n"
     ]
    }
   ],
   "source": [
    "test.info()"
   ]
  },
  {
   "cell_type": "markdown",
   "metadata": {
    "id": "cz_JhiIpbsh8"
   },
   "source": [
    "Разделим выборку на обучающую и тестовую в соотношении 75/25."
   ]
  },
  {
   "cell_type": "code",
   "execution_count": 6,
   "metadata": {
    "id": "ExZPR9FLbsh9"
   },
   "outputs": [],
   "source": [
    "X_train, X_test, y_train, y_test = sklearn.model_selection.train_test_split(train.drop('choose', axis=1),\n",
    "                                                                    train['choose'], test_size=0.25)"
   ]
  },
  {
   "cell_type": "code",
   "execution_count": 7,
   "metadata": {},
   "outputs": [],
   "source": [
    "X_train = X_train.to_numpy()\n",
    "X_test = X_test.to_numpy()\n",
    "y_train = y_train.to_numpy()\n",
    "y_test = y_test.to_numpy()"
   ]
  },
  {
   "cell_type": "markdown",
   "metadata": {
    "id": "59xP1kfUuf-O"
   },
   "source": [
    "Используем евклидову метрику. Реализуем функцию для ее подсчета."
   ]
  },
  {
   "cell_type": "code",
   "execution_count": 8,
   "metadata": {
    "id": "MKipIKeGuf-P"
   },
   "outputs": [],
   "source": [
    "def e_metrics(x1, x2):\n",
    "    distance = np.sum(np.square(x1 - x2))\n",
    "    return np.sqrt(distance)"
   ]
  },
  {
   "cell_type": "code",
   "execution_count": 9,
   "metadata": {
    "id": "eK2Bn_7ouf-Y"
   },
   "outputs": [],
   "source": [
    "# функция точности\n",
    "def accuracy(pred, y):\n",
    "    return (sum(pred == y) / len(y))"
   ]
  },
  {
   "cell_type": "code",
   "execution_count": 13,
   "metadata": {},
   "outputs": [],
   "source": [
    "# два цикла: 8 мин при k = 10\n",
    "# def knn(x_train, y_train, x_test, k):\n",
    "    \n",
    "#     answers = []\n",
    "#     for x in x_test:\n",
    "#         test_distances = []\n",
    "            \n",
    "#         for i in range(len(x_train)):\n",
    "            \n",
    "#             # расчет расстояния от классифицируемого объекта до\n",
    "#             # объекта обучающей выборки\n",
    "#             distance = e_metrics(x, x_train[i])\n",
    "            \n",
    "#             # Записываем в список значение расстояния и ответа на объекте обучающей выборки\n",
    "#             test_distances.append((distance, y_train[i]))\n",
    "        \n",
    "#         # создаем словарь со всеми возможными классами\n",
    "#         classes = {class_item: 0 for class_item in set(y_train)}\n",
    "        \n",
    "#         # Сортируем список и среди первых k элементов подсчитаем частоту появления разных классов\n",
    "#         for d in sorted(test_distances)[0:k]:\n",
    "#             classes[d[1]] += 1\n",
    "\n",
    "#         # Записываем в список ответов наиболее часто встречающийся класс\n",
    "#         answers.append(sorted(classes, key=classes.get)[-1])\n",
    "        \n",
    "#     return answers"
   ]
  },
  {
   "cell_type": "code",
   "execution_count": 15,
   "metadata": {},
   "outputs": [],
   "source": [
    "# один цикл: один цикл - 45 сек при k=10\n",
    "def knn(x_train, y_train, x_test, k, weights=None):\n",
    "    \n",
    "    answers = []\n",
    "    for x in x_test:\n",
    "            \n",
    "        # расчет расстояний от классифицируемого объекта до\n",
    "        # объектов обучающей выборки\n",
    "        distances = np.sqrt(np.sum(np.square(x - x_train), axis=1))\n",
    "            \n",
    "        # создаем словарь со всеми возможными классами\n",
    "        classes = {class_item: 0 for class_item in set(y_train)}\n",
    "\n",
    "        # больше оптимизации\n",
    "        test_distances = np.c_[distances, y_train]\n",
    "        for d in sorted(test_distances, key=lambda x: x[0])[0:k]:\n",
    "            classes[d[1]] += 1\n",
    "\n",
    "        # Записываем в список ответов наиболее часто встречающийся класс\n",
    "        answers.append(sorted(classes, key=classes.get)[-1])\n",
    "        \n",
    "    return answers"
   ]
  },
  {
   "cell_type": "code",
   "execution_count": 11,
   "metadata": {},
   "outputs": [],
   "source": [
    "# ноль циклов: ВЫЛЕТАЕТ С ОШИБКОЙ - нужно 5 Гб памяти\n",
    "# def knn(x_train, y_train, x_test, k, weights=None):\n",
    "    \n",
    "#     # расчет расстояний от классифицируемых объектов до\n",
    "#     # объектов обучающей выборки\n",
    "#     distances = np.sqrt(np.sum(np.square(x_test[:, np.newaxis] - x_train), axis=2))\n",
    "                \n",
    "#     answers = []    \n",
    "#     for distance in distances:\n",
    "#         # Записываем в список значение расстояния и ответа на объекте обучающей выборки\n",
    "#         test_distances = [(dist, label) for dist, label in zip(distance, y_train)]\n",
    "#         # создаем словарь со всеми возможными классами\n",
    "#         classes = {class_item: 0 for class_item in set(y_train)}\n",
    "        \n",
    "#         # Сортируем список и среди первых k элементов подсчитаем частоту появления разных классов\n",
    "#         for d in sorted(test_distances)[0:k]:\n",
    "#             classes[d[1]] += 1\n",
    "\n",
    "#         # Записываем в список ответов наиболее часто встречающийся класс\n",
    "#         answers.append(sorted(classes, key=classes.get)[-1])\n",
    "        \n",
    "#     return answers"
   ]
  },
  {
   "cell_type": "code",
   "execution_count": 14,
   "metadata": {},
   "outputs": [
    {
     "name": "stdout",
     "output_type": "stream",
     "text": [
      "Wall time: 7min 54s\n",
      "Wall time: 3min 2s\n",
      "Точность алгоритма на трейне при k = 10: 0.895\n",
      "Точность алгоритма на тесте при k = 10: 0.876\n"
     ]
    }
   ],
   "source": [
    "# два цикла - 8 мин\n",
    "k = 10\n",
    "\n",
    "%time y_pred_train = knn(X_train, y_train, X_train, k)\n",
    "%time y_pred = knn(X_train, y_train, X_test, k)\n",
    "\n",
    "print(f'Точность алгоритма на трейне при k = {k}: {accuracy(y_pred_train, y_train):.3f}')\n",
    "print(f'Точность алгоритма на тесте при k = {k}: {accuracy(y_pred, y_test):.3f}')"
   ]
  },
  {
   "cell_type": "code",
   "execution_count": 16,
   "metadata": {},
   "outputs": [
    {
     "name": "stdout",
     "output_type": "stream",
     "text": [
      "Wall time: 44.8 s\n",
      "Wall time: 15.5 s\n",
      "Точность алгоритма на трейне при k = 10: 0.895\n",
      "Точность алгоритма на тесте при k = 10: 0.876\n"
     ]
    }
   ],
   "source": [
    "# один цикл - 45 сек\n",
    "k = 10\n",
    "\n",
    "%time y_pred_train = knn(X_train, y_train, X_train, k)\n",
    "%time y_pred = knn(X_train, y_train, X_test, k)\n",
    "\n",
    "print(f'Точность алгоритма на трейне при k = {k}: {accuracy(y_pred_train, y_train):.3f}')\n",
    "print(f'Точность алгоритма на тесте при k = {k}: {accuracy(y_pred, y_test):.3f}')"
   ]
  }
 ],
 "metadata": {
  "kernelspec": {
   "display_name": "Python 3",
   "language": "python",
   "name": "python3"
  },
  "language_info": {
   "codemirror_mode": {
    "name": "ipython",
    "version": 3
   },
   "file_extension": ".py",
   "mimetype": "text/x-python",
   "name": "python",
   "nbconvert_exporter": "python",
   "pygments_lexer": "ipython3",
   "version": "3.8.5"
  },
  "toc": {
   "base_numbering": 1,
   "nav_menu": {},
   "number_sections": true,
   "sideBar": true,
   "skip_h1_title": false,
   "title_cell": "Table of Contents",
   "title_sidebar": "Contents",
   "toc_cell": false,
   "toc_position": {},
   "toc_section_display": true,
   "toc_window_display": false
  },
  "varInspector": {
   "cols": {
    "lenName": 16,
    "lenType": 16,
    "lenVar": 40
   },
   "kernels_config": {
    "python": {
     "delete_cmd_postfix": "",
     "delete_cmd_prefix": "del ",
     "library": "var_list.py",
     "varRefreshCmd": "print(var_dic_list())"
    },
    "r": {
     "delete_cmd_postfix": ") ",
     "delete_cmd_prefix": "rm(",
     "library": "var_list.r",
     "varRefreshCmd": "cat(var_dic_list()) "
    }
   },
   "types_to_exclude": [
    "module",
    "function",
    "builtin_function_or_method",
    "instance",
    "_Feature"
   ],
   "window_display": false
  }
 },
 "nbformat": 4,
 "nbformat_minor": 4
}
