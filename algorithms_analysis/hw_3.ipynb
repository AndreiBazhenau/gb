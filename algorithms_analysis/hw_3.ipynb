{
 "cells": [
  {
   "cell_type": "code",
   "execution_count": 22,
   "metadata": {},
   "outputs": [],
   "source": [
    "import matplotlib.pyplot as plt\n",
    "%matplotlib inline\n",
    "import pandas as pd"
   ]
  },
  {
   "cell_type": "code",
   "execution_count": 2,
   "metadata": {},
   "outputs": [],
   "source": [
    "X = np.array([ [   1,    1,  500,    1],\n",
    "               [   1,    1,  700,    1],\n",
    "               [   1,    2,  750,    2],\n",
    "               [   1,    5,  600,    1],\n",
    "               [   1,    3, 1450,    2],\n",
    "               [   1,    0,  800,    1],\n",
    "               [   1,    5, 1500,    3],\n",
    "               [   1,   10, 2000,    3],\n",
    "               [   1,    1,  450,    1],\n",
    "               [   1,    2, 1000,    2]], dtype = np.float64)\n",
    "\n",
    "y = np.array([0, 0, 1, 0, 1, 0, 1, 0, 1, 1], dtype = np.float64)"
   ]
  },
  {
   "cell_type": "code",
   "execution_count": 3,
   "metadata": {},
   "outputs": [],
   "source": [
    "def standard_scale(x):\n",
    "    res = (x - x.mean()) / x.std()\n",
    "    return res"
   ]
  },
  {
   "cell_type": "code",
   "execution_count": 4,
   "metadata": {},
   "outputs": [],
   "source": [
    "X_st = X.copy()\n",
    "X_st[:, 2] = standard_scale(X[:, 2])"
   ]
  },
  {
   "cell_type": "markdown",
   "metadata": {},
   "source": [
    "1. *Измените функцию calc_logloss так, чтобы нули по возможности не попадали в np.log."
   ]
  },
  {
   "cell_type": "code",
   "execution_count": 5,
   "metadata": {},
   "outputs": [],
   "source": [
    "def calc_logloss(y, y_pred):\n",
    "    y_pred = np.where(y_pred == 1, 0.9999999999, y_pred)\n",
    "    y_pred = np.where(y_pred == 0, 0.0000000001, y_pred)\n",
    "    err = - np.mean(y * np.log(y_pred) + (1.0 - y) * np.log(1.0 - y_pred))\n",
    "    return err"
   ]
  },
  {
   "cell_type": "code",
   "execution_count": 7,
   "metadata": {},
   "outputs": [
    {
     "data": {
      "text/plain": [
       "0.052680257878913145"
      ]
     },
     "execution_count": 7,
     "metadata": {},
     "output_type": "execute_result"
    }
   ],
   "source": [
    "y1 = np.array([1, 0])\n",
    "y_pred1 = np.array([1, 0.1])\n",
    "calc_logloss(y1, y_pred1)"
   ]
  },
  {
   "cell_type": "markdown",
   "metadata": {},
   "source": [
    "2. Подберите аргументы функции eval_model для логистической регрессии таким образом, чтобы log loss был минимальным.\n"
   ]
  },
  {
   "cell_type": "code",
   "execution_count": 6,
   "metadata": {},
   "outputs": [],
   "source": [
    "# Функция сигмоиды позволяет перевести ответы обычной линейной функции, которые распределены от -∞ до +∞ в интервал [0, 1].\n",
    "def sigmoid(z):\n",
    "    res = 1 / (1 + np.exp(-z))\n",
    "    return res"
   ]
  },
  {
   "cell_type": "code",
   "execution_count": 9,
   "metadata": {},
   "outputs": [],
   "source": [
    "# функция, обучающая логистическую регрессию\n",
    "def eval_model(X, y, iterations, eta=1e-4):\n",
    "    np.random.seed(42)\n",
    "    W = np.random.randn(X.shape[1])\n",
    "    n = X.shape[0]\n",
    "    \n",
    "    for i in range(iterations):\n",
    "        z = np.dot(X, W)\n",
    "        y_pred = sigmoid(z)\n",
    "        err = calc_logloss(y, y_pred)\n",
    "        \n",
    "        dQ = 1/n * X.T @ (y_pred - y)\n",
    "        W -= eta * dQ\n",
    "        if i % (iterations / 10) == 0:\n",
    "            print(i, W, err)\n",
    "    return W, err"
   ]
  },
  {
   "cell_type": "code",
   "execution_count": 10,
   "metadata": {},
   "outputs": [
    {
     "name": "stdout",
     "output_type": "stream",
     "text": [
      "0 [ 0.49667621 -0.13840939  0.6476858   1.52297324] 1.1785958344356262\n",
      "10000 [ 0.30085159 -0.70010366  0.66304526  1.28880867] 0.5201502810376881\n",
      "20000 [ 0.21871381 -0.71695701  0.72733591  1.28031405] 0.5084284623865897\n",
      "30000 [ 0.15158336 -0.7159557   0.78086078  1.2899477 ] 0.5009374213805786\n",
      "40000 [ 0.09284027 -0.71710202  0.82366919  1.30615742] 0.4953749740011232\n",
      "50000 [ 0.04045392 -0.7205475   0.85790287  1.32689855] 0.49100762530714015\n",
      "60000 [-0.00702645 -0.7256221   0.88536634  1.35090215] 0.4873917229674506\n",
      "70000 [-0.05072838 -0.7317913   0.90747125  1.37718904] 0.48426099191072886\n",
      "80000 [-0.09152177 -0.73866018  0.92530946  1.40500779] 0.48145570893707534\n",
      "90000 [-0.13007207 -0.74594009  0.93972283  1.43379081] 0.4788792050452245\n"
     ]
    }
   ],
   "source": [
    "W, err = eval_model(X_st, y, iterations=100000, eta=1e-4)"
   ]
  },
  {
   "cell_type": "code",
   "execution_count": null,
   "metadata": {},
   "outputs": [
    {
     "name": "stderr",
     "output_type": "stream",
     "text": [
      "100%|██████████████████████████████████████████████████████████████████████████████| 9900/9900 [34:00<00:00,  2.47it/s]"
     ]
    }
   ],
   "source": [
    "from tqdm import tqdm\n",
    "iterations_ = np.arange(100, 10000)\n",
    "err_ = 10000\n",
    "err_list = []\n",
    "# for iterations_ in np.arange(100, 10000):\n",
    "for iterations_ in tqdm(iterations_):\n",
    "    for eta_ in np.arange(1e-4, 1e-3):\n",
    "        W, err = eval_model(X_st, y, iterations=iterations_, eta=eta_)\n",
    "        err_list.append(err)\n",
    "        if err < err_:\n",
    "            err_ = err\n",
    "            iterations1 = iterations_\n",
    "            eta1 = eta_\n",
    "            W_ = W\n",
    "print(f'W={W_}, err={err_}, iterations={iterations1}, eta={eta1}')"
   ]
  },
  {
   "cell_type": "code",
   "execution_count": 14,
   "metadata": {},
   "outputs": [
    {
     "data": {
      "image/png": "[encoded data removed]",
      "text/plain": [
       "<Figure size 432x288 with 1 Axes>"
      ]
     },
     "metadata": {
      "needs_background": "light"
     },
     "output_type": "display_data"
    }
   ],
   "source": [
    "# как менялась при этом функция потерь\n",
    "plt.title('Log loss')\n",
    "plt.xlabel('time')\n",
    "plt.ylabel('loss')\n",
    "plt.plot(err_list);"
   ]
  },
  {
   "cell_type": "markdown",
   "metadata": {},
   "source": [
    "Получается, что для минимизации log loss, аргументы функции eval_model для логистической регрессии должны быть: iterations=10000, eta=0.0001"
   ]
  },
  {
   "cell_type": "markdown",
   "metadata": {},
   "source": [
    "3. Создайте функцию calc_pred_proba, возвращающую предсказанную вероятность класса 1 (на вход подаются W, который уже посчитан функцией eval_model и X, на выходе - массив y_pred_proba).\n"
   ]
  },
  {
   "cell_type": "markdown",
   "metadata": {},
   "source": [
    "Вероятность отнесения объекта к классу \"+1\" $P(y=1|x)$, которую для краткости обозначим $p_{+}$, будет равняться\n",
    "\n",
    "$$p_{+} = \\sigma(\\left \\langle w,x_{i} \\right \\rangle) = \\frac{1}{1 + exp(-\\left \\langle w,x_{i} \\right \\rangle)},$$\n",
    "\n",
    "Чем больше будет скалярное произведение $\\left \\langle w,x_{i} \\right \\rangle$, тем выше будет предсказанная вероятность."
   ]
  },
  {
   "cell_type": "code",
   "execution_count": 11,
   "metadata": {},
   "outputs": [],
   "source": [
    "def calc_pred_proba(W, X):\n",
    "    y_pred_proba = sigmoid(np.dot(X, W))\n",
    "    return y_pred_proba"
   ]
  },
  {
   "cell_type": "code",
   "execution_count": 12,
   "metadata": {},
   "outputs": [
    {
     "data": {
      "text/plain": [
       "array([0.4039261 , 0.50081597, 0.69233413, 0.03891744, 0.80706045,\n",
       "       0.72169461, 0.81538552, 0.21404364, 0.38054588, 0.78609575])"
      ]
     },
     "execution_count": 12,
     "metadata": {},
     "output_type": "execute_result"
    }
   ],
   "source": [
    "calc_pred_proba(W, X_st)"
   ]
  },
  {
   "cell_type": "code",
   "execution_count": 13,
   "metadata": {},
   "outputs": [
    {
     "data": {
      "text/plain": [
       "array([1., 1., 1., 1., 1., 1., 1., 1., 1., 1.])"
      ]
     },
     "execution_count": 13,
     "metadata": {},
     "output_type": "execute_result"
    }
   ],
   "source": [
    "y_pred_proba = calc_pred_proba(W, X)\n",
    "y_pred_proba"
   ]
  },
  {
   "cell_type": "markdown",
   "metadata": {},
   "source": [
    "4. Создайте функцию calc_pred, возвращающую предсказанный класс (на вход подаются W, который уже посчитан функцией eval_model и X, на выходе - массив y_pred)."
   ]
  },
  {
   "cell_type": "code",
   "execution_count": 14,
   "metadata": {},
   "outputs": [],
   "source": [
    "def calc_pred(W, X):\n",
    "    y_pred_proba = calc_pred_proba(W, X)\n",
    "    y_pred = np.where(y_pred_proba > 0.5, 1, 0)\n",
    "    return y_pred"
   ]
  },
  {
   "cell_type": "code",
   "execution_count": 15,
   "metadata": {},
   "outputs": [
    {
     "data": {
      "text/plain": [
       "array([0, 1, 1, 0, 1, 1, 1, 0, 0, 1])"
      ]
     },
     "execution_count": 15,
     "metadata": {},
     "output_type": "execute_result"
    }
   ],
   "source": [
    "y_pred = calc_pred(W, X_st)\n",
    "y_pred"
   ]
  },
  {
   "cell_type": "markdown",
   "metadata": {},
   "source": [
    "5. *Реализуйте функции для подсчета Accuracy, матрицы ошибок, точности и полноты, а также F1 score."
   ]
  },
  {
   "cell_type": "code",
   "execution_count": 16,
   "metadata": {},
   "outputs": [
    {
     "data": {
      "text/plain": [
       "(array([0., 0., 1., 0., 1., 0., 1., 0., 1., 1.]),\n",
       " array([0, 1, 1, 0, 1, 1, 1, 0, 0, 1]))"
      ]
     },
     "execution_count": 16,
     "metadata": {},
     "output_type": "execute_result"
    }
   ],
   "source": [
    "y, y_pred"
   ]
  },
  {
   "cell_type": "code",
   "execution_count": 18,
   "metadata": {},
   "outputs": [],
   "source": [
    "# функция подсчёта ошибок\n",
    "def accuracy(y, y_pred):\n",
    "    count = 0\n",
    "    for pos, i in enumerate(y):\n",
    "        if y_pred[pos] == i:\n",
    "            count += 1\n",
    "    acc = count / len(y)\n",
    "    return acc"
   ]
  },
  {
   "cell_type": "code",
   "execution_count": 19,
   "metadata": {},
   "outputs": [
    {
     "data": {
      "text/plain": [
       "0.7"
      ]
     },
     "execution_count": 19,
     "metadata": {},
     "output_type": "execute_result"
    }
   ],
   "source": [
    "accuracy(y, y_pred)"
   ]
  },
  {
   "cell_type": "code",
   "execution_count": 23,
   "metadata": {},
   "outputs": [],
   "source": [
    "# функция построения матрицы ошибок\n",
    "def err_matrix(y, y_pred):\n",
    "    TP = 0\n",
    "    FP = 0\n",
    "    FN = 0\n",
    "    TN = 0\n",
    "    for pos, i in enumerate(y):\n",
    "        if y_pred[pos] == 1 and i == 1:\n",
    "            TP += 1\n",
    "        elif y_pred[pos] == 1 and i == 0:\n",
    "            FP += 1\n",
    "        elif y_pred[pos] == 0 and i == 1:\n",
    "            FN += 1\n",
    "        elif y_pred[pos] == 0 and i == 0:\n",
    "            TN += 1\n",
    "        else:\n",
    "            print('Error')\n",
    "    df = pd.DataFrame({' ':['𝑎(𝑥) = +1','𝑎(𝑥) = -1'], 'y = +1':[f'TP = {TP}', f'FN = {FN}'], 'y = -1':[f'FP = {FP}', f'TN = {TN}']})\n",
    "    #print(TP, FP, FN, TN)\n",
    "    return df.style.hide_index()"
   ]
  },
  {
   "cell_type": "code",
   "execution_count": 24,
   "metadata": {},
   "outputs": [
    {
     "data": {
      "text/html": [
       "<style  type=\"text/css\" >\n",
       "</style><table id=\"T_34eef788_259d_11eb_aeb2_40e23004fdc0\" ><thead>    <tr>        <th class=\"col_heading level0 col0\" > </th>        <th class=\"col_heading level0 col1\" >y = +1</th>        <th class=\"col_heading level0 col2\" >y = -1</th>    </tr></thead><tbody>\n",
       "                <tr>\n",
       "                                <td id=\"T_34eef788_259d_11eb_aeb2_40e23004fdc0row0_col0\" class=\"data row0 col0\" >𝑎(𝑥) = +1</td>\n",
       "                        <td id=\"T_34eef788_259d_11eb_aeb2_40e23004fdc0row0_col1\" class=\"data row0 col1\" >TP = 4</td>\n",
       "                        <td id=\"T_34eef788_259d_11eb_aeb2_40e23004fdc0row0_col2\" class=\"data row0 col2\" >FP = 2</td>\n",
       "            </tr>\n",
       "            <tr>\n",
       "                                <td id=\"T_34eef788_259d_11eb_aeb2_40e23004fdc0row1_col0\" class=\"data row1 col0\" >𝑎(𝑥) = -1</td>\n",
       "                        <td id=\"T_34eef788_259d_11eb_aeb2_40e23004fdc0row1_col1\" class=\"data row1 col1\" >FN = 1</td>\n",
       "                        <td id=\"T_34eef788_259d_11eb_aeb2_40e23004fdc0row1_col2\" class=\"data row1 col2\" >TN = 3</td>\n",
       "            </tr>\n",
       "    </tbody></table>"
      ],
      "text/plain": [
       "<pandas.io.formats.style.Styler at 0x1b3e6e2f048>"
      ]
     },
     "execution_count": 24,
     "metadata": {},
     "output_type": "execute_result"
    }
   ],
   "source": [
    "err_matrix(y, y_pred)"
   ]
  },
  {
   "cell_type": "code",
   "execution_count": 30,
   "metadata": {},
   "outputs": [],
   "source": [
    "# Функция точност (precision)\n",
    "def precision(y, y_pred):\n",
    "    TP = 0\n",
    "    FP = 0\n",
    "    FN = 0\n",
    "    TN = 0\n",
    "    for pos, i in enumerate(y):\n",
    "        if y_pred[pos] == 1 and i == 1:\n",
    "            TP += 1\n",
    "        elif y_pred[pos] == 1 and i == 0:\n",
    "            FP += 1\n",
    "        elif y_pred[pos] == 0 and i == 1:\n",
    "            FN += 1\n",
    "        elif y_pred[pos] == 0 and i == 0:\n",
    "            TN += 1\n",
    "        else:\n",
    "            print('Error')\n",
    "    return TP / (TP + FP)"
   ]
  },
  {
   "cell_type": "code",
   "execution_count": 31,
   "metadata": {},
   "outputs": [
    {
     "data": {
      "text/plain": [
       "0.6666666666666666"
      ]
     },
     "execution_count": 31,
     "metadata": {},
     "output_type": "execute_result"
    }
   ],
   "source": [
    "precision(y, y_pred)"
   ]
  },
  {
   "cell_type": "code",
   "execution_count": 32,
   "metadata": {},
   "outputs": [],
   "source": [
    "# Функция полноты (recall)\n",
    "def recall(y, y_pred):\n",
    "    TP = 0\n",
    "    FP = 0\n",
    "    FN = 0\n",
    "    TN = 0\n",
    "    for pos, i in enumerate(y):\n",
    "        if y_pred[pos] == 1 and i == 1:\n",
    "            TP += 1\n",
    "        elif y_pred[pos] == 1 and i == 0:\n",
    "            FP += 1\n",
    "        elif y_pred[pos] == 0 and i == 1:\n",
    "            FN += 1\n",
    "        elif y_pred[pos] == 0 and i == 0:\n",
    "            TN += 1\n",
    "        else:\n",
    "            print('Error')\n",
    "    return TP / (TP + FN)"
   ]
  },
  {
   "cell_type": "code",
   "execution_count": 33,
   "metadata": {},
   "outputs": [
    {
     "data": {
      "text/plain": [
       "0.8"
      ]
     },
     "execution_count": 33,
     "metadata": {},
     "output_type": "execute_result"
    }
   ],
   "source": [
    "recall(y, y_pred)"
   ]
  },
  {
   "cell_type": "markdown",
   "metadata": {
    "id": "Fm_bFr4RWjtI"
   },
   "source": [
    "Существует также усовершенствованная версия F-меры $F_{\\beta}$:\n",
    "\n",
    "$$F_{\\beta} = (1 + \\beta^{2}) \\frac{precision \\cdot recall}{\\beta^{2} \\cdot precision + recall}.$$\n",
    "\n",
    "Параметр $\\beta$ здесь определяет вес точности в метрике. При $\\beta = 1$ это среднее гармоническое, умноженное на 2 (чтобы в случае $precision = 1$ и $recall = 1$ $F_{1} = 1$). Его изменение требуется, когда необходимо отдать приоритет точности или полноте, как это было показано в примерах ранее. Чтобы важнее была полнота, $\\beta$ должно быть меньше 1, чтобы важнее была точность - больше."
   ]
  },
  {
   "cell_type": "code",
   "execution_count": 48,
   "metadata": {},
   "outputs": [],
   "source": [
    "# Функция F-меры\n",
    "def f_score(y, y_pred, beta):\n",
    "    TP = 0\n",
    "    FP = 0\n",
    "    FN = 0\n",
    "    TN = 0\n",
    "    for pos, i in enumerate(y):\n",
    "        if y_pred[pos] == 1 and i == 1:\n",
    "            TP += 1\n",
    "        elif y_pred[pos] == 1 and i == 0:\n",
    "            FP += 1\n",
    "        elif y_pred[pos] == 0 and i == 1:\n",
    "            FN += 1\n",
    "        elif y_pred[pos] == 0 and i == 0:\n",
    "            TN += 1\n",
    "        else:\n",
    "            print('Error')\n",
    "    return (1 + beta ** 2) * TP ** 2 / ((TP + FP) * (TP + FN)) / (beta ** 2 * TP/(TP + FN) + TP / (TP + FN))"
   ]
  },
  {
   "cell_type": "code",
   "execution_count": 49,
   "metadata": {},
   "outputs": [
    {
     "data": {
      "text/plain": [
       "0.6666666666666666"
      ]
     },
     "execution_count": 49,
     "metadata": {},
     "output_type": "execute_result"
    }
   ],
   "source": [
    "f_score(y, y_pred, 1)"
   ]
  },
  {
   "cell_type": "markdown",
   "metadata": {},
   "source": [
    "Проверка метрик"
   ]
  },
  {
   "cell_type": "code",
   "execution_count": 51,
   "metadata": {},
   "outputs": [],
   "source": [
    "from sklearn.metrics import accuracy_score, f1_score, precision_score, recall_score, confusion_matrix"
   ]
  },
  {
   "cell_type": "code",
   "execution_count": 52,
   "metadata": {},
   "outputs": [
    {
     "data": {
      "text/plain": [
       "(0.7, 0.6666666666666666, 0.8, 0.7272727272727272)"
      ]
     },
     "execution_count": 52,
     "metadata": {},
     "output_type": "execute_result"
    }
   ],
   "source": [
    "accuracy_score(y, y_pred), precision_score(y, y_pred), recall_score(y, y_pred), f1_score(y, y_pred)"
   ]
  },
  {
   "cell_type": "code",
   "execution_count": 53,
   "metadata": {},
   "outputs": [
    {
     "data": {
      "text/plain": [
       "array([[3, 2],\n",
       "       [1, 4]], dtype=int64)"
      ]
     },
     "execution_count": 53,
     "metadata": {},
     "output_type": "execute_result"
    }
   ],
   "source": [
    "confusion_matrix(y, y_pred)"
   ]
  },
  {
   "cell_type": "markdown",
   "metadata": {},
   "source": [
    "6. Могла ли модель переобучиться? Почему?"
   ]
  },
  {
   "cell_type": "markdown",
   "metadata": {},
   "source": [
    "Да, модель могла переобучиться при большом количестве итераций."
   ]
  }
 ],
 "metadata": {
  "kernelspec": {
   "display_name": "Python 3",
   "language": "python",
   "name": "python3"
  },
  "language_info": {
   "codemirror_mode": {
    "name": "ipython",
    "version": 3
   },
   "file_extension": ".py",
   "mimetype": "text/x-python",
   "name": "python",
   "nbconvert_exporter": "python",
   "pygments_lexer": "ipython3",
   "version": "3.7.7"
  },
  "toc": {
   "base_numbering": 1,
   "nav_menu": {},
   "number_sections": true,
   "sideBar": true,
   "skip_h1_title": false,
   "title_cell": "Table of Contents",
   "title_sidebar": "Contents",
   "toc_cell": false,
   "toc_position": {},
   "toc_section_display": true,
   "toc_window_display": false
  },
  "varInspector": {
   "cols": {
    "lenName": 16,
    "lenType": 16,
    "lenVar": 40
   },
   "kernels_config": {
    "python": {
     "delete_cmd_postfix": "",
     "delete_cmd_prefix": "del ",
     "library": "var_list.py",
     "varRefreshCmd": "print(var_dic_list())"
    },
    "r": {
     "delete_cmd_postfix": ") ",
     "delete_cmd_prefix": "rm(",
     "library": "var_list.r",
     "varRefreshCmd": "cat(var_dic_list()) "
    }
   },
   "types_to_exclude": [
    "module",
    "function",
    "builtin_function_or_method",
    "instance",
    "_Feature"
   ],
   "window_display": false
  }
 },
 "nbformat": 4,
 "nbformat_minor": 4
}
