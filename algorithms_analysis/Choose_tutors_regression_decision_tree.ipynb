{
 "cells": [
  {
   "cell_type": "markdown",
   "metadata": {},
   "source": [
    "https://www.kaggle.com/c/regression-tutors-expected-math-exam-results\n",
    "\n",
    "In this competition your task will be to predict the mean math exam result (from 0 to 100 points) for students of tutors in test.csv. You will be given two datasets: train.csv (contains all features and the target) and test.csv (only features).\n",
    "\n",
    "Ваша задача этом соревновании - предсказать средний балл на экзамене по математике, который получают ученики репетиторов из датасета test.csv. Вам будут даны два датасета: train.csv (содержит признаки и целевую переменную) и test.csv (только признаки)."
   ]
  },
  {
   "cell_type": "code",
   "execution_count": 1,
   "metadata": {},
   "outputs": [],
   "source": [
    "# You can only use these imports:\n",
    "import numpy as np\n",
    "import pandas as pd\n",
    "import sklearn\n",
    "from sklearn.model_selection import train_test_split\n",
    "import matplotlib.pyplot as plt\n",
    "import seaborn as sns\n",
    "from tqdm import tqdm"
   ]
  },
  {
   "cell_type": "code",
   "execution_count": 2,
   "metadata": {},
   "outputs": [
    {
     "data": {
      "text/html": [
       "<div>\n",
       "<style scoped>\n",
       "    .dataframe tbody tr th:only-of-type {\n",
       "        vertical-align: middle;\n",
       "    }\n",
       "\n",
       "    .dataframe tbody tr th {\n",
       "        vertical-align: top;\n",
       "    }\n",
       "\n",
       "    .dataframe thead th {\n",
       "        text-align: right;\n",
       "    }\n",
       "</style>\n",
       "<table border=\"1\" class=\"dataframe\">\n",
       "  <thead>\n",
       "    <tr style=\"text-align: right;\">\n",
       "      <th></th>\n",
       "      <th>Id</th>\n",
       "      <th>age</th>\n",
       "      <th>years_of_experience</th>\n",
       "      <th>lesson_price</th>\n",
       "      <th>qualification</th>\n",
       "      <th>physics</th>\n",
       "      <th>chemistry</th>\n",
       "      <th>biology</th>\n",
       "      <th>english</th>\n",
       "      <th>geography</th>\n",
       "      <th>history</th>\n",
       "      <th>mean_exam_points</th>\n",
       "    </tr>\n",
       "  </thead>\n",
       "  <tbody>\n",
       "    <tr>\n",
       "      <th>0</th>\n",
       "      <td>0</td>\n",
       "      <td>40.0</td>\n",
       "      <td>0.0</td>\n",
       "      <td>1400.0</td>\n",
       "      <td>1.0</td>\n",
       "      <td>1.0</td>\n",
       "      <td>0.0</td>\n",
       "      <td>0.0</td>\n",
       "      <td>0.0</td>\n",
       "      <td>1.0</td>\n",
       "      <td>0.0</td>\n",
       "      <td>61</td>\n",
       "    </tr>\n",
       "    <tr>\n",
       "      <th>1</th>\n",
       "      <td>1</td>\n",
       "      <td>48.0</td>\n",
       "      <td>4.0</td>\n",
       "      <td>2850.0</td>\n",
       "      <td>3.0</td>\n",
       "      <td>1.0</td>\n",
       "      <td>0.0</td>\n",
       "      <td>0.0</td>\n",
       "      <td>0.0</td>\n",
       "      <td>0.0</td>\n",
       "      <td>0.0</td>\n",
       "      <td>76</td>\n",
       "    </tr>\n",
       "    <tr>\n",
       "      <th>2</th>\n",
       "      <td>2</td>\n",
       "      <td>39.0</td>\n",
       "      <td>0.0</td>\n",
       "      <td>1200.0</td>\n",
       "      <td>1.0</td>\n",
       "      <td>0.0</td>\n",
       "      <td>0.0</td>\n",
       "      <td>0.0</td>\n",
       "      <td>0.0</td>\n",
       "      <td>0.0</td>\n",
       "      <td>0.0</td>\n",
       "      <td>53</td>\n",
       "    </tr>\n",
       "    <tr>\n",
       "      <th>3</th>\n",
       "      <td>3</td>\n",
       "      <td>46.0</td>\n",
       "      <td>5.0</td>\n",
       "      <td>1400.0</td>\n",
       "      <td>1.0</td>\n",
       "      <td>0.0</td>\n",
       "      <td>0.0</td>\n",
       "      <td>0.0</td>\n",
       "      <td>0.0</td>\n",
       "      <td>0.0</td>\n",
       "      <td>0.0</td>\n",
       "      <td>54</td>\n",
       "    </tr>\n",
       "    <tr>\n",
       "      <th>4</th>\n",
       "      <td>4</td>\n",
       "      <td>43.0</td>\n",
       "      <td>1.0</td>\n",
       "      <td>1500.0</td>\n",
       "      <td>1.0</td>\n",
       "      <td>0.0</td>\n",
       "      <td>0.0</td>\n",
       "      <td>0.0</td>\n",
       "      <td>0.0</td>\n",
       "      <td>0.0</td>\n",
       "      <td>0.0</td>\n",
       "      <td>57</td>\n",
       "    </tr>\n",
       "  </tbody>\n",
       "</table>\n",
       "</div>"
      ],
      "text/plain": [
       "   Id   age  years_of_experience  lesson_price  qualification  physics  \\\n",
       "0   0  40.0                  0.0        1400.0            1.0      1.0   \n",
       "1   1  48.0                  4.0        2850.0            3.0      1.0   \n",
       "2   2  39.0                  0.0        1200.0            1.0      0.0   \n",
       "3   3  46.0                  5.0        1400.0            1.0      0.0   \n",
       "4   4  43.0                  1.0        1500.0            1.0      0.0   \n",
       "\n",
       "   chemistry  biology  english  geography  history  mean_exam_points  \n",
       "0        0.0      0.0      0.0        1.0      0.0                61  \n",
       "1        0.0      0.0      0.0        0.0      0.0                76  \n",
       "2        0.0      0.0      0.0        0.0      0.0                53  \n",
       "3        0.0      0.0      0.0        0.0      0.0                54  \n",
       "4        0.0      0.0      0.0        0.0      0.0                57  "
      ]
     },
     "execution_count": 2,
     "metadata": {},
     "output_type": "execute_result"
    }
   ],
   "source": [
    "train = pd.read_csv('Choose_tutors_regression_data/train.csv')\n",
    "test = pd.read_csv('Choose_tutors_regression_data/test.csv')\n",
    "train.head()"
   ]
  },
  {
   "cell_type": "code",
   "execution_count": 3,
   "metadata": {
    "scrolled": true
   },
   "outputs": [
    {
     "name": "stdout",
     "output_type": "stream",
     "text": [
      "<class 'pandas.core.frame.DataFrame'>\n",
      "RangeIndex: 10000 entries, 0 to 9999\n",
      "Data columns (total 12 columns):\n",
      " #   Column               Non-Null Count  Dtype  \n",
      "---  ------               --------------  -----  \n",
      " 0   Id                   10000 non-null  int64  \n",
      " 1   age                  10000 non-null  float64\n",
      " 2   years_of_experience  10000 non-null  float64\n",
      " 3   lesson_price         10000 non-null  float64\n",
      " 4   qualification        10000 non-null  float64\n",
      " 5   physics              10000 non-null  float64\n",
      " 6   chemistry            10000 non-null  float64\n",
      " 7   biology              10000 non-null  float64\n",
      " 8   english              10000 non-null  float64\n",
      " 9   geography            10000 non-null  float64\n",
      " 10  history              10000 non-null  float64\n",
      " 11  mean_exam_points     10000 non-null  int64  \n",
      "dtypes: float64(10), int64(2)\n",
      "memory usage: 937.6 KB\n"
     ]
    }
   ],
   "source": [
    "train.info()"
   ]
  },
  {
   "cell_type": "code",
   "execution_count": 4,
   "metadata": {
    "scrolled": true
   },
   "outputs": [
    {
     "data": {
      "text/html": [
       "<div>\n",
       "<style scoped>\n",
       "    .dataframe tbody tr th:only-of-type {\n",
       "        vertical-align: middle;\n",
       "    }\n",
       "\n",
       "    .dataframe tbody tr th {\n",
       "        vertical-align: top;\n",
       "    }\n",
       "\n",
       "    .dataframe thead th {\n",
       "        text-align: right;\n",
       "    }\n",
       "</style>\n",
       "<table border=\"1\" class=\"dataframe\">\n",
       "  <thead>\n",
       "    <tr style=\"text-align: right;\">\n",
       "      <th></th>\n",
       "      <th>Id</th>\n",
       "      <th>age</th>\n",
       "      <th>years_of_experience</th>\n",
       "      <th>lesson_price</th>\n",
       "      <th>qualification</th>\n",
       "      <th>physics</th>\n",
       "      <th>chemistry</th>\n",
       "      <th>biology</th>\n",
       "      <th>english</th>\n",
       "      <th>geography</th>\n",
       "      <th>history</th>\n",
       "    </tr>\n",
       "  </thead>\n",
       "  <tbody>\n",
       "    <tr>\n",
       "      <th>0</th>\n",
       "      <td>10000</td>\n",
       "      <td>46.0</td>\n",
       "      <td>3.0</td>\n",
       "      <td>1050.0</td>\n",
       "      <td>1.0</td>\n",
       "      <td>0.0</td>\n",
       "      <td>1.0</td>\n",
       "      <td>0.0</td>\n",
       "      <td>0.0</td>\n",
       "      <td>0.0</td>\n",
       "      <td>0.0</td>\n",
       "    </tr>\n",
       "    <tr>\n",
       "      <th>1</th>\n",
       "      <td>10001</td>\n",
       "      <td>43.0</td>\n",
       "      <td>3.0</td>\n",
       "      <td>1850.0</td>\n",
       "      <td>2.0</td>\n",
       "      <td>0.0</td>\n",
       "      <td>0.0</td>\n",
       "      <td>0.0</td>\n",
       "      <td>0.0</td>\n",
       "      <td>0.0</td>\n",
       "      <td>0.0</td>\n",
       "    </tr>\n",
       "    <tr>\n",
       "      <th>2</th>\n",
       "      <td>10002</td>\n",
       "      <td>52.0</td>\n",
       "      <td>1.0</td>\n",
       "      <td>1550.0</td>\n",
       "      <td>1.0</td>\n",
       "      <td>1.0</td>\n",
       "      <td>0.0</td>\n",
       "      <td>0.0</td>\n",
       "      <td>0.0</td>\n",
       "      <td>0.0</td>\n",
       "      <td>0.0</td>\n",
       "    </tr>\n",
       "    <tr>\n",
       "      <th>3</th>\n",
       "      <td>10003</td>\n",
       "      <td>57.0</td>\n",
       "      <td>6.0</td>\n",
       "      <td>2900.0</td>\n",
       "      <td>3.0</td>\n",
       "      <td>1.0</td>\n",
       "      <td>0.0</td>\n",
       "      <td>1.0</td>\n",
       "      <td>0.0</td>\n",
       "      <td>0.0</td>\n",
       "      <td>0.0</td>\n",
       "    </tr>\n",
       "    <tr>\n",
       "      <th>4</th>\n",
       "      <td>10004</td>\n",
       "      <td>44.0</td>\n",
       "      <td>4.0</td>\n",
       "      <td>3150.0</td>\n",
       "      <td>3.0</td>\n",
       "      <td>1.0</td>\n",
       "      <td>0.0</td>\n",
       "      <td>0.0</td>\n",
       "      <td>0.0</td>\n",
       "      <td>0.0</td>\n",
       "      <td>0.0</td>\n",
       "    </tr>\n",
       "  </tbody>\n",
       "</table>\n",
       "</div>"
      ],
      "text/plain": [
       "      Id   age  years_of_experience  lesson_price  qualification  physics  \\\n",
       "0  10000  46.0                  3.0        1050.0            1.0      0.0   \n",
       "1  10001  43.0                  3.0        1850.0            2.0      0.0   \n",
       "2  10002  52.0                  1.0        1550.0            1.0      1.0   \n",
       "3  10003  57.0                  6.0        2900.0            3.0      1.0   \n",
       "4  10004  44.0                  4.0        3150.0            3.0      1.0   \n",
       "\n",
       "   chemistry  biology  english  geography  history  \n",
       "0        1.0      0.0      0.0        0.0      0.0  \n",
       "1        0.0      0.0      0.0        0.0      0.0  \n",
       "2        0.0      0.0      0.0        0.0      0.0  \n",
       "3        0.0      1.0      0.0        0.0      0.0  \n",
       "4        0.0      0.0      0.0        0.0      0.0  "
      ]
     },
     "execution_count": 4,
     "metadata": {},
     "output_type": "execute_result"
    }
   ],
   "source": [
    "test.head()"
   ]
  },
  {
   "cell_type": "code",
   "execution_count": 5,
   "metadata": {
    "scrolled": true
   },
   "outputs": [
    {
     "name": "stdout",
     "output_type": "stream",
     "text": [
      "<class 'pandas.core.frame.DataFrame'>\n",
      "RangeIndex: 10000 entries, 0 to 9999\n",
      "Data columns (total 11 columns):\n",
      " #   Column               Non-Null Count  Dtype  \n",
      "---  ------               --------------  -----  \n",
      " 0   Id                   10000 non-null  int64  \n",
      " 1   age                  10000 non-null  float64\n",
      " 2   years_of_experience  10000 non-null  float64\n",
      " 3   lesson_price         10000 non-null  float64\n",
      " 4   qualification        10000 non-null  float64\n",
      " 5   physics              10000 non-null  float64\n",
      " 6   chemistry            10000 non-null  float64\n",
      " 7   biology              10000 non-null  float64\n",
      " 8   english              10000 non-null  float64\n",
      " 9   geography            10000 non-null  float64\n",
      " 10  history              10000 non-null  float64\n",
      "dtypes: float64(10), int64(1)\n",
      "memory usage: 859.5 KB\n"
     ]
    }
   ],
   "source": [
    "test.info()"
   ]
  },
  {
   "cell_type": "markdown",
   "metadata": {
    "id": "cz_JhiIpbsh8"
   },
   "source": [
    "Разделим выборку на обучающую и тестовую в соотношении 75/25."
   ]
  },
  {
   "cell_type": "code",
   "execution_count": 7,
   "metadata": {
    "id": "ExZPR9FLbsh9"
   },
   "outputs": [],
   "source": [
    "X_train, X_test, y_train, y_test = sklearn.model_selection.train_test_split(train.drop(['Id', 'mean_exam_points'], axis=1),\n",
    "                                                                    train['mean_exam_points'], test_size=0.25)"
   ]
  },
  {
   "cell_type": "markdown",
   "metadata": {},
   "source": [
    "Преобразуем DataFrame в numpay arrays"
   ]
  },
  {
   "cell_type": "code",
   "execution_count": 8,
   "metadata": {},
   "outputs": [],
   "source": [
    "X_train_np = X_train.to_numpy()\n",
    "X_test_np = X_test.to_numpy()\n",
    "y_train_np = y_train.to_numpy()\n",
    "y_test_np = y_test.to_numpy()"
   ]
  },
  {
   "cell_type": "markdown",
   "metadata": {
    "id": "JvjWiryZbIW2"
   },
   "source": [
    "Реализуем генерацию $N$ бутстрап-выборок и подмножества признаков для нахождения разбиения в узле."
   ]
  },
  {
   "cell_type": "code",
   "execution_count": 9,
   "metadata": {
    "id": "d7if4ogqbIW3"
   },
   "outputs": [],
   "source": [
    "np.random.seed(42)\n",
    "\n",
    "def get_bootstrap(data, labels, N):\n",
    "    n_samples = data.shape[0] # размер совпадает с исходной выборкой\n",
    "    bootstrap = []\n",
    "    \n",
    "    for i in range(N):\n",
    "        \n",
    "        sample_index = np.random.randint(0, n_samples, size=n_samples)\n",
    "        b_data = data[sample_index]\n",
    "        b_labels = labels[sample_index]\n",
    "        \n",
    "        bootstrap.append((b_data, b_labels))\n",
    "        \n",
    "    return bootstrap"
   ]
  },
  {
   "cell_type": "code",
   "execution_count": 10,
   "metadata": {
    "id": "Duu45IJUabXi"
   },
   "outputs": [],
   "source": [
    "# Реализуем класс узла\n",
    "\n",
    "class Node:\n",
    "    \n",
    "    def __init__(self, index, t, true_branch, false_branch):\n",
    "        self.index = index  # индекс признака, по которому ведется сравнение с порогом в этом узле\n",
    "        self.t = t  # значение порога\n",
    "        self.true_branch = true_branch  # поддерево, удовлетворяющее условию в узле\n",
    "        self.false_branch = false_branch  # поддерево, не удовлетворяющее условию в узле"
   ]
  },
  {
   "cell_type": "code",
   "execution_count": 11,
   "metadata": {},
   "outputs": [],
   "source": [
    "# И класс терминального узла (листа)\n",
    "# т.е. это то место где мы останавливаем вычисления и делаем прогноз\n",
    "\n",
    "class Leaf:\n",
    "    \n",
    "    def __init__(self, data, y_true):\n",
    "        self.data = data              # это матрица признаков\n",
    "        self.y_true = y_true         # это истинные ответы\n",
    "        self.prediction = self.predict()\n",
    "        \n",
    "    def predict(self):\n",
    "        # подсчет количества объектов разных классов\n",
    "#         classes = {}  # сформируем словарь \"класс: количество объектов\" - склько раз каждый класс встретился в листе\n",
    "#         for label in self.labels:\n",
    "#             if label not in classes:\n",
    "#                 classes[label] = 0\n",
    "#             classes[label] += 1\n",
    "            \n",
    "        # найдем класс, количество объектов которого будет максимальным в этом листе и вернем его    \n",
    "        # prediction = max(classes, key=classes.get)\n",
    "        prediction = np.mean(self.y_true)\n",
    "        return prediction"
   ]
  },
  {
   "cell_type": "code",
   "execution_count": 12,
   "metadata": {},
   "outputs": [],
   "source": [
    "def mse(array):\n",
    "    mean = array.mean()\n",
    "    return np.mean((array - mean)**2)"
   ]
  },
  {
   "cell_type": "code",
   "execution_count": 13,
   "metadata": {},
   "outputs": [],
   "source": [
    "# Расчет прироста\n",
    "\n",
    "def gain(left_labels, right_labels, root_mse):\n",
    "\n",
    "    # доля выборки, ушедшая в левое поддерево\n",
    "    p = float(left_labels.shape[0]) / (left_labels.shape[0] + right_labels.shape[0])\n",
    "    # root_gini - gini на предыдущей итерации\n",
    "    # gini - gini для левой и правой подвыборок\n",
    "    return root_mse - p * mse(left_labels) - (1 - p) * mse(right_labels)"
   ]
  },
  {
   "cell_type": "code",
   "execution_count": 14,
   "metadata": {
    "id": "nhWkphi3abXt"
   },
   "outputs": [],
   "source": [
    "# Разбиение датасета в узле\n",
    "\n",
    "def split(data, labels, column_index, t):\n",
    "    \n",
    "    left = np.where(data[:, column_index] <= t)\n",
    "    right = np.where(data[:, column_index] > t)\n",
    "        \n",
    "    true_data = data[left]\n",
    "    false_data = data[right]\n",
    "    \n",
    "    true_labels = labels[left]\n",
    "    false_labels = labels[right]\n",
    "        \n",
    "    return true_data, false_data, true_labels, false_labels"
   ]
  },
  {
   "cell_type": "code",
   "execution_count": 15,
   "metadata": {},
   "outputs": [],
   "source": [
    "# Нахождение наилучшего разбиения\n",
    "# функция перебирает все признаки и все пороги и ищет наиболее оптимальное разбиение\n",
    "# data - матрица признаков, labels - лейблы\n",
    "def find_best_split(data, labels, min_samples_leaf):\n",
    "    \n",
    "    #  обозначим минимальное количество объектов в узле\n",
    "    #min_samples_leaf = 5\n",
    "\n",
    "    root_mse = mse(labels)\n",
    "\n",
    "    best_gain = 0\n",
    "    best_t = None\n",
    "    best_index = None\n",
    "    \n",
    "    n_features = data.shape[1]\n",
    "    \n",
    "    # цикл перебора по признакам\n",
    "    for index in range(n_features):\n",
    "        # будем проверять только уникальные значения признака, исключая повторения\n",
    "        t_values = np.unique(data[:, index])\n",
    "        \n",
    "        # перебор по всем уникальным значениям признака\n",
    "        for t in t_values:\n",
    "            true_data, false_data, true_labels, false_labels = split(data, labels, index, t)\n",
    "            #  пропускаем разбиения, в которых в узле остается менее 5 объектов\n",
    "            if len(true_data) < min_samples_leaf or len(false_data) < min_samples_leaf:\n",
    "                continue\n",
    "            \n",
    "            current_gain = gain(true_labels, false_labels, root_mse)\n",
    "            \n",
    "            #  выбираем порог, на котором получается максимальный прирост качества\n",
    "            if current_gain > best_gain:\n",
    "                best_gain, best_t, best_index = current_gain, t, index\n",
    "\n",
    "    return best_gain, best_t, best_index"
   ]
  },
  {
   "cell_type": "code",
   "execution_count": 16,
   "metadata": {
    "id": "f1__qSXSabXy"
   },
   "outputs": [],
   "source": [
    "# Построение дерева с помощью рекурсивной функции\n",
    "\n",
    "def build_tree(X, y, min_samples_leaf):\n",
    "\n",
    "    gain, t, index = find_best_split(X, y, min_samples_leaf)\n",
    "\n",
    "    #  Базовый случай - прекращаем рекурсию, когда нет прироста в качества\n",
    "    if gain == 0:\n",
    "        return Leaf(X, y)\n",
    "\n",
    "    true_X, false_X, true_y, false_y = split(X, y, index, t)\n",
    "\n",
    "    # Рекурсивно строим два поддерева\n",
    "    true_branch = build_tree(true_X, true_y, min_samples_leaf)\n",
    "    false_branch = build_tree(false_X, false_y, min_samples_leaf)\n",
    "\n",
    "    # Возвращаем класс узла со всеми поддеревьями, то есть целого дерева\n",
    "    return Node(index, t, true_branch, false_branch)"
   ]
  },
  {
   "cell_type": "markdown",
   "metadata": {
    "id": "T_YX8fnmbIXU"
   },
   "source": [
    "Теперь добавим функцию формирования случайного леса."
   ]
  },
  {
   "cell_type": "code",
   "execution_count": 17,
   "metadata": {
    "id": "PZMieMMrbIXV"
   },
   "outputs": [],
   "source": [
    "def random_forest(X, y, n_trees, min_samples_leaf):\n",
    "    forest = []\n",
    "    bootstrap = get_bootstrap(X, y, n_trees)\n",
    "    \n",
    "    for b_X, b_y in bootstrap:\n",
    "        forest.append(build_tree(b_X, b_y, min_samples_leaf))\n",
    "        \n",
    "    return forest"
   ]
  },
  {
   "cell_type": "code",
   "execution_count": 18,
   "metadata": {
    "id": "tWNbZTz4bIXX"
   },
   "outputs": [],
   "source": [
    "# Функция классификации отдельного объекта\n",
    "\n",
    "def classify_object(obj, node):\n",
    "\n",
    "    #  Останавливаем рекурсию, если достигли листа\n",
    "    if isinstance(node, Leaf):\n",
    "        answer = node.prediction\n",
    "        return answer\n",
    "\n",
    "    if obj[node.index] <= node.t:\n",
    "        return classify_object(obj, node.true_branch)\n",
    "    else:\n",
    "        return classify_object(obj, node.false_branch)"
   ]
  },
  {
   "cell_type": "code",
   "execution_count": 19,
   "metadata": {
    "id": "rWOM8g_YbIXZ"
   },
   "outputs": [],
   "source": [
    "# функция формирования предсказания по выборке на одном дереве\n",
    "\n",
    "def predict(X, tree):\n",
    "    \n",
    "    classes = []\n",
    "    for obj in X:\n",
    "        prediction = classify_object(obj, tree)\n",
    "        classes.append(prediction)\n",
    "    return classes"
   ]
  },
  {
   "cell_type": "code",
   "execution_count": 20,
   "metadata": {
    "id": "ZtIgR7R-bIXc"
   },
   "outputs": [],
   "source": [
    "# предсказание голосованием деревьев\n",
    "\n",
    "def tree_vote(forest, data):\n",
    "\n",
    "    # добавим предсказания всех деревьев в список\n",
    "    predictions = []\n",
    "    for tree in forest:\n",
    "        predictions.append(predict(data, tree))\n",
    "#     print(predictions)\n",
    "\n",
    "    # сформируем список с предсказаниями для каждого объекта\n",
    "    predictions_per_object = list(zip(*predictions))\n",
    "#     print(predictions_per_object)\n",
    "\n",
    "    # выберем в качестве итогового предсказания для каждого объекта то,\n",
    "    # за которое проголосовало большинство деревьев\n",
    "    voted_predictions = []\n",
    "    for obj in predictions_per_object:\n",
    "        voted_predictions.append(max(set(obj), key=obj.count))\n",
    "        \n",
    "    return voted_predictions"
   ]
  },
  {
   "cell_type": "code",
   "execution_count": 21,
   "metadata": {},
   "outputs": [],
   "source": [
    "# реализуем функцию, определяющую среднеквадратичную ошибку\n",
    "def mserror(y, y_pred):\n",
    "    return (sum((y - y_pred)**2)) / len(y)"
   ]
  },
  {
   "cell_type": "code",
   "execution_count": 22,
   "metadata": {},
   "outputs": [],
   "source": [
    "# r2\n",
    "def r2(y, y_pred):\n",
    "    return 1 - np.sum((y - y_pred)**2) / np.sum( (y - np.sum(y) / len(y)  )**2)"
   ]
  },
  {
   "cell_type": "markdown",
   "metadata": {},
   "source": [
    "---\n",
    "\n",
    "Подберём наилучшие параметры леса"
   ]
  },
  {
   "cell_type": "code",
   "execution_count": 41,
   "metadata": {},
   "outputs": [
    {
     "name": "stderr",
     "output_type": "stream",
     "text": [
      "100%|███████████████████████████████████████████████████████████████████████████████| 19/19 [1:49:51<00:00, 346.93s/it]"
     ]
    },
    {
     "name": "stdout",
     "output_type": "stream",
     "text": [
      "Параметры количества деревьев: [2, 2, 2, 2, 3, 3, 3, 3, 4, 4, 4, 4, 5, 5, 5, 5, 6, 6, 6, 6, 7, 7, 7, 7, 8, 8, 8, 8, 9, 9, 9, 9, 10, 10, 10, 10, 11, 11, 11, 11, 12, 12, 12, 12, 13, 13, 13, 13, 14, 14, 14, 14, 15, 15, 15, 15, 16, 16, 16, 16, 17, 17, 17, 17, 18, 18, 18, 18, 19, 19, 19, 19, 20, 20, 20, 20]\n",
      "Точность алгоритма на трейне: [0.736, 0.721, 0.704, 0.7, 0.759, 0.722, 0.704, 0.694, 0.772, 0.719, 0.716, 0.695, 0.725, 0.661, 0.641, 0.636, 0.733, 0.659, 0.637, 0.623, 0.779, 0.655, 0.625, 0.626, 0.805, 0.674, 0.647, 0.632, 0.835, 0.678, 0.638, 0.613, 0.854, 0.695, 0.646, 0.618, 0.874, 0.702, 0.642, 0.611, 0.892, 0.714, 0.655, 0.628, 0.902, 0.747, 0.659, 0.628, 0.921, 0.755, 0.658, 0.643, 0.936, 0.776, 0.68, 0.645, 0.929, 0.796, 0.697, 0.642, 0.948, 0.801, 0.701, 0.656, 0.946, 0.823, 0.72, 0.66, 0.949, 0.775, 0.624, 0.555, 0.946, 0.811, 0.644, 0.587]\n",
      "Точность алгоритма на тесте: [0.365, 0.374, 0.411, 0.481, 0.361, 0.39, 0.429, 0.438, 0.313, 0.372, 0.409, 0.474, 0.222, 0.281, 0.297, 0.333, 0.25, 0.25, 0.298, 0.353, 0.251, 0.286, 0.298, 0.344, 0.268, 0.295, 0.31, 0.332, 0.27, 0.297, 0.307, 0.363, 0.275, 0.256, 0.313, 0.323, 0.27, 0.316, 0.324, 0.342, 0.291, 0.294, 0.342, 0.336, 0.313, 0.329, 0.357, 0.362, 0.297, 0.343, 0.353, 0.362, 0.309, 0.349, 0.35, 0.373, 0.296, 0.338, 0.353, 0.347, 0.335, 0.32, 0.383, 0.38, 0.285, 0.349, 0.399, 0.38, 0.24, 0.289, 0.247, 0.269, 0.286, 0.292, 0.271, 0.322]\n",
      "Done!\n"
     ]
    },
    {
     "name": "stderr",
     "output_type": "stream",
     "text": [
      "\n"
     ]
    }
   ],
   "source": [
    "n_trees_list = []\n",
    "min_samples_leaf_list = []\n",
    "train_score = []\n",
    "test_score = []\n",
    "\n",
    "for n_trees in tqdm(range(2, 21)):\n",
    "    \n",
    "    for min_samples_leaf in range(2, 6):\n",
    "        \n",
    "        my_forest_1 = random_forest(X_train_np, y_train_np, n_trees, min_samples_leaf)\n",
    "        y_train = tree_vote(my_forest_1, X_train_np)\n",
    "        y_test = tree_vote(my_forest_1, X_test_np)\n",
    "        \n",
    "        n_trees_list.append(n_trees)\n",
    "        min_samples_leaf_list.append(min_samples_leaf)\n",
    "        \n",
    "        train_score.append(round(r2(y_train_np, y_train), 3))\n",
    "        test_score.append(round(r2(y_test_np, y_test), 3))\n",
    "        \n",
    "print(f'Параметры количества деревьев: {n_trees_list}')\n",
    "print(f'Точность алгоритма на трейне: {train_score}')\n",
    "print(f'Точность алгоритма на тесте: {test_score}')\n",
    "print(f'Done!')"
   ]
  },
  {
   "cell_type": "code",
   "execution_count": 44,
   "metadata": {
    "scrolled": true
   },
   "outputs": [
    {
     "data": {
      "text/plain": [
       "[2,\n",
       " 3,\n",
       " 4,\n",
       " 5,\n",
       " 2,\n",
       " 3,\n",
       " 4,\n",
       " 5,\n",
       " 2,\n",
       " 3,\n",
       " 4,\n",
       " 5,\n",
       " 2,\n",
       " 3,\n",
       " 4,\n",
       " 5,\n",
       " 2,\n",
       " 3,\n",
       " 4,\n",
       " 5,\n",
       " 2,\n",
       " 3,\n",
       " 4,\n",
       " 5,\n",
       " 2,\n",
       " 3,\n",
       " 4,\n",
       " 5,\n",
       " 2,\n",
       " 3,\n",
       " 4,\n",
       " 5,\n",
       " 2,\n",
       " 3,\n",
       " 4,\n",
       " 5,\n",
       " 2,\n",
       " 3,\n",
       " 4,\n",
       " 5,\n",
       " 2,\n",
       " 3,\n",
       " 4,\n",
       " 5,\n",
       " 2,\n",
       " 3,\n",
       " 4,\n",
       " 5,\n",
       " 2,\n",
       " 3,\n",
       " 4,\n",
       " 5,\n",
       " 2,\n",
       " 3,\n",
       " 4,\n",
       " 5,\n",
       " 2,\n",
       " 3,\n",
       " 4,\n",
       " 5,\n",
       " 2,\n",
       " 3,\n",
       " 4,\n",
       " 5,\n",
       " 2,\n",
       " 3,\n",
       " 4,\n",
       " 5,\n",
       " 2,\n",
       " 3,\n",
       " 4,\n",
       " 5,\n",
       " 2,\n",
       " 3,\n",
       " 4,\n",
       " 5]"
      ]
     },
     "execution_count": 44,
     "metadata": {},
     "output_type": "execute_result"
    }
   ],
   "source": [
    "min_samples_leaf_list"
   ]
  },
  {
   "cell_type": "code",
   "execution_count": 27,
   "metadata": {},
   "outputs": [
    {
     "name": "stderr",
     "output_type": "stream",
     "text": [
      "100%|████████████████████████████████████████████████████████████████████████████████████| 8/8 [01:06<00:00,  8.34s/it]"
     ]
    },
    {
     "name": "stdout",
     "output_type": "stream",
     "text": [
      "Параметры количества деревьев: [2, 3, 4, 5, 6, 7, 8, 9]\n",
      "Точность алгоритма на трейне: [0.673, 0.683, 0.685, 0.637, 0.626, 0.615, 0.627, 0.624]\n",
      "Точность алгоритма на тесте: [0.517, 0.537, 0.535, 0.46, 0.464, 0.453, 0.45, 0.445]\n",
      "Done!\n"
     ]
    },
    {
     "name": "stderr",
     "output_type": "stream",
     "text": [
      "\n"
     ]
    }
   ],
   "source": [
    "min_samples_leaf = 5\n",
    "\n",
    "n_trees_list = []\n",
    "min_samples_leaf_list = []\n",
    "train_score = []\n",
    "test_score = []\n",
    "\n",
    "for n_trees in tqdm(range(2, 10)):\n",
    "    my_forest_1 = random_forest(X_train_np, y_train_np, n_trees, min_samples_leaf)\n",
    "    y_train = tree_vote(my_forest_1, X_train_np)\n",
    "    y_test = tree_vote(my_forest_1, X_test_np)\n",
    "\n",
    "    n_trees_list.append(n_trees)\n",
    "    min_samples_leaf_list.append(min_samples_leaf)\n",
    "\n",
    "    train_score.append(round(r2(y_train_np, y_train), 3))\n",
    "    test_score.append(round(r2(y_test_np, y_test), 3))\n",
    "        \n",
    "print(f'Параметры количества деревьев: {n_trees_list}')\n",
    "print(f'Точность алгоритма на трейне: {train_score}')\n",
    "print(f'Точность алгоритма на тесте: {test_score}')\n",
    "print(f'Done!')"
   ]
  },
  {
   "cell_type": "code",
   "execution_count": 41,
   "metadata": {},
   "outputs": [
    {
     "name": "stderr",
     "output_type": "stream",
     "text": [
      "100%|███████████████████████████████████████████████████████████████████████████████| 19/19 [1:49:51<00:00, 346.93s/it]"
     ]
    },
    {
     "name": "stdout",
     "output_type": "stream",
     "text": [
      "Параметры количества деревьев: [2, 2, 2, 2, 3, 3, 3, 3, 4, 4, 4, 4, 5, 5, 5, 5, 6, 6, 6, 6, 7, 7, 7, 7, 8, 8, 8, 8, 9, 9, 9, 9, 10, 10, 10, 10, 11, 11, 11, 11, 12, 12, 12, 12, 13, 13, 13, 13, 14, 14, 14, 14, 15, 15, 15, 15, 16, 16, 16, 16, 17, 17, 17, 17, 18, 18, 18, 18, 19, 19, 19, 19, 20, 20, 20, 20]\n",
      "Точность алгоритма на трейне: [0.736, 0.721, 0.704, 0.7, 0.759, 0.722, 0.704, 0.694, 0.772, 0.719, 0.716, 0.695, 0.725, 0.661, 0.641, 0.636, 0.733, 0.659, 0.637, 0.623, 0.779, 0.655, 0.625, 0.626, 0.805, 0.674, 0.647, 0.632, 0.835, 0.678, 0.638, 0.613, 0.854, 0.695, 0.646, 0.618, 0.874, 0.702, 0.642, 0.611, 0.892, 0.714, 0.655, 0.628, 0.902, 0.747, 0.659, 0.628, 0.921, 0.755, 0.658, 0.643, 0.936, 0.776, 0.68, 0.645, 0.929, 0.796, 0.697, 0.642, 0.948, 0.801, 0.701, 0.656, 0.946, 0.823, 0.72, 0.66, 0.949, 0.775, 0.624, 0.555, 0.946, 0.811, 0.644, 0.587]\n",
      "Точность алгоритма на тесте: [0.365, 0.374, 0.411, 0.481, 0.361, 0.39, 0.429, 0.438, 0.313, 0.372, 0.409, 0.474, 0.222, 0.281, 0.297, 0.333, 0.25, 0.25, 0.298, 0.353, 0.251, 0.286, 0.298, 0.344, 0.268, 0.295, 0.31, 0.332, 0.27, 0.297, 0.307, 0.363, 0.275, 0.256, 0.313, 0.323, 0.27, 0.316, 0.324, 0.342, 0.291, 0.294, 0.342, 0.336, 0.313, 0.329, 0.357, 0.362, 0.297, 0.343, 0.353, 0.362, 0.309, 0.349, 0.35, 0.373, 0.296, 0.338, 0.353, 0.347, 0.335, 0.32, 0.383, 0.38, 0.285, 0.349, 0.399, 0.38, 0.24, 0.289, 0.247, 0.269, 0.286, 0.292, 0.271, 0.322]\n",
      "Done!\n"
     ]
    },
    {
     "name": "stderr",
     "output_type": "stream",
     "text": [
      "\n"
     ]
    }
   ],
   "source": [
    "n_trees_list = []\n",
    "min_samples_leaf_list = []\n",
    "train_score = []\n",
    "test_score = []\n",
    "\n",
    "for n_trees in tqdm(range(2, 21)):\n",
    "    \n",
    "    for min_samples_leaf in range(2, 6):\n",
    "        \n",
    "        my_forest_1 = random_forest(X_train_np, y_train_np, n_trees, min_samples_leaf)\n",
    "        y_train = tree_vote(my_forest_1, X_train_np)\n",
    "        y_test = tree_vote(my_forest_1, X_test_np)\n",
    "        \n",
    "        n_trees_list.append(n_trees)\n",
    "        min_samples_leaf_list.append(min_samples_leaf)\n",
    "        \n",
    "        train_score.append(round(r2(y_train_np, y_train), 3))\n",
    "        test_score.append(round(r2(y_test_np, y_test), 3))\n",
    "        \n",
    "print(f'Параметры количества деревьев: {n_trees_list}')\n",
    "print(f'Точность алгоритма на трейне: {train_score}')\n",
    "print(f'Точность алгоритма на тесте: {test_score}')\n",
    "print(f'Done!')"
   ]
  },
  {
   "cell_type": "code",
   "execution_count": 126,
   "metadata": {},
   "outputs": [
    {
     "name": "stderr",
     "output_type": "stream",
     "text": [
      "100%|███████████████████████████████████████████████████████████████████████████████| 48/48 [7:25:47<00:00, 557.25s/it]"
     ]
    },
    {
     "name": "stdout",
     "output_type": "stream",
     "text": [
      "Параметры количества деревьев: [2, 2, 2, 2, 2, 2, 2, 2, 2, 2, 2, 2, 2, 2, 2, 2, 2, 2, 3, 3, 3, 3, 3, 3, 3, 3, 3, 3, 3, 3, 3, 3, 3, 3, 3, 3, 4, 4, 4, 4, 4, 4, 4, 4, 4, 4, 4, 4, 4, 4, 4, 4, 4, 4, 5, 5, 5, 5, 5, 5, 5, 5, 5, 5, 5, 5, 5, 5, 5, 5, 5, 5, 6, 6, 6, 6, 6, 6, 6, 6, 6, 6, 6, 6, 6, 6, 6, 6, 6, 6, 7, 7, 7, 7, 7, 7, 7, 7, 7, 7, 7, 7, 7, 7, 7, 7, 7, 7, 8, 8, 8, 8, 8, 8, 8, 8, 8, 8, 8, 8, 8, 8, 8, 8, 8, 8, 9, 9, 9, 9, 9, 9, 9, 9, 9, 9, 9, 9, 9, 9, 9, 9, 9, 9, 10, 10, 10, 10, 10, 10, 10, 10, 10, 10, 10, 10, 10, 10, 10, 10, 10, 10, 11, 11, 11, 11, 11, 11, 11, 11, 11, 11, 11, 11, 11, 11, 11, 11, 11, 11, 12, 12, 12, 12, 12, 12, 12, 12, 12, 12, 12, 12, 12, 12, 12, 12, 12, 12, 13, 13, 13, 13, 13, 13, 13, 13, 13, 13, 13, 13, 13, 13, 13, 13, 13, 13, 14, 14, 14, 14, 14, 14, 14, 14, 14, 14, 14, 14, 14, 14, 14, 14, 14, 14, 15, 15, 15, 15, 15, 15, 15, 15, 15, 15, 15, 15, 15, 15, 15, 15, 15, 15, 16, 16, 16, 16, 16, 16, 16, 16, 16, 16, 16, 16, 16, 16, 16, 16, 16, 16, 17, 17, 17, 17, 17, 17, 17, 17, 17, 17, 17, 17, 17, 17, 17, 17, 17, 17, 18, 18, 18, 18, 18, 18, 18, 18, 18, 18, 18, 18, 18, 18, 18, 18, 18, 18, 19, 19, 19, 19, 19, 19, 19, 19, 19, 19, 19, 19, 19, 19, 19, 19, 19, 19, 20, 20, 20, 20, 20, 20, 20, 20, 20, 20, 20, 20, 20, 20, 20, 20, 20, 20, 21, 21, 21, 21, 21, 21, 21, 21, 21, 21, 21, 21, 21, 21, 21, 21, 21, 21, 22, 22, 22, 22, 22, 22, 22, 22, 22, 22, 22, 22, 22, 22, 22, 22, 22, 22, 23, 23, 23, 23, 23, 23, 23, 23, 23, 23, 23, 23, 23, 23, 23, 23, 23, 23, 24, 24, 24, 24, 24, 24, 24, 24, 24, 24, 24, 24, 24, 24, 24, 24, 24, 24, 25, 25, 25, 25, 25, 25, 25, 25, 25, 25, 25, 25, 25, 25, 25, 25, 25, 25, 26, 26, 26, 26, 26, 26, 26, 26, 26, 26, 26, 26, 26, 26, 26, 26, 26, 26, 27, 27, 27, 27, 27, 27, 27, 27, 27, 27, 27, 27, 27, 27, 27, 27, 27, 27, 28, 28, 28, 28, 28, 28, 28, 28, 28, 28, 28, 28, 28, 28, 28, 28, 28, 28, 29, 29, 29, 29, 29, 29, 29, 29, 29, 29, 29, 29, 29, 29, 29, 29, 29, 29, 30, 30, 30, 30, 30, 30, 30, 30, 30, 30, 30, 30, 30, 30, 30, 30, 30, 30, 31, 31, 31, 31, 31, 31, 31, 31, 31, 31, 31, 31, 31, 31, 31, 31, 31, 31, 32, 32, 32, 32, 32, 32, 32, 32, 32, 32, 32, 32, 32, 32, 32, 32, 32, 32, 33, 33, 33, 33, 33, 33, 33, 33, 33, 33, 33, 33, 33, 33, 33, 33, 33, 33, 34, 34, 34, 34, 34, 34, 34, 34, 34, 34, 34, 34, 34, 34, 34, 34, 34, 34, 35, 35, 35, 35, 35, 35, 35, 35, 35, 35, 35, 35, 35, 35, 35, 35, 35, 35, 36, 36, 36, 36, 36, 36, 36, 36, 36, 36, 36, 36, 36, 36, 36, 36, 36, 36, 37, 37, 37, 37, 37, 37, 37, 37, 37, 37, 37, 37, 37, 37, 37, 37, 37, 37, 38, 38, 38, 38, 38, 38, 38, 38, 38, 38, 38, 38, 38, 38, 38, 38, 38, 38, 39, 39, 39, 39, 39, 39, 39, 39, 39, 39, 39, 39, 39, 39, 39, 39, 39, 39, 40, 40, 40, 40, 40, 40, 40, 40, 40, 40, 40, 40, 40, 40, 40, 40, 40, 40, 41, 41, 41, 41, 41, 41, 41, 41, 41, 41, 41, 41, 41, 41, 41, 41, 41, 41, 42, 42, 42, 42, 42, 42, 42, 42, 42, 42, 42, 42, 42, 42, 42, 42, 42, 42, 43, 43, 43, 43, 43, 43, 43, 43, 43, 43, 43, 43, 43, 43, 43, 43, 43, 43, 44, 44, 44, 44, 44, 44, 44, 44, 44, 44, 44, 44, 44, 44, 44, 44, 44, 44, 45, 45, 45, 45, 45, 45, 45, 45, 45, 45, 45, 45, 45, 45, 45, 45, 45, 45, 46, 46, 46, 46, 46, 46, 46, 46, 46, 46, 46, 46, 46, 46, 46, 46, 46, 46, 47, 47, 47, 47, 47, 47, 47, 47, 47, 47, 47, 47, 47, 47, 47, 47, 47, 47, 48, 48, 48, 48, 48, 48, 48, 48, 48, 48, 48, 48, 48, 48, 48, 48, 48, 48, 49, 49, 49, 49, 49, 49, 49, 49, 49, 49, 49, 49, 49, 49, 49, 49, 49, 49]\n",
      "Точность алгоритма на трейне: [0.713, 0.705, 0.691, 0.683, 0.676, 0.673, 0.666, 0.667, 0.666, 0.662, 0.659, 0.66, 0.659, 0.657, 0.652, 0.661, 0.657, 0.656, 0.713, 0.697, 0.681, 0.678, 0.681, 0.667, 0.664, 0.663, 0.66, 0.662, 0.66, 0.658, 0.662, 0.655, 0.659, 0.662, 0.657, 0.661, 0.733, 0.704, 0.694, 0.672, 0.674, 0.675, 0.666, 0.667, 0.672, 0.66, 0.659, 0.656, 0.66, 0.66, 0.657, 0.653, 0.651, 0.657, 0.694, 0.656, 0.65, 0.64, 0.639, 0.626, 0.624, 0.643, 0.634, 0.623, 0.629, 0.629, 0.645, 0.632, 0.641, 0.634, 0.63, 0.637, 0.707, 0.644, 0.633, 0.63, 0.629, 0.628, 0.633, 0.619, 0.63, 0.63, 0.634, 0.625, 0.629, 0.629, 0.633, 0.636, 0.631, 0.635, 0.74, 0.646, 0.631, 0.619, 0.622, 0.628, 0.623, 0.627, 0.629, 0.623, 0.628, 0.616, 0.632, 0.63, 0.629, 0.62, 0.63, 0.628, 0.768, 0.655, 0.633, 0.615, 0.613, 0.624, 0.621, 0.625, 0.624, 0.621, 0.625, 0.623, 0.623, 0.63, 0.623, 0.628, 0.63, 0.623, 0.784, 0.665, 0.628, 0.629, 0.613, 0.609, 0.616, 0.623, 0.613, 0.62, 0.622, 0.635, 0.624, 0.626, 0.626, 0.624, 0.625, 0.625, 0.796, 0.675, 0.628, 0.624, 0.625, 0.624, 0.626, 0.617, 0.612, 0.625, 0.617, 0.618, 0.615, 0.617, 0.623, 0.625, 0.623, 0.627, 0.807, 0.67, 0.64, 0.631, 0.619, 0.618, 0.621, 0.623, 0.619, 0.627, 0.63, 0.628, 0.623, 0.617, 0.622, 0.623, 0.629, 0.63, 0.831, 0.696, 0.63, 0.631, 0.629, 0.616, 0.618, 0.621, 0.623, 0.622, 0.61, 0.622, 0.617, 0.623, 0.627, 0.619, 0.629, 0.623, 0.835, 0.703, 0.642, 0.638, 0.625, 0.632, 0.62, 0.627, 0.619, 0.619, 0.626, 0.619, 0.626, 0.618, 0.63, 0.626, 0.62, 0.619, 0.843, 0.707, 0.646, 0.634, 0.625, 0.627, 0.619, 0.625, 0.621, 0.627, 0.632, 0.628, 0.624, 0.632, 0.626, 0.633, 0.63, 0.63, 0.852, 0.731, 0.659, 0.64, 0.635, 0.629, 0.632, 0.622, 0.638, 0.626, 0.63, 0.627, 0.628, 0.632, 0.629, 0.632, 0.637, 0.631, 0.857, 0.743, 0.669, 0.645, 0.641, 0.627, 0.628, 0.637, 0.629, 0.631, 0.624, 0.633, 0.632, 0.631, 0.631, 0.631, 0.636, 0.638, 0.869, 0.749, 0.687, 0.65, 0.645, 0.643, 0.638, 0.642, 0.631, 0.633, 0.638, 0.633, 0.639, 0.639, 0.64, 0.639, 0.64, 0.641, 0.866, 0.762, 0.679, 0.669, 0.645, 0.64, 0.654, 0.637, 0.638, 0.641, 0.642, 0.644, 0.639, 0.642, 0.638, 0.64, 0.644, 0.639, 0.871, 0.727, 0.621, 0.597, 0.59, 0.578, 0.597, 0.596, 0.603, 0.611, 0.618, 0.622, 0.624, 0.623, 0.626, 0.63, 0.626, 0.63, 0.876, 0.75, 0.652, 0.608, 0.605, 0.611, 0.61, 0.623, 0.622, 0.62, 0.618, 0.636, 0.636, 0.637, 0.646, 0.642, 0.649, 0.643, 0.882, 0.763, 0.675, 0.627, 0.62, 0.613, 0.637, 0.63, 0.64, 0.633, 0.638, 0.64, 0.642, 0.637, 0.645, 0.644, 0.643, 0.646, 0.883, 0.771, 0.693, 0.643, 0.647, 0.639, 0.64, 0.64, 0.639, 0.647, 0.656, 0.652, 0.649, 0.646, 0.641, 0.643, 0.651, 0.645, 0.891, 0.773, 0.704, 0.664, 0.653, 0.653, 0.65, 0.653, 0.651, 0.658, 0.649, 0.65, 0.652, 0.648, 0.655, 0.652, 0.648, 0.65, 0.897, 0.777, 0.716, 0.68, 0.663, 0.666, 0.657, 0.667, 0.657, 0.653, 0.654, 0.658, 0.654, 0.649, 0.65, 0.649, 0.647, 0.651, 0.892, 0.787, 0.72, 0.688, 0.685, 0.672, 0.672, 0.663, 0.669, 0.663, 0.665, 0.656, 0.652, 0.651, 0.654, 0.652, 0.654, 0.651, 0.904, 0.792, 0.725, 0.695, 0.689, 0.682, 0.673, 0.673, 0.66, 0.662, 0.664, 0.659, 0.659, 0.659, 0.651, 0.652, 0.653, 0.654, 0.898, 0.8, 0.736, 0.706, 0.693, 0.681, 0.673, 0.674, 0.67, 0.666, 0.665, 0.658, 0.664, 0.658, 0.657, 0.654, 0.65, 0.654, 0.902, 0.809, 0.745, 0.716, 0.694, 0.69, 0.682, 0.673, 0.671, 0.666, 0.665, 0.656, 0.664, 0.658, 0.652, 0.655, 0.654, 0.65, 0.906, 0.8, 0.75, 0.715, 0.698, 0.691, 0.683, 0.683, 0.676, 0.66, 0.666, 0.662, 0.661, 0.654, 0.653, 0.656, 0.655, 0.652, 0.91, 0.81, 0.754, 0.722, 0.708, 0.696, 0.691, 0.681, 0.676, 0.671, 0.666, 0.658, 0.658, 0.659, 0.658, 0.654, 0.648, 0.651, 0.909, 0.811, 0.754, 0.725, 0.711, 0.692, 0.689, 0.681, 0.675, 0.674, 0.668, 0.663, 0.663, 0.656, 0.658, 0.657, 0.654, 0.653, 0.91, 0.808, 0.764, 0.73, 0.708, 0.709, 0.694, 0.687, 0.676, 0.676, 0.669, 0.665, 0.663, 0.663, 0.654, 0.658, 0.656, 0.656, 0.912, 0.814, 0.764, 0.733, 0.714, 0.705, 0.688, 0.688, 0.673, 0.676, 0.67, 0.666, 0.662, 0.662, 0.658, 0.657, 0.651, 0.654, 0.912, 0.812, 0.761, 0.737, 0.719, 0.697, 0.692, 0.679, 0.682, 0.672, 0.668, 0.667, 0.665, 0.661, 0.661, 0.658, 0.658, 0.654, 0.915, 0.822, 0.766, 0.738, 0.722, 0.706, 0.7, 0.685, 0.683, 0.675, 0.672, 0.662, 0.669, 0.66, 0.661, 0.661, 0.652, 0.652, 0.91, 0.817, 0.76, 0.741, 0.724, 0.703, 0.704, 0.687, 0.68, 0.67, 0.671, 0.664, 0.671, 0.663, 0.657, 0.659, 0.657, 0.658, 0.919, 0.819, 0.767, 0.738, 0.725, 0.708, 0.696, 0.692, 0.681, 0.668, 0.672, 0.665, 0.669, 0.658, 0.665, 0.658, 0.653, 0.656, 0.916, 0.818, 0.771, 0.742, 0.727, 0.706, 0.703, 0.689, 0.686, 0.68, 0.675, 0.671, 0.67, 0.661, 0.663, 0.661, 0.658, 0.654, 0.918, 0.826, 0.776, 0.742, 0.726, 0.711, 0.706, 0.695, 0.689, 0.672, 0.67, 0.664, 0.668, 0.661, 0.666, 0.659, 0.66, 0.65, 0.918, 0.821, 0.774, 0.745, 0.727, 0.71, 0.703, 0.691, 0.685, 0.682, 0.677, 0.67, 0.67, 0.665, 0.661, 0.655, 0.659, 0.656, 0.923, 0.825, 0.772, 0.745, 0.728, 0.71, 0.705, 0.695, 0.685, 0.682, 0.674, 0.679, 0.661, 0.667, 0.662, 0.654, 0.663, 0.656, 0.922, 0.83, 0.774, 0.739, 0.736, 0.709, 0.706, 0.699, 0.69, 0.681, 0.676, 0.667, 0.675, 0.669, 0.663, 0.66, 0.659, 0.655, 0.922, 0.823, 0.775, 0.748, 0.725, 0.716, 0.702, 0.697, 0.686, 0.685, 0.679, 0.667, 0.671, 0.669, 0.661, 0.661, 0.661, 0.656, 0.924, 0.833, 0.771, 0.748, 0.726, 0.713, 0.706, 0.694, 0.687, 0.685, 0.678, 0.675, 0.673, 0.669, 0.663, 0.661, 0.66, 0.657, 0.923, 0.831, 0.774, 0.75, 0.73, 0.715, 0.71, 0.7, 0.688, 0.681, 0.68, 0.669, 0.67, 0.67, 0.667, 0.663, 0.66, 0.662, 0.922, 0.837, 0.779, 0.752, 0.729, 0.716, 0.716, 0.696, 0.69, 0.684, 0.676, 0.677, 0.672, 0.673, 0.67, 0.659, 0.662, 0.656, 0.925, 0.836, 0.776, 0.755, 0.74, 0.717, 0.709, 0.703, 0.691, 0.693, 0.68, 0.675, 0.673, 0.667, 0.666, 0.663, 0.662, 0.659, 0.925, 0.841, 0.777, 0.748, 0.734, 0.72, 0.716, 0.694, 0.69, 0.686, 0.679, 0.678, 0.673, 0.674, 0.671, 0.664, 0.665, 0.657, 0.925, 0.832, 0.78, 0.75, 0.734, 0.722, 0.707, 0.702, 0.693, 0.69, 0.679, 0.674, 0.673, 0.671, 0.668, 0.667, 0.666, 0.661]\n",
      "Точность алгоритма на тесте: [0.407, 0.483, 0.5, 0.533, 0.541, 0.562, 0.563, 0.582, 0.599, 0.592, 0.592, 0.604, 0.603, 0.615, 0.609, 0.616, 0.619, 0.631, 0.404, 0.464, 0.506, 0.522, 0.538, 0.561, 0.576, 0.586, 0.576, 0.604, 0.589, 0.604, 0.603, 0.618, 0.625, 0.623, 0.618, 0.63, 0.419, 0.471, 0.501, 0.527, 0.55, 0.569, 0.565, 0.577, 0.583, 0.588, 0.605, 0.599, 0.61, 0.612, 0.621, 0.626, 0.615, 0.628, 0.336, 0.364, 0.421, 0.464, 0.483, 0.498, 0.536, 0.535, 0.541, 0.544, 0.571, 0.569, 0.578, 0.588, 0.593, 0.598, 0.592, 0.607, 0.349, 0.407, 0.43, 0.458, 0.471, 0.482, 0.535, 0.518, 0.553, 0.555, 0.557, 0.561, 0.579, 0.58, 0.588, 0.603, 0.591, 0.604, 0.36, 0.397, 0.424, 0.455, 0.483, 0.501, 0.508, 0.522, 0.534, 0.55, 0.559, 0.569, 0.56, 0.572, 0.587, 0.584, 0.601, 0.596, 0.359, 0.388, 0.415, 0.446, 0.454, 0.486, 0.508, 0.518, 0.534, 0.542, 0.569, 0.573, 0.569, 0.581, 0.587, 0.59, 0.592, 0.598, 0.362, 0.4, 0.426, 0.444, 0.464, 0.495, 0.501, 0.509, 0.525, 0.539, 0.558, 0.565, 0.573, 0.584, 0.584, 0.58, 0.594, 0.58, 0.367, 0.41, 0.399, 0.443, 0.47, 0.499, 0.51, 0.51, 0.516, 0.542, 0.547, 0.554, 0.557, 0.556, 0.582, 0.586, 0.589, 0.595, 0.392, 0.396, 0.442, 0.45, 0.463, 0.494, 0.52, 0.527, 0.521, 0.534, 0.541, 0.56, 0.563, 0.571, 0.582, 0.578, 0.598, 0.582, 0.376, 0.394, 0.414, 0.443, 0.45, 0.483, 0.506, 0.507, 0.527, 0.544, 0.544, 0.552, 0.562, 0.577, 0.574, 0.583, 0.58, 0.597, 0.37, 0.408, 0.437, 0.456, 0.492, 0.498, 0.505, 0.529, 0.539, 0.532, 0.539, 0.55, 0.573, 0.571, 0.571, 0.593, 0.585, 0.585, 0.382, 0.427, 0.436, 0.45, 0.483, 0.494, 0.514, 0.52, 0.523, 0.548, 0.552, 0.559, 0.562, 0.571, 0.575, 0.572, 0.579, 0.588, 0.379, 0.413, 0.447, 0.453, 0.459, 0.501, 0.532, 0.523, 0.543, 0.559, 0.562, 0.556, 0.576, 0.58, 0.588, 0.586, 0.588, 0.585, 0.37, 0.436, 0.441, 0.474, 0.481, 0.486, 0.519, 0.53, 0.538, 0.557, 0.55, 0.567, 0.577, 0.576, 0.592, 0.596, 0.601, 0.606, 0.392, 0.433, 0.448, 0.461, 0.503, 0.507, 0.526, 0.543, 0.55, 0.547, 0.568, 0.567, 0.591, 0.597, 0.6, 0.595, 0.594, 0.604, 0.401, 0.444, 0.465, 0.468, 0.506, 0.504, 0.527, 0.541, 0.548, 0.561, 0.576, 0.584, 0.592, 0.591, 0.595, 0.6, 0.604, 0.614, 0.371, 0.392, 0.38, 0.412, 0.447, 0.458, 0.496, 0.516, 0.537, 0.544, 0.559, 0.556, 0.578, 0.565, 0.601, 0.596, 0.593, 0.594, 0.352, 0.39, 0.396, 0.433, 0.472, 0.488, 0.513, 0.525, 0.551, 0.56, 0.565, 0.582, 0.589, 0.596, 0.607, 0.606, 0.611, 0.61, 0.375, 0.412, 0.438, 0.461, 0.467, 0.517, 0.535, 0.532, 0.546, 0.565, 0.58, 0.588, 0.593, 0.601, 0.606, 0.607, 0.609, 0.617, 0.397, 0.422, 0.451, 0.477, 0.499, 0.536, 0.544, 0.56, 0.552, 0.571, 0.591, 0.594, 0.595, 0.592, 0.602, 0.619, 0.622, 0.619, 0.414, 0.445, 0.479, 0.473, 0.522, 0.518, 0.547, 0.57, 0.561, 0.578, 0.582, 0.599, 0.611, 0.611, 0.606, 0.615, 0.616, 0.62, 0.376, 0.444, 0.475, 0.477, 0.519, 0.535, 0.548, 0.553, 0.57, 0.588, 0.591, 0.601, 0.602, 0.606, 0.612, 0.609, 0.617, 0.625, 0.37, 0.457, 0.494, 0.514, 0.529, 0.55, 0.564, 0.572, 0.597, 0.59, 0.6, 0.596, 0.604, 0.609, 0.61, 0.62, 0.612, 0.626, 0.388, 0.481, 0.492, 0.533, 0.525, 0.559, 0.561, 0.57, 0.574, 0.602, 0.598, 0.607, 0.612, 0.61, 0.606, 0.611, 0.621, 0.622, 0.386, 0.455, 0.498, 0.513, 0.536, 0.55, 0.575, 0.578, 0.585, 0.609, 0.604, 0.602, 0.606, 0.603, 0.61, 0.622, 0.621, 0.623, 0.396, 0.484, 0.491, 0.541, 0.534, 0.557, 0.569, 0.596, 0.598, 0.587, 0.605, 0.602, 0.61, 0.607, 0.612, 0.612, 0.622, 0.627, 0.397, 0.451, 0.502, 0.539, 0.555, 0.573, 0.586, 0.577, 0.584, 0.594, 0.608, 0.603, 0.606, 0.609, 0.613, 0.618, 0.626, 0.624, 0.382, 0.452, 0.523, 0.537, 0.559, 0.568, 0.588, 0.59, 0.593, 0.595, 0.602, 0.613, 0.604, 0.613, 0.614, 0.614, 0.617, 0.615, 0.377, 0.467, 0.515, 0.546, 0.558, 0.568, 0.58, 0.581, 0.595, 0.611, 0.601, 0.608, 0.607, 0.616, 0.616, 0.618, 0.611, 0.623, 0.4, 0.469, 0.526, 0.546, 0.561, 0.572, 0.584, 0.587, 0.602, 0.598, 0.598, 0.597, 0.618, 0.611, 0.62, 0.618, 0.614, 0.622, 0.378, 0.464, 0.515, 0.551, 0.557, 0.585, 0.589, 0.594, 0.6, 0.603, 0.61, 0.612, 0.615, 0.615, 0.622, 0.617, 0.618, 0.627, 0.38, 0.469, 0.511, 0.555, 0.566, 0.59, 0.592, 0.595, 0.598, 0.602, 0.596, 0.606, 0.612, 0.613, 0.61, 0.618, 0.629, 0.627, 0.396, 0.455, 0.52, 0.564, 0.562, 0.574, 0.589, 0.583, 0.601, 0.6, 0.612, 0.611, 0.617, 0.619, 0.616, 0.631, 0.616, 0.621, 0.393, 0.464, 0.533, 0.567, 0.562, 0.585, 0.584, 0.598, 0.599, 0.609, 0.604, 0.611, 0.619, 0.613, 0.609, 0.62, 0.626, 0.633, 0.372, 0.465, 0.516, 0.561, 0.576, 0.587, 0.597, 0.603, 0.601, 0.599, 0.61, 0.612, 0.615, 0.613, 0.62, 0.622, 0.626, 0.625, 0.389, 0.473, 0.542, 0.561, 0.582, 0.574, 0.584, 0.598, 0.602, 0.598, 0.612, 0.609, 0.618, 0.613, 0.621, 0.62, 0.625, 0.625, 0.397, 0.48, 0.522, 0.557, 0.563, 0.575, 0.586, 0.597, 0.605, 0.599, 0.616, 0.609, 0.622, 0.622, 0.616, 0.611, 0.615, 0.63, 0.389, 0.464, 0.522, 0.552, 0.584, 0.589, 0.587, 0.605, 0.6, 0.615, 0.614, 0.608, 0.607, 0.612, 0.624, 0.621, 0.625, 0.628, 0.393, 0.464, 0.519, 0.548, 0.574, 0.578, 0.571, 0.591, 0.61, 0.609, 0.611, 0.615, 0.616, 0.614, 0.619, 0.629, 0.624, 0.621, 0.386, 0.445, 0.523, 0.564, 0.58, 0.578, 0.588, 0.605, 0.605, 0.609, 0.6, 0.611, 0.614, 0.617, 0.62, 0.621, 0.62, 0.63, 0.381, 0.464, 0.527, 0.552, 0.577, 0.591, 0.592, 0.597, 0.6, 0.612, 0.611, 0.618, 0.617, 0.617, 0.625, 0.625, 0.631, 0.633, 0.395, 0.465, 0.5, 0.57, 0.582, 0.592, 0.599, 0.596, 0.606, 0.62, 0.613, 0.62, 0.622, 0.614, 0.62, 0.625, 0.627, 0.627, 0.404, 0.461, 0.52, 0.55, 0.593, 0.589, 0.589, 0.601, 0.602, 0.611, 0.607, 0.608, 0.617, 0.618, 0.621, 0.621, 0.623, 0.629, 0.398, 0.47, 0.522, 0.574, 0.593, 0.587, 0.597, 0.592, 0.619, 0.612, 0.612, 0.609, 0.609, 0.62, 0.63, 0.62, 0.629, 0.625, 0.37, 0.483, 0.542, 0.559, 0.577, 0.589, 0.601, 0.604, 0.612, 0.604, 0.614, 0.608, 0.617, 0.618, 0.623, 0.628, 0.62, 0.628, 0.373, 0.465, 0.528, 0.549, 0.579, 0.594, 0.596, 0.605, 0.607, 0.606, 0.615, 0.619, 0.62, 0.618, 0.621, 0.62, 0.623, 0.634, 0.389, 0.477, 0.523, 0.546, 0.581, 0.598, 0.604, 0.603, 0.609, 0.61, 0.608, 0.626, 0.613, 0.616, 0.63, 0.624, 0.635, 0.625]\n",
      "Done!\n"
     ]
    },
    {
     "name": "stderr",
     "output_type": "stream",
     "text": [
      "\n"
     ]
    }
   ],
   "source": [
    "n_trees_list = []\n",
    "min_samples_leaf_list = []\n",
    "train_score = []\n",
    "test_score = []\n",
    "\n",
    "for n_trees in tqdm(range(2, 50)):\n",
    "    \n",
    "    for min_samples_leaf in range(2, 20):\n",
    "        \n",
    "        my_forest_1 = random_forest(X_train_np, y_train_np, n_trees, min_samples_leaf)\n",
    "        y_train = tree_vote(my_forest_1, X_train_np)\n",
    "        y_test = tree_vote(my_forest_1, X_test_np)\n",
    "        \n",
    "        n_trees_list.append(n_trees)\n",
    "        min_samples_leaf_list.append(min_samples_leaf)\n",
    "        \n",
    "        train_score.append(round(r2(y_train_np, y_train), 3))\n",
    "        test_score.append(round(r2(y_test_np, y_test), 3))\n",
    "        \n",
    "print(f'Параметры количества деревьев: {n_trees_list}')\n",
    "print(f'Точность алгоритма на трейне: {train_score}')\n",
    "print(f'Точность алгоритма на тесте: {test_score}')\n",
    "print(f'Done!')"
   ]
  },
  {
   "cell_type": "code",
   "execution_count": 127,
   "metadata": {
    "id": "gjDdKkgObsif"
   },
   "outputs": [
    {
     "data": {
      "image/png": "[encoded data removed]",
      "text/plain": [
       "<Figure size 432x288 with 1 Axes>"
      ]
     },
     "metadata": {
      "needs_background": "light"
     },
     "output_type": "display_data"
    }
   ],
   "source": [
    "def get_error_plot(n_trees, train_err, test_err):\n",
    "    plt.xlabel('Iteration number')\n",
    "    plt.ylabel('MSE')\n",
    "    plt.xlim(0, max(n_trees))\n",
    "    plt.scatter(n_trees, train_err, s=n_trees, label='train r2')\n",
    "    plt.scatter(n_trees, test_err, s=n_trees, label='test r2')\n",
    "    plt.legend(loc='upper right')\n",
    "    plt.show()\n",
    "\n",
    "get_error_plot(n_trees_list, train_score, test_score)"
   ]
  },
  {
   "cell_type": "code",
   "execution_count": 144,
   "metadata": {},
   "outputs": [
    {
     "data": {
      "text/plain": [
       "[(0.63, 0.655, 42, 19),\n",
       " (0.63, 0.67, 46, 16),\n",
       " (0.63, 0.668, 49, 16),\n",
       " (0.631, 0.656, 2, 19),\n",
       " (0.631, 0.661, 35, 17),\n",
       " (0.631, 0.661, 43, 18),\n",
       " (0.633, 0.658, 36, 19),\n",
       " (0.633, 0.656, 43, 19),\n",
       " (0.634, 0.657, 48, 19),\n",
       " (0.635, 0.666, 49, 18)]"
      ]
     },
     "execution_count": 144,
     "metadata": {},
     "output_type": "execute_result"
    }
   ],
   "source": [
    "# выберем наилучшие комбинации. для этого:\n",
    "#соединим списки\n",
    "x = zip(test_score, train_score, n_trees_list, min_samples_leaf_list)\n",
    "\n",
    "#отсортируем, взяв первый элемент каждого списка как ключ\n",
    "sorted(x, key=lambda tup: tup[0])[-10:]"
   ]
  },
  {
   "cell_type": "code",
   "execution_count": 158,
   "metadata": {},
   "outputs": [
    {
     "name": "stderr",
     "output_type": "stream",
     "text": [
      "100%|██████████████████████████████████████████████████████████████████████████████████| 10/10 [04:43<00:00, 28.33s/it]"
     ]
    },
    {
     "name": "stdout",
     "output_type": "stream",
     "text": [
      "Параметры количества деревьев: [45, 45, 45, 45, 45, 45, 45, 45, 45, 45]\n",
      "Точность алгоритма на трейне: [0.656, 0.659, 0.656, 0.653, 0.657, 0.655, 0.65, 0.651, 0.653, 0.649]\n",
      "Точность алгоритма на тесте: [0.634, 0.632, 0.633, 0.642, 0.637, 0.63, 0.635, 0.631, 0.644, 0.634]\n",
      "Done!\n"
     ]
    },
    {
     "name": "stderr",
     "output_type": "stream",
     "text": [
      "\n"
     ]
    }
   ],
   "source": [
    "n_trees_list = []\n",
    "min_samples_leaf_list = []\n",
    "train_score = []\n",
    "test_score = []\n",
    "\n",
    "n_trees = 45\n",
    "    \n",
    "for min_samples_leaf in tqdm(range(20, 30)):\n",
    "\n",
    "    my_forest_1 = random_forest(X_train_np, y_train_np, n_trees, min_samples_leaf)\n",
    "    y_train = tree_vote(my_forest_1, X_train_np)\n",
    "    y_test = tree_vote(my_forest_1, X_test_np)\n",
    "\n",
    "    n_trees_list.append(n_trees)\n",
    "    min_samples_leaf_list.append(min_samples_leaf)\n",
    "\n",
    "    train_score.append(round(r2(y_train_np, y_train), 3))\n",
    "    test_score.append(round(r2(y_test_np, y_test), 3))\n",
    "        \n",
    "print(f'Параметры количества деревьев: {n_trees_list}')\n",
    "print(f'Точность алгоритма на трейне: {train_score}')\n",
    "print(f'Точность алгоритма на тесте: {test_score}')\n",
    "print(f'Done!')"
   ]
  },
  {
   "cell_type": "code",
   "execution_count": 159,
   "metadata": {},
   "outputs": [
    {
     "data": {
      "text/plain": [
       "[(0.63, 0.655, 45, 25),\n",
       " (0.631, 0.651, 45, 27),\n",
       " (0.632, 0.659, 45, 21),\n",
       " (0.633, 0.656, 45, 22),\n",
       " (0.634, 0.656, 45, 20),\n",
       " (0.634, 0.649, 45, 29),\n",
       " (0.635, 0.65, 45, 26),\n",
       " (0.637, 0.657, 45, 24),\n",
       " (0.642, 0.653, 45, 23),\n",
       " (0.644, 0.653, 45, 28)]"
      ]
     },
     "execution_count": 159,
     "metadata": {},
     "output_type": "execute_result"
    }
   ],
   "source": [
    "# выберем наилучшие комбинации. для этого:\n",
    "#соединим списки\n",
    "x = zip(test_score, train_score, n_trees_list, min_samples_leaf_list)\n",
    "\n",
    "#отсортируем, взяв первый элемент каждого списка как ключ\n",
    "sorted(x, key=lambda tup: tup[0])[-10:]"
   ]
  },
  {
   "cell_type": "markdown",
   "metadata": {
    "id": "Dcd1Jw6HbIXo"
   },
   "source": [
    "---\n",
    "Построим лес с наилучшими гиперпараметрами"
   ]
  },
  {
   "cell_type": "code",
   "execution_count": 169,
   "metadata": {
    "id": "ie4loVA2bIXp"
   },
   "outputs": [
    {
     "name": "stdout",
     "output_type": "stream",
     "text": [
      "Wall time: 16.1 s\n"
     ]
    }
   ],
   "source": [
    "%%time\n",
    "n_trees = 45\n",
    "min_samples_leaf = 50\n",
    "\n",
    "my_forest_1 = random_forest(X_train_np, y_train_np, n_trees, min_samples_leaf)"
   ]
  },
  {
   "cell_type": "code",
   "execution_count": 161,
   "metadata": {
    "id": "jlpOoeyNbIXr"
   },
   "outputs": [],
   "source": [
    "# Получим ответы для обучающей и тестовой  выборки \n",
    "y_train = tree_vote(my_forest_1, X_train_np)\n",
    "y_test = tree_vote(my_forest_1, X_test_np)"
   ]
  },
  {
   "cell_type": "code",
   "execution_count": 162,
   "metadata": {
    "colab": {
     "base_uri": "https://localhost:8080/",
     "height": 35
    },
    "id": "2AVq8YUqbIXv",
    "outputId": "241785cc-ac19-410a-ba06-5e399ea6db98"
   },
   "outputs": [
    {
     "name": "stdout",
     "output_type": "stream",
     "text": [
      "MSE случайного леса из 45 деревьев на обучающей выборке: 75.508\n",
      "MSE случайного леса из 45 деревьев на тестовой выборке: 78.220\n"
     ]
    }
   ],
   "source": [
    "# Точность на обучающей и тестовой выборке\n",
    "train_mse = mserror(y_train_np, y_train)\n",
    "print(f'MSE случайного леса из {n_trees} деревьев на обучающей выборке: {train_mse:.3f}')\n",
    "\n",
    "test_mse = mserror(y_test_np, y_test)\n",
    "print(f'MSE случайного леса из {n_trees} деревьев на тестовой выборке: {test_mse:.3f}')"
   ]
  },
  {
   "cell_type": "code",
   "execution_count": 163,
   "metadata": {},
   "outputs": [
    {
     "name": "stdout",
     "output_type": "stream",
     "text": [
      "R2 случайного леса из 45 деревьев на обучающей выборке: 0.649\n",
      "R2 случайного леса из 45 деревьев на тестовой выборке: 0.644\n"
     ]
    }
   ],
   "source": [
    "train_r2 = r2(y_train_np, y_train)\n",
    "print(f'R2 случайного леса из {n_trees} деревьев на обучающей выборке: {train_r2:.3f}')\n",
    "\n",
    "test_r2 = r2(y_test_np, y_test)\n",
    "print(f'R2 случайного леса из {n_trees} деревьев на тестовой выборке: {test_r2:.3f}')"
   ]
  },
  {
   "cell_type": "code",
   "execution_count": 164,
   "metadata": {},
   "outputs": [
    {
     "data": {
      "text/html": [
       "<div>\n",
       "<style scoped>\n",
       "    .dataframe tbody tr th:only-of-type {\n",
       "        vertical-align: middle;\n",
       "    }\n",
       "\n",
       "    .dataframe tbody tr th {\n",
       "        vertical-align: top;\n",
       "    }\n",
       "\n",
       "    .dataframe thead th {\n",
       "        text-align: right;\n",
       "    }\n",
       "</style>\n",
       "<table border=\"1\" class=\"dataframe\">\n",
       "  <thead>\n",
       "    <tr style=\"text-align: right;\">\n",
       "      <th></th>\n",
       "      <th>mean_exam_points true</th>\n",
       "      <th>mean_exam_points pred</th>\n",
       "    </tr>\n",
       "  </thead>\n",
       "  <tbody>\n",
       "    <tr>\n",
       "      <th>0</th>\n",
       "      <td>65</td>\n",
       "      <td>64.892857</td>\n",
       "    </tr>\n",
       "    <tr>\n",
       "      <th>1</th>\n",
       "      <td>81</td>\n",
       "      <td>81.928571</td>\n",
       "    </tr>\n",
       "    <tr>\n",
       "      <th>2</th>\n",
       "      <td>70</td>\n",
       "      <td>55.666667</td>\n",
       "    </tr>\n",
       "    <tr>\n",
       "      <th>3</th>\n",
       "      <td>77</td>\n",
       "      <td>66.000000</td>\n",
       "    </tr>\n",
       "    <tr>\n",
       "      <th>4</th>\n",
       "      <td>52</td>\n",
       "      <td>63.971429</td>\n",
       "    </tr>\n",
       "    <tr>\n",
       "      <th>...</th>\n",
       "      <td>...</td>\n",
       "      <td>...</td>\n",
       "    </tr>\n",
       "    <tr>\n",
       "      <th>2495</th>\n",
       "      <td>66</td>\n",
       "      <td>51.545455</td>\n",
       "    </tr>\n",
       "    <tr>\n",
       "      <th>2496</th>\n",
       "      <td>78</td>\n",
       "      <td>79.243243</td>\n",
       "    </tr>\n",
       "    <tr>\n",
       "      <th>2497</th>\n",
       "      <td>57</td>\n",
       "      <td>52.692308</td>\n",
       "    </tr>\n",
       "    <tr>\n",
       "      <th>2498</th>\n",
       "      <td>34</td>\n",
       "      <td>51.130435</td>\n",
       "    </tr>\n",
       "    <tr>\n",
       "      <th>2499</th>\n",
       "      <td>79</td>\n",
       "      <td>77.275862</td>\n",
       "    </tr>\n",
       "  </tbody>\n",
       "</table>\n",
       "<p>2500 rows × 2 columns</p>\n",
       "</div>"
      ],
      "text/plain": [
       "      mean_exam_points true  mean_exam_points pred\n",
       "0                        65              64.892857\n",
       "1                        81              81.928571\n",
       "2                        70              55.666667\n",
       "3                        77              66.000000\n",
       "4                        52              63.971429\n",
       "...                     ...                    ...\n",
       "2495                     66              51.545455\n",
       "2496                     78              79.243243\n",
       "2497                     57              52.692308\n",
       "2498                     34              51.130435\n",
       "2499                     79              77.275862\n",
       "\n",
       "[2500 rows x 2 columns]"
      ]
     },
     "execution_count": 164,
     "metadata": {},
     "output_type": "execute_result"
    }
   ],
   "source": [
    "pd.DataFrame({'mean_exam_points true': y_test_np, 'mean_exam_points pred': y_test})"
   ]
  },
  {
   "cell_type": "markdown",
   "metadata": {},
   "source": [
    "---\n",
    "Обучим модель на всей выборке"
   ]
  },
  {
   "cell_type": "code",
   "execution_count": 165,
   "metadata": {},
   "outputs": [],
   "source": [
    "X_np = train.drop(['Id', 'mean_exam_points'], axis=1).to_numpy()\n",
    "y_np = train['mean_exam_points'].to_numpy()\n",
    "test_np = test.drop('Id', axis=1).to_numpy()"
   ]
  },
  {
   "cell_type": "code",
   "execution_count": 174,
   "metadata": {},
   "outputs": [
    {
     "name": "stdout",
     "output_type": "stream",
     "text": [
      "Wall time: 17.1 s\n"
     ]
    }
   ],
   "source": [
    "%%time\n",
    "n_trees = 45\n",
    "min_samples_leaf = 100\n",
    "\n",
    "my_forest_1 = random_forest(X_np, y_np, n_trees, min_samples_leaf)"
   ]
  },
  {
   "cell_type": "code",
   "execution_count": 175,
   "metadata": {},
   "outputs": [],
   "source": [
    "# Получим ответы для обучающей и тестовой  выборки \n",
    "y_train_pred = tree_vote(my_forest_1, X_np)\n",
    "y_test_pred = tree_vote(my_forest_1, test_np)"
   ]
  },
  {
   "cell_type": "code",
   "execution_count": 176,
   "metadata": {},
   "outputs": [
    {
     "name": "stdout",
     "output_type": "stream",
     "text": [
      "R2 случайного леса из 45 деревьев на всей обучающей выборке: 0.645\n"
     ]
    }
   ],
   "source": [
    "train_r2 = r2(y_np, y_train_pred)\n",
    "print(f'R2 случайного леса из {n_trees} деревьев на всей обучающей выборке: {train_r2:.3f}')"
   ]
  },
  {
   "cell_type": "code",
   "execution_count": 177,
   "metadata": {},
   "outputs": [
    {
     "name": "stdout",
     "output_type": "stream",
     "text": [
      "Done!\n"
     ]
    }
   ],
   "source": [
    "submission = pd.DataFrame({'Id': test['Id'], 'mean_exam_points': y_test_pred})\n",
    "submission.to_csv(f'Choose_tutors_regression_data/submission_n_trees{n_trees}_n_leafs{min_samples_leaf}.csv',\n",
    "                  index=False, encoding='utf-8')\n",
    "print('Done!')"
   ]
  },
  {
   "cell_type": "code",
   "execution_count": 178,
   "metadata": {},
   "outputs": [
    {
     "data": {
      "text/html": [
       "<div>\n",
       "<style scoped>\n",
       "    .dataframe tbody tr th:only-of-type {\n",
       "        vertical-align: middle;\n",
       "    }\n",
       "\n",
       "    .dataframe tbody tr th {\n",
       "        vertical-align: top;\n",
       "    }\n",
       "\n",
       "    .dataframe thead th {\n",
       "        text-align: right;\n",
       "    }\n",
       "</style>\n",
       "<table border=\"1\" class=\"dataframe\">\n",
       "  <thead>\n",
       "    <tr style=\"text-align: right;\">\n",
       "      <th></th>\n",
       "      <th>mean_axam_points true</th>\n",
       "      <th>mean_exam_points pred</th>\n",
       "    </tr>\n",
       "  </thead>\n",
       "  <tbody>\n",
       "    <tr>\n",
       "      <th>0</th>\n",
       "      <td>61</td>\n",
       "      <td>51.881188</td>\n",
       "    </tr>\n",
       "    <tr>\n",
       "      <th>1</th>\n",
       "      <td>76</td>\n",
       "      <td>63.226415</td>\n",
       "    </tr>\n",
       "    <tr>\n",
       "      <th>2</th>\n",
       "      <td>53</td>\n",
       "      <td>51.944134</td>\n",
       "    </tr>\n",
       "    <tr>\n",
       "      <th>3</th>\n",
       "      <td>54</td>\n",
       "      <td>88.201923</td>\n",
       "    </tr>\n",
       "    <tr>\n",
       "      <th>4</th>\n",
       "      <td>57</td>\n",
       "      <td>87.656250</td>\n",
       "    </tr>\n",
       "    <tr>\n",
       "      <th>...</th>\n",
       "      <td>...</td>\n",
       "      <td>...</td>\n",
       "    </tr>\n",
       "    <tr>\n",
       "      <th>9995</th>\n",
       "      <td>83</td>\n",
       "      <td>39.789773</td>\n",
       "    </tr>\n",
       "    <tr>\n",
       "      <th>9996</th>\n",
       "      <td>58</td>\n",
       "      <td>77.937500</td>\n",
       "    </tr>\n",
       "    <tr>\n",
       "      <th>9997</th>\n",
       "      <td>62</td>\n",
       "      <td>51.748387</td>\n",
       "    </tr>\n",
       "    <tr>\n",
       "      <th>9998</th>\n",
       "      <td>56</td>\n",
       "      <td>64.595890</td>\n",
       "    </tr>\n",
       "    <tr>\n",
       "      <th>9999</th>\n",
       "      <td>52</td>\n",
       "      <td>71.177515</td>\n",
       "    </tr>\n",
       "  </tbody>\n",
       "</table>\n",
       "<p>10000 rows × 2 columns</p>\n",
       "</div>"
      ],
      "text/plain": [
       "      mean_axam_points true  mean_exam_points pred\n",
       "0                        61              51.881188\n",
       "1                        76              63.226415\n",
       "2                        53              51.944134\n",
       "3                        54              88.201923\n",
       "4                        57              87.656250\n",
       "...                     ...                    ...\n",
       "9995                     83              39.789773\n",
       "9996                     58              77.937500\n",
       "9997                     62              51.748387\n",
       "9998                     56              64.595890\n",
       "9999                     52              71.177515\n",
       "\n",
       "[10000 rows x 2 columns]"
      ]
     },
     "execution_count": 178,
     "metadata": {},
     "output_type": "execute_result"
    }
   ],
   "source": [
    "pd.DataFrame({'mean_axam_points true': y_np, 'mean_exam_points pred': y_test_pred})"
   ]
  },
  {
   "cell_type": "markdown",
   "metadata": {},
   "source": [
    "n_trees = 5  min_samples_leaf = 5  0.60305\n",
    "\n",
    "n_trees = 42  min_samples_leaf = 19  0.89712\n",
    "\n",
    "n_trees = 45  min_samples_leaf = 28  0.91609\n",
    "\n",
    "n_trees = 45  min_samples_leaf = 50  0.93473\n",
    "\n",
    "n_trees = 45  min_samples_leaf = 100  0.94546"
   ]
  }
 ],
 "metadata": {
  "kernelspec": {
   "display_name": "Python 3",
   "language": "python",
   "name": "python3"
  },
  "language_info": {
   "codemirror_mode": {
    "name": "ipython",
    "version": 3
   },
   "file_extension": ".py",
   "mimetype": "text/x-python",
   "name": "python",
   "nbconvert_exporter": "python",
   "pygments_lexer": "ipython3",
   "version": "3.8.5"
  },
  "toc": {
   "base_numbering": 1,
   "nav_menu": {},
   "number_sections": true,
   "sideBar": true,
   "skip_h1_title": false,
   "title_cell": "Table of Contents",
   "title_sidebar": "Contents",
   "toc_cell": false,
   "toc_position": {},
   "toc_section_display": true,
   "toc_window_display": false
  },
  "varInspector": {
   "cols": {
    "lenName": 16,
    "lenType": 16,
    "lenVar": 40
   },
   "kernels_config": {
    "python": {
     "delete_cmd_postfix": "",
     "delete_cmd_prefix": "del ",
     "library": "var_list.py",
     "varRefreshCmd": "print(var_dic_list())"
    },
    "r": {
     "delete_cmd_postfix": ") ",
     "delete_cmd_prefix": "rm(",
     "library": "var_list.r",
     "varRefreshCmd": "cat(var_dic_list()) "
    }
   },
   "position": {
    "height": "774px",
    "left": "935px",
    "right": "20px",
    "top": "120px",
    "width": "575px"
   },
   "types_to_exclude": [
    "module",
    "function",
    "builtin_function_or_method",
    "instance",
    "_Feature"
   ],
   "window_display": false
  }
 },
 "nbformat": 4,
 "nbformat_minor": 4
}
