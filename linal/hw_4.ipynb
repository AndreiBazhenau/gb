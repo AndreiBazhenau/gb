{
 "cells": [
  {
   "cell_type": "markdown",
   "metadata": {},
   "source": [
    "# Урок 6. Системы линейных уравнений"
   ]
  },
  {
   "cell_type": "markdown",
   "metadata": {},
   "source": [
    "__1.__ Решить систему уравнений методом Гаусса:\n",
    "\n",
    "$$\\begin{cases}\n",
    "x_{1}+x_{2}-x_{3}-2x_{4}=0, \\\\\n",
    "2x_{1}+x_{2}-x_{3}+x_{4}=-2, \\\\\n",
    "x_{1}+x_{2}-3x_{3}+x_{4}=4.\n",
    "\\end{cases}$$"
   ]
  },
  {
   "cell_type": "markdown",
   "metadata": {},
   "source": [
    "$$\\begin{pmatrix}\n",
    "\\left.\\begin{matrix}\n",
    "1 & 1 & -1 & -2\\\\ \n",
    "2 & 1 & -1 & 1\\\\ \n",
    "1 & 1 & -3 & 1\n",
    "\\end{matrix}\\right|\n",
    "\\begin{matrix}\n",
    "0\\\\ \n",
    "-2\\\\\n",
    "4\n",
    "\\end{matrix}\n",
    "\\end{pmatrix}$$\n",
    "\n",
    "Вычтем из 2-й строки первую, умноженную на 2-ю\n",
    "\n",
    "$$\\begin{pmatrix}\n",
    "\\left.\\begin{matrix}\n",
    "1 & 1 & -1 & -2\\\\ \n",
    "0 & -1 & 1 & 5\\\\ \n",
    "1 & 1 & -3 & 1\n",
    "\\end{matrix}\\right|\n",
    "\\begin{matrix}\n",
    "0\\\\ \n",
    "-2\\\\\n",
    "4\n",
    "\\end{matrix}\n",
    "\\end{pmatrix}$$\n",
    "\n",
    "Вычтем из 3-й строки 1-ю\n",
    "\n",
    "$$\\begin{pmatrix}\n",
    "\\left.\\begin{matrix}\n",
    "1 & 1 & -1 & -2\\\\ \n",
    "0 & -1 & 1 & 5\\\\ \n",
    "0 & 0 & -2 & 3\n",
    "\\end{matrix}\\right|\n",
    "\\begin{matrix}\n",
    "0\\\\ \n",
    "-2\\\\\n",
    "4\n",
    "\\end{matrix}\n",
    "\\end{pmatrix}$$\n",
    "\n",
    "$$\\begin{cases}\n",
    "x_{1}+x_{2}-x_{3}-2x_{4}=0, \\\\\n",
    "-x_{2}+x_{3}+5x_{4}=-2, \\\\\n",
    "-2x_{3}+3x_{4}=4.\n",
    "\\end{cases}$$\n",
    "\n",
    "$$x_{4}=c$$\n",
    "\n",
    "$$x_{3}=-2+3/2c$$\n",
    "\n",
    "$$x_{2}=2+x_{3}+5x_{4}=3/2c+5c=13/2c$$\n",
    "\n",
    "$$x_{1} = -x_{2}+x_{3}+2x_{4}=-13/2c-2+3/2c+2c=-2-3c$$"
   ]
  },
  {
   "cell_type": "markdown",
   "metadata": {},
   "source": [
    "__2.__ Проверить на совместность и выяснить, сколько решений будет иметь система линейных уравнений:\n",
    "\n",
    "   а) $\\begin{cases}\n",
    "3x_{1}-x_{2}+x_{3}=4, \\\\\n",
    "2x_{1}-5x_{2}-3x_{3}=-17, \\\\\n",
    "x_{1}+x_{2}-x_{3}=0;\n",
    "\\end{cases}$"
   ]
  },
  {
   "cell_type": "code",
   "execution_count": 1,
   "metadata": {},
   "outputs": [
    {
     "name": "stdout",
     "output_type": "stream",
     "text": [
      "Ранг матрицы = 3, ранг расширенной матрицы = 3\n"
     ]
    }
   ],
   "source": [
    "import numpy as np\n",
    "\n",
    "A = np.array([[3, -1, 1], [2, -5, -3], [1, 1, -1]])\n",
    "A_2 = np.array([[3, -1, 1, 4], [2, -5, -3, -17], [1, 1, -1, 0]])\n",
    "\n",
    "rank_A = np.linalg.matrix_rank(A)\n",
    "rank_A_2 = np.linalg.matrix_rank(A_2)\n",
    "print(f'Ранг матрицы = {rank_A}, ранг расширенной матрицы = {rank_A_2}')"
   ]
  },
  {
   "cell_type": "markdown",
   "metadata": {},
   "source": [
    " $rankA=rank \\tilde A=3$, => система определена, т. е. имеет единственное решение."
   ]
  },
  {
   "cell_type": "markdown",
   "metadata": {},
   "source": [
    "   б) $\\begin{cases}\n",
    "2x_{1}-4x_{2}+6x_{3}=1, \\\\\n",
    "x_{1}-2x_{2}+3x_{3}=-2, \\\\\n",
    "3x_{1}-6x_{2}+9x_{3}=5;\n",
    "\\end{cases}$"
   ]
  },
  {
   "cell_type": "code",
   "execution_count": 2,
   "metadata": {},
   "outputs": [
    {
     "name": "stdout",
     "output_type": "stream",
     "text": [
      "Ранг матрицы = 1, ранг расширенной матрицы = 2\n"
     ]
    }
   ],
   "source": [
    "A = np.array([[2, -4, 6], [1, -2, 3], [3, -6, 9]])\n",
    "A_2 = np.array([[2, -4, 6, 1], [1, -2, 3, -2], [3, -6, 9, 5]])\n",
    "\n",
    "rank_A = np.linalg.matrix_rank(A)\n",
    "rank_A_2 = np.linalg.matrix_rank(A_2)\n",
    "print(f'Ранг матрицы = {rank_A}, ранг расширенной матрицы = {rank_A_2}')"
   ]
  },
  {
   "cell_type": "markdown",
   "metadata": {},
   "source": [
    "$rankA<rank \\tilde A$ => система несовместна."
   ]
  },
  {
   "cell_type": "markdown",
   "metadata": {},
   "source": [
    "   в) $\\begin{cases}\n",
    "x_{1}+2x_{2}+5x_{3}=4, \\\\\n",
    "3x_{1}+x_{2}-8x_{3}=-2. \n",
    "\\end{cases}$"
   ]
  },
  {
   "cell_type": "code",
   "execution_count": 3,
   "metadata": {},
   "outputs": [
    {
     "name": "stdout",
     "output_type": "stream",
     "text": [
      "Ранг матрицы = 2, ранг расширенной матрицы = 2\n"
     ]
    }
   ],
   "source": [
    "A = np.array([[1, 2, 5], [3, 1, -8]])\n",
    "A_2 = np.array([[1, 2, 5, 4], [3, 1, -8, -2]])\n",
    "\n",
    "rank_A = np.linalg.matrix_rank(A)\n",
    "rank_A_2 = np.linalg.matrix_rank(A_2)\n",
    "print(f'Ранг матрицы = {rank_A}, ранг расширенной матрицы = {rank_A_2}')"
   ]
  },
  {
   "cell_type": "markdown",
   "metadata": {},
   "source": [
    "$rankA=rank \\tilde A<n$ => система имеет бесконечное количество решений"
   ]
  },
  {
   "cell_type": "markdown",
   "metadata": {},
   "source": [
    "__3.__ Проверить на совместность и выяснить, сколько решений будет иметь система линейных уравнений, заданная расширенной матрицей\n",
    "\n",
    "$$\\tilde{A}=\\begin{pmatrix}\n",
    "\\left.\\begin{matrix}\n",
    "1 & 3 & -2 & 4\\\\ \n",
    "0 & 5 & 0 & 1\\\\ \n",
    "0 & 0 & 3 & 0\\\\ \n",
    "0 & 0 & 0 & 2\n",
    "\\end{matrix}\\right|\n",
    "\\begin{matrix}\n",
    "3\\\\ \n",
    "2\\\\\n",
    "4\\\\\n",
    "1\n",
    "\\end{matrix}\n",
    "\\end{pmatrix}.$$"
   ]
  },
  {
   "cell_type": "code",
   "execution_count": 4,
   "metadata": {},
   "outputs": [
    {
     "name": "stdout",
     "output_type": "stream",
     "text": [
      "Ранг матрицы = 4, ранг расширенной матрицы = 4\n"
     ]
    }
   ],
   "source": [
    "A = np.array([[1, 3, -2, 4], [0, 5, 0, 1], [0, 0, 3, 0], [0, 0, 0, 2]])\n",
    "A_2 = np.array([[1, 3, -2, 4, 3], [0, 5, 0, 1, 2], [0, 0, 3, 0, 4], [0, 0, 0, 2, 1]])\n",
    "\n",
    "rank_A = np.linalg.matrix_rank(A)\n",
    "rank_A_2 = np.linalg.matrix_rank(A_2)\n",
    "print(f'Ранг матрицы = {rank_A}, ранг расширенной матрицы = {rank_A_2}')"
   ]
  },
  {
   "cell_type": "markdown",
   "metadata": {},
   "source": [
    "$rankA=rank \\tilde A=3$, => система определена, т. е. имеет единственное решение."
   ]
  },
  {
   "cell_type": "markdown",
   "metadata": {},
   "source": [
    "__4.__ Дана система линейных уравнений, заданная расширенной матрицей\n",
    "\n",
    "$$\\tilde{A}=\\begin{pmatrix}\n",
    "\\left.\\begin{matrix}\n",
    "1 & 2 & 3\\\\ \n",
    "4 & 5 & 6\\\\ \n",
    "7 & 8 & 9\n",
    "\\end{matrix}\\right|\n",
    "\\begin{matrix}\n",
    "a\\\\ \n",
    "b\\\\\n",
    "c\n",
    "\\end{matrix}\n",
    "\\end{pmatrix}.$$\n",
    "\n",
    "Найти соотношение между параметрами $a$, $b$ и $c$, при которых система является несовместной."
   ]
  },
  {
   "cell_type": "markdown",
   "metadata": {},
   "source": [
    "$$\\begin{pmatrix}\n",
    "\\left.\\begin{matrix}\n",
    "1 & 2 & 3\\\\ \n",
    "4 & 5 & 6\\\\ \n",
    "7 & 8 & 9\n",
    "\\end{matrix}\\right|\n",
    "\\begin{matrix}\n",
    "a\\\\ \n",
    "b\\\\\n",
    "c\n",
    "\\end{matrix}\n",
    "\\end{pmatrix}\n",
    "\\Rightarrow\n",
    "\\begin{pmatrix}\n",
    "\\left.\\begin{matrix}\n",
    "1 & 2 & 3\\\\ \n",
    "0 & -3 & -6\\\\ \n",
    "7 & 8 & 9\n",
    "\\end{matrix}\\right|\n",
    "\\begin{matrix}\n",
    "a\\\\ \n",
    "b-4a\\\\\n",
    "c\n",
    "\\end{matrix}\n",
    "\\end{pmatrix}\n",
    "\\Rightarrow\n",
    "\\begin{pmatrix}\n",
    "\\left.\\begin{matrix}\n",
    "1 & 2 & 3\\\\ \n",
    "0 & -3 & -6\\\\ \n",
    "0 & -6 & -12\n",
    "\\end{matrix}\\right|\n",
    "\\begin{matrix}\n",
    "a\\\\ \n",
    "b-4a\\\\\n",
    "c-7a\n",
    "\\end{matrix}\n",
    "\\end{pmatrix}\n",
    "\\Rightarrow\n",
    "$$\n",
    "\n",
    "$$\n",
    "\\Rightarrow\n",
    "\\begin{pmatrix}\n",
    "\\left.\\begin{matrix}\n",
    "1 & 2 & 3\\\\ \n",
    "0 & -3 & -6\\\\ \n",
    "0 & 0 & 0\n",
    "\\end{matrix}\\right|\n",
    "\\begin{matrix}\n",
    "a\\\\ \n",
    "b-4a\\\\\n",
    "c-7a-2b+8a\n",
    "\\end{matrix}\n",
    "\\end{pmatrix}\n",
    "\\Rightarrow\n",
    "\\begin{pmatrix}\n",
    "\\left.\\begin{matrix}\n",
    "1 & 2 & 3\\\\ \n",
    "0 & -3 & -6\\\\ \n",
    "0 & 0 & 0\n",
    "\\end{matrix}\\right|\n",
    "\\begin{matrix}\n",
    "a\\\\ \n",
    "b-4a\\\\\n",
    "c+a-2b\n",
    "\\end{matrix}\n",
    "\\end{pmatrix}\n",
    "$$\n",
    "\n",
    "Чтобы ранг расширенной матрицы был больше ранга матрицы коэффициентов необходимо чтобы выполнялось неравенство: $c+a-2b\\ne0$\n",
    "    \n",
    "$$a \\ne 2b-c\\\\\n",
    "b \\ne (c+a)/2\\\\\n",
    "c \\ne 2b - a$$"
   ]
  },
  {
   "cell_type": "markdown",
   "metadata": {},
   "source": [
    "# Урок 7. Системы линейных уравнений"
   ]
  },
  {
   "cell_type": "markdown",
   "metadata": {},
   "source": [
    "_1._ Решить систему уравнений методом Крамера:\n",
    "\n",
    "а) $\\begin{cases}\n",
    "x_{1}-2x_{2}=1 \\\\\n",
    "3x_{1}-4x_{2}=7\n",
    "\\end{cases}$"
   ]
  },
  {
   "cell_type": "markdown",
   "metadata": {},
   "source": [
    "$\\begin{pmatrix}\n",
    "\\left.\\begin{matrix}\n",
    "1 & -2\\\\ \n",
    "3 & -4\n",
    "\\end{matrix}\\right|\n",
    "\\begin{matrix}\n",
    "1\\\\ \n",
    "7\n",
    "\\end{matrix}\n",
    "\\end{pmatrix}$\n",
    "\n",
    "$det\\begin{pmatrix}\n",
    "1 & -2\\\\ \n",
    "3 & -4\n",
    "\\end{pmatrix} = -4 + 6 = 2 \\ne 0$ => система совместна\n",
    "\n",
    "$detA_{1}=det\\begin{pmatrix}\n",
    "1 & -2\\\\ \n",
    "7 & -4\n",
    "\\end{pmatrix} = -4+ 14 = 10$\n",
    "\n",
    "$detA_{2}=det\\begin{pmatrix}\n",
    "1 & 1\\\\ \n",
    "3 & 7\n",
    "\\end{pmatrix} = 7-3 = 4$\n",
    "\n",
    "$x_{1}=10/2=5\\\\\n",
    "x_{2}=4/2=2$"
   ]
  },
  {
   "cell_type": "markdown",
   "metadata": {},
   "source": [
    "б) $\\begin{cases}\n",
    "2x_{1}-x_{2}+5x_{3}=10 \\\\\n",
    "x_{1}+x_{2}-3x_{3}=-2 \\\\\n",
    "2x_{1}+4x_{2}+x_{3}=1\n",
    "\\end{cases}$\n",
    "\n",
    "$\\begin{pmatrix}\n",
    "\\left.\\begin{matrix}\n",
    "2 & -1 & 5\\\\ \n",
    "1 & 1 & -3\\\\\n",
    "2 & 4 & 1\n",
    "\\end{matrix}\\right|\n",
    "\\begin{matrix}\n",
    "10\\\\ \n",
    "-2\\\\\n",
    "1\n",
    "\\end{matrix}\n",
    "\\end{pmatrix}$\n",
    "\n",
    "$det\\begin{pmatrix}\n",
    "2 & -1 & 5\\\\ \n",
    "1 & 1 & -3\\\\\n",
    "2 & 4 & 1\n",
    "\\end{pmatrix} = 2\\begin{pmatrix}\n",
    "1 & -3\\\\\n",
    "4 & 1\n",
    "\\end{pmatrix}+\\begin{pmatrix}\n",
    "1 & -3\\\\\n",
    "2 & 1\n",
    "\\end{pmatrix}+5\\begin{pmatrix}\n",
    "1 & 1\\\\\n",
    "2 & 4\n",
    "\\end{pmatrix}=2\\cdot13+7+5\\cdot2=43\\ne 0 $ => система совместна\n",
    "\n",
    "$detA_{1}=det\\begin{pmatrix}\n",
    "10 & -1 & 5\\\\ \n",
    "-2 & 1 & -3\\\\\n",
    "1 & 4 & 1\n",
    "\\end{pmatrix} = 10\\begin{pmatrix}\n",
    "1 & -3\\\\\n",
    "4 & 1\n",
    "\\end{pmatrix}+\\begin{pmatrix}\n",
    "-2 & -3\\\\\n",
    "1 & 1\n",
    "\\end{pmatrix}+5\\begin{pmatrix}\n",
    "-2 & 1\\\\\n",
    "1 & 4\n",
    "\\end{pmatrix}=10\\cdot13+1+5\\cdot(-9)=86$\n",
    "\n",
    "$detA_{2}=det\\begin{pmatrix}\n",
    "2 & 10 & 5\\\\ \n",
    "1 & -2 & -3\\\\\n",
    "2 & 1 & 1\n",
    "\\end{pmatrix} = 2\\begin{pmatrix}\n",
    "-2 & -3\\\\\n",
    "1 & 1\n",
    "\\end{pmatrix}-10\\begin{pmatrix}\n",
    "1 & -3\\\\\n",
    "2 & 1\n",
    "\\end{pmatrix}+5\\begin{pmatrix}\n",
    "1 & -2\\\\\n",
    "2 & 1\n",
    "\\end{pmatrix}=2\\cdot1-10\\cdot7+5\\cdot5=-43$\n",
    "\n",
    "$detA_{3}=det\\begin{pmatrix}\n",
    "2 & -1 & 10\\\\ \n",
    "1 & 1 & -2\\\\\n",
    "2 & 4 & 1\n",
    "\\end{pmatrix} = 2\\begin{pmatrix}\n",
    "1 & -2\\\\\n",
    "4 & 1\n",
    "\\end{pmatrix}+\\begin{pmatrix}\n",
    "1 & -2\\\\\n",
    "2 & 1\n",
    "\\end{pmatrix}+10\\begin{pmatrix}\n",
    "1 & 1\\\\\n",
    "2 & 4\n",
    "\\end{pmatrix}=2\\cdot9+5+10\\cdot2=43$\n",
    "\n",
    "$x_{1}=86/43=2\\\\\n",
    "x_{2}=-43/43=-1\\\\\n",
    "x_{3}=43/43=1$"
   ]
  },
  {
   "cell_type": "markdown",
   "metadata": {},
   "source": [
    "__2*.__ Найти $L$-матрицу $LU$-разложения для матрицы коэффициентов:\n",
    "\n",
    "   а)$$\\begin{pmatrix}\n",
    "1 & 2 & 4 \\\\ \n",
    "2 & 9 & 12 \\\\ \n",
    "3 & 26 & 30\n",
    "\\end{pmatrix}$$"
   ]
  },
  {
   "cell_type": "markdown",
   "metadata": {},
   "source": [
    "_Решение_\n",
    "\n",
    "$\\begin{pmatrix}\n",
    "1 & 2 & 4 \\\\ \n",
    "2 & 9 & 12 \\\\ \n",
    "3 & 26 & 30\n",
    "\\end{pmatrix}\n",
    "\\Rightarrow\n",
    "\\begin{pmatrix}\n",
    "1 & 2 & 4 \\\\ \n",
    "0 & 5 & 4 \\\\ \n",
    "3 & 26 & 30\n",
    "\\end{pmatrix}\n",
    "\\Rightarrow\n",
    "\\begin{pmatrix}\n",
    "1 & 2 & 4 \\\\ \n",
    "0 & 5 & 4 \\\\ \n",
    "0 & 20 & 18\n",
    "\\end{pmatrix}\n",
    "\\Rightarrow\n",
    "\\begin{pmatrix}\n",
    "1 & 2 & 4 \\\\ \n",
    "0 & 5 & 4 \\\\ \n",
    "0 & 0 & 2\n",
    "\\end{pmatrix}$\n",
    "\n",
    "$L=\\begin{pmatrix}\n",
    "1 & 0 & 0 \\\\ \n",
    "2 & 1 & 0 \\\\ \n",
    "3 & 4 & 1\n",
    "\\end{pmatrix}$"
   ]
  },
  {
   "cell_type": "markdown",
   "metadata": {},
   "source": [
    "   б)$$\\begin{pmatrix}\n",
    "1 & 1 & 2 & 4\\\\ \n",
    "2 & 5 & 8 & 9\\\\ \n",
    "3 & 18 & 29 & 18\\\\\n",
    "4 & 22 & 53 & 33\n",
    "\\end{pmatrix}$$"
   ]
  },
  {
   "cell_type": "markdown",
   "metadata": {},
   "source": [
    "_Решение_\n",
    "\n",
    "$\\begin{pmatrix}\n",
    "1 & 1 & 2 & 4\\\\ \n",
    "0 & 3 & 4 & 1\\\\ \n",
    "3 & 18 & 29 & 18\\\\\n",
    "4 & 22 & 53 & 33\n",
    "\\end{pmatrix}\n",
    "\\Rightarrow\n",
    "\\begin{pmatrix}\n",
    "1 & 1 & 2 & 4\\\\ \n",
    "0 & 3 & 4 & 1\\\\ \n",
    "0 & 15 & 23 & 6\\\\\n",
    "4 & 22 & 53 & 33\n",
    "\\end{pmatrix}\n",
    "\\Rightarrow\n",
    "\\begin{pmatrix}\n",
    "1 & 1 & 2 & 4\\\\ \n",
    "0 & 3 & 4 & 1\\\\ \n",
    "0 & 15 & 23 & 6\\\\\n",
    "0 & 18 & 45 & 17\n",
    "\\end{pmatrix}\n",
    "\\Rightarrow\n",
    "\\begin{pmatrix}\n",
    "1 & 1 & 2 & 4\\\\ \n",
    "0 & 3 & 4 & 1\\\\ \n",
    "0 & 0 & 3 & 1\\\\\n",
    "0 & 18 & 45 & 17\n",
    "\\end{pmatrix}\n",
    "\\Rightarrow\n",
    "\\begin{pmatrix}\n",
    "1 & 1 & 2 & 4\\\\ \n",
    "0 & 3 & 4 & 1\\\\ \n",
    "0 & 0 & 3 & 1\\\\\n",
    "0 & 0 & 21 & 11\n",
    "\\end{pmatrix}\n",
    "\\Rightarrow\n",
    "\\begin{pmatrix}\n",
    "1 & 1 & 2 & 4\\\\ \n",
    "0 & 3 & 4 & 1\\\\ \n",
    "0 & 0 & 3 & 1\\\\\n",
    "0 & 0 & 0 & 4\n",
    "\\end{pmatrix}\n",
    "$\n",
    "\n",
    "$L=\\begin{pmatrix}\n",
    "1 & 0 & 0 & 0\\\\ \n",
    "2 & 1 & 0 & 0\\\\ \n",
    "3 & 5 & 1 & 0\\\\\n",
    "4 & 6 & 7 & 1\n",
    "\\end{pmatrix}$"
   ]
  },
  {
   "cell_type": "markdown",
   "metadata": {},
   "source": [
    "__3*.__ Решить систему линейных уравнений методом $LU$-разложения\n",
    "\n",
    "$$\\begin{cases}\n",
    "2x_{1}+x_{2}+3x_{3}=1 \\\\\n",
    "11x_{1}+7x_{2}+5x_{3}=-6 \\\\\n",
    "9x_{1}+8x_{2}+4x_{3}=-5\n",
    "\\end{cases}$$"
   ]
  },
  {
   "cell_type": "markdown",
   "metadata": {},
   "source": [
    "$$ A = \\begin{pmatrix}\n",
    "2 & 1 & 3\\\\\n",
    "11 & 7 & 5\\\\\n",
    "9 & 8 & 4\n",
    "\\end{pmatrix}$$\n",
    "$$U = \\begin{pmatrix}\n",
    "2 & 1 & 3\\\\\n",
    "0 & 1.5 & -11.5\\\\\n",
    "0 & 3.5 & -9.5\\end{pmatrix} = \\begin{pmatrix}\n",
    "2 & 1 & 3\\\\\n",
    "0 & 1.5 & -11.5\\\\\n",
    "0 & 0 & \\dfrac{52}{3}\n",
    "\\end{pmatrix}$$\n",
    "$$L = \\begin{pmatrix}\n",
    "1 & 0 & 0 \\\\ \n",
    "5.5 & 1 & 0 \\\\ \n",
    "4.5 & \\dfrac{7}{3} & 1\n",
    "\\end{pmatrix}$$\n",
    "Решим систему $Ly=b$:$$\\begin{cases}\n",
    "y_1=1,\\\\\n",
    "5.5y_1 + y_2=-6,\\\\\n",
    "4.5y_1 + \\dfrac{7}{3}y_2 + y_3=-5;\n",
    "\\end{cases} \\Rightarrow \\begin{cases}\n",
    "y_1=1,\\\\\n",
    "y_2=-11.5,\\\\\n",
    "y_3=-9.5 + \\dfrac{161}{6}=\\dfrac{52}{3}\n",
    "\\end{cases}$$\n",
    "\n",
    "Решим систему $Ux=y$:$$\\begin{cases}\n",
    "2x_1 + x_2 + 3x_3 = 1,\\\\\n",
    "1.5x_2 - 11.5x_3 = -11.5,\\\\\n",
    "\\dfrac{52}{3}x_3 = \\dfrac{52}{3};\n",
    "\\end{cases} \\Rightarrow \\begin{cases}\n",
    "x_1 = -1,\\\\\n",
    "x_2 = 0,\\\\\n",
    "x_3 = 1.\n",
    "\\end{cases}$$"
   ]
  },
  {
   "cell_type": "code",
   "execution_count": 25,
   "metadata": {},
   "outputs": [
    {
     "name": "stdout",
     "output_type": "stream",
     "text": [
      "A:\n",
      "[[ 2  1  3]\n",
      " [11  7  5]\n",
      " [ 9  8  4]]\n",
      "\n",
      "b:\n",
      "[ 1 -6 -5]\n",
      "\n",
      "x:\n",
      "[-1.  0.  1.]\n",
      "\n",
      "Ax:\n",
      "[ 1. -6. -5.]\n",
      "\n",
      "Ax - b:\n",
      "[0. 0. 0.]\n",
      "\n",
      "L:\n",
      "[[0. 0. 1.]\n",
      " [1. 0. 0.]\n",
      " [0. 1. 0.]]\n",
      "\n",
      "U:\n",
      "[[ 1.   0.   0. ]\n",
      " [ 0.8  1.   0. ]\n",
      " [ 0.2 -0.1  1. ]]\n",
      "\n",
      "P:\n",
      "[[11.   7.   5. ]\n",
      " [ 0.   2.3 -0.1]\n",
      " [ 0.   0.   2.1]]\n",
      "\n"
     ]
    }
   ],
   "source": [
    "import numpy as np\n",
    "import scipy.linalg\n",
    "\n",
    "A = np.array([[2, 1, 3], [11, 7, 5], [9, 8, 4]])\n",
    "b = np.array([1, -6, -5])\n",
    "\n",
    "lu, piv = scipy.linalg.lu_factor(A)\n",
    "x = scipy.linalg.lu_solve((lu, piv), b)\n",
    "\n",
    "print(f'A:\\n{A}\\n')\n",
    "print(f'b:\\n{b}\\n')\n",
    "print(f'x:\\n{x.round(0)}\\n')\n",
    "print(f'Ax:\\n{A @ x}\\n')\n",
    "print(f'Ax - b:\\n{A @ x - b}\\n')\n",
    "\n",
    "L, U, P = scipy.linalg.lu(A)\n",
    "print(f'L:\\n{L.round(1)}\\n')\n",
    "print(f'U:\\n{U.round(1)}\\n')\n",
    "print(f'P:\\n{P.round(1)}\\n')"
   ]
  },
  {
   "cell_type": "markdown",
   "metadata": {},
   "source": [
    "LU- матрицы можно вызвать из NumPy"
   ]
  },
  {
   "cell_type": "markdown",
   "metadata": {},
   "source": [
    "__4*.__ Решить систему линейных уравнений методом Холецкого\n",
    "\n",
    "$$\\begin{cases}\n",
    "81x_{1}-45x_{2}+45x_{3}=531 \\\\\n",
    "-45x_{1}+50x_{2}-15x_{3}=-460 \\\\\n",
    "45x_{1}-15x_{2}+38x_{3}=193\n",
    "\\end{cases}$$"
   ]
  },
  {
   "cell_type": "markdown",
   "metadata": {},
   "source": [
    "Произведем разложение на $LL^{T}$:\n",
    "\n",
    "$$l_{11}=\\sqrt{a_{11}}=\\sqrt{81}=9,$$$$l_{21}=\\frac{a_{21}}{l_{11}}=\\frac{-45}{9}=-5,$$$$l_{31}=\\frac{a_{31}}{l_{11}}=\\frac{45}{9}=5,$$$$l_{22}=\\sqrt{a_{22}-l_{21}^{2}}=\\sqrt{50 - 25}=\\sqrt{25}=5,$$$$l_{32}=\\frac{1}{l_{22}}(a_{32}-l_{21}l_{31})=\\frac{1}{5}(-15 + 5 \\cdot 5)=2,$$$$l_{33}=\\sqrt{a_{33}-l_{31}^{2}-l_{32}^{2}}=\\sqrt{38-25-4}=\\sqrt{9}=3.$$\n",
    "Получили матрицу:\n",
    "\n",
    "$$L = \\begin{pmatrix}\n",
    "9 & 0 & 0 \\\\ \n",
    "-5 & 5 & 0 \\\\ \n",
    "5 & 2 & 3\n",
    "\\end{pmatrix}, \n",
    "L^{T} = \\begin{pmatrix}\n",
    "9 & -5 & 5\\\\\n",
    "0 & 5 & 2\\\\\n",
    "0 & 0 & 3\n",
    "\\end{pmatrix}.$$\n",
    "Решим систему $Ly=b:$\n",
    "\n",
    "$$\\begin{cases}\n",
    "9y_1 = 531,\\\\\n",
    "-5y_1 + 5y_2 = -460,\\\\\n",
    "5y_1 + 2y_2 + 3y_3 = 193;\n",
    "\\end{cases} \\Rightarrow \\begin{cases}\n",
    "y_1 = 59,\\\\\n",
    "y_2 = -33,\\\\\n",
    "y_3 = -12.\n",
    "\\end{cases}$$\n",
    "И решим систему $L^{T}x=y:$\n",
    "\n",
    "$$\\begin{cases}\n",
    "9x_1 - 5x_2 + 5x_3 = 59\\\\\n",
    "5x_2 + 2x_3 = -33,\\\\\n",
    "3x_3 = -12;\n",
    "\\end{cases} \\Rightarrow \\begin{cases}\n",
    "x_1 = 6\\\\\n",
    "x_2 = -5,\\\\\n",
    "x_3 = -4;\n",
    "\\end{cases}$$"
   ]
  },
  {
   "cell_type": "code",
   "execution_count": 26,
   "metadata": {},
   "outputs": [
    {
     "name": "stdout",
     "output_type": "stream",
     "text": [
      "A:\n",
      "[[ 81 -45  45]\n",
      " [-45  50 -15]\n",
      " [ 45 -15  38]]\n",
      "\n",
      "b:\n",
      "[ 531 -460  193]\n",
      "\n",
      "x:\n",
      "[ 6. -5. -4.]\n",
      "\n",
      "Ax:\n",
      "[ 531. -460.  193.]\n",
      "\n",
      "Ax - b:\n",
      "[0. 0. 0.]\n",
      "\n",
      "L:\n",
      "[[1. 0. 0.]\n",
      " [0. 1. 0.]\n",
      " [0. 0. 1.]]\n",
      "\n",
      "U:\n",
      "[[ 1.   0.   0. ]\n",
      " [-0.6  1.   0. ]\n",
      " [ 0.6  0.4  1. ]]\n",
      "\n",
      "P:\n",
      "[[ 81. -45.  45.]\n",
      " [  0.  25.  10.]\n",
      " [  0.   0.   9.]]\n",
      "\n"
     ]
    }
   ],
   "source": [
    "import numpy as np\n",
    "import scipy.linalg\n",
    "\n",
    "A = np.array([[81, -45, 45], [-45, 50, -15], [45, -15, 38]])\n",
    "b = np.array([531, -460, 193])\n",
    "\n",
    "lu, piv = scipy.linalg.lu_factor(A)\n",
    "x = scipy.linalg.lu_solve((lu, piv), b)\n",
    "\n",
    "print(f'A:\\n{A}\\n')\n",
    "print(f'b:\\n{b}\\n')\n",
    "print(f'x:\\n{x.round(0)}\\n')\n",
    "print(f'Ax:\\n{A @ x}\\n')\n",
    "print(f'Ax - b:\\n{A @ x - b}\\n')\n",
    "\n",
    "L, U, P = scipy.linalg.lu(A)\n",
    "print(f'L:\\n{L.round(1)}\\n')\n",
    "print(f'U:\\n{U.round(1)}\\n')\n",
    "print(f'P:\\n{P.round(1)}\\n')"
   ]
  },
  {
   "cell_type": "markdown",
   "metadata": {},
   "source": [
    "__5*.__ Написать на Python программу с реализацией одного из изученных алгоритмов решения СЛАУ."
   ]
  }
 ],
 "metadata": {
  "kernelspec": {
   "display_name": "Python 3",
   "language": "python",
   "name": "python3"
  },
  "language_info": {
   "codemirror_mode": {
    "name": "ipython",
    "version": 3
   },
   "file_extension": ".py",
   "mimetype": "text/x-python",
   "name": "python",
   "nbconvert_exporter": "python",
   "pygments_lexer": "ipython3",
   "version": "3.7.7"
  },
  "toc": {
   "base_numbering": 1,
   "nav_menu": {},
   "number_sections": true,
   "sideBar": true,
   "skip_h1_title": false,
   "title_cell": "Table of Contents",
   "title_sidebar": "Contents",
   "toc_cell": false,
   "toc_position": {},
   "toc_section_display": true,
   "toc_window_display": false
  },
  "varInspector": {
   "cols": {
    "lenName": 16,
    "lenType": 16,
    "lenVar": 40
   },
   "kernels_config": {
    "python": {
     "delete_cmd_postfix": "",
     "delete_cmd_prefix": "del ",
     "library": "var_list.py",
     "varRefreshCmd": "print(var_dic_list())"
    },
    "r": {
     "delete_cmd_postfix": ") ",
     "delete_cmd_prefix": "rm(",
     "library": "var_list.r",
     "varRefreshCmd": "cat(var_dic_list()) "
    }
   },
   "types_to_exclude": [
    "module",
    "function",
    "builtin_function_or_method",
    "instance",
    "_Feature"
   ],
   "window_display": false
  }
 },
 "nbformat": 4,
 "nbformat_minor": 4
}
