{
 "cells": [
  {
   "cell_type": "code",
   "execution_count": 2,
   "metadata": {},
   "outputs": [],
   "source": [
    "import numpy as np\n",
    "import time\n",
    "\n",
    "#Минор\n",
    "def submatrix(M, c):\n",
    "    B = [[1] * len(M) for i in range(len(M))]\n",
    "\n",
    "\n",
    "    for l in range(len(M)):\n",
    "        for k in range(len(M)):\n",
    "            B[l][k] = M[l][k]\n",
    "\n",
    "    B.pop(0)\n",
    "\n",
    "    for i in range(len(B)):\n",
    "        B[i].pop(c)\n",
    "    return B\n",
    "\n",
    "#Определитель методом Лапласа\n",
    "def det_L(M):\n",
    "    X = 0\n",
    "    if len(M) != len(M[0]):\n",
    "        print('Матрица не квадратная')\n",
    "    else:\n",
    "        if len(M) <= 2:\n",
    "            return M[0][0] * M[1][1] - M[0][1] * M[1][0]\n",
    "        else:\n",
    "            for i in range(len(M)):\n",
    "                X = X + ((-1) ** (i)) * M[0][i] * det_L(submatrix(M, i))\n",
    "    return X"
   ]
  },
  {
   "cell_type": "code",
   "execution_count": 15,
   "metadata": {},
   "outputs": [
    {
     "name": "stdout",
     "output_type": "stream",
     "text": [
      "[[0.13996038 0.49954813 0.59069458 0.20563478 0.23230539 0.88571687\n",
      "  0.95502075 0.09874162 0.23831848]\n",
      " [0.07364635 0.197377   0.5650317  0.23489167 0.52052519 0.4761023\n",
      "  0.89427916 0.87573717 0.83342065]\n",
      " [0.23544776 0.61753789 0.46671544 0.47356189 0.51278778 0.54348913\n",
      "  0.78541664 0.20547953 0.767997  ]\n",
      " [0.16263907 0.6157548  0.60773501 0.08039294 0.64182952 0.01141646\n",
      "  0.00642275 0.45100726 0.2595562 ]\n",
      " [0.07414241 0.89891458 0.82158614 0.81773496 0.52990931 0.41244731\n",
      "  0.21330267 0.0111449  0.65983031]\n",
      " [0.677933   0.06807547 0.97988175 0.57160105 0.03822562 0.58865703\n",
      "  0.89384232 0.18696527 0.27366026]\n",
      " [0.75328193 0.34871577 0.33145618 0.72054991 0.86386819 0.45050126\n",
      "  0.95424014 0.51701712 0.34245488]\n",
      " [0.41905026 0.10676311 0.40850397 0.53485582 0.07989403 0.59803544\n",
      "  0.68332352 0.86047031 0.41170805]\n",
      " [0.14223364 0.8807181  0.51455791 0.44102004 0.08372105 0.43030079\n",
      "  0.33126041 0.63826442 0.3163205 ]]\n"
     ]
    }
   ],
   "source": [
    "a = np.random.rand(9,9)\n",
    "print (a)"
   ]
  },
  {
   "cell_type": "code",
   "execution_count": 16,
   "metadata": {},
   "outputs": [
    {
     "name": "stdout",
     "output_type": "stream",
     "text": [
      "0.03361785027300162\n",
      "--- 0.0009996891021728516 seconds ---\n"
     ]
    }
   ],
   "source": [
    "start_time = time.time()\n",
    "print (np.linalg.det(a))\n",
    "print(\"--- %s seconds ---\" % (time.time() - start_time))"
   ]
  },
  {
   "cell_type": "code",
   "execution_count": 17,
   "metadata": {},
   "outputs": [
    {
     "name": "stdout",
     "output_type": "stream",
     "text": [
      "0.03361785027300163\n",
      "--- 5.734701156616211 seconds ---\n"
     ]
    }
   ],
   "source": [
    "start_time2 = time.time()\n",
    "print (det_L(a))\n",
    "print(\"--- %s seconds ---\" % (time.time() - start_time2))"
   ]
  },
  {
   "cell_type": "code",
   "execution_count": null,
   "metadata": {},
   "outputs": [],
   "source": []
  },
  {
   "cell_type": "code",
   "execution_count": null,
   "metadata": {},
   "outputs": [],
   "source": []
  }
 ],
 "metadata": {
  "kernelspec": {
   "display_name": "Python 3",
   "language": "python",
   "name": "python3"
  },
  "language_info": {
   "codemirror_mode": {
    "name": "ipython",
    "version": 3
   },
   "file_extension": ".py",
   "mimetype": "text/x-python",
   "name": "python",
   "nbconvert_exporter": "python",
   "pygments_lexer": "ipython3",
   "version": "3.7.3"
  }
 },
 "nbformat": 4,
 "nbformat_minor": 2
}
